{
 "cells": [
  {
   "cell_type": "markdown",
   "metadata": {},
   "source": [
    "# Image Classification with PyTorch and Cleanlab\n"
   ]
  },
  {
   "cell_type": "markdown",
   "metadata": {},
   "source": [
    "This 5-minute quickstart tutorial demonstrates how to find potential label errors in image classification data. Here we use the MNIST dataset containing 70,000 images of handwritten digits from 0 to 9.\n",
    "\n",
    "**Overview of what we'll do in this tutorial:**\n",
    "\n",
    "- Build a simple PyTorch neural net and wrap it with Skorch to make it scikit-learn compatible.\n",
    "\n",
    "- Use this model to compute out-of-sample predicted probabilities, `pred_probs`, via cross-validation.\n",
    "\n",
    "- Compute a list of potential label errors with Cleanlab's `find_label_issues` method.\n"
   ]
  },
  {
   "cell_type": "markdown",
   "metadata": {},
   "source": [
    "## 1. Install the required dependencies\n"
   ]
  },
  {
   "cell_type": "markdown",
   "metadata": {},
   "source": [
    "Install the following dependencies with `pip install`:\n",
    "\n",
    "1. cleanlab\n",
    "2. pandas\n",
    "3. matplotlib\n",
    "4. torch\n",
    "5. torchvision\n",
    "6. skorch\n"
   ]
  },
  {
   "cell_type": "code",
   "execution_count": 1,
   "metadata": {
    "execution": {
     "iopub.execute_input": "2022-04-05T10:40:49.452814Z",
     "iopub.status.busy": "2022-04-05T10:40:49.452198Z",
     "iopub.status.idle": "2022-04-05T10:40:50.777583Z",
     "shell.execute_reply": "2022-04-05T10:40:50.776991Z"
    },
    "nbsphinx": "hidden"
   },
   "outputs": [],
   "source": [
    "dependencies = [\"cleanlab\", \"pandas\", \"matplotlib\", \"torch\", \"torchvision\", \"skorch\"]\n",
    "\n",
    "if \"google.colab\" in str(get_ipython()):  # Check if it's running in Google Colab\n",
    "    %pip install git+https://github.com/weijinglok/cleanlab.git@fa207332a81d57c93a9948fa595472cfea489b9e\n",
    "    cmd = ' '.join([dep for dep in dependencies if dep != \"cleanlab\"])\n",
    "    %pip install $cmd\n",
    "else:\n",
    "    missing_dependencies = []\n",
    "    for dependency in dependencies:\n",
    "        try:\n",
    "            __import__(dependency)\n",
    "        except ImportError:\n",
    "            missing_dependencies.append(dependency)\n",
    "\n",
    "    if len(missing_dependencies) > 0:\n",
    "        print(\"Missing required dependencies:\")\n",
    "        print(*missing_dependencies, sep=\", \")\n",
    "        print(\"\\nPlease install them before running the rest of this notebook.\")\n"
   ]
  },
  {
   "cell_type": "markdown",
   "metadata": {},
   "source": [
    "## 2. Fetch and scale the MNIST dataset\n"
   ]
  },
  {
   "cell_type": "code",
   "execution_count": 2,
   "metadata": {
    "execution": {
     "iopub.execute_input": "2022-04-05T10:40:50.781077Z",
     "iopub.status.busy": "2022-04-05T10:40:50.780758Z",
     "iopub.status.idle": "2022-04-05T10:41:43.692031Z",
     "shell.execute_reply": "2022-04-05T10:41:43.691388Z"
    }
   },
   "outputs": [],
   "source": [
    "from sklearn.datasets import fetch_openml\n",
    "\n",
    "mnist = fetch_openml(\"mnist_784\")  # Fetch the MNIST dataset\n",
    "\n",
    "X = mnist.data.astype(\"float32\").to_numpy()  # 2D numpy array of image features\n",
    "X /= 255.0  # Scale the features to the [0, 1] range\n",
    "\n",
    "y = mnist.target.astype(\"int64\").to_numpy()  # 1D numpy array of the image labels\n"
   ]
  },
  {
   "cell_type": "markdown",
   "metadata": {},
   "source": [
    "<div class=\"alert alert-info\">\n",
    "Bringing Your Own Data (BYOD)?\n",
    "\n",
    "Assign your data's features to variable `X` and its labels to variable `y` instead.\n",
    "\n",
    "</div>\n"
   ]
  },
  {
   "cell_type": "markdown",
   "metadata": {},
   "source": [
    "## 3. Define a classification model\n"
   ]
  },
  {
   "cell_type": "markdown",
   "metadata": {},
   "source": [
    "Here, we define a simple neural network with PyTorch.\n"
   ]
  },
  {
   "cell_type": "code",
   "execution_count": 3,
   "metadata": {
    "execution": {
     "iopub.execute_input": "2022-04-05T10:41:43.696449Z",
     "iopub.status.busy": "2022-04-05T10:41:43.695793Z",
     "iopub.status.idle": "2022-04-05T10:41:43.702983Z",
     "shell.execute_reply": "2022-04-05T10:41:43.702503Z"
    }
   },
   "outputs": [],
   "source": [
    "from torch import nn\n",
    "\n",
    "model = nn.Sequential(\n",
    "    nn.Linear(28 * 28, 128),\n",
    "    nn.ReLU(),\n",
    "    nn.Dropout(0.5),\n",
    "    nn.Linear(128, 10),\n",
    "    nn.Softmax(dim=-1),\n",
    ")\n"
   ]
  },
  {
   "cell_type": "markdown",
   "metadata": {},
   "source": [
    "## 4. Ensure your classifier is scikit-learn compatible\n"
   ]
  },
  {
   "cell_type": "markdown",
   "metadata": {},
   "source": [
    "As some of Cleanlab's features requires scikit-learn compatibility, we will need to adapt the above PyTorch neural net accordingly. [Skorch](https://skorch.readthedocs.io) is a convenient package that helps with this. You can also easily wrap an arbitrary model to be scikit-learn compatible as demonstrated [here](https://github.com/cleanlab/cleanlab#use-cleanlab-with-any-model-tensorflow-pytorch-sklearn-xgboost-etc).\n"
   ]
  },
  {
   "cell_type": "code",
   "execution_count": 4,
   "metadata": {
    "execution": {
     "iopub.execute_input": "2022-04-05T10:41:43.705745Z",
     "iopub.status.busy": "2022-04-05T10:41:43.705323Z",
     "iopub.status.idle": "2022-04-05T10:41:43.708258Z",
     "shell.execute_reply": "2022-04-05T10:41:43.707710Z"
    }
   },
   "outputs": [],
   "source": [
    "from skorch import NeuralNetClassifier\n",
    "\n",
    "model_skorch = NeuralNetClassifier(model)\n"
   ]
  },
  {
   "cell_type": "markdown",
   "metadata": {},
   "source": [
    "## 5. Compute out-of-sample predicted probabilities\n"
   ]
  },
  {
   "cell_type": "markdown",
   "metadata": {},
   "source": [
    "If we'd like Cleanlab to identify potential label errors in the whole dataset and not just the training set, we can consider using the entire dataset when computing the out-of-sample predicted probabilities, `pred_probs`, via cross-validation.\n"
   ]
  },
  {
   "cell_type": "code",
   "execution_count": 5,
   "metadata": {
    "execution": {
     "iopub.execute_input": "2022-04-05T10:41:43.711055Z",
     "iopub.status.busy": "2022-04-05T10:41:43.710643Z",
     "iopub.status.idle": "2022-04-05T10:42:05.179895Z",
     "shell.execute_reply": "2022-04-05T10:42:05.179310Z"
    }
   },
   "outputs": [
    {
     "name": "stdout",
     "output_type": "stream",
     "text": [
      "  epoch    train_loss    valid_acc    valid_loss     dur\n",
      "-------  ------------  -----------  ------------  ------\n",
      "      1        \u001b[36m1.9636\u001b[0m       \u001b[32m0.7232\u001b[0m        \u001b[35m1.5487\u001b[0m  0.6872\n"
     ]
    },
    {
     "name": "stdout",
     "output_type": "stream",
     "text": [
      "      2        \u001b[36m1.2449\u001b[0m       \u001b[32m0.7883\u001b[0m        \u001b[35m0.9568\u001b[0m  0.6622\n"
     ]
    },
    {
     "name": "stdout",
     "output_type": "stream",
     "text": [
      "      3        \u001b[36m0.8900\u001b[0m       \u001b[32m0.8297\u001b[0m        \u001b[35m0.7251\u001b[0m  0.6608\n"
     ]
    },
    {
     "name": "stdout",
     "output_type": "stream",
     "text": [
      "      4        \u001b[36m0.7308\u001b[0m       \u001b[32m0.8443\u001b[0m        \u001b[35m0.6143\u001b[0m  0.6560\n"
     ]
    },
    {
     "name": "stdout",
     "output_type": "stream",
     "text": [
      "      5        \u001b[36m0.6440\u001b[0m       \u001b[32m0.8567\u001b[0m        \u001b[35m0.5487\u001b[0m  0.6598\n"
     ]
    },
    {
     "name": "stdout",
     "output_type": "stream",
     "text": [
      "      6        \u001b[36m0.5883\u001b[0m       \u001b[32m0.8639\u001b[0m        \u001b[35m0.5054\u001b[0m  0.6616\n"
     ]
    },
    {
     "name": "stdout",
     "output_type": "stream",
     "text": [
      "      7        \u001b[36m0.5485\u001b[0m       \u001b[32m0.8703\u001b[0m        \u001b[35m0.4734\u001b[0m  0.6661\n"
     ]
    },
    {
     "name": "stdout",
     "output_type": "stream",
     "text": [
      "      8        \u001b[36m0.5195\u001b[0m       \u001b[32m0.8771\u001b[0m        \u001b[35m0.4492\u001b[0m  0.6676\n"
     ]
    },
    {
     "name": "stdout",
     "output_type": "stream",
     "text": [
      "      9        \u001b[36m0.4941\u001b[0m       \u001b[32m0.8799\u001b[0m        \u001b[35m0.4301\u001b[0m  0.6571\n"
     ]
    },
    {
     "name": "stdout",
     "output_type": "stream",
     "text": [
      "     10        \u001b[36m0.4707\u001b[0m       \u001b[32m0.8819\u001b[0m        \u001b[35m0.4145\u001b[0m  0.6575\n"
     ]
    },
    {
     "name": "stdout",
     "output_type": "stream",
     "text": [
      "  epoch    train_loss    valid_acc    valid_loss     dur\n",
      "-------  ------------  -----------  ------------  ------\n",
      "      1        \u001b[36m1.9630\u001b[0m       \u001b[32m0.7394\u001b[0m        \u001b[35m1.5312\u001b[0m  0.6611\n"
     ]
    },
    {
     "name": "stdout",
     "output_type": "stream",
     "text": [
      "      2        \u001b[36m1.2478\u001b[0m       \u001b[32m0.8037\u001b[0m        \u001b[35m0.9315\u001b[0m  0.6565\n"
     ]
    },
    {
     "name": "stdout",
     "output_type": "stream",
     "text": [
      "      3        \u001b[36m0.8845\u001b[0m       \u001b[32m0.8382\u001b[0m        \u001b[35m0.6989\u001b[0m  0.6555\n"
     ]
    },
    {
     "name": "stdout",
     "output_type": "stream",
     "text": [
      "      4        \u001b[36m0.7297\u001b[0m       \u001b[32m0.8546\u001b[0m        \u001b[35m0.5889\u001b[0m  0.6714\n"
     ]
    },
    {
     "name": "stdout",
     "output_type": "stream",
     "text": [
      "      5        \u001b[36m0.6396\u001b[0m       \u001b[32m0.8665\u001b[0m        \u001b[35m0.5230\u001b[0m  0.6651\n"
     ]
    },
    {
     "name": "stdout",
     "output_type": "stream",
     "text": [
      "      6        \u001b[36m0.5845\u001b[0m       \u001b[32m0.8765\u001b[0m        \u001b[35m0.4792\u001b[0m  0.6725\n"
     ]
    },
    {
     "name": "stdout",
     "output_type": "stream",
     "text": [
      "      7        \u001b[36m0.5468\u001b[0m       \u001b[32m0.8823\u001b[0m        \u001b[35m0.4473\u001b[0m  0.6678\n"
     ]
    },
    {
     "name": "stdout",
     "output_type": "stream",
     "text": [
      "      8        \u001b[36m0.5149\u001b[0m       \u001b[32m0.8867\u001b[0m        \u001b[35m0.4236\u001b[0m  0.6695\n"
     ]
    },
    {
     "name": "stdout",
     "output_type": "stream",
     "text": [
      "      9        \u001b[36m0.4855\u001b[0m       \u001b[32m0.8894\u001b[0m        \u001b[35m0.4036\u001b[0m  0.6740\n"
     ]
    },
    {
     "name": "stdout",
     "output_type": "stream",
     "text": [
      "     10        \u001b[36m0.4724\u001b[0m       \u001b[32m0.8942\u001b[0m        \u001b[35m0.3890\u001b[0m  0.6671\n"
     ]
    },
    {
     "name": "stdout",
     "output_type": "stream",
     "text": [
      "  epoch    train_loss    valid_acc    valid_loss     dur\n",
      "-------  ------------  -----------  ------------  ------\n",
      "      1        \u001b[36m1.9759\u001b[0m       \u001b[32m0.7313\u001b[0m        \u001b[35m1.5436\u001b[0m  0.6691\n"
     ]
    },
    {
     "name": "stdout",
     "output_type": "stream",
     "text": [
      "      2        \u001b[36m1.2747\u001b[0m       \u001b[32m0.8037\u001b[0m        \u001b[35m0.9402\u001b[0m  0.6651\n"
     ]
    },
    {
     "name": "stdout",
     "output_type": "stream",
     "text": [
      "      3        \u001b[36m0.9174\u001b[0m       \u001b[32m0.8390\u001b[0m        \u001b[35m0.7052\u001b[0m  0.6656\n"
     ]
    },
    {
     "name": "stdout",
     "output_type": "stream",
     "text": [
      "      4        \u001b[36m0.7587\u001b[0m       \u001b[32m0.8580\u001b[0m        \u001b[35m0.5914\u001b[0m  0.6692\n"
     ]
    },
    {
     "name": "stdout",
     "output_type": "stream",
     "text": [
      "      5        \u001b[36m0.6698\u001b[0m       \u001b[32m0.8698\u001b[0m        \u001b[35m0.5238\u001b[0m  0.6669\n"
     ]
    },
    {
     "name": "stdout",
     "output_type": "stream",
     "text": [
      "      6        \u001b[36m0.6116\u001b[0m       \u001b[32m0.8780\u001b[0m        \u001b[35m0.4794\u001b[0m  0.6677\n"
     ]
    },
    {
     "name": "stdout",
     "output_type": "stream",
     "text": [
      "      7        \u001b[36m0.5688\u001b[0m       \u001b[32m0.8864\u001b[0m        \u001b[35m0.4457\u001b[0m  0.6704\n"
     ]
    },
    {
     "name": "stdout",
     "output_type": "stream",
     "text": [
      "      8        \u001b[36m0.5387\u001b[0m       \u001b[32m0.8904\u001b[0m        \u001b[35m0.4217\u001b[0m  0.6663\n"
     ]
    },
    {
     "name": "stdout",
     "output_type": "stream",
     "text": [
      "      9        \u001b[36m0.5137\u001b[0m       \u001b[32m0.8947\u001b[0m        \u001b[35m0.4019\u001b[0m  0.6676\n"
     ]
    },
    {
     "name": "stdout",
     "output_type": "stream",
     "text": [
      "     10        \u001b[36m0.4938\u001b[0m       \u001b[32m0.8965\u001b[0m        \u001b[35m0.3854\u001b[0m  0.6680\n"
     ]
    }
   ],
   "source": [
    "from sklearn.model_selection import cross_val_predict\n",
    "\n",
    "pred_probs = cross_val_predict(model_skorch, X, y, cv=3, method=\"predict_proba\")\n"
   ]
  },
  {
   "cell_type": "markdown",
   "metadata": {},
   "source": [
    "## 6. Run Cleanlab to find potential label errors\n"
   ]
  },
  {
   "cell_type": "markdown",
   "metadata": {},
   "source": [
    "Cleanlab has a `find_label_issues` function to generate a list of potential label errors. Setting `return_indices_ranked_by=\"self_confidence\"` returns the indices of all the most likely label errors, sorted by the most suspicious example first.\n"
   ]
  },
  {
   "cell_type": "code",
   "execution_count": 6,
   "metadata": {
    "execution": {
     "iopub.execute_input": "2022-04-05T10:42:05.183846Z",
     "iopub.status.busy": "2022-04-05T10:42:05.183523Z",
     "iopub.status.idle": "2022-04-05T10:42:06.384519Z",
     "shell.execute_reply": "2022-04-05T10:42:06.383711Z"
    }
   },
   "outputs": [],
   "source": [
    "from cleanlab.filter import find_label_issues\n",
    "\n",
    "ranked_label_issues = find_label_issues(y, pred_probs, return_indices_ranked_by=\"self_confidence\")\n"
   ]
  },
  {
   "cell_type": "markdown",
   "metadata": {},
   "source": [
    "## 7. Review some of the most likely mislabeled examples\n"
   ]
  },
  {
   "cell_type": "code",
   "execution_count": 7,
   "metadata": {
    "execution": {
     "iopub.execute_input": "2022-04-05T10:42:06.388478Z",
     "iopub.status.busy": "2022-04-05T10:42:06.388113Z",
     "iopub.status.idle": "2022-04-05T10:42:06.393251Z",
     "shell.execute_reply": "2022-04-05T10:42:06.392558Z"
    }
   },
   "outputs": [
    {
     "name": "stdout",
     "output_type": "stream",
     "text": [
      "Cleanlab found 1267 potential label errors.\n",
      "Here are the indices of the top 15 most likely ones: \n",
      " [24798 18598  8729 15942 61790 20820  1352 39457 12679 31134 50239 59915\n",
      " 55739  7010 20735]\n"
     ]
    }
   ],
   "source": [
    "print(f\"Cleanlab found {len(ranked_label_issues)} potential label errors.\")\n",
    "print(f\"Here are the indices of the top 15 most likely ones: \\n {ranked_label_issues[:15]}\")\n"
   ]
  },
  {
   "cell_type": "markdown",
   "metadata": {},
   "source": [
    "We'll define a new `plot_examples` function to display any examples in a subplot conveniently.\n"
   ]
  },
  {
   "cell_type": "raw",
   "metadata": {},
   "source": [
    "<!-- This cell is for the collapsible block in the doc site -->\n",
    "\n",
    "<details>\n",
    "    <summary markdown=\"1\">Click here to view its code.</summary>"
   ]
  },
  {
   "cell_type": "code",
   "execution_count": 8,
   "metadata": {
    "execution": {
     "iopub.execute_input": "2022-04-05T10:42:06.395787Z",
     "iopub.status.busy": "2022-04-05T10:42:06.395516Z",
     "iopub.status.idle": "2022-04-05T10:42:09.817403Z",
     "shell.execute_reply": "2022-04-05T10:42:09.816733Z"
    }
   },
   "outputs": [],
   "source": [
    "import matplotlib.pyplot as plt\n",
    "\n",
    "\n",
    "def plot_examples(id_iter, nrows=1, ncols=1):\n",
    "    for count, id in enumerate(id_iter):\n",
    "        plt.subplot(nrows, ncols, count + 1)\n",
    "        plt.imshow(X[id].reshape(28, 28), cmap=\"gray\")\n",
    "        plt.title(f\"id: {id} \\n label: {y[id]}\")\n",
    "        plt.axis(\"off\")\n",
    "\n",
    "    plt.tight_layout(h_pad=2.0)\n"
   ]
  },
  {
   "cell_type": "raw",
   "metadata": {},
   "source": [
    "<!-- This cell is for the collapsible block in the doc site -->\n",
    "\n",
    "</details>"
   ]
  },
  {
   "cell_type": "markdown",
   "metadata": {},
   "source": [
    "Let's start by having an overview of the top 15 most likely label errors. From here, we can see a few label errors and edge cases. Feel free to change the parameters to display more or fewer examples.\n"
   ]
  },
  {
   "cell_type": "code",
   "execution_count": 9,
   "metadata": {
    "execution": {
     "iopub.execute_input": "2022-04-05T10:42:09.821125Z",
     "iopub.status.busy": "2022-04-05T10:42:09.820841Z",
     "iopub.status.idle": "2022-04-05T10:42:10.349603Z",
     "shell.execute_reply": "2022-04-05T10:42:10.348947Z"
    }
   },
   "outputs": [
    {
     "data": {
      "image/png": "[encoded data removed]",
      "text/plain": [
       "<Figure size 432x288 with 15 Axes>"
      ]
     },
     "metadata": {
      "needs_background": "light"
     },
     "output_type": "display_data"
    }
   ],
   "source": [
    "plot_examples(ranked_label_issues[range(15)], 3, 5)\n"
   ]
  },
  {
   "cell_type": "markdown",
   "metadata": {},
   "source": [
    "Let's zoom into specific examples:\n"
   ]
  },
  {
   "cell_type": "markdown",
   "metadata": {},
   "source": [
    "Given label is **4** but looks more like a **7**\n"
   ]
  },
  {
   "cell_type": "code",
   "execution_count": 10,
   "metadata": {
    "execution": {
     "iopub.execute_input": "2022-04-05T10:42:10.352872Z",
     "iopub.status.busy": "2022-04-05T10:42:10.352538Z",
     "iopub.status.idle": "2022-04-05T10:42:10.403487Z",
     "shell.execute_reply": "2022-04-05T10:42:10.402986Z"
    }
   },
   "outputs": [
    {
     "data": {
      "image/png": "[encoded data removed]",
      "text/plain": [
       "<Figure size 432x288 with 1 Axes>"
      ]
     },
     "metadata": {
      "needs_background": "light"
     },
     "output_type": "display_data"
    }
   ],
   "source": [
    "plot_examples([59915])\n"
   ]
  },
  {
   "cell_type": "markdown",
   "metadata": {},
   "source": [
    "Given label is **4** but also looks like **9**\n"
   ]
  },
  {
   "cell_type": "code",
   "execution_count": 11,
   "metadata": {
    "execution": {
     "iopub.execute_input": "2022-04-05T10:42:10.406196Z",
     "iopub.status.busy": "2022-04-05T10:42:10.405968Z",
     "iopub.status.idle": "2022-04-05T10:42:10.465026Z",
     "shell.execute_reply": "2022-04-05T10:42:10.464511Z"
    }
   },
   "outputs": [
    {
     "data": {
      "image/png": "[encoded data removed]",
      "text/plain": [
       "<Figure size 432x288 with 1 Axes>"
      ]
     },
     "metadata": {
      "needs_background": "light"
     },
     "output_type": "display_data"
    }
   ],
   "source": [
    "plot_examples([24798])\n"
   ]
  },
  {
   "cell_type": "markdown",
   "metadata": {},
   "source": [
    "Edge case of odd looking **9**s\n"
   ]
  },
  {
   "cell_type": "code",
   "execution_count": 12,
   "metadata": {
    "execution": {
     "iopub.execute_input": "2022-04-05T10:42:10.467731Z",
     "iopub.status.busy": "2022-04-05T10:42:10.467317Z",
     "iopub.status.idle": "2022-04-05T10:42:10.573701Z",
     "shell.execute_reply": "2022-04-05T10:42:10.573263Z"
    }
   },
   "outputs": [
    {
     "data": {
      "image/png": "[encoded data removed]",
      "text/plain": [
       "<Figure size 432x288 with 3 Axes>"
      ]
     },
     "metadata": {
      "needs_background": "light"
     },
     "output_type": "display_data"
    }
   ],
   "source": [
    "plot_examples([18598, 1352, 61247], 1, 3)\n"
   ]
  },
  {
   "cell_type": "markdown",
   "metadata": {},
   "source": [
    "Cleanlab has shortlisted the most likely label errors to speed up your data cleaning process. With this list, you can decide whether to fix label errors, augment edge cases, or remove obscure examples.\n"
   ]
  }
 ],
 "metadata": {
  "interpreter": {
   "hash": "ced20e3e49bb4fa4ce8ad38f8f2535b7fc4c39b2b89554502b5dbdad1ad67eda"
  },
  "kernelspec": {
   "display_name": "Python 3.10.0 64-bit",
   "language": "python",
   "name": "python3"
  },
  "language_info": {
   "codemirror_mode": {
    "name": "ipython",
    "version": 3
   },
   "file_extension": ".py",
   "mimetype": "text/x-python",
   "name": "python",
   "nbconvert_exporter": "python",
   "pygments_lexer": "ipython3",
   "version": "3.8.12"
  }
 },
 "nbformat": 4,
 "nbformat_minor": 2
}
