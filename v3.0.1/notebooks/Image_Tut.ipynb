{
 "cells": [
  {
   "cell_type": "markdown",
   "metadata": {},
   "source": [
    "# Image Classification with Cleanlab, PyTorch & Skorch"
   ]
  },
  {
   "cell_type": "markdown",
   "metadata": {},
   "source": [
    "This tutorial will use Cleanlab to find potential label errors in the MNIST handwritten digit image dataset. This dataset contains 60,000 images of handwritten digits from 0 to 9. We'll find *more than a thousand* highly suspicious examples with label errors and edge cases by the end of this tutorial. \n",
    "\n",
    "**Overview of what we'll do in this tutorial:**\n",
    "\n",
    "- Build a simple PyTorch neural net and wrap it with Skorch to make it scikit-learn compatible.\n",
    "\n",
    "- Compute the cross-validated predicted probabilities, ``pyx``, sometimes known as the out-of-sample predicted probabilities.\n",
    "\n",
    "- Generate a list of potential label errors with Cleanlab's ``get_noise_indices``.\n",
    "\n",
    "- Build and train a more robust model than the vanilla model after adapting it with Cleanlab's ``LearningWithNoisyLabels``. \n",
    "\n",
    "**Data:** https://www.openml.org/d/554"
   ]
  },
  {
   "cell_type": "markdown",
   "metadata": {},
   "source": [
    "## 1. Install the required dependencies"
   ]
  },
  {
   "cell_type": "markdown",
   "metadata": {},
   "source": [
    "``%%capture`` is a magic function to hides the cell's output."
   ]
  },
  {
   "cell_type": "code",
   "execution_count": 1,
   "metadata": {
    "execution": {
     "iopub.execute_input": "2022-03-09T19:31:54.780018Z",
     "iopub.status.busy": "2022-03-09T19:31:54.779674Z",
     "iopub.status.idle": "2022-03-09T19:32:03.470260Z",
     "shell.execute_reply": "2022-03-09T19:32:03.469478Z"
    }
   },
   "outputs": [],
   "source": [
    "%%capture\n",
    "\n",
    "%pip install cleanlab pandas matplotlib torch torchvision skorch"
   ]
  },
  {
   "cell_type": "markdown",
   "metadata": {},
   "source": [
    "## 2. Fetch and scale the MNIST dataset"
   ]
  },
  {
   "cell_type": "code",
   "execution_count": 2,
   "metadata": {
    "execution": {
     "iopub.execute_input": "2022-03-09T19:32:03.475323Z",
     "iopub.status.busy": "2022-03-09T19:32:03.474994Z",
     "iopub.status.idle": "2022-03-09T19:34:01.102238Z",
     "shell.execute_reply": "2022-03-09T19:34:01.101607Z"
    }
   },
   "outputs": [],
   "source": [
    "from sklearn.datasets import fetch_openml\n",
    "\n",
    "# Fetch the MNIST dataset\n",
    "mnist = fetch_openml('mnist_784')\n",
    "\n",
    "# Assign the data features and labels to variable X and y respectively \n",
    "X = mnist.data.astype('float32')\n",
    "y = mnist.target.astype('int64')\n"
   ]
  },
  {
   "cell_type": "markdown",
   "metadata": {},
   "source": [
    "<div class=\"alert alert-info\">\n",
    "\n",
    "Bringing Your Own Data (BYOD)?\n",
    "\n",
    "Assign your data's features to variable ``X`` and its labels to variable ``y`` instead.\n",
    "\n",
    "</div>"
   ]
  },
  {
   "cell_type": "code",
   "execution_count": 3,
   "metadata": {
    "execution": {
     "iopub.execute_input": "2022-03-09T19:34:01.106288Z",
     "iopub.status.busy": "2022-03-09T19:34:01.105862Z",
     "iopub.status.idle": "2022-03-09T19:34:01.331629Z",
     "shell.execute_reply": "2022-03-09T19:34:01.331052Z"
    }
   },
   "outputs": [],
   "source": [
    "\n",
    "# Scale the features which range from 0 to 255 (256 levels on the grayscale) \n",
    "X /= 255.0\n",
    "\n",
    "# Then convert it to a numpy array\n",
    "X = X.to_numpy()"
   ]
  },
  {
   "cell_type": "markdown",
   "metadata": {},
   "source": [
    "## 3. Define a classification model"
   ]
  },
  {
   "cell_type": "markdown",
   "metadata": {},
   "source": [
    "Here, we define a simple neural network with PyTorch."
   ]
  },
  {
   "cell_type": "code",
   "execution_count": 4,
   "metadata": {
    "execution": {
     "iopub.execute_input": "2022-03-09T19:34:01.335096Z",
     "iopub.status.busy": "2022-03-09T19:34:01.334772Z",
     "iopub.status.idle": "2022-03-09T19:34:01.832360Z",
     "shell.execute_reply": "2022-03-09T19:34:01.831796Z"
    }
   },
   "outputs": [],
   "source": [
    "from torch import nn\n",
    "\n",
    "class NeuralNetwork(nn.Module):\n",
    "    def __init__(self):\n",
    "        super(NeuralNetwork, self).__init__()\n",
    "        self.dropout = nn.Dropout(0.5)\n",
    "        self.hidden = nn.Linear(28*28, 128)\n",
    "        self.output = nn.Linear(128, 10)\n",
    "\n",
    "    def forward(self, X):\n",
    "        X = nn.functional.relu(self.hidden(X))\n",
    "        X = self.dropout(X)\n",
    "        X = nn.functional.softmax(self.output(X), dim=-1)\n",
    "        return X"
   ]
  },
  {
   "cell_type": "markdown",
   "metadata": {},
   "source": [
    "## 4. Wrap with Skorch for scikit-learn compatibility"
   ]
  },
  {
   "cell_type": "markdown",
   "metadata": {},
   "source": [
    "As some of Cleanlab's feature requires scikit-learn compatibility, we will need to adapt the above PyTorch neural net accordingly. Skorch is a convenient package that helps with this, read more about it here: https://skorch.readthedocs.io"
   ]
  },
  {
   "cell_type": "code",
   "execution_count": 5,
   "metadata": {
    "execution": {
     "iopub.execute_input": "2022-03-09T19:34:01.836053Z",
     "iopub.status.busy": "2022-03-09T19:34:01.835748Z",
     "iopub.status.idle": "2022-03-09T19:34:01.922995Z",
     "shell.execute_reply": "2022-03-09T19:34:01.922400Z"
    }
   },
   "outputs": [],
   "source": [
    "from skorch import NeuralNetClassifier\n",
    "\n",
    "# Wrap the PyTorch neural net around Skorch's NeuralNetClassifier wrapper\n",
    "net = NeuralNetClassifier(NeuralNetwork)"
   ]
  },
  {
   "cell_type": "markdown",
   "metadata": {},
   "source": [
    "## 5. Compute the cross-validated predicted probabilities"
   ]
  },
  {
   "cell_type": "markdown",
   "metadata": {},
   "source": [
    "If we'd like Cleanlab to identify potential label errors in the whole dataset and not just the training set, we can consider fitting the entire dataset. We will only use this model instance to compute the cross-validated predicted probabilities, ``pyx``, and not for model evaluation."
   ]
  },
  {
   "cell_type": "code",
   "execution_count": 6,
   "metadata": {
    "execution": {
     "iopub.execute_input": "2022-03-09T19:34:01.926301Z",
     "iopub.status.busy": "2022-03-09T19:34:01.925987Z",
     "iopub.status.idle": "2022-03-09T19:34:18.221783Z",
     "shell.execute_reply": "2022-03-09T19:34:18.221214Z"
    }
   },
   "outputs": [
    {
     "name": "stdout",
     "output_type": "stream",
     "text": [
      "  epoch    train_loss    valid_acc    valid_loss     dur\n",
      "-------  ------------  -----------  ------------  ------\n",
      "      1        \u001b[36m1.8123\u001b[0m       \u001b[32m0.7821\u001b[0m        \u001b[35m1.1914\u001b[0m  1.6289\n"
     ]
    },
    {
     "name": "stdout",
     "output_type": "stream",
     "text": [
      "      2        \u001b[36m0.9846\u001b[0m       \u001b[32m0.8387\u001b[0m        \u001b[35m0.7049\u001b[0m  1.6371\n"
     ]
    },
    {
     "name": "stdout",
     "output_type": "stream",
     "text": [
      "      3        \u001b[36m0.7237\u001b[0m       \u001b[32m0.8619\u001b[0m        \u001b[35m0.5547\u001b[0m  1.6134\n"
     ]
    },
    {
     "name": "stdout",
     "output_type": "stream",
     "text": [
      "      4        \u001b[36m0.6186\u001b[0m       \u001b[32m0.8758\u001b[0m        \u001b[35m0.4821\u001b[0m  1.6098\n"
     ]
    },
    {
     "name": "stdout",
     "output_type": "stream",
     "text": [
      "      5        \u001b[36m0.5522\u001b[0m       \u001b[32m0.8860\u001b[0m        \u001b[35m0.4362\u001b[0m  1.6180\n"
     ]
    },
    {
     "name": "stdout",
     "output_type": "stream",
     "text": [
      "      6        \u001b[36m0.5086\u001b[0m       \u001b[32m0.8924\u001b[0m        \u001b[35m0.4050\u001b[0m  1.6170\n"
     ]
    },
    {
     "name": "stdout",
     "output_type": "stream",
     "text": [
      "      7        \u001b[36m0.4803\u001b[0m       \u001b[32m0.8965\u001b[0m        \u001b[35m0.3829\u001b[0m  1.6250\n"
     ]
    },
    {
     "name": "stdout",
     "output_type": "stream",
     "text": [
      "      8        \u001b[36m0.4552\u001b[0m       \u001b[32m0.9006\u001b[0m        \u001b[35m0.3645\u001b[0m  1.6229\n"
     ]
    },
    {
     "name": "stdout",
     "output_type": "stream",
     "text": [
      "      9        \u001b[36m0.4355\u001b[0m       \u001b[32m0.9045\u001b[0m        \u001b[35m0.3500\u001b[0m  1.6305\n"
     ]
    },
    {
     "name": "stdout",
     "output_type": "stream",
     "text": [
      "     10        \u001b[36m0.4190\u001b[0m       \u001b[32m0.9070\u001b[0m        \u001b[35m0.3369\u001b[0m  1.6162\n"
     ]
    }
   ],
   "source": [
    "_ = net.fit(X, y)"
   ]
  },
  {
   "cell_type": "markdown",
   "metadata": {},
   "source": [
    "Compute the cross-validated predicted probabilities, ``pyx``, sometimes also known as the out-of-sample predicted probabilities."
   ]
  },
  {
   "cell_type": "code",
   "execution_count": 7,
   "metadata": {
    "execution": {
     "iopub.execute_input": "2022-03-09T19:34:18.224940Z",
     "iopub.status.busy": "2022-03-09T19:34:18.224383Z",
     "iopub.status.idle": "2022-03-09T19:34:40.089175Z",
     "shell.execute_reply": "2022-03-09T19:34:40.088583Z"
    }
   },
   "outputs": [
    {
     "name": "stdout",
     "output_type": "stream",
     "text": [
      "  epoch    train_loss    valid_acc    valid_loss     dur\n",
      "-------  ------------  -----------  ------------  ------\n",
      "      1        \u001b[36m1.9972\u001b[0m       \u001b[32m0.7362\u001b[0m        \u001b[35m1.6016\u001b[0m  0.6866\n"
     ]
    },
    {
     "name": "stdout",
     "output_type": "stream",
     "text": [
      "      2        \u001b[36m1.2960\u001b[0m       \u001b[32m0.7924\u001b[0m        \u001b[35m0.9891\u001b[0m  0.6879\n"
     ]
    },
    {
     "name": "stdout",
     "output_type": "stream",
     "text": [
      "      3        \u001b[36m0.9208\u001b[0m       \u001b[32m0.8261\u001b[0m        \u001b[35m0.7470\u001b[0m  0.6913\n"
     ]
    },
    {
     "name": "stdout",
     "output_type": "stream",
     "text": [
      "      4        \u001b[36m0.7576\u001b[0m       \u001b[32m0.8454\u001b[0m        \u001b[35m0.6304\u001b[0m  0.6853\n"
     ]
    },
    {
     "name": "stdout",
     "output_type": "stream",
     "text": [
      "      5        \u001b[36m0.6669\u001b[0m       \u001b[32m0.8561\u001b[0m        \u001b[35m0.5620\u001b[0m  0.6841\n"
     ]
    },
    {
     "name": "stdout",
     "output_type": "stream",
     "text": [
      "      6        \u001b[36m0.6065\u001b[0m       \u001b[32m0.8631\u001b[0m        \u001b[35m0.5168\u001b[0m  0.7478\n"
     ]
    },
    {
     "name": "stdout",
     "output_type": "stream",
     "text": [
      "      7        \u001b[36m0.5628\u001b[0m       \u001b[32m0.8689\u001b[0m        \u001b[35m0.4834\u001b[0m  0.7369\n"
     ]
    },
    {
     "name": "stdout",
     "output_type": "stream",
     "text": [
      "      8        \u001b[36m0.5326\u001b[0m       \u001b[32m0.8744\u001b[0m        \u001b[35m0.4579\u001b[0m  0.6733\n"
     ]
    },
    {
     "name": "stdout",
     "output_type": "stream",
     "text": [
      "      9        \u001b[36m0.5038\u001b[0m       \u001b[32m0.8778\u001b[0m        \u001b[35m0.4376\u001b[0m  0.6814\n"
     ]
    },
    {
     "name": "stdout",
     "output_type": "stream",
     "text": [
      "     10        \u001b[36m0.4850\u001b[0m       \u001b[32m0.8815\u001b[0m        \u001b[35m0.4212\u001b[0m  0.6798\n"
     ]
    },
    {
     "name": "stdout",
     "output_type": "stream",
     "text": [
      "  epoch    train_loss    valid_acc    valid_loss     dur\n",
      "-------  ------------  -----------  ------------  ------\n",
      "      1        \u001b[36m1.9836\u001b[0m       \u001b[32m0.7409\u001b[0m        \u001b[35m1.5586\u001b[0m  0.6786\n"
     ]
    },
    {
     "name": "stdout",
     "output_type": "stream",
     "text": [
      "      2        \u001b[36m1.2553\u001b[0m       \u001b[32m0.8124\u001b[0m        \u001b[35m0.9314\u001b[0m  0.6749\n"
     ]
    },
    {
     "name": "stdout",
     "output_type": "stream",
     "text": [
      "      3        \u001b[36m0.8815\u001b[0m       \u001b[32m0.8412\u001b[0m        \u001b[35m0.6966\u001b[0m  0.6724\n"
     ]
    },
    {
     "name": "stdout",
     "output_type": "stream",
     "text": [
      "      4        \u001b[36m0.7267\u001b[0m       \u001b[32m0.8556\u001b[0m        \u001b[35m0.5869\u001b[0m  0.6894\n"
     ]
    },
    {
     "name": "stdout",
     "output_type": "stream",
     "text": [
      "      5        \u001b[36m0.6423\u001b[0m       \u001b[32m0.8668\u001b[0m        \u001b[35m0.5226\u001b[0m  0.6826\n"
     ]
    },
    {
     "name": "stdout",
     "output_type": "stream",
     "text": [
      "      6        \u001b[36m0.5863\u001b[0m       \u001b[32m0.8754\u001b[0m        \u001b[35m0.4796\u001b[0m  0.6724\n"
     ]
    },
    {
     "name": "stdout",
     "output_type": "stream",
     "text": [
      "      7        \u001b[36m0.5464\u001b[0m       \u001b[32m0.8830\u001b[0m        \u001b[35m0.4487\u001b[0m  0.6791\n"
     ]
    },
    {
     "name": "stdout",
     "output_type": "stream",
     "text": [
      "      8        \u001b[36m0.5173\u001b[0m       \u001b[32m0.8889\u001b[0m        \u001b[35m0.4243\u001b[0m  0.6789\n"
     ]
    },
    {
     "name": "stdout",
     "output_type": "stream",
     "text": [
      "      9        \u001b[36m0.4892\u001b[0m       \u001b[32m0.8912\u001b[0m        \u001b[35m0.4061\u001b[0m  0.6800\n"
     ]
    },
    {
     "name": "stdout",
     "output_type": "stream",
     "text": [
      "     10        \u001b[36m0.4739\u001b[0m       \u001b[32m0.8953\u001b[0m        \u001b[35m0.3903\u001b[0m  0.6763\n"
     ]
    },
    {
     "name": "stdout",
     "output_type": "stream",
     "text": [
      "  epoch    train_loss    valid_acc    valid_loss     dur\n",
      "-------  ------------  -----------  ------------  ------\n",
      "      1        \u001b[36m2.0246\u001b[0m       \u001b[32m0.7417\u001b[0m        \u001b[35m1.6190\u001b[0m  0.6743\n"
     ]
    },
    {
     "name": "stdout",
     "output_type": "stream",
     "text": [
      "      2        \u001b[36m1.3308\u001b[0m       \u001b[32m0.8081\u001b[0m        \u001b[35m0.9721\u001b[0m  0.6802\n"
     ]
    },
    {
     "name": "stdout",
     "output_type": "stream",
     "text": [
      "      3        \u001b[36m0.9407\u001b[0m       \u001b[32m0.8450\u001b[0m        \u001b[35m0.7153\u001b[0m  0.6764\n"
     ]
    },
    {
     "name": "stdout",
     "output_type": "stream",
     "text": [
      "      4        \u001b[36m0.7735\u001b[0m       \u001b[32m0.8653\u001b[0m        \u001b[35m0.5944\u001b[0m  0.6807\n"
     ]
    },
    {
     "name": "stdout",
     "output_type": "stream",
     "text": [
      "      5        \u001b[36m0.6793\u001b[0m       \u001b[32m0.8757\u001b[0m        \u001b[35m0.5234\u001b[0m  0.6769\n"
     ]
    },
    {
     "name": "stdout",
     "output_type": "stream",
     "text": [
      "      6        \u001b[36m0.6166\u001b[0m       \u001b[32m0.8824\u001b[0m        \u001b[35m0.4778\u001b[0m  0.6762\n"
     ]
    },
    {
     "name": "stdout",
     "output_type": "stream",
     "text": [
      "      7        \u001b[36m0.5756\u001b[0m       \u001b[32m0.8879\u001b[0m        \u001b[35m0.4445\u001b[0m  0.6766\n"
     ]
    },
    {
     "name": "stdout",
     "output_type": "stream",
     "text": [
      "      8        \u001b[36m0.5398\u001b[0m       \u001b[32m0.8921\u001b[0m        \u001b[35m0.4197\u001b[0m  0.6759\n"
     ]
    },
    {
     "name": "stdout",
     "output_type": "stream",
     "text": [
      "      9        \u001b[36m0.5168\u001b[0m       \u001b[32m0.8958\u001b[0m        \u001b[35m0.3993\u001b[0m  0.6715\n"
     ]
    },
    {
     "name": "stdout",
     "output_type": "stream",
     "text": [
      "     10        \u001b[36m0.4906\u001b[0m       \u001b[32m0.8979\u001b[0m        \u001b[35m0.3830\u001b[0m  0.6820\n"
     ]
    }
   ],
   "source": [
    "from sklearn.model_selection import cross_val_predict\n",
    "\n",
    "pyx = cross_val_predict(net, X, y, cv=3, method='predict_proba')"
   ]
  },
  {
   "cell_type": "markdown",
   "metadata": {},
   "source": [
    "## 6. Run Cleanlab to find potential label errors"
   ]
  },
  {
   "cell_type": "markdown",
   "metadata": {},
   "source": [
    "Cleanlab has a ``get_noise_indices`` function to generate a list of potential label errors. Setting ``sorted_index_method=\"prob_given_label\"`` returns the indices of all the most likely label errors, sorted by the most suspicious example first."
   ]
  },
  {
   "cell_type": "code",
   "execution_count": 8,
   "metadata": {
    "execution": {
     "iopub.execute_input": "2022-03-09T19:34:40.092912Z",
     "iopub.status.busy": "2022-03-09T19:34:40.092499Z",
     "iopub.status.idle": "2022-03-09T19:34:40.488417Z",
     "shell.execute_reply": "2022-03-09T19:34:40.487628Z"
    }
   },
   "outputs": [],
   "source": [
    "from cleanlab.pruning import get_noise_indices\n",
    "\n",
    "ordered_label_errors = get_noise_indices(\n",
    "    s=y,\n",
    "    psx=pyx,\n",
    "    sorted_index_method=\"prob_given_label\"\n",
    ")"
   ]
  },
  {
   "cell_type": "markdown",
   "metadata": {},
   "source": [
    "## 7. Review some of the most likely mislabeled examples"
   ]
  },
  {
   "cell_type": "code",
   "execution_count": 9,
   "metadata": {
    "execution": {
     "iopub.execute_input": "2022-03-09T19:34:40.492534Z",
     "iopub.status.busy": "2022-03-09T19:34:40.492118Z",
     "iopub.status.idle": "2022-03-09T19:34:40.496024Z",
     "shell.execute_reply": "2022-03-09T19:34:40.495622Z"
    }
   },
   "outputs": [
    {
     "name": "stdout",
     "output_type": "stream",
     "text": [
      "Cleanlab found 1267 potential label errors. Here are the indices of the top 15 most likely ones: \n",
      " [24798  8729 18598 61790 59915 15942 39457  7010  1352 12679 53216 31134\n",
      " 40466 55739 20735]\n"
     ]
    }
   ],
   "source": [
    "print(f\"Cleanlab found {len(ordered_label_errors)} potential label errors. Here are the indices of the top 15 most likely ones: \\n {ordered_label_errors[:15]}\")"
   ]
  },
  {
   "cell_type": "markdown",
   "metadata": {},
   "source": [
    "We'll define a new ``plot_examples`` function to display any examples in a subplot conveniently."
   ]
  },
  {
   "cell_type": "code",
   "execution_count": 10,
   "metadata": {
    "execution": {
     "iopub.execute_input": "2022-03-09T19:34:40.498876Z",
     "iopub.status.busy": "2022-03-09T19:34:40.498585Z",
     "iopub.status.idle": "2022-03-09T19:34:41.682425Z",
     "shell.execute_reply": "2022-03-09T19:34:41.681793Z"
    }
   },
   "outputs": [],
   "source": [
    "import matplotlib.pyplot as plt\n",
    "\n",
    "def plot_examples(id_iter, nrows=1, ncols=1):\n",
    "    for count, id in enumerate(id_iter):\n",
    "        plt.subplot(nrows, ncols, count+1)\n",
    "        plt.imshow(X[id].reshape(28, 28))\n",
    "        plt.title(f\"id: {id} \\n label: {y[id]}\")\n",
    "        plt.axis('off')\n",
    "\n",
    "    plt.tight_layout(h_pad=2.0)"
   ]
  },
  {
   "cell_type": "markdown",
   "metadata": {},
   "source": [
    "Let's start by having an overview of the top 15 most likely label errors. From here, we can see a few label errors and edge cases. Feel free to change the parameters to display more or fewer examples. "
   ]
  },
  {
   "cell_type": "code",
   "execution_count": 11,
   "metadata": {
    "execution": {
     "iopub.execute_input": "2022-03-09T19:34:41.685731Z",
     "iopub.status.busy": "2022-03-09T19:34:41.685405Z",
     "iopub.status.idle": "2022-03-09T19:34:42.140360Z",
     "shell.execute_reply": "2022-03-09T19:34:42.139552Z"
    }
   },
   "outputs": [
    {
     "data": {
      "image/png": "[encoded data removed]",
      "text/plain": [
       "<Figure size 432x288 with 15 Axes>"
      ]
     },
     "metadata": {
      "needs_background": "light"
     },
     "output_type": "display_data"
    }
   ],
   "source": [
    "plot_examples(ordered_label_errors[range(15)], 3, 5)"
   ]
  },
  {
   "cell_type": "markdown",
   "metadata": {},
   "source": [
    "Let's zoom into specific examples:"
   ]
  },
  {
   "cell_type": "markdown",
   "metadata": {},
   "source": [
    "Given label is **4** but looks more like a **7**"
   ]
  },
  {
   "cell_type": "code",
   "execution_count": 12,
   "metadata": {
    "execution": {
     "iopub.execute_input": "2022-03-09T19:34:42.143456Z",
     "iopub.status.busy": "2022-03-09T19:34:42.143264Z",
     "iopub.status.idle": "2022-03-09T19:34:42.198351Z",
     "shell.execute_reply": "2022-03-09T19:34:42.197858Z"
    }
   },
   "outputs": [
    {
     "data": {
      "image/png": "[encoded data removed]",
      "text/plain": [
       "<Figure size 432x288 with 1 Axes>"
      ]
     },
     "metadata": {
      "needs_background": "light"
     },
     "output_type": "display_data"
    }
   ],
   "source": [
    "plot_examples([59915])"
   ]
  },
  {
   "cell_type": "markdown",
   "metadata": {},
   "source": [
    "Given label is **4** but also looks like **9**"
   ]
  },
  {
   "cell_type": "code",
   "execution_count": 13,
   "metadata": {
    "execution": {
     "iopub.execute_input": "2022-03-09T19:34:42.202668Z",
     "iopub.status.busy": "2022-03-09T19:34:42.201681Z",
     "iopub.status.idle": "2022-03-09T19:34:42.256173Z",
     "shell.execute_reply": "2022-03-09T19:34:42.255714Z"
    }
   },
   "outputs": [
    {
     "data": {
      "image/png": "[encoded data removed]",
      "text/plain": [
       "<Figure size 432x288 with 1 Axes>"
      ]
     },
     "metadata": {
      "needs_background": "light"
     },
     "output_type": "display_data"
    }
   ],
   "source": [
    "plot_examples([24798])"
   ]
  },
  {
   "cell_type": "markdown",
   "metadata": {},
   "source": [
    "Edge case of odd looking **9**s"
   ]
  },
  {
   "cell_type": "code",
   "execution_count": 14,
   "metadata": {
    "execution": {
     "iopub.execute_input": "2022-03-09T19:34:42.260333Z",
     "iopub.status.busy": "2022-03-09T19:34:42.259371Z",
     "iopub.status.idle": "2022-03-09T19:34:42.469602Z",
     "shell.execute_reply": "2022-03-09T19:34:42.469050Z"
    }
   },
   "outputs": [
    {
     "data": {
      "image/png": "[encoded data removed]",
      "text/plain": [
       "<Figure size 432x288 with 3 Axes>"
      ]
     },
     "metadata": {
      "needs_background": "light"
     },
     "output_type": "display_data"
    }
   ],
   "source": [
    "plot_examples([18598, 1352, 61247], 1, 3)"
   ]
  },
  {
   "cell_type": "markdown",
   "metadata": {},
   "source": [
    "Cleanlab has shortlisted the most likely label errors to speed up your data cleaning process. With this list, you can decide whether to fix label errors, augment edge cases or remove obscure examples. \n",
    "\n",
    "These human-in-the-loop processes may be time-consuming, so if you'd like Cleanlab to automatically remove these noisy examples and train a model directly on the partially mislabeled dataset, you're in luck! Cleanlab provides a ``LearningWithNoisyLabels`` wrapper to do precisely this:"
   ]
  },
  {
   "cell_type": "markdown",
   "metadata": {},
   "source": [
    "## 8. Adapt with Cleanlab's wrapper and train a more robust model"
   ]
  },
  {
   "cell_type": "markdown",
   "metadata": {},
   "source": [
    "First, we split the dataset into train and test subsets."
   ]
  },
  {
   "cell_type": "code",
   "execution_count": 15,
   "metadata": {
    "execution": {
     "iopub.execute_input": "2022-03-09T19:34:42.472638Z",
     "iopub.status.busy": "2022-03-09T19:34:42.472312Z",
     "iopub.status.idle": "2022-03-09T19:34:43.125679Z",
     "shell.execute_reply": "2022-03-09T19:34:43.125075Z"
    }
   },
   "outputs": [],
   "source": [
    "from sklearn.model_selection import train_test_split\n",
    "\n",
    "X_train, X_test, y_train, y_test = train_test_split(X, y, test_size=0.2)"
   ]
  },
  {
   "cell_type": "markdown",
   "metadata": {},
   "source": [
    "Re-instantiate a new scikit-learn compatible model with Skorch then wrap it with Cleanlab's ``LearningWithNoisyLabels`` wrapper."
   ]
  },
  {
   "cell_type": "code",
   "execution_count": 16,
   "metadata": {
    "execution": {
     "iopub.execute_input": "2022-03-09T19:34:43.129600Z",
     "iopub.status.busy": "2022-03-09T19:34:43.129384Z",
     "iopub.status.idle": "2022-03-09T19:34:43.133813Z",
     "shell.execute_reply": "2022-03-09T19:34:43.133249Z"
    }
   },
   "outputs": [],
   "source": [
    "from cleanlab.classification import LearningWithNoisyLabels\n",
    "\n",
    "net = NeuralNetClassifier(NeuralNetwork)\n",
    "clf = LearningWithNoisyLabels(clf=net)"
   ]
  },
  {
   "cell_type": "code",
   "execution_count": 17,
   "metadata": {
    "execution": {
     "iopub.execute_input": "2022-03-09T19:34:43.136462Z",
     "iopub.status.busy": "2022-03-09T19:34:43.136173Z",
     "iopub.status.idle": "2022-03-09T19:35:26.975196Z",
     "shell.execute_reply": "2022-03-09T19:35:26.974606Z"
    }
   },
   "outputs": [
    {
     "name": "stdout",
     "output_type": "stream",
     "text": [
      "  epoch    train_loss    valid_acc    valid_loss     dur\n",
      "-------  ------------  -----------  ------------  ------\n",
      "      1        \u001b[36m2.0052\u001b[0m       \u001b[32m0.7314\u001b[0m        \u001b[35m1.6044\u001b[0m  0.6767\n"
     ]
    },
    {
     "name": "stdout",
     "output_type": "stream",
     "text": [
      "      2        \u001b[36m1.3146\u001b[0m       \u001b[32m0.8096\u001b[0m        \u001b[35m0.9841\u001b[0m  0.6760\n"
     ]
    },
    {
     "name": "stdout",
     "output_type": "stream",
     "text": [
      "      3        \u001b[36m0.9362\u001b[0m       \u001b[32m0.8427\u001b[0m        \u001b[35m0.7293\u001b[0m  0.6764\n"
     ]
    },
    {
     "name": "stdout",
     "output_type": "stream",
     "text": [
      "      4        \u001b[36m0.7727\u001b[0m       \u001b[32m0.8598\u001b[0m        \u001b[35m0.6076\u001b[0m  0.6962\n"
     ]
    },
    {
     "name": "stdout",
     "output_type": "stream",
     "text": [
      "      5        \u001b[36m0.6754\u001b[0m       \u001b[32m0.8722\u001b[0m        \u001b[35m0.5351\u001b[0m  0.6760\n"
     ]
    },
    {
     "name": "stdout",
     "output_type": "stream",
     "text": [
      "      6        \u001b[36m0.6143\u001b[0m       \u001b[32m0.8810\u001b[0m        \u001b[35m0.4877\u001b[0m  0.6738\n"
     ]
    },
    {
     "name": "stdout",
     "output_type": "stream",
     "text": [
      "      7        \u001b[36m0.5735\u001b[0m       \u001b[32m0.8850\u001b[0m        \u001b[35m0.4544\u001b[0m  0.6769\n"
     ]
    },
    {
     "name": "stdout",
     "output_type": "stream",
     "text": [
      "      8        \u001b[36m0.5400\u001b[0m       \u001b[32m0.8890\u001b[0m        \u001b[35m0.4280\u001b[0m  0.7014\n"
     ]
    },
    {
     "name": "stdout",
     "output_type": "stream",
     "text": [
      "      9        \u001b[36m0.5122\u001b[0m       \u001b[32m0.8935\u001b[0m        \u001b[35m0.4071\u001b[0m  0.6784\n"
     ]
    },
    {
     "name": "stdout",
     "output_type": "stream",
     "text": [
      "     10        \u001b[36m0.4894\u001b[0m       \u001b[32m0.8983\u001b[0m        \u001b[35m0.3894\u001b[0m  0.6765\n"
     ]
    },
    {
     "name": "stdout",
     "output_type": "stream",
     "text": [
      "  epoch    train_loss    valid_acc    valid_loss     dur\n",
      "-------  ------------  -----------  ------------  ------\n",
      "      1        \u001b[36m2.0240\u001b[0m       \u001b[32m0.7374\u001b[0m        \u001b[35m1.6449\u001b[0m  0.6743\n"
     ]
    },
    {
     "name": "stdout",
     "output_type": "stream",
     "text": [
      "      2        \u001b[36m1.3437\u001b[0m       \u001b[32m0.8166\u001b[0m        \u001b[35m0.9919\u001b[0m  0.6722\n"
     ]
    },
    {
     "name": "stdout",
     "output_type": "stream",
     "text": [
      "      3        \u001b[36m0.9398\u001b[0m       \u001b[32m0.8471\u001b[0m        \u001b[35m0.7233\u001b[0m  0.6893\n"
     ]
    },
    {
     "name": "stdout",
     "output_type": "stream",
     "text": [
      "      4        \u001b[36m0.7649\u001b[0m       \u001b[32m0.8625\u001b[0m        \u001b[35m0.5980\u001b[0m  0.6734\n"
     ]
    },
    {
     "name": "stdout",
     "output_type": "stream",
     "text": [
      "      5        \u001b[36m0.6723\u001b[0m       \u001b[32m0.8744\u001b[0m        \u001b[35m0.5262\u001b[0m  0.6683\n"
     ]
    },
    {
     "name": "stdout",
     "output_type": "stream",
     "text": [
      "      6        \u001b[36m0.6118\u001b[0m       \u001b[32m0.8837\u001b[0m        \u001b[35m0.4791\u001b[0m  0.6703\n"
     ]
    },
    {
     "name": "stdout",
     "output_type": "stream",
     "text": [
      "      7        \u001b[36m0.5688\u001b[0m       \u001b[32m0.8901\u001b[0m        \u001b[35m0.4451\u001b[0m  0.6702\n"
     ]
    },
    {
     "name": "stdout",
     "output_type": "stream",
     "text": [
      "      8        \u001b[36m0.5329\u001b[0m       \u001b[32m0.8938\u001b[0m        \u001b[35m0.4184\u001b[0m  0.6651\n"
     ]
    },
    {
     "name": "stdout",
     "output_type": "stream",
     "text": [
      "      9        \u001b[36m0.5090\u001b[0m       \u001b[32m0.8984\u001b[0m        \u001b[35m0.3978\u001b[0m  0.7146\n"
     ]
    },
    {
     "name": "stdout",
     "output_type": "stream",
     "text": [
      "     10        \u001b[36m0.4864\u001b[0m       \u001b[32m0.9016\u001b[0m        \u001b[35m0.3809\u001b[0m  0.6638\n"
     ]
    },
    {
     "name": "stdout",
     "output_type": "stream",
     "text": [
      "  epoch    train_loss    valid_acc    valid_loss     dur\n",
      "-------  ------------  -----------  ------------  ------\n",
      "      1        \u001b[36m2.0047\u001b[0m       \u001b[32m0.7390\u001b[0m        \u001b[35m1.5915\u001b[0m  0.6655\n"
     ]
    },
    {
     "name": "stdout",
     "output_type": "stream",
     "text": [
      "      2        \u001b[36m1.2968\u001b[0m       \u001b[32m0.8211\u001b[0m        \u001b[35m0.9623\u001b[0m  0.6693\n"
     ]
    },
    {
     "name": "stdout",
     "output_type": "stream",
     "text": [
      "      3        \u001b[36m0.9180\u001b[0m       \u001b[32m0.8521\u001b[0m        \u001b[35m0.7091\u001b[0m  0.6614\n"
     ]
    },
    {
     "name": "stdout",
     "output_type": "stream",
     "text": [
      "      4        \u001b[36m0.7535\u001b[0m       \u001b[32m0.8673\u001b[0m        \u001b[35m0.5887\u001b[0m  0.6706\n"
     ]
    },
    {
     "name": "stdout",
     "output_type": "stream",
     "text": [
      "      5        \u001b[36m0.6645\u001b[0m       \u001b[32m0.8780\u001b[0m        \u001b[35m0.5190\u001b[0m  0.6685\n"
     ]
    },
    {
     "name": "stdout",
     "output_type": "stream",
     "text": [
      "      6        \u001b[36m0.6071\u001b[0m       \u001b[32m0.8865\u001b[0m        \u001b[35m0.4734\u001b[0m  0.6639\n"
     ]
    },
    {
     "name": "stdout",
     "output_type": "stream",
     "text": [
      "      7        \u001b[36m0.5636\u001b[0m       \u001b[32m0.8894\u001b[0m        \u001b[35m0.4402\u001b[0m  0.6746\n"
     ]
    },
    {
     "name": "stdout",
     "output_type": "stream",
     "text": [
      "      8        \u001b[36m0.5347\u001b[0m       \u001b[32m0.8939\u001b[0m        \u001b[35m0.4149\u001b[0m  0.6670\n"
     ]
    },
    {
     "name": "stdout",
     "output_type": "stream",
     "text": [
      "      9        \u001b[36m0.5072\u001b[0m       \u001b[32m0.8970\u001b[0m        \u001b[35m0.3953\u001b[0m  0.6697\n"
     ]
    },
    {
     "name": "stdout",
     "output_type": "stream",
     "text": [
      "     10        \u001b[36m0.4872\u001b[0m       \u001b[32m0.9002\u001b[0m        \u001b[35m0.3787\u001b[0m  0.6686\n"
     ]
    },
    {
     "name": "stdout",
     "output_type": "stream",
     "text": [
      "  epoch    train_loss    valid_acc    valid_loss     dur\n",
      "-------  ------------  -----------  ------------  ------\n",
      "      1        \u001b[36m2.0532\u001b[0m       \u001b[32m0.7518\u001b[0m        \u001b[35m1.6834\u001b[0m  0.6728\n"
     ]
    },
    {
     "name": "stdout",
     "output_type": "stream",
     "text": [
      "      2        \u001b[36m1.3749\u001b[0m       \u001b[32m0.8228\u001b[0m        \u001b[35m1.0143\u001b[0m  0.6606\n"
     ]
    },
    {
     "name": "stdout",
     "output_type": "stream",
     "text": [
      "      3        \u001b[36m0.9622\u001b[0m       \u001b[32m0.8503\u001b[0m        \u001b[35m0.7318\u001b[0m  0.6643\n"
     ]
    },
    {
     "name": "stdout",
     "output_type": "stream",
     "text": [
      "      4        \u001b[36m0.7812\u001b[0m       \u001b[32m0.8673\u001b[0m        \u001b[35m0.6027\u001b[0m  0.6667\n"
     ]
    },
    {
     "name": "stdout",
     "output_type": "stream",
     "text": [
      "      5        \u001b[36m0.6818\u001b[0m       \u001b[32m0.8779\u001b[0m        \u001b[35m0.5284\u001b[0m  0.6663\n"
     ]
    },
    {
     "name": "stdout",
     "output_type": "stream",
     "text": [
      "      6        \u001b[36m0.6178\u001b[0m       \u001b[32m0.8857\u001b[0m        \u001b[35m0.4801\u001b[0m  0.6653\n"
     ]
    },
    {
     "name": "stdout",
     "output_type": "stream",
     "text": [
      "      7        \u001b[36m0.5736\u001b[0m       \u001b[32m0.8924\u001b[0m        \u001b[35m0.4457\u001b[0m  0.6653\n"
     ]
    },
    {
     "name": "stdout",
     "output_type": "stream",
     "text": [
      "      8        \u001b[36m0.5415\u001b[0m       \u001b[32m0.8965\u001b[0m        \u001b[35m0.4204\u001b[0m  0.6688\n"
     ]
    },
    {
     "name": "stdout",
     "output_type": "stream",
     "text": [
      "      9        \u001b[36m0.5149\u001b[0m       \u001b[32m0.9001\u001b[0m        \u001b[35m0.4000\u001b[0m  0.6712\n"
     ]
    },
    {
     "name": "stdout",
     "output_type": "stream",
     "text": [
      "     10        \u001b[36m0.4921\u001b[0m       \u001b[32m0.9023\u001b[0m        \u001b[35m0.3836\u001b[0m  0.6708\n"
     ]
    },
    {
     "name": "stdout",
     "output_type": "stream",
     "text": [
      "  epoch    train_loss    valid_acc    valid_loss     dur\n",
      "-------  ------------  -----------  ------------  ------\n",
      "      1        \u001b[36m1.9864\u001b[0m       \u001b[32m0.7440\u001b[0m        \u001b[35m1.5654\u001b[0m  0.6677\n"
     ]
    },
    {
     "name": "stdout",
     "output_type": "stream",
     "text": [
      "      2        \u001b[36m1.2829\u001b[0m       \u001b[32m0.8185\u001b[0m        \u001b[35m0.9570\u001b[0m  0.6758\n"
     ]
    },
    {
     "name": "stdout",
     "output_type": "stream",
     "text": [
      "      3        \u001b[36m0.9237\u001b[0m       \u001b[32m0.8516\u001b[0m        \u001b[35m0.7137\u001b[0m  0.6699\n"
     ]
    },
    {
     "name": "stdout",
     "output_type": "stream",
     "text": [
      "      4        \u001b[36m0.7667\u001b[0m       \u001b[32m0.8665\u001b[0m        \u001b[35m0.5965\u001b[0m  0.6686\n"
     ]
    },
    {
     "name": "stdout",
     "output_type": "stream",
     "text": [
      "      5        \u001b[36m0.6753\u001b[0m       \u001b[32m0.8787\u001b[0m        \u001b[35m0.5261\u001b[0m  0.6826\n"
     ]
    },
    {
     "name": "stdout",
     "output_type": "stream",
     "text": [
      "      6        \u001b[36m0.6142\u001b[0m       \u001b[32m0.8857\u001b[0m        \u001b[35m0.4791\u001b[0m  0.6704\n"
     ]
    },
    {
     "name": "stdout",
     "output_type": "stream",
     "text": [
      "      7        \u001b[36m0.5721\u001b[0m       \u001b[32m0.8917\u001b[0m        \u001b[35m0.4461\u001b[0m  0.6912\n"
     ]
    },
    {
     "name": "stdout",
     "output_type": "stream",
     "text": [
      "      8        \u001b[36m0.5402\u001b[0m       \u001b[32m0.8965\u001b[0m        \u001b[35m0.4206\u001b[0m  0.7253\n"
     ]
    },
    {
     "name": "stdout",
     "output_type": "stream",
     "text": [
      "      9        \u001b[36m0.5150\u001b[0m       \u001b[32m0.8994\u001b[0m        \u001b[35m0.4007\u001b[0m  0.6809\n"
     ]
    },
    {
     "name": "stdout",
     "output_type": "stream",
     "text": [
      "     10        \u001b[36m0.4974\u001b[0m       \u001b[32m0.9019\u001b[0m        \u001b[35m0.3845\u001b[0m  0.7259\n"
     ]
    },
    {
     "name": "stdout",
     "output_type": "stream",
     "text": [
      "  epoch    train_loss    valid_acc    valid_loss     dur\n",
      "-------  ------------  -----------  ------------  ------\n",
      "      1        \u001b[36m1.9170\u001b[0m       \u001b[32m0.7793\u001b[0m        \u001b[35m1.3916\u001b[0m  0.8255\n"
     ]
    },
    {
     "name": "stdout",
     "output_type": "stream",
     "text": [
      "      2        \u001b[36m1.1163\u001b[0m       \u001b[32m0.8523\u001b[0m        \u001b[35m0.7894\u001b[0m  0.8299\n"
     ]
    },
    {
     "name": "stdout",
     "output_type": "stream",
     "text": [
      "      3        \u001b[36m0.7811\u001b[0m       \u001b[32m0.8753\u001b[0m        \u001b[35m0.5802\u001b[0m  0.8264\n"
     ]
    },
    {
     "name": "stdout",
     "output_type": "stream",
     "text": [
      "      4        \u001b[36m0.6362\u001b[0m       \u001b[32m0.8896\u001b[0m        \u001b[35m0.4800\u001b[0m  0.8299\n"
     ]
    },
    {
     "name": "stdout",
     "output_type": "stream",
     "text": [
      "      5        \u001b[36m0.5564\u001b[0m       \u001b[32m0.8990\u001b[0m        \u001b[35m0.4204\u001b[0m  0.8335\n"
     ]
    },
    {
     "name": "stdout",
     "output_type": "stream",
     "text": [
      "      6        \u001b[36m0.5038\u001b[0m       \u001b[32m0.9060\u001b[0m        \u001b[35m0.3803\u001b[0m  0.8184\n"
     ]
    },
    {
     "name": "stdout",
     "output_type": "stream",
     "text": [
      "      7        \u001b[36m0.4653\u001b[0m       \u001b[32m0.9106\u001b[0m        \u001b[35m0.3518\u001b[0m  0.8242\n"
     ]
    },
    {
     "name": "stdout",
     "output_type": "stream",
     "text": [
      "      8        \u001b[36m0.4391\u001b[0m       \u001b[32m0.9143\u001b[0m        \u001b[35m0.3303\u001b[0m  0.8238\n"
     ]
    },
    {
     "name": "stdout",
     "output_type": "stream",
     "text": [
      "      9        \u001b[36m0.4145\u001b[0m       \u001b[32m0.9165\u001b[0m        \u001b[35m0.3132\u001b[0m  0.8189\n"
     ]
    },
    {
     "name": "stdout",
     "output_type": "stream",
     "text": [
      "     10        \u001b[36m0.3927\u001b[0m       \u001b[32m0.9189\u001b[0m        \u001b[35m0.2987\u001b[0m  0.8217\n"
     ]
    }
   ],
   "source": [
    "_ = clf.fit(X_train, y_train.to_numpy())"
   ]
  },
  {
   "cell_type": "markdown",
   "metadata": {},
   "source": [
    "## 9. Evaluate the robust model's performance"
   ]
  },
  {
   "cell_type": "code",
   "execution_count": 18,
   "metadata": {
    "execution": {
     "iopub.execute_input": "2022-03-09T19:35:26.978256Z",
     "iopub.status.busy": "2022-03-09T19:35:26.977927Z",
     "iopub.status.idle": "2022-03-09T19:35:27.178101Z",
     "shell.execute_reply": "2022-03-09T19:35:27.177482Z"
    }
   },
   "outputs": [
    {
     "data": {
      "text/plain": [
       "0.894"
      ]
     },
     "execution_count": 18,
     "metadata": {},
     "output_type": "execute_result"
    }
   ],
   "source": [
    "from sklearn.metrics import accuracy_score\n",
    "\n",
    "y_pred = clf.predict(X_test)\n",
    "accuracy_score(y_test, y_pred)"
   ]
  },
  {
   "cell_type": "markdown",
   "metadata": {},
   "source": [
    "## What's next?"
   ]
  },
  {
   "cell_type": "markdown",
   "metadata": {},
   "source": [
    "Congratulations on completing this tutorial! Check out our following tutorial on using Cleanlab for text classification, where we found *hundreds* of potential label errors in one of the most well-known text datasets, the IMBDb movie review dataset!"
   ]
  }
 ],
 "metadata": {
  "interpreter": {
   "hash": "ced20e3e49bb4fa4ce8ad38f8f2535b7fc4c39b2b89554502b5dbdad1ad67eda"
  },
  "kernelspec": {
   "display_name": "Python 3.10.0 64-bit",
   "language": "python",
   "name": "python3"
  },
  "language_info": {
   "codemirror_mode": {
    "name": "ipython",
    "version": 3
   },
   "file_extension": ".py",
   "mimetype": "text/x-python",
   "name": "python",
   "nbconvert_exporter": "python",
   "pygments_lexer": "ipython3",
   "version": "3.8.12"
  }
 },
 "nbformat": 4,
 "nbformat_minor": 2
}
