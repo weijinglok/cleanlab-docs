{
 "cells": [
  {
   "cell_type": "markdown",
   "metadata": {},
   "source": [
    "# Audio Classification with Cleanlab and LightGBM\n",
    "\n",
    "In this tutorial, we will use Cleanlab to find potential label errors in the Spoken Digit dataset (it's like MNIST for audio). The dataset contains 2,500 audio clips with english pronunciations of the digits 0 to 9. \n",
    "\n",
    "**High level overview of what we'll do in this tutorial:**\n",
    "\n",
    "- Extract features from audio clips (.wav files) using a pre-trained model from Hugging Face trained on the [VoxCeleb](https://www.robots.ox.ac.uk/~vgg/data/voxceleb/) speech dataset.\n",
    "\n",
    "- Train a cross-validated LightGBM model using the extracted features.\n",
    "\n",
    "- Generate cross-validated predicted probabilities to use as input into Cleanlab.\n",
    "\n",
    "- Generate a list of audio clips with potential label errors.\n",
    "\n",
    "**Data:** https://www.tensorflow.org/datasets/catalog/spoken_digit\n",
    "\n",
    "**Pre-Trained Model:** https://huggingface.co/speechbrain/spkrec-xvect-voxceleb"
   ]
  },
  {
   "cell_type": "markdown",
   "metadata": {},
   "source": [
    "## **1. Install dependencies and import libraries**"
   ]
  },
  {
   "cell_type": "markdown",
   "metadata": {},
   "source": [
    "To get started, let's run below to install additional packages for your Colab environment."
   ]
  },
  {
   "cell_type": "code",
   "execution_count": 1,
   "metadata": {
    "execution": {
     "iopub.execute_input": "2022-03-09T16:24:44.883910Z",
     "iopub.status.busy": "2022-03-09T16:24:44.883653Z",
     "iopub.status.idle": "2022-03-09T16:26:06.887682Z",
     "shell.execute_reply": "2022-03-09T16:26:06.886611Z"
    }
   },
   "outputs": [],
   "source": [
    "%%capture\n",
    "\n",
    "%pip install cleanlab speechbrain tensorflow-io tensorflow lightgbm pandas matplotlib wget"
   ]
  },
  {
   "cell_type": "markdown",
   "metadata": {},
   "source": [
    "Next, let's import all the packages you need for this tutorial. Note that we also set a random seed to make experiments reproducible."
   ]
  },
  {
   "cell_type": "code",
   "execution_count": 2,
   "metadata": {
    "execution": {
     "iopub.execute_input": "2022-03-09T16:26:06.892359Z",
     "iopub.status.busy": "2022-03-09T16:26:06.892051Z",
     "iopub.status.idle": "2022-03-09T16:26:15.702241Z",
     "shell.execute_reply": "2022-03-09T16:26:15.701288Z"
    }
   },
   "outputs": [
    {
     "name": "stderr",
     "output_type": "stream",
     "text": [
      "2022-03-09 16:26:07.984589: W tensorflow/stream_executor/platform/default/dso_loader.cc:64] Could not load dynamic library 'libcudart.so.11.0'; dlerror: libcudart.so.11.0: cannot open shared object file: No such file or directory; LD_LIBRARY_PATH: /opt/hostedtoolcache/Python/3.8.12/x64/lib\n",
      "2022-03-09 16:26:07.984634: I tensorflow/stream_executor/cuda/cudart_stub.cc:29] Ignore above cudart dlerror if you do not have a GPU set up on your machine.\n"
     ]
    }
   ],
   "source": [
    "import cleanlab\n",
    "import tensorflow as tf\n",
    "import tensorflow_io as tfio\n",
    "import torchaudio\n",
    "from speechbrain.pretrained import EncoderClassifier\n",
    "import lightgbm as lgb\n",
    "from sklearn.model_selection import cross_val_predict\n",
    "import pandas as pd\n",
    "import numpy as np\n",
    "import matplotlib.pyplot as plt\n",
    "import os\n",
    "from pathlib import Path\n",
    "from IPython import display\n",
    "\n",
    "np.random.seed(12345)"
   ]
  },
  {
   "cell_type": "markdown",
   "metadata": {},
   "source": [
    "## **2. Download dataset**"
   ]
  },
  {
   "cell_type": "markdown",
   "metadata": {},
   "source": [
    "We can run below to download the dataset directly into your Colab workspace. Once the download is complete, you should be able to see it on the left menu bar in the \"Files\" tab."
   ]
  },
  {
   "cell_type": "code",
   "execution_count": 3,
   "metadata": {
    "execution": {
     "iopub.execute_input": "2022-03-09T16:26:15.706696Z",
     "iopub.status.busy": "2022-03-09T16:26:15.706467Z",
     "iopub.status.idle": "2022-03-09T16:26:17.796244Z",
     "shell.execute_reply": "2022-03-09T16:26:17.795369Z"
    }
   },
   "outputs": [],
   "source": [
    "import wget\n",
    "import tarfile\n",
    "\n",
    "url = \"https://github.com/Jakobovski/free-spoken-digit-dataset/archive/v1.0.9.tar.gz\"\n",
    "filename = wget.download(url)\n",
    "\n",
    "dir = 'spoken_digits'\n",
    "\n",
    "os.mkdir(dir)\n",
    "\n",
    "tar = tarfile.open(filename)\n",
    "tar.extractall(dir)\n",
    "tar.close()"
   ]
  },
  {
   "cell_type": "markdown",
   "metadata": {},
   "source": [
    "The audio data (.wav files) is in the \"recordings\" folder. Let's run below to get a list of all the file names.\n",
    "\n",
    "Note that the label (digits from 0 to 9) is indicated in the prefix of the file name (e.g. \"6_nicolas_32.wav\" has the label 6)"
   ]
  },
  {
   "cell_type": "code",
   "execution_count": 4,
   "metadata": {
    "execution": {
     "iopub.execute_input": "2022-03-09T16:26:17.801433Z",
     "iopub.status.busy": "2022-03-09T16:26:17.801164Z",
     "iopub.status.idle": "2022-03-09T16:26:17.821163Z",
     "shell.execute_reply": "2022-03-09T16:26:17.820025Z"
    }
   },
   "outputs": [
    {
     "data": {
      "text/plain": [
       "['spoken_digits/free-spoken-digit-dataset-1.0.9/recordings/5_nicolas_32.wav',\n",
       " 'spoken_digits/free-spoken-digit-dataset-1.0.9/recordings/4_yweweler_42.wav',\n",
       " 'spoken_digits/free-spoken-digit-dataset-1.0.9/recordings/7_nicolas_14.wav']"
      ]
     },
     "execution_count": 4,
     "metadata": {},
     "output_type": "execute_result"
    }
   ],
   "source": [
    "DATA_PATH = \"spoken_digits/free-spoken-digit-dataset-1.0.9/recordings/\"\n",
    "\n",
    "# Get list of .wav file names\n",
    "file_paths = []\n",
    "for (dirpath, dirnames, filenames) in os.walk(DATA_PATH):\n",
    "    file_paths += [os.path.join(dirpath, file) for file in filenames if file.endswith(\".wav\")]\n",
    "\n",
    "# Check out first 3 files\n",
    "file_paths[:3]"
   ]
  },
  {
   "cell_type": "markdown",
   "metadata": {},
   "source": [
    "## **3. Use pre-trained audio classifier from Huggingface**"
   ]
  },
  {
   "cell_type": "markdown",
   "metadata": {},
   "source": [
    "Next, let's instantiate an audio feature extractor using the `EncoderClassifier()` class. Note that we pass in the name of the pre-trained model as an argument (\"speechbrain/spkrec-xvect-voxceleb\"). We will use a model that has been pre-trained on the [VoxCeleb](https://www.robots.ox.ac.uk/~vgg/data/voxceleb/) speech dataset."
   ]
  },
  {
   "cell_type": "code",
   "execution_count": 5,
   "metadata": {
    "execution": {
     "iopub.execute_input": "2022-03-09T16:26:17.826135Z",
     "iopub.status.busy": "2022-03-09T16:26:17.825659Z",
     "iopub.status.idle": "2022-03-09T16:26:21.859783Z",
     "shell.execute_reply": "2022-03-09T16:26:21.858911Z"
    }
   },
   "outputs": [
    {
     "data": {
      "application/vnd.jupyter.widget-view+json": {
       "model_id": "a2dbbe69d4a84825af59b9d3b5b1f135",
       "version_major": 2,
       "version_minor": 0
      },
      "text/plain": [
       "Downloading:   0%|          | 0.00/2.04k [00:00<?, ?B/s]"
      ]
     },
     "metadata": {},
     "output_type": "display_data"
    },
    {
     "data": {
      "application/vnd.jupyter.widget-view+json": {
       "model_id": "5c9647f8067541a79ff6993e783edfe1",
       "version_major": 2,
       "version_minor": 0
      },
      "text/plain": [
       "Downloading:   0%|          | 0.00/16.9M [00:00<?, ?B/s]"
      ]
     },
     "metadata": {},
     "output_type": "display_data"
    },
    {
     "data": {
      "application/vnd.jupyter.widget-view+json": {
       "model_id": "b76f8698377d4d0d9dcee107bdfb1018",
       "version_major": 2,
       "version_minor": 0
      },
      "text/plain": [
       "Downloading:   0%|          | 0.00/3.20k [00:00<?, ?B/s]"
      ]
     },
     "metadata": {},
     "output_type": "display_data"
    },
    {
     "data": {
      "application/vnd.jupyter.widget-view+json": {
       "model_id": "668bcf856ac44e11bc6f3cd8c97f77f0",
       "version_major": 2,
       "version_minor": 0
      },
      "text/plain": [
       "Downloading:   0%|          | 0.00/15.9M [00:00<?, ?B/s]"
      ]
     },
     "metadata": {},
     "output_type": "display_data"
    },
    {
     "data": {
      "application/vnd.jupyter.widget-view+json": {
       "model_id": "0eed79e92bcc4154baaf02de00a87307",
       "version_major": 2,
       "version_minor": 0
      },
      "text/plain": [
       "Downloading:   0%|          | 0.00/129k [00:00<?, ?B/s]"
      ]
     },
     "metadata": {},
     "output_type": "display_data"
    }
   ],
   "source": [
    "# Instantiate audio classifier\n",
    "feature_extractor = EncoderClassifier.from_hparams(\n",
    "  \"speechbrain/spkrec-xvect-voxceleb\",\n",
    "  # GPU is optional\n",
    "  # to enable GPU in Colab, go to: edit -> notebook settings -> choose GPU accelerator)\n",
    "  # run_opts={\"device\":\"cuda\"}\n",
    ")"
   ]
  },
  {
   "cell_type": "markdown",
   "metadata": {},
   "source": [
    "## **4. Explore the data by playing some audio clips**"
   ]
  },
  {
   "cell_type": "markdown",
   "metadata": {},
   "source": [
    "Before training the model, let's listen to some of the audio clips. \n",
    "\n",
    "We can use the utility function below to process the .wav file so we can listen to it in this code notebook."
   ]
  },
  {
   "cell_type": "code",
   "execution_count": 6,
   "metadata": {
    "execution": {
     "iopub.execute_input": "2022-03-09T16:26:21.864226Z",
     "iopub.status.busy": "2022-03-09T16:26:21.863810Z",
     "iopub.status.idle": "2022-03-09T16:26:21.869863Z",
     "shell.execute_reply": "2022-03-09T16:26:21.869136Z"
    }
   },
   "outputs": [],
   "source": [
    "# Utility function for loading audio files and making sure the sample rate is correct.\n",
    "@tf.function\n",
    "def load_wav_16k_mono(filename):\n",
    "    \"\"\" Load a WAV file, convert it to a float tensor, resample to 16 kHz single-channel audio. \"\"\"\n",
    "    file_contents = tf.io.read_file(filename)\n",
    "    wav, sample_rate = tf.audio.decode_wav(\n",
    "          file_contents,\n",
    "          desired_channels=1)\n",
    "    wav = tf.squeeze(wav, axis=-1)\n",
    "    sample_rate = tf.cast(sample_rate, dtype=tf.int64)\n",
    "    wav = tfio.audio.resample(wav, rate_in=sample_rate, rate_out=16000)\n",
    "    return wav"
   ]
  },
  {
   "cell_type": "markdown",
   "metadata": {},
   "source": [
    "Click the play button below to listen to the .wav file. \n",
    "\n",
    "Feel free to change the `wav_file_name_example` variable below to listen to other audio clips."
   ]
  },
  {
   "cell_type": "code",
   "execution_count": 7,
   "metadata": {
    "execution": {
     "iopub.execute_input": "2022-03-09T16:26:21.874021Z",
     "iopub.status.busy": "2022-03-09T16:26:21.873767Z",
     "iopub.status.idle": "2022-03-09T16:26:22.708425Z",
     "shell.execute_reply": "2022-03-09T16:26:22.707554Z"
    }
   },
   "outputs": [
    {
     "name": "stderr",
     "output_type": "stream",
     "text": [
      "2022-03-09 16:26:22.011755: W tensorflow_io/core/kernels/audio_video_mp3_kernels.cc:271] libmp3lame.so.0 or lame functions are not available\n",
      "2022-03-09 16:26:22.012167: I tensorflow_io/core/kernels/cpu_check.cc:128] Your CPU supports instructions that this TensorFlow IO binary was not compiled to use: AVX2 FMA\n"
     ]
    },
    {
     "name": "stdout",
     "output_type": "stream",
     "text": [
      "WARNING:tensorflow:Using a while_loop for converting IO>AudioResample\n"
     ]
    },
    {
     "name": "stderr",
     "output_type": "stream",
     "text": [
      "2022-03-09 16:26:22.397419: W tensorflow/stream_executor/platform/default/dso_loader.cc:64] Could not load dynamic library 'libcuda.so.1'; dlerror: libcuda.so.1: cannot open shared object file: No such file or directory; LD_LIBRARY_PATH: /opt/hostedtoolcache/Python/3.8.12/x64/lib\n",
      "2022-03-09 16:26:22.397472: W tensorflow/stream_executor/cuda/cuda_driver.cc:269] failed call to cuInit: UNKNOWN ERROR (303)\n",
      "2022-03-09 16:26:22.397504: I tensorflow/stream_executor/cuda/cuda_diagnostics.cc:156] kernel driver does not appear to be running on this host (fv-az203-432): /proc/driver/nvidia/version does not exist\n",
      "2022-03-09 16:26:22.397794: I tensorflow/core/platform/cpu_feature_guard.cc:151] This TensorFlow binary is optimized with oneAPI Deep Neural Network Library (oneDNN) to use the following CPU instructions in performance-critical operations:  AVX2 FMA\n",
      "To enable them in other operations, rebuild TensorFlow with the appropriate compiler flags.\n"
     ]
    },
    {
     "data": {
      "text/html": [
       "\n",
       "                <audio  controls=\"controls\" >\n",
       "                    <source src=\"data:audio/wav;base64,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\" type=\"audio/wav\" />\n",
       "                    Your browser does not support the audio element.\n",
       "                </audio>\n",
       "              "
      ],
      "text/plain": [
       "<IPython.lib.display.Audio object>"
      ]
     },
     "execution_count": 7,
     "metadata": {},
     "output_type": "execute_result"
    }
   ],
   "source": [
    "# Single .wav file example\n",
    "wav_file_name_example = \"spoken_digits/free-spoken-digit-dataset-1.0.9/recordings/7_jackson_43.wav\"\n",
    "\n",
    "wav_file_example = load_wav_16k_mono(wav_file_name_example)\n",
    "\n",
    "# Play the audio file.\n",
    "display.Audio(wav_file_example, rate=16000)"
   ]
  },
  {
   "cell_type": "markdown",
   "metadata": {},
   "source": [
    "## **5. Extract features from audio**"
   ]
  },
  {
   "cell_type": "markdown",
   "metadata": {},
   "source": [
    "Next, run below to use our pre-trained model to extract features (aka embeddings) from the audio clips."
   ]
  },
  {
   "cell_type": "code",
   "execution_count": 8,
   "metadata": {
    "execution": {
     "iopub.execute_input": "2022-03-09T16:26:22.714069Z",
     "iopub.status.busy": "2022-03-09T16:26:22.713778Z",
     "iopub.status.idle": "2022-03-09T16:26:22.750452Z",
     "shell.execute_reply": "2022-03-09T16:26:22.749623Z"
    }
   },
   "outputs": [
    {
     "data": {
      "text/html": [
       "<div>\n",
       "<style scoped>\n",
       "    .dataframe tbody tr th:only-of-type {\n",
       "        vertical-align: middle;\n",
       "    }\n",
       "\n",
       "    .dataframe tbody tr th {\n",
       "        vertical-align: top;\n",
       "    }\n",
       "\n",
       "    .dataframe thead th {\n",
       "        text-align: right;\n",
       "    }\n",
       "</style>\n",
       "<table border=\"1\" class=\"dataframe\">\n",
       "  <thead>\n",
       "    <tr style=\"text-align: right;\">\n",
       "      <th></th>\n",
       "      <th>wav_audio_file_path</th>\n",
       "      <th>label</th>\n",
       "    </tr>\n",
       "  </thead>\n",
       "  <tbody>\n",
       "    <tr>\n",
       "      <th>0</th>\n",
       "      <td>spoken_digits/free-spoken-digit-dataset-1.0.9/...</td>\n",
       "      <td>5</td>\n",
       "    </tr>\n",
       "    <tr>\n",
       "      <th>1</th>\n",
       "      <td>spoken_digits/free-spoken-digit-dataset-1.0.9/...</td>\n",
       "      <td>4</td>\n",
       "    </tr>\n",
       "    <tr>\n",
       "      <th>2</th>\n",
       "      <td>spoken_digits/free-spoken-digit-dataset-1.0.9/...</td>\n",
       "      <td>7</td>\n",
       "    </tr>\n",
       "  </tbody>\n",
       "</table>\n",
       "</div>"
      ],
      "text/plain": [
       "                                 wav_audio_file_path  label\n",
       "0  spoken_digits/free-spoken-digit-dataset-1.0.9/...      5\n",
       "1  spoken_digits/free-spoken-digit-dataset-1.0.9/...      4\n",
       "2  spoken_digits/free-spoken-digit-dataset-1.0.9/...      7"
      ]
     },
     "execution_count": 8,
     "metadata": {},
     "output_type": "execute_result"
    }
   ],
   "source": [
    "# Create dataframe with .wav file names\n",
    "df = pd.DataFrame(file_paths, columns=[\"wav_audio_file_path\"])\n",
    "df[\"label\"] = df.wav_audio_file_path.map(lambda x: int(Path(x).parts[-1].split(\"_\")[0]))\n",
    "\n",
    "df.head(3)"
   ]
  },
  {
   "cell_type": "code",
   "execution_count": 9,
   "metadata": {
    "execution": {
     "iopub.execute_input": "2022-03-09T16:26:22.754040Z",
     "iopub.status.busy": "2022-03-09T16:26:22.753805Z",
     "iopub.status.idle": "2022-03-09T16:26:22.759723Z",
     "shell.execute_reply": "2022-03-09T16:26:22.758921Z"
    }
   },
   "outputs": [],
   "source": [
    "# Feature extractor\n",
    "def extract_audio_embeddings(model, wav_audio_file_path: str) -> tuple:\n",
    "\n",
    "    # Transform audio file into a tensor\n",
    "    signal, fs = torchaudio.load(wav_audio_file_path)\n",
    "\n",
    "    # Extract features (aka embeddings)\n",
    "    embeddings = model.encode_batch(signal)\n",
    "\n",
    "    return embeddings"
   ]
  },
  {
   "cell_type": "code",
   "execution_count": 10,
   "metadata": {
    "execution": {
     "iopub.execute_input": "2022-03-09T16:26:22.763267Z",
     "iopub.status.busy": "2022-03-09T16:26:22.763007Z",
     "iopub.status.idle": "2022-03-09T16:26:42.021576Z",
     "shell.execute_reply": "2022-03-09T16:26:42.020777Z"
    }
   },
   "outputs": [],
   "source": [
    "# Extract audio embeddings\n",
    "embeddings_list = []\n",
    "for i, file_name in enumerate(df.wav_audio_file_path): # for each .wav file name\n",
    "    embeddings = extract_audio_embeddings(feature_extractor, file_name)\n",
    "    embeddings_list.append(embeddings.cpu().numpy())\n",
    "\n",
    "embeddings_array = np.squeeze(np.array(embeddings_list))"
   ]
  },
  {
   "cell_type": "markdown",
   "metadata": {},
   "source": [
    "Now we have our features in an array! \n",
    "\n",
    "Each row in the array corresponds to an audio clip. We're now able to represent an audio clip as a 512-dimensional feature vector!"
   ]
  },
  {
   "cell_type": "code",
   "execution_count": 11,
   "metadata": {
    "execution": {
     "iopub.execute_input": "2022-03-09T16:26:42.025479Z",
     "iopub.status.busy": "2022-03-09T16:26:42.025096Z",
     "iopub.status.idle": "2022-03-09T16:26:42.032934Z",
     "shell.execute_reply": "2022-03-09T16:26:42.032230Z"
    }
   },
   "outputs": [
    {
     "data": {
      "text/plain": [
       "(2500, 512)"
      ]
     },
     "execution_count": 11,
     "metadata": {},
     "output_type": "execute_result"
    }
   ],
   "source": [
    "embeddings_array.shape"
   ]
  },
  {
   "cell_type": "markdown",
   "metadata": {},
   "source": [
    "## **6. Train LightGBM model using Cross Validation to generate predicted probabilties**"
   ]
  },
  {
   "cell_type": "markdown",
   "metadata": {},
   "source": [
    "Run below to train a LightGBM model to generate cross-validated predicted probabilities.\n",
    "\n",
    "Note that we need to use the LightGBM `Dataset` class to make sure it is in the proper format for our `LGBMClassifier`."
   ]
  },
  {
   "cell_type": "code",
   "execution_count": 12,
   "metadata": {
    "execution": {
     "iopub.execute_input": "2022-03-09T16:26:42.036339Z",
     "iopub.status.busy": "2022-03-09T16:26:42.035978Z",
     "iopub.status.idle": "2022-03-09T16:26:42.040111Z",
     "shell.execute_reply": "2022-03-09T16:26:42.039366Z"
    }
   },
   "outputs": [],
   "source": [
    "data = lgb.Dataset(embeddings_array, label=df.label.values)"
   ]
  },
  {
   "cell_type": "markdown",
   "metadata": {},
   "source": [
    "For convenience, we can use the scikit-learn's `cross_val_predict` function to run k-fold cross-validation and generate cross-validated predicted probabilities.\n",
    "\n",
    "https://scikit-learn.org/stable/modules/generated/sklearn.model_selection.cross_val_predict.html\n",
    "\n",
    "This means that for each audio clip which belongs to a partition of the data (due to k-fold procedure), the predicted probabilities are scored by a model that was trained on the other partitions. This is also known as out-of-sample predictions."
   ]
  },
  {
   "cell_type": "code",
   "execution_count": 13,
   "metadata": {
    "execution": {
     "iopub.execute_input": "2022-03-09T16:26:42.043836Z",
     "iopub.status.busy": "2022-03-09T16:26:42.043457Z",
     "iopub.status.idle": "2022-03-09T16:30:19.934161Z",
     "shell.execute_reply": "2022-03-09T16:30:19.933188Z"
    }
   },
   "outputs": [],
   "source": [
    "%%capture\n",
    "\n",
    "model = lgb.LGBMClassifier(\n",
    "    n_estimators=1000,\n",
    "    eval_metric=\"multi_logloss\",\n",
    "    verbose=1,\n",
    ")\n",
    "\n",
    "# Generate cross-validated predicted probabilities for each input data point\n",
    "# Note: Cleanlab requires predictions to be out-of-sample (e.g. via cross-validation)\n",
    "cv_pred_probs = cross_val_predict(\n",
    "    estimator=model,\n",
    "    X=embeddings_array,\n",
    "    y=df.label.values,\n",
    "    cv=5,\n",
    "    method=\"predict_proba\"\n",
    ")"
   ]
  },
  {
   "cell_type": "code",
   "execution_count": 14,
   "metadata": {
    "execution": {
     "iopub.execute_input": "2022-03-09T16:30:19.939287Z",
     "iopub.status.busy": "2022-03-09T16:30:19.938505Z",
     "iopub.status.idle": "2022-03-09T16:30:19.944516Z",
     "shell.execute_reply": "2022-03-09T16:30:19.943695Z"
    }
   },
   "outputs": [
    {
     "data": {
      "text/plain": [
       "(2500, 10)"
      ]
     },
     "execution_count": 14,
     "metadata": {},
     "output_type": "execute_result"
    }
   ],
   "source": [
    "cv_pred_probs.shape"
   ]
  },
  {
   "cell_type": "markdown",
   "metadata": {},
   "source": [
    "Run below to get the cross-validation accuracy."
   ]
  },
  {
   "cell_type": "code",
   "execution_count": 15,
   "metadata": {
    "execution": {
     "iopub.execute_input": "2022-03-09T16:30:19.951973Z",
     "iopub.status.busy": "2022-03-09T16:30:19.951517Z",
     "iopub.status.idle": "2022-03-09T16:30:19.957602Z",
     "shell.execute_reply": "2022-03-09T16:30:19.956839Z"
    }
   },
   "outputs": [
    {
     "name": "stdout",
     "output_type": "stream",
     "text": [
      "Cross-Validation Accuracy: 0.9584\n"
     ]
    }
   ],
   "source": [
    "cv_accuracy = (cv_pred_probs.argmax(axis=1) == df.label.values).mean()\n",
    "\n",
    "print(f\"Cross-Validation Accuracy: {cv_accuracy}\")"
   ]
  },
  {
   "cell_type": "markdown",
   "metadata": {},
   "source": [
    "## **7. Run Cleanlab to find label errors**"
   ]
  },
  {
   "cell_type": "markdown",
   "metadata": {},
   "source": [
    "Now let's run Cleanlab to find label errors! \n",
    "\n",
    "Use the `get_noise_indices()` function below to get an ordered list of indices corresponding to the audio clips with potential label error."
   ]
  },
  {
   "cell_type": "code",
   "execution_count": 16,
   "metadata": {
    "execution": {
     "iopub.execute_input": "2022-03-09T16:30:19.961689Z",
     "iopub.status.busy": "2022-03-09T16:30:19.960817Z",
     "iopub.status.idle": "2022-03-09T16:30:20.052698Z",
     "shell.execute_reply": "2022-03-09T16:30:20.051568Z"
    }
   },
   "outputs": [],
   "source": [
    "# Generate an ordered list of indices corresponding to the audio clips with potential label error\n",
    "ordered_label_errors = cleanlab.pruning.get_noise_indices(\n",
    "    s=df.label.values,\n",
    "    psx=cv_pred_probs,\n",
    "    sorted_index_method=\"normalized_margin\", # Orders label errors\n",
    " )"
   ]
  },
  {
   "cell_type": "code",
   "execution_count": 17,
   "metadata": {
    "execution": {
     "iopub.execute_input": "2022-03-09T16:30:20.057632Z",
     "iopub.status.busy": "2022-03-09T16:30:20.057331Z",
     "iopub.status.idle": "2022-03-09T16:30:20.069176Z",
     "shell.execute_reply": "2022-03-09T16:30:20.068324Z"
    }
   },
   "outputs": [
    {
     "data": {
      "text/plain": [
       "array([ 231,  756, 1993,  212, 1624, 2269,  846, 1262,  580, 1899,  578,\n",
       "        516, 2053,  370, 1361])"
      ]
     },
     "execution_count": 17,
     "metadata": {},
     "output_type": "execute_result"
    }
   ],
   "source": [
    "ordered_label_errors"
   ]
  },
  {
   "cell_type": "markdown",
   "metadata": {},
   "source": [
    "Run below to get the candidates to inspect for label error."
   ]
  },
  {
   "cell_type": "code",
   "execution_count": 18,
   "metadata": {
    "execution": {
     "iopub.execute_input": "2022-03-09T16:30:20.073332Z",
     "iopub.status.busy": "2022-03-09T16:30:20.073062Z",
     "iopub.status.idle": "2022-03-09T16:30:20.088784Z",
     "shell.execute_reply": "2022-03-09T16:30:20.088059Z"
    }
   },
   "outputs": [
    {
     "name": "stdout",
     "output_type": "stream",
     "text": [
      "Candidates to inspect for label error\n"
     ]
    },
    {
     "data": {
      "text/html": [
       "<div>\n",
       "<style scoped>\n",
       "    .dataframe tbody tr th:only-of-type {\n",
       "        vertical-align: middle;\n",
       "    }\n",
       "\n",
       "    .dataframe tbody tr th {\n",
       "        vertical-align: top;\n",
       "    }\n",
       "\n",
       "    .dataframe thead th {\n",
       "        text-align: right;\n",
       "    }\n",
       "</style>\n",
       "<table border=\"1\" class=\"dataframe\">\n",
       "  <thead>\n",
       "    <tr style=\"text-align: right;\">\n",
       "      <th></th>\n",
       "      <th>wav_audio_file_path</th>\n",
       "      <th>label</th>\n",
       "    </tr>\n",
       "  </thead>\n",
       "  <tbody>\n",
       "    <tr>\n",
       "      <th>231</th>\n",
       "      <td>spoken_digits/free-spoken-digit-dataset-1.0.9/...</td>\n",
       "      <td>6</td>\n",
       "    </tr>\n",
       "    <tr>\n",
       "      <th>756</th>\n",
       "      <td>spoken_digits/free-spoken-digit-dataset-1.0.9/...</td>\n",
       "      <td>3</td>\n",
       "    </tr>\n",
       "    <tr>\n",
       "      <th>1993</th>\n",
       "      <td>spoken_digits/free-spoken-digit-dataset-1.0.9/...</td>\n",
       "      <td>0</td>\n",
       "    </tr>\n",
       "    <tr>\n",
       "      <th>212</th>\n",
       "      <td>spoken_digits/free-spoken-digit-dataset-1.0.9/...</td>\n",
       "      <td>6</td>\n",
       "    </tr>\n",
       "    <tr>\n",
       "      <th>1624</th>\n",
       "      <td>spoken_digits/free-spoken-digit-dataset-1.0.9/...</td>\n",
       "      <td>2</td>\n",
       "    </tr>\n",
       "    <tr>\n",
       "      <th>2269</th>\n",
       "      <td>spoken_digits/free-spoken-digit-dataset-1.0.9/...</td>\n",
       "      <td>2</td>\n",
       "    </tr>\n",
       "    <tr>\n",
       "      <th>846</th>\n",
       "      <td>spoken_digits/free-spoken-digit-dataset-1.0.9/...</td>\n",
       "      <td>9</td>\n",
       "    </tr>\n",
       "    <tr>\n",
       "      <th>1262</th>\n",
       "      <td>spoken_digits/free-spoken-digit-dataset-1.0.9/...</td>\n",
       "      <td>7</td>\n",
       "    </tr>\n",
       "    <tr>\n",
       "      <th>580</th>\n",
       "      <td>spoken_digits/free-spoken-digit-dataset-1.0.9/...</td>\n",
       "      <td>6</td>\n",
       "    </tr>\n",
       "    <tr>\n",
       "      <th>1899</th>\n",
       "      <td>spoken_digits/free-spoken-digit-dataset-1.0.9/...</td>\n",
       "      <td>1</td>\n",
       "    </tr>\n",
       "    <tr>\n",
       "      <th>578</th>\n",
       "      <td>spoken_digits/free-spoken-digit-dataset-1.0.9/...</td>\n",
       "      <td>2</td>\n",
       "    </tr>\n",
       "    <tr>\n",
       "      <th>516</th>\n",
       "      <td>spoken_digits/free-spoken-digit-dataset-1.0.9/...</td>\n",
       "      <td>3</td>\n",
       "    </tr>\n",
       "    <tr>\n",
       "      <th>2053</th>\n",
       "      <td>spoken_digits/free-spoken-digit-dataset-1.0.9/...</td>\n",
       "      <td>6</td>\n",
       "    </tr>\n",
       "    <tr>\n",
       "      <th>370</th>\n",
       "      <td>spoken_digits/free-spoken-digit-dataset-1.0.9/...</td>\n",
       "      <td>4</td>\n",
       "    </tr>\n",
       "    <tr>\n",
       "      <th>1361</th>\n",
       "      <td>spoken_digits/free-spoken-digit-dataset-1.0.9/...</td>\n",
       "      <td>1</td>\n",
       "    </tr>\n",
       "  </tbody>\n",
       "</table>\n",
       "</div>"
      ],
      "text/plain": [
       "                                    wav_audio_file_path  label\n",
       "231   spoken_digits/free-spoken-digit-dataset-1.0.9/...      6\n",
       "756   spoken_digits/free-spoken-digit-dataset-1.0.9/...      3\n",
       "1993  spoken_digits/free-spoken-digit-dataset-1.0.9/...      0\n",
       "212   spoken_digits/free-spoken-digit-dataset-1.0.9/...      6\n",
       "1624  spoken_digits/free-spoken-digit-dataset-1.0.9/...      2\n",
       "2269  spoken_digits/free-spoken-digit-dataset-1.0.9/...      2\n",
       "846   spoken_digits/free-spoken-digit-dataset-1.0.9/...      9\n",
       "1262  spoken_digits/free-spoken-digit-dataset-1.0.9/...      7\n",
       "580   spoken_digits/free-spoken-digit-dataset-1.0.9/...      6\n",
       "1899  spoken_digits/free-spoken-digit-dataset-1.0.9/...      1\n",
       "578   spoken_digits/free-spoken-digit-dataset-1.0.9/...      2\n",
       "516   spoken_digits/free-spoken-digit-dataset-1.0.9/...      3\n",
       "2053  spoken_digits/free-spoken-digit-dataset-1.0.9/...      6\n",
       "370   spoken_digits/free-spoken-digit-dataset-1.0.9/...      4\n",
       "1361  spoken_digits/free-spoken-digit-dataset-1.0.9/...      1"
      ]
     },
     "execution_count": 18,
     "metadata": {},
     "output_type": "execute_result"
    }
   ],
   "source": [
    "print(\"Candidates to inspect for label error\")\n",
    "df.iloc[ordered_label_errors]"
   ]
  },
  {
   "cell_type": "markdown",
   "metadata": {},
   "source": [
    "## **8. Listen to these examples of label errors that were found**"
   ]
  },
  {
   "cell_type": "markdown",
   "metadata": {},
   "source": [
    "After inspecting the list of candidates, you should find that there are indeed label errors. \n",
    "\n",
    "Listen to the audio clips below of label errors that were found."
   ]
  },
  {
   "cell_type": "markdown",
   "metadata": {},
   "source": [
    "Given label is the digit **6** but sounds more like **8**"
   ]
  },
  {
   "cell_type": "code",
   "execution_count": 19,
   "metadata": {
    "execution": {
     "iopub.execute_input": "2022-03-09T16:30:20.093870Z",
     "iopub.status.busy": "2022-03-09T16:30:20.093165Z",
     "iopub.status.idle": "2022-03-09T16:30:20.317538Z",
     "shell.execute_reply": "2022-03-09T16:30:20.316693Z"
    }
   },
   "outputs": [
    {
     "name": "stdout",
     "output_type": "stream",
     "text": [
      "WARNING:tensorflow:Using a while_loop for converting IO>AudioResample\n"
     ]
    },
    {
     "data": {
      "text/html": [
       "\n",
       "                <audio  controls=\"controls\" >\n",
       "                    <source src=\"data:audio/wav;base64,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\" type=\"audio/wav\" />\n",
       "                    Your browser does not support the audio element.\n",
       "                </audio>\n",
       "              "
      ],
      "text/plain": [
       "<IPython.lib.display.Audio object>"
      ]
     },
     "execution_count": 19,
     "metadata": {},
     "output_type": "execute_result"
    }
   ],
   "source": [
    "# Single .wav file example\n",
    "wav_file_name_example = \"spoken_digits/free-spoken-digit-dataset-1.0.9/recordings/6_yweweler_14.wav\"\n",
    "wav_file_example = load_wav_16k_mono(wav_file_name_example)\n",
    "\n",
    "# Play the audio file.\n",
    "display.Audio(wav_file_example, rate=16000)"
   ]
  },
  {
   "cell_type": "markdown",
   "metadata": {},
   "source": [
    "Given label is the digit **7** but sounds more like **0**"
   ]
  },
  {
   "cell_type": "code",
   "execution_count": 20,
   "metadata": {
    "execution": {
     "iopub.execute_input": "2022-03-09T16:30:20.320921Z",
     "iopub.status.busy": "2022-03-09T16:30:20.320681Z",
     "iopub.status.idle": "2022-03-09T16:30:20.527791Z",
     "shell.execute_reply": "2022-03-09T16:30:20.526982Z"
    }
   },
   "outputs": [
    {
     "name": "stdout",
     "output_type": "stream",
     "text": [
      "WARNING:tensorflow:Using a while_loop for converting IO>AudioResample\n"
     ]
    },
    {
     "data": {
      "text/html": [
       "\n",
       "                <audio  controls=\"controls\" >\n",
       "                    <source src=\"data:audio/wav;base64,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\" type=\"audio/wav\" />\n",
       "                    Your browser does not support the audio element.\n",
       "                </audio>\n",
       "              "
      ],
      "text/plain": [
       "<IPython.lib.display.Audio object>"
      ]
     },
     "execution_count": 20,
     "metadata": {},
     "output_type": "execute_result"
    }
   ],
   "source": [
    "# Single .wav file example\n",
    "wav_file_name_example = \"spoken_digits/free-spoken-digit-dataset-1.0.9/recordings/7_nicolas_43.wav\"\n",
    "wav_file_example = load_wav_16k_mono(wav_file_name_example)\n",
    "\n",
    "# Play the audio file.\n",
    "display.Audio(wav_file_example, rate=16000)"
   ]
  }
 ],
 "metadata": {
  "accelerator": "GPU",
  "colab": {
   "authorship_tag": "ABX9TyP8a9VCMIkIg0QdNzlXS49a",
   "collapsed_sections": [],
   "name": "Cleanlab_Tutorial_Audio_Classification.ipynb",
   "provenance": []
  },
  "kernelspec": {
   "display_name": "Python 3",
   "name": "python3"
  },
  "language_info": {
   "codemirror_mode": {
    "name": "ipython",
    "version": 3
   },
   "file_extension": ".py",
   "mimetype": "text/x-python",
   "name": "python",
   "nbconvert_exporter": "python",
   "pygments_lexer": "ipython3",
   "version": "3.8.12"
  },
  "widgets": {
   "application/vnd.jupyter.widget-state+json": {
    "state": {
     "0245844fee634040adebb9544805d1ab": {
      "model_module": "@jupyter-widgets/controls",
      "model_module_version": "1.5.0",
      "model_name": "ProgressStyleModel",
      "state": {
       "_model_module": "@jupyter-widgets/controls",
       "_model_module_version": "1.5.0",
       "_model_name": "ProgressStyleModel",
       "_view_count": null,
       "_view_module": "@jupyter-widgets/base",
       "_view_module_version": "1.2.0",
       "_view_name": "StyleView",
       "bar_color": null,
       "description_width": ""
      }
     },
     "099f38d012d7434eab1974902be25773": {
      "model_module": "@jupyter-widgets/base",
      "model_module_version": "1.2.0",
      "model_name": "LayoutModel",
      "state": {
       "_model_module": "@jupyter-widgets/base",
       "_model_module_version": "1.2.0",
       "_model_name": "LayoutModel",
       "_view_count": null,
       "_view_module": "@jupyter-widgets/base",
       "_view_module_version": "1.2.0",
       "_view_name": "LayoutView",
       "align_content": null,
       "align_items": null,
       "align_self": null,
       "border": null,
       "bottom": null,
       "display": null,
       "flex": null,
       "flex_flow": null,
       "grid_area": null,
       "grid_auto_columns": null,
       "grid_auto_flow": null,
       "grid_auto_rows": null,
       "grid_column": null,
       "grid_gap": null,
       "grid_row": null,
       "grid_template_areas": null,
       "grid_template_columns": null,
       "grid_template_rows": null,
       "height": null,
       "justify_content": null,
       "justify_items": null,
       "left": null,
       "margin": null,
       "max_height": null,
       "max_width": null,
       "min_height": null,
       "min_width": null,
       "object_fit": null,
       "object_position": null,
       "order": null,
       "overflow": null,
       "overflow_x": null,
       "overflow_y": null,
       "padding": null,
       "right": null,
       "top": null,
       "visibility": null,
       "width": null
      }
     },
     "0a9053ec6eb246c59139c81f71927738": {
      "model_module": "@jupyter-widgets/controls",
      "model_module_version": "1.5.0",
      "model_name": "ProgressStyleModel",
      "state": {
       "_model_module": "@jupyter-widgets/controls",
       "_model_module_version": "1.5.0",
       "_model_name": "ProgressStyleModel",
       "_view_count": null,
       "_view_module": "@jupyter-widgets/base",
       "_view_module_version": "1.2.0",
       "_view_name": "StyleView",
       "bar_color": null,
       "description_width": ""
      }
     },
     "0cbf1d88908d40a4b96b01f8d5ac10a3": {
      "model_module": "@jupyter-widgets/controls",
      "model_module_version": "1.5.0",
      "model_name": "DescriptionStyleModel",
      "state": {
       "_model_module": "@jupyter-widgets/controls",
       "_model_module_version": "1.5.0",
       "_model_name": "DescriptionStyleModel",
       "_view_count": null,
       "_view_module": "@jupyter-widgets/base",
       "_view_module_version": "1.2.0",
       "_view_name": "StyleView",
       "description_width": ""
      }
     },
     "0eed79e92bcc4154baaf02de00a87307": {
      "model_module": "@jupyter-widgets/controls",
      "model_module_version": "1.5.0",
      "model_name": "HBoxModel",
      "state": {
       "_dom_classes": [],
       "_model_module": "@jupyter-widgets/controls",
       "_model_module_version": "1.5.0",
       "_model_name": "HBoxModel",
       "_view_count": null,
       "_view_module": "@jupyter-widgets/controls",
       "_view_module_version": "1.5.0",
       "_view_name": "HBoxView",
       "box_style": "",
       "children": [
        "IPY_MODEL_dab90d07f69e45a197a0ab80ce711667",
        "IPY_MODEL_5d03172d332b4651a071f7b244c42dab",
        "IPY_MODEL_7cbdf821d9a143f3ab466d704eb6818a"
       ],
       "layout": "IPY_MODEL_4d5b9d833b394b59b6077f0df17fe7e3"
      }
     },
     "177ac95312464b2996ecd90fc218be68": {
      "model_module": "@jupyter-widgets/base",
      "model_module_version": "1.2.0",
      "model_name": "LayoutModel",
      "state": {
       "_model_module": "@jupyter-widgets/base",
       "_model_module_version": "1.2.0",
       "_model_name": "LayoutModel",
       "_view_count": null,
       "_view_module": "@jupyter-widgets/base",
       "_view_module_version": "1.2.0",
       "_view_name": "LayoutView",
       "align_content": null,
       "align_items": null,
       "align_self": null,
       "border": null,
       "bottom": null,
       "display": null,
       "flex": null,
       "flex_flow": null,
       "grid_area": null,
       "grid_auto_columns": null,
       "grid_auto_flow": null,
       "grid_auto_rows": null,
       "grid_column": null,
       "grid_gap": null,
       "grid_row": null,
       "grid_template_areas": null,
       "grid_template_columns": null,
       "grid_template_rows": null,
       "height": null,
       "justify_content": null,
       "justify_items": null,
       "left": null,
       "margin": null,
       "max_height": null,
       "max_width": null,
       "min_height": null,
       "min_width": null,
       "object_fit": null,
       "object_position": null,
       "order": null,
       "overflow": null,
       "overflow_x": null,
       "overflow_y": null,
       "padding": null,
       "right": null,
       "top": null,
       "visibility": null,
       "width": null
      }
     },
     "18b710cce89443039e2678b607031613": {
      "model_module": "@jupyter-widgets/base",
      "model_module_version": "1.2.0",
      "model_name": "LayoutModel",
      "state": {
       "_model_module": "@jupyter-widgets/base",
       "_model_module_version": "1.2.0",
       "_model_name": "LayoutModel",
       "_view_count": null,
       "_view_module": "@jupyter-widgets/base",
       "_view_module_version": "1.2.0",
       "_view_name": "LayoutView",
       "align_content": null,
       "align_items": null,
       "align_self": null,
       "border": null,
       "bottom": null,
       "display": null,
       "flex": null,
       "flex_flow": null,
       "grid_area": null,
       "grid_auto_columns": null,
       "grid_auto_flow": null,
       "grid_auto_rows": null,
       "grid_column": null,
       "grid_gap": null,
       "grid_row": null,
       "grid_template_areas": null,
       "grid_template_columns": null,
       "grid_template_rows": null,
       "height": null,
       "justify_content": null,
       "justify_items": null,
       "left": null,
       "margin": null,
       "max_height": null,
       "max_width": null,
       "min_height": null,
       "min_width": null,
       "object_fit": null,
       "object_position": null,
       "order": null,
       "overflow": null,
       "overflow_x": null,
       "overflow_y": null,
       "padding": null,
       "right": null,
       "top": null,
       "visibility": null,
       "width": null
      }
     },
     "25cd9c9ad08245e48aed60343bb1d0fa": {
      "model_module": "@jupyter-widgets/base",
      "model_module_version": "1.2.0",
      "model_name": "LayoutModel",
      "state": {
       "_model_module": "@jupyter-widgets/base",
       "_model_module_version": "1.2.0",
       "_model_name": "LayoutModel",
       "_view_count": null,
       "_view_module": "@jupyter-widgets/base",
       "_view_module_version": "1.2.0",
       "_view_name": "LayoutView",
       "align_content": null,
       "align_items": null,
       "align_self": null,
       "border": null,
       "bottom": null,
       "display": null,
       "flex": null,
       "flex_flow": null,
       "grid_area": null,
       "grid_auto_columns": null,
       "grid_auto_flow": null,
       "grid_auto_rows": null,
       "grid_column": null,
       "grid_gap": null,
       "grid_row": null,
       "grid_template_areas": null,
       "grid_template_columns": null,
       "grid_template_rows": null,
       "height": null,
       "justify_content": null,
       "justify_items": null,
       "left": null,
       "margin": null,
       "max_height": null,
       "max_width": null,
       "min_height": null,
       "min_width": null,
       "object_fit": null,
       "object_position": null,
       "order": null,
       "overflow": null,
       "overflow_x": null,
       "overflow_y": null,
       "padding": null,
       "right": null,
       "top": null,
       "visibility": null,
       "width": null
      }
     },
     "31da9d6a42e340aa9a5a1e51bfcd5676": {
      "model_module": "@jupyter-widgets/base",
      "model_module_version": "1.2.0",
      "model_name": "LayoutModel",
      "state": {
       "_model_module": "@jupyter-widgets/base",
       "_model_module_version": "1.2.0",
       "_model_name": "LayoutModel",
       "_view_count": null,
       "_view_module": "@jupyter-widgets/base",
       "_view_module_version": "1.2.0",
       "_view_name": "LayoutView",
       "align_content": null,
       "align_items": null,
       "align_self": null,
       "border": null,
       "bottom": null,
       "display": null,
       "flex": null,
       "flex_flow": null,
       "grid_area": null,
       "grid_auto_columns": null,
       "grid_auto_flow": null,
       "grid_auto_rows": null,
       "grid_column": null,
       "grid_gap": null,
       "grid_row": null,
       "grid_template_areas": null,
       "grid_template_columns": null,
       "grid_template_rows": null,
       "height": null,
       "justify_content": null,
       "justify_items": null,
       "left": null,
       "margin": null,
       "max_height": null,
       "max_width": null,
       "min_height": null,
       "min_width": null,
       "object_fit": null,
       "object_position": null,
       "order": null,
       "overflow": null,
       "overflow_x": null,
       "overflow_y": null,
       "padding": null,
       "right": null,
       "top": null,
       "visibility": null,
       "width": null
      }
     },
     "3614e5934dde4c7c87c082cd7a2354d7": {
      "model_module": "@jupyter-widgets/controls",
      "model_module_version": "1.5.0",
      "model_name": "HTMLModel",
      "state": {
       "_dom_classes": [],
       "_model_module": "@jupyter-widgets/controls",
       "_model_module_version": "1.5.0",
       "_model_name": "HTMLModel",
       "_view_count": null,
       "_view_module": "@jupyter-widgets/controls",
       "_view_module_version": "1.5.0",
       "_view_name": "HTMLView",
       "description": "",
       "description_tooltip": null,
       "layout": "IPY_MODEL_25cd9c9ad08245e48aed60343bb1d0fa",
       "placeholder": "​",
       "style": "IPY_MODEL_6428e03f60934166ada00ded0c9b1bb5",
       "value": "Downloading: 100%"
      }
     },
     "3aa66a00c0444be6b28c138b036c2ee1": {
      "model_module": "@jupyter-widgets/base",
      "model_module_version": "1.2.0",
      "model_name": "LayoutModel",
      "state": {
       "_model_module": "@jupyter-widgets/base",
       "_model_module_version": "1.2.0",
       "_model_name": "LayoutModel",
       "_view_count": null,
       "_view_module": "@jupyter-widgets/base",
       "_view_module_version": "1.2.0",
       "_view_name": "LayoutView",
       "align_content": null,
       "align_items": null,
       "align_self": null,
       "border": null,
       "bottom": null,
       "display": null,
       "flex": null,
       "flex_flow": null,
       "grid_area": null,
       "grid_auto_columns": null,
       "grid_auto_flow": null,
       "grid_auto_rows": null,
       "grid_column": null,
       "grid_gap": null,
       "grid_row": null,
       "grid_template_areas": null,
       "grid_template_columns": null,
       "grid_template_rows": null,
       "height": null,
       "justify_content": null,
       "justify_items": null,
       "left": null,
       "margin": null,
       "max_height": null,
       "max_width": null,
       "min_height": null,
       "min_width": null,
       "object_fit": null,
       "object_position": null,
       "order": null,
       "overflow": null,
       "overflow_x": null,
       "overflow_y": null,
       "padding": null,
       "right": null,
       "top": null,
       "visibility": null,
       "width": null
      }
     },
     "418e60cac6d04c0da30ff8a73cbfe3aa": {
      "model_module": "@jupyter-widgets/base",
      "model_module_version": "1.2.0",
      "model_name": "LayoutModel",
      "state": {
       "_model_module": "@jupyter-widgets/base",
       "_model_module_version": "1.2.0",
       "_model_name": "LayoutModel",
       "_view_count": null,
       "_view_module": "@jupyter-widgets/base",
       "_view_module_version": "1.2.0",
       "_view_name": "LayoutView",
       "align_content": null,
       "align_items": null,
       "align_self": null,
       "border": null,
       "bottom": null,
       "display": null,
       "flex": null,
       "flex_flow": null,
       "grid_area": null,
       "grid_auto_columns": null,
       "grid_auto_flow": null,
       "grid_auto_rows": null,
       "grid_column": null,
       "grid_gap": null,
       "grid_row": null,
       "grid_template_areas": null,
       "grid_template_columns": null,
       "grid_template_rows": null,
       "height": null,
       "justify_content": null,
       "justify_items": null,
       "left": null,
       "margin": null,
       "max_height": null,
       "max_width": null,
       "min_height": null,
       "min_width": null,
       "object_fit": null,
       "object_position": null,
       "order": null,
       "overflow": null,
       "overflow_x": null,
       "overflow_y": null,
       "padding": null,
       "right": null,
       "top": null,
       "visibility": null,
       "width": null
      }
     },
     "496fddf1926247eb80ab12241287cc95": {
      "model_module": "@jupyter-widgets/controls",
      "model_module_version": "1.5.0",
      "model_name": "DescriptionStyleModel",
      "state": {
       "_model_module": "@jupyter-widgets/controls",
       "_model_module_version": "1.5.0",
       "_model_name": "DescriptionStyleModel",
       "_view_count": null,
       "_view_module": "@jupyter-widgets/base",
       "_view_module_version": "1.2.0",
       "_view_name": "StyleView",
       "description_width": ""
      }
     },
     "4c0491ed17cd432198661f5c593772c4": {
      "model_module": "@jupyter-widgets/base",
      "model_module_version": "1.2.0",
      "model_name": "LayoutModel",
      "state": {
       "_model_module": "@jupyter-widgets/base",
       "_model_module_version": "1.2.0",
       "_model_name": "LayoutModel",
       "_view_count": null,
       "_view_module": "@jupyter-widgets/base",
       "_view_module_version": "1.2.0",
       "_view_name": "LayoutView",
       "align_content": null,
       "align_items": null,
       "align_self": null,
       "border": null,
       "bottom": null,
       "display": null,
       "flex": null,
       "flex_flow": null,
       "grid_area": null,
       "grid_auto_columns": null,
       "grid_auto_flow": null,
       "grid_auto_rows": null,
       "grid_column": null,
       "grid_gap": null,
       "grid_row": null,
       "grid_template_areas": null,
       "grid_template_columns": null,
       "grid_template_rows": null,
       "height": null,
       "justify_content": null,
       "justify_items": null,
       "left": null,
       "margin": null,
       "max_height": null,
       "max_width": null,
       "min_height": null,
       "min_width": null,
       "object_fit": null,
       "object_position": null,
       "order": null,
       "overflow": null,
       "overflow_x": null,
       "overflow_y": null,
       "padding": null,
       "right": null,
       "top": null,
       "visibility": null,
       "width": null
      }
     },
     "4d5b9d833b394b59b6077f0df17fe7e3": {
      "model_module": "@jupyter-widgets/base",
      "model_module_version": "1.2.0",
      "model_name": "LayoutModel",
      "state": {
       "_model_module": "@jupyter-widgets/base",
       "_model_module_version": "1.2.0",
       "_model_name": "LayoutModel",
       "_view_count": null,
       "_view_module": "@jupyter-widgets/base",
       "_view_module_version": "1.2.0",
       "_view_name": "LayoutView",
       "align_content": null,
       "align_items": null,
       "align_self": null,
       "border": null,
       "bottom": null,
       "display": null,
       "flex": null,
       "flex_flow": null,
       "grid_area": null,
       "grid_auto_columns": null,
       "grid_auto_flow": null,
       "grid_auto_rows": null,
       "grid_column": null,
       "grid_gap": null,
       "grid_row": null,
       "grid_template_areas": null,
       "grid_template_columns": null,
       "grid_template_rows": null,
       "height": null,
       "justify_content": null,
       "justify_items": null,
       "left": null,
       "margin": null,
       "max_height": null,
       "max_width": null,
       "min_height": null,
       "min_width": null,
       "object_fit": null,
       "object_position": null,
       "order": null,
       "overflow": null,
       "overflow_x": null,
       "overflow_y": null,
       "padding": null,
       "right": null,
       "top": null,
       "visibility": null,
       "width": null
      }
     },
     "53c6045cb3ff42dcadbfd8a91e721da0": {
      "model_module": "@jupyter-widgets/base",
      "model_module_version": "1.2.0",
      "model_name": "LayoutModel",
      "state": {
       "_model_module": "@jupyter-widgets/base",
       "_model_module_version": "1.2.0",
       "_model_name": "LayoutModel",
       "_view_count": null,
       "_view_module": "@jupyter-widgets/base",
       "_view_module_version": "1.2.0",
       "_view_name": "LayoutView",
       "align_content": null,
       "align_items": null,
       "align_self": null,
       "border": null,
       "bottom": null,
       "display": null,
       "flex": null,
       "flex_flow": null,
       "grid_area": null,
       "grid_auto_columns": null,
       "grid_auto_flow": null,
       "grid_auto_rows": null,
       "grid_column": null,
       "grid_gap": null,
       "grid_row": null,
       "grid_template_areas": null,
       "grid_template_columns": null,
       "grid_template_rows": null,
       "height": null,
       "justify_content": null,
       "justify_items": null,
       "left": null,
       "margin": null,
       "max_height": null,
       "max_width": null,
       "min_height": null,
       "min_width": null,
       "object_fit": null,
       "object_position": null,
       "order": null,
       "overflow": null,
       "overflow_x": null,
       "overflow_y": null,
       "padding": null,
       "right": null,
       "top": null,
       "visibility": null,
       "width": null
      }
     },
     "5922f93876114f0f9e42de2b17439e42": {
      "model_module": "@jupyter-widgets/base",
      "model_module_version": "1.2.0",
      "model_name": "LayoutModel",
      "state": {
       "_model_module": "@jupyter-widgets/base",
       "_model_module_version": "1.2.0",
       "_model_name": "LayoutModel",
       "_view_count": null,
       "_view_module": "@jupyter-widgets/base",
       "_view_module_version": "1.2.0",
       "_view_name": "LayoutView",
       "align_content": null,
       "align_items": null,
       "align_self": null,
       "border": null,
       "bottom": null,
       "display": null,
       "flex": null,
       "flex_flow": null,
       "grid_area": null,
       "grid_auto_columns": null,
       "grid_auto_flow": null,
       "grid_auto_rows": null,
       "grid_column": null,
       "grid_gap": null,
       "grid_row": null,
       "grid_template_areas": null,
       "grid_template_columns": null,
       "grid_template_rows": null,
       "height": null,
       "justify_content": null,
       "justify_items": null,
       "left": null,
       "margin": null,
       "max_height": null,
       "max_width": null,
       "min_height": null,
       "min_width": null,
       "object_fit": null,
       "object_position": null,
       "order": null,
       "overflow": null,
       "overflow_x": null,
       "overflow_y": null,
       "padding": null,
       "right": null,
       "top": null,
       "visibility": null,
       "width": null
      }
     },
     "5c9647f8067541a79ff6993e783edfe1": {
      "model_module": "@jupyter-widgets/controls",
      "model_module_version": "1.5.0",
      "model_name": "HBoxModel",
      "state": {
       "_dom_classes": [],
       "_model_module": "@jupyter-widgets/controls",
       "_model_module_version": "1.5.0",
       "_model_name": "HBoxModel",
       "_view_count": null,
       "_view_module": "@jupyter-widgets/controls",
       "_view_module_version": "1.5.0",
       "_view_name": "HBoxView",
       "box_style": "",
       "children": [
        "IPY_MODEL_f37e9c9560a54ce88016480ebf6a10d5",
        "IPY_MODEL_8e1c60d89db6454e962a74483f708ea0",
        "IPY_MODEL_d43b13900ad3424ea8378514ffa79b75"
       ],
       "layout": "IPY_MODEL_5d780ab76b334160966530be736b7a1d"
      }
     },
     "5d03172d332b4651a071f7b244c42dab": {
      "model_module": "@jupyter-widgets/controls",
      "model_module_version": "1.5.0",
      "model_name": "FloatProgressModel",
      "state": {
       "_dom_classes": [],
       "_model_module": "@jupyter-widgets/controls",
       "_model_module_version": "1.5.0",
       "_model_name": "FloatProgressModel",
       "_view_count": null,
       "_view_module": "@jupyter-widgets/controls",
       "_view_module_version": "1.5.0",
       "_view_name": "ProgressView",
       "bar_style": "success",
       "description": "",
       "description_tooltip": null,
       "layout": "IPY_MODEL_cb501b98c83c403b95c0102abc8b6e3d",
       "max": 128619.0,
       "min": 0.0,
       "orientation": "horizontal",
       "style": "IPY_MODEL_a4311aad0ac5419db6e4117d5ae5e978",
       "value": 128619.0
      }
     },
     "5d780ab76b334160966530be736b7a1d": {
      "model_module": "@jupyter-widgets/base",
      "model_module_version": "1.2.0",
      "model_name": "LayoutModel",
      "state": {
       "_model_module": "@jupyter-widgets/base",
       "_model_module_version": "1.2.0",
       "_model_name": "LayoutModel",
       "_view_count": null,
       "_view_module": "@jupyter-widgets/base",
       "_view_module_version": "1.2.0",
       "_view_name": "LayoutView",
       "align_content": null,
       "align_items": null,
       "align_self": null,
       "border": null,
       "bottom": null,
       "display": null,
       "flex": null,
       "flex_flow": null,
       "grid_area": null,
       "grid_auto_columns": null,
       "grid_auto_flow": null,
       "grid_auto_rows": null,
       "grid_column": null,
       "grid_gap": null,
       "grid_row": null,
       "grid_template_areas": null,
       "grid_template_columns": null,
       "grid_template_rows": null,
       "height": null,
       "justify_content": null,
       "justify_items": null,
       "left": null,
       "margin": null,
       "max_height": null,
       "max_width": null,
       "min_height": null,
       "min_width": null,
       "object_fit": null,
       "object_position": null,
       "order": null,
       "overflow": null,
       "overflow_x": null,
       "overflow_y": null,
       "padding": null,
       "right": null,
       "top": null,
       "visibility": null,
       "width": null
      }
     },
     "6428e03f60934166ada00ded0c9b1bb5": {
      "model_module": "@jupyter-widgets/controls",
      "model_module_version": "1.5.0",
      "model_name": "DescriptionStyleModel",
      "state": {
       "_model_module": "@jupyter-widgets/controls",
       "_model_module_version": "1.5.0",
       "_model_name": "DescriptionStyleModel",
       "_view_count": null,
       "_view_module": "@jupyter-widgets/base",
       "_view_module_version": "1.2.0",
       "_view_name": "StyleView",
       "description_width": ""
      }
     },
     "668bcf856ac44e11bc6f3cd8c97f77f0": {
      "model_module": "@jupyter-widgets/controls",
      "model_module_version": "1.5.0",
      "model_name": "HBoxModel",
      "state": {
       "_dom_classes": [],
       "_model_module": "@jupyter-widgets/controls",
       "_model_module_version": "1.5.0",
       "_model_name": "HBoxModel",
       "_view_count": null,
       "_view_module": "@jupyter-widgets/controls",
       "_view_module_version": "1.5.0",
       "_view_name": "HBoxView",
       "box_style": "",
       "children": [
        "IPY_MODEL_9ef79cfe5aa74789b6f22ac736121a4e",
        "IPY_MODEL_c8a51b8e4fdb4a899367c45d8f9a68d3",
        "IPY_MODEL_d5fd5cb8dfd04351b78dad5c18617160"
       ],
       "layout": "IPY_MODEL_87afc378a2294e09a55a47e16987a203"
      }
     },
     "675334711c30401fbb178640453b2569": {
      "model_module": "@jupyter-widgets/controls",
      "model_module_version": "1.5.0",
      "model_name": "ProgressStyleModel",
      "state": {
       "_model_module": "@jupyter-widgets/controls",
       "_model_module_version": "1.5.0",
       "_model_name": "ProgressStyleModel",
       "_view_count": null,
       "_view_module": "@jupyter-widgets/base",
       "_view_module_version": "1.2.0",
       "_view_name": "StyleView",
       "bar_color": null,
       "description_width": ""
      }
     },
     "6c594777fcfb4ae5a228691a58aa1bd5": {
      "model_module": "@jupyter-widgets/base",
      "model_module_version": "1.2.0",
      "model_name": "LayoutModel",
      "state": {
       "_model_module": "@jupyter-widgets/base",
       "_model_module_version": "1.2.0",
       "_model_name": "LayoutModel",
       "_view_count": null,
       "_view_module": "@jupyter-widgets/base",
       "_view_module_version": "1.2.0",
       "_view_name": "LayoutView",
       "align_content": null,
       "align_items": null,
       "align_self": null,
       "border": null,
       "bottom": null,
       "display": null,
       "flex": null,
       "flex_flow": null,
       "grid_area": null,
       "grid_auto_columns": null,
       "grid_auto_flow": null,
       "grid_auto_rows": null,
       "grid_column": null,
       "grid_gap": null,
       "grid_row": null,
       "grid_template_areas": null,
       "grid_template_columns": null,
       "grid_template_rows": null,
       "height": null,
       "justify_content": null,
       "justify_items": null,
       "left": null,
       "margin": null,
       "max_height": null,
       "max_width": null,
       "min_height": null,
       "min_width": null,
       "object_fit": null,
       "object_position": null,
       "order": null,
       "overflow": null,
       "overflow_x": null,
       "overflow_y": null,
       "padding": null,
       "right": null,
       "top": null,
       "visibility": null,
       "width": null
      }
     },
     "71887e09ab124a9c9e69bd725cfd742d": {
      "model_module": "@jupyter-widgets/controls",
      "model_module_version": "1.5.0",
      "model_name": "DescriptionStyleModel",
      "state": {
       "_model_module": "@jupyter-widgets/controls",
       "_model_module_version": "1.5.0",
       "_model_name": "DescriptionStyleModel",
       "_view_count": null,
       "_view_module": "@jupyter-widgets/base",
       "_view_module_version": "1.2.0",
       "_view_name": "StyleView",
       "description_width": ""
      }
     },
     "72de6e18159a4c808c0e4e6e23d6b531": {
      "model_module": "@jupyter-widgets/controls",
      "model_module_version": "1.5.0",
      "model_name": "FloatProgressModel",
      "state": {
       "_dom_classes": [],
       "_model_module": "@jupyter-widgets/controls",
       "_model_module_version": "1.5.0",
       "_model_name": "FloatProgressModel",
       "_view_count": null,
       "_view_module": "@jupyter-widgets/controls",
       "_view_module_version": "1.5.0",
       "_view_name": "ProgressView",
       "bar_style": "success",
       "description": "",
       "description_tooltip": null,
       "layout": "IPY_MODEL_f7c63f514598458bb2489618db497066",
       "max": 3201.0,
       "min": 0.0,
       "orientation": "horizontal",
       "style": "IPY_MODEL_0a9053ec6eb246c59139c81f71927738",
       "value": 3201.0
      }
     },
     "776e9ae2724c47c5a0ddc7d4328e45eb": {
      "model_module": "@jupyter-widgets/controls",
      "model_module_version": "1.5.0",
      "model_name": "DescriptionStyleModel",
      "state": {
       "_model_module": "@jupyter-widgets/controls",
       "_model_module_version": "1.5.0",
       "_model_name": "DescriptionStyleModel",
       "_view_count": null,
       "_view_module": "@jupyter-widgets/base",
       "_view_module_version": "1.2.0",
       "_view_name": "StyleView",
       "description_width": ""
      }
     },
     "77f2ef85fa1342da908f493bb927f9ac": {
      "model_module": "@jupyter-widgets/controls",
      "model_module_version": "1.5.0",
      "model_name": "DescriptionStyleModel",
      "state": {
       "_model_module": "@jupyter-widgets/controls",
       "_model_module_version": "1.5.0",
       "_model_name": "DescriptionStyleModel",
       "_view_count": null,
       "_view_module": "@jupyter-widgets/base",
       "_view_module_version": "1.2.0",
       "_view_name": "StyleView",
       "description_width": ""
      }
     },
     "7cbdf821d9a143f3ab466d704eb6818a": {
      "model_module": "@jupyter-widgets/controls",
      "model_module_version": "1.5.0",
      "model_name": "HTMLModel",
      "state": {
       "_dom_classes": [],
       "_model_module": "@jupyter-widgets/controls",
       "_model_module_version": "1.5.0",
       "_model_name": "HTMLModel",
       "_view_count": null,
       "_view_module": "@jupyter-widgets/controls",
       "_view_module_version": "1.5.0",
       "_view_name": "HTMLView",
       "description": "",
       "description_tooltip": null,
       "layout": "IPY_MODEL_5922f93876114f0f9e42de2b17439e42",
       "placeholder": "​",
       "style": "IPY_MODEL_c8dcc36d5a494331ab728009595368a8",
       "value": " 129k/129k [00:00&lt;00:00, 210kB/s]"
      }
     },
     "87afc378a2294e09a55a47e16987a203": {
      "model_module": "@jupyter-widgets/base",
      "model_module_version": "1.2.0",
      "model_name": "LayoutModel",
      "state": {
       "_model_module": "@jupyter-widgets/base",
       "_model_module_version": "1.2.0",
       "_model_name": "LayoutModel",
       "_view_count": null,
       "_view_module": "@jupyter-widgets/base",
       "_view_module_version": "1.2.0",
       "_view_name": "LayoutView",
       "align_content": null,
       "align_items": null,
       "align_self": null,
       "border": null,
       "bottom": null,
       "display": null,
       "flex": null,
       "flex_flow": null,
       "grid_area": null,
       "grid_auto_columns": null,
       "grid_auto_flow": null,
       "grid_auto_rows": null,
       "grid_column": null,
       "grid_gap": null,
       "grid_row": null,
       "grid_template_areas": null,
       "grid_template_columns": null,
       "grid_template_rows": null,
       "height": null,
       "justify_content": null,
       "justify_items": null,
       "left": null,
       "margin": null,
       "max_height": null,
       "max_width": null,
       "min_height": null,
       "min_width": null,
       "object_fit": null,
       "object_position": null,
       "order": null,
       "overflow": null,
       "overflow_x": null,
       "overflow_y": null,
       "padding": null,
       "right": null,
       "top": null,
       "visibility": null,
       "width": null
      }
     },
     "896c4a9e025e4bb29c17e76b1d6fc926": {
      "model_module": "@jupyter-widgets/controls",
      "model_module_version": "1.5.0",
      "model_name": "FloatProgressModel",
      "state": {
       "_dom_classes": [],
       "_model_module": "@jupyter-widgets/controls",
       "_model_module_version": "1.5.0",
       "_model_name": "FloatProgressModel",
       "_view_count": null,
       "_view_module": "@jupyter-widgets/controls",
       "_view_module_version": "1.5.0",
       "_view_name": "ProgressView",
       "bar_style": "success",
       "description": "",
       "description_tooltip": null,
       "layout": "IPY_MODEL_d96a9b21f0bb4fbaa7d338088cad5139",
       "max": 2041.0,
       "min": 0.0,
       "orientation": "horizontal",
       "style": "IPY_MODEL_d4fa62f7507741afaab6f258d96071ac",
       "value": 2041.0
      }
     },
     "8e1c60d89db6454e962a74483f708ea0": {
      "model_module": "@jupyter-widgets/controls",
      "model_module_version": "1.5.0",
      "model_name": "FloatProgressModel",
      "state": {
       "_dom_classes": [],
       "_model_module": "@jupyter-widgets/controls",
       "_model_module_version": "1.5.0",
       "_model_name": "FloatProgressModel",
       "_view_count": null,
       "_view_module": "@jupyter-widgets/controls",
       "_view_module_version": "1.5.0",
       "_view_name": "ProgressView",
       "bar_style": "success",
       "description": "",
       "description_tooltip": null,
       "layout": "IPY_MODEL_18b710cce89443039e2678b607031613",
       "max": 16887676.0,
       "min": 0.0,
       "orientation": "horizontal",
       "style": "IPY_MODEL_0245844fee634040adebb9544805d1ab",
       "value": 16887676.0
      }
     },
     "9690e14faf044d6eac11c919a5a54ffa": {
      "model_module": "@jupyter-widgets/controls",
      "model_module_version": "1.5.0",
      "model_name": "HTMLModel",
      "state": {
       "_dom_classes": [],
       "_model_module": "@jupyter-widgets/controls",
       "_model_module_version": "1.5.0",
       "_model_name": "HTMLModel",
       "_view_count": null,
       "_view_module": "@jupyter-widgets/controls",
       "_view_module_version": "1.5.0",
       "_view_name": "HTMLView",
       "description": "",
       "description_tooltip": null,
       "layout": "IPY_MODEL_b108fae929ce487fb941d5819ecf16fa",
       "placeholder": "​",
       "style": "IPY_MODEL_a997aba08aee4c90ad439b8dea201d8b",
       "value": " 3.20k/3.20k [00:00&lt;00:00, 106kB/s]"
      }
     },
     "9ef79cfe5aa74789b6f22ac736121a4e": {
      "model_module": "@jupyter-widgets/controls",
      "model_module_version": "1.5.0",
      "model_name": "HTMLModel",
      "state": {
       "_dom_classes": [],
       "_model_module": "@jupyter-widgets/controls",
       "_model_module_version": "1.5.0",
       "_model_name": "HTMLModel",
       "_view_count": null,
       "_view_module": "@jupyter-widgets/controls",
       "_view_module_version": "1.5.0",
       "_view_name": "HTMLView",
       "description": "",
       "description_tooltip": null,
       "layout": "IPY_MODEL_53c6045cb3ff42dcadbfd8a91e721da0",
       "placeholder": "​",
       "style": "IPY_MODEL_c3eb24d68afc43338944f099a0257f8a",
       "value": "Downloading: 100%"
      }
     },
     "a2dbbe69d4a84825af59b9d3b5b1f135": {
      "model_module": "@jupyter-widgets/controls",
      "model_module_version": "1.5.0",
      "model_name": "HBoxModel",
      "state": {
       "_dom_classes": [],
       "_model_module": "@jupyter-widgets/controls",
       "_model_module_version": "1.5.0",
       "_model_name": "HBoxModel",
       "_view_count": null,
       "_view_module": "@jupyter-widgets/controls",
       "_view_module_version": "1.5.0",
       "_view_name": "HBoxView",
       "box_style": "",
       "children": [
        "IPY_MODEL_3614e5934dde4c7c87c082cd7a2354d7",
        "IPY_MODEL_896c4a9e025e4bb29c17e76b1d6fc926",
        "IPY_MODEL_b4845efb1ea942eeb64dd068f906c17e"
       ],
       "layout": "IPY_MODEL_ee9912ea3a9d4eda9cb6f2751f4ff2bd"
      }
     },
     "a4311aad0ac5419db6e4117d5ae5e978": {
      "model_module": "@jupyter-widgets/controls",
      "model_module_version": "1.5.0",
      "model_name": "ProgressStyleModel",
      "state": {
       "_model_module": "@jupyter-widgets/controls",
       "_model_module_version": "1.5.0",
       "_model_name": "ProgressStyleModel",
       "_view_count": null,
       "_view_module": "@jupyter-widgets/base",
       "_view_module_version": "1.2.0",
       "_view_name": "StyleView",
       "bar_color": null,
       "description_width": ""
      }
     },
     "a997aba08aee4c90ad439b8dea201d8b": {
      "model_module": "@jupyter-widgets/controls",
      "model_module_version": "1.5.0",
      "model_name": "DescriptionStyleModel",
      "state": {
       "_model_module": "@jupyter-widgets/controls",
       "_model_module_version": "1.5.0",
       "_model_name": "DescriptionStyleModel",
       "_view_count": null,
       "_view_module": "@jupyter-widgets/base",
       "_view_module_version": "1.2.0",
       "_view_name": "StyleView",
       "description_width": ""
      }
     },
     "aac98d42aec14953badf986629406a73": {
      "model_module": "@jupyter-widgets/base",
      "model_module_version": "1.2.0",
      "model_name": "LayoutModel",
      "state": {
       "_model_module": "@jupyter-widgets/base",
       "_model_module_version": "1.2.0",
       "_model_name": "LayoutModel",
       "_view_count": null,
       "_view_module": "@jupyter-widgets/base",
       "_view_module_version": "1.2.0",
       "_view_name": "LayoutView",
       "align_content": null,
       "align_items": null,
       "align_self": null,
       "border": null,
       "bottom": null,
       "display": null,
       "flex": null,
       "flex_flow": null,
       "grid_area": null,
       "grid_auto_columns": null,
       "grid_auto_flow": null,
       "grid_auto_rows": null,
       "grid_column": null,
       "grid_gap": null,
       "grid_row": null,
       "grid_template_areas": null,
       "grid_template_columns": null,
       "grid_template_rows": null,
       "height": null,
       "justify_content": null,
       "justify_items": null,
       "left": null,
       "margin": null,
       "max_height": null,
       "max_width": null,
       "min_height": null,
       "min_width": null,
       "object_fit": null,
       "object_position": null,
       "order": null,
       "overflow": null,
       "overflow_x": null,
       "overflow_y": null,
       "padding": null,
       "right": null,
       "top": null,
       "visibility": null,
       "width": null
      }
     },
     "b108fae929ce487fb941d5819ecf16fa": {
      "model_module": "@jupyter-widgets/base",
      "model_module_version": "1.2.0",
      "model_name": "LayoutModel",
      "state": {
       "_model_module": "@jupyter-widgets/base",
       "_model_module_version": "1.2.0",
       "_model_name": "LayoutModel",
       "_view_count": null,
       "_view_module": "@jupyter-widgets/base",
       "_view_module_version": "1.2.0",
       "_view_name": "LayoutView",
       "align_content": null,
       "align_items": null,
       "align_self": null,
       "border": null,
       "bottom": null,
       "display": null,
       "flex": null,
       "flex_flow": null,
       "grid_area": null,
       "grid_auto_columns": null,
       "grid_auto_flow": null,
       "grid_auto_rows": null,
       "grid_column": null,
       "grid_gap": null,
       "grid_row": null,
       "grid_template_areas": null,
       "grid_template_columns": null,
       "grid_template_rows": null,
       "height": null,
       "justify_content": null,
       "justify_items": null,
       "left": null,
       "margin": null,
       "max_height": null,
       "max_width": null,
       "min_height": null,
       "min_width": null,
       "object_fit": null,
       "object_position": null,
       "order": null,
       "overflow": null,
       "overflow_x": null,
       "overflow_y": null,
       "padding": null,
       "right": null,
       "top": null,
       "visibility": null,
       "width": null
      }
     },
     "b4845efb1ea942eeb64dd068f906c17e": {
      "model_module": "@jupyter-widgets/controls",
      "model_module_version": "1.5.0",
      "model_name": "HTMLModel",
      "state": {
       "_dom_classes": [],
       "_model_module": "@jupyter-widgets/controls",
       "_model_module_version": "1.5.0",
       "_model_name": "HTMLModel",
       "_view_count": null,
       "_view_module": "@jupyter-widgets/controls",
       "_view_module_version": "1.5.0",
       "_view_name": "HTMLView",
       "description": "",
       "description_tooltip": null,
       "layout": "IPY_MODEL_418e60cac6d04c0da30ff8a73cbfe3aa",
       "placeholder": "​",
       "style": "IPY_MODEL_c6d497c0d29b4ac7940d51c6a4a27be5",
       "value": " 2.04k/2.04k [00:00&lt;00:00, 64.0kB/s]"
      }
     },
     "b668ac09586148cdaebff90e24c9c097": {
      "model_module": "@jupyter-widgets/controls",
      "model_module_version": "1.5.0",
      "model_name": "HTMLModel",
      "state": {
       "_dom_classes": [],
       "_model_module": "@jupyter-widgets/controls",
       "_model_module_version": "1.5.0",
       "_model_name": "HTMLModel",
       "_view_count": null,
       "_view_module": "@jupyter-widgets/controls",
       "_view_module_version": "1.5.0",
       "_view_name": "HTMLView",
       "description": "",
       "description_tooltip": null,
       "layout": "IPY_MODEL_4c0491ed17cd432198661f5c593772c4",
       "placeholder": "​",
       "style": "IPY_MODEL_496fddf1926247eb80ab12241287cc95",
       "value": "Downloading: 100%"
      }
     },
     "b76f8698377d4d0d9dcee107bdfb1018": {
      "model_module": "@jupyter-widgets/controls",
      "model_module_version": "1.5.0",
      "model_name": "HBoxModel",
      "state": {
       "_dom_classes": [],
       "_model_module": "@jupyter-widgets/controls",
       "_model_module_version": "1.5.0",
       "_model_name": "HBoxModel",
       "_view_count": null,
       "_view_module": "@jupyter-widgets/controls",
       "_view_module_version": "1.5.0",
       "_view_name": "HBoxView",
       "box_style": "",
       "children": [
        "IPY_MODEL_b668ac09586148cdaebff90e24c9c097",
        "IPY_MODEL_72de6e18159a4c808c0e4e6e23d6b531",
        "IPY_MODEL_9690e14faf044d6eac11c919a5a54ffa"
       ],
       "layout": "IPY_MODEL_099f38d012d7434eab1974902be25773"
      }
     },
     "c3eb24d68afc43338944f099a0257f8a": {
      "model_module": "@jupyter-widgets/controls",
      "model_module_version": "1.5.0",
      "model_name": "DescriptionStyleModel",
      "state": {
       "_model_module": "@jupyter-widgets/controls",
       "_model_module_version": "1.5.0",
       "_model_name": "DescriptionStyleModel",
       "_view_count": null,
       "_view_module": "@jupyter-widgets/base",
       "_view_module_version": "1.2.0",
       "_view_name": "StyleView",
       "description_width": ""
      }
     },
     "c6d497c0d29b4ac7940d51c6a4a27be5": {
      "model_module": "@jupyter-widgets/controls",
      "model_module_version": "1.5.0",
      "model_name": "DescriptionStyleModel",
      "state": {
       "_model_module": "@jupyter-widgets/controls",
       "_model_module_version": "1.5.0",
       "_model_name": "DescriptionStyleModel",
       "_view_count": null,
       "_view_module": "@jupyter-widgets/base",
       "_view_module_version": "1.2.0",
       "_view_name": "StyleView",
       "description_width": ""
      }
     },
     "c8a51b8e4fdb4a899367c45d8f9a68d3": {
      "model_module": "@jupyter-widgets/controls",
      "model_module_version": "1.5.0",
      "model_name": "FloatProgressModel",
      "state": {
       "_dom_classes": [],
       "_model_module": "@jupyter-widgets/controls",
       "_model_module_version": "1.5.0",
       "_model_name": "FloatProgressModel",
       "_view_count": null,
       "_view_module": "@jupyter-widgets/controls",
       "_view_module_version": "1.5.0",
       "_view_name": "ProgressView",
       "bar_style": "success",
       "description": "",
       "description_tooltip": null,
       "layout": "IPY_MODEL_31da9d6a42e340aa9a5a1e51bfcd5676",
       "max": 15856877.0,
       "min": 0.0,
       "orientation": "horizontal",
       "style": "IPY_MODEL_675334711c30401fbb178640453b2569",
       "value": 15856877.0
      }
     },
     "c8dcc36d5a494331ab728009595368a8": {
      "model_module": "@jupyter-widgets/controls",
      "model_module_version": "1.5.0",
      "model_name": "DescriptionStyleModel",
      "state": {
       "_model_module": "@jupyter-widgets/controls",
       "_model_module_version": "1.5.0",
       "_model_name": "DescriptionStyleModel",
       "_view_count": null,
       "_view_module": "@jupyter-widgets/base",
       "_view_module_version": "1.2.0",
       "_view_name": "StyleView",
       "description_width": ""
      }
     },
     "cb501b98c83c403b95c0102abc8b6e3d": {
      "model_module": "@jupyter-widgets/base",
      "model_module_version": "1.2.0",
      "model_name": "LayoutModel",
      "state": {
       "_model_module": "@jupyter-widgets/base",
       "_model_module_version": "1.2.0",
       "_model_name": "LayoutModel",
       "_view_count": null,
       "_view_module": "@jupyter-widgets/base",
       "_view_module_version": "1.2.0",
       "_view_name": "LayoutView",
       "align_content": null,
       "align_items": null,
       "align_self": null,
       "border": null,
       "bottom": null,
       "display": null,
       "flex": null,
       "flex_flow": null,
       "grid_area": null,
       "grid_auto_columns": null,
       "grid_auto_flow": null,
       "grid_auto_rows": null,
       "grid_column": null,
       "grid_gap": null,
       "grid_row": null,
       "grid_template_areas": null,
       "grid_template_columns": null,
       "grid_template_rows": null,
       "height": null,
       "justify_content": null,
       "justify_items": null,
       "left": null,
       "margin": null,
       "max_height": null,
       "max_width": null,
       "min_height": null,
       "min_width": null,
       "object_fit": null,
       "object_position": null,
       "order": null,
       "overflow": null,
       "overflow_x": null,
       "overflow_y": null,
       "padding": null,
       "right": null,
       "top": null,
       "visibility": null,
       "width": null
      }
     },
     "d43b13900ad3424ea8378514ffa79b75": {
      "model_module": "@jupyter-widgets/controls",
      "model_module_version": "1.5.0",
      "model_name": "HTMLModel",
      "state": {
       "_dom_classes": [],
       "_model_module": "@jupyter-widgets/controls",
       "_model_module_version": "1.5.0",
       "_model_name": "HTMLModel",
       "_view_count": null,
       "_view_module": "@jupyter-widgets/controls",
       "_view_module_version": "1.5.0",
       "_view_name": "HTMLView",
       "description": "",
       "description_tooltip": null,
       "layout": "IPY_MODEL_3aa66a00c0444be6b28c138b036c2ee1",
       "placeholder": "​",
       "style": "IPY_MODEL_0cbf1d88908d40a4b96b01f8d5ac10a3",
       "value": " 16.9M/16.9M [00:00&lt;00:00, 43.4MB/s]"
      }
     },
     "d4fa62f7507741afaab6f258d96071ac": {
      "model_module": "@jupyter-widgets/controls",
      "model_module_version": "1.5.0",
      "model_name": "ProgressStyleModel",
      "state": {
       "_model_module": "@jupyter-widgets/controls",
       "_model_module_version": "1.5.0",
       "_model_name": "ProgressStyleModel",
       "_view_count": null,
       "_view_module": "@jupyter-widgets/base",
       "_view_module_version": "1.2.0",
       "_view_name": "StyleView",
       "bar_color": null,
       "description_width": ""
      }
     },
     "d5fd5cb8dfd04351b78dad5c18617160": {
      "model_module": "@jupyter-widgets/controls",
      "model_module_version": "1.5.0",
      "model_name": "HTMLModel",
      "state": {
       "_dom_classes": [],
       "_model_module": "@jupyter-widgets/controls",
       "_model_module_version": "1.5.0",
       "_model_name": "HTMLModel",
       "_view_count": null,
       "_view_module": "@jupyter-widgets/controls",
       "_view_module_version": "1.5.0",
       "_view_name": "HTMLView",
       "description": "",
       "description_tooltip": null,
       "layout": "IPY_MODEL_6c594777fcfb4ae5a228691a58aa1bd5",
       "placeholder": "​",
       "style": "IPY_MODEL_71887e09ab124a9c9e69bd725cfd742d",
       "value": " 15.9M/15.9M [00:00&lt;00:00, 41.5MB/s]"
      }
     },
     "d96a9b21f0bb4fbaa7d338088cad5139": {
      "model_module": "@jupyter-widgets/base",
      "model_module_version": "1.2.0",
      "model_name": "LayoutModel",
      "state": {
       "_model_module": "@jupyter-widgets/base",
       "_model_module_version": "1.2.0",
       "_model_name": "LayoutModel",
       "_view_count": null,
       "_view_module": "@jupyter-widgets/base",
       "_view_module_version": "1.2.0",
       "_view_name": "LayoutView",
       "align_content": null,
       "align_items": null,
       "align_self": null,
       "border": null,
       "bottom": null,
       "display": null,
       "flex": null,
       "flex_flow": null,
       "grid_area": null,
       "grid_auto_columns": null,
       "grid_auto_flow": null,
       "grid_auto_rows": null,
       "grid_column": null,
       "grid_gap": null,
       "grid_row": null,
       "grid_template_areas": null,
       "grid_template_columns": null,
       "grid_template_rows": null,
       "height": null,
       "justify_content": null,
       "justify_items": null,
       "left": null,
       "margin": null,
       "max_height": null,
       "max_width": null,
       "min_height": null,
       "min_width": null,
       "object_fit": null,
       "object_position": null,
       "order": null,
       "overflow": null,
       "overflow_x": null,
       "overflow_y": null,
       "padding": null,
       "right": null,
       "top": null,
       "visibility": null,
       "width": null
      }
     },
     "dab90d07f69e45a197a0ab80ce711667": {
      "model_module": "@jupyter-widgets/controls",
      "model_module_version": "1.5.0",
      "model_name": "HTMLModel",
      "state": {
       "_dom_classes": [],
       "_model_module": "@jupyter-widgets/controls",
       "_model_module_version": "1.5.0",
       "_model_name": "HTMLModel",
       "_view_count": null,
       "_view_module": "@jupyter-widgets/controls",
       "_view_module_version": "1.5.0",
       "_view_name": "HTMLView",
       "description": "",
       "description_tooltip": null,
       "layout": "IPY_MODEL_177ac95312464b2996ecd90fc218be68",
       "placeholder": "​",
       "style": "IPY_MODEL_77f2ef85fa1342da908f493bb927f9ac",
       "value": "Downloading: 100%"
      }
     },
     "ee9912ea3a9d4eda9cb6f2751f4ff2bd": {
      "model_module": "@jupyter-widgets/base",
      "model_module_version": "1.2.0",
      "model_name": "LayoutModel",
      "state": {
       "_model_module": "@jupyter-widgets/base",
       "_model_module_version": "1.2.0",
       "_model_name": "LayoutModel",
       "_view_count": null,
       "_view_module": "@jupyter-widgets/base",
       "_view_module_version": "1.2.0",
       "_view_name": "LayoutView",
       "align_content": null,
       "align_items": null,
       "align_self": null,
       "border": null,
       "bottom": null,
       "display": null,
       "flex": null,
       "flex_flow": null,
       "grid_area": null,
       "grid_auto_columns": null,
       "grid_auto_flow": null,
       "grid_auto_rows": null,
       "grid_column": null,
       "grid_gap": null,
       "grid_row": null,
       "grid_template_areas": null,
       "grid_template_columns": null,
       "grid_template_rows": null,
       "height": null,
       "justify_content": null,
       "justify_items": null,
       "left": null,
       "margin": null,
       "max_height": null,
       "max_width": null,
       "min_height": null,
       "min_width": null,
       "object_fit": null,
       "object_position": null,
       "order": null,
       "overflow": null,
       "overflow_x": null,
       "overflow_y": null,
       "padding": null,
       "right": null,
       "top": null,
       "visibility": null,
       "width": null
      }
     },
     "f37e9c9560a54ce88016480ebf6a10d5": {
      "model_module": "@jupyter-widgets/controls",
      "model_module_version": "1.5.0",
      "model_name": "HTMLModel",
      "state": {
       "_dom_classes": [],
       "_model_module": "@jupyter-widgets/controls",
       "_model_module_version": "1.5.0",
       "_model_name": "HTMLModel",
       "_view_count": null,
       "_view_module": "@jupyter-widgets/controls",
       "_view_module_version": "1.5.0",
       "_view_name": "HTMLView",
       "description": "",
       "description_tooltip": null,
       "layout": "IPY_MODEL_aac98d42aec14953badf986629406a73",
       "placeholder": "​",
       "style": "IPY_MODEL_776e9ae2724c47c5a0ddc7d4328e45eb",
       "value": "Downloading: 100%"
      }
     },
     "f7c63f514598458bb2489618db497066": {
      "model_module": "@jupyter-widgets/base",
      "model_module_version": "1.2.0",
      "model_name": "LayoutModel",
      "state": {
       "_model_module": "@jupyter-widgets/base",
       "_model_module_version": "1.2.0",
       "_model_name": "LayoutModel",
       "_view_count": null,
       "_view_module": "@jupyter-widgets/base",
       "_view_module_version": "1.2.0",
       "_view_name": "LayoutView",
       "align_content": null,
       "align_items": null,
       "align_self": null,
       "border": null,
       "bottom": null,
       "display": null,
       "flex": null,
       "flex_flow": null,
       "grid_area": null,
       "grid_auto_columns": null,
       "grid_auto_flow": null,
       "grid_auto_rows": null,
       "grid_column": null,
       "grid_gap": null,
       "grid_row": null,
       "grid_template_areas": null,
       "grid_template_columns": null,
       "grid_template_rows": null,
       "height": null,
       "justify_content": null,
       "justify_items": null,
       "left": null,
       "margin": null,
       "max_height": null,
       "max_width": null,
       "min_height": null,
       "min_width": null,
       "object_fit": null,
       "object_position": null,
       "order": null,
       "overflow": null,
       "overflow_x": null,
       "overflow_y": null,
       "padding": null,
       "right": null,
       "top": null,
       "visibility": null,
       "width": null
      }
     }
    },
    "version_major": 2,
    "version_minor": 0
   }
  }
 },
 "nbformat": 4,
 "nbformat_minor": 0
}
