{
 "cells": [
  {
   "cell_type": "markdown",
   "metadata": {},
   "source": [
    "# Image Classification with Cleanlab, PyTorch & Skorch"
   ]
  },
  {
   "cell_type": "markdown",
   "metadata": {},
   "source": [
    "This tutorial will use Cleanlab to find potential label errors in the MNIST handwritten digit image dataset. This dataset contains 60,000 images of handwritten digits from 0 to 9. We'll find *more than a thousand* highly suspicious examples with label errors and edge cases by the end of this tutorial. \n",
    "\n",
    "**Overview of what we'll do in this tutorial:**\n",
    "\n",
    "- Build a simple PyTorch neural net and wrap it with Skorch to make it scikit-learn compatible.\n",
    "\n",
    "- Compute the cross-validated predicted probabilities, ``pyx``, sometimes known as the out-of-sample predicted probabilities.\n",
    "\n",
    "- Generate a list of potential label errors with Cleanlab's ``get_noise_indices``.\n",
    "\n",
    "- Build and train a more robust model than the vanilla model after adapting it with Cleanlab's ``LearningWithNoisyLabels``. \n",
    "\n",
    "**Data:** https://www.openml.org/d/554"
   ]
  },
  {
   "cell_type": "markdown",
   "metadata": {},
   "source": [
    "## 1. Install the required dependencies"
   ]
  },
  {
   "cell_type": "markdown",
   "metadata": {},
   "source": [
    "``%%capture`` is a magic function to hides the cell's output."
   ]
  },
  {
   "cell_type": "code",
   "execution_count": 1,
   "metadata": {
    "execution": {
     "iopub.execute_input": "2022-03-09T02:43:29.341673Z",
     "iopub.status.busy": "2022-03-09T02:43:29.341288Z",
     "iopub.status.idle": "2022-03-09T02:43:56.467137Z",
     "shell.execute_reply": "2022-03-09T02:43:56.466461Z"
    }
   },
   "outputs": [],
   "source": [
    "%%capture\n",
    "\n",
    "%pip install cleanlab pandas matplotlib torch torchvision skorch"
   ]
  },
  {
   "cell_type": "markdown",
   "metadata": {},
   "source": [
    "## 2. Fetch and scale the MNIST dataset"
   ]
  },
  {
   "cell_type": "code",
   "execution_count": 2,
   "metadata": {
    "execution": {
     "iopub.execute_input": "2022-03-09T02:43:56.470237Z",
     "iopub.status.busy": "2022-03-09T02:43:56.470080Z",
     "iopub.status.idle": "2022-03-09T02:44:47.988181Z",
     "shell.execute_reply": "2022-03-09T02:44:47.987583Z"
    }
   },
   "outputs": [],
   "source": [
    "from sklearn.datasets import fetch_openml\n",
    "\n",
    "# Fetch the MNIST dataset\n",
    "mnist = fetch_openml('mnist_784')\n",
    "\n",
    "# Assign the data features and labels to variable X and y respectively \n",
    "X = mnist.data.astype('float32')\n",
    "y = mnist.target.astype('int64')\n"
   ]
  },
  {
   "cell_type": "markdown",
   "metadata": {},
   "source": [
    "<div class=\"alert alert-info\">\n",
    "\n",
    "Bringing Your Own Data (BYOD)?\n",
    "\n",
    "Assign your data's features to variable ``X`` and its labels to variable ``y`` instead.\n",
    "\n",
    "</div>"
   ]
  },
  {
   "cell_type": "code",
   "execution_count": 3,
   "metadata": {
    "execution": {
     "iopub.execute_input": "2022-03-09T02:44:47.991190Z",
     "iopub.status.busy": "2022-03-09T02:44:47.991012Z",
     "iopub.status.idle": "2022-03-09T02:44:48.091991Z",
     "shell.execute_reply": "2022-03-09T02:44:48.091421Z"
    }
   },
   "outputs": [],
   "source": [
    "\n",
    "# Scale the features which range from 0 to 255 (256 levels on the grayscale) \n",
    "X /= 255.0\n",
    "\n",
    "# Then convert it to a numpy array\n",
    "X = X.to_numpy()"
   ]
  },
  {
   "cell_type": "markdown",
   "metadata": {},
   "source": [
    "## 3. Define a classification model"
   ]
  },
  {
   "cell_type": "markdown",
   "metadata": {},
   "source": [
    "Here, we define a simple neural network with PyTorch."
   ]
  },
  {
   "cell_type": "code",
   "execution_count": 4,
   "metadata": {
    "execution": {
     "iopub.execute_input": "2022-03-09T02:44:48.094786Z",
     "iopub.status.busy": "2022-03-09T02:44:48.094620Z",
     "iopub.status.idle": "2022-03-09T02:44:48.468824Z",
     "shell.execute_reply": "2022-03-09T02:44:48.468297Z"
    }
   },
   "outputs": [],
   "source": [
    "from torch import nn\n",
    "\n",
    "class NeuralNetwork(nn.Module):\n",
    "    def __init__(self):\n",
    "        super(NeuralNetwork, self).__init__()\n",
    "        self.dropout = nn.Dropout(0.5)\n",
    "        self.hidden = nn.Linear(28*28, 128)\n",
    "        self.output = nn.Linear(128, 10)\n",
    "\n",
    "    def forward(self, X):\n",
    "        X = nn.functional.relu(self.hidden(X))\n",
    "        X = self.dropout(X)\n",
    "        X = nn.functional.softmax(self.output(X), dim=-1)\n",
    "        return X"
   ]
  },
  {
   "cell_type": "markdown",
   "metadata": {},
   "source": [
    "## 4. Wrap with Skorch for scikit-learn compatibility"
   ]
  },
  {
   "cell_type": "markdown",
   "metadata": {},
   "source": [
    "As some of Cleanlab's feature requires scikit-learn compatibility, we will need to adapt the above PyTorch neural net accordingly. Skorch is a convenient package that helps with this, read more about it here: https://skorch.readthedocs.io"
   ]
  },
  {
   "cell_type": "code",
   "execution_count": 5,
   "metadata": {
    "execution": {
     "iopub.execute_input": "2022-03-09T02:44:48.472012Z",
     "iopub.status.busy": "2022-03-09T02:44:48.471623Z",
     "iopub.status.idle": "2022-03-09T02:44:48.551889Z",
     "shell.execute_reply": "2022-03-09T02:44:48.551359Z"
    }
   },
   "outputs": [],
   "source": [
    "from skorch import NeuralNetClassifier\n",
    "\n",
    "# Wrap the PyTorch neural net around Skorch's NeuralNetClassifier wrapper\n",
    "net = NeuralNetClassifier(NeuralNetwork)"
   ]
  },
  {
   "cell_type": "markdown",
   "metadata": {},
   "source": [
    "## 5. Compute the cross-validated predicted probabilities"
   ]
  },
  {
   "cell_type": "markdown",
   "metadata": {},
   "source": [
    "If we'd like Cleanlab to identify potential label errors in the whole dataset and not just the training set, we can consider fitting the entire dataset. We will only use this model instance to compute the cross-validated predicted probabilities, ``pyx``, and not for model evaluation."
   ]
  },
  {
   "cell_type": "code",
   "execution_count": 6,
   "metadata": {
    "execution": {
     "iopub.execute_input": "2022-03-09T02:44:48.554626Z",
     "iopub.status.busy": "2022-03-09T02:44:48.554344Z",
     "iopub.status.idle": "2022-03-09T02:45:10.498309Z",
     "shell.execute_reply": "2022-03-09T02:45:10.497758Z"
    }
   },
   "outputs": [
    {
     "name": "stdout",
     "output_type": "stream",
     "text": [
      "  epoch    train_loss    valid_acc    valid_loss     dur\n",
      "-------  ------------  -----------  ------------  ------\n",
      "      1        \u001b[36m1.7971\u001b[0m       \u001b[32m0.7896\u001b[0m        \u001b[35m1.1713\u001b[0m  2.1920\n"
     ]
    },
    {
     "name": "stdout",
     "output_type": "stream",
     "text": [
      "      2        \u001b[36m0.9768\u001b[0m       \u001b[32m0.8424\u001b[0m        \u001b[35m0.6943\u001b[0m  2.1871\n"
     ]
    },
    {
     "name": "stdout",
     "output_type": "stream",
     "text": [
      "      3        \u001b[36m0.7216\u001b[0m       \u001b[32m0.8656\u001b[0m        \u001b[35m0.5483\u001b[0m  2.1833\n"
     ]
    },
    {
     "name": "stdout",
     "output_type": "stream",
     "text": [
      "      4        \u001b[36m0.6146\u001b[0m       \u001b[32m0.8798\u001b[0m        \u001b[35m0.4774\u001b[0m  2.1751\n"
     ]
    },
    {
     "name": "stdout",
     "output_type": "stream",
     "text": [
      "      5        \u001b[36m0.5535\u001b[0m       \u001b[32m0.8849\u001b[0m        \u001b[35m0.4347\u001b[0m  2.1801\n"
     ]
    },
    {
     "name": "stdout",
     "output_type": "stream",
     "text": [
      "      6        \u001b[36m0.5131\u001b[0m       \u001b[32m0.8911\u001b[0m        \u001b[35m0.4053\u001b[0m  2.1852\n"
     ]
    },
    {
     "name": "stdout",
     "output_type": "stream",
     "text": [
      "      7        \u001b[36m0.4822\u001b[0m       \u001b[32m0.8961\u001b[0m        \u001b[35m0.3824\u001b[0m  2.1935\n"
     ]
    },
    {
     "name": "stdout",
     "output_type": "stream",
     "text": [
      "      8        \u001b[36m0.4592\u001b[0m       \u001b[32m0.9001\u001b[0m        \u001b[35m0.3652\u001b[0m  2.1763\n"
     ]
    },
    {
     "name": "stdout",
     "output_type": "stream",
     "text": [
      "      9        \u001b[36m0.4388\u001b[0m       \u001b[32m0.9037\u001b[0m        \u001b[35m0.3507\u001b[0m  2.1776\n"
     ]
    },
    {
     "name": "stdout",
     "output_type": "stream",
     "text": [
      "     10        \u001b[36m0.4233\u001b[0m       \u001b[32m0.9064\u001b[0m        \u001b[35m0.3381\u001b[0m  2.1823\n"
     ]
    }
   ],
   "source": [
    "_ = net.fit(X, y)"
   ]
  },
  {
   "cell_type": "markdown",
   "metadata": {},
   "source": [
    "Compute the cross-validated predicted probabilities, ``pyx``, sometimes also known as the out-of-sample predicted probabilities."
   ]
  },
  {
   "cell_type": "code",
   "execution_count": 7,
   "metadata": {
    "execution": {
     "iopub.execute_input": "2022-03-09T02:45:10.500819Z",
     "iopub.status.busy": "2022-03-09T02:45:10.500669Z",
     "iopub.status.idle": "2022-03-09T02:45:46.240863Z",
     "shell.execute_reply": "2022-03-09T02:45:46.240285Z"
    }
   },
   "outputs": [
    {
     "name": "stdout",
     "output_type": "stream",
     "text": [
      "  epoch    train_loss    valid_acc    valid_loss     dur\n",
      "-------  ------------  -----------  ------------  ------\n",
      "      1        \u001b[36m1.9766\u001b[0m       \u001b[32m0.7137\u001b[0m        \u001b[35m1.5747\u001b[0m  1.1458\n"
     ]
    },
    {
     "name": "stdout",
     "output_type": "stream",
     "text": [
      "      2        \u001b[36m1.2758\u001b[0m       \u001b[32m0.7878\u001b[0m        \u001b[35m0.9784\u001b[0m  1.1978\n"
     ]
    },
    {
     "name": "stdout",
     "output_type": "stream",
     "text": [
      "      3        \u001b[36m0.9116\u001b[0m       \u001b[32m0.8241\u001b[0m        \u001b[35m0.7381\u001b[0m  1.1502\n"
     ]
    },
    {
     "name": "stdout",
     "output_type": "stream",
     "text": [
      "      4        \u001b[36m0.7440\u001b[0m       \u001b[32m0.8453\u001b[0m        \u001b[35m0.6236\u001b[0m  1.1493\n"
     ]
    },
    {
     "name": "stdout",
     "output_type": "stream",
     "text": [
      "      5        \u001b[36m0.6584\u001b[0m       \u001b[32m0.8558\u001b[0m        \u001b[35m0.5570\u001b[0m  1.1493\n"
     ]
    },
    {
     "name": "stdout",
     "output_type": "stream",
     "text": [
      "      6        \u001b[36m0.5985\u001b[0m       \u001b[32m0.8655\u001b[0m        \u001b[35m0.5124\u001b[0m  1.1560\n"
     ]
    },
    {
     "name": "stdout",
     "output_type": "stream",
     "text": [
      "      7        \u001b[36m0.5540\u001b[0m       \u001b[32m0.8713\u001b[0m        \u001b[35m0.4804\u001b[0m  1.1398\n"
     ]
    },
    {
     "name": "stdout",
     "output_type": "stream",
     "text": [
      "      8        \u001b[36m0.5236\u001b[0m       \u001b[32m0.8765\u001b[0m        \u001b[35m0.4562\u001b[0m  1.1603\n"
     ]
    },
    {
     "name": "stdout",
     "output_type": "stream",
     "text": [
      "      9        \u001b[36m0.5041\u001b[0m       \u001b[32m0.8800\u001b[0m        \u001b[35m0.4369\u001b[0m  1.1499\n"
     ]
    },
    {
     "name": "stdout",
     "output_type": "stream",
     "text": [
      "     10        \u001b[36m0.4807\u001b[0m       \u001b[32m0.8814\u001b[0m        \u001b[35m0.4204\u001b[0m  1.1384\n"
     ]
    },
    {
     "name": "stdout",
     "output_type": "stream",
     "text": [
      "  epoch    train_loss    valid_acc    valid_loss     dur\n",
      "-------  ------------  -----------  ------------  ------\n",
      "      1        \u001b[36m2.0062\u001b[0m       \u001b[32m0.7333\u001b[0m        \u001b[35m1.5904\u001b[0m  1.1351\n"
     ]
    },
    {
     "name": "stdout",
     "output_type": "stream",
     "text": [
      "      2        \u001b[36m1.2838\u001b[0m       \u001b[32m0.8097\u001b[0m        \u001b[35m0.9603\u001b[0m  1.1347\n"
     ]
    },
    {
     "name": "stdout",
     "output_type": "stream",
     "text": [
      "      3        \u001b[36m0.9065\u001b[0m       \u001b[32m0.8421\u001b[0m        \u001b[35m0.7128\u001b[0m  1.1339\n"
     ]
    },
    {
     "name": "stdout",
     "output_type": "stream",
     "text": [
      "      4        \u001b[36m0.7400\u001b[0m       \u001b[32m0.8568\u001b[0m        \u001b[35m0.5951\u001b[0m  1.1359\n"
     ]
    },
    {
     "name": "stdout",
     "output_type": "stream",
     "text": [
      "      5        \u001b[36m0.6493\u001b[0m       \u001b[32m0.8688\u001b[0m        \u001b[35m0.5264\u001b[0m  1.1353\n"
     ]
    },
    {
     "name": "stdout",
     "output_type": "stream",
     "text": [
      "      6        \u001b[36m0.5939\u001b[0m       \u001b[32m0.8789\u001b[0m        \u001b[35m0.4808\u001b[0m  1.1343\n"
     ]
    },
    {
     "name": "stdout",
     "output_type": "stream",
     "text": [
      "      7        \u001b[36m0.5484\u001b[0m       \u001b[32m0.8832\u001b[0m        \u001b[35m0.4489\u001b[0m  1.1331\n"
     ]
    },
    {
     "name": "stdout",
     "output_type": "stream",
     "text": [
      "      8        \u001b[36m0.5182\u001b[0m       \u001b[32m0.8880\u001b[0m        \u001b[35m0.4251\u001b[0m  1.1331\n"
     ]
    },
    {
     "name": "stdout",
     "output_type": "stream",
     "text": [
      "      9        \u001b[36m0.4927\u001b[0m       \u001b[32m0.8918\u001b[0m        \u001b[35m0.4051\u001b[0m  1.1331\n"
     ]
    },
    {
     "name": "stdout",
     "output_type": "stream",
     "text": [
      "     10        \u001b[36m0.4706\u001b[0m       \u001b[32m0.8939\u001b[0m        \u001b[35m0.3889\u001b[0m  1.1337\n"
     ]
    },
    {
     "name": "stdout",
     "output_type": "stream",
     "text": [
      "  epoch    train_loss    valid_acc    valid_loss     dur\n",
      "-------  ------------  -----------  ------------  ------\n",
      "      1        \u001b[36m2.0486\u001b[0m       \u001b[32m0.7392\u001b[0m        \u001b[35m1.6689\u001b[0m  1.1310\n"
     ]
    },
    {
     "name": "stdout",
     "output_type": "stream",
     "text": [
      "      2        \u001b[36m1.3745\u001b[0m       \u001b[32m0.8070\u001b[0m        \u001b[35m1.0069\u001b[0m  1.1318\n"
     ]
    },
    {
     "name": "stdout",
     "output_type": "stream",
     "text": [
      "      3        \u001b[36m0.9658\u001b[0m       \u001b[32m0.8400\u001b[0m        \u001b[35m0.7345\u001b[0m  1.1311\n"
     ]
    },
    {
     "name": "stdout",
     "output_type": "stream",
     "text": [
      "      4        \u001b[36m0.7895\u001b[0m       \u001b[32m0.8594\u001b[0m        \u001b[35m0.6071\u001b[0m  1.1446\n"
     ]
    },
    {
     "name": "stdout",
     "output_type": "stream",
     "text": [
      "      5        \u001b[36m0.6929\u001b[0m       \u001b[32m0.8722\u001b[0m        \u001b[35m0.5351\u001b[0m  1.1462\n"
     ]
    },
    {
     "name": "stdout",
     "output_type": "stream",
     "text": [
      "      6        \u001b[36m0.6275\u001b[0m       \u001b[32m0.8802\u001b[0m        \u001b[35m0.4860\u001b[0m  1.1467\n"
     ]
    },
    {
     "name": "stdout",
     "output_type": "stream",
     "text": [
      "      7        \u001b[36m0.5823\u001b[0m       \u001b[32m0.8878\u001b[0m        \u001b[35m0.4518\u001b[0m  1.1448\n"
     ]
    },
    {
     "name": "stdout",
     "output_type": "stream",
     "text": [
      "      8        \u001b[36m0.5517\u001b[0m       \u001b[32m0.8917\u001b[0m        \u001b[35m0.4261\u001b[0m  1.1457\n"
     ]
    },
    {
     "name": "stdout",
     "output_type": "stream",
     "text": [
      "      9        \u001b[36m0.5252\u001b[0m       \u001b[32m0.8944\u001b[0m        \u001b[35m0.4052\u001b[0m  1.1468\n"
     ]
    },
    {
     "name": "stdout",
     "output_type": "stream",
     "text": [
      "     10        \u001b[36m0.5009\u001b[0m       \u001b[32m0.8978\u001b[0m        \u001b[35m0.3883\u001b[0m  1.1475\n"
     ]
    }
   ],
   "source": [
    "from sklearn.model_selection import cross_val_predict\n",
    "\n",
    "pyx = cross_val_predict(net, X, y, cv=3, method='predict_proba')"
   ]
  },
  {
   "cell_type": "markdown",
   "metadata": {},
   "source": [
    "## 6. Run Cleanlab to find potential label errors"
   ]
  },
  {
   "cell_type": "markdown",
   "metadata": {},
   "source": [
    "Cleanlab has a ``get_noise_indices`` function to generate a list of potential label errors. Setting ``sorted_index_method=\"prob_given_label\"`` returns the indices of all the most likely label errors, sorted by the most suspicious example first."
   ]
  },
  {
   "cell_type": "code",
   "execution_count": 8,
   "metadata": {
    "execution": {
     "iopub.execute_input": "2022-03-09T02:45:46.243539Z",
     "iopub.status.busy": "2022-03-09T02:45:46.243385Z",
     "iopub.status.idle": "2022-03-09T02:45:46.568078Z",
     "shell.execute_reply": "2022-03-09T02:45:46.567440Z"
    }
   },
   "outputs": [],
   "source": [
    "from cleanlab.pruning import get_noise_indices\n",
    "\n",
    "ordered_label_errors = get_noise_indices(\n",
    "    s=y,\n",
    "    psx=pyx,\n",
    "    sorted_index_method=\"prob_given_label\"\n",
    ")"
   ]
  },
  {
   "cell_type": "markdown",
   "metadata": {},
   "source": [
    "## 7. Review some of the most likely mislabeled examples"
   ]
  },
  {
   "cell_type": "code",
   "execution_count": 9,
   "metadata": {
    "execution": {
     "iopub.execute_input": "2022-03-09T02:45:46.571267Z",
     "iopub.status.busy": "2022-03-09T02:45:46.570990Z",
     "iopub.status.idle": "2022-03-09T02:45:46.576000Z",
     "shell.execute_reply": "2022-03-09T02:45:46.575473Z"
    }
   },
   "outputs": [
    {
     "name": "stdout",
     "output_type": "stream",
     "text": [
      "Cleanlab found 1217 potential label errors. Here are the indices of the top 15 most likely ones: \n",
      " [24798 18598  8729 61790 20820 31134  1352 59915 15942 66091 13031 53216\n",
      " 55739 12679 50239]\n"
     ]
    }
   ],
   "source": [
    "print(f\"Cleanlab found {len(ordered_label_errors)} potential label errors. Here are the indices of the top 15 most likely ones: \\n {ordered_label_errors[:15]}\")"
   ]
  },
  {
   "cell_type": "markdown",
   "metadata": {},
   "source": [
    "We'll define a new ``plot_examples`` function to display any examples in a subplot conveniently."
   ]
  },
  {
   "cell_type": "code",
   "execution_count": 10,
   "metadata": {
    "execution": {
     "iopub.execute_input": "2022-03-09T02:45:46.578267Z",
     "iopub.status.busy": "2022-03-09T02:45:46.578121Z",
     "iopub.status.idle": "2022-03-09T02:45:47.227380Z",
     "shell.execute_reply": "2022-03-09T02:45:47.226833Z"
    }
   },
   "outputs": [],
   "source": [
    "import matplotlib.pyplot as plt\n",
    "\n",
    "def plot_examples(id_iter, nrows=1, ncols=1):\n",
    "    for count, id in enumerate(id_iter):\n",
    "        plt.subplot(nrows, ncols, count+1)\n",
    "        plt.imshow(X[id].reshape(28, 28))\n",
    "        plt.title(f\"id: {id} \\n label: {y[id]}\")\n",
    "        plt.axis('off')\n",
    "\n",
    "    plt.tight_layout(h_pad=2.0)"
   ]
  },
  {
   "cell_type": "markdown",
   "metadata": {},
   "source": [
    "Let's start by having an overview of the top 15 most likely label errors. From here, we can see a few label errors and edge cases. Feel free to change the parameters to display more or fewer examples. "
   ]
  },
  {
   "cell_type": "code",
   "execution_count": 11,
   "metadata": {
    "execution": {
     "iopub.execute_input": "2022-03-09T02:45:47.230044Z",
     "iopub.status.busy": "2022-03-09T02:45:47.229852Z",
     "iopub.status.idle": "2022-03-09T02:45:47.632689Z",
     "shell.execute_reply": "2022-03-09T02:45:47.632093Z"
    }
   },
   "outputs": [
    {
     "data": {
      "image/png": "[encoded data removed]",
      "text/plain": [
       "<Figure size 432x288 with 15 Axes>"
      ]
     },
     "metadata": {
      "needs_background": "light"
     },
     "output_type": "display_data"
    }
   ],
   "source": [
    "plot_examples(ordered_label_errors[range(15)], 3, 5)"
   ]
  },
  {
   "cell_type": "markdown",
   "metadata": {},
   "source": [
    "Let's zoom into specific examples:"
   ]
  },
  {
   "cell_type": "markdown",
   "metadata": {},
   "source": [
    "Given label is **4** but looks more like a **7**"
   ]
  },
  {
   "cell_type": "code",
   "execution_count": 12,
   "metadata": {
    "execution": {
     "iopub.execute_input": "2022-03-09T02:45:47.635558Z",
     "iopub.status.busy": "2022-03-09T02:45:47.635209Z",
     "iopub.status.idle": "2022-03-09T02:45:47.690994Z",
     "shell.execute_reply": "2022-03-09T02:45:47.690518Z"
    }
   },
   "outputs": [
    {
     "data": {
      "image/png": "[encoded data removed]",
      "text/plain": [
       "<Figure size 432x288 with 1 Axes>"
      ]
     },
     "metadata": {
      "needs_background": "light"
     },
     "output_type": "display_data"
    }
   ],
   "source": [
    "plot_examples([59915])"
   ]
  },
  {
   "cell_type": "markdown",
   "metadata": {},
   "source": [
    "Given label is **4** but also looks like **9**"
   ]
  },
  {
   "cell_type": "code",
   "execution_count": 13,
   "metadata": {
    "execution": {
     "iopub.execute_input": "2022-03-09T02:45:47.695179Z",
     "iopub.status.busy": "2022-03-09T02:45:47.694202Z",
     "iopub.status.idle": "2022-03-09T02:45:47.752667Z",
     "shell.execute_reply": "2022-03-09T02:45:47.752185Z"
    }
   },
   "outputs": [
    {
     "data": {
      "image/png": "[encoded data removed]",
      "text/plain": [
       "<Figure size 432x288 with 1 Axes>"
      ]
     },
     "metadata": {
      "needs_background": "light"
     },
     "output_type": "display_data"
    }
   ],
   "source": [
    "plot_examples([24798])"
   ]
  },
  {
   "cell_type": "markdown",
   "metadata": {},
   "source": [
    "Edge case of odd looking **9**s"
   ]
  },
  {
   "cell_type": "code",
   "execution_count": 14,
   "metadata": {
    "execution": {
     "iopub.execute_input": "2022-03-09T02:45:47.756800Z",
     "iopub.status.busy": "2022-03-09T02:45:47.755847Z",
     "iopub.status.idle": "2022-03-09T02:45:47.972511Z",
     "shell.execute_reply": "2022-03-09T02:45:47.971928Z"
    }
   },
   "outputs": [
    {
     "data": {
      "image/png": "[encoded data removed]",
      "text/plain": [
       "<Figure size 432x288 with 3 Axes>"
      ]
     },
     "metadata": {
      "needs_background": "light"
     },
     "output_type": "display_data"
    }
   ],
   "source": [
    "plot_examples([18598, 1352, 61247], 1, 3)"
   ]
  },
  {
   "cell_type": "markdown",
   "metadata": {},
   "source": [
    "Cleanlab has shortlisted the most likely label errors to speed up your data cleaning process. With this list, you can decide whether to fix label errors, augment edge cases or remove obscure examples. \n",
    "\n",
    "These human-in-the-loop processes may be time-consuming, so if you'd like Cleanlab to automatically remove these noisy examples and train a model directly on the partially mislabeled dataset, you're in luck! Cleanlab provides a ``LearningWithNoisyLabels`` wrapper to do precisely this:"
   ]
  },
  {
   "cell_type": "markdown",
   "metadata": {},
   "source": [
    "## 8. Adapt with Cleanlab's wrapper and train a more robust model"
   ]
  },
  {
   "cell_type": "markdown",
   "metadata": {},
   "source": [
    "First, we split the dataset into train and test subsets."
   ]
  },
  {
   "cell_type": "code",
   "execution_count": 15,
   "metadata": {
    "execution": {
     "iopub.execute_input": "2022-03-09T02:45:47.975554Z",
     "iopub.status.busy": "2022-03-09T02:45:47.975189Z",
     "iopub.status.idle": "2022-03-09T02:45:48.295594Z",
     "shell.execute_reply": "2022-03-09T02:45:48.295013Z"
    }
   },
   "outputs": [],
   "source": [
    "from sklearn.model_selection import train_test_split\n",
    "\n",
    "X_train, X_test, y_train, y_test = train_test_split(X, y, test_size=0.2)"
   ]
  },
  {
   "cell_type": "markdown",
   "metadata": {},
   "source": [
    "Re-instantiate a new scikit-learn compatible model with Skorch then wrap it with Cleanlab's ``LearningWithNoisyLabels`` wrapper."
   ]
  },
  {
   "cell_type": "code",
   "execution_count": 16,
   "metadata": {
    "execution": {
     "iopub.execute_input": "2022-03-09T02:45:48.298354Z",
     "iopub.status.busy": "2022-03-09T02:45:48.298199Z",
     "iopub.status.idle": "2022-03-09T02:45:48.301411Z",
     "shell.execute_reply": "2022-03-09T02:45:48.300811Z"
    }
   },
   "outputs": [],
   "source": [
    "from cleanlab.classification import LearningWithNoisyLabels\n",
    "\n",
    "net = NeuralNetClassifier(NeuralNetwork)\n",
    "clf = LearningWithNoisyLabels(clf=net)"
   ]
  },
  {
   "cell_type": "code",
   "execution_count": 17,
   "metadata": {
    "execution": {
     "iopub.execute_input": "2022-03-09T02:45:48.303533Z",
     "iopub.status.busy": "2022-03-09T02:45:48.303377Z",
     "iopub.status.idle": "2022-03-09T02:46:58.827897Z",
     "shell.execute_reply": "2022-03-09T02:46:58.827284Z"
    }
   },
   "outputs": [
    {
     "name": "stdout",
     "output_type": "stream",
     "text": [
      "  epoch    train_loss    valid_acc    valid_loss     dur\n",
      "-------  ------------  -----------  ------------  ------\n",
      "      1        \u001b[36m1.9991\u001b[0m       \u001b[32m0.7406\u001b[0m        \u001b[35m1.5933\u001b[0m  1.1023\n"
     ]
    },
    {
     "name": "stdout",
     "output_type": "stream",
     "text": [
      "      2        \u001b[36m1.3147\u001b[0m       \u001b[32m0.8235\u001b[0m        \u001b[35m0.9770\u001b[0m  1.1051\n"
     ]
    },
    {
     "name": "stdout",
     "output_type": "stream",
     "text": [
      "      3        \u001b[36m0.9377\u001b[0m       \u001b[32m0.8480\u001b[0m        \u001b[35m0.7246\u001b[0m  1.1028\n"
     ]
    },
    {
     "name": "stdout",
     "output_type": "stream",
     "text": [
      "      4        \u001b[36m0.7687\u001b[0m       \u001b[32m0.8625\u001b[0m        \u001b[35m0.6060\u001b[0m  1.1063\n"
     ]
    },
    {
     "name": "stdout",
     "output_type": "stream",
     "text": [
      "      5        \u001b[36m0.6781\u001b[0m       \u001b[32m0.8722\u001b[0m        \u001b[35m0.5370\u001b[0m  1.1061\n"
     ]
    },
    {
     "name": "stdout",
     "output_type": "stream",
     "text": [
      "      6        \u001b[36m0.6151\u001b[0m       \u001b[32m0.8794\u001b[0m        \u001b[35m0.4913\u001b[0m  1.1095\n"
     ]
    },
    {
     "name": "stdout",
     "output_type": "stream",
     "text": [
      "      7        \u001b[36m0.5720\u001b[0m       \u001b[32m0.8853\u001b[0m        \u001b[35m0.4587\u001b[0m  1.1050\n"
     ]
    },
    {
     "name": "stdout",
     "output_type": "stream",
     "text": [
      "      8        \u001b[36m0.5448\u001b[0m       \u001b[32m0.8892\u001b[0m        \u001b[35m0.4349\u001b[0m  1.1035\n"
     ]
    },
    {
     "name": "stdout",
     "output_type": "stream",
     "text": [
      "      9        \u001b[36m0.5156\u001b[0m       \u001b[32m0.8926\u001b[0m        \u001b[35m0.4153\u001b[0m  1.1066\n"
     ]
    },
    {
     "name": "stdout",
     "output_type": "stream",
     "text": [
      "     10        \u001b[36m0.4954\u001b[0m       \u001b[32m0.8965\u001b[0m        \u001b[35m0.3995\u001b[0m  1.1051\n"
     ]
    },
    {
     "name": "stdout",
     "output_type": "stream",
     "text": [
      "  epoch    train_loss    valid_acc    valid_loss     dur\n",
      "-------  ------------  -----------  ------------  ------\n",
      "      1        \u001b[36m2.0071\u001b[0m       \u001b[32m0.7383\u001b[0m        \u001b[35m1.6077\u001b[0m  1.1007\n"
     ]
    },
    {
     "name": "stdout",
     "output_type": "stream",
     "text": [
      "      2        \u001b[36m1.3247\u001b[0m       \u001b[32m0.8098\u001b[0m        \u001b[35m0.9876\u001b[0m  1.1013\n"
     ]
    },
    {
     "name": "stdout",
     "output_type": "stream",
     "text": [
      "      3        \u001b[36m0.9443\u001b[0m       \u001b[32m0.8422\u001b[0m        \u001b[35m0.7315\u001b[0m  1.1040\n"
     ]
    },
    {
     "name": "stdout",
     "output_type": "stream",
     "text": [
      "      4        \u001b[36m0.7728\u001b[0m       \u001b[32m0.8581\u001b[0m        \u001b[35m0.6101\u001b[0m  1.1013\n"
     ]
    },
    {
     "name": "stdout",
     "output_type": "stream",
     "text": [
      "      5        \u001b[36m0.6802\u001b[0m       \u001b[32m0.8670\u001b[0m        \u001b[35m0.5409\u001b[0m  1.1030\n"
     ]
    },
    {
     "name": "stdout",
     "output_type": "stream",
     "text": [
      "      6        \u001b[36m0.6218\u001b[0m       \u001b[32m0.8751\u001b[0m        \u001b[35m0.4948\u001b[0m  1.1145\n"
     ]
    },
    {
     "name": "stdout",
     "output_type": "stream",
     "text": [
      "      7        \u001b[36m0.5770\u001b[0m       \u001b[32m0.8779\u001b[0m        \u001b[35m0.4617\u001b[0m  1.1100\n"
     ]
    },
    {
     "name": "stdout",
     "output_type": "stream",
     "text": [
      "      8        \u001b[36m0.5430\u001b[0m       \u001b[32m0.8836\u001b[0m        \u001b[35m0.4371\u001b[0m  1.1011\n"
     ]
    },
    {
     "name": "stdout",
     "output_type": "stream",
     "text": [
      "      9        \u001b[36m0.5191\u001b[0m       \u001b[32m0.8866\u001b[0m        \u001b[35m0.4175\u001b[0m  1.1018\n"
     ]
    },
    {
     "name": "stdout",
     "output_type": "stream",
     "text": [
      "     10        \u001b[36m0.4960\u001b[0m       \u001b[32m0.8895\u001b[0m        \u001b[35m0.4008\u001b[0m  1.1039\n"
     ]
    },
    {
     "name": "stdout",
     "output_type": "stream",
     "text": [
      "  epoch    train_loss    valid_acc    valid_loss     dur\n",
      "-------  ------------  -----------  ------------  ------\n",
      "      1        \u001b[36m2.0009\u001b[0m       \u001b[32m0.7310\u001b[0m        \u001b[35m1.5891\u001b[0m  1.1019\n"
     ]
    },
    {
     "name": "stdout",
     "output_type": "stream",
     "text": [
      "      2        \u001b[36m1.3027\u001b[0m       \u001b[32m0.8148\u001b[0m        \u001b[35m0.9623\u001b[0m  1.1033\n"
     ]
    },
    {
     "name": "stdout",
     "output_type": "stream",
     "text": [
      "      3        \u001b[36m0.9243\u001b[0m       \u001b[32m0.8452\u001b[0m        \u001b[35m0.7130\u001b[0m  1.1028\n"
     ]
    },
    {
     "name": "stdout",
     "output_type": "stream",
     "text": [
      "      4        \u001b[36m0.7588\u001b[0m       \u001b[32m0.8619\u001b[0m        \u001b[35m0.5965\u001b[0m  1.1013\n"
     ]
    },
    {
     "name": "stdout",
     "output_type": "stream",
     "text": [
      "      5        \u001b[36m0.6682\u001b[0m       \u001b[32m0.8699\u001b[0m        \u001b[35m0.5307\u001b[0m  1.1043\n"
     ]
    },
    {
     "name": "stdout",
     "output_type": "stream",
     "text": [
      "      6        \u001b[36m0.6087\u001b[0m       \u001b[32m0.8776\u001b[0m        \u001b[35m0.4861\u001b[0m  1.1050\n"
     ]
    },
    {
     "name": "stdout",
     "output_type": "stream",
     "text": [
      "      7        \u001b[36m0.5662\u001b[0m       \u001b[32m0.8819\u001b[0m        \u001b[35m0.4544\u001b[0m  1.1049\n"
     ]
    },
    {
     "name": "stdout",
     "output_type": "stream",
     "text": [
      "      8        \u001b[36m0.5338\u001b[0m       \u001b[32m0.8864\u001b[0m        \u001b[35m0.4303\u001b[0m  1.1043\n"
     ]
    },
    {
     "name": "stdout",
     "output_type": "stream",
     "text": [
      "      9        \u001b[36m0.5082\u001b[0m       \u001b[32m0.8902\u001b[0m        \u001b[35m0.4114\u001b[0m  1.1211\n"
     ]
    },
    {
     "name": "stdout",
     "output_type": "stream",
     "text": [
      "     10        \u001b[36m0.4886\u001b[0m       \u001b[32m0.8921\u001b[0m        \u001b[35m0.3961\u001b[0m  1.1021\n"
     ]
    },
    {
     "name": "stdout",
     "output_type": "stream",
     "text": [
      "  epoch    train_loss    valid_acc    valid_loss     dur\n",
      "-------  ------------  -----------  ------------  ------\n",
      "      1        \u001b[36m1.9904\u001b[0m       \u001b[32m0.7547\u001b[0m        \u001b[35m1.5808\u001b[0m  1.1035\n"
     ]
    },
    {
     "name": "stdout",
     "output_type": "stream",
     "text": [
      "      2        \u001b[36m1.2986\u001b[0m       \u001b[32m0.8208\u001b[0m        \u001b[35m0.9578\u001b[0m  1.1171\n"
     ]
    },
    {
     "name": "stdout",
     "output_type": "stream",
     "text": [
      "      3        \u001b[36m0.9210\u001b[0m       \u001b[32m0.8477\u001b[0m        \u001b[35m0.7063\u001b[0m  1.1041\n"
     ]
    },
    {
     "name": "stdout",
     "output_type": "stream",
     "text": [
      "      4        \u001b[36m0.7539\u001b[0m       \u001b[32m0.8635\u001b[0m        \u001b[35m0.5881\u001b[0m  1.1294\n"
     ]
    },
    {
     "name": "stdout",
     "output_type": "stream",
     "text": [
      "      5        \u001b[36m0.6684\u001b[0m       \u001b[32m0.8724\u001b[0m        \u001b[35m0.5220\u001b[0m  1.1031\n"
     ]
    },
    {
     "name": "stdout",
     "output_type": "stream",
     "text": [
      "      6        \u001b[36m0.6071\u001b[0m       \u001b[32m0.8788\u001b[0m        \u001b[35m0.4785\u001b[0m  1.1078\n"
     ]
    },
    {
     "name": "stdout",
     "output_type": "stream",
     "text": [
      "      7        \u001b[36m0.5650\u001b[0m       \u001b[32m0.8855\u001b[0m        \u001b[35m0.4467\u001b[0m  1.1022\n"
     ]
    },
    {
     "name": "stdout",
     "output_type": "stream",
     "text": [
      "      8        \u001b[36m0.5363\u001b[0m       \u001b[32m0.8879\u001b[0m        \u001b[35m0.4232\u001b[0m  1.1029\n"
     ]
    },
    {
     "name": "stdout",
     "output_type": "stream",
     "text": [
      "      9        \u001b[36m0.5072\u001b[0m       \u001b[32m0.8930\u001b[0m        \u001b[35m0.4036\u001b[0m  1.1027\n"
     ]
    },
    {
     "name": "stdout",
     "output_type": "stream",
     "text": [
      "     10        \u001b[36m0.4889\u001b[0m       \u001b[32m0.8953\u001b[0m        \u001b[35m0.3886\u001b[0m  1.1041\n"
     ]
    },
    {
     "name": "stdout",
     "output_type": "stream",
     "text": [
      "  epoch    train_loss    valid_acc    valid_loss     dur\n",
      "-------  ------------  -----------  ------------  ------\n",
      "      1        \u001b[36m1.9984\u001b[0m       \u001b[32m0.7360\u001b[0m        \u001b[35m1.5876\u001b[0m  1.1026\n"
     ]
    },
    {
     "name": "stdout",
     "output_type": "stream",
     "text": [
      "      2        \u001b[36m1.3015\u001b[0m       \u001b[32m0.8131\u001b[0m        \u001b[35m0.9677\u001b[0m  1.1021\n"
     ]
    },
    {
     "name": "stdout",
     "output_type": "stream",
     "text": [
      "      3        \u001b[36m0.9231\u001b[0m       \u001b[32m0.8441\u001b[0m        \u001b[35m0.7179\u001b[0m  1.1031\n"
     ]
    },
    {
     "name": "stdout",
     "output_type": "stream",
     "text": [
      "      4        \u001b[36m0.7628\u001b[0m       \u001b[32m0.8578\u001b[0m        \u001b[35m0.5995\u001b[0m  1.1015\n"
     ]
    },
    {
     "name": "stdout",
     "output_type": "stream",
     "text": [
      "      5        \u001b[36m0.6663\u001b[0m       \u001b[32m0.8708\u001b[0m        \u001b[35m0.5298\u001b[0m  1.1041\n"
     ]
    },
    {
     "name": "stdout",
     "output_type": "stream",
     "text": [
      "      6        \u001b[36m0.6118\u001b[0m       \u001b[32m0.8791\u001b[0m        \u001b[35m0.4851\u001b[0m  1.1027\n"
     ]
    },
    {
     "name": "stdout",
     "output_type": "stream",
     "text": [
      "      7        \u001b[36m0.5666\u001b[0m       \u001b[32m0.8855\u001b[0m        \u001b[35m0.4526\u001b[0m  1.1043\n"
     ]
    },
    {
     "name": "stdout",
     "output_type": "stream",
     "text": [
      "      8        \u001b[36m0.5301\u001b[0m       \u001b[32m0.8898\u001b[0m        \u001b[35m0.4271\u001b[0m  1.1031\n"
     ]
    },
    {
     "name": "stdout",
     "output_type": "stream",
     "text": [
      "      9        \u001b[36m0.5081\u001b[0m       \u001b[32m0.8936\u001b[0m        \u001b[35m0.4080\u001b[0m  1.1032\n"
     ]
    },
    {
     "name": "stdout",
     "output_type": "stream",
     "text": [
      "     10        \u001b[36m0.4876\u001b[0m       \u001b[32m0.8956\u001b[0m        \u001b[35m0.3930\u001b[0m  1.1033\n"
     ]
    },
    {
     "name": "stdout",
     "output_type": "stream",
     "text": [
      "  epoch    train_loss    valid_acc    valid_loss     dur\n",
      "-------  ------------  -----------  ------------  ------\n",
      "      1        \u001b[36m1.9108\u001b[0m       \u001b[32m0.7495\u001b[0m        \u001b[35m1.3893\u001b[0m  1.3564\n"
     ]
    },
    {
     "name": "stdout",
     "output_type": "stream",
     "text": [
      "      2        \u001b[36m1.1223\u001b[0m       \u001b[32m0.8480\u001b[0m        \u001b[35m0.7911\u001b[0m  1.3546\n"
     ]
    },
    {
     "name": "stdout",
     "output_type": "stream",
     "text": [
      "      3        \u001b[36m0.7865\u001b[0m       \u001b[32m0.8724\u001b[0m        \u001b[35m0.5804\u001b[0m  1.3635\n"
     ]
    },
    {
     "name": "stdout",
     "output_type": "stream",
     "text": [
      "      4        \u001b[36m0.6406\u001b[0m       \u001b[32m0.8866\u001b[0m        \u001b[35m0.4807\u001b[0m  1.3543\n"
     ]
    },
    {
     "name": "stdout",
     "output_type": "stream",
     "text": [
      "      5        \u001b[36m0.5591\u001b[0m       \u001b[32m0.8957\u001b[0m        \u001b[35m0.4205\u001b[0m  1.3574\n"
     ]
    },
    {
     "name": "stdout",
     "output_type": "stream",
     "text": [
      "      6        \u001b[36m0.5090\u001b[0m       \u001b[32m0.9012\u001b[0m        \u001b[35m0.3808\u001b[0m  1.3592\n"
     ]
    },
    {
     "name": "stdout",
     "output_type": "stream",
     "text": [
      "      7        \u001b[36m0.4671\u001b[0m       \u001b[32m0.9060\u001b[0m        \u001b[35m0.3523\u001b[0m  1.3649\n"
     ]
    },
    {
     "name": "stdout",
     "output_type": "stream",
     "text": [
      "      8        \u001b[36m0.4406\u001b[0m       \u001b[32m0.9101\u001b[0m        \u001b[35m0.3305\u001b[0m  1.3549\n"
     ]
    },
    {
     "name": "stdout",
     "output_type": "stream",
     "text": [
      "      9        \u001b[36m0.4170\u001b[0m       \u001b[32m0.9121\u001b[0m        \u001b[35m0.3137\u001b[0m  1.4031\n"
     ]
    },
    {
     "name": "stdout",
     "output_type": "stream",
     "text": [
      "     10        \u001b[36m0.3967\u001b[0m       \u001b[32m0.9150\u001b[0m        \u001b[35m0.2992\u001b[0m  1.3719\n"
     ]
    }
   ],
   "source": [
    "_ = clf.fit(X_train, y_train.to_numpy())"
   ]
  },
  {
   "cell_type": "markdown",
   "metadata": {},
   "source": [
    "## 9. Evaluate the robust model's performance"
   ]
  },
  {
   "cell_type": "code",
   "execution_count": 18,
   "metadata": {
    "execution": {
     "iopub.execute_input": "2022-03-09T02:46:58.830477Z",
     "iopub.status.busy": "2022-03-09T02:46:58.830315Z",
     "iopub.status.idle": "2022-03-09T02:46:59.065814Z",
     "shell.execute_reply": "2022-03-09T02:46:59.065053Z"
    }
   },
   "outputs": [
    {
     "data": {
      "text/plain": [
       "0.9011428571428571"
      ]
     },
     "execution_count": 18,
     "metadata": {},
     "output_type": "execute_result"
    }
   ],
   "source": [
    "from sklearn.metrics import accuracy_score\n",
    "\n",
    "y_pred = clf.predict(X_test)\n",
    "accuracy_score(y_test, y_pred)"
   ]
  },
  {
   "cell_type": "markdown",
   "metadata": {},
   "source": [
    "## What's next?"
   ]
  },
  {
   "cell_type": "markdown",
   "metadata": {},
   "source": [
    "Congratulations on completing this tutorial! Check out our following tutorial on using Cleanlab for text classification, where we found ``hundreds`` of potential label errors in one of the most well-known text datasets, the IMBDb movie review dataset!"
   ]
  }
 ],
 "metadata": {
  "interpreter": {
   "hash": "ced20e3e49bb4fa4ce8ad38f8f2535b7fc4c39b2b89554502b5dbdad1ad67eda"
  },
  "kernelspec": {
   "display_name": "Python 3.10.0 64-bit",
   "language": "python",
   "name": "python3"
  },
  "language_info": {
   "codemirror_mode": {
    "name": "ipython",
    "version": 3
   },
   "file_extension": ".py",
   "mimetype": "text/x-python",
   "name": "python",
   "nbconvert_exporter": "python",
   "pygments_lexer": "ipython3",
   "version": "3.8.12"
  }
 },
 "nbformat": 4,
 "nbformat_minor": 2
}
