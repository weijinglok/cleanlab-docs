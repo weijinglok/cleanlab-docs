{
 "cells": [
  {
   "cell_type": "markdown",
   "metadata": {},
   "source": [
    "# Image Classification with Cleanlab, PyTorch & Skorch"
   ]
  },
  {
   "cell_type": "markdown",
   "metadata": {},
   "source": [
    "This tutorial will use Cleanlab to find potential label errors in the MNIST handwritten digit image dataset. This dataset contains 60,000 images of handwritten digits from 0 to 9. We'll find *more than a thousand* highly suspicious examples with label errors and edge cases by the end of this tutorial. \n",
    "\n",
    "**Overview of what we'll do in this tutorial:**\n",
    "\n",
    "- Build a simple PyTorch neural net and wrap it with Skorch to make it scikit-learn compatible.\n",
    "\n",
    "- Compute the cross-validated predicted probabilities, ``pyx``, sometimes known as the out-of-sample predicted probabilities.\n",
    "\n",
    "- Generate a list of potential label errors with Cleanlab's ``get_noise_indices``.\n",
    "\n",
    "- Build and train a more robust model than the vanilla model after adapting it with Cleanlab's ``LearningWithNoisyLabels``. \n",
    "\n",
    "**Data:** https://www.openml.org/d/554"
   ]
  },
  {
   "cell_type": "markdown",
   "metadata": {},
   "source": [
    "## 1. Install the required dependencies"
   ]
  },
  {
   "cell_type": "markdown",
   "metadata": {},
   "source": [
    "``%%capture`` is a magic function to hides the cell's output."
   ]
  },
  {
   "cell_type": "code",
   "execution_count": 1,
   "metadata": {
    "execution": {
     "iopub.execute_input": "2022-03-09T03:02:25.703066Z",
     "iopub.status.busy": "2022-03-09T03:02:25.702597Z",
     "iopub.status.idle": "2022-03-09T03:02:51.142943Z",
     "shell.execute_reply": "2022-03-09T03:02:51.142295Z"
    }
   },
   "outputs": [],
   "source": [
    "%%capture\n",
    "\n",
    "%pip install cleanlab pandas matplotlib torch torchvision skorch"
   ]
  },
  {
   "cell_type": "markdown",
   "metadata": {},
   "source": [
    "## 2. Fetch and scale the MNIST dataset"
   ]
  },
  {
   "cell_type": "code",
   "execution_count": 2,
   "metadata": {
    "execution": {
     "iopub.execute_input": "2022-03-09T03:02:51.146093Z",
     "iopub.status.busy": "2022-03-09T03:02:51.145743Z",
     "iopub.status.idle": "2022-03-09T03:03:40.849303Z",
     "shell.execute_reply": "2022-03-09T03:03:40.848703Z"
    }
   },
   "outputs": [],
   "source": [
    "from sklearn.datasets import fetch_openml\n",
    "\n",
    "# Fetch the MNIST dataset\n",
    "mnist = fetch_openml('mnist_784')\n",
    "\n",
    "# Assign the data features and labels to variable X and y respectively \n",
    "X = mnist.data.astype('float32')\n",
    "y = mnist.target.astype('int64')\n"
   ]
  },
  {
   "cell_type": "markdown",
   "metadata": {},
   "source": [
    "<div class=\"alert alert-info\">\n",
    "\n",
    "Bringing Your Own Data (BYOD)?\n",
    "\n",
    "Assign your data's features to variable ``X`` and its labels to variable ``y`` instead.\n",
    "\n",
    "</div>"
   ]
  },
  {
   "cell_type": "code",
   "execution_count": 3,
   "metadata": {
    "execution": {
     "iopub.execute_input": "2022-03-09T03:03:40.852319Z",
     "iopub.status.busy": "2022-03-09T03:03:40.851962Z",
     "iopub.status.idle": "2022-03-09T03:03:40.939092Z",
     "shell.execute_reply": "2022-03-09T03:03:40.938534Z"
    }
   },
   "outputs": [],
   "source": [
    "\n",
    "# Scale the features which range from 0 to 255 (256 levels on the grayscale) \n",
    "X /= 255.0\n",
    "\n",
    "# Then convert it to a numpy array\n",
    "X = X.to_numpy()"
   ]
  },
  {
   "cell_type": "markdown",
   "metadata": {},
   "source": [
    "## 3. Define a classification model"
   ]
  },
  {
   "cell_type": "markdown",
   "metadata": {},
   "source": [
    "Here, we define a simple neural network with PyTorch."
   ]
  },
  {
   "cell_type": "code",
   "execution_count": 4,
   "metadata": {
    "execution": {
     "iopub.execute_input": "2022-03-09T03:03:40.941796Z",
     "iopub.status.busy": "2022-03-09T03:03:40.941635Z",
     "iopub.status.idle": "2022-03-09T03:03:41.306236Z",
     "shell.execute_reply": "2022-03-09T03:03:41.305677Z"
    }
   },
   "outputs": [],
   "source": [
    "from torch import nn\n",
    "\n",
    "class NeuralNetwork(nn.Module):\n",
    "    def __init__(self):\n",
    "        super(NeuralNetwork, self).__init__()\n",
    "        self.dropout = nn.Dropout(0.5)\n",
    "        self.hidden = nn.Linear(28*28, 128)\n",
    "        self.output = nn.Linear(128, 10)\n",
    "\n",
    "    def forward(self, X):\n",
    "        X = nn.functional.relu(self.hidden(X))\n",
    "        X = self.dropout(X)\n",
    "        X = nn.functional.softmax(self.output(X), dim=-1)\n",
    "        return X"
   ]
  },
  {
   "cell_type": "markdown",
   "metadata": {},
   "source": [
    "## 4. Wrap with Skorch for scikit-learn compatibility"
   ]
  },
  {
   "cell_type": "markdown",
   "metadata": {},
   "source": [
    "As some of Cleanlab's feature requires scikit-learn compatibility, we will need to adapt the above PyTorch neural net accordingly. Skorch is a convenient package that helps with this, read more about it here: https://skorch.readthedocs.io"
   ]
  },
  {
   "cell_type": "code",
   "execution_count": 5,
   "metadata": {
    "execution": {
     "iopub.execute_input": "2022-03-09T03:03:41.309029Z",
     "iopub.status.busy": "2022-03-09T03:03:41.308878Z",
     "iopub.status.idle": "2022-03-09T03:03:41.395898Z",
     "shell.execute_reply": "2022-03-09T03:03:41.395383Z"
    }
   },
   "outputs": [],
   "source": [
    "from skorch import NeuralNetClassifier\n",
    "\n",
    "# Wrap the PyTorch neural net around Skorch's NeuralNetClassifier wrapper\n",
    "net = NeuralNetClassifier(NeuralNetwork)"
   ]
  },
  {
   "cell_type": "markdown",
   "metadata": {},
   "source": [
    "## 5. Compute the cross-validated predicted probabilities"
   ]
  },
  {
   "cell_type": "markdown",
   "metadata": {},
   "source": [
    "If we'd like Cleanlab to identify potential label errors in the whole dataset and not just the training set, we can consider fitting the entire dataset. We will only use this model instance to compute the cross-validated predicted probabilities, ``pyx``, and not for model evaluation."
   ]
  },
  {
   "cell_type": "code",
   "execution_count": 6,
   "metadata": {
    "execution": {
     "iopub.execute_input": "2022-03-09T03:03:41.398554Z",
     "iopub.status.busy": "2022-03-09T03:03:41.398320Z",
     "iopub.status.idle": "2022-03-09T03:04:02.792238Z",
     "shell.execute_reply": "2022-03-09T03:04:02.791679Z"
    }
   },
   "outputs": [
    {
     "name": "stdout",
     "output_type": "stream",
     "text": [
      "  epoch    train_loss    valid_acc    valid_loss     dur\n",
      "-------  ------------  -----------  ------------  ------\n",
      "      1        \u001b[36m1.8270\u001b[0m       \u001b[32m0.7667\u001b[0m        \u001b[35m1.2088\u001b[0m  2.1348\n"
     ]
    },
    {
     "name": "stdout",
     "output_type": "stream",
     "text": [
      "      2        \u001b[36m0.9979\u001b[0m       \u001b[32m0.8341\u001b[0m        \u001b[35m0.7114\u001b[0m  2.1359\n"
     ]
    },
    {
     "name": "stdout",
     "output_type": "stream",
     "text": [
      "      3        \u001b[36m0.7279\u001b[0m       \u001b[32m0.8592\u001b[0m        \u001b[35m0.5569\u001b[0m  2.1280\n"
     ]
    },
    {
     "name": "stdout",
     "output_type": "stream",
     "text": [
      "      4        \u001b[36m0.6172\u001b[0m       \u001b[32m0.8747\u001b[0m        \u001b[35m0.4817\u001b[0m  2.1279\n"
     ]
    },
    {
     "name": "stdout",
     "output_type": "stream",
     "text": [
      "      5        \u001b[36m0.5550\u001b[0m       \u001b[32m0.8860\u001b[0m        \u001b[35m0.4353\u001b[0m  2.1264\n"
     ]
    },
    {
     "name": "stdout",
     "output_type": "stream",
     "text": [
      "      6        \u001b[36m0.5109\u001b[0m       \u001b[32m0.8920\u001b[0m        \u001b[35m0.4049\u001b[0m  2.1298\n"
     ]
    },
    {
     "name": "stdout",
     "output_type": "stream",
     "text": [
      "      7        \u001b[36m0.4814\u001b[0m       \u001b[32m0.8989\u001b[0m        \u001b[35m0.3805\u001b[0m  2.1327\n"
     ]
    },
    {
     "name": "stdout",
     "output_type": "stream",
     "text": [
      "      8        \u001b[36m0.4531\u001b[0m       \u001b[32m0.9019\u001b[0m        \u001b[35m0.3625\u001b[0m  2.1446\n"
     ]
    },
    {
     "name": "stdout",
     "output_type": "stream",
     "text": [
      "      9        \u001b[36m0.4356\u001b[0m       \u001b[32m0.9043\u001b[0m        \u001b[35m0.3480\u001b[0m  2.1334\n"
     ]
    },
    {
     "name": "stdout",
     "output_type": "stream",
     "text": [
      "     10        \u001b[36m0.4210\u001b[0m       \u001b[32m0.9075\u001b[0m        \u001b[35m0.3354\u001b[0m  2.1273\n"
     ]
    }
   ],
   "source": [
    "_ = net.fit(X, y)"
   ]
  },
  {
   "cell_type": "markdown",
   "metadata": {},
   "source": [
    "Compute the cross-validated predicted probabilities, ``pyx``, sometimes also known as the out-of-sample predicted probabilities."
   ]
  },
  {
   "cell_type": "code",
   "execution_count": 7,
   "metadata": {
    "execution": {
     "iopub.execute_input": "2022-03-09T03:04:02.794671Z",
     "iopub.status.busy": "2022-03-09T03:04:02.794517Z",
     "iopub.status.idle": "2022-03-09T03:04:38.119348Z",
     "shell.execute_reply": "2022-03-09T03:04:38.118772Z"
    }
   },
   "outputs": [
    {
     "name": "stdout",
     "output_type": "stream",
     "text": [
      "  epoch    train_loss    valid_acc    valid_loss     dur\n",
      "-------  ------------  -----------  ------------  ------\n",
      "      1        \u001b[36m1.9755\u001b[0m       \u001b[32m0.7340\u001b[0m        \u001b[35m1.5558\u001b[0m  1.1245\n"
     ]
    },
    {
     "name": "stdout",
     "output_type": "stream",
     "text": [
      "      2        \u001b[36m1.2443\u001b[0m       \u001b[32m0.7931\u001b[0m        \u001b[35m0.9517\u001b[0m  1.1765\n"
     ]
    },
    {
     "name": "stdout",
     "output_type": "stream",
     "text": [
      "      3        \u001b[36m0.8785\u001b[0m       \u001b[32m0.8319\u001b[0m        \u001b[35m0.7182\u001b[0m  1.1265\n"
     ]
    },
    {
     "name": "stdout",
     "output_type": "stream",
     "text": [
      "      4        \u001b[36m0.7194\u001b[0m       \u001b[32m0.8511\u001b[0m        \u001b[35m0.6081\u001b[0m  1.1255\n"
     ]
    },
    {
     "name": "stdout",
     "output_type": "stream",
     "text": [
      "      5        \u001b[36m0.6365\u001b[0m       \u001b[32m0.8603\u001b[0m        \u001b[35m0.5437\u001b[0m  1.1272\n"
     ]
    },
    {
     "name": "stdout",
     "output_type": "stream",
     "text": [
      "      6        \u001b[36m0.5806\u001b[0m       \u001b[32m0.8669\u001b[0m        \u001b[35m0.5010\u001b[0m  1.1253\n"
     ]
    },
    {
     "name": "stdout",
     "output_type": "stream",
     "text": [
      "      7        \u001b[36m0.5396\u001b[0m       \u001b[32m0.8717\u001b[0m        \u001b[35m0.4693\u001b[0m  1.1258\n"
     ]
    },
    {
     "name": "stdout",
     "output_type": "stream",
     "text": [
      "      8        \u001b[36m0.5136\u001b[0m       \u001b[32m0.8758\u001b[0m        \u001b[35m0.4465\u001b[0m  1.1232\n"
     ]
    },
    {
     "name": "stdout",
     "output_type": "stream",
     "text": [
      "      9        \u001b[36m0.4852\u001b[0m       \u001b[32m0.8801\u001b[0m        \u001b[35m0.4272\u001b[0m  1.1634\n"
     ]
    },
    {
     "name": "stdout",
     "output_type": "stream",
     "text": [
      "     10        \u001b[36m0.4671\u001b[0m       \u001b[32m0.8823\u001b[0m        \u001b[35m0.4119\u001b[0m  1.1300\n"
     ]
    },
    {
     "name": "stdout",
     "output_type": "stream",
     "text": [
      "  epoch    train_loss    valid_acc    valid_loss     dur\n",
      "-------  ------------  -----------  ------------  ------\n",
      "      1        \u001b[36m2.0198\u001b[0m       \u001b[32m0.7276\u001b[0m        \u001b[35m1.6156\u001b[0m  1.1253\n"
     ]
    },
    {
     "name": "stdout",
     "output_type": "stream",
     "text": [
      "      2        \u001b[36m1.3019\u001b[0m       \u001b[32m0.8062\u001b[0m        \u001b[35m0.9665\u001b[0m  1.1222\n"
     ]
    },
    {
     "name": "stdout",
     "output_type": "stream",
     "text": [
      "      3        \u001b[36m0.9095\u001b[0m       \u001b[32m0.8421\u001b[0m        \u001b[35m0.7123\u001b[0m  1.1243\n"
     ]
    },
    {
     "name": "stdout",
     "output_type": "stream",
     "text": [
      "      4        \u001b[36m0.7384\u001b[0m       \u001b[32m0.8597\u001b[0m        \u001b[35m0.5931\u001b[0m  1.1244\n"
     ]
    },
    {
     "name": "stdout",
     "output_type": "stream",
     "text": [
      "      5        \u001b[36m0.6510\u001b[0m       \u001b[32m0.8719\u001b[0m        \u001b[35m0.5259\u001b[0m  1.1340\n"
     ]
    },
    {
     "name": "stdout",
     "output_type": "stream",
     "text": [
      "      6        \u001b[36m0.5883\u001b[0m       \u001b[32m0.8780\u001b[0m        \u001b[35m0.4806\u001b[0m  1.1247\n"
     ]
    },
    {
     "name": "stdout",
     "output_type": "stream",
     "text": [
      "      7        \u001b[36m0.5508\u001b[0m       \u001b[32m0.8842\u001b[0m        \u001b[35m0.4488\u001b[0m  1.1228\n"
     ]
    },
    {
     "name": "stdout",
     "output_type": "stream",
     "text": [
      "      8        \u001b[36m0.5172\u001b[0m       \u001b[32m0.8882\u001b[0m        \u001b[35m0.4247\u001b[0m  1.1229\n"
     ]
    },
    {
     "name": "stdout",
     "output_type": "stream",
     "text": [
      "      9        \u001b[36m0.4948\u001b[0m       \u001b[32m0.8906\u001b[0m        \u001b[35m0.4064\u001b[0m  1.1262\n"
     ]
    },
    {
     "name": "stdout",
     "output_type": "stream",
     "text": [
      "     10        \u001b[36m0.4719\u001b[0m       \u001b[32m0.8930\u001b[0m        \u001b[35m0.3908\u001b[0m  1.1535\n"
     ]
    },
    {
     "name": "stdout",
     "output_type": "stream",
     "text": [
      "  epoch    train_loss    valid_acc    valid_loss     dur\n",
      "-------  ------------  -----------  ------------  ------\n",
      "      1        \u001b[36m2.0112\u001b[0m       \u001b[32m0.7369\u001b[0m        \u001b[35m1.5944\u001b[0m  1.1220\n"
     ]
    },
    {
     "name": "stdout",
     "output_type": "stream",
     "text": [
      "      2        \u001b[36m1.3052\u001b[0m       \u001b[32m0.8081\u001b[0m        \u001b[35m0.9592\u001b[0m  1.1224\n"
     ]
    },
    {
     "name": "stdout",
     "output_type": "stream",
     "text": [
      "      3        \u001b[36m0.9284\u001b[0m       \u001b[32m0.8427\u001b[0m        \u001b[35m0.7130\u001b[0m  1.1218\n"
     ]
    },
    {
     "name": "stdout",
     "output_type": "stream",
     "text": [
      "      4        \u001b[36m0.7694\u001b[0m       \u001b[32m0.8601\u001b[0m        \u001b[35m0.5972\u001b[0m  1.1211\n"
     ]
    },
    {
     "name": "stdout",
     "output_type": "stream",
     "text": [
      "      5        \u001b[36m0.6750\u001b[0m       \u001b[32m0.8709\u001b[0m        \u001b[35m0.5283\u001b[0m  1.1250\n"
     ]
    },
    {
     "name": "stdout",
     "output_type": "stream",
     "text": [
      "      6        \u001b[36m0.6205\u001b[0m       \u001b[32m0.8789\u001b[0m        \u001b[35m0.4824\u001b[0m  1.1232\n"
     ]
    },
    {
     "name": "stdout",
     "output_type": "stream",
     "text": [
      "      7        \u001b[36m0.5750\u001b[0m       \u001b[32m0.8856\u001b[0m        \u001b[35m0.4482\u001b[0m  1.1269\n"
     ]
    },
    {
     "name": "stdout",
     "output_type": "stream",
     "text": [
      "      8        \u001b[36m0.5431\u001b[0m       \u001b[32m0.8904\u001b[0m        \u001b[35m0.4230\u001b[0m  1.1235\n"
     ]
    },
    {
     "name": "stdout",
     "output_type": "stream",
     "text": [
      "      9        \u001b[36m0.5171\u001b[0m       \u001b[32m0.8957\u001b[0m        \u001b[35m0.4024\u001b[0m  1.1214\n"
     ]
    },
    {
     "name": "stdout",
     "output_type": "stream",
     "text": [
      "     10        \u001b[36m0.4959\u001b[0m       \u001b[32m0.8979\u001b[0m        \u001b[35m0.3849\u001b[0m  1.1251\n"
     ]
    }
   ],
   "source": [
    "from sklearn.model_selection import cross_val_predict\n",
    "\n",
    "pyx = cross_val_predict(net, X, y, cv=3, method='predict_proba')"
   ]
  },
  {
   "cell_type": "markdown",
   "metadata": {},
   "source": [
    "## 6. Run Cleanlab to find potential label errors"
   ]
  },
  {
   "cell_type": "markdown",
   "metadata": {},
   "source": [
    "Cleanlab has a ``get_noise_indices`` function to generate a list of potential label errors. Setting ``sorted_index_method=\"prob_given_label\"`` returns the indices of all the most likely label errors, sorted by the most suspicious example first."
   ]
  },
  {
   "cell_type": "code",
   "execution_count": 8,
   "metadata": {
    "execution": {
     "iopub.execute_input": "2022-03-09T03:04:38.122146Z",
     "iopub.status.busy": "2022-03-09T03:04:38.121988Z",
     "iopub.status.idle": "2022-03-09T03:04:38.450618Z",
     "shell.execute_reply": "2022-03-09T03:04:38.449973Z"
    }
   },
   "outputs": [],
   "source": [
    "from cleanlab.pruning import get_noise_indices\n",
    "\n",
    "ordered_label_errors = get_noise_indices(\n",
    "    s=y,\n",
    "    psx=pyx,\n",
    "    sorted_index_method=\"prob_given_label\"\n",
    ")"
   ]
  },
  {
   "cell_type": "markdown",
   "metadata": {},
   "source": [
    "## 7. Review some of the most likely mislabeled examples"
   ]
  },
  {
   "cell_type": "code",
   "execution_count": 9,
   "metadata": {
    "execution": {
     "iopub.execute_input": "2022-03-09T03:04:38.453463Z",
     "iopub.status.busy": "2022-03-09T03:04:38.453294Z",
     "iopub.status.idle": "2022-03-09T03:04:38.457146Z",
     "shell.execute_reply": "2022-03-09T03:04:38.456584Z"
    }
   },
   "outputs": [
    {
     "name": "stdout",
     "output_type": "stream",
     "text": [
      "Cleanlab found 1249 potential label errors. Here are the indices of the top 15 most likely ones: \n",
      " [24798  8729 18598 61790 59915 66091 15942  1352  7010 55739 53216 39457\n",
      " 20820 12679 69009]\n"
     ]
    }
   ],
   "source": [
    "print(f\"Cleanlab found {len(ordered_label_errors)} potential label errors. Here are the indices of the top 15 most likely ones: \\n {ordered_label_errors[:15]}\")"
   ]
  },
  {
   "cell_type": "markdown",
   "metadata": {},
   "source": [
    "We'll define a new ``plot_examples`` function to display any examples in a subplot conveniently."
   ]
  },
  {
   "cell_type": "code",
   "execution_count": 10,
   "metadata": {
    "execution": {
     "iopub.execute_input": "2022-03-09T03:04:38.459338Z",
     "iopub.status.busy": "2022-03-09T03:04:38.459192Z",
     "iopub.status.idle": "2022-03-09T03:04:39.096172Z",
     "shell.execute_reply": "2022-03-09T03:04:39.095631Z"
    }
   },
   "outputs": [],
   "source": [
    "import matplotlib.pyplot as plt\n",
    "\n",
    "def plot_examples(id_iter, nrows=1, ncols=1):\n",
    "    for count, id in enumerate(id_iter):\n",
    "        plt.subplot(nrows, ncols, count+1)\n",
    "        plt.imshow(X[id].reshape(28, 28))\n",
    "        plt.title(f\"id: {id} \\n label: {y[id]}\")\n",
    "        plt.axis('off')\n",
    "\n",
    "    plt.tight_layout(h_pad=2.0)"
   ]
  },
  {
   "cell_type": "markdown",
   "metadata": {},
   "source": [
    "Let's start by having an overview of the top 15 most likely label errors. From here, we can see a few label errors and edge cases. Feel free to change the parameters to display more or fewer examples. "
   ]
  },
  {
   "cell_type": "code",
   "execution_count": 11,
   "metadata": {
    "execution": {
     "iopub.execute_input": "2022-03-09T03:04:39.098960Z",
     "iopub.status.busy": "2022-03-09T03:04:39.098807Z",
     "iopub.status.idle": "2022-03-09T03:04:39.489613Z",
     "shell.execute_reply": "2022-03-09T03:04:39.489097Z"
    }
   },
   "outputs": [
    {
     "data": {
      "image/png": "[encoded data removed]",
      "text/plain": [
       "<Figure size 432x288 with 15 Axes>"
      ]
     },
     "metadata": {
      "needs_background": "light"
     },
     "output_type": "display_data"
    }
   ],
   "source": [
    "plot_examples(ordered_label_errors[range(15)], 3, 5)"
   ]
  },
  {
   "cell_type": "markdown",
   "metadata": {},
   "source": [
    "Let's zoom into specific examples:"
   ]
  },
  {
   "cell_type": "markdown",
   "metadata": {},
   "source": [
    "Given label is **4** but looks more like a **7**"
   ]
  },
  {
   "cell_type": "code",
   "execution_count": 12,
   "metadata": {
    "execution": {
     "iopub.execute_input": "2022-03-09T03:04:39.492743Z",
     "iopub.status.busy": "2022-03-09T03:04:39.491778Z",
     "iopub.status.idle": "2022-03-09T03:04:39.543068Z",
     "shell.execute_reply": "2022-03-09T03:04:39.542564Z"
    }
   },
   "outputs": [
    {
     "data": {
      "image/png": "[encoded data removed]",
      "text/plain": [
       "<Figure size 432x288 with 1 Axes>"
      ]
     },
     "metadata": {
      "needs_background": "light"
     },
     "output_type": "display_data"
    }
   ],
   "source": [
    "plot_examples([59915])"
   ]
  },
  {
   "cell_type": "markdown",
   "metadata": {},
   "source": [
    "Given label is **4** but also looks like **9**"
   ]
  },
  {
   "cell_type": "code",
   "execution_count": 13,
   "metadata": {
    "execution": {
     "iopub.execute_input": "2022-03-09T03:04:39.546044Z",
     "iopub.status.busy": "2022-03-09T03:04:39.545858Z",
     "iopub.status.idle": "2022-03-09T03:04:39.602154Z",
     "shell.execute_reply": "2022-03-09T03:04:39.601634Z"
    }
   },
   "outputs": [
    {
     "data": {
      "image/png": "[encoded data removed]",
      "text/plain": [
       "<Figure size 432x288 with 1 Axes>"
      ]
     },
     "metadata": {
      "needs_background": "light"
     },
     "output_type": "display_data"
    }
   ],
   "source": [
    "plot_examples([24798])"
   ]
  },
  {
   "cell_type": "markdown",
   "metadata": {},
   "source": [
    "Edge case of odd looking **9**s"
   ]
  },
  {
   "cell_type": "code",
   "execution_count": 14,
   "metadata": {
    "execution": {
     "iopub.execute_input": "2022-03-09T03:04:39.604920Z",
     "iopub.status.busy": "2022-03-09T03:04:39.604754Z",
     "iopub.status.idle": "2022-03-09T03:04:39.800859Z",
     "shell.execute_reply": "2022-03-09T03:04:39.800329Z"
    }
   },
   "outputs": [
    {
     "data": {
      "image/png": "[encoded data removed]",
      "text/plain": [
       "<Figure size 432x288 with 3 Axes>"
      ]
     },
     "metadata": {
      "needs_background": "light"
     },
     "output_type": "display_data"
    }
   ],
   "source": [
    "plot_examples([18598, 1352, 61247], 1, 3)"
   ]
  },
  {
   "cell_type": "markdown",
   "metadata": {},
   "source": [
    "Cleanlab has shortlisted the most likely label errors to speed up your data cleaning process. With this list, you can decide whether to fix label errors, augment edge cases or remove obscure examples. \n",
    "\n",
    "These human-in-the-loop processes may be time-consuming, so if you'd like Cleanlab to automatically remove these noisy examples and train a model directly on the partially mislabeled dataset, you're in luck! Cleanlab provides a ``LearningWithNoisyLabels`` wrapper to do precisely this:"
   ]
  },
  {
   "cell_type": "markdown",
   "metadata": {},
   "source": [
    "## 8. Adapt with Cleanlab's wrapper and train a more robust model"
   ]
  },
  {
   "cell_type": "markdown",
   "metadata": {},
   "source": [
    "First, we split the dataset into train and test subsets."
   ]
  },
  {
   "cell_type": "code",
   "execution_count": 15,
   "metadata": {
    "execution": {
     "iopub.execute_input": "2022-03-09T03:04:39.803621Z",
     "iopub.status.busy": "2022-03-09T03:04:39.803150Z",
     "iopub.status.idle": "2022-03-09T03:04:40.101695Z",
     "shell.execute_reply": "2022-03-09T03:04:40.101113Z"
    }
   },
   "outputs": [],
   "source": [
    "from sklearn.model_selection import train_test_split\n",
    "\n",
    "X_train, X_test, y_train, y_test = train_test_split(X, y, test_size=0.2)"
   ]
  },
  {
   "cell_type": "markdown",
   "metadata": {},
   "source": [
    "Re-instantiate a new scikit-learn compatible model with Skorch then wrap it with Cleanlab's ``LearningWithNoisyLabels`` wrapper."
   ]
  },
  {
   "cell_type": "code",
   "execution_count": 16,
   "metadata": {
    "execution": {
     "iopub.execute_input": "2022-03-09T03:04:40.104854Z",
     "iopub.status.busy": "2022-03-09T03:04:40.104431Z",
     "iopub.status.idle": "2022-03-09T03:04:40.108383Z",
     "shell.execute_reply": "2022-03-09T03:04:40.107892Z"
    }
   },
   "outputs": [],
   "source": [
    "from cleanlab.classification import LearningWithNoisyLabels\n",
    "\n",
    "net = NeuralNetClassifier(NeuralNetwork)\n",
    "clf = LearningWithNoisyLabels(clf=net)"
   ]
  },
  {
   "cell_type": "code",
   "execution_count": 17,
   "metadata": {
    "execution": {
     "iopub.execute_input": "2022-03-09T03:04:40.110563Z",
     "iopub.status.busy": "2022-03-09T03:04:40.110279Z",
     "iopub.status.idle": "2022-03-09T03:05:49.150893Z",
     "shell.execute_reply": "2022-03-09T03:05:49.150241Z"
    }
   },
   "outputs": [
    {
     "name": "stdout",
     "output_type": "stream",
     "text": [
      "  epoch    train_loss    valid_acc    valid_loss     dur\n",
      "-------  ------------  -----------  ------------  ------\n",
      "      1        \u001b[36m2.0241\u001b[0m       \u001b[32m0.7397\u001b[0m        \u001b[35m1.6195\u001b[0m  1.0793\n"
     ]
    },
    {
     "name": "stdout",
     "output_type": "stream",
     "text": [
      "      2        \u001b[36m1.3246\u001b[0m       \u001b[32m0.8187\u001b[0m        \u001b[35m0.9766\u001b[0m  1.0846\n"
     ]
    },
    {
     "name": "stdout",
     "output_type": "stream",
     "text": [
      "      3        \u001b[36m0.9373\u001b[0m       \u001b[32m0.8494\u001b[0m        \u001b[35m0.7193\u001b[0m  1.0798\n"
     ]
    },
    {
     "name": "stdout",
     "output_type": "stream",
     "text": [
      "      4        \u001b[36m0.7710\u001b[0m       \u001b[32m0.8629\u001b[0m        \u001b[35m0.5973\u001b[0m  1.0833\n"
     ]
    },
    {
     "name": "stdout",
     "output_type": "stream",
     "text": [
      "      5        \u001b[36m0.6802\u001b[0m       \u001b[32m0.8731\u001b[0m        \u001b[35m0.5266\u001b[0m  1.0838\n"
     ]
    },
    {
     "name": "stdout",
     "output_type": "stream",
     "text": [
      "      6        \u001b[36m0.6225\u001b[0m       \u001b[32m0.8835\u001b[0m        \u001b[35m0.4805\u001b[0m  1.0799\n"
     ]
    },
    {
     "name": "stdout",
     "output_type": "stream",
     "text": [
      "      7        \u001b[36m0.5781\u001b[0m       \u001b[32m0.8874\u001b[0m        \u001b[35m0.4473\u001b[0m  1.0805\n"
     ]
    },
    {
     "name": "stdout",
     "output_type": "stream",
     "text": [
      "      8        \u001b[36m0.5443\u001b[0m       \u001b[32m0.8904\u001b[0m        \u001b[35m0.4222\u001b[0m  1.0802\n"
     ]
    },
    {
     "name": "stdout",
     "output_type": "stream",
     "text": [
      "      9        \u001b[36m0.5212\u001b[0m       \u001b[32m0.8936\u001b[0m        \u001b[35m0.4022\u001b[0m  1.0822\n"
     ]
    },
    {
     "name": "stdout",
     "output_type": "stream",
     "text": [
      "     10        \u001b[36m0.4965\u001b[0m       \u001b[32m0.8969\u001b[0m        \u001b[35m0.3858\u001b[0m  1.0995\n"
     ]
    },
    {
     "name": "stdout",
     "output_type": "stream",
     "text": [
      "  epoch    train_loss    valid_acc    valid_loss     dur\n",
      "-------  ------------  -----------  ------------  ------\n",
      "      1        \u001b[36m2.0130\u001b[0m       \u001b[32m0.7368\u001b[0m        \u001b[35m1.6023\u001b[0m  1.0907\n"
     ]
    },
    {
     "name": "stdout",
     "output_type": "stream",
     "text": [
      "      2        \u001b[36m1.3131\u001b[0m       \u001b[32m0.8107\u001b[0m        \u001b[35m0.9659\u001b[0m  1.0791\n"
     ]
    },
    {
     "name": "stdout",
     "output_type": "stream",
     "text": [
      "      3        \u001b[36m0.9371\u001b[0m       \u001b[32m0.8435\u001b[0m        \u001b[35m0.7145\u001b[0m  1.0793\n"
     ]
    },
    {
     "name": "stdout",
     "output_type": "stream",
     "text": [
      "      4        \u001b[36m0.7711\u001b[0m       \u001b[32m0.8637\u001b[0m        \u001b[35m0.5945\u001b[0m  1.0805\n"
     ]
    },
    {
     "name": "stdout",
     "output_type": "stream",
     "text": [
      "      5        \u001b[36m0.6834\u001b[0m       \u001b[32m0.8751\u001b[0m        \u001b[35m0.5244\u001b[0m  1.0817\n"
     ]
    },
    {
     "name": "stdout",
     "output_type": "stream",
     "text": [
      "      6        \u001b[36m0.6200\u001b[0m       \u001b[32m0.8843\u001b[0m        \u001b[35m0.4765\u001b[0m  1.0986\n"
     ]
    },
    {
     "name": "stdout",
     "output_type": "stream",
     "text": [
      "      7        \u001b[36m0.5826\u001b[0m       \u001b[32m0.8906\u001b[0m        \u001b[35m0.4437\u001b[0m  1.0786\n"
     ]
    },
    {
     "name": "stdout",
     "output_type": "stream",
     "text": [
      "      8        \u001b[36m0.5497\u001b[0m       \u001b[32m0.8960\u001b[0m        \u001b[35m0.4184\u001b[0m  1.0794\n"
     ]
    },
    {
     "name": "stdout",
     "output_type": "stream",
     "text": [
      "      9        \u001b[36m0.5214\u001b[0m       \u001b[32m0.8997\u001b[0m        \u001b[35m0.3973\u001b[0m  1.0791\n"
     ]
    },
    {
     "name": "stdout",
     "output_type": "stream",
     "text": [
      "     10        \u001b[36m0.5018\u001b[0m       \u001b[32m0.9020\u001b[0m        \u001b[35m0.3806\u001b[0m  1.0866\n"
     ]
    },
    {
     "name": "stdout",
     "output_type": "stream",
     "text": [
      "  epoch    train_loss    valid_acc    valid_loss     dur\n",
      "-------  ------------  -----------  ------------  ------\n",
      "      1        \u001b[36m2.0057\u001b[0m       \u001b[32m0.7617\u001b[0m        \u001b[35m1.5960\u001b[0m  1.0801\n"
     ]
    },
    {
     "name": "stdout",
     "output_type": "stream",
     "text": [
      "      2        \u001b[36m1.3142\u001b[0m       \u001b[32m0.8213\u001b[0m        \u001b[35m0.9590\u001b[0m  1.0830\n"
     ]
    },
    {
     "name": "stdout",
     "output_type": "stream",
     "text": [
      "      3        \u001b[36m0.9347\u001b[0m       \u001b[32m0.8510\u001b[0m        \u001b[35m0.7029\u001b[0m  1.0808\n"
     ]
    },
    {
     "name": "stdout",
     "output_type": "stream",
     "text": [
      "      4        \u001b[36m0.7695\u001b[0m       \u001b[32m0.8689\u001b[0m        \u001b[35m0.5833\u001b[0m  1.0803\n"
     ]
    },
    {
     "name": "stdout",
     "output_type": "stream",
     "text": [
      "      5        \u001b[36m0.6792\u001b[0m       \u001b[32m0.8798\u001b[0m        \u001b[35m0.5150\u001b[0m  1.0822\n"
     ]
    },
    {
     "name": "stdout",
     "output_type": "stream",
     "text": [
      "      6        \u001b[36m0.6175\u001b[0m       \u001b[32m0.8864\u001b[0m        \u001b[35m0.4690\u001b[0m  1.0829\n"
     ]
    },
    {
     "name": "stdout",
     "output_type": "stream",
     "text": [
      "      7        \u001b[36m0.5763\u001b[0m       \u001b[32m0.8931\u001b[0m        \u001b[35m0.4369\u001b[0m  1.0813\n"
     ]
    },
    {
     "name": "stdout",
     "output_type": "stream",
     "text": [
      "      8        \u001b[36m0.5445\u001b[0m       \u001b[32m0.8968\u001b[0m        \u001b[35m0.4128\u001b[0m  1.0795\n"
     ]
    },
    {
     "name": "stdout",
     "output_type": "stream",
     "text": [
      "      9        \u001b[36m0.5223\u001b[0m       \u001b[32m0.8989\u001b[0m        \u001b[35m0.3931\u001b[0m  1.0804\n"
     ]
    },
    {
     "name": "stdout",
     "output_type": "stream",
     "text": [
      "     10        \u001b[36m0.4950\u001b[0m       \u001b[32m0.9013\u001b[0m        \u001b[35m0.3771\u001b[0m  1.0799\n"
     ]
    },
    {
     "name": "stdout",
     "output_type": "stream",
     "text": [
      "  epoch    train_loss    valid_acc    valid_loss     dur\n",
      "-------  ------------  -----------  ------------  ------\n",
      "      1        \u001b[36m2.0001\u001b[0m       \u001b[32m0.7615\u001b[0m        \u001b[35m1.5838\u001b[0m  1.0785\n"
     ]
    },
    {
     "name": "stdout",
     "output_type": "stream",
     "text": [
      "      2        \u001b[36m1.3002\u001b[0m       \u001b[32m0.8243\u001b[0m        \u001b[35m0.9518\u001b[0m  1.0779\n"
     ]
    },
    {
     "name": "stdout",
     "output_type": "stream",
     "text": [
      "      3        \u001b[36m0.9257\u001b[0m       \u001b[32m0.8501\u001b[0m        \u001b[35m0.7015\u001b[0m  1.0775\n"
     ]
    },
    {
     "name": "stdout",
     "output_type": "stream",
     "text": [
      "      4        \u001b[36m0.7602\u001b[0m       \u001b[32m0.8677\u001b[0m        \u001b[35m0.5832\u001b[0m  1.0779\n"
     ]
    },
    {
     "name": "stdout",
     "output_type": "stream",
     "text": [
      "      5        \u001b[36m0.6678\u001b[0m       \u001b[32m0.8802\u001b[0m        \u001b[35m0.5140\u001b[0m  1.0808\n"
     ]
    },
    {
     "name": "stdout",
     "output_type": "stream",
     "text": [
      "      6        \u001b[36m0.6089\u001b[0m       \u001b[32m0.8872\u001b[0m        \u001b[35m0.4690\u001b[0m  1.0991\n"
     ]
    },
    {
     "name": "stdout",
     "output_type": "stream",
     "text": [
      "      7        \u001b[36m0.5677\u001b[0m       \u001b[32m0.8942\u001b[0m        \u001b[35m0.4371\u001b[0m  1.0776\n"
     ]
    },
    {
     "name": "stdout",
     "output_type": "stream",
     "text": [
      "      8        \u001b[36m0.5344\u001b[0m       \u001b[32m0.8961\u001b[0m        \u001b[35m0.4128\u001b[0m  1.0787\n"
     ]
    },
    {
     "name": "stdout",
     "output_type": "stream",
     "text": [
      "      9        \u001b[36m0.5095\u001b[0m       \u001b[32m0.9003\u001b[0m        \u001b[35m0.3933\u001b[0m  1.0788\n"
     ]
    },
    {
     "name": "stdout",
     "output_type": "stream",
     "text": [
      "     10        \u001b[36m0.4887\u001b[0m       \u001b[32m0.9033\u001b[0m        \u001b[35m0.3779\u001b[0m  1.0929\n"
     ]
    },
    {
     "name": "stdout",
     "output_type": "stream",
     "text": [
      "  epoch    train_loss    valid_acc    valid_loss     dur\n",
      "-------  ------------  -----------  ------------  ------\n",
      "      1        \u001b[36m1.9930\u001b[0m       \u001b[32m0.7331\u001b[0m        \u001b[35m1.5815\u001b[0m  1.0940\n"
     ]
    },
    {
     "name": "stdout",
     "output_type": "stream",
     "text": [
      "      2        \u001b[36m1.3038\u001b[0m       \u001b[32m0.8098\u001b[0m        \u001b[35m0.9648\u001b[0m  1.0817\n"
     ]
    },
    {
     "name": "stdout",
     "output_type": "stream",
     "text": [
      "      3        \u001b[36m0.9283\u001b[0m       \u001b[32m0.8471\u001b[0m        \u001b[35m0.7121\u001b[0m  1.0794\n"
     ]
    },
    {
     "name": "stdout",
     "output_type": "stream",
     "text": [
      "      4        \u001b[36m0.7645\u001b[0m       \u001b[32m0.8672\u001b[0m        \u001b[35m0.5907\u001b[0m  1.0788\n"
     ]
    },
    {
     "name": "stdout",
     "output_type": "stream",
     "text": [
      "      5        \u001b[36m0.6698\u001b[0m       \u001b[32m0.8798\u001b[0m        \u001b[35m0.5196\u001b[0m  1.0807\n"
     ]
    },
    {
     "name": "stdout",
     "output_type": "stream",
     "text": [
      "      6        \u001b[36m0.6102\u001b[0m       \u001b[32m0.8881\u001b[0m        \u001b[35m0.4726\u001b[0m  1.0795\n"
     ]
    },
    {
     "name": "stdout",
     "output_type": "stream",
     "text": [
      "      7        \u001b[36m0.5648\u001b[0m       \u001b[32m0.8934\u001b[0m        \u001b[35m0.4390\u001b[0m  1.0829\n"
     ]
    },
    {
     "name": "stdout",
     "output_type": "stream",
     "text": [
      "      8        \u001b[36m0.5331\u001b[0m       \u001b[32m0.8965\u001b[0m        \u001b[35m0.4136\u001b[0m  1.0799\n"
     ]
    },
    {
     "name": "stdout",
     "output_type": "stream",
     "text": [
      "      9        \u001b[36m0.5065\u001b[0m       \u001b[32m0.9013\u001b[0m        \u001b[35m0.3938\u001b[0m  1.0928\n"
     ]
    },
    {
     "name": "stdout",
     "output_type": "stream",
     "text": [
      "     10        \u001b[36m0.4843\u001b[0m       \u001b[32m0.9039\u001b[0m        \u001b[35m0.3772\u001b[0m  1.0796\n"
     ]
    },
    {
     "name": "stdout",
     "output_type": "stream",
     "text": [
      "  epoch    train_loss    valid_acc    valid_loss     dur\n",
      "-------  ------------  -----------  ------------  ------\n",
      "      1        \u001b[36m1.9298\u001b[0m       \u001b[32m0.7715\u001b[0m        \u001b[35m1.4057\u001b[0m  1.3294\n"
     ]
    },
    {
     "name": "stdout",
     "output_type": "stream",
     "text": [
      "      2        \u001b[36m1.1263\u001b[0m       \u001b[32m0.8445\u001b[0m        \u001b[35m0.7880\u001b[0m  1.3313\n"
     ]
    },
    {
     "name": "stdout",
     "output_type": "stream",
     "text": [
      "      3        \u001b[36m0.7859\u001b[0m       \u001b[32m0.8732\u001b[0m        \u001b[35m0.5796\u001b[0m  1.3292\n"
     ]
    },
    {
     "name": "stdout",
     "output_type": "stream",
     "text": [
      "      4        \u001b[36m0.6477\u001b[0m       \u001b[32m0.8891\u001b[0m        \u001b[35m0.4813\u001b[0m  1.3315\n"
     ]
    },
    {
     "name": "stdout",
     "output_type": "stream",
     "text": [
      "      5        \u001b[36m0.5646\u001b[0m       \u001b[32m0.9010\u001b[0m        \u001b[35m0.4225\u001b[0m  1.3323\n"
     ]
    },
    {
     "name": "stdout",
     "output_type": "stream",
     "text": [
      "      6        \u001b[36m0.5107\u001b[0m       \u001b[32m0.9069\u001b[0m        \u001b[35m0.3827\u001b[0m  1.3292\n"
     ]
    },
    {
     "name": "stdout",
     "output_type": "stream",
     "text": [
      "      7        \u001b[36m0.4730\u001b[0m       \u001b[32m0.9106\u001b[0m        \u001b[35m0.3542\u001b[0m  1.3353\n"
     ]
    },
    {
     "name": "stdout",
     "output_type": "stream",
     "text": [
      "      8        \u001b[36m0.4435\u001b[0m       \u001b[32m0.9141\u001b[0m        \u001b[35m0.3324\u001b[0m  1.3290\n"
     ]
    },
    {
     "name": "stdout",
     "output_type": "stream",
     "text": [
      "      9        \u001b[36m0.4199\u001b[0m       \u001b[32m0.9167\u001b[0m        \u001b[35m0.3149\u001b[0m  1.3311\n"
     ]
    },
    {
     "name": "stdout",
     "output_type": "stream",
     "text": [
      "     10        \u001b[36m0.4017\u001b[0m       \u001b[32m0.9193\u001b[0m        \u001b[35m0.3009\u001b[0m  1.3360\n"
     ]
    }
   ],
   "source": [
    "_ = clf.fit(X_train, y_train.to_numpy())"
   ]
  },
  {
   "cell_type": "markdown",
   "metadata": {},
   "source": [
    "## 9. Evaluate the robust model's performance"
   ]
  },
  {
   "cell_type": "code",
   "execution_count": 18,
   "metadata": {
    "execution": {
     "iopub.execute_input": "2022-03-09T03:05:49.153531Z",
     "iopub.status.busy": "2022-03-09T03:05:49.153366Z",
     "iopub.status.idle": "2022-03-09T03:05:49.387984Z",
     "shell.execute_reply": "2022-03-09T03:05:49.387371Z"
    }
   },
   "outputs": [
    {
     "data": {
      "text/plain": [
       "0.9000714285714285"
      ]
     },
     "execution_count": 18,
     "metadata": {},
     "output_type": "execute_result"
    }
   ],
   "source": [
    "from sklearn.metrics import accuracy_score\n",
    "\n",
    "y_pred = clf.predict(X_test)\n",
    "accuracy_score(y_test, y_pred)"
   ]
  },
  {
   "cell_type": "markdown",
   "metadata": {},
   "source": [
    "## What's next?"
   ]
  },
  {
   "cell_type": "markdown",
   "metadata": {},
   "source": [
    "Congratulations on completing this tutorial! Check out our following tutorial on using Cleanlab for text classification, where we found ``hundreds`` of potential label errors in one of the most well-known text datasets, the IMBDb movie review dataset!"
   ]
  }
 ],
 "metadata": {
  "interpreter": {
   "hash": "ced20e3e49bb4fa4ce8ad38f8f2535b7fc4c39b2b89554502b5dbdad1ad67eda"
  },
  "kernelspec": {
   "display_name": "Python 3.10.0 64-bit",
   "language": "python",
   "name": "python3"
  },
  "language_info": {
   "codemirror_mode": {
    "name": "ipython",
    "version": 3
   },
   "file_extension": ".py",
   "mimetype": "text/x-python",
   "name": "python",
   "nbconvert_exporter": "python",
   "pygments_lexer": "ipython3",
   "version": "3.8.12"
  }
 },
 "nbformat": 4,
 "nbformat_minor": 2
}
