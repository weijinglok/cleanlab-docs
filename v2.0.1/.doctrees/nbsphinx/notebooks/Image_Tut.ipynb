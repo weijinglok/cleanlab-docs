{
 "cells": [
  {
   "cell_type": "markdown",
   "metadata": {},
   "source": [
    "# Image Classification with Cleanlab, PyTorch & Skorch"
   ]
  },
  {
   "cell_type": "markdown",
   "metadata": {},
   "source": [
    "This tutorial will use Cleanlab to find potential label errors in the MNIST handwritten digit image dataset. This dataset contains 60,000 images of handwritten digits from 0 to 9. We'll find *more than a thousand* highly suspicious examples with label errors and edge cases by the end of this tutorial. \n",
    "\n",
    "**Overview of what we'll do in this tutorial:**\n",
    "\n",
    "- Build a simple PyTorch neural net and wrap it with Skorch to make it scikit-learn compatible.\n",
    "\n",
    "- Compute the cross-validated predicted probabilities, ``pyx``, sometimes known as the out-of-sample predicted probabilities.\n",
    "\n",
    "- Generate a list of potential label errors with Cleanlab's ``get_noise_indices``.\n",
    "\n",
    "- Build and train a more robust model than the vanilla model after adapting it with Cleanlab's ``LearningWithNoisyLabels``. \n",
    "\n",
    "**Data:** https://www.openml.org/d/554"
   ]
  },
  {
   "cell_type": "markdown",
   "metadata": {},
   "source": [
    "## 1. Install the required dependencies"
   ]
  },
  {
   "cell_type": "markdown",
   "metadata": {},
   "source": [
    "``%%capture`` is a magic function to hides the cell's output."
   ]
  },
  {
   "cell_type": "code",
   "execution_count": 1,
   "metadata": {
    "execution": {
     "iopub.execute_input": "2022-03-09T15:03:25.244428Z",
     "iopub.status.busy": "2022-03-09T15:03:25.244193Z",
     "iopub.status.idle": "2022-03-09T15:03:59.678038Z",
     "shell.execute_reply": "2022-03-09T15:03:59.677044Z"
    }
   },
   "outputs": [],
   "source": [
    "%%capture\n",
    "\n",
    "%pip install cleanlab pandas matplotlib torch torchvision skorch"
   ]
  },
  {
   "cell_type": "markdown",
   "metadata": {},
   "source": [
    "## 2. Fetch and scale the MNIST dataset"
   ]
  },
  {
   "cell_type": "code",
   "execution_count": 2,
   "metadata": {
    "execution": {
     "iopub.execute_input": "2022-03-09T15:03:59.683100Z",
     "iopub.status.busy": "2022-03-09T15:03:59.682667Z",
     "iopub.status.idle": "2022-03-09T15:06:13.009111Z",
     "shell.execute_reply": "2022-03-09T15:06:13.008274Z"
    }
   },
   "outputs": [],
   "source": [
    "from sklearn.datasets import fetch_openml\n",
    "\n",
    "# Fetch the MNIST dataset\n",
    "mnist = fetch_openml('mnist_784')\n",
    "\n",
    "# Assign the data features and labels to variable X and y respectively \n",
    "X = mnist.data.astype('float32')\n",
    "y = mnist.target.astype('int64')\n"
   ]
  },
  {
   "cell_type": "markdown",
   "metadata": {},
   "source": [
    "<div class=\"alert alert-info\">\n",
    "\n",
    "Bringing Your Own Data (BYOD)?\n",
    "\n",
    "Assign your data's features to variable ``X`` and its labels to variable ``y`` instead.\n",
    "\n",
    "</div>"
   ]
  },
  {
   "cell_type": "code",
   "execution_count": 3,
   "metadata": {
    "execution": {
     "iopub.execute_input": "2022-03-09T15:06:13.013537Z",
     "iopub.status.busy": "2022-03-09T15:06:13.012969Z",
     "iopub.status.idle": "2022-03-09T15:06:13.216355Z",
     "shell.execute_reply": "2022-03-09T15:06:13.215520Z"
    }
   },
   "outputs": [],
   "source": [
    "\n",
    "# Scale the features which range from 0 to 255 (256 levels on the grayscale) \n",
    "X /= 255.0\n",
    "\n",
    "# Then convert it to a numpy array\n",
    "X = X.to_numpy()"
   ]
  },
  {
   "cell_type": "markdown",
   "metadata": {},
   "source": [
    "## 3. Define a classification model"
   ]
  },
  {
   "cell_type": "markdown",
   "metadata": {},
   "source": [
    "Here, we define a simple neural network with PyTorch."
   ]
  },
  {
   "cell_type": "code",
   "execution_count": 4,
   "metadata": {
    "execution": {
     "iopub.execute_input": "2022-03-09T15:06:13.220615Z",
     "iopub.status.busy": "2022-03-09T15:06:13.220242Z",
     "iopub.status.idle": "2022-03-09T15:06:14.082250Z",
     "shell.execute_reply": "2022-03-09T15:06:14.081432Z"
    }
   },
   "outputs": [],
   "source": [
    "from torch import nn\n",
    "\n",
    "class NeuralNetwork(nn.Module):\n",
    "    def __init__(self):\n",
    "        super(NeuralNetwork, self).__init__()\n",
    "        self.dropout = nn.Dropout(0.5)\n",
    "        self.hidden = nn.Linear(28*28, 128)\n",
    "        self.output = nn.Linear(128, 10)\n",
    "\n",
    "    def forward(self, X):\n",
    "        X = nn.functional.relu(self.hidden(X))\n",
    "        X = self.dropout(X)\n",
    "        X = nn.functional.softmax(self.output(X), dim=-1)\n",
    "        return X"
   ]
  },
  {
   "cell_type": "markdown",
   "metadata": {},
   "source": [
    "## 4. Wrap with Skorch for scikit-learn compatibility"
   ]
  },
  {
   "cell_type": "markdown",
   "metadata": {},
   "source": [
    "As some of Cleanlab's feature requires scikit-learn compatibility, we will need to adapt the above PyTorch neural net accordingly. Skorch is a convenient package that helps with this, read more about it here: https://skorch.readthedocs.io"
   ]
  },
  {
   "cell_type": "code",
   "execution_count": 5,
   "metadata": {
    "execution": {
     "iopub.execute_input": "2022-03-09T15:06:14.087492Z",
     "iopub.status.busy": "2022-03-09T15:06:14.086587Z",
     "iopub.status.idle": "2022-03-09T15:06:14.237058Z",
     "shell.execute_reply": "2022-03-09T15:06:14.236238Z"
    }
   },
   "outputs": [],
   "source": [
    "from skorch import NeuralNetClassifier\n",
    "\n",
    "# Wrap the PyTorch neural net around Skorch's NeuralNetClassifier wrapper\n",
    "net = NeuralNetClassifier(NeuralNetwork)"
   ]
  },
  {
   "cell_type": "markdown",
   "metadata": {},
   "source": [
    "## 5. Compute the cross-validated predicted probabilities"
   ]
  },
  {
   "cell_type": "markdown",
   "metadata": {},
   "source": [
    "If we'd like Cleanlab to identify potential label errors in the whole dataset and not just the training set, we can consider fitting the entire dataset. We will only use this model instance to compute the cross-validated predicted probabilities, ``pyx``, and not for model evaluation."
   ]
  },
  {
   "cell_type": "code",
   "execution_count": 6,
   "metadata": {
    "execution": {
     "iopub.execute_input": "2022-03-09T15:06:14.241238Z",
     "iopub.status.busy": "2022-03-09T15:06:14.240829Z",
     "iopub.status.idle": "2022-03-09T15:06:36.260475Z",
     "shell.execute_reply": "2022-03-09T15:06:36.259476Z"
    }
   },
   "outputs": [
    {
     "name": "stdout",
     "output_type": "stream",
     "text": [
      "  epoch    train_loss    valid_acc    valid_loss     dur\n",
      "-------  ------------  -----------  ------------  ------\n",
      "      1        \u001b[36m1.8040\u001b[0m       \u001b[32m0.7924\u001b[0m        \u001b[35m1.1809\u001b[0m  2.2792\n"
     ]
    },
    {
     "name": "stdout",
     "output_type": "stream",
     "text": [
      "      2        \u001b[36m0.9748\u001b[0m       \u001b[32m0.8430\u001b[0m        \u001b[35m0.6918\u001b[0m  2.2826\n"
     ]
    },
    {
     "name": "stdout",
     "output_type": "stream",
     "text": [
      "      3        \u001b[36m0.7127\u001b[0m       \u001b[32m0.8649\u001b[0m        \u001b[35m0.5439\u001b[0m  2.1875\n"
     ]
    },
    {
     "name": "stdout",
     "output_type": "stream",
     "text": [
      "      4        \u001b[36m0.6064\u001b[0m       \u001b[32m0.8787\u001b[0m        \u001b[35m0.4723\u001b[0m  2.1735\n"
     ]
    },
    {
     "name": "stdout",
     "output_type": "stream",
     "text": [
      "      5        \u001b[36m0.5447\u001b[0m       \u001b[32m0.8874\u001b[0m        \u001b[35m0.4290\u001b[0m  2.1469\n"
     ]
    },
    {
     "name": "stdout",
     "output_type": "stream",
     "text": [
      "      6        \u001b[36m0.5052\u001b[0m       \u001b[32m0.8923\u001b[0m        \u001b[35m0.4004\u001b[0m  2.1756\n"
     ]
    },
    {
     "name": "stdout",
     "output_type": "stream",
     "text": [
      "      7        \u001b[36m0.4745\u001b[0m       \u001b[32m0.8954\u001b[0m        \u001b[35m0.3791\u001b[0m  2.1475\n"
     ]
    },
    {
     "name": "stdout",
     "output_type": "stream",
     "text": [
      "      8        \u001b[36m0.4530\u001b[0m       \u001b[32m0.9000\u001b[0m        \u001b[35m0.3619\u001b[0m  2.1550\n"
     ]
    },
    {
     "name": "stdout",
     "output_type": "stream",
     "text": [
      "      9        \u001b[36m0.4314\u001b[0m       \u001b[32m0.9035\u001b[0m        \u001b[35m0.3471\u001b[0m  2.1487\n"
     ]
    },
    {
     "name": "stdout",
     "output_type": "stream",
     "text": [
      "     10        \u001b[36m0.4168\u001b[0m       \u001b[32m0.9060\u001b[0m        \u001b[35m0.3354\u001b[0m  2.2250\n"
     ]
    }
   ],
   "source": [
    "_ = net.fit(X, y)"
   ]
  },
  {
   "cell_type": "markdown",
   "metadata": {},
   "source": [
    "Compute the cross-validated predicted probabilities, ``pyx``, sometimes also known as the out-of-sample predicted probabilities."
   ]
  },
  {
   "cell_type": "code",
   "execution_count": 7,
   "metadata": {
    "execution": {
     "iopub.execute_input": "2022-03-09T15:06:36.263864Z",
     "iopub.status.busy": "2022-03-09T15:06:36.263510Z",
     "iopub.status.idle": "2022-03-09T15:07:07.629578Z",
     "shell.execute_reply": "2022-03-09T15:07:07.628859Z"
    }
   },
   "outputs": [
    {
     "name": "stdout",
     "output_type": "stream",
     "text": [
      "  epoch    train_loss    valid_acc    valid_loss     dur\n",
      "-------  ------------  -----------  ------------  ------\n",
      "      1        \u001b[36m1.9841\u001b[0m       \u001b[32m0.7234\u001b[0m        \u001b[35m1.5668\u001b[0m  0.9469\n"
     ]
    },
    {
     "name": "stdout",
     "output_type": "stream",
     "text": [
      "      2        \u001b[36m1.2626\u001b[0m       \u001b[32m0.7944\u001b[0m        \u001b[35m0.9614\u001b[0m  1.0087\n"
     ]
    },
    {
     "name": "stdout",
     "output_type": "stream",
     "text": [
      "      3        \u001b[36m0.8951\u001b[0m       \u001b[32m0.8314\u001b[0m        \u001b[35m0.7256\u001b[0m  0.9241\n"
     ]
    },
    {
     "name": "stdout",
     "output_type": "stream",
     "text": [
      "      4        \u001b[36m0.7321\u001b[0m       \u001b[32m0.8494\u001b[0m        \u001b[35m0.6135\u001b[0m  0.9351\n"
     ]
    },
    {
     "name": "stdout",
     "output_type": "stream",
     "text": [
      "      5        \u001b[36m0.6494\u001b[0m       \u001b[32m0.8582\u001b[0m        \u001b[35m0.5482\u001b[0m  0.9229\n"
     ]
    },
    {
     "name": "stdout",
     "output_type": "stream",
     "text": [
      "      6        \u001b[36m0.5913\u001b[0m       \u001b[32m0.8676\u001b[0m        \u001b[35m0.5042\u001b[0m  0.9427\n"
     ]
    },
    {
     "name": "stdout",
     "output_type": "stream",
     "text": [
      "      7        \u001b[36m0.5510\u001b[0m       \u001b[32m0.8730\u001b[0m        \u001b[35m0.4748\u001b[0m  0.9611\n"
     ]
    },
    {
     "name": "stdout",
     "output_type": "stream",
     "text": [
      "      8        \u001b[36m0.5190\u001b[0m       \u001b[32m0.8757\u001b[0m        \u001b[35m0.4492\u001b[0m  0.9976\n"
     ]
    },
    {
     "name": "stdout",
     "output_type": "stream",
     "text": [
      "      9        \u001b[36m0.4977\u001b[0m       \u001b[32m0.8783\u001b[0m        \u001b[35m0.4323\u001b[0m  0.9442\n"
     ]
    },
    {
     "name": "stdout",
     "output_type": "stream",
     "text": [
      "     10        \u001b[36m0.4747\u001b[0m       \u001b[32m0.8804\u001b[0m        \u001b[35m0.4151\u001b[0m  0.9773\n"
     ]
    },
    {
     "name": "stdout",
     "output_type": "stream",
     "text": [
      "  epoch    train_loss    valid_acc    valid_loss     dur\n",
      "-------  ------------  -----------  ------------  ------\n",
      "      1        \u001b[36m1.9805\u001b[0m       \u001b[32m0.7556\u001b[0m        \u001b[35m1.5470\u001b[0m  0.9800\n"
     ]
    },
    {
     "name": "stdout",
     "output_type": "stream",
     "text": [
      "      2        \u001b[36m1.2543\u001b[0m       \u001b[32m0.8175\u001b[0m        \u001b[35m0.9349\u001b[0m  0.9883\n"
     ]
    },
    {
     "name": "stdout",
     "output_type": "stream",
     "text": [
      "      3        \u001b[36m0.8900\u001b[0m       \u001b[32m0.8380\u001b[0m        \u001b[35m0.7018\u001b[0m  0.9595\n"
     ]
    },
    {
     "name": "stdout",
     "output_type": "stream",
     "text": [
      "      4        \u001b[36m0.7369\u001b[0m       \u001b[32m0.8553\u001b[0m        \u001b[35m0.5921\u001b[0m  1.0064\n"
     ]
    },
    {
     "name": "stdout",
     "output_type": "stream",
     "text": [
      "      5        \u001b[36m0.6480\u001b[0m       \u001b[32m0.8664\u001b[0m        \u001b[35m0.5266\u001b[0m  0.9448\n"
     ]
    },
    {
     "name": "stdout",
     "output_type": "stream",
     "text": [
      "      6        \u001b[36m0.5871\u001b[0m       \u001b[32m0.8751\u001b[0m        \u001b[35m0.4830\u001b[0m  0.9694\n"
     ]
    },
    {
     "name": "stdout",
     "output_type": "stream",
     "text": [
      "      7        \u001b[36m0.5478\u001b[0m       \u001b[32m0.8817\u001b[0m        \u001b[35m0.4510\u001b[0m  1.0441\n"
     ]
    },
    {
     "name": "stdout",
     "output_type": "stream",
     "text": [
      "      8        \u001b[36m0.5189\u001b[0m       \u001b[32m0.8855\u001b[0m        \u001b[35m0.4274\u001b[0m  0.9540\n"
     ]
    },
    {
     "name": "stdout",
     "output_type": "stream",
     "text": [
      "      9        \u001b[36m0.4958\u001b[0m       \u001b[32m0.8903\u001b[0m        \u001b[35m0.4080\u001b[0m  0.9729\n"
     ]
    },
    {
     "name": "stdout",
     "output_type": "stream",
     "text": [
      "     10        \u001b[36m0.4753\u001b[0m       \u001b[32m0.8930\u001b[0m        \u001b[35m0.3926\u001b[0m  0.9960\n"
     ]
    },
    {
     "name": "stdout",
     "output_type": "stream",
     "text": [
      "  epoch    train_loss    valid_acc    valid_loss     dur\n",
      "-------  ------------  -----------  ------------  ------\n",
      "      1        \u001b[36m2.0097\u001b[0m       \u001b[32m0.7427\u001b[0m        \u001b[35m1.5895\u001b[0m  1.0031\n"
     ]
    },
    {
     "name": "stdout",
     "output_type": "stream",
     "text": [
      "      2        \u001b[36m1.3041\u001b[0m       \u001b[32m0.8055\u001b[0m        \u001b[35m0.9551\u001b[0m  0.9856\n"
     ]
    },
    {
     "name": "stdout",
     "output_type": "stream",
     "text": [
      "      3        \u001b[36m0.9261\u001b[0m       \u001b[32m0.8441\u001b[0m        \u001b[35m0.7085\u001b[0m  0.9994\n"
     ]
    },
    {
     "name": "stdout",
     "output_type": "stream",
     "text": [
      "      4        \u001b[36m0.7665\u001b[0m       \u001b[32m0.8620\u001b[0m        \u001b[35m0.5914\u001b[0m  1.0254\n"
     ]
    },
    {
     "name": "stdout",
     "output_type": "stream",
     "text": [
      "      5        \u001b[36m0.6729\u001b[0m       \u001b[32m0.8714\u001b[0m        \u001b[35m0.5236\u001b[0m  1.0876\n"
     ]
    },
    {
     "name": "stdout",
     "output_type": "stream",
     "text": [
      "      6        \u001b[36m0.6115\u001b[0m       \u001b[32m0.8820\u001b[0m        \u001b[35m0.4772\u001b[0m  0.9846\n"
     ]
    },
    {
     "name": "stdout",
     "output_type": "stream",
     "text": [
      "      7        \u001b[36m0.5722\u001b[0m       \u001b[32m0.8875\u001b[0m        \u001b[35m0.4445\u001b[0m  0.9589\n"
     ]
    },
    {
     "name": "stdout",
     "output_type": "stream",
     "text": [
      "      8        \u001b[36m0.5396\u001b[0m       \u001b[32m0.8915\u001b[0m        \u001b[35m0.4202\u001b[0m  0.9745\n"
     ]
    },
    {
     "name": "stdout",
     "output_type": "stream",
     "text": [
      "      9        \u001b[36m0.5166\u001b[0m       \u001b[32m0.8943\u001b[0m        \u001b[35m0.4013\u001b[0m  0.9734\n"
     ]
    },
    {
     "name": "stdout",
     "output_type": "stream",
     "text": [
      "     10        \u001b[36m0.4939\u001b[0m       \u001b[32m0.8978\u001b[0m        \u001b[35m0.3851\u001b[0m  1.0318\n"
     ]
    }
   ],
   "source": [
    "from sklearn.model_selection import cross_val_predict\n",
    "\n",
    "pyx = cross_val_predict(net, X, y, cv=3, method='predict_proba')"
   ]
  },
  {
   "cell_type": "markdown",
   "metadata": {},
   "source": [
    "## 6. Run Cleanlab to find potential label errors"
   ]
  },
  {
   "cell_type": "markdown",
   "metadata": {},
   "source": [
    "Cleanlab has a ``get_noise_indices`` function to generate a list of potential label errors. Setting ``sorted_index_method=\"prob_given_label\"`` returns the indices of all the most likely label errors, sorted by the most suspicious example first."
   ]
  },
  {
   "cell_type": "code",
   "execution_count": 8,
   "metadata": {
    "execution": {
     "iopub.execute_input": "2022-03-09T15:07:07.633773Z",
     "iopub.status.busy": "2022-03-09T15:07:07.633423Z",
     "iopub.status.idle": "2022-03-09T15:07:08.163778Z",
     "shell.execute_reply": "2022-03-09T15:07:08.162314Z"
    }
   },
   "outputs": [],
   "source": [
    "from cleanlab.pruning import get_noise_indices\n",
    "\n",
    "ordered_label_errors = get_noise_indices(\n",
    "    s=y,\n",
    "    psx=pyx,\n",
    "    sorted_index_method=\"prob_given_label\"\n",
    ")"
   ]
  },
  {
   "cell_type": "markdown",
   "metadata": {},
   "source": [
    "## 7. Review some of the most likely mislabeled examples"
   ]
  },
  {
   "cell_type": "code",
   "execution_count": 9,
   "metadata": {
    "execution": {
     "iopub.execute_input": "2022-03-09T15:07:08.168238Z",
     "iopub.status.busy": "2022-03-09T15:07:08.168002Z",
     "iopub.status.idle": "2022-03-09T15:07:08.176029Z",
     "shell.execute_reply": "2022-03-09T15:07:08.175207Z"
    }
   },
   "outputs": [
    {
     "name": "stdout",
     "output_type": "stream",
     "text": [
      "Cleanlab found 1259 potential label errors. Here are the indices of the top 15 most likely ones: \n",
      " [24798 18598  8729 20820 61790  1352 31134 15942 55739 59915 53216  7010\n",
      " 13031 39457 12679]\n"
     ]
    }
   ],
   "source": [
    "print(f\"Cleanlab found {len(ordered_label_errors)} potential label errors. Here are the indices of the top 15 most likely ones: \\n {ordered_label_errors[:15]}\")"
   ]
  },
  {
   "cell_type": "markdown",
   "metadata": {},
   "source": [
    "We'll define a new ``plot_examples`` function to display any examples in a subplot conveniently."
   ]
  },
  {
   "cell_type": "code",
   "execution_count": 10,
   "metadata": {
    "execution": {
     "iopub.execute_input": "2022-03-09T15:07:08.179535Z",
     "iopub.status.busy": "2022-03-09T15:07:08.179283Z",
     "iopub.status.idle": "2022-03-09T15:07:09.180170Z",
     "shell.execute_reply": "2022-03-09T15:07:09.179231Z"
    }
   },
   "outputs": [],
   "source": [
    "import matplotlib.pyplot as plt\n",
    "\n",
    "def plot_examples(id_iter, nrows=1, ncols=1):\n",
    "    for count, id in enumerate(id_iter):\n",
    "        plt.subplot(nrows, ncols, count+1)\n",
    "        plt.imshow(X[id].reshape(28, 28))\n",
    "        plt.title(f\"id: {id} \\n label: {y[id]}\")\n",
    "        plt.axis('off')\n",
    "\n",
    "    plt.tight_layout(h_pad=2.0)"
   ]
  },
  {
   "cell_type": "markdown",
   "metadata": {},
   "source": [
    "Let's start by having an overview of the top 15 most likely label errors. From here, we can see a few label errors and edge cases. Feel free to change the parameters to display more or fewer examples. "
   ]
  },
  {
   "cell_type": "code",
   "execution_count": 11,
   "metadata": {
    "execution": {
     "iopub.execute_input": "2022-03-09T15:07:09.184013Z",
     "iopub.status.busy": "2022-03-09T15:07:09.183658Z",
     "iopub.status.idle": "2022-03-09T15:07:09.825116Z",
     "shell.execute_reply": "2022-03-09T15:07:09.824265Z"
    }
   },
   "outputs": [
    {
     "data": {
      "image/png": "[encoded data removed]",
      "text/plain": [
       "<Figure size 432x288 with 15 Axes>"
      ]
     },
     "metadata": {
      "needs_background": "light"
     },
     "output_type": "display_data"
    }
   ],
   "source": [
    "plot_examples(ordered_label_errors[range(15)], 3, 5)"
   ]
  },
  {
   "cell_type": "markdown",
   "metadata": {},
   "source": [
    "Let's zoom into specific examples:"
   ]
  },
  {
   "cell_type": "markdown",
   "metadata": {},
   "source": [
    "Given label is **4** but looks more like a **7**"
   ]
  },
  {
   "cell_type": "code",
   "execution_count": 12,
   "metadata": {
    "execution": {
     "iopub.execute_input": "2022-03-09T15:07:09.828570Z",
     "iopub.status.busy": "2022-03-09T15:07:09.828350Z",
     "iopub.status.idle": "2022-03-09T15:07:09.899728Z",
     "shell.execute_reply": "2022-03-09T15:07:09.898974Z"
    }
   },
   "outputs": [
    {
     "data": {
      "image/png": "[encoded data removed]",
      "text/plain": [
       "<Figure size 432x288 with 1 Axes>"
      ]
     },
     "metadata": {
      "needs_background": "light"
     },
     "output_type": "display_data"
    }
   ],
   "source": [
    "plot_examples([59915])"
   ]
  },
  {
   "cell_type": "markdown",
   "metadata": {},
   "source": [
    "Given label is **4** but also looks like **9**"
   ]
  },
  {
   "cell_type": "code",
   "execution_count": 13,
   "metadata": {
    "execution": {
     "iopub.execute_input": "2022-03-09T15:07:09.904306Z",
     "iopub.status.busy": "2022-03-09T15:07:09.902737Z",
     "iopub.status.idle": "2022-03-09T15:07:09.976250Z",
     "shell.execute_reply": "2022-03-09T15:07:09.975654Z"
    }
   },
   "outputs": [
    {
     "data": {
      "image/png": "[encoded data removed]",
      "text/plain": [
       "<Figure size 432x288 with 1 Axes>"
      ]
     },
     "metadata": {
      "needs_background": "light"
     },
     "output_type": "display_data"
    }
   ],
   "source": [
    "plot_examples([24798])"
   ]
  },
  {
   "cell_type": "markdown",
   "metadata": {},
   "source": [
    "Edge case of odd looking **9**s"
   ]
  },
  {
   "cell_type": "code",
   "execution_count": 14,
   "metadata": {
    "execution": {
     "iopub.execute_input": "2022-03-09T15:07:09.980871Z",
     "iopub.status.busy": "2022-03-09T15:07:09.979792Z",
     "iopub.status.idle": "2022-03-09T15:07:10.249008Z",
     "shell.execute_reply": "2022-03-09T15:07:10.248398Z"
    }
   },
   "outputs": [
    {
     "data": {
      "image/png": "[encoded data removed]",
      "text/plain": [
       "<Figure size 432x288 with 3 Axes>"
      ]
     },
     "metadata": {
      "needs_background": "light"
     },
     "output_type": "display_data"
    }
   ],
   "source": [
    "plot_examples([18598, 1352, 61247], 1, 3)"
   ]
  },
  {
   "cell_type": "markdown",
   "metadata": {},
   "source": [
    "Cleanlab has shortlisted the most likely label errors to speed up your data cleaning process. With this list, you can decide whether to fix label errors, augment edge cases or remove obscure examples. \n",
    "\n",
    "These human-in-the-loop processes may be time-consuming, so if you'd like Cleanlab to automatically remove these noisy examples and train a model directly on the partially mislabeled dataset, you're in luck! Cleanlab provides a ``LearningWithNoisyLabels`` wrapper to do precisely this:"
   ]
  },
  {
   "cell_type": "markdown",
   "metadata": {},
   "source": [
    "## 8. Adapt with Cleanlab's wrapper and train a more robust model"
   ]
  },
  {
   "cell_type": "markdown",
   "metadata": {},
   "source": [
    "First, we split the dataset into train and test subsets."
   ]
  },
  {
   "cell_type": "code",
   "execution_count": 15,
   "metadata": {
    "execution": {
     "iopub.execute_input": "2022-03-09T15:07:10.252632Z",
     "iopub.status.busy": "2022-03-09T15:07:10.252270Z",
     "iopub.status.idle": "2022-03-09T15:07:11.898648Z",
     "shell.execute_reply": "2022-03-09T15:07:11.897819Z"
    }
   },
   "outputs": [],
   "source": [
    "from sklearn.model_selection import train_test_split\n",
    "\n",
    "X_train, X_test, y_train, y_test = train_test_split(X, y, test_size=0.2)"
   ]
  },
  {
   "cell_type": "markdown",
   "metadata": {},
   "source": [
    "Re-instantiate a new scikit-learn compatible model with Skorch then wrap it with Cleanlab's ``LearningWithNoisyLabels`` wrapper."
   ]
  },
  {
   "cell_type": "code",
   "execution_count": 16,
   "metadata": {
    "execution": {
     "iopub.execute_input": "2022-03-09T15:07:11.902704Z",
     "iopub.status.busy": "2022-03-09T15:07:11.902298Z",
     "iopub.status.idle": "2022-03-09T15:07:11.905993Z",
     "shell.execute_reply": "2022-03-09T15:07:11.905415Z"
    }
   },
   "outputs": [],
   "source": [
    "from cleanlab.classification import LearningWithNoisyLabels\n",
    "\n",
    "net = NeuralNetClassifier(NeuralNetwork)\n",
    "clf = LearningWithNoisyLabels(clf=net)"
   ]
  },
  {
   "cell_type": "code",
   "execution_count": 17,
   "metadata": {
    "execution": {
     "iopub.execute_input": "2022-03-09T15:07:11.909125Z",
     "iopub.status.busy": "2022-03-09T15:07:11.908787Z",
     "iopub.status.idle": "2022-03-09T15:08:14.566452Z",
     "shell.execute_reply": "2022-03-09T15:08:14.565657Z"
    }
   },
   "outputs": [
    {
     "name": "stdout",
     "output_type": "stream",
     "text": [
      "  epoch    train_loss    valid_acc    valid_loss     dur\n",
      "-------  ------------  -----------  ------------  ------\n",
      "      1        \u001b[36m2.0104\u001b[0m       \u001b[32m0.7448\u001b[0m        \u001b[35m1.6118\u001b[0m  1.0228\n"
     ]
    },
    {
     "name": "stdout",
     "output_type": "stream",
     "text": [
      "      2        \u001b[36m1.3211\u001b[0m       \u001b[32m0.8135\u001b[0m        \u001b[35m0.9775\u001b[0m  0.9945\n"
     ]
    },
    {
     "name": "stdout",
     "output_type": "stream",
     "text": [
      "      3        \u001b[36m0.9338\u001b[0m       \u001b[32m0.8438\u001b[0m        \u001b[35m0.7231\u001b[0m  0.9487\n"
     ]
    },
    {
     "name": "stdout",
     "output_type": "stream",
     "text": [
      "      4        \u001b[36m0.7668\u001b[0m       \u001b[32m0.8585\u001b[0m        \u001b[35m0.6047\u001b[0m  1.0146\n"
     ]
    },
    {
     "name": "stdout",
     "output_type": "stream",
     "text": [
      "      5        \u001b[36m0.6700\u001b[0m       \u001b[32m0.8682\u001b[0m        \u001b[35m0.5357\u001b[0m  0.9673\n"
     ]
    },
    {
     "name": "stdout",
     "output_type": "stream",
     "text": [
      "      6        \u001b[36m0.6079\u001b[0m       \u001b[32m0.8781\u001b[0m        \u001b[35m0.4909\u001b[0m  1.0172\n"
     ]
    },
    {
     "name": "stdout",
     "output_type": "stream",
     "text": [
      "      7        \u001b[36m0.5685\u001b[0m       \u001b[32m0.8828\u001b[0m        \u001b[35m0.4591\u001b[0m  1.0317\n"
     ]
    },
    {
     "name": "stdout",
     "output_type": "stream",
     "text": [
      "      8        \u001b[36m0.5342\u001b[0m       \u001b[32m0.8863\u001b[0m        \u001b[35m0.4337\u001b[0m  1.0327\n"
     ]
    },
    {
     "name": "stdout",
     "output_type": "stream",
     "text": [
      "      9        \u001b[36m0.5057\u001b[0m       \u001b[32m0.8897\u001b[0m        \u001b[35m0.4139\u001b[0m  1.0240\n"
     ]
    },
    {
     "name": "stdout",
     "output_type": "stream",
     "text": [
      "     10        \u001b[36m0.4896\u001b[0m       \u001b[32m0.8933\u001b[0m        \u001b[35m0.3986\u001b[0m  1.0416\n"
     ]
    },
    {
     "name": "stdout",
     "output_type": "stream",
     "text": [
      "  epoch    train_loss    valid_acc    valid_loss     dur\n",
      "-------  ------------  -----------  ------------  ------\n",
      "      1        \u001b[36m2.0185\u001b[0m       \u001b[32m0.7491\u001b[0m        \u001b[35m1.6171\u001b[0m  0.9921\n"
     ]
    },
    {
     "name": "stdout",
     "output_type": "stream",
     "text": [
      "      2        \u001b[36m1.3182\u001b[0m       \u001b[32m0.8219\u001b[0m        \u001b[35m0.9758\u001b[0m  0.9738\n"
     ]
    },
    {
     "name": "stdout",
     "output_type": "stream",
     "text": [
      "      3        \u001b[36m0.9299\u001b[0m       \u001b[32m0.8483\u001b[0m        \u001b[35m0.7167\u001b[0m  0.9315\n"
     ]
    },
    {
     "name": "stdout",
     "output_type": "stream",
     "text": [
      "      4        \u001b[36m0.7566\u001b[0m       \u001b[32m0.8642\u001b[0m        \u001b[35m0.5942\u001b[0m  0.9179\n"
     ]
    },
    {
     "name": "stdout",
     "output_type": "stream",
     "text": [
      "      5        \u001b[36m0.6663\u001b[0m       \u001b[32m0.8734\u001b[0m        \u001b[35m0.5257\u001b[0m  0.9599\n"
     ]
    },
    {
     "name": "stdout",
     "output_type": "stream",
     "text": [
      "      6        \u001b[36m0.6044\u001b[0m       \u001b[32m0.8790\u001b[0m        \u001b[35m0.4791\u001b[0m  0.9864\n"
     ]
    },
    {
     "name": "stdout",
     "output_type": "stream",
     "text": [
      "      7        \u001b[36m0.5614\u001b[0m       \u001b[32m0.8848\u001b[0m        \u001b[35m0.4469\u001b[0m  1.0399\n"
     ]
    },
    {
     "name": "stdout",
     "output_type": "stream",
     "text": [
      "      8        \u001b[36m0.5276\u001b[0m       \u001b[32m0.8879\u001b[0m        \u001b[35m0.4219\u001b[0m  0.9913\n"
     ]
    },
    {
     "name": "stdout",
     "output_type": "stream",
     "text": [
      "      9        \u001b[36m0.5049\u001b[0m       \u001b[32m0.8912\u001b[0m        \u001b[35m0.4021\u001b[0m  0.9744\n"
     ]
    },
    {
     "name": "stdout",
     "output_type": "stream",
     "text": [
      "     10        \u001b[36m0.4779\u001b[0m       \u001b[32m0.8944\u001b[0m        \u001b[35m0.3855\u001b[0m  0.9704\n"
     ]
    },
    {
     "name": "stdout",
     "output_type": "stream",
     "text": [
      "  epoch    train_loss    valid_acc    valid_loss     dur\n",
      "-------  ------------  -----------  ------------  ------\n",
      "      1        \u001b[36m2.0427\u001b[0m       \u001b[32m0.6882\u001b[0m        \u001b[35m1.6689\u001b[0m  0.9240\n"
     ]
    },
    {
     "name": "stdout",
     "output_type": "stream",
     "text": [
      "      2        \u001b[36m1.3735\u001b[0m       \u001b[32m0.8012\u001b[0m        \u001b[35m1.0327\u001b[0m  0.9300\n"
     ]
    },
    {
     "name": "stdout",
     "output_type": "stream",
     "text": [
      "      3        \u001b[36m0.9673\u001b[0m       \u001b[32m0.8372\u001b[0m        \u001b[35m0.7563\u001b[0m  0.9116\n"
     ]
    },
    {
     "name": "stdout",
     "output_type": "stream",
     "text": [
      "      4        \u001b[36m0.7877\u001b[0m       \u001b[32m0.8559\u001b[0m        \u001b[35m0.6239\u001b[0m  0.9272\n"
     ]
    },
    {
     "name": "stdout",
     "output_type": "stream",
     "text": [
      "      5        \u001b[36m0.6860\u001b[0m       \u001b[32m0.8685\u001b[0m        \u001b[35m0.5480\u001b[0m  1.0905\n"
     ]
    },
    {
     "name": "stdout",
     "output_type": "stream",
     "text": [
      "      6        \u001b[36m0.6214\u001b[0m       \u001b[32m0.8759\u001b[0m        \u001b[35m0.4968\u001b[0m  1.0237\n"
     ]
    },
    {
     "name": "stdout",
     "output_type": "stream",
     "text": [
      "      7        \u001b[36m0.5742\u001b[0m       \u001b[32m0.8800\u001b[0m        \u001b[35m0.4616\u001b[0m  0.9622\n"
     ]
    },
    {
     "name": "stdout",
     "output_type": "stream",
     "text": [
      "      8        \u001b[36m0.5385\u001b[0m       \u001b[32m0.8843\u001b[0m        \u001b[35m0.4347\u001b[0m  0.9801\n"
     ]
    },
    {
     "name": "stdout",
     "output_type": "stream",
     "text": [
      "      9        \u001b[36m0.5128\u001b[0m       \u001b[32m0.8904\u001b[0m        \u001b[35m0.4138\u001b[0m  1.0110\n"
     ]
    },
    {
     "name": "stdout",
     "output_type": "stream",
     "text": [
      "     10        \u001b[36m0.4867\u001b[0m       \u001b[32m0.8945\u001b[0m        \u001b[35m0.3966\u001b[0m  0.9535\n"
     ]
    },
    {
     "name": "stdout",
     "output_type": "stream",
     "text": [
      "  epoch    train_loss    valid_acc    valid_loss     dur\n",
      "-------  ------------  -----------  ------------  ------\n",
      "      1        \u001b[36m2.0216\u001b[0m       \u001b[32m0.7241\u001b[0m        \u001b[35m1.6216\u001b[0m  0.9157\n"
     ]
    },
    {
     "name": "stdout",
     "output_type": "stream",
     "text": [
      "      2        \u001b[36m1.3224\u001b[0m       \u001b[32m0.8145\u001b[0m        \u001b[35m0.9879\u001b[0m  0.9700\n"
     ]
    },
    {
     "name": "stdout",
     "output_type": "stream",
     "text": [
      "      3        \u001b[36m0.9411\u001b[0m       \u001b[32m0.8454\u001b[0m        \u001b[35m0.7291\u001b[0m  1.0046\n"
     ]
    },
    {
     "name": "stdout",
     "output_type": "stream",
     "text": [
      "      4        \u001b[36m0.7668\u001b[0m       \u001b[32m0.8612\u001b[0m        \u001b[35m0.6034\u001b[0m  0.9902\n"
     ]
    },
    {
     "name": "stdout",
     "output_type": "stream",
     "text": [
      "      5        \u001b[36m0.6697\u001b[0m       \u001b[32m0.8722\u001b[0m        \u001b[35m0.5315\u001b[0m  0.9738\n"
     ]
    },
    {
     "name": "stdout",
     "output_type": "stream",
     "text": [
      "      6        \u001b[36m0.6056\u001b[0m       \u001b[32m0.8805\u001b[0m        \u001b[35m0.4836\u001b[0m  0.9357\n"
     ]
    },
    {
     "name": "stdout",
     "output_type": "stream",
     "text": [
      "      7        \u001b[36m0.5623\u001b[0m       \u001b[32m0.8840\u001b[0m        \u001b[35m0.4510\u001b[0m  0.9711\n"
     ]
    },
    {
     "name": "stdout",
     "output_type": "stream",
     "text": [
      "      8        \u001b[36m0.5277\u001b[0m       \u001b[32m0.8891\u001b[0m        \u001b[35m0.4265\u001b[0m  0.9945\n"
     ]
    },
    {
     "name": "stdout",
     "output_type": "stream",
     "text": [
      "      9        \u001b[36m0.5024\u001b[0m       \u001b[32m0.8919\u001b[0m        \u001b[35m0.4071\u001b[0m  0.9607\n"
     ]
    },
    {
     "name": "stdout",
     "output_type": "stream",
     "text": [
      "     10        \u001b[36m0.4852\u001b[0m       \u001b[32m0.8954\u001b[0m        \u001b[35m0.3921\u001b[0m  1.0625\n"
     ]
    },
    {
     "name": "stdout",
     "output_type": "stream",
     "text": [
      "  epoch    train_loss    valid_acc    valid_loss     dur\n",
      "-------  ------------  -----------  ------------  ------\n",
      "      1        \u001b[36m1.9852\u001b[0m       \u001b[32m0.7459\u001b[0m        \u001b[35m1.5624\u001b[0m  0.9480\n"
     ]
    },
    {
     "name": "stdout",
     "output_type": "stream",
     "text": [
      "      2        \u001b[36m1.2720\u001b[0m       \u001b[32m0.8199\u001b[0m        \u001b[35m0.9458\u001b[0m  0.9101\n"
     ]
    },
    {
     "name": "stdout",
     "output_type": "stream",
     "text": [
      "      3        \u001b[36m0.9065\u001b[0m       \u001b[32m0.8455\u001b[0m        \u001b[35m0.7078\u001b[0m  0.9270\n"
     ]
    },
    {
     "name": "stdout",
     "output_type": "stream",
     "text": [
      "      4        \u001b[36m0.7470\u001b[0m       \u001b[32m0.8619\u001b[0m        \u001b[35m0.5959\u001b[0m  0.9490\n"
     ]
    },
    {
     "name": "stdout",
     "output_type": "stream",
     "text": [
      "      5        \u001b[36m0.6607\u001b[0m       \u001b[32m0.8731\u001b[0m        \u001b[35m0.5290\u001b[0m  0.9717\n"
     ]
    },
    {
     "name": "stdout",
     "output_type": "stream",
     "text": [
      "      6        \u001b[36m0.5990\u001b[0m       \u001b[32m0.8814\u001b[0m        \u001b[35m0.4846\u001b[0m  0.9220\n"
     ]
    },
    {
     "name": "stdout",
     "output_type": "stream",
     "text": [
      "      7        \u001b[36m0.5576\u001b[0m       \u001b[32m0.8864\u001b[0m        \u001b[35m0.4524\u001b[0m  0.9189\n"
     ]
    },
    {
     "name": "stdout",
     "output_type": "stream",
     "text": [
      "      8        \u001b[36m0.5291\u001b[0m       \u001b[32m0.8906\u001b[0m        \u001b[35m0.4286\u001b[0m  0.9239\n"
     ]
    },
    {
     "name": "stdout",
     "output_type": "stream",
     "text": [
      "      9        \u001b[36m0.5005\u001b[0m       \u001b[32m0.8936\u001b[0m        \u001b[35m0.4092\u001b[0m  0.9360\n"
     ]
    },
    {
     "name": "stdout",
     "output_type": "stream",
     "text": [
      "     10        \u001b[36m0.4820\u001b[0m       \u001b[32m0.8950\u001b[0m        \u001b[35m0.3933\u001b[0m  0.9820\n"
     ]
    },
    {
     "name": "stdout",
     "output_type": "stream",
     "text": [
      "  epoch    train_loss    valid_acc    valid_loss     dur\n",
      "-------  ------------  -----------  ------------  ------\n",
      "      1        \u001b[36m1.9013\u001b[0m       \u001b[32m0.7746\u001b[0m        \u001b[35m1.3750\u001b[0m  1.1859\n"
     ]
    },
    {
     "name": "stdout",
     "output_type": "stream",
     "text": [
      "      2        \u001b[36m1.1088\u001b[0m       \u001b[32m0.8438\u001b[0m        \u001b[35m0.7912\u001b[0m  1.1444\n"
     ]
    },
    {
     "name": "stdout",
     "output_type": "stream",
     "text": [
      "      3        \u001b[36m0.7758\u001b[0m       \u001b[32m0.8702\u001b[0m        \u001b[35m0.5854\u001b[0m  1.1862\n"
     ]
    },
    {
     "name": "stdout",
     "output_type": "stream",
     "text": [
      "      4        \u001b[36m0.6330\u001b[0m       \u001b[32m0.8831\u001b[0m        \u001b[35m0.4857\u001b[0m  1.2604\n"
     ]
    },
    {
     "name": "stdout",
     "output_type": "stream",
     "text": [
      "      5        \u001b[36m0.5547\u001b[0m       \u001b[32m0.8928\u001b[0m        \u001b[35m0.4280\u001b[0m  1.1402\n"
     ]
    },
    {
     "name": "stdout",
     "output_type": "stream",
     "text": [
      "      6        \u001b[36m0.4987\u001b[0m       \u001b[32m0.8979\u001b[0m        \u001b[35m0.3888\u001b[0m  1.1118\n"
     ]
    },
    {
     "name": "stdout",
     "output_type": "stream",
     "text": [
      "      7        \u001b[36m0.4593\u001b[0m       \u001b[32m0.9027\u001b[0m        \u001b[35m0.3600\u001b[0m  1.1341\n"
     ]
    },
    {
     "name": "stdout",
     "output_type": "stream",
     "text": [
      "      8        \u001b[36m0.4351\u001b[0m       \u001b[32m0.9066\u001b[0m        \u001b[35m0.3396\u001b[0m  1.1788\n"
     ]
    },
    {
     "name": "stdout",
     "output_type": "stream",
     "text": [
      "      9        \u001b[36m0.4129\u001b[0m       \u001b[32m0.9103\u001b[0m        \u001b[35m0.3227\u001b[0m  1.1615\n"
     ]
    },
    {
     "name": "stdout",
     "output_type": "stream",
     "text": [
      "     10        \u001b[36m0.3932\u001b[0m       \u001b[32m0.9118\u001b[0m        \u001b[35m0.3096\u001b[0m  1.1743\n"
     ]
    }
   ],
   "source": [
    "_ = clf.fit(X_train, y_train.to_numpy())"
   ]
  },
  {
   "cell_type": "markdown",
   "metadata": {},
   "source": [
    "## 9. Evaluate the robust model's performance"
   ]
  },
  {
   "cell_type": "code",
   "execution_count": 18,
   "metadata": {
    "execution": {
     "iopub.execute_input": "2022-03-09T15:08:14.570128Z",
     "iopub.status.busy": "2022-03-09T15:08:14.569750Z",
     "iopub.status.idle": "2022-03-09T15:08:14.888427Z",
     "shell.execute_reply": "2022-03-09T15:08:14.887732Z"
    }
   },
   "outputs": [
    {
     "data": {
      "text/plain": [
       "0.9000714285714285"
      ]
     },
     "execution_count": 18,
     "metadata": {},
     "output_type": "execute_result"
    }
   ],
   "source": [
    "from sklearn.metrics import accuracy_score\n",
    "\n",
    "y_pred = clf.predict(X_test)\n",
    "accuracy_score(y_test, y_pred)"
   ]
  },
  {
   "cell_type": "markdown",
   "metadata": {},
   "source": [
    "## What's next?"
   ]
  },
  {
   "cell_type": "markdown",
   "metadata": {},
   "source": [
    "Congratulations on completing this tutorial! Check out our following tutorial on using Cleanlab for text classification, where we found ``hundreds`` of potential label errors in one of the most well-known text datasets, the IMBDb movie review dataset!"
   ]
  }
 ],
 "metadata": {
  "interpreter": {
   "hash": "ced20e3e49bb4fa4ce8ad38f8f2535b7fc4c39b2b89554502b5dbdad1ad67eda"
  },
  "kernelspec": {
   "display_name": "Python 3.10.0 64-bit",
   "language": "python",
   "name": "python3"
  },
  "language_info": {
   "codemirror_mode": {
    "name": "ipython",
    "version": 3
   },
   "file_extension": ".py",
   "mimetype": "text/x-python",
   "name": "python",
   "nbconvert_exporter": "python",
   "pygments_lexer": "ipython3",
   "version": "3.8.12"
  }
 },
 "nbformat": 4,
 "nbformat_minor": 2
}
