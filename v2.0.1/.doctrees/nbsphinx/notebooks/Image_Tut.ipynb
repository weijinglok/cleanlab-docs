{
 "cells": [
  {
   "cell_type": "markdown",
   "metadata": {},
   "source": [
    "# Image Classification with Cleanlab, PyTorch & Skorch"
   ]
  },
  {
   "cell_type": "markdown",
   "metadata": {},
   "source": [
    "This tutorial will use Cleanlab to find potential label errors in the MNIST handwritten digit image dataset. This dataset contains 60,000 images of handwritten digits from 0 to 9. We'll find *more than a thousand* highly suspicious examples with label errors and edge cases by the end of this tutorial. \n",
    "\n",
    "**Overview of what we'll do in this tutorial:**\n",
    "\n",
    "- Build a simple PyTorch neural net and wrap it with Skorch to make it scikit-learn compatible.\n",
    "\n",
    "- Compute the cross-validated predicted probabilities, ``pyx``, sometimes known as the out-of-sample predicted probabilities.\n",
    "\n",
    "- Generate a list of potential label errors with Cleanlab's ``get_noise_indices``.\n",
    "\n",
    "- Build and train a more robust model than the vanilla model after adapting it with Cleanlab's ``LearningWithNoisyLabels``. \n",
    "\n",
    "**Data:** https://www.openml.org/d/554"
   ]
  },
  {
   "cell_type": "markdown",
   "metadata": {},
   "source": [
    "## 1. Install the required dependencies"
   ]
  },
  {
   "cell_type": "markdown",
   "metadata": {},
   "source": [
    "``%%capture`` is a magic function to hides the cell's output."
   ]
  },
  {
   "cell_type": "code",
   "execution_count": 1,
   "metadata": {
    "execution": {
     "iopub.execute_input": "2022-03-09T16:30:28.094393Z",
     "iopub.status.busy": "2022-03-09T16:30:28.093905Z",
     "iopub.status.idle": "2022-03-09T16:31:03.737491Z",
     "shell.execute_reply": "2022-03-09T16:31:03.736450Z"
    }
   },
   "outputs": [],
   "source": [
    "%%capture\n",
    "\n",
    "%pip install cleanlab pandas matplotlib torch torchvision skorch"
   ]
  },
  {
   "cell_type": "markdown",
   "metadata": {},
   "source": [
    "## 2. Fetch and scale the MNIST dataset"
   ]
  },
  {
   "cell_type": "code",
   "execution_count": 2,
   "metadata": {
    "execution": {
     "iopub.execute_input": "2022-03-09T16:31:03.743582Z",
     "iopub.status.busy": "2022-03-09T16:31:03.741921Z",
     "iopub.status.idle": "2022-03-09T16:33:31.684444Z",
     "shell.execute_reply": "2022-03-09T16:33:31.683555Z"
    }
   },
   "outputs": [],
   "source": [
    "from sklearn.datasets import fetch_openml\n",
    "\n",
    "# Fetch the MNIST dataset\n",
    "mnist = fetch_openml('mnist_784')\n",
    "\n",
    "# Assign the data features and labels to variable X and y respectively \n",
    "X = mnist.data.astype('float32')\n",
    "y = mnist.target.astype('int64')\n"
   ]
  },
  {
   "cell_type": "markdown",
   "metadata": {},
   "source": [
    "<div class=\"alert alert-info\">\n",
    "\n",
    "Bringing Your Own Data (BYOD)?\n",
    "\n",
    "Assign your data's features to variable ``X`` and its labels to variable ``y`` instead.\n",
    "\n",
    "</div>"
   ]
  },
  {
   "cell_type": "code",
   "execution_count": 3,
   "metadata": {
    "execution": {
     "iopub.execute_input": "2022-03-09T16:33:31.688921Z",
     "iopub.status.busy": "2022-03-09T16:33:31.688677Z",
     "iopub.status.idle": "2022-03-09T16:33:31.906865Z",
     "shell.execute_reply": "2022-03-09T16:33:31.905943Z"
    }
   },
   "outputs": [],
   "source": [
    "\n",
    "# Scale the features which range from 0 to 255 (256 levels on the grayscale) \n",
    "X /= 255.0\n",
    "\n",
    "# Then convert it to a numpy array\n",
    "X = X.to_numpy()"
   ]
  },
  {
   "cell_type": "markdown",
   "metadata": {},
   "source": [
    "## 3. Define a classification model"
   ]
  },
  {
   "cell_type": "markdown",
   "metadata": {},
   "source": [
    "Here, we define a simple neural network with PyTorch."
   ]
  },
  {
   "cell_type": "code",
   "execution_count": 4,
   "metadata": {
    "execution": {
     "iopub.execute_input": "2022-03-09T16:33:31.911760Z",
     "iopub.status.busy": "2022-03-09T16:33:31.911332Z",
     "iopub.status.idle": "2022-03-09T16:33:32.857858Z",
     "shell.execute_reply": "2022-03-09T16:33:32.856991Z"
    }
   },
   "outputs": [],
   "source": [
    "from torch import nn\n",
    "\n",
    "class NeuralNetwork(nn.Module):\n",
    "    def __init__(self):\n",
    "        super(NeuralNetwork, self).__init__()\n",
    "        self.dropout = nn.Dropout(0.5)\n",
    "        self.hidden = nn.Linear(28*28, 128)\n",
    "        self.output = nn.Linear(128, 10)\n",
    "\n",
    "    def forward(self, X):\n",
    "        X = nn.functional.relu(self.hidden(X))\n",
    "        X = self.dropout(X)\n",
    "        X = nn.functional.softmax(self.output(X), dim=-1)\n",
    "        return X"
   ]
  },
  {
   "cell_type": "markdown",
   "metadata": {},
   "source": [
    "## 4. Wrap with Skorch for scikit-learn compatibility"
   ]
  },
  {
   "cell_type": "markdown",
   "metadata": {},
   "source": [
    "As some of Cleanlab's feature requires scikit-learn compatibility, we will need to adapt the above PyTorch neural net accordingly. Skorch is a convenient package that helps with this, read more about it here: https://skorch.readthedocs.io"
   ]
  },
  {
   "cell_type": "code",
   "execution_count": 5,
   "metadata": {
    "execution": {
     "iopub.execute_input": "2022-03-09T16:33:32.862590Z",
     "iopub.status.busy": "2022-03-09T16:33:32.862159Z",
     "iopub.status.idle": "2022-03-09T16:33:33.020925Z",
     "shell.execute_reply": "2022-03-09T16:33:33.020079Z"
    }
   },
   "outputs": [],
   "source": [
    "from skorch import NeuralNetClassifier\n",
    "\n",
    "# Wrap the PyTorch neural net around Skorch's NeuralNetClassifier wrapper\n",
    "net = NeuralNetClassifier(NeuralNetwork)"
   ]
  },
  {
   "cell_type": "markdown",
   "metadata": {},
   "source": [
    "## 5. Compute the cross-validated predicted probabilities"
   ]
  },
  {
   "cell_type": "markdown",
   "metadata": {},
   "source": [
    "If we'd like Cleanlab to identify potential label errors in the whole dataset and not just the training set, we can consider fitting the entire dataset. We will only use this model instance to compute the cross-validated predicted probabilities, ``pyx``, and not for model evaluation."
   ]
  },
  {
   "cell_type": "code",
   "execution_count": 6,
   "metadata": {
    "execution": {
     "iopub.execute_input": "2022-03-09T16:33:33.025061Z",
     "iopub.status.busy": "2022-03-09T16:33:33.024800Z",
     "iopub.status.idle": "2022-03-09T16:33:57.574156Z",
     "shell.execute_reply": "2022-03-09T16:33:57.572745Z"
    }
   },
   "outputs": [
    {
     "name": "stdout",
     "output_type": "stream",
     "text": [
      "  epoch    train_loss    valid_acc    valid_loss     dur\n",
      "-------  ------------  -----------  ------------  ------\n",
      "      1        \u001b[36m1.7998\u001b[0m       \u001b[32m0.7877\u001b[0m        \u001b[35m1.1756\u001b[0m  2.4693\n"
     ]
    },
    {
     "name": "stdout",
     "output_type": "stream",
     "text": [
      "      2        \u001b[36m0.9806\u001b[0m       \u001b[32m0.8419\u001b[0m        \u001b[35m0.6981\u001b[0m  2.4144\n"
     ]
    },
    {
     "name": "stdout",
     "output_type": "stream",
     "text": [
      "      3        \u001b[36m0.7214\u001b[0m       \u001b[32m0.8646\u001b[0m        \u001b[35m0.5501\u001b[0m  2.3743\n"
     ]
    },
    {
     "name": "stdout",
     "output_type": "stream",
     "text": [
      "      4        \u001b[36m0.6149\u001b[0m       \u001b[32m0.8780\u001b[0m        \u001b[35m0.4780\u001b[0m  2.3978\n"
     ]
    },
    {
     "name": "stdout",
     "output_type": "stream",
     "text": [
      "      5        \u001b[36m0.5529\u001b[0m       \u001b[32m0.8869\u001b[0m        \u001b[35m0.4342\u001b[0m  2.4982\n"
     ]
    },
    {
     "name": "stdout",
     "output_type": "stream",
     "text": [
      "      6        \u001b[36m0.5127\u001b[0m       \u001b[32m0.8925\u001b[0m        \u001b[35m0.4046\u001b[0m  2.4516\n"
     ]
    },
    {
     "name": "stdout",
     "output_type": "stream",
     "text": [
      "      7        \u001b[36m0.4791\u001b[0m       \u001b[32m0.8966\u001b[0m        \u001b[35m0.3817\u001b[0m  2.4167\n"
     ]
    },
    {
     "name": "stdout",
     "output_type": "stream",
     "text": [
      "      8        \u001b[36m0.4555\u001b[0m       \u001b[32m0.9000\u001b[0m        \u001b[35m0.3643\u001b[0m  2.4448\n"
     ]
    },
    {
     "name": "stdout",
     "output_type": "stream",
     "text": [
      "      9        \u001b[36m0.4370\u001b[0m       \u001b[32m0.9027\u001b[0m        \u001b[35m0.3496\u001b[0m  2.4403\n"
     ]
    },
    {
     "name": "stdout",
     "output_type": "stream",
     "text": [
      "     10        \u001b[36m0.4206\u001b[0m       \u001b[32m0.9061\u001b[0m        \u001b[35m0.3380\u001b[0m  2.5227\n"
     ]
    }
   ],
   "source": [
    "_ = net.fit(X, y)"
   ]
  },
  {
   "cell_type": "markdown",
   "metadata": {},
   "source": [
    "Compute the cross-validated predicted probabilities, ``pyx``, sometimes also known as the out-of-sample predicted probabilities."
   ]
  },
  {
   "cell_type": "code",
   "execution_count": 7,
   "metadata": {
    "execution": {
     "iopub.execute_input": "2022-03-09T16:33:57.578432Z",
     "iopub.status.busy": "2022-03-09T16:33:57.578160Z",
     "iopub.status.idle": "2022-03-09T16:34:32.113345Z",
     "shell.execute_reply": "2022-03-09T16:34:32.112557Z"
    }
   },
   "outputs": [
    {
     "name": "stdout",
     "output_type": "stream",
     "text": [
      "  epoch    train_loss    valid_acc    valid_loss     dur\n",
      "-------  ------------  -----------  ------------  ------\n",
      "      1        \u001b[36m1.9681\u001b[0m       \u001b[32m0.7453\u001b[0m        \u001b[35m1.5422\u001b[0m  1.1073\n"
     ]
    },
    {
     "name": "stdout",
     "output_type": "stream",
     "text": [
      "      2        \u001b[36m1.2415\u001b[0m       \u001b[32m0.8008\u001b[0m        \u001b[35m0.9459\u001b[0m  1.0696\n"
     ]
    },
    {
     "name": "stdout",
     "output_type": "stream",
     "text": [
      "      3        \u001b[36m0.8770\u001b[0m       \u001b[32m0.8323\u001b[0m        \u001b[35m0.7171\u001b[0m  1.1737\n"
     ]
    },
    {
     "name": "stdout",
     "output_type": "stream",
     "text": [
      "      4        \u001b[36m0.7221\u001b[0m       \u001b[32m0.8508\u001b[0m        \u001b[35m0.6089\u001b[0m  1.1555\n"
     ]
    },
    {
     "name": "stdout",
     "output_type": "stream",
     "text": [
      "      5        \u001b[36m0.6365\u001b[0m       \u001b[32m0.8637\u001b[0m        \u001b[35m0.5457\u001b[0m  1.0702\n"
     ]
    },
    {
     "name": "stdout",
     "output_type": "stream",
     "text": [
      "      6        \u001b[36m0.5814\u001b[0m       \u001b[32m0.8687\u001b[0m        \u001b[35m0.5022\u001b[0m  1.0666\n"
     ]
    },
    {
     "name": "stdout",
     "output_type": "stream",
     "text": [
      "      7        \u001b[36m0.5425\u001b[0m       \u001b[32m0.8730\u001b[0m        \u001b[35m0.4717\u001b[0m  1.0660\n"
     ]
    },
    {
     "name": "stdout",
     "output_type": "stream",
     "text": [
      "      8        \u001b[36m0.5117\u001b[0m       \u001b[32m0.8771\u001b[0m        \u001b[35m0.4484\u001b[0m  1.0625\n"
     ]
    },
    {
     "name": "stdout",
     "output_type": "stream",
     "text": [
      "      9        \u001b[36m0.4879\u001b[0m       \u001b[32m0.8805\u001b[0m        \u001b[35m0.4297\u001b[0m  1.0460\n"
     ]
    },
    {
     "name": "stdout",
     "output_type": "stream",
     "text": [
      "     10        \u001b[36m0.4681\u001b[0m       \u001b[32m0.8829\u001b[0m        \u001b[35m0.4144\u001b[0m  1.0754\n"
     ]
    },
    {
     "name": "stdout",
     "output_type": "stream",
     "text": [
      "  epoch    train_loss    valid_acc    valid_loss     dur\n",
      "-------  ------------  -----------  ------------  ------\n",
      "      1        \u001b[36m2.0032\u001b[0m       \u001b[32m0.7336\u001b[0m        \u001b[35m1.5904\u001b[0m  1.0776\n"
     ]
    },
    {
     "name": "stdout",
     "output_type": "stream",
     "text": [
      "      2        \u001b[36m1.2938\u001b[0m       \u001b[32m0.7985\u001b[0m        \u001b[35m0.9608\u001b[0m  1.0722\n"
     ]
    },
    {
     "name": "stdout",
     "output_type": "stream",
     "text": [
      "      3        \u001b[36m0.9106\u001b[0m       \u001b[32m0.8342\u001b[0m        \u001b[35m0.7156\u001b[0m  1.0757\n"
     ]
    },
    {
     "name": "stdout",
     "output_type": "stream",
     "text": [
      "      4        \u001b[36m0.7473\u001b[0m       \u001b[32m0.8533\u001b[0m        \u001b[35m0.5983\u001b[0m  1.0782\n"
     ]
    },
    {
     "name": "stdout",
     "output_type": "stream",
     "text": [
      "      5        \u001b[36m0.6576\u001b[0m       \u001b[32m0.8649\u001b[0m        \u001b[35m0.5301\u001b[0m  1.0749\n"
     ]
    },
    {
     "name": "stdout",
     "output_type": "stream",
     "text": [
      "      6        \u001b[36m0.5995\u001b[0m       \u001b[32m0.8727\u001b[0m        \u001b[35m0.4846\u001b[0m  1.1241\n"
     ]
    },
    {
     "name": "stdout",
     "output_type": "stream",
     "text": [
      "      7        \u001b[36m0.5600\u001b[0m       \u001b[32m0.8814\u001b[0m        \u001b[35m0.4510\u001b[0m  1.0594\n"
     ]
    },
    {
     "name": "stdout",
     "output_type": "stream",
     "text": [
      "      8        \u001b[36m0.5242\u001b[0m       \u001b[32m0.8871\u001b[0m        \u001b[35m0.4261\u001b[0m  1.1257\n"
     ]
    },
    {
     "name": "stdout",
     "output_type": "stream",
     "text": [
      "      9        \u001b[36m0.4949\u001b[0m       \u001b[32m0.8914\u001b[0m        \u001b[35m0.4063\u001b[0m  1.2177\n"
     ]
    },
    {
     "name": "stdout",
     "output_type": "stream",
     "text": [
      "     10        \u001b[36m0.4773\u001b[0m       \u001b[32m0.8939\u001b[0m        \u001b[35m0.3904\u001b[0m  1.0900\n"
     ]
    },
    {
     "name": "stdout",
     "output_type": "stream",
     "text": [
      "  epoch    train_loss    valid_acc    valid_loss     dur\n",
      "-------  ------------  -----------  ------------  ------\n",
      "      1        \u001b[36m2.0178\u001b[0m       \u001b[32m0.7480\u001b[0m        \u001b[35m1.5993\u001b[0m  1.0895\n"
     ]
    },
    {
     "name": "stdout",
     "output_type": "stream",
     "text": [
      "      2        \u001b[36m1.3100\u001b[0m       \u001b[32m0.8087\u001b[0m        \u001b[35m0.9617\u001b[0m  1.0475\n"
     ]
    },
    {
     "name": "stdout",
     "output_type": "stream",
     "text": [
      "      3        \u001b[36m0.9292\u001b[0m       \u001b[32m0.8407\u001b[0m        \u001b[35m0.7107\u001b[0m  1.0805\n"
     ]
    },
    {
     "name": "stdout",
     "output_type": "stream",
     "text": [
      "      4        \u001b[36m0.7644\u001b[0m       \u001b[32m0.8595\u001b[0m        \u001b[35m0.5930\u001b[0m  1.0738\n"
     ]
    },
    {
     "name": "stdout",
     "output_type": "stream",
     "text": [
      "      5        \u001b[36m0.6761\u001b[0m       \u001b[32m0.8719\u001b[0m        \u001b[35m0.5247\u001b[0m  1.0543\n"
     ]
    },
    {
     "name": "stdout",
     "output_type": "stream",
     "text": [
      "      6        \u001b[36m0.6188\u001b[0m       \u001b[32m0.8798\u001b[0m        \u001b[35m0.4791\u001b[0m  1.0417\n"
     ]
    },
    {
     "name": "stdout",
     "output_type": "stream",
     "text": [
      "      7        \u001b[36m0.5741\u001b[0m       \u001b[32m0.8860\u001b[0m        \u001b[35m0.4456\u001b[0m  1.0786\n"
     ]
    },
    {
     "name": "stdout",
     "output_type": "stream",
     "text": [
      "      8        \u001b[36m0.5421\u001b[0m       \u001b[32m0.8910\u001b[0m        \u001b[35m0.4200\u001b[0m  1.0417\n"
     ]
    },
    {
     "name": "stdout",
     "output_type": "stream",
     "text": [
      "      9        \u001b[36m0.5159\u001b[0m       \u001b[32m0.8965\u001b[0m        \u001b[35m0.4003\u001b[0m  1.0663\n"
     ]
    },
    {
     "name": "stdout",
     "output_type": "stream",
     "text": [
      "     10        \u001b[36m0.4994\u001b[0m       \u001b[32m0.8982\u001b[0m        \u001b[35m0.3850\u001b[0m  1.0689\n"
     ]
    }
   ],
   "source": [
    "from sklearn.model_selection import cross_val_predict\n",
    "\n",
    "pyx = cross_val_predict(net, X, y, cv=3, method='predict_proba')"
   ]
  },
  {
   "cell_type": "markdown",
   "metadata": {},
   "source": [
    "## 6. Run Cleanlab to find potential label errors"
   ]
  },
  {
   "cell_type": "markdown",
   "metadata": {},
   "source": [
    "Cleanlab has a ``get_noise_indices`` function to generate a list of potential label errors. Setting ``sorted_index_method=\"prob_given_label\"`` returns the indices of all the most likely label errors, sorted by the most suspicious example first."
   ]
  },
  {
   "cell_type": "code",
   "execution_count": 8,
   "metadata": {
    "execution": {
     "iopub.execute_input": "2022-03-09T16:34:32.117842Z",
     "iopub.status.busy": "2022-03-09T16:34:32.117402Z",
     "iopub.status.idle": "2022-03-09T16:34:32.648412Z",
     "shell.execute_reply": "2022-03-09T16:34:32.647446Z"
    }
   },
   "outputs": [],
   "source": [
    "from cleanlab.pruning import get_noise_indices\n",
    "\n",
    "ordered_label_errors = get_noise_indices(\n",
    "    s=y,\n",
    "    psx=pyx,\n",
    "    sorted_index_method=\"prob_given_label\"\n",
    ")"
   ]
  },
  {
   "cell_type": "markdown",
   "metadata": {},
   "source": [
    "## 7. Review some of the most likely mislabeled examples"
   ]
  },
  {
   "cell_type": "code",
   "execution_count": 9,
   "metadata": {
    "execution": {
     "iopub.execute_input": "2022-03-09T16:34:32.653233Z",
     "iopub.status.busy": "2022-03-09T16:34:32.652799Z",
     "iopub.status.idle": "2022-03-09T16:34:32.657972Z",
     "shell.execute_reply": "2022-03-09T16:34:32.657363Z"
    }
   },
   "outputs": [
    {
     "name": "stdout",
     "output_type": "stream",
     "text": [
      "Cleanlab found 1296 potential label errors. Here are the indices of the top 15 most likely ones: \n",
      " [24798 18598  8729 20820 61790 15942 59915 31134  1352 12679 39457  7010\n",
      " 55739 11208 20735]\n"
     ]
    }
   ],
   "source": [
    "print(f\"Cleanlab found {len(ordered_label_errors)} potential label errors. Here are the indices of the top 15 most likely ones: \\n {ordered_label_errors[:15]}\")"
   ]
  },
  {
   "cell_type": "markdown",
   "metadata": {},
   "source": [
    "We'll define a new ``plot_examples`` function to display any examples in a subplot conveniently."
   ]
  },
  {
   "cell_type": "code",
   "execution_count": 10,
   "metadata": {
    "execution": {
     "iopub.execute_input": "2022-03-09T16:34:32.662547Z",
     "iopub.status.busy": "2022-03-09T16:34:32.661786Z",
     "iopub.status.idle": "2022-03-09T16:34:33.775490Z",
     "shell.execute_reply": "2022-03-09T16:34:33.774602Z"
    }
   },
   "outputs": [],
   "source": [
    "import matplotlib.pyplot as plt\n",
    "\n",
    "def plot_examples(id_iter, nrows=1, ncols=1):\n",
    "    for count, id in enumerate(id_iter):\n",
    "        plt.subplot(nrows, ncols, count+1)\n",
    "        plt.imshow(X[id].reshape(28, 28))\n",
    "        plt.title(f\"id: {id} \\n label: {y[id]}\")\n",
    "        plt.axis('off')\n",
    "\n",
    "    plt.tight_layout(h_pad=2.0)"
   ]
  },
  {
   "cell_type": "markdown",
   "metadata": {},
   "source": [
    "Let's start by having an overview of the top 15 most likely label errors. From here, we can see a few label errors and edge cases. Feel free to change the parameters to display more or fewer examples. "
   ]
  },
  {
   "cell_type": "code",
   "execution_count": 11,
   "metadata": {
    "execution": {
     "iopub.execute_input": "2022-03-09T16:34:33.779331Z",
     "iopub.status.busy": "2022-03-09T16:34:33.779095Z",
     "iopub.status.idle": "2022-03-09T16:34:34.482537Z",
     "shell.execute_reply": "2022-03-09T16:34:34.481803Z"
    }
   },
   "outputs": [
    {
     "data": {
      "image/png": "[encoded data removed]",
      "text/plain": [
       "<Figure size 432x288 with 15 Axes>"
      ]
     },
     "metadata": {
      "needs_background": "light"
     },
     "output_type": "display_data"
    }
   ],
   "source": [
    "plot_examples(ordered_label_errors[range(15)], 3, 5)"
   ]
  },
  {
   "cell_type": "markdown",
   "metadata": {},
   "source": [
    "Let's zoom into specific examples:"
   ]
  },
  {
   "cell_type": "markdown",
   "metadata": {},
   "source": [
    "Given label is **4** but looks more like a **7**"
   ]
  },
  {
   "cell_type": "code",
   "execution_count": 12,
   "metadata": {
    "execution": {
     "iopub.execute_input": "2022-03-09T16:34:34.486273Z",
     "iopub.status.busy": "2022-03-09T16:34:34.485884Z",
     "iopub.status.idle": "2022-03-09T16:34:34.566227Z",
     "shell.execute_reply": "2022-03-09T16:34:34.565541Z"
    }
   },
   "outputs": [
    {
     "data": {
      "image/png": "[encoded data removed]",
      "text/plain": [
       "<Figure size 432x288 with 1 Axes>"
      ]
     },
     "metadata": {
      "needs_background": "light"
     },
     "output_type": "display_data"
    }
   ],
   "source": [
    "plot_examples([59915])"
   ]
  },
  {
   "cell_type": "markdown",
   "metadata": {},
   "source": [
    "Given label is **4** but also looks like **9**"
   ]
  },
  {
   "cell_type": "code",
   "execution_count": 13,
   "metadata": {
    "execution": {
     "iopub.execute_input": "2022-03-09T16:34:34.569986Z",
     "iopub.status.busy": "2022-03-09T16:34:34.569620Z",
     "iopub.status.idle": "2022-03-09T16:34:34.646384Z",
     "shell.execute_reply": "2022-03-09T16:34:34.645674Z"
    }
   },
   "outputs": [
    {
     "data": {
      "image/png": "[encoded data removed]",
      "text/plain": [
       "<Figure size 432x288 with 1 Axes>"
      ]
     },
     "metadata": {
      "needs_background": "light"
     },
     "output_type": "display_data"
    }
   ],
   "source": [
    "plot_examples([24798])"
   ]
  },
  {
   "cell_type": "markdown",
   "metadata": {},
   "source": [
    "Edge case of odd looking **9**s"
   ]
  },
  {
   "cell_type": "code",
   "execution_count": 14,
   "metadata": {
    "execution": {
     "iopub.execute_input": "2022-03-09T16:34:34.650609Z",
     "iopub.status.busy": "2022-03-09T16:34:34.650234Z",
     "iopub.status.idle": "2022-03-09T16:34:34.939955Z",
     "shell.execute_reply": "2022-03-09T16:34:34.939082Z"
    }
   },
   "outputs": [
    {
     "data": {
      "image/png": "[encoded data removed]",
      "text/plain": [
       "<Figure size 432x288 with 3 Axes>"
      ]
     },
     "metadata": {
      "needs_background": "light"
     },
     "output_type": "display_data"
    }
   ],
   "source": [
    "plot_examples([18598, 1352, 61247], 1, 3)"
   ]
  },
  {
   "cell_type": "markdown",
   "metadata": {},
   "source": [
    "Cleanlab has shortlisted the most likely label errors to speed up your data cleaning process. With this list, you can decide whether to fix label errors, augment edge cases or remove obscure examples. \n",
    "\n",
    "These human-in-the-loop processes may be time-consuming, so if you'd like Cleanlab to automatically remove these noisy examples and train a model directly on the partially mislabeled dataset, you're in luck! Cleanlab provides a ``LearningWithNoisyLabels`` wrapper to do precisely this:"
   ]
  },
  {
   "cell_type": "markdown",
   "metadata": {},
   "source": [
    "## 8. Adapt with Cleanlab's wrapper and train a more robust model"
   ]
  },
  {
   "cell_type": "markdown",
   "metadata": {},
   "source": [
    "First, we split the dataset into train and test subsets."
   ]
  },
  {
   "cell_type": "code",
   "execution_count": 15,
   "metadata": {
    "execution": {
     "iopub.execute_input": "2022-03-09T16:34:34.943781Z",
     "iopub.status.busy": "2022-03-09T16:34:34.943524Z",
     "iopub.status.idle": "2022-03-09T16:34:35.858227Z",
     "shell.execute_reply": "2022-03-09T16:34:35.857384Z"
    }
   },
   "outputs": [],
   "source": [
    "from sklearn.model_selection import train_test_split\n",
    "\n",
    "X_train, X_test, y_train, y_test = train_test_split(X, y, test_size=0.2)"
   ]
  },
  {
   "cell_type": "markdown",
   "metadata": {},
   "source": [
    "Re-instantiate a new scikit-learn compatible model with Skorch then wrap it with Cleanlab's ``LearningWithNoisyLabels`` wrapper."
   ]
  },
  {
   "cell_type": "code",
   "execution_count": 16,
   "metadata": {
    "execution": {
     "iopub.execute_input": "2022-03-09T16:34:35.862620Z",
     "iopub.status.busy": "2022-03-09T16:34:35.862084Z",
     "iopub.status.idle": "2022-03-09T16:34:35.866402Z",
     "shell.execute_reply": "2022-03-09T16:34:35.865624Z"
    }
   },
   "outputs": [],
   "source": [
    "from cleanlab.classification import LearningWithNoisyLabels\n",
    "\n",
    "net = NeuralNetClassifier(NeuralNetwork)\n",
    "clf = LearningWithNoisyLabels(clf=net)"
   ]
  },
  {
   "cell_type": "code",
   "execution_count": 17,
   "metadata": {
    "execution": {
     "iopub.execute_input": "2022-03-09T16:34:35.870126Z",
     "iopub.status.busy": "2022-03-09T16:34:35.869668Z",
     "iopub.status.idle": "2022-03-09T16:35:41.873623Z",
     "shell.execute_reply": "2022-03-09T16:35:41.872893Z"
    }
   },
   "outputs": [
    {
     "name": "stdout",
     "output_type": "stream",
     "text": [
      "  epoch    train_loss    valid_acc    valid_loss     dur\n",
      "-------  ------------  -----------  ------------  ------\n",
      "      1        \u001b[36m1.9605\u001b[0m       \u001b[32m0.7648\u001b[0m        \u001b[35m1.5213\u001b[0m  1.0240\n"
     ]
    },
    {
     "name": "stdout",
     "output_type": "stream",
     "text": [
      "      2        \u001b[36m1.2487\u001b[0m       \u001b[32m0.8210\u001b[0m        \u001b[35m0.9291\u001b[0m  0.9743\n"
     ]
    },
    {
     "name": "stdout",
     "output_type": "stream",
     "text": [
      "      3        \u001b[36m0.8987\u001b[0m       \u001b[32m0.8455\u001b[0m        \u001b[35m0.6978\u001b[0m  1.0021\n"
     ]
    },
    {
     "name": "stdout",
     "output_type": "stream",
     "text": [
      "      4        \u001b[36m0.7489\u001b[0m       \u001b[32m0.8609\u001b[0m        \u001b[35m0.5880\u001b[0m  1.0608\n"
     ]
    },
    {
     "name": "stdout",
     "output_type": "stream",
     "text": [
      "      5        \u001b[36m0.6631\u001b[0m       \u001b[32m0.8720\u001b[0m        \u001b[35m0.5228\u001b[0m  1.0427\n"
     ]
    },
    {
     "name": "stdout",
     "output_type": "stream",
     "text": [
      "      6        \u001b[36m0.6048\u001b[0m       \u001b[32m0.8787\u001b[0m        \u001b[35m0.4786\u001b[0m  1.0042\n"
     ]
    },
    {
     "name": "stdout",
     "output_type": "stream",
     "text": [
      "      7        \u001b[36m0.5654\u001b[0m       \u001b[32m0.8835\u001b[0m        \u001b[35m0.4477\u001b[0m  1.0441\n"
     ]
    },
    {
     "name": "stdout",
     "output_type": "stream",
     "text": [
      "      8        \u001b[36m0.5368\u001b[0m       \u001b[32m0.8885\u001b[0m        \u001b[35m0.4246\u001b[0m  1.0241\n"
     ]
    },
    {
     "name": "stdout",
     "output_type": "stream",
     "text": [
      "      9        \u001b[36m0.5127\u001b[0m       \u001b[32m0.8917\u001b[0m        \u001b[35m0.4051\u001b[0m  1.0525\n"
     ]
    },
    {
     "name": "stdout",
     "output_type": "stream",
     "text": [
      "     10        \u001b[36m0.4910\u001b[0m       \u001b[32m0.8950\u001b[0m        \u001b[35m0.3892\u001b[0m  1.0235\n"
     ]
    },
    {
     "name": "stdout",
     "output_type": "stream",
     "text": [
      "  epoch    train_loss    valid_acc    valid_loss     dur\n",
      "-------  ------------  -----------  ------------  ------\n",
      "      1        \u001b[36m2.0122\u001b[0m       \u001b[32m0.7537\u001b[0m        \u001b[35m1.6149\u001b[0m  1.0186\n"
     ]
    },
    {
     "name": "stdout",
     "output_type": "stream",
     "text": [
      "      2        \u001b[36m1.3300\u001b[0m       \u001b[32m0.8137\u001b[0m        \u001b[35m0.9931\u001b[0m  1.0021\n"
     ]
    },
    {
     "name": "stdout",
     "output_type": "stream",
     "text": [
      "      3        \u001b[36m0.9538\u001b[0m       \u001b[32m0.8420\u001b[0m        \u001b[35m0.7363\u001b[0m  1.0136\n"
     ]
    },
    {
     "name": "stdout",
     "output_type": "stream",
     "text": [
      "      4        \u001b[36m0.7830\u001b[0m       \u001b[32m0.8575\u001b[0m        \u001b[35m0.6131\u001b[0m  1.0292\n"
     ]
    },
    {
     "name": "stdout",
     "output_type": "stream",
     "text": [
      "      5        \u001b[36m0.6917\u001b[0m       \u001b[32m0.8679\u001b[0m        \u001b[35m0.5420\u001b[0m  0.9892\n"
     ]
    },
    {
     "name": "stdout",
     "output_type": "stream",
     "text": [
      "      6        \u001b[36m0.6327\u001b[0m       \u001b[32m0.8743\u001b[0m        \u001b[35m0.4948\u001b[0m  0.9714\n"
     ]
    },
    {
     "name": "stdout",
     "output_type": "stream",
     "text": [
      "      7        \u001b[36m0.5831\u001b[0m       \u001b[32m0.8814\u001b[0m        \u001b[35m0.4591\u001b[0m  0.9774\n"
     ]
    },
    {
     "name": "stdout",
     "output_type": "stream",
     "text": [
      "      8        \u001b[36m0.5469\u001b[0m       \u001b[32m0.8862\u001b[0m        \u001b[35m0.4328\u001b[0m  0.9942\n"
     ]
    },
    {
     "name": "stdout",
     "output_type": "stream",
     "text": [
      "      9        \u001b[36m0.5213\u001b[0m       \u001b[32m0.8912\u001b[0m        \u001b[35m0.4113\u001b[0m  0.9857\n"
     ]
    },
    {
     "name": "stdout",
     "output_type": "stream",
     "text": [
      "     10        \u001b[36m0.5001\u001b[0m       \u001b[32m0.8943\u001b[0m        \u001b[35m0.3934\u001b[0m  1.0025\n"
     ]
    },
    {
     "name": "stdout",
     "output_type": "stream",
     "text": [
      "  epoch    train_loss    valid_acc    valid_loss     dur\n",
      "-------  ------------  -----------  ------------  ------\n",
      "      1        \u001b[36m2.0433\u001b[0m       \u001b[32m0.7137\u001b[0m        \u001b[35m1.6554\u001b[0m  0.9971\n"
     ]
    },
    {
     "name": "stdout",
     "output_type": "stream",
     "text": [
      "      2        \u001b[36m1.3482\u001b[0m       \u001b[32m0.8123\u001b[0m        \u001b[35m0.9963\u001b[0m  1.0075\n"
     ]
    },
    {
     "name": "stdout",
     "output_type": "stream",
     "text": [
      "      3        \u001b[36m0.9459\u001b[0m       \u001b[32m0.8460\u001b[0m        \u001b[35m0.7252\u001b[0m  1.0230\n"
     ]
    },
    {
     "name": "stdout",
     "output_type": "stream",
     "text": [
      "      4        \u001b[36m0.7676\u001b[0m       \u001b[32m0.8581\u001b[0m        \u001b[35m0.5997\u001b[0m  1.0357\n"
     ]
    },
    {
     "name": "stdout",
     "output_type": "stream",
     "text": [
      "      5        \u001b[36m0.6743\u001b[0m       \u001b[32m0.8695\u001b[0m        \u001b[35m0.5280\u001b[0m  0.9888\n"
     ]
    },
    {
     "name": "stdout",
     "output_type": "stream",
     "text": [
      "      6        \u001b[36m0.6091\u001b[0m       \u001b[32m0.8772\u001b[0m        \u001b[35m0.4800\u001b[0m  1.0053\n"
     ]
    },
    {
     "name": "stdout",
     "output_type": "stream",
     "text": [
      "      7        \u001b[36m0.5670\u001b[0m       \u001b[32m0.8836\u001b[0m        \u001b[35m0.4458\u001b[0m  1.0087\n"
     ]
    },
    {
     "name": "stdout",
     "output_type": "stream",
     "text": [
      "      8        \u001b[36m0.5370\u001b[0m       \u001b[32m0.8891\u001b[0m        \u001b[35m0.4211\u001b[0m  1.0504\n"
     ]
    },
    {
     "name": "stdout",
     "output_type": "stream",
     "text": [
      "      9        \u001b[36m0.5077\u001b[0m       \u001b[32m0.8919\u001b[0m        \u001b[35m0.4005\u001b[0m  1.0475\n"
     ]
    },
    {
     "name": "stdout",
     "output_type": "stream",
     "text": [
      "     10        \u001b[36m0.4862\u001b[0m       \u001b[32m0.8961\u001b[0m        \u001b[35m0.3840\u001b[0m  1.0956\n"
     ]
    },
    {
     "name": "stdout",
     "output_type": "stream",
     "text": [
      "  epoch    train_loss    valid_acc    valid_loss     dur\n",
      "-------  ------------  -----------  ------------  ------\n",
      "      1        \u001b[36m2.0204\u001b[0m       \u001b[32m0.6848\u001b[0m        \u001b[35m1.6394\u001b[0m  1.0351\n"
     ]
    },
    {
     "name": "stdout",
     "output_type": "stream",
     "text": [
      "      2        \u001b[36m1.3447\u001b[0m       \u001b[32m0.8100\u001b[0m        \u001b[35m1.0099\u001b[0m  1.0454\n"
     ]
    },
    {
     "name": "stdout",
     "output_type": "stream",
     "text": [
      "      3        \u001b[36m0.9558\u001b[0m       \u001b[32m0.8450\u001b[0m        \u001b[35m0.7425\u001b[0m  1.0323\n"
     ]
    },
    {
     "name": "stdout",
     "output_type": "stream",
     "text": [
      "      4        \u001b[36m0.7797\u001b[0m       \u001b[32m0.8612\u001b[0m        \u001b[35m0.6134\u001b[0m  1.0550\n"
     ]
    },
    {
     "name": "stdout",
     "output_type": "stream",
     "text": [
      "      5        \u001b[36m0.6808\u001b[0m       \u001b[32m0.8724\u001b[0m        \u001b[35m0.5389\u001b[0m  1.0449\n"
     ]
    },
    {
     "name": "stdout",
     "output_type": "stream",
     "text": [
      "      6        \u001b[36m0.6202\u001b[0m       \u001b[32m0.8780\u001b[0m        \u001b[35m0.4907\u001b[0m  1.0616\n"
     ]
    },
    {
     "name": "stdout",
     "output_type": "stream",
     "text": [
      "      7        \u001b[36m0.5777\u001b[0m       \u001b[32m0.8828\u001b[0m        \u001b[35m0.4560\u001b[0m  1.0405\n"
     ]
    },
    {
     "name": "stdout",
     "output_type": "stream",
     "text": [
      "      8        \u001b[36m0.5422\u001b[0m       \u001b[32m0.8872\u001b[0m        \u001b[35m0.4300\u001b[0m  1.0398\n"
     ]
    },
    {
     "name": "stdout",
     "output_type": "stream",
     "text": [
      "      9        \u001b[36m0.5159\u001b[0m       \u001b[32m0.8917\u001b[0m        \u001b[35m0.4101\u001b[0m  1.0374\n"
     ]
    },
    {
     "name": "stdout",
     "output_type": "stream",
     "text": [
      "     10        \u001b[36m0.4960\u001b[0m       \u001b[32m0.8938\u001b[0m        \u001b[35m0.3929\u001b[0m  1.0303\n"
     ]
    },
    {
     "name": "stdout",
     "output_type": "stream",
     "text": [
      "  epoch    train_loss    valid_acc    valid_loss     dur\n",
      "-------  ------------  -----------  ------------  ------\n",
      "      1        \u001b[36m2.0211\u001b[0m       \u001b[32m0.7383\u001b[0m        \u001b[35m1.6395\u001b[0m  1.0036\n"
     ]
    },
    {
     "name": "stdout",
     "output_type": "stream",
     "text": [
      "      2        \u001b[36m1.3393\u001b[0m       \u001b[32m0.8131\u001b[0m        \u001b[35m0.9887\u001b[0m  1.0809\n"
     ]
    },
    {
     "name": "stdout",
     "output_type": "stream",
     "text": [
      "      3        \u001b[36m0.9390\u001b[0m       \u001b[32m0.8445\u001b[0m        \u001b[35m0.7219\u001b[0m  1.0046\n"
     ]
    },
    {
     "name": "stdout",
     "output_type": "stream",
     "text": [
      "      4        \u001b[36m0.7713\u001b[0m       \u001b[32m0.8598\u001b[0m        \u001b[35m0.5978\u001b[0m  1.0483\n"
     ]
    },
    {
     "name": "stdout",
     "output_type": "stream",
     "text": [
      "      5        \u001b[36m0.6725\u001b[0m       \u001b[32m0.8699\u001b[0m        \u001b[35m0.5259\u001b[0m  1.0353\n"
     ]
    },
    {
     "name": "stdout",
     "output_type": "stream",
     "text": [
      "      6        \u001b[36m0.6127\u001b[0m       \u001b[32m0.8775\u001b[0m        \u001b[35m0.4789\u001b[0m  1.0391\n"
     ]
    },
    {
     "name": "stdout",
     "output_type": "stream",
     "text": [
      "      7        \u001b[36m0.5737\u001b[0m       \u001b[32m0.8852\u001b[0m        \u001b[35m0.4460\u001b[0m  1.0074\n"
     ]
    },
    {
     "name": "stdout",
     "output_type": "stream",
     "text": [
      "      8        \u001b[36m0.5385\u001b[0m       \u001b[32m0.8892\u001b[0m        \u001b[35m0.4204\u001b[0m  1.0304\n"
     ]
    },
    {
     "name": "stdout",
     "output_type": "stream",
     "text": [
      "      9        \u001b[36m0.5142\u001b[0m       \u001b[32m0.8938\u001b[0m        \u001b[35m0.4001\u001b[0m  1.0130\n"
     ]
    },
    {
     "name": "stdout",
     "output_type": "stream",
     "text": [
      "     10        \u001b[36m0.4905\u001b[0m       \u001b[32m0.8972\u001b[0m        \u001b[35m0.3837\u001b[0m  1.0303\n"
     ]
    },
    {
     "name": "stdout",
     "output_type": "stream",
     "text": [
      "  epoch    train_loss    valid_acc    valid_loss     dur\n",
      "-------  ------------  -----------  ------------  ------\n",
      "      1        \u001b[36m1.8915\u001b[0m       \u001b[32m0.7653\u001b[0m        \u001b[35m1.3644\u001b[0m  1.1811\n"
     ]
    },
    {
     "name": "stdout",
     "output_type": "stream",
     "text": [
      "      2        \u001b[36m1.1078\u001b[0m       \u001b[32m0.8473\u001b[0m        \u001b[35m0.7909\u001b[0m  1.1872\n"
     ]
    },
    {
     "name": "stdout",
     "output_type": "stream",
     "text": [
      "      3        \u001b[36m0.7836\u001b[0m       \u001b[32m0.8715\u001b[0m        \u001b[35m0.5852\u001b[0m  1.3040\n"
     ]
    },
    {
     "name": "stdout",
     "output_type": "stream",
     "text": [
      "      4        \u001b[36m0.6381\u001b[0m       \u001b[32m0.8852\u001b[0m        \u001b[35m0.4836\u001b[0m  1.3040\n"
     ]
    },
    {
     "name": "stdout",
     "output_type": "stream",
     "text": [
      "      5        \u001b[36m0.5593\u001b[0m       \u001b[32m0.8935\u001b[0m        \u001b[35m0.4246\u001b[0m  1.2643\n"
     ]
    },
    {
     "name": "stdout",
     "output_type": "stream",
     "text": [
      "      6        \u001b[36m0.5063\u001b[0m       \u001b[32m0.9005\u001b[0m        \u001b[35m0.3851\u001b[0m  1.2578\n"
     ]
    },
    {
     "name": "stdout",
     "output_type": "stream",
     "text": [
      "      7        \u001b[36m0.4680\u001b[0m       \u001b[32m0.9054\u001b[0m        \u001b[35m0.3562\u001b[0m  1.2449\n"
     ]
    },
    {
     "name": "stdout",
     "output_type": "stream",
     "text": [
      "      8        \u001b[36m0.4396\u001b[0m       \u001b[32m0.9102\u001b[0m        \u001b[35m0.3345\u001b[0m  1.2586\n"
     ]
    },
    {
     "name": "stdout",
     "output_type": "stream",
     "text": [
      "      9        \u001b[36m0.4160\u001b[0m       \u001b[32m0.9124\u001b[0m        \u001b[35m0.3169\u001b[0m  1.2306\n"
     ]
    },
    {
     "name": "stdout",
     "output_type": "stream",
     "text": [
      "     10        \u001b[36m0.3986\u001b[0m       \u001b[32m0.9145\u001b[0m        \u001b[35m0.3028\u001b[0m  1.2030\n"
     ]
    }
   ],
   "source": [
    "_ = clf.fit(X_train, y_train.to_numpy())"
   ]
  },
  {
   "cell_type": "markdown",
   "metadata": {},
   "source": [
    "## 9. Evaluate the robust model's performance"
   ]
  },
  {
   "cell_type": "code",
   "execution_count": 18,
   "metadata": {
    "execution": {
     "iopub.execute_input": "2022-03-09T16:35:41.877335Z",
     "iopub.status.busy": "2022-03-09T16:35:41.876734Z",
     "iopub.status.idle": "2022-03-09T16:35:42.154695Z",
     "shell.execute_reply": "2022-03-09T16:35:42.153923Z"
    }
   },
   "outputs": [
    {
     "data": {
      "text/plain": [
       "0.9028571428571428"
      ]
     },
     "execution_count": 18,
     "metadata": {},
     "output_type": "execute_result"
    }
   ],
   "source": [
    "from sklearn.metrics import accuracy_score\n",
    "\n",
    "y_pred = clf.predict(X_test)\n",
    "accuracy_score(y_test, y_pred)"
   ]
  },
  {
   "cell_type": "markdown",
   "metadata": {},
   "source": [
    "## What's next?"
   ]
  },
  {
   "cell_type": "markdown",
   "metadata": {},
   "source": [
    "Congratulations on completing this tutorial! Check out our following tutorial on using Cleanlab for text classification, where we found *hundreds* of potential label errors in one of the most well-known text datasets, the IMBDb movie review dataset!"
   ]
  }
 ],
 "metadata": {
  "interpreter": {
   "hash": "ced20e3e49bb4fa4ce8ad38f8f2535b7fc4c39b2b89554502b5dbdad1ad67eda"
  },
  "kernelspec": {
   "display_name": "Python 3.10.0 64-bit",
   "language": "python",
   "name": "python3"
  },
  "language_info": {
   "codemirror_mode": {
    "name": "ipython",
    "version": 3
   },
   "file_extension": ".py",
   "mimetype": "text/x-python",
   "name": "python",
   "nbconvert_exporter": "python",
   "pygments_lexer": "ipython3",
   "version": "3.8.12"
  }
 },
 "nbformat": 4,
 "nbformat_minor": 2
}
