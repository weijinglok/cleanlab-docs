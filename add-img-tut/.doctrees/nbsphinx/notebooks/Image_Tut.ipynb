{
 "cells": [
  {
   "cell_type": "markdown",
   "metadata": {},
   "source": [
    "# Image Classification with Cleanlab, PyTorch & Skorch"
   ]
  },
  {
   "cell_type": "markdown",
   "metadata": {},
   "source": [
    "This tutorial will use Cleanlab to find potential label errors in the MNIST handwritten digit image dataset. This dataset contains 60,000 images of handwritten digits from 0 to 9. We'll find *more than a thousand* highly suspicious examples with label errors and edge cases by the end of this tutorial. \n",
    "\n",
    "**Overview of what we'll do in this tutorial:**\n",
    "\n",
    "- Build a simple PyTorch neural net and wrap it with Skorch to make it scikit-learn compatible.\n",
    "\n",
    "- Compute the cross-validated predicted probabilities, ``pyx``, sometimes known as the out-of-sample predicted probabilities.\n",
    "\n",
    "- Generate a list of potential label errors with Cleanlab's ``get_noise_indices``.\n",
    "\n",
    "- Build and train a more robust model than the vanilla model after adapting it with Cleanlab's ``LearningWithNoisyLabels``. \n",
    "\n",
    "**Data:** https://www.openml.org/d/554"
   ]
  },
  {
   "cell_type": "markdown",
   "metadata": {},
   "source": [
    "## 1. Install the required dependencies"
   ]
  },
  {
   "cell_type": "markdown",
   "metadata": {},
   "source": [
    "``%%capture`` is a magic function to hides the cell's output."
   ]
  },
  {
   "cell_type": "code",
   "execution_count": 1,
   "metadata": {
    "execution": {
     "iopub.execute_input": "2022-03-09T19:27:52.199739Z",
     "iopub.status.busy": "2022-03-09T19:27:52.199411Z",
     "iopub.status.idle": "2022-03-09T19:28:23.448243Z",
     "shell.execute_reply": "2022-03-09T19:28:23.447578Z"
    }
   },
   "outputs": [],
   "source": [
    "%%capture\n",
    "\n",
    "%pip install cleanlab pandas matplotlib torch torchvision skorch"
   ]
  },
  {
   "cell_type": "markdown",
   "metadata": {},
   "source": [
    "## 2. Fetch and scale the MNIST dataset"
   ]
  },
  {
   "cell_type": "code",
   "execution_count": 2,
   "metadata": {
    "execution": {
     "iopub.execute_input": "2022-03-09T19:28:23.451861Z",
     "iopub.status.busy": "2022-03-09T19:28:23.451387Z",
     "iopub.status.idle": "2022-03-09T19:29:56.019221Z",
     "shell.execute_reply": "2022-03-09T19:29:56.018672Z"
    }
   },
   "outputs": [],
   "source": [
    "from sklearn.datasets import fetch_openml\n",
    "\n",
    "# Fetch the MNIST dataset\n",
    "mnist = fetch_openml('mnist_784')\n",
    "\n",
    "# Assign the data features and labels to variable X and y respectively \n",
    "X = mnist.data.astype('float32')\n",
    "y = mnist.target.astype('int64')\n"
   ]
  },
  {
   "cell_type": "markdown",
   "metadata": {},
   "source": [
    "<div class=\"alert alert-info\">\n",
    "\n",
    "Bringing Your Own Data (BYOD)?\n",
    "\n",
    "Assign your data's features to variable ``X`` and its labels to variable ``y`` instead.\n",
    "\n",
    "</div>"
   ]
  },
  {
   "cell_type": "code",
   "execution_count": 3,
   "metadata": {
    "execution": {
     "iopub.execute_input": "2022-03-09T19:29:56.022362Z",
     "iopub.status.busy": "2022-03-09T19:29:56.021915Z",
     "iopub.status.idle": "2022-03-09T19:29:56.170401Z",
     "shell.execute_reply": "2022-03-09T19:29:56.169886Z"
    }
   },
   "outputs": [],
   "source": [
    "\n",
    "# Scale the features which range from 0 to 255 (256 levels on the grayscale) \n",
    "X /= 255.0\n",
    "\n",
    "# Then convert it to a numpy array\n",
    "X = X.to_numpy()"
   ]
  },
  {
   "cell_type": "markdown",
   "metadata": {},
   "source": [
    "## 3. Define a classification model"
   ]
  },
  {
   "cell_type": "markdown",
   "metadata": {},
   "source": [
    "Here, we define a simple neural network with PyTorch."
   ]
  },
  {
   "cell_type": "code",
   "execution_count": 4,
   "metadata": {
    "execution": {
     "iopub.execute_input": "2022-03-09T19:29:56.173874Z",
     "iopub.status.busy": "2022-03-09T19:29:56.173579Z",
     "iopub.status.idle": "2022-03-09T19:29:56.814238Z",
     "shell.execute_reply": "2022-03-09T19:29:56.813719Z"
    }
   },
   "outputs": [],
   "source": [
    "from torch import nn\n",
    "\n",
    "class NeuralNetwork(nn.Module):\n",
    "    def __init__(self):\n",
    "        super(NeuralNetwork, self).__init__()\n",
    "        self.dropout = nn.Dropout(0.5)\n",
    "        self.hidden = nn.Linear(28*28, 128)\n",
    "        self.output = nn.Linear(128, 10)\n",
    "\n",
    "    def forward(self, X):\n",
    "        X = nn.functional.relu(self.hidden(X))\n",
    "        X = self.dropout(X)\n",
    "        X = nn.functional.softmax(self.output(X), dim=-1)\n",
    "        return X"
   ]
  },
  {
   "cell_type": "markdown",
   "metadata": {},
   "source": [
    "## 4. Wrap with Skorch for scikit-learn compatibility"
   ]
  },
  {
   "cell_type": "markdown",
   "metadata": {},
   "source": [
    "As some of Cleanlab's feature requires scikit-learn compatibility, we will need to adapt the above PyTorch neural net accordingly. Skorch is a convenient package that helps with this, read more about it here: https://skorch.readthedocs.io"
   ]
  },
  {
   "cell_type": "code",
   "execution_count": 5,
   "metadata": {
    "execution": {
     "iopub.execute_input": "2022-03-09T19:29:56.817503Z",
     "iopub.status.busy": "2022-03-09T19:29:56.817063Z",
     "iopub.status.idle": "2022-03-09T19:29:56.921578Z",
     "shell.execute_reply": "2022-03-09T19:29:56.921065Z"
    }
   },
   "outputs": [],
   "source": [
    "from skorch import NeuralNetClassifier\n",
    "\n",
    "# Wrap the PyTorch neural net around Skorch's NeuralNetClassifier wrapper\n",
    "net = NeuralNetClassifier(NeuralNetwork)"
   ]
  },
  {
   "cell_type": "markdown",
   "metadata": {},
   "source": [
    "## 5. Compute the cross-validated predicted probabilities"
   ]
  },
  {
   "cell_type": "markdown",
   "metadata": {},
   "source": [
    "If we'd like Cleanlab to identify potential label errors in the whole dataset and not just the training set, we can consider fitting the entire dataset. We will only use this model instance to compute the cross-validated predicted probabilities, ``pyx``, and not for model evaluation."
   ]
  },
  {
   "cell_type": "code",
   "execution_count": 6,
   "metadata": {
    "execution": {
     "iopub.execute_input": "2022-03-09T19:29:56.924694Z",
     "iopub.status.busy": "2022-03-09T19:29:56.924323Z",
     "iopub.status.idle": "2022-03-09T19:30:12.405141Z",
     "shell.execute_reply": "2022-03-09T19:30:12.404642Z"
    }
   },
   "outputs": [
    {
     "name": "stdout",
     "output_type": "stream",
     "text": [
      "  epoch    train_loss    valid_acc    valid_loss     dur\n",
      "-------  ------------  -----------  ------------  ------\n",
      "      1        \u001b[36m1.8161\u001b[0m       \u001b[32m0.7772\u001b[0m        \u001b[35m1.1996\u001b[0m  1.5532\n"
     ]
    },
    {
     "name": "stdout",
     "output_type": "stream",
     "text": [
      "      2        \u001b[36m0.9943\u001b[0m       \u001b[32m0.8359\u001b[0m        \u001b[35m0.7112\u001b[0m  1.5449\n"
     ]
    },
    {
     "name": "stdout",
     "output_type": "stream",
     "text": [
      "      3        \u001b[36m0.7289\u001b[0m       \u001b[32m0.8610\u001b[0m        \u001b[35m0.5584\u001b[0m  1.5399\n"
     ]
    },
    {
     "name": "stdout",
     "output_type": "stream",
     "text": [
      "      4        \u001b[36m0.6198\u001b[0m       \u001b[32m0.8745\u001b[0m        \u001b[35m0.4837\u001b[0m  1.5422\n"
     ]
    },
    {
     "name": "stdout",
     "output_type": "stream",
     "text": [
      "      5        \u001b[36m0.5575\u001b[0m       \u001b[32m0.8846\u001b[0m        \u001b[35m0.4375\u001b[0m  1.5368\n"
     ]
    },
    {
     "name": "stdout",
     "output_type": "stream",
     "text": [
      "      6        \u001b[36m0.5145\u001b[0m       \u001b[32m0.8921\u001b[0m        \u001b[35m0.4058\u001b[0m  1.5335\n"
     ]
    },
    {
     "name": "stdout",
     "output_type": "stream",
     "text": [
      "      7        \u001b[36m0.4833\u001b[0m       \u001b[32m0.8979\u001b[0m        \u001b[35m0.3818\u001b[0m  1.5322\n"
     ]
    },
    {
     "name": "stdout",
     "output_type": "stream",
     "text": [
      "      8        \u001b[36m0.4560\u001b[0m       \u001b[32m0.9012\u001b[0m        \u001b[35m0.3636\u001b[0m  1.5392\n"
     ]
    },
    {
     "name": "stdout",
     "output_type": "stream",
     "text": [
      "      9        \u001b[36m0.4391\u001b[0m       \u001b[32m0.9046\u001b[0m        \u001b[35m0.3480\u001b[0m  1.5416\n"
     ]
    },
    {
     "name": "stdout",
     "output_type": "stream",
     "text": [
      "     10        \u001b[36m0.4214\u001b[0m       \u001b[32m0.9074\u001b[0m        \u001b[35m0.3355\u001b[0m  1.5441\n"
     ]
    }
   ],
   "source": [
    "_ = net.fit(X, y)"
   ]
  },
  {
   "cell_type": "markdown",
   "metadata": {},
   "source": [
    "Compute the cross-validated predicted probabilities, ``pyx``, sometimes also known as the out-of-sample predicted probabilities."
   ]
  },
  {
   "cell_type": "code",
   "execution_count": 7,
   "metadata": {
    "execution": {
     "iopub.execute_input": "2022-03-09T19:30:12.407884Z",
     "iopub.status.busy": "2022-03-09T19:30:12.407574Z",
     "iopub.status.idle": "2022-03-09T19:30:33.487654Z",
     "shell.execute_reply": "2022-03-09T19:30:33.487144Z"
    }
   },
   "outputs": [
    {
     "name": "stdout",
     "output_type": "stream",
     "text": [
      "  epoch    train_loss    valid_acc    valid_loss     dur\n",
      "-------  ------------  -----------  ------------  ------\n",
      "      1        \u001b[36m1.9997\u001b[0m       \u001b[32m0.7208\u001b[0m        \u001b[35m1.6048\u001b[0m  0.6670\n"
     ]
    },
    {
     "name": "stdout",
     "output_type": "stream",
     "text": [
      "      2        \u001b[36m1.2906\u001b[0m       \u001b[32m0.7904\u001b[0m        \u001b[35m0.9847\u001b[0m  0.7022\n"
     ]
    },
    {
     "name": "stdout",
     "output_type": "stream",
     "text": [
      "      3        \u001b[36m0.9114\u001b[0m       \u001b[32m0.8253\u001b[0m        \u001b[35m0.7395\u001b[0m  0.6616\n"
     ]
    },
    {
     "name": "stdout",
     "output_type": "stream",
     "text": [
      "      4        \u001b[36m0.7491\u001b[0m       \u001b[32m0.8428\u001b[0m        \u001b[35m0.6254\u001b[0m  0.6546\n"
     ]
    },
    {
     "name": "stdout",
     "output_type": "stream",
     "text": [
      "      5        \u001b[36m0.6575\u001b[0m       \u001b[32m0.8585\u001b[0m        \u001b[35m0.5566\u001b[0m  0.6687\n"
     ]
    },
    {
     "name": "stdout",
     "output_type": "stream",
     "text": [
      "      6        \u001b[36m0.5989\u001b[0m       \u001b[32m0.8643\u001b[0m        \u001b[35m0.5120\u001b[0m  0.6539\n"
     ]
    },
    {
     "name": "stdout",
     "output_type": "stream",
     "text": [
      "      7        \u001b[36m0.5564\u001b[0m       \u001b[32m0.8734\u001b[0m        \u001b[35m0.4782\u001b[0m  0.6511\n"
     ]
    },
    {
     "name": "stdout",
     "output_type": "stream",
     "text": [
      "      8        \u001b[36m0.5190\u001b[0m       \u001b[32m0.8764\u001b[0m        \u001b[35m0.4526\u001b[0m  0.6542\n"
     ]
    },
    {
     "name": "stdout",
     "output_type": "stream",
     "text": [
      "      9        \u001b[36m0.4990\u001b[0m       \u001b[32m0.8801\u001b[0m        \u001b[35m0.4333\u001b[0m  0.6501\n"
     ]
    },
    {
     "name": "stdout",
     "output_type": "stream",
     "text": [
      "     10        \u001b[36m0.4729\u001b[0m       \u001b[32m0.8829\u001b[0m        \u001b[35m0.4157\u001b[0m  0.7556\n"
     ]
    },
    {
     "name": "stdout",
     "output_type": "stream",
     "text": [
      "  epoch    train_loss    valid_acc    valid_loss     dur\n",
      "-------  ------------  -----------  ------------  ------\n",
      "      1        \u001b[36m1.9893\u001b[0m       \u001b[32m0.7312\u001b[0m        \u001b[35m1.5679\u001b[0m  0.6565\n"
     ]
    },
    {
     "name": "stdout",
     "output_type": "stream",
     "text": [
      "      2        \u001b[36m1.2730\u001b[0m       \u001b[32m0.8032\u001b[0m        \u001b[35m0.9527\u001b[0m  0.6494\n"
     ]
    },
    {
     "name": "stdout",
     "output_type": "stream",
     "text": [
      "      3        \u001b[36m0.8969\u001b[0m       \u001b[32m0.8359\u001b[0m        \u001b[35m0.7111\u001b[0m  0.6518\n"
     ]
    },
    {
     "name": "stdout",
     "output_type": "stream",
     "text": [
      "      4        \u001b[36m0.7349\u001b[0m       \u001b[32m0.8544\u001b[0m        \u001b[35m0.5952\u001b[0m  0.6481\n"
     ]
    },
    {
     "name": "stdout",
     "output_type": "stream",
     "text": [
      "      5        \u001b[36m0.6488\u001b[0m       \u001b[32m0.8682\u001b[0m        \u001b[35m0.5276\u001b[0m  0.6523\n"
     ]
    },
    {
     "name": "stdout",
     "output_type": "stream",
     "text": [
      "      6        \u001b[36m0.5876\u001b[0m       \u001b[32m0.8759\u001b[0m        \u001b[35m0.4827\u001b[0m  0.6528\n"
     ]
    },
    {
     "name": "stdout",
     "output_type": "stream",
     "text": [
      "      7        \u001b[36m0.5486\u001b[0m       \u001b[32m0.8830\u001b[0m        \u001b[35m0.4504\u001b[0m  0.6518\n"
     ]
    },
    {
     "name": "stdout",
     "output_type": "stream",
     "text": [
      "      8        \u001b[36m0.5192\u001b[0m       \u001b[32m0.8868\u001b[0m        \u001b[35m0.4270\u001b[0m  0.6658\n"
     ]
    },
    {
     "name": "stdout",
     "output_type": "stream",
     "text": [
      "      9        \u001b[36m0.4951\u001b[0m       \u001b[32m0.8914\u001b[0m        \u001b[35m0.4069\u001b[0m  0.6612\n"
     ]
    },
    {
     "name": "stdout",
     "output_type": "stream",
     "text": [
      "     10        \u001b[36m0.4698\u001b[0m       \u001b[32m0.8940\u001b[0m        \u001b[35m0.3901\u001b[0m  0.6605\n"
     ]
    },
    {
     "name": "stdout",
     "output_type": "stream",
     "text": [
      "  epoch    train_loss    valid_acc    valid_loss     dur\n",
      "-------  ------------  -----------  ------------  ------\n",
      "      1        \u001b[36m2.0207\u001b[0m       \u001b[32m0.7549\u001b[0m        \u001b[35m1.6118\u001b[0m  0.6493\n"
     ]
    },
    {
     "name": "stdout",
     "output_type": "stream",
     "text": [
      "      2        \u001b[36m1.3258\u001b[0m       \u001b[32m0.8058\u001b[0m        \u001b[35m0.9766\u001b[0m  0.6524\n"
     ]
    },
    {
     "name": "stdout",
     "output_type": "stream",
     "text": [
      "      3        \u001b[36m0.9446\u001b[0m       \u001b[32m0.8400\u001b[0m        \u001b[35m0.7241\u001b[0m  0.6488\n"
     ]
    },
    {
     "name": "stdout",
     "output_type": "stream",
     "text": [
      "      4        \u001b[36m0.7803\u001b[0m       \u001b[32m0.8585\u001b[0m        \u001b[35m0.6049\u001b[0m  0.6553\n"
     ]
    },
    {
     "name": "stdout",
     "output_type": "stream",
     "text": [
      "      5        \u001b[36m0.6872\u001b[0m       \u001b[32m0.8691\u001b[0m        \u001b[35m0.5337\u001b[0m  0.6500\n"
     ]
    },
    {
     "name": "stdout",
     "output_type": "stream",
     "text": [
      "      6        \u001b[36m0.6222\u001b[0m       \u001b[32m0.8779\u001b[0m        \u001b[35m0.4860\u001b[0m  0.6495\n"
     ]
    },
    {
     "name": "stdout",
     "output_type": "stream",
     "text": [
      "      7        \u001b[36m0.5774\u001b[0m       \u001b[32m0.8845\u001b[0m        \u001b[35m0.4515\u001b[0m  0.6521\n"
     ]
    },
    {
     "name": "stdout",
     "output_type": "stream",
     "text": [
      "      8        \u001b[36m0.5462\u001b[0m       \u001b[32m0.8906\u001b[0m        \u001b[35m0.4252\u001b[0m  0.6495\n"
     ]
    },
    {
     "name": "stdout",
     "output_type": "stream",
     "text": [
      "      9        \u001b[36m0.5206\u001b[0m       \u001b[32m0.8952\u001b[0m        \u001b[35m0.4052\u001b[0m  0.6755\n"
     ]
    },
    {
     "name": "stdout",
     "output_type": "stream",
     "text": [
      "     10        \u001b[36m0.5033\u001b[0m       \u001b[32m0.8987\u001b[0m        \u001b[35m0.3895\u001b[0m  0.6525\n"
     ]
    }
   ],
   "source": [
    "from sklearn.model_selection import cross_val_predict\n",
    "\n",
    "pyx = cross_val_predict(net, X, y, cv=3, method='predict_proba')"
   ]
  },
  {
   "cell_type": "markdown",
   "metadata": {},
   "source": [
    "## 6. Run Cleanlab to find potential label errors"
   ]
  },
  {
   "cell_type": "markdown",
   "metadata": {},
   "source": [
    "Cleanlab has a ``get_noise_indices`` function to generate a list of potential label errors. Setting ``sorted_index_method=\"prob_given_label\"`` returns the indices of all the most likely label errors, sorted by the most suspicious example first."
   ]
  },
  {
   "cell_type": "code",
   "execution_count": 8,
   "metadata": {
    "execution": {
     "iopub.execute_input": "2022-03-09T19:30:33.490647Z",
     "iopub.status.busy": "2022-03-09T19:30:33.490457Z",
     "iopub.status.idle": "2022-03-09T19:30:33.894474Z",
     "shell.execute_reply": "2022-03-09T19:30:33.893799Z"
    }
   },
   "outputs": [],
   "source": [
    "from cleanlab.pruning import get_noise_indices\n",
    "\n",
    "ordered_label_errors = get_noise_indices(\n",
    "    s=y,\n",
    "    psx=pyx,\n",
    "    sorted_index_method=\"prob_given_label\"\n",
    ")"
   ]
  },
  {
   "cell_type": "markdown",
   "metadata": {},
   "source": [
    "## 7. Review some of the most likely mislabeled examples"
   ]
  },
  {
   "cell_type": "code",
   "execution_count": 9,
   "metadata": {
    "execution": {
     "iopub.execute_input": "2022-03-09T19:30:33.898241Z",
     "iopub.status.busy": "2022-03-09T19:30:33.897765Z",
     "iopub.status.idle": "2022-03-09T19:30:33.902782Z",
     "shell.execute_reply": "2022-03-09T19:30:33.902245Z"
    }
   },
   "outputs": [
    {
     "name": "stdout",
     "output_type": "stream",
     "text": [
      "Cleanlab found 1238 potential label errors. Here are the indices of the top 15 most likely ones: \n",
      " [24798 18598  8729 12679 15942 20820 61790 66091  1352  7010 31134 53216\n",
      " 40466 59915 13031]\n"
     ]
    }
   ],
   "source": [
    "print(f\"Cleanlab found {len(ordered_label_errors)} potential label errors. Here are the indices of the top 15 most likely ones: \\n {ordered_label_errors[:15]}\")"
   ]
  },
  {
   "cell_type": "markdown",
   "metadata": {},
   "source": [
    "We'll define a new ``plot_examples`` function to display any examples in a subplot conveniently."
   ]
  },
  {
   "cell_type": "code",
   "execution_count": 10,
   "metadata": {
    "execution": {
     "iopub.execute_input": "2022-03-09T19:30:33.905186Z",
     "iopub.status.busy": "2022-03-09T19:30:33.904929Z",
     "iopub.status.idle": "2022-03-09T19:30:34.708536Z",
     "shell.execute_reply": "2022-03-09T19:30:34.708027Z"
    }
   },
   "outputs": [],
   "source": [
    "import matplotlib.pyplot as plt\n",
    "\n",
    "def plot_examples(id_iter, nrows=1, ncols=1):\n",
    "    for count, id in enumerate(id_iter):\n",
    "        plt.subplot(nrows, ncols, count+1)\n",
    "        plt.imshow(X[id].reshape(28, 28))\n",
    "        plt.title(f\"id: {id} \\n label: {y[id]}\")\n",
    "        plt.axis('off')\n",
    "\n",
    "    plt.tight_layout(h_pad=2.0)"
   ]
  },
  {
   "cell_type": "markdown",
   "metadata": {},
   "source": [
    "Let's start by having an overview of the top 15 most likely label errors. From here, we can see a few label errors and edge cases. Feel free to change the parameters to display more or fewer examples. "
   ]
  },
  {
   "cell_type": "code",
   "execution_count": 11,
   "metadata": {
    "execution": {
     "iopub.execute_input": "2022-03-09T19:30:34.711897Z",
     "iopub.status.busy": "2022-03-09T19:30:34.711512Z",
     "iopub.status.idle": "2022-03-09T19:30:35.145332Z",
     "shell.execute_reply": "2022-03-09T19:30:35.144829Z"
    }
   },
   "outputs": [
    {
     "data": {
      "image/png": "[encoded data removed]",
      "text/plain": [
       "<Figure size 432x288 with 15 Axes>"
      ]
     },
     "metadata": {
      "needs_background": "light"
     },
     "output_type": "display_data"
    }
   ],
   "source": [
    "plot_examples(ordered_label_errors[range(15)], 3, 5)"
   ]
  },
  {
   "cell_type": "markdown",
   "metadata": {},
   "source": [
    "Let's zoom into specific examples:"
   ]
  },
  {
   "cell_type": "markdown",
   "metadata": {},
   "source": [
    "Given label is **4** but looks more like a **7**"
   ]
  },
  {
   "cell_type": "code",
   "execution_count": 12,
   "metadata": {
    "execution": {
     "iopub.execute_input": "2022-03-09T19:30:35.148166Z",
     "iopub.status.busy": "2022-03-09T19:30:35.147761Z",
     "iopub.status.idle": "2022-03-09T19:30:35.200065Z",
     "shell.execute_reply": "2022-03-09T19:30:35.199553Z"
    }
   },
   "outputs": [
    {
     "data": {
      "image/png": "[encoded data removed]",
      "text/plain": [
       "<Figure size 432x288 with 1 Axes>"
      ]
     },
     "metadata": {
      "needs_background": "light"
     },
     "output_type": "display_data"
    }
   ],
   "source": [
    "plot_examples([59915])"
   ]
  },
  {
   "cell_type": "markdown",
   "metadata": {},
   "source": [
    "Given label is **4** but also looks like **9**"
   ]
  },
  {
   "cell_type": "code",
   "execution_count": 13,
   "metadata": {
    "execution": {
     "iopub.execute_input": "2022-03-09T19:30:35.203148Z",
     "iopub.status.busy": "2022-03-09T19:30:35.202749Z",
     "iopub.status.idle": "2022-03-09T19:30:35.255950Z",
     "shell.execute_reply": "2022-03-09T19:30:35.255453Z"
    }
   },
   "outputs": [
    {
     "data": {
      "image/png": "[encoded data removed]",
      "text/plain": [
       "<Figure size 432x288 with 1 Axes>"
      ]
     },
     "metadata": {
      "needs_background": "light"
     },
     "output_type": "display_data"
    }
   ],
   "source": [
    "plot_examples([24798])"
   ]
  },
  {
   "cell_type": "markdown",
   "metadata": {},
   "source": [
    "Edge case of odd looking **9**s"
   ]
  },
  {
   "cell_type": "code",
   "execution_count": 14,
   "metadata": {
    "execution": {
     "iopub.execute_input": "2022-03-09T19:30:35.259101Z",
     "iopub.status.busy": "2022-03-09T19:30:35.258708Z",
     "iopub.status.idle": "2022-03-09T19:30:35.445301Z",
     "shell.execute_reply": "2022-03-09T19:30:35.444814Z"
    }
   },
   "outputs": [
    {
     "data": {
      "image/png": "[encoded data removed]",
      "text/plain": [
       "<Figure size 432x288 with 3 Axes>"
      ]
     },
     "metadata": {
      "needs_background": "light"
     },
     "output_type": "display_data"
    }
   ],
   "source": [
    "plot_examples([18598, 1352, 61247], 1, 3)"
   ]
  },
  {
   "cell_type": "markdown",
   "metadata": {},
   "source": [
    "Cleanlab has shortlisted the most likely label errors to speed up your data cleaning process. With this list, you can decide whether to fix label errors, augment edge cases or remove obscure examples. \n",
    "\n",
    "These human-in-the-loop processes may be time-consuming, so if you'd like Cleanlab to automatically remove these noisy examples and train a model directly on the partially mislabeled dataset, you're in luck! Cleanlab provides a ``LearningWithNoisyLabels`` wrapper to do precisely this:"
   ]
  },
  {
   "cell_type": "markdown",
   "metadata": {},
   "source": [
    "## 8. Adapt with Cleanlab's wrapper and train a more robust model"
   ]
  },
  {
   "cell_type": "markdown",
   "metadata": {},
   "source": [
    "First, we split the dataset into train and test subsets."
   ]
  },
  {
   "cell_type": "code",
   "execution_count": 15,
   "metadata": {
    "execution": {
     "iopub.execute_input": "2022-03-09T19:30:35.448009Z",
     "iopub.status.busy": "2022-03-09T19:30:35.447834Z",
     "iopub.status.idle": "2022-03-09T19:30:35.795057Z",
     "shell.execute_reply": "2022-03-09T19:30:35.794521Z"
    }
   },
   "outputs": [],
   "source": [
    "from sklearn.model_selection import train_test_split\n",
    "\n",
    "X_train, X_test, y_train, y_test = train_test_split(X, y, test_size=0.2)"
   ]
  },
  {
   "cell_type": "markdown",
   "metadata": {},
   "source": [
    "Re-instantiate a new scikit-learn compatible model with Skorch then wrap it with Cleanlab's ``LearningWithNoisyLabels`` wrapper."
   ]
  },
  {
   "cell_type": "code",
   "execution_count": 16,
   "metadata": {
    "execution": {
     "iopub.execute_input": "2022-03-09T19:30:35.798547Z",
     "iopub.status.busy": "2022-03-09T19:30:35.798053Z",
     "iopub.status.idle": "2022-03-09T19:30:35.801350Z",
     "shell.execute_reply": "2022-03-09T19:30:35.800819Z"
    }
   },
   "outputs": [],
   "source": [
    "from cleanlab.classification import LearningWithNoisyLabels\n",
    "\n",
    "net = NeuralNetClassifier(NeuralNetwork)\n",
    "clf = LearningWithNoisyLabels(clf=net)"
   ]
  },
  {
   "cell_type": "code",
   "execution_count": 17,
   "metadata": {
    "execution": {
     "iopub.execute_input": "2022-03-09T19:30:35.804012Z",
     "iopub.status.busy": "2022-03-09T19:30:35.803598Z",
     "iopub.status.idle": "2022-03-09T19:31:16.797593Z",
     "shell.execute_reply": "2022-03-09T19:31:16.796924Z"
    }
   },
   "outputs": [
    {
     "name": "stdout",
     "output_type": "stream",
     "text": [
      "  epoch    train_loss    valid_acc    valid_loss     dur\n",
      "-------  ------------  -----------  ------------  ------\n",
      "      1        \u001b[36m2.0215\u001b[0m       \u001b[32m0.7443\u001b[0m        \u001b[35m1.6251\u001b[0m  0.6321\n"
     ]
    },
    {
     "name": "stdout",
     "output_type": "stream",
     "text": [
      "      2        \u001b[36m1.3283\u001b[0m       \u001b[32m0.8189\u001b[0m        \u001b[35m0.9868\u001b[0m  0.6257\n"
     ]
    },
    {
     "name": "stdout",
     "output_type": "stream",
     "text": [
      "      3        \u001b[36m0.9438\u001b[0m       \u001b[32m0.8473\u001b[0m        \u001b[35m0.7247\u001b[0m  0.6278\n"
     ]
    },
    {
     "name": "stdout",
     "output_type": "stream",
     "text": [
      "      4        \u001b[36m0.7729\u001b[0m       \u001b[32m0.8617\u001b[0m        \u001b[35m0.6003\u001b[0m  0.6327\n"
     ]
    },
    {
     "name": "stdout",
     "output_type": "stream",
     "text": [
      "      5        \u001b[36m0.6830\u001b[0m       \u001b[32m0.8752\u001b[0m        \u001b[35m0.5288\u001b[0m  0.6262\n"
     ]
    },
    {
     "name": "stdout",
     "output_type": "stream",
     "text": [
      "      6        \u001b[36m0.6201\u001b[0m       \u001b[32m0.8821\u001b[0m        \u001b[35m0.4818\u001b[0m  0.6266\n"
     ]
    },
    {
     "name": "stdout",
     "output_type": "stream",
     "text": [
      "      7        \u001b[36m0.5759\u001b[0m       \u001b[32m0.8878\u001b[0m        \u001b[35m0.4475\u001b[0m  0.6295\n"
     ]
    },
    {
     "name": "stdout",
     "output_type": "stream",
     "text": [
      "      8        \u001b[36m0.5429\u001b[0m       \u001b[32m0.8921\u001b[0m        \u001b[35m0.4224\u001b[0m  0.6285\n"
     ]
    },
    {
     "name": "stdout",
     "output_type": "stream",
     "text": [
      "      9        \u001b[36m0.5171\u001b[0m       \u001b[32m0.8962\u001b[0m        \u001b[35m0.4022\u001b[0m  0.6275\n"
     ]
    },
    {
     "name": "stdout",
     "output_type": "stream",
     "text": [
      "     10        \u001b[36m0.4965\u001b[0m       \u001b[32m0.8994\u001b[0m        \u001b[35m0.3856\u001b[0m  0.6407\n"
     ]
    },
    {
     "name": "stdout",
     "output_type": "stream",
     "text": [
      "  epoch    train_loss    valid_acc    valid_loss     dur\n",
      "-------  ------------  -----------  ------------  ------\n",
      "      1        \u001b[36m2.0598\u001b[0m       \u001b[32m0.7396\u001b[0m        \u001b[35m1.6954\u001b[0m  0.6579\n"
     ]
    },
    {
     "name": "stdout",
     "output_type": "stream",
     "text": [
      "      2        \u001b[36m1.3864\u001b[0m       \u001b[32m0.8092\u001b[0m        \u001b[35m1.0282\u001b[0m  0.6297\n"
     ]
    },
    {
     "name": "stdout",
     "output_type": "stream",
     "text": [
      "      3        \u001b[36m0.9740\u001b[0m       \u001b[32m0.8434\u001b[0m        \u001b[35m0.7485\u001b[0m  0.6529\n"
     ]
    },
    {
     "name": "stdout",
     "output_type": "stream",
     "text": [
      "      4        \u001b[36m0.7969\u001b[0m       \u001b[32m0.8592\u001b[0m        \u001b[35m0.6186\u001b[0m  0.6303\n"
     ]
    },
    {
     "name": "stdout",
     "output_type": "stream",
     "text": [
      "      5        \u001b[36m0.6974\u001b[0m       \u001b[32m0.8705\u001b[0m        \u001b[35m0.5428\u001b[0m  0.6305\n"
     ]
    },
    {
     "name": "stdout",
     "output_type": "stream",
     "text": [
      "      6        \u001b[36m0.6333\u001b[0m       \u001b[32m0.8779\u001b[0m        \u001b[35m0.4933\u001b[0m  0.6228\n"
     ]
    },
    {
     "name": "stdout",
     "output_type": "stream",
     "text": [
      "      7        \u001b[36m0.5879\u001b[0m       \u001b[32m0.8836\u001b[0m        \u001b[35m0.4584\u001b[0m  0.6205\n"
     ]
    },
    {
     "name": "stdout",
     "output_type": "stream",
     "text": [
      "      8        \u001b[36m0.5557\u001b[0m       \u001b[32m0.8879\u001b[0m        \u001b[35m0.4313\u001b[0m  0.6233\n"
     ]
    },
    {
     "name": "stdout",
     "output_type": "stream",
     "text": [
      "      9        \u001b[36m0.5261\u001b[0m       \u001b[32m0.8921\u001b[0m        \u001b[35m0.4103\u001b[0m  0.6262\n"
     ]
    },
    {
     "name": "stdout",
     "output_type": "stream",
     "text": [
      "     10        \u001b[36m0.5047\u001b[0m       \u001b[32m0.8948\u001b[0m        \u001b[35m0.3935\u001b[0m  0.6248\n"
     ]
    },
    {
     "name": "stdout",
     "output_type": "stream",
     "text": [
      "  epoch    train_loss    valid_acc    valid_loss     dur\n",
      "-------  ------------  -----------  ------------  ------\n",
      "      1        \u001b[36m2.0100\u001b[0m       \u001b[32m0.7417\u001b[0m        \u001b[35m1.6096\u001b[0m  0.6270\n"
     ]
    },
    {
     "name": "stdout",
     "output_type": "stream",
     "text": [
      "      2        \u001b[36m1.3126\u001b[0m       \u001b[32m0.8124\u001b[0m        \u001b[35m0.9840\u001b[0m  0.6340\n"
     ]
    },
    {
     "name": "stdout",
     "output_type": "stream",
     "text": [
      "      3        \u001b[36m0.9415\u001b[0m       \u001b[32m0.8453\u001b[0m        \u001b[35m0.7298\u001b[0m  0.6274\n"
     ]
    },
    {
     "name": "stdout",
     "output_type": "stream",
     "text": [
      "      4        \u001b[36m0.7722\u001b[0m       \u001b[32m0.8605\u001b[0m        \u001b[35m0.6075\u001b[0m  0.6261\n"
     ]
    },
    {
     "name": "stdout",
     "output_type": "stream",
     "text": [
      "      5        \u001b[36m0.6796\u001b[0m       \u001b[32m0.8719\u001b[0m        \u001b[35m0.5358\u001b[0m  0.6239\n"
     ]
    },
    {
     "name": "stdout",
     "output_type": "stream",
     "text": [
      "      6        \u001b[36m0.6190\u001b[0m       \u001b[32m0.8804\u001b[0m        \u001b[35m0.4884\u001b[0m  0.6279\n"
     ]
    },
    {
     "name": "stdout",
     "output_type": "stream",
     "text": [
      "      7        \u001b[36m0.5785\u001b[0m       \u001b[32m0.8885\u001b[0m        \u001b[35m0.4542\u001b[0m  0.6270\n"
     ]
    },
    {
     "name": "stdout",
     "output_type": "stream",
     "text": [
      "      8        \u001b[36m0.5404\u001b[0m       \u001b[32m0.8919\u001b[0m        \u001b[35m0.4285\u001b[0m  0.6283\n"
     ]
    },
    {
     "name": "stdout",
     "output_type": "stream",
     "text": [
      "      9        \u001b[36m0.5185\u001b[0m       \u001b[32m0.8942\u001b[0m        \u001b[35m0.4088\u001b[0m  0.6302\n"
     ]
    },
    {
     "name": "stdout",
     "output_type": "stream",
     "text": [
      "     10        \u001b[36m0.4966\u001b[0m       \u001b[32m0.8965\u001b[0m        \u001b[35m0.3915\u001b[0m  0.6289\n"
     ]
    },
    {
     "name": "stdout",
     "output_type": "stream",
     "text": [
      "  epoch    train_loss    valid_acc    valid_loss     dur\n",
      "-------  ------------  -----------  ------------  ------\n",
      "      1        \u001b[36m1.9962\u001b[0m       \u001b[32m0.7633\u001b[0m        \u001b[35m1.5835\u001b[0m  0.6337\n"
     ]
    },
    {
     "name": "stdout",
     "output_type": "stream",
     "text": [
      "      2        \u001b[36m1.2883\u001b[0m       \u001b[32m0.8298\u001b[0m        \u001b[35m0.9540\u001b[0m  0.6300\n"
     ]
    },
    {
     "name": "stdout",
     "output_type": "stream",
     "text": [
      "      3        \u001b[36m0.9105\u001b[0m       \u001b[32m0.8532\u001b[0m        \u001b[35m0.7061\u001b[0m  0.6256\n"
     ]
    },
    {
     "name": "stdout",
     "output_type": "stream",
     "text": [
      "      4        \u001b[36m0.7498\u001b[0m       \u001b[32m0.8683\u001b[0m        \u001b[35m0.5895\u001b[0m  0.6242\n"
     ]
    },
    {
     "name": "stdout",
     "output_type": "stream",
     "text": [
      "      5        \u001b[36m0.6603\u001b[0m       \u001b[32m0.8762\u001b[0m        \u001b[35m0.5213\u001b[0m  0.6255\n"
     ]
    },
    {
     "name": "stdout",
     "output_type": "stream",
     "text": [
      "      6        \u001b[36m0.6035\u001b[0m       \u001b[32m0.8835\u001b[0m        \u001b[35m0.4771\u001b[0m  0.6264\n"
     ]
    },
    {
     "name": "stdout",
     "output_type": "stream",
     "text": [
      "      7        \u001b[36m0.5593\u001b[0m       \u001b[32m0.8893\u001b[0m        \u001b[35m0.4447\u001b[0m  0.6253\n"
     ]
    },
    {
     "name": "stdout",
     "output_type": "stream",
     "text": [
      "      8        \u001b[36m0.5306\u001b[0m       \u001b[32m0.8935\u001b[0m        \u001b[35m0.4202\u001b[0m  0.6285\n"
     ]
    },
    {
     "name": "stdout",
     "output_type": "stream",
     "text": [
      "      9        \u001b[36m0.5057\u001b[0m       \u001b[32m0.8964\u001b[0m        \u001b[35m0.4010\u001b[0m  0.6272\n"
     ]
    },
    {
     "name": "stdout",
     "output_type": "stream",
     "text": [
      "     10        \u001b[36m0.4838\u001b[0m       \u001b[32m0.9002\u001b[0m        \u001b[35m0.3851\u001b[0m  0.6340\n"
     ]
    },
    {
     "name": "stdout",
     "output_type": "stream",
     "text": [
      "  epoch    train_loss    valid_acc    valid_loss     dur\n",
      "-------  ------------  -----------  ------------  ------\n",
      "      1        \u001b[36m2.0079\u001b[0m       \u001b[32m0.7515\u001b[0m        \u001b[35m1.5989\u001b[0m  0.6335\n"
     ]
    },
    {
     "name": "stdout",
     "output_type": "stream",
     "text": [
      "      2        \u001b[36m1.3020\u001b[0m       \u001b[32m0.8254\u001b[0m        \u001b[35m0.9641\u001b[0m  0.6306\n"
     ]
    },
    {
     "name": "stdout",
     "output_type": "stream",
     "text": [
      "      3        \u001b[36m0.9264\u001b[0m       \u001b[32m0.8541\u001b[0m        \u001b[35m0.7099\u001b[0m  0.6280\n"
     ]
    },
    {
     "name": "stdout",
     "output_type": "stream",
     "text": [
      "      4        \u001b[36m0.7615\u001b[0m       \u001b[32m0.8712\u001b[0m        \u001b[35m0.5881\u001b[0m  0.6280\n"
     ]
    },
    {
     "name": "stdout",
     "output_type": "stream",
     "text": [
      "      5        \u001b[36m0.6702\u001b[0m       \u001b[32m0.8812\u001b[0m        \u001b[35m0.5172\u001b[0m  0.6314\n"
     ]
    },
    {
     "name": "stdout",
     "output_type": "stream",
     "text": [
      "      6        \u001b[36m0.6122\u001b[0m       \u001b[32m0.8882\u001b[0m        \u001b[35m0.4706\u001b[0m  0.6289\n"
     ]
    },
    {
     "name": "stdout",
     "output_type": "stream",
     "text": [
      "      7        \u001b[36m0.5684\u001b[0m       \u001b[32m0.8921\u001b[0m        \u001b[35m0.4371\u001b[0m  0.6271\n"
     ]
    },
    {
     "name": "stdout",
     "output_type": "stream",
     "text": [
      "      8        \u001b[36m0.5358\u001b[0m       \u001b[32m0.8961\u001b[0m        \u001b[35m0.4116\u001b[0m  0.6280\n"
     ]
    },
    {
     "name": "stdout",
     "output_type": "stream",
     "text": [
      "      9        \u001b[36m0.5117\u001b[0m       \u001b[32m0.8992\u001b[0m        \u001b[35m0.3915\u001b[0m  0.6284\n"
     ]
    },
    {
     "name": "stdout",
     "output_type": "stream",
     "text": [
      "     10        \u001b[36m0.4889\u001b[0m       \u001b[32m0.9033\u001b[0m        \u001b[35m0.3744\u001b[0m  0.6374\n"
     ]
    },
    {
     "name": "stdout",
     "output_type": "stream",
     "text": [
      "  epoch    train_loss    valid_acc    valid_loss     dur\n",
      "-------  ------------  -----------  ------------  ------\n",
      "      1        \u001b[36m1.9330\u001b[0m       \u001b[32m0.7757\u001b[0m        \u001b[35m1.4219\u001b[0m  0.7753\n"
     ]
    },
    {
     "name": "stdout",
     "output_type": "stream",
     "text": [
      "      2        \u001b[36m1.1419\u001b[0m       \u001b[32m0.8513\u001b[0m        \u001b[35m0.8009\u001b[0m  0.7746\n"
     ]
    },
    {
     "name": "stdout",
     "output_type": "stream",
     "text": [
      "      3        \u001b[36m0.7909\u001b[0m       \u001b[32m0.8763\u001b[0m        \u001b[35m0.5822\u001b[0m  0.7707\n"
     ]
    },
    {
     "name": "stdout",
     "output_type": "stream",
     "text": [
      "      4        \u001b[36m0.6408\u001b[0m       \u001b[32m0.8896\u001b[0m        \u001b[35m0.4785\u001b[0m  0.7755\n"
     ]
    },
    {
     "name": "stdout",
     "output_type": "stream",
     "text": [
      "      5        \u001b[36m0.5586\u001b[0m       \u001b[32m0.8986\u001b[0m        \u001b[35m0.4186\u001b[0m  0.7866\n"
     ]
    },
    {
     "name": "stdout",
     "output_type": "stream",
     "text": [
      "      6        \u001b[36m0.5067\u001b[0m       \u001b[32m0.9045\u001b[0m        \u001b[35m0.3789\u001b[0m  0.7801\n"
     ]
    },
    {
     "name": "stdout",
     "output_type": "stream",
     "text": [
      "      7        \u001b[36m0.4698\u001b[0m       \u001b[32m0.9089\u001b[0m        \u001b[35m0.3516\u001b[0m  0.7826\n"
     ]
    },
    {
     "name": "stdout",
     "output_type": "stream",
     "text": [
      "      8        \u001b[36m0.4389\u001b[0m       \u001b[32m0.9126\u001b[0m        \u001b[35m0.3294\u001b[0m  0.7832\n"
     ]
    },
    {
     "name": "stdout",
     "output_type": "stream",
     "text": [
      "      9        \u001b[36m0.4185\u001b[0m       \u001b[32m0.9167\u001b[0m        \u001b[35m0.3116\u001b[0m  0.7875\n"
     ]
    },
    {
     "name": "stdout",
     "output_type": "stream",
     "text": [
      "     10        \u001b[36m0.3988\u001b[0m       \u001b[32m0.9189\u001b[0m        \u001b[35m0.2982\u001b[0m  0.8072\n"
     ]
    }
   ],
   "source": [
    "_ = clf.fit(X_train, y_train.to_numpy())"
   ]
  },
  {
   "cell_type": "markdown",
   "metadata": {},
   "source": [
    "## 9. Evaluate the robust model's performance"
   ]
  },
  {
   "cell_type": "code",
   "execution_count": 18,
   "metadata": {
    "execution": {
     "iopub.execute_input": "2022-03-09T19:31:16.800643Z",
     "iopub.status.busy": "2022-03-09T19:31:16.800214Z",
     "iopub.status.idle": "2022-03-09T19:31:16.994830Z",
     "shell.execute_reply": "2022-03-09T19:31:16.994418Z"
    }
   },
   "outputs": [
    {
     "data": {
      "text/plain": [
       "0.8968571428571429"
      ]
     },
     "execution_count": 18,
     "metadata": {},
     "output_type": "execute_result"
    }
   ],
   "source": [
    "from sklearn.metrics import accuracy_score\n",
    "\n",
    "y_pred = clf.predict(X_test)\n",
    "accuracy_score(y_test, y_pred)"
   ]
  },
  {
   "cell_type": "markdown",
   "metadata": {},
   "source": [
    "## What's next?"
   ]
  },
  {
   "cell_type": "markdown",
   "metadata": {},
   "source": [
    "Congratulations on completing this tutorial! Check out our following tutorial on using Cleanlab for text classification, where we found *hundreds* of potential label errors in one of the most well-known text datasets, the IMBDb movie review dataset!"
   ]
  }
 ],
 "metadata": {
  "interpreter": {
   "hash": "ced20e3e49bb4fa4ce8ad38f8f2535b7fc4c39b2b89554502b5dbdad1ad67eda"
  },
  "kernelspec": {
   "display_name": "Python 3.10.0 64-bit",
   "language": "python",
   "name": "python3"
  },
  "language_info": {
   "codemirror_mode": {
    "name": "ipython",
    "version": 3
   },
   "file_extension": ".py",
   "mimetype": "text/x-python",
   "name": "python",
   "nbconvert_exporter": "python",
   "pygments_lexer": "ipython3",
   "version": "3.8.12"
  }
 },
 "nbformat": 4,
 "nbformat_minor": 2
}
