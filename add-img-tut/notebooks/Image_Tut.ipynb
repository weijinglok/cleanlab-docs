{
 "cells": [
  {
   "cell_type": "markdown",
   "metadata": {},
   "source": [
    "# Image Classification with Cleanlab, PyTorch & Skorch"
   ]
  },
  {
   "cell_type": "markdown",
   "metadata": {},
   "source": [
    "This tutorial will use Cleanlab to find potential label errors in the MNIST handwritten digit image dataset. This dataset contains 60,000 images of handwritten digits from 0 to 9. We'll find *more than a thousand* highly suspicious examples with label errors and edge cases by the end of this tutorial. \n",
    "\n",
    "**Overview of what we'll do in this tutorial:**\n",
    "\n",
    "- Build a simple PyTorch neural net and wrap it with Skorch to make it scikit-learn compatible.\n",
    "\n",
    "- Compute the cross-validated predicted probabilities, ``pyx``, sometimes known as the out-of-sample predicted probabilities.\n",
    "\n",
    "- Generate a list of potential label errors with Cleanlab's ``get_noise_indices``.\n",
    "\n",
    "- Build and train a more robust model than the vanilla model after adapting it with Cleanlab's ``LearningWithNoisyLabels``. \n",
    "\n",
    "**Data:** https://www.openml.org/d/554"
   ]
  },
  {
   "cell_type": "markdown",
   "metadata": {},
   "source": [
    "## 1. Install the required dependencies"
   ]
  },
  {
   "cell_type": "markdown",
   "metadata": {},
   "source": [
    "``%%capture`` is a magic function to hides the cell's output."
   ]
  },
  {
   "cell_type": "code",
   "execution_count": 1,
   "metadata": {
    "execution": {
     "iopub.execute_input": "2022-03-09T19:40:50.413845Z",
     "iopub.status.busy": "2022-03-09T19:40:50.413420Z",
     "iopub.status.idle": "2022-03-09T19:40:59.904664Z",
     "shell.execute_reply": "2022-03-09T19:40:59.903641Z"
    }
   },
   "outputs": [],
   "source": [
    "%%capture\n",
    "\n",
    "%pip install cleanlab pandas matplotlib torch torchvision skorch"
   ]
  },
  {
   "cell_type": "markdown",
   "metadata": {},
   "source": [
    "## 2. Fetch and scale the MNIST dataset"
   ]
  },
  {
   "cell_type": "code",
   "execution_count": 2,
   "metadata": {
    "execution": {
     "iopub.execute_input": "2022-03-09T19:40:59.908892Z",
     "iopub.status.busy": "2022-03-09T19:40:59.908484Z",
     "iopub.status.idle": "2022-03-09T19:43:07.559047Z",
     "shell.execute_reply": "2022-03-09T19:43:07.558311Z"
    }
   },
   "outputs": [],
   "source": [
    "from sklearn.datasets import fetch_openml\n",
    "\n",
    "# Fetch the MNIST dataset\n",
    "mnist = fetch_openml('mnist_784')\n",
    "\n",
    "# Assign the data features and labels to variable X and y respectively \n",
    "X = mnist.data.astype('float32')\n",
    "y = mnist.target.astype('int64')\n"
   ]
  },
  {
   "cell_type": "markdown",
   "metadata": {},
   "source": [
    "<div class=\"alert alert-info\">\n",
    "\n",
    "Bringing Your Own Data (BYOD)?\n",
    "\n",
    "Assign your data's features to variable ``X`` and its labels to variable ``y`` instead.\n",
    "\n",
    "</div>"
   ]
  },
  {
   "cell_type": "code",
   "execution_count": 3,
   "metadata": {
    "execution": {
     "iopub.execute_input": "2022-03-09T19:43:07.562940Z",
     "iopub.status.busy": "2022-03-09T19:43:07.562518Z",
     "iopub.status.idle": "2022-03-09T19:43:07.714610Z",
     "shell.execute_reply": "2022-03-09T19:43:07.713915Z"
    }
   },
   "outputs": [],
   "source": [
    "\n",
    "# Scale the features which range from 0 to 255 (256 levels on the grayscale) \n",
    "X /= 255.0\n",
    "\n",
    "# Then convert it to a numpy array\n",
    "X = X.to_numpy()"
   ]
  },
  {
   "cell_type": "markdown",
   "metadata": {},
   "source": [
    "## 3. Define a classification model"
   ]
  },
  {
   "cell_type": "markdown",
   "metadata": {},
   "source": [
    "Here, we define a simple neural network with PyTorch."
   ]
  },
  {
   "cell_type": "code",
   "execution_count": 4,
   "metadata": {
    "execution": {
     "iopub.execute_input": "2022-03-09T19:43:07.718820Z",
     "iopub.status.busy": "2022-03-09T19:43:07.718488Z",
     "iopub.status.idle": "2022-03-09T19:43:08.282042Z",
     "shell.execute_reply": "2022-03-09T19:43:08.281365Z"
    }
   },
   "outputs": [],
   "source": [
    "from torch import nn\n",
    "\n",
    "class NeuralNetwork(nn.Module):\n",
    "    def __init__(self):\n",
    "        super(NeuralNetwork, self).__init__()\n",
    "        self.dropout = nn.Dropout(0.5)\n",
    "        self.hidden = nn.Linear(28*28, 128)\n",
    "        self.output = nn.Linear(128, 10)\n",
    "\n",
    "    def forward(self, X):\n",
    "        X = nn.functional.relu(self.hidden(X))\n",
    "        X = self.dropout(X)\n",
    "        X = nn.functional.softmax(self.output(X), dim=-1)\n",
    "        return X"
   ]
  },
  {
   "cell_type": "markdown",
   "metadata": {},
   "source": [
    "## 4. Wrap with Skorch for scikit-learn compatibility"
   ]
  },
  {
   "cell_type": "markdown",
   "metadata": {},
   "source": [
    "As some of Cleanlab's feature requires scikit-learn compatibility, we will need to adapt the above PyTorch neural net accordingly. Skorch is a convenient package that helps with this, read more about it here: https://skorch.readthedocs.io"
   ]
  },
  {
   "cell_type": "code",
   "execution_count": 5,
   "metadata": {
    "execution": {
     "iopub.execute_input": "2022-03-09T19:43:08.286045Z",
     "iopub.status.busy": "2022-03-09T19:43:08.285634Z",
     "iopub.status.idle": "2022-03-09T19:43:08.378246Z",
     "shell.execute_reply": "2022-03-09T19:43:08.377552Z"
    }
   },
   "outputs": [],
   "source": [
    "from skorch import NeuralNetClassifier\n",
    "\n",
    "# Wrap the PyTorch neural net around Skorch's NeuralNetClassifier wrapper\n",
    "net = NeuralNetClassifier(NeuralNetwork)"
   ]
  },
  {
   "cell_type": "markdown",
   "metadata": {},
   "source": [
    "## 5. Compute the cross-validated predicted probabilities"
   ]
  },
  {
   "cell_type": "markdown",
   "metadata": {},
   "source": [
    "If we'd like Cleanlab to identify potential label errors in the whole dataset and not just the training set, we can consider fitting the entire dataset. We will only use this model instance to compute the cross-validated predicted probabilities, ``pyx``, and not for model evaluation."
   ]
  },
  {
   "cell_type": "code",
   "execution_count": 6,
   "metadata": {
    "execution": {
     "iopub.execute_input": "2022-03-09T19:43:08.382235Z",
     "iopub.status.busy": "2022-03-09T19:43:08.381807Z",
     "iopub.status.idle": "2022-03-09T19:43:28.139221Z",
     "shell.execute_reply": "2022-03-09T19:43:28.138555Z"
    }
   },
   "outputs": [
    {
     "name": "stdout",
     "output_type": "stream",
     "text": [
      "  epoch    train_loss    valid_acc    valid_loss     dur\n",
      "-------  ------------  -----------  ------------  ------\n",
      "      1        \u001b[36m1.7587\u001b[0m       \u001b[32m0.7887\u001b[0m        \u001b[35m1.1307\u001b[0m  1.9945\n"
     ]
    },
    {
     "name": "stdout",
     "output_type": "stream",
     "text": [
      "      2        \u001b[36m0.9564\u001b[0m       \u001b[32m0.8446\u001b[0m        \u001b[35m0.6816\u001b[0m  1.9974\n"
     ]
    },
    {
     "name": "stdout",
     "output_type": "stream",
     "text": [
      "      3        \u001b[36m0.7099\u001b[0m       \u001b[32m0.8672\u001b[0m        \u001b[35m0.5398\u001b[0m  1.9948\n"
     ]
    },
    {
     "name": "stdout",
     "output_type": "stream",
     "text": [
      "      4        \u001b[36m0.6059\u001b[0m       \u001b[32m0.8797\u001b[0m        \u001b[35m0.4712\u001b[0m  1.9679\n"
     ]
    },
    {
     "name": "stdout",
     "output_type": "stream",
     "text": [
      "      5        \u001b[36m0.5485\u001b[0m       \u001b[32m0.8875\u001b[0m        \u001b[35m0.4299\u001b[0m  1.9866\n"
     ]
    },
    {
     "name": "stdout",
     "output_type": "stream",
     "text": [
      "      6        \u001b[36m0.5052\u001b[0m       \u001b[32m0.8928\u001b[0m        \u001b[35m0.4008\u001b[0m  1.9575\n"
     ]
    },
    {
     "name": "stdout",
     "output_type": "stream",
     "text": [
      "      7        \u001b[36m0.4776\u001b[0m       \u001b[32m0.8973\u001b[0m        \u001b[35m0.3797\u001b[0m  1.9431\n"
     ]
    },
    {
     "name": "stdout",
     "output_type": "stream",
     "text": [
      "      8        \u001b[36m0.4542\u001b[0m       \u001b[32m0.9001\u001b[0m        \u001b[35m0.3630\u001b[0m  1.9465\n"
     ]
    },
    {
     "name": "stdout",
     "output_type": "stream",
     "text": [
      "      9        \u001b[36m0.4320\u001b[0m       \u001b[32m0.9049\u001b[0m        \u001b[35m0.3484\u001b[0m  1.9329\n"
     ]
    },
    {
     "name": "stdout",
     "output_type": "stream",
     "text": [
      "     10        \u001b[36m0.4185\u001b[0m       \u001b[32m0.9071\u001b[0m        \u001b[35m0.3370\u001b[0m  1.9447\n"
     ]
    }
   ],
   "source": [
    "_ = net.fit(X, y)"
   ]
  },
  {
   "cell_type": "markdown",
   "metadata": {},
   "source": [
    "Compute the cross-validated predicted probabilities, ``pyx``, sometimes also known as the out-of-sample predicted probabilities."
   ]
  },
  {
   "cell_type": "code",
   "execution_count": 7,
   "metadata": {
    "execution": {
     "iopub.execute_input": "2022-03-09T19:43:28.142686Z",
     "iopub.status.busy": "2022-03-09T19:43:28.142296Z",
     "iopub.status.idle": "2022-03-09T19:43:55.415414Z",
     "shell.execute_reply": "2022-03-09T19:43:55.414718Z"
    }
   },
   "outputs": [
    {
     "name": "stdout",
     "output_type": "stream",
     "text": [
      "  epoch    train_loss    valid_acc    valid_loss     dur\n",
      "-------  ------------  -----------  ------------  ------\n",
      "      1        \u001b[36m1.9819\u001b[0m       \u001b[32m0.7401\u001b[0m        \u001b[35m1.5771\u001b[0m  0.8195\n"
     ]
    },
    {
     "name": "stdout",
     "output_type": "stream",
     "text": [
      "      2        \u001b[36m1.2672\u001b[0m       \u001b[32m0.8001\u001b[0m        \u001b[35m0.9633\u001b[0m  0.8259\n"
     ]
    },
    {
     "name": "stdout",
     "output_type": "stream",
     "text": [
      "      3        \u001b[36m0.8938\u001b[0m       \u001b[32m0.8295\u001b[0m        \u001b[35m0.7257\u001b[0m  0.8364\n"
     ]
    },
    {
     "name": "stdout",
     "output_type": "stream",
     "text": [
      "      4        \u001b[36m0.7366\u001b[0m       \u001b[32m0.8478\u001b[0m        \u001b[35m0.6150\u001b[0m  0.8168\n"
     ]
    },
    {
     "name": "stdout",
     "output_type": "stream",
     "text": [
      "      5        \u001b[36m0.6535\u001b[0m       \u001b[32m0.8594\u001b[0m        \u001b[35m0.5501\u001b[0m  0.8226\n"
     ]
    },
    {
     "name": "stdout",
     "output_type": "stream",
     "text": [
      "      6        \u001b[36m0.5930\u001b[0m       \u001b[32m0.8662\u001b[0m        \u001b[35m0.5067\u001b[0m  0.8301\n"
     ]
    },
    {
     "name": "stdout",
     "output_type": "stream",
     "text": [
      "      7        \u001b[36m0.5499\u001b[0m       \u001b[32m0.8712\u001b[0m        \u001b[35m0.4753\u001b[0m  0.8969\n"
     ]
    },
    {
     "name": "stdout",
     "output_type": "stream",
     "text": [
      "      8        \u001b[36m0.5233\u001b[0m       \u001b[32m0.8757\u001b[0m        \u001b[35m0.4506\u001b[0m  0.8399\n"
     ]
    },
    {
     "name": "stdout",
     "output_type": "stream",
     "text": [
      "      9        \u001b[36m0.4978\u001b[0m       \u001b[32m0.8794\u001b[0m        \u001b[35m0.4318\u001b[0m  0.8274\n"
     ]
    },
    {
     "name": "stdout",
     "output_type": "stream",
     "text": [
      "     10        \u001b[36m0.4762\u001b[0m       \u001b[32m0.8827\u001b[0m        \u001b[35m0.4150\u001b[0m  0.8361\n"
     ]
    },
    {
     "name": "stdout",
     "output_type": "stream",
     "text": [
      "  epoch    train_loss    valid_acc    valid_loss     dur\n",
      "-------  ------------  -----------  ------------  ------\n",
      "      1        \u001b[36m2.0237\u001b[0m       \u001b[32m0.7463\u001b[0m        \u001b[35m1.6230\u001b[0m  0.8642\n"
     ]
    },
    {
     "name": "stdout",
     "output_type": "stream",
     "text": [
      "      2        \u001b[36m1.3072\u001b[0m       \u001b[32m0.8008\u001b[0m        \u001b[35m0.9739\u001b[0m  0.8585\n"
     ]
    },
    {
     "name": "stdout",
     "output_type": "stream",
     "text": [
      "      3        \u001b[36m0.9131\u001b[0m       \u001b[32m0.8338\u001b[0m        \u001b[35m0.7209\u001b[0m  0.8688\n"
     ]
    },
    {
     "name": "stdout",
     "output_type": "stream",
     "text": [
      "      4        \u001b[36m0.7481\u001b[0m       \u001b[32m0.8516\u001b[0m        \u001b[35m0.6029\u001b[0m  0.8668\n"
     ]
    },
    {
     "name": "stdout",
     "output_type": "stream",
     "text": [
      "      5        \u001b[36m0.6544\u001b[0m       \u001b[32m0.8661\u001b[0m        \u001b[35m0.5337\u001b[0m  0.8588\n"
     ]
    },
    {
     "name": "stdout",
     "output_type": "stream",
     "text": [
      "      6        \u001b[36m0.5942\u001b[0m       \u001b[32m0.8744\u001b[0m        \u001b[35m0.4879\u001b[0m  0.8672\n"
     ]
    },
    {
     "name": "stdout",
     "output_type": "stream",
     "text": [
      "      7        \u001b[36m0.5509\u001b[0m       \u001b[32m0.8804\u001b[0m        \u001b[35m0.4544\u001b[0m  0.8586\n"
     ]
    },
    {
     "name": "stdout",
     "output_type": "stream",
     "text": [
      "      8        \u001b[36m0.5198\u001b[0m       \u001b[32m0.8855\u001b[0m        \u001b[35m0.4301\u001b[0m  0.8588\n"
     ]
    },
    {
     "name": "stdout",
     "output_type": "stream",
     "text": [
      "      9        \u001b[36m0.4962\u001b[0m       \u001b[32m0.8894\u001b[0m        \u001b[35m0.4102\u001b[0m  0.8672\n"
     ]
    },
    {
     "name": "stdout",
     "output_type": "stream",
     "text": [
      "     10        \u001b[36m0.4709\u001b[0m       \u001b[32m0.8936\u001b[0m        \u001b[35m0.3930\u001b[0m  0.8855\n"
     ]
    },
    {
     "name": "stdout",
     "output_type": "stream",
     "text": [
      "  epoch    train_loss    valid_acc    valid_loss     dur\n",
      "-------  ------------  -----------  ------------  ------\n",
      "      1        \u001b[36m1.9722\u001b[0m       \u001b[32m0.7497\u001b[0m        \u001b[35m1.5325\u001b[0m  0.8591\n"
     ]
    },
    {
     "name": "stdout",
     "output_type": "stream",
     "text": [
      "      2        \u001b[36m1.2643\u001b[0m       \u001b[32m0.8167\u001b[0m        \u001b[35m0.9318\u001b[0m  0.8588\n"
     ]
    },
    {
     "name": "stdout",
     "output_type": "stream",
     "text": [
      "      3        \u001b[36m0.9059\u001b[0m       \u001b[32m0.8485\u001b[0m        \u001b[35m0.6959\u001b[0m  0.8710\n"
     ]
    },
    {
     "name": "stdout",
     "output_type": "stream",
     "text": [
      "      4        \u001b[36m0.7497\u001b[0m       \u001b[32m0.8620\u001b[0m        \u001b[35m0.5847\u001b[0m  0.8967\n"
     ]
    },
    {
     "name": "stdout",
     "output_type": "stream",
     "text": [
      "      5        \u001b[36m0.6650\u001b[0m       \u001b[32m0.8737\u001b[0m        \u001b[35m0.5174\u001b[0m  0.8711\n"
     ]
    },
    {
     "name": "stdout",
     "output_type": "stream",
     "text": [
      "      6        \u001b[36m0.6079\u001b[0m       \u001b[32m0.8801\u001b[0m        \u001b[35m0.4750\u001b[0m  0.8313\n"
     ]
    },
    {
     "name": "stdout",
     "output_type": "stream",
     "text": [
      "      7        \u001b[36m0.5643\u001b[0m       \u001b[32m0.8870\u001b[0m        \u001b[35m0.4427\u001b[0m  0.8477\n"
     ]
    },
    {
     "name": "stdout",
     "output_type": "stream",
     "text": [
      "      8        \u001b[36m0.5341\u001b[0m       \u001b[32m0.8924\u001b[0m        \u001b[35m0.4183\u001b[0m  0.8424\n"
     ]
    },
    {
     "name": "stdout",
     "output_type": "stream",
     "text": [
      "      9        \u001b[36m0.5113\u001b[0m       \u001b[32m0.8950\u001b[0m        \u001b[35m0.3998\u001b[0m  0.8698\n"
     ]
    },
    {
     "name": "stdout",
     "output_type": "stream",
     "text": [
      "     10        \u001b[36m0.4906\u001b[0m       \u001b[32m0.8979\u001b[0m        \u001b[35m0.3838\u001b[0m  0.8564\n"
     ]
    }
   ],
   "source": [
    "from sklearn.model_selection import cross_val_predict\n",
    "\n",
    "pyx = cross_val_predict(net, X, y, cv=3, method='predict_proba')"
   ]
  },
  {
   "cell_type": "markdown",
   "metadata": {},
   "source": [
    "## 6. Run Cleanlab to find potential label errors"
   ]
  },
  {
   "cell_type": "markdown",
   "metadata": {},
   "source": [
    "Cleanlab has a ``get_noise_indices`` function to generate a list of potential label errors. Setting ``sorted_index_method=\"prob_given_label\"`` returns the indices of all the most likely label errors, sorted by the most suspicious example first."
   ]
  },
  {
   "cell_type": "code",
   "execution_count": 8,
   "metadata": {
    "execution": {
     "iopub.execute_input": "2022-03-09T19:43:55.419931Z",
     "iopub.status.busy": "2022-03-09T19:43:55.419524Z",
     "iopub.status.idle": "2022-03-09T19:43:55.832781Z",
     "shell.execute_reply": "2022-03-09T19:43:55.831868Z"
    }
   },
   "outputs": [],
   "source": [
    "from cleanlab.pruning import get_noise_indices\n",
    "\n",
    "ordered_label_errors = get_noise_indices(\n",
    "    s=y,\n",
    "    psx=pyx,\n",
    "    sorted_index_method=\"prob_given_label\"\n",
    ")"
   ]
  },
  {
   "cell_type": "markdown",
   "metadata": {},
   "source": [
    "## 7. Review some of the most likely mislabeled examples"
   ]
  },
  {
   "cell_type": "code",
   "execution_count": 9,
   "metadata": {
    "execution": {
     "iopub.execute_input": "2022-03-09T19:43:55.844801Z",
     "iopub.status.busy": "2022-03-09T19:43:55.843949Z",
     "iopub.status.idle": "2022-03-09T19:43:55.849713Z",
     "shell.execute_reply": "2022-03-09T19:43:55.849140Z"
    }
   },
   "outputs": [
    {
     "name": "stdout",
     "output_type": "stream",
     "text": [
      "Cleanlab found 1245 potential label errors. Here are the indices of the top 15 most likely ones: \n",
      " [24798 18598  8729 20820 61790  1352 31134 59915 53216 32776  7010 15942\n",
      " 55739 12679 20735]\n"
     ]
    }
   ],
   "source": [
    "print(f\"Cleanlab found {len(ordered_label_errors)} potential label errors. Here are the indices of the top 15 most likely ones: \\n {ordered_label_errors[:15]}\")"
   ]
  },
  {
   "cell_type": "markdown",
   "metadata": {},
   "source": [
    "We'll define a new ``plot_examples`` function to display any examples in a subplot conveniently."
   ]
  },
  {
   "cell_type": "code",
   "execution_count": 10,
   "metadata": {
    "execution": {
     "iopub.execute_input": "2022-03-09T19:43:55.853009Z",
     "iopub.status.busy": "2022-03-09T19:43:55.852647Z",
     "iopub.status.idle": "2022-03-09T19:43:57.164053Z",
     "shell.execute_reply": "2022-03-09T19:43:57.163443Z"
    }
   },
   "outputs": [],
   "source": [
    "import matplotlib.pyplot as plt\n",
    "\n",
    "def plot_examples(id_iter, nrows=1, ncols=1):\n",
    "    for count, id in enumerate(id_iter):\n",
    "        plt.subplot(nrows, ncols, count+1)\n",
    "        plt.imshow(X[id].reshape(28, 28))\n",
    "        plt.title(f\"id: {id} \\n label: {y[id]}\")\n",
    "        plt.axis('off')\n",
    "\n",
    "    plt.tight_layout(h_pad=2.0)"
   ]
  },
  {
   "cell_type": "markdown",
   "metadata": {},
   "source": [
    "Let's start by having an overview of the top 15 most likely label errors. From here, we can see a few label errors and edge cases. Feel free to change the parameters to display more or fewer examples. "
   ]
  },
  {
   "cell_type": "code",
   "execution_count": 11,
   "metadata": {
    "execution": {
     "iopub.execute_input": "2022-03-09T19:43:57.168480Z",
     "iopub.status.busy": "2022-03-09T19:43:57.168077Z",
     "iopub.status.idle": "2022-03-09T19:43:57.660471Z",
     "shell.execute_reply": "2022-03-09T19:43:57.659540Z"
    }
   },
   "outputs": [
    {
     "data": {
      "image/png": "[encoded data removed]",
      "text/plain": [
       "<Figure size 432x288 with 15 Axes>"
      ]
     },
     "metadata": {
      "needs_background": "light"
     },
     "output_type": "display_data"
    }
   ],
   "source": [
    "plot_examples(ordered_label_errors[range(15)], 3, 5)"
   ]
  },
  {
   "cell_type": "markdown",
   "metadata": {},
   "source": [
    "Let's zoom into specific examples:"
   ]
  },
  {
   "cell_type": "markdown",
   "metadata": {},
   "source": [
    "Given label is **4** but looks more like a **7**"
   ]
  },
  {
   "cell_type": "code",
   "execution_count": 12,
   "metadata": {
    "execution": {
     "iopub.execute_input": "2022-03-09T19:43:57.664234Z",
     "iopub.status.busy": "2022-03-09T19:43:57.663796Z",
     "iopub.status.idle": "2022-03-09T19:43:57.725032Z",
     "shell.execute_reply": "2022-03-09T19:43:57.724351Z"
    }
   },
   "outputs": [
    {
     "data": {
      "image/png": "[encoded data removed]",
      "text/plain": [
       "<Figure size 432x288 with 1 Axes>"
      ]
     },
     "metadata": {
      "needs_background": "light"
     },
     "output_type": "display_data"
    }
   ],
   "source": [
    "plot_examples([59915])"
   ]
  },
  {
   "cell_type": "markdown",
   "metadata": {},
   "source": [
    "Given label is **4** but also looks like **9**"
   ]
  },
  {
   "cell_type": "code",
   "execution_count": 13,
   "metadata": {
    "execution": {
     "iopub.execute_input": "2022-03-09T19:43:57.729068Z",
     "iopub.status.busy": "2022-03-09T19:43:57.728837Z",
     "iopub.status.idle": "2022-03-09T19:43:57.788729Z",
     "shell.execute_reply": "2022-03-09T19:43:57.787992Z"
    }
   },
   "outputs": [
    {
     "data": {
      "image/png": "[encoded data removed]",
      "text/plain": [
       "<Figure size 432x288 with 1 Axes>"
      ]
     },
     "metadata": {
      "needs_background": "light"
     },
     "output_type": "display_data"
    }
   ],
   "source": [
    "plot_examples([24798])"
   ]
  },
  {
   "cell_type": "markdown",
   "metadata": {},
   "source": [
    "Edge case of odd looking **9**s"
   ]
  },
  {
   "cell_type": "code",
   "execution_count": 14,
   "metadata": {
    "execution": {
     "iopub.execute_input": "2022-03-09T19:43:57.792357Z",
     "iopub.status.busy": "2022-03-09T19:43:57.792090Z",
     "iopub.status.idle": "2022-03-09T19:43:58.041306Z",
     "shell.execute_reply": "2022-03-09T19:43:58.040582Z"
    }
   },
   "outputs": [
    {
     "data": {
      "image/png": "[encoded data removed]",
      "text/plain": [
       "<Figure size 432x288 with 3 Axes>"
      ]
     },
     "metadata": {
      "needs_background": "light"
     },
     "output_type": "display_data"
    }
   ],
   "source": [
    "plot_examples([18598, 1352, 61247], 1, 3)"
   ]
  },
  {
   "cell_type": "markdown",
   "metadata": {},
   "source": [
    "Cleanlab has shortlisted the most likely label errors to speed up your data cleaning process. With this list, you can decide whether to fix label errors, augment edge cases or remove obscure examples. \n",
    "\n",
    "These human-in-the-loop processes may be time-consuming, so if you'd like Cleanlab to automatically remove these noisy examples and train a model directly on the partially mislabeled dataset, you're in luck! Cleanlab provides a ``LearningWithNoisyLabels`` wrapper to do precisely this:"
   ]
  },
  {
   "cell_type": "markdown",
   "metadata": {},
   "source": [
    "## 8. Adapt with Cleanlab's wrapper and train a more robust model"
   ]
  },
  {
   "cell_type": "markdown",
   "metadata": {},
   "source": [
    "First, we split the dataset into train and test subsets."
   ]
  },
  {
   "cell_type": "code",
   "execution_count": 15,
   "metadata": {
    "execution": {
     "iopub.execute_input": "2022-03-09T19:43:58.045597Z",
     "iopub.status.busy": "2022-03-09T19:43:58.045185Z",
     "iopub.status.idle": "2022-03-09T19:43:58.792782Z",
     "shell.execute_reply": "2022-03-09T19:43:58.792074Z"
    }
   },
   "outputs": [],
   "source": [
    "from sklearn.model_selection import train_test_split\n",
    "\n",
    "X_train, X_test, y_train, y_test = train_test_split(X, y, test_size=0.2)"
   ]
  },
  {
   "cell_type": "markdown",
   "metadata": {},
   "source": [
    "Re-instantiate a new scikit-learn compatible model with Skorch then wrap it with Cleanlab's ``LearningWithNoisyLabels`` wrapper."
   ]
  },
  {
   "cell_type": "code",
   "execution_count": 16,
   "metadata": {
    "execution": {
     "iopub.execute_input": "2022-03-09T19:43:58.796827Z",
     "iopub.status.busy": "2022-03-09T19:43:58.796430Z",
     "iopub.status.idle": "2022-03-09T19:43:58.801775Z",
     "shell.execute_reply": "2022-03-09T19:43:58.801047Z"
    }
   },
   "outputs": [],
   "source": [
    "from cleanlab.classification import LearningWithNoisyLabels\n",
    "\n",
    "net = NeuralNetClassifier(NeuralNetwork)\n",
    "clf = LearningWithNoisyLabels(clf=net)"
   ]
  },
  {
   "cell_type": "code",
   "execution_count": 17,
   "metadata": {
    "execution": {
     "iopub.execute_input": "2022-03-09T19:43:58.804974Z",
     "iopub.status.busy": "2022-03-09T19:43:58.804571Z",
     "iopub.status.idle": "2022-03-09T19:44:51.644485Z",
     "shell.execute_reply": "2022-03-09T19:44:51.643694Z"
    }
   },
   "outputs": [
    {
     "name": "stdout",
     "output_type": "stream",
     "text": [
      "  epoch    train_loss    valid_acc    valid_loss     dur\n",
      "-------  ------------  -----------  ------------  ------\n",
      "      1        \u001b[36m2.0136\u001b[0m       \u001b[32m0.7410\u001b[0m        \u001b[35m1.6377\u001b[0m  0.8479\n"
     ]
    },
    {
     "name": "stdout",
     "output_type": "stream",
     "text": [
      "      2        \u001b[36m1.3447\u001b[0m       \u001b[32m0.8066\u001b[0m        \u001b[35m1.0043\u001b[0m  0.8605\n"
     ]
    },
    {
     "name": "stdout",
     "output_type": "stream",
     "text": [
      "      3        \u001b[36m0.9523\u001b[0m       \u001b[32m0.8381\u001b[0m        \u001b[35m0.7342\u001b[0m  0.8366\n"
     ]
    },
    {
     "name": "stdout",
     "output_type": "stream",
     "text": [
      "      4        \u001b[36m0.7763\u001b[0m       \u001b[32m0.8580\u001b[0m        \u001b[35m0.6075\u001b[0m  0.8269\n"
     ]
    },
    {
     "name": "stdout",
     "output_type": "stream",
     "text": [
      "      5        \u001b[36m0.6770\u001b[0m       \u001b[32m0.8667\u001b[0m        \u001b[35m0.5351\u001b[0m  0.8306\n"
     ]
    },
    {
     "name": "stdout",
     "output_type": "stream",
     "text": [
      "      6        \u001b[36m0.6168\u001b[0m       \u001b[32m0.8773\u001b[0m        \u001b[35m0.4873\u001b[0m  0.8055\n"
     ]
    },
    {
     "name": "stdout",
     "output_type": "stream",
     "text": [
      "      7        \u001b[36m0.5747\u001b[0m       \u001b[32m0.8826\u001b[0m        \u001b[35m0.4534\u001b[0m  0.8081\n"
     ]
    },
    {
     "name": "stdout",
     "output_type": "stream",
     "text": [
      "      8        \u001b[36m0.5400\u001b[0m       \u001b[32m0.8877\u001b[0m        \u001b[35m0.4285\u001b[0m  0.8036\n"
     ]
    },
    {
     "name": "stdout",
     "output_type": "stream",
     "text": [
      "      9        \u001b[36m0.5172\u001b[0m       \u001b[32m0.8896\u001b[0m        \u001b[35m0.4084\u001b[0m  0.8015\n"
     ]
    },
    {
     "name": "stdout",
     "output_type": "stream",
     "text": [
      "     10        \u001b[36m0.4957\u001b[0m       \u001b[32m0.8945\u001b[0m        \u001b[35m0.3917\u001b[0m  0.7949\n"
     ]
    },
    {
     "name": "stdout",
     "output_type": "stream",
     "text": [
      "  epoch    train_loss    valid_acc    valid_loss     dur\n",
      "-------  ------------  -----------  ------------  ------\n",
      "      1        \u001b[36m2.0395\u001b[0m       \u001b[32m0.7326\u001b[0m        \u001b[35m1.6538\u001b[0m  0.7902\n"
     ]
    },
    {
     "name": "stdout",
     "output_type": "stream",
     "text": [
      "      2        \u001b[36m1.3500\u001b[0m       \u001b[32m0.8180\u001b[0m        \u001b[35m0.9960\u001b[0m  0.8057\n"
     ]
    },
    {
     "name": "stdout",
     "output_type": "stream",
     "text": [
      "      3        \u001b[36m0.9504\u001b[0m       \u001b[32m0.8469\u001b[0m        \u001b[35m0.7241\u001b[0m  0.7938\n"
     ]
    },
    {
     "name": "stdout",
     "output_type": "stream",
     "text": [
      "      4        \u001b[36m0.7745\u001b[0m       \u001b[32m0.8629\u001b[0m        \u001b[35m0.5993\u001b[0m  0.8363\n"
     ]
    },
    {
     "name": "stdout",
     "output_type": "stream",
     "text": [
      "      5        \u001b[36m0.6813\u001b[0m       \u001b[32m0.8717\u001b[0m        \u001b[35m0.5280\u001b[0m  0.8533\n"
     ]
    },
    {
     "name": "stdout",
     "output_type": "stream",
     "text": [
      "      6        \u001b[36m0.6173\u001b[0m       \u001b[32m0.8791\u001b[0m        \u001b[35m0.4819\u001b[0m  0.7962\n"
     ]
    },
    {
     "name": "stdout",
     "output_type": "stream",
     "text": [
      "      7        \u001b[36m0.5760\u001b[0m       \u001b[32m0.8849\u001b[0m        \u001b[35m0.4486\u001b[0m  0.8048\n"
     ]
    },
    {
     "name": "stdout",
     "output_type": "stream",
     "text": [
      "      8        \u001b[36m0.5436\u001b[0m       \u001b[32m0.8893\u001b[0m        \u001b[35m0.4240\u001b[0m  0.8117\n"
     ]
    },
    {
     "name": "stdout",
     "output_type": "stream",
     "text": [
      "      9        \u001b[36m0.5178\u001b[0m       \u001b[32m0.8944\u001b[0m        \u001b[35m0.4037\u001b[0m  0.8107\n"
     ]
    },
    {
     "name": "stdout",
     "output_type": "stream",
     "text": [
      "     10        \u001b[36m0.4924\u001b[0m       \u001b[32m0.8974\u001b[0m        \u001b[35m0.3870\u001b[0m  0.8188\n"
     ]
    },
    {
     "name": "stdout",
     "output_type": "stream",
     "text": [
      "  epoch    train_loss    valid_acc    valid_loss     dur\n",
      "-------  ------------  -----------  ------------  ------\n",
      "      1        \u001b[36m2.0089\u001b[0m       \u001b[32m0.7631\u001b[0m        \u001b[35m1.6101\u001b[0m  0.8161\n"
     ]
    },
    {
     "name": "stdout",
     "output_type": "stream",
     "text": [
      "      2        \u001b[36m1.3258\u001b[0m       \u001b[32m0.8148\u001b[0m        \u001b[35m0.9846\u001b[0m  0.8524\n"
     ]
    },
    {
     "name": "stdout",
     "output_type": "stream",
     "text": [
      "      3        \u001b[36m0.9464\u001b[0m       \u001b[32m0.8415\u001b[0m        \u001b[35m0.7282\u001b[0m  0.8267\n"
     ]
    },
    {
     "name": "stdout",
     "output_type": "stream",
     "text": [
      "      4        \u001b[36m0.7788\u001b[0m       \u001b[32m0.8592\u001b[0m        \u001b[35m0.6054\u001b[0m  0.7999\n"
     ]
    },
    {
     "name": "stdout",
     "output_type": "stream",
     "text": [
      "      5        \u001b[36m0.6871\u001b[0m       \u001b[32m0.8710\u001b[0m        \u001b[35m0.5340\u001b[0m  0.8122\n"
     ]
    },
    {
     "name": "stdout",
     "output_type": "stream",
     "text": [
      "      6        \u001b[36m0.6231\u001b[0m       \u001b[32m0.8804\u001b[0m        \u001b[35m0.4852\u001b[0m  0.8094\n"
     ]
    },
    {
     "name": "stdout",
     "output_type": "stream",
     "text": [
      "      7        \u001b[36m0.5794\u001b[0m       \u001b[32m0.8878\u001b[0m        \u001b[35m0.4512\u001b[0m  0.8508\n"
     ]
    },
    {
     "name": "stdout",
     "output_type": "stream",
     "text": [
      "      8        \u001b[36m0.5437\u001b[0m       \u001b[32m0.8912\u001b[0m        \u001b[35m0.4245\u001b[0m  0.7623\n"
     ]
    },
    {
     "name": "stdout",
     "output_type": "stream",
     "text": [
      "      9        \u001b[36m0.5227\u001b[0m       \u001b[32m0.8951\u001b[0m        \u001b[35m0.4049\u001b[0m  0.7917\n"
     ]
    },
    {
     "name": "stdout",
     "output_type": "stream",
     "text": [
      "     10        \u001b[36m0.5008\u001b[0m       \u001b[32m0.8970\u001b[0m        \u001b[35m0.3886\u001b[0m  0.8028\n"
     ]
    },
    {
     "name": "stdout",
     "output_type": "stream",
     "text": [
      "  epoch    train_loss    valid_acc    valid_loss     dur\n",
      "-------  ------------  -----------  ------------  ------\n",
      "      1        \u001b[36m2.0013\u001b[0m       \u001b[32m0.7258\u001b[0m        \u001b[35m1.6006\u001b[0m  0.8059\n"
     ]
    },
    {
     "name": "stdout",
     "output_type": "stream",
     "text": [
      "      2        \u001b[36m1.3124\u001b[0m       \u001b[32m0.8133\u001b[0m        \u001b[35m0.9821\u001b[0m  0.7910\n"
     ]
    },
    {
     "name": "stdout",
     "output_type": "stream",
     "text": [
      "      3        \u001b[36m0.9409\u001b[0m       \u001b[32m0.8424\u001b[0m        \u001b[35m0.7281\u001b[0m  0.7910\n"
     ]
    },
    {
     "name": "stdout",
     "output_type": "stream",
     "text": [
      "      4        \u001b[36m0.7764\u001b[0m       \u001b[32m0.8587\u001b[0m        \u001b[35m0.6059\u001b[0m  0.7944\n"
     ]
    },
    {
     "name": "stdout",
     "output_type": "stream",
     "text": [
      "      5        \u001b[36m0.6821\u001b[0m       \u001b[32m0.8700\u001b[0m        \u001b[35m0.5345\u001b[0m  0.7959\n"
     ]
    },
    {
     "name": "stdout",
     "output_type": "stream",
     "text": [
      "      6        \u001b[36m0.6193\u001b[0m       \u001b[32m0.8794\u001b[0m        \u001b[35m0.4867\u001b[0m  0.7881\n"
     ]
    },
    {
     "name": "stdout",
     "output_type": "stream",
     "text": [
      "      7        \u001b[36m0.5734\u001b[0m       \u001b[32m0.8845\u001b[0m        \u001b[35m0.4524\u001b[0m  0.8167\n"
     ]
    },
    {
     "name": "stdout",
     "output_type": "stream",
     "text": [
      "      8        \u001b[36m0.5442\u001b[0m       \u001b[32m0.8893\u001b[0m        \u001b[35m0.4278\u001b[0m  0.8104\n"
     ]
    },
    {
     "name": "stdout",
     "output_type": "stream",
     "text": [
      "      9        \u001b[36m0.5151\u001b[0m       \u001b[32m0.8920\u001b[0m        \u001b[35m0.4067\u001b[0m  0.8013\n"
     ]
    },
    {
     "name": "stdout",
     "output_type": "stream",
     "text": [
      "     10        \u001b[36m0.4956\u001b[0m       \u001b[32m0.8965\u001b[0m        \u001b[35m0.3908\u001b[0m  0.8127\n"
     ]
    },
    {
     "name": "stdout",
     "output_type": "stream",
     "text": [
      "  epoch    train_loss    valid_acc    valid_loss     dur\n",
      "-------  ------------  -----------  ------------  ------\n",
      "      1        \u001b[36m2.0114\u001b[0m       \u001b[32m0.7307\u001b[0m        \u001b[35m1.6121\u001b[0m  0.8451\n"
     ]
    },
    {
     "name": "stdout",
     "output_type": "stream",
     "text": [
      "      2        \u001b[36m1.3170\u001b[0m       \u001b[32m0.8174\u001b[0m        \u001b[35m0.9743\u001b[0m  0.8240\n"
     ]
    },
    {
     "name": "stdout",
     "output_type": "stream",
     "text": [
      "      3        \u001b[36m0.9329\u001b[0m       \u001b[32m0.8473\u001b[0m        \u001b[35m0.7149\u001b[0m  0.8363\n"
     ]
    },
    {
     "name": "stdout",
     "output_type": "stream",
     "text": [
      "      4        \u001b[36m0.7643\u001b[0m       \u001b[32m0.8640\u001b[0m        \u001b[35m0.5937\u001b[0m  0.8309\n"
     ]
    },
    {
     "name": "stdout",
     "output_type": "stream",
     "text": [
      "      5        \u001b[36m0.6684\u001b[0m       \u001b[32m0.8744\u001b[0m        \u001b[35m0.5240\u001b[0m  0.8451\n"
     ]
    },
    {
     "name": "stdout",
     "output_type": "stream",
     "text": [
      "      6        \u001b[36m0.6062\u001b[0m       \u001b[32m0.8802\u001b[0m        \u001b[35m0.4770\u001b[0m  0.8265\n"
     ]
    },
    {
     "name": "stdout",
     "output_type": "stream",
     "text": [
      "      7        \u001b[36m0.5677\u001b[0m       \u001b[32m0.8874\u001b[0m        \u001b[35m0.4456\u001b[0m  0.8213\n"
     ]
    },
    {
     "name": "stdout",
     "output_type": "stream",
     "text": [
      "      8        \u001b[36m0.5351\u001b[0m       \u001b[32m0.8916\u001b[0m        \u001b[35m0.4205\u001b[0m  0.8250\n"
     ]
    },
    {
     "name": "stdout",
     "output_type": "stream",
     "text": [
      "      9        \u001b[36m0.5108\u001b[0m       \u001b[32m0.8938\u001b[0m        \u001b[35m0.4012\u001b[0m  0.8407\n"
     ]
    },
    {
     "name": "stdout",
     "output_type": "stream",
     "text": [
      "     10        \u001b[36m0.4894\u001b[0m       \u001b[32m0.8958\u001b[0m        \u001b[35m0.3851\u001b[0m  0.8259\n"
     ]
    },
    {
     "name": "stdout",
     "output_type": "stream",
     "text": [
      "  epoch    train_loss    valid_acc    valid_loss     dur\n",
      "-------  ------------  -----------  ------------  ------\n",
      "      1        \u001b[36m1.9223\u001b[0m       \u001b[32m0.7674\u001b[0m        \u001b[35m1.4037\u001b[0m  1.0029\n"
     ]
    },
    {
     "name": "stdout",
     "output_type": "stream",
     "text": [
      "      2        \u001b[36m1.1225\u001b[0m       \u001b[32m0.8394\u001b[0m        \u001b[35m0.7937\u001b[0m  0.9931\n"
     ]
    },
    {
     "name": "stdout",
     "output_type": "stream",
     "text": [
      "      3        \u001b[36m0.7833\u001b[0m       \u001b[32m0.8662\u001b[0m        \u001b[35m0.5862\u001b[0m  1.0003\n"
     ]
    },
    {
     "name": "stdout",
     "output_type": "stream",
     "text": [
      "      4        \u001b[36m0.6420\u001b[0m       \u001b[32m0.8822\u001b[0m        \u001b[35m0.4871\u001b[0m  1.0306\n"
     ]
    },
    {
     "name": "stdout",
     "output_type": "stream",
     "text": [
      "      5        \u001b[36m0.5604\u001b[0m       \u001b[32m0.8921\u001b[0m        \u001b[35m0.4276\u001b[0m  1.0263\n"
     ]
    },
    {
     "name": "stdout",
     "output_type": "stream",
     "text": [
      "      6        \u001b[36m0.5058\u001b[0m       \u001b[32m0.9005\u001b[0m        \u001b[35m0.3871\u001b[0m  1.0154\n"
     ]
    },
    {
     "name": "stdout",
     "output_type": "stream",
     "text": [
      "      7        \u001b[36m0.4685\u001b[0m       \u001b[32m0.9059\u001b[0m        \u001b[35m0.3587\u001b[0m  0.9942\n"
     ]
    },
    {
     "name": "stdout",
     "output_type": "stream",
     "text": [
      "      8        \u001b[36m0.4416\u001b[0m       \u001b[32m0.9083\u001b[0m        \u001b[35m0.3376\u001b[0m  0.9716\n"
     ]
    },
    {
     "name": "stdout",
     "output_type": "stream",
     "text": [
      "      9        \u001b[36m0.4149\u001b[0m       \u001b[32m0.9112\u001b[0m        \u001b[35m0.3198\u001b[0m  1.0098\n"
     ]
    },
    {
     "name": "stdout",
     "output_type": "stream",
     "text": [
      "     10        \u001b[36m0.3999\u001b[0m       \u001b[32m0.9142\u001b[0m        \u001b[35m0.3076\u001b[0m  0.9966\n"
     ]
    }
   ],
   "source": [
    "_ = clf.fit(X_train, y_train.to_numpy())"
   ]
  },
  {
   "cell_type": "markdown",
   "metadata": {},
   "source": [
    "## 9. Evaluate the robust model's performance"
   ]
  },
  {
   "cell_type": "code",
   "execution_count": 18,
   "metadata": {
    "execution": {
     "iopub.execute_input": "2022-03-09T19:44:51.648231Z",
     "iopub.status.busy": "2022-03-09T19:44:51.647844Z",
     "iopub.status.idle": "2022-03-09T19:44:51.885731Z",
     "shell.execute_reply": "2022-03-09T19:44:51.885044Z"
    }
   },
   "outputs": [
    {
     "data": {
      "text/plain": [
       "0.8972142857142857"
      ]
     },
     "execution_count": 18,
     "metadata": {},
     "output_type": "execute_result"
    }
   ],
   "source": [
    "from sklearn.metrics import accuracy_score\n",
    "\n",
    "y_pred = clf.predict(X_test)\n",
    "accuracy_score(y_test, y_pred)"
   ]
  },
  {
   "cell_type": "markdown",
   "metadata": {},
   "source": [
    "## What's next?"
   ]
  },
  {
   "cell_type": "markdown",
   "metadata": {},
   "source": [
    "Congratulations on completing this tutorial! Check out our following tutorial on using Cleanlab for text classification, where we found *hundreds* of potential label errors in one of the most well-known text datasets, the IMBDb movie review dataset!"
   ]
  }
 ],
 "metadata": {
  "interpreter": {
   "hash": "ced20e3e49bb4fa4ce8ad38f8f2535b7fc4c39b2b89554502b5dbdad1ad67eda"
  },
  "kernelspec": {
   "display_name": "Python 3.10.0 64-bit",
   "language": "python",
   "name": "python3"
  },
  "language_info": {
   "codemirror_mode": {
    "name": "ipython",
    "version": 3
   },
   "file_extension": ".py",
   "mimetype": "text/x-python",
   "name": "python",
   "nbconvert_exporter": "python",
   "pygments_lexer": "ipython3",
   "version": "3.8.12"
  }
 },
 "nbformat": 4,
 "nbformat_minor": 2
}
