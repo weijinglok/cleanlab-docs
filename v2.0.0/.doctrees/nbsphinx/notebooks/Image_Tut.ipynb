{
 "cells": [
  {
   "cell_type": "markdown",
   "metadata": {},
   "source": [
    "# Image Classification with Cleanlab, PyTorch & Skorch"
   ]
  },
  {
   "cell_type": "markdown",
   "metadata": {},
   "source": [
    "This tutorial will use Cleanlab to find potential label errors in the MNIST handwritten digit image dataset. This dataset contains 60,000 images of handwritten digits from 0 to 9. We'll find *more than a thousand* highly suspicious examples with label errors and edge cases by the end of this tutorial. \n",
    "\n",
    "**Overview of what we'll do in this tutorial:**\n",
    "\n",
    "- Build a simple PyTorch neural net and wrap it with Skorch to make it scikit-learn compatible.\n",
    "\n",
    "- Compute the cross-validated predicted probabilities, ``pyx``, sometimes known as the out-of-sample predicted probabilities.\n",
    "\n",
    "- Generate a list of potential label errors with Cleanlab's ``get_noise_indices``.\n",
    "\n",
    "- Build and train a more robust model than the vanilla model after adapting it with Cleanlab's ``LearningWithNoisyLabels``. \n",
    "\n",
    "**Data:** https://www.openml.org/d/554"
   ]
  },
  {
   "cell_type": "markdown",
   "metadata": {},
   "source": [
    "## 1. Install the required dependencies"
   ]
  },
  {
   "cell_type": "markdown",
   "metadata": {},
   "source": [
    "``%%capture`` is a magic function to hides the cell's output."
   ]
  },
  {
   "cell_type": "code",
   "execution_count": 1,
   "metadata": {
    "execution": {
     "iopub.execute_input": "2022-03-08T22:57:16.079354Z",
     "iopub.status.busy": "2022-03-08T22:57:16.078996Z",
     "iopub.status.idle": "2022-03-08T22:57:42.372874Z",
     "shell.execute_reply": "2022-03-08T22:57:42.372116Z"
    }
   },
   "outputs": [],
   "source": [
    "%%capture\n",
    "\n",
    "%pip install cleanlab pandas matplotlib torch torchvision skorch"
   ]
  },
  {
   "cell_type": "markdown",
   "metadata": {},
   "source": [
    "## 2. Fetch and scale the MNIST dataset"
   ]
  },
  {
   "cell_type": "code",
   "execution_count": 2,
   "metadata": {
    "execution": {
     "iopub.execute_input": "2022-03-08T22:57:42.376295Z",
     "iopub.status.busy": "2022-03-08T22:57:42.376128Z",
     "iopub.status.idle": "2022-03-08T22:58:31.944168Z",
     "shell.execute_reply": "2022-03-08T22:58:31.943594Z"
    }
   },
   "outputs": [],
   "source": [
    "from sklearn.datasets import fetch_openml\n",
    "\n",
    "# Fetch the MNIST dataset\n",
    "mnist = fetch_openml('mnist_784')\n",
    "\n",
    "# Assign the data features and labels to variable X and y respectively \n",
    "X = mnist.data.astype('float32')\n",
    "y = mnist.target.astype('int64')\n"
   ]
  },
  {
   "cell_type": "markdown",
   "metadata": {},
   "source": [
    "<div class=\"alert alert-info\">\n",
    "\n",
    "Bringing Your Own Data (BYOD)?\n",
    "\n",
    "Assign your data's features to variable ``X`` and its labels to variable ``y`` instead.\n",
    "\n",
    "</div>"
   ]
  },
  {
   "cell_type": "code",
   "execution_count": 3,
   "metadata": {
    "execution": {
     "iopub.execute_input": "2022-03-08T22:58:31.947341Z",
     "iopub.status.busy": "2022-03-08T22:58:31.947001Z",
     "iopub.status.idle": "2022-03-08T22:58:32.037839Z",
     "shell.execute_reply": "2022-03-08T22:58:32.037275Z"
    }
   },
   "outputs": [],
   "source": [
    "\n",
    "# Scale the features which range from 0 to 255 (256 levels on the grayscale) \n",
    "X /= 255.0\n",
    "\n",
    "# Then convert it to a numpy array\n",
    "X = X.to_numpy()"
   ]
  },
  {
   "cell_type": "markdown",
   "metadata": {},
   "source": [
    "## 3. Define a classification model"
   ]
  },
  {
   "cell_type": "markdown",
   "metadata": {},
   "source": [
    "Here, we define a simple neural network with PyTorch."
   ]
  },
  {
   "cell_type": "code",
   "execution_count": 4,
   "metadata": {
    "execution": {
     "iopub.execute_input": "2022-03-08T22:58:32.040594Z",
     "iopub.status.busy": "2022-03-08T22:58:32.040445Z",
     "iopub.status.idle": "2022-03-08T22:58:32.397279Z",
     "shell.execute_reply": "2022-03-08T22:58:32.396764Z"
    }
   },
   "outputs": [],
   "source": [
    "from torch import nn\n",
    "\n",
    "class NeuralNetwork(nn.Module):\n",
    "    def __init__(self):\n",
    "        super(NeuralNetwork, self).__init__()\n",
    "        self.dropout = nn.Dropout(0.5)\n",
    "        self.hidden = nn.Linear(28*28, 128)\n",
    "        self.output = nn.Linear(128, 10)\n",
    "\n",
    "    def forward(self, X):\n",
    "        X = nn.functional.relu(self.hidden(X))\n",
    "        X = self.dropout(X)\n",
    "        X = nn.functional.softmax(self.output(X), dim=-1)\n",
    "        return X"
   ]
  },
  {
   "cell_type": "markdown",
   "metadata": {},
   "source": [
    "## 4. Wrap with Skorch for scikit-learn compatibility"
   ]
  },
  {
   "cell_type": "markdown",
   "metadata": {},
   "source": [
    "As some of Cleanlab's feature requires scikit-learn compatibility, we will need to adapt the above PyTorch neural net accordingly. Skorch is a convenient package that helps with this, read more about it here: https://skorch.readthedocs.io"
   ]
  },
  {
   "cell_type": "code",
   "execution_count": 5,
   "metadata": {
    "execution": {
     "iopub.execute_input": "2022-03-08T22:58:32.400320Z",
     "iopub.status.busy": "2022-03-08T22:58:32.400018Z",
     "iopub.status.idle": "2022-03-08T22:58:32.480711Z",
     "shell.execute_reply": "2022-03-08T22:58:32.480230Z"
    }
   },
   "outputs": [],
   "source": [
    "from skorch import NeuralNetClassifier\n",
    "\n",
    "# Wrap the PyTorch neural net around Skorch's NeuralNetClassifier wrapper\n",
    "net = NeuralNetClassifier(NeuralNetwork)"
   ]
  },
  {
   "cell_type": "markdown",
   "metadata": {},
   "source": [
    "## 5. Compute the cross-validated predicted probabilities"
   ]
  },
  {
   "cell_type": "markdown",
   "metadata": {},
   "source": [
    "If we'd like Cleanlab to identify potential label errors in the whole dataset and not just the training set, we can consider fitting the entire dataset. We will only use this model instance to compute the cross-validated predicted probabilities, ``pyx``, and not for model evaluation."
   ]
  },
  {
   "cell_type": "code",
   "execution_count": 6,
   "metadata": {
    "execution": {
     "iopub.execute_input": "2022-03-08T22:58:32.483188Z",
     "iopub.status.busy": "2022-03-08T22:58:32.482897Z",
     "iopub.status.idle": "2022-03-08T22:58:54.437522Z",
     "shell.execute_reply": "2022-03-08T22:58:54.436950Z"
    }
   },
   "outputs": [
    {
     "name": "stdout",
     "output_type": "stream",
     "text": [
      "  epoch    train_loss    valid_acc    valid_loss     dur\n",
      "-------  ------------  -----------  ------------  ------\n",
      "      1        \u001b[36m1.8007\u001b[0m       \u001b[32m0.7774\u001b[0m        \u001b[35m1.1806\u001b[0m  2.2780\n"
     ]
    },
    {
     "name": "stdout",
     "output_type": "stream",
     "text": [
      "      2        \u001b[36m0.9889\u001b[0m       \u001b[32m0.8394\u001b[0m        \u001b[35m0.7066\u001b[0m  2.1594\n"
     ]
    },
    {
     "name": "stdout",
     "output_type": "stream",
     "text": [
      "      3        \u001b[36m0.7301\u001b[0m       \u001b[32m0.8636\u001b[0m        \u001b[35m0.5542\u001b[0m  2.1536\n"
     ]
    },
    {
     "name": "stdout",
     "output_type": "stream",
     "text": [
      "      4        \u001b[36m0.6177\u001b[0m       \u001b[32m0.8774\u001b[0m        \u001b[35m0.4790\u001b[0m  2.1534\n"
     ]
    },
    {
     "name": "stdout",
     "output_type": "stream",
     "text": [
      "      5        \u001b[36m0.5536\u001b[0m       \u001b[32m0.8874\u001b[0m        \u001b[35m0.4338\u001b[0m  2.1836\n"
     ]
    },
    {
     "name": "stdout",
     "output_type": "stream",
     "text": [
      "      6        \u001b[36m0.5113\u001b[0m       \u001b[32m0.8939\u001b[0m        \u001b[35m0.4022\u001b[0m  2.1718\n"
     ]
    },
    {
     "name": "stdout",
     "output_type": "stream",
     "text": [
      "      7        \u001b[36m0.4782\u001b[0m       \u001b[32m0.8976\u001b[0m        \u001b[35m0.3783\u001b[0m  2.2098\n"
     ]
    },
    {
     "name": "stdout",
     "output_type": "stream",
     "text": [
      "      8        \u001b[36m0.4568\u001b[0m       \u001b[32m0.9014\u001b[0m        \u001b[35m0.3601\u001b[0m  2.1764\n"
     ]
    },
    {
     "name": "stdout",
     "output_type": "stream",
     "text": [
      "      9        \u001b[36m0.4337\u001b[0m       \u001b[32m0.9049\u001b[0m        \u001b[35m0.3447\u001b[0m  2.1721\n"
     ]
    },
    {
     "name": "stdout",
     "output_type": "stream",
     "text": [
      "     10        \u001b[36m0.4167\u001b[0m       \u001b[32m0.9083\u001b[0m        \u001b[35m0.3315\u001b[0m  2.2238\n"
     ]
    }
   ],
   "source": [
    "_ = net.fit(X, y)"
   ]
  },
  {
   "cell_type": "markdown",
   "metadata": {},
   "source": [
    "Compute the cross-validated predicted probabilities, ``pyx``, sometimes also known as the out-of-sample predicted probabilities."
   ]
  },
  {
   "cell_type": "code",
   "execution_count": 7,
   "metadata": {
    "execution": {
     "iopub.execute_input": "2022-03-08T22:58:54.440057Z",
     "iopub.status.busy": "2022-03-08T22:58:54.439907Z",
     "iopub.status.idle": "2022-03-08T22:59:30.069955Z",
     "shell.execute_reply": "2022-03-08T22:59:30.069359Z"
    }
   },
   "outputs": [
    {
     "name": "stdout",
     "output_type": "stream",
     "text": [
      "  epoch    train_loss    valid_acc    valid_loss     dur\n",
      "-------  ------------  -----------  ------------  ------\n",
      "      1        \u001b[36m1.9730\u001b[0m       \u001b[32m0.7347\u001b[0m        \u001b[35m1.5520\u001b[0m  1.1349\n"
     ]
    },
    {
     "name": "stdout",
     "output_type": "stream",
     "text": [
      "      2        \u001b[36m1.2510\u001b[0m       \u001b[32m0.7949\u001b[0m        \u001b[35m0.9522\u001b[0m  1.1830\n"
     ]
    },
    {
     "name": "stdout",
     "output_type": "stream",
     "text": [
      "      3        \u001b[36m0.8842\u001b[0m       \u001b[32m0.8298\u001b[0m        \u001b[35m0.7207\u001b[0m  1.1392\n"
     ]
    },
    {
     "name": "stdout",
     "output_type": "stream",
     "text": [
      "      4        \u001b[36m0.7326\u001b[0m       \u001b[32m0.8473\u001b[0m        \u001b[35m0.6127\u001b[0m  1.1375\n"
     ]
    },
    {
     "name": "stdout",
     "output_type": "stream",
     "text": [
      "      5        \u001b[36m0.6436\u001b[0m       \u001b[32m0.8593\u001b[0m        \u001b[35m0.5488\u001b[0m  1.1387\n"
     ]
    },
    {
     "name": "stdout",
     "output_type": "stream",
     "text": [
      "      6        \u001b[36m0.5879\u001b[0m       \u001b[32m0.8670\u001b[0m        \u001b[35m0.5053\u001b[0m  1.1416\n"
     ]
    },
    {
     "name": "stdout",
     "output_type": "stream",
     "text": [
      "      7        \u001b[36m0.5480\u001b[0m       \u001b[32m0.8721\u001b[0m        \u001b[35m0.4737\u001b[0m  1.1358\n"
     ]
    },
    {
     "name": "stdout",
     "output_type": "stream",
     "text": [
      "      8        \u001b[36m0.5181\u001b[0m       \u001b[32m0.8759\u001b[0m        \u001b[35m0.4494\u001b[0m  1.1361\n"
     ]
    },
    {
     "name": "stdout",
     "output_type": "stream",
     "text": [
      "      9        \u001b[36m0.4931\u001b[0m       \u001b[32m0.8803\u001b[0m        \u001b[35m0.4298\u001b[0m  1.1414\n"
     ]
    },
    {
     "name": "stdout",
     "output_type": "stream",
     "text": [
      "     10        \u001b[36m0.4684\u001b[0m       \u001b[32m0.8822\u001b[0m        \u001b[35m0.4145\u001b[0m  1.1621\n"
     ]
    },
    {
     "name": "stdout",
     "output_type": "stream",
     "text": [
      "  epoch    train_loss    valid_acc    valid_loss     dur\n",
      "-------  ------------  -----------  ------------  ------\n",
      "      1        \u001b[36m2.0373\u001b[0m       \u001b[32m0.7182\u001b[0m        \u001b[35m1.6275\u001b[0m  1.1355\n"
     ]
    },
    {
     "name": "stdout",
     "output_type": "stream",
     "text": [
      "      2        \u001b[36m1.3116\u001b[0m       \u001b[32m0.7971\u001b[0m        \u001b[35m0.9728\u001b[0m  1.1372\n"
     ]
    },
    {
     "name": "stdout",
     "output_type": "stream",
     "text": [
      "      3        \u001b[36m0.9132\u001b[0m       \u001b[32m0.8351\u001b[0m        \u001b[35m0.7163\u001b[0m  1.1348\n"
     ]
    },
    {
     "name": "stdout",
     "output_type": "stream",
     "text": [
      "      4        \u001b[36m0.7461\u001b[0m       \u001b[32m0.8562\u001b[0m        \u001b[35m0.5970\u001b[0m  1.1378\n"
     ]
    },
    {
     "name": "stdout",
     "output_type": "stream",
     "text": [
      "      5        \u001b[36m0.6511\u001b[0m       \u001b[32m0.8674\u001b[0m        \u001b[35m0.5272\u001b[0m  1.1372\n"
     ]
    },
    {
     "name": "stdout",
     "output_type": "stream",
     "text": [
      "      6        \u001b[36m0.5899\u001b[0m       \u001b[32m0.8769\u001b[0m        \u001b[35m0.4805\u001b[0m  1.1384\n"
     ]
    },
    {
     "name": "stdout",
     "output_type": "stream",
     "text": [
      "      7        \u001b[36m0.5488\u001b[0m       \u001b[32m0.8832\u001b[0m        \u001b[35m0.4485\u001b[0m  1.1373\n"
     ]
    },
    {
     "name": "stdout",
     "output_type": "stream",
     "text": [
      "      8        \u001b[36m0.5158\u001b[0m       \u001b[32m0.8895\u001b[0m        \u001b[35m0.4233\u001b[0m  1.1354\n"
     ]
    },
    {
     "name": "stdout",
     "output_type": "stream",
     "text": [
      "      9        \u001b[36m0.4923\u001b[0m       \u001b[32m0.8925\u001b[0m        \u001b[35m0.4036\u001b[0m  1.1352\n"
     ]
    },
    {
     "name": "stdout",
     "output_type": "stream",
     "text": [
      "     10        \u001b[36m0.4673\u001b[0m       \u001b[32m0.8955\u001b[0m        \u001b[35m0.3888\u001b[0m  1.1346\n"
     ]
    },
    {
     "name": "stdout",
     "output_type": "stream",
     "text": [
      "  epoch    train_loss    valid_acc    valid_loss     dur\n",
      "-------  ------------  -----------  ------------  ------\n",
      "      1        \u001b[36m1.9885\u001b[0m       \u001b[32m0.7370\u001b[0m        \u001b[35m1.5602\u001b[0m  1.1351\n"
     ]
    },
    {
     "name": "stdout",
     "output_type": "stream",
     "text": [
      "      2        \u001b[36m1.2853\u001b[0m       \u001b[32m0.8119\u001b[0m        \u001b[35m0.9454\u001b[0m  1.1345\n"
     ]
    },
    {
     "name": "stdout",
     "output_type": "stream",
     "text": [
      "      3        \u001b[36m0.9175\u001b[0m       \u001b[32m0.8442\u001b[0m        \u001b[35m0.7036\u001b[0m  1.1340\n"
     ]
    },
    {
     "name": "stdout",
     "output_type": "stream",
     "text": [
      "      4        \u001b[36m0.7583\u001b[0m       \u001b[32m0.8607\u001b[0m        \u001b[35m0.5890\u001b[0m  1.1353\n"
     ]
    },
    {
     "name": "stdout",
     "output_type": "stream",
     "text": [
      "      5        \u001b[36m0.6717\u001b[0m       \u001b[32m0.8726\u001b[0m        \u001b[35m0.5213\u001b[0m  1.1352\n"
     ]
    },
    {
     "name": "stdout",
     "output_type": "stream",
     "text": [
      "      6        \u001b[36m0.6112\u001b[0m       \u001b[32m0.8811\u001b[0m        \u001b[35m0.4766\u001b[0m  1.1382\n"
     ]
    },
    {
     "name": "stdout",
     "output_type": "stream",
     "text": [
      "      7        \u001b[36m0.5729\u001b[0m       \u001b[32m0.8860\u001b[0m        \u001b[35m0.4456\u001b[0m  1.1351\n"
     ]
    },
    {
     "name": "stdout",
     "output_type": "stream",
     "text": [
      "      8        \u001b[36m0.5407\u001b[0m       \u001b[32m0.8908\u001b[0m        \u001b[35m0.4218\u001b[0m  1.1364\n"
     ]
    },
    {
     "name": "stdout",
     "output_type": "stream",
     "text": [
      "      9        \u001b[36m0.5132\u001b[0m       \u001b[32m0.8943\u001b[0m        \u001b[35m0.4014\u001b[0m  1.1355\n"
     ]
    },
    {
     "name": "stdout",
     "output_type": "stream",
     "text": [
      "     10        \u001b[36m0.4967\u001b[0m       \u001b[32m0.8969\u001b[0m        \u001b[35m0.3870\u001b[0m  1.1363\n"
     ]
    }
   ],
   "source": [
    "from sklearn.model_selection import cross_val_predict\n",
    "\n",
    "pyx = cross_val_predict(net, X, y, cv=3, method='predict_proba')"
   ]
  },
  {
   "cell_type": "markdown",
   "metadata": {},
   "source": [
    "## 6. Run Cleanlab to find potential label errors"
   ]
  },
  {
   "cell_type": "markdown",
   "metadata": {},
   "source": [
    "Cleanlab has a ``get_noise_indices`` function to generate a list of potential label errors. Setting ``sorted_index_method=\"prob_given_label\"`` returns the indices of all the most likely label errors, sorted by the most suspicious example first."
   ]
  },
  {
   "cell_type": "code",
   "execution_count": 8,
   "metadata": {
    "execution": {
     "iopub.execute_input": "2022-03-08T22:59:30.072733Z",
     "iopub.status.busy": "2022-03-08T22:59:30.072581Z",
     "iopub.status.idle": "2022-03-08T22:59:30.399505Z",
     "shell.execute_reply": "2022-03-08T22:59:30.398829Z"
    }
   },
   "outputs": [],
   "source": [
    "from cleanlab.pruning import get_noise_indices\n",
    "\n",
    "ordered_label_errors = get_noise_indices(\n",
    "    s=y,\n",
    "    psx=pyx,\n",
    "    sorted_index_method=\"prob_given_label\"\n",
    ")"
   ]
  },
  {
   "cell_type": "markdown",
   "metadata": {},
   "source": [
    "## 7. Review some of the most likely mislabeled examples"
   ]
  },
  {
   "cell_type": "code",
   "execution_count": 9,
   "metadata": {
    "execution": {
     "iopub.execute_input": "2022-03-08T22:59:30.402851Z",
     "iopub.status.busy": "2022-03-08T22:59:30.402679Z",
     "iopub.status.idle": "2022-03-08T22:59:30.407415Z",
     "shell.execute_reply": "2022-03-08T22:59:30.406447Z"
    }
   },
   "outputs": [
    {
     "name": "stdout",
     "output_type": "stream",
     "text": [
      "Cleanlab found 1224 potential label errors. Here are the indices of the top 15 most likely ones: \n",
      " [24798 18598  8729 12679  1352 15942 66091 31134  7010 59915 20820 53216\n",
      " 39457 20735 12585]\n"
     ]
    }
   ],
   "source": [
    "print(f\"Cleanlab found {len(ordered_label_errors)} potential label errors. Here are the indices of the top 15 most likely ones: \\n {ordered_label_errors[:15]}\")"
   ]
  },
  {
   "cell_type": "markdown",
   "metadata": {},
   "source": [
    "We'll define a new ``plot_examples`` function to display any examples in a subplot conveniently."
   ]
  },
  {
   "cell_type": "code",
   "execution_count": 10,
   "metadata": {
    "execution": {
     "iopub.execute_input": "2022-03-08T22:59:30.409925Z",
     "iopub.status.busy": "2022-03-08T22:59:30.409630Z",
     "iopub.status.idle": "2022-03-08T22:59:31.051946Z",
     "shell.execute_reply": "2022-03-08T22:59:31.051389Z"
    }
   },
   "outputs": [],
   "source": [
    "import matplotlib.pyplot as plt\n",
    "\n",
    "def plot_examples(id_iter, nrows=1, ncols=1):\n",
    "    for count, id in enumerate(id_iter):\n",
    "        plt.subplot(nrows, ncols, count+1)\n",
    "        plt.imshow(X[id].reshape(28, 28))\n",
    "        plt.title(f\"id: {id} \\n label: {y[id]}\")\n",
    "        plt.axis('off')\n",
    "\n",
    "    plt.tight_layout(h_pad=2.0)"
   ]
  },
  {
   "cell_type": "markdown",
   "metadata": {},
   "source": [
    "Let's start by having an overview of the top 15 most likely label errors. From here, we can see a few label errors and edge cases. Feel free to change the parameters to display more or fewer examples. "
   ]
  },
  {
   "cell_type": "code",
   "execution_count": 11,
   "metadata": {
    "execution": {
     "iopub.execute_input": "2022-03-08T22:59:31.054740Z",
     "iopub.status.busy": "2022-03-08T22:59:31.054584Z",
     "iopub.status.idle": "2022-03-08T22:59:31.459454Z",
     "shell.execute_reply": "2022-03-08T22:59:31.458915Z"
    }
   },
   "outputs": [
    {
     "data": {
      "image/png": "[encoded data removed]",
      "text/plain": [
       "<Figure size 432x288 with 15 Axes>"
      ]
     },
     "metadata": {
      "needs_background": "light"
     },
     "output_type": "display_data"
    }
   ],
   "source": [
    "plot_examples(ordered_label_errors[range(15)], 3, 5)"
   ]
  },
  {
   "cell_type": "markdown",
   "metadata": {},
   "source": [
    "Let's zoom into specific examples:"
   ]
  },
  {
   "cell_type": "markdown",
   "metadata": {},
   "source": [
    "Given label is **4** but looks more like a **7**"
   ]
  },
  {
   "cell_type": "code",
   "execution_count": 12,
   "metadata": {
    "execution": {
     "iopub.execute_input": "2022-03-08T22:59:31.462505Z",
     "iopub.status.busy": "2022-03-08T22:59:31.462055Z",
     "iopub.status.idle": "2022-03-08T22:59:31.517990Z",
     "shell.execute_reply": "2022-03-08T22:59:31.517369Z"
    }
   },
   "outputs": [
    {
     "data": {
      "image/png": "[encoded data removed]",
      "text/plain": [
       "<Figure size 432x288 with 1 Axes>"
      ]
     },
     "metadata": {
      "needs_background": "light"
     },
     "output_type": "display_data"
    }
   ],
   "source": [
    "plot_examples([59915])"
   ]
  },
  {
   "cell_type": "markdown",
   "metadata": {},
   "source": [
    "Given label is **4** but also looks like **9**"
   ]
  },
  {
   "cell_type": "code",
   "execution_count": 13,
   "metadata": {
    "execution": {
     "iopub.execute_input": "2022-03-08T22:59:31.521559Z",
     "iopub.status.busy": "2022-03-08T22:59:31.521120Z",
     "iopub.status.idle": "2022-03-08T22:59:31.579982Z",
     "shell.execute_reply": "2022-03-08T22:59:31.579397Z"
    }
   },
   "outputs": [
    {
     "data": {
      "image/png": "[encoded data removed]",
      "text/plain": [
       "<Figure size 432x288 with 1 Axes>"
      ]
     },
     "metadata": {
      "needs_background": "light"
     },
     "output_type": "display_data"
    }
   ],
   "source": [
    "plot_examples([24798])"
   ]
  },
  {
   "cell_type": "markdown",
   "metadata": {},
   "source": [
    "Edge case of odd looking **9**s"
   ]
  },
  {
   "cell_type": "code",
   "execution_count": 14,
   "metadata": {
    "execution": {
     "iopub.execute_input": "2022-03-08T22:59:31.583525Z",
     "iopub.status.busy": "2022-03-08T22:59:31.583152Z",
     "iopub.status.idle": "2022-03-08T22:59:31.800637Z",
     "shell.execute_reply": "2022-03-08T22:59:31.800104Z"
    }
   },
   "outputs": [
    {
     "data": {
      "image/png": "[encoded data removed]",
      "text/plain": [
       "<Figure size 432x288 with 3 Axes>"
      ]
     },
     "metadata": {
      "needs_background": "light"
     },
     "output_type": "display_data"
    }
   ],
   "source": [
    "plot_examples([18598, 1352, 61247], 1, 3)"
   ]
  },
  {
   "cell_type": "markdown",
   "metadata": {},
   "source": [
    "Cleanlab has shortlisted the most likely label errors to speed up your data cleaning process. With this list, you can decide whether to fix label errors, augment edge cases or remove obscure examples. \n",
    "\n",
    "These human-in-the-loop processes may be time-consuming, so if you'd like Cleanlab to automatically remove these noisy examples and train a model directly on the partially mislabeled dataset, you're in luck! Cleanlab provides a ``LearningWithNoisyLabels`` wrapper to do precisely this:"
   ]
  },
  {
   "cell_type": "markdown",
   "metadata": {},
   "source": [
    "## 8. Adapt with Cleanlab's wrapper and train a more robust model"
   ]
  },
  {
   "cell_type": "markdown",
   "metadata": {},
   "source": [
    "First, we split the dataset into train and test subsets."
   ]
  },
  {
   "cell_type": "code",
   "execution_count": 15,
   "metadata": {
    "execution": {
     "iopub.execute_input": "2022-03-08T22:59:31.803399Z",
     "iopub.status.busy": "2022-03-08T22:59:31.803069Z",
     "iopub.status.idle": "2022-03-08T22:59:32.136390Z",
     "shell.execute_reply": "2022-03-08T22:59:32.135808Z"
    }
   },
   "outputs": [],
   "source": [
    "from sklearn.model_selection import train_test_split\n",
    "\n",
    "X_train, X_test, y_train, y_test = train_test_split(X, y, test_size=0.2)"
   ]
  },
  {
   "cell_type": "markdown",
   "metadata": {},
   "source": [
    "Re-instantiate a new scikit-learn compatible model with Skorch then wrap it with Cleanlab's ``LearningWithNoisyLabels`` wrapper."
   ]
  },
  {
   "cell_type": "code",
   "execution_count": 16,
   "metadata": {
    "execution": {
     "iopub.execute_input": "2022-03-08T22:59:32.139516Z",
     "iopub.status.busy": "2022-03-08T22:59:32.139135Z",
     "iopub.status.idle": "2022-03-08T22:59:32.143205Z",
     "shell.execute_reply": "2022-03-08T22:59:32.142674Z"
    }
   },
   "outputs": [],
   "source": [
    "from cleanlab.classification import LearningWithNoisyLabels\n",
    "\n",
    "net = NeuralNetClassifier(NeuralNetwork)\n",
    "clf = LearningWithNoisyLabels(clf=net)"
   ]
  },
  {
   "cell_type": "code",
   "execution_count": 17,
   "metadata": {
    "execution": {
     "iopub.execute_input": "2022-03-08T22:59:32.145777Z",
     "iopub.status.busy": "2022-03-08T22:59:32.145471Z",
     "iopub.status.idle": "2022-03-08T23:00:41.356811Z",
     "shell.execute_reply": "2022-03-08T23:00:41.356227Z"
    }
   },
   "outputs": [
    {
     "name": "stdout",
     "output_type": "stream",
     "text": [
      "  epoch    train_loss    valid_acc    valid_loss     dur\n",
      "-------  ------------  -----------  ------------  ------\n",
      "      1        \u001b[36m2.0175\u001b[0m       \u001b[32m0.7289\u001b[0m        \u001b[35m1.6129\u001b[0m  1.0966\n"
     ]
    },
    {
     "name": "stdout",
     "output_type": "stream",
     "text": [
      "      2        \u001b[36m1.3166\u001b[0m       \u001b[32m0.8109\u001b[0m        \u001b[35m0.9671\u001b[0m  1.0886\n"
     ]
    },
    {
     "name": "stdout",
     "output_type": "stream",
     "text": [
      "      3        \u001b[36m0.9235\u001b[0m       \u001b[32m0.8483\u001b[0m        \u001b[35m0.7093\u001b[0m  1.0882\n"
     ]
    },
    {
     "name": "stdout",
     "output_type": "stream",
     "text": [
      "      4        \u001b[36m0.7553\u001b[0m       \u001b[32m0.8647\u001b[0m        \u001b[35m0.5904\u001b[0m  1.0884\n"
     ]
    },
    {
     "name": "stdout",
     "output_type": "stream",
     "text": [
      "      5        \u001b[36m0.6614\u001b[0m       \u001b[32m0.8778\u001b[0m        \u001b[35m0.5216\u001b[0m  1.0867\n"
     ]
    },
    {
     "name": "stdout",
     "output_type": "stream",
     "text": [
      "      6        \u001b[36m0.5998\u001b[0m       \u001b[32m0.8858\u001b[0m        \u001b[35m0.4758\u001b[0m  1.0873\n"
     ]
    },
    {
     "name": "stdout",
     "output_type": "stream",
     "text": [
      "      7        \u001b[36m0.5574\u001b[0m       \u001b[32m0.8897\u001b[0m        \u001b[35m0.4431\u001b[0m  1.0878\n"
     ]
    },
    {
     "name": "stdout",
     "output_type": "stream",
     "text": [
      "      8        \u001b[36m0.5239\u001b[0m       \u001b[32m0.8936\u001b[0m        \u001b[35m0.4183\u001b[0m  1.0869\n"
     ]
    },
    {
     "name": "stdout",
     "output_type": "stream",
     "text": [
      "      9        \u001b[36m0.4996\u001b[0m       \u001b[32m0.8963\u001b[0m        \u001b[35m0.3995\u001b[0m  1.1039\n"
     ]
    },
    {
     "name": "stdout",
     "output_type": "stream",
     "text": [
      "     10        \u001b[36m0.4776\u001b[0m       \u001b[32m0.8982\u001b[0m        \u001b[35m0.3840\u001b[0m  1.0904\n"
     ]
    },
    {
     "name": "stdout",
     "output_type": "stream",
     "text": [
      "  epoch    train_loss    valid_acc    valid_loss     dur\n",
      "-------  ------------  -----------  ------------  ------\n",
      "      1        \u001b[36m2.0265\u001b[0m       \u001b[32m0.7129\u001b[0m        \u001b[35m1.6419\u001b[0m  1.1047\n"
     ]
    },
    {
     "name": "stdout",
     "output_type": "stream",
     "text": [
      "      2        \u001b[36m1.3479\u001b[0m       \u001b[32m0.8151\u001b[0m        \u001b[35m0.9946\u001b[0m  1.0821\n"
     ]
    },
    {
     "name": "stdout",
     "output_type": "stream",
     "text": [
      "      3        \u001b[36m0.9541\u001b[0m       \u001b[32m0.8482\u001b[0m        \u001b[35m0.7250\u001b[0m  1.0812\n"
     ]
    },
    {
     "name": "stdout",
     "output_type": "stream",
     "text": [
      "      4        \u001b[36m0.7763\u001b[0m       \u001b[32m0.8637\u001b[0m        \u001b[35m0.5993\u001b[0m  1.0811\n"
     ]
    },
    {
     "name": "stdout",
     "output_type": "stream",
     "text": [
      "      5        \u001b[36m0.6788\u001b[0m       \u001b[32m0.8760\u001b[0m        \u001b[35m0.5288\u001b[0m  1.0831\n"
     ]
    },
    {
     "name": "stdout",
     "output_type": "stream",
     "text": [
      "      6        \u001b[36m0.6131\u001b[0m       \u001b[32m0.8825\u001b[0m        \u001b[35m0.4806\u001b[0m  1.0819\n"
     ]
    },
    {
     "name": "stdout",
     "output_type": "stream",
     "text": [
      "      7        \u001b[36m0.5716\u001b[0m       \u001b[32m0.8873\u001b[0m        \u001b[35m0.4474\u001b[0m  1.0814\n"
     ]
    },
    {
     "name": "stdout",
     "output_type": "stream",
     "text": [
      "      8        \u001b[36m0.5410\u001b[0m       \u001b[32m0.8920\u001b[0m        \u001b[35m0.4232\u001b[0m  1.0811\n"
     ]
    },
    {
     "name": "stdout",
     "output_type": "stream",
     "text": [
      "      9        \u001b[36m0.5133\u001b[0m       \u001b[32m0.8949\u001b[0m        \u001b[35m0.4036\u001b[0m  1.0819\n"
     ]
    },
    {
     "name": "stdout",
     "output_type": "stream",
     "text": [
      "     10        \u001b[36m0.4901\u001b[0m       \u001b[32m0.8988\u001b[0m        \u001b[35m0.3876\u001b[0m  1.0835\n"
     ]
    },
    {
     "name": "stdout",
     "output_type": "stream",
     "text": [
      "  epoch    train_loss    valid_acc    valid_loss     dur\n",
      "-------  ------------  -----------  ------------  ------\n",
      "      1        \u001b[36m2.0369\u001b[0m       \u001b[32m0.7156\u001b[0m        \u001b[35m1.6489\u001b[0m  1.1288\n"
     ]
    },
    {
     "name": "stdout",
     "output_type": "stream",
     "text": [
      "      2        \u001b[36m1.3508\u001b[0m       \u001b[32m0.8102\u001b[0m        \u001b[35m0.9970\u001b[0m  1.0844\n"
     ]
    },
    {
     "name": "stdout",
     "output_type": "stream",
     "text": [
      "      3        \u001b[36m0.9525\u001b[0m       \u001b[32m0.8444\u001b[0m        \u001b[35m0.7281\u001b[0m  1.0824\n"
     ]
    },
    {
     "name": "stdout",
     "output_type": "stream",
     "text": [
      "      4        \u001b[36m0.7781\u001b[0m       \u001b[32m0.8627\u001b[0m        \u001b[35m0.6045\u001b[0m  1.0830\n"
     ]
    },
    {
     "name": "stdout",
     "output_type": "stream",
     "text": [
      "      5        \u001b[36m0.6808\u001b[0m       \u001b[32m0.8730\u001b[0m        \u001b[35m0.5334\u001b[0m  1.0828\n"
     ]
    },
    {
     "name": "stdout",
     "output_type": "stream",
     "text": [
      "      6        \u001b[36m0.6189\u001b[0m       \u001b[32m0.8800\u001b[0m        \u001b[35m0.4863\u001b[0m  1.0870\n"
     ]
    },
    {
     "name": "stdout",
     "output_type": "stream",
     "text": [
      "      7        \u001b[36m0.5767\u001b[0m       \u001b[32m0.8857\u001b[0m        \u001b[35m0.4526\u001b[0m  1.0852\n"
     ]
    },
    {
     "name": "stdout",
     "output_type": "stream",
     "text": [
      "      8        \u001b[36m0.5462\u001b[0m       \u001b[32m0.8908\u001b[0m        \u001b[35m0.4283\u001b[0m  1.0827\n"
     ]
    },
    {
     "name": "stdout",
     "output_type": "stream",
     "text": [
      "      9        \u001b[36m0.5211\u001b[0m       \u001b[32m0.8927\u001b[0m        \u001b[35m0.4091\u001b[0m  1.0870\n"
     ]
    },
    {
     "name": "stdout",
     "output_type": "stream",
     "text": [
      "     10        \u001b[36m0.4982\u001b[0m       \u001b[32m0.8952\u001b[0m        \u001b[35m0.3927\u001b[0m  1.0838\n"
     ]
    },
    {
     "name": "stdout",
     "output_type": "stream",
     "text": [
      "  epoch    train_loss    valid_acc    valid_loss     dur\n",
      "-------  ------------  -----------  ------------  ------\n",
      "      1        \u001b[36m1.9885\u001b[0m       \u001b[32m0.7400\u001b[0m        \u001b[35m1.5632\u001b[0m  1.0845\n"
     ]
    },
    {
     "name": "stdout",
     "output_type": "stream",
     "text": [
      "      2        \u001b[36m1.2746\u001b[0m       \u001b[32m0.8115\u001b[0m        \u001b[35m0.9512\u001b[0m  1.0804\n"
     ]
    },
    {
     "name": "stdout",
     "output_type": "stream",
     "text": [
      "      3        \u001b[36m0.9054\u001b[0m       \u001b[32m0.8456\u001b[0m        \u001b[35m0.7094\u001b[0m  1.0805\n"
     ]
    },
    {
     "name": "stdout",
     "output_type": "stream",
     "text": [
      "      4        \u001b[36m0.7449\u001b[0m       \u001b[32m0.8624\u001b[0m        \u001b[35m0.5958\u001b[0m  1.0802\n"
     ]
    },
    {
     "name": "stdout",
     "output_type": "stream",
     "text": [
      "      5        \u001b[36m0.6595\u001b[0m       \u001b[32m0.8720\u001b[0m        \u001b[35m0.5301\u001b[0m  1.0802\n"
     ]
    },
    {
     "name": "stdout",
     "output_type": "stream",
     "text": [
      "      6        \u001b[36m0.6038\u001b[0m       \u001b[32m0.8797\u001b[0m        \u001b[35m0.4865\u001b[0m  1.0808\n"
     ]
    },
    {
     "name": "stdout",
     "output_type": "stream",
     "text": [
      "      7        \u001b[36m0.5587\u001b[0m       \u001b[32m0.8853\u001b[0m        \u001b[35m0.4545\u001b[0m  1.0823\n"
     ]
    },
    {
     "name": "stdout",
     "output_type": "stream",
     "text": [
      "      8        \u001b[36m0.5315\u001b[0m       \u001b[32m0.8893\u001b[0m        \u001b[35m0.4306\u001b[0m  1.0809\n"
     ]
    },
    {
     "name": "stdout",
     "output_type": "stream",
     "text": [
      "      9        \u001b[36m0.5071\u001b[0m       \u001b[32m0.8929\u001b[0m        \u001b[35m0.4115\u001b[0m  1.0810\n"
     ]
    },
    {
     "name": "stdout",
     "output_type": "stream",
     "text": [
      "     10        \u001b[36m0.4836\u001b[0m       \u001b[32m0.8961\u001b[0m        \u001b[35m0.3956\u001b[0m  1.0812\n"
     ]
    },
    {
     "name": "stdout",
     "output_type": "stream",
     "text": [
      "  epoch    train_loss    valid_acc    valid_loss     dur\n",
      "-------  ------------  -----------  ------------  ------\n",
      "      1        \u001b[36m2.0183\u001b[0m       \u001b[32m0.7145\u001b[0m        \u001b[35m1.6244\u001b[0m  1.0820\n"
     ]
    },
    {
     "name": "stdout",
     "output_type": "stream",
     "text": [
      "      2        \u001b[36m1.3312\u001b[0m       \u001b[32m0.8181\u001b[0m        \u001b[35m0.9886\u001b[0m  1.0856\n"
     ]
    },
    {
     "name": "stdout",
     "output_type": "stream",
     "text": [
      "      3        \u001b[36m0.9403\u001b[0m       \u001b[32m0.8519\u001b[0m        \u001b[35m0.7252\u001b[0m  1.1049\n"
     ]
    },
    {
     "name": "stdout",
     "output_type": "stream",
     "text": [
      "      4        \u001b[36m0.7680\u001b[0m       \u001b[32m0.8679\u001b[0m        \u001b[35m0.6009\u001b[0m  1.0834\n"
     ]
    },
    {
     "name": "stdout",
     "output_type": "stream",
     "text": [
      "      5        \u001b[36m0.6751\u001b[0m       \u001b[32m0.8782\u001b[0m        \u001b[35m0.5304\u001b[0m  1.0850\n"
     ]
    },
    {
     "name": "stdout",
     "output_type": "stream",
     "text": [
      "      6        \u001b[36m0.6108\u001b[0m       \u001b[32m0.8843\u001b[0m        \u001b[35m0.4827\u001b[0m  1.0833\n"
     ]
    },
    {
     "name": "stdout",
     "output_type": "stream",
     "text": [
      "      7        \u001b[36m0.5672\u001b[0m       \u001b[32m0.8888\u001b[0m        \u001b[35m0.4495\u001b[0m  1.0850\n"
     ]
    },
    {
     "name": "stdout",
     "output_type": "stream",
     "text": [
      "      8        \u001b[36m0.5334\u001b[0m       \u001b[32m0.8939\u001b[0m        \u001b[35m0.4240\u001b[0m  1.0883\n"
     ]
    },
    {
     "name": "stdout",
     "output_type": "stream",
     "text": [
      "      9        \u001b[36m0.5080\u001b[0m       \u001b[32m0.8959\u001b[0m        \u001b[35m0.4042\u001b[0m  1.0829\n"
     ]
    },
    {
     "name": "stdout",
     "output_type": "stream",
     "text": [
      "     10        \u001b[36m0.4814\u001b[0m       \u001b[32m0.8992\u001b[0m        \u001b[35m0.3876\u001b[0m  1.0833\n"
     ]
    },
    {
     "name": "stdout",
     "output_type": "stream",
     "text": [
      "  epoch    train_loss    valid_acc    valid_loss     dur\n",
      "-------  ------------  -----------  ------------  ------\n",
      "      1        \u001b[36m1.9104\u001b[0m       \u001b[32m0.7615\u001b[0m        \u001b[35m1.3843\u001b[0m  1.3295\n"
     ]
    },
    {
     "name": "stdout",
     "output_type": "stream",
     "text": [
      "      2        \u001b[36m1.1213\u001b[0m       \u001b[32m0.8433\u001b[0m        \u001b[35m0.7953\u001b[0m  1.3331\n"
     ]
    },
    {
     "name": "stdout",
     "output_type": "stream",
     "text": [
      "      3        \u001b[36m0.7859\u001b[0m       \u001b[32m0.8717\u001b[0m        \u001b[35m0.5867\u001b[0m  1.3314\n"
     ]
    },
    {
     "name": "stdout",
     "output_type": "stream",
     "text": [
      "      4        \u001b[36m0.6430\u001b[0m       \u001b[32m0.8879\u001b[0m        \u001b[35m0.4850\u001b[0m  1.3302\n"
     ]
    },
    {
     "name": "stdout",
     "output_type": "stream",
     "text": [
      "      5        \u001b[36m0.5605\u001b[0m       \u001b[32m0.8960\u001b[0m        \u001b[35m0.4255\u001b[0m  1.3370\n"
     ]
    },
    {
     "name": "stdout",
     "output_type": "stream",
     "text": [
      "      6        \u001b[36m0.5057\u001b[0m       \u001b[32m0.9014\u001b[0m        \u001b[35m0.3854\u001b[0m  1.3293\n"
     ]
    },
    {
     "name": "stdout",
     "output_type": "stream",
     "text": [
      "      7        \u001b[36m0.4675\u001b[0m       \u001b[32m0.9066\u001b[0m        \u001b[35m0.3565\u001b[0m  1.3323\n"
     ]
    },
    {
     "name": "stdout",
     "output_type": "stream",
     "text": [
      "      8        \u001b[36m0.4360\u001b[0m       \u001b[32m0.9116\u001b[0m        \u001b[35m0.3351\u001b[0m  1.3308\n"
     ]
    },
    {
     "name": "stdout",
     "output_type": "stream",
     "text": [
      "      9        \u001b[36m0.4146\u001b[0m       \u001b[32m0.9138\u001b[0m        \u001b[35m0.3181\u001b[0m  1.3319\n"
     ]
    },
    {
     "name": "stdout",
     "output_type": "stream",
     "text": [
      "     10        \u001b[36m0.3929\u001b[0m       \u001b[32m0.9172\u001b[0m        \u001b[35m0.3034\u001b[0m  1.3305\n"
     ]
    }
   ],
   "source": [
    "_ = clf.fit(X_train, y_train.to_numpy())"
   ]
  },
  {
   "cell_type": "markdown",
   "metadata": {},
   "source": [
    "## 9. Evaluate the robust model's performance"
   ]
  },
  {
   "cell_type": "code",
   "execution_count": 18,
   "metadata": {
    "execution": {
     "iopub.execute_input": "2022-03-08T23:00:41.359467Z",
     "iopub.status.busy": "2022-03-08T23:00:41.359313Z",
     "iopub.status.idle": "2022-03-08T23:00:41.591187Z",
     "shell.execute_reply": "2022-03-08T23:00:41.590702Z"
    }
   },
   "outputs": [
    {
     "data": {
      "text/plain": [
       "0.8962857142857142"
      ]
     },
     "execution_count": 18,
     "metadata": {},
     "output_type": "execute_result"
    }
   ],
   "source": [
    "from sklearn.metrics import accuracy_score\n",
    "\n",
    "y_pred = clf.predict(X_test)\n",
    "accuracy_score(y_test, y_pred)"
   ]
  },
  {
   "cell_type": "markdown",
   "metadata": {},
   "source": [
    "## What's next?"
   ]
  },
  {
   "cell_type": "markdown",
   "metadata": {},
   "source": [
    "Congratulations on completing this tutorial! Check out our following tutorial on using Cleanlab for text classification, where we found ``hundreds`` of potential label errors in one of the most well-known text datasets, the IMBDb movie review dataset!"
   ]
  }
 ],
 "metadata": {
  "interpreter": {
   "hash": "ced20e3e49bb4fa4ce8ad38f8f2535b7fc4c39b2b89554502b5dbdad1ad67eda"
  },
  "kernelspec": {
   "display_name": "Python 3.10.0 64-bit",
   "language": "python",
   "name": "python3"
  },
  "language_info": {
   "codemirror_mode": {
    "name": "ipython",
    "version": 3
   },
   "file_extension": ".py",
   "mimetype": "text/x-python",
   "name": "python",
   "nbconvert_exporter": "python",
   "pygments_lexer": "ipython3",
   "version": "3.8.12"
  }
 },
 "nbformat": 4,
 "nbformat_minor": 2
}
