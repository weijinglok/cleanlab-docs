{
 "cells": [
  {
   "cell_type": "markdown",
   "metadata": {},
   "source": [
    "# Image Classification with Cleanlab, PyTorch & Skorch"
   ]
  },
  {
   "cell_type": "markdown",
   "metadata": {},
   "source": [
    "This tutorial will use Cleanlab to find potential label errors in the MNIST handwritten digit image dataset. This dataset contains 60,000 images of handwritten digits from 0 to 9. We'll find *more than a thousand* highly suspicious examples with label errors and edge cases by the end of this tutorial. \n",
    "\n",
    "**Overview of what we'll do in this tutorial:**\n",
    "\n",
    "- Build a simple PyTorch neural net and wrap it with Skorch to make it scikit-learn compatible.\n",
    "\n",
    "- Compute the cross-validated predicted probabilities, ``pyx``, sometimes known as the out-of-sample predicted probabilities.\n",
    "\n",
    "- Generate a list of potential label errors with Cleanlab's ``get_noise_indices``.\n",
    "\n",
    "- Build and train a more robust model than the vanilla model after adapting it with Cleanlab's ``LearningWithNoisyLabels``. \n",
    "\n",
    "**Data:** https://www.openml.org/d/554"
   ]
  },
  {
   "cell_type": "markdown",
   "metadata": {},
   "source": [
    "## 1. Install the required dependencies"
   ]
  },
  {
   "cell_type": "markdown",
   "metadata": {},
   "source": [
    "``%%capture`` is a magic function to hides the cell's output."
   ]
  },
  {
   "cell_type": "code",
   "execution_count": 1,
   "metadata": {
    "execution": {
     "iopub.execute_input": "2022-03-09T00:45:47.957700Z",
     "iopub.status.busy": "2022-03-09T00:45:47.957236Z",
     "iopub.status.idle": "2022-03-09T00:46:23.190830Z",
     "shell.execute_reply": "2022-03-09T00:46:23.189830Z"
    }
   },
   "outputs": [],
   "source": [
    "%%capture\n",
    "\n",
    "%pip install cleanlab pandas matplotlib torch torchvision skorch"
   ]
  },
  {
   "cell_type": "markdown",
   "metadata": {},
   "source": [
    "## 2. Fetch and scale the MNIST dataset"
   ]
  },
  {
   "cell_type": "code",
   "execution_count": 2,
   "metadata": {
    "execution": {
     "iopub.execute_input": "2022-03-09T00:46:23.195113Z",
     "iopub.status.busy": "2022-03-09T00:46:23.194884Z",
     "iopub.status.idle": "2022-03-09T00:48:31.426365Z",
     "shell.execute_reply": "2022-03-09T00:48:31.425521Z"
    }
   },
   "outputs": [],
   "source": [
    "from sklearn.datasets import fetch_openml\n",
    "\n",
    "# Fetch the MNIST dataset\n",
    "mnist = fetch_openml('mnist_784')\n",
    "\n",
    "# Assign the data features and labels to variable X and y respectively \n",
    "X = mnist.data.astype('float32')\n",
    "y = mnist.target.astype('int64')\n"
   ]
  },
  {
   "cell_type": "markdown",
   "metadata": {},
   "source": [
    "<div class=\"alert alert-info\">\n",
    "\n",
    "Bringing Your Own Data (BYOD)?\n",
    "\n",
    "Assign your data's features to variable ``X`` and its labels to variable ``y`` instead.\n",
    "\n",
    "</div>"
   ]
  },
  {
   "cell_type": "code",
   "execution_count": 3,
   "metadata": {
    "execution": {
     "iopub.execute_input": "2022-03-09T00:48:31.430121Z",
     "iopub.status.busy": "2022-03-09T00:48:31.429898Z",
     "iopub.status.idle": "2022-03-09T00:48:31.617790Z",
     "shell.execute_reply": "2022-03-09T00:48:31.616942Z"
    }
   },
   "outputs": [],
   "source": [
    "\n",
    "# Scale the features which range from 0 to 255 (256 levels on the grayscale) \n",
    "X /= 255.0\n",
    "\n",
    "# Then convert it to a numpy array\n",
    "X = X.to_numpy()"
   ]
  },
  {
   "cell_type": "markdown",
   "metadata": {},
   "source": [
    "## 3. Define a classification model"
   ]
  },
  {
   "cell_type": "markdown",
   "metadata": {},
   "source": [
    "Here, we define a simple neural network with PyTorch."
   ]
  },
  {
   "cell_type": "code",
   "execution_count": 4,
   "metadata": {
    "execution": {
     "iopub.execute_input": "2022-03-09T00:48:31.621643Z",
     "iopub.status.busy": "2022-03-09T00:48:31.621423Z",
     "iopub.status.idle": "2022-03-09T00:48:32.481671Z",
     "shell.execute_reply": "2022-03-09T00:48:32.480760Z"
    }
   },
   "outputs": [],
   "source": [
    "from torch import nn\n",
    "\n",
    "class NeuralNetwork(nn.Module):\n",
    "    def __init__(self):\n",
    "        super(NeuralNetwork, self).__init__()\n",
    "        self.dropout = nn.Dropout(0.5)\n",
    "        self.hidden = nn.Linear(28*28, 128)\n",
    "        self.output = nn.Linear(128, 10)\n",
    "\n",
    "    def forward(self, X):\n",
    "        X = nn.functional.relu(self.hidden(X))\n",
    "        X = self.dropout(X)\n",
    "        X = nn.functional.softmax(self.output(X), dim=-1)\n",
    "        return X"
   ]
  },
  {
   "cell_type": "markdown",
   "metadata": {},
   "source": [
    "## 4. Wrap with Skorch for scikit-learn compatibility"
   ]
  },
  {
   "cell_type": "markdown",
   "metadata": {},
   "source": [
    "As some of Cleanlab's feature requires scikit-learn compatibility, we will need to adapt the above PyTorch neural net accordingly. Skorch is a convenient package that helps with this, read more about it here: https://skorch.readthedocs.io"
   ]
  },
  {
   "cell_type": "code",
   "execution_count": 5,
   "metadata": {
    "execution": {
     "iopub.execute_input": "2022-03-09T00:48:32.485545Z",
     "iopub.status.busy": "2022-03-09T00:48:32.485158Z",
     "iopub.status.idle": "2022-03-09T00:48:32.624244Z",
     "shell.execute_reply": "2022-03-09T00:48:32.623476Z"
    }
   },
   "outputs": [],
   "source": [
    "from skorch import NeuralNetClassifier\n",
    "\n",
    "# Wrap the PyTorch neural net around Skorch's NeuralNetClassifier wrapper\n",
    "net = NeuralNetClassifier(NeuralNetwork)"
   ]
  },
  {
   "cell_type": "markdown",
   "metadata": {},
   "source": [
    "## 5. Compute the cross-validated predicted probabilities"
   ]
  },
  {
   "cell_type": "markdown",
   "metadata": {},
   "source": [
    "If we'd like Cleanlab to identify potential label errors in the whole dataset and not just the training set, we can consider fitting the entire dataset. We will only use this model instance to compute the cross-validated predicted probabilities, ``pyx``, and not for model evaluation."
   ]
  },
  {
   "cell_type": "code",
   "execution_count": 6,
   "metadata": {
    "execution": {
     "iopub.execute_input": "2022-03-09T00:48:32.627885Z",
     "iopub.status.busy": "2022-03-09T00:48:32.627661Z",
     "iopub.status.idle": "2022-03-09T00:48:55.403269Z",
     "shell.execute_reply": "2022-03-09T00:48:55.402423Z"
    }
   },
   "outputs": [
    {
     "name": "stdout",
     "output_type": "stream",
     "text": [
      "  epoch    train_loss    valid_acc    valid_loss     dur\n",
      "-------  ------------  -----------  ------------  ------\n",
      "      1        \u001b[36m1.8211\u001b[0m       \u001b[32m0.7729\u001b[0m        \u001b[35m1.2212\u001b[0m  2.3086\n"
     ]
    },
    {
     "name": "stdout",
     "output_type": "stream",
     "text": [
      "      2        \u001b[36m1.0187\u001b[0m       \u001b[32m0.8360\u001b[0m        \u001b[35m0.7208\u001b[0m  2.2454\n"
     ]
    },
    {
     "name": "stdout",
     "output_type": "stream",
     "text": [
      "      3        \u001b[36m0.7425\u001b[0m       \u001b[32m0.8609\u001b[0m        \u001b[35m0.5605\u001b[0m  2.2496\n"
     ]
    },
    {
     "name": "stdout",
     "output_type": "stream",
     "text": [
      "      4        \u001b[36m0.6285\u001b[0m       \u001b[32m0.8776\u001b[0m        \u001b[35m0.4839\u001b[0m  2.3585\n"
     ]
    },
    {
     "name": "stdout",
     "output_type": "stream",
     "text": [
      "      5        \u001b[36m0.5627\u001b[0m       \u001b[32m0.8862\u001b[0m        \u001b[35m0.4368\u001b[0m  2.2169\n"
     ]
    },
    {
     "name": "stdout",
     "output_type": "stream",
     "text": [
      "      6        \u001b[36m0.5192\u001b[0m       \u001b[32m0.8910\u001b[0m        \u001b[35m0.4056\u001b[0m  2.2260\n"
     ]
    },
    {
     "name": "stdout",
     "output_type": "stream",
     "text": [
      "      7        \u001b[36m0.4854\u001b[0m       \u001b[32m0.8954\u001b[0m        \u001b[35m0.3828\u001b[0m  2.2538\n"
     ]
    },
    {
     "name": "stdout",
     "output_type": "stream",
     "text": [
      "      8        \u001b[36m0.4615\u001b[0m       \u001b[32m0.9000\u001b[0m        \u001b[35m0.3630\u001b[0m  2.2555\n"
     ]
    },
    {
     "name": "stdout",
     "output_type": "stream",
     "text": [
      "      9        \u001b[36m0.4412\u001b[0m       \u001b[32m0.9032\u001b[0m        \u001b[35m0.3485\u001b[0m  2.2245\n"
     ]
    },
    {
     "name": "stdout",
     "output_type": "stream",
     "text": [
      "     10        \u001b[36m0.4222\u001b[0m       \u001b[32m0.9065\u001b[0m        \u001b[35m0.3353\u001b[0m  2.3117\n"
     ]
    }
   ],
   "source": [
    "_ = net.fit(X, y)"
   ]
  },
  {
   "cell_type": "markdown",
   "metadata": {},
   "source": [
    "Compute the cross-validated predicted probabilities, ``pyx``, sometimes also known as the out-of-sample predicted probabilities."
   ]
  },
  {
   "cell_type": "code",
   "execution_count": 7,
   "metadata": {
    "execution": {
     "iopub.execute_input": "2022-03-09T00:48:55.407209Z",
     "iopub.status.busy": "2022-03-09T00:48:55.406797Z",
     "iopub.status.idle": "2022-03-09T00:49:26.352255Z",
     "shell.execute_reply": "2022-03-09T00:49:26.351497Z"
    }
   },
   "outputs": [
    {
     "name": "stdout",
     "output_type": "stream",
     "text": [
      "  epoch    train_loss    valid_acc    valid_loss     dur\n",
      "-------  ------------  -----------  ------------  ------\n",
      "      1        \u001b[36m2.0058\u001b[0m       \u001b[32m0.7025\u001b[0m        \u001b[35m1.6072\u001b[0m  0.9631\n"
     ]
    },
    {
     "name": "stdout",
     "output_type": "stream",
     "text": [
      "      2        \u001b[36m1.2900\u001b[0m       \u001b[32m0.7941\u001b[0m        \u001b[35m0.9815\u001b[0m  0.9754\n"
     ]
    },
    {
     "name": "stdout",
     "output_type": "stream",
     "text": [
      "      3        \u001b[36m0.9011\u001b[0m       \u001b[32m0.8290\u001b[0m        \u001b[35m0.7326\u001b[0m  1.0479\n"
     ]
    },
    {
     "name": "stdout",
     "output_type": "stream",
     "text": [
      "      4        \u001b[36m0.7351\u001b[0m       \u001b[32m0.8478\u001b[0m        \u001b[35m0.6169\u001b[0m  0.9389\n"
     ]
    },
    {
     "name": "stdout",
     "output_type": "stream",
     "text": [
      "      5        \u001b[36m0.6481\u001b[0m       \u001b[32m0.8615\u001b[0m        \u001b[35m0.5486\u001b[0m  1.0494\n"
     ]
    },
    {
     "name": "stdout",
     "output_type": "stream",
     "text": [
      "      6        \u001b[36m0.5894\u001b[0m       \u001b[32m0.8682\u001b[0m        \u001b[35m0.5044\u001b[0m  0.9759\n"
     ]
    },
    {
     "name": "stdout",
     "output_type": "stream",
     "text": [
      "      7        \u001b[36m0.5472\u001b[0m       \u001b[32m0.8730\u001b[0m        \u001b[35m0.4735\u001b[0m  0.9870\n"
     ]
    },
    {
     "name": "stdout",
     "output_type": "stream",
     "text": [
      "      8        \u001b[36m0.5145\u001b[0m       \u001b[32m0.8767\u001b[0m        \u001b[35m0.4477\u001b[0m  0.9269\n"
     ]
    },
    {
     "name": "stdout",
     "output_type": "stream",
     "text": [
      "      9        \u001b[36m0.4938\u001b[0m       \u001b[32m0.8790\u001b[0m        \u001b[35m0.4299\u001b[0m  0.9493\n"
     ]
    },
    {
     "name": "stdout",
     "output_type": "stream",
     "text": [
      "     10        \u001b[36m0.4727\u001b[0m       \u001b[32m0.8831\u001b[0m        \u001b[35m0.4135\u001b[0m  0.9653\n"
     ]
    },
    {
     "name": "stdout",
     "output_type": "stream",
     "text": [
      "  epoch    train_loss    valid_acc    valid_loss     dur\n",
      "-------  ------------  -----------  ------------  ------\n",
      "      1        \u001b[36m2.0104\u001b[0m       \u001b[32m0.7394\u001b[0m        \u001b[35m1.6023\u001b[0m  0.9451\n"
     ]
    },
    {
     "name": "stdout",
     "output_type": "stream",
     "text": [
      "      2        \u001b[36m1.2914\u001b[0m       \u001b[32m0.8059\u001b[0m        \u001b[35m0.9536\u001b[0m  0.9508\n"
     ]
    },
    {
     "name": "stdout",
     "output_type": "stream",
     "text": [
      "      3        \u001b[36m0.9059\u001b[0m       \u001b[32m0.8392\u001b[0m        \u001b[35m0.7045\u001b[0m  0.9396\n"
     ]
    },
    {
     "name": "stdout",
     "output_type": "stream",
     "text": [
      "      4        \u001b[36m0.7394\u001b[0m       \u001b[32m0.8553\u001b[0m        \u001b[35m0.5892\u001b[0m  0.9514\n"
     ]
    },
    {
     "name": "stdout",
     "output_type": "stream",
     "text": [
      "      5        \u001b[36m0.6494\u001b[0m       \u001b[32m0.8674\u001b[0m        \u001b[35m0.5220\u001b[0m  0.9888\n"
     ]
    },
    {
     "name": "stdout",
     "output_type": "stream",
     "text": [
      "      6        \u001b[36m0.5890\u001b[0m       \u001b[32m0.8780\u001b[0m        \u001b[35m0.4765\u001b[0m  0.9571\n"
     ]
    },
    {
     "name": "stdout",
     "output_type": "stream",
     "text": [
      "      7        \u001b[36m0.5514\u001b[0m       \u001b[32m0.8840\u001b[0m        \u001b[35m0.4454\u001b[0m  0.9564\n"
     ]
    },
    {
     "name": "stdout",
     "output_type": "stream",
     "text": [
      "      8        \u001b[36m0.5202\u001b[0m       \u001b[32m0.8876\u001b[0m        \u001b[35m0.4210\u001b[0m  0.9479\n"
     ]
    },
    {
     "name": "stdout",
     "output_type": "stream",
     "text": [
      "      9        \u001b[36m0.4929\u001b[0m       \u001b[32m0.8917\u001b[0m        \u001b[35m0.4008\u001b[0m  0.9816\n"
     ]
    },
    {
     "name": "stdout",
     "output_type": "stream",
     "text": [
      "     10        \u001b[36m0.4712\u001b[0m       \u001b[32m0.8949\u001b[0m        \u001b[35m0.3849\u001b[0m  1.0011\n"
     ]
    },
    {
     "name": "stdout",
     "output_type": "stream",
     "text": [
      "  epoch    train_loss    valid_acc    valid_loss     dur\n",
      "-------  ------------  -----------  ------------  ------\n",
      "      1        \u001b[36m2.0142\u001b[0m       \u001b[32m0.7388\u001b[0m        \u001b[35m1.6035\u001b[0m  1.0048\n"
     ]
    },
    {
     "name": "stdout",
     "output_type": "stream",
     "text": [
      "      2        \u001b[36m1.3167\u001b[0m       \u001b[32m0.8064\u001b[0m        \u001b[35m0.9633\u001b[0m  0.9715\n"
     ]
    },
    {
     "name": "stdout",
     "output_type": "stream",
     "text": [
      "      3        \u001b[36m0.9311\u001b[0m       \u001b[32m0.8411\u001b[0m        \u001b[35m0.7108\u001b[0m  0.9556\n"
     ]
    },
    {
     "name": "stdout",
     "output_type": "stream",
     "text": [
      "      4        \u001b[36m0.7657\u001b[0m       \u001b[32m0.8564\u001b[0m        \u001b[35m0.5945\u001b[0m  0.9395\n"
     ]
    },
    {
     "name": "stdout",
     "output_type": "stream",
     "text": [
      "      5        \u001b[36m0.6735\u001b[0m       \u001b[32m0.8698\u001b[0m        \u001b[35m0.5251\u001b[0m  0.9495\n"
     ]
    },
    {
     "name": "stdout",
     "output_type": "stream",
     "text": [
      "      6        \u001b[36m0.6107\u001b[0m       \u001b[32m0.8783\u001b[0m        \u001b[35m0.4788\u001b[0m  0.9587\n"
     ]
    },
    {
     "name": "stdout",
     "output_type": "stream",
     "text": [
      "      7        \u001b[36m0.5738\u001b[0m       \u001b[32m0.8848\u001b[0m        \u001b[35m0.4467\u001b[0m  0.9990\n"
     ]
    },
    {
     "name": "stdout",
     "output_type": "stream",
     "text": [
      "      8        \u001b[36m0.5385\u001b[0m       \u001b[32m0.8902\u001b[0m        \u001b[35m0.4209\u001b[0m  0.9651\n"
     ]
    },
    {
     "name": "stdout",
     "output_type": "stream",
     "text": [
      "      9        \u001b[36m0.5092\u001b[0m       \u001b[32m0.8930\u001b[0m        \u001b[35m0.4013\u001b[0m  1.0103\n"
     ]
    },
    {
     "name": "stdout",
     "output_type": "stream",
     "text": [
      "     10        \u001b[36m0.4890\u001b[0m       \u001b[32m0.8963\u001b[0m        \u001b[35m0.3858\u001b[0m  0.9843\n"
     ]
    }
   ],
   "source": [
    "from sklearn.model_selection import cross_val_predict\n",
    "\n",
    "pyx = cross_val_predict(net, X, y, cv=3, method='predict_proba')"
   ]
  },
  {
   "cell_type": "markdown",
   "metadata": {},
   "source": [
    "## 6. Run Cleanlab to find potential label errors"
   ]
  },
  {
   "cell_type": "markdown",
   "metadata": {},
   "source": [
    "Cleanlab has a ``get_noise_indices`` function to generate a list of potential label errors. Setting ``sorted_index_method=\"prob_given_label\"`` returns the indices of all the most likely label errors, sorted by the most suspicious example first."
   ]
  },
  {
   "cell_type": "code",
   "execution_count": 8,
   "metadata": {
    "execution": {
     "iopub.execute_input": "2022-03-09T00:49:26.356413Z",
     "iopub.status.busy": "2022-03-09T00:49:26.356027Z",
     "iopub.status.idle": "2022-03-09T00:49:26.877946Z",
     "shell.execute_reply": "2022-03-09T00:49:26.876934Z"
    }
   },
   "outputs": [],
   "source": [
    "from cleanlab.pruning import get_noise_indices\n",
    "\n",
    "ordered_label_errors = get_noise_indices(\n",
    "    s=y,\n",
    "    psx=pyx,\n",
    "    sorted_index_method=\"prob_given_label\"\n",
    ")"
   ]
  },
  {
   "cell_type": "markdown",
   "metadata": {},
   "source": [
    "## 7. Review some of the most likely mislabeled examples"
   ]
  },
  {
   "cell_type": "code",
   "execution_count": 9,
   "metadata": {
    "execution": {
     "iopub.execute_input": "2022-03-09T00:49:26.882253Z",
     "iopub.status.busy": "2022-03-09T00:49:26.881808Z",
     "iopub.status.idle": "2022-03-09T00:49:26.888913Z",
     "shell.execute_reply": "2022-03-09T00:49:26.887327Z"
    }
   },
   "outputs": [
    {
     "name": "stdout",
     "output_type": "stream",
     "text": [
      "Cleanlab found 1262 potential label errors. Here are the indices of the top 15 most likely ones: \n",
      " [24798  8729 18598 31134  1352 15942 61790 59915 53216 20820 12679 66091\n",
      "  7010 39457 20735]\n"
     ]
    }
   ],
   "source": [
    "print(f\"Cleanlab found {len(ordered_label_errors)} potential label errors. Here are the indices of the top 15 most likely ones: \\n {ordered_label_errors[:15]}\")"
   ]
  },
  {
   "cell_type": "markdown",
   "metadata": {},
   "source": [
    "We'll define a new ``plot_examples`` function to display any examples in a subplot conveniently."
   ]
  },
  {
   "cell_type": "code",
   "execution_count": 10,
   "metadata": {
    "execution": {
     "iopub.execute_input": "2022-03-09T00:49:26.893029Z",
     "iopub.status.busy": "2022-03-09T00:49:26.892700Z",
     "iopub.status.idle": "2022-03-09T00:49:27.961697Z",
     "shell.execute_reply": "2022-03-09T00:49:27.960649Z"
    }
   },
   "outputs": [],
   "source": [
    "import matplotlib.pyplot as plt\n",
    "\n",
    "def plot_examples(id_iter, nrows=1, ncols=1):\n",
    "    for count, id in enumerate(id_iter):\n",
    "        plt.subplot(nrows, ncols, count+1)\n",
    "        plt.imshow(X[id].reshape(28, 28))\n",
    "        plt.title(f\"id: {id} \\n label: {y[id]}\")\n",
    "        plt.axis('off')\n",
    "\n",
    "    plt.tight_layout(h_pad=2.0)"
   ]
  },
  {
   "cell_type": "markdown",
   "metadata": {},
   "source": [
    "Let's start by having an overview of the top 15 most likely label errors. From here, we can see a few label errors and edge cases. Feel free to change the parameters to display more or fewer examples. "
   ]
  },
  {
   "cell_type": "code",
   "execution_count": 11,
   "metadata": {
    "execution": {
     "iopub.execute_input": "2022-03-09T00:49:27.967298Z",
     "iopub.status.busy": "2022-03-09T00:49:27.965854Z",
     "iopub.status.idle": "2022-03-09T00:49:28.618389Z",
     "shell.execute_reply": "2022-03-09T00:49:28.617122Z"
    }
   },
   "outputs": [
    {
     "data": {
      "image/png": "[encoded data removed]",
      "text/plain": [
       "<Figure size 432x288 with 15 Axes>"
      ]
     },
     "metadata": {
      "needs_background": "light"
     },
     "output_type": "display_data"
    }
   ],
   "source": [
    "plot_examples(ordered_label_errors[range(15)], 3, 5)"
   ]
  },
  {
   "cell_type": "markdown",
   "metadata": {},
   "source": [
    "Let's zoom into specific examples:"
   ]
  },
  {
   "cell_type": "markdown",
   "metadata": {},
   "source": [
    "Given label is **4** but looks more like a **7**"
   ]
  },
  {
   "cell_type": "code",
   "execution_count": 12,
   "metadata": {
    "execution": {
     "iopub.execute_input": "2022-03-09T00:49:28.622204Z",
     "iopub.status.busy": "2022-03-09T00:49:28.621691Z",
     "iopub.status.idle": "2022-03-09T00:49:28.692121Z",
     "shell.execute_reply": "2022-03-09T00:49:28.691495Z"
    }
   },
   "outputs": [
    {
     "data": {
      "image/png": "[encoded data removed]",
      "text/plain": [
       "<Figure size 432x288 with 1 Axes>"
      ]
     },
     "metadata": {
      "needs_background": "light"
     },
     "output_type": "display_data"
    }
   ],
   "source": [
    "plot_examples([59915])"
   ]
  },
  {
   "cell_type": "markdown",
   "metadata": {},
   "source": [
    "Given label is **4** but also looks like **9**"
   ]
  },
  {
   "cell_type": "code",
   "execution_count": 13,
   "metadata": {
    "execution": {
     "iopub.execute_input": "2022-03-09T00:49:28.695761Z",
     "iopub.status.busy": "2022-03-09T00:49:28.695183Z",
     "iopub.status.idle": "2022-03-09T00:49:28.767675Z",
     "shell.execute_reply": "2022-03-09T00:49:28.767052Z"
    }
   },
   "outputs": [
    {
     "data": {
      "image/png": "[encoded data removed]",
      "text/plain": [
       "<Figure size 432x288 with 1 Axes>"
      ]
     },
     "metadata": {
      "needs_background": "light"
     },
     "output_type": "display_data"
    }
   ],
   "source": [
    "plot_examples([24798])"
   ]
  },
  {
   "cell_type": "markdown",
   "metadata": {},
   "source": [
    "Edge case of odd looking **9**s"
   ]
  },
  {
   "cell_type": "code",
   "execution_count": 14,
   "metadata": {
    "execution": {
     "iopub.execute_input": "2022-03-09T00:49:28.771384Z",
     "iopub.status.busy": "2022-03-09T00:49:28.770816Z",
     "iopub.status.idle": "2022-03-09T00:49:29.045815Z",
     "shell.execute_reply": "2022-03-09T00:49:29.044927Z"
    }
   },
   "outputs": [
    {
     "data": {
      "image/png": "[encoded data removed]",
      "text/plain": [
       "<Figure size 432x288 with 3 Axes>"
      ]
     },
     "metadata": {
      "needs_background": "light"
     },
     "output_type": "display_data"
    }
   ],
   "source": [
    "plot_examples([18598, 1352, 61247], 1, 3)"
   ]
  },
  {
   "cell_type": "markdown",
   "metadata": {},
   "source": [
    "Cleanlab has shortlisted the most likely label errors to speed up your data cleaning process. With this list, you can decide whether to fix label errors, augment edge cases or remove obscure examples. \n",
    "\n",
    "These human-in-the-loop processes may be time-consuming, so if you'd like Cleanlab to automatically remove these noisy examples and train a model directly on the partially mislabeled dataset, you're in luck! Cleanlab provides a ``LearningWithNoisyLabels`` wrapper to do precisely this:"
   ]
  },
  {
   "cell_type": "markdown",
   "metadata": {},
   "source": [
    "## 8. Adapt with Cleanlab's wrapper and train a more robust model"
   ]
  },
  {
   "cell_type": "markdown",
   "metadata": {},
   "source": [
    "First, we split the dataset into train and test subsets."
   ]
  },
  {
   "cell_type": "code",
   "execution_count": 15,
   "metadata": {
    "execution": {
     "iopub.execute_input": "2022-03-09T00:49:29.050775Z",
     "iopub.status.busy": "2022-03-09T00:49:29.049388Z",
     "iopub.status.idle": "2022-03-09T00:49:30.647183Z",
     "shell.execute_reply": "2022-03-09T00:49:30.646330Z"
    }
   },
   "outputs": [],
   "source": [
    "from sklearn.model_selection import train_test_split\n",
    "\n",
    "X_train, X_test, y_train, y_test = train_test_split(X, y, test_size=0.2)"
   ]
  },
  {
   "cell_type": "markdown",
   "metadata": {},
   "source": [
    "Re-instantiate a new scikit-learn compatible model with Skorch then wrap it with Cleanlab's ``LearningWithNoisyLabels`` wrapper."
   ]
  },
  {
   "cell_type": "code",
   "execution_count": 16,
   "metadata": {
    "execution": {
     "iopub.execute_input": "2022-03-09T00:49:30.651685Z",
     "iopub.status.busy": "2022-03-09T00:49:30.650771Z",
     "iopub.status.idle": "2022-03-09T00:49:30.655990Z",
     "shell.execute_reply": "2022-03-09T00:49:30.655299Z"
    }
   },
   "outputs": [],
   "source": [
    "from cleanlab.classification import LearningWithNoisyLabels\n",
    "\n",
    "net = NeuralNetClassifier(NeuralNetwork)\n",
    "clf = LearningWithNoisyLabels(clf=net)"
   ]
  },
  {
   "cell_type": "code",
   "execution_count": 17,
   "metadata": {
    "execution": {
     "iopub.execute_input": "2022-03-09T00:49:30.659373Z",
     "iopub.status.busy": "2022-03-09T00:49:30.659154Z",
     "iopub.status.idle": "2022-03-09T00:50:33.474963Z",
     "shell.execute_reply": "2022-03-09T00:50:33.474083Z"
    }
   },
   "outputs": [
    {
     "name": "stdout",
     "output_type": "stream",
     "text": [
      "  epoch    train_loss    valid_acc    valid_loss     dur\n",
      "-------  ------------  -----------  ------------  ------\n",
      "      1        \u001b[36m1.9848\u001b[0m       \u001b[32m0.7205\u001b[0m        \u001b[35m1.5580\u001b[0m  0.9759\n"
     ]
    },
    {
     "name": "stdout",
     "output_type": "stream",
     "text": [
      "      2        \u001b[36m1.2829\u001b[0m       \u001b[32m0.8183\u001b[0m        \u001b[35m0.9503\u001b[0m  0.9473\n"
     ]
    },
    {
     "name": "stdout",
     "output_type": "stream",
     "text": [
      "      3        \u001b[36m0.9161\u001b[0m       \u001b[32m0.8470\u001b[0m        \u001b[35m0.7075\u001b[0m  0.9682\n"
     ]
    },
    {
     "name": "stdout",
     "output_type": "stream",
     "text": [
      "      4        \u001b[36m0.7559\u001b[0m       \u001b[32m0.8636\u001b[0m        \u001b[35m0.5923\u001b[0m  0.9300\n"
     ]
    },
    {
     "name": "stdout",
     "output_type": "stream",
     "text": [
      "      5        \u001b[36m0.6668\u001b[0m       \u001b[32m0.8727\u001b[0m        \u001b[35m0.5252\u001b[0m  0.9386\n"
     ]
    },
    {
     "name": "stdout",
     "output_type": "stream",
     "text": [
      "      6        \u001b[36m0.6109\u001b[0m       \u001b[32m0.8798\u001b[0m        \u001b[35m0.4806\u001b[0m  0.9408\n"
     ]
    },
    {
     "name": "stdout",
     "output_type": "stream",
     "text": [
      "      7        \u001b[36m0.5663\u001b[0m       \u001b[32m0.8858\u001b[0m        \u001b[35m0.4479\u001b[0m  0.9543\n"
     ]
    },
    {
     "name": "stdout",
     "output_type": "stream",
     "text": [
      "      8        \u001b[36m0.5371\u001b[0m       \u001b[32m0.8885\u001b[0m        \u001b[35m0.4226\u001b[0m  0.9725\n"
     ]
    },
    {
     "name": "stdout",
     "output_type": "stream",
     "text": [
      "      9        \u001b[36m0.5149\u001b[0m       \u001b[32m0.8940\u001b[0m        \u001b[35m0.4033\u001b[0m  0.9306\n"
     ]
    },
    {
     "name": "stdout",
     "output_type": "stream",
     "text": [
      "     10        \u001b[36m0.4929\u001b[0m       \u001b[32m0.8963\u001b[0m        \u001b[35m0.3868\u001b[0m  0.9800\n"
     ]
    },
    {
     "name": "stdout",
     "output_type": "stream",
     "text": [
      "  epoch    train_loss    valid_acc    valid_loss     dur\n",
      "-------  ------------  -----------  ------------  ------\n",
      "      1        \u001b[36m2.0468\u001b[0m       \u001b[32m0.7174\u001b[0m        \u001b[35m1.6744\u001b[0m  0.9651\n"
     ]
    },
    {
     "name": "stdout",
     "output_type": "stream",
     "text": [
      "      2        \u001b[36m1.3712\u001b[0m       \u001b[32m0.8061\u001b[0m        \u001b[35m1.0174\u001b[0m  0.9815\n"
     ]
    },
    {
     "name": "stdout",
     "output_type": "stream",
     "text": [
      "      3        \u001b[36m0.9667\u001b[0m       \u001b[32m0.8420\u001b[0m        \u001b[35m0.7428\u001b[0m  0.9456\n"
     ]
    },
    {
     "name": "stdout",
     "output_type": "stream",
     "text": [
      "      4        \u001b[36m0.7892\u001b[0m       \u001b[32m0.8592\u001b[0m        \u001b[35m0.6149\u001b[0m  0.9338\n"
     ]
    },
    {
     "name": "stdout",
     "output_type": "stream",
     "text": [
      "      5        \u001b[36m0.6950\u001b[0m       \u001b[32m0.8691\u001b[0m        \u001b[35m0.5420\u001b[0m  0.9293\n"
     ]
    },
    {
     "name": "stdout",
     "output_type": "stream",
     "text": [
      "      6        \u001b[36m0.6273\u001b[0m       \u001b[32m0.8759\u001b[0m        \u001b[35m0.4929\u001b[0m  0.9666\n"
     ]
    },
    {
     "name": "stdout",
     "output_type": "stream",
     "text": [
      "      7        \u001b[36m0.5823\u001b[0m       \u001b[32m0.8816\u001b[0m        \u001b[35m0.4579\u001b[0m  1.0468\n"
     ]
    },
    {
     "name": "stdout",
     "output_type": "stream",
     "text": [
      "      8        \u001b[36m0.5469\u001b[0m       \u001b[32m0.8857\u001b[0m        \u001b[35m0.4316\u001b[0m  0.9822\n"
     ]
    },
    {
     "name": "stdout",
     "output_type": "stream",
     "text": [
      "      9        \u001b[36m0.5219\u001b[0m       \u001b[32m0.8893\u001b[0m        \u001b[35m0.4110\u001b[0m  0.9940\n"
     ]
    },
    {
     "name": "stdout",
     "output_type": "stream",
     "text": [
      "     10        \u001b[36m0.5001\u001b[0m       \u001b[32m0.8913\u001b[0m        \u001b[35m0.3941\u001b[0m  1.0417\n"
     ]
    },
    {
     "name": "stdout",
     "output_type": "stream",
     "text": [
      "  epoch    train_loss    valid_acc    valid_loss     dur\n",
      "-------  ------------  -----------  ------------  ------\n",
      "      1        \u001b[36m2.0229\u001b[0m       \u001b[32m0.7459\u001b[0m        \u001b[35m1.6330\u001b[0m  0.9525\n"
     ]
    },
    {
     "name": "stdout",
     "output_type": "stream",
     "text": [
      "      2        \u001b[36m1.3323\u001b[0m       \u001b[32m0.8164\u001b[0m        \u001b[35m0.9849\u001b[0m  0.9828\n"
     ]
    },
    {
     "name": "stdout",
     "output_type": "stream",
     "text": [
      "      3        \u001b[36m0.9385\u001b[0m       \u001b[32m0.8450\u001b[0m        \u001b[35m0.7223\u001b[0m  1.0470\n"
     ]
    },
    {
     "name": "stdout",
     "output_type": "stream",
     "text": [
      "      4        \u001b[36m0.7694\u001b[0m       \u001b[32m0.8615\u001b[0m        \u001b[35m0.6002\u001b[0m  0.9673\n"
     ]
    },
    {
     "name": "stdout",
     "output_type": "stream",
     "text": [
      "      5        \u001b[36m0.6768\u001b[0m       \u001b[32m0.8733\u001b[0m        \u001b[35m0.5302\u001b[0m  1.0403\n"
     ]
    },
    {
     "name": "stdout",
     "output_type": "stream",
     "text": [
      "      6        \u001b[36m0.6198\u001b[0m       \u001b[32m0.8792\u001b[0m        \u001b[35m0.4841\u001b[0m  0.9486\n"
     ]
    },
    {
     "name": "stdout",
     "output_type": "stream",
     "text": [
      "      7        \u001b[36m0.5788\u001b[0m       \u001b[32m0.8852\u001b[0m        \u001b[35m0.4516\u001b[0m  0.9714\n"
     ]
    },
    {
     "name": "stdout",
     "output_type": "stream",
     "text": [
      "      8        \u001b[36m0.5421\u001b[0m       \u001b[32m0.8886\u001b[0m        \u001b[35m0.4258\u001b[0m  0.9918\n"
     ]
    },
    {
     "name": "stdout",
     "output_type": "stream",
     "text": [
      "      9        \u001b[36m0.5200\u001b[0m       \u001b[32m0.8933\u001b[0m        \u001b[35m0.4062\u001b[0m  1.0072\n"
     ]
    },
    {
     "name": "stdout",
     "output_type": "stream",
     "text": [
      "     10        \u001b[36m0.4960\u001b[0m       \u001b[32m0.8960\u001b[0m        \u001b[35m0.3897\u001b[0m  1.0012\n"
     ]
    },
    {
     "name": "stdout",
     "output_type": "stream",
     "text": [
      "  epoch    train_loss    valid_acc    valid_loss     dur\n",
      "-------  ------------  -----------  ------------  ------\n",
      "      1        \u001b[36m1.9837\u001b[0m       \u001b[32m0.7508\u001b[0m        \u001b[35m1.5720\u001b[0m  1.0184\n"
     ]
    },
    {
     "name": "stdout",
     "output_type": "stream",
     "text": [
      "      2        \u001b[36m1.2884\u001b[0m       \u001b[32m0.8258\u001b[0m        \u001b[35m0.9516\u001b[0m  1.0198\n"
     ]
    },
    {
     "name": "stdout",
     "output_type": "stream",
     "text": [
      "      3        \u001b[36m0.9191\u001b[0m       \u001b[32m0.8496\u001b[0m        \u001b[35m0.7041\u001b[0m  0.9755\n"
     ]
    },
    {
     "name": "stdout",
     "output_type": "stream",
     "text": [
      "      4        \u001b[36m0.7542\u001b[0m       \u001b[32m0.8666\u001b[0m        \u001b[35m0.5875\u001b[0m  0.9462\n"
     ]
    },
    {
     "name": "stdout",
     "output_type": "stream",
     "text": [
      "      5        \u001b[36m0.6639\u001b[0m       \u001b[32m0.8735\u001b[0m        \u001b[35m0.5194\u001b[0m  0.9645\n"
     ]
    },
    {
     "name": "stdout",
     "output_type": "stream",
     "text": [
      "      6        \u001b[36m0.6031\u001b[0m       \u001b[32m0.8789\u001b[0m        \u001b[35m0.4739\u001b[0m  1.0006\n"
     ]
    },
    {
     "name": "stdout",
     "output_type": "stream",
     "text": [
      "      7        \u001b[36m0.5663\u001b[0m       \u001b[32m0.8852\u001b[0m        \u001b[35m0.4428\u001b[0m  0.9589\n"
     ]
    },
    {
     "name": "stdout",
     "output_type": "stream",
     "text": [
      "      8        \u001b[36m0.5314\u001b[0m       \u001b[32m0.8902\u001b[0m        \u001b[35m0.4189\u001b[0m  0.9783\n"
     ]
    },
    {
     "name": "stdout",
     "output_type": "stream",
     "text": [
      "      9        \u001b[36m0.5080\u001b[0m       \u001b[32m0.8939\u001b[0m        \u001b[35m0.3991\u001b[0m  0.9446\n"
     ]
    },
    {
     "name": "stdout",
     "output_type": "stream",
     "text": [
      "     10        \u001b[36m0.4864\u001b[0m       \u001b[32m0.8978\u001b[0m        \u001b[35m0.3828\u001b[0m  0.9704\n"
     ]
    },
    {
     "name": "stdout",
     "output_type": "stream",
     "text": [
      "  epoch    train_loss    valid_acc    valid_loss     dur\n",
      "-------  ------------  -----------  ------------  ------\n",
      "      1        \u001b[36m2.0109\u001b[0m       \u001b[32m0.7626\u001b[0m        \u001b[35m1.6016\u001b[0m  0.9720\n"
     ]
    },
    {
     "name": "stdout",
     "output_type": "stream",
     "text": [
      "      2        \u001b[36m1.3027\u001b[0m       \u001b[32m0.8251\u001b[0m        \u001b[35m0.9558\u001b[0m  0.9799\n"
     ]
    },
    {
     "name": "stdout",
     "output_type": "stream",
     "text": [
      "      3        \u001b[36m0.9245\u001b[0m       \u001b[32m0.8525\u001b[0m        \u001b[35m0.7039\u001b[0m  0.9722\n"
     ]
    },
    {
     "name": "stdout",
     "output_type": "stream",
     "text": [
      "      4        \u001b[36m0.7596\u001b[0m       \u001b[32m0.8648\u001b[0m        \u001b[35m0.5874\u001b[0m  0.9249\n"
     ]
    },
    {
     "name": "stdout",
     "output_type": "stream",
     "text": [
      "      5        \u001b[36m0.6676\u001b[0m       \u001b[32m0.8756\u001b[0m        \u001b[35m0.5188\u001b[0m  0.9248\n"
     ]
    },
    {
     "name": "stdout",
     "output_type": "stream",
     "text": [
      "      6        \u001b[36m0.6105\u001b[0m       \u001b[32m0.8819\u001b[0m        \u001b[35m0.4745\u001b[0m  0.9349\n"
     ]
    },
    {
     "name": "stdout",
     "output_type": "stream",
     "text": [
      "      7        \u001b[36m0.5659\u001b[0m       \u001b[32m0.8875\u001b[0m        \u001b[35m0.4417\u001b[0m  0.9251\n"
     ]
    },
    {
     "name": "stdout",
     "output_type": "stream",
     "text": [
      "      8        \u001b[36m0.5381\u001b[0m       \u001b[32m0.8905\u001b[0m        \u001b[35m0.4180\u001b[0m  0.9874\n"
     ]
    },
    {
     "name": "stdout",
     "output_type": "stream",
     "text": [
      "      9        \u001b[36m0.5111\u001b[0m       \u001b[32m0.8932\u001b[0m        \u001b[35m0.3982\u001b[0m  0.9450\n"
     ]
    },
    {
     "name": "stdout",
     "output_type": "stream",
     "text": [
      "     10        \u001b[36m0.4945\u001b[0m       \u001b[32m0.8970\u001b[0m        \u001b[35m0.3832\u001b[0m  0.9631\n"
     ]
    },
    {
     "name": "stdout",
     "output_type": "stream",
     "text": [
      "  epoch    train_loss    valid_acc    valid_loss     dur\n",
      "-------  ------------  -----------  ------------  ------\n",
      "      1        \u001b[36m1.9206\u001b[0m       \u001b[32m0.7793\u001b[0m        \u001b[35m1.3961\u001b[0m  1.2762\n"
     ]
    },
    {
     "name": "stdout",
     "output_type": "stream",
     "text": [
      "      2        \u001b[36m1.1176\u001b[0m       \u001b[32m0.8434\u001b[0m        \u001b[35m0.7893\u001b[0m  1.1845\n"
     ]
    },
    {
     "name": "stdout",
     "output_type": "stream",
     "text": [
      "      3        \u001b[36m0.7825\u001b[0m       \u001b[32m0.8666\u001b[0m        \u001b[35m0.5826\u001b[0m  1.1824\n"
     ]
    },
    {
     "name": "stdout",
     "output_type": "stream",
     "text": [
      "      4        \u001b[36m0.6410\u001b[0m       \u001b[32m0.8843\u001b[0m        \u001b[35m0.4831\u001b[0m  1.1602\n"
     ]
    },
    {
     "name": "stdout",
     "output_type": "stream",
     "text": [
      "      5        \u001b[36m0.5618\u001b[0m       \u001b[32m0.8932\u001b[0m        \u001b[35m0.4241\u001b[0m  1.1512\n"
     ]
    },
    {
     "name": "stdout",
     "output_type": "stream",
     "text": [
      "      6        \u001b[36m0.5062\u001b[0m       \u001b[32m0.8986\u001b[0m        \u001b[35m0.3832\u001b[0m  1.1738\n"
     ]
    },
    {
     "name": "stdout",
     "output_type": "stream",
     "text": [
      "      7        \u001b[36m0.4679\u001b[0m       \u001b[32m0.9050\u001b[0m        \u001b[35m0.3544\u001b[0m  1.2000\n"
     ]
    },
    {
     "name": "stdout",
     "output_type": "stream",
     "text": [
      "      8        \u001b[36m0.4392\u001b[0m       \u001b[32m0.9101\u001b[0m        \u001b[35m0.3324\u001b[0m  1.2714\n"
     ]
    },
    {
     "name": "stdout",
     "output_type": "stream",
     "text": [
      "      9        \u001b[36m0.4178\u001b[0m       \u001b[32m0.9140\u001b[0m        \u001b[35m0.3155\u001b[0m  1.2587\n"
     ]
    },
    {
     "name": "stdout",
     "output_type": "stream",
     "text": [
      "     10        \u001b[36m0.3964\u001b[0m       \u001b[32m0.9177\u001b[0m        \u001b[35m0.3006\u001b[0m  1.1492\n"
     ]
    }
   ],
   "source": [
    "_ = clf.fit(X_train, y_train.to_numpy())"
   ]
  },
  {
   "cell_type": "markdown",
   "metadata": {},
   "source": [
    "## 9. Evaluate the robust model's performance"
   ]
  },
  {
   "cell_type": "code",
   "execution_count": 18,
   "metadata": {
    "execution": {
     "iopub.execute_input": "2022-03-09T00:50:33.478676Z",
     "iopub.status.busy": "2022-03-09T00:50:33.478278Z",
     "iopub.status.idle": "2022-03-09T00:50:33.743777Z",
     "shell.execute_reply": "2022-03-09T00:50:33.743053Z"
    }
   },
   "outputs": [
    {
     "data": {
      "text/plain": [
       "0.9015"
      ]
     },
     "execution_count": 18,
     "metadata": {},
     "output_type": "execute_result"
    }
   ],
   "source": [
    "from sklearn.metrics import accuracy_score\n",
    "\n",
    "y_pred = clf.predict(X_test)\n",
    "accuracy_score(y_test, y_pred)"
   ]
  },
  {
   "cell_type": "markdown",
   "metadata": {},
   "source": [
    "## What's next?"
   ]
  },
  {
   "cell_type": "markdown",
   "metadata": {},
   "source": [
    "Congratulations on completing this tutorial! Check out our following tutorial on using Cleanlab for text classification, where we found ``hundreds`` of potential label errors in one of the most well-known text datasets, the IMBDb movie review dataset!"
   ]
  }
 ],
 "metadata": {
  "interpreter": {
   "hash": "ced20e3e49bb4fa4ce8ad38f8f2535b7fc4c39b2b89554502b5dbdad1ad67eda"
  },
  "kernelspec": {
   "display_name": "Python 3.10.0 64-bit",
   "language": "python",
   "name": "python3"
  },
  "language_info": {
   "codemirror_mode": {
    "name": "ipython",
    "version": 3
   },
   "file_extension": ".py",
   "mimetype": "text/x-python",
   "name": "python",
   "nbconvert_exporter": "python",
   "pygments_lexer": "ipython3",
   "version": "3.8.12"
  }
 },
 "nbformat": 4,
 "nbformat_minor": 2
}
