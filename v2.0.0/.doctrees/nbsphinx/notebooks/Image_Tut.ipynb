{
 "cells": [
  {
   "cell_type": "markdown",
   "metadata": {},
   "source": [
    "# Image Classification with Cleanlab, PyTorch & Skorch"
   ]
  },
  {
   "cell_type": "markdown",
   "metadata": {},
   "source": [
    "This tutorial will use Cleanlab to find potential label errors in the MNIST handwritten digit image dataset. This dataset contains 60,000 images of handwritten digits from 0 to 9. We'll find *more than a thousand* highly suspicious examples with label errors and edge cases by the end of this tutorial. \n",
    "\n",
    "**Overview of what we'll do in this tutorial:**\n",
    "\n",
    "- Build a simple PyTorch neural net and wrap it with Skorch to make it scikit-learn compatible.\n",
    "\n",
    "- Compute the cross-validated predicted probabilities, ``pyx``, sometimes known as the out-of-sample predicted probabilities.\n",
    "\n",
    "- Generate a list of potential label errors with Cleanlab's ``get_noise_indices``.\n",
    "\n",
    "- Build and train a more robust model than the vanilla model after adapting it with Cleanlab's ``LearningWithNoisyLabels``. \n",
    "\n",
    "**Data:** https://www.openml.org/d/554"
   ]
  },
  {
   "cell_type": "markdown",
   "metadata": {},
   "source": [
    "## 1. Install the required dependencies"
   ]
  },
  {
   "cell_type": "markdown",
   "metadata": {},
   "source": [
    "``%%capture`` is a magic function to hides the cell's output."
   ]
  },
  {
   "cell_type": "code",
   "execution_count": 1,
   "metadata": {
    "execution": {
     "iopub.execute_input": "2022-03-09T02:53:01.051354Z",
     "iopub.status.busy": "2022-03-09T02:53:01.050949Z",
     "iopub.status.idle": "2022-03-09T02:53:27.917131Z",
     "shell.execute_reply": "2022-03-09T02:53:27.916442Z"
    }
   },
   "outputs": [],
   "source": [
    "%%capture\n",
    "\n",
    "%pip install cleanlab pandas matplotlib torch torchvision skorch"
   ]
  },
  {
   "cell_type": "markdown",
   "metadata": {},
   "source": [
    "## 2. Fetch and scale the MNIST dataset"
   ]
  },
  {
   "cell_type": "code",
   "execution_count": 2,
   "metadata": {
    "execution": {
     "iopub.execute_input": "2022-03-09T02:53:27.920334Z",
     "iopub.status.busy": "2022-03-09T02:53:27.920162Z",
     "iopub.status.idle": "2022-03-09T02:54:19.249500Z",
     "shell.execute_reply": "2022-03-09T02:54:19.248897Z"
    }
   },
   "outputs": [],
   "source": [
    "from sklearn.datasets import fetch_openml\n",
    "\n",
    "# Fetch the MNIST dataset\n",
    "mnist = fetch_openml('mnist_784')\n",
    "\n",
    "# Assign the data features and labels to variable X and y respectively \n",
    "X = mnist.data.astype('float32')\n",
    "y = mnist.target.astype('int64')\n"
   ]
  },
  {
   "cell_type": "markdown",
   "metadata": {},
   "source": [
    "<div class=\"alert alert-info\">\n",
    "\n",
    "Bringing Your Own Data (BYOD)?\n",
    "\n",
    "Assign your data's features to variable ``X`` and its labels to variable ``y`` instead.\n",
    "\n",
    "</div>"
   ]
  },
  {
   "cell_type": "code",
   "execution_count": 3,
   "metadata": {
    "execution": {
     "iopub.execute_input": "2022-03-09T02:54:19.252403Z",
     "iopub.status.busy": "2022-03-09T02:54:19.252239Z",
     "iopub.status.idle": "2022-03-09T02:54:19.345586Z",
     "shell.execute_reply": "2022-03-09T02:54:19.344982Z"
    }
   },
   "outputs": [],
   "source": [
    "\n",
    "# Scale the features which range from 0 to 255 (256 levels on the grayscale) \n",
    "X /= 255.0\n",
    "\n",
    "# Then convert it to a numpy array\n",
    "X = X.to_numpy()"
   ]
  },
  {
   "cell_type": "markdown",
   "metadata": {},
   "source": [
    "## 3. Define a classification model"
   ]
  },
  {
   "cell_type": "markdown",
   "metadata": {},
   "source": [
    "Here, we define a simple neural network with PyTorch."
   ]
  },
  {
   "cell_type": "code",
   "execution_count": 4,
   "metadata": {
    "execution": {
     "iopub.execute_input": "2022-03-09T02:54:19.348416Z",
     "iopub.status.busy": "2022-03-09T02:54:19.348094Z",
     "iopub.status.idle": "2022-03-09T02:54:19.724484Z",
     "shell.execute_reply": "2022-03-09T02:54:19.723947Z"
    }
   },
   "outputs": [],
   "source": [
    "from torch import nn\n",
    "\n",
    "class NeuralNetwork(nn.Module):\n",
    "    def __init__(self):\n",
    "        super(NeuralNetwork, self).__init__()\n",
    "        self.dropout = nn.Dropout(0.5)\n",
    "        self.hidden = nn.Linear(28*28, 128)\n",
    "        self.output = nn.Linear(128, 10)\n",
    "\n",
    "    def forward(self, X):\n",
    "        X = nn.functional.relu(self.hidden(X))\n",
    "        X = self.dropout(X)\n",
    "        X = nn.functional.softmax(self.output(X), dim=-1)\n",
    "        return X"
   ]
  },
  {
   "cell_type": "markdown",
   "metadata": {},
   "source": [
    "## 4. Wrap with Skorch for scikit-learn compatibility"
   ]
  },
  {
   "cell_type": "markdown",
   "metadata": {},
   "source": [
    "As some of Cleanlab's feature requires scikit-learn compatibility, we will need to adapt the above PyTorch neural net accordingly. Skorch is a convenient package that helps with this, read more about it here: https://skorch.readthedocs.io"
   ]
  },
  {
   "cell_type": "code",
   "execution_count": 5,
   "metadata": {
    "execution": {
     "iopub.execute_input": "2022-03-09T02:54:19.727570Z",
     "iopub.status.busy": "2022-03-09T02:54:19.727370Z",
     "iopub.status.idle": "2022-03-09T02:54:19.815961Z",
     "shell.execute_reply": "2022-03-09T02:54:19.815417Z"
    }
   },
   "outputs": [],
   "source": [
    "from skorch import NeuralNetClassifier\n",
    "\n",
    "# Wrap the PyTorch neural net around Skorch's NeuralNetClassifier wrapper\n",
    "net = NeuralNetClassifier(NeuralNetwork)"
   ]
  },
  {
   "cell_type": "markdown",
   "metadata": {},
   "source": [
    "## 5. Compute the cross-validated predicted probabilities"
   ]
  },
  {
   "cell_type": "markdown",
   "metadata": {},
   "source": [
    "If we'd like Cleanlab to identify potential label errors in the whole dataset and not just the training set, we can consider fitting the entire dataset. We will only use this model instance to compute the cross-validated predicted probabilities, ``pyx``, and not for model evaluation."
   ]
  },
  {
   "cell_type": "code",
   "execution_count": 6,
   "metadata": {
    "execution": {
     "iopub.execute_input": "2022-03-09T02:54:19.818794Z",
     "iopub.status.busy": "2022-03-09T02:54:19.818552Z",
     "iopub.status.idle": "2022-03-09T02:54:41.418778Z",
     "shell.execute_reply": "2022-03-09T02:54:41.418233Z"
    }
   },
   "outputs": [
    {
     "name": "stdout",
     "output_type": "stream",
     "text": [
      "  epoch    train_loss    valid_acc    valid_loss     dur\n",
      "-------  ------------  -----------  ------------  ------\n",
      "      1        \u001b[36m1.8213\u001b[0m       \u001b[32m0.7676\u001b[0m        \u001b[35m1.2145\u001b[0m  2.1556\n"
     ]
    },
    {
     "name": "stdout",
     "output_type": "stream",
     "text": [
      "      2        \u001b[36m1.0154\u001b[0m       \u001b[32m0.8333\u001b[0m        \u001b[35m0.7195\u001b[0m  2.1519\n"
     ]
    },
    {
     "name": "stdout",
     "output_type": "stream",
     "text": [
      "      3        \u001b[36m0.7422\u001b[0m       \u001b[32m0.8593\u001b[0m        \u001b[35m0.5607\u001b[0m  2.1424\n"
     ]
    },
    {
     "name": "stdout",
     "output_type": "stream",
     "text": [
      "      4        \u001b[36m0.6252\u001b[0m       \u001b[32m0.8765\u001b[0m        \u001b[35m0.4827\u001b[0m  2.1591\n"
     ]
    },
    {
     "name": "stdout",
     "output_type": "stream",
     "text": [
      "      5        \u001b[36m0.5581\u001b[0m       \u001b[32m0.8844\u001b[0m        \u001b[35m0.4365\u001b[0m  2.1566\n"
     ]
    },
    {
     "name": "stdout",
     "output_type": "stream",
     "text": [
      "      6        \u001b[36m0.5170\u001b[0m       \u001b[32m0.8923\u001b[0m        \u001b[35m0.4045\u001b[0m  2.1510\n"
     ]
    },
    {
     "name": "stdout",
     "output_type": "stream",
     "text": [
      "      7        \u001b[36m0.4847\u001b[0m       \u001b[32m0.8957\u001b[0m        \u001b[35m0.3817\u001b[0m  2.1503\n"
     ]
    },
    {
     "name": "stdout",
     "output_type": "stream",
     "text": [
      "      8        \u001b[36m0.4597\u001b[0m       \u001b[32m0.9004\u001b[0m        \u001b[35m0.3640\u001b[0m  2.1591\n"
     ]
    },
    {
     "name": "stdout",
     "output_type": "stream",
     "text": [
      "      9        \u001b[36m0.4416\u001b[0m       \u001b[32m0.9044\u001b[0m        \u001b[35m0.3496\u001b[0m  2.1549\n"
     ]
    },
    {
     "name": "stdout",
     "output_type": "stream",
     "text": [
      "     10        \u001b[36m0.4228\u001b[0m       \u001b[32m0.9069\u001b[0m        \u001b[35m0.3369\u001b[0m  2.1447\n"
     ]
    }
   ],
   "source": [
    "_ = net.fit(X, y)"
   ]
  },
  {
   "cell_type": "markdown",
   "metadata": {},
   "source": [
    "Compute the cross-validated predicted probabilities, ``pyx``, sometimes also known as the out-of-sample predicted probabilities."
   ]
  },
  {
   "cell_type": "code",
   "execution_count": 7,
   "metadata": {
    "execution": {
     "iopub.execute_input": "2022-03-09T02:54:41.421173Z",
     "iopub.status.busy": "2022-03-09T02:54:41.421021Z",
     "iopub.status.idle": "2022-03-09T02:55:16.905743Z",
     "shell.execute_reply": "2022-03-09T02:55:16.905082Z"
    }
   },
   "outputs": [
    {
     "name": "stdout",
     "output_type": "stream",
     "text": [
      "  epoch    train_loss    valid_acc    valid_loss     dur\n",
      "-------  ------------  -----------  ------------  ------\n",
      "      1        \u001b[36m2.0205\u001b[0m       \u001b[32m0.7316\u001b[0m        \u001b[35m1.6148\u001b[0m  1.1426\n"
     ]
    },
    {
     "name": "stdout",
     "output_type": "stream",
     "text": [
      "      2        \u001b[36m1.2868\u001b[0m       \u001b[32m0.7887\u001b[0m        \u001b[35m0.9776\u001b[0m  1.1790\n"
     ]
    },
    {
     "name": "stdout",
     "output_type": "stream",
     "text": [
      "      3        \u001b[36m0.9026\u001b[0m       \u001b[32m0.8231\u001b[0m        \u001b[35m0.7339\u001b[0m  1.1331\n"
     ]
    },
    {
     "name": "stdout",
     "output_type": "stream",
     "text": [
      "      4        \u001b[36m0.7373\u001b[0m       \u001b[32m0.8445\u001b[0m        \u001b[35m0.6179\u001b[0m  1.1335\n"
     ]
    },
    {
     "name": "stdout",
     "output_type": "stream",
     "text": [
      "      5        \u001b[36m0.6446\u001b[0m       \u001b[32m0.8578\u001b[0m        \u001b[35m0.5494\u001b[0m  1.1297\n"
     ]
    },
    {
     "name": "stdout",
     "output_type": "stream",
     "text": [
      "      6        \u001b[36m0.5916\u001b[0m       \u001b[32m0.8648\u001b[0m        \u001b[35m0.5056\u001b[0m  1.1312\n"
     ]
    },
    {
     "name": "stdout",
     "output_type": "stream",
     "text": [
      "      7        \u001b[36m0.5464\u001b[0m       \u001b[32m0.8694\u001b[0m        \u001b[35m0.4732\u001b[0m  1.1346\n"
     ]
    },
    {
     "name": "stdout",
     "output_type": "stream",
     "text": [
      "      8        \u001b[36m0.5151\u001b[0m       \u001b[32m0.8729\u001b[0m        \u001b[35m0.4498\u001b[0m  1.1273\n"
     ]
    },
    {
     "name": "stdout",
     "output_type": "stream",
     "text": [
      "      9        \u001b[36m0.4938\u001b[0m       \u001b[32m0.8773\u001b[0m        \u001b[35m0.4298\u001b[0m  1.1297\n"
     ]
    },
    {
     "name": "stdout",
     "output_type": "stream",
     "text": [
      "     10        \u001b[36m0.4676\u001b[0m       \u001b[32m0.8805\u001b[0m        \u001b[35m0.4136\u001b[0m  1.1874\n"
     ]
    },
    {
     "name": "stdout",
     "output_type": "stream",
     "text": [
      "  epoch    train_loss    valid_acc    valid_loss     dur\n",
      "-------  ------------  -----------  ------------  ------\n",
      "      1        \u001b[36m1.9466\u001b[0m       \u001b[32m0.7531\u001b[0m        \u001b[35m1.5014\u001b[0m  1.1379\n"
     ]
    },
    {
     "name": "stdout",
     "output_type": "stream",
     "text": [
      "      2        \u001b[36m1.2305\u001b[0m       \u001b[32m0.8137\u001b[0m        \u001b[35m0.9216\u001b[0m  1.1268\n"
     ]
    },
    {
     "name": "stdout",
     "output_type": "stream",
     "text": [
      "      3        \u001b[36m0.8831\u001b[0m       \u001b[32m0.8415\u001b[0m        \u001b[35m0.6973\u001b[0m  1.1283\n"
     ]
    },
    {
     "name": "stdout",
     "output_type": "stream",
     "text": [
      "      4        \u001b[36m0.7318\u001b[0m       \u001b[32m0.8575\u001b[0m        \u001b[35m0.5867\u001b[0m  1.1324\n"
     ]
    },
    {
     "name": "stdout",
     "output_type": "stream",
     "text": [
      "      5        \u001b[36m0.6430\u001b[0m       \u001b[32m0.8681\u001b[0m        \u001b[35m0.5207\u001b[0m  1.1309\n"
     ]
    },
    {
     "name": "stdout",
     "output_type": "stream",
     "text": [
      "      6        \u001b[36m0.5851\u001b[0m       \u001b[32m0.8779\u001b[0m        \u001b[35m0.4761\u001b[0m  1.1283\n"
     ]
    },
    {
     "name": "stdout",
     "output_type": "stream",
     "text": [
      "      7        \u001b[36m0.5488\u001b[0m       \u001b[32m0.8826\u001b[0m        \u001b[35m0.4458\u001b[0m  1.1306\n"
     ]
    },
    {
     "name": "stdout",
     "output_type": "stream",
     "text": [
      "      8        \u001b[36m0.5146\u001b[0m       \u001b[32m0.8885\u001b[0m        \u001b[35m0.4209\u001b[0m  1.1279\n"
     ]
    },
    {
     "name": "stdout",
     "output_type": "stream",
     "text": [
      "      9        \u001b[36m0.4894\u001b[0m       \u001b[32m0.8934\u001b[0m        \u001b[35m0.4007\u001b[0m  1.1276\n"
     ]
    },
    {
     "name": "stdout",
     "output_type": "stream",
     "text": [
      "     10        \u001b[36m0.4696\u001b[0m       \u001b[32m0.8966\u001b[0m        \u001b[35m0.3851\u001b[0m  1.1276\n"
     ]
    },
    {
     "name": "stdout",
     "output_type": "stream",
     "text": [
      "  epoch    train_loss    valid_acc    valid_loss     dur\n",
      "-------  ------------  -----------  ------------  ------\n",
      "      1        \u001b[36m1.9952\u001b[0m       \u001b[32m0.7393\u001b[0m        \u001b[35m1.5651\u001b[0m  1.1271\n"
     ]
    },
    {
     "name": "stdout",
     "output_type": "stream",
     "text": [
      "      2        \u001b[36m1.2876\u001b[0m       \u001b[32m0.8093\u001b[0m        \u001b[35m0.9461\u001b[0m  1.1267\n"
     ]
    },
    {
     "name": "stdout",
     "output_type": "stream",
     "text": [
      "      3        \u001b[36m0.9184\u001b[0m       \u001b[32m0.8456\u001b[0m        \u001b[35m0.7037\u001b[0m  1.1305\n"
     ]
    },
    {
     "name": "stdout",
     "output_type": "stream",
     "text": [
      "      4        \u001b[36m0.7565\u001b[0m       \u001b[32m0.8623\u001b[0m        \u001b[35m0.5895\u001b[0m  1.1287\n"
     ]
    },
    {
     "name": "stdout",
     "output_type": "stream",
     "text": [
      "      5        \u001b[36m0.6680\u001b[0m       \u001b[32m0.8751\u001b[0m        \u001b[35m0.5215\u001b[0m  1.1462\n"
     ]
    },
    {
     "name": "stdout",
     "output_type": "stream",
     "text": [
      "      6        \u001b[36m0.6121\u001b[0m       \u001b[32m0.8801\u001b[0m        \u001b[35m0.4779\u001b[0m  1.1290\n"
     ]
    },
    {
     "name": "stdout",
     "output_type": "stream",
     "text": [
      "      7        \u001b[36m0.5720\u001b[0m       \u001b[32m0.8854\u001b[0m        \u001b[35m0.4453\u001b[0m  1.1271\n"
     ]
    },
    {
     "name": "stdout",
     "output_type": "stream",
     "text": [
      "      8        \u001b[36m0.5405\u001b[0m       \u001b[32m0.8893\u001b[0m        \u001b[35m0.4213\u001b[0m  1.1276\n"
     ]
    },
    {
     "name": "stdout",
     "output_type": "stream",
     "text": [
      "      9        \u001b[36m0.5149\u001b[0m       \u001b[32m0.8932\u001b[0m        \u001b[35m0.4020\u001b[0m  1.1295\n"
     ]
    },
    {
     "name": "stdout",
     "output_type": "stream",
     "text": [
      "     10        \u001b[36m0.4925\u001b[0m       \u001b[32m0.8960\u001b[0m        \u001b[35m0.3861\u001b[0m  1.1268\n"
     ]
    }
   ],
   "source": [
    "from sklearn.model_selection import cross_val_predict\n",
    "\n",
    "pyx = cross_val_predict(net, X, y, cv=3, method='predict_proba')"
   ]
  },
  {
   "cell_type": "markdown",
   "metadata": {},
   "source": [
    "## 6. Run Cleanlab to find potential label errors"
   ]
  },
  {
   "cell_type": "markdown",
   "metadata": {},
   "source": [
    "Cleanlab has a ``get_noise_indices`` function to generate a list of potential label errors. Setting ``sorted_index_method=\"prob_given_label\"`` returns the indices of all the most likely label errors, sorted by the most suspicious example first."
   ]
  },
  {
   "cell_type": "code",
   "execution_count": 8,
   "metadata": {
    "execution": {
     "iopub.execute_input": "2022-03-09T02:55:16.908392Z",
     "iopub.status.busy": "2022-03-09T02:55:16.908239Z",
     "iopub.status.idle": "2022-03-09T02:55:17.244851Z",
     "shell.execute_reply": "2022-03-09T02:55:17.244191Z"
    }
   },
   "outputs": [],
   "source": [
    "from cleanlab.pruning import get_noise_indices\n",
    "\n",
    "ordered_label_errors = get_noise_indices(\n",
    "    s=y,\n",
    "    psx=pyx,\n",
    "    sorted_index_method=\"prob_given_label\"\n",
    ")"
   ]
  },
  {
   "cell_type": "markdown",
   "metadata": {},
   "source": [
    "## 7. Review some of the most likely mislabeled examples"
   ]
  },
  {
   "cell_type": "code",
   "execution_count": 9,
   "metadata": {
    "execution": {
     "iopub.execute_input": "2022-03-09T02:55:17.247848Z",
     "iopub.status.busy": "2022-03-09T02:55:17.247622Z",
     "iopub.status.idle": "2022-03-09T02:55:17.251464Z",
     "shell.execute_reply": "2022-03-09T02:55:17.250890Z"
    }
   },
   "outputs": [
    {
     "name": "stdout",
     "output_type": "stream",
     "text": [
      "Cleanlab found 1254 potential label errors. Here are the indices of the top 15 most likely ones: \n",
      " [24798 18598  8729 61790 12679 59915 15942  1352 53216 20820 13031 55739\n",
      " 20735 59731  7010]\n"
     ]
    }
   ],
   "source": [
    "print(f\"Cleanlab found {len(ordered_label_errors)} potential label errors. Here are the indices of the top 15 most likely ones: \\n {ordered_label_errors[:15]}\")"
   ]
  },
  {
   "cell_type": "markdown",
   "metadata": {},
   "source": [
    "We'll define a new ``plot_examples`` function to display any examples in a subplot conveniently."
   ]
  },
  {
   "cell_type": "code",
   "execution_count": 10,
   "metadata": {
    "execution": {
     "iopub.execute_input": "2022-03-09T02:55:17.253954Z",
     "iopub.status.busy": "2022-03-09T02:55:17.253562Z",
     "iopub.status.idle": "2022-03-09T02:55:17.915997Z",
     "shell.execute_reply": "2022-03-09T02:55:17.915452Z"
    }
   },
   "outputs": [],
   "source": [
    "import matplotlib.pyplot as plt\n",
    "\n",
    "def plot_examples(id_iter, nrows=1, ncols=1):\n",
    "    for count, id in enumerate(id_iter):\n",
    "        plt.subplot(nrows, ncols, count+1)\n",
    "        plt.imshow(X[id].reshape(28, 28))\n",
    "        plt.title(f\"id: {id} \\n label: {y[id]}\")\n",
    "        plt.axis('off')\n",
    "\n",
    "    plt.tight_layout(h_pad=2.0)"
   ]
  },
  {
   "cell_type": "markdown",
   "metadata": {},
   "source": [
    "Let's start by having an overview of the top 15 most likely label errors. From here, we can see a few label errors and edge cases. Feel free to change the parameters to display more or fewer examples. "
   ]
  },
  {
   "cell_type": "code",
   "execution_count": 11,
   "metadata": {
    "execution": {
     "iopub.execute_input": "2022-03-09T02:55:17.918938Z",
     "iopub.status.busy": "2022-03-09T02:55:17.918733Z",
     "iopub.status.idle": "2022-03-09T02:55:18.324107Z",
     "shell.execute_reply": "2022-03-09T02:55:18.323548Z"
    }
   },
   "outputs": [
    {
     "data": {
      "image/png": "[encoded data removed]",
      "text/plain": [
       "<Figure size 432x288 with 15 Axes>"
      ]
     },
     "metadata": {
      "needs_background": "light"
     },
     "output_type": "display_data"
    }
   ],
   "source": [
    "plot_examples(ordered_label_errors[range(15)], 3, 5)"
   ]
  },
  {
   "cell_type": "markdown",
   "metadata": {},
   "source": [
    "Let's zoom into specific examples:"
   ]
  },
  {
   "cell_type": "markdown",
   "metadata": {},
   "source": [
    "Given label is **4** but looks more like a **7**"
   ]
  },
  {
   "cell_type": "code",
   "execution_count": 12,
   "metadata": {
    "execution": {
     "iopub.execute_input": "2022-03-09T02:55:18.327071Z",
     "iopub.status.busy": "2022-03-09T02:55:18.326534Z",
     "iopub.status.idle": "2022-03-09T02:55:18.381854Z",
     "shell.execute_reply": "2022-03-09T02:55:18.381275Z"
    }
   },
   "outputs": [
    {
     "data": {
      "image/png": "[encoded data removed]",
      "text/plain": [
       "<Figure size 432x288 with 1 Axes>"
      ]
     },
     "metadata": {
      "needs_background": "light"
     },
     "output_type": "display_data"
    }
   ],
   "source": [
    "plot_examples([59915])"
   ]
  },
  {
   "cell_type": "markdown",
   "metadata": {},
   "source": [
    "Given label is **4** but also looks like **9**"
   ]
  },
  {
   "cell_type": "code",
   "execution_count": 13,
   "metadata": {
    "execution": {
     "iopub.execute_input": "2022-03-09T02:55:18.384445Z",
     "iopub.status.busy": "2022-03-09T02:55:18.384269Z",
     "iopub.status.idle": "2022-03-09T02:55:18.440663Z",
     "shell.execute_reply": "2022-03-09T02:55:18.440209Z"
    }
   },
   "outputs": [
    {
     "data": {
      "image/png": "[encoded data removed]",
      "text/plain": [
       "<Figure size 432x288 with 1 Axes>"
      ]
     },
     "metadata": {
      "needs_background": "light"
     },
     "output_type": "display_data"
    }
   ],
   "source": [
    "plot_examples([24798])"
   ]
  },
  {
   "cell_type": "markdown",
   "metadata": {},
   "source": [
    "Edge case of odd looking **9**s"
   ]
  },
  {
   "cell_type": "code",
   "execution_count": 14,
   "metadata": {
    "execution": {
     "iopub.execute_input": "2022-03-09T02:55:18.444379Z",
     "iopub.status.busy": "2022-03-09T02:55:18.443261Z",
     "iopub.status.idle": "2022-03-09T02:55:18.648192Z",
     "shell.execute_reply": "2022-03-09T02:55:18.647669Z"
    }
   },
   "outputs": [
    {
     "data": {
      "image/png": "[encoded data removed]",
      "text/plain": [
       "<Figure size 432x288 with 3 Axes>"
      ]
     },
     "metadata": {
      "needs_background": "light"
     },
     "output_type": "display_data"
    }
   ],
   "source": [
    "plot_examples([18598, 1352, 61247], 1, 3)"
   ]
  },
  {
   "cell_type": "markdown",
   "metadata": {},
   "source": [
    "Cleanlab has shortlisted the most likely label errors to speed up your data cleaning process. With this list, you can decide whether to fix label errors, augment edge cases or remove obscure examples. \n",
    "\n",
    "These human-in-the-loop processes may be time-consuming, so if you'd like Cleanlab to automatically remove these noisy examples and train a model directly on the partially mislabeled dataset, you're in luck! Cleanlab provides a ``LearningWithNoisyLabels`` wrapper to do precisely this:"
   ]
  },
  {
   "cell_type": "markdown",
   "metadata": {},
   "source": [
    "## 8. Adapt with Cleanlab's wrapper and train a more robust model"
   ]
  },
  {
   "cell_type": "markdown",
   "metadata": {},
   "source": [
    "First, we split the dataset into train and test subsets."
   ]
  },
  {
   "cell_type": "code",
   "execution_count": 15,
   "metadata": {
    "execution": {
     "iopub.execute_input": "2022-03-09T02:55:18.650784Z",
     "iopub.status.busy": "2022-03-09T02:55:18.650531Z",
     "iopub.status.idle": "2022-03-09T02:55:18.977511Z",
     "shell.execute_reply": "2022-03-09T02:55:18.976929Z"
    }
   },
   "outputs": [],
   "source": [
    "from sklearn.model_selection import train_test_split\n",
    "\n",
    "X_train, X_test, y_train, y_test = train_test_split(X, y, test_size=0.2)"
   ]
  },
  {
   "cell_type": "markdown",
   "metadata": {},
   "source": [
    "Re-instantiate a new scikit-learn compatible model with Skorch then wrap it with Cleanlab's ``LearningWithNoisyLabels`` wrapper."
   ]
  },
  {
   "cell_type": "code",
   "execution_count": 16,
   "metadata": {
    "execution": {
     "iopub.execute_input": "2022-03-09T02:55:18.980217Z",
     "iopub.status.busy": "2022-03-09T02:55:18.980063Z",
     "iopub.status.idle": "2022-03-09T02:55:18.983174Z",
     "shell.execute_reply": "2022-03-09T02:55:18.982596Z"
    }
   },
   "outputs": [],
   "source": [
    "from cleanlab.classification import LearningWithNoisyLabels\n",
    "\n",
    "net = NeuralNetClassifier(NeuralNetwork)\n",
    "clf = LearningWithNoisyLabels(clf=net)"
   ]
  },
  {
   "cell_type": "code",
   "execution_count": 17,
   "metadata": {
    "execution": {
     "iopub.execute_input": "2022-03-09T02:55:18.985360Z",
     "iopub.status.busy": "2022-03-09T02:55:18.985215Z",
     "iopub.status.idle": "2022-03-09T02:56:28.512840Z",
     "shell.execute_reply": "2022-03-09T02:56:28.512211Z"
    }
   },
   "outputs": [
    {
     "name": "stdout",
     "output_type": "stream",
     "text": [
      "  epoch    train_loss    valid_acc    valid_loss     dur\n",
      "-------  ------------  -----------  ------------  ------\n",
      "      1        \u001b[36m2.0079\u001b[0m       \u001b[32m0.7594\u001b[0m        \u001b[35m1.6037\u001b[0m  1.0860\n"
     ]
    },
    {
     "name": "stdout",
     "output_type": "stream",
     "text": [
      "      2        \u001b[36m1.2986\u001b[0m       \u001b[32m0.8243\u001b[0m        \u001b[35m0.9590\u001b[0m  1.0893\n"
     ]
    },
    {
     "name": "stdout",
     "output_type": "stream",
     "text": [
      "      3        \u001b[36m0.9167\u001b[0m       \u001b[32m0.8489\u001b[0m        \u001b[35m0.7116\u001b[0m  1.0942\n"
     ]
    },
    {
     "name": "stdout",
     "output_type": "stream",
     "text": [
      "      4        \u001b[36m0.7604\u001b[0m       \u001b[32m0.8609\u001b[0m        \u001b[35m0.5972\u001b[0m  1.0888\n"
     ]
    },
    {
     "name": "stdout",
     "output_type": "stream",
     "text": [
      "      5        \u001b[36m0.6709\u001b[0m       \u001b[32m0.8698\u001b[0m        \u001b[35m0.5299\u001b[0m  1.0918\n"
     ]
    },
    {
     "name": "stdout",
     "output_type": "stream",
     "text": [
      "      6        \u001b[36m0.6109\u001b[0m       \u001b[32m0.8766\u001b[0m        \u001b[35m0.4855\u001b[0m  1.0885\n"
     ]
    },
    {
     "name": "stdout",
     "output_type": "stream",
     "text": [
      "      7        \u001b[36m0.5673\u001b[0m       \u001b[32m0.8833\u001b[0m        \u001b[35m0.4533\u001b[0m  1.0882\n"
     ]
    },
    {
     "name": "stdout",
     "output_type": "stream",
     "text": [
      "      8        \u001b[36m0.5380\u001b[0m       \u001b[32m0.8878\u001b[0m        \u001b[35m0.4287\u001b[0m  1.0962\n"
     ]
    },
    {
     "name": "stdout",
     "output_type": "stream",
     "text": [
      "      9        \u001b[36m0.5116\u001b[0m       \u001b[32m0.8915\u001b[0m        \u001b[35m0.4099\u001b[0m  1.0947\n"
     ]
    },
    {
     "name": "stdout",
     "output_type": "stream",
     "text": [
      "     10        \u001b[36m0.4908\u001b[0m       \u001b[32m0.8961\u001b[0m        \u001b[35m0.3936\u001b[0m  1.0866\n"
     ]
    },
    {
     "name": "stdout",
     "output_type": "stream",
     "text": [
      "  epoch    train_loss    valid_acc    valid_loss     dur\n",
      "-------  ------------  -----------  ------------  ------\n",
      "      1        \u001b[36m2.0183\u001b[0m       \u001b[32m0.7562\u001b[0m        \u001b[35m1.6111\u001b[0m  1.1030\n"
     ]
    },
    {
     "name": "stdout",
     "output_type": "stream",
     "text": [
      "      2        \u001b[36m1.3046\u001b[0m       \u001b[32m0.8154\u001b[0m        \u001b[35m0.9725\u001b[0m  1.0863\n"
     ]
    },
    {
     "name": "stdout",
     "output_type": "stream",
     "text": [
      "      3        \u001b[36m0.9259\u001b[0m       \u001b[32m0.8427\u001b[0m        \u001b[35m0.7205\u001b[0m  1.0850\n"
     ]
    },
    {
     "name": "stdout",
     "output_type": "stream",
     "text": [
      "      4        \u001b[36m0.7588\u001b[0m       \u001b[32m0.8560\u001b[0m        \u001b[35m0.6020\u001b[0m  1.0879\n"
     ]
    },
    {
     "name": "stdout",
     "output_type": "stream",
     "text": [
      "      5        \u001b[36m0.6702\u001b[0m       \u001b[32m0.8674\u001b[0m        \u001b[35m0.5338\u001b[0m  1.0887\n"
     ]
    },
    {
     "name": "stdout",
     "output_type": "stream",
     "text": [
      "      6        \u001b[36m0.6111\u001b[0m       \u001b[32m0.8768\u001b[0m        \u001b[35m0.4875\u001b[0m  1.0873\n"
     ]
    },
    {
     "name": "stdout",
     "output_type": "stream",
     "text": [
      "      7        \u001b[36m0.5665\u001b[0m       \u001b[32m0.8824\u001b[0m        \u001b[35m0.4543\u001b[0m  1.0904\n"
     ]
    },
    {
     "name": "stdout",
     "output_type": "stream",
     "text": [
      "      8        \u001b[36m0.5326\u001b[0m       \u001b[32m0.8879\u001b[0m        \u001b[35m0.4287\u001b[0m  1.0963\n"
     ]
    },
    {
     "name": "stdout",
     "output_type": "stream",
     "text": [
      "      9        \u001b[36m0.5085\u001b[0m       \u001b[32m0.8910\u001b[0m        \u001b[35m0.4083\u001b[0m  1.0846\n"
     ]
    },
    {
     "name": "stdout",
     "output_type": "stream",
     "text": [
      "     10        \u001b[36m0.4902\u001b[0m       \u001b[32m0.8932\u001b[0m        \u001b[35m0.3923\u001b[0m  1.0854\n"
     ]
    },
    {
     "name": "stdout",
     "output_type": "stream",
     "text": [
      "  epoch    train_loss    valid_acc    valid_loss     dur\n",
      "-------  ------------  -----------  ------------  ------\n",
      "      1        \u001b[36m1.9889\u001b[0m       \u001b[32m0.7589\u001b[0m        \u001b[35m1.5740\u001b[0m  1.0880\n"
     ]
    },
    {
     "name": "stdout",
     "output_type": "stream",
     "text": [
      "      2        \u001b[36m1.2837\u001b[0m       \u001b[32m0.8142\u001b[0m        \u001b[35m0.9511\u001b[0m  1.0879\n"
     ]
    },
    {
     "name": "stdout",
     "output_type": "stream",
     "text": [
      "      3        \u001b[36m0.9156\u001b[0m       \u001b[32m0.8459\u001b[0m        \u001b[35m0.7064\u001b[0m  1.0886\n"
     ]
    },
    {
     "name": "stdout",
     "output_type": "stream",
     "text": [
      "      4        \u001b[36m0.7530\u001b[0m       \u001b[32m0.8627\u001b[0m        \u001b[35m0.5904\u001b[0m  1.0903\n"
     ]
    },
    {
     "name": "stdout",
     "output_type": "stream",
     "text": [
      "      5        \u001b[36m0.6593\u001b[0m       \u001b[32m0.8719\u001b[0m        \u001b[35m0.5221\u001b[0m  1.0871\n"
     ]
    },
    {
     "name": "stdout",
     "output_type": "stream",
     "text": [
      "      6        \u001b[36m0.6021\u001b[0m       \u001b[32m0.8786\u001b[0m        \u001b[35m0.4773\u001b[0m  1.0884\n"
     ]
    },
    {
     "name": "stdout",
     "output_type": "stream",
     "text": [
      "      7        \u001b[36m0.5614\u001b[0m       \u001b[32m0.8854\u001b[0m        \u001b[35m0.4448\u001b[0m  1.0924\n"
     ]
    },
    {
     "name": "stdout",
     "output_type": "stream",
     "text": [
      "      8        \u001b[36m0.5281\u001b[0m       \u001b[32m0.8902\u001b[0m        \u001b[35m0.4204\u001b[0m  1.0860\n"
     ]
    },
    {
     "name": "stdout",
     "output_type": "stream",
     "text": [
      "      9        \u001b[36m0.5035\u001b[0m       \u001b[32m0.8929\u001b[0m        \u001b[35m0.4011\u001b[0m  1.0863\n"
     ]
    },
    {
     "name": "stdout",
     "output_type": "stream",
     "text": [
      "     10        \u001b[36m0.4873\u001b[0m       \u001b[32m0.8956\u001b[0m        \u001b[35m0.3856\u001b[0m  1.0882\n"
     ]
    },
    {
     "name": "stdout",
     "output_type": "stream",
     "text": [
      "  epoch    train_loss    valid_acc    valid_loss     dur\n",
      "-------  ------------  -----------  ------------  ------\n",
      "      1        \u001b[36m1.9935\u001b[0m       \u001b[32m0.7276\u001b[0m        \u001b[35m1.5821\u001b[0m  1.0880\n"
     ]
    },
    {
     "name": "stdout",
     "output_type": "stream",
     "text": [
      "      2        \u001b[36m1.2916\u001b[0m       \u001b[32m0.8267\u001b[0m        \u001b[35m0.9616\u001b[0m  1.1067\n"
     ]
    },
    {
     "name": "stdout",
     "output_type": "stream",
     "text": [
      "      3        \u001b[36m0.9170\u001b[0m       \u001b[32m0.8550\u001b[0m        \u001b[35m0.7114\u001b[0m  1.0895\n"
     ]
    },
    {
     "name": "stdout",
     "output_type": "stream",
     "text": [
      "      4        \u001b[36m0.7536\u001b[0m       \u001b[32m0.8703\u001b[0m        \u001b[35m0.5930\u001b[0m  1.0891\n"
     ]
    },
    {
     "name": "stdout",
     "output_type": "stream",
     "text": [
      "      5        \u001b[36m0.6629\u001b[0m       \u001b[32m0.8798\u001b[0m        \u001b[35m0.5255\u001b[0m  1.0875\n"
     ]
    },
    {
     "name": "stdout",
     "output_type": "stream",
     "text": [
      "      6        \u001b[36m0.6055\u001b[0m       \u001b[32m0.8858\u001b[0m        \u001b[35m0.4811\u001b[0m  1.0863\n"
     ]
    },
    {
     "name": "stdout",
     "output_type": "stream",
     "text": [
      "      7        \u001b[36m0.5604\u001b[0m       \u001b[32m0.8908\u001b[0m        \u001b[35m0.4488\u001b[0m  1.0872\n"
     ]
    },
    {
     "name": "stdout",
     "output_type": "stream",
     "text": [
      "      8        \u001b[36m0.5294\u001b[0m       \u001b[32m0.8945\u001b[0m        \u001b[35m0.4243\u001b[0m  1.0873\n"
     ]
    },
    {
     "name": "stdout",
     "output_type": "stream",
     "text": [
      "      9        \u001b[36m0.5064\u001b[0m       \u001b[32m0.8969\u001b[0m        \u001b[35m0.4050\u001b[0m  1.0862\n"
     ]
    },
    {
     "name": "stdout",
     "output_type": "stream",
     "text": [
      "     10        \u001b[36m0.4859\u001b[0m       \u001b[32m0.8992\u001b[0m        \u001b[35m0.3899\u001b[0m  1.0895\n"
     ]
    },
    {
     "name": "stdout",
     "output_type": "stream",
     "text": [
      "  epoch    train_loss    valid_acc    valid_loss     dur\n",
      "-------  ------------  -----------  ------------  ------\n",
      "      1        \u001b[36m2.0129\u001b[0m       \u001b[32m0.7634\u001b[0m        \u001b[35m1.6032\u001b[0m  1.0852\n"
     ]
    },
    {
     "name": "stdout",
     "output_type": "stream",
     "text": [
      "      2        \u001b[36m1.3156\u001b[0m       \u001b[32m0.8263\u001b[0m        \u001b[35m0.9710\u001b[0m  1.0891\n"
     ]
    },
    {
     "name": "stdout",
     "output_type": "stream",
     "text": [
      "      3        \u001b[36m0.9303\u001b[0m       \u001b[32m0.8509\u001b[0m        \u001b[35m0.7146\u001b[0m  1.0895\n"
     ]
    },
    {
     "name": "stdout",
     "output_type": "stream",
     "text": [
      "      4        \u001b[36m0.7661\u001b[0m       \u001b[32m0.8664\u001b[0m        \u001b[35m0.5949\u001b[0m  1.0926\n"
     ]
    },
    {
     "name": "stdout",
     "output_type": "stream",
     "text": [
      "      5        \u001b[36m0.6749\u001b[0m       \u001b[32m0.8738\u001b[0m        \u001b[35m0.5256\u001b[0m  1.1028\n"
     ]
    },
    {
     "name": "stdout",
     "output_type": "stream",
     "text": [
      "      6        \u001b[36m0.6176\u001b[0m       \u001b[32m0.8815\u001b[0m        \u001b[35m0.4795\u001b[0m  1.0925\n"
     ]
    },
    {
     "name": "stdout",
     "output_type": "stream",
     "text": [
      "      7        \u001b[36m0.5723\u001b[0m       \u001b[32m0.8877\u001b[0m        \u001b[35m0.4468\u001b[0m  1.1057\n"
     ]
    },
    {
     "name": "stdout",
     "output_type": "stream",
     "text": [
      "      8        \u001b[36m0.5422\u001b[0m       \u001b[32m0.8901\u001b[0m        \u001b[35m0.4216\u001b[0m  1.0890\n"
     ]
    },
    {
     "name": "stdout",
     "output_type": "stream",
     "text": [
      "      9        \u001b[36m0.5137\u001b[0m       \u001b[32m0.8942\u001b[0m        \u001b[35m0.4024\u001b[0m  1.0884\n"
     ]
    },
    {
     "name": "stdout",
     "output_type": "stream",
     "text": [
      "     10        \u001b[36m0.4923\u001b[0m       \u001b[32m0.8959\u001b[0m        \u001b[35m0.3862\u001b[0m  1.0849\n"
     ]
    },
    {
     "name": "stdout",
     "output_type": "stream",
     "text": [
      "  epoch    train_loss    valid_acc    valid_loss     dur\n",
      "-------  ------------  -----------  ------------  ------\n",
      "      1        \u001b[36m1.9126\u001b[0m       \u001b[32m0.7725\u001b[0m        \u001b[35m1.3828\u001b[0m  1.3580\n"
     ]
    },
    {
     "name": "stdout",
     "output_type": "stream",
     "text": [
      "      2        \u001b[36m1.1155\u001b[0m       \u001b[32m0.8442\u001b[0m        \u001b[35m0.7904\u001b[0m  1.3357\n"
     ]
    },
    {
     "name": "stdout",
     "output_type": "stream",
     "text": [
      "      3        \u001b[36m0.7861\u001b[0m       \u001b[32m0.8700\u001b[0m        \u001b[35m0.5854\u001b[0m  1.3431\n"
     ]
    },
    {
     "name": "stdout",
     "output_type": "stream",
     "text": [
      "      4        \u001b[36m0.6438\u001b[0m       \u001b[32m0.8864\u001b[0m        \u001b[35m0.4854\u001b[0m  1.3373\n"
     ]
    },
    {
     "name": "stdout",
     "output_type": "stream",
     "text": [
      "      5        \u001b[36m0.5633\u001b[0m       \u001b[32m0.8924\u001b[0m        \u001b[35m0.4267\u001b[0m  1.3518\n"
     ]
    },
    {
     "name": "stdout",
     "output_type": "stream",
     "text": [
      "      6        \u001b[36m0.5081\u001b[0m       \u001b[32m0.8999\u001b[0m        \u001b[35m0.3864\u001b[0m  1.3349\n"
     ]
    },
    {
     "name": "stdout",
     "output_type": "stream",
     "text": [
      "      7        \u001b[36m0.4717\u001b[0m       \u001b[32m0.9045\u001b[0m        \u001b[35m0.3586\u001b[0m  1.3408\n"
     ]
    },
    {
     "name": "stdout",
     "output_type": "stream",
     "text": [
      "      8        \u001b[36m0.4408\u001b[0m       \u001b[32m0.9068\u001b[0m        \u001b[35m0.3367\u001b[0m  1.3335\n"
     ]
    },
    {
     "name": "stdout",
     "output_type": "stream",
     "text": [
      "      9        \u001b[36m0.4157\u001b[0m       \u001b[32m0.9113\u001b[0m        \u001b[35m0.3195\u001b[0m  1.3389\n"
     ]
    },
    {
     "name": "stdout",
     "output_type": "stream",
     "text": [
      "     10        \u001b[36m0.4016\u001b[0m       \u001b[32m0.9144\u001b[0m        \u001b[35m0.3063\u001b[0m  1.3475\n"
     ]
    }
   ],
   "source": [
    "_ = clf.fit(X_train, y_train.to_numpy())"
   ]
  },
  {
   "cell_type": "markdown",
   "metadata": {},
   "source": [
    "## 9. Evaluate the robust model's performance"
   ]
  },
  {
   "cell_type": "code",
   "execution_count": 18,
   "metadata": {
    "execution": {
     "iopub.execute_input": "2022-03-09T02:56:28.515749Z",
     "iopub.status.busy": "2022-03-09T02:56:28.515383Z",
     "iopub.status.idle": "2022-03-09T02:56:28.751785Z",
     "shell.execute_reply": "2022-03-09T02:56:28.751112Z"
    }
   },
   "outputs": [
    {
     "data": {
      "text/plain": [
       "0.8962857142857142"
      ]
     },
     "execution_count": 18,
     "metadata": {},
     "output_type": "execute_result"
    }
   ],
   "source": [
    "from sklearn.metrics import accuracy_score\n",
    "\n",
    "y_pred = clf.predict(X_test)\n",
    "accuracy_score(y_test, y_pred)"
   ]
  },
  {
   "cell_type": "markdown",
   "metadata": {},
   "source": [
    "## What's next?"
   ]
  },
  {
   "cell_type": "markdown",
   "metadata": {},
   "source": [
    "Congratulations on completing this tutorial! Check out our following tutorial on using Cleanlab for text classification, where we found ``hundreds`` of potential label errors in one of the most well-known text datasets, the IMBDb movie review dataset!"
   ]
  }
 ],
 "metadata": {
  "interpreter": {
   "hash": "ced20e3e49bb4fa4ce8ad38f8f2535b7fc4c39b2b89554502b5dbdad1ad67eda"
  },
  "kernelspec": {
   "display_name": "Python 3.10.0 64-bit",
   "language": "python",
   "name": "python3"
  },
  "language_info": {
   "codemirror_mode": {
    "name": "ipython",
    "version": 3
   },
   "file_extension": ".py",
   "mimetype": "text/x-python",
   "name": "python",
   "nbconvert_exporter": "python",
   "pygments_lexer": "ipython3",
   "version": "3.8.12"
  }
 },
 "nbformat": 4,
 "nbformat_minor": 2
}
