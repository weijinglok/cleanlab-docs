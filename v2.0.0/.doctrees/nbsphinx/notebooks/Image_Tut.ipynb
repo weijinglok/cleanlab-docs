{
 "cells": [
  {
   "cell_type": "markdown",
   "metadata": {},
   "source": [
    "# Image Classification with Cleanlab, PyTorch & Skorch"
   ]
  },
  {
   "cell_type": "markdown",
   "metadata": {},
   "source": [
    "This tutorial will use Cleanlab to find potential label errors in the MNIST handwritten digit image dataset. This dataset contains 60,000 images of handwritten digits from 0 to 9. We'll find *more than a thousand* highly suspicious examples with label errors and edge cases by the end of this tutorial. \n",
    "\n",
    "**Overview of what we'll do in this tutorial:**\n",
    "\n",
    "- Build a simple PyTorch neural net and wrap it with Skorch to make it scikit-learn compatible.\n",
    "\n",
    "- Compute the cross-validated predicted probabilities, ``pyx``, sometimes known as the out-of-sample predicted probabilities.\n",
    "\n",
    "- Generate a list of potential label errors with Cleanlab's ``get_noise_indices``.\n",
    "\n",
    "- Build and train a more robust model than the vanilla model after adapting it with Cleanlab's ``LearningWithNoisyLabels``. \n",
    "\n",
    "**Data:** https://www.openml.org/d/554"
   ]
  },
  {
   "cell_type": "markdown",
   "metadata": {},
   "source": [
    "## 1. Install the required dependencies"
   ]
  },
  {
   "cell_type": "markdown",
   "metadata": {},
   "source": [
    "``%%capture`` is a magic function to hides the cell's output."
   ]
  },
  {
   "cell_type": "code",
   "execution_count": 1,
   "metadata": {
    "execution": {
     "iopub.execute_input": "2022-03-09T15:01:21.923164Z",
     "iopub.status.busy": "2022-03-09T15:01:21.922919Z",
     "iopub.status.idle": "2022-03-09T15:01:48.453873Z",
     "shell.execute_reply": "2022-03-09T15:01:48.453229Z"
    }
   },
   "outputs": [],
   "source": [
    "%%capture\n",
    "\n",
    "%pip install cleanlab pandas matplotlib torch torchvision skorch"
   ]
  },
  {
   "cell_type": "markdown",
   "metadata": {},
   "source": [
    "## 2. Fetch and scale the MNIST dataset"
   ]
  },
  {
   "cell_type": "code",
   "execution_count": 2,
   "metadata": {
    "execution": {
     "iopub.execute_input": "2022-03-09T15:01:48.456683Z",
     "iopub.status.busy": "2022-03-09T15:01:48.456534Z",
     "iopub.status.idle": "2022-03-09T15:02:46.697078Z",
     "shell.execute_reply": "2022-03-09T15:02:46.696482Z"
    }
   },
   "outputs": [],
   "source": [
    "from sklearn.datasets import fetch_openml\n",
    "\n",
    "# Fetch the MNIST dataset\n",
    "mnist = fetch_openml('mnist_784')\n",
    "\n",
    "# Assign the data features and labels to variable X and y respectively \n",
    "X = mnist.data.astype('float32')\n",
    "y = mnist.target.astype('int64')\n"
   ]
  },
  {
   "cell_type": "markdown",
   "metadata": {},
   "source": [
    "<div class=\"alert alert-info\">\n",
    "\n",
    "Bringing Your Own Data (BYOD)?\n",
    "\n",
    "Assign your data's features to variable ``X`` and its labels to variable ``y`` instead.\n",
    "\n",
    "</div>"
   ]
  },
  {
   "cell_type": "code",
   "execution_count": 3,
   "metadata": {
    "execution": {
     "iopub.execute_input": "2022-03-09T15:02:46.699865Z",
     "iopub.status.busy": "2022-03-09T15:02:46.699717Z",
     "iopub.status.idle": "2022-03-09T15:02:46.778426Z",
     "shell.execute_reply": "2022-03-09T15:02:46.777831Z"
    }
   },
   "outputs": [],
   "source": [
    "\n",
    "# Scale the features which range from 0 to 255 (256 levels on the grayscale) \n",
    "X /= 255.0\n",
    "\n",
    "# Then convert it to a numpy array\n",
    "X = X.to_numpy()"
   ]
  },
  {
   "cell_type": "markdown",
   "metadata": {},
   "source": [
    "## 3. Define a classification model"
   ]
  },
  {
   "cell_type": "markdown",
   "metadata": {},
   "source": [
    "Here, we define a simple neural network with PyTorch."
   ]
  },
  {
   "cell_type": "code",
   "execution_count": 4,
   "metadata": {
    "execution": {
     "iopub.execute_input": "2022-03-09T15:02:46.781646Z",
     "iopub.status.busy": "2022-03-09T15:02:46.781146Z",
     "iopub.status.idle": "2022-03-09T15:02:47.146200Z",
     "shell.execute_reply": "2022-03-09T15:02:47.145647Z"
    }
   },
   "outputs": [],
   "source": [
    "from torch import nn\n",
    "\n",
    "class NeuralNetwork(nn.Module):\n",
    "    def __init__(self):\n",
    "        super(NeuralNetwork, self).__init__()\n",
    "        self.dropout = nn.Dropout(0.5)\n",
    "        self.hidden = nn.Linear(28*28, 128)\n",
    "        self.output = nn.Linear(128, 10)\n",
    "\n",
    "    def forward(self, X):\n",
    "        X = nn.functional.relu(self.hidden(X))\n",
    "        X = self.dropout(X)\n",
    "        X = nn.functional.softmax(self.output(X), dim=-1)\n",
    "        return X"
   ]
  },
  {
   "cell_type": "markdown",
   "metadata": {},
   "source": [
    "## 4. Wrap with Skorch for scikit-learn compatibility"
   ]
  },
  {
   "cell_type": "markdown",
   "metadata": {},
   "source": [
    "As some of Cleanlab's feature requires scikit-learn compatibility, we will need to adapt the above PyTorch neural net accordingly. Skorch is a convenient package that helps with this, read more about it here: https://skorch.readthedocs.io"
   ]
  },
  {
   "cell_type": "code",
   "execution_count": 5,
   "metadata": {
    "execution": {
     "iopub.execute_input": "2022-03-09T15:02:47.149113Z",
     "iopub.status.busy": "2022-03-09T15:02:47.148962Z",
     "iopub.status.idle": "2022-03-09T15:02:47.235010Z",
     "shell.execute_reply": "2022-03-09T15:02:47.234513Z"
    }
   },
   "outputs": [],
   "source": [
    "from skorch import NeuralNetClassifier\n",
    "\n",
    "# Wrap the PyTorch neural net around Skorch's NeuralNetClassifier wrapper\n",
    "net = NeuralNetClassifier(NeuralNetwork)"
   ]
  },
  {
   "cell_type": "markdown",
   "metadata": {},
   "source": [
    "## 5. Compute the cross-validated predicted probabilities"
   ]
  },
  {
   "cell_type": "markdown",
   "metadata": {},
   "source": [
    "If we'd like Cleanlab to identify potential label errors in the whole dataset and not just the training set, we can consider fitting the entire dataset. We will only use this model instance to compute the cross-validated predicted probabilities, ``pyx``, and not for model evaluation."
   ]
  },
  {
   "cell_type": "code",
   "execution_count": 6,
   "metadata": {
    "execution": {
     "iopub.execute_input": "2022-03-09T15:02:47.237472Z",
     "iopub.status.busy": "2022-03-09T15:02:47.237330Z",
     "iopub.status.idle": "2022-03-09T15:03:08.755310Z",
     "shell.execute_reply": "2022-03-09T15:03:08.754751Z"
    }
   },
   "outputs": [
    {
     "name": "stdout",
     "output_type": "stream",
     "text": [
      "  epoch    train_loss    valid_acc    valid_loss     dur\n",
      "-------  ------------  -----------  ------------  ------\n",
      "      1        \u001b[36m1.8168\u001b[0m       \u001b[32m0.7749\u001b[0m        \u001b[35m1.2052\u001b[0m  2.1461\n"
     ]
    },
    {
     "name": "stdout",
     "output_type": "stream",
     "text": [
      "      2        \u001b[36m0.9962\u001b[0m       \u001b[32m0.8375\u001b[0m        \u001b[35m0.7090\u001b[0m  2.1548\n"
     ]
    },
    {
     "name": "stdout",
     "output_type": "stream",
     "text": [
      "      3        \u001b[36m0.7285\u001b[0m       \u001b[32m0.8638\u001b[0m        \u001b[35m0.5512\u001b[0m  2.1328\n"
     ]
    },
    {
     "name": "stdout",
     "output_type": "stream",
     "text": [
      "      4        \u001b[36m0.6161\u001b[0m       \u001b[32m0.8781\u001b[0m        \u001b[35m0.4771\u001b[0m  2.1441\n"
     ]
    },
    {
     "name": "stdout",
     "output_type": "stream",
     "text": [
      "      5        \u001b[36m0.5499\u001b[0m       \u001b[32m0.8868\u001b[0m        \u001b[35m0.4318\u001b[0m  2.1396\n"
     ]
    },
    {
     "name": "stdout",
     "output_type": "stream",
     "text": [
      "      6        \u001b[36m0.5071\u001b[0m       \u001b[32m0.8935\u001b[0m        \u001b[35m0.4010\u001b[0m  2.1871\n"
     ]
    },
    {
     "name": "stdout",
     "output_type": "stream",
     "text": [
      "      7        \u001b[36m0.4802\u001b[0m       \u001b[32m0.8977\u001b[0m        \u001b[35m0.3797\u001b[0m  2.1390\n"
     ]
    },
    {
     "name": "stdout",
     "output_type": "stream",
     "text": [
      "      8        \u001b[36m0.4574\u001b[0m       \u001b[32m0.9014\u001b[0m        \u001b[35m0.3621\u001b[0m  2.1326\n"
     ]
    },
    {
     "name": "stdout",
     "output_type": "stream",
     "text": [
      "      9        \u001b[36m0.4334\u001b[0m       \u001b[32m0.9044\u001b[0m        \u001b[35m0.3464\u001b[0m  2.1334\n"
     ]
    },
    {
     "name": "stdout",
     "output_type": "stream",
     "text": [
      "     10        \u001b[36m0.4201\u001b[0m       \u001b[32m0.9070\u001b[0m        \u001b[35m0.3344\u001b[0m  2.1354\n"
     ]
    }
   ],
   "source": [
    "_ = net.fit(X, y)"
   ]
  },
  {
   "cell_type": "markdown",
   "metadata": {},
   "source": [
    "Compute the cross-validated predicted probabilities, ``pyx``, sometimes also known as the out-of-sample predicted probabilities."
   ]
  },
  {
   "cell_type": "code",
   "execution_count": 7,
   "metadata": {
    "execution": {
     "iopub.execute_input": "2022-03-09T15:03:08.757985Z",
     "iopub.status.busy": "2022-03-09T15:03:08.757565Z",
     "iopub.status.idle": "2022-03-09T15:03:44.158748Z",
     "shell.execute_reply": "2022-03-09T15:03:44.158178Z"
    }
   },
   "outputs": [
    {
     "name": "stdout",
     "output_type": "stream",
     "text": [
      "  epoch    train_loss    valid_acc    valid_loss     dur\n",
      "-------  ------------  -----------  ------------  ------\n",
      "      1        \u001b[36m1.9742\u001b[0m       \u001b[32m0.7189\u001b[0m        \u001b[35m1.5622\u001b[0m  1.1577\n"
     ]
    },
    {
     "name": "stdout",
     "output_type": "stream",
     "text": [
      "      2        \u001b[36m1.2583\u001b[0m       \u001b[32m0.7880\u001b[0m        \u001b[35m0.9686\u001b[0m  1.1242\n"
     ]
    },
    {
     "name": "stdout",
     "output_type": "stream",
     "text": [
      "      3        \u001b[36m0.9003\u001b[0m       \u001b[32m0.8249\u001b[0m        \u001b[35m0.7363\u001b[0m  1.1763\n"
     ]
    },
    {
     "name": "stdout",
     "output_type": "stream",
     "text": [
      "      4        \u001b[36m0.7435\u001b[0m       \u001b[32m0.8443\u001b[0m        \u001b[35m0.6247\u001b[0m  1.1560\n"
     ]
    },
    {
     "name": "stdout",
     "output_type": "stream",
     "text": [
      "      5        \u001b[36m0.6541\u001b[0m       \u001b[32m0.8584\u001b[0m        \u001b[35m0.5570\u001b[0m  1.1247\n"
     ]
    },
    {
     "name": "stdout",
     "output_type": "stream",
     "text": [
      "      6        \u001b[36m0.5953\u001b[0m       \u001b[32m0.8670\u001b[0m        \u001b[35m0.5118\u001b[0m  1.1276\n"
     ]
    },
    {
     "name": "stdout",
     "output_type": "stream",
     "text": [
      "      7        \u001b[36m0.5527\u001b[0m       \u001b[32m0.8729\u001b[0m        \u001b[35m0.4792\u001b[0m  1.1261\n"
     ]
    },
    {
     "name": "stdout",
     "output_type": "stream",
     "text": [
      "      8        \u001b[36m0.5222\u001b[0m       \u001b[32m0.8766\u001b[0m        \u001b[35m0.4549\u001b[0m  1.1245\n"
     ]
    },
    {
     "name": "stdout",
     "output_type": "stream",
     "text": [
      "      9        \u001b[36m0.4987\u001b[0m       \u001b[32m0.8809\u001b[0m        \u001b[35m0.4358\u001b[0m  1.1253\n"
     ]
    },
    {
     "name": "stdout",
     "output_type": "stream",
     "text": [
      "     10        \u001b[36m0.4778\u001b[0m       \u001b[32m0.8829\u001b[0m        \u001b[35m0.4196\u001b[0m  1.1696\n"
     ]
    },
    {
     "name": "stdout",
     "output_type": "stream",
     "text": [
      "  epoch    train_loss    valid_acc    valid_loss     dur\n",
      "-------  ------------  -----------  ------------  ------\n",
      "      1        \u001b[36m1.9922\u001b[0m       \u001b[32m0.7219\u001b[0m        \u001b[35m1.5684\u001b[0m  1.1261\n"
     ]
    },
    {
     "name": "stdout",
     "output_type": "stream",
     "text": [
      "      2        \u001b[36m1.2751\u001b[0m       \u001b[32m0.8062\u001b[0m        \u001b[35m0.9474\u001b[0m  1.1239\n"
     ]
    },
    {
     "name": "stdout",
     "output_type": "stream",
     "text": [
      "      3        \u001b[36m0.8913\u001b[0m       \u001b[32m0.8395\u001b[0m        \u001b[35m0.7024\u001b[0m  1.1253\n"
     ]
    },
    {
     "name": "stdout",
     "output_type": "stream",
     "text": [
      "      4        \u001b[36m0.7312\u001b[0m       \u001b[32m0.8564\u001b[0m        \u001b[35m0.5889\u001b[0m  1.1323\n"
     ]
    },
    {
     "name": "stdout",
     "output_type": "stream",
     "text": [
      "      5        \u001b[36m0.6419\u001b[0m       \u001b[32m0.8681\u001b[0m        \u001b[35m0.5218\u001b[0m  1.1292\n"
     ]
    },
    {
     "name": "stdout",
     "output_type": "stream",
     "text": [
      "      6        \u001b[36m0.5851\u001b[0m       \u001b[32m0.8760\u001b[0m        \u001b[35m0.4780\u001b[0m  1.1267\n"
     ]
    },
    {
     "name": "stdout",
     "output_type": "stream",
     "text": [
      "      7        \u001b[36m0.5450\u001b[0m       \u001b[32m0.8831\u001b[0m        \u001b[35m0.4469\u001b[0m  1.1253\n"
     ]
    },
    {
     "name": "stdout",
     "output_type": "stream",
     "text": [
      "      8        \u001b[36m0.5170\u001b[0m       \u001b[32m0.8869\u001b[0m        \u001b[35m0.4241\u001b[0m  1.1272\n"
     ]
    },
    {
     "name": "stdout",
     "output_type": "stream",
     "text": [
      "      9        \u001b[36m0.4902\u001b[0m       \u001b[32m0.8901\u001b[0m        \u001b[35m0.4039\u001b[0m  1.1276\n"
     ]
    },
    {
     "name": "stdout",
     "output_type": "stream",
     "text": [
      "     10        \u001b[36m0.4724\u001b[0m       \u001b[32m0.8937\u001b[0m        \u001b[35m0.3883\u001b[0m  1.1284\n"
     ]
    },
    {
     "name": "stdout",
     "output_type": "stream",
     "text": [
      "  epoch    train_loss    valid_acc    valid_loss     dur\n",
      "-------  ------------  -----------  ------------  ------\n",
      "      1        \u001b[36m2.0278\u001b[0m       \u001b[32m0.7312\u001b[0m        \u001b[35m1.6164\u001b[0m  1.1225\n"
     ]
    },
    {
     "name": "stdout",
     "output_type": "stream",
     "text": [
      "      2        \u001b[36m1.3145\u001b[0m       \u001b[32m0.8095\u001b[0m        \u001b[35m0.9618\u001b[0m  1.1322\n"
     ]
    },
    {
     "name": "stdout",
     "output_type": "stream",
     "text": [
      "      3        \u001b[36m0.9267\u001b[0m       \u001b[32m0.8414\u001b[0m        \u001b[35m0.7102\u001b[0m  1.1262\n"
     ]
    },
    {
     "name": "stdout",
     "output_type": "stream",
     "text": [
      "      4        \u001b[36m0.7628\u001b[0m       \u001b[32m0.8599\u001b[0m        \u001b[35m0.5935\u001b[0m  1.1245\n"
     ]
    },
    {
     "name": "stdout",
     "output_type": "stream",
     "text": [
      "      5        \u001b[36m0.6690\u001b[0m       \u001b[32m0.8732\u001b[0m        \u001b[35m0.5245\u001b[0m  1.1263\n"
     ]
    },
    {
     "name": "stdout",
     "output_type": "stream",
     "text": [
      "      6        \u001b[36m0.6109\u001b[0m       \u001b[32m0.8790\u001b[0m        \u001b[35m0.4784\u001b[0m  1.1262\n"
     ]
    },
    {
     "name": "stdout",
     "output_type": "stream",
     "text": [
      "      7        \u001b[36m0.5683\u001b[0m       \u001b[32m0.8855\u001b[0m        \u001b[35m0.4457\u001b[0m  1.1276\n"
     ]
    },
    {
     "name": "stdout",
     "output_type": "stream",
     "text": [
      "      8        \u001b[36m0.5380\u001b[0m       \u001b[32m0.8899\u001b[0m        \u001b[35m0.4215\u001b[0m  1.1264\n"
     ]
    },
    {
     "name": "stdout",
     "output_type": "stream",
     "text": [
      "      9        \u001b[36m0.5128\u001b[0m       \u001b[32m0.8934\u001b[0m        \u001b[35m0.4016\u001b[0m  1.1305\n"
     ]
    },
    {
     "name": "stdout",
     "output_type": "stream",
     "text": [
      "     10        \u001b[36m0.4914\u001b[0m       \u001b[32m0.8978\u001b[0m        \u001b[35m0.3852\u001b[0m  1.1290\n"
     ]
    }
   ],
   "source": [
    "from sklearn.model_selection import cross_val_predict\n",
    "\n",
    "pyx = cross_val_predict(net, X, y, cv=3, method='predict_proba')"
   ]
  },
  {
   "cell_type": "markdown",
   "metadata": {},
   "source": [
    "## 6. Run Cleanlab to find potential label errors"
   ]
  },
  {
   "cell_type": "markdown",
   "metadata": {},
   "source": [
    "Cleanlab has a ``get_noise_indices`` function to generate a list of potential label errors. Setting ``sorted_index_method=\"prob_given_label\"`` returns the indices of all the most likely label errors, sorted by the most suspicious example first."
   ]
  },
  {
   "cell_type": "code",
   "execution_count": 8,
   "metadata": {
    "execution": {
     "iopub.execute_input": "2022-03-09T15:03:44.161455Z",
     "iopub.status.busy": "2022-03-09T15:03:44.161299Z",
     "iopub.status.idle": "2022-03-09T15:03:44.489582Z",
     "shell.execute_reply": "2022-03-09T15:03:44.488942Z"
    }
   },
   "outputs": [],
   "source": [
    "from cleanlab.pruning import get_noise_indices\n",
    "\n",
    "ordered_label_errors = get_noise_indices(\n",
    "    s=y,\n",
    "    psx=pyx,\n",
    "    sorted_index_method=\"prob_given_label\"\n",
    ")"
   ]
  },
  {
   "cell_type": "markdown",
   "metadata": {},
   "source": [
    "## 7. Review some of the most likely mislabeled examples"
   ]
  },
  {
   "cell_type": "code",
   "execution_count": 9,
   "metadata": {
    "execution": {
     "iopub.execute_input": "2022-03-09T15:03:44.492470Z",
     "iopub.status.busy": "2022-03-09T15:03:44.492315Z",
     "iopub.status.idle": "2022-03-09T15:03:44.495952Z",
     "shell.execute_reply": "2022-03-09T15:03:44.495389Z"
    }
   },
   "outputs": [
    {
     "name": "stdout",
     "output_type": "stream",
     "text": [
      "Cleanlab found 1252 potential label errors. Here are the indices of the top 15 most likely ones: \n",
      " [24798 18598  8729 15942 20820 59915 61790  1352 39457 31134 20735  7010\n",
      " 26882 66091 12679]\n"
     ]
    }
   ],
   "source": [
    "print(f\"Cleanlab found {len(ordered_label_errors)} potential label errors. Here are the indices of the top 15 most likely ones: \\n {ordered_label_errors[:15]}\")"
   ]
  },
  {
   "cell_type": "markdown",
   "metadata": {},
   "source": [
    "We'll define a new ``plot_examples`` function to display any examples in a subplot conveniently."
   ]
  },
  {
   "cell_type": "code",
   "execution_count": 10,
   "metadata": {
    "execution": {
     "iopub.execute_input": "2022-03-09T15:03:44.498286Z",
     "iopub.status.busy": "2022-03-09T15:03:44.497992Z",
     "iopub.status.idle": "2022-03-09T15:03:45.143874Z",
     "shell.execute_reply": "2022-03-09T15:03:45.143346Z"
    }
   },
   "outputs": [],
   "source": [
    "import matplotlib.pyplot as plt\n",
    "\n",
    "def plot_examples(id_iter, nrows=1, ncols=1):\n",
    "    for count, id in enumerate(id_iter):\n",
    "        plt.subplot(nrows, ncols, count+1)\n",
    "        plt.imshow(X[id].reshape(28, 28))\n",
    "        plt.title(f\"id: {id} \\n label: {y[id]}\")\n",
    "        plt.axis('off')\n",
    "\n",
    "    plt.tight_layout(h_pad=2.0)"
   ]
  },
  {
   "cell_type": "markdown",
   "metadata": {},
   "source": [
    "Let's start by having an overview of the top 15 most likely label errors. From here, we can see a few label errors and edge cases. Feel free to change the parameters to display more or fewer examples. "
   ]
  },
  {
   "cell_type": "code",
   "execution_count": 11,
   "metadata": {
    "execution": {
     "iopub.execute_input": "2022-03-09T15:03:45.146586Z",
     "iopub.status.busy": "2022-03-09T15:03:45.146435Z",
     "iopub.status.idle": "2022-03-09T15:03:45.542083Z",
     "shell.execute_reply": "2022-03-09T15:03:45.541541Z"
    }
   },
   "outputs": [
    {
     "data": {
      "image/png": "[encoded data removed]",
      "text/plain": [
       "<Figure size 432x288 with 15 Axes>"
      ]
     },
     "metadata": {
      "needs_background": "light"
     },
     "output_type": "display_data"
    }
   ],
   "source": [
    "plot_examples(ordered_label_errors[range(15)], 3, 5)"
   ]
  },
  {
   "cell_type": "markdown",
   "metadata": {},
   "source": [
    "Let's zoom into specific examples:"
   ]
  },
  {
   "cell_type": "markdown",
   "metadata": {},
   "source": [
    "Given label is **4** but looks more like a **7**"
   ]
  },
  {
   "cell_type": "code",
   "execution_count": 12,
   "metadata": {
    "execution": {
     "iopub.execute_input": "2022-03-09T15:03:45.544401Z",
     "iopub.status.busy": "2022-03-09T15:03:45.544255Z",
     "iopub.status.idle": "2022-03-09T15:03:45.597942Z",
     "shell.execute_reply": "2022-03-09T15:03:45.597514Z"
    }
   },
   "outputs": [
    {
     "data": {
      "image/png": "[encoded data removed]",
      "text/plain": [
       "<Figure size 432x288 with 1 Axes>"
      ]
     },
     "metadata": {
      "needs_background": "light"
     },
     "output_type": "display_data"
    }
   ],
   "source": [
    "plot_examples([59915])"
   ]
  },
  {
   "cell_type": "markdown",
   "metadata": {},
   "source": [
    "Given label is **4** but also looks like **9**"
   ]
  },
  {
   "cell_type": "code",
   "execution_count": 13,
   "metadata": {
    "execution": {
     "iopub.execute_input": "2022-03-09T15:03:45.601637Z",
     "iopub.status.busy": "2022-03-09T15:03:45.600713Z",
     "iopub.status.idle": "2022-03-09T15:03:45.655733Z",
     "shell.execute_reply": "2022-03-09T15:03:45.655297Z"
    }
   },
   "outputs": [
    {
     "data": {
      "image/png": "[encoded data removed]",
      "text/plain": [
       "<Figure size 432x288 with 1 Axes>"
      ]
     },
     "metadata": {
      "needs_background": "light"
     },
     "output_type": "display_data"
    }
   ],
   "source": [
    "plot_examples([24798])"
   ]
  },
  {
   "cell_type": "markdown",
   "metadata": {},
   "source": [
    "Edge case of odd looking **9**s"
   ]
  },
  {
   "cell_type": "code",
   "execution_count": 14,
   "metadata": {
    "execution": {
     "iopub.execute_input": "2022-03-09T15:03:45.659368Z",
     "iopub.status.busy": "2022-03-09T15:03:45.658467Z",
     "iopub.status.idle": "2022-03-09T15:03:45.853575Z",
     "shell.execute_reply": "2022-03-09T15:03:45.853034Z"
    }
   },
   "outputs": [
    {
     "data": {
      "image/png": "[encoded data removed]",
      "text/plain": [
       "<Figure size 432x288 with 3 Axes>"
      ]
     },
     "metadata": {
      "needs_background": "light"
     },
     "output_type": "display_data"
    }
   ],
   "source": [
    "plot_examples([18598, 1352, 61247], 1, 3)"
   ]
  },
  {
   "cell_type": "markdown",
   "metadata": {},
   "source": [
    "Cleanlab has shortlisted the most likely label errors to speed up your data cleaning process. With this list, you can decide whether to fix label errors, augment edge cases or remove obscure examples. \n",
    "\n",
    "These human-in-the-loop processes may be time-consuming, so if you'd like Cleanlab to automatically remove these noisy examples and train a model directly on the partially mislabeled dataset, you're in luck! Cleanlab provides a ``LearningWithNoisyLabels`` wrapper to do precisely this:"
   ]
  },
  {
   "cell_type": "markdown",
   "metadata": {},
   "source": [
    "## 8. Adapt with Cleanlab's wrapper and train a more robust model"
   ]
  },
  {
   "cell_type": "markdown",
   "metadata": {},
   "source": [
    "First, we split the dataset into train and test subsets."
   ]
  },
  {
   "cell_type": "code",
   "execution_count": 15,
   "metadata": {
    "execution": {
     "iopub.execute_input": "2022-03-09T15:03:45.856327Z",
     "iopub.status.busy": "2022-03-09T15:03:45.856086Z",
     "iopub.status.idle": "2022-03-09T15:03:46.167581Z",
     "shell.execute_reply": "2022-03-09T15:03:46.167001Z"
    }
   },
   "outputs": [],
   "source": [
    "from sklearn.model_selection import train_test_split\n",
    "\n",
    "X_train, X_test, y_train, y_test = train_test_split(X, y, test_size=0.2)"
   ]
  },
  {
   "cell_type": "markdown",
   "metadata": {},
   "source": [
    "Re-instantiate a new scikit-learn compatible model with Skorch then wrap it with Cleanlab's ``LearningWithNoisyLabels`` wrapper."
   ]
  },
  {
   "cell_type": "code",
   "execution_count": 16,
   "metadata": {
    "execution": {
     "iopub.execute_input": "2022-03-09T15:03:46.170659Z",
     "iopub.status.busy": "2022-03-09T15:03:46.170207Z",
     "iopub.status.idle": "2022-03-09T15:03:46.174079Z",
     "shell.execute_reply": "2022-03-09T15:03:46.173581Z"
    }
   },
   "outputs": [],
   "source": [
    "from cleanlab.classification import LearningWithNoisyLabels\n",
    "\n",
    "net = NeuralNetClassifier(NeuralNetwork)\n",
    "clf = LearningWithNoisyLabels(clf=net)"
   ]
  },
  {
   "cell_type": "code",
   "execution_count": 17,
   "metadata": {
    "execution": {
     "iopub.execute_input": "2022-03-09T15:03:46.176280Z",
     "iopub.status.busy": "2022-03-09T15:03:46.176142Z",
     "iopub.status.idle": "2022-03-09T15:04:55.444987Z",
     "shell.execute_reply": "2022-03-09T15:04:55.444404Z"
    }
   },
   "outputs": [
    {
     "name": "stdout",
     "output_type": "stream",
     "text": [
      "  epoch    train_loss    valid_acc    valid_loss     dur\n",
      "-------  ------------  -----------  ------------  ------\n",
      "      1        \u001b[36m2.0216\u001b[0m       \u001b[32m0.7314\u001b[0m        \u001b[35m1.6268\u001b[0m  1.0844\n"
     ]
    },
    {
     "name": "stdout",
     "output_type": "stream",
     "text": [
      "      2        \u001b[36m1.3414\u001b[0m       \u001b[32m0.8095\u001b[0m        \u001b[35m0.9961\u001b[0m  1.0849\n"
     ]
    },
    {
     "name": "stdout",
     "output_type": "stream",
     "text": [
      "      3        \u001b[36m0.9572\u001b[0m       \u001b[32m0.8416\u001b[0m        \u001b[35m0.7350\u001b[0m  1.0887\n"
     ]
    },
    {
     "name": "stdout",
     "output_type": "stream",
     "text": [
      "      4        \u001b[36m0.7858\u001b[0m       \u001b[32m0.8568\u001b[0m        \u001b[35m0.6112\u001b[0m  1.0847\n"
     ]
    },
    {
     "name": "stdout",
     "output_type": "stream",
     "text": [
      "      5        \u001b[36m0.6845\u001b[0m       \u001b[32m0.8685\u001b[0m        \u001b[35m0.5394\u001b[0m  1.0860\n"
     ]
    },
    {
     "name": "stdout",
     "output_type": "stream",
     "text": [
      "      6        \u001b[36m0.6254\u001b[0m       \u001b[32m0.8752\u001b[0m        \u001b[35m0.4931\u001b[0m  1.0850\n"
     ]
    },
    {
     "name": "stdout",
     "output_type": "stream",
     "text": [
      "      7        \u001b[36m0.5789\u001b[0m       \u001b[32m0.8794\u001b[0m        \u001b[35m0.4601\u001b[0m  1.0861\n"
     ]
    },
    {
     "name": "stdout",
     "output_type": "stream",
     "text": [
      "      8        \u001b[36m0.5426\u001b[0m       \u001b[32m0.8839\u001b[0m        \u001b[35m0.4343\u001b[0m  1.1165\n"
     ]
    },
    {
     "name": "stdout",
     "output_type": "stream",
     "text": [
      "      9        \u001b[36m0.5158\u001b[0m       \u001b[32m0.8879\u001b[0m        \u001b[35m0.4148\u001b[0m  1.0931\n"
     ]
    },
    {
     "name": "stdout",
     "output_type": "stream",
     "text": [
      "     10        \u001b[36m0.4968\u001b[0m       \u001b[32m0.8901\u001b[0m        \u001b[35m0.3986\u001b[0m  1.0855\n"
     ]
    },
    {
     "name": "stdout",
     "output_type": "stream",
     "text": [
      "  epoch    train_loss    valid_acc    valid_loss     dur\n",
      "-------  ------------  -----------  ------------  ------\n",
      "      1        \u001b[36m2.0195\u001b[0m       \u001b[32m0.7484\u001b[0m        \u001b[35m1.6238\u001b[0m  1.0985\n"
     ]
    },
    {
     "name": "stdout",
     "output_type": "stream",
     "text": [
      "      2        \u001b[36m1.3270\u001b[0m       \u001b[32m0.8254\u001b[0m        \u001b[35m0.9837\u001b[0m  1.0813\n"
     ]
    },
    {
     "name": "stdout",
     "output_type": "stream",
     "text": [
      "      3        \u001b[36m0.9349\u001b[0m       \u001b[32m0.8471\u001b[0m        \u001b[35m0.7195\u001b[0m  1.0811\n"
     ]
    },
    {
     "name": "stdout",
     "output_type": "stream",
     "text": [
      "      4        \u001b[36m0.7608\u001b[0m       \u001b[32m0.8632\u001b[0m        \u001b[35m0.5985\u001b[0m  1.0827\n"
     ]
    },
    {
     "name": "stdout",
     "output_type": "stream",
     "text": [
      "      5        \u001b[36m0.6702\u001b[0m       \u001b[32m0.8728\u001b[0m        \u001b[35m0.5297\u001b[0m  1.0841\n"
     ]
    },
    {
     "name": "stdout",
     "output_type": "stream",
     "text": [
      "      6        \u001b[36m0.6058\u001b[0m       \u001b[32m0.8799\u001b[0m        \u001b[35m0.4842\u001b[0m  1.0828\n"
     ]
    },
    {
     "name": "stdout",
     "output_type": "stream",
     "text": [
      "      7        \u001b[36m0.5611\u001b[0m       \u001b[32m0.8845\u001b[0m        \u001b[35m0.4519\u001b[0m  1.0813\n"
     ]
    },
    {
     "name": "stdout",
     "output_type": "stream",
     "text": [
      "      8        \u001b[36m0.5306\u001b[0m       \u001b[32m0.8891\u001b[0m        \u001b[35m0.4285\u001b[0m  1.0817\n"
     ]
    },
    {
     "name": "stdout",
     "output_type": "stream",
     "text": [
      "      9        \u001b[36m0.5045\u001b[0m       \u001b[32m0.8908\u001b[0m        \u001b[35m0.4100\u001b[0m  1.0852\n"
     ]
    },
    {
     "name": "stdout",
     "output_type": "stream",
     "text": [
      "     10        \u001b[36m0.4844\u001b[0m       \u001b[32m0.8932\u001b[0m        \u001b[35m0.3949\u001b[0m  1.0832\n"
     ]
    },
    {
     "name": "stdout",
     "output_type": "stream",
     "text": [
      "  epoch    train_loss    valid_acc    valid_loss     dur\n",
      "-------  ------------  -----------  ------------  ------\n",
      "      1        \u001b[36m2.0216\u001b[0m       \u001b[32m0.7249\u001b[0m        \u001b[35m1.6190\u001b[0m  1.0838\n"
     ]
    },
    {
     "name": "stdout",
     "output_type": "stream",
     "text": [
      "      2        \u001b[36m1.3145\u001b[0m       \u001b[32m0.8135\u001b[0m        \u001b[35m0.9763\u001b[0m  1.0973\n"
     ]
    },
    {
     "name": "stdout",
     "output_type": "stream",
     "text": [
      "      3        \u001b[36m0.9223\u001b[0m       \u001b[32m0.8455\u001b[0m        \u001b[35m0.7204\u001b[0m  1.0816\n"
     ]
    },
    {
     "name": "stdout",
     "output_type": "stream",
     "text": [
      "      4        \u001b[36m0.7524\u001b[0m       \u001b[32m0.8600\u001b[0m        \u001b[35m0.6022\u001b[0m  1.0818\n"
     ]
    },
    {
     "name": "stdout",
     "output_type": "stream",
     "text": [
      "      5        \u001b[36m0.6603\u001b[0m       \u001b[32m0.8703\u001b[0m        \u001b[35m0.5357\u001b[0m  1.0839\n"
     ]
    },
    {
     "name": "stdout",
     "output_type": "stream",
     "text": [
      "      6        \u001b[36m0.6031\u001b[0m       \u001b[32m0.8767\u001b[0m        \u001b[35m0.4909\u001b[0m  1.0815\n"
     ]
    },
    {
     "name": "stdout",
     "output_type": "stream",
     "text": [
      "      7        \u001b[36m0.5606\u001b[0m       \u001b[32m0.8823\u001b[0m        \u001b[35m0.4588\u001b[0m  1.0821\n"
     ]
    },
    {
     "name": "stdout",
     "output_type": "stream",
     "text": [
      "      8        \u001b[36m0.5279\u001b[0m       \u001b[32m0.8860\u001b[0m        \u001b[35m0.4354\u001b[0m  1.0836\n"
     ]
    },
    {
     "name": "stdout",
     "output_type": "stream",
     "text": [
      "      9        \u001b[36m0.5030\u001b[0m       \u001b[32m0.8892\u001b[0m        \u001b[35m0.4163\u001b[0m  1.0849\n"
     ]
    },
    {
     "name": "stdout",
     "output_type": "stream",
     "text": [
      "     10        \u001b[36m0.4808\u001b[0m       \u001b[32m0.8914\u001b[0m        \u001b[35m0.4010\u001b[0m  1.1000\n"
     ]
    },
    {
     "name": "stdout",
     "output_type": "stream",
     "text": [
      "  epoch    train_loss    valid_acc    valid_loss     dur\n",
      "-------  ------------  -----------  ------------  ------\n",
      "      1        \u001b[36m2.0442\u001b[0m       \u001b[32m0.7454\u001b[0m        \u001b[35m1.6646\u001b[0m  1.0804\n"
     ]
    },
    {
     "name": "stdout",
     "output_type": "stream",
     "text": [
      "      2        \u001b[36m1.3607\u001b[0m       \u001b[32m0.8164\u001b[0m        \u001b[35m1.0096\u001b[0m  1.0813\n"
     ]
    },
    {
     "name": "stdout",
     "output_type": "stream",
     "text": [
      "      3        \u001b[36m0.9618\u001b[0m       \u001b[32m0.8465\u001b[0m        \u001b[35m0.7378\u001b[0m  1.0844\n"
     ]
    },
    {
     "name": "stdout",
     "output_type": "stream",
     "text": [
      "      4        \u001b[36m0.7813\u001b[0m       \u001b[32m0.8610\u001b[0m        \u001b[35m0.6091\u001b[0m  1.0809\n"
     ]
    },
    {
     "name": "stdout",
     "output_type": "stream",
     "text": [
      "      5        \u001b[36m0.6790\u001b[0m       \u001b[32m0.8700\u001b[0m        \u001b[35m0.5358\u001b[0m  1.0834\n"
     ]
    },
    {
     "name": "stdout",
     "output_type": "stream",
     "text": [
      "      6        \u001b[36m0.6145\u001b[0m       \u001b[32m0.8781\u001b[0m        \u001b[35m0.4882\u001b[0m  1.1162\n"
     ]
    },
    {
     "name": "stdout",
     "output_type": "stream",
     "text": [
      "      7        \u001b[36m0.5675\u001b[0m       \u001b[32m0.8837\u001b[0m        \u001b[35m0.4541\u001b[0m  1.0817\n"
     ]
    },
    {
     "name": "stdout",
     "output_type": "stream",
     "text": [
      "      8        \u001b[36m0.5386\u001b[0m       \u001b[32m0.8867\u001b[0m        \u001b[35m0.4297\u001b[0m  1.0813\n"
     ]
    },
    {
     "name": "stdout",
     "output_type": "stream",
     "text": [
      "      9        \u001b[36m0.5097\u001b[0m       \u001b[32m0.8897\u001b[0m        \u001b[35m0.4094\u001b[0m  1.0815\n"
     ]
    },
    {
     "name": "stdout",
     "output_type": "stream",
     "text": [
      "     10        \u001b[36m0.4924\u001b[0m       \u001b[32m0.8924\u001b[0m        \u001b[35m0.3934\u001b[0m  1.0828\n"
     ]
    },
    {
     "name": "stdout",
     "output_type": "stream",
     "text": [
      "  epoch    train_loss    valid_acc    valid_loss     dur\n",
      "-------  ------------  -----------  ------------  ------\n",
      "      1        \u001b[36m1.9816\u001b[0m       \u001b[32m0.7595\u001b[0m        \u001b[35m1.5652\u001b[0m  1.0820\n"
     ]
    },
    {
     "name": "stdout",
     "output_type": "stream",
     "text": [
      "      2        \u001b[36m1.2870\u001b[0m       \u001b[32m0.8191\u001b[0m        \u001b[35m0.9542\u001b[0m  1.0810\n"
     ]
    },
    {
     "name": "stdout",
     "output_type": "stream",
     "text": [
      "      3        \u001b[36m0.9156\u001b[0m       \u001b[32m0.8440\u001b[0m        \u001b[35m0.7099\u001b[0m  1.0810\n"
     ]
    },
    {
     "name": "stdout",
     "output_type": "stream",
     "text": [
      "      4        \u001b[36m0.7551\u001b[0m       \u001b[32m0.8595\u001b[0m        \u001b[35m0.5947\u001b[0m  1.0813\n"
     ]
    },
    {
     "name": "stdout",
     "output_type": "stream",
     "text": [
      "      5        \u001b[36m0.6625\u001b[0m       \u001b[32m0.8695\u001b[0m        \u001b[35m0.5283\u001b[0m  1.0827\n"
     ]
    },
    {
     "name": "stdout",
     "output_type": "stream",
     "text": [
      "      6        \u001b[36m0.5992\u001b[0m       \u001b[32m0.8757\u001b[0m        \u001b[35m0.4841\u001b[0m  1.0822\n"
     ]
    },
    {
     "name": "stdout",
     "output_type": "stream",
     "text": [
      "      7        \u001b[36m0.5582\u001b[0m       \u001b[32m0.8806\u001b[0m        \u001b[35m0.4528\u001b[0m  1.0848\n"
     ]
    },
    {
     "name": "stdout",
     "output_type": "stream",
     "text": [
      "      8        \u001b[36m0.5282\u001b[0m       \u001b[32m0.8846\u001b[0m        \u001b[35m0.4290\u001b[0m  1.0819\n"
     ]
    },
    {
     "name": "stdout",
     "output_type": "stream",
     "text": [
      "      9        \u001b[36m0.5024\u001b[0m       \u001b[32m0.8893\u001b[0m        \u001b[35m0.4105\u001b[0m  1.0831\n"
     ]
    },
    {
     "name": "stdout",
     "output_type": "stream",
     "text": [
      "     10        \u001b[36m0.4781\u001b[0m       \u001b[32m0.8913\u001b[0m        \u001b[35m0.3951\u001b[0m  1.0871\n"
     ]
    },
    {
     "name": "stdout",
     "output_type": "stream",
     "text": [
      "  epoch    train_loss    valid_acc    valid_loss     dur\n",
      "-------  ------------  -----------  ------------  ------\n",
      "      1        \u001b[36m1.9072\u001b[0m       \u001b[32m0.7825\u001b[0m        \u001b[35m1.3911\u001b[0m  1.3414\n"
     ]
    },
    {
     "name": "stdout",
     "output_type": "stream",
     "text": [
      "      2        \u001b[36m1.1184\u001b[0m       \u001b[32m0.8515\u001b[0m        \u001b[35m0.7879\u001b[0m  1.3980\n"
     ]
    },
    {
     "name": "stdout",
     "output_type": "stream",
     "text": [
      "      3        \u001b[36m0.7842\u001b[0m       \u001b[32m0.8729\u001b[0m        \u001b[35m0.5807\u001b[0m  1.3266\n"
     ]
    },
    {
     "name": "stdout",
     "output_type": "stream",
     "text": [
      "      4        \u001b[36m0.6407\u001b[0m       \u001b[32m0.8867\u001b[0m        \u001b[35m0.4813\u001b[0m  1.3273\n"
     ]
    },
    {
     "name": "stdout",
     "output_type": "stream",
     "text": [
      "      5        \u001b[36m0.5599\u001b[0m       \u001b[32m0.8941\u001b[0m        \u001b[35m0.4234\u001b[0m  1.3283\n"
     ]
    },
    {
     "name": "stdout",
     "output_type": "stream",
     "text": [
      "      6        \u001b[36m0.5062\u001b[0m       \u001b[32m0.8986\u001b[0m        \u001b[35m0.3844\u001b[0m  1.3597\n"
     ]
    },
    {
     "name": "stdout",
     "output_type": "stream",
     "text": [
      "      7        \u001b[36m0.4660\u001b[0m       \u001b[32m0.9037\u001b[0m        \u001b[35m0.3557\u001b[0m  1.3316\n"
     ]
    },
    {
     "name": "stdout",
     "output_type": "stream",
     "text": [
      "      8        \u001b[36m0.4379\u001b[0m       \u001b[32m0.9068\u001b[0m        \u001b[35m0.3343\u001b[0m  1.3269\n"
     ]
    },
    {
     "name": "stdout",
     "output_type": "stream",
     "text": [
      "      9        \u001b[36m0.4127\u001b[0m       \u001b[32m0.9107\u001b[0m        \u001b[35m0.3171\u001b[0m  1.3274\n"
     ]
    },
    {
     "name": "stdout",
     "output_type": "stream",
     "text": [
      "     10        \u001b[36m0.3960\u001b[0m       \u001b[32m0.9138\u001b[0m        \u001b[35m0.3028\u001b[0m  1.3299\n"
     ]
    }
   ],
   "source": [
    "_ = clf.fit(X_train, y_train.to_numpy())"
   ]
  },
  {
   "cell_type": "markdown",
   "metadata": {},
   "source": [
    "## 9. Evaluate the robust model's performance"
   ]
  },
  {
   "cell_type": "code",
   "execution_count": 18,
   "metadata": {
    "execution": {
     "iopub.execute_input": "2022-03-09T15:04:55.447436Z",
     "iopub.status.busy": "2022-03-09T15:04:55.447286Z",
     "iopub.status.idle": "2022-03-09T15:04:55.679034Z",
     "shell.execute_reply": "2022-03-09T15:04:55.678512Z"
    }
   },
   "outputs": [
    {
     "data": {
      "text/plain": [
       "0.8988571428571429"
      ]
     },
     "execution_count": 18,
     "metadata": {},
     "output_type": "execute_result"
    }
   ],
   "source": [
    "from sklearn.metrics import accuracy_score\n",
    "\n",
    "y_pred = clf.predict(X_test)\n",
    "accuracy_score(y_test, y_pred)"
   ]
  },
  {
   "cell_type": "markdown",
   "metadata": {},
   "source": [
    "## What's next?"
   ]
  },
  {
   "cell_type": "markdown",
   "metadata": {},
   "source": [
    "Congratulations on completing this tutorial! Check out our following tutorial on using Cleanlab for text classification, where we found ``hundreds`` of potential label errors in one of the most well-known text datasets, the IMBDb movie review dataset!"
   ]
  }
 ],
 "metadata": {
  "interpreter": {
   "hash": "ced20e3e49bb4fa4ce8ad38f8f2535b7fc4c39b2b89554502b5dbdad1ad67eda"
  },
  "kernelspec": {
   "display_name": "Python 3.10.0 64-bit",
   "language": "python",
   "name": "python3"
  },
  "language_info": {
   "codemirror_mode": {
    "name": "ipython",
    "version": 3
   },
   "file_extension": ".py",
   "mimetype": "text/x-python",
   "name": "python",
   "nbconvert_exporter": "python",
   "pygments_lexer": "ipython3",
   "version": "3.8.12"
  }
 },
 "nbformat": 4,
 "nbformat_minor": 2
}
