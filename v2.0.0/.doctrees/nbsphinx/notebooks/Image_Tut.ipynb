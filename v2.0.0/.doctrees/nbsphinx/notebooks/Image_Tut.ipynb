{
 "cells": [
  {
   "cell_type": "markdown",
   "metadata": {},
   "source": [
    "# Image Classification with PyTorch and Cleanlab\n"
   ]
  },
  {
   "cell_type": "markdown",
   "metadata": {},
   "source": [
    "This 5-minute cleanlab quickstart tutorial demonstrates how to find potential label errors in image classification data. Here we use the MNIST dataset containing 70,000 images of handwritten digits from 0 to 9.\n",
    "\n",
    "**Overview of what we'll do in this tutorial:**\n",
    "\n",
    "- Build a simple PyTorch neural net and wrap it with Skorch to make it scikit-learn compatible.\n",
    "\n",
    "- Compute the out-of-sample predicted probabilities, `psx`, via cross-validation.\n",
    "\n",
    "- Generate a list of potential label errors with Cleanlab's `get_noise_indices`.\n"
   ]
  },
  {
   "cell_type": "markdown",
   "metadata": {},
   "source": [
    "## 1. Install the required dependencies\n"
   ]
  },
  {
   "cell_type": "markdown",
   "metadata": {},
   "source": [
    "Install the following dependencies with `pip install`:\n",
    "\n",
    "1. cleanlab\n",
    "2. pandas\n",
    "3. matplotlib\n",
    "4. torch\n",
    "5. torchvision\n",
    "6. skorch\n"
   ]
  },
  {
   "cell_type": "code",
   "execution_count": 1,
   "metadata": {
    "execution": {
     "iopub.execute_input": "2022-03-17T09:13:46.713498Z",
     "iopub.status.busy": "2022-03-17T09:13:46.712916Z",
     "iopub.status.idle": "2022-03-17T09:13:58.287068Z",
     "shell.execute_reply": "2022-03-17T09:13:58.286394Z"
    },
    "nbsphinx": "hidden"
   },
   "outputs": [],
   "source": [
    "%%capture\n",
    "\n",
    "%pip install --force-reinstall cleanlab==1.0.1"
   ]
  },
  {
   "cell_type": "code",
   "execution_count": 2,
   "metadata": {
    "execution": {
     "iopub.execute_input": "2022-03-17T09:13:58.290061Z",
     "iopub.status.busy": "2022-03-17T09:13:58.289895Z",
     "iopub.status.idle": "2022-03-17T09:13:59.372495Z",
     "shell.execute_reply": "2022-03-17T09:13:59.371932Z"
    },
    "nbsphinx": "hidden"
   },
   "outputs": [],
   "source": [
    "import os\n",
    "\n",
    "dependencies = [\"cleanlab\", \"pandas\", \"matplotlib\", \"torch\", \"torchvision\", \"skorch\"]\n",
    "\n",
    "if \"google.colab\" in str(get_ipython()):  # Check if it's running in Google Colab\n",
    "    %pip install cleanlab pandas matplotlib torch torchvision skorch\n",
    "else:\n",
    "    missing_dependencies = []\n",
    "    for dependency in dependencies:\n",
    "        try:\n",
    "            __import__(dependency)\n",
    "        except ImportError:\n",
    "            missing_dependencies.append(dependency)\n",
    "\n",
    "    if len(missing_dependencies) > 0:\n",
    "        print(\"Missing required dependencies:\")\n",
    "        print(*missing_dependencies, sep=\", \")\n",
    "        print(\"\\nPlease install them before running the rest of this notebook.\")"
   ]
  },
  {
   "cell_type": "markdown",
   "metadata": {},
   "source": [
    "## 2. Fetch and scale the MNIST dataset\n"
   ]
  },
  {
   "cell_type": "code",
   "execution_count": 3,
   "metadata": {
    "execution": {
     "iopub.execute_input": "2022-03-17T09:13:59.375142Z",
     "iopub.status.busy": "2022-03-17T09:13:59.374993Z",
     "iopub.status.idle": "2022-03-17T09:14:34.900086Z",
     "shell.execute_reply": "2022-03-17T09:14:34.899463Z"
    }
   },
   "outputs": [],
   "source": [
    "from sklearn.datasets import fetch_openml\n",
    "\n",
    "mnist = fetch_openml(\"mnist_784\")  # Fetch the MNIST dataset\n",
    "\n",
    "X = mnist.data.astype(\"float32\").to_numpy()  # 2D numpy array of image features\n",
    "X /= 255.0  # Scale the features which range from 0 to 255 (256 levels on the grayscale) to the [0, 1] range\n",
    "\n",
    "y = mnist.target.astype(\"int64\").to_numpy()  # 1D numpy array of the image labels"
   ]
  },
  {
   "cell_type": "markdown",
   "metadata": {},
   "source": [
    "<div class=\"alert alert-info\">\n",
    "Bringing Your Own Data (BYOD)?\n",
    "\n",
    "Assign your data's features to variable `X` and its labels to variable `y` instead.\n",
    "\n",
    "</div>\n"
   ]
  },
  {
   "cell_type": "markdown",
   "metadata": {},
   "source": [
    "## 3. Define a classification model\n"
   ]
  },
  {
   "cell_type": "markdown",
   "metadata": {},
   "source": [
    "Here, we define a simple neural network with PyTorch.\n"
   ]
  },
  {
   "cell_type": "code",
   "execution_count": 4,
   "metadata": {
    "execution": {
     "iopub.execute_input": "2022-03-17T09:14:34.904109Z",
     "iopub.status.busy": "2022-03-17T09:14:34.903771Z",
     "iopub.status.idle": "2022-03-17T09:14:34.930708Z",
     "shell.execute_reply": "2022-03-17T09:14:34.930168Z"
    }
   },
   "outputs": [],
   "source": [
    "from torch import nn\n",
    "\n",
    "model = nn.Sequential(\n",
    "    nn.Linear(28 * 28, 128),\n",
    "    nn.ReLU(),\n",
    "    nn.Dropout(0.5),\n",
    "    nn.Linear(128, 10),\n",
    "    nn.Softmax(dim=-1),\n",
    ")"
   ]
  },
  {
   "cell_type": "markdown",
   "metadata": {},
   "source": [
    "## 4. Ensure your classifier is scikit-learn compatible\n"
   ]
  },
  {
   "cell_type": "markdown",
   "metadata": {},
   "source": [
    "As some of Cleanlab's features requires scikit-learn compatibility, we will need to adapt the above PyTorch neural net accordingly. [Skorch](https://skorch.readthedocs.io) is a convenient package that helps with this. You can also easily wrap an arbitrary model to be scikit-learn compatible as demonstrated [here](https://github.com/cleanlab/cleanlab#use-cleanlab-with-any-model-tensorflow-pytorch-sklearn-xgboost-etc).\n"
   ]
  },
  {
   "cell_type": "code",
   "execution_count": 5,
   "metadata": {
    "execution": {
     "iopub.execute_input": "2022-03-17T09:14:34.933726Z",
     "iopub.status.busy": "2022-03-17T09:14:34.933249Z",
     "iopub.status.idle": "2022-03-17T09:14:34.936266Z",
     "shell.execute_reply": "2022-03-17T09:14:34.935783Z"
    }
   },
   "outputs": [],
   "source": [
    "from skorch import NeuralNetClassifier\n",
    "\n",
    "model_skorch = NeuralNetClassifier(model)"
   ]
  },
  {
   "cell_type": "markdown",
   "metadata": {},
   "source": [
    "## 5. Compute out-of-sample predicted probabilities\n"
   ]
  },
  {
   "cell_type": "markdown",
   "metadata": {},
   "source": [
    "If we'd like Cleanlab to identify potential label errors in the whole dataset and not just the training set, we can consider using the entire dataset when computing the out-of-sample predicted probabilities, `psx`, via cross-validation.\n"
   ]
  },
  {
   "cell_type": "code",
   "execution_count": 6,
   "metadata": {
    "execution": {
     "iopub.execute_input": "2022-03-17T09:14:34.938549Z",
     "iopub.status.busy": "2022-03-17T09:14:34.938268Z",
     "iopub.status.idle": "2022-03-17T09:15:11.255028Z",
     "shell.execute_reply": "2022-03-17T09:15:11.254512Z"
    }
   },
   "outputs": [
    {
     "name": "stdout",
     "output_type": "stream",
     "text": [
      "  epoch    train_loss    valid_acc    valid_loss     dur\n",
      "-------  ------------  -----------  ------------  ------\n",
      "      1        \u001b[36m1.9733\u001b[0m       \u001b[32m0.7164\u001b[0m        \u001b[35m1.5571\u001b[0m  1.1688\n"
     ]
    },
    {
     "name": "stdout",
     "output_type": "stream",
     "text": [
      "      2        \u001b[36m1.2498\u001b[0m       \u001b[32m0.7985\u001b[0m        \u001b[35m0.9538\u001b[0m  1.1502\n"
     ]
    },
    {
     "name": "stdout",
     "output_type": "stream",
     "text": [
      "      3        \u001b[36m0.8810\u001b[0m       \u001b[32m0.8303\u001b[0m        \u001b[35m0.7189\u001b[0m  1.1874\n"
     ]
    },
    {
     "name": "stdout",
     "output_type": "stream",
     "text": [
      "      4        \u001b[36m0.7230\u001b[0m       \u001b[32m0.8460\u001b[0m        \u001b[35m0.6091\u001b[0m  1.1686\n"
     ]
    },
    {
     "name": "stdout",
     "output_type": "stream",
     "text": [
      "      5        \u001b[36m0.6359\u001b[0m       \u001b[32m0.8580\u001b[0m        \u001b[35m0.5456\u001b[0m  1.1611\n"
     ]
    },
    {
     "name": "stdout",
     "output_type": "stream",
     "text": [
      "      6        \u001b[36m0.5842\u001b[0m       \u001b[32m0.8667\u001b[0m        \u001b[35m0.5020\u001b[0m  1.1509\n"
     ]
    },
    {
     "name": "stdout",
     "output_type": "stream",
     "text": [
      "      7        \u001b[36m0.5398\u001b[0m       \u001b[32m0.8715\u001b[0m        \u001b[35m0.4703\u001b[0m  1.1539\n"
     ]
    },
    {
     "name": "stdout",
     "output_type": "stream",
     "text": [
      "      8        \u001b[36m0.5122\u001b[0m       \u001b[32m0.8755\u001b[0m        \u001b[35m0.4470\u001b[0m  1.1501\n"
     ]
    },
    {
     "name": "stdout",
     "output_type": "stream",
     "text": [
      "      9        \u001b[36m0.4888\u001b[0m       \u001b[32m0.8782\u001b[0m        \u001b[35m0.4284\u001b[0m  1.1565\n"
     ]
    },
    {
     "name": "stdout",
     "output_type": "stream",
     "text": [
      "     10        \u001b[36m0.4676\u001b[0m       \u001b[32m0.8808\u001b[0m        \u001b[35m0.4134\u001b[0m  1.1563\n"
     ]
    },
    {
     "name": "stdout",
     "output_type": "stream",
     "text": [
      "  epoch    train_loss    valid_acc    valid_loss     dur\n",
      "-------  ------------  -----------  ------------  ------\n",
      "      1        \u001b[36m1.9694\u001b[0m       \u001b[32m0.7351\u001b[0m        \u001b[35m1.5378\u001b[0m  1.1550\n"
     ]
    },
    {
     "name": "stdout",
     "output_type": "stream",
     "text": [
      "      2        \u001b[36m1.2411\u001b[0m       \u001b[32m0.8094\u001b[0m        \u001b[35m0.9267\u001b[0m  1.1955\n"
     ]
    },
    {
     "name": "stdout",
     "output_type": "stream",
     "text": [
      "      3        \u001b[36m0.8783\u001b[0m       \u001b[32m0.8397\u001b[0m        \u001b[35m0.6929\u001b[0m  1.1566\n"
     ]
    },
    {
     "name": "stdout",
     "output_type": "stream",
     "text": [
      "      4        \u001b[36m0.7207\u001b[0m       \u001b[32m0.8548\u001b[0m        \u001b[35m0.5828\u001b[0m  1.1495\n"
     ]
    },
    {
     "name": "stdout",
     "output_type": "stream",
     "text": [
      "      5        \u001b[36m0.6362\u001b[0m       \u001b[32m0.8670\u001b[0m        \u001b[35m0.5182\u001b[0m  1.1596\n"
     ]
    },
    {
     "name": "stdout",
     "output_type": "stream",
     "text": [
      "      6        \u001b[36m0.5796\u001b[0m       \u001b[32m0.8765\u001b[0m        \u001b[35m0.4750\u001b[0m  1.1651\n"
     ]
    },
    {
     "name": "stdout",
     "output_type": "stream",
     "text": [
      "      7        \u001b[36m0.5407\u001b[0m       \u001b[32m0.8828\u001b[0m        \u001b[35m0.4439\u001b[0m  1.1489\n"
     ]
    },
    {
     "name": "stdout",
     "output_type": "stream",
     "text": [
      "      8        \u001b[36m0.5103\u001b[0m       \u001b[32m0.8877\u001b[0m        \u001b[35m0.4207\u001b[0m  1.1460\n"
     ]
    },
    {
     "name": "stdout",
     "output_type": "stream",
     "text": [
      "      9        \u001b[36m0.4883\u001b[0m       \u001b[32m0.8906\u001b[0m        \u001b[35m0.4023\u001b[0m  1.1565\n"
     ]
    },
    {
     "name": "stdout",
     "output_type": "stream",
     "text": [
      "     10        \u001b[36m0.4648\u001b[0m       \u001b[32m0.8930\u001b[0m        \u001b[35m0.3867\u001b[0m  1.2194\n"
     ]
    },
    {
     "name": "stdout",
     "output_type": "stream",
     "text": [
      "  epoch    train_loss    valid_acc    valid_loss     dur\n",
      "-------  ------------  -----------  ------------  ------\n",
      "      1        \u001b[36m1.9828\u001b[0m       \u001b[32m0.7229\u001b[0m        \u001b[35m1.5552\u001b[0m  1.1508\n"
     ]
    },
    {
     "name": "stdout",
     "output_type": "stream",
     "text": [
      "      2        \u001b[36m1.2780\u001b[0m       \u001b[32m0.8157\u001b[0m        \u001b[35m0.9402\u001b[0m  1.1475\n"
     ]
    },
    {
     "name": "stdout",
     "output_type": "stream",
     "text": [
      "      3        \u001b[36m0.9109\u001b[0m       \u001b[32m0.8449\u001b[0m        \u001b[35m0.6998\u001b[0m  1.1780\n"
     ]
    },
    {
     "name": "stdout",
     "output_type": "stream",
     "text": [
      "      4        \u001b[36m0.7511\u001b[0m       \u001b[32m0.8618\u001b[0m        \u001b[35m0.5841\u001b[0m  1.1438\n"
     ]
    },
    {
     "name": "stdout",
     "output_type": "stream",
     "text": [
      "      5        \u001b[36m0.6594\u001b[0m       \u001b[32m0.8733\u001b[0m        \u001b[35m0.5172\u001b[0m  1.1495\n"
     ]
    },
    {
     "name": "stdout",
     "output_type": "stream",
     "text": [
      "      6        \u001b[36m0.6025\u001b[0m       \u001b[32m0.8803\u001b[0m        \u001b[35m0.4727\u001b[0m  1.1452\n"
     ]
    },
    {
     "name": "stdout",
     "output_type": "stream",
     "text": [
      "      7        \u001b[36m0.5621\u001b[0m       \u001b[32m0.8863\u001b[0m        \u001b[35m0.4418\u001b[0m  1.1482\n"
     ]
    },
    {
     "name": "stdout",
     "output_type": "stream",
     "text": [
      "      8        \u001b[36m0.5339\u001b[0m       \u001b[32m0.8905\u001b[0m        \u001b[35m0.4180\u001b[0m  1.1617\n"
     ]
    },
    {
     "name": "stdout",
     "output_type": "stream",
     "text": [
      "      9        \u001b[36m0.5087\u001b[0m       \u001b[32m0.8949\u001b[0m        \u001b[35m0.3981\u001b[0m  1.1487\n"
     ]
    },
    {
     "name": "stdout",
     "output_type": "stream",
     "text": [
      "     10        \u001b[36m0.4866\u001b[0m       \u001b[32m0.8976\u001b[0m        \u001b[35m0.3828\u001b[0m  1.1509\n"
     ]
    }
   ],
   "source": [
    "from sklearn.model_selection import cross_val_predict\n",
    "\n",
    "psx = cross_val_predict(model_skorch, X, y, cv=3, method=\"predict_proba\")"
   ]
  },
  {
   "cell_type": "markdown",
   "metadata": {},
   "source": [
    "## 6. Run Cleanlab to find potential label errors\n"
   ]
  },
  {
   "cell_type": "markdown",
   "metadata": {},
   "source": [
    "Cleanlab has a `get_noise_indices` function to generate a list of potential label errors. Setting `sorted_index_method=\"prob_given_label\"` returns the indices of all the most likely label errors, sorted by the most suspicious example first.\n"
   ]
  },
  {
   "cell_type": "code",
   "execution_count": 7,
   "metadata": {
    "execution": {
     "iopub.execute_input": "2022-03-17T09:15:11.257827Z",
     "iopub.status.busy": "2022-03-17T09:15:11.257641Z",
     "iopub.status.idle": "2022-03-17T09:15:11.536158Z",
     "shell.execute_reply": "2022-03-17T09:15:11.535528Z"
    }
   },
   "outputs": [],
   "source": [
    "from cleanlab.pruning import get_noise_indices\n",
    "\n",
    "ordered_label_errors = get_noise_indices(\n",
    "    s=y, psx=psx, sorted_index_method=\"prob_given_label\"\n",
    ")"
   ]
  },
  {
   "cell_type": "markdown",
   "metadata": {},
   "source": [
    "## 7. Review some of the most likely mislabeled examples\n"
   ]
  },
  {
   "cell_type": "code",
   "execution_count": 8,
   "metadata": {
    "execution": {
     "iopub.execute_input": "2022-03-17T09:15:11.539192Z",
     "iopub.status.busy": "2022-03-17T09:15:11.538902Z",
     "iopub.status.idle": "2022-03-17T09:15:11.543903Z",
     "shell.execute_reply": "2022-03-17T09:15:11.543408Z"
    }
   },
   "outputs": [
    {
     "name": "stdout",
     "output_type": "stream",
     "text": [
      "Cleanlab found 1240 potential label errors.\n",
      "Here are the indices of the top 15 most likely ones: \n",
      " [18598 24798  8729 31134 20820  1352 53216 61790 15942 12679 59915 20735\n",
      " 39457 29434 55739]\n"
     ]
    }
   ],
   "source": [
    "print(f\"Cleanlab found {len(ordered_label_errors)} potential label errors.\")\n",
    "print(\n",
    "    f\"Here are the indices of the top 15 most likely ones: \\n {ordered_label_errors[:15]}\"\n",
    ")"
   ]
  },
  {
   "cell_type": "markdown",
   "metadata": {},
   "source": [
    "We'll define a new `plot_examples` function to display any examples in a subplot conveniently.\n"
   ]
  },
  {
   "cell_type": "raw",
   "metadata": {},
   "source": [
    "<!-- This cell is for the collapsible block in the doc site -->\n",
    "\n",
    "<details>\n",
    "    <summary markdown=\"1\">Click here to view its code.</summary>"
   ]
  },
  {
   "cell_type": "code",
   "execution_count": 9,
   "metadata": {
    "execution": {
     "iopub.execute_input": "2022-03-17T09:15:11.546268Z",
     "iopub.status.busy": "2022-03-17T09:15:11.545980Z",
     "iopub.status.idle": "2022-03-17T09:15:14.116289Z",
     "shell.execute_reply": "2022-03-17T09:15:14.115710Z"
    }
   },
   "outputs": [],
   "source": [
    "import matplotlib.pyplot as plt\n",
    "\n",
    "\n",
    "def plot_examples(id_iter, nrows=1, ncols=1):\n",
    "    for count, id in enumerate(id_iter):\n",
    "        plt.subplot(nrows, ncols, count + 1)\n",
    "        plt.imshow(X[id].reshape(28, 28))\n",
    "        plt.title(f\"id: {id} \\n label: {y[id]}\")\n",
    "        plt.axis(\"off\")\n",
    "\n",
    "    plt.tight_layout(h_pad=2.0)"
   ]
  },
  {
   "cell_type": "raw",
   "metadata": {},
   "source": [
    "<!-- This cell is for the collapsible block in the doc site -->\n",
    "\n",
    "</details>"
   ]
  },
  {
   "cell_type": "markdown",
   "metadata": {},
   "source": [
    "Let's start by having an overview of the top 15 most likely label errors. From here, we can see a few label errors and edge cases. Feel free to change the parameters to display more or fewer examples.\n"
   ]
  },
  {
   "cell_type": "code",
   "execution_count": 10,
   "metadata": {
    "execution": {
     "iopub.execute_input": "2022-03-17T09:15:14.119220Z",
     "iopub.status.busy": "2022-03-17T09:15:14.119015Z",
     "iopub.status.idle": "2022-03-17T09:15:14.581093Z",
     "shell.execute_reply": "2022-03-17T09:15:14.580510Z"
    }
   },
   "outputs": [
    {
     "data": {
      "image/png": "[encoded data removed]",
      "text/plain": [
       "<Figure size 432x288 with 15 Axes>"
      ]
     },
     "metadata": {
      "needs_background": "light"
     },
     "output_type": "display_data"
    }
   ],
   "source": [
    "plot_examples(ordered_label_errors[range(15)], 3, 5)"
   ]
  },
  {
   "cell_type": "markdown",
   "metadata": {},
   "source": [
    "Let's zoom into specific examples:\n"
   ]
  },
  {
   "cell_type": "markdown",
   "metadata": {},
   "source": [
    "Given label is **4** but looks more like a **7**\n"
   ]
  },
  {
   "cell_type": "code",
   "execution_count": 11,
   "metadata": {
    "execution": {
     "iopub.execute_input": "2022-03-17T09:15:14.583479Z",
     "iopub.status.busy": "2022-03-17T09:15:14.583331Z",
     "iopub.status.idle": "2022-03-17T09:15:14.637767Z",
     "shell.execute_reply": "2022-03-17T09:15:14.637223Z"
    }
   },
   "outputs": [
    {
     "data": {
      "image/png": "[encoded data removed]",
      "text/plain": [
       "<Figure size 432x288 with 1 Axes>"
      ]
     },
     "metadata": {
      "needs_background": "light"
     },
     "output_type": "display_data"
    }
   ],
   "source": [
    "plot_examples([59915])"
   ]
  },
  {
   "cell_type": "markdown",
   "metadata": {},
   "source": [
    "Given label is **4** but also looks like **9**\n"
   ]
  },
  {
   "cell_type": "code",
   "execution_count": 12,
   "metadata": {
    "execution": {
     "iopub.execute_input": "2022-03-17T09:15:14.640903Z",
     "iopub.status.busy": "2022-03-17T09:15:14.640637Z",
     "iopub.status.idle": "2022-03-17T09:15:14.697479Z",
     "shell.execute_reply": "2022-03-17T09:15:14.697040Z"
    }
   },
   "outputs": [
    {
     "data": {
      "image/png": "[encoded data removed]",
      "text/plain": [
       "<Figure size 432x288 with 1 Axes>"
      ]
     },
     "metadata": {
      "needs_background": "light"
     },
     "output_type": "display_data"
    }
   ],
   "source": [
    "plot_examples([24798])"
   ]
  },
  {
   "cell_type": "markdown",
   "metadata": {},
   "source": [
    "Edge case of odd looking **9**s\n"
   ]
  },
  {
   "cell_type": "code",
   "execution_count": 13,
   "metadata": {
    "execution": {
     "iopub.execute_input": "2022-03-17T09:15:14.701416Z",
     "iopub.status.busy": "2022-03-17T09:15:14.700323Z",
     "iopub.status.idle": "2022-03-17T09:15:14.820427Z",
     "shell.execute_reply": "2022-03-17T09:15:14.819990Z"
    }
   },
   "outputs": [
    {
     "data": {
      "image/png": "[encoded data removed]",
      "text/plain": [
       "<Figure size 432x288 with 3 Axes>"
      ]
     },
     "metadata": {
      "needs_background": "light"
     },
     "output_type": "display_data"
    }
   ],
   "source": [
    "plot_examples([18598, 1352, 61247], 1, 3)"
   ]
  },
  {
   "cell_type": "markdown",
   "metadata": {},
   "source": [
    "Cleanlab has shortlisted the most likely label errors to speed up your data cleaning process. With this list, you can decide whether to fix label errors, augment edge cases, or remove obscure examples.\n"
   ]
  },
  {
   "cell_type": "markdown",
   "metadata": {},
   "source": [
    "## What's next?\n"
   ]
  },
  {
   "cell_type": "markdown",
   "metadata": {},
   "source": [
    "Congratulations on completing this tutorial! Check out our following tutorial on using Cleanlab for text classification, where we found _hundreds_ of potential label errors in one of the most well-known text datasets, the IMBDb movie review dataset!\n"
   ]
  }
 ],
 "metadata": {
  "interpreter": {
   "hash": "ced20e3e49bb4fa4ce8ad38f8f2535b7fc4c39b2b89554502b5dbdad1ad67eda"
  },
  "kernelspec": {
   "display_name": "Python 3.10.0 64-bit",
   "language": "python",
   "name": "python3"
  },
  "language_info": {
   "codemirror_mode": {
    "name": "ipython",
    "version": 3
   },
   "file_extension": ".py",
   "mimetype": "text/x-python",
   "name": "python",
   "nbconvert_exporter": "python",
   "pygments_lexer": "ipython3",
   "version": "3.8.12"
  }
 },
 "nbformat": 4,
 "nbformat_minor": 2
}
