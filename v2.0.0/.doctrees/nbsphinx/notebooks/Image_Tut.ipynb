{
 "cells": [
  {
   "cell_type": "markdown",
   "metadata": {},
   "source": [
    "# Image Classification with Cleanlab, PyTorch & Skorch"
   ]
  },
  {
   "cell_type": "markdown",
   "metadata": {},
   "source": [
    "This tutorial will use Cleanlab to find potential label errors in the MNIST handwritten digit image dataset. This dataset contains 60,000 images of handwritten digits from 0 to 9. We'll find *more than a thousand* highly suspicious examples with label errors and edge cases by the end of this tutorial. \n",
    "\n",
    "**Overview of what we'll do in this tutorial:**\n",
    "\n",
    "- Build a simple PyTorch neural net and wrap it with Skorch to make it scikit-learn compatible.\n",
    "\n",
    "- Compute the cross-validated predicted probabilities, ``pyx``, sometimes known as the out-of-sample predicted probabilities.\n",
    "\n",
    "- Generate a list of potential label errors with Cleanlab's ``get_noise_indices``.\n",
    "\n",
    "- Build and train a more robust model than the vanilla model after adapting it with Cleanlab's ``LearningWithNoisyLabels``. \n",
    "\n",
    "**Data:** https://www.openml.org/d/554"
   ]
  },
  {
   "cell_type": "markdown",
   "metadata": {},
   "source": [
    "## 1. Install the required dependencies"
   ]
  },
  {
   "cell_type": "markdown",
   "metadata": {},
   "source": [
    "``%%capture`` is a magic function to hides the cell's output."
   ]
  },
  {
   "cell_type": "code",
   "execution_count": 1,
   "metadata": {
    "execution": {
     "iopub.execute_input": "2022-03-09T00:05:56.237377Z",
     "iopub.status.busy": "2022-03-09T00:05:56.236984Z",
     "iopub.status.idle": "2022-03-09T00:06:28.707207Z",
     "shell.execute_reply": "2022-03-09T00:06:28.706161Z"
    }
   },
   "outputs": [],
   "source": [
    "%%capture\n",
    "\n",
    "%pip install cleanlab pandas matplotlib torch torchvision skorch"
   ]
  },
  {
   "cell_type": "markdown",
   "metadata": {},
   "source": [
    "## 2. Fetch and scale the MNIST dataset"
   ]
  },
  {
   "cell_type": "code",
   "execution_count": 2,
   "metadata": {
    "execution": {
     "iopub.execute_input": "2022-03-09T00:06:28.711139Z",
     "iopub.status.busy": "2022-03-09T00:06:28.710898Z",
     "iopub.status.idle": "2022-03-09T00:08:22.160898Z",
     "shell.execute_reply": "2022-03-09T00:08:22.159788Z"
    }
   },
   "outputs": [],
   "source": [
    "from sklearn.datasets import fetch_openml\n",
    "\n",
    "# Fetch the MNIST dataset\n",
    "mnist = fetch_openml('mnist_784')\n",
    "\n",
    "# Assign the data features and labels to variable X and y respectively \n",
    "X = mnist.data.astype('float32')\n",
    "y = mnist.target.astype('int64')\n"
   ]
  },
  {
   "cell_type": "markdown",
   "metadata": {},
   "source": [
    "<div class=\"alert alert-info\">\n",
    "\n",
    "Bringing Your Own Data (BYOD)?\n",
    "\n",
    "Assign your data's features to variable ``X`` and its labels to variable ``y`` instead.\n",
    "\n",
    "</div>"
   ]
  },
  {
   "cell_type": "code",
   "execution_count": 3,
   "metadata": {
    "execution": {
     "iopub.execute_input": "2022-03-09T00:08:22.164563Z",
     "iopub.status.busy": "2022-03-09T00:08:22.164351Z",
     "iopub.status.idle": "2022-03-09T00:08:22.333410Z",
     "shell.execute_reply": "2022-03-09T00:08:22.332576Z"
    }
   },
   "outputs": [],
   "source": [
    "\n",
    "# Scale the features which range from 0 to 255 (256 levels on the grayscale) \n",
    "X /= 255.0\n",
    "\n",
    "# Then convert it to a numpy array\n",
    "X = X.to_numpy()"
   ]
  },
  {
   "cell_type": "markdown",
   "metadata": {},
   "source": [
    "## 3. Define a classification model"
   ]
  },
  {
   "cell_type": "markdown",
   "metadata": {},
   "source": [
    "Here, we define a simple neural network with PyTorch."
   ]
  },
  {
   "cell_type": "code",
   "execution_count": 4,
   "metadata": {
    "execution": {
     "iopub.execute_input": "2022-03-09T00:08:22.337480Z",
     "iopub.status.busy": "2022-03-09T00:08:22.336856Z",
     "iopub.status.idle": "2022-03-09T00:08:23.145930Z",
     "shell.execute_reply": "2022-03-09T00:08:23.145145Z"
    }
   },
   "outputs": [],
   "source": [
    "from torch import nn\n",
    "\n",
    "class NeuralNetwork(nn.Module):\n",
    "    def __init__(self):\n",
    "        super(NeuralNetwork, self).__init__()\n",
    "        self.dropout = nn.Dropout(0.5)\n",
    "        self.hidden = nn.Linear(28*28, 128)\n",
    "        self.output = nn.Linear(128, 10)\n",
    "\n",
    "    def forward(self, X):\n",
    "        X = nn.functional.relu(self.hidden(X))\n",
    "        X = self.dropout(X)\n",
    "        X = nn.functional.softmax(self.output(X), dim=-1)\n",
    "        return X"
   ]
  },
  {
   "cell_type": "markdown",
   "metadata": {},
   "source": [
    "## 4. Wrap with Skorch for scikit-learn compatibility"
   ]
  },
  {
   "cell_type": "markdown",
   "metadata": {},
   "source": [
    "As some of Cleanlab's feature requires scikit-learn compatibility, we will need to adapt the above PyTorch neural net accordingly. Skorch is a convenient package that helps with this, read more about it here: https://skorch.readthedocs.io"
   ]
  },
  {
   "cell_type": "code",
   "execution_count": 5,
   "metadata": {
    "execution": {
     "iopub.execute_input": "2022-03-09T00:08:23.150117Z",
     "iopub.status.busy": "2022-03-09T00:08:23.149506Z",
     "iopub.status.idle": "2022-03-09T00:08:23.279665Z",
     "shell.execute_reply": "2022-03-09T00:08:23.278527Z"
    }
   },
   "outputs": [],
   "source": [
    "from skorch import NeuralNetClassifier\n",
    "\n",
    "# Wrap the PyTorch neural net around Skorch's NeuralNetClassifier wrapper\n",
    "net = NeuralNetClassifier(NeuralNetwork)"
   ]
  },
  {
   "cell_type": "markdown",
   "metadata": {},
   "source": [
    "## 5. Compute the cross-validated predicted probabilities"
   ]
  },
  {
   "cell_type": "markdown",
   "metadata": {},
   "source": [
    "If we'd like Cleanlab to identify potential label errors in the whole dataset and not just the training set, we can consider fitting the entire dataset. We will only use this model instance to compute the cross-validated predicted probabilities, ``pyx``, and not for model evaluation."
   ]
  },
  {
   "cell_type": "code",
   "execution_count": 6,
   "metadata": {
    "execution": {
     "iopub.execute_input": "2022-03-09T00:08:23.283202Z",
     "iopub.status.busy": "2022-03-09T00:08:23.283002Z",
     "iopub.status.idle": "2022-03-09T00:08:43.601542Z",
     "shell.execute_reply": "2022-03-09T00:08:43.600773Z"
    }
   },
   "outputs": [
    {
     "name": "stdout",
     "output_type": "stream",
     "text": [
      "  epoch    train_loss    valid_acc    valid_loss     dur\n",
      "-------  ------------  -----------  ------------  ------\n",
      "      1        \u001b[36m1.7617\u001b[0m       \u001b[32m0.7829\u001b[0m        \u001b[35m1.1398\u001b[0m  2.0317\n"
     ]
    },
    {
     "name": "stdout",
     "output_type": "stream",
     "text": [
      "      2        \u001b[36m0.9616\u001b[0m       \u001b[32m0.8371\u001b[0m        \u001b[35m0.6924\u001b[0m  2.0213\n"
     ]
    },
    {
     "name": "stdout",
     "output_type": "stream",
     "text": [
      "      3        \u001b[36m0.7156\u001b[0m       \u001b[32m0.8598\u001b[0m        \u001b[35m0.5499\u001b[0m  2.0215\n"
     ]
    },
    {
     "name": "stdout",
     "output_type": "stream",
     "text": [
      "      4        \u001b[36m0.6097\u001b[0m       \u001b[32m0.8748\u001b[0m        \u001b[35m0.4799\u001b[0m  2.0078\n"
     ]
    },
    {
     "name": "stdout",
     "output_type": "stream",
     "text": [
      "      5        \u001b[36m0.5524\u001b[0m       \u001b[32m0.8847\u001b[0m        \u001b[35m0.4364\u001b[0m  2.0023\n"
     ]
    },
    {
     "name": "stdout",
     "output_type": "stream",
     "text": [
      "      6        \u001b[36m0.5111\u001b[0m       \u001b[32m0.8916\u001b[0m        \u001b[35m0.4064\u001b[0m  2.0441\n"
     ]
    },
    {
     "name": "stdout",
     "output_type": "stream",
     "text": [
      "      7        \u001b[36m0.4788\u001b[0m       \u001b[32m0.8959\u001b[0m        \u001b[35m0.3827\u001b[0m  2.0413\n"
     ]
    },
    {
     "name": "stdout",
     "output_type": "stream",
     "text": [
      "      8        \u001b[36m0.4576\u001b[0m       \u001b[32m0.8995\u001b[0m        \u001b[35m0.3656\u001b[0m  1.9891\n"
     ]
    },
    {
     "name": "stdout",
     "output_type": "stream",
     "text": [
      "      9        \u001b[36m0.4384\u001b[0m       \u001b[32m0.9017\u001b[0m        \u001b[35m0.3509\u001b[0m  1.9902\n"
     ]
    },
    {
     "name": "stdout",
     "output_type": "stream",
     "text": [
      "     10        \u001b[36m0.4228\u001b[0m       \u001b[32m0.9053\u001b[0m        \u001b[35m0.3385\u001b[0m  2.0920\n"
     ]
    }
   ],
   "source": [
    "_ = net.fit(X, y)"
   ]
  },
  {
   "cell_type": "markdown",
   "metadata": {},
   "source": [
    "Compute the cross-validated predicted probabilities, ``pyx``, sometimes also known as the out-of-sample predicted probabilities."
   ]
  },
  {
   "cell_type": "code",
   "execution_count": 7,
   "metadata": {
    "execution": {
     "iopub.execute_input": "2022-03-09T00:08:43.604670Z",
     "iopub.status.busy": "2022-03-09T00:08:43.604340Z",
     "iopub.status.idle": "2022-03-09T00:09:12.738480Z",
     "shell.execute_reply": "2022-03-09T00:09:12.737707Z"
    }
   },
   "outputs": [
    {
     "name": "stdout",
     "output_type": "stream",
     "text": [
      "  epoch    train_loss    valid_acc    valid_loss     dur\n",
      "-------  ------------  -----------  ------------  ------\n",
      "      1        \u001b[36m1.9928\u001b[0m       \u001b[32m0.7370\u001b[0m        \u001b[35m1.5858\u001b[0m  0.8675\n"
     ]
    },
    {
     "name": "stdout",
     "output_type": "stream",
     "text": [
      "      2        \u001b[36m1.2668\u001b[0m       \u001b[32m0.8018\u001b[0m        \u001b[35m0.9622\u001b[0m  0.8927\n"
     ]
    },
    {
     "name": "stdout",
     "output_type": "stream",
     "text": [
      "      3        \u001b[36m0.8876\u001b[0m       \u001b[32m0.8319\u001b[0m        \u001b[35m0.7249\u001b[0m  0.9422\n"
     ]
    },
    {
     "name": "stdout",
     "output_type": "stream",
     "text": [
      "      4        \u001b[36m0.7333\u001b[0m       \u001b[32m0.8477\u001b[0m        \u001b[35m0.6154\u001b[0m  1.0033\n"
     ]
    },
    {
     "name": "stdout",
     "output_type": "stream",
     "text": [
      "      5        \u001b[36m0.6451\u001b[0m       \u001b[32m0.8592\u001b[0m        \u001b[35m0.5497\u001b[0m  0.8917\n"
     ]
    },
    {
     "name": "stdout",
     "output_type": "stream",
     "text": [
      "      6        \u001b[36m0.5911\u001b[0m       \u001b[32m0.8638\u001b[0m        \u001b[35m0.5070\u001b[0m  0.8686\n"
     ]
    },
    {
     "name": "stdout",
     "output_type": "stream",
     "text": [
      "      7        \u001b[36m0.5480\u001b[0m       \u001b[32m0.8710\u001b[0m        \u001b[35m0.4740\u001b[0m  0.8877\n"
     ]
    },
    {
     "name": "stdout",
     "output_type": "stream",
     "text": [
      "      8        \u001b[36m0.5191\u001b[0m       \u001b[32m0.8756\u001b[0m        \u001b[35m0.4508\u001b[0m  0.8826\n"
     ]
    },
    {
     "name": "stdout",
     "output_type": "stream",
     "text": [
      "      9        \u001b[36m0.4943\u001b[0m       \u001b[32m0.8790\u001b[0m        \u001b[35m0.4317\u001b[0m  0.8929\n"
     ]
    },
    {
     "name": "stdout",
     "output_type": "stream",
     "text": [
      "     10        \u001b[36m0.4710\u001b[0m       \u001b[32m0.8822\u001b[0m        \u001b[35m0.4156\u001b[0m  0.8902\n"
     ]
    },
    {
     "name": "stdout",
     "output_type": "stream",
     "text": [
      "  epoch    train_loss    valid_acc    valid_loss     dur\n",
      "-------  ------------  -----------  ------------  ------\n",
      "      1        \u001b[36m1.9964\u001b[0m       \u001b[32m0.7292\u001b[0m        \u001b[35m1.5694\u001b[0m  0.8693\n"
     ]
    },
    {
     "name": "stdout",
     "output_type": "stream",
     "text": [
      "      2        \u001b[36m1.2675\u001b[0m       \u001b[32m0.8098\u001b[0m        \u001b[35m0.9454\u001b[0m  0.8715\n"
     ]
    },
    {
     "name": "stdout",
     "output_type": "stream",
     "text": [
      "      3        \u001b[36m0.8981\u001b[0m       \u001b[32m0.8441\u001b[0m        \u001b[35m0.7028\u001b[0m  0.9036\n"
     ]
    },
    {
     "name": "stdout",
     "output_type": "stream",
     "text": [
      "      4        \u001b[36m0.7347\u001b[0m       \u001b[32m0.8587\u001b[0m        \u001b[35m0.5887\u001b[0m  0.8711\n"
     ]
    },
    {
     "name": "stdout",
     "output_type": "stream",
     "text": [
      "      5        \u001b[36m0.6470\u001b[0m       \u001b[32m0.8682\u001b[0m        \u001b[35m0.5223\u001b[0m  0.8989\n"
     ]
    },
    {
     "name": "stdout",
     "output_type": "stream",
     "text": [
      "      6        \u001b[36m0.5884\u001b[0m       \u001b[32m0.8762\u001b[0m        \u001b[35m0.4788\u001b[0m  0.9052\n"
     ]
    },
    {
     "name": "stdout",
     "output_type": "stream",
     "text": [
      "      7        \u001b[36m0.5509\u001b[0m       \u001b[32m0.8817\u001b[0m        \u001b[35m0.4480\u001b[0m  0.8979\n"
     ]
    },
    {
     "name": "stdout",
     "output_type": "stream",
     "text": [
      "      8        \u001b[36m0.5211\u001b[0m       \u001b[32m0.8872\u001b[0m        \u001b[35m0.4240\u001b[0m  0.9175\n"
     ]
    },
    {
     "name": "stdout",
     "output_type": "stream",
     "text": [
      "      9        \u001b[36m0.4960\u001b[0m       \u001b[32m0.8902\u001b[0m        \u001b[35m0.4054\u001b[0m  0.8735\n"
     ]
    },
    {
     "name": "stdout",
     "output_type": "stream",
     "text": [
      "     10        \u001b[36m0.4754\u001b[0m       \u001b[32m0.8935\u001b[0m        \u001b[35m0.3895\u001b[0m  0.9212\n"
     ]
    },
    {
     "name": "stdout",
     "output_type": "stream",
     "text": [
      "  epoch    train_loss    valid_acc    valid_loss     dur\n",
      "-------  ------------  -----------  ------------  ------\n",
      "      1        \u001b[36m1.9948\u001b[0m       \u001b[32m0.7608\u001b[0m        \u001b[35m1.5673\u001b[0m  0.8964\n"
     ]
    },
    {
     "name": "stdout",
     "output_type": "stream",
     "text": [
      "      2        \u001b[36m1.2849\u001b[0m       \u001b[32m0.8157\u001b[0m        \u001b[35m0.9402\u001b[0m  0.8901\n"
     ]
    },
    {
     "name": "stdout",
     "output_type": "stream",
     "text": [
      "      3        \u001b[36m0.9177\u001b[0m       \u001b[32m0.8452\u001b[0m        \u001b[35m0.7011\u001b[0m  0.8972\n"
     ]
    },
    {
     "name": "stdout",
     "output_type": "stream",
     "text": [
      "      4        \u001b[36m0.7576\u001b[0m       \u001b[32m0.8608\u001b[0m        \u001b[35m0.5885\u001b[0m  0.9024\n"
     ]
    },
    {
     "name": "stdout",
     "output_type": "stream",
     "text": [
      "      5        \u001b[36m0.6726\u001b[0m       \u001b[32m0.8742\u001b[0m        \u001b[35m0.5221\u001b[0m  0.9117\n"
     ]
    },
    {
     "name": "stdout",
     "output_type": "stream",
     "text": [
      "      6        \u001b[36m0.6148\u001b[0m       \u001b[32m0.8818\u001b[0m        \u001b[35m0.4773\u001b[0m  1.4116\n"
     ]
    },
    {
     "name": "stdout",
     "output_type": "stream",
     "text": [
      "      7        \u001b[36m0.5749\u001b[0m       \u001b[32m0.8862\u001b[0m        \u001b[35m0.4455\u001b[0m  0.8752\n"
     ]
    },
    {
     "name": "stdout",
     "output_type": "stream",
     "text": [
      "      8        \u001b[36m0.5416\u001b[0m       \u001b[32m0.8928\u001b[0m        \u001b[35m0.4208\u001b[0m  0.9649\n"
     ]
    },
    {
     "name": "stdout",
     "output_type": "stream",
     "text": [
      "      9        \u001b[36m0.5157\u001b[0m       \u001b[32m0.8950\u001b[0m        \u001b[35m0.4014\u001b[0m  0.8817\n"
     ]
    },
    {
     "name": "stdout",
     "output_type": "stream",
     "text": [
      "     10        \u001b[36m0.4953\u001b[0m       \u001b[32m0.8983\u001b[0m        \u001b[35m0.3847\u001b[0m  0.8965\n"
     ]
    }
   ],
   "source": [
    "from sklearn.model_selection import cross_val_predict\n",
    "\n",
    "pyx = cross_val_predict(net, X, y, cv=3, method='predict_proba')"
   ]
  },
  {
   "cell_type": "markdown",
   "metadata": {},
   "source": [
    "## 6. Run Cleanlab to find potential label errors"
   ]
  },
  {
   "cell_type": "markdown",
   "metadata": {},
   "source": [
    "Cleanlab has a ``get_noise_indices`` function to generate a list of potential label errors. Setting ``sorted_index_method=\"prob_given_label\"`` returns the indices of all the most likely label errors, sorted by the most suspicious example first."
   ]
  },
  {
   "cell_type": "code",
   "execution_count": 8,
   "metadata": {
    "execution": {
     "iopub.execute_input": "2022-03-09T00:09:12.742556Z",
     "iopub.status.busy": "2022-03-09T00:09:12.742236Z",
     "iopub.status.idle": "2022-03-09T00:09:13.208274Z",
     "shell.execute_reply": "2022-03-09T00:09:13.207376Z"
    }
   },
   "outputs": [],
   "source": [
    "from cleanlab.pruning import get_noise_indices\n",
    "\n",
    "ordered_label_errors = get_noise_indices(\n",
    "    s=y,\n",
    "    psx=pyx,\n",
    "    sorted_index_method=\"prob_given_label\"\n",
    ")"
   ]
  },
  {
   "cell_type": "markdown",
   "metadata": {},
   "source": [
    "## 7. Review some of the most likely mislabeled examples"
   ]
  },
  {
   "cell_type": "code",
   "execution_count": 9,
   "metadata": {
    "execution": {
     "iopub.execute_input": "2022-03-09T00:09:13.211918Z",
     "iopub.status.busy": "2022-03-09T00:09:13.211703Z",
     "iopub.status.idle": "2022-03-09T00:09:13.217689Z",
     "shell.execute_reply": "2022-03-09T00:09:13.216926Z"
    }
   },
   "outputs": [
    {
     "name": "stdout",
     "output_type": "stream",
     "text": [
      "Cleanlab found 1281 potential label errors. Here are the indices of the top 15 most likely ones: \n",
      " [24798 18598  8729 20820 61790 31134 59915  1352 15942 55739 12679 53216\n",
      " 13031  7010 39327]\n"
     ]
    }
   ],
   "source": [
    "print(f\"Cleanlab found {len(ordered_label_errors)} potential label errors. Here are the indices of the top 15 most likely ones: \\n {ordered_label_errors[:15]}\")"
   ]
  },
  {
   "cell_type": "markdown",
   "metadata": {},
   "source": [
    "We'll define a new ``plot_examples`` function to display any examples in a subplot conveniently."
   ]
  },
  {
   "cell_type": "code",
   "execution_count": 10,
   "metadata": {
    "execution": {
     "iopub.execute_input": "2022-03-09T00:09:13.221415Z",
     "iopub.status.busy": "2022-03-09T00:09:13.220673Z",
     "iopub.status.idle": "2022-03-09T00:09:14.133918Z",
     "shell.execute_reply": "2022-03-09T00:09:14.132981Z"
    }
   },
   "outputs": [],
   "source": [
    "import matplotlib.pyplot as plt\n",
    "\n",
    "def plot_examples(id_iter, nrows=1, ncols=1):\n",
    "    for count, id in enumerate(id_iter):\n",
    "        plt.subplot(nrows, ncols, count+1)\n",
    "        plt.imshow(X[id].reshape(28, 28))\n",
    "        plt.title(f\"id: {id} \\n label: {y[id]}\")\n",
    "        plt.axis('off')\n",
    "\n",
    "    plt.tight_layout(h_pad=2.0)"
   ]
  },
  {
   "cell_type": "markdown",
   "metadata": {},
   "source": [
    "Let's start by having an overview of the top 15 most likely label errors. From here, we can see a few label errors and edge cases. Feel free to change the parameters to display more or fewer examples. "
   ]
  },
  {
   "cell_type": "code",
   "execution_count": 11,
   "metadata": {
    "execution": {
     "iopub.execute_input": "2022-03-09T00:09:14.137428Z",
     "iopub.status.busy": "2022-03-09T00:09:14.137236Z",
     "iopub.status.idle": "2022-03-09T00:09:14.724005Z",
     "shell.execute_reply": "2022-03-09T00:09:14.723064Z"
    }
   },
   "outputs": [
    {
     "data": {
      "image/png": "[encoded data removed]",
      "text/plain": [
       "<Figure size 432x288 with 15 Axes>"
      ]
     },
     "metadata": {
      "needs_background": "light"
     },
     "output_type": "display_data"
    }
   ],
   "source": [
    "plot_examples(ordered_label_errors[range(15)], 3, 5)"
   ]
  },
  {
   "cell_type": "markdown",
   "metadata": {},
   "source": [
    "Let's zoom into specific examples:"
   ]
  },
  {
   "cell_type": "markdown",
   "metadata": {},
   "source": [
    "Given label is **4** but looks more like a **7**"
   ]
  },
  {
   "cell_type": "code",
   "execution_count": 12,
   "metadata": {
    "execution": {
     "iopub.execute_input": "2022-03-09T00:09:14.727665Z",
     "iopub.status.busy": "2022-03-09T00:09:14.727081Z",
     "iopub.status.idle": "2022-03-09T00:09:14.793496Z",
     "shell.execute_reply": "2022-03-09T00:09:14.792718Z"
    }
   },
   "outputs": [
    {
     "data": {
      "image/png": "[encoded data removed]",
      "text/plain": [
       "<Figure size 432x288 with 1 Axes>"
      ]
     },
     "metadata": {
      "needs_background": "light"
     },
     "output_type": "display_data"
    }
   ],
   "source": [
    "plot_examples([59915])"
   ]
  },
  {
   "cell_type": "markdown",
   "metadata": {},
   "source": [
    "Given label is **4** but also looks like **9**"
   ]
  },
  {
   "cell_type": "code",
   "execution_count": 13,
   "metadata": {
    "execution": {
     "iopub.execute_input": "2022-03-09T00:09:14.796704Z",
     "iopub.status.busy": "2022-03-09T00:09:14.796513Z",
     "iopub.status.idle": "2022-03-09T00:09:14.859467Z",
     "shell.execute_reply": "2022-03-09T00:09:14.858945Z"
    }
   },
   "outputs": [
    {
     "data": {
      "image/png": "[encoded data removed]",
      "text/plain": [
       "<Figure size 432x288 with 1 Axes>"
      ]
     },
     "metadata": {
      "needs_background": "light"
     },
     "output_type": "display_data"
    }
   ],
   "source": [
    "plot_examples([24798])"
   ]
  },
  {
   "cell_type": "markdown",
   "metadata": {},
   "source": [
    "Edge case of odd looking **9**s"
   ]
  },
  {
   "cell_type": "code",
   "execution_count": 14,
   "metadata": {
    "execution": {
     "iopub.execute_input": "2022-03-09T00:09:14.862470Z",
     "iopub.status.busy": "2022-03-09T00:09:14.862074Z",
     "iopub.status.idle": "2022-03-09T00:09:15.095001Z",
     "shell.execute_reply": "2022-03-09T00:09:15.094290Z"
    }
   },
   "outputs": [
    {
     "data": {
      "image/png": "[encoded data removed]",
      "text/plain": [
       "<Figure size 432x288 with 3 Axes>"
      ]
     },
     "metadata": {
      "needs_background": "light"
     },
     "output_type": "display_data"
    }
   ],
   "source": [
    "plot_examples([18598, 1352, 61247], 1, 3)"
   ]
  },
  {
   "cell_type": "markdown",
   "metadata": {},
   "source": [
    "Cleanlab has shortlisted the most likely label errors to speed up your data cleaning process. With this list, you can decide whether to fix label errors, augment edge cases or remove obscure examples. \n",
    "\n",
    "These human-in-the-loop processes may be time-consuming, so if you'd like Cleanlab to automatically remove these noisy examples and train a model directly on the partially mislabeled dataset, you're in luck! Cleanlab provides a ``LearningWithNoisyLabels`` wrapper to do precisely this:"
   ]
  },
  {
   "cell_type": "markdown",
   "metadata": {},
   "source": [
    "## 8. Adapt with Cleanlab's wrapper and train a more robust model"
   ]
  },
  {
   "cell_type": "markdown",
   "metadata": {},
   "source": [
    "First, we split the dataset into train and test subsets."
   ]
  },
  {
   "cell_type": "code",
   "execution_count": 15,
   "metadata": {
    "execution": {
     "iopub.execute_input": "2022-03-09T00:09:15.098263Z",
     "iopub.status.busy": "2022-03-09T00:09:15.098033Z",
     "iopub.status.idle": "2022-03-09T00:09:16.032450Z",
     "shell.execute_reply": "2022-03-09T00:09:16.031625Z"
    }
   },
   "outputs": [],
   "source": [
    "from sklearn.model_selection import train_test_split\n",
    "\n",
    "X_train, X_test, y_train, y_test = train_test_split(X, y, test_size=0.2)"
   ]
  },
  {
   "cell_type": "markdown",
   "metadata": {},
   "source": [
    "Re-instantiate a new scikit-learn compatible model with Skorch then wrap it with Cleanlab's ``LearningWithNoisyLabels`` wrapper."
   ]
  },
  {
   "cell_type": "code",
   "execution_count": 16,
   "metadata": {
    "execution": {
     "iopub.execute_input": "2022-03-09T00:09:16.036061Z",
     "iopub.status.busy": "2022-03-09T00:09:16.035621Z",
     "iopub.status.idle": "2022-03-09T00:09:16.039566Z",
     "shell.execute_reply": "2022-03-09T00:09:16.038867Z"
    }
   },
   "outputs": [],
   "source": [
    "from cleanlab.classification import LearningWithNoisyLabels\n",
    "\n",
    "net = NeuralNetClassifier(NeuralNetwork)\n",
    "clf = LearningWithNoisyLabels(clf=net)"
   ]
  },
  {
   "cell_type": "code",
   "execution_count": 17,
   "metadata": {
    "execution": {
     "iopub.execute_input": "2022-03-09T00:09:16.042442Z",
     "iopub.status.busy": "2022-03-09T00:09:16.042225Z",
     "iopub.status.idle": "2022-03-09T00:10:12.651552Z",
     "shell.execute_reply": "2022-03-09T00:10:12.650691Z"
    }
   },
   "outputs": [
    {
     "name": "stdout",
     "output_type": "stream",
     "text": [
      "  epoch    train_loss    valid_acc    valid_loss     dur\n",
      "-------  ------------  -----------  ------------  ------\n",
      "      1        \u001b[36m2.0266\u001b[0m       \u001b[32m0.7484\u001b[0m        \u001b[35m1.6356\u001b[0m  0.8812\n"
     ]
    },
    {
     "name": "stdout",
     "output_type": "stream",
     "text": [
      "      2        \u001b[36m1.3249\u001b[0m       \u001b[32m0.8199\u001b[0m        \u001b[35m0.9718\u001b[0m  0.8654\n"
     ]
    },
    {
     "name": "stdout",
     "output_type": "stream",
     "text": [
      "      3        \u001b[36m0.9309\u001b[0m       \u001b[32m0.8475\u001b[0m        \u001b[35m0.7099\u001b[0m  0.9049\n"
     ]
    },
    {
     "name": "stdout",
     "output_type": "stream",
     "text": [
      "      4        \u001b[36m0.7564\u001b[0m       \u001b[32m0.8655\u001b[0m        \u001b[35m0.5883\u001b[0m  0.8734\n"
     ]
    },
    {
     "name": "stdout",
     "output_type": "stream",
     "text": [
      "      5        \u001b[36m0.6683\u001b[0m       \u001b[32m0.8740\u001b[0m        \u001b[35m0.5190\u001b[0m  0.8474\n"
     ]
    },
    {
     "name": "stdout",
     "output_type": "stream",
     "text": [
      "      6        \u001b[36m0.6144\u001b[0m       \u001b[32m0.8816\u001b[0m        \u001b[35m0.4746\u001b[0m  0.8717\n"
     ]
    },
    {
     "name": "stdout",
     "output_type": "stream",
     "text": [
      "      7        \u001b[36m0.5726\u001b[0m       \u001b[32m0.8871\u001b[0m        \u001b[35m0.4428\u001b[0m  0.8792\n"
     ]
    },
    {
     "name": "stdout",
     "output_type": "stream",
     "text": [
      "      8        \u001b[36m0.5399\u001b[0m       \u001b[32m0.8919\u001b[0m        \u001b[35m0.4175\u001b[0m  0.8548\n"
     ]
    },
    {
     "name": "stdout",
     "output_type": "stream",
     "text": [
      "      9        \u001b[36m0.5109\u001b[0m       \u001b[32m0.8961\u001b[0m        \u001b[35m0.3976\u001b[0m  0.8733\n"
     ]
    },
    {
     "name": "stdout",
     "output_type": "stream",
     "text": [
      "     10        \u001b[36m0.4906\u001b[0m       \u001b[32m0.8988\u001b[0m        \u001b[35m0.3815\u001b[0m  0.8807\n"
     ]
    },
    {
     "name": "stdout",
     "output_type": "stream",
     "text": [
      "  epoch    train_loss    valid_acc    valid_loss     dur\n",
      "-------  ------------  -----------  ------------  ------\n",
      "      1        \u001b[36m2.0142\u001b[0m       \u001b[32m0.7314\u001b[0m        \u001b[35m1.6195\u001b[0m  0.8803\n"
     ]
    },
    {
     "name": "stdout",
     "output_type": "stream",
     "text": [
      "      2        \u001b[36m1.3247\u001b[0m       \u001b[32m0.8150\u001b[0m        \u001b[35m0.9849\u001b[0m  0.8879\n"
     ]
    },
    {
     "name": "stdout",
     "output_type": "stream",
     "text": [
      "      3        \u001b[36m0.9456\u001b[0m       \u001b[32m0.8469\u001b[0m        \u001b[35m0.7256\u001b[0m  0.8911\n"
     ]
    },
    {
     "name": "stdout",
     "output_type": "stream",
     "text": [
      "      4        \u001b[36m0.7764\u001b[0m       \u001b[32m0.8653\u001b[0m        \u001b[35m0.6014\u001b[0m  0.8845\n"
     ]
    },
    {
     "name": "stdout",
     "output_type": "stream",
     "text": [
      "      5        \u001b[36m0.6815\u001b[0m       \u001b[32m0.8759\u001b[0m        \u001b[35m0.5292\u001b[0m  0.8982\n"
     ]
    },
    {
     "name": "stdout",
     "output_type": "stream",
     "text": [
      "      6        \u001b[36m0.6223\u001b[0m       \u001b[32m0.8824\u001b[0m        \u001b[35m0.4819\u001b[0m  0.8978\n"
     ]
    },
    {
     "name": "stdout",
     "output_type": "stream",
     "text": [
      "      7        \u001b[36m0.5754\u001b[0m       \u001b[32m0.8886\u001b[0m        \u001b[35m0.4470\u001b[0m  0.9006\n"
     ]
    },
    {
     "name": "stdout",
     "output_type": "stream",
     "text": [
      "      8        \u001b[36m0.5434\u001b[0m       \u001b[32m0.8921\u001b[0m        \u001b[35m0.4205\u001b[0m  0.8701\n"
     ]
    },
    {
     "name": "stdout",
     "output_type": "stream",
     "text": [
      "      9        \u001b[36m0.5189\u001b[0m       \u001b[32m0.8959\u001b[0m        \u001b[35m0.4009\u001b[0m  0.9165\n"
     ]
    },
    {
     "name": "stdout",
     "output_type": "stream",
     "text": [
      "     10        \u001b[36m0.4945\u001b[0m       \u001b[32m0.8989\u001b[0m        \u001b[35m0.3840\u001b[0m  0.8527\n"
     ]
    },
    {
     "name": "stdout",
     "output_type": "stream",
     "text": [
      "  epoch    train_loss    valid_acc    valid_loss     dur\n",
      "-------  ------------  -----------  ------------  ------\n",
      "      1        \u001b[36m2.0017\u001b[0m       \u001b[32m0.7412\u001b[0m        \u001b[35m1.5999\u001b[0m  0.8772\n"
     ]
    },
    {
     "name": "stdout",
     "output_type": "stream",
     "text": [
      "      2        \u001b[36m1.3053\u001b[0m       \u001b[32m0.8126\u001b[0m        \u001b[35m0.9686\u001b[0m  0.8687\n"
     ]
    },
    {
     "name": "stdout",
     "output_type": "stream",
     "text": [
      "      3        \u001b[36m0.9288\u001b[0m       \u001b[32m0.8454\u001b[0m        \u001b[35m0.7184\u001b[0m  0.8550\n"
     ]
    },
    {
     "name": "stdout",
     "output_type": "stream",
     "text": [
      "      4        \u001b[36m0.7644\u001b[0m       \u001b[32m0.8613\u001b[0m        \u001b[35m0.5988\u001b[0m  0.8803\n"
     ]
    },
    {
     "name": "stdout",
     "output_type": "stream",
     "text": [
      "      5        \u001b[36m0.6744\u001b[0m       \u001b[32m0.8715\u001b[0m        \u001b[35m0.5292\u001b[0m  0.8561\n"
     ]
    },
    {
     "name": "stdout",
     "output_type": "stream",
     "text": [
      "      6        \u001b[36m0.6148\u001b[0m       \u001b[32m0.8800\u001b[0m        \u001b[35m0.4827\u001b[0m  0.8531\n"
     ]
    },
    {
     "name": "stdout",
     "output_type": "stream",
     "text": [
      "      7        \u001b[36m0.5747\u001b[0m       \u001b[32m0.8849\u001b[0m        \u001b[35m0.4500\u001b[0m  0.8584\n"
     ]
    },
    {
     "name": "stdout",
     "output_type": "stream",
     "text": [
      "      8        \u001b[36m0.5422\u001b[0m       \u001b[32m0.8908\u001b[0m        \u001b[35m0.4249\u001b[0m  0.9126\n"
     ]
    },
    {
     "name": "stdout",
     "output_type": "stream",
     "text": [
      "      9        \u001b[36m0.5166\u001b[0m       \u001b[32m0.8944\u001b[0m        \u001b[35m0.4048\u001b[0m  0.8873\n"
     ]
    },
    {
     "name": "stdout",
     "output_type": "stream",
     "text": [
      "     10        \u001b[36m0.4939\u001b[0m       \u001b[32m0.8975\u001b[0m        \u001b[35m0.3880\u001b[0m  0.8671\n"
     ]
    },
    {
     "name": "stdout",
     "output_type": "stream",
     "text": [
      "  epoch    train_loss    valid_acc    valid_loss     dur\n",
      "-------  ------------  -----------  ------------  ------\n",
      "      1        \u001b[36m2.0122\u001b[0m       \u001b[32m0.7442\u001b[0m        \u001b[35m1.6153\u001b[0m  0.8653\n"
     ]
    },
    {
     "name": "stdout",
     "output_type": "stream",
     "text": [
      "      2        \u001b[36m1.3225\u001b[0m       \u001b[32m0.8224\u001b[0m        \u001b[35m0.9754\u001b[0m  0.8456\n"
     ]
    },
    {
     "name": "stdout",
     "output_type": "stream",
     "text": [
      "      3        \u001b[36m0.9368\u001b[0m       \u001b[32m0.8482\u001b[0m        \u001b[35m0.7162\u001b[0m  0.8724\n"
     ]
    },
    {
     "name": "stdout",
     "output_type": "stream",
     "text": [
      "      4        \u001b[36m0.7651\u001b[0m       \u001b[32m0.8641\u001b[0m        \u001b[35m0.5931\u001b[0m  0.8355\n"
     ]
    },
    {
     "name": "stdout",
     "output_type": "stream",
     "text": [
      "      5        \u001b[36m0.6743\u001b[0m       \u001b[32m0.8757\u001b[0m        \u001b[35m0.5223\u001b[0m  0.8410\n"
     ]
    },
    {
     "name": "stdout",
     "output_type": "stream",
     "text": [
      "      6        \u001b[36m0.6144\u001b[0m       \u001b[32m0.8844\u001b[0m        \u001b[35m0.4759\u001b[0m  0.8609\n"
     ]
    },
    {
     "name": "stdout",
     "output_type": "stream",
     "text": [
      "      7        \u001b[36m0.5741\u001b[0m       \u001b[32m0.8890\u001b[0m        \u001b[35m0.4427\u001b[0m  0.8504\n"
     ]
    },
    {
     "name": "stdout",
     "output_type": "stream",
     "text": [
      "      8        \u001b[36m0.5389\u001b[0m       \u001b[32m0.8934\u001b[0m        \u001b[35m0.4170\u001b[0m  0.9126\n"
     ]
    },
    {
     "name": "stdout",
     "output_type": "stream",
     "text": [
      "      9        \u001b[36m0.5133\u001b[0m       \u001b[32m0.8965\u001b[0m        \u001b[35m0.3967\u001b[0m  0.8832\n"
     ]
    },
    {
     "name": "stdout",
     "output_type": "stream",
     "text": [
      "     10        \u001b[36m0.4932\u001b[0m       \u001b[32m0.8997\u001b[0m        \u001b[35m0.3799\u001b[0m  0.8771\n"
     ]
    },
    {
     "name": "stdout",
     "output_type": "stream",
     "text": [
      "  epoch    train_loss    valid_acc    valid_loss     dur\n",
      "-------  ------------  -----------  ------------  ------\n",
      "      1        \u001b[36m1.9891\u001b[0m       \u001b[32m0.7685\u001b[0m        \u001b[35m1.5649\u001b[0m  0.8518\n"
     ]
    },
    {
     "name": "stdout",
     "output_type": "stream",
     "text": [
      "      2        \u001b[36m1.2805\u001b[0m       \u001b[32m0.8306\u001b[0m        \u001b[35m0.9512\u001b[0m  0.8656\n"
     ]
    },
    {
     "name": "stdout",
     "output_type": "stream",
     "text": [
      "      3        \u001b[36m0.9164\u001b[0m       \u001b[32m0.8522\u001b[0m        \u001b[35m0.7063\u001b[0m  0.8450\n"
     ]
    },
    {
     "name": "stdout",
     "output_type": "stream",
     "text": [
      "      4        \u001b[36m0.7484\u001b[0m       \u001b[32m0.8635\u001b[0m        \u001b[35m0.5887\u001b[0m  0.8612\n"
     ]
    },
    {
     "name": "stdout",
     "output_type": "stream",
     "text": [
      "      5        \u001b[36m0.6601\u001b[0m       \u001b[32m0.8734\u001b[0m        \u001b[35m0.5207\u001b[0m  0.9399\n"
     ]
    },
    {
     "name": "stdout",
     "output_type": "stream",
     "text": [
      "      6        \u001b[36m0.6079\u001b[0m       \u001b[32m0.8811\u001b[0m        \u001b[35m0.4764\u001b[0m  0.8561\n"
     ]
    },
    {
     "name": "stdout",
     "output_type": "stream",
     "text": [
      "      7        \u001b[36m0.5643\u001b[0m       \u001b[32m0.8863\u001b[0m        \u001b[35m0.4444\u001b[0m  0.8679\n"
     ]
    },
    {
     "name": "stdout",
     "output_type": "stream",
     "text": [
      "      8        \u001b[36m0.5354\u001b[0m       \u001b[32m0.8920\u001b[0m        \u001b[35m0.4195\u001b[0m  0.8752\n"
     ]
    },
    {
     "name": "stdout",
     "output_type": "stream",
     "text": [
      "      9        \u001b[36m0.5113\u001b[0m       \u001b[32m0.8944\u001b[0m        \u001b[35m0.4002\u001b[0m  0.8539\n"
     ]
    },
    {
     "name": "stdout",
     "output_type": "stream",
     "text": [
      "     10        \u001b[36m0.4886\u001b[0m       \u001b[32m0.8971\u001b[0m        \u001b[35m0.3840\u001b[0m  0.8676\n"
     ]
    },
    {
     "name": "stdout",
     "output_type": "stream",
     "text": [
      "  epoch    train_loss    valid_acc    valid_loss     dur\n",
      "-------  ------------  -----------  ------------  ------\n",
      "      1        \u001b[36m1.8986\u001b[0m       \u001b[32m0.7725\u001b[0m        \u001b[35m1.3851\u001b[0m  1.0542\n"
     ]
    },
    {
     "name": "stdout",
     "output_type": "stream",
     "text": [
      "      2        \u001b[36m1.1094\u001b[0m       \u001b[32m0.8431\u001b[0m        \u001b[35m0.7906\u001b[0m  1.0419\n"
     ]
    },
    {
     "name": "stdout",
     "output_type": "stream",
     "text": [
      "      3        \u001b[36m0.7797\u001b[0m       \u001b[32m0.8734\u001b[0m        \u001b[35m0.5836\u001b[0m  1.2026\n"
     ]
    },
    {
     "name": "stdout",
     "output_type": "stream",
     "text": [
      "      4        \u001b[36m0.6387\u001b[0m       \u001b[32m0.8888\u001b[0m        \u001b[35m0.4828\u001b[0m  1.0739\n"
     ]
    },
    {
     "name": "stdout",
     "output_type": "stream",
     "text": [
      "      5        \u001b[36m0.5566\u001b[0m       \u001b[32m0.8979\u001b[0m        \u001b[35m0.4229\u001b[0m  1.1080\n"
     ]
    },
    {
     "name": "stdout",
     "output_type": "stream",
     "text": [
      "      6        \u001b[36m0.5065\u001b[0m       \u001b[32m0.9033\u001b[0m        \u001b[35m0.3835\u001b[0m  1.0938\n"
     ]
    },
    {
     "name": "stdout",
     "output_type": "stream",
     "text": [
      "      7        \u001b[36m0.4672\u001b[0m       \u001b[32m0.9072\u001b[0m        \u001b[35m0.3550\u001b[0m  1.0625\n"
     ]
    },
    {
     "name": "stdout",
     "output_type": "stream",
     "text": [
      "      8        \u001b[36m0.4413\u001b[0m       \u001b[32m0.9102\u001b[0m        \u001b[35m0.3342\u001b[0m  1.1161\n"
     ]
    },
    {
     "name": "stdout",
     "output_type": "stream",
     "text": [
      "      9        \u001b[36m0.4193\u001b[0m       \u001b[32m0.9126\u001b[0m        \u001b[35m0.3177\u001b[0m  1.0593\n"
     ]
    },
    {
     "name": "stdout",
     "output_type": "stream",
     "text": [
      "     10        \u001b[36m0.3995\u001b[0m       \u001b[32m0.9156\u001b[0m        \u001b[35m0.3040\u001b[0m  1.0995\n"
     ]
    }
   ],
   "source": [
    "_ = clf.fit(X_train, y_train.to_numpy())"
   ]
  },
  {
   "cell_type": "markdown",
   "metadata": {},
   "source": [
    "## 9. Evaluate the robust model's performance"
   ]
  },
  {
   "cell_type": "code",
   "execution_count": 18,
   "metadata": {
    "execution": {
     "iopub.execute_input": "2022-03-09T00:10:12.655382Z",
     "iopub.status.busy": "2022-03-09T00:10:12.654899Z",
     "iopub.status.idle": "2022-03-09T00:10:12.911457Z",
     "shell.execute_reply": "2022-03-09T00:10:12.910174Z"
    }
   },
   "outputs": [
    {
     "data": {
      "text/plain": [
       "0.9012142857142857"
      ]
     },
     "execution_count": 18,
     "metadata": {},
     "output_type": "execute_result"
    }
   ],
   "source": [
    "from sklearn.metrics import accuracy_score\n",
    "\n",
    "y_pred = clf.predict(X_test)\n",
    "accuracy_score(y_test, y_pred)"
   ]
  },
  {
   "cell_type": "markdown",
   "metadata": {},
   "source": [
    "## What's next?"
   ]
  },
  {
   "cell_type": "markdown",
   "metadata": {},
   "source": [
    "Congratulations on completing this tutorial! Check out our following tutorial on using Cleanlab for text classification, where we found ``hundreds`` of potential label errors in one of the most well-known text datasets, the IMBDb movie review dataset!"
   ]
  }
 ],
 "metadata": {
  "interpreter": {
   "hash": "ced20e3e49bb4fa4ce8ad38f8f2535b7fc4c39b2b89554502b5dbdad1ad67eda"
  },
  "kernelspec": {
   "display_name": "Python 3.10.0 64-bit",
   "language": "python",
   "name": "python3"
  },
  "language_info": {
   "codemirror_mode": {
    "name": "ipython",
    "version": 3
   },
   "file_extension": ".py",
   "mimetype": "text/x-python",
   "name": "python",
   "nbconvert_exporter": "python",
   "pygments_lexer": "ipython3",
   "version": "3.8.12"
  }
 },
 "nbformat": 4,
 "nbformat_minor": 2
}
