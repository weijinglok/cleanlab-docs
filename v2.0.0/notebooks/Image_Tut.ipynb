{
 "cells": [
  {
   "cell_type": "markdown",
   "metadata": {},
   "source": [
    "# Image Classification with Cleanlab, PyTorch & Skorch"
   ]
  },
  {
   "cell_type": "markdown",
   "metadata": {},
   "source": [
    "This tutorial will use Cleanlab to find potential label errors in the MNIST handwritten digit image dataset. This dataset contains 60,000 images of handwritten digits from 0 to 9. We'll find *more than a thousand* highly suspicious examples with label errors and edge cases by the end of this tutorial. \n",
    "\n",
    "**Overview of what we'll do in this tutorial:**\n",
    "\n",
    "- Build a simple PyTorch neural net and wrap it with Skorch to make it scikit-learn compatible.\n",
    "\n",
    "- Compute the cross-validated predicted probabilities, ``pyx``, sometimes known as the out-of-sample predicted probabilities.\n",
    "\n",
    "- Generate a list of potential label errors with Cleanlab's ``get_noise_indices``.\n",
    "\n",
    "- Build and train a more robust model than the vanilla model after adapting it with Cleanlab's ``LearningWithNoisyLabels``. \n",
    "\n",
    "**Data:** https://www.openml.org/d/554"
   ]
  },
  {
   "cell_type": "markdown",
   "metadata": {},
   "source": [
    "## 1. Install the required dependencies"
   ]
  },
  {
   "cell_type": "markdown",
   "metadata": {},
   "source": [
    "``%%capture`` is a magic function to hides the cell's output."
   ]
  },
  {
   "cell_type": "code",
   "execution_count": 1,
   "metadata": {
    "execution": {
     "iopub.execute_input": "2022-03-09T16:29:30.111946Z",
     "iopub.status.busy": "2022-03-09T16:29:30.111444Z",
     "iopub.status.idle": "2022-03-09T16:30:26.075955Z",
     "shell.execute_reply": "2022-03-09T16:30:26.074896Z"
    }
   },
   "outputs": [],
   "source": [
    "%%capture\n",
    "\n",
    "%pip install cleanlab pandas matplotlib torch torchvision skorch"
   ]
  },
  {
   "cell_type": "markdown",
   "metadata": {},
   "source": [
    "## 2. Fetch and scale the MNIST dataset"
   ]
  },
  {
   "cell_type": "code",
   "execution_count": 2,
   "metadata": {
    "execution": {
     "iopub.execute_input": "2022-03-09T16:30:26.082013Z",
     "iopub.status.busy": "2022-03-09T16:30:26.081155Z",
     "iopub.status.idle": "2022-03-09T16:33:57.992434Z",
     "shell.execute_reply": "2022-03-09T16:33:57.991468Z"
    }
   },
   "outputs": [],
   "source": [
    "from sklearn.datasets import fetch_openml\n",
    "\n",
    "# Fetch the MNIST dataset\n",
    "mnist = fetch_openml('mnist_784')\n",
    "\n",
    "# Assign the data features and labels to variable X and y respectively \n",
    "X = mnist.data.astype('float32')\n",
    "y = mnist.target.astype('int64')\n"
   ]
  },
  {
   "cell_type": "markdown",
   "metadata": {},
   "source": [
    "<div class=\"alert alert-info\">\n",
    "\n",
    "Bringing Your Own Data (BYOD)?\n",
    "\n",
    "Assign your data's features to variable ``X`` and its labels to variable ``y`` instead.\n",
    "\n",
    "</div>"
   ]
  },
  {
   "cell_type": "code",
   "execution_count": 3,
   "metadata": {
    "execution": {
     "iopub.execute_input": "2022-03-09T16:33:57.997486Z",
     "iopub.status.busy": "2022-03-09T16:33:57.996608Z",
     "iopub.status.idle": "2022-03-09T16:33:58.245927Z",
     "shell.execute_reply": "2022-03-09T16:33:58.244982Z"
    }
   },
   "outputs": [],
   "source": [
    "\n",
    "# Scale the features which range from 0 to 255 (256 levels on the grayscale) \n",
    "X /= 255.0\n",
    "\n",
    "# Then convert it to a numpy array\n",
    "X = X.to_numpy()"
   ]
  },
  {
   "cell_type": "markdown",
   "metadata": {},
   "source": [
    "## 3. Define a classification model"
   ]
  },
  {
   "cell_type": "markdown",
   "metadata": {},
   "source": [
    "Here, we define a simple neural network with PyTorch."
   ]
  },
  {
   "cell_type": "code",
   "execution_count": 4,
   "metadata": {
    "execution": {
     "iopub.execute_input": "2022-03-09T16:33:58.250179Z",
     "iopub.status.busy": "2022-03-09T16:33:58.249884Z",
     "iopub.status.idle": "2022-03-09T16:33:59.457786Z",
     "shell.execute_reply": "2022-03-09T16:33:59.456823Z"
    }
   },
   "outputs": [],
   "source": [
    "from torch import nn\n",
    "\n",
    "class NeuralNetwork(nn.Module):\n",
    "    def __init__(self):\n",
    "        super(NeuralNetwork, self).__init__()\n",
    "        self.dropout = nn.Dropout(0.5)\n",
    "        self.hidden = nn.Linear(28*28, 128)\n",
    "        self.output = nn.Linear(128, 10)\n",
    "\n",
    "    def forward(self, X):\n",
    "        X = nn.functional.relu(self.hidden(X))\n",
    "        X = self.dropout(X)\n",
    "        X = nn.functional.softmax(self.output(X), dim=-1)\n",
    "        return X"
   ]
  },
  {
   "cell_type": "markdown",
   "metadata": {},
   "source": [
    "## 4. Wrap with Skorch for scikit-learn compatibility"
   ]
  },
  {
   "cell_type": "markdown",
   "metadata": {},
   "source": [
    "As some of Cleanlab's feature requires scikit-learn compatibility, we will need to adapt the above PyTorch neural net accordingly. Skorch is a convenient package that helps with this, read more about it here: https://skorch.readthedocs.io"
   ]
  },
  {
   "cell_type": "code",
   "execution_count": 5,
   "metadata": {
    "execution": {
     "iopub.execute_input": "2022-03-09T16:33:59.462440Z",
     "iopub.status.busy": "2022-03-09T16:33:59.462185Z",
     "iopub.status.idle": "2022-03-09T16:33:59.663492Z",
     "shell.execute_reply": "2022-03-09T16:33:59.662610Z"
    }
   },
   "outputs": [],
   "source": [
    "from skorch import NeuralNetClassifier\n",
    "\n",
    "# Wrap the PyTorch neural net around Skorch's NeuralNetClassifier wrapper\n",
    "net = NeuralNetClassifier(NeuralNetwork)"
   ]
  },
  {
   "cell_type": "markdown",
   "metadata": {},
   "source": [
    "## 5. Compute the cross-validated predicted probabilities"
   ]
  },
  {
   "cell_type": "markdown",
   "metadata": {},
   "source": [
    "If we'd like Cleanlab to identify potential label errors in the whole dataset and not just the training set, we can consider fitting the entire dataset. We will only use this model instance to compute the cross-validated predicted probabilities, ``pyx``, and not for model evaluation."
   ]
  },
  {
   "cell_type": "code",
   "execution_count": 6,
   "metadata": {
    "execution": {
     "iopub.execute_input": "2022-03-09T16:33:59.668204Z",
     "iopub.status.busy": "2022-03-09T16:33:59.667626Z",
     "iopub.status.idle": "2022-03-09T16:34:35.498932Z",
     "shell.execute_reply": "2022-03-09T16:34:35.498103Z"
    }
   },
   "outputs": [
    {
     "name": "stdout",
     "output_type": "stream",
     "text": [
      "  epoch    train_loss    valid_acc    valid_loss     dur\n",
      "-------  ------------  -----------  ------------  ------\n",
      "      1        \u001b[36m1.8193\u001b[0m       \u001b[32m0.7780\u001b[0m        \u001b[35m1.2097\u001b[0m  2.7622\n"
     ]
    },
    {
     "name": "stdout",
     "output_type": "stream",
     "text": [
      "      2        \u001b[36m1.0093\u001b[0m       \u001b[32m0.8384\u001b[0m        \u001b[35m0.7123\u001b[0m  4.4681\n"
     ]
    },
    {
     "name": "stdout",
     "output_type": "stream",
     "text": [
      "      3        \u001b[36m0.7379\u001b[0m       \u001b[32m0.8609\u001b[0m        \u001b[35m0.5574\u001b[0m  4.4937\n"
     ]
    },
    {
     "name": "stdout",
     "output_type": "stream",
     "text": [
      "      4        \u001b[36m0.6216\u001b[0m       \u001b[32m0.8753\u001b[0m        \u001b[35m0.4822\u001b[0m  3.9145\n"
     ]
    },
    {
     "name": "stdout",
     "output_type": "stream",
     "text": [
      "      5        \u001b[36m0.5589\u001b[0m       \u001b[32m0.8848\u001b[0m        \u001b[35m0.4368\u001b[0m  4.2006\n"
     ]
    },
    {
     "name": "stdout",
     "output_type": "stream",
     "text": [
      "      6        \u001b[36m0.5172\u001b[0m       \u001b[32m0.8913\u001b[0m        \u001b[35m0.4065\u001b[0m  3.4071\n"
     ]
    },
    {
     "name": "stdout",
     "output_type": "stream",
     "text": [
      "      7        \u001b[36m0.4859\u001b[0m       \u001b[32m0.8970\u001b[0m        \u001b[35m0.3832\u001b[0m  3.7146\n"
     ]
    },
    {
     "name": "stdout",
     "output_type": "stream",
     "text": [
      "      8        \u001b[36m0.4614\u001b[0m       \u001b[32m0.8996\u001b[0m        \u001b[35m0.3652\u001b[0m  2.8414\n"
     ]
    },
    {
     "name": "stdout",
     "output_type": "stream",
     "text": [
      "      9        \u001b[36m0.4410\u001b[0m       \u001b[32m0.9036\u001b[0m        \u001b[35m0.3504\u001b[0m  2.9159\n"
     ]
    },
    {
     "name": "stdout",
     "output_type": "stream",
     "text": [
      "     10        \u001b[36m0.4241\u001b[0m       \u001b[32m0.9060\u001b[0m        \u001b[35m0.3381\u001b[0m  2.9967\n"
     ]
    }
   ],
   "source": [
    "_ = net.fit(X, y)"
   ]
  },
  {
   "cell_type": "markdown",
   "metadata": {},
   "source": [
    "Compute the cross-validated predicted probabilities, ``pyx``, sometimes also known as the out-of-sample predicted probabilities."
   ]
  },
  {
   "cell_type": "code",
   "execution_count": 7,
   "metadata": {
    "execution": {
     "iopub.execute_input": "2022-03-09T16:34:35.502745Z",
     "iopub.status.busy": "2022-03-09T16:34:35.502522Z",
     "iopub.status.idle": "2022-03-09T16:35:25.554201Z",
     "shell.execute_reply": "2022-03-09T16:35:25.553145Z"
    }
   },
   "outputs": [
    {
     "name": "stdout",
     "output_type": "stream",
     "text": [
      "  epoch    train_loss    valid_acc    valid_loss     dur\n",
      "-------  ------------  -----------  ------------  ------\n",
      "      1        \u001b[36m1.9996\u001b[0m       \u001b[32m0.7287\u001b[0m        \u001b[35m1.5961\u001b[0m  2.4080\n"
     ]
    },
    {
     "name": "stdout",
     "output_type": "stream",
     "text": [
      "      2        \u001b[36m1.2714\u001b[0m       \u001b[32m0.7926\u001b[0m        \u001b[35m0.9647\u001b[0m  1.4545\n"
     ]
    },
    {
     "name": "stdout",
     "output_type": "stream",
     "text": [
      "      3        \u001b[36m0.8936\u001b[0m       \u001b[32m0.8242\u001b[0m        \u001b[35m0.7281\u001b[0m  1.5216\n"
     ]
    },
    {
     "name": "stdout",
     "output_type": "stream",
     "text": [
      "      4        \u001b[36m0.7349\u001b[0m       \u001b[32m0.8456\u001b[0m        \u001b[35m0.6179\u001b[0m  1.5129\n"
     ]
    },
    {
     "name": "stdout",
     "output_type": "stream",
     "text": [
      "      5        \u001b[36m0.6450\u001b[0m       \u001b[32m0.8575\u001b[0m        \u001b[35m0.5509\u001b[0m  1.8452\n"
     ]
    },
    {
     "name": "stdout",
     "output_type": "stream",
     "text": [
      "      6        \u001b[36m0.5901\u001b[0m       \u001b[32m0.8654\u001b[0m        \u001b[35m0.5076\u001b[0m  1.1901\n"
     ]
    },
    {
     "name": "stdout",
     "output_type": "stream",
     "text": [
      "      7        \u001b[36m0.5488\u001b[0m       \u001b[32m0.8705\u001b[0m        \u001b[35m0.4759\u001b[0m  1.2525\n"
     ]
    },
    {
     "name": "stdout",
     "output_type": "stream",
     "text": [
      "      8        \u001b[36m0.5175\u001b[0m       \u001b[32m0.8758\u001b[0m        \u001b[35m0.4506\u001b[0m  1.7820\n"
     ]
    },
    {
     "name": "stdout",
     "output_type": "stream",
     "text": [
      "      9        \u001b[36m0.4916\u001b[0m       \u001b[32m0.8792\u001b[0m        \u001b[35m0.4315\u001b[0m  1.8408\n"
     ]
    },
    {
     "name": "stdout",
     "output_type": "stream",
     "text": [
      "     10        \u001b[36m0.4707\u001b[0m       \u001b[32m0.8826\u001b[0m        \u001b[35m0.4144\u001b[0m  1.2273\n"
     ]
    },
    {
     "name": "stdout",
     "output_type": "stream",
     "text": [
      "  epoch    train_loss    valid_acc    valid_loss     dur\n",
      "-------  ------------  -----------  ------------  ------\n",
      "      1        \u001b[36m1.9802\u001b[0m       \u001b[32m0.7532\u001b[0m        \u001b[35m1.5509\u001b[0m  1.4336\n"
     ]
    },
    {
     "name": "stdout",
     "output_type": "stream",
     "text": [
      "      2        \u001b[36m1.2572\u001b[0m       \u001b[32m0.8074\u001b[0m        \u001b[35m0.9376\u001b[0m  1.4320\n"
     ]
    },
    {
     "name": "stdout",
     "output_type": "stream",
     "text": [
      "      3        \u001b[36m0.8952\u001b[0m       \u001b[32m0.8372\u001b[0m        \u001b[35m0.7033\u001b[0m  1.3659\n"
     ]
    },
    {
     "name": "stdout",
     "output_type": "stream",
     "text": [
      "      4        \u001b[36m0.7346\u001b[0m       \u001b[32m0.8553\u001b[0m        \u001b[35m0.5910\u001b[0m  1.2194\n"
     ]
    },
    {
     "name": "stdout",
     "output_type": "stream",
     "text": [
      "      5        \u001b[36m0.6487\u001b[0m       \u001b[32m0.8675\u001b[0m        \u001b[35m0.5245\u001b[0m  1.2199\n"
     ]
    },
    {
     "name": "stdout",
     "output_type": "stream",
     "text": [
      "      6        \u001b[36m0.5960\u001b[0m       \u001b[32m0.8785\u001b[0m        \u001b[35m0.4805\u001b[0m  1.1673\n"
     ]
    },
    {
     "name": "stdout",
     "output_type": "stream",
     "text": [
      "      7        \u001b[36m0.5535\u001b[0m       \u001b[32m0.8854\u001b[0m        \u001b[35m0.4482\u001b[0m  1.2687\n"
     ]
    },
    {
     "name": "stdout",
     "output_type": "stream",
     "text": [
      "      8        \u001b[36m0.5169\u001b[0m       \u001b[32m0.8899\u001b[0m        \u001b[35m0.4224\u001b[0m  1.3016\n"
     ]
    },
    {
     "name": "stdout",
     "output_type": "stream",
     "text": [
      "      9        \u001b[36m0.4993\u001b[0m       \u001b[32m0.8929\u001b[0m        \u001b[35m0.4036\u001b[0m  1.8156\n"
     ]
    },
    {
     "name": "stdout",
     "output_type": "stream",
     "text": [
      "     10        \u001b[36m0.4739\u001b[0m       \u001b[32m0.8952\u001b[0m        \u001b[35m0.3884\u001b[0m  1.5536\n"
     ]
    },
    {
     "name": "stdout",
     "output_type": "stream",
     "text": [
      "  epoch    train_loss    valid_acc    valid_loss     dur\n",
      "-------  ------------  -----------  ------------  ------\n",
      "      1        \u001b[36m2.0120\u001b[0m       \u001b[32m0.7128\u001b[0m        \u001b[35m1.6068\u001b[0m  1.5393\n"
     ]
    },
    {
     "name": "stdout",
     "output_type": "stream",
     "text": [
      "      2        \u001b[36m1.3244\u001b[0m       \u001b[32m0.8064\u001b[0m        \u001b[35m0.9733\u001b[0m  2.1629\n"
     ]
    },
    {
     "name": "stdout",
     "output_type": "stream",
     "text": [
      "      3        \u001b[36m0.9435\u001b[0m       \u001b[32m0.8424\u001b[0m        \u001b[35m0.7178\u001b[0m  1.6266\n"
     ]
    },
    {
     "name": "stdout",
     "output_type": "stream",
     "text": [
      "      4        \u001b[36m0.7731\u001b[0m       \u001b[32m0.8619\u001b[0m        \u001b[35m0.5965\u001b[0m  1.7413\n"
     ]
    },
    {
     "name": "stdout",
     "output_type": "stream",
     "text": [
      "      5        \u001b[36m0.6815\u001b[0m       \u001b[32m0.8741\u001b[0m        \u001b[35m0.5254\u001b[0m  1.8502\n"
     ]
    },
    {
     "name": "stdout",
     "output_type": "stream",
     "text": [
      "      6        \u001b[36m0.6187\u001b[0m       \u001b[32m0.8826\u001b[0m        \u001b[35m0.4794\u001b[0m  1.9058\n"
     ]
    },
    {
     "name": "stdout",
     "output_type": "stream",
     "text": [
      "      7        \u001b[36m0.5800\u001b[0m       \u001b[32m0.8878\u001b[0m        \u001b[35m0.4461\u001b[0m  1.6438\n"
     ]
    },
    {
     "name": "stdout",
     "output_type": "stream",
     "text": [
      "      8        \u001b[36m0.5446\u001b[0m       \u001b[32m0.8919\u001b[0m        \u001b[35m0.4216\u001b[0m  1.3177\n"
     ]
    },
    {
     "name": "stdout",
     "output_type": "stream",
     "text": [
      "      9        \u001b[36m0.5167\u001b[0m       \u001b[32m0.8959\u001b[0m        \u001b[35m0.4010\u001b[0m  2.0335\n"
     ]
    },
    {
     "name": "stdout",
     "output_type": "stream",
     "text": [
      "     10        \u001b[36m0.4940\u001b[0m       \u001b[32m0.8990\u001b[0m        \u001b[35m0.3841\u001b[0m  1.5458\n"
     ]
    }
   ],
   "source": [
    "from sklearn.model_selection import cross_val_predict\n",
    "\n",
    "pyx = cross_val_predict(net, X, y, cv=3, method='predict_proba')"
   ]
  },
  {
   "cell_type": "markdown",
   "metadata": {},
   "source": [
    "## 6. Run Cleanlab to find potential label errors"
   ]
  },
  {
   "cell_type": "markdown",
   "metadata": {},
   "source": [
    "Cleanlab has a ``get_noise_indices`` function to generate a list of potential label errors. Setting ``sorted_index_method=\"prob_given_label\"`` returns the indices of all the most likely label errors, sorted by the most suspicious example first."
   ]
  },
  {
   "cell_type": "code",
   "execution_count": 8,
   "metadata": {
    "execution": {
     "iopub.execute_input": "2022-03-09T16:35:25.559687Z",
     "iopub.status.busy": "2022-03-09T16:35:25.558997Z",
     "iopub.status.idle": "2022-03-09T16:35:26.169876Z",
     "shell.execute_reply": "2022-03-09T16:35:26.168526Z"
    }
   },
   "outputs": [],
   "source": [
    "from cleanlab.pruning import get_noise_indices\n",
    "\n",
    "ordered_label_errors = get_noise_indices(\n",
    "    s=y,\n",
    "    psx=pyx,\n",
    "    sorted_index_method=\"prob_given_label\"\n",
    ")"
   ]
  },
  {
   "cell_type": "markdown",
   "metadata": {},
   "source": [
    "## 7. Review some of the most likely mislabeled examples"
   ]
  },
  {
   "cell_type": "code",
   "execution_count": 9,
   "metadata": {
    "execution": {
     "iopub.execute_input": "2022-03-09T16:35:26.174511Z",
     "iopub.status.busy": "2022-03-09T16:35:26.174248Z",
     "iopub.status.idle": "2022-03-09T16:35:26.181858Z",
     "shell.execute_reply": "2022-03-09T16:35:26.181009Z"
    }
   },
   "outputs": [
    {
     "name": "stdout",
     "output_type": "stream",
     "text": [
      "Cleanlab found 1217 potential label errors. Here are the indices of the top 15 most likely ones: \n",
      " [24798 18598  8729 61790  1352 15942 20820 55739 59915 53216 31134 39457\n",
      " 20735  7010 26882]\n"
     ]
    }
   ],
   "source": [
    "print(f\"Cleanlab found {len(ordered_label_errors)} potential label errors. Here are the indices of the top 15 most likely ones: \\n {ordered_label_errors[:15]}\")"
   ]
  },
  {
   "cell_type": "markdown",
   "metadata": {},
   "source": [
    "We'll define a new ``plot_examples`` function to display any examples in a subplot conveniently."
   ]
  },
  {
   "cell_type": "code",
   "execution_count": 10,
   "metadata": {
    "execution": {
     "iopub.execute_input": "2022-03-09T16:35:26.185491Z",
     "iopub.status.busy": "2022-03-09T16:35:26.185253Z",
     "iopub.status.idle": "2022-03-09T16:35:27.550083Z",
     "shell.execute_reply": "2022-03-09T16:35:27.549158Z"
    }
   },
   "outputs": [],
   "source": [
    "import matplotlib.pyplot as plt\n",
    "\n",
    "def plot_examples(id_iter, nrows=1, ncols=1):\n",
    "    for count, id in enumerate(id_iter):\n",
    "        plt.subplot(nrows, ncols, count+1)\n",
    "        plt.imshow(X[id].reshape(28, 28))\n",
    "        plt.title(f\"id: {id} \\n label: {y[id]}\")\n",
    "        plt.axis('off')\n",
    "\n",
    "    plt.tight_layout(h_pad=2.0)"
   ]
  },
  {
   "cell_type": "markdown",
   "metadata": {},
   "source": [
    "Let's start by having an overview of the top 15 most likely label errors. From here, we can see a few label errors and edge cases. Feel free to change the parameters to display more or fewer examples. "
   ]
  },
  {
   "cell_type": "code",
   "execution_count": 11,
   "metadata": {
    "execution": {
     "iopub.execute_input": "2022-03-09T16:35:27.553879Z",
     "iopub.status.busy": "2022-03-09T16:35:27.553557Z",
     "iopub.status.idle": "2022-03-09T16:35:28.321962Z",
     "shell.execute_reply": "2022-03-09T16:35:28.321055Z"
    }
   },
   "outputs": [
    {
     "data": {
      "image/png": "[encoded data removed]",
      "text/plain": [
       "<Figure size 432x288 with 15 Axes>"
      ]
     },
     "metadata": {
      "needs_background": "light"
     },
     "output_type": "display_data"
    }
   ],
   "source": [
    "plot_examples(ordered_label_errors[range(15)], 3, 5)"
   ]
  },
  {
   "cell_type": "markdown",
   "metadata": {},
   "source": [
    "Let's zoom into specific examples:"
   ]
  },
  {
   "cell_type": "markdown",
   "metadata": {},
   "source": [
    "Given label is **4** but looks more like a **7**"
   ]
  },
  {
   "cell_type": "code",
   "execution_count": 12,
   "metadata": {
    "execution": {
     "iopub.execute_input": "2022-03-09T16:35:28.326423Z",
     "iopub.status.busy": "2022-03-09T16:35:28.326131Z",
     "iopub.status.idle": "2022-03-09T16:35:28.421621Z",
     "shell.execute_reply": "2022-03-09T16:35:28.420419Z"
    }
   },
   "outputs": [
    {
     "data": {
      "image/png": "[encoded data removed]",
      "text/plain": [
       "<Figure size 432x288 with 1 Axes>"
      ]
     },
     "metadata": {
      "needs_background": "light"
     },
     "output_type": "display_data"
    }
   ],
   "source": [
    "plot_examples([59915])"
   ]
  },
  {
   "cell_type": "markdown",
   "metadata": {},
   "source": [
    "Given label is **4** but also looks like **9**"
   ]
  },
  {
   "cell_type": "code",
   "execution_count": 13,
   "metadata": {
    "execution": {
     "iopub.execute_input": "2022-03-09T16:35:28.426042Z",
     "iopub.status.busy": "2022-03-09T16:35:28.425805Z",
     "iopub.status.idle": "2022-03-09T16:35:28.517229Z",
     "shell.execute_reply": "2022-03-09T16:35:28.516419Z"
    }
   },
   "outputs": [
    {
     "data": {
      "image/png": "[encoded data removed]",
      "text/plain": [
       "<Figure size 432x288 with 1 Axes>"
      ]
     },
     "metadata": {
      "needs_background": "light"
     },
     "output_type": "display_data"
    }
   ],
   "source": [
    "plot_examples([24798])"
   ]
  },
  {
   "cell_type": "markdown",
   "metadata": {},
   "source": [
    "Edge case of odd looking **9**s"
   ]
  },
  {
   "cell_type": "code",
   "execution_count": 14,
   "metadata": {
    "execution": {
     "iopub.execute_input": "2022-03-09T16:35:28.523257Z",
     "iopub.status.busy": "2022-03-09T16:35:28.521973Z",
     "iopub.status.idle": "2022-03-09T16:35:28.913383Z",
     "shell.execute_reply": "2022-03-09T16:35:28.912429Z"
    }
   },
   "outputs": [
    {
     "data": {
      "image/png": "[encoded data removed]",
      "text/plain": [
       "<Figure size 432x288 with 3 Axes>"
      ]
     },
     "metadata": {
      "needs_background": "light"
     },
     "output_type": "display_data"
    }
   ],
   "source": [
    "plot_examples([18598, 1352, 61247], 1, 3)"
   ]
  },
  {
   "cell_type": "markdown",
   "metadata": {},
   "source": [
    "Cleanlab has shortlisted the most likely label errors to speed up your data cleaning process. With this list, you can decide whether to fix label errors, augment edge cases or remove obscure examples. \n",
    "\n",
    "These human-in-the-loop processes may be time-consuming, so if you'd like Cleanlab to automatically remove these noisy examples and train a model directly on the partially mislabeled dataset, you're in luck! Cleanlab provides a ``LearningWithNoisyLabels`` wrapper to do precisely this:"
   ]
  },
  {
   "cell_type": "markdown",
   "metadata": {},
   "source": [
    "## 8. Adapt with Cleanlab's wrapper and train a more robust model"
   ]
  },
  {
   "cell_type": "markdown",
   "metadata": {},
   "source": [
    "First, we split the dataset into train and test subsets."
   ]
  },
  {
   "cell_type": "code",
   "execution_count": 15,
   "metadata": {
    "execution": {
     "iopub.execute_input": "2022-03-09T16:35:28.917508Z",
     "iopub.status.busy": "2022-03-09T16:35:28.917271Z",
     "iopub.status.idle": "2022-03-09T16:35:30.714100Z",
     "shell.execute_reply": "2022-03-09T16:35:30.713208Z"
    }
   },
   "outputs": [],
   "source": [
    "from sklearn.model_selection import train_test_split\n",
    "\n",
    "X_train, X_test, y_train, y_test = train_test_split(X, y, test_size=0.2)"
   ]
  },
  {
   "cell_type": "markdown",
   "metadata": {},
   "source": [
    "Re-instantiate a new scikit-learn compatible model with Skorch then wrap it with Cleanlab's ``LearningWithNoisyLabels`` wrapper."
   ]
  },
  {
   "cell_type": "code",
   "execution_count": 16,
   "metadata": {
    "execution": {
     "iopub.execute_input": "2022-03-09T16:35:30.718307Z",
     "iopub.status.busy": "2022-03-09T16:35:30.718065Z",
     "iopub.status.idle": "2022-03-09T16:35:30.723028Z",
     "shell.execute_reply": "2022-03-09T16:35:30.722139Z"
    }
   },
   "outputs": [],
   "source": [
    "from cleanlab.classification import LearningWithNoisyLabels\n",
    "\n",
    "net = NeuralNetClassifier(NeuralNetwork)\n",
    "clf = LearningWithNoisyLabels(clf=net)"
   ]
  },
  {
   "cell_type": "code",
   "execution_count": 17,
   "metadata": {
    "execution": {
     "iopub.execute_input": "2022-03-09T16:35:30.726965Z",
     "iopub.status.busy": "2022-03-09T16:35:30.726740Z",
     "iopub.status.idle": "2022-03-09T16:37:25.455840Z",
     "shell.execute_reply": "2022-03-09T16:37:25.454846Z"
    }
   },
   "outputs": [
    {
     "name": "stdout",
     "output_type": "stream",
     "text": [
      "  epoch    train_loss    valid_acc    valid_loss     dur\n",
      "-------  ------------  -----------  ------------  ------\n",
      "      1        \u001b[36m2.0131\u001b[0m       \u001b[32m0.7071\u001b[0m        \u001b[35m1.6203\u001b[0m  1.3346\n"
     ]
    },
    {
     "name": "stdout",
     "output_type": "stream",
     "text": [
      "      2        \u001b[36m1.3348\u001b[0m       \u001b[32m0.8155\u001b[0m        \u001b[35m0.9938\u001b[0m  2.4858\n"
     ]
    },
    {
     "name": "stdout",
     "output_type": "stream",
     "text": [
      "      3        \u001b[36m0.9541\u001b[0m       \u001b[32m0.8484\u001b[0m        \u001b[35m0.7318\u001b[0m  1.3564\n"
     ]
    },
    {
     "name": "stdout",
     "output_type": "stream",
     "text": [
      "      4        \u001b[36m0.7818\u001b[0m       \u001b[32m0.8665\u001b[0m        \u001b[35m0.6050\u001b[0m  1.3703\n"
     ]
    },
    {
     "name": "stdout",
     "output_type": "stream",
     "text": [
      "      5        \u001b[36m0.6868\u001b[0m       \u001b[32m0.8749\u001b[0m        \u001b[35m0.5322\u001b[0m  2.1705\n"
     ]
    },
    {
     "name": "stdout",
     "output_type": "stream",
     "text": [
      "      6        \u001b[36m0.6246\u001b[0m       \u001b[32m0.8831\u001b[0m        \u001b[35m0.4842\u001b[0m  1.4104\n"
     ]
    },
    {
     "name": "stdout",
     "output_type": "stream",
     "text": [
      "      7        \u001b[36m0.5853\u001b[0m       \u001b[32m0.8893\u001b[0m        \u001b[35m0.4501\u001b[0m  1.2797\n"
     ]
    },
    {
     "name": "stdout",
     "output_type": "stream",
     "text": [
      "      8        \u001b[36m0.5502\u001b[0m       \u001b[32m0.8943\u001b[0m        \u001b[35m0.4241\u001b[0m  1.1510\n"
     ]
    },
    {
     "name": "stdout",
     "output_type": "stream",
     "text": [
      "      9        \u001b[36m0.5186\u001b[0m       \u001b[32m0.8968\u001b[0m        \u001b[35m0.4026\u001b[0m  1.2727\n"
     ]
    },
    {
     "name": "stdout",
     "output_type": "stream",
     "text": [
      "     10        \u001b[36m0.4954\u001b[0m       \u001b[32m0.8994\u001b[0m        \u001b[35m0.3855\u001b[0m  1.2893\n"
     ]
    },
    {
     "name": "stdout",
     "output_type": "stream",
     "text": [
      "  epoch    train_loss    valid_acc    valid_loss     dur\n",
      "-------  ------------  -----------  ------------  ------\n",
      "      1        \u001b[36m1.9730\u001b[0m       \u001b[32m0.7295\u001b[0m        \u001b[35m1.5539\u001b[0m  1.9265\n"
     ]
    },
    {
     "name": "stdout",
     "output_type": "stream",
     "text": [
      "      2        \u001b[36m1.2808\u001b[0m       \u001b[32m0.8055\u001b[0m        \u001b[35m0.9545\u001b[0m  1.2760\n"
     ]
    },
    {
     "name": "stdout",
     "output_type": "stream",
     "text": [
      "      3        \u001b[36m0.9211\u001b[0m       \u001b[32m0.8438\u001b[0m        \u001b[35m0.7133\u001b[0m  1.2840\n"
     ]
    },
    {
     "name": "stdout",
     "output_type": "stream",
     "text": [
      "      4        \u001b[36m0.7613\u001b[0m       \u001b[32m0.8597\u001b[0m        \u001b[35m0.5974\u001b[0m  1.2455\n"
     ]
    },
    {
     "name": "stdout",
     "output_type": "stream",
     "text": [
      "      5        \u001b[36m0.6698\u001b[0m       \u001b[32m0.8711\u001b[0m        \u001b[35m0.5291\u001b[0m  1.2451\n"
     ]
    },
    {
     "name": "stdout",
     "output_type": "stream",
     "text": [
      "      6        \u001b[36m0.6116\u001b[0m       \u001b[32m0.8790\u001b[0m        \u001b[35m0.4823\u001b[0m  1.6951\n"
     ]
    },
    {
     "name": "stdout",
     "output_type": "stream",
     "text": [
      "      7        \u001b[36m0.5670\u001b[0m       \u001b[32m0.8845\u001b[0m        \u001b[35m0.4502\u001b[0m  2.0593\n"
     ]
    },
    {
     "name": "stdout",
     "output_type": "stream",
     "text": [
      "      8        \u001b[36m0.5333\u001b[0m       \u001b[32m0.8891\u001b[0m        \u001b[35m0.4245\u001b[0m  1.3202\n"
     ]
    },
    {
     "name": "stdout",
     "output_type": "stream",
     "text": [
      "      9        \u001b[36m0.5125\u001b[0m       \u001b[32m0.8922\u001b[0m        \u001b[35m0.4057\u001b[0m  1.1550\n"
     ]
    },
    {
     "name": "stdout",
     "output_type": "stream",
     "text": [
      "     10        \u001b[36m0.4922\u001b[0m       \u001b[32m0.8948\u001b[0m        \u001b[35m0.3896\u001b[0m  1.8291\n"
     ]
    },
    {
     "name": "stdout",
     "output_type": "stream",
     "text": [
      "  epoch    train_loss    valid_acc    valid_loss     dur\n",
      "-------  ------------  -----------  ------------  ------\n",
      "      1        \u001b[36m2.0408\u001b[0m       \u001b[32m0.7335\u001b[0m        \u001b[35m1.6563\u001b[0m  1.4324\n"
     ]
    },
    {
     "name": "stdout",
     "output_type": "stream",
     "text": [
      "      2        \u001b[36m1.3569\u001b[0m       \u001b[32m0.8161\u001b[0m        \u001b[35m1.0024\u001b[0m  1.2985\n"
     ]
    },
    {
     "name": "stdout",
     "output_type": "stream",
     "text": [
      "      3        \u001b[36m0.9592\u001b[0m       \u001b[32m0.8507\u001b[0m        \u001b[35m0.7308\u001b[0m  1.2420\n"
     ]
    },
    {
     "name": "stdout",
     "output_type": "stream",
     "text": [
      "      4        \u001b[36m0.7825\u001b[0m       \u001b[32m0.8655\u001b[0m        \u001b[35m0.6042\u001b[0m  1.4852\n"
     ]
    },
    {
     "name": "stdout",
     "output_type": "stream",
     "text": [
      "      5        \u001b[36m0.6883\u001b[0m       \u001b[32m0.8750\u001b[0m        \u001b[35m0.5319\u001b[0m  1.9664\n"
     ]
    },
    {
     "name": "stdout",
     "output_type": "stream",
     "text": [
      "      6        \u001b[36m0.6271\u001b[0m       \u001b[32m0.8820\u001b[0m        \u001b[35m0.4851\u001b[0m  1.9450\n"
     ]
    },
    {
     "name": "stdout",
     "output_type": "stream",
     "text": [
      "      7        \u001b[36m0.5802\u001b[0m       \u001b[32m0.8865\u001b[0m        \u001b[35m0.4516\u001b[0m  1.9084\n"
     ]
    },
    {
     "name": "stdout",
     "output_type": "stream",
     "text": [
      "      8        \u001b[36m0.5467\u001b[0m       \u001b[32m0.8895\u001b[0m        \u001b[35m0.4274\u001b[0m  2.0015\n"
     ]
    },
    {
     "name": "stdout",
     "output_type": "stream",
     "text": [
      "      9        \u001b[36m0.5239\u001b[0m       \u001b[32m0.8943\u001b[0m        \u001b[35m0.4085\u001b[0m  2.4100\n"
     ]
    },
    {
     "name": "stdout",
     "output_type": "stream",
     "text": [
      "     10        \u001b[36m0.4988\u001b[0m       \u001b[32m0.8963\u001b[0m        \u001b[35m0.3925\u001b[0m  2.6611\n"
     ]
    },
    {
     "name": "stdout",
     "output_type": "stream",
     "text": [
      "  epoch    train_loss    valid_acc    valid_loss     dur\n",
      "-------  ------------  -----------  ------------  ------\n",
      "      1        \u001b[36m2.0147\u001b[0m       \u001b[32m0.7339\u001b[0m        \u001b[35m1.6175\u001b[0m  1.4556\n"
     ]
    },
    {
     "name": "stdout",
     "output_type": "stream",
     "text": [
      "      2        \u001b[36m1.3236\u001b[0m       \u001b[32m0.8166\u001b[0m        \u001b[35m0.9797\u001b[0m  1.4877\n"
     ]
    },
    {
     "name": "stdout",
     "output_type": "stream",
     "text": [
      "      3        \u001b[36m0.9357\u001b[0m       \u001b[32m0.8489\u001b[0m        \u001b[35m0.7190\u001b[0m  1.6873\n"
     ]
    },
    {
     "name": "stdout",
     "output_type": "stream",
     "text": [
      "      4        \u001b[36m0.7657\u001b[0m       \u001b[32m0.8632\u001b[0m        \u001b[35m0.5962\u001b[0m  1.3945\n"
     ]
    },
    {
     "name": "stdout",
     "output_type": "stream",
     "text": [
      "      5        \u001b[36m0.6758\u001b[0m       \u001b[32m0.8725\u001b[0m        \u001b[35m0.5273\u001b[0m  1.1647\n"
     ]
    },
    {
     "name": "stdout",
     "output_type": "stream",
     "text": [
      "      6        \u001b[36m0.6136\u001b[0m       \u001b[32m0.8786\u001b[0m        \u001b[35m0.4811\u001b[0m  1.1638\n"
     ]
    },
    {
     "name": "stdout",
     "output_type": "stream",
     "text": [
      "      7        \u001b[36m0.5747\u001b[0m       \u001b[32m0.8846\u001b[0m        \u001b[35m0.4489\u001b[0m  2.0195\n"
     ]
    },
    {
     "name": "stdout",
     "output_type": "stream",
     "text": [
      "      8        \u001b[36m0.5382\u001b[0m       \u001b[32m0.8888\u001b[0m        \u001b[35m0.4235\u001b[0m  1.5869\n"
     ]
    },
    {
     "name": "stdout",
     "output_type": "stream",
     "text": [
      "      9        \u001b[36m0.5136\u001b[0m       \u001b[32m0.8920\u001b[0m        \u001b[35m0.4038\u001b[0m  1.3622\n"
     ]
    },
    {
     "name": "stdout",
     "output_type": "stream",
     "text": [
      "     10        \u001b[36m0.4934\u001b[0m       \u001b[32m0.8949\u001b[0m        \u001b[35m0.3882\u001b[0m  1.8136\n"
     ]
    },
    {
     "name": "stdout",
     "output_type": "stream",
     "text": [
      "  epoch    train_loss    valid_acc    valid_loss     dur\n",
      "-------  ------------  -----------  ------------  ------\n",
      "      1        \u001b[36m1.9964\u001b[0m       \u001b[32m0.7376\u001b[0m        \u001b[35m1.5951\u001b[0m  1.4992\n"
     ]
    },
    {
     "name": "stdout",
     "output_type": "stream",
     "text": [
      "      2        \u001b[36m1.3153\u001b[0m       \u001b[32m0.8081\u001b[0m        \u001b[35m0.9803\u001b[0m  1.8986\n"
     ]
    },
    {
     "name": "stdout",
     "output_type": "stream",
     "text": [
      "      3        \u001b[36m0.9402\u001b[0m       \u001b[32m0.8442\u001b[0m        \u001b[35m0.7231\u001b[0m  1.8095\n"
     ]
    },
    {
     "name": "stdout",
     "output_type": "stream",
     "text": [
      "      4        \u001b[36m0.7758\u001b[0m       \u001b[32m0.8614\u001b[0m        \u001b[35m0.6025\u001b[0m  1.8596\n"
     ]
    },
    {
     "name": "stdout",
     "output_type": "stream",
     "text": [
      "      5        \u001b[36m0.6826\u001b[0m       \u001b[32m0.8722\u001b[0m        \u001b[35m0.5304\u001b[0m  2.3238\n"
     ]
    },
    {
     "name": "stdout",
     "output_type": "stream",
     "text": [
      "      6        \u001b[36m0.6188\u001b[0m       \u001b[32m0.8800\u001b[0m        \u001b[35m0.4839\u001b[0m  2.2640\n"
     ]
    },
    {
     "name": "stdout",
     "output_type": "stream",
     "text": [
      "      7        \u001b[36m0.5747\u001b[0m       \u001b[32m0.8846\u001b[0m        \u001b[35m0.4502\u001b[0m  2.6132\n"
     ]
    },
    {
     "name": "stdout",
     "output_type": "stream",
     "text": [
      "      8        \u001b[36m0.5442\u001b[0m       \u001b[32m0.8908\u001b[0m        \u001b[35m0.4249\u001b[0m  2.1374\n"
     ]
    },
    {
     "name": "stdout",
     "output_type": "stream",
     "text": [
      "      9        \u001b[36m0.5153\u001b[0m       \u001b[32m0.8956\u001b[0m        \u001b[35m0.4044\u001b[0m  2.4559\n"
     ]
    },
    {
     "name": "stdout",
     "output_type": "stream",
     "text": [
      "     10        \u001b[36m0.4976\u001b[0m       \u001b[32m0.8988\u001b[0m        \u001b[35m0.3883\u001b[0m  2.2570\n"
     ]
    },
    {
     "name": "stdout",
     "output_type": "stream",
     "text": [
      "  epoch    train_loss    valid_acc    valid_loss     dur\n",
      "-------  ------------  -----------  ------------  ------\n",
      "      1        \u001b[36m1.9093\u001b[0m       \u001b[32m0.7662\u001b[0m        \u001b[35m1.3882\u001b[0m  2.4028\n"
     ]
    },
    {
     "name": "stdout",
     "output_type": "stream",
     "text": [
      "      2        \u001b[36m1.1160\u001b[0m       \u001b[32m0.8424\u001b[0m        \u001b[35m0.7807\u001b[0m  2.1673\n"
     ]
    },
    {
     "name": "stdout",
     "output_type": "stream",
     "text": [
      "      3        \u001b[36m0.7837\u001b[0m       \u001b[32m0.8733\u001b[0m        \u001b[35m0.5750\u001b[0m  2.6284\n"
     ]
    },
    {
     "name": "stdout",
     "output_type": "stream",
     "text": [
      "      4        \u001b[36m0.6380\u001b[0m       \u001b[32m0.8871\u001b[0m        \u001b[35m0.4761\u001b[0m  2.7105\n"
     ]
    },
    {
     "name": "stdout",
     "output_type": "stream",
     "text": [
      "      5        \u001b[36m0.5581\u001b[0m       \u001b[32m0.8957\u001b[0m        \u001b[35m0.4178\u001b[0m  2.5722\n"
     ]
    },
    {
     "name": "stdout",
     "output_type": "stream",
     "text": [
      "      6        \u001b[36m0.5099\u001b[0m       \u001b[32m0.9026\u001b[0m        \u001b[35m0.3796\u001b[0m  2.8467\n"
     ]
    },
    {
     "name": "stdout",
     "output_type": "stream",
     "text": [
      "      7        \u001b[36m0.4681\u001b[0m       \u001b[32m0.9076\u001b[0m        \u001b[35m0.3513\u001b[0m  2.4299\n"
     ]
    },
    {
     "name": "stdout",
     "output_type": "stream",
     "text": [
      "      8        \u001b[36m0.4425\u001b[0m       \u001b[32m0.9115\u001b[0m        \u001b[35m0.3305\u001b[0m  3.6547\n"
     ]
    },
    {
     "name": "stdout",
     "output_type": "stream",
     "text": [
      "      9        \u001b[36m0.4189\u001b[0m       \u001b[32m0.9149\u001b[0m        \u001b[35m0.3132\u001b[0m  2.7451\n"
     ]
    },
    {
     "name": "stdout",
     "output_type": "stream",
     "text": [
      "     10        \u001b[36m0.4025\u001b[0m       \u001b[32m0.9175\u001b[0m        \u001b[35m0.3002\u001b[0m  1.8969\n"
     ]
    }
   ],
   "source": [
    "_ = clf.fit(X_train, y_train.to_numpy())"
   ]
  },
  {
   "cell_type": "markdown",
   "metadata": {},
   "source": [
    "## 9. Evaluate the robust model's performance"
   ]
  },
  {
   "cell_type": "code",
   "execution_count": 18,
   "metadata": {
    "execution": {
     "iopub.execute_input": "2022-03-09T16:37:25.461801Z",
     "iopub.status.busy": "2022-03-09T16:37:25.461502Z",
     "iopub.status.idle": "2022-03-09T16:37:26.041965Z",
     "shell.execute_reply": "2022-03-09T16:37:26.041137Z"
    }
   },
   "outputs": [
    {
     "data": {
      "text/plain": [
       "0.8996428571428572"
      ]
     },
     "execution_count": 18,
     "metadata": {},
     "output_type": "execute_result"
    }
   ],
   "source": [
    "from sklearn.metrics import accuracy_score\n",
    "\n",
    "y_pred = clf.predict(X_test)\n",
    "accuracy_score(y_test, y_pred)"
   ]
  },
  {
   "cell_type": "markdown",
   "metadata": {},
   "source": [
    "## What's next?"
   ]
  },
  {
   "cell_type": "markdown",
   "metadata": {},
   "source": [
    "Congratulations on completing this tutorial! Check out our following tutorial on using Cleanlab for text classification, where we found *hundreds* of potential label errors in one of the most well-known text datasets, the IMBDb movie review dataset!"
   ]
  }
 ],
 "metadata": {
  "interpreter": {
   "hash": "ced20e3e49bb4fa4ce8ad38f8f2535b7fc4c39b2b89554502b5dbdad1ad67eda"
  },
  "kernelspec": {
   "display_name": "Python 3.10.0 64-bit",
   "language": "python",
   "name": "python3"
  },
  "language_info": {
   "codemirror_mode": {
    "name": "ipython",
    "version": 3
   },
   "file_extension": ".py",
   "mimetype": "text/x-python",
   "name": "python",
   "nbconvert_exporter": "python",
   "pygments_lexer": "ipython3",
   "version": "3.8.12"
  }
 },
 "nbformat": 4,
 "nbformat_minor": 2
}
