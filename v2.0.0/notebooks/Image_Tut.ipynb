{
 "cells": [
  {
   "cell_type": "markdown",
   "metadata": {},
   "source": [
    "# Image Classification with Cleanlab, PyTorch & Skorch"
   ]
  },
  {
   "cell_type": "markdown",
   "metadata": {},
   "source": [
    "This tutorial will use Cleanlab to find potential label errors in the MNIST handwritten digit image dataset. This dataset contains 60,000 images of handwritten digits from 0 to 9. We'll find *more than a thousand* highly suspicious examples with label errors and edge cases by the end of this tutorial. \n",
    "\n",
    "**Overview of what we'll do in this tutorial:**\n",
    "\n",
    "- Build a simple PyTorch neural net and wrap it with Skorch to make it scikit-learn compatible.\n",
    "\n",
    "- Compute the cross-validated predicted probabilities, ``pyx``, sometimes known as the out-of-sample predicted probabilities.\n",
    "\n",
    "- Generate a list of potential label errors with Cleanlab's ``get_noise_indices``.\n",
    "\n",
    "- Build and train a more robust model than the vanilla model after adapting it with Cleanlab's ``LearningWithNoisyLabels``. \n",
    "\n",
    "**Data:** https://www.openml.org/d/554"
   ]
  },
  {
   "cell_type": "markdown",
   "metadata": {},
   "source": [
    "## 1. Install the required dependencies"
   ]
  },
  {
   "cell_type": "markdown",
   "metadata": {},
   "source": [
    "``%%capture`` is a magic function to hides the cell's output."
   ]
  },
  {
   "cell_type": "code",
   "execution_count": 1,
   "metadata": {
    "execution": {
     "iopub.execute_input": "2022-03-09T00:27:19.282024Z",
     "iopub.status.busy": "2022-03-09T00:27:19.281773Z",
     "iopub.status.idle": "2022-03-09T00:27:45.210490Z",
     "shell.execute_reply": "2022-03-09T00:27:45.209846Z"
    }
   },
   "outputs": [],
   "source": [
    "%%capture\n",
    "\n",
    "%pip install cleanlab pandas matplotlib torch torchvision skorch"
   ]
  },
  {
   "cell_type": "markdown",
   "metadata": {},
   "source": [
    "## 2. Fetch and scale the MNIST dataset"
   ]
  },
  {
   "cell_type": "code",
   "execution_count": 2,
   "metadata": {
    "execution": {
     "iopub.execute_input": "2022-03-09T00:27:45.213448Z",
     "iopub.status.busy": "2022-03-09T00:27:45.213297Z",
     "iopub.status.idle": "2022-03-09T00:28:35.879030Z",
     "shell.execute_reply": "2022-03-09T00:28:35.878442Z"
    }
   },
   "outputs": [],
   "source": [
    "from sklearn.datasets import fetch_openml\n",
    "\n",
    "# Fetch the MNIST dataset\n",
    "mnist = fetch_openml('mnist_784')\n",
    "\n",
    "# Assign the data features and labels to variable X and y respectively \n",
    "X = mnist.data.astype('float32')\n",
    "y = mnist.target.astype('int64')\n"
   ]
  },
  {
   "cell_type": "markdown",
   "metadata": {},
   "source": [
    "<div class=\"alert alert-info\">\n",
    "\n",
    "Bringing Your Own Data (BYOD)?\n",
    "\n",
    "Assign your data's features to variable ``X`` and its labels to variable ``y`` instead.\n",
    "\n",
    "</div>"
   ]
  },
  {
   "cell_type": "code",
   "execution_count": 3,
   "metadata": {
    "execution": {
     "iopub.execute_input": "2022-03-09T00:28:35.881800Z",
     "iopub.status.busy": "2022-03-09T00:28:35.881653Z",
     "iopub.status.idle": "2022-03-09T00:28:35.955329Z",
     "shell.execute_reply": "2022-03-09T00:28:35.954767Z"
    }
   },
   "outputs": [],
   "source": [
    "\n",
    "# Scale the features which range from 0 to 255 (256 levels on the grayscale) \n",
    "X /= 255.0\n",
    "\n",
    "# Then convert it to a numpy array\n",
    "X = X.to_numpy()"
   ]
  },
  {
   "cell_type": "markdown",
   "metadata": {},
   "source": [
    "## 3. Define a classification model"
   ]
  },
  {
   "cell_type": "markdown",
   "metadata": {},
   "source": [
    "Here, we define a simple neural network with PyTorch."
   ]
  },
  {
   "cell_type": "code",
   "execution_count": 4,
   "metadata": {
    "execution": {
     "iopub.execute_input": "2022-03-09T00:28:35.958004Z",
     "iopub.status.busy": "2022-03-09T00:28:35.957856Z",
     "iopub.status.idle": "2022-03-09T00:28:36.317986Z",
     "shell.execute_reply": "2022-03-09T00:28:36.317454Z"
    }
   },
   "outputs": [],
   "source": [
    "from torch import nn\n",
    "\n",
    "class NeuralNetwork(nn.Module):\n",
    "    def __init__(self):\n",
    "        super(NeuralNetwork, self).__init__()\n",
    "        self.dropout = nn.Dropout(0.5)\n",
    "        self.hidden = nn.Linear(28*28, 128)\n",
    "        self.output = nn.Linear(128, 10)\n",
    "\n",
    "    def forward(self, X):\n",
    "        X = nn.functional.relu(self.hidden(X))\n",
    "        X = self.dropout(X)\n",
    "        X = nn.functional.softmax(self.output(X), dim=-1)\n",
    "        return X"
   ]
  },
  {
   "cell_type": "markdown",
   "metadata": {},
   "source": [
    "## 4. Wrap with Skorch for scikit-learn compatibility"
   ]
  },
  {
   "cell_type": "markdown",
   "metadata": {},
   "source": [
    "As some of Cleanlab's feature requires scikit-learn compatibility, we will need to adapt the above PyTorch neural net accordingly. Skorch is a convenient package that helps with this, read more about it here: https://skorch.readthedocs.io"
   ]
  },
  {
   "cell_type": "code",
   "execution_count": 5,
   "metadata": {
    "execution": {
     "iopub.execute_input": "2022-03-09T00:28:36.321048Z",
     "iopub.status.busy": "2022-03-09T00:28:36.320733Z",
     "iopub.status.idle": "2022-03-09T00:28:36.406063Z",
     "shell.execute_reply": "2022-03-09T00:28:36.405581Z"
    }
   },
   "outputs": [],
   "source": [
    "from skorch import NeuralNetClassifier\n",
    "\n",
    "# Wrap the PyTorch neural net around Skorch's NeuralNetClassifier wrapper\n",
    "net = NeuralNetClassifier(NeuralNetwork)"
   ]
  },
  {
   "cell_type": "markdown",
   "metadata": {},
   "source": [
    "## 5. Compute the cross-validated predicted probabilities"
   ]
  },
  {
   "cell_type": "markdown",
   "metadata": {},
   "source": [
    "If we'd like Cleanlab to identify potential label errors in the whole dataset and not just the training set, we can consider fitting the entire dataset. We will only use this model instance to compute the cross-validated predicted probabilities, ``pyx``, and not for model evaluation."
   ]
  },
  {
   "cell_type": "code",
   "execution_count": 6,
   "metadata": {
    "execution": {
     "iopub.execute_input": "2022-03-09T00:28:36.408395Z",
     "iopub.status.busy": "2022-03-09T00:28:36.408249Z",
     "iopub.status.idle": "2022-03-09T00:28:57.961264Z",
     "shell.execute_reply": "2022-03-09T00:28:57.960727Z"
    }
   },
   "outputs": [
    {
     "name": "stdout",
     "output_type": "stream",
     "text": [
      "  epoch    train_loss    valid_acc    valid_loss     dur\n",
      "-------  ------------  -----------  ------------  ------\n",
      "      1        \u001b[36m1.8014\u001b[0m       \u001b[32m0.7895\u001b[0m        \u001b[35m1.1798\u001b[0m  2.1534\n"
     ]
    },
    {
     "name": "stdout",
     "output_type": "stream",
     "text": [
      "      2        \u001b[36m0.9785\u001b[0m       \u001b[32m0.8424\u001b[0m        \u001b[35m0.6979\u001b[0m  2.1488\n"
     ]
    },
    {
     "name": "stdout",
     "output_type": "stream",
     "text": [
      "      3        \u001b[36m0.7206\u001b[0m       \u001b[32m0.8612\u001b[0m        \u001b[35m0.5501\u001b[0m  2.1548\n"
     ]
    },
    {
     "name": "stdout",
     "output_type": "stream",
     "text": [
      "      4        \u001b[36m0.6145\u001b[0m       \u001b[32m0.8759\u001b[0m        \u001b[35m0.4794\u001b[0m  2.1429\n"
     ]
    },
    {
     "name": "stdout",
     "output_type": "stream",
     "text": [
      "      5        \u001b[36m0.5496\u001b[0m       \u001b[32m0.8842\u001b[0m        \u001b[35m0.4349\u001b[0m  2.1490\n"
     ]
    },
    {
     "name": "stdout",
     "output_type": "stream",
     "text": [
      "      6        \u001b[36m0.5093\u001b[0m       \u001b[32m0.8907\u001b[0m        \u001b[35m0.4057\u001b[0m  2.1445\n"
     ]
    },
    {
     "name": "stdout",
     "output_type": "stream",
     "text": [
      "      7        \u001b[36m0.4794\u001b[0m       \u001b[32m0.8962\u001b[0m        \u001b[35m0.3833\u001b[0m  2.1460\n"
     ]
    },
    {
     "name": "stdout",
     "output_type": "stream",
     "text": [
      "      8        \u001b[36m0.4567\u001b[0m       \u001b[32m0.8989\u001b[0m        \u001b[35m0.3658\u001b[0m  2.1471\n"
     ]
    },
    {
     "name": "stdout",
     "output_type": "stream",
     "text": [
      "      9        \u001b[36m0.4338\u001b[0m       \u001b[32m0.9028\u001b[0m        \u001b[35m0.3507\u001b[0m  2.1447\n"
     ]
    },
    {
     "name": "stdout",
     "output_type": "stream",
     "text": [
      "     10        \u001b[36m0.4237\u001b[0m       \u001b[32m0.9059\u001b[0m        \u001b[35m0.3388\u001b[0m  2.1497\n"
     ]
    }
   ],
   "source": [
    "_ = net.fit(X, y)"
   ]
  },
  {
   "cell_type": "markdown",
   "metadata": {},
   "source": [
    "Compute the cross-validated predicted probabilities, ``pyx``, sometimes also known as the out-of-sample predicted probabilities."
   ]
  },
  {
   "cell_type": "code",
   "execution_count": 7,
   "metadata": {
    "execution": {
     "iopub.execute_input": "2022-03-09T00:28:57.964174Z",
     "iopub.status.busy": "2022-03-09T00:28:57.963593Z",
     "iopub.status.idle": "2022-03-09T00:29:33.512773Z",
     "shell.execute_reply": "2022-03-09T00:29:33.512175Z"
    }
   },
   "outputs": [
    {
     "name": "stdout",
     "output_type": "stream",
     "text": [
      "  epoch    train_loss    valid_acc    valid_loss     dur\n",
      "-------  ------------  -----------  ------------  ------\n",
      "      1        \u001b[36m2.0046\u001b[0m       \u001b[32m0.7347\u001b[0m        \u001b[35m1.5984\u001b[0m  1.1315\n"
     ]
    },
    {
     "name": "stdout",
     "output_type": "stream",
     "text": [
      "      2        \u001b[36m1.2809\u001b[0m       \u001b[32m0.7961\u001b[0m        \u001b[35m0.9746\u001b[0m  1.1864\n"
     ]
    },
    {
     "name": "stdout",
     "output_type": "stream",
     "text": [
      "      3        \u001b[36m0.8992\u001b[0m       \u001b[32m0.8278\u001b[0m        \u001b[35m0.7301\u001b[0m  1.1394\n"
     ]
    },
    {
     "name": "stdout",
     "output_type": "stream",
     "text": [
      "      4        \u001b[36m0.7378\u001b[0m       \u001b[32m0.8468\u001b[0m        \u001b[35m0.6172\u001b[0m  1.1365\n"
     ]
    },
    {
     "name": "stdout",
     "output_type": "stream",
     "text": [
      "      5        \u001b[36m0.6455\u001b[0m       \u001b[32m0.8572\u001b[0m        \u001b[35m0.5499\u001b[0m  1.1328\n"
     ]
    },
    {
     "name": "stdout",
     "output_type": "stream",
     "text": [
      "      6        \u001b[36m0.5889\u001b[0m       \u001b[32m0.8670\u001b[0m        \u001b[35m0.5058\u001b[0m  1.1317\n"
     ]
    },
    {
     "name": "stdout",
     "output_type": "stream",
     "text": [
      "      7        \u001b[36m0.5489\u001b[0m       \u001b[32m0.8740\u001b[0m        \u001b[35m0.4743\u001b[0m  1.1319\n"
     ]
    },
    {
     "name": "stdout",
     "output_type": "stream",
     "text": [
      "      8        \u001b[36m0.5153\u001b[0m       \u001b[32m0.8759\u001b[0m        \u001b[35m0.4500\u001b[0m  1.1814\n"
     ]
    },
    {
     "name": "stdout",
     "output_type": "stream",
     "text": [
      "      9        \u001b[36m0.4907\u001b[0m       \u001b[32m0.8787\u001b[0m        \u001b[35m0.4303\u001b[0m  1.1353\n"
     ]
    },
    {
     "name": "stdout",
     "output_type": "stream",
     "text": [
      "     10        \u001b[36m0.4730\u001b[0m       \u001b[32m0.8824\u001b[0m        \u001b[35m0.4146\u001b[0m  1.1336\n"
     ]
    },
    {
     "name": "stdout",
     "output_type": "stream",
     "text": [
      "  epoch    train_loss    valid_acc    valid_loss     dur\n",
      "-------  ------------  -----------  ------------  ------\n",
      "      1        \u001b[36m1.9849\u001b[0m       \u001b[32m0.7384\u001b[0m        \u001b[35m1.5590\u001b[0m  1.1476\n"
     ]
    },
    {
     "name": "stdout",
     "output_type": "stream",
     "text": [
      "      2        \u001b[36m1.2595\u001b[0m       \u001b[32m0.8149\u001b[0m        \u001b[35m0.9363\u001b[0m  1.1348\n"
     ]
    },
    {
     "name": "stdout",
     "output_type": "stream",
     "text": [
      "      3        \u001b[36m0.8931\u001b[0m       \u001b[32m0.8447\u001b[0m        \u001b[35m0.6989\u001b[0m  1.1325\n"
     ]
    },
    {
     "name": "stdout",
     "output_type": "stream",
     "text": [
      "      4        \u001b[36m0.7311\u001b[0m       \u001b[32m0.8609\u001b[0m        \u001b[35m0.5845\u001b[0m  1.1313\n"
     ]
    },
    {
     "name": "stdout",
     "output_type": "stream",
     "text": [
      "      5        \u001b[36m0.6422\u001b[0m       \u001b[32m0.8703\u001b[0m        \u001b[35m0.5197\u001b[0m  1.1340\n"
     ]
    },
    {
     "name": "stdout",
     "output_type": "stream",
     "text": [
      "      6        \u001b[36m0.5845\u001b[0m       \u001b[32m0.8783\u001b[0m        \u001b[35m0.4758\u001b[0m  1.1330\n"
     ]
    },
    {
     "name": "stdout",
     "output_type": "stream",
     "text": [
      "      7        \u001b[36m0.5443\u001b[0m       \u001b[32m0.8833\u001b[0m        \u001b[35m0.4449\u001b[0m  1.1374\n"
     ]
    },
    {
     "name": "stdout",
     "output_type": "stream",
     "text": [
      "      8        \u001b[36m0.5184\u001b[0m       \u001b[32m0.8887\u001b[0m        \u001b[35m0.4217\u001b[0m  1.1308\n"
     ]
    },
    {
     "name": "stdout",
     "output_type": "stream",
     "text": [
      "      9        \u001b[36m0.4905\u001b[0m       \u001b[32m0.8924\u001b[0m        \u001b[35m0.4027\u001b[0m  1.1300\n"
     ]
    },
    {
     "name": "stdout",
     "output_type": "stream",
     "text": [
      "     10        \u001b[36m0.4731\u001b[0m       \u001b[32m0.8944\u001b[0m        \u001b[35m0.3870\u001b[0m  1.1303\n"
     ]
    },
    {
     "name": "stdout",
     "output_type": "stream",
     "text": [
      "  epoch    train_loss    valid_acc    valid_loss     dur\n",
      "-------  ------------  -----------  ------------  ------\n",
      "      1        \u001b[36m2.0013\u001b[0m       \u001b[32m0.7422\u001b[0m        \u001b[35m1.5838\u001b[0m  1.1307\n"
     ]
    },
    {
     "name": "stdout",
     "output_type": "stream",
     "text": [
      "      2        \u001b[36m1.3144\u001b[0m       \u001b[32m0.7982\u001b[0m        \u001b[35m0.9720\u001b[0m  1.1288\n"
     ]
    },
    {
     "name": "stdout",
     "output_type": "stream",
     "text": [
      "      3        \u001b[36m0.9423\u001b[0m       \u001b[32m0.8392\u001b[0m        \u001b[35m0.7220\u001b[0m  1.1290\n"
     ]
    },
    {
     "name": "stdout",
     "output_type": "stream",
     "text": [
      "      4        \u001b[36m0.7770\u001b[0m       \u001b[32m0.8565\u001b[0m        \u001b[35m0.6026\u001b[0m  1.1294\n"
     ]
    },
    {
     "name": "stdout",
     "output_type": "stream",
     "text": [
      "      5        \u001b[36m0.6839\u001b[0m       \u001b[32m0.8695\u001b[0m        \u001b[35m0.5322\u001b[0m  1.1306\n"
     ]
    },
    {
     "name": "stdout",
     "output_type": "stream",
     "text": [
      "      6        \u001b[36m0.6160\u001b[0m       \u001b[32m0.8800\u001b[0m        \u001b[35m0.4831\u001b[0m  1.1325\n"
     ]
    },
    {
     "name": "stdout",
     "output_type": "stream",
     "text": [
      "      7        \u001b[36m0.5796\u001b[0m       \u001b[32m0.8853\u001b[0m        \u001b[35m0.4500\u001b[0m  1.1312\n"
     ]
    },
    {
     "name": "stdout",
     "output_type": "stream",
     "text": [
      "      8        \u001b[36m0.5466\u001b[0m       \u001b[32m0.8909\u001b[0m        \u001b[35m0.4241\u001b[0m  1.1301\n"
     ]
    },
    {
     "name": "stdout",
     "output_type": "stream",
     "text": [
      "      9        \u001b[36m0.5190\u001b[0m       \u001b[32m0.8967\u001b[0m        \u001b[35m0.4031\u001b[0m  1.1322\n"
     ]
    },
    {
     "name": "stdout",
     "output_type": "stream",
     "text": [
      "     10        \u001b[36m0.5021\u001b[0m       \u001b[32m0.8990\u001b[0m        \u001b[35m0.3870\u001b[0m  1.1310\n"
     ]
    }
   ],
   "source": [
    "from sklearn.model_selection import cross_val_predict\n",
    "\n",
    "pyx = cross_val_predict(net, X, y, cv=3, method='predict_proba')"
   ]
  },
  {
   "cell_type": "markdown",
   "metadata": {},
   "source": [
    "## 6. Run Cleanlab to find potential label errors"
   ]
  },
  {
   "cell_type": "markdown",
   "metadata": {},
   "source": [
    "Cleanlab has a ``get_noise_indices`` function to generate a list of potential label errors. Setting ``sorted_index_method=\"prob_given_label\"`` returns the indices of all the most likely label errors, sorted by the most suspicious example first."
   ]
  },
  {
   "cell_type": "code",
   "execution_count": 8,
   "metadata": {
    "execution": {
     "iopub.execute_input": "2022-03-09T00:29:33.515396Z",
     "iopub.status.busy": "2022-03-09T00:29:33.515247Z",
     "iopub.status.idle": "2022-03-09T00:29:33.857282Z",
     "shell.execute_reply": "2022-03-09T00:29:33.856630Z"
    }
   },
   "outputs": [],
   "source": [
    "from cleanlab.pruning import get_noise_indices\n",
    "\n",
    "ordered_label_errors = get_noise_indices(\n",
    "    s=y,\n",
    "    psx=pyx,\n",
    "    sorted_index_method=\"prob_given_label\"\n",
    ")"
   ]
  },
  {
   "cell_type": "markdown",
   "metadata": {},
   "source": [
    "## 7. Review some of the most likely mislabeled examples"
   ]
  },
  {
   "cell_type": "code",
   "execution_count": 9,
   "metadata": {
    "execution": {
     "iopub.execute_input": "2022-03-09T00:29:33.860531Z",
     "iopub.status.busy": "2022-03-09T00:29:33.860141Z",
     "iopub.status.idle": "2022-03-09T00:29:33.864217Z",
     "shell.execute_reply": "2022-03-09T00:29:33.863674Z"
    }
   },
   "outputs": [
    {
     "name": "stdout",
     "output_type": "stream",
     "text": [
      "Cleanlab found 1256 potential label errors. Here are the indices of the top 15 most likely ones: \n",
      " [24798 18598  8729 61790 15942  7010 12679  1352 20820 59915 53216 39457\n",
      " 55739 50239 13031]\n"
     ]
    }
   ],
   "source": [
    "print(f\"Cleanlab found {len(ordered_label_errors)} potential label errors. Here are the indices of the top 15 most likely ones: \\n {ordered_label_errors[:15]}\")"
   ]
  },
  {
   "cell_type": "markdown",
   "metadata": {},
   "source": [
    "We'll define a new ``plot_examples`` function to display any examples in a subplot conveniently."
   ]
  },
  {
   "cell_type": "code",
   "execution_count": 10,
   "metadata": {
    "execution": {
     "iopub.execute_input": "2022-03-09T00:29:33.866580Z",
     "iopub.status.busy": "2022-03-09T00:29:33.866272Z",
     "iopub.status.idle": "2022-03-09T00:29:34.555549Z",
     "shell.execute_reply": "2022-03-09T00:29:34.555012Z"
    }
   },
   "outputs": [],
   "source": [
    "import matplotlib.pyplot as plt\n",
    "\n",
    "def plot_examples(id_iter, nrows=1, ncols=1):\n",
    "    for count, id in enumerate(id_iter):\n",
    "        plt.subplot(nrows, ncols, count+1)\n",
    "        plt.imshow(X[id].reshape(28, 28))\n",
    "        plt.title(f\"id: {id} \\n label: {y[id]}\")\n",
    "        plt.axis('off')\n",
    "\n",
    "    plt.tight_layout(h_pad=2.0)"
   ]
  },
  {
   "cell_type": "markdown",
   "metadata": {},
   "source": [
    "Let's start by having an overview of the top 15 most likely label errors. From here, we can see a few label errors and edge cases. Feel free to change the parameters to display more or fewer examples. "
   ]
  },
  {
   "cell_type": "code",
   "execution_count": 11,
   "metadata": {
    "execution": {
     "iopub.execute_input": "2022-03-09T00:29:34.558258Z",
     "iopub.status.busy": "2022-03-09T00:29:34.558109Z",
     "iopub.status.idle": "2022-03-09T00:29:34.958054Z",
     "shell.execute_reply": "2022-03-09T00:29:34.957547Z"
    }
   },
   "outputs": [
    {
     "data": {
      "image/png": "[encoded data removed]",
      "text/plain": [
       "<Figure size 432x288 with 15 Axes>"
      ]
     },
     "metadata": {
      "needs_background": "light"
     },
     "output_type": "display_data"
    }
   ],
   "source": [
    "plot_examples(ordered_label_errors[range(15)], 3, 5)"
   ]
  },
  {
   "cell_type": "markdown",
   "metadata": {},
   "source": [
    "Let's zoom into specific examples:"
   ]
  },
  {
   "cell_type": "markdown",
   "metadata": {},
   "source": [
    "Given label is **4** but looks more like a **7**"
   ]
  },
  {
   "cell_type": "code",
   "execution_count": 12,
   "metadata": {
    "execution": {
     "iopub.execute_input": "2022-03-09T00:29:34.960461Z",
     "iopub.status.busy": "2022-03-09T00:29:34.960311Z",
     "iopub.status.idle": "2022-03-09T00:29:35.014310Z",
     "shell.execute_reply": "2022-03-09T00:29:35.013762Z"
    }
   },
   "outputs": [
    {
     "data": {
      "image/png": "[encoded data removed]",
      "text/plain": [
       "<Figure size 432x288 with 1 Axes>"
      ]
     },
     "metadata": {
      "needs_background": "light"
     },
     "output_type": "display_data"
    }
   ],
   "source": [
    "plot_examples([59915])"
   ]
  },
  {
   "cell_type": "markdown",
   "metadata": {},
   "source": [
    "Given label is **4** but also looks like **9**"
   ]
  },
  {
   "cell_type": "code",
   "execution_count": 13,
   "metadata": {
    "execution": {
     "iopub.execute_input": "2022-03-09T00:29:35.017135Z",
     "iopub.status.busy": "2022-03-09T00:29:35.016961Z",
     "iopub.status.idle": "2022-03-09T00:29:35.074736Z",
     "shell.execute_reply": "2022-03-09T00:29:35.074169Z"
    }
   },
   "outputs": [
    {
     "data": {
      "image/png": "[encoded data removed]",
      "text/plain": [
       "<Figure size 432x288 with 1 Axes>"
      ]
     },
     "metadata": {
      "needs_background": "light"
     },
     "output_type": "display_data"
    }
   ],
   "source": [
    "plot_examples([24798])"
   ]
  },
  {
   "cell_type": "markdown",
   "metadata": {},
   "source": [
    "Edge case of odd looking **9**s"
   ]
  },
  {
   "cell_type": "code",
   "execution_count": 14,
   "metadata": {
    "execution": {
     "iopub.execute_input": "2022-03-09T00:29:35.077365Z",
     "iopub.status.busy": "2022-03-09T00:29:35.077214Z",
     "iopub.status.idle": "2022-03-09T00:29:35.289326Z",
     "shell.execute_reply": "2022-03-09T00:29:35.288800Z"
    }
   },
   "outputs": [
    {
     "data": {
      "image/png": "[encoded data removed]",
      "text/plain": [
       "<Figure size 432x288 with 3 Axes>"
      ]
     },
     "metadata": {
      "needs_background": "light"
     },
     "output_type": "display_data"
    }
   ],
   "source": [
    "plot_examples([18598, 1352, 61247], 1, 3)"
   ]
  },
  {
   "cell_type": "markdown",
   "metadata": {},
   "source": [
    "Cleanlab has shortlisted the most likely label errors to speed up your data cleaning process. With this list, you can decide whether to fix label errors, augment edge cases or remove obscure examples. \n",
    "\n",
    "These human-in-the-loop processes may be time-consuming, so if you'd like Cleanlab to automatically remove these noisy examples and train a model directly on the partially mislabeled dataset, you're in luck! Cleanlab provides a ``LearningWithNoisyLabels`` wrapper to do precisely this:"
   ]
  },
  {
   "cell_type": "markdown",
   "metadata": {},
   "source": [
    "## 8. Adapt with Cleanlab's wrapper and train a more robust model"
   ]
  },
  {
   "cell_type": "markdown",
   "metadata": {},
   "source": [
    "First, we split the dataset into train and test subsets."
   ]
  },
  {
   "cell_type": "code",
   "execution_count": 15,
   "metadata": {
    "execution": {
     "iopub.execute_input": "2022-03-09T00:29:35.291923Z",
     "iopub.status.busy": "2022-03-09T00:29:35.291771Z",
     "iopub.status.idle": "2022-03-09T00:29:35.616828Z",
     "shell.execute_reply": "2022-03-09T00:29:35.616268Z"
    }
   },
   "outputs": [],
   "source": [
    "from sklearn.model_selection import train_test_split\n",
    "\n",
    "X_train, X_test, y_train, y_test = train_test_split(X, y, test_size=0.2)"
   ]
  },
  {
   "cell_type": "markdown",
   "metadata": {},
   "source": [
    "Re-instantiate a new scikit-learn compatible model with Skorch then wrap it with Cleanlab's ``LearningWithNoisyLabels`` wrapper."
   ]
  },
  {
   "cell_type": "code",
   "execution_count": 16,
   "metadata": {
    "execution": {
     "iopub.execute_input": "2022-03-09T00:29:35.619827Z",
     "iopub.status.busy": "2022-03-09T00:29:35.619495Z",
     "iopub.status.idle": "2022-03-09T00:29:35.623312Z",
     "shell.execute_reply": "2022-03-09T00:29:35.622828Z"
    }
   },
   "outputs": [],
   "source": [
    "from cleanlab.classification import LearningWithNoisyLabels\n",
    "\n",
    "net = NeuralNetClassifier(NeuralNetwork)\n",
    "clf = LearningWithNoisyLabels(clf=net)"
   ]
  },
  {
   "cell_type": "code",
   "execution_count": 17,
   "metadata": {
    "execution": {
     "iopub.execute_input": "2022-03-09T00:29:35.625429Z",
     "iopub.status.busy": "2022-03-09T00:29:35.625286Z",
     "iopub.status.idle": "2022-03-09T00:30:45.262489Z",
     "shell.execute_reply": "2022-03-09T00:30:45.261922Z"
    }
   },
   "outputs": [
    {
     "name": "stdout",
     "output_type": "stream",
     "text": [
      "  epoch    train_loss    valid_acc    valid_loss     dur\n",
      "-------  ------------  -----------  ------------  ------\n",
      "      1        \u001b[36m2.0364\u001b[0m       \u001b[32m0.7312\u001b[0m        \u001b[35m1.6407\u001b[0m  1.0872\n"
     ]
    },
    {
     "name": "stdout",
     "output_type": "stream",
     "text": [
      "      2        \u001b[36m1.3391\u001b[0m       \u001b[32m0.8095\u001b[0m        \u001b[35m0.9955\u001b[0m  1.0867\n"
     ]
    },
    {
     "name": "stdout",
     "output_type": "stream",
     "text": [
      "      3        \u001b[36m0.9500\u001b[0m       \u001b[32m0.8421\u001b[0m        \u001b[35m0.7334\u001b[0m  1.1038\n"
     ]
    },
    {
     "name": "stdout",
     "output_type": "stream",
     "text": [
      "      4        \u001b[36m0.7759\u001b[0m       \u001b[32m0.8592\u001b[0m        \u001b[35m0.6095\u001b[0m  1.0920\n"
     ]
    },
    {
     "name": "stdout",
     "output_type": "stream",
     "text": [
      "      5        \u001b[36m0.6784\u001b[0m       \u001b[32m0.8699\u001b[0m        \u001b[35m0.5360\u001b[0m  1.0880\n"
     ]
    },
    {
     "name": "stdout",
     "output_type": "stream",
     "text": [
      "      6        \u001b[36m0.6190\u001b[0m       \u001b[32m0.8790\u001b[0m        \u001b[35m0.4879\u001b[0m  1.0945\n"
     ]
    },
    {
     "name": "stdout",
     "output_type": "stream",
     "text": [
      "      7        \u001b[36m0.5748\u001b[0m       \u001b[32m0.8845\u001b[0m        \u001b[35m0.4543\u001b[0m  1.0892\n"
     ]
    },
    {
     "name": "stdout",
     "output_type": "stream",
     "text": [
      "      8        \u001b[36m0.5431\u001b[0m       \u001b[32m0.8886\u001b[0m        \u001b[35m0.4278\u001b[0m  1.0881\n"
     ]
    },
    {
     "name": "stdout",
     "output_type": "stream",
     "text": [
      "      9        \u001b[36m0.5182\u001b[0m       \u001b[32m0.8912\u001b[0m        \u001b[35m0.4077\u001b[0m  1.0886\n"
     ]
    },
    {
     "name": "stdout",
     "output_type": "stream",
     "text": [
      "     10        \u001b[36m0.4911\u001b[0m       \u001b[32m0.8939\u001b[0m        \u001b[35m0.3903\u001b[0m  1.0924\n"
     ]
    },
    {
     "name": "stdout",
     "output_type": "stream",
     "text": [
      "  epoch    train_loss    valid_acc    valid_loss     dur\n",
      "-------  ------------  -----------  ------------  ------\n",
      "      1        \u001b[36m1.9958\u001b[0m       \u001b[32m0.7266\u001b[0m        \u001b[35m1.5900\u001b[0m  1.1063\n"
     ]
    },
    {
     "name": "stdout",
     "output_type": "stream",
     "text": [
      "      2        \u001b[36m1.3064\u001b[0m       \u001b[32m0.8071\u001b[0m        \u001b[35m0.9705\u001b[0m  1.0863\n"
     ]
    },
    {
     "name": "stdout",
     "output_type": "stream",
     "text": [
      "      3        \u001b[36m0.9318\u001b[0m       \u001b[32m0.8395\u001b[0m        \u001b[35m0.7189\u001b[0m  1.0865\n"
     ]
    },
    {
     "name": "stdout",
     "output_type": "stream",
     "text": [
      "      4        \u001b[36m0.7642\u001b[0m       \u001b[32m0.8584\u001b[0m        \u001b[35m0.5982\u001b[0m  1.0976\n"
     ]
    },
    {
     "name": "stdout",
     "output_type": "stream",
     "text": [
      "      5        \u001b[36m0.6761\u001b[0m       \u001b[32m0.8669\u001b[0m        \u001b[35m0.5293\u001b[0m  1.0907\n"
     ]
    },
    {
     "name": "stdout",
     "output_type": "stream",
     "text": [
      "      6        \u001b[36m0.6127\u001b[0m       \u001b[32m0.8762\u001b[0m        \u001b[35m0.4836\u001b[0m  1.1014\n"
     ]
    },
    {
     "name": "stdout",
     "output_type": "stream",
     "text": [
      "      7        \u001b[36m0.5718\u001b[0m       \u001b[32m0.8825\u001b[0m        \u001b[35m0.4503\u001b[0m  1.0884\n"
     ]
    },
    {
     "name": "stdout",
     "output_type": "stream",
     "text": [
      "      8        \u001b[36m0.5377\u001b[0m       \u001b[32m0.8875\u001b[0m        \u001b[35m0.4257\u001b[0m  1.0889\n"
     ]
    },
    {
     "name": "stdout",
     "output_type": "stream",
     "text": [
      "      9        \u001b[36m0.5122\u001b[0m       \u001b[32m0.8907\u001b[0m        \u001b[35m0.4056\u001b[0m  1.0903\n"
     ]
    },
    {
     "name": "stdout",
     "output_type": "stream",
     "text": [
      "     10        \u001b[36m0.4870\u001b[0m       \u001b[32m0.8923\u001b[0m        \u001b[35m0.3891\u001b[0m  1.1041\n"
     ]
    },
    {
     "name": "stdout",
     "output_type": "stream",
     "text": [
      "  epoch    train_loss    valid_acc    valid_loss     dur\n",
      "-------  ------------  -----------  ------------  ------\n",
      "      1        \u001b[36m2.0247\u001b[0m       \u001b[32m0.7477\u001b[0m        \u001b[35m1.6362\u001b[0m  1.0872\n"
     ]
    },
    {
     "name": "stdout",
     "output_type": "stream",
     "text": [
      "      2        \u001b[36m1.3395\u001b[0m       \u001b[32m0.8182\u001b[0m        \u001b[35m0.9918\u001b[0m  1.0862\n"
     ]
    },
    {
     "name": "stdout",
     "output_type": "stream",
     "text": [
      "      3        \u001b[36m0.9437\u001b[0m       \u001b[32m0.8448\u001b[0m        \u001b[35m0.7268\u001b[0m  1.0857\n"
     ]
    },
    {
     "name": "stdout",
     "output_type": "stream",
     "text": [
      "      4        \u001b[36m0.7708\u001b[0m       \u001b[32m0.8612\u001b[0m        \u001b[35m0.6026\u001b[0m  1.0934\n"
     ]
    },
    {
     "name": "stdout",
     "output_type": "stream",
     "text": [
      "      5        \u001b[36m0.6781\u001b[0m       \u001b[32m0.8731\u001b[0m        \u001b[35m0.5310\u001b[0m  1.1009\n"
     ]
    },
    {
     "name": "stdout",
     "output_type": "stream",
     "text": [
      "      6        \u001b[36m0.6182\u001b[0m       \u001b[32m0.8810\u001b[0m        \u001b[35m0.4833\u001b[0m  1.0878\n"
     ]
    },
    {
     "name": "stdout",
     "output_type": "stream",
     "text": [
      "      7        \u001b[36m0.5711\u001b[0m       \u001b[32m0.8864\u001b[0m        \u001b[35m0.4496\u001b[0m  1.0855\n"
     ]
    },
    {
     "name": "stdout",
     "output_type": "stream",
     "text": [
      "      8        \u001b[36m0.5399\u001b[0m       \u001b[32m0.8908\u001b[0m        \u001b[35m0.4243\u001b[0m  1.0897\n"
     ]
    },
    {
     "name": "stdout",
     "output_type": "stream",
     "text": [
      "      9        \u001b[36m0.5108\u001b[0m       \u001b[32m0.8932\u001b[0m        \u001b[35m0.4039\u001b[0m  1.0885\n"
     ]
    },
    {
     "name": "stdout",
     "output_type": "stream",
     "text": [
      "     10        \u001b[36m0.4895\u001b[0m       \u001b[32m0.8960\u001b[0m        \u001b[35m0.3881\u001b[0m  1.0866\n"
     ]
    },
    {
     "name": "stdout",
     "output_type": "stream",
     "text": [
      "  epoch    train_loss    valid_acc    valid_loss     dur\n",
      "-------  ------------  -----------  ------------  ------\n",
      "      1        \u001b[36m2.0487\u001b[0m       \u001b[32m0.7403\u001b[0m        \u001b[35m1.6681\u001b[0m  1.0885\n"
     ]
    },
    {
     "name": "stdout",
     "output_type": "stream",
     "text": [
      "      2        \u001b[36m1.3630\u001b[0m       \u001b[32m0.8161\u001b[0m        \u001b[35m1.0083\u001b[0m  1.1041\n"
     ]
    },
    {
     "name": "stdout",
     "output_type": "stream",
     "text": [
      "      3        \u001b[36m0.9561\u001b[0m       \u001b[32m0.8436\u001b[0m        \u001b[35m0.7349\u001b[0m  1.0864\n"
     ]
    },
    {
     "name": "stdout",
     "output_type": "stream",
     "text": [
      "      4        \u001b[36m0.7788\u001b[0m       \u001b[32m0.8600\u001b[0m        \u001b[35m0.6065\u001b[0m  1.0956\n"
     ]
    },
    {
     "name": "stdout",
     "output_type": "stream",
     "text": [
      "      5        \u001b[36m0.6778\u001b[0m       \u001b[32m0.8700\u001b[0m        \u001b[35m0.5337\u001b[0m  1.0902\n"
     ]
    },
    {
     "name": "stdout",
     "output_type": "stream",
     "text": [
      "      6        \u001b[36m0.6169\u001b[0m       \u001b[32m0.8778\u001b[0m        \u001b[35m0.4863\u001b[0m  1.0904\n"
     ]
    },
    {
     "name": "stdout",
     "output_type": "stream",
     "text": [
      "      7        \u001b[36m0.5725\u001b[0m       \u001b[32m0.8836\u001b[0m        \u001b[35m0.4522\u001b[0m  1.0917\n"
     ]
    },
    {
     "name": "stdout",
     "output_type": "stream",
     "text": [
      "      8        \u001b[36m0.5393\u001b[0m       \u001b[32m0.8865\u001b[0m        \u001b[35m0.4275\u001b[0m  1.0890\n"
     ]
    },
    {
     "name": "stdout",
     "output_type": "stream",
     "text": [
      "      9        \u001b[36m0.5119\u001b[0m       \u001b[32m0.8914\u001b[0m        \u001b[35m0.4070\u001b[0m  1.0884\n"
     ]
    },
    {
     "name": "stdout",
     "output_type": "stream",
     "text": [
      "     10        \u001b[36m0.4882\u001b[0m       \u001b[32m0.8927\u001b[0m        \u001b[35m0.3905\u001b[0m  1.0870\n"
     ]
    },
    {
     "name": "stdout",
     "output_type": "stream",
     "text": [
      "  epoch    train_loss    valid_acc    valid_loss     dur\n",
      "-------  ------------  -----------  ------------  ------\n",
      "      1        \u001b[36m2.0071\u001b[0m       \u001b[32m0.7518\u001b[0m        \u001b[35m1.6094\u001b[0m  1.0907\n"
     ]
    },
    {
     "name": "stdout",
     "output_type": "stream",
     "text": [
      "      2        \u001b[36m1.3108\u001b[0m       \u001b[32m0.8227\u001b[0m        \u001b[35m0.9627\u001b[0m  1.0977\n"
     ]
    },
    {
     "name": "stdout",
     "output_type": "stream",
     "text": [
      "      3        \u001b[36m0.9235\u001b[0m       \u001b[32m0.8492\u001b[0m        \u001b[35m0.7071\u001b[0m  1.0878\n"
     ]
    },
    {
     "name": "stdout",
     "output_type": "stream",
     "text": [
      "      4        \u001b[36m0.7545\u001b[0m       \u001b[32m0.8628\u001b[0m        \u001b[35m0.5883\u001b[0m  1.0916\n"
     ]
    },
    {
     "name": "stdout",
     "output_type": "stream",
     "text": [
      "      5        \u001b[36m0.6583\u001b[0m       \u001b[32m0.8724\u001b[0m        \u001b[35m0.5202\u001b[0m  1.0897\n"
     ]
    },
    {
     "name": "stdout",
     "output_type": "stream",
     "text": [
      "      6        \u001b[36m0.6073\u001b[0m       \u001b[32m0.8796\u001b[0m        \u001b[35m0.4761\u001b[0m  1.0911\n"
     ]
    },
    {
     "name": "stdout",
     "output_type": "stream",
     "text": [
      "      7        \u001b[36m0.5648\u001b[0m       \u001b[32m0.8844\u001b[0m        \u001b[35m0.4440\u001b[0m  1.0936\n"
     ]
    },
    {
     "name": "stdout",
     "output_type": "stream",
     "text": [
      "      8        \u001b[36m0.5296\u001b[0m       \u001b[32m0.8896\u001b[0m        \u001b[35m0.4195\u001b[0m  1.0904\n"
     ]
    },
    {
     "name": "stdout",
     "output_type": "stream",
     "text": [
      "      9        \u001b[36m0.5073\u001b[0m       \u001b[32m0.8935\u001b[0m        \u001b[35m0.4006\u001b[0m  1.0918\n"
     ]
    },
    {
     "name": "stdout",
     "output_type": "stream",
     "text": [
      "     10        \u001b[36m0.4878\u001b[0m       \u001b[32m0.8964\u001b[0m        \u001b[35m0.3850\u001b[0m  1.0914\n"
     ]
    },
    {
     "name": "stdout",
     "output_type": "stream",
     "text": [
      "  epoch    train_loss    valid_acc    valid_loss     dur\n",
      "-------  ------------  -----------  ------------  ------\n",
      "      1        \u001b[36m1.9056\u001b[0m       \u001b[32m0.7808\u001b[0m        \u001b[35m1.3774\u001b[0m  1.3435\n"
     ]
    },
    {
     "name": "stdout",
     "output_type": "stream",
     "text": [
      "      2        \u001b[36m1.1183\u001b[0m       \u001b[32m0.8459\u001b[0m        \u001b[35m0.7889\u001b[0m  1.3608\n"
     ]
    },
    {
     "name": "stdout",
     "output_type": "stream",
     "text": [
      "      3        \u001b[36m0.7899\u001b[0m       \u001b[32m0.8723\u001b[0m        \u001b[35m0.5802\u001b[0m  1.3412\n"
     ]
    },
    {
     "name": "stdout",
     "output_type": "stream",
     "text": [
      "      4        \u001b[36m0.6435\u001b[0m       \u001b[32m0.8852\u001b[0m        \u001b[35m0.4799\u001b[0m  1.3440\n"
     ]
    },
    {
     "name": "stdout",
     "output_type": "stream",
     "text": [
      "      5        \u001b[36m0.5633\u001b[0m       \u001b[32m0.8946\u001b[0m        \u001b[35m0.4200\u001b[0m  1.3438\n"
     ]
    },
    {
     "name": "stdout",
     "output_type": "stream",
     "text": [
      "      6        \u001b[36m0.5076\u001b[0m       \u001b[32m0.9006\u001b[0m        \u001b[35m0.3789\u001b[0m  1.3453\n"
     ]
    },
    {
     "name": "stdout",
     "output_type": "stream",
     "text": [
      "      7        \u001b[36m0.4702\u001b[0m       \u001b[32m0.9053\u001b[0m        \u001b[35m0.3509\u001b[0m  1.3423\n"
     ]
    },
    {
     "name": "stdout",
     "output_type": "stream",
     "text": [
      "      8        \u001b[36m0.4450\u001b[0m       \u001b[32m0.9097\u001b[0m        \u001b[35m0.3297\u001b[0m  1.3431\n"
     ]
    },
    {
     "name": "stdout",
     "output_type": "stream",
     "text": [
      "      9        \u001b[36m0.4203\u001b[0m       \u001b[32m0.9119\u001b[0m        \u001b[35m0.3126\u001b[0m  1.3428\n"
     ]
    },
    {
     "name": "stdout",
     "output_type": "stream",
     "text": [
      "     10        \u001b[36m0.4035\u001b[0m       \u001b[32m0.9143\u001b[0m        \u001b[35m0.2985\u001b[0m  1.3441\n"
     ]
    }
   ],
   "source": [
    "_ = clf.fit(X_train, y_train.to_numpy())"
   ]
  },
  {
   "cell_type": "markdown",
   "metadata": {},
   "source": [
    "## 9. Evaluate the robust model's performance"
   ]
  },
  {
   "cell_type": "code",
   "execution_count": 18,
   "metadata": {
    "execution": {
     "iopub.execute_input": "2022-03-09T00:30:45.264946Z",
     "iopub.status.busy": "2022-03-09T00:30:45.264794Z",
     "iopub.status.idle": "2022-03-09T00:30:45.501687Z",
     "shell.execute_reply": "2022-03-09T00:30:45.501159Z"
    }
   },
   "outputs": [
    {
     "data": {
      "text/plain": [
       "0.8995"
      ]
     },
     "execution_count": 18,
     "metadata": {},
     "output_type": "execute_result"
    }
   ],
   "source": [
    "from sklearn.metrics import accuracy_score\n",
    "\n",
    "y_pred = clf.predict(X_test)\n",
    "accuracy_score(y_test, y_pred)"
   ]
  },
  {
   "cell_type": "markdown",
   "metadata": {},
   "source": [
    "## What's next?"
   ]
  },
  {
   "cell_type": "markdown",
   "metadata": {},
   "source": [
    "Congratulations on completing this tutorial! Check out our following tutorial on using Cleanlab for text classification, where we found ``hundreds`` of potential label errors in one of the most well-known text datasets, the IMBDb movie review dataset!"
   ]
  }
 ],
 "metadata": {
  "interpreter": {
   "hash": "ced20e3e49bb4fa4ce8ad38f8f2535b7fc4c39b2b89554502b5dbdad1ad67eda"
  },
  "kernelspec": {
   "display_name": "Python 3.10.0 64-bit",
   "language": "python",
   "name": "python3"
  },
  "language_info": {
   "codemirror_mode": {
    "name": "ipython",
    "version": 3
   },
   "file_extension": ".py",
   "mimetype": "text/x-python",
   "name": "python",
   "nbconvert_exporter": "python",
   "pygments_lexer": "ipython3",
   "version": "3.8.12"
  }
 },
 "nbformat": 4,
 "nbformat_minor": 2
}
