{
 "cells": [
  {
   "cell_type": "markdown",
   "metadata": {},
   "source": [
    "# Image Classification with Cleanlab, PyTorch & Skorch"
   ]
  },
  {
   "cell_type": "markdown",
   "metadata": {},
   "source": [
    "This tutorial will use Cleanlab to find potential label errors in the MNIST handwritten digit image dataset. This dataset contains 60,000 images of handwritten digits from 0 to 9. We'll find *more than a thousand* highly suspicious examples with label errors and edge cases by the end of this tutorial. \n",
    "\n",
    "**Overview of what we'll do in this tutorial:**\n",
    "\n",
    "- Build a simple PyTorch neural net and wrap it with Skorch to make it scikit-learn compatible.\n",
    "\n",
    "- Compute the cross-validated predicted probabilities, ``pyx``, sometimes known as the out-of-sample predicted probabilities.\n",
    "\n",
    "- Generate a list of potential label errors with Cleanlab's ``get_noise_indices``.\n",
    "\n",
    "- Build and train a more robust model than the vanilla model after adapting it with Cleanlab's ``LearningWithNoisyLabels``. \n",
    "\n",
    "**Data:** https://www.openml.org/d/554"
   ]
  },
  {
   "cell_type": "markdown",
   "metadata": {},
   "source": [
    "## 1. Install the required dependencies"
   ]
  },
  {
   "cell_type": "markdown",
   "metadata": {},
   "source": [
    "``%%capture`` is a magic function to hides the cell's output."
   ]
  },
  {
   "cell_type": "code",
   "execution_count": 1,
   "metadata": {
    "execution": {
     "iopub.execute_input": "2022-03-09T02:30:05.567512Z",
     "iopub.status.busy": "2022-03-09T02:30:05.567027Z",
     "iopub.status.idle": "2022-03-09T02:30:40.453990Z",
     "shell.execute_reply": "2022-03-09T02:30:40.452969Z"
    }
   },
   "outputs": [],
   "source": [
    "%%capture\n",
    "\n",
    "%pip install cleanlab pandas matplotlib torch torchvision skorch"
   ]
  },
  {
   "cell_type": "markdown",
   "metadata": {},
   "source": [
    "## 2. Fetch and scale the MNIST dataset"
   ]
  },
  {
   "cell_type": "code",
   "execution_count": 2,
   "metadata": {
    "execution": {
     "iopub.execute_input": "2022-03-09T02:30:40.459335Z",
     "iopub.status.busy": "2022-03-09T02:30:40.459087Z",
     "iopub.status.idle": "2022-03-09T02:33:00.383824Z",
     "shell.execute_reply": "2022-03-09T02:33:00.382973Z"
    }
   },
   "outputs": [],
   "source": [
    "from sklearn.datasets import fetch_openml\n",
    "\n",
    "# Fetch the MNIST dataset\n",
    "mnist = fetch_openml('mnist_784')\n",
    "\n",
    "# Assign the data features and labels to variable X and y respectively \n",
    "X = mnist.data.astype('float32')\n",
    "y = mnist.target.astype('int64')\n"
   ]
  },
  {
   "cell_type": "markdown",
   "metadata": {},
   "source": [
    "<div class=\"alert alert-info\">\n",
    "\n",
    "Bringing Your Own Data (BYOD)?\n",
    "\n",
    "Assign your data's features to variable ``X`` and its labels to variable ``y`` instead.\n",
    "\n",
    "</div>"
   ]
  },
  {
   "cell_type": "code",
   "execution_count": 3,
   "metadata": {
    "execution": {
     "iopub.execute_input": "2022-03-09T02:33:00.388142Z",
     "iopub.status.busy": "2022-03-09T02:33:00.387794Z",
     "iopub.status.idle": "2022-03-09T02:33:00.612615Z",
     "shell.execute_reply": "2022-03-09T02:33:00.611777Z"
    }
   },
   "outputs": [],
   "source": [
    "\n",
    "# Scale the features which range from 0 to 255 (256 levels on the grayscale) \n",
    "X /= 255.0\n",
    "\n",
    "# Then convert it to a numpy array\n",
    "X = X.to_numpy()"
   ]
  },
  {
   "cell_type": "markdown",
   "metadata": {},
   "source": [
    "## 3. Define a classification model"
   ]
  },
  {
   "cell_type": "markdown",
   "metadata": {},
   "source": [
    "Here, we define a simple neural network with PyTorch."
   ]
  },
  {
   "cell_type": "code",
   "execution_count": 4,
   "metadata": {
    "execution": {
     "iopub.execute_input": "2022-03-09T02:33:00.616661Z",
     "iopub.status.busy": "2022-03-09T02:33:00.616253Z",
     "iopub.status.idle": "2022-03-09T02:33:01.418921Z",
     "shell.execute_reply": "2022-03-09T02:33:01.417855Z"
    }
   },
   "outputs": [],
   "source": [
    "from torch import nn\n",
    "\n",
    "class NeuralNetwork(nn.Module):\n",
    "    def __init__(self):\n",
    "        super(NeuralNetwork, self).__init__()\n",
    "        self.dropout = nn.Dropout(0.5)\n",
    "        self.hidden = nn.Linear(28*28, 128)\n",
    "        self.output = nn.Linear(128, 10)\n",
    "\n",
    "    def forward(self, X):\n",
    "        X = nn.functional.relu(self.hidden(X))\n",
    "        X = self.dropout(X)\n",
    "        X = nn.functional.softmax(self.output(X), dim=-1)\n",
    "        return X"
   ]
  },
  {
   "cell_type": "markdown",
   "metadata": {},
   "source": [
    "## 4. Wrap with Skorch for scikit-learn compatibility"
   ]
  },
  {
   "cell_type": "markdown",
   "metadata": {},
   "source": [
    "As some of Cleanlab's feature requires scikit-learn compatibility, we will need to adapt the above PyTorch neural net accordingly. Skorch is a convenient package that helps with this, read more about it here: https://skorch.readthedocs.io"
   ]
  },
  {
   "cell_type": "code",
   "execution_count": 5,
   "metadata": {
    "execution": {
     "iopub.execute_input": "2022-03-09T02:33:01.422978Z",
     "iopub.status.busy": "2022-03-09T02:33:01.422716Z",
     "iopub.status.idle": "2022-03-09T02:33:01.566744Z",
     "shell.execute_reply": "2022-03-09T02:33:01.565865Z"
    }
   },
   "outputs": [],
   "source": [
    "from skorch import NeuralNetClassifier\n",
    "\n",
    "# Wrap the PyTorch neural net around Skorch's NeuralNetClassifier wrapper\n",
    "net = NeuralNetClassifier(NeuralNetwork)"
   ]
  },
  {
   "cell_type": "markdown",
   "metadata": {},
   "source": [
    "## 5. Compute the cross-validated predicted probabilities"
   ]
  },
  {
   "cell_type": "markdown",
   "metadata": {},
   "source": [
    "If we'd like Cleanlab to identify potential label errors in the whole dataset and not just the training set, we can consider fitting the entire dataset. We will only use this model instance to compute the cross-validated predicted probabilities, ``pyx``, and not for model evaluation."
   ]
  },
  {
   "cell_type": "code",
   "execution_count": 6,
   "metadata": {
    "execution": {
     "iopub.execute_input": "2022-03-09T02:33:01.570532Z",
     "iopub.status.busy": "2022-03-09T02:33:01.570324Z",
     "iopub.status.idle": "2022-03-09T02:33:24.726832Z",
     "shell.execute_reply": "2022-03-09T02:33:24.725999Z"
    }
   },
   "outputs": [
    {
     "name": "stdout",
     "output_type": "stream",
     "text": [
      "  epoch    train_loss    valid_acc    valid_loss     dur\n",
      "-------  ------------  -----------  ------------  ------\n",
      "      1        \u001b[36m1.8201\u001b[0m       \u001b[32m0.7819\u001b[0m        \u001b[35m1.2083\u001b[0m  2.2931\n"
     ]
    },
    {
     "name": "stdout",
     "output_type": "stream",
     "text": [
      "      2        \u001b[36m0.9982\u001b[0m       \u001b[32m0.8402\u001b[0m        \u001b[35m0.7101\u001b[0m  2.3092\n"
     ]
    },
    {
     "name": "stdout",
     "output_type": "stream",
     "text": [
      "      3        \u001b[36m0.7296\u001b[0m       \u001b[32m0.8610\u001b[0m        \u001b[35m0.5562\u001b[0m  2.3485\n"
     ]
    },
    {
     "name": "stdout",
     "output_type": "stream",
     "text": [
      "      4        \u001b[36m0.6206\u001b[0m       \u001b[32m0.8765\u001b[0m        \u001b[35m0.4823\u001b[0m  2.2950\n"
     ]
    },
    {
     "name": "stdout",
     "output_type": "stream",
     "text": [
      "      5        \u001b[36m0.5532\u001b[0m       \u001b[32m0.8853\u001b[0m        \u001b[35m0.4362\u001b[0m  2.2972\n"
     ]
    },
    {
     "name": "stdout",
     "output_type": "stream",
     "text": [
      "      6        \u001b[36m0.5137\u001b[0m       \u001b[32m0.8917\u001b[0m        \u001b[35m0.4058\u001b[0m  2.2945\n"
     ]
    },
    {
     "name": "stdout",
     "output_type": "stream",
     "text": [
      "      7        \u001b[36m0.4778\u001b[0m       \u001b[32m0.8961\u001b[0m        \u001b[35m0.3823\u001b[0m  2.2694\n"
     ]
    },
    {
     "name": "stdout",
     "output_type": "stream",
     "text": [
      "      8        \u001b[36m0.4562\u001b[0m       \u001b[32m0.8991\u001b[0m        \u001b[35m0.3643\u001b[0m  2.2483\n"
     ]
    },
    {
     "name": "stdout",
     "output_type": "stream",
     "text": [
      "      9        \u001b[36m0.4350\u001b[0m       \u001b[32m0.9019\u001b[0m        \u001b[35m0.3495\u001b[0m  2.3308\n"
     ]
    },
    {
     "name": "stdout",
     "output_type": "stream",
     "text": [
      "     10        \u001b[36m0.4208\u001b[0m       \u001b[32m0.9048\u001b[0m        \u001b[35m0.3378\u001b[0m  2.3678\n"
     ]
    }
   ],
   "source": [
    "_ = net.fit(X, y)"
   ]
  },
  {
   "cell_type": "markdown",
   "metadata": {},
   "source": [
    "Compute the cross-validated predicted probabilities, ``pyx``, sometimes also known as the out-of-sample predicted probabilities."
   ]
  },
  {
   "cell_type": "code",
   "execution_count": 7,
   "metadata": {
    "execution": {
     "iopub.execute_input": "2022-03-09T02:33:24.730570Z",
     "iopub.status.busy": "2022-03-09T02:33:24.730229Z",
     "iopub.status.idle": "2022-03-09T02:33:56.704974Z",
     "shell.execute_reply": "2022-03-09T02:33:56.704175Z"
    }
   },
   "outputs": [
    {
     "name": "stdout",
     "output_type": "stream",
     "text": [
      "  epoch    train_loss    valid_acc    valid_loss     dur\n",
      "-------  ------------  -----------  ------------  ------\n",
      "      1        \u001b[36m1.9611\u001b[0m       \u001b[32m0.7364\u001b[0m        \u001b[35m1.5342\u001b[0m  0.9824\n"
     ]
    },
    {
     "name": "stdout",
     "output_type": "stream",
     "text": [
      "      2        \u001b[36m1.2363\u001b[0m       \u001b[32m0.8049\u001b[0m        \u001b[35m0.9445\u001b[0m  0.9875\n"
     ]
    },
    {
     "name": "stdout",
     "output_type": "stream",
     "text": [
      "      3        \u001b[36m0.8832\u001b[0m       \u001b[32m0.8338\u001b[0m        \u001b[35m0.7192\u001b[0m  1.0399\n"
     ]
    },
    {
     "name": "stdout",
     "output_type": "stream",
     "text": [
      "      4        \u001b[36m0.7296\u001b[0m       \u001b[32m0.8530\u001b[0m        \u001b[35m0.6107\u001b[0m  0.9910\n"
     ]
    },
    {
     "name": "stdout",
     "output_type": "stream",
     "text": [
      "      5        \u001b[36m0.6452\u001b[0m       \u001b[32m0.8613\u001b[0m        \u001b[35m0.5482\u001b[0m  0.9936\n"
     ]
    },
    {
     "name": "stdout",
     "output_type": "stream",
     "text": [
      "      6        \u001b[36m0.5860\u001b[0m       \u001b[32m0.8663\u001b[0m        \u001b[35m0.5049\u001b[0m  0.9958\n"
     ]
    },
    {
     "name": "stdout",
     "output_type": "stream",
     "text": [
      "      7        \u001b[36m0.5466\u001b[0m       \u001b[32m0.8725\u001b[0m        \u001b[35m0.4753\u001b[0m  0.9891\n"
     ]
    },
    {
     "name": "stdout",
     "output_type": "stream",
     "text": [
      "      8        \u001b[36m0.5202\u001b[0m       \u001b[32m0.8771\u001b[0m        \u001b[35m0.4514\u001b[0m  1.0003\n"
     ]
    },
    {
     "name": "stdout",
     "output_type": "stream",
     "text": [
      "      9        \u001b[36m0.4920\u001b[0m       \u001b[32m0.8803\u001b[0m        \u001b[35m0.4330\u001b[0m  0.9917\n"
     ]
    },
    {
     "name": "stdout",
     "output_type": "stream",
     "text": [
      "     10        \u001b[36m0.4742\u001b[0m       \u001b[32m0.8820\u001b[0m        \u001b[35m0.4173\u001b[0m  1.0070\n"
     ]
    },
    {
     "name": "stdout",
     "output_type": "stream",
     "text": [
      "  epoch    train_loss    valid_acc    valid_loss     dur\n",
      "-------  ------------  -----------  ------------  ------\n",
      "      1        \u001b[36m2.0296\u001b[0m       \u001b[32m0.7403\u001b[0m        \u001b[35m1.6353\u001b[0m  1.0009\n"
     ]
    },
    {
     "name": "stdout",
     "output_type": "stream",
     "text": [
      "      2        \u001b[36m1.3220\u001b[0m       \u001b[32m0.8074\u001b[0m        \u001b[35m0.9791\u001b[0m  0.9999\n"
     ]
    },
    {
     "name": "stdout",
     "output_type": "stream",
     "text": [
      "      3        \u001b[36m0.9271\u001b[0m       \u001b[32m0.8381\u001b[0m        \u001b[35m0.7227\u001b[0m  0.9884\n"
     ]
    },
    {
     "name": "stdout",
     "output_type": "stream",
     "text": [
      "      4        \u001b[36m0.7551\u001b[0m       \u001b[32m0.8555\u001b[0m        \u001b[35m0.6017\u001b[0m  1.0000\n"
     ]
    },
    {
     "name": "stdout",
     "output_type": "stream",
     "text": [
      "      5        \u001b[36m0.6608\u001b[0m       \u001b[32m0.8688\u001b[0m        \u001b[35m0.5310\u001b[0m  1.0101\n"
     ]
    },
    {
     "name": "stdout",
     "output_type": "stream",
     "text": [
      "      6        \u001b[36m0.6011\u001b[0m       \u001b[32m0.8773\u001b[0m        \u001b[35m0.4849\u001b[0m  1.0011\n"
     ]
    },
    {
     "name": "stdout",
     "output_type": "stream",
     "text": [
      "      7        \u001b[36m0.5567\u001b[0m       \u001b[32m0.8827\u001b[0m        \u001b[35m0.4518\u001b[0m  1.0157\n"
     ]
    },
    {
     "name": "stdout",
     "output_type": "stream",
     "text": [
      "      8        \u001b[36m0.5227\u001b[0m       \u001b[32m0.8878\u001b[0m        \u001b[35m0.4268\u001b[0m  1.0020\n"
     ]
    },
    {
     "name": "stdout",
     "output_type": "stream",
     "text": [
      "      9        \u001b[36m0.5013\u001b[0m       \u001b[32m0.8909\u001b[0m        \u001b[35m0.4064\u001b[0m  1.0050\n"
     ]
    },
    {
     "name": "stdout",
     "output_type": "stream",
     "text": [
      "     10        \u001b[36m0.4771\u001b[0m       \u001b[32m0.8954\u001b[0m        \u001b[35m0.3903\u001b[0m  1.0149\n"
     ]
    },
    {
     "name": "stdout",
     "output_type": "stream",
     "text": [
      "  epoch    train_loss    valid_acc    valid_loss     dur\n",
      "-------  ------------  -----------  ------------  ------\n",
      "      1        \u001b[36m1.9962\u001b[0m       \u001b[32m0.7338\u001b[0m        \u001b[35m1.5729\u001b[0m  1.0350\n"
     ]
    },
    {
     "name": "stdout",
     "output_type": "stream",
     "text": [
      "      2        \u001b[36m1.2959\u001b[0m       \u001b[32m0.8040\u001b[0m        \u001b[35m0.9547\u001b[0m  1.0026\n"
     ]
    },
    {
     "name": "stdout",
     "output_type": "stream",
     "text": [
      "      3        \u001b[36m0.9285\u001b[0m       \u001b[32m0.8422\u001b[0m        \u001b[35m0.7118\u001b[0m  0.9983\n"
     ]
    },
    {
     "name": "stdout",
     "output_type": "stream",
     "text": [
      "      4        \u001b[36m0.7667\u001b[0m       \u001b[32m0.8586\u001b[0m        \u001b[35m0.5940\u001b[0m  0.9952\n"
     ]
    },
    {
     "name": "stdout",
     "output_type": "stream",
     "text": [
      "      5        \u001b[36m0.6723\u001b[0m       \u001b[32m0.8724\u001b[0m        \u001b[35m0.5250\u001b[0m  1.0025\n"
     ]
    },
    {
     "name": "stdout",
     "output_type": "stream",
     "text": [
      "      6        \u001b[36m0.6106\u001b[0m       \u001b[32m0.8809\u001b[0m        \u001b[35m0.4790\u001b[0m  0.9985\n"
     ]
    },
    {
     "name": "stdout",
     "output_type": "stream",
     "text": [
      "      7        \u001b[36m0.5701\u001b[0m       \u001b[32m0.8879\u001b[0m        \u001b[35m0.4446\u001b[0m  1.0033\n"
     ]
    },
    {
     "name": "stdout",
     "output_type": "stream",
     "text": [
      "      8        \u001b[36m0.5370\u001b[0m       \u001b[32m0.8916\u001b[0m        \u001b[35m0.4203\u001b[0m  1.0036\n"
     ]
    },
    {
     "name": "stdout",
     "output_type": "stream",
     "text": [
      "      9        \u001b[36m0.5126\u001b[0m       \u001b[32m0.8958\u001b[0m        \u001b[35m0.4006\u001b[0m  1.0097\n"
     ]
    },
    {
     "name": "stdout",
     "output_type": "stream",
     "text": [
      "     10        \u001b[36m0.4902\u001b[0m       \u001b[32m0.8982\u001b[0m        \u001b[35m0.3841\u001b[0m  0.9986\n"
     ]
    }
   ],
   "source": [
    "from sklearn.model_selection import cross_val_predict\n",
    "\n",
    "pyx = cross_val_predict(net, X, y, cv=3, method='predict_proba')"
   ]
  },
  {
   "cell_type": "markdown",
   "metadata": {},
   "source": [
    "## 6. Run Cleanlab to find potential label errors"
   ]
  },
  {
   "cell_type": "markdown",
   "metadata": {},
   "source": [
    "Cleanlab has a ``get_noise_indices`` function to generate a list of potential label errors. Setting ``sorted_index_method=\"prob_given_label\"`` returns the indices of all the most likely label errors, sorted by the most suspicious example first."
   ]
  },
  {
   "cell_type": "code",
   "execution_count": 8,
   "metadata": {
    "execution": {
     "iopub.execute_input": "2022-03-09T02:33:56.709681Z",
     "iopub.status.busy": "2022-03-09T02:33:56.709481Z",
     "iopub.status.idle": "2022-03-09T02:33:57.211114Z",
     "shell.execute_reply": "2022-03-09T02:33:57.210150Z"
    }
   },
   "outputs": [],
   "source": [
    "from cleanlab.pruning import get_noise_indices\n",
    "\n",
    "ordered_label_errors = get_noise_indices(\n",
    "    s=y,\n",
    "    psx=pyx,\n",
    "    sorted_index_method=\"prob_given_label\"\n",
    ")"
   ]
  },
  {
   "cell_type": "markdown",
   "metadata": {},
   "source": [
    "## 7. Review some of the most likely mislabeled examples"
   ]
  },
  {
   "cell_type": "code",
   "execution_count": 9,
   "metadata": {
    "execution": {
     "iopub.execute_input": "2022-03-09T02:33:57.215240Z",
     "iopub.status.busy": "2022-03-09T02:33:57.214780Z",
     "iopub.status.idle": "2022-03-09T02:33:57.222344Z",
     "shell.execute_reply": "2022-03-09T02:33:57.221430Z"
    }
   },
   "outputs": [
    {
     "name": "stdout",
     "output_type": "stream",
     "text": [
      "Cleanlab found 1214 potential label errors. Here are the indices of the top 15 most likely ones: \n",
      " [24798  8729 18598 61790  7010 15942 59915 20820  1352 66091 55739 12679\n",
      " 31134 53216 20735]\n"
     ]
    }
   ],
   "source": [
    "print(f\"Cleanlab found {len(ordered_label_errors)} potential label errors. Here are the indices of the top 15 most likely ones: \\n {ordered_label_errors[:15]}\")"
   ]
  },
  {
   "cell_type": "markdown",
   "metadata": {},
   "source": [
    "We'll define a new ``plot_examples`` function to display any examples in a subplot conveniently."
   ]
  },
  {
   "cell_type": "code",
   "execution_count": 10,
   "metadata": {
    "execution": {
     "iopub.execute_input": "2022-03-09T02:33:57.225790Z",
     "iopub.status.busy": "2022-03-09T02:33:57.225556Z",
     "iopub.status.idle": "2022-03-09T02:33:58.159733Z",
     "shell.execute_reply": "2022-03-09T02:33:58.158593Z"
    }
   },
   "outputs": [],
   "source": [
    "import matplotlib.pyplot as plt\n",
    "\n",
    "def plot_examples(id_iter, nrows=1, ncols=1):\n",
    "    for count, id in enumerate(id_iter):\n",
    "        plt.subplot(nrows, ncols, count+1)\n",
    "        plt.imshow(X[id].reshape(28, 28))\n",
    "        plt.title(f\"id: {id} \\n label: {y[id]}\")\n",
    "        plt.axis('off')\n",
    "\n",
    "    plt.tight_layout(h_pad=2.0)"
   ]
  },
  {
   "cell_type": "markdown",
   "metadata": {},
   "source": [
    "Let's start by having an overview of the top 15 most likely label errors. From here, we can see a few label errors and edge cases. Feel free to change the parameters to display more or fewer examples. "
   ]
  },
  {
   "cell_type": "code",
   "execution_count": 11,
   "metadata": {
    "execution": {
     "iopub.execute_input": "2022-03-09T02:33:58.163216Z",
     "iopub.status.busy": "2022-03-09T02:33:58.162999Z",
     "iopub.status.idle": "2022-03-09T02:33:58.803344Z",
     "shell.execute_reply": "2022-03-09T02:33:58.802698Z"
    }
   },
   "outputs": [
    {
     "data": {
      "image/png": "[encoded data removed]",
      "text/plain": [
       "<Figure size 432x288 with 15 Axes>"
      ]
     },
     "metadata": {
      "needs_background": "light"
     },
     "output_type": "display_data"
    }
   ],
   "source": [
    "plot_examples(ordered_label_errors[range(15)], 3, 5)"
   ]
  },
  {
   "cell_type": "markdown",
   "metadata": {},
   "source": [
    "Let's zoom into specific examples:"
   ]
  },
  {
   "cell_type": "markdown",
   "metadata": {},
   "source": [
    "Given label is **4** but looks more like a **7**"
   ]
  },
  {
   "cell_type": "code",
   "execution_count": 12,
   "metadata": {
    "execution": {
     "iopub.execute_input": "2022-03-09T02:33:58.807449Z",
     "iopub.status.busy": "2022-03-09T02:33:58.806699Z",
     "iopub.status.idle": "2022-03-09T02:33:58.881659Z",
     "shell.execute_reply": "2022-03-09T02:33:58.880558Z"
    }
   },
   "outputs": [
    {
     "data": {
      "image/png": "[encoded data removed]",
      "text/plain": [
       "<Figure size 432x288 with 1 Axes>"
      ]
     },
     "metadata": {
      "needs_background": "light"
     },
     "output_type": "display_data"
    }
   ],
   "source": [
    "plot_examples([59915])"
   ]
  },
  {
   "cell_type": "markdown",
   "metadata": {},
   "source": [
    "Given label is **4** but also looks like **9**"
   ]
  },
  {
   "cell_type": "code",
   "execution_count": 13,
   "metadata": {
    "execution": {
     "iopub.execute_input": "2022-03-09T02:33:58.885272Z",
     "iopub.status.busy": "2022-03-09T02:33:58.885058Z",
     "iopub.status.idle": "2022-03-09T02:33:58.958372Z",
     "shell.execute_reply": "2022-03-09T02:33:58.957782Z"
    }
   },
   "outputs": [
    {
     "data": {
      "image/png": "[encoded data removed]",
      "text/plain": [
       "<Figure size 432x288 with 1 Axes>"
      ]
     },
     "metadata": {
      "needs_background": "light"
     },
     "output_type": "display_data"
    }
   ],
   "source": [
    "plot_examples([24798])"
   ]
  },
  {
   "cell_type": "markdown",
   "metadata": {},
   "source": [
    "Edge case of odd looking **9**s"
   ]
  },
  {
   "cell_type": "code",
   "execution_count": 14,
   "metadata": {
    "execution": {
     "iopub.execute_input": "2022-03-09T02:33:58.962281Z",
     "iopub.status.busy": "2022-03-09T02:33:58.961989Z",
     "iopub.status.idle": "2022-03-09T02:33:59.203458Z",
     "shell.execute_reply": "2022-03-09T02:33:59.202549Z"
    }
   },
   "outputs": [
    {
     "data": {
      "image/png": "[encoded data removed]",
      "text/plain": [
       "<Figure size 432x288 with 3 Axes>"
      ]
     },
     "metadata": {
      "needs_background": "light"
     },
     "output_type": "display_data"
    }
   ],
   "source": [
    "plot_examples([18598, 1352, 61247], 1, 3)"
   ]
  },
  {
   "cell_type": "markdown",
   "metadata": {},
   "source": [
    "Cleanlab has shortlisted the most likely label errors to speed up your data cleaning process. With this list, you can decide whether to fix label errors, augment edge cases or remove obscure examples. \n",
    "\n",
    "These human-in-the-loop processes may be time-consuming, so if you'd like Cleanlab to automatically remove these noisy examples and train a model directly on the partially mislabeled dataset, you're in luck! Cleanlab provides a ``LearningWithNoisyLabels`` wrapper to do precisely this:"
   ]
  },
  {
   "cell_type": "markdown",
   "metadata": {},
   "source": [
    "## 8. Adapt with Cleanlab's wrapper and train a more robust model"
   ]
  },
  {
   "cell_type": "markdown",
   "metadata": {},
   "source": [
    "First, we split the dataset into train and test subsets."
   ]
  },
  {
   "cell_type": "code",
   "execution_count": 15,
   "metadata": {
    "execution": {
     "iopub.execute_input": "2022-03-09T02:33:59.207324Z",
     "iopub.status.busy": "2022-03-09T02:33:59.207005Z",
     "iopub.status.idle": "2022-03-09T02:34:00.057126Z",
     "shell.execute_reply": "2022-03-09T02:34:00.056145Z"
    }
   },
   "outputs": [],
   "source": [
    "from sklearn.model_selection import train_test_split\n",
    "\n",
    "X_train, X_test, y_train, y_test = train_test_split(X, y, test_size=0.2)"
   ]
  },
  {
   "cell_type": "markdown",
   "metadata": {},
   "source": [
    "Re-instantiate a new scikit-learn compatible model with Skorch then wrap it with Cleanlab's ``LearningWithNoisyLabels`` wrapper."
   ]
  },
  {
   "cell_type": "code",
   "execution_count": 16,
   "metadata": {
    "execution": {
     "iopub.execute_input": "2022-03-09T02:34:00.060483Z",
     "iopub.status.busy": "2022-03-09T02:34:00.060273Z",
     "iopub.status.idle": "2022-03-09T02:34:00.065426Z",
     "shell.execute_reply": "2022-03-09T02:34:00.064710Z"
    }
   },
   "outputs": [],
   "source": [
    "from cleanlab.classification import LearningWithNoisyLabels\n",
    "\n",
    "net = NeuralNetClassifier(NeuralNetwork)\n",
    "clf = LearningWithNoisyLabels(clf=net)"
   ]
  },
  {
   "cell_type": "code",
   "execution_count": 17,
   "metadata": {
    "execution": {
     "iopub.execute_input": "2022-03-09T02:34:00.068574Z",
     "iopub.status.busy": "2022-03-09T02:34:00.068356Z",
     "iopub.status.idle": "2022-03-09T02:35:02.875677Z",
     "shell.execute_reply": "2022-03-09T02:35:02.874782Z"
    }
   },
   "outputs": [
    {
     "name": "stdout",
     "output_type": "stream",
     "text": [
      "  epoch    train_loss    valid_acc    valid_loss     dur\n",
      "-------  ------------  -----------  ------------  ------\n",
      "      1        \u001b[36m2.0237\u001b[0m       \u001b[32m0.7230\u001b[0m        \u001b[35m1.6282\u001b[0m  0.9527\n"
     ]
    },
    {
     "name": "stdout",
     "output_type": "stream",
     "text": [
      "      2        \u001b[36m1.3347\u001b[0m       \u001b[32m0.8113\u001b[0m        \u001b[35m0.9869\u001b[0m  0.9581\n"
     ]
    },
    {
     "name": "stdout",
     "output_type": "stream",
     "text": [
      "      3        \u001b[36m0.9488\u001b[0m       \u001b[32m0.8425\u001b[0m        \u001b[35m0.7253\u001b[0m  0.9934\n"
     ]
    },
    {
     "name": "stdout",
     "output_type": "stream",
     "text": [
      "      4        \u001b[36m0.7794\u001b[0m       \u001b[32m0.8600\u001b[0m        \u001b[35m0.6004\u001b[0m  0.9534\n"
     ]
    },
    {
     "name": "stdout",
     "output_type": "stream",
     "text": [
      "      5        \u001b[36m0.6819\u001b[0m       \u001b[32m0.8737\u001b[0m        \u001b[35m0.5269\u001b[0m  0.9686\n"
     ]
    },
    {
     "name": "stdout",
     "output_type": "stream",
     "text": [
      "      6        \u001b[36m0.6203\u001b[0m       \u001b[32m0.8828\u001b[0m        \u001b[35m0.4787\u001b[0m  0.9860\n"
     ]
    },
    {
     "name": "stdout",
     "output_type": "stream",
     "text": [
      "      7        \u001b[36m0.5735\u001b[0m       \u001b[32m0.8883\u001b[0m        \u001b[35m0.4435\u001b[0m  0.9796\n"
     ]
    },
    {
     "name": "stdout",
     "output_type": "stream",
     "text": [
      "      8        \u001b[36m0.5412\u001b[0m       \u001b[32m0.8921\u001b[0m        \u001b[35m0.4180\u001b[0m  0.9770\n"
     ]
    },
    {
     "name": "stdout",
     "output_type": "stream",
     "text": [
      "      9        \u001b[36m0.5165\u001b[0m       \u001b[32m0.8956\u001b[0m        \u001b[35m0.3977\u001b[0m  0.9557\n"
     ]
    },
    {
     "name": "stdout",
     "output_type": "stream",
     "text": [
      "     10        \u001b[36m0.4915\u001b[0m       \u001b[32m0.9003\u001b[0m        \u001b[35m0.3799\u001b[0m  0.9662\n"
     ]
    },
    {
     "name": "stdout",
     "output_type": "stream",
     "text": [
      "  epoch    train_loss    valid_acc    valid_loss     dur\n",
      "-------  ------------  -----------  ------------  ------\n",
      "      1        \u001b[36m2.0228\u001b[0m       \u001b[32m0.7562\u001b[0m        \u001b[35m1.6310\u001b[0m  0.9709\n"
     ]
    },
    {
     "name": "stdout",
     "output_type": "stream",
     "text": [
      "      2        \u001b[36m1.3260\u001b[0m       \u001b[32m0.8167\u001b[0m        \u001b[35m0.9850\u001b[0m  0.9785\n"
     ]
    },
    {
     "name": "stdout",
     "output_type": "stream",
     "text": [
      "      3        \u001b[36m0.9335\u001b[0m       \u001b[32m0.8392\u001b[0m        \u001b[35m0.7248\u001b[0m  0.9710\n"
     ]
    },
    {
     "name": "stdout",
     "output_type": "stream",
     "text": [
      "      4        \u001b[36m0.7630\u001b[0m       \u001b[32m0.8568\u001b[0m        \u001b[35m0.6028\u001b[0m  0.9713\n"
     ]
    },
    {
     "name": "stdout",
     "output_type": "stream",
     "text": [
      "      5        \u001b[36m0.6691\u001b[0m       \u001b[32m0.8683\u001b[0m        \u001b[35m0.5333\u001b[0m  0.9889\n"
     ]
    },
    {
     "name": "stdout",
     "output_type": "stream",
     "text": [
      "      6        \u001b[36m0.6104\u001b[0m       \u001b[32m0.8746\u001b[0m        \u001b[35m0.4879\u001b[0m  0.9767\n"
     ]
    },
    {
     "name": "stdout",
     "output_type": "stream",
     "text": [
      "      7        \u001b[36m0.5666\u001b[0m       \u001b[32m0.8816\u001b[0m        \u001b[35m0.4553\u001b[0m  0.9833\n"
     ]
    },
    {
     "name": "stdout",
     "output_type": "stream",
     "text": [
      "      8        \u001b[36m0.5372\u001b[0m       \u001b[32m0.8852\u001b[0m        \u001b[35m0.4308\u001b[0m  0.9887\n"
     ]
    },
    {
     "name": "stdout",
     "output_type": "stream",
     "text": [
      "      9        \u001b[36m0.5077\u001b[0m       \u001b[32m0.8888\u001b[0m        \u001b[35m0.4110\u001b[0m  0.9824\n"
     ]
    },
    {
     "name": "stdout",
     "output_type": "stream",
     "text": [
      "     10        \u001b[36m0.4858\u001b[0m       \u001b[32m0.8929\u001b[0m        \u001b[35m0.3948\u001b[0m  0.9664\n"
     ]
    },
    {
     "name": "stdout",
     "output_type": "stream",
     "text": [
      "  epoch    train_loss    valid_acc    valid_loss     dur\n",
      "-------  ------------  -----------  ------------  ------\n",
      "      1        \u001b[36m2.0196\u001b[0m       \u001b[32m0.7272\u001b[0m        \u001b[35m1.6237\u001b[0m  0.9657\n"
     ]
    },
    {
     "name": "stdout",
     "output_type": "stream",
     "text": [
      "      2        \u001b[36m1.3216\u001b[0m       \u001b[32m0.8153\u001b[0m        \u001b[35m0.9795\u001b[0m  0.9666\n"
     ]
    },
    {
     "name": "stdout",
     "output_type": "stream",
     "text": [
      "      3        \u001b[36m0.9304\u001b[0m       \u001b[32m0.8464\u001b[0m        \u001b[35m0.7173\u001b[0m  0.9739\n"
     ]
    },
    {
     "name": "stdout",
     "output_type": "stream",
     "text": [
      "      4        \u001b[36m0.7633\u001b[0m       \u001b[32m0.8624\u001b[0m        \u001b[35m0.5958\u001b[0m  0.9715\n"
     ]
    },
    {
     "name": "stdout",
     "output_type": "stream",
     "text": [
      "      5        \u001b[36m0.6689\u001b[0m       \u001b[32m0.8727\u001b[0m        \u001b[35m0.5247\u001b[0m  0.9534\n"
     ]
    },
    {
     "name": "stdout",
     "output_type": "stream",
     "text": [
      "      6        \u001b[36m0.6053\u001b[0m       \u001b[32m0.8796\u001b[0m        \u001b[35m0.4777\u001b[0m  0.9641\n"
     ]
    },
    {
     "name": "stdout",
     "output_type": "stream",
     "text": [
      "      7        \u001b[36m0.5656\u001b[0m       \u001b[32m0.8859\u001b[0m        \u001b[35m0.4451\u001b[0m  0.9614\n"
     ]
    },
    {
     "name": "stdout",
     "output_type": "stream",
     "text": [
      "      8        \u001b[36m0.5326\u001b[0m       \u001b[32m0.8901\u001b[0m        \u001b[35m0.4200\u001b[0m  0.9777\n"
     ]
    },
    {
     "name": "stdout",
     "output_type": "stream",
     "text": [
      "      9        \u001b[36m0.5101\u001b[0m       \u001b[32m0.8934\u001b[0m        \u001b[35m0.4008\u001b[0m  0.9528\n"
     ]
    },
    {
     "name": "stdout",
     "output_type": "stream",
     "text": [
      "     10        \u001b[36m0.4886\u001b[0m       \u001b[32m0.8965\u001b[0m        \u001b[35m0.3845\u001b[0m  0.9612\n"
     ]
    },
    {
     "name": "stdout",
     "output_type": "stream",
     "text": [
      "  epoch    train_loss    valid_acc    valid_loss     dur\n",
      "-------  ------------  -----------  ------------  ------\n",
      "      1        \u001b[36m2.0268\u001b[0m       \u001b[32m0.7219\u001b[0m        \u001b[35m1.6371\u001b[0m  0.9557\n"
     ]
    },
    {
     "name": "stdout",
     "output_type": "stream",
     "text": [
      "      2        \u001b[36m1.3332\u001b[0m       \u001b[32m0.8153\u001b[0m        \u001b[35m0.9876\u001b[0m  0.9631\n"
     ]
    },
    {
     "name": "stdout",
     "output_type": "stream",
     "text": [
      "      3        \u001b[36m0.9392\u001b[0m       \u001b[32m0.8432\u001b[0m        \u001b[35m0.7239\u001b[0m  0.9694\n"
     ]
    },
    {
     "name": "stdout",
     "output_type": "stream",
     "text": [
      "      4        \u001b[36m0.7712\u001b[0m       \u001b[32m0.8595\u001b[0m        \u001b[35m0.6022\u001b[0m  0.9714\n"
     ]
    },
    {
     "name": "stdout",
     "output_type": "stream",
     "text": [
      "      5        \u001b[36m0.6760\u001b[0m       \u001b[32m0.8711\u001b[0m        \u001b[35m0.5322\u001b[0m  0.9730\n"
     ]
    },
    {
     "name": "stdout",
     "output_type": "stream",
     "text": [
      "      6        \u001b[36m0.6206\u001b[0m       \u001b[32m0.8769\u001b[0m        \u001b[35m0.4865\u001b[0m  0.9697\n"
     ]
    },
    {
     "name": "stdout",
     "output_type": "stream",
     "text": [
      "      7        \u001b[36m0.5719\u001b[0m       \u001b[32m0.8830\u001b[0m        \u001b[35m0.4527\u001b[0m  1.1089\n"
     ]
    },
    {
     "name": "stdout",
     "output_type": "stream",
     "text": [
      "      8        \u001b[36m0.5415\u001b[0m       \u001b[32m0.8876\u001b[0m        \u001b[35m0.4272\u001b[0m  0.9520\n"
     ]
    },
    {
     "name": "stdout",
     "output_type": "stream",
     "text": [
      "      9        \u001b[36m0.5174\u001b[0m       \u001b[32m0.8912\u001b[0m        \u001b[35m0.4073\u001b[0m  0.9621\n"
     ]
    },
    {
     "name": "stdout",
     "output_type": "stream",
     "text": [
      "     10        \u001b[36m0.4948\u001b[0m       \u001b[32m0.8944\u001b[0m        \u001b[35m0.3904\u001b[0m  0.9602\n"
     ]
    },
    {
     "name": "stdout",
     "output_type": "stream",
     "text": [
      "  epoch    train_loss    valid_acc    valid_loss     dur\n",
      "-------  ------------  -----------  ------------  ------\n",
      "      1        \u001b[36m2.0219\u001b[0m       \u001b[32m0.6881\u001b[0m        \u001b[35m1.6325\u001b[0m  0.9727\n"
     ]
    },
    {
     "name": "stdout",
     "output_type": "stream",
     "text": [
      "      2        \u001b[36m1.3317\u001b[0m       \u001b[32m0.8086\u001b[0m        \u001b[35m0.9928\u001b[0m  0.9806\n"
     ]
    },
    {
     "name": "stdout",
     "output_type": "stream",
     "text": [
      "      3        \u001b[36m0.9436\u001b[0m       \u001b[32m0.8394\u001b[0m        \u001b[35m0.7320\u001b[0m  0.9550\n"
     ]
    },
    {
     "name": "stdout",
     "output_type": "stream",
     "text": [
      "      4        \u001b[36m0.7717\u001b[0m       \u001b[32m0.8561\u001b[0m        \u001b[35m0.6107\u001b[0m  0.9617\n"
     ]
    },
    {
     "name": "stdout",
     "output_type": "stream",
     "text": [
      "      5        \u001b[36m0.6769\u001b[0m       \u001b[32m0.8663\u001b[0m        \u001b[35m0.5406\u001b[0m  0.9679\n"
     ]
    },
    {
     "name": "stdout",
     "output_type": "stream",
     "text": [
      "      6        \u001b[36m0.6157\u001b[0m       \u001b[32m0.8759\u001b[0m        \u001b[35m0.4948\u001b[0m  0.9719\n"
     ]
    },
    {
     "name": "stdout",
     "output_type": "stream",
     "text": [
      "      7        \u001b[36m0.5754\u001b[0m       \u001b[32m0.8817\u001b[0m        \u001b[35m0.4627\u001b[0m  0.9976\n"
     ]
    },
    {
     "name": "stdout",
     "output_type": "stream",
     "text": [
      "      8        \u001b[36m0.5395\u001b[0m       \u001b[32m0.8853\u001b[0m        \u001b[35m0.4372\u001b[0m  0.9931\n"
     ]
    },
    {
     "name": "stdout",
     "output_type": "stream",
     "text": [
      "      9        \u001b[36m0.5138\u001b[0m       \u001b[32m0.8879\u001b[0m        \u001b[35m0.4170\u001b[0m  0.9652\n"
     ]
    },
    {
     "name": "stdout",
     "output_type": "stream",
     "text": [
      "     10        \u001b[36m0.4941\u001b[0m       \u001b[32m0.8905\u001b[0m        \u001b[35m0.4012\u001b[0m  0.9481\n"
     ]
    },
    {
     "name": "stdout",
     "output_type": "stream",
     "text": [
      "  epoch    train_loss    valid_acc    valid_loss     dur\n",
      "-------  ------------  -----------  ------------  ------\n",
      "      1        \u001b[36m1.9166\u001b[0m       \u001b[32m0.7675\u001b[0m        \u001b[35m1.4001\u001b[0m  1.1886\n"
     ]
    },
    {
     "name": "stdout",
     "output_type": "stream",
     "text": [
      "      2        \u001b[36m1.1343\u001b[0m       \u001b[32m0.8456\u001b[0m        \u001b[35m0.7994\u001b[0m  1.1839\n"
     ]
    },
    {
     "name": "stdout",
     "output_type": "stream",
     "text": [
      "      3        \u001b[36m0.7911\u001b[0m       \u001b[32m0.8730\u001b[0m        \u001b[35m0.5846\u001b[0m  1.1900\n"
     ]
    },
    {
     "name": "stdout",
     "output_type": "stream",
     "text": [
      "      4        \u001b[36m0.6448\u001b[0m       \u001b[32m0.8866\u001b[0m        \u001b[35m0.4821\u001b[0m  1.1848\n"
     ]
    },
    {
     "name": "stdout",
     "output_type": "stream",
     "text": [
      "      5        \u001b[36m0.5673\u001b[0m       \u001b[32m0.8970\u001b[0m        \u001b[35m0.4220\u001b[0m  1.1915\n"
     ]
    },
    {
     "name": "stdout",
     "output_type": "stream",
     "text": [
      "      6        \u001b[36m0.5096\u001b[0m       \u001b[32m0.9032\u001b[0m        \u001b[35m0.3816\u001b[0m  1.1892\n"
     ]
    },
    {
     "name": "stdout",
     "output_type": "stream",
     "text": [
      "      7        \u001b[36m0.4693\u001b[0m       \u001b[32m0.9072\u001b[0m        \u001b[35m0.3530\u001b[0m  1.2019\n"
     ]
    },
    {
     "name": "stdout",
     "output_type": "stream",
     "text": [
      "      8        \u001b[36m0.4452\u001b[0m       \u001b[32m0.9109\u001b[0m        \u001b[35m0.3311\u001b[0m  1.1798\n"
     ]
    },
    {
     "name": "stdout",
     "output_type": "stream",
     "text": [
      "      9        \u001b[36m0.4186\u001b[0m       \u001b[32m0.9133\u001b[0m        \u001b[35m0.3138\u001b[0m  1.1776\n"
     ]
    },
    {
     "name": "stdout",
     "output_type": "stream",
     "text": [
      "     10        \u001b[36m0.3979\u001b[0m       \u001b[32m0.9170\u001b[0m        \u001b[35m0.2998\u001b[0m  1.2084\n"
     ]
    }
   ],
   "source": [
    "_ = clf.fit(X_train, y_train.to_numpy())"
   ]
  },
  {
   "cell_type": "markdown",
   "metadata": {},
   "source": [
    "## 9. Evaluate the robust model's performance"
   ]
  },
  {
   "cell_type": "code",
   "execution_count": 18,
   "metadata": {
    "execution": {
     "iopub.execute_input": "2022-03-09T02:35:02.879206Z",
     "iopub.status.busy": "2022-03-09T02:35:02.878824Z",
     "iopub.status.idle": "2022-03-09T02:35:03.154300Z",
     "shell.execute_reply": "2022-03-09T02:35:03.153652Z"
    }
   },
   "outputs": [
    {
     "data": {
      "text/plain": [
       "0.8960714285714285"
      ]
     },
     "execution_count": 18,
     "metadata": {},
     "output_type": "execute_result"
    }
   ],
   "source": [
    "from sklearn.metrics import accuracy_score\n",
    "\n",
    "y_pred = clf.predict(X_test)\n",
    "accuracy_score(y_test, y_pred)"
   ]
  },
  {
   "cell_type": "markdown",
   "metadata": {},
   "source": [
    "## What's next?"
   ]
  },
  {
   "cell_type": "markdown",
   "metadata": {},
   "source": [
    "Congratulations on completing this tutorial! Check out our following tutorial on using Cleanlab for text classification, where we found ``hundreds`` of potential label errors in one of the most well-known text datasets, the IMBDb movie review dataset!"
   ]
  }
 ],
 "metadata": {
  "interpreter": {
   "hash": "ced20e3e49bb4fa4ce8ad38f8f2535b7fc4c39b2b89554502b5dbdad1ad67eda"
  },
  "kernelspec": {
   "display_name": "Python 3.10.0 64-bit",
   "language": "python",
   "name": "python3"
  },
  "language_info": {
   "codemirror_mode": {
    "name": "ipython",
    "version": 3
   },
   "file_extension": ".py",
   "mimetype": "text/x-python",
   "name": "python",
   "nbconvert_exporter": "python",
   "pygments_lexer": "ipython3",
   "version": "3.8.12"
  }
 },
 "nbformat": 4,
 "nbformat_minor": 2
}
