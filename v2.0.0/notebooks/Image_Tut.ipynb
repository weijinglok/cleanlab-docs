{
 "cells": [
  {
   "cell_type": "markdown",
   "metadata": {},
   "source": [
    "# Image Classification with Cleanlab, PyTorch & Skorch"
   ]
  },
  {
   "cell_type": "markdown",
   "metadata": {},
   "source": [
    "This tutorial will use Cleanlab to find potential label errors in the MNIST handwritten digit image dataset. This dataset contains 60,000 images of handwritten digits from 0 to 9. We'll find *more than a thousand* highly suspicious examples with label errors and edge cases by the end of this tutorial. \n",
    "\n",
    "**Overview of what we'll do in this tutorial:**\n",
    "\n",
    "- Build a simple PyTorch neural net and wrap it with Skorch to make it scikit-learn compatible.\n",
    "\n",
    "- Compute the cross-validated predicted probabilities, ``pyx``, sometimes known as the out-of-sample predicted probabilities.\n",
    "\n",
    "- Generate a list of potential label errors with Cleanlab's ``get_noise_indices``.\n",
    "\n",
    "- Build and train a more robust model than the vanilla model after adapting it with Cleanlab's ``LearningWithNoisyLabels``. \n",
    "\n",
    "**Data:** https://www.openml.org/d/554"
   ]
  },
  {
   "cell_type": "markdown",
   "metadata": {},
   "source": [
    "## 1. Install the required dependencies"
   ]
  },
  {
   "cell_type": "markdown",
   "metadata": {},
   "source": [
    "``%%capture`` is a magic function to hides the cell's output."
   ]
  },
  {
   "cell_type": "code",
   "execution_count": 1,
   "metadata": {
    "execution": {
     "iopub.execute_input": "2022-03-08T22:17:58.002317Z",
     "iopub.status.busy": "2022-03-08T22:17:58.002064Z",
     "iopub.status.idle": "2022-03-08T22:18:28.701202Z",
     "shell.execute_reply": "2022-03-08T22:18:28.700256Z"
    }
   },
   "outputs": [],
   "source": [
    "%%capture\n",
    "\n",
    "%pip install cleanlab pandas matplotlib torch torchvision skorch"
   ]
  },
  {
   "cell_type": "markdown",
   "metadata": {},
   "source": [
    "## 2. Fetch and scale the MNIST dataset"
   ]
  },
  {
   "cell_type": "code",
   "execution_count": 2,
   "metadata": {
    "execution": {
     "iopub.execute_input": "2022-03-08T22:18:28.705564Z",
     "iopub.status.busy": "2022-03-08T22:18:28.705221Z",
     "iopub.status.idle": "2022-03-08T22:20:31.222448Z",
     "shell.execute_reply": "2022-03-08T22:20:31.221749Z"
    }
   },
   "outputs": [],
   "source": [
    "from sklearn.datasets import fetch_openml\n",
    "\n",
    "# Fetch the MNIST dataset\n",
    "mnist = fetch_openml('mnist_784')\n",
    "\n",
    "# Assign the data features and labels to variable X and y respectively \n",
    "X = mnist.data.astype('float32')\n",
    "y = mnist.target.astype('int64')\n"
   ]
  },
  {
   "cell_type": "markdown",
   "metadata": {},
   "source": [
    "<div class=\"alert alert-info\">\n",
    "\n",
    "Bringing Your Own Data (BYOD)?\n",
    "\n",
    "Assign your data's features to variable ``X`` and its labels to variable ``y`` instead.\n",
    "\n",
    "</div>"
   ]
  },
  {
   "cell_type": "code",
   "execution_count": 3,
   "metadata": {
    "execution": {
     "iopub.execute_input": "2022-03-08T22:20:31.226966Z",
     "iopub.status.busy": "2022-03-08T22:20:31.226381Z",
     "iopub.status.idle": "2022-03-08T22:20:31.434705Z",
     "shell.execute_reply": "2022-03-08T22:20:31.434059Z"
    }
   },
   "outputs": [],
   "source": [
    "\n",
    "# Scale the features which range from 0 to 255 (256 levels on the grayscale) \n",
    "X /= 255.0\n",
    "\n",
    "# Then convert it to a numpy array\n",
    "X = X.to_numpy()"
   ]
  },
  {
   "cell_type": "markdown",
   "metadata": {},
   "source": [
    "## 3. Define a classification model"
   ]
  },
  {
   "cell_type": "markdown",
   "metadata": {},
   "source": [
    "Here, we define a simple neural network with PyTorch."
   ]
  },
  {
   "cell_type": "code",
   "execution_count": 4,
   "metadata": {
    "execution": {
     "iopub.execute_input": "2022-03-08T22:20:31.438386Z",
     "iopub.status.busy": "2022-03-08T22:20:31.437966Z",
     "iopub.status.idle": "2022-03-08T22:20:32.130931Z",
     "shell.execute_reply": "2022-03-08T22:20:32.130309Z"
    }
   },
   "outputs": [],
   "source": [
    "from torch import nn\n",
    "\n",
    "class NeuralNetwork(nn.Module):\n",
    "    def __init__(self):\n",
    "        super(NeuralNetwork, self).__init__()\n",
    "        self.dropout = nn.Dropout(0.5)\n",
    "        self.hidden = nn.Linear(28*28, 128)\n",
    "        self.output = nn.Linear(128, 10)\n",
    "\n",
    "    def forward(self, X):\n",
    "        X = nn.functional.relu(self.hidden(X))\n",
    "        X = self.dropout(X)\n",
    "        X = nn.functional.softmax(self.output(X), dim=-1)\n",
    "        return X"
   ]
  },
  {
   "cell_type": "markdown",
   "metadata": {},
   "source": [
    "## 4. Wrap with Skorch for scikit-learn compatibility"
   ]
  },
  {
   "cell_type": "markdown",
   "metadata": {},
   "source": [
    "As some of Cleanlab's feature requires scikit-learn compatibility, we will need to adapt the above PyTorch neural net accordingly. Skorch is a convenient package that helps with this, read more about it here: https://skorch.readthedocs.io"
   ]
  },
  {
   "cell_type": "code",
   "execution_count": 5,
   "metadata": {
    "execution": {
     "iopub.execute_input": "2022-03-08T22:20:32.134487Z",
     "iopub.status.busy": "2022-03-08T22:20:32.134121Z",
     "iopub.status.idle": "2022-03-08T22:20:32.240186Z",
     "shell.execute_reply": "2022-03-08T22:20:32.239575Z"
    }
   },
   "outputs": [],
   "source": [
    "from skorch import NeuralNetClassifier\n",
    "\n",
    "# Wrap the PyTorch neural net around Skorch's NeuralNetClassifier wrapper\n",
    "net = NeuralNetClassifier(NeuralNetwork)"
   ]
  },
  {
   "cell_type": "markdown",
   "metadata": {},
   "source": [
    "## 5. Compute the cross-validated predicted probabilities"
   ]
  },
  {
   "cell_type": "markdown",
   "metadata": {},
   "source": [
    "If we'd like Cleanlab to identify potential label errors in the whole dataset and not just the training set, we can consider fitting the entire dataset. We will only use this model instance to compute the cross-validated predicted probabilities, ``pyx``, and not for model evaluation."
   ]
  },
  {
   "cell_type": "code",
   "execution_count": 6,
   "metadata": {
    "execution": {
     "iopub.execute_input": "2022-03-08T22:20:32.243966Z",
     "iopub.status.busy": "2022-03-08T22:20:32.243396Z",
     "iopub.status.idle": "2022-03-08T22:20:48.774101Z",
     "shell.execute_reply": "2022-03-08T22:20:48.773538Z"
    }
   },
   "outputs": [
    {
     "name": "stdout",
     "output_type": "stream",
     "text": [
      "  epoch    train_loss    valid_acc    valid_loss     dur\n",
      "-------  ------------  -----------  ------------  ------\n",
      "      1        \u001b[36m1.8150\u001b[0m       \u001b[32m0.7839\u001b[0m        \u001b[35m1.2016\u001b[0m  1.7248\n"
     ]
    },
    {
     "name": "stdout",
     "output_type": "stream",
     "text": [
      "      2        \u001b[36m0.9948\u001b[0m       \u001b[32m0.8411\u001b[0m        \u001b[35m0.7070\u001b[0m  1.6389\n"
     ]
    },
    {
     "name": "stdout",
     "output_type": "stream",
     "text": [
      "      3        \u001b[36m0.7272\u001b[0m       \u001b[32m0.8631\u001b[0m        \u001b[35m0.5546\u001b[0m  1.6285\n"
     ]
    },
    {
     "name": "stdout",
     "output_type": "stream",
     "text": [
      "      4        \u001b[36m0.6205\u001b[0m       \u001b[32m0.8761\u001b[0m        \u001b[35m0.4811\u001b[0m  1.6305\n"
     ]
    },
    {
     "name": "stdout",
     "output_type": "stream",
     "text": [
      "      5        \u001b[36m0.5576\u001b[0m       \u001b[32m0.8856\u001b[0m        \u001b[35m0.4359\u001b[0m  1.6333\n"
     ]
    },
    {
     "name": "stdout",
     "output_type": "stream",
     "text": [
      "      6        \u001b[36m0.5123\u001b[0m       \u001b[32m0.8922\u001b[0m        \u001b[35m0.4056\u001b[0m  1.6522\n"
     ]
    },
    {
     "name": "stdout",
     "output_type": "stream",
     "text": [
      "      7        \u001b[36m0.4840\u001b[0m       \u001b[32m0.8974\u001b[0m        \u001b[35m0.3827\u001b[0m  1.6449\n"
     ]
    },
    {
     "name": "stdout",
     "output_type": "stream",
     "text": [
      "      8        \u001b[36m0.4575\u001b[0m       \u001b[32m0.9015\u001b[0m        \u001b[35m0.3649\u001b[0m  1.6397\n"
     ]
    },
    {
     "name": "stdout",
     "output_type": "stream",
     "text": [
      "      9        \u001b[36m0.4394\u001b[0m       \u001b[32m0.9049\u001b[0m        \u001b[35m0.3492\u001b[0m  1.6271\n"
     ]
    },
    {
     "name": "stdout",
     "output_type": "stream",
     "text": [
      "     10        \u001b[36m0.4211\u001b[0m       \u001b[32m0.9079\u001b[0m        \u001b[35m0.3368\u001b[0m  1.6325\n"
     ]
    }
   ],
   "source": [
    "_ = net.fit(X, y)"
   ]
  },
  {
   "cell_type": "markdown",
   "metadata": {},
   "source": [
    "Compute the cross-validated predicted probabilities, ``pyx``, sometimes also known as the out-of-sample predicted probabilities."
   ]
  },
  {
   "cell_type": "code",
   "execution_count": 7,
   "metadata": {
    "execution": {
     "iopub.execute_input": "2022-03-08T22:20:48.777155Z",
     "iopub.status.busy": "2022-03-08T22:20:48.776834Z",
     "iopub.status.idle": "2022-03-08T22:21:11.397353Z",
     "shell.execute_reply": "2022-03-08T22:21:11.396750Z"
    }
   },
   "outputs": [
    {
     "name": "stdout",
     "output_type": "stream",
     "text": [
      "  epoch    train_loss    valid_acc    valid_loss     dur\n",
      "-------  ------------  -----------  ------------  ------\n",
      "      1        \u001b[36m1.9878\u001b[0m       \u001b[32m0.7269\u001b[0m        \u001b[35m1.5821\u001b[0m  0.6940\n"
     ]
    },
    {
     "name": "stdout",
     "output_type": "stream",
     "text": [
      "      2        \u001b[36m1.2677\u001b[0m       \u001b[32m0.8003\u001b[0m        \u001b[35m0.9638\u001b[0m  0.6953\n"
     ]
    },
    {
     "name": "stdout",
     "output_type": "stream",
     "text": [
      "      3        \u001b[36m0.8968\u001b[0m       \u001b[32m0.8305\u001b[0m        \u001b[35m0.7268\u001b[0m  0.7731\n"
     ]
    },
    {
     "name": "stdout",
     "output_type": "stream",
     "text": [
      "      4        \u001b[36m0.7342\u001b[0m       \u001b[32m0.8473\u001b[0m        \u001b[35m0.6149\u001b[0m  0.6980\n"
     ]
    },
    {
     "name": "stdout",
     "output_type": "stream",
     "text": [
      "      5        \u001b[36m0.6483\u001b[0m       \u001b[32m0.8604\u001b[0m        \u001b[35m0.5499\u001b[0m  0.6962\n"
     ]
    },
    {
     "name": "stdout",
     "output_type": "stream",
     "text": [
      "      6        \u001b[36m0.5930\u001b[0m       \u001b[32m0.8664\u001b[0m        \u001b[35m0.5070\u001b[0m  0.6981\n"
     ]
    },
    {
     "name": "stdout",
     "output_type": "stream",
     "text": [
      "      7        \u001b[36m0.5477\u001b[0m       \u001b[32m0.8710\u001b[0m        \u001b[35m0.4756\u001b[0m  0.6994\n"
     ]
    },
    {
     "name": "stdout",
     "output_type": "stream",
     "text": [
      "      8        \u001b[36m0.5178\u001b[0m       \u001b[32m0.8752\u001b[0m        \u001b[35m0.4509\u001b[0m  0.7000\n"
     ]
    },
    {
     "name": "stdout",
     "output_type": "stream",
     "text": [
      "      9        \u001b[36m0.4978\u001b[0m       \u001b[32m0.8790\u001b[0m        \u001b[35m0.4336\u001b[0m  0.7012\n"
     ]
    },
    {
     "name": "stdout",
     "output_type": "stream",
     "text": [
      "     10        \u001b[36m0.4753\u001b[0m       \u001b[32m0.8828\u001b[0m        \u001b[35m0.4171\u001b[0m  0.6987\n"
     ]
    },
    {
     "name": "stdout",
     "output_type": "stream",
     "text": [
      "  epoch    train_loss    valid_acc    valid_loss     dur\n",
      "-------  ------------  -----------  ------------  ------\n",
      "      1        \u001b[36m1.9714\u001b[0m       \u001b[32m0.7499\u001b[0m        \u001b[35m1.5387\u001b[0m  0.7016\n"
     ]
    },
    {
     "name": "stdout",
     "output_type": "stream",
     "text": [
      "      2        \u001b[36m1.2494\u001b[0m       \u001b[32m0.8016\u001b[0m        \u001b[35m0.9387\u001b[0m  0.6998\n"
     ]
    },
    {
     "name": "stdout",
     "output_type": "stream",
     "text": [
      "      3        \u001b[36m0.8930\u001b[0m       \u001b[32m0.8340\u001b[0m        \u001b[35m0.7074\u001b[0m  0.7046\n"
     ]
    },
    {
     "name": "stdout",
     "output_type": "stream",
     "text": [
      "      4        \u001b[36m0.7366\u001b[0m       \u001b[32m0.8540\u001b[0m        \u001b[35m0.5947\u001b[0m  0.7096\n"
     ]
    },
    {
     "name": "stdout",
     "output_type": "stream",
     "text": [
      "      5        \u001b[36m0.6470\u001b[0m       \u001b[32m0.8646\u001b[0m        \u001b[35m0.5288\u001b[0m  0.7033\n"
     ]
    },
    {
     "name": "stdout",
     "output_type": "stream",
     "text": [
      "      6        \u001b[36m0.5911\u001b[0m       \u001b[32m0.8763\u001b[0m        \u001b[35m0.4836\u001b[0m  0.7096\n"
     ]
    },
    {
     "name": "stdout",
     "output_type": "stream",
     "text": [
      "      7        \u001b[36m0.5450\u001b[0m       \u001b[32m0.8824\u001b[0m        \u001b[35m0.4501\u001b[0m  0.7087\n"
     ]
    },
    {
     "name": "stdout",
     "output_type": "stream",
     "text": [
      "      8        \u001b[36m0.5162\u001b[0m       \u001b[32m0.8874\u001b[0m        \u001b[35m0.4265\u001b[0m  0.7044\n"
     ]
    },
    {
     "name": "stdout",
     "output_type": "stream",
     "text": [
      "      9        \u001b[36m0.4928\u001b[0m       \u001b[32m0.8924\u001b[0m        \u001b[35m0.4066\u001b[0m  0.7077\n"
     ]
    },
    {
     "name": "stdout",
     "output_type": "stream",
     "text": [
      "     10        \u001b[36m0.4766\u001b[0m       \u001b[32m0.8953\u001b[0m        \u001b[35m0.3904\u001b[0m  0.7124\n"
     ]
    },
    {
     "name": "stdout",
     "output_type": "stream",
     "text": [
      "  epoch    train_loss    valid_acc    valid_loss     dur\n",
      "-------  ------------  -----------  ------------  ------\n",
      "      1        \u001b[36m2.0028\u001b[0m       \u001b[32m0.7346\u001b[0m        \u001b[35m1.5880\u001b[0m  0.7025\n"
     ]
    },
    {
     "name": "stdout",
     "output_type": "stream",
     "text": [
      "      2        \u001b[36m1.3036\u001b[0m       \u001b[32m0.8073\u001b[0m        \u001b[35m0.9639\u001b[0m  0.7070\n"
     ]
    },
    {
     "name": "stdout",
     "output_type": "stream",
     "text": [
      "      3        \u001b[36m0.9309\u001b[0m       \u001b[32m0.8372\u001b[0m        \u001b[35m0.7154\u001b[0m  0.6973\n"
     ]
    },
    {
     "name": "stdout",
     "output_type": "stream",
     "text": [
      "      4        \u001b[36m0.7644\u001b[0m       \u001b[32m0.8576\u001b[0m        \u001b[35m0.5986\u001b[0m  0.7017\n"
     ]
    },
    {
     "name": "stdout",
     "output_type": "stream",
     "text": [
      "      5        \u001b[36m0.6753\u001b[0m       \u001b[32m0.8690\u001b[0m        \u001b[35m0.5299\u001b[0m  0.7059\n"
     ]
    },
    {
     "name": "stdout",
     "output_type": "stream",
     "text": [
      "      6        \u001b[36m0.6152\u001b[0m       \u001b[32m0.8788\u001b[0m        \u001b[35m0.4837\u001b[0m  0.7347\n"
     ]
    },
    {
     "name": "stdout",
     "output_type": "stream",
     "text": [
      "      7        \u001b[36m0.5722\u001b[0m       \u001b[32m0.8865\u001b[0m        \u001b[35m0.4494\u001b[0m  0.7037\n"
     ]
    },
    {
     "name": "stdout",
     "output_type": "stream",
     "text": [
      "      8        \u001b[36m0.5407\u001b[0m       \u001b[32m0.8910\u001b[0m        \u001b[35m0.4243\u001b[0m  0.7029\n"
     ]
    },
    {
     "name": "stdout",
     "output_type": "stream",
     "text": [
      "      9        \u001b[36m0.5125\u001b[0m       \u001b[32m0.8946\u001b[0m        \u001b[35m0.4039\u001b[0m  0.7017\n"
     ]
    },
    {
     "name": "stdout",
     "output_type": "stream",
     "text": [
      "     10        \u001b[36m0.4914\u001b[0m       \u001b[32m0.8981\u001b[0m        \u001b[35m0.3871\u001b[0m  0.7091\n"
     ]
    }
   ],
   "source": [
    "from sklearn.model_selection import cross_val_predict\n",
    "\n",
    "pyx = cross_val_predict(net, X, y, cv=3, method='predict_proba')"
   ]
  },
  {
   "cell_type": "markdown",
   "metadata": {},
   "source": [
    "## 6. Run Cleanlab to find potential label errors"
   ]
  },
  {
   "cell_type": "markdown",
   "metadata": {},
   "source": [
    "Cleanlab has a ``get_noise_indices`` function to generate a list of potential label errors. Setting ``sorted_index_method=\"prob_given_label\"`` returns the indices of all the most likely label errors, sorted by the most suspicious example first."
   ]
  },
  {
   "cell_type": "code",
   "execution_count": 8,
   "metadata": {
    "execution": {
     "iopub.execute_input": "2022-03-08T22:21:11.401002Z",
     "iopub.status.busy": "2022-03-08T22:21:11.400650Z",
     "iopub.status.idle": "2022-03-08T22:21:11.828162Z",
     "shell.execute_reply": "2022-03-08T22:21:11.827358Z"
    }
   },
   "outputs": [],
   "source": [
    "from cleanlab.pruning import get_noise_indices\n",
    "\n",
    "ordered_label_errors = get_noise_indices(\n",
    "    s=y,\n",
    "    psx=pyx,\n",
    "    sorted_index_method=\"prob_given_label\"\n",
    ")"
   ]
  },
  {
   "cell_type": "markdown",
   "metadata": {},
   "source": [
    "## 7. Review some of the most likely mislabeled examples"
   ]
  },
  {
   "cell_type": "code",
   "execution_count": 9,
   "metadata": {
    "execution": {
     "iopub.execute_input": "2022-03-08T22:21:11.832467Z",
     "iopub.status.busy": "2022-03-08T22:21:11.832078Z",
     "iopub.status.idle": "2022-03-08T22:21:11.837810Z",
     "shell.execute_reply": "2022-03-08T22:21:11.837261Z"
    }
   },
   "outputs": [
    {
     "name": "stdout",
     "output_type": "stream",
     "text": [
      "Cleanlab found 1216 potential label errors. Here are the indices of the top 15 most likely ones: \n",
      " [24798 18598  8729 15942  1352 61790 55739 20820 59915 12679 53216 31134\n",
      " 39457 20735 39327]\n"
     ]
    }
   ],
   "source": [
    "print(f\"Cleanlab found {len(ordered_label_errors)} potential label errors. Here are the indices of the top 15 most likely ones: \\n {ordered_label_errors[:15]}\")"
   ]
  },
  {
   "cell_type": "markdown",
   "metadata": {},
   "source": [
    "We'll define a new ``plot_examples`` function to display any examples in a subplot conveniently."
   ]
  },
  {
   "cell_type": "code",
   "execution_count": 10,
   "metadata": {
    "execution": {
     "iopub.execute_input": "2022-03-08T22:21:11.840716Z",
     "iopub.status.busy": "2022-03-08T22:21:11.840425Z",
     "iopub.status.idle": "2022-03-08T22:21:12.700068Z",
     "shell.execute_reply": "2022-03-08T22:21:12.699424Z"
    }
   },
   "outputs": [],
   "source": [
    "import matplotlib.pyplot as plt\n",
    "\n",
    "def plot_examples(id_iter, nrows=1, ncols=1):\n",
    "    for count, id in enumerate(id_iter):\n",
    "        plt.subplot(nrows, ncols, count+1)\n",
    "        plt.imshow(X[id].reshape(28, 28))\n",
    "        plt.title(f\"id: {id} \\n label: {y[id]}\")\n",
    "        plt.axis('off')\n",
    "\n",
    "    plt.tight_layout(h_pad=2.0)"
   ]
  },
  {
   "cell_type": "markdown",
   "metadata": {},
   "source": [
    "Let's start by having an overview of the top 15 most likely label errors. From here, we can see a few label errors and edge cases. Feel free to change the parameters to display more or fewer examples. "
   ]
  },
  {
   "cell_type": "code",
   "execution_count": 11,
   "metadata": {
    "execution": {
     "iopub.execute_input": "2022-03-08T22:21:12.703647Z",
     "iopub.status.busy": "2022-03-08T22:21:12.703287Z",
     "iopub.status.idle": "2022-03-08T22:21:13.163667Z",
     "shell.execute_reply": "2022-03-08T22:21:13.162976Z"
    }
   },
   "outputs": [
    {
     "data": {
      "image/png": "[encoded data removed]",
      "text/plain": [
       "<Figure size 432x288 with 15 Axes>"
      ]
     },
     "metadata": {
      "needs_background": "light"
     },
     "output_type": "display_data"
    }
   ],
   "source": [
    "plot_examples(ordered_label_errors[range(15)], 3, 5)"
   ]
  },
  {
   "cell_type": "markdown",
   "metadata": {},
   "source": [
    "Let's zoom into specific examples:"
   ]
  },
  {
   "cell_type": "markdown",
   "metadata": {},
   "source": [
    "Given label is **4** but looks more like a **7**"
   ]
  },
  {
   "cell_type": "code",
   "execution_count": 12,
   "metadata": {
    "execution": {
     "iopub.execute_input": "2022-03-08T22:21:13.167150Z",
     "iopub.status.busy": "2022-03-08T22:21:13.166725Z",
     "iopub.status.idle": "2022-03-08T22:21:13.228599Z",
     "shell.execute_reply": "2022-03-08T22:21:13.228109Z"
    }
   },
   "outputs": [
    {
     "data": {
      "image/png": "[encoded data removed]",
      "text/plain": [
       "<Figure size 432x288 with 1 Axes>"
      ]
     },
     "metadata": {
      "needs_background": "light"
     },
     "output_type": "display_data"
    }
   ],
   "source": [
    "plot_examples([59915])"
   ]
  },
  {
   "cell_type": "markdown",
   "metadata": {},
   "source": [
    "Given label is **4** but also looks like **9**"
   ]
  },
  {
   "cell_type": "code",
   "execution_count": 13,
   "metadata": {
    "execution": {
     "iopub.execute_input": "2022-03-08T22:21:13.232620Z",
     "iopub.status.busy": "2022-03-08T22:21:13.231696Z",
     "iopub.status.idle": "2022-03-08T22:21:13.286740Z",
     "shell.execute_reply": "2022-03-08T22:21:13.286230Z"
    }
   },
   "outputs": [
    {
     "data": {
      "image/png": "[encoded data removed]",
      "text/plain": [
       "<Figure size 432x288 with 1 Axes>"
      ]
     },
     "metadata": {
      "needs_background": "light"
     },
     "output_type": "display_data"
    }
   ],
   "source": [
    "plot_examples([24798])"
   ]
  },
  {
   "cell_type": "markdown",
   "metadata": {},
   "source": [
    "Edge case of odd looking **9**s"
   ]
  },
  {
   "cell_type": "code",
   "execution_count": 14,
   "metadata": {
    "execution": {
     "iopub.execute_input": "2022-03-08T22:21:13.290803Z",
     "iopub.status.busy": "2022-03-08T22:21:13.289839Z",
     "iopub.status.idle": "2022-03-08T22:21:13.519728Z",
     "shell.execute_reply": "2022-03-08T22:21:13.519091Z"
    }
   },
   "outputs": [
    {
     "data": {
      "image/png": "[encoded data removed]",
      "text/plain": [
       "<Figure size 432x288 with 3 Axes>"
      ]
     },
     "metadata": {
      "needs_background": "light"
     },
     "output_type": "display_data"
    }
   ],
   "source": [
    "plot_examples([18598, 1352, 61247], 1, 3)"
   ]
  },
  {
   "cell_type": "markdown",
   "metadata": {},
   "source": [
    "Cleanlab has shortlisted the most likely label errors to speed up your data cleaning process. With this list, you can decide whether to fix label errors, augment edge cases or remove obscure examples. \n",
    "\n",
    "These human-in-the-loop processes may be time-consuming, so if you'd like Cleanlab to automatically remove these noisy examples and train a model directly on the partially mislabeled dataset, you're in luck! Cleanlab provides a ``LearningWithNoisyLabels`` wrapper to do precisely this:"
   ]
  },
  {
   "cell_type": "markdown",
   "metadata": {},
   "source": [
    "## 8. Adapt with Cleanlab's wrapper and train a more robust model"
   ]
  },
  {
   "cell_type": "markdown",
   "metadata": {},
   "source": [
    "First, we split the dataset into train and test subsets."
   ]
  },
  {
   "cell_type": "code",
   "execution_count": 15,
   "metadata": {
    "execution": {
     "iopub.execute_input": "2022-03-08T22:21:13.522951Z",
     "iopub.status.busy": "2022-03-08T22:21:13.522649Z",
     "iopub.status.idle": "2022-03-08T22:21:14.313368Z",
     "shell.execute_reply": "2022-03-08T22:21:14.312728Z"
    }
   },
   "outputs": [],
   "source": [
    "from sklearn.model_selection import train_test_split\n",
    "\n",
    "X_train, X_test, y_train, y_test = train_test_split(X, y, test_size=0.2)"
   ]
  },
  {
   "cell_type": "markdown",
   "metadata": {},
   "source": [
    "Re-instantiate a new scikit-learn compatible model with Skorch then wrap it with Cleanlab's ``LearningWithNoisyLabels`` wrapper."
   ]
  },
  {
   "cell_type": "code",
   "execution_count": 16,
   "metadata": {
    "execution": {
     "iopub.execute_input": "2022-03-08T22:21:14.316822Z",
     "iopub.status.busy": "2022-03-08T22:21:14.316422Z",
     "iopub.status.idle": "2022-03-08T22:21:14.319968Z",
     "shell.execute_reply": "2022-03-08T22:21:14.319410Z"
    }
   },
   "outputs": [],
   "source": [
    "from cleanlab.classification import LearningWithNoisyLabels\n",
    "\n",
    "net = NeuralNetClassifier(NeuralNetwork)\n",
    "clf = LearningWithNoisyLabels(clf=net)"
   ]
  },
  {
   "cell_type": "code",
   "execution_count": 17,
   "metadata": {
    "execution": {
     "iopub.execute_input": "2022-03-08T22:21:14.322617Z",
     "iopub.status.busy": "2022-03-08T22:21:14.322314Z",
     "iopub.status.idle": "2022-03-08T22:21:58.651406Z",
     "shell.execute_reply": "2022-03-08T22:21:58.650753Z"
    }
   },
   "outputs": [
    {
     "name": "stdout",
     "output_type": "stream",
     "text": [
      "  epoch    train_loss    valid_acc    valid_loss     dur\n",
      "-------  ------------  -----------  ------------  ------\n",
      "      1        \u001b[36m1.9996\u001b[0m       \u001b[32m0.7349\u001b[0m        \u001b[35m1.5871\u001b[0m  0.6804\n"
     ]
    },
    {
     "name": "stdout",
     "output_type": "stream",
     "text": [
      "      2        \u001b[36m1.2990\u001b[0m       \u001b[32m0.8164\u001b[0m        \u001b[35m0.9611\u001b[0m  0.6762\n"
     ]
    },
    {
     "name": "stdout",
     "output_type": "stream",
     "text": [
      "      3        \u001b[36m0.9207\u001b[0m       \u001b[32m0.8446\u001b[0m        \u001b[35m0.7106\u001b[0m  0.6762\n"
     ]
    },
    {
     "name": "stdout",
     "output_type": "stream",
     "text": [
      "      4        \u001b[36m0.7575\u001b[0m       \u001b[32m0.8613\u001b[0m        \u001b[35m0.5939\u001b[0m  0.6746\n"
     ]
    },
    {
     "name": "stdout",
     "output_type": "stream",
     "text": [
      "      5        \u001b[36m0.6657\u001b[0m       \u001b[32m0.8706\u001b[0m        \u001b[35m0.5255\u001b[0m  0.6797\n"
     ]
    },
    {
     "name": "stdout",
     "output_type": "stream",
     "text": [
      "      6        \u001b[36m0.6073\u001b[0m       \u001b[32m0.8777\u001b[0m        \u001b[35m0.4824\u001b[0m  0.6819\n"
     ]
    },
    {
     "name": "stdout",
     "output_type": "stream",
     "text": [
      "      7        \u001b[36m0.5640\u001b[0m       \u001b[32m0.8829\u001b[0m        \u001b[35m0.4513\u001b[0m  0.6812\n"
     ]
    },
    {
     "name": "stdout",
     "output_type": "stream",
     "text": [
      "      8        \u001b[36m0.5330\u001b[0m       \u001b[32m0.8883\u001b[0m        \u001b[35m0.4283\u001b[0m  0.6895\n"
     ]
    },
    {
     "name": "stdout",
     "output_type": "stream",
     "text": [
      "      9        \u001b[36m0.5034\u001b[0m       \u001b[32m0.8915\u001b[0m        \u001b[35m0.4094\u001b[0m  0.6858\n"
     ]
    },
    {
     "name": "stdout",
     "output_type": "stream",
     "text": [
      "     10        \u001b[36m0.4852\u001b[0m       \u001b[32m0.8950\u001b[0m        \u001b[35m0.3942\u001b[0m  0.6859\n"
     ]
    },
    {
     "name": "stdout",
     "output_type": "stream",
     "text": [
      "  epoch    train_loss    valid_acc    valid_loss     dur\n",
      "-------  ------------  -----------  ------------  ------\n",
      "      1        \u001b[36m2.0329\u001b[0m       \u001b[32m0.7407\u001b[0m        \u001b[35m1.6363\u001b[0m  0.6840\n"
     ]
    },
    {
     "name": "stdout",
     "output_type": "stream",
     "text": [
      "      2        \u001b[36m1.3323\u001b[0m       \u001b[32m0.8218\u001b[0m        \u001b[35m0.9822\u001b[0m  0.6813\n"
     ]
    },
    {
     "name": "stdout",
     "output_type": "stream",
     "text": [
      "      3        \u001b[36m0.9371\u001b[0m       \u001b[32m0.8504\u001b[0m        \u001b[35m0.7183\u001b[0m  0.6811\n"
     ]
    },
    {
     "name": "stdout",
     "output_type": "stream",
     "text": [
      "      4        \u001b[36m0.7645\u001b[0m       \u001b[32m0.8657\u001b[0m        \u001b[35m0.5971\u001b[0m  0.6754\n"
     ]
    },
    {
     "name": "stdout",
     "output_type": "stream",
     "text": [
      "      5        \u001b[36m0.6767\u001b[0m       \u001b[32m0.8740\u001b[0m        \u001b[35m0.5287\u001b[0m  0.6774\n"
     ]
    },
    {
     "name": "stdout",
     "output_type": "stream",
     "text": [
      "      6        \u001b[36m0.6111\u001b[0m       \u001b[32m0.8830\u001b[0m        \u001b[35m0.4837\u001b[0m  0.6795\n"
     ]
    },
    {
     "name": "stdout",
     "output_type": "stream",
     "text": [
      "      7        \u001b[36m0.5696\u001b[0m       \u001b[32m0.8866\u001b[0m        \u001b[35m0.4516\u001b[0m  0.6764\n"
     ]
    },
    {
     "name": "stdout",
     "output_type": "stream",
     "text": [
      "      8        \u001b[36m0.5354\u001b[0m       \u001b[32m0.8904\u001b[0m        \u001b[35m0.4279\u001b[0m  0.6791\n"
     ]
    },
    {
     "name": "stdout",
     "output_type": "stream",
     "text": [
      "      9        \u001b[36m0.5106\u001b[0m       \u001b[32m0.8935\u001b[0m        \u001b[35m0.4091\u001b[0m  0.6770\n"
     ]
    },
    {
     "name": "stdout",
     "output_type": "stream",
     "text": [
      "     10        \u001b[36m0.4895\u001b[0m       \u001b[32m0.8971\u001b[0m        \u001b[35m0.3941\u001b[0m  0.6934\n"
     ]
    },
    {
     "name": "stdout",
     "output_type": "stream",
     "text": [
      "  epoch    train_loss    valid_acc    valid_loss     dur\n",
      "-------  ------------  -----------  ------------  ------\n",
      "      1        \u001b[36m2.0116\u001b[0m       \u001b[32m0.6912\u001b[0m        \u001b[35m1.6216\u001b[0m  0.7027\n"
     ]
    },
    {
     "name": "stdout",
     "output_type": "stream",
     "text": [
      "      2        \u001b[36m1.3268\u001b[0m       \u001b[32m0.8213\u001b[0m        \u001b[35m0.9845\u001b[0m  0.6745\n"
     ]
    },
    {
     "name": "stdout",
     "output_type": "stream",
     "text": [
      "      3        \u001b[36m0.9350\u001b[0m       \u001b[32m0.8499\u001b[0m        \u001b[35m0.7216\u001b[0m  0.6735\n"
     ]
    },
    {
     "name": "stdout",
     "output_type": "stream",
     "text": [
      "      4        \u001b[36m0.7687\u001b[0m       \u001b[32m0.8628\u001b[0m        \u001b[35m0.6014\u001b[0m  0.6779\n"
     ]
    },
    {
     "name": "stdout",
     "output_type": "stream",
     "text": [
      "      5        \u001b[36m0.6768\u001b[0m       \u001b[32m0.8718\u001b[0m        \u001b[35m0.5333\u001b[0m  0.6744\n"
     ]
    },
    {
     "name": "stdout",
     "output_type": "stream",
     "text": [
      "      6        \u001b[36m0.6146\u001b[0m       \u001b[32m0.8780\u001b[0m        \u001b[35m0.4884\u001b[0m  0.6721\n"
     ]
    },
    {
     "name": "stdout",
     "output_type": "stream",
     "text": [
      "      7        \u001b[36m0.5725\u001b[0m       \u001b[32m0.8831\u001b[0m        \u001b[35m0.4569\u001b[0m  0.6737\n"
     ]
    },
    {
     "name": "stdout",
     "output_type": "stream",
     "text": [
      "      8        \u001b[36m0.5421\u001b[0m       \u001b[32m0.8860\u001b[0m        \u001b[35m0.4333\u001b[0m  0.6722\n"
     ]
    },
    {
     "name": "stdout",
     "output_type": "stream",
     "text": [
      "      9        \u001b[36m0.5170\u001b[0m       \u001b[32m0.8898\u001b[0m        \u001b[35m0.4154\u001b[0m  0.6856\n"
     ]
    },
    {
     "name": "stdout",
     "output_type": "stream",
     "text": [
      "     10        \u001b[36m0.4950\u001b[0m       \u001b[32m0.8931\u001b[0m        \u001b[35m0.4000\u001b[0m  0.6799\n"
     ]
    },
    {
     "name": "stdout",
     "output_type": "stream",
     "text": [
      "  epoch    train_loss    valid_acc    valid_loss     dur\n",
      "-------  ------------  -----------  ------------  ------\n",
      "      1        \u001b[36m2.0168\u001b[0m       \u001b[32m0.7441\u001b[0m        \u001b[35m1.6178\u001b[0m  0.6777\n"
     ]
    },
    {
     "name": "stdout",
     "output_type": "stream",
     "text": [
      "      2        \u001b[36m1.3241\u001b[0m       \u001b[32m0.8208\u001b[0m        \u001b[35m0.9757\u001b[0m  0.6778\n"
     ]
    },
    {
     "name": "stdout",
     "output_type": "stream",
     "text": [
      "      3        \u001b[36m0.9402\u001b[0m       \u001b[32m0.8479\u001b[0m        \u001b[35m0.7201\u001b[0m  0.6809\n"
     ]
    },
    {
     "name": "stdout",
     "output_type": "stream",
     "text": [
      "      4        \u001b[36m0.7722\u001b[0m       \u001b[32m0.8646\u001b[0m        \u001b[35m0.5995\u001b[0m  0.6803\n"
     ]
    },
    {
     "name": "stdout",
     "output_type": "stream",
     "text": [
      "      5        \u001b[36m0.6802\u001b[0m       \u001b[32m0.8747\u001b[0m        \u001b[35m0.5317\u001b[0m  0.6822\n"
     ]
    },
    {
     "name": "stdout",
     "output_type": "stream",
     "text": [
      "      6        \u001b[36m0.6215\u001b[0m       \u001b[32m0.8812\u001b[0m        \u001b[35m0.4872\u001b[0m  0.6773\n"
     ]
    },
    {
     "name": "stdout",
     "output_type": "stream",
     "text": [
      "      7        \u001b[36m0.5814\u001b[0m       \u001b[32m0.8878\u001b[0m        \u001b[35m0.4556\u001b[0m  0.7595\n"
     ]
    },
    {
     "name": "stdout",
     "output_type": "stream",
     "text": [
      "      8        \u001b[36m0.5430\u001b[0m       \u001b[32m0.8900\u001b[0m        \u001b[35m0.4306\u001b[0m  0.6895\n"
     ]
    },
    {
     "name": "stdout",
     "output_type": "stream",
     "text": [
      "      9        \u001b[36m0.5195\u001b[0m       \u001b[32m0.8929\u001b[0m        \u001b[35m0.4115\u001b[0m  0.6814\n"
     ]
    },
    {
     "name": "stdout",
     "output_type": "stream",
     "text": [
      "     10        \u001b[36m0.4995\u001b[0m       \u001b[32m0.8965\u001b[0m        \u001b[35m0.3961\u001b[0m  0.6778\n"
     ]
    },
    {
     "name": "stdout",
     "output_type": "stream",
     "text": [
      "  epoch    train_loss    valid_acc    valid_loss     dur\n",
      "-------  ------------  -----------  ------------  ------\n",
      "      1        \u001b[36m2.0172\u001b[0m       \u001b[32m0.7247\u001b[0m        \u001b[35m1.6338\u001b[0m  0.6780\n"
     ]
    },
    {
     "name": "stdout",
     "output_type": "stream",
     "text": [
      "      2        \u001b[36m1.3384\u001b[0m       \u001b[32m0.8162\u001b[0m        \u001b[35m0.9926\u001b[0m  0.6868\n"
     ]
    },
    {
     "name": "stdout",
     "output_type": "stream",
     "text": [
      "      3        \u001b[36m0.9487\u001b[0m       \u001b[32m0.8481\u001b[0m        \u001b[35m0.7285\u001b[0m  0.6751\n"
     ]
    },
    {
     "name": "stdout",
     "output_type": "stream",
     "text": [
      "      4        \u001b[36m0.7783\u001b[0m       \u001b[32m0.8646\u001b[0m        \u001b[35m0.6066\u001b[0m  0.6783\n"
     ]
    },
    {
     "name": "stdout",
     "output_type": "stream",
     "text": [
      "      5        \u001b[36m0.6800\u001b[0m       \u001b[32m0.8734\u001b[0m        \u001b[35m0.5369\u001b[0m  0.6753\n"
     ]
    },
    {
     "name": "stdout",
     "output_type": "stream",
     "text": [
      "      6        \u001b[36m0.6151\u001b[0m       \u001b[32m0.8809\u001b[0m        \u001b[35m0.4912\u001b[0m  0.6753\n"
     ]
    },
    {
     "name": "stdout",
     "output_type": "stream",
     "text": [
      "      7        \u001b[36m0.5714\u001b[0m       \u001b[32m0.8853\u001b[0m        \u001b[35m0.4591\u001b[0m  0.6760\n"
     ]
    },
    {
     "name": "stdout",
     "output_type": "stream",
     "text": [
      "      8        \u001b[36m0.5455\u001b[0m       \u001b[32m0.8887\u001b[0m        \u001b[35m0.4359\u001b[0m  0.6753\n"
     ]
    },
    {
     "name": "stdout",
     "output_type": "stream",
     "text": [
      "      9        \u001b[36m0.5180\u001b[0m       \u001b[32m0.8929\u001b[0m        \u001b[35m0.4169\u001b[0m  0.6740\n"
     ]
    },
    {
     "name": "stdout",
     "output_type": "stream",
     "text": [
      "     10        \u001b[36m0.4900\u001b[0m       \u001b[32m0.8958\u001b[0m        \u001b[35m0.4011\u001b[0m  0.6753\n"
     ]
    },
    {
     "name": "stdout",
     "output_type": "stream",
     "text": [
      "  epoch    train_loss    valid_acc    valid_loss     dur\n",
      "-------  ------------  -----------  ------------  ------\n",
      "      1        \u001b[36m1.9054\u001b[0m       \u001b[32m0.8032\u001b[0m        \u001b[35m1.3810\u001b[0m  0.8394\n"
     ]
    },
    {
     "name": "stdout",
     "output_type": "stream",
     "text": [
      "      2        \u001b[36m1.1170\u001b[0m       \u001b[32m0.8540\u001b[0m        \u001b[35m0.7829\u001b[0m  0.8382\n"
     ]
    },
    {
     "name": "stdout",
     "output_type": "stream",
     "text": [
      "      3        \u001b[36m0.7842\u001b[0m       \u001b[32m0.8757\u001b[0m        \u001b[35m0.5745\u001b[0m  0.8347\n"
     ]
    },
    {
     "name": "stdout",
     "output_type": "stream",
     "text": [
      "      4        \u001b[36m0.6428\u001b[0m       \u001b[32m0.8921\u001b[0m        \u001b[35m0.4746\u001b[0m  0.8375\n"
     ]
    },
    {
     "name": "stdout",
     "output_type": "stream",
     "text": [
      "      5        \u001b[36m0.5616\u001b[0m       \u001b[32m0.8992\u001b[0m        \u001b[35m0.4176\u001b[0m  0.8316\n"
     ]
    },
    {
     "name": "stdout",
     "output_type": "stream",
     "text": [
      "      6        \u001b[36m0.5079\u001b[0m       \u001b[32m0.9045\u001b[0m        \u001b[35m0.3793\u001b[0m  0.8347\n"
     ]
    },
    {
     "name": "stdout",
     "output_type": "stream",
     "text": [
      "      7        \u001b[36m0.4721\u001b[0m       \u001b[32m0.9095\u001b[0m        \u001b[35m0.3515\u001b[0m  0.8310\n"
     ]
    },
    {
     "name": "stdout",
     "output_type": "stream",
     "text": [
      "      8        \u001b[36m0.4394\u001b[0m       \u001b[32m0.9122\u001b[0m        \u001b[35m0.3303\u001b[0m  0.8359\n"
     ]
    },
    {
     "name": "stdout",
     "output_type": "stream",
     "text": [
      "      9        \u001b[36m0.4178\u001b[0m       \u001b[32m0.9152\u001b[0m        \u001b[35m0.3140\u001b[0m  0.8413\n"
     ]
    },
    {
     "name": "stdout",
     "output_type": "stream",
     "text": [
      "     10        \u001b[36m0.3971\u001b[0m       \u001b[32m0.9174\u001b[0m        \u001b[35m0.3002\u001b[0m  0.8437\n"
     ]
    }
   ],
   "source": [
    "_ = clf.fit(X_train, y_train.to_numpy())"
   ]
  },
  {
   "cell_type": "markdown",
   "metadata": {},
   "source": [
    "## 9. Evaluate the robust model's performance"
   ]
  },
  {
   "cell_type": "code",
   "execution_count": 18,
   "metadata": {
    "execution": {
     "iopub.execute_input": "2022-03-08T22:21:58.654745Z",
     "iopub.status.busy": "2022-03-08T22:21:58.654225Z",
     "iopub.status.idle": "2022-03-08T22:21:58.857337Z",
     "shell.execute_reply": "2022-03-08T22:21:58.856798Z"
    }
   },
   "outputs": [
    {
     "data": {
      "text/plain": [
       "0.9011428571428571"
      ]
     },
     "execution_count": 18,
     "metadata": {},
     "output_type": "execute_result"
    }
   ],
   "source": [
    "from sklearn.metrics import accuracy_score\n",
    "\n",
    "y_pred = clf.predict(X_test)\n",
    "accuracy_score(y_test, y_pred)"
   ]
  },
  {
   "cell_type": "markdown",
   "metadata": {},
   "source": [
    "## What's next?"
   ]
  },
  {
   "cell_type": "markdown",
   "metadata": {},
   "source": [
    "Congratulations on completing this tutorial! Check out our following tutorial on using Cleanlab for text classification, where we found ``hundreds`` of potential label errors in one of the most well-known text datasets, the IMBDb movie review dataset!"
   ]
  }
 ],
 "metadata": {
  "interpreter": {
   "hash": "ced20e3e49bb4fa4ce8ad38f8f2535b7fc4c39b2b89554502b5dbdad1ad67eda"
  },
  "kernelspec": {
   "display_name": "Python 3.10.0 64-bit",
   "language": "python",
   "name": "python3"
  },
  "language_info": {
   "codemirror_mode": {
    "name": "ipython",
    "version": 3
   },
   "file_extension": ".py",
   "mimetype": "text/x-python",
   "name": "python",
   "nbconvert_exporter": "python",
   "pygments_lexer": "ipython3",
   "version": "3.8.12"
  }
 },
 "nbformat": 4,
 "nbformat_minor": 2
}
