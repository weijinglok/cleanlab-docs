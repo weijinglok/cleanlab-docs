{
 "cells": [
  {
   "cell_type": "markdown",
   "metadata": {},
   "source": [
    "# Image Classification with Cleanlab, PyTorch & Skorch"
   ]
  },
  {
   "cell_type": "markdown",
   "metadata": {},
   "source": [
    "This tutorial will use Cleanlab to find potential label errors in the MNIST handwritten digit image dataset. This dataset contains 60,000 images of handwritten digits from 0 to 9. We'll find *more than a thousand* highly suspicious examples with label errors and edge cases by the end of this tutorial. \n",
    "\n",
    "**Overview of what we'll do in this tutorial:**\n",
    "\n",
    "- Build a simple PyTorch neural net and wrap it with Skorch to make it scikit-learn compatible.\n",
    "\n",
    "- Compute the cross-validated predicted probabilities, ``pyx``, sometimes known as the out-of-sample predicted probabilities.\n",
    "\n",
    "- Generate a list of potential label errors with Cleanlab's ``get_noise_indices``.\n",
    "\n",
    "- Build and train a more robust model than the vanilla model after adapting it with Cleanlab's ``LearningWithNoisyLabels``. \n",
    "\n",
    "**Data:** https://www.openml.org/d/554"
   ]
  },
  {
   "cell_type": "markdown",
   "metadata": {},
   "source": [
    "## 1. Install the required dependencies"
   ]
  },
  {
   "cell_type": "markdown",
   "metadata": {},
   "source": [
    "``%%capture`` is a magic function to hides the cell's output."
   ]
  },
  {
   "cell_type": "code",
   "execution_count": 1,
   "metadata": {
    "execution": {
     "iopub.execute_input": "2022-03-08T22:38:33.486024Z",
     "iopub.status.busy": "2022-03-08T22:38:33.485814Z",
     "iopub.status.idle": "2022-03-08T22:39:00.289257Z",
     "shell.execute_reply": "2022-03-08T22:39:00.288495Z"
    }
   },
   "outputs": [],
   "source": [
    "%%capture\n",
    "\n",
    "%pip install cleanlab pandas matplotlib torch torchvision skorch"
   ]
  },
  {
   "cell_type": "markdown",
   "metadata": {},
   "source": [
    "## 2. Fetch and scale the MNIST dataset"
   ]
  },
  {
   "cell_type": "code",
   "execution_count": 2,
   "metadata": {
    "execution": {
     "iopub.execute_input": "2022-03-08T22:39:00.292854Z",
     "iopub.status.busy": "2022-03-08T22:39:00.292456Z",
     "iopub.status.idle": "2022-03-08T22:39:55.490115Z",
     "shell.execute_reply": "2022-03-08T22:39:55.489467Z"
    }
   },
   "outputs": [],
   "source": [
    "from sklearn.datasets import fetch_openml\n",
    "\n",
    "# Fetch the MNIST dataset\n",
    "mnist = fetch_openml('mnist_784')\n",
    "\n",
    "# Assign the data features and labels to variable X and y respectively \n",
    "X = mnist.data.astype('float32')\n",
    "y = mnist.target.astype('int64')\n"
   ]
  },
  {
   "cell_type": "markdown",
   "metadata": {},
   "source": [
    "<div class=\"alert alert-info\">\n",
    "\n",
    "Bringing Your Own Data (BYOD)?\n",
    "\n",
    "Assign your data's features to variable ``X`` and its labels to variable ``y`` instead.\n",
    "\n",
    "</div>"
   ]
  },
  {
   "cell_type": "code",
   "execution_count": 3,
   "metadata": {
    "execution": {
     "iopub.execute_input": "2022-03-08T22:39:55.493208Z",
     "iopub.status.busy": "2022-03-08T22:39:55.492835Z",
     "iopub.status.idle": "2022-03-08T22:39:55.611537Z",
     "shell.execute_reply": "2022-03-08T22:39:55.610930Z"
    }
   },
   "outputs": [],
   "source": [
    "\n",
    "# Scale the features which range from 0 to 255 (256 levels on the grayscale) \n",
    "X /= 255.0\n",
    "\n",
    "# Then convert it to a numpy array\n",
    "X = X.to_numpy()"
   ]
  },
  {
   "cell_type": "markdown",
   "metadata": {},
   "source": [
    "## 3. Define a classification model"
   ]
  },
  {
   "cell_type": "markdown",
   "metadata": {},
   "source": [
    "Here, we define a simple neural network with PyTorch."
   ]
  },
  {
   "cell_type": "code",
   "execution_count": 4,
   "metadata": {
    "execution": {
     "iopub.execute_input": "2022-03-08T22:39:55.614374Z",
     "iopub.status.busy": "2022-03-08T22:39:55.614213Z",
     "iopub.status.idle": "2022-03-08T22:39:55.991775Z",
     "shell.execute_reply": "2022-03-08T22:39:55.991220Z"
    }
   },
   "outputs": [],
   "source": [
    "from torch import nn\n",
    "\n",
    "class NeuralNetwork(nn.Module):\n",
    "    def __init__(self):\n",
    "        super(NeuralNetwork, self).__init__()\n",
    "        self.dropout = nn.Dropout(0.5)\n",
    "        self.hidden = nn.Linear(28*28, 128)\n",
    "        self.output = nn.Linear(128, 10)\n",
    "\n",
    "    def forward(self, X):\n",
    "        X = nn.functional.relu(self.hidden(X))\n",
    "        X = self.dropout(X)\n",
    "        X = nn.functional.softmax(self.output(X), dim=-1)\n",
    "        return X"
   ]
  },
  {
   "cell_type": "markdown",
   "metadata": {},
   "source": [
    "## 4. Wrap with Skorch for scikit-learn compatibility"
   ]
  },
  {
   "cell_type": "markdown",
   "metadata": {},
   "source": [
    "As some of Cleanlab's feature requires scikit-learn compatibility, we will need to adapt the above PyTorch neural net accordingly. Skorch is a convenient package that helps with this, read more about it here: https://skorch.readthedocs.io"
   ]
  },
  {
   "cell_type": "code",
   "execution_count": 5,
   "metadata": {
    "execution": {
     "iopub.execute_input": "2022-03-08T22:39:55.994833Z",
     "iopub.status.busy": "2022-03-08T22:39:55.994613Z",
     "iopub.status.idle": "2022-03-08T22:39:56.076154Z",
     "shell.execute_reply": "2022-03-08T22:39:56.075583Z"
    }
   },
   "outputs": [],
   "source": [
    "from skorch import NeuralNetClassifier\n",
    "\n",
    "# Wrap the PyTorch neural net around Skorch's NeuralNetClassifier wrapper\n",
    "net = NeuralNetClassifier(NeuralNetwork)"
   ]
  },
  {
   "cell_type": "markdown",
   "metadata": {},
   "source": [
    "## 5. Compute the cross-validated predicted probabilities"
   ]
  },
  {
   "cell_type": "markdown",
   "metadata": {},
   "source": [
    "If we'd like Cleanlab to identify potential label errors in the whole dataset and not just the training set, we can consider fitting the entire dataset. We will only use this model instance to compute the cross-validated predicted probabilities, ``pyx``, and not for model evaluation."
   ]
  },
  {
   "cell_type": "code",
   "execution_count": 6,
   "metadata": {
    "execution": {
     "iopub.execute_input": "2022-03-08T22:39:56.079262Z",
     "iopub.status.busy": "2022-03-08T22:39:56.079106Z",
     "iopub.status.idle": "2022-03-08T22:40:18.343079Z",
     "shell.execute_reply": "2022-03-08T22:40:18.342512Z"
    }
   },
   "outputs": [
    {
     "name": "stdout",
     "output_type": "stream",
     "text": [
      "  epoch    train_loss    valid_acc    valid_loss     dur\n",
      "-------  ------------  -----------  ------------  ------\n",
      "      1        \u001b[36m1.8121\u001b[0m       \u001b[32m0.7879\u001b[0m        \u001b[35m1.1880\u001b[0m  2.2232\n"
     ]
    },
    {
     "name": "stdout",
     "output_type": "stream",
     "text": [
      "      2        \u001b[36m0.9845\u001b[0m       \u001b[32m0.8419\u001b[0m        \u001b[35m0.6987\u001b[0m  2.2119\n"
     ]
    },
    {
     "name": "stdout",
     "output_type": "stream",
     "text": [
      "      3        \u001b[36m0.7186\u001b[0m       \u001b[32m0.8637\u001b[0m        \u001b[35m0.5492\u001b[0m  2.2058\n"
     ]
    },
    {
     "name": "stdout",
     "output_type": "stream",
     "text": [
      "      4        \u001b[36m0.6153\u001b[0m       \u001b[32m0.8778\u001b[0m        \u001b[35m0.4779\u001b[0m  2.2146\n"
     ]
    },
    {
     "name": "stdout",
     "output_type": "stream",
     "text": [
      "      5        \u001b[36m0.5469\u001b[0m       \u001b[32m0.8862\u001b[0m        \u001b[35m0.4343\u001b[0m  2.2149\n"
     ]
    },
    {
     "name": "stdout",
     "output_type": "stream",
     "text": [
      "      6        \u001b[36m0.5099\u001b[0m       \u001b[32m0.8915\u001b[0m        \u001b[35m0.4042\u001b[0m  2.2147\n"
     ]
    },
    {
     "name": "stdout",
     "output_type": "stream",
     "text": [
      "      7        \u001b[36m0.4755\u001b[0m       \u001b[32m0.8962\u001b[0m        \u001b[35m0.3817\u001b[0m  2.2137\n"
     ]
    },
    {
     "name": "stdout",
     "output_type": "stream",
     "text": [
      "      8        \u001b[36m0.4565\u001b[0m       \u001b[32m0.9004\u001b[0m        \u001b[35m0.3640\u001b[0m  2.2248\n"
     ]
    },
    {
     "name": "stdout",
     "output_type": "stream",
     "text": [
      "      9        \u001b[36m0.4338\u001b[0m       \u001b[32m0.9029\u001b[0m        \u001b[35m0.3495\u001b[0m  2.2274\n"
     ]
    },
    {
     "name": "stdout",
     "output_type": "stream",
     "text": [
      "     10        \u001b[36m0.4196\u001b[0m       \u001b[32m0.9069\u001b[0m        \u001b[35m0.3375\u001b[0m  2.2376\n"
     ]
    }
   ],
   "source": [
    "_ = net.fit(X, y)"
   ]
  },
  {
   "cell_type": "markdown",
   "metadata": {},
   "source": [
    "Compute the cross-validated predicted probabilities, ``pyx``, sometimes also known as the out-of-sample predicted probabilities."
   ]
  },
  {
   "cell_type": "code",
   "execution_count": 7,
   "metadata": {
    "execution": {
     "iopub.execute_input": "2022-03-08T22:40:18.346623Z",
     "iopub.status.busy": "2022-03-08T22:40:18.345605Z",
     "iopub.status.idle": "2022-03-08T22:40:55.095737Z",
     "shell.execute_reply": "2022-03-08T22:40:55.095178Z"
    }
   },
   "outputs": [
    {
     "name": "stdout",
     "output_type": "stream",
     "text": [
      "  epoch    train_loss    valid_acc    valid_loss     dur\n",
      "-------  ------------  -----------  ------------  ------\n",
      "      1        \u001b[36m2.0054\u001b[0m       \u001b[32m0.7198\u001b[0m        \u001b[35m1.6137\u001b[0m  1.1741\n"
     ]
    },
    {
     "name": "stdout",
     "output_type": "stream",
     "text": [
      "      2        \u001b[36m1.3025\u001b[0m       \u001b[32m0.7876\u001b[0m        \u001b[35m0.9971\u001b[0m  1.1718\n"
     ]
    },
    {
     "name": "stdout",
     "output_type": "stream",
     "text": [
      "      3        \u001b[36m0.9258\u001b[0m       \u001b[32m0.8243\u001b[0m        \u001b[35m0.7485\u001b[0m  1.2268\n"
     ]
    },
    {
     "name": "stdout",
     "output_type": "stream",
     "text": [
      "      4        \u001b[36m0.7596\u001b[0m       \u001b[32m0.8454\u001b[0m        \u001b[35m0.6303\u001b[0m  1.1696\n"
     ]
    },
    {
     "name": "stdout",
     "output_type": "stream",
     "text": [
      "      5        \u001b[36m0.6651\u001b[0m       \u001b[32m0.8577\u001b[0m        \u001b[35m0.5591\u001b[0m  1.1745\n"
     ]
    },
    {
     "name": "stdout",
     "output_type": "stream",
     "text": [
      "      6        \u001b[36m0.6053\u001b[0m       \u001b[32m0.8653\u001b[0m        \u001b[35m0.5126\u001b[0m  1.1697\n"
     ]
    },
    {
     "name": "stdout",
     "output_type": "stream",
     "text": [
      "      7        \u001b[36m0.5620\u001b[0m       \u001b[32m0.8693\u001b[0m        \u001b[35m0.4797\u001b[0m  1.1752\n"
     ]
    },
    {
     "name": "stdout",
     "output_type": "stream",
     "text": [
      "      8        \u001b[36m0.5256\u001b[0m       \u001b[32m0.8767\u001b[0m        \u001b[35m0.4534\u001b[0m  1.1772\n"
     ]
    },
    {
     "name": "stdout",
     "output_type": "stream",
     "text": [
      "      9        \u001b[36m0.5003\u001b[0m       \u001b[32m0.8799\u001b[0m        \u001b[35m0.4337\u001b[0m  1.2072\n"
     ]
    },
    {
     "name": "stdout",
     "output_type": "stream",
     "text": [
      "     10        \u001b[36m0.4785\u001b[0m       \u001b[32m0.8831\u001b[0m        \u001b[35m0.4171\u001b[0m  1.1744\n"
     ]
    },
    {
     "name": "stdout",
     "output_type": "stream",
     "text": [
      "  epoch    train_loss    valid_acc    valid_loss     dur\n",
      "-------  ------------  -----------  ------------  ------\n",
      "      1        \u001b[36m1.9992\u001b[0m       \u001b[32m0.7295\u001b[0m        \u001b[35m1.5843\u001b[0m  1.1890\n"
     ]
    },
    {
     "name": "stdout",
     "output_type": "stream",
     "text": [
      "      2        \u001b[36m1.2877\u001b[0m       \u001b[32m0.8025\u001b[0m        \u001b[35m0.9632\u001b[0m  1.2037\n"
     ]
    },
    {
     "name": "stdout",
     "output_type": "stream",
     "text": [
      "      3        \u001b[36m0.9120\u001b[0m       \u001b[32m0.8330\u001b[0m        \u001b[35m0.7166\u001b[0m  1.1774\n"
     ]
    },
    {
     "name": "stdout",
     "output_type": "stream",
     "text": [
      "      4        \u001b[36m0.7478\u001b[0m       \u001b[32m0.8538\u001b[0m        \u001b[35m0.5999\u001b[0m  1.1775\n"
     ]
    },
    {
     "name": "stdout",
     "output_type": "stream",
     "text": [
      "      5        \u001b[36m0.6551\u001b[0m       \u001b[32m0.8655\u001b[0m        \u001b[35m0.5311\u001b[0m  1.1679\n"
     ]
    },
    {
     "name": "stdout",
     "output_type": "stream",
     "text": [
      "      6        \u001b[36m0.5974\u001b[0m       \u001b[32m0.8754\u001b[0m        \u001b[35m0.4852\u001b[0m  1.1698\n"
     ]
    },
    {
     "name": "stdout",
     "output_type": "stream",
     "text": [
      "      7        \u001b[36m0.5576\u001b[0m       \u001b[32m0.8809\u001b[0m        \u001b[35m0.4534\u001b[0m  1.1697\n"
     ]
    },
    {
     "name": "stdout",
     "output_type": "stream",
     "text": [
      "      8        \u001b[36m0.5220\u001b[0m       \u001b[32m0.8869\u001b[0m        \u001b[35m0.4279\u001b[0m  1.1683\n"
     ]
    },
    {
     "name": "stdout",
     "output_type": "stream",
     "text": [
      "      9        \u001b[36m0.4984\u001b[0m       \u001b[32m0.8915\u001b[0m        \u001b[35m0.4090\u001b[0m  1.1694\n"
     ]
    },
    {
     "name": "stdout",
     "output_type": "stream",
     "text": [
      "     10        \u001b[36m0.4780\u001b[0m       \u001b[32m0.8953\u001b[0m        \u001b[35m0.3926\u001b[0m  1.1724\n"
     ]
    },
    {
     "name": "stdout",
     "output_type": "stream",
     "text": [
      "  epoch    train_loss    valid_acc    valid_loss     dur\n",
      "-------  ------------  -----------  ------------  ------\n",
      "      1        \u001b[36m2.0098\u001b[0m       \u001b[32m0.7416\u001b[0m        \u001b[35m1.5968\u001b[0m  1.1659\n"
     ]
    },
    {
     "name": "stdout",
     "output_type": "stream",
     "text": [
      "      2        \u001b[36m1.3154\u001b[0m       \u001b[32m0.8050\u001b[0m        \u001b[35m0.9652\u001b[0m  1.1673\n"
     ]
    },
    {
     "name": "stdout",
     "output_type": "stream",
     "text": [
      "      3        \u001b[36m0.9382\u001b[0m       \u001b[32m0.8398\u001b[0m        \u001b[35m0.7152\u001b[0m  1.1640\n"
     ]
    },
    {
     "name": "stdout",
     "output_type": "stream",
     "text": [
      "      4        \u001b[36m0.7691\u001b[0m       \u001b[32m0.8594\u001b[0m        \u001b[35m0.5960\u001b[0m  1.1657\n"
     ]
    },
    {
     "name": "stdout",
     "output_type": "stream",
     "text": [
      "      5        \u001b[36m0.6736\u001b[0m       \u001b[32m0.8703\u001b[0m        \u001b[35m0.5258\u001b[0m  1.1654\n"
     ]
    },
    {
     "name": "stdout",
     "output_type": "stream",
     "text": [
      "      6        \u001b[36m0.6163\u001b[0m       \u001b[32m0.8792\u001b[0m        \u001b[35m0.4801\u001b[0m  1.1689\n"
     ]
    },
    {
     "name": "stdout",
     "output_type": "stream",
     "text": [
      "      7        \u001b[36m0.5755\u001b[0m       \u001b[32m0.8864\u001b[0m        \u001b[35m0.4476\u001b[0m  1.1644\n"
     ]
    },
    {
     "name": "stdout",
     "output_type": "stream",
     "text": [
      "      8        \u001b[36m0.5431\u001b[0m       \u001b[32m0.8919\u001b[0m        \u001b[35m0.4221\u001b[0m  1.1650\n"
     ]
    },
    {
     "name": "stdout",
     "output_type": "stream",
     "text": [
      "      9        \u001b[36m0.5197\u001b[0m       \u001b[32m0.8951\u001b[0m        \u001b[35m0.4025\u001b[0m  1.1646\n"
     ]
    },
    {
     "name": "stdout",
     "output_type": "stream",
     "text": [
      "     10        \u001b[36m0.4977\u001b[0m       \u001b[32m0.8981\u001b[0m        \u001b[35m0.3865\u001b[0m  1.1650\n"
     ]
    }
   ],
   "source": [
    "from sklearn.model_selection import cross_val_predict\n",
    "\n",
    "pyx = cross_val_predict(net, X, y, cv=3, method='predict_proba')"
   ]
  },
  {
   "cell_type": "markdown",
   "metadata": {},
   "source": [
    "## 6. Run Cleanlab to find potential label errors"
   ]
  },
  {
   "cell_type": "markdown",
   "metadata": {},
   "source": [
    "Cleanlab has a ``get_noise_indices`` function to generate a list of potential label errors. Setting ``sorted_index_method=\"prob_given_label\"`` returns the indices of all the most likely label errors, sorted by the most suspicious example first."
   ]
  },
  {
   "cell_type": "code",
   "execution_count": 8,
   "metadata": {
    "execution": {
     "iopub.execute_input": "2022-03-08T22:40:55.098621Z",
     "iopub.status.busy": "2022-03-08T22:40:55.098458Z",
     "iopub.status.idle": "2022-03-08T22:40:55.430875Z",
     "shell.execute_reply": "2022-03-08T22:40:55.430235Z"
    }
   },
   "outputs": [],
   "source": [
    "from cleanlab.pruning import get_noise_indices\n",
    "\n",
    "ordered_label_errors = get_noise_indices(\n",
    "    s=y,\n",
    "    psx=pyx,\n",
    "    sorted_index_method=\"prob_given_label\"\n",
    ")"
   ]
  },
  {
   "cell_type": "markdown",
   "metadata": {},
   "source": [
    "## 7. Review some of the most likely mislabeled examples"
   ]
  },
  {
   "cell_type": "code",
   "execution_count": 9,
   "metadata": {
    "execution": {
     "iopub.execute_input": "2022-03-08T22:40:55.433911Z",
     "iopub.status.busy": "2022-03-08T22:40:55.433687Z",
     "iopub.status.idle": "2022-03-08T22:40:55.438394Z",
     "shell.execute_reply": "2022-03-08T22:40:55.437816Z"
    }
   },
   "outputs": [
    {
     "name": "stdout",
     "output_type": "stream",
     "text": [
      "Cleanlab found 1271 potential label errors. Here are the indices of the top 15 most likely ones: \n",
      " [24798 18598  8729 61790  7010 15942 55739 39457 12679 20820  1352 53216\n",
      " 39327 66091 20735]\n"
     ]
    }
   ],
   "source": [
    "print(f\"Cleanlab found {len(ordered_label_errors)} potential label errors. Here are the indices of the top 15 most likely ones: \\n {ordered_label_errors[:15]}\")"
   ]
  },
  {
   "cell_type": "markdown",
   "metadata": {},
   "source": [
    "We'll define a new ``plot_examples`` function to display any examples in a subplot conveniently."
   ]
  },
  {
   "cell_type": "code",
   "execution_count": 10,
   "metadata": {
    "execution": {
     "iopub.execute_input": "2022-03-08T22:40:55.440880Z",
     "iopub.status.busy": "2022-03-08T22:40:55.440596Z",
     "iopub.status.idle": "2022-03-08T22:40:56.074720Z",
     "shell.execute_reply": "2022-03-08T22:40:56.074171Z"
    }
   },
   "outputs": [],
   "source": [
    "import matplotlib.pyplot as plt\n",
    "\n",
    "def plot_examples(id_iter, nrows=1, ncols=1):\n",
    "    for count, id in enumerate(id_iter):\n",
    "        plt.subplot(nrows, ncols, count+1)\n",
    "        plt.imshow(X[id].reshape(28, 28))\n",
    "        plt.title(f\"id: {id} \\n label: {y[id]}\")\n",
    "        plt.axis('off')\n",
    "\n",
    "    plt.tight_layout(h_pad=2.0)"
   ]
  },
  {
   "cell_type": "markdown",
   "metadata": {},
   "source": [
    "Let's start by having an overview of the top 15 most likely label errors. From here, we can see a few label errors and edge cases. Feel free to change the parameters to display more or fewer examples. "
   ]
  },
  {
   "cell_type": "code",
   "execution_count": 11,
   "metadata": {
    "execution": {
     "iopub.execute_input": "2022-03-08T22:40:56.077822Z",
     "iopub.status.busy": "2022-03-08T22:40:56.077395Z",
     "iopub.status.idle": "2022-03-08T22:40:56.483086Z",
     "shell.execute_reply": "2022-03-08T22:40:56.482526Z"
    }
   },
   "outputs": [
    {
     "data": {
      "image/png": "[encoded data removed]",
      "text/plain": [
       "<Figure size 432x288 with 15 Axes>"
      ]
     },
     "metadata": {
      "needs_background": "light"
     },
     "output_type": "display_data"
    }
   ],
   "source": [
    "plot_examples(ordered_label_errors[range(15)], 3, 5)"
   ]
  },
  {
   "cell_type": "markdown",
   "metadata": {},
   "source": [
    "Let's zoom into specific examples:"
   ]
  },
  {
   "cell_type": "markdown",
   "metadata": {},
   "source": [
    "Given label is **4** but looks more like a **7**"
   ]
  },
  {
   "cell_type": "code",
   "execution_count": 12,
   "metadata": {
    "execution": {
     "iopub.execute_input": "2022-03-08T22:40:56.485866Z",
     "iopub.status.busy": "2022-03-08T22:40:56.485532Z",
     "iopub.status.idle": "2022-03-08T22:40:56.540451Z",
     "shell.execute_reply": "2022-03-08T22:40:56.539902Z"
    }
   },
   "outputs": [
    {
     "data": {
      "image/png": "[encoded data removed]",
      "text/plain": [
       "<Figure size 432x288 with 1 Axes>"
      ]
     },
     "metadata": {
      "needs_background": "light"
     },
     "output_type": "display_data"
    }
   ],
   "source": [
    "plot_examples([59915])"
   ]
  },
  {
   "cell_type": "markdown",
   "metadata": {},
   "source": [
    "Given label is **4** but also looks like **9**"
   ]
  },
  {
   "cell_type": "code",
   "execution_count": 13,
   "metadata": {
    "execution": {
     "iopub.execute_input": "2022-03-08T22:40:56.543277Z",
     "iopub.status.busy": "2022-03-08T22:40:56.543005Z",
     "iopub.status.idle": "2022-03-08T22:40:56.599636Z",
     "shell.execute_reply": "2022-03-08T22:40:56.599168Z"
    }
   },
   "outputs": [
    {
     "data": {
      "image/png": "[encoded data removed]",
      "text/plain": [
       "<Figure size 432x288 with 1 Axes>"
      ]
     },
     "metadata": {
      "needs_background": "light"
     },
     "output_type": "display_data"
    }
   ],
   "source": [
    "plot_examples([24798])"
   ]
  },
  {
   "cell_type": "markdown",
   "metadata": {},
   "source": [
    "Edge case of odd looking **9**s"
   ]
  },
  {
   "cell_type": "code",
   "execution_count": 14,
   "metadata": {
    "execution": {
     "iopub.execute_input": "2022-03-08T22:40:56.602588Z",
     "iopub.status.busy": "2022-03-08T22:40:56.602124Z",
     "iopub.status.idle": "2022-03-08T22:40:56.800915Z",
     "shell.execute_reply": "2022-03-08T22:40:56.800387Z"
    }
   },
   "outputs": [
    {
     "data": {
      "image/png": "[encoded data removed]",
      "text/plain": [
       "<Figure size 432x288 with 3 Axes>"
      ]
     },
     "metadata": {
      "needs_background": "light"
     },
     "output_type": "display_data"
    }
   ],
   "source": [
    "plot_examples([18598, 1352, 61247], 1, 3)"
   ]
  },
  {
   "cell_type": "markdown",
   "metadata": {},
   "source": [
    "Cleanlab has shortlisted the most likely label errors to speed up your data cleaning process. With this list, you can decide whether to fix label errors, augment edge cases or remove obscure examples. \n",
    "\n",
    "These human-in-the-loop processes may be time-consuming, so if you'd like Cleanlab to automatically remove these noisy examples and train a model directly on the partially mislabeled dataset, you're in luck! Cleanlab provides a ``LearningWithNoisyLabels`` wrapper to do precisely this:"
   ]
  },
  {
   "cell_type": "markdown",
   "metadata": {},
   "source": [
    "## 8. Adapt with Cleanlab's wrapper and train a more robust model"
   ]
  },
  {
   "cell_type": "markdown",
   "metadata": {},
   "source": [
    "First, we split the dataset into train and test subsets."
   ]
  },
  {
   "cell_type": "code",
   "execution_count": 15,
   "metadata": {
    "execution": {
     "iopub.execute_input": "2022-03-08T22:40:56.803817Z",
     "iopub.status.busy": "2022-03-08T22:40:56.803343Z",
     "iopub.status.idle": "2022-03-08T22:40:57.124906Z",
     "shell.execute_reply": "2022-03-08T22:40:57.124302Z"
    }
   },
   "outputs": [],
   "source": [
    "from sklearn.model_selection import train_test_split\n",
    "\n",
    "X_train, X_test, y_train, y_test = train_test_split(X, y, test_size=0.2)"
   ]
  },
  {
   "cell_type": "markdown",
   "metadata": {},
   "source": [
    "Re-instantiate a new scikit-learn compatible model with Skorch then wrap it with Cleanlab's ``LearningWithNoisyLabels`` wrapper."
   ]
  },
  {
   "cell_type": "code",
   "execution_count": 16,
   "metadata": {
    "execution": {
     "iopub.execute_input": "2022-03-08T22:40:57.127802Z",
     "iopub.status.busy": "2022-03-08T22:40:57.127642Z",
     "iopub.status.idle": "2022-03-08T22:40:57.130834Z",
     "shell.execute_reply": "2022-03-08T22:40:57.130238Z"
    }
   },
   "outputs": [],
   "source": [
    "from cleanlab.classification import LearningWithNoisyLabels\n",
    "\n",
    "net = NeuralNetClassifier(NeuralNetwork)\n",
    "clf = LearningWithNoisyLabels(clf=net)"
   ]
  },
  {
   "cell_type": "code",
   "execution_count": 17,
   "metadata": {
    "execution": {
     "iopub.execute_input": "2022-03-08T22:40:57.133024Z",
     "iopub.status.busy": "2022-03-08T22:40:57.132881Z",
     "iopub.status.idle": "2022-03-08T22:42:08.829654Z",
     "shell.execute_reply": "2022-03-08T22:42:08.829057Z"
    }
   },
   "outputs": [
    {
     "name": "stdout",
     "output_type": "stream",
     "text": [
      "  epoch    train_loss    valid_acc    valid_loss     dur\n",
      "-------  ------------  -----------  ------------  ------\n",
      "      1        \u001b[36m2.0238\u001b[0m       \u001b[32m0.7253\u001b[0m        \u001b[35m1.6341\u001b[0m  1.1199\n"
     ]
    },
    {
     "name": "stdout",
     "output_type": "stream",
     "text": [
      "      2        \u001b[36m1.3364\u001b[0m       \u001b[32m0.8090\u001b[0m        \u001b[35m0.9874\u001b[0m  1.1211\n"
     ]
    },
    {
     "name": "stdout",
     "output_type": "stream",
     "text": [
      "      3        \u001b[36m0.9387\u001b[0m       \u001b[32m0.8460\u001b[0m        \u001b[35m0.7207\u001b[0m  1.1198\n"
     ]
    },
    {
     "name": "stdout",
     "output_type": "stream",
     "text": [
      "      4        \u001b[36m0.7677\u001b[0m       \u001b[32m0.8648\u001b[0m        \u001b[35m0.5970\u001b[0m  1.1194\n"
     ]
    },
    {
     "name": "stdout",
     "output_type": "stream",
     "text": [
      "      5        \u001b[36m0.6697\u001b[0m       \u001b[32m0.8748\u001b[0m        \u001b[35m0.5248\u001b[0m  1.1224\n"
     ]
    },
    {
     "name": "stdout",
     "output_type": "stream",
     "text": [
      "      6        \u001b[36m0.6142\u001b[0m       \u001b[32m0.8820\u001b[0m        \u001b[35m0.4791\u001b[0m  1.1192\n"
     ]
    },
    {
     "name": "stdout",
     "output_type": "stream",
     "text": [
      "      7        \u001b[36m0.5684\u001b[0m       \u001b[32m0.8873\u001b[0m        \u001b[35m0.4455\u001b[0m  1.1884\n"
     ]
    },
    {
     "name": "stdout",
     "output_type": "stream",
     "text": [
      "      8        \u001b[36m0.5342\u001b[0m       \u001b[32m0.8912\u001b[0m        \u001b[35m0.4199\u001b[0m  1.1186\n"
     ]
    },
    {
     "name": "stdout",
     "output_type": "stream",
     "text": [
      "      9        \u001b[36m0.5097\u001b[0m       \u001b[32m0.8952\u001b[0m        \u001b[35m0.4003\u001b[0m  1.1209\n"
     ]
    },
    {
     "name": "stdout",
     "output_type": "stream",
     "text": [
      "     10        \u001b[36m0.4919\u001b[0m       \u001b[32m0.8981\u001b[0m        \u001b[35m0.3844\u001b[0m  1.1283\n"
     ]
    },
    {
     "name": "stdout",
     "output_type": "stream",
     "text": [
      "  epoch    train_loss    valid_acc    valid_loss     dur\n",
      "-------  ------------  -----------  ------------  ------\n",
      "      1        \u001b[36m1.9983\u001b[0m       \u001b[32m0.7450\u001b[0m        \u001b[35m1.5875\u001b[0m  1.1350\n"
     ]
    },
    {
     "name": "stdout",
     "output_type": "stream",
     "text": [
      "      2        \u001b[36m1.2993\u001b[0m       \u001b[32m0.8089\u001b[0m        \u001b[35m0.9700\u001b[0m  1.1195\n"
     ]
    },
    {
     "name": "stdout",
     "output_type": "stream",
     "text": [
      "      3        \u001b[36m0.9302\u001b[0m       \u001b[32m0.8423\u001b[0m        \u001b[35m0.7217\u001b[0m  1.1168\n"
     ]
    },
    {
     "name": "stdout",
     "output_type": "stream",
     "text": [
      "      4        \u001b[36m0.7673\u001b[0m       \u001b[32m0.8566\u001b[0m        \u001b[35m0.6050\u001b[0m  1.1180\n"
     ]
    },
    {
     "name": "stdout",
     "output_type": "stream",
     "text": [
      "      5        \u001b[36m0.6734\u001b[0m       \u001b[32m0.8666\u001b[0m        \u001b[35m0.5366\u001b[0m  1.1229\n"
     ]
    },
    {
     "name": "stdout",
     "output_type": "stream",
     "text": [
      "      6        \u001b[36m0.6180\u001b[0m       \u001b[32m0.8756\u001b[0m        \u001b[35m0.4909\u001b[0m  1.1174\n"
     ]
    },
    {
     "name": "stdout",
     "output_type": "stream",
     "text": [
      "      7        \u001b[36m0.5750\u001b[0m       \u001b[32m0.8814\u001b[0m        \u001b[35m0.4580\u001b[0m  1.1149\n"
     ]
    },
    {
     "name": "stdout",
     "output_type": "stream",
     "text": [
      "      8        \u001b[36m0.5399\u001b[0m       \u001b[32m0.8869\u001b[0m        \u001b[35m0.4326\u001b[0m  1.1176\n"
     ]
    },
    {
     "name": "stdout",
     "output_type": "stream",
     "text": [
      "      9        \u001b[36m0.5181\u001b[0m       \u001b[32m0.8902\u001b[0m        \u001b[35m0.4132\u001b[0m  1.1175\n"
     ]
    },
    {
     "name": "stdout",
     "output_type": "stream",
     "text": [
      "     10        \u001b[36m0.4930\u001b[0m       \u001b[32m0.8927\u001b[0m        \u001b[35m0.3968\u001b[0m  1.1188\n"
     ]
    },
    {
     "name": "stdout",
     "output_type": "stream",
     "text": [
      "  epoch    train_loss    valid_acc    valid_loss     dur\n",
      "-------  ------------  -----------  ------------  ------\n",
      "      1        \u001b[36m2.0125\u001b[0m       \u001b[32m0.7420\u001b[0m        \u001b[35m1.6096\u001b[0m  1.1222\n"
     ]
    },
    {
     "name": "stdout",
     "output_type": "stream",
     "text": [
      "      2        \u001b[36m1.3130\u001b[0m       \u001b[32m0.8183\u001b[0m        \u001b[35m0.9713\u001b[0m  1.1189\n"
     ]
    },
    {
     "name": "stdout",
     "output_type": "stream",
     "text": [
      "      3        \u001b[36m0.9279\u001b[0m       \u001b[32m0.8477\u001b[0m        \u001b[35m0.7135\u001b[0m  1.1237\n"
     ]
    },
    {
     "name": "stdout",
     "output_type": "stream",
     "text": [
      "      4        \u001b[36m0.7617\u001b[0m       \u001b[32m0.8627\u001b[0m        \u001b[35m0.5941\u001b[0m  1.1238\n"
     ]
    },
    {
     "name": "stdout",
     "output_type": "stream",
     "text": [
      "      5        \u001b[36m0.6669\u001b[0m       \u001b[32m0.8710\u001b[0m        \u001b[35m0.5255\u001b[0m  1.1250\n"
     ]
    },
    {
     "name": "stdout",
     "output_type": "stream",
     "text": [
      "      6        \u001b[36m0.6082\u001b[0m       \u001b[32m0.8781\u001b[0m        \u001b[35m0.4805\u001b[0m  1.1235\n"
     ]
    },
    {
     "name": "stdout",
     "output_type": "stream",
     "text": [
      "      7        \u001b[36m0.5698\u001b[0m       \u001b[32m0.8831\u001b[0m        \u001b[35m0.4492\u001b[0m  1.1238\n"
     ]
    },
    {
     "name": "stdout",
     "output_type": "stream",
     "text": [
      "      8        \u001b[36m0.5381\u001b[0m       \u001b[32m0.8866\u001b[0m        \u001b[35m0.4255\u001b[0m  1.1232\n"
     ]
    },
    {
     "name": "stdout",
     "output_type": "stream",
     "text": [
      "      9        \u001b[36m0.5108\u001b[0m       \u001b[32m0.8896\u001b[0m        \u001b[35m0.4059\u001b[0m  1.1236\n"
     ]
    },
    {
     "name": "stdout",
     "output_type": "stream",
     "text": [
      "     10        \u001b[36m0.4908\u001b[0m       \u001b[32m0.8934\u001b[0m        \u001b[35m0.3901\u001b[0m  1.1239\n"
     ]
    },
    {
     "name": "stdout",
     "output_type": "stream",
     "text": [
      "  epoch    train_loss    valid_acc    valid_loss     dur\n",
      "-------  ------------  -----------  ------------  ------\n",
      "      1        \u001b[36m2.0267\u001b[0m       \u001b[32m0.7211\u001b[0m        \u001b[35m1.6353\u001b[0m  1.1471\n"
     ]
    },
    {
     "name": "stdout",
     "output_type": "stream",
     "text": [
      "      2        \u001b[36m1.3403\u001b[0m       \u001b[32m0.8018\u001b[0m        \u001b[35m0.9951\u001b[0m  1.1229\n"
     ]
    },
    {
     "name": "stdout",
     "output_type": "stream",
     "text": [
      "      3        \u001b[36m0.9497\u001b[0m       \u001b[32m0.8360\u001b[0m        \u001b[35m0.7311\u001b[0m  1.1265\n"
     ]
    },
    {
     "name": "stdout",
     "output_type": "stream",
     "text": [
      "      4        \u001b[36m0.7744\u001b[0m       \u001b[32m0.8570\u001b[0m        \u001b[35m0.6042\u001b[0m  1.1254\n"
     ]
    },
    {
     "name": "stdout",
     "output_type": "stream",
     "text": [
      "      5        \u001b[36m0.6791\u001b[0m       \u001b[32m0.8685\u001b[0m        \u001b[35m0.5322\u001b[0m  1.1224\n"
     ]
    },
    {
     "name": "stdout",
     "output_type": "stream",
     "text": [
      "      6        \u001b[36m0.6196\u001b[0m       \u001b[32m0.8771\u001b[0m        \u001b[35m0.4847\u001b[0m  1.1236\n"
     ]
    },
    {
     "name": "stdout",
     "output_type": "stream",
     "text": [
      "      7        \u001b[36m0.5755\u001b[0m       \u001b[32m0.8826\u001b[0m        \u001b[35m0.4508\u001b[0m  1.1246\n"
     ]
    },
    {
     "name": "stdout",
     "output_type": "stream",
     "text": [
      "      8        \u001b[36m0.5395\u001b[0m       \u001b[32m0.8869\u001b[0m        \u001b[35m0.4259\u001b[0m  1.1226\n"
     ]
    },
    {
     "name": "stdout",
     "output_type": "stream",
     "text": [
      "      9        \u001b[36m0.5126\u001b[0m       \u001b[32m0.8905\u001b[0m        \u001b[35m0.4057\u001b[0m  1.1183\n"
     ]
    },
    {
     "name": "stdout",
     "output_type": "stream",
     "text": [
      "     10        \u001b[36m0.4919\u001b[0m       \u001b[32m0.8942\u001b[0m        \u001b[35m0.3893\u001b[0m  1.1172\n"
     ]
    },
    {
     "name": "stdout",
     "output_type": "stream",
     "text": [
      "  epoch    train_loss    valid_acc    valid_loss     dur\n",
      "-------  ------------  -----------  ------------  ------\n",
      "      1        \u001b[36m1.9823\u001b[0m       \u001b[32m0.7355\u001b[0m        \u001b[35m1.5612\u001b[0m  1.1253\n"
     ]
    },
    {
     "name": "stdout",
     "output_type": "stream",
     "text": [
      "      2        \u001b[36m1.2833\u001b[0m       \u001b[32m0.8147\u001b[0m        \u001b[35m0.9575\u001b[0m  1.1215\n"
     ]
    },
    {
     "name": "stdout",
     "output_type": "stream",
     "text": [
      "      3        \u001b[36m0.9197\u001b[0m       \u001b[32m0.8433\u001b[0m        \u001b[35m0.7132\u001b[0m  1.1227\n"
     ]
    },
    {
     "name": "stdout",
     "output_type": "stream",
     "text": [
      "      4        \u001b[36m0.7553\u001b[0m       \u001b[32m0.8585\u001b[0m        \u001b[35m0.5953\u001b[0m  1.1232\n"
     ]
    },
    {
     "name": "stdout",
     "output_type": "stream",
     "text": [
      "      5        \u001b[36m0.6697\u001b[0m       \u001b[32m0.8689\u001b[0m        \u001b[35m0.5279\u001b[0m  1.1200\n"
     ]
    },
    {
     "name": "stdout",
     "output_type": "stream",
     "text": [
      "      6        \u001b[36m0.6090\u001b[0m       \u001b[32m0.8752\u001b[0m        \u001b[35m0.4828\u001b[0m  1.1210\n"
     ]
    },
    {
     "name": "stdout",
     "output_type": "stream",
     "text": [
      "      7        \u001b[36m0.5687\u001b[0m       \u001b[32m0.8816\u001b[0m        \u001b[35m0.4510\u001b[0m  1.1233\n"
     ]
    },
    {
     "name": "stdout",
     "output_type": "stream",
     "text": [
      "      8        \u001b[36m0.5355\u001b[0m       \u001b[32m0.8862\u001b[0m        \u001b[35m0.4270\u001b[0m  1.1202\n"
     ]
    },
    {
     "name": "stdout",
     "output_type": "stream",
     "text": [
      "      9        \u001b[36m0.5076\u001b[0m       \u001b[32m0.8896\u001b[0m        \u001b[35m0.4074\u001b[0m  1.1207\n"
     ]
    },
    {
     "name": "stdout",
     "output_type": "stream",
     "text": [
      "     10        \u001b[36m0.4879\u001b[0m       \u001b[32m0.8922\u001b[0m        \u001b[35m0.3919\u001b[0m  1.1210\n"
     ]
    },
    {
     "name": "stdout",
     "output_type": "stream",
     "text": [
      "  epoch    train_loss    valid_acc    valid_loss     dur\n",
      "-------  ------------  -----------  ------------  ------\n",
      "      1        \u001b[36m1.9240\u001b[0m       \u001b[32m0.8002\u001b[0m        \u001b[35m1.4042\u001b[0m  1.3877\n"
     ]
    },
    {
     "name": "stdout",
     "output_type": "stream",
     "text": [
      "      2        \u001b[36m1.1247\u001b[0m       \u001b[32m0.8503\u001b[0m        \u001b[35m0.7951\u001b[0m  1.3758\n"
     ]
    },
    {
     "name": "stdout",
     "output_type": "stream",
     "text": [
      "      3        \u001b[36m0.7851\u001b[0m       \u001b[32m0.8730\u001b[0m        \u001b[35m0.5874\u001b[0m  1.3772\n"
     ]
    },
    {
     "name": "stdout",
     "output_type": "stream",
     "text": [
      "      4        \u001b[36m0.6448\u001b[0m       \u001b[32m0.8857\u001b[0m        \u001b[35m0.4887\u001b[0m  1.3883\n"
     ]
    },
    {
     "name": "stdout",
     "output_type": "stream",
     "text": [
      "      5        \u001b[36m0.5637\u001b[0m       \u001b[32m0.8944\u001b[0m        \u001b[35m0.4288\u001b[0m  1.3874\n"
     ]
    },
    {
     "name": "stdout",
     "output_type": "stream",
     "text": [
      "      6        \u001b[36m0.5064\u001b[0m       \u001b[32m0.9011\u001b[0m        \u001b[35m0.3895\u001b[0m  1.3847\n"
     ]
    },
    {
     "name": "stdout",
     "output_type": "stream",
     "text": [
      "      7        \u001b[36m0.4700\u001b[0m       \u001b[32m0.9059\u001b[0m        \u001b[35m0.3602\u001b[0m  1.3876\n"
     ]
    },
    {
     "name": "stdout",
     "output_type": "stream",
     "text": [
      "      8        \u001b[36m0.4398\u001b[0m       \u001b[32m0.9096\u001b[0m        \u001b[35m0.3385\u001b[0m  1.3785\n"
     ]
    },
    {
     "name": "stdout",
     "output_type": "stream",
     "text": [
      "      9        \u001b[36m0.4176\u001b[0m       \u001b[32m0.9114\u001b[0m        \u001b[35m0.3217\u001b[0m  1.3793\n"
     ]
    },
    {
     "name": "stdout",
     "output_type": "stream",
     "text": [
      "     10        \u001b[36m0.3970\u001b[0m       \u001b[32m0.9142\u001b[0m        \u001b[35m0.3074\u001b[0m  1.3901\n"
     ]
    }
   ],
   "source": [
    "_ = clf.fit(X_train, y_train.to_numpy())"
   ]
  },
  {
   "cell_type": "markdown",
   "metadata": {},
   "source": [
    "## 9. Evaluate the robust model's performance"
   ]
  },
  {
   "cell_type": "code",
   "execution_count": 18,
   "metadata": {
    "execution": {
     "iopub.execute_input": "2022-03-08T22:42:08.832440Z",
     "iopub.status.busy": "2022-03-08T22:42:08.832272Z",
     "iopub.status.idle": "2022-03-08T22:42:09.073745Z",
     "shell.execute_reply": "2022-03-08T22:42:09.073227Z"
    }
   },
   "outputs": [
    {
     "data": {
      "text/plain": [
       "0.8975714285714286"
      ]
     },
     "execution_count": 18,
     "metadata": {},
     "output_type": "execute_result"
    }
   ],
   "source": [
    "from sklearn.metrics import accuracy_score\n",
    "\n",
    "y_pred = clf.predict(X_test)\n",
    "accuracy_score(y_test, y_pred)"
   ]
  },
  {
   "cell_type": "markdown",
   "metadata": {},
   "source": [
    "## What's next?"
   ]
  },
  {
   "cell_type": "markdown",
   "metadata": {},
   "source": [
    "Congratulations on completing this tutorial! Check out our following tutorial on using Cleanlab for text classification, where we found ``hundreds`` of potential label errors in one of the most well-known text datasets, the IMBDb movie review dataset!"
   ]
  }
 ],
 "metadata": {
  "interpreter": {
   "hash": "ced20e3e49bb4fa4ce8ad38f8f2535b7fc4c39b2b89554502b5dbdad1ad67eda"
  },
  "kernelspec": {
   "display_name": "Python 3.10.0 64-bit",
   "language": "python",
   "name": "python3"
  },
  "language_info": {
   "codemirror_mode": {
    "name": "ipython",
    "version": 3
   },
   "file_extension": ".py",
   "mimetype": "text/x-python",
   "name": "python",
   "nbconvert_exporter": "python",
   "pygments_lexer": "ipython3",
   "version": "3.8.12"
  }
 },
 "nbformat": 4,
 "nbformat_minor": 2
}
