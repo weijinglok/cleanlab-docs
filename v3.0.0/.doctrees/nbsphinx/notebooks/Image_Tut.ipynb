{
 "cells": [
  {
   "cell_type": "markdown",
   "metadata": {},
   "source": [
    "# Image Classification with Cleanlab, PyTorch & Skorch"
   ]
  },
  {
   "cell_type": "markdown",
   "metadata": {},
   "source": [
    "This tutorial will use Cleanlab to find potential label errors in the MNIST handwritten digit image dataset. This dataset contains 60,000 images of handwritten digits from 0 to 9. We'll find *more than a thousand* highly suspicious examples with label errors and edge cases by the end of this tutorial. \n",
    "\n",
    "**Overview of what we'll do in this tutorial:**\n",
    "\n",
    "- Build a simple PyTorch neural net and wrap it with Skorch to make it scikit-learn compatible.\n",
    "\n",
    "- Compute the cross-validated predicted probabilities, ``pyx``, sometimes known as the out-of-sample predicted probabilities.\n",
    "\n",
    "- Generate a list of potential label errors with Cleanlab's ``get_noise_indices``.\n",
    "\n",
    "- Build and train a more robust model than the vanilla model after adapting it with Cleanlab's ``LearningWithNoisyLabels``. \n",
    "\n",
    "**Data:** https://www.openml.org/d/554"
   ]
  },
  {
   "cell_type": "markdown",
   "metadata": {},
   "source": [
    "## 1. Install the required dependencies"
   ]
  },
  {
   "cell_type": "markdown",
   "metadata": {},
   "source": [
    "``%%capture`` is a magic function to hides the cell's output."
   ]
  },
  {
   "cell_type": "code",
   "execution_count": 1,
   "metadata": {
    "execution": {
     "iopub.execute_input": "2022-03-09T19:29:52.387818Z",
     "iopub.status.busy": "2022-03-09T19:29:52.387251Z",
     "iopub.status.idle": "2022-03-09T19:30:01.537217Z",
     "shell.execute_reply": "2022-03-09T19:30:01.536270Z"
    }
   },
   "outputs": [],
   "source": [
    "%%capture\n",
    "\n",
    "%pip install cleanlab pandas matplotlib torch torchvision skorch"
   ]
  },
  {
   "cell_type": "markdown",
   "metadata": {},
   "source": [
    "## 2. Fetch and scale the MNIST dataset"
   ]
  },
  {
   "cell_type": "code",
   "execution_count": 2,
   "metadata": {
    "execution": {
     "iopub.execute_input": "2022-03-09T19:30:01.540953Z",
     "iopub.status.busy": "2022-03-09T19:30:01.540752Z",
     "iopub.status.idle": "2022-03-09T19:31:56.971313Z",
     "shell.execute_reply": "2022-03-09T19:31:56.970519Z"
    }
   },
   "outputs": [],
   "source": [
    "from sklearn.datasets import fetch_openml\n",
    "\n",
    "# Fetch the MNIST dataset\n",
    "mnist = fetch_openml('mnist_784')\n",
    "\n",
    "# Assign the data features and labels to variable X and y respectively \n",
    "X = mnist.data.astype('float32')\n",
    "y = mnist.target.astype('int64')\n"
   ]
  },
  {
   "cell_type": "markdown",
   "metadata": {},
   "source": [
    "<div class=\"alert alert-info\">\n",
    "\n",
    "Bringing Your Own Data (BYOD)?\n",
    "\n",
    "Assign your data's features to variable ``X`` and its labels to variable ``y`` instead.\n",
    "\n",
    "</div>"
   ]
  },
  {
   "cell_type": "code",
   "execution_count": 3,
   "metadata": {
    "execution": {
     "iopub.execute_input": "2022-03-09T19:31:56.974658Z",
     "iopub.status.busy": "2022-03-09T19:31:56.974468Z",
     "iopub.status.idle": "2022-03-09T19:31:57.168487Z",
     "shell.execute_reply": "2022-03-09T19:31:57.167755Z"
    }
   },
   "outputs": [],
   "source": [
    "\n",
    "# Scale the features which range from 0 to 255 (256 levels on the grayscale) \n",
    "X /= 255.0\n",
    "\n",
    "# Then convert it to a numpy array\n",
    "X = X.to_numpy()"
   ]
  },
  {
   "cell_type": "markdown",
   "metadata": {},
   "source": [
    "## 3. Define a classification model"
   ]
  },
  {
   "cell_type": "markdown",
   "metadata": {},
   "source": [
    "Here, we define a simple neural network with PyTorch."
   ]
  },
  {
   "cell_type": "code",
   "execution_count": 4,
   "metadata": {
    "execution": {
     "iopub.execute_input": "2022-03-09T19:31:57.172159Z",
     "iopub.status.busy": "2022-03-09T19:31:57.171940Z",
     "iopub.status.idle": "2022-03-09T19:31:57.749558Z",
     "shell.execute_reply": "2022-03-09T19:31:57.748221Z"
    }
   },
   "outputs": [],
   "source": [
    "from torch import nn\n",
    "\n",
    "class NeuralNetwork(nn.Module):\n",
    "    def __init__(self):\n",
    "        super(NeuralNetwork, self).__init__()\n",
    "        self.dropout = nn.Dropout(0.5)\n",
    "        self.hidden = nn.Linear(28*28, 128)\n",
    "        self.output = nn.Linear(128, 10)\n",
    "\n",
    "    def forward(self, X):\n",
    "        X = nn.functional.relu(self.hidden(X))\n",
    "        X = self.dropout(X)\n",
    "        X = nn.functional.softmax(self.output(X), dim=-1)\n",
    "        return X"
   ]
  },
  {
   "cell_type": "markdown",
   "metadata": {},
   "source": [
    "## 4. Wrap with Skorch for scikit-learn compatibility"
   ]
  },
  {
   "cell_type": "markdown",
   "metadata": {},
   "source": [
    "As some of Cleanlab's feature requires scikit-learn compatibility, we will need to adapt the above PyTorch neural net accordingly. Skorch is a convenient package that helps with this, read more about it here: https://skorch.readthedocs.io"
   ]
  },
  {
   "cell_type": "code",
   "execution_count": 5,
   "metadata": {
    "execution": {
     "iopub.execute_input": "2022-03-09T19:31:57.753197Z",
     "iopub.status.busy": "2022-03-09T19:31:57.752878Z",
     "iopub.status.idle": "2022-03-09T19:31:57.849278Z",
     "shell.execute_reply": "2022-03-09T19:31:57.848484Z"
    }
   },
   "outputs": [],
   "source": [
    "from skorch import NeuralNetClassifier\n",
    "\n",
    "# Wrap the PyTorch neural net around Skorch's NeuralNetClassifier wrapper\n",
    "net = NeuralNetClassifier(NeuralNetwork)"
   ]
  },
  {
   "cell_type": "markdown",
   "metadata": {},
   "source": [
    "## 5. Compute the cross-validated predicted probabilities"
   ]
  },
  {
   "cell_type": "markdown",
   "metadata": {},
   "source": [
    "If we'd like Cleanlab to identify potential label errors in the whole dataset and not just the training set, we can consider fitting the entire dataset. We will only use this model instance to compute the cross-validated predicted probabilities, ``pyx``, and not for model evaluation."
   ]
  },
  {
   "cell_type": "code",
   "execution_count": 6,
   "metadata": {
    "execution": {
     "iopub.execute_input": "2022-03-09T19:31:57.852532Z",
     "iopub.status.busy": "2022-03-09T19:31:57.852317Z",
     "iopub.status.idle": "2022-03-09T19:32:17.812972Z",
     "shell.execute_reply": "2022-03-09T19:32:17.811880Z"
    }
   },
   "outputs": [
    {
     "name": "stdout",
     "output_type": "stream",
     "text": [
      "  epoch    train_loss    valid_acc    valid_loss     dur\n",
      "-------  ------------  -----------  ------------  ------\n",
      "      1        \u001b[36m1.8449\u001b[0m       \u001b[32m0.7839\u001b[0m        \u001b[35m1.2383\u001b[0m  2.0029\n"
     ]
    },
    {
     "name": "stdout",
     "output_type": "stream",
     "text": [
      "      2        \u001b[36m1.0163\u001b[0m       \u001b[32m0.8371\u001b[0m        \u001b[35m0.7181\u001b[0m  1.9761\n"
     ]
    },
    {
     "name": "stdout",
     "output_type": "stream",
     "text": [
      "      3        \u001b[36m0.7405\u001b[0m       \u001b[32m0.8620\u001b[0m        \u001b[35m0.5603\u001b[0m  1.9763\n"
     ]
    },
    {
     "name": "stdout",
     "output_type": "stream",
     "text": [
      "      4        \u001b[36m0.6266\u001b[0m       \u001b[32m0.8756\u001b[0m        \u001b[35m0.4841\u001b[0m  1.9557\n"
     ]
    },
    {
     "name": "stdout",
     "output_type": "stream",
     "text": [
      "      5        \u001b[36m0.5619\u001b[0m       \u001b[32m0.8854\u001b[0m        \u001b[35m0.4393\u001b[0m  1.9853\n"
     ]
    },
    {
     "name": "stdout",
     "output_type": "stream",
     "text": [
      "      6        \u001b[36m0.5157\u001b[0m       \u001b[32m0.8919\u001b[0m        \u001b[35m0.4073\u001b[0m  2.0094\n"
     ]
    },
    {
     "name": "stdout",
     "output_type": "stream",
     "text": [
      "      7        \u001b[36m0.4818\u001b[0m       \u001b[32m0.8965\u001b[0m        \u001b[35m0.3826\u001b[0m  2.0062\n"
     ]
    },
    {
     "name": "stdout",
     "output_type": "stream",
     "text": [
      "      8        \u001b[36m0.4591\u001b[0m       \u001b[32m0.9006\u001b[0m        \u001b[35m0.3646\u001b[0m  1.9930\n"
     ]
    },
    {
     "name": "stdout",
     "output_type": "stream",
     "text": [
      "      9        \u001b[36m0.4380\u001b[0m       \u001b[32m0.9044\u001b[0m        \u001b[35m0.3486\u001b[0m  1.9843\n"
     ]
    },
    {
     "name": "stdout",
     "output_type": "stream",
     "text": [
      "     10        \u001b[36m0.4200\u001b[0m       \u001b[32m0.9076\u001b[0m        \u001b[35m0.3361\u001b[0m  1.9824\n"
     ]
    }
   ],
   "source": [
    "_ = net.fit(X, y)"
   ]
  },
  {
   "cell_type": "markdown",
   "metadata": {},
   "source": [
    "Compute the cross-validated predicted probabilities, ``pyx``, sometimes also known as the out-of-sample predicted probabilities."
   ]
  },
  {
   "cell_type": "code",
   "execution_count": 7,
   "metadata": {
    "execution": {
     "iopub.execute_input": "2022-03-09T19:32:17.816032Z",
     "iopub.status.busy": "2022-03-09T19:32:17.815721Z",
     "iopub.status.idle": "2022-03-09T19:32:46.107466Z",
     "shell.execute_reply": "2022-03-09T19:32:46.106254Z"
    }
   },
   "outputs": [
    {
     "name": "stdout",
     "output_type": "stream",
     "text": [
      "  epoch    train_loss    valid_acc    valid_loss     dur\n",
      "-------  ------------  -----------  ------------  ------\n",
      "      1        \u001b[36m1.9982\u001b[0m       \u001b[32m0.7279\u001b[0m        \u001b[35m1.5969\u001b[0m  0.8846\n"
     ]
    },
    {
     "name": "stdout",
     "output_type": "stream",
     "text": [
      "      2        \u001b[36m1.2848\u001b[0m       \u001b[32m0.7878\u001b[0m        \u001b[35m0.9776\u001b[0m  0.8608\n"
     ]
    },
    {
     "name": "stdout",
     "output_type": "stream",
     "text": [
      "      3        \u001b[36m0.9044\u001b[0m       \u001b[32m0.8249\u001b[0m        \u001b[35m0.7344\u001b[0m  0.8627\n"
     ]
    },
    {
     "name": "stdout",
     "output_type": "stream",
     "text": [
      "      4        \u001b[36m0.7391\u001b[0m       \u001b[32m0.8462\u001b[0m        \u001b[35m0.6179\u001b[0m  0.8719\n"
     ]
    },
    {
     "name": "stdout",
     "output_type": "stream",
     "text": [
      "      5        \u001b[36m0.6501\u001b[0m       \u001b[32m0.8606\u001b[0m        \u001b[35m0.5500\u001b[0m  0.8848\n"
     ]
    },
    {
     "name": "stdout",
     "output_type": "stream",
     "text": [
      "      6        \u001b[36m0.5903\u001b[0m       \u001b[32m0.8685\u001b[0m        \u001b[35m0.5055\u001b[0m  0.8913\n"
     ]
    },
    {
     "name": "stdout",
     "output_type": "stream",
     "text": [
      "      7        \u001b[36m0.5503\u001b[0m       \u001b[32m0.8734\u001b[0m        \u001b[35m0.4734\u001b[0m  0.9273\n"
     ]
    },
    {
     "name": "stdout",
     "output_type": "stream",
     "text": [
      "      8        \u001b[36m0.5202\u001b[0m       \u001b[32m0.8764\u001b[0m        \u001b[35m0.4505\u001b[0m  0.8752\n"
     ]
    },
    {
     "name": "stdout",
     "output_type": "stream",
     "text": [
      "      9        \u001b[36m0.4969\u001b[0m       \u001b[32m0.8797\u001b[0m        \u001b[35m0.4316\u001b[0m  0.8885\n"
     ]
    },
    {
     "name": "stdout",
     "output_type": "stream",
     "text": [
      "     10        \u001b[36m0.4790\u001b[0m       \u001b[32m0.8819\u001b[0m        \u001b[35m0.4166\u001b[0m  0.9687\n"
     ]
    },
    {
     "name": "stdout",
     "output_type": "stream",
     "text": [
      "  epoch    train_loss    valid_acc    valid_loss     dur\n",
      "-------  ------------  -----------  ------------  ------\n",
      "      1        \u001b[36m2.0108\u001b[0m       \u001b[32m0.7283\u001b[0m        \u001b[35m1.6080\u001b[0m  0.8751\n"
     ]
    },
    {
     "name": "stdout",
     "output_type": "stream",
     "text": [
      "      2        \u001b[36m1.3066\u001b[0m       \u001b[32m0.8032\u001b[0m        \u001b[35m0.9714\u001b[0m  0.8888\n"
     ]
    },
    {
     "name": "stdout",
     "output_type": "stream",
     "text": [
      "      3        \u001b[36m0.9217\u001b[0m       \u001b[32m0.8346\u001b[0m        \u001b[35m0.7196\u001b[0m  0.9143\n"
     ]
    },
    {
     "name": "stdout",
     "output_type": "stream",
     "text": [
      "      4        \u001b[36m0.7554\u001b[0m       \u001b[32m0.8524\u001b[0m        \u001b[35m0.6013\u001b[0m  0.8865\n"
     ]
    },
    {
     "name": "stdout",
     "output_type": "stream",
     "text": [
      "      5        \u001b[36m0.6626\u001b[0m       \u001b[32m0.8636\u001b[0m        \u001b[35m0.5318\u001b[0m  0.8803\n"
     ]
    },
    {
     "name": "stdout",
     "output_type": "stream",
     "text": [
      "      6        \u001b[36m0.6037\u001b[0m       \u001b[32m0.8743\u001b[0m        \u001b[35m0.4857\u001b[0m  0.8730\n"
     ]
    },
    {
     "name": "stdout",
     "output_type": "stream",
     "text": [
      "      7        \u001b[36m0.5568\u001b[0m       \u001b[32m0.8808\u001b[0m        \u001b[35m0.4536\u001b[0m  0.8803\n"
     ]
    },
    {
     "name": "stdout",
     "output_type": "stream",
     "text": [
      "      8        \u001b[36m0.5283\u001b[0m       \u001b[32m0.8871\u001b[0m        \u001b[35m0.4279\u001b[0m  0.8647\n"
     ]
    },
    {
     "name": "stdout",
     "output_type": "stream",
     "text": [
      "      9        \u001b[36m0.5021\u001b[0m       \u001b[32m0.8909\u001b[0m        \u001b[35m0.4092\u001b[0m  0.9129\n"
     ]
    },
    {
     "name": "stdout",
     "output_type": "stream",
     "text": [
      "     10        \u001b[36m0.4813\u001b[0m       \u001b[32m0.8951\u001b[0m        \u001b[35m0.3924\u001b[0m  0.8900\n"
     ]
    },
    {
     "name": "stdout",
     "output_type": "stream",
     "text": [
      "  epoch    train_loss    valid_acc    valid_loss     dur\n",
      "-------  ------------  -----------  ------------  ------\n",
      "      1        \u001b[36m1.9894\u001b[0m       \u001b[32m0.7344\u001b[0m        \u001b[35m1.5693\u001b[0m  0.8645\n"
     ]
    },
    {
     "name": "stdout",
     "output_type": "stream",
     "text": [
      "      2        \u001b[36m1.2989\u001b[0m       \u001b[32m0.8085\u001b[0m        \u001b[35m0.9527\u001b[0m  0.8689\n"
     ]
    },
    {
     "name": "stdout",
     "output_type": "stream",
     "text": [
      "      3        \u001b[36m0.9292\u001b[0m       \u001b[32m0.8420\u001b[0m        \u001b[35m0.7110\u001b[0m  0.9034\n"
     ]
    },
    {
     "name": "stdout",
     "output_type": "stream",
     "text": [
      "      4        \u001b[36m0.7716\u001b[0m       \u001b[32m0.8595\u001b[0m        \u001b[35m0.5969\u001b[0m  0.8928\n"
     ]
    },
    {
     "name": "stdout",
     "output_type": "stream",
     "text": [
      "      5        \u001b[36m0.6803\u001b[0m       \u001b[32m0.8692\u001b[0m        \u001b[35m0.5289\u001b[0m  0.9260\n"
     ]
    },
    {
     "name": "stdout",
     "output_type": "stream",
     "text": [
      "      6        \u001b[36m0.6246\u001b[0m       \u001b[32m0.8786\u001b[0m        \u001b[35m0.4847\u001b[0m  0.8891\n"
     ]
    },
    {
     "name": "stdout",
     "output_type": "stream",
     "text": [
      "      7        \u001b[36m0.5834\u001b[0m       \u001b[32m0.8835\u001b[0m        \u001b[35m0.4526\u001b[0m  0.8682\n"
     ]
    },
    {
     "name": "stdout",
     "output_type": "stream",
     "text": [
      "      8        \u001b[36m0.5527\u001b[0m       \u001b[32m0.8889\u001b[0m        \u001b[35m0.4272\u001b[0m  0.8821\n"
     ]
    },
    {
     "name": "stdout",
     "output_type": "stream",
     "text": [
      "      9        \u001b[36m0.5261\u001b[0m       \u001b[32m0.8925\u001b[0m        \u001b[35m0.4086\u001b[0m  0.8685\n"
     ]
    },
    {
     "name": "stdout",
     "output_type": "stream",
     "text": [
      "     10        \u001b[36m0.5040\u001b[0m       \u001b[32m0.8965\u001b[0m        \u001b[35m0.3924\u001b[0m  0.8914\n"
     ]
    }
   ],
   "source": [
    "from sklearn.model_selection import cross_val_predict\n",
    "\n",
    "pyx = cross_val_predict(net, X, y, cv=3, method='predict_proba')"
   ]
  },
  {
   "cell_type": "markdown",
   "metadata": {},
   "source": [
    "## 6. Run Cleanlab to find potential label errors"
   ]
  },
  {
   "cell_type": "markdown",
   "metadata": {},
   "source": [
    "Cleanlab has a ``get_noise_indices`` function to generate a list of potential label errors. Setting ``sorted_index_method=\"prob_given_label\"`` returns the indices of all the most likely label errors, sorted by the most suspicious example first."
   ]
  },
  {
   "cell_type": "code",
   "execution_count": 8,
   "metadata": {
    "execution": {
     "iopub.execute_input": "2022-03-09T19:32:46.111262Z",
     "iopub.status.busy": "2022-03-09T19:32:46.111055Z",
     "iopub.status.idle": "2022-03-09T19:32:46.541886Z",
     "shell.execute_reply": "2022-03-09T19:32:46.540914Z"
    }
   },
   "outputs": [],
   "source": [
    "from cleanlab.pruning import get_noise_indices\n",
    "\n",
    "ordered_label_errors = get_noise_indices(\n",
    "    s=y,\n",
    "    psx=pyx,\n",
    "    sorted_index_method=\"prob_given_label\"\n",
    ")"
   ]
  },
  {
   "cell_type": "markdown",
   "metadata": {},
   "source": [
    "## 7. Review some of the most likely mislabeled examples"
   ]
  },
  {
   "cell_type": "code",
   "execution_count": 9,
   "metadata": {
    "execution": {
     "iopub.execute_input": "2022-03-09T19:32:46.545766Z",
     "iopub.status.busy": "2022-03-09T19:32:46.545384Z",
     "iopub.status.idle": "2022-03-09T19:32:46.552465Z",
     "shell.execute_reply": "2022-03-09T19:32:46.551798Z"
    }
   },
   "outputs": [
    {
     "name": "stdout",
     "output_type": "stream",
     "text": [
      "Cleanlab found 1301 potential label errors. Here are the indices of the top 15 most likely ones: \n",
      " [24798 18598  8729 15942 12679 61790 53216 20820  7010 66091 55739 12585\n",
      "  1352 31134 20735]\n"
     ]
    }
   ],
   "source": [
    "print(f\"Cleanlab found {len(ordered_label_errors)} potential label errors. Here are the indices of the top 15 most likely ones: \\n {ordered_label_errors[:15]}\")"
   ]
  },
  {
   "cell_type": "markdown",
   "metadata": {},
   "source": [
    "We'll define a new ``plot_examples`` function to display any examples in a subplot conveniently."
   ]
  },
  {
   "cell_type": "code",
   "execution_count": 10,
   "metadata": {
    "execution": {
     "iopub.execute_input": "2022-03-09T19:32:46.556068Z",
     "iopub.status.busy": "2022-03-09T19:32:46.555865Z",
     "iopub.status.idle": "2022-03-09T19:32:48.030712Z",
     "shell.execute_reply": "2022-03-09T19:32:48.029824Z"
    }
   },
   "outputs": [],
   "source": [
    "import matplotlib.pyplot as plt\n",
    "\n",
    "def plot_examples(id_iter, nrows=1, ncols=1):\n",
    "    for count, id in enumerate(id_iter):\n",
    "        plt.subplot(nrows, ncols, count+1)\n",
    "        plt.imshow(X[id].reshape(28, 28))\n",
    "        plt.title(f\"id: {id} \\n label: {y[id]}\")\n",
    "        plt.axis('off')\n",
    "\n",
    "    plt.tight_layout(h_pad=2.0)"
   ]
  },
  {
   "cell_type": "markdown",
   "metadata": {},
   "source": [
    "Let's start by having an overview of the top 15 most likely label errors. From here, we can see a few label errors and edge cases. Feel free to change the parameters to display more or fewer examples. "
   ]
  },
  {
   "cell_type": "code",
   "execution_count": 11,
   "metadata": {
    "execution": {
     "iopub.execute_input": "2022-03-09T19:32:48.034396Z",
     "iopub.status.busy": "2022-03-09T19:32:48.034201Z",
     "iopub.status.idle": "2022-03-09T19:32:48.621640Z",
     "shell.execute_reply": "2022-03-09T19:32:48.620963Z"
    }
   },
   "outputs": [
    {
     "data": {
      "image/png": "[encoded data removed]",
      "text/plain": [
       "<Figure size 432x288 with 15 Axes>"
      ]
     },
     "metadata": {
      "needs_background": "light"
     },
     "output_type": "display_data"
    }
   ],
   "source": [
    "plot_examples(ordered_label_errors[range(15)], 3, 5)"
   ]
  },
  {
   "cell_type": "markdown",
   "metadata": {},
   "source": [
    "Let's zoom into specific examples:"
   ]
  },
  {
   "cell_type": "markdown",
   "metadata": {},
   "source": [
    "Given label is **4** but looks more like a **7**"
   ]
  },
  {
   "cell_type": "code",
   "execution_count": 12,
   "metadata": {
    "execution": {
     "iopub.execute_input": "2022-03-09T19:32:48.624764Z",
     "iopub.status.busy": "2022-03-09T19:32:48.624450Z",
     "iopub.status.idle": "2022-03-09T19:32:48.690969Z",
     "shell.execute_reply": "2022-03-09T19:32:48.690265Z"
    }
   },
   "outputs": [
    {
     "data": {
      "image/png": "[encoded data removed]",
      "text/plain": [
       "<Figure size 432x288 with 1 Axes>"
      ]
     },
     "metadata": {
      "needs_background": "light"
     },
     "output_type": "display_data"
    }
   ],
   "source": [
    "plot_examples([59915])"
   ]
  },
  {
   "cell_type": "markdown",
   "metadata": {},
   "source": [
    "Given label is **4** but also looks like **9**"
   ]
  },
  {
   "cell_type": "code",
   "execution_count": 13,
   "metadata": {
    "execution": {
     "iopub.execute_input": "2022-03-09T19:32:48.694355Z",
     "iopub.status.busy": "2022-03-09T19:32:48.693802Z",
     "iopub.status.idle": "2022-03-09T19:32:48.755769Z",
     "shell.execute_reply": "2022-03-09T19:32:48.755176Z"
    }
   },
   "outputs": [
    {
     "data": {
      "image/png": "[encoded data removed]",
      "text/plain": [
       "<Figure size 432x288 with 1 Axes>"
      ]
     },
     "metadata": {
      "needs_background": "light"
     },
     "output_type": "display_data"
    }
   ],
   "source": [
    "plot_examples([24798])"
   ]
  },
  {
   "cell_type": "markdown",
   "metadata": {},
   "source": [
    "Edge case of odd looking **9**s"
   ]
  },
  {
   "cell_type": "code",
   "execution_count": 14,
   "metadata": {
    "execution": {
     "iopub.execute_input": "2022-03-09T19:32:48.758807Z",
     "iopub.status.busy": "2022-03-09T19:32:48.758599Z",
     "iopub.status.idle": "2022-03-09T19:32:48.979520Z",
     "shell.execute_reply": "2022-03-09T19:32:48.978499Z"
    }
   },
   "outputs": [
    {
     "data": {
      "image/png": "[encoded data removed]",
      "text/plain": [
       "<Figure size 432x288 with 3 Axes>"
      ]
     },
     "metadata": {
      "needs_background": "light"
     },
     "output_type": "display_data"
    }
   ],
   "source": [
    "plot_examples([18598, 1352, 61247], 1, 3)"
   ]
  },
  {
   "cell_type": "markdown",
   "metadata": {},
   "source": [
    "Cleanlab has shortlisted the most likely label errors to speed up your data cleaning process. With this list, you can decide whether to fix label errors, augment edge cases or remove obscure examples. \n",
    "\n",
    "These human-in-the-loop processes may be time-consuming, so if you'd like Cleanlab to automatically remove these noisy examples and train a model directly on the partially mislabeled dataset, you're in luck! Cleanlab provides a ``LearningWithNoisyLabels`` wrapper to do precisely this:"
   ]
  },
  {
   "cell_type": "markdown",
   "metadata": {},
   "source": [
    "## 8. Adapt with Cleanlab's wrapper and train a more robust model"
   ]
  },
  {
   "cell_type": "markdown",
   "metadata": {},
   "source": [
    "First, we split the dataset into train and test subsets."
   ]
  },
  {
   "cell_type": "code",
   "execution_count": 15,
   "metadata": {
    "execution": {
     "iopub.execute_input": "2022-03-09T19:32:48.982527Z",
     "iopub.status.busy": "2022-03-09T19:32:48.982338Z",
     "iopub.status.idle": "2022-03-09T19:32:49.846651Z",
     "shell.execute_reply": "2022-03-09T19:32:49.845617Z"
    }
   },
   "outputs": [],
   "source": [
    "from sklearn.model_selection import train_test_split\n",
    "\n",
    "X_train, X_test, y_train, y_test = train_test_split(X, y, test_size=0.2)"
   ]
  },
  {
   "cell_type": "markdown",
   "metadata": {},
   "source": [
    "Re-instantiate a new scikit-learn compatible model with Skorch then wrap it with Cleanlab's ``LearningWithNoisyLabels`` wrapper."
   ]
  },
  {
   "cell_type": "code",
   "execution_count": 16,
   "metadata": {
    "execution": {
     "iopub.execute_input": "2022-03-09T19:32:49.850238Z",
     "iopub.status.busy": "2022-03-09T19:32:49.850045Z",
     "iopub.status.idle": "2022-03-09T19:32:49.854987Z",
     "shell.execute_reply": "2022-03-09T19:32:49.854326Z"
    }
   },
   "outputs": [],
   "source": [
    "from cleanlab.classification import LearningWithNoisyLabels\n",
    "\n",
    "net = NeuralNetClassifier(NeuralNetwork)\n",
    "clf = LearningWithNoisyLabels(clf=net)"
   ]
  },
  {
   "cell_type": "code",
   "execution_count": 17,
   "metadata": {
    "execution": {
     "iopub.execute_input": "2022-03-09T19:32:49.858902Z",
     "iopub.status.busy": "2022-03-09T19:32:49.858694Z",
     "iopub.status.idle": "2022-03-09T19:33:46.115556Z",
     "shell.execute_reply": "2022-03-09T19:33:46.114769Z"
    }
   },
   "outputs": [
    {
     "name": "stdout",
     "output_type": "stream",
     "text": [
      "  epoch    train_loss    valid_acc    valid_loss     dur\n",
      "-------  ------------  -----------  ------------  ------\n",
      "      1        \u001b[36m2.0255\u001b[0m       \u001b[32m0.7625\u001b[0m        \u001b[35m1.6280\u001b[0m  0.8520\n"
     ]
    },
    {
     "name": "stdout",
     "output_type": "stream",
     "text": [
      "      2        \u001b[36m1.3258\u001b[0m       \u001b[32m0.8266\u001b[0m        \u001b[35m0.9746\u001b[0m  0.8742\n"
     ]
    },
    {
     "name": "stdout",
     "output_type": "stream",
     "text": [
      "      3        \u001b[36m0.9345\u001b[0m       \u001b[32m0.8530\u001b[0m        \u001b[35m0.7145\u001b[0m  0.8533\n"
     ]
    },
    {
     "name": "stdout",
     "output_type": "stream",
     "text": [
      "      4        \u001b[36m0.7656\u001b[0m       \u001b[32m0.8658\u001b[0m        \u001b[35m0.5940\u001b[0m  0.8481\n"
     ]
    },
    {
     "name": "stdout",
     "output_type": "stream",
     "text": [
      "      5        \u001b[36m0.6723\u001b[0m       \u001b[32m0.8756\u001b[0m        \u001b[35m0.5254\u001b[0m  0.8454\n"
     ]
    },
    {
     "name": "stdout",
     "output_type": "stream",
     "text": [
      "      6        \u001b[36m0.6112\u001b[0m       \u001b[32m0.8814\u001b[0m        \u001b[35m0.4796\u001b[0m  0.8389\n"
     ]
    },
    {
     "name": "stdout",
     "output_type": "stream",
     "text": [
      "      7        \u001b[36m0.5659\u001b[0m       \u001b[32m0.8846\u001b[0m        \u001b[35m0.4469\u001b[0m  0.8427\n"
     ]
    },
    {
     "name": "stdout",
     "output_type": "stream",
     "text": [
      "      8        \u001b[36m0.5342\u001b[0m       \u001b[32m0.8893\u001b[0m        \u001b[35m0.4232\u001b[0m  0.8557\n"
     ]
    },
    {
     "name": "stdout",
     "output_type": "stream",
     "text": [
      "      9        \u001b[36m0.5145\u001b[0m       \u001b[32m0.8924\u001b[0m        \u001b[35m0.4041\u001b[0m  0.8455\n"
     ]
    },
    {
     "name": "stdout",
     "output_type": "stream",
     "text": [
      "     10        \u001b[36m0.4890\u001b[0m       \u001b[32m0.8950\u001b[0m        \u001b[35m0.3878\u001b[0m  0.8344\n"
     ]
    },
    {
     "name": "stdout",
     "output_type": "stream",
     "text": [
      "  epoch    train_loss    valid_acc    valid_loss     dur\n",
      "-------  ------------  -----------  ------------  ------\n",
      "      1        \u001b[36m1.9951\u001b[0m       \u001b[32m0.7296\u001b[0m        \u001b[35m1.5919\u001b[0m  0.8595\n"
     ]
    },
    {
     "name": "stdout",
     "output_type": "stream",
     "text": [
      "      2        \u001b[36m1.3003\u001b[0m       \u001b[32m0.8201\u001b[0m        \u001b[35m0.9588\u001b[0m  0.9425\n"
     ]
    },
    {
     "name": "stdout",
     "output_type": "stream",
     "text": [
      "      3        \u001b[36m0.9132\u001b[0m       \u001b[32m0.8485\u001b[0m        \u001b[35m0.7069\u001b[0m  0.8601\n"
     ]
    },
    {
     "name": "stdout",
     "output_type": "stream",
     "text": [
      "      4        \u001b[36m0.7534\u001b[0m       \u001b[32m0.8614\u001b[0m        \u001b[35m0.5916\u001b[0m  0.9118\n"
     ]
    },
    {
     "name": "stdout",
     "output_type": "stream",
     "text": [
      "      5        \u001b[36m0.6652\u001b[0m       \u001b[32m0.8717\u001b[0m        \u001b[35m0.5254\u001b[0m  0.8496\n"
     ]
    },
    {
     "name": "stdout",
     "output_type": "stream",
     "text": [
      "      6        \u001b[36m0.6033\u001b[0m       \u001b[32m0.8785\u001b[0m        \u001b[35m0.4812\u001b[0m  0.8502\n"
     ]
    },
    {
     "name": "stdout",
     "output_type": "stream",
     "text": [
      "      7        \u001b[36m0.5627\u001b[0m       \u001b[32m0.8840\u001b[0m        \u001b[35m0.4493\u001b[0m  0.8969\n"
     ]
    },
    {
     "name": "stdout",
     "output_type": "stream",
     "text": [
      "      8        \u001b[36m0.5325\u001b[0m       \u001b[32m0.8886\u001b[0m        \u001b[35m0.4256\u001b[0m  0.8555\n"
     ]
    },
    {
     "name": "stdout",
     "output_type": "stream",
     "text": [
      "      9        \u001b[36m0.5055\u001b[0m       \u001b[32m0.8922\u001b[0m        \u001b[35m0.4067\u001b[0m  0.8815\n"
     ]
    },
    {
     "name": "stdout",
     "output_type": "stream",
     "text": [
      "     10        \u001b[36m0.4868\u001b[0m       \u001b[32m0.8956\u001b[0m        \u001b[35m0.3913\u001b[0m  0.8844\n"
     ]
    },
    {
     "name": "stdout",
     "output_type": "stream",
     "text": [
      "  epoch    train_loss    valid_acc    valid_loss     dur\n",
      "-------  ------------  -----------  ------------  ------\n",
      "      1        \u001b[36m2.0280\u001b[0m       \u001b[32m0.6992\u001b[0m        \u001b[35m1.6437\u001b[0m  0.8827\n"
     ]
    },
    {
     "name": "stdout",
     "output_type": "stream",
     "text": [
      "      2        \u001b[36m1.3532\u001b[0m       \u001b[32m0.8157\u001b[0m        \u001b[35m1.0060\u001b[0m  0.8880\n"
     ]
    },
    {
     "name": "stdout",
     "output_type": "stream",
     "text": [
      "      3        \u001b[36m0.9565\u001b[0m       \u001b[32m0.8500\u001b[0m        \u001b[35m0.7319\u001b[0m  0.8893\n"
     ]
    },
    {
     "name": "stdout",
     "output_type": "stream",
     "text": [
      "      4        \u001b[36m0.7814\u001b[0m       \u001b[32m0.8661\u001b[0m        \u001b[35m0.6033\u001b[0m  0.8967\n"
     ]
    },
    {
     "name": "stdout",
     "output_type": "stream",
     "text": [
      "      5        \u001b[36m0.6825\u001b[0m       \u001b[32m0.8758\u001b[0m        \u001b[35m0.5295\u001b[0m  0.8713\n"
     ]
    },
    {
     "name": "stdout",
     "output_type": "stream",
     "text": [
      "      6        \u001b[36m0.6176\u001b[0m       \u001b[32m0.8833\u001b[0m        \u001b[35m0.4806\u001b[0m  0.8566\n"
     ]
    },
    {
     "name": "stdout",
     "output_type": "stream",
     "text": [
      "      7        \u001b[36m0.5765\u001b[0m       \u001b[32m0.8893\u001b[0m        \u001b[35m0.4466\u001b[0m  0.8855\n"
     ]
    },
    {
     "name": "stdout",
     "output_type": "stream",
     "text": [
      "      8        \u001b[36m0.5458\u001b[0m       \u001b[32m0.8929\u001b[0m        \u001b[35m0.4216\u001b[0m  0.8805\n"
     ]
    },
    {
     "name": "stdout",
     "output_type": "stream",
     "text": [
      "      9        \u001b[36m0.5136\u001b[0m       \u001b[32m0.8965\u001b[0m        \u001b[35m0.4014\u001b[0m  0.8507\n"
     ]
    },
    {
     "name": "stdout",
     "output_type": "stream",
     "text": [
      "     10        \u001b[36m0.4932\u001b[0m       \u001b[32m0.8980\u001b[0m        \u001b[35m0.3850\u001b[0m  0.8636\n"
     ]
    },
    {
     "name": "stdout",
     "output_type": "stream",
     "text": [
      "  epoch    train_loss    valid_acc    valid_loss     dur\n",
      "-------  ------------  -----------  ------------  ------\n",
      "      1        \u001b[36m2.0527\u001b[0m       \u001b[32m0.7175\u001b[0m        \u001b[35m1.6815\u001b[0m  0.8766\n"
     ]
    },
    {
     "name": "stdout",
     "output_type": "stream",
     "text": [
      "      2        \u001b[36m1.3864\u001b[0m       \u001b[32m0.8104\u001b[0m        \u001b[35m1.0254\u001b[0m  0.8774\n"
     ]
    },
    {
     "name": "stdout",
     "output_type": "stream",
     "text": [
      "      3        \u001b[36m0.9814\u001b[0m       \u001b[32m0.8450\u001b[0m        \u001b[35m0.7457\u001b[0m  0.8751\n"
     ]
    },
    {
     "name": "stdout",
     "output_type": "stream",
     "text": [
      "      4        \u001b[36m0.7958\u001b[0m       \u001b[32m0.8626\u001b[0m        \u001b[35m0.6112\u001b[0m  0.8931\n"
     ]
    },
    {
     "name": "stdout",
     "output_type": "stream",
     "text": [
      "      5        \u001b[36m0.6980\u001b[0m       \u001b[32m0.8748\u001b[0m        \u001b[35m0.5346\u001b[0m  0.8683\n"
     ]
    },
    {
     "name": "stdout",
     "output_type": "stream",
     "text": [
      "      6        \u001b[36m0.6264\u001b[0m       \u001b[32m0.8840\u001b[0m        \u001b[35m0.4841\u001b[0m  0.8717\n"
     ]
    },
    {
     "name": "stdout",
     "output_type": "stream",
     "text": [
      "      7        \u001b[36m0.5852\u001b[0m       \u001b[32m0.8900\u001b[0m        \u001b[35m0.4493\u001b[0m  0.8546\n"
     ]
    },
    {
     "name": "stdout",
     "output_type": "stream",
     "text": [
      "      8        \u001b[36m0.5484\u001b[0m       \u001b[32m0.8951\u001b[0m        \u001b[35m0.4220\u001b[0m  0.8462\n"
     ]
    },
    {
     "name": "stdout",
     "output_type": "stream",
     "text": [
      "      9        \u001b[36m0.5212\u001b[0m       \u001b[32m0.8979\u001b[0m        \u001b[35m0.4014\u001b[0m  0.8422\n"
     ]
    },
    {
     "name": "stdout",
     "output_type": "stream",
     "text": [
      "     10        \u001b[36m0.4988\u001b[0m       \u001b[32m0.9004\u001b[0m        \u001b[35m0.3843\u001b[0m  0.9097\n"
     ]
    },
    {
     "name": "stdout",
     "output_type": "stream",
     "text": [
      "  epoch    train_loss    valid_acc    valid_loss     dur\n",
      "-------  ------------  -----------  ------------  ------\n",
      "      1        \u001b[36m1.9911\u001b[0m       \u001b[32m0.7494\u001b[0m        \u001b[35m1.5717\u001b[0m  1.0017\n"
     ]
    },
    {
     "name": "stdout",
     "output_type": "stream",
     "text": [
      "      2        \u001b[36m1.2905\u001b[0m       \u001b[32m0.8234\u001b[0m        \u001b[35m0.9480\u001b[0m  0.9097\n"
     ]
    },
    {
     "name": "stdout",
     "output_type": "stream",
     "text": [
      "      3        \u001b[36m0.9104\u001b[0m       \u001b[32m0.8498\u001b[0m        \u001b[35m0.6986\u001b[0m  0.8991\n"
     ]
    },
    {
     "name": "stdout",
     "output_type": "stream",
     "text": [
      "      4        \u001b[36m0.7502\u001b[0m       \u001b[32m0.8631\u001b[0m        \u001b[35m0.5836\u001b[0m  0.8721\n"
     ]
    },
    {
     "name": "stdout",
     "output_type": "stream",
     "text": [
      "      5        \u001b[36m0.6606\u001b[0m       \u001b[32m0.8748\u001b[0m        \u001b[35m0.5166\u001b[0m  0.8743\n"
     ]
    },
    {
     "name": "stdout",
     "output_type": "stream",
     "text": [
      "      6        \u001b[36m0.6016\u001b[0m       \u001b[32m0.8820\u001b[0m        \u001b[35m0.4718\u001b[0m  0.8537\n"
     ]
    },
    {
     "name": "stdout",
     "output_type": "stream",
     "text": [
      "      7        \u001b[36m0.5557\u001b[0m       \u001b[32m0.8868\u001b[0m        \u001b[35m0.4396\u001b[0m  0.8680\n"
     ]
    },
    {
     "name": "stdout",
     "output_type": "stream",
     "text": [
      "      8        \u001b[36m0.5305\u001b[0m       \u001b[32m0.8903\u001b[0m        \u001b[35m0.4165\u001b[0m  0.8524\n"
     ]
    },
    {
     "name": "stdout",
     "output_type": "stream",
     "text": [
      "      9        \u001b[36m0.5049\u001b[0m       \u001b[32m0.8934\u001b[0m        \u001b[35m0.3979\u001b[0m  0.8593\n"
     ]
    },
    {
     "name": "stdout",
     "output_type": "stream",
     "text": [
      "     10        \u001b[36m0.4856\u001b[0m       \u001b[32m0.8960\u001b[0m        \u001b[35m0.3826\u001b[0m  0.8499\n"
     ]
    },
    {
     "name": "stdout",
     "output_type": "stream",
     "text": [
      "  epoch    train_loss    valid_acc    valid_loss     dur\n",
      "-------  ------------  -----------  ------------  ------\n",
      "      1        \u001b[36m1.9349\u001b[0m       \u001b[32m0.7751\u001b[0m        \u001b[35m1.4305\u001b[0m  1.0582\n"
     ]
    },
    {
     "name": "stdout",
     "output_type": "stream",
     "text": [
      "      2        \u001b[36m1.1446\u001b[0m       \u001b[32m0.8517\u001b[0m        \u001b[35m0.7947\u001b[0m  1.0887\n"
     ]
    },
    {
     "name": "stdout",
     "output_type": "stream",
     "text": [
      "      3        \u001b[36m0.7894\u001b[0m       \u001b[32m0.8761\u001b[0m        \u001b[35m0.5775\u001b[0m  1.0376\n"
     ]
    },
    {
     "name": "stdout",
     "output_type": "stream",
     "text": [
      "      4        \u001b[36m0.6418\u001b[0m       \u001b[32m0.8894\u001b[0m        \u001b[35m0.4778\u001b[0m  1.0473\n"
     ]
    },
    {
     "name": "stdout",
     "output_type": "stream",
     "text": [
      "      5        \u001b[36m0.5624\u001b[0m       \u001b[32m0.8988\u001b[0m        \u001b[35m0.4207\u001b[0m  1.0967\n"
     ]
    },
    {
     "name": "stdout",
     "output_type": "stream",
     "text": [
      "      6        \u001b[36m0.5128\u001b[0m       \u001b[32m0.9040\u001b[0m        \u001b[35m0.3807\u001b[0m  1.0425\n"
     ]
    },
    {
     "name": "stdout",
     "output_type": "stream",
     "text": [
      "      7        \u001b[36m0.4691\u001b[0m       \u001b[32m0.9083\u001b[0m        \u001b[35m0.3533\u001b[0m  1.0458\n"
     ]
    },
    {
     "name": "stdout",
     "output_type": "stream",
     "text": [
      "      8        \u001b[36m0.4446\u001b[0m       \u001b[32m0.9106\u001b[0m        \u001b[35m0.3328\u001b[0m  1.0441\n"
     ]
    },
    {
     "name": "stdout",
     "output_type": "stream",
     "text": [
      "      9        \u001b[36m0.4220\u001b[0m       \u001b[32m0.9132\u001b[0m        \u001b[35m0.3153\u001b[0m  1.0774\n"
     ]
    },
    {
     "name": "stdout",
     "output_type": "stream",
     "text": [
      "     10        \u001b[36m0.4015\u001b[0m       \u001b[32m0.9165\u001b[0m        \u001b[35m0.3014\u001b[0m  1.0582\n"
     ]
    }
   ],
   "source": [
    "_ = clf.fit(X_train, y_train.to_numpy())"
   ]
  },
  {
   "cell_type": "markdown",
   "metadata": {},
   "source": [
    "## 9. Evaluate the robust model's performance"
   ]
  },
  {
   "cell_type": "code",
   "execution_count": 18,
   "metadata": {
    "execution": {
     "iopub.execute_input": "2022-03-09T19:33:46.119258Z",
     "iopub.status.busy": "2022-03-09T19:33:46.119043Z",
     "iopub.status.idle": "2022-03-09T19:33:46.378597Z",
     "shell.execute_reply": "2022-03-09T19:33:46.377954Z"
    }
   },
   "outputs": [
    {
     "data": {
      "text/plain": [
       "0.8970714285714285"
      ]
     },
     "execution_count": 18,
     "metadata": {},
     "output_type": "execute_result"
    }
   ],
   "source": [
    "from sklearn.metrics import accuracy_score\n",
    "\n",
    "y_pred = clf.predict(X_test)\n",
    "accuracy_score(y_test, y_pred)"
   ]
  },
  {
   "cell_type": "markdown",
   "metadata": {},
   "source": [
    "## What's next?"
   ]
  },
  {
   "cell_type": "markdown",
   "metadata": {},
   "source": [
    "Congratulations on completing this tutorial! Check out our following tutorial on using Cleanlab for text classification, where we found *hundreds* of potential label errors in one of the most well-known text datasets, the IMBDb movie review dataset!"
   ]
  }
 ],
 "metadata": {
  "interpreter": {
   "hash": "ced20e3e49bb4fa4ce8ad38f8f2535b7fc4c39b2b89554502b5dbdad1ad67eda"
  },
  "kernelspec": {
   "display_name": "Python 3.10.0 64-bit",
   "language": "python",
   "name": "python3"
  },
  "language_info": {
   "codemirror_mode": {
    "name": "ipython",
    "version": 3
   },
   "file_extension": ".py",
   "mimetype": "text/x-python",
   "name": "python",
   "nbconvert_exporter": "python",
   "pygments_lexer": "ipython3",
   "version": "3.8.12"
  }
 },
 "nbformat": 4,
 "nbformat_minor": 2
}
