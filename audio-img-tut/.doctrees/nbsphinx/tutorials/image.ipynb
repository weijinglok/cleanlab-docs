{
 "cells": [
  {
   "cell_type": "markdown",
   "metadata": {},
   "source": [
    "# Image Classification with PyTorch and Cleanlab\n"
   ]
  },
  {
   "cell_type": "markdown",
   "metadata": {},
   "source": [
    "This 5-minute quickstart tutorial demonstrates how to find potential label errors in image classification data. Here we use the MNIST dataset containing 70,000 images of handwritten digits from 0 to 9.\n",
    "\n",
    "**Overview of what we'll do in this tutorial:**\n",
    "\n",
    "- Build a simple PyTorch neural net and wrap it with Skorch to make it scikit-learn compatible.\n",
    "\n",
    "- Use this model to compute out-of-sample predicted probabilities, `pred_probs`, via cross-validation.\n",
    "\n",
    "- Compute a list of potential label errors with Cleanlab's `find_label_issues` method.\n"
   ]
  },
  {
   "cell_type": "markdown",
   "metadata": {},
   "source": [
    "## 1. Install the required dependencies\n"
   ]
  },
  {
   "cell_type": "markdown",
   "metadata": {},
   "source": [
    "Install the following dependencies with `pip install`:\n",
    "\n",
    "1. cleanlab\n",
    "2. pandas\n",
    "3. matplotlib\n",
    "4. torch\n",
    "5. torchvision\n",
    "6. skorch\n"
   ]
  },
  {
   "cell_type": "code",
   "execution_count": 1,
   "metadata": {
    "execution": {
     "iopub.execute_input": "2022-04-05T08:16:18.345161Z",
     "iopub.status.busy": "2022-04-05T08:16:18.344750Z",
     "iopub.status.idle": "2022-04-05T08:16:19.691853Z",
     "shell.execute_reply": "2022-04-05T08:16:19.691236Z"
    },
    "nbsphinx": "hidden"
   },
   "outputs": [],
   "source": [
    "dependencies = [\"cleanlab\", \"pandas\", \"matplotlib\", \"torch\", \"torchvision\", \"skorch\"]\n",
    "\n",
    "if \"google.colab\" in str(get_ipython()):  # Check if it's running in Google Colab\n",
    "    %pip install git+https://github.com/weijinglok/cleanlab.git@372a19808472a9662f91ef27fea73ec8daecde37\n",
    "    cmd = ' '.join([dep for dep in dependencies if dep != \"cleanlab\"])\n",
    "    %pip install $cmd\n",
    "else:\n",
    "    missing_dependencies = []\n",
    "    for dependency in dependencies:\n",
    "        try:\n",
    "            __import__(dependency)\n",
    "        except ImportError:\n",
    "            missing_dependencies.append(dependency)\n",
    "\n",
    "    if len(missing_dependencies) > 0:\n",
    "        print(\"Missing required dependencies:\")\n",
    "        print(*missing_dependencies, sep=\", \")\n",
    "        print(\"\\nPlease install them before running the rest of this notebook.\")\n"
   ]
  },
  {
   "cell_type": "markdown",
   "metadata": {},
   "source": [
    "## 2. Fetch and scale the MNIST dataset\n"
   ]
  },
  {
   "cell_type": "code",
   "execution_count": 2,
   "metadata": {
    "execution": {
     "iopub.execute_input": "2022-04-05T08:16:19.695586Z",
     "iopub.status.busy": "2022-04-05T08:16:19.695244Z",
     "iopub.status.idle": "2022-04-05T08:17:11.984854Z",
     "shell.execute_reply": "2022-04-05T08:17:11.984261Z"
    }
   },
   "outputs": [],
   "source": [
    "from sklearn.datasets import fetch_openml\n",
    "\n",
    "mnist = fetch_openml(\"mnist_784\")  # Fetch the MNIST dataset\n",
    "\n",
    "X = mnist.data.astype(\"float32\").to_numpy()  # 2D numpy array of image features\n",
    "X /= 255.0  # Scale the features to the [0, 1] range\n",
    "\n",
    "y = mnist.target.astype(\"int64\").to_numpy()  # 1D numpy array of the image labels\n"
   ]
  },
  {
   "cell_type": "markdown",
   "metadata": {},
   "source": [
    "<div class=\"alert alert-info\">\n",
    "Bringing Your Own Data (BYOD)?\n",
    "\n",
    "Assign your data's features to variable `X` and its labels to variable `y` instead.\n",
    "\n",
    "</div>\n"
   ]
  },
  {
   "cell_type": "markdown",
   "metadata": {},
   "source": [
    "## 3. Define a classification model\n"
   ]
  },
  {
   "cell_type": "markdown",
   "metadata": {},
   "source": [
    "Here, we define a simple neural network with PyTorch.\n"
   ]
  },
  {
   "cell_type": "code",
   "execution_count": 3,
   "metadata": {
    "execution": {
     "iopub.execute_input": "2022-04-05T08:17:11.988465Z",
     "iopub.status.busy": "2022-04-05T08:17:11.988143Z",
     "iopub.status.idle": "2022-04-05T08:17:11.993700Z",
     "shell.execute_reply": "2022-04-05T08:17:11.993251Z"
    }
   },
   "outputs": [],
   "source": [
    "from torch import nn\n",
    "\n",
    "model = nn.Sequential(\n",
    "    nn.Linear(28 * 28, 128),\n",
    "    nn.ReLU(),\n",
    "    nn.Dropout(0.5),\n",
    "    nn.Linear(128, 10),\n",
    "    nn.Softmax(dim=-1),\n",
    ")\n"
   ]
  },
  {
   "cell_type": "markdown",
   "metadata": {},
   "source": [
    "## 4. Ensure your classifier is scikit-learn compatible\n"
   ]
  },
  {
   "cell_type": "markdown",
   "metadata": {},
   "source": [
    "As some of Cleanlab's features requires scikit-learn compatibility, we will need to adapt the above PyTorch neural net accordingly. [Skorch](https://skorch.readthedocs.io) is a convenient package that helps with this. You can also easily wrap an arbitrary model to be scikit-learn compatible as demonstrated [here](https://github.com/cleanlab/cleanlab#use-cleanlab-with-any-model-tensorflow-pytorch-sklearn-xgboost-etc).\n"
   ]
  },
  {
   "cell_type": "code",
   "execution_count": 4,
   "metadata": {
    "execution": {
     "iopub.execute_input": "2022-04-05T08:17:11.996391Z",
     "iopub.status.busy": "2022-04-05T08:17:11.995934Z",
     "iopub.status.idle": "2022-04-05T08:17:11.998751Z",
     "shell.execute_reply": "2022-04-05T08:17:11.998248Z"
    }
   },
   "outputs": [],
   "source": [
    "from skorch import NeuralNetClassifier\n",
    "\n",
    "model_skorch = NeuralNetClassifier(model)\n"
   ]
  },
  {
   "cell_type": "markdown",
   "metadata": {},
   "source": [
    "## 5. Compute out-of-sample predicted probabilities\n"
   ]
  },
  {
   "cell_type": "markdown",
   "metadata": {},
   "source": [
    "If we'd like Cleanlab to identify potential label errors in the whole dataset and not just the training set, we can consider using the entire dataset when computing the out-of-sample predicted probabilities, `pred_probs`, via cross-validation.\n"
   ]
  },
  {
   "cell_type": "code",
   "execution_count": 5,
   "metadata": {
    "execution": {
     "iopub.execute_input": "2022-04-05T08:17:12.001435Z",
     "iopub.status.busy": "2022-04-05T08:17:12.001038Z",
     "iopub.status.idle": "2022-04-05T08:17:32.793887Z",
     "shell.execute_reply": "2022-04-05T08:17:32.793263Z"
    }
   },
   "outputs": [
    {
     "name": "stdout",
     "output_type": "stream",
     "text": [
      "  epoch    train_loss    valid_acc    valid_loss     dur\n",
      "-------  ------------  -----------  ------------  ------\n",
      "      1        \u001b[36m1.9612\u001b[0m       \u001b[32m0.7301\u001b[0m        \u001b[35m1.5392\u001b[0m  0.6671\n"
     ]
    },
    {
     "name": "stdout",
     "output_type": "stream",
     "text": [
      "      2        \u001b[36m1.2458\u001b[0m       \u001b[32m0.8020\u001b[0m        \u001b[35m0.9548\u001b[0m  0.6396\n"
     ]
    },
    {
     "name": "stdout",
     "output_type": "stream",
     "text": [
      "      3        \u001b[36m0.8916\u001b[0m       \u001b[32m0.8325\u001b[0m        \u001b[35m0.7263\u001b[0m  0.6608\n"
     ]
    },
    {
     "name": "stdout",
     "output_type": "stream",
     "text": [
      "      4        \u001b[36m0.7343\u001b[0m       \u001b[32m0.8486\u001b[0m        \u001b[35m0.6149\u001b[0m  0.6548\n"
     ]
    },
    {
     "name": "stdout",
     "output_type": "stream",
     "text": [
      "      5        \u001b[36m0.6478\u001b[0m       \u001b[32m0.8601\u001b[0m        \u001b[35m0.5504\u001b[0m  0.6547\n"
     ]
    },
    {
     "name": "stdout",
     "output_type": "stream",
     "text": [
      "      6        \u001b[36m0.5907\u001b[0m       \u001b[32m0.8680\u001b[0m        \u001b[35m0.5057\u001b[0m  0.6498\n"
     ]
    },
    {
     "name": "stdout",
     "output_type": "stream",
     "text": [
      "      7        \u001b[36m0.5524\u001b[0m       \u001b[32m0.8726\u001b[0m        \u001b[35m0.4742\u001b[0m  0.6410\n"
     ]
    },
    {
     "name": "stdout",
     "output_type": "stream",
     "text": [
      "      8        \u001b[36m0.5176\u001b[0m       \u001b[32m0.8759\u001b[0m        \u001b[35m0.4493\u001b[0m  0.6799\n"
     ]
    },
    {
     "name": "stdout",
     "output_type": "stream",
     "text": [
      "      9        \u001b[36m0.4970\u001b[0m       \u001b[32m0.8809\u001b[0m        \u001b[35m0.4304\u001b[0m  0.6466\n"
     ]
    },
    {
     "name": "stdout",
     "output_type": "stream",
     "text": [
      "     10        \u001b[36m0.4737\u001b[0m       \u001b[32m0.8832\u001b[0m        \u001b[35m0.4138\u001b[0m  0.6416\n"
     ]
    },
    {
     "name": "stdout",
     "output_type": "stream",
     "text": [
      "  epoch    train_loss    valid_acc    valid_loss     dur\n",
      "-------  ------------  -----------  ------------  ------\n",
      "      1        \u001b[36m1.9546\u001b[0m       \u001b[32m0.7534\u001b[0m        \u001b[35m1.5132\u001b[0m  0.6417\n"
     ]
    },
    {
     "name": "stdout",
     "output_type": "stream",
     "text": [
      "      2        \u001b[36m1.2363\u001b[0m       \u001b[32m0.8149\u001b[0m        \u001b[35m0.9241\u001b[0m  0.6473\n"
     ]
    },
    {
     "name": "stdout",
     "output_type": "stream",
     "text": [
      "      3        \u001b[36m0.8879\u001b[0m       \u001b[32m0.8429\u001b[0m        \u001b[35m0.6960\u001b[0m  0.6388\n"
     ]
    },
    {
     "name": "stdout",
     "output_type": "stream",
     "text": [
      "      4        \u001b[36m0.7339\u001b[0m       \u001b[32m0.8563\u001b[0m        \u001b[35m0.5869\u001b[0m  0.6428\n"
     ]
    },
    {
     "name": "stdout",
     "output_type": "stream",
     "text": [
      "      5        \u001b[36m0.6471\u001b[0m       \u001b[32m0.8689\u001b[0m        \u001b[35m0.5216\u001b[0m  0.6500\n"
     ]
    },
    {
     "name": "stdout",
     "output_type": "stream",
     "text": [
      "      6        \u001b[36m0.5930\u001b[0m       \u001b[32m0.8769\u001b[0m        \u001b[35m0.4789\u001b[0m  0.6430\n"
     ]
    },
    {
     "name": "stdout",
     "output_type": "stream",
     "text": [
      "      7        \u001b[36m0.5482\u001b[0m       \u001b[32m0.8835\u001b[0m        \u001b[35m0.4465\u001b[0m  0.6467\n"
     ]
    },
    {
     "name": "stdout",
     "output_type": "stream",
     "text": [
      "      8        \u001b[36m0.5169\u001b[0m       \u001b[32m0.8864\u001b[0m        \u001b[35m0.4234\u001b[0m  0.6483\n"
     ]
    },
    {
     "name": "stdout",
     "output_type": "stream",
     "text": [
      "      9        \u001b[36m0.4931\u001b[0m       \u001b[32m0.8923\u001b[0m        \u001b[35m0.4034\u001b[0m  0.6448\n"
     ]
    },
    {
     "name": "stdout",
     "output_type": "stream",
     "text": [
      "     10        \u001b[36m0.4723\u001b[0m       \u001b[32m0.8950\u001b[0m        \u001b[35m0.3875\u001b[0m  0.6446\n"
     ]
    },
    {
     "name": "stdout",
     "output_type": "stream",
     "text": [
      "  epoch    train_loss    valid_acc    valid_loss     dur\n",
      "-------  ------------  -----------  ------------  ------\n",
      "      1        \u001b[36m1.9730\u001b[0m       \u001b[32m0.7506\u001b[0m        \u001b[35m1.5337\u001b[0m  0.6452\n"
     ]
    },
    {
     "name": "stdout",
     "output_type": "stream",
     "text": [
      "      2        \u001b[36m1.2673\u001b[0m       \u001b[32m0.8110\u001b[0m        \u001b[35m0.9360\u001b[0m  0.6462\n"
     ]
    },
    {
     "name": "stdout",
     "output_type": "stream",
     "text": [
      "      3        \u001b[36m0.9152\u001b[0m       \u001b[32m0.8458\u001b[0m        \u001b[35m0.7018\u001b[0m  0.6524\n"
     ]
    },
    {
     "name": "stdout",
     "output_type": "stream",
     "text": [
      "      4        \u001b[36m0.7584\u001b[0m       \u001b[32m0.8634\u001b[0m        \u001b[35m0.5869\u001b[0m  0.6451\n"
     ]
    },
    {
     "name": "stdout",
     "output_type": "stream",
     "text": [
      "      5        \u001b[36m0.6724\u001b[0m       \u001b[32m0.8747\u001b[0m        \u001b[35m0.5204\u001b[0m  0.6376\n"
     ]
    },
    {
     "name": "stdout",
     "output_type": "stream",
     "text": [
      "      6        \u001b[36m0.6125\u001b[0m       \u001b[32m0.8825\u001b[0m        \u001b[35m0.4752\u001b[0m  0.6434\n"
     ]
    },
    {
     "name": "stdout",
     "output_type": "stream",
     "text": [
      "      7        \u001b[36m0.5727\u001b[0m       \u001b[32m0.8885\u001b[0m        \u001b[35m0.4432\u001b[0m  0.6399\n"
     ]
    },
    {
     "name": "stdout",
     "output_type": "stream",
     "text": [
      "      8        \u001b[36m0.5420\u001b[0m       \u001b[32m0.8920\u001b[0m        \u001b[35m0.4189\u001b[0m  0.6406\n"
     ]
    },
    {
     "name": "stdout",
     "output_type": "stream",
     "text": [
      "      9        \u001b[36m0.5127\u001b[0m       \u001b[32m0.8962\u001b[0m        \u001b[35m0.3984\u001b[0m  0.6401\n"
     ]
    },
    {
     "name": "stdout",
     "output_type": "stream",
     "text": [
      "     10        \u001b[36m0.4964\u001b[0m       \u001b[32m0.8995\u001b[0m        \u001b[35m0.3828\u001b[0m  0.7018\n"
     ]
    }
   ],
   "source": [
    "from sklearn.model_selection import cross_val_predict\n",
    "\n",
    "pred_probs = cross_val_predict(model_skorch, X, y, cv=3, method=\"predict_proba\")\n"
   ]
  },
  {
   "cell_type": "markdown",
   "metadata": {},
   "source": [
    "## 6. Run Cleanlab to find potential label errors\n"
   ]
  },
  {
   "cell_type": "markdown",
   "metadata": {},
   "source": [
    "Cleanlab has a `find_label_issues` function to generate a list of potential label errors. Setting `return_indices_ranked_by=\"self_confidence\"` returns the indices of all the most likely label errors, sorted by the most suspicious example first.\n"
   ]
  },
  {
   "cell_type": "code",
   "execution_count": 6,
   "metadata": {
    "execution": {
     "iopub.execute_input": "2022-04-05T08:17:32.799749Z",
     "iopub.status.busy": "2022-04-05T08:17:32.799451Z",
     "iopub.status.idle": "2022-04-05T08:17:33.852712Z",
     "shell.execute_reply": "2022-04-05T08:17:33.851981Z"
    }
   },
   "outputs": [],
   "source": [
    "from cleanlab.filter import find_label_issues\n",
    "\n",
    "ranked_label_issues = find_label_issues(y, pred_probs, return_indices_ranked_by=\"self_confidence\")\n"
   ]
  },
  {
   "cell_type": "markdown",
   "metadata": {},
   "source": [
    "## 7. Review some of the most likely mislabeled examples\n"
   ]
  },
  {
   "cell_type": "code",
   "execution_count": 7,
   "metadata": {
    "execution": {
     "iopub.execute_input": "2022-04-05T08:17:33.858268Z",
     "iopub.status.busy": "2022-04-05T08:17:33.857993Z",
     "iopub.status.idle": "2022-04-05T08:17:33.861637Z",
     "shell.execute_reply": "2022-04-05T08:17:33.861278Z"
    }
   },
   "outputs": [
    {
     "name": "stdout",
     "output_type": "stream",
     "text": [
      "Cleanlab found 1259 potential label errors.\n",
      "Here are the indices of the top 15 most likely ones: \n",
      " [24798 18598  8729 61790  1352 59915 12679 15942 20820 66091 53216 26882\n",
      " 31134 55739 20735]\n"
     ]
    }
   ],
   "source": [
    "print(f\"Cleanlab found {len(ranked_label_issues)} potential label errors.\")\n",
    "print(f\"Here are the indices of the top 15 most likely ones: \\n {ranked_label_issues[:15]}\")\n"
   ]
  },
  {
   "cell_type": "markdown",
   "metadata": {},
   "source": [
    "We'll define a new `plot_examples` function to display any examples in a subplot conveniently.\n"
   ]
  },
  {
   "cell_type": "raw",
   "metadata": {},
   "source": [
    "<!-- This cell is for the collapsible block in the doc site -->\n",
    "\n",
    "<details>\n",
    "    <summary markdown=\"1\">Click here to view its code.</summary>"
   ]
  },
  {
   "cell_type": "code",
   "execution_count": 8,
   "metadata": {
    "execution": {
     "iopub.execute_input": "2022-04-05T08:17:33.864558Z",
     "iopub.status.busy": "2022-04-05T08:17:33.864294Z",
     "iopub.status.idle": "2022-04-05T08:17:37.376388Z",
     "shell.execute_reply": "2022-04-05T08:17:37.375718Z"
    }
   },
   "outputs": [],
   "source": [
    "import matplotlib.pyplot as plt\n",
    "\n",
    "\n",
    "def plot_examples(id_iter, nrows=1, ncols=1):\n",
    "    for count, id in enumerate(id_iter):\n",
    "        plt.subplot(nrows, ncols, count + 1)\n",
    "        plt.imshow(X[id].reshape(28, 28), cmap=\"gray\")\n",
    "        plt.title(f\"id: {id} \\n label: {y[id]}\")\n",
    "        plt.axis(\"off\")\n",
    "\n",
    "    plt.tight_layout(h_pad=2.0)\n"
   ]
  },
  {
   "cell_type": "raw",
   "metadata": {},
   "source": [
    "<!-- This cell is for the collapsible block in the doc site -->\n",
    "\n",
    "</details>"
   ]
  },
  {
   "cell_type": "markdown",
   "metadata": {},
   "source": [
    "Let's start by having an overview of the top 15 most likely label errors. From here, we can see a few label errors and edge cases. Feel free to change the parameters to display more or fewer examples.\n"
   ]
  },
  {
   "cell_type": "code",
   "execution_count": 9,
   "metadata": {
    "execution": {
     "iopub.execute_input": "2022-04-05T08:17:37.380209Z",
     "iopub.status.busy": "2022-04-05T08:17:37.379865Z",
     "iopub.status.idle": "2022-04-05T08:17:37.943078Z",
     "shell.execute_reply": "2022-04-05T08:17:37.942402Z"
    }
   },
   "outputs": [
    {
     "data": {
      "image/png": "[encoded data removed]",
      "text/plain": [
       "<Figure size 432x288 with 15 Axes>"
      ]
     },
     "metadata": {
      "needs_background": "light"
     },
     "output_type": "display_data"
    }
   ],
   "source": [
    "plot_examples(ranked_label_issues[range(15)], 3, 5)\n"
   ]
  },
  {
   "cell_type": "markdown",
   "metadata": {},
   "source": [
    "Let's zoom into specific examples:\n"
   ]
  },
  {
   "cell_type": "markdown",
   "metadata": {},
   "source": [
    "Given label is **4** but looks more like a **7**\n"
   ]
  },
  {
   "cell_type": "code",
   "execution_count": 10,
   "metadata": {
    "execution": {
     "iopub.execute_input": "2022-04-05T08:17:37.946485Z",
     "iopub.status.busy": "2022-04-05T08:17:37.946059Z",
     "iopub.status.idle": "2022-04-05T08:17:38.000489Z",
     "shell.execute_reply": "2022-04-05T08:17:38.000046Z"
    }
   },
   "outputs": [
    {
     "data": {
      "image/png": "[encoded data removed]",
      "text/plain": [
       "<Figure size 432x288 with 1 Axes>"
      ]
     },
     "metadata": {
      "needs_background": "light"
     },
     "output_type": "display_data"
    }
   ],
   "source": [
    "plot_examples([59915])\n"
   ]
  },
  {
   "cell_type": "markdown",
   "metadata": {},
   "source": [
    "Given label is **4** but also looks like **9**\n"
   ]
  },
  {
   "cell_type": "code",
   "execution_count": 11,
   "metadata": {
    "execution": {
     "iopub.execute_input": "2022-04-05T08:17:38.003697Z",
     "iopub.status.busy": "2022-04-05T08:17:38.003158Z",
     "iopub.status.idle": "2022-04-05T08:17:38.050196Z",
     "shell.execute_reply": "2022-04-05T08:17:38.049767Z"
    }
   },
   "outputs": [
    {
     "data": {
      "image/png": "[encoded data removed]",
      "text/plain": [
       "<Figure size 432x288 with 1 Axes>"
      ]
     },
     "metadata": {
      "needs_background": "light"
     },
     "output_type": "display_data"
    }
   ],
   "source": [
    "plot_examples([24798])\n"
   ]
  },
  {
   "cell_type": "markdown",
   "metadata": {},
   "source": [
    "Edge case of odd looking **9**s\n"
   ]
  },
  {
   "cell_type": "code",
   "execution_count": 12,
   "metadata": {
    "execution": {
     "iopub.execute_input": "2022-04-05T08:17:38.053060Z",
     "iopub.status.busy": "2022-04-05T08:17:38.052748Z",
     "iopub.status.idle": "2022-04-05T08:17:38.174471Z",
     "shell.execute_reply": "2022-04-05T08:17:38.174010Z"
    }
   },
   "outputs": [
    {
     "data": {
      "image/png": "[encoded data removed]",
      "text/plain": [
       "<Figure size 432x288 with 3 Axes>"
      ]
     },
     "metadata": {
      "needs_background": "light"
     },
     "output_type": "display_data"
    }
   ],
   "source": [
    "plot_examples([18598, 1352, 61247], 1, 3)\n"
   ]
  },
  {
   "cell_type": "markdown",
   "metadata": {},
   "source": [
    "Cleanlab has shortlisted the most likely label errors to speed up your data cleaning process. With this list, you can decide whether to fix label errors, augment edge cases, or remove obscure examples.\n"
   ]
  }
 ],
 "metadata": {
  "interpreter": {
   "hash": "ced20e3e49bb4fa4ce8ad38f8f2535b7fc4c39b2b89554502b5dbdad1ad67eda"
  },
  "kernelspec": {
   "display_name": "Python 3.10.0 64-bit",
   "language": "python",
   "name": "python3"
  },
  "language_info": {
   "codemirror_mode": {
    "name": "ipython",
    "version": 3
   },
   "file_extension": ".py",
   "mimetype": "text/x-python",
   "name": "python",
   "nbconvert_exporter": "python",
   "pygments_lexer": "ipython3",
   "version": "3.8.12"
  }
 },
 "nbformat": 4,
 "nbformat_minor": 2
}
