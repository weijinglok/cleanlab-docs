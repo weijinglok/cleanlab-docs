{
 "cells": [
  {
   "cell_type": "markdown",
   "metadata": {
    "id": "uKlKumjJyIAL"
   },
   "source": [
    "# Find Dataset-level Issues for Dataset Curation\n",
    "\n",
    "This tutorial shows how `cleanlab.dataset.health_summary()` helps you automatically:\n",
    "\n",
    "- Score and rank the overall label quality of each class, useful for deciding whether to remove or keep certain classes.\n",
    "- Identify overlapping classes that you can merge to make the learning task less ambiguous.\n",
    "- Generate an overall dataset and label quality health score to track improvements in your labels over time as you clean your datasets."
   ]
  },
  {
   "cell_type": "markdown",
   "metadata": {},
   "source": [
    "## Install dependencies and import them"
   ]
  },
  {
   "cell_type": "markdown",
   "metadata": {},
   "source": [
    "You can use pip to install all packages required for this tutorial as follows:\n",
    "\n",
    "```\n",
    "!pip install requests\n",
    "!pip install cleanlab\n",
    "# Make sure to install the version corresponding to this tutorial\n",
    "# E.g. if viewing master branch documentation:\n",
    "#     !pip install git+https://github.com/cleanlab/cleanlab.git\n",
    "```"
   ]
  },
  {
   "cell_type": "code",
   "execution_count": null,
   "metadata": {
    "nbsphinx": "hidden"
   },
   "outputs": [],
   "source": [
    "# Package installation (hidden on docs website).\n",
    "dependencies = [\"cleanlab\", \"requests\"]\n",
    "\n",
    "if \"google.colab\" in str(get_ipython()):  # Check if it's running in Google Colab\n",
    "    %pip install cleanlab==test-new-tf-tag\n",
    "    cmd = ' '.join([dep for dep in dependencies if dep != \"cleanlab\"])\n",
    "    %pip install $cmd\n",
    "else:\n",
    "    missing_dependencies = []\n",
    "    for dependency in dependencies:\n",
    "        try:\n",
    "            __import__(dependency)\n",
    "        except ImportError:\n",
    "            missing_dependencies.append(dependency)\n",
    "\n",
    "    if len(missing_dependencies) > 0:\n",
    "        print(\"Missing required dependencies:\")\n",
    "        print(*missing_dependencies, sep=\", \")\n",
    "        print(\"\\nPlease install them before running the rest of this notebook.\")"
   ]
  },
  {
   "cell_type": "code",
   "execution_count": null,
   "metadata": {
    "id": "_UvI80l42iyi"
   },
   "outputs": [],
   "source": [
    "import requests\n",
    "import io\n",
    "import cleanlab\n",
    "import numpy as np"
   ]
  },
  {
   "cell_type": "markdown",
   "metadata": {
    "id": "wd2FlGn4sL0V"
   },
   "source": [
    "## Fetch the data (can skip these details)\n"
   ]
  },
  {
   "cell_type": "markdown",
   "metadata": {},
   "source": [
    "<details><summary>Below is the code used for fetching data.</summary>\n",
    "\n",
    "```\n",
    "\n",
    "# Note: This pulldown content is for docs.cleanlab.ai, if running on local Jupyter or Colab, please ignore it.\n",
    "\n",
    "mnist_test_set = [\"0\", \"1\" ,\"2\", \"3\", \"4\", \"5\", \"6\", \"7\", \"8\", \"9\"]\n",
    "imagenet_val_set = [\"tench\", \"goldfish\", \"great white shark\", \"tiger shark\", \"hammerhead shark\", \"electric ray\", \"stingray\", \"cock\", \"hen\", \"ostrich\", \"brambling\", \"goldfinch\", \"house finch\", \"junco\", \"indigo bunting\", \"American robin\", \"bulbul\", \"jay\", \"magpie\", \"chickadee\", \"American dipper\", \"kite\", \"bald eagle\", \"vulture\", \"great grey owl\", \"fire salamander\", \"smooth newt\", \"newt\", \"spotted salamander\", \"axolotl\", \"American bullfrog\", \"tree frog\", \"tailed frog\", \"loggerhead sea turtle\", \"leatherback sea turtle\", \"mud turtle\", \"terrapin\", \"box turtle\", \"banded gecko\", \"green iguana\", \"Carolina anole\", \"desert grassland whiptail lizard\", \"agama\", \"frilled-necked lizard\", \"alligator lizard\", \"Gila monster\", \"European green lizard\", \"chameleon\", \"Komodo dragon\", \"Nile crocodile\", \"American alligator\", \"triceratops\", \"worm snake\", \"ring-necked snake\", \"eastern hog-nosed snake\", \"smooth green snake\", \"kingsnake\", \"garter snake\", \"water snake\", \"vine snake\", \"night snake\", \"boa constrictor\", \"African rock python\", \"Indian cobra\", \"green mamba\", \"sea snake\", \"Saharan horned viper\", \"eastern diamondback rattlesnake\", \"sidewinder\", \"trilobite\", \"harvestman\", \"scorpion\", \"yellow garden spider\", \"barn spider\", \"European garden spider\", \"southern black widow\", \"tarantula\", \"wolf spider\", \"tick\", \"centipede\", \"black grouse\", \"ptarmigan\", \"ruffed grouse\", \"prairie grouse\", \"peacock\", \"quail\", \"partridge\", \"grey parrot\", \"macaw\", \"sulphur-crested cockatoo\", \"lorikeet\", \"coucal\", \"bee eater\", \"hornbill\", \"hummingbird\", \"jacamar\", \"toucan\", \"duck\", \"red-breasted merganser\", \"goose\", \"black swan\", \"tusker\", \"echidna\", \"platypus\", \"wallaby\", \"koala\", \"wombat\", \"jellyfish\", \"sea anemone\", \"brain coral\", \"flatworm\", \"nematode\", \"conch\", \"snail\", \"slug\", \"sea slug\", \"chiton\", \"chambered nautilus\", \"Dungeness crab\", \"rock crab\", \"fiddler crab\", \"red king crab\", \"American lobster\", \"spiny lobster\", \"crayfish\", \"hermit crab\", \"isopod\", \"white stork\", \"black stork\", \"spoonbill\", \"flamingo\", \"little blue heron\", \"great egret\", \"bittern\", \"crane (bird)\", \"limpkin\", \"common gallinule\", \"American coot\", \"bustard\", \"ruddy turnstone\", \"dunlin\", \"common redshank\", \"dowitcher\", \"oystercatcher\", \"pelican\", \"king penguin\", \"albatross\", \"grey whale\", \"killer whale\", \"dugong\", \"sea lion\", \"Chihuahua\", \"Japanese Chin\", \"Maltese\", \"Pekingese\", \"Shih Tzu\", \"King Charles Spaniel\", \"Papillon\", \"toy terrier\", \"Rhodesian Ridgeback\", \"Afghan Hound\", \"Basset Hound\", \"Beagle\", \"Bloodhound\", \"Bluetick Coonhound\", \"Black and Tan Coonhound\", \"Treeing Walker Coonhound\", \"English foxhound\", \"Redbone Coonhound\", \"borzoi\", \"Irish Wolfhound\", \"Italian Greyhound\", \"Whippet\", \"Ibizan Hound\", \"Norwegian Elkhound\", \"Otterhound\", \"Saluki\", \"Scottish Deerhound\", \"Weimaraner\", \"Staffordshire Bull Terrier\", \"American Staffordshire Terrier\", \"Bedlington Terrier\", \"Border Terrier\", \"Kerry Blue Terrier\", \"Irish Terrier\", \"Norfolk Terrier\", \"Norwich Terrier\", \"Yorkshire Terrier\", \"Wire Fox Terrier\", \"Lakeland Terrier\", \"Sealyham Terrier\", \"Airedale Terrier\", \"Cairn Terrier\", \"Australian Terrier\", \"Dandie Dinmont Terrier\", \"Boston Terrier\", \"Miniature Schnauzer\", \"Giant Schnauzer\", \"Standard Schnauzer\", \"Scottish Terrier\", \"Tibetan Terrier\", \"Australian Silky Terrier\", \"Soft-coated Wheaten Terrier\", \"West Highland White Terrier\", \"Lhasa Apso\", \"Flat-Coated Retriever\", \"Curly-coated Retriever\", \"Golden Retriever\", \"Labrador Retriever\", \"Chesapeake Bay Retriever\", \"German Shorthaired Pointer\", \"Vizsla\", \"English Setter\", \"Irish Setter\", \"Gordon Setter\", \"Brittany\", \"Clumber Spaniel\", \"English Springer Spaniel\", \"Welsh Springer Spaniel\", \"Cocker Spaniels\", \"Sussex Spaniel\", \"Irish Water Spaniel\", \"Kuvasz\", \"Schipperke\", \"Groenendael\", \"Malinois\", \"Briard\", \"Australian Kelpie\", \"Komondor\", \"Old English Sheepdog\", \"Shetland Sheepdog\", \"collie\", \"Border Collie\", \"Bouvier des Flandres\", \"Rottweiler\", \"German Shepherd Dog\", \"Dobermann\", \"Miniature Pinscher\", \"Greater Swiss Mountain Dog\", \"Bernese Mountain Dog\", \"Appenzeller Sennenhund\", \"Entlebucher Sennenhund\", \"Boxer\", \"Bullmastiff\", \"Tibetan Mastiff\", \"French Bulldog\", \"Great Dane\", \"St. Bernard\", \"husky\", \"Alaskan Malamute\", \"Siberian Husky\", \"Dalmatian\", \"Affenpinscher\", \"Basenji\", \"pug\", \"Leonberger\", \"Newfoundland\", \"Pyrenean Mountain Dog\", \"Samoyed\", \"Pomeranian\", \"Chow Chow\", \"Keeshond\", \"Griffon Bruxellois\", \"Pembroke Welsh Corgi\", \"Cardigan Welsh Corgi\", \"Toy Poodle\", \"Miniature Poodle\", \"Standard Poodle\", \"Mexican hairless dog\", \"grey wolf\", \"Alaskan tundra wolf\", \"red wolf\", \"coyote\", \"dingo\", \"dhole\", \"African wild dog\", \"hyena\", \"red fox\", \"kit fox\", \"Arctic fox\", \"grey fox\", \"tabby cat\", \"tiger cat\", \"Persian cat\", \"Siamese cat\", \"Egyptian Mau\", \"cougar\", \"lynx\", \"leopard\", \"snow leopard\", \"jaguar\", \"lion\", \"tiger\", \"cheetah\", \"brown bear\", \"American black bear\", \"polar bear\", \"sloth bear\", \"mongoose\", \"meerkat\", \"tiger beetle\", \"ladybug\", \"ground beetle\", \"longhorn beetle\", \"leaf beetle\", \"dung beetle\", \"rhinoceros beetle\", \"weevil\", \"fly\", \"bee\", \"ant\", \"grasshopper\", \"cricket\", \"stick insect\", \"cockroach\", \"mantis\", \"cicada\", \"leafhopper\", \"lacewing\", \"dragonfly\", \"damselfly\", \"red admiral\", \"ringlet\", \"monarch butterfly\", \"small white\", \"sulphur butterfly\", \"gossamer-winged butterfly\", \"starfish\", \"sea urchin\", \"sea cucumber\", \"cottontail rabbit\", \"hare\", \"Angora rabbit\", \"hamster\", \"porcupine\", \"fox squirrel\", \"marmot\", \"beaver\", \"guinea pig\", \"common sorrel\", \"zebra\", \"pig\", \"wild boar\", \"warthog\", \"hippopotamus\", \"ox\", \"water buffalo\", \"bison\", \"ram\", \"bighorn sheep\", \"Alpine ibex\", \"hartebeest\", \"impala\", \"gazelle\", \"dromedary\", \"llama\", \"weasel\", \"mink\", \"European polecat\", \"black-footed ferret\", \"otter\", \"skunk\", \"badger\", \"armadillo\", \"three-toed sloth\", \"orangutan\", \"gorilla\", \"chimpanzee\", \"gibbon\", \"siamang\", \"guenon\", \"patas monkey\", \"baboon\", \"macaque\", \"langur\", \"black-and-white colobus\", \"proboscis monkey\", \"marmoset\", \"white-headed capuchin\", \"howler monkey\", \"titi\", \"Geoffroy's spider monkey\", \"common squirrel monkey\", \"ring-tailed lemur\", \"indri\", \"Asian elephant\", \"African bush elephant\", \"red panda\", \"giant panda\", \"snoek\", \"eel\", \"coho salmon\", \"rock beauty\", \"clownfish\", \"sturgeon\", \"garfish\", \"lionfish\", \"pufferfish\", \"abacus\", \"abaya\", \"academic gown\", \"accordion\", \"acoustic guitar\", \"aircraft carrier\", \"airliner\", \"airship\", \"altar\", \"ambulance\", \"amphibious vehicle\", \"analog clock\", \"apiary\", \"apron\", \"waste container\", \"assault rifle\", \"backpack\", \"bakery\", \"balance beam\", \"balloon\", \"ballpoint pen\", \"Band-Aid\", \"banjo\", \"baluster\", \"barbell\", \"barber chair\", \"barbershop\", \"barn\", \"barometer\", \"barrel\", \"wheelbarrow\", \"baseball\", \"basketball\", \"bassinet\", \"bassoon\", \"swimming cap\", \"bath towel\", \"bathtub\", \"station wagon\", \"lighthouse\", \"beaker\", \"military cap\", \"beer bottle\", \"beer glass\", \"bell-cot\", \"bib\", \"tandem bicycle\", \"bikini\", \"ring binder\", \"binoculars\", \"birdhouse\", \"boathouse\", \"bobsleigh\", \"bolo tie\", \"poke bonnet\", \"bookcase\", \"bookstore\", \"bottle cap\", \"bow\", \"bow tie\", \"brass\", \"bra\", \"breakwater\", \"breastplate\", \"broom\", \"bucket\", \"buckle\", \"bulletproof vest\", \"high-speed train\", \"butcher shop\", \"taxicab\", \"cauldron\", \"candle\", \"cannon\", \"canoe\", \"can opener\", \"cardigan\", \"car mirror\", \"carousel\", \"tool kit\", \"carton\", \"car wheel\", \"automated teller machine\", \"cassette\", \"cassette player\", \"castle\", \"catamaran\", \"CD player\", \"cello\", \"mobile phone\", \"chain\", \"chain-link fence\", \"chain mail\", \"chainsaw\", \"chest\", \"chiffonier\", \"chime\", \"china cabinet\", \"Christmas stocking\", \"church\", \"movie theater\", \"cleaver\", \"cliff dwelling\", \"cloak\", \"clogs\", \"cocktail shaker\", \"coffee mug\", \"coffeemaker\", \"coil\", \"combination lock\", \"computer keyboard\", \"confectionery store\", \"container ship\", \"convertible\", \"corkscrew\", \"cornet\", \"cowboy boot\", \"cowboy hat\", \"cradle\", \"crane (machine)\", \"crash helmet\", \"crate\", \"infant bed\", \"Crock Pot\", \"croquet ball\", \"crutch\", \"cuirass\", \"dam\", \"desk\", \"desktop computer\", \"rotary dial telephone\", \"diaper\", \"digital clock\", \"digital watch\", \"dining table\", \"dishcloth\", \"dishwasher\", \"disc brake\", \"dock\", \"dog sled\", \"dome\", \"doormat\", \"drilling rig\", \"drum\", \"drumstick\", \"dumbbell\", \"Dutch oven\", \"electric fan\", \"electric guitar\", \"electric locomotive\", \"entertainment center\", \"envelope\", \"espresso machine\", \"face powder\", \"feather boa\", \"filing cabinet\", \"fireboat\", \"fire engine\", \"fire screen sheet\", \"flagpole\", \"flute\", \"folding chair\", \"football helmet\", \"forklift\", \"fountain\", \"fountain pen\", \"four-poster bed\", \"freight car\", \"French horn\", \"frying pan\", \"fur coat\", \"garbage truck\", \"gas mask\", \"gas pump\", \"goblet\", \"go-kart\", \"golf ball\", \"golf cart\", \"gondola\", \"gong\", \"gown\", \"grand piano\", \"greenhouse\", \"grille\", \"grocery store\", \"guillotine\", \"barrette\", \"hair spray\", \"half-track\", \"hammer\", \"hamper\", \"hair dryer\", \"hand-held computer\", \"handkerchief\", \"hard disk drive\", \"harmonica\", \"harp\", \"harvester\", \"hatchet\", \"holster\", \"home theater\", \"honeycomb\", \"hook\", \"hoop skirt\", \"horizontal bar\", \"horse-drawn vehicle\", \"hourglass\", \"iPod\", \"clothes iron\", \"jack-o'-lantern\", \"jeans\", \"jeep\", \"T-shirt\", \"jigsaw puzzle\", \"pulled rickshaw\", \"joystick\", \"kimono\", \"knee pad\", \"knot\", \"lab coat\", \"ladle\", \"lampshade\", \"laptop computer\", \"lawn mower\", \"lens cap\", \"paper knife\", \"library\", \"lifeboat\", \"lighter\", \"limousine\", \"ocean liner\", \"lipstick\", \"slip-on shoe\", \"lotion\", \"speaker\", \"loupe\", \"sawmill\", \"magnetic compass\", \"mail bag\", \"mailbox\", \"tights\", \"tank suit\", \"manhole cover\", \"maraca\", \"marimba\", \"mask\", \"match\", \"maypole\", \"maze\", \"measuring cup\", \"medicine chest\", \"megalith\", \"microphone\", \"microwave oven\", \"military uniform\", \"milk can\", \"minibus\", \"miniskirt\", \"minivan\", \"missile\", \"mitten\", \"mixing bowl\", \"mobile home\", \"Model T\", \"modem\", \"monastery\", \"monitor\", \"moped\", \"mortar\", \"square academic cap\", \"mosque\", \"mosquito net\", \"scooter\", \"mountain bike\", \"tent\", \"computer mouse\", \"mousetrap\", \"moving van\", \"muzzle\", \"nail\", \"neck brace\", \"necklace\", \"nipple\", \"notebook computer\", \"obelisk\", \"oboe\", \"ocarina\", \"odometer\", \"oil filter\", \"organ\", \"oscilloscope\", \"overskirt\", \"bullock cart\", \"oxygen mask\", \"packet\", \"paddle\", \"paddle wheel\", \"padlock\", \"paintbrush\", \"pajamas\", \"palace\", \"pan flute\", \"paper towel\", \"parachute\", \"parallel bars\", \"park bench\", \"parking meter\", \"passenger car\", \"patio\", \"payphone\", \"pedestal\", \"pencil case\", \"pencil sharpener\", \"perfume\", \"Petri dish\", \"photocopier\", \"plectrum\", \"Pickelhaube\", \"picket fence\", \"pickup truck\", \"pier\", \"piggy bank\", \"pill bottle\", \"pillow\", \"ping-pong ball\", \"pinwheel\", \"pirate ship\", \"pitcher\", \"hand plane\", \"planetarium\", \"plastic bag\", \"plate rack\", \"plow\", \"plunger\", \"Polaroid camera\", \"pole\", \"police van\", \"poncho\", \"billiard table\", \"soda bottle\", \"pot\", \"potter's wheel\", \"power drill\", \"prayer rug\", \"printer\", \"prison\", \"projectile\", \"projector\", \"hockey puck\", \"punching bag\", \"purse\", \"quill\", \"quilt\", \"race car\", \"racket\", \"radiator\", \"radio\", \"radio telescope\", \"rain barrel\", \"recreational vehicle\", \"reel\", \"reflex camera\", \"refrigerator\", \"remote control\", \"restaurant\", \"revolver\", \"rifle\", \"rocking chair\", \"rotisserie\", \"eraser\", \"rugby ball\", \"ruler\", \"running shoe\", \"safe\", \"safety pin\", \"salt shaker\", \"sandal\", \"sarong\", \"saxophone\", \"scabbard\", \"weighing scale\", \"school bus\", \"schooner\", \"scoreboard\", \"CRT screen\", \"screw\", \"screwdriver\", \"seat belt\", \"sewing machine\", \"shield\", \"shoe store\", \"shoji\", \"shopping basket\", \"shopping cart\", \"shovel\", \"shower cap\", \"shower curtain\", \"ski\", \"ski mask\", \"sleeping bag\", \"slide rule\", \"sliding door\", \"slot machine\", \"snorkel\", \"snowmobile\", \"snowplow\", \"soap dispenser\", \"soccer ball\", \"sock\", \"solar thermal collector\", \"sombrero\", \"soup bowl\", \"space bar\", \"space heater\", \"space shuttle\", \"spatula\", \"motorboat\", \"spider web\", \"spindle\", \"sports car\", \"spotlight\", \"stage\", \"steam locomotive\", \"through arch bridge\", \"steel drum\", \"stethoscope\", \"scarf\", \"stone wall\", \"stopwatch\", \"stove\", \"strainer\", \"tram\", \"stretcher\", \"couch\", \"stupa\", \"submarine\", \"suit\", \"sundial\", \"sunglass\", \"sunglasses\", \"sunscreen\", \"suspension bridge\", \"mop\", \"sweatshirt\", \"swimsuit\", \"swing\", \"switch\", \"syringe\", \"table lamp\", \"tank\", \"tape player\", \"teapot\", \"teddy bear\", \"television\", \"tennis ball\", \"thatched roof\", \"front curtain\", \"thimble\", \"threshing machine\", \"throne\", \"tile roof\", \"toaster\", \"tobacco shop\", \"toilet seat\", \"torch\", \"totem pole\", \"tow truck\", \"toy store\", \"tractor\", \"semi-trailer truck\", \"tray\", \"trench coat\", \"tricycle\", \"trimaran\", \"tripod\", \"triumphal arch\", \"trolleybus\", \"trombone\", \"tub\", \"turnstile\", \"typewriter keyboard\", \"umbrella\", \"unicycle\", \"upright piano\", \"vacuum cleaner\", \"vase\", \"vault\", \"velvet\", \"vending machine\", \"vestment\", \"viaduct\", \"violin\", \"volleyball\", \"waffle iron\", \"wall clock\", \"wallet\", \"wardrobe\", \"military aircraft\", \"sink\", \"washing machine\", \"water bottle\", \"water jug\", \"water tower\", \"whiskey jug\", \"whistle\", \"wig\", \"window screen\", \"window shade\", \"Windsor tie\", \"wine bottle\", \"wing\", \"wok\", \"wooden spoon\", \"wool\", \"split-rail fence\", \"shipwreck\", \"yawl\", \"yurt\", \"website\", \"comic book\", \"crossword\", \"traffic sign\", \"traffic light\", \"dust jacket\", \"menu\", \"plate\", \"guacamole\", \"consomme\", \"hot pot\", \"trifle\", \"ice cream\", \"ice pop\", \"baguette\", \"bagel\", \"pretzel\", \"cheeseburger\", \"hot dog\", \"mashed potato\", \"cabbage\", \"broccoli\", \"cauliflower\", \"zucchini\", \"spaghetti squash\", \"acorn squash\", \"butternut squash\", \"cucumber\", \"artichoke\", \"bell pepper\", \"cardoon\", \"mushroom\", \"Granny Smith\", \"strawberry\", \"orange\", \"lemon\", \"fig\", \"pineapple\", \"banana\", \"jackfruit\", \"custard apple\", \"pomegranate\", \"hay\", \"carbonara\", \"chocolate syrup\", \"dough\", \"meatloaf\", \"pizza\", \"pot pie\", \"burrito\", \"red wine\", \"espresso\", \"cup\", \"eggnog\", \"alp\", \"bubble\", \"cliff\", \"coral reef\", \"geyser\", \"lakeshore\", \"promontory\", \"shoal\", \"seashore\", \"valley\", \"volcano\", \"baseball player\", \"bridegroom\", \"scuba diver\", \"rapeseed\", \"daisy\", \"yellow lady's slipper\", \"corn\", \"acorn\", \"rose hip\", \"horse chestnut seed\", \"coral fungus\", \"agaric\", \"gyromitra\", \"stinkhorn mushroom\", \"earth star\", \"hen-of-the-woods\", \"bolete\", \"ear\", \"toilet paper\"]\n",
    "cifar10_test_set = [\"airplane\", \"automobile\", \"bird\", \"cat\", \"deer\", \"dog\", \"frog\", \"horse\", \"ship\", \"truck\"]\n",
    "cifar100_test_set = ['apple', 'aquarium_fish', 'baby', 'bear', 'beaver', 'bed', 'bee', 'beetle', 'bicycle', 'bottle', 'bowl', 'boy', 'bridge', 'bus', 'butterfly', 'camel', 'can', 'castle', 'caterpillar', 'cattle', 'chair', 'chimpanzee', 'clock', 'cloud', 'cockroach', 'couch', 'crab', 'crocodile', 'cup', 'dinosaur', 'dolphin', 'elephant', 'flatfish', 'forest', 'fox', 'girl', 'hamster', 'house', 'kangaroo', 'keyboard', 'lamp', 'lawn_mower', 'leopard', 'lion', 'lizard', 'lobster', 'man', 'maple_tree', 'motorcycle', 'mountain', 'mouse', 'mushroom', 'oak_tree', 'orange', 'orchid', 'otter', 'palm_tree', 'pear', 'pickup_truck', 'pine_tree', 'plain', 'plate', 'poppy', 'porcupine', 'possum', 'rabbit', 'raccoon', 'ray', 'road', 'rocket', 'rose', 'sea', 'seal', 'shark', 'shrew', 'skunk', 'skyscraper', 'snail', 'snake', 'spider', 'squirrel', 'streetcar', 'sunflower', 'sweet_pepper', 'table', 'tank', 'telephone', 'television', 'tiger', 'tractor', 'train', 'trout', 'tulip', 'turtle', 'wardrobe', 'whale', 'willow_tree', 'wolf', 'woman', 'worm']\n",
    "caltech256 = [\"ak47\", \"american-flag\", \"backpack\", \"baseball-bat\", \"baseball-glove\", \"basketball-hoop\", \"bat\", \"bathtub\", \"bear\", \"beer-mug\", \"billiards\", \"binoculars\", \"birdbath\", \"blimp\", \"bonsai\", \"boom-box\", \"bowling-ball\", \"bowling-pin\", \"boxing-glove\", \"brain\", \"breadmaker\", \"buddha\", \"bulldozer\", \"butterfly\", \"cactus\", \"cake\", \"calculator\", \"camel\", \"cannon\", \"canoe\", \"car-tire\", \"cartman\", \"cd\", \"centipede\", \"cereal-box\", \"chandelier\", \"chess-board\", \"chimp\", \"chopsticks\", \"cockroach\", \"coffee-mug\", \"coffin\", \"coin\", \"comet\", \"computer-keyboard\", \"computer-monitor\", \"computer-mouse\", \"conch\", \"cormorant\", \"covered-wagon\", \"cowboy-hat\", \"crab\", \"desk-globe\", \"diamond-ring\", \"dice\", \"dog\", \"dolphin\", \"doorknob\", \"drinking-straw\", \"duck\", \"dumb-bell\", \"eiffel-tower\", \"electric-guitar\", \"elephant\", \"elk\", \"ewer\", \"eyeglasses\", \"fern\", \"fighter-jet\", \"fire-extinguisher\", \"fire-hydrant\", \"fire-truck\", \"fireworks\", \"flashlight\", \"floppy-disk\", \"football-helmet\", \"french-horn\", \"fried-egg\", \"frisbee\", \"frog\", \"frying-pan\", \"galaxy\", \"gas-pump\", \"giraffe\", \"goat\", \"golden-gate-bridge\", \"goldfish\", \"golf-ball\", \"goose\", \"gorilla\", \"grand-piano\", \"grapes\", \"grasshopper\", \"guitar-pick\", \"hamburger\", \"hammock\", \"harmonica\", \"harp\", \"harpsichord\", \"hawksbill\", \"head-phones\", \"helicopter\", \"hibiscus\", \"homer-simpson\", \"horse\", \"horseshoe-crab\", \"hot-air-balloon\", \"hot-dog\", \"hot-tub\", \"hourglass\", \"house-fly\", \"human-skeleton\", \"hummingbird\", \"ibis\", \"ice-cream-cone\", \"iguana\", \"ipod\", \"iris\", \"jesus-christ\", \"joy-stick\", \"kangaroo\", \"kayak\", \"ketch\", \"killer-whale\", \"knife\", \"ladder\", \"laptop\", \"lathe\", \"leopards\", \"license-plate\", \"lightbulb\", \"light-house\", \"lightning\", \"llama\", \"mailbox\", \"mandolin\", \"mars\", \"mattress\", \"megaphone\", \"menorah\", \"microscope\", \"microwave\", \"minaret\", \"minotaur\", \"motorbikes\", \"mountain-bike\", \"mushroom\", \"mussels\", \"necktie\", \"octopus\", \"ostrich\", \"owl\", \"palm-pilot\", \"palm-tree\", \"paperclip\", \"paper-shredder\", \"pci-card\", \"penguin\", \"people\", \"pez-dispenser\", \"photocopier\", \"picnic-table\", \"playing-card\", \"porcupine\", \"pram\", \"praying-mantis\", \"pyramid\", \"raccoon\", \"radio-telescope\", \"rainbow\", \"refrigerator\", \"revolver\", \"rifle\", \"rotary-phone\", \"roulette-wheel\", \"saddle\", \"saturn\", \"school-bus\", \"scorpion\", \"screwdriver\", \"segway\", \"self-propelled-lawn-mower\", \"sextant\", \"sheet-music\", \"skateboard\", \"skunk\", \"skyscraper\", \"smokestack\", \"snail\", \"snake\", \"sneaker\", \"snowmobile\", \"soccer-ball\", \"socks\", \"soda-can\", \"spaghetti\", \"speed-boat\", \"spider\", \"spoon\", \"stained-glass\", \"starfish\", \"steering-wheel\", \"stirrups\", \"sunflower\", \"superman\", \"sushi\", \"swan\", \"swiss-army-knife\", \"sword\", \"syringe\", \"tambourine\", \"teapot\", \"teddy-bear\", \"teepee\", \"telephone-box\", \"tennis-ball\", \"tennis-court\", \"tennis-racket\", \"theodolite\", \"toaster\", \"tomato\", \"tombstone\", \"top-hat\", \"touring-bike\", \"tower-pisa\", \"traffic-light\", \"treadmill\", \"triceratops\", \"tricycle\", \"trilobite\", \"tripod\", \"t-shirt\", \"tuning-fork\", \"tweezer\", \"umbrella\", \"unicorn\", \"vcr\", \"video-projector\", \"washing-machine\", \"watch\", \"waterfall\", \"watermelon\", \"welding-mask\", \"wheelbarrow\", \"windmill\", \"wine-bottle\", \"xylophone\", \"yarmulke\", \"yo-yo\", \"zebra\", \"airplanes\", \"car-side\", \"faces-easy\", \"greyhound\", \"tennis-shoes\", \"toad\"]\n",
    "twenty_news_test_set = ['alt.atheism', 'comp.graphics', 'comp.os.ms-windows.misc', 'comp.sys.ibm.pc.hardware', 'comp.sys.mac.hardware', 'comp.windows.x', 'misc.forsale', 'rec.autos', 'rec.motorcycles', 'rec.sport.baseball', 'rec.sport.hockey', 'sci.crypt', 'sci.electronics', 'sci.med', 'sci.space', 'soc.religion.christian', 'talk.politics.guns', 'talk.politics.mideast', 'talk.politics.misc', 'talk.religion.misc']\n",
    "amazon = ['Negative', 'Neutral', 'Positive']\n",
    "imdb_test_set = [\"Negative\", \"Positive\"]\n",
    "\n",
    "ALL_CLASSES = {\n",
    "    'imagenet_val_set': imagenet_val_set,\n",
    "    'caltech256': caltech256,\n",
    "    'mnist_test_set': mnist_test_set,\n",
    "    'cifar10_test_set': cifar10_test_set,\n",
    "    'cifar100_test_set': cifar100_test_set,\n",
    "    'imdb_test_set': imdb_test_set,\n",
    "    '20news_test_set': twenty_news_test_set,\n",
    "    'amazon': amazon,\n",
    "}\n",
    "\n",
    "\n",
    "def _load_classes_predprobs_labels(dataset_name):\n",
    "    \"\"\"Helper function to load data from the labelerrors.com datasets.\"\"\"\n",
    "\n",
    "    base = 'https://github.com/cleanlab/label-errors/raw/'\n",
    "    url_base = base + '5392f6c71473055060be3044becdde1cbc18284d'\n",
    "    url_labels = url_base + '/original_test_labels/{}_original_labels.npy'\n",
    "    url_probs =  url_base + '/cross_validated_predicted_probabilities/{}_pyx.npy'\n",
    "    NUM_PARTS = {'amazon': 3, 'imagenet_val_set': 4}  # pred_probs files broken up into parts for larger datatsets\n",
    "\n",
    "    response = requests.get(url_labels.format(dataset_name))\n",
    "    labels = np.load(io.BytesIO(response.content), allow_pickle=True)\n",
    "    if dataset_name in NUM_PARTS:\n",
    "        pred_probs_parts = []\n",
    "        for i in range(1, NUM_PARTS[dataset_name] + 1):\n",
    "            url = url_probs.format(dataset_name).replace(\n",
    "                '.npy',\n",
    "                f'.part{i}_of_{NUM_PARTS[dataset_name]}.npy',\n",
    "            )\n",
    "            response = requests.get(url)\n",
    "            pred_probs_parts.append(\n",
    "                np.load(io.BytesIO(response.content), allow_pickle=True))\n",
    "        pred_probs = np.vstack(pred_probs_parts)\n",
    "    else:\n",
    "        response = requests.get(url_probs.format(dataset_name))\n",
    "        pred_probs = np.load(io.BytesIO(response.content), allow_pickle=True)\n",
    "    print(f\"\\nLoaded the '{dataset_name}' dataset with predicted \"\n",
    "          f\"probabilities of shape {pred_probs.shape}\\n\")\n",
    "\n",
    "    return pred_probs, labels, ALL_CLASSES[dataset_name]\n",
    "\n",
    "```\n",
    "\n",
    "</details>"
   ]
  },
  {
   "cell_type": "code",
   "execution_count": null,
   "metadata": {
    "nbsphinx": "hidden"
   },
   "outputs": [],
   "source": [
    "# names of classes in each dataset -- SCROLL DOWN!!!\n",
    "mnist_test_set = [\"0\", \"1\" ,\"2\", \"3\", \"4\", \"5\", \"6\", \"7\", \"8\", \"9\"]\n",
    "imagenet_val_set = [\"tench\", \"goldfish\", \"great white shark\", \"tiger shark\", \"hammerhead shark\", \"electric ray\", \"stingray\", \"cock\", \"hen\", \"ostrich\", \"brambling\", \"goldfinch\", \"house finch\", \"junco\", \"indigo bunting\", \"American robin\", \"bulbul\", \"jay\", \"magpie\", \"chickadee\", \"American dipper\", \"kite\", \"bald eagle\", \"vulture\", \"great grey owl\", \"fire salamander\", \"smooth newt\", \"newt\", \"spotted salamander\", \"axolotl\", \"American bullfrog\", \"tree frog\", \"tailed frog\", \"loggerhead sea turtle\", \"leatherback sea turtle\", \"mud turtle\", \"terrapin\", \"box turtle\", \"banded gecko\", \"green iguana\", \"Carolina anole\", \"desert grassland whiptail lizard\", \"agama\", \"frilled-necked lizard\", \"alligator lizard\", \"Gila monster\", \"European green lizard\", \"chameleon\", \"Komodo dragon\", \"Nile crocodile\", \"American alligator\", \"triceratops\", \"worm snake\", \"ring-necked snake\", \"eastern hog-nosed snake\", \"smooth green snake\", \"kingsnake\", \"garter snake\", \"water snake\", \"vine snake\", \"night snake\", \"boa constrictor\", \"African rock python\", \"Indian cobra\", \"green mamba\", \"sea snake\", \"Saharan horned viper\", \"eastern diamondback rattlesnake\", \"sidewinder\", \"trilobite\", \"harvestman\", \"scorpion\", \"yellow garden spider\", \"barn spider\", \"European garden spider\", \"southern black widow\", \"tarantula\", \"wolf spider\", \"tick\", \"centipede\", \"black grouse\", \"ptarmigan\", \"ruffed grouse\", \"prairie grouse\", \"peacock\", \"quail\", \"partridge\", \"grey parrot\", \"macaw\", \"sulphur-crested cockatoo\", \"lorikeet\", \"coucal\", \"bee eater\", \"hornbill\", \"hummingbird\", \"jacamar\", \"toucan\", \"duck\", \"red-breasted merganser\", \"goose\", \"black swan\", \"tusker\", \"echidna\", \"platypus\", \"wallaby\", \"koala\", \"wombat\", \"jellyfish\", \"sea anemone\", \"brain coral\", \"flatworm\", \"nematode\", \"conch\", \"snail\", \"slug\", \"sea slug\", \"chiton\", \"chambered nautilus\", \"Dungeness crab\", \"rock crab\", \"fiddler crab\", \"red king crab\", \"American lobster\", \"spiny lobster\", \"crayfish\", \"hermit crab\", \"isopod\", \"white stork\", \"black stork\", \"spoonbill\", \"flamingo\", \"little blue heron\", \"great egret\", \"bittern\", \"crane (bird)\", \"limpkin\", \"common gallinule\", \"American coot\", \"bustard\", \"ruddy turnstone\", \"dunlin\", \"common redshank\", \"dowitcher\", \"oystercatcher\", \"pelican\", \"king penguin\", \"albatross\", \"grey whale\", \"killer whale\", \"dugong\", \"sea lion\", \"Chihuahua\", \"Japanese Chin\", \"Maltese\", \"Pekingese\", \"Shih Tzu\", \"King Charles Spaniel\", \"Papillon\", \"toy terrier\", \"Rhodesian Ridgeback\", \"Afghan Hound\", \"Basset Hound\", \"Beagle\", \"Bloodhound\", \"Bluetick Coonhound\", \"Black and Tan Coonhound\", \"Treeing Walker Coonhound\", \"English foxhound\", \"Redbone Coonhound\", \"borzoi\", \"Irish Wolfhound\", \"Italian Greyhound\", \"Whippet\", \"Ibizan Hound\", \"Norwegian Elkhound\", \"Otterhound\", \"Saluki\", \"Scottish Deerhound\", \"Weimaraner\", \"Staffordshire Bull Terrier\", \"American Staffordshire Terrier\", \"Bedlington Terrier\", \"Border Terrier\", \"Kerry Blue Terrier\", \"Irish Terrier\", \"Norfolk Terrier\", \"Norwich Terrier\", \"Yorkshire Terrier\", \"Wire Fox Terrier\", \"Lakeland Terrier\", \"Sealyham Terrier\", \"Airedale Terrier\", \"Cairn Terrier\", \"Australian Terrier\", \"Dandie Dinmont Terrier\", \"Boston Terrier\", \"Miniature Schnauzer\", \"Giant Schnauzer\", \"Standard Schnauzer\", \"Scottish Terrier\", \"Tibetan Terrier\", \"Australian Silky Terrier\", \"Soft-coated Wheaten Terrier\", \"West Highland White Terrier\", \"Lhasa Apso\", \"Flat-Coated Retriever\", \"Curly-coated Retriever\", \"Golden Retriever\", \"Labrador Retriever\", \"Chesapeake Bay Retriever\", \"German Shorthaired Pointer\", \"Vizsla\", \"English Setter\", \"Irish Setter\", \"Gordon Setter\", \"Brittany\", \"Clumber Spaniel\", \"English Springer Spaniel\", \"Welsh Springer Spaniel\", \"Cocker Spaniels\", \"Sussex Spaniel\", \"Irish Water Spaniel\", \"Kuvasz\", \"Schipperke\", \"Groenendael\", \"Malinois\", \"Briard\", \"Australian Kelpie\", \"Komondor\", \"Old English Sheepdog\", \"Shetland Sheepdog\", \"collie\", \"Border Collie\", \"Bouvier des Flandres\", \"Rottweiler\", \"German Shepherd Dog\", \"Dobermann\", \"Miniature Pinscher\", \"Greater Swiss Mountain Dog\", \"Bernese Mountain Dog\", \"Appenzeller Sennenhund\", \"Entlebucher Sennenhund\", \"Boxer\", \"Bullmastiff\", \"Tibetan Mastiff\", \"French Bulldog\", \"Great Dane\", \"St. Bernard\", \"husky\", \"Alaskan Malamute\", \"Siberian Husky\", \"Dalmatian\", \"Affenpinscher\", \"Basenji\", \"pug\", \"Leonberger\", \"Newfoundland\", \"Pyrenean Mountain Dog\", \"Samoyed\", \"Pomeranian\", \"Chow Chow\", \"Keeshond\", \"Griffon Bruxellois\", \"Pembroke Welsh Corgi\", \"Cardigan Welsh Corgi\", \"Toy Poodle\", \"Miniature Poodle\", \"Standard Poodle\", \"Mexican hairless dog\", \"grey wolf\", \"Alaskan tundra wolf\", \"red wolf\", \"coyote\", \"dingo\", \"dhole\", \"African wild dog\", \"hyena\", \"red fox\", \"kit fox\", \"Arctic fox\", \"grey fox\", \"tabby cat\", \"tiger cat\", \"Persian cat\", \"Siamese cat\", \"Egyptian Mau\", \"cougar\", \"lynx\", \"leopard\", \"snow leopard\", \"jaguar\", \"lion\", \"tiger\", \"cheetah\", \"brown bear\", \"American black bear\", \"polar bear\", \"sloth bear\", \"mongoose\", \"meerkat\", \"tiger beetle\", \"ladybug\", \"ground beetle\", \"longhorn beetle\", \"leaf beetle\", \"dung beetle\", \"rhinoceros beetle\", \"weevil\", \"fly\", \"bee\", \"ant\", \"grasshopper\", \"cricket\", \"stick insect\", \"cockroach\", \"mantis\", \"cicada\", \"leafhopper\", \"lacewing\", \"dragonfly\", \"damselfly\", \"red admiral\", \"ringlet\", \"monarch butterfly\", \"small white\", \"sulphur butterfly\", \"gossamer-winged butterfly\", \"starfish\", \"sea urchin\", \"sea cucumber\", \"cottontail rabbit\", \"hare\", \"Angora rabbit\", \"hamster\", \"porcupine\", \"fox squirrel\", \"marmot\", \"beaver\", \"guinea pig\", \"common sorrel\", \"zebra\", \"pig\", \"wild boar\", \"warthog\", \"hippopotamus\", \"ox\", \"water buffalo\", \"bison\", \"ram\", \"bighorn sheep\", \"Alpine ibex\", \"hartebeest\", \"impala\", \"gazelle\", \"dromedary\", \"llama\", \"weasel\", \"mink\", \"European polecat\", \"black-footed ferret\", \"otter\", \"skunk\", \"badger\", \"armadillo\", \"three-toed sloth\", \"orangutan\", \"gorilla\", \"chimpanzee\", \"gibbon\", \"siamang\", \"guenon\", \"patas monkey\", \"baboon\", \"macaque\", \"langur\", \"black-and-white colobus\", \"proboscis monkey\", \"marmoset\", \"white-headed capuchin\", \"howler monkey\", \"titi\", \"Geoffroy's spider monkey\", \"common squirrel monkey\", \"ring-tailed lemur\", \"indri\", \"Asian elephant\", \"African bush elephant\", \"red panda\", \"giant panda\", \"snoek\", \"eel\", \"coho salmon\", \"rock beauty\", \"clownfish\", \"sturgeon\", \"garfish\", \"lionfish\", \"pufferfish\", \"abacus\", \"abaya\", \"academic gown\", \"accordion\", \"acoustic guitar\", \"aircraft carrier\", \"airliner\", \"airship\", \"altar\", \"ambulance\", \"amphibious vehicle\", \"analog clock\", \"apiary\", \"apron\", \"waste container\", \"assault rifle\", \"backpack\", \"bakery\", \"balance beam\", \"balloon\", \"ballpoint pen\", \"Band-Aid\", \"banjo\", \"baluster\", \"barbell\", \"barber chair\", \"barbershop\", \"barn\", \"barometer\", \"barrel\", \"wheelbarrow\", \"baseball\", \"basketball\", \"bassinet\", \"bassoon\", \"swimming cap\", \"bath towel\", \"bathtub\", \"station wagon\", \"lighthouse\", \"beaker\", \"military cap\", \"beer bottle\", \"beer glass\", \"bell-cot\", \"bib\", \"tandem bicycle\", \"bikini\", \"ring binder\", \"binoculars\", \"birdhouse\", \"boathouse\", \"bobsleigh\", \"bolo tie\", \"poke bonnet\", \"bookcase\", \"bookstore\", \"bottle cap\", \"bow\", \"bow tie\", \"brass\", \"bra\", \"breakwater\", \"breastplate\", \"broom\", \"bucket\", \"buckle\", \"bulletproof vest\", \"high-speed train\", \"butcher shop\", \"taxicab\", \"cauldron\", \"candle\", \"cannon\", \"canoe\", \"can opener\", \"cardigan\", \"car mirror\", \"carousel\", \"tool kit\", \"carton\", \"car wheel\", \"automated teller machine\", \"cassette\", \"cassette player\", \"castle\", \"catamaran\", \"CD player\", \"cello\", \"mobile phone\", \"chain\", \"chain-link fence\", \"chain mail\", \"chainsaw\", \"chest\", \"chiffonier\", \"chime\", \"china cabinet\", \"Christmas stocking\", \"church\", \"movie theater\", \"cleaver\", \"cliff dwelling\", \"cloak\", \"clogs\", \"cocktail shaker\", \"coffee mug\", \"coffeemaker\", \"coil\", \"combination lock\", \"computer keyboard\", \"confectionery store\", \"container ship\", \"convertible\", \"corkscrew\", \"cornet\", \"cowboy boot\", \"cowboy hat\", \"cradle\", \"crane (machine)\", \"crash helmet\", \"crate\", \"infant bed\", \"Crock Pot\", \"croquet ball\", \"crutch\", \"cuirass\", \"dam\", \"desk\", \"desktop computer\", \"rotary dial telephone\", \"diaper\", \"digital clock\", \"digital watch\", \"dining table\", \"dishcloth\", \"dishwasher\", \"disc brake\", \"dock\", \"dog sled\", \"dome\", \"doormat\", \"drilling rig\", \"drum\", \"drumstick\", \"dumbbell\", \"Dutch oven\", \"electric fan\", \"electric guitar\", \"electric locomotive\", \"entertainment center\", \"envelope\", \"espresso machine\", \"face powder\", \"feather boa\", \"filing cabinet\", \"fireboat\", \"fire engine\", \"fire screen sheet\", \"flagpole\", \"flute\", \"folding chair\", \"football helmet\", \"forklift\", \"fountain\", \"fountain pen\", \"four-poster bed\", \"freight car\", \"French horn\", \"frying pan\", \"fur coat\", \"garbage truck\", \"gas mask\", \"gas pump\", \"goblet\", \"go-kart\", \"golf ball\", \"golf cart\", \"gondola\", \"gong\", \"gown\", \"grand piano\", \"greenhouse\", \"grille\", \"grocery store\", \"guillotine\", \"barrette\", \"hair spray\", \"half-track\", \"hammer\", \"hamper\", \"hair dryer\", \"hand-held computer\", \"handkerchief\", \"hard disk drive\", \"harmonica\", \"harp\", \"harvester\", \"hatchet\", \"holster\", \"home theater\", \"honeycomb\", \"hook\", \"hoop skirt\", \"horizontal bar\", \"horse-drawn vehicle\", \"hourglass\", \"iPod\", \"clothes iron\", \"jack-o'-lantern\", \"jeans\", \"jeep\", \"T-shirt\", \"jigsaw puzzle\", \"pulled rickshaw\", \"joystick\", \"kimono\", \"knee pad\", \"knot\", \"lab coat\", \"ladle\", \"lampshade\", \"laptop computer\", \"lawn mower\", \"lens cap\", \"paper knife\", \"library\", \"lifeboat\", \"lighter\", \"limousine\", \"ocean liner\", \"lipstick\", \"slip-on shoe\", \"lotion\", \"speaker\", \"loupe\", \"sawmill\", \"magnetic compass\", \"mail bag\", \"mailbox\", \"tights\", \"tank suit\", \"manhole cover\", \"maraca\", \"marimba\", \"mask\", \"match\", \"maypole\", \"maze\", \"measuring cup\", \"medicine chest\", \"megalith\", \"microphone\", \"microwave oven\", \"military uniform\", \"milk can\", \"minibus\", \"miniskirt\", \"minivan\", \"missile\", \"mitten\", \"mixing bowl\", \"mobile home\", \"Model T\", \"modem\", \"monastery\", \"monitor\", \"moped\", \"mortar\", \"square academic cap\", \"mosque\", \"mosquito net\", \"scooter\", \"mountain bike\", \"tent\", \"computer mouse\", \"mousetrap\", \"moving van\", \"muzzle\", \"nail\", \"neck brace\", \"necklace\", \"nipple\", \"notebook computer\", \"obelisk\", \"oboe\", \"ocarina\", \"odometer\", \"oil filter\", \"organ\", \"oscilloscope\", \"overskirt\", \"bullock cart\", \"oxygen mask\", \"packet\", \"paddle\", \"paddle wheel\", \"padlock\", \"paintbrush\", \"pajamas\", \"palace\", \"pan flute\", \"paper towel\", \"parachute\", \"parallel bars\", \"park bench\", \"parking meter\", \"passenger car\", \"patio\", \"payphone\", \"pedestal\", \"pencil case\", \"pencil sharpener\", \"perfume\", \"Petri dish\", \"photocopier\", \"plectrum\", \"Pickelhaube\", \"picket fence\", \"pickup truck\", \"pier\", \"piggy bank\", \"pill bottle\", \"pillow\", \"ping-pong ball\", \"pinwheel\", \"pirate ship\", \"pitcher\", \"hand plane\", \"planetarium\", \"plastic bag\", \"plate rack\", \"plow\", \"plunger\", \"Polaroid camera\", \"pole\", \"police van\", \"poncho\", \"billiard table\", \"soda bottle\", \"pot\", \"potter's wheel\", \"power drill\", \"prayer rug\", \"printer\", \"prison\", \"projectile\", \"projector\", \"hockey puck\", \"punching bag\", \"purse\", \"quill\", \"quilt\", \"race car\", \"racket\", \"radiator\", \"radio\", \"radio telescope\", \"rain barrel\", \"recreational vehicle\", \"reel\", \"reflex camera\", \"refrigerator\", \"remote control\", \"restaurant\", \"revolver\", \"rifle\", \"rocking chair\", \"rotisserie\", \"eraser\", \"rugby ball\", \"ruler\", \"running shoe\", \"safe\", \"safety pin\", \"salt shaker\", \"sandal\", \"sarong\", \"saxophone\", \"scabbard\", \"weighing scale\", \"school bus\", \"schooner\", \"scoreboard\", \"CRT screen\", \"screw\", \"screwdriver\", \"seat belt\", \"sewing machine\", \"shield\", \"shoe store\", \"shoji\", \"shopping basket\", \"shopping cart\", \"shovel\", \"shower cap\", \"shower curtain\", \"ski\", \"ski mask\", \"sleeping bag\", \"slide rule\", \"sliding door\", \"slot machine\", \"snorkel\", \"snowmobile\", \"snowplow\", \"soap dispenser\", \"soccer ball\", \"sock\", \"solar thermal collector\", \"sombrero\", \"soup bowl\", \"space bar\", \"space heater\", \"space shuttle\", \"spatula\", \"motorboat\", \"spider web\", \"spindle\", \"sports car\", \"spotlight\", \"stage\", \"steam locomotive\", \"through arch bridge\", \"steel drum\", \"stethoscope\", \"scarf\", \"stone wall\", \"stopwatch\", \"stove\", \"strainer\", \"tram\", \"stretcher\", \"couch\", \"stupa\", \"submarine\", \"suit\", \"sundial\", \"sunglass\", \"sunglasses\", \"sunscreen\", \"suspension bridge\", \"mop\", \"sweatshirt\", \"swimsuit\", \"swing\", \"switch\", \"syringe\", \"table lamp\", \"tank\", \"tape player\", \"teapot\", \"teddy bear\", \"television\", \"tennis ball\", \"thatched roof\", \"front curtain\", \"thimble\", \"threshing machine\", \"throne\", \"tile roof\", \"toaster\", \"tobacco shop\", \"toilet seat\", \"torch\", \"totem pole\", \"tow truck\", \"toy store\", \"tractor\", \"semi-trailer truck\", \"tray\", \"trench coat\", \"tricycle\", \"trimaran\", \"tripod\", \"triumphal arch\", \"trolleybus\", \"trombone\", \"tub\", \"turnstile\", \"typewriter keyboard\", \"umbrella\", \"unicycle\", \"upright piano\", \"vacuum cleaner\", \"vase\", \"vault\", \"velvet\", \"vending machine\", \"vestment\", \"viaduct\", \"violin\", \"volleyball\", \"waffle iron\", \"wall clock\", \"wallet\", \"wardrobe\", \"military aircraft\", \"sink\", \"washing machine\", \"water bottle\", \"water jug\", \"water tower\", \"whiskey jug\", \"whistle\", \"wig\", \"window screen\", \"window shade\", \"Windsor tie\", \"wine bottle\", \"wing\", \"wok\", \"wooden spoon\", \"wool\", \"split-rail fence\", \"shipwreck\", \"yawl\", \"yurt\", \"website\", \"comic book\", \"crossword\", \"traffic sign\", \"traffic light\", \"dust jacket\", \"menu\", \"plate\", \"guacamole\", \"consomme\", \"hot pot\", \"trifle\", \"ice cream\", \"ice pop\", \"baguette\", \"bagel\", \"pretzel\", \"cheeseburger\", \"hot dog\", \"mashed potato\", \"cabbage\", \"broccoli\", \"cauliflower\", \"zucchini\", \"spaghetti squash\", \"acorn squash\", \"butternut squash\", \"cucumber\", \"artichoke\", \"bell pepper\", \"cardoon\", \"mushroom\", \"Granny Smith\", \"strawberry\", \"orange\", \"lemon\", \"fig\", \"pineapple\", \"banana\", \"jackfruit\", \"custard apple\", \"pomegranate\", \"hay\", \"carbonara\", \"chocolate syrup\", \"dough\", \"meatloaf\", \"pizza\", \"pot pie\", \"burrito\", \"red wine\", \"espresso\", \"cup\", \"eggnog\", \"alp\", \"bubble\", \"cliff\", \"coral reef\", \"geyser\", \"lakeshore\", \"promontory\", \"shoal\", \"seashore\", \"valley\", \"volcano\", \"baseball player\", \"bridegroom\", \"scuba diver\", \"rapeseed\", \"daisy\", \"yellow lady's slipper\", \"corn\", \"acorn\", \"rose hip\", \"horse chestnut seed\", \"coral fungus\", \"agaric\", \"gyromitra\", \"stinkhorn mushroom\", \"earth star\", \"hen-of-the-woods\", \"bolete\", \"ear\", \"toilet paper\"]\n",
    "cifar10_test_set = [\"airplane\", \"automobile\", \"bird\", \"cat\", \"deer\", \"dog\", \"frog\", \"horse\", \"ship\", \"truck\"]\n",
    "cifar100_test_set = ['apple', 'aquarium_fish', 'baby', 'bear', 'beaver', 'bed', 'bee', 'beetle', 'bicycle', 'bottle', 'bowl', 'boy', 'bridge', 'bus', 'butterfly', 'camel', 'can', 'castle', 'caterpillar', 'cattle', 'chair', 'chimpanzee', 'clock', 'cloud', 'cockroach', 'couch', 'crab', 'crocodile', 'cup', 'dinosaur', 'dolphin', 'elephant', 'flatfish', 'forest', 'fox', 'girl', 'hamster', 'house', 'kangaroo', 'keyboard', 'lamp', 'lawn_mower', 'leopard', 'lion', 'lizard', 'lobster', 'man', 'maple_tree', 'motorcycle', 'mountain', 'mouse', 'mushroom', 'oak_tree', 'orange', 'orchid', 'otter', 'palm_tree', 'pear', 'pickup_truck', 'pine_tree', 'plain', 'plate', 'poppy', 'porcupine', 'possum', 'rabbit', 'raccoon', 'ray', 'road', 'rocket', 'rose', 'sea', 'seal', 'shark', 'shrew', 'skunk', 'skyscraper', 'snail', 'snake', 'spider', 'squirrel', 'streetcar', 'sunflower', 'sweet_pepper', 'table', 'tank', 'telephone', 'television', 'tiger', 'tractor', 'train', 'trout', 'tulip', 'turtle', 'wardrobe', 'whale', 'willow_tree', 'wolf', 'woman', 'worm']\n",
    "caltech256 = [\"ak47\", \"american-flag\", \"backpack\", \"baseball-bat\", \"baseball-glove\", \"basketball-hoop\", \"bat\", \"bathtub\", \"bear\", \"beer-mug\", \"billiards\", \"binoculars\", \"birdbath\", \"blimp\", \"bonsai\", \"boom-box\", \"bowling-ball\", \"bowling-pin\", \"boxing-glove\", \"brain\", \"breadmaker\", \"buddha\", \"bulldozer\", \"butterfly\", \"cactus\", \"cake\", \"calculator\", \"camel\", \"cannon\", \"canoe\", \"car-tire\", \"cartman\", \"cd\", \"centipede\", \"cereal-box\", \"chandelier\", \"chess-board\", \"chimp\", \"chopsticks\", \"cockroach\", \"coffee-mug\", \"coffin\", \"coin\", \"comet\", \"computer-keyboard\", \"computer-monitor\", \"computer-mouse\", \"conch\", \"cormorant\", \"covered-wagon\", \"cowboy-hat\", \"crab\", \"desk-globe\", \"diamond-ring\", \"dice\", \"dog\", \"dolphin\", \"doorknob\", \"drinking-straw\", \"duck\", \"dumb-bell\", \"eiffel-tower\", \"electric-guitar\", \"elephant\", \"elk\", \"ewer\", \"eyeglasses\", \"fern\", \"fighter-jet\", \"fire-extinguisher\", \"fire-hydrant\", \"fire-truck\", \"fireworks\", \"flashlight\", \"floppy-disk\", \"football-helmet\", \"french-horn\", \"fried-egg\", \"frisbee\", \"frog\", \"frying-pan\", \"galaxy\", \"gas-pump\", \"giraffe\", \"goat\", \"golden-gate-bridge\", \"goldfish\", \"golf-ball\", \"goose\", \"gorilla\", \"grand-piano\", \"grapes\", \"grasshopper\", \"guitar-pick\", \"hamburger\", \"hammock\", \"harmonica\", \"harp\", \"harpsichord\", \"hawksbill\", \"head-phones\", \"helicopter\", \"hibiscus\", \"homer-simpson\", \"horse\", \"horseshoe-crab\", \"hot-air-balloon\", \"hot-dog\", \"hot-tub\", \"hourglass\", \"house-fly\", \"human-skeleton\", \"hummingbird\", \"ibis\", \"ice-cream-cone\", \"iguana\", \"ipod\", \"iris\", \"jesus-christ\", \"joy-stick\", \"kangaroo\", \"kayak\", \"ketch\", \"killer-whale\", \"knife\", \"ladder\", \"laptop\", \"lathe\", \"leopards\", \"license-plate\", \"lightbulb\", \"light-house\", \"lightning\", \"llama\", \"mailbox\", \"mandolin\", \"mars\", \"mattress\", \"megaphone\", \"menorah\", \"microscope\", \"microwave\", \"minaret\", \"minotaur\", \"motorbikes\", \"mountain-bike\", \"mushroom\", \"mussels\", \"necktie\", \"octopus\", \"ostrich\", \"owl\", \"palm-pilot\", \"palm-tree\", \"paperclip\", \"paper-shredder\", \"pci-card\", \"penguin\", \"people\", \"pez-dispenser\", \"photocopier\", \"picnic-table\", \"playing-card\", \"porcupine\", \"pram\", \"praying-mantis\", \"pyramid\", \"raccoon\", \"radio-telescope\", \"rainbow\", \"refrigerator\", \"revolver\", \"rifle\", \"rotary-phone\", \"roulette-wheel\", \"saddle\", \"saturn\", \"school-bus\", \"scorpion\", \"screwdriver\", \"segway\", \"self-propelled-lawn-mower\", \"sextant\", \"sheet-music\", \"skateboard\", \"skunk\", \"skyscraper\", \"smokestack\", \"snail\", \"snake\", \"sneaker\", \"snowmobile\", \"soccer-ball\", \"socks\", \"soda-can\", \"spaghetti\", \"speed-boat\", \"spider\", \"spoon\", \"stained-glass\", \"starfish\", \"steering-wheel\", \"stirrups\", \"sunflower\", \"superman\", \"sushi\", \"swan\", \"swiss-army-knife\", \"sword\", \"syringe\", \"tambourine\", \"teapot\", \"teddy-bear\", \"teepee\", \"telephone-box\", \"tennis-ball\", \"tennis-court\", \"tennis-racket\", \"theodolite\", \"toaster\", \"tomato\", \"tombstone\", \"top-hat\", \"touring-bike\", \"tower-pisa\", \"traffic-light\", \"treadmill\", \"triceratops\", \"tricycle\", \"trilobite\", \"tripod\", \"t-shirt\", \"tuning-fork\", \"tweezer\", \"umbrella\", \"unicorn\", \"vcr\", \"video-projector\", \"washing-machine\", \"watch\", \"waterfall\", \"watermelon\", \"welding-mask\", \"wheelbarrow\", \"windmill\", \"wine-bottle\", \"xylophone\", \"yarmulke\", \"yo-yo\", \"zebra\", \"airplanes\", \"car-side\", \"faces-easy\", \"greyhound\", \"tennis-shoes\", \"toad\"]\n",
    "twenty_news_test_set = ['alt.atheism', 'comp.graphics', 'comp.os.ms-windows.misc', 'comp.sys.ibm.pc.hardware', 'comp.sys.mac.hardware', 'comp.windows.x', 'misc.forsale', 'rec.autos', 'rec.motorcycles', 'rec.sport.baseball', 'rec.sport.hockey', 'sci.crypt', 'sci.electronics', 'sci.med', 'sci.space', 'soc.religion.christian', 'talk.politics.guns', 'talk.politics.mideast', 'talk.politics.misc', 'talk.religion.misc']\n",
    "amazon = ['Negative', 'Neutral', 'Positive']\n",
    "imdb_test_set = [\"Negative\", \"Positive\"]\n",
    "\n",
    "ALL_CLASSES = {\n",
    "    'imagenet_val_set': imagenet_val_set,\n",
    "    'caltech256': caltech256,\n",
    "    'mnist_test_set': mnist_test_set,\n",
    "    'cifar10_test_set': cifar10_test_set,\n",
    "    'cifar100_test_set': cifar100_test_set,\n",
    "    'imdb_test_set': imdb_test_set,\n",
    "    '20news_test_set': twenty_news_test_set,\n",
    "    'amazon': amazon,\n",
    "}\n",
    "\n",
    "\n",
    "def _load_classes_predprobs_labels(dataset_name):\n",
    "    \"\"\"Helper function to load data from the labelerrors.com datasets.\"\"\"\n",
    "\n",
    "    base = 'https://github.com/cleanlab/label-errors/raw/'\n",
    "    url_base = base + '5392f6c71473055060be3044becdde1cbc18284d'\n",
    "    url_labels = url_base + '/original_test_labels/{}_original_labels.npy'\n",
    "    url_probs =  url_base + '/cross_validated_predicted_probabilities/{}_pyx.npy'\n",
    "    NUM_PARTS = {'amazon': 3, 'imagenet_val_set': 4}  # pred_probs files broken up into parts for larger datatsets\n",
    "\n",
    "    response = requests.get(url_labels.format(dataset_name))\n",
    "    labels = np.load(io.BytesIO(response.content), allow_pickle=True)\n",
    "    if dataset_name in NUM_PARTS:\n",
    "        pred_probs_parts = []\n",
    "        for i in range(1, NUM_PARTS[dataset_name] + 1):\n",
    "            url = url_probs.format(dataset_name).replace(\n",
    "                '.npy',\n",
    "                f'.part{i}_of_{NUM_PARTS[dataset_name]}.npy',\n",
    "            )\n",
    "            response = requests.get(url)\n",
    "            pred_probs_parts.append(\n",
    "                np.load(io.BytesIO(response.content), allow_pickle=True))\n",
    "        pred_probs = np.vstack(pred_probs_parts)\n",
    "    else:\n",
    "        response = requests.get(url_probs.format(dataset_name))\n",
    "        pred_probs = np.load(io.BytesIO(response.content), allow_pickle=True)\n",
    "    print(f\"\\nLoaded the '{dataset_name}' dataset with predicted \"\n",
    "          f\"probabilities of shape {pred_probs.shape}\\n\")\n",
    "\n",
    "    return pred_probs, labels, ALL_CLASSES[dataset_name]"
   ]
  },
  {
   "cell_type": "markdown",
   "metadata": {
    "id": "7PixDik8JFiX"
   },
   "source": [
    "## **Start of tutorial:** Evaluate the health of 8 popular datasets\n",
    "\n",
    "This tutorial shows the output of running `cleanlab.dataset.health_summary()` on 8 popular datasets below:\n",
    "\n",
    "- 5 image datasets: ImageNet, Caltech256, MNIST, CIFAR-10, CIFAR-100\n",
    "- 3 text datasets: IMDB Reviews, 20 News Groups, Amazon Reviews\n",
    "\n",
    "`cleanlab.dataset.health_summary()` works with several kinds of inputs (see docstring). In this tutorial, we input:\n",
    "\n",
    "1. out-of-sample predicted probabilities (e.g. computed via [cross-validation](https://docs.cleanlab.ai/master/tutorials/pred_probs_cross_val.html))\n",
    "2. labels (can contain label errors and various issues)\n",
    "\n",
    "For the 8 datasets, we've precomputed and loaded these for you. See [labelerrors.com](https://labelerrors.com/) for more info about the label issues in these datasets."
   ]
  },
  {
   "cell_type": "code",
   "execution_count": null,
   "metadata": {
    "id": "dhTHOg8Pyv5G"
   },
   "outputs": [],
   "source": [
    "DATASETS = ['imagenet_val_set', 'caltech256', 'mnist_test_set', 'cifar10_test_set',\n",
    "            'cifar100_test_set', 'imdb_test_set', '20news_test_set', 'amazon']\n",
    "\n",
    "for dataset_name in DATASETS:\n",
    "\n",
    "    print(\"\\n🎯 \" + dataset_name.capitalize() + \" 🎯\\n\")\n",
    "\n",
    "    # load class names, given labels, and predicted probabilities from already-trained model\n",
    "    pred_probs, labels, class_names = _load_classes_predprobs_labels(dataset_name)\n",
    "\n",
    "    # run 1 line of code to evaluate the health of your dataset\n",
    "    _ = cleanlab.dataset.health_summary(labels, pred_probs, class_names=class_names)"
   ]
  }
 ],
 "metadata": {
  "colab": {
   "collapsed_sections": [],
   "name": "cleanlab_dataset_tutorial.ipynb",
   "provenance": []
  },
  "kernelspec": {
   "display_name": "Python 3 (ipykernel)",
   "language": "python",
   "name": "python3"
  },
  "language_info": {
   "codemirror_mode": {
    "name": "ipython",
    "version": 3
   },
   "file_extension": ".py",
   "mimetype": "text/x-python",
   "name": "python",
   "nbconvert_exporter": "python",
   "pygments_lexer": "ipython3",
   "version": "3.9.12"
  }
 },
 "nbformat": 4,
 "nbformat_minor": 1
}
