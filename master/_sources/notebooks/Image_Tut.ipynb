{
 "cells": [
  {
   "cell_type": "markdown",
   "metadata": {},
   "source": [
    "# Image Classification with Cleanlab, PyTorch & Skorch"
   ]
  },
  {
   "cell_type": "markdown",
   "metadata": {},
   "source": [
    "This tutorial will use Cleanlab to find potential label errors in the MNIST handwritten digit image dataset. This dataset contains 60,000 images of handwritten digits from 0 to 9. We'll find *more than a thousand* highly suspicious examples with label errors and edge cases by the end of this tutorial. \n",
    "\n",
    "**Overview of what we'll do in this tutorial:**\n",
    "\n",
    "- Build a simple PyTorch neural net and wrap it with Skorch to make it scikit-learn compatible.\n",
    "\n",
    "- Compute the cross-validated predicted probabilities, ``pyx``, sometimes known as the out-of-sample predicted probabilities.\n",
    "\n",
    "- Generate a list of potential label errors with Cleanlab's ``get_noise_indices``.\n",
    "\n",
    "- Build and train a more robust model than the vanilla model after adapting it with Cleanlab's ``LearningWithNoisyLabels``. \n",
    "\n",
    "**Data:** https://www.openml.org/d/554"
   ]
  },
  {
   "cell_type": "markdown",
   "metadata": {},
   "source": [
    "## 1. Install the required dependencies"
   ]
  },
  {
   "cell_type": "markdown",
   "metadata": {},
   "source": [
    "``%%capture`` is a magic function to hides the cell's output."
   ]
  },
  {
   "cell_type": "code",
   "execution_count": 1,
   "metadata": {},
   "outputs": [],
   "source": [
    "%%capture\n",
    "\n",
    "%pip install cleanlab pandas matplotlib torch torchvision skorch"
   ]
  },
  {
   "cell_type": "markdown",
   "metadata": {},
   "source": [
    "## 2. Fetch and scale the MNIST dataset"
   ]
  },
  {
   "cell_type": "code",
   "execution_count": 2,
   "metadata": {},
   "outputs": [],
   "source": [
    "from sklearn.datasets import fetch_openml\n",
    "\n",
    "# Fetch the MNIST dataset\n",
    "mnist = fetch_openml('mnist_784')\n",
    "\n",
    "# Assign the data features and labels to variable X and y respectively \n",
    "X = mnist.data.astype('float32')\n",
    "y = mnist.target.astype('int64')\n"
   ]
  },
  {
   "cell_type": "markdown",
   "metadata": {},
   "source": [
    "<div class=\"alert alert-info\">\n",
    "\n",
    "Bringing Your Own Data (BYOD)?\n",
    "\n",
    "Assign your data's features to variable ``X`` and its labels to variable ``y`` instead.\n",
    "\n",
    "</div>"
   ]
  },
  {
   "cell_type": "code",
   "execution_count": null,
   "metadata": {},
   "outputs": [],
   "source": [
    "\n",
    "# Scale the features which range from 0 to 255 (256 levels on the grayscale) \n",
    "X /= 255.0\n",
    "\n",
    "# Then convert it to a numpy array\n",
    "X = X.to_numpy()"
   ]
  },
  {
   "cell_type": "markdown",
   "metadata": {},
   "source": [
    "## 3. Define a classification model"
   ]
  },
  {
   "cell_type": "markdown",
   "metadata": {},
   "source": [
    "Here, we define a simple neural network with PyTorch."
   ]
  },
  {
   "cell_type": "code",
   "execution_count": 3,
   "metadata": {},
   "outputs": [],
   "source": [
    "from torch import nn\n",
    "\n",
    "class NeuralNetwork(nn.Module):\n",
    "    def __init__(self):\n",
    "        super(NeuralNetwork, self).__init__()\n",
    "        self.dropout = nn.Dropout(0.5)\n",
    "        self.hidden = nn.Linear(28*28, 128)\n",
    "        self.output = nn.Linear(128, 10)\n",
    "\n",
    "    def forward(self, X):\n",
    "        X = nn.functional.relu(self.hidden(X))\n",
    "        X = self.dropout(X)\n",
    "        X = nn.functional.softmax(self.output(X), dim=-1)\n",
    "        return X"
   ]
  },
  {
   "cell_type": "markdown",
   "metadata": {},
   "source": [
    "## 4. Wrap with Skorch for scikit-learn compatibility"
   ]
  },
  {
   "cell_type": "markdown",
   "metadata": {},
   "source": [
    "As some of Cleanlab's feature requires scikit-learn compatibility, we will need to adapt the above PyTorch neural net accordingly. Skorch is a convenient package that helps with this, read more about it here: https://skorch.readthedocs.io"
   ]
  },
  {
   "cell_type": "code",
   "execution_count": 4,
   "metadata": {},
   "outputs": [],
   "source": [
    "from skorch import NeuralNetClassifier\n",
    "\n",
    "# Wrap the PyTorch neural net around Skorch's NeuralNetClassifier wrapper\n",
    "net = NeuralNetClassifier(NeuralNetwork)"
   ]
  },
  {
   "cell_type": "markdown",
   "metadata": {},
   "source": [
    "## 5. Compute the cross-validated predicted probabilities"
   ]
  },
  {
   "cell_type": "markdown",
   "metadata": {},
   "source": [
    "If we'd like Cleanlab to identify potential label errors in the whole dataset and not just the training set, we can consider fitting the entire dataset. We will only use this model instance to compute the cross-validated predicted probabilities, ``pyx``, and not for model evaluation."
   ]
  },
  {
   "cell_type": "code",
   "execution_count": 5,
   "metadata": {},
   "outputs": [
    {
     "name": "stdout",
     "output_type": "stream",
     "text": [
      "  epoch    train_loss    valid_acc    valid_loss     dur\n",
      "-------  ------------  -----------  ------------  ------\n",
      "      1        \u001b[36m1.8360\u001b[0m       \u001b[32m0.7751\u001b[0m        \u001b[35m1.2305\u001b[0m  2.9495\n",
      "      2        \u001b[36m1.0154\u001b[0m       \u001b[32m0.8378\u001b[0m        \u001b[35m0.7182\u001b[0m  2.6735\n",
      "      3        \u001b[36m0.7418\u001b[0m       \u001b[32m0.8621\u001b[0m        \u001b[35m0.5597\u001b[0m  2.8554\n",
      "      4        \u001b[36m0.6268\u001b[0m       \u001b[32m0.8747\u001b[0m        \u001b[35m0.4839\u001b[0m  2.8304\n",
      "      5        \u001b[36m0.5607\u001b[0m       \u001b[32m0.8838\u001b[0m        \u001b[35m0.4373\u001b[0m  2.8424\n",
      "      6        \u001b[36m0.5145\u001b[0m       \u001b[32m0.8914\u001b[0m        \u001b[35m0.4054\u001b[0m  2.6505\n",
      "      7        \u001b[36m0.4854\u001b[0m       \u001b[32m0.8976\u001b[0m        \u001b[35m0.3822\u001b[0m  2.8924\n",
      "      8        \u001b[36m0.4590\u001b[0m       \u001b[32m0.9014\u001b[0m        \u001b[35m0.3631\u001b[0m  2.8424\n",
      "      9        \u001b[36m0.4400\u001b[0m       \u001b[32m0.9059\u001b[0m        \u001b[35m0.3482\u001b[0m  2.8534\n",
      "     10        \u001b[36m0.4247\u001b[0m       \u001b[32m0.9082\u001b[0m        \u001b[35m0.3351\u001b[0m  2.7254\n"
     ]
    }
   ],
   "source": [
    "_ = net.fit(X, y)"
   ]
  },
  {
   "cell_type": "markdown",
   "metadata": {},
   "source": [
    "Compute the cross-validated predicted probabilities, ``pyx``, sometimes also known as the out-of-sample predicted probabilities."
   ]
  },
  {
   "cell_type": "code",
   "execution_count": 6,
   "metadata": {},
   "outputs": [
    {
     "name": "stdout",
     "output_type": "stream",
     "text": [
      "  epoch    train_loss    valid_acc    valid_loss     dur\n",
      "-------  ------------  -----------  ------------  ------\n",
      "      1        \u001b[36m1.9760\u001b[0m       \u001b[32m0.6951\u001b[0m        \u001b[35m1.5705\u001b[0m  1.2882\n",
      "      2        \u001b[36m1.2700\u001b[0m       \u001b[32m0.7852\u001b[0m        \u001b[35m0.9818\u001b[0m  1.1933\n",
      "      3        \u001b[36m0.9070\u001b[0m       \u001b[32m0.8232\u001b[0m        \u001b[35m0.7455\u001b[0m  1.1353\n",
      "      4        \u001b[36m0.7466\u001b[0m       \u001b[32m0.8426\u001b[0m        \u001b[35m0.6301\u001b[0m  1.2213\n",
      "      5        \u001b[36m0.6579\u001b[0m       \u001b[32m0.8549\u001b[0m        \u001b[35m0.5624\u001b[0m  1.2903\n",
      "      6        \u001b[36m0.5999\u001b[0m       \u001b[32m0.8659\u001b[0m        \u001b[35m0.5158\u001b[0m  1.2473\n",
      "      7        \u001b[36m0.5551\u001b[0m       \u001b[32m0.8706\u001b[0m        \u001b[35m0.4832\u001b[0m  1.2373\n",
      "      8        \u001b[36m0.5258\u001b[0m       \u001b[32m0.8745\u001b[0m        \u001b[35m0.4575\u001b[0m  1.2133\n",
      "      9        \u001b[36m0.4972\u001b[0m       \u001b[32m0.8788\u001b[0m        \u001b[35m0.4370\u001b[0m  1.2733\n",
      "     10        \u001b[36m0.4815\u001b[0m       \u001b[32m0.8815\u001b[0m        \u001b[35m0.4210\u001b[0m  1.3043\n",
      "  epoch    train_loss    valid_acc    valid_loss     dur\n",
      "-------  ------------  -----------  ------------  ------\n",
      "      1        \u001b[36m2.0054\u001b[0m       \u001b[32m0.7266\u001b[0m        \u001b[35m1.5908\u001b[0m  1.2413\n",
      "      2        \u001b[36m1.2972\u001b[0m       \u001b[32m0.7928\u001b[0m        \u001b[35m0.9675\u001b[0m  1.1403\n",
      "      3        \u001b[36m0.9211\u001b[0m       \u001b[32m0.8344\u001b[0m        \u001b[35m0.7201\u001b[0m  1.3142\n",
      "      4        \u001b[36m0.7533\u001b[0m       \u001b[32m0.8527\u001b[0m        \u001b[35m0.6002\u001b[0m  1.1813\n",
      "      5        \u001b[36m0.6601\u001b[0m       \u001b[32m0.8667\u001b[0m        \u001b[35m0.5300\u001b[0m  1.2423\n",
      "      6        \u001b[36m0.5983\u001b[0m       \u001b[32m0.8772\u001b[0m        \u001b[35m0.4828\u001b[0m  1.3202\n",
      "      7        \u001b[36m0.5560\u001b[0m       \u001b[32m0.8837\u001b[0m        \u001b[35m0.4494\u001b[0m  1.2373\n",
      "      8        \u001b[36m0.5247\u001b[0m       \u001b[32m0.8887\u001b[0m        \u001b[35m0.4247\u001b[0m  1.2303\n",
      "      9        \u001b[36m0.5029\u001b[0m       \u001b[32m0.8923\u001b[0m        \u001b[35m0.4052\u001b[0m  1.2143\n",
      "     10        \u001b[36m0.4771\u001b[0m       \u001b[32m0.8957\u001b[0m        \u001b[35m0.3888\u001b[0m  1.2573\n",
      "  epoch    train_loss    valid_acc    valid_loss     dur\n",
      "-------  ------------  -----------  ------------  ------\n",
      "      1        \u001b[36m1.9836\u001b[0m       \u001b[32m0.7347\u001b[0m        \u001b[35m1.5571\u001b[0m  1.2913\n",
      "      2        \u001b[36m1.2856\u001b[0m       \u001b[32m0.8082\u001b[0m        \u001b[35m0.9411\u001b[0m  1.1733\n",
      "      3        \u001b[36m0.9194\u001b[0m       \u001b[32m0.8406\u001b[0m        \u001b[35m0.7005\u001b[0m  1.2103\n",
      "      4        \u001b[36m0.7625\u001b[0m       \u001b[32m0.8600\u001b[0m        \u001b[35m0.5872\u001b[0m  1.1903\n",
      "      5        \u001b[36m0.6702\u001b[0m       \u001b[32m0.8718\u001b[0m        \u001b[35m0.5193\u001b[0m  1.1903\n",
      "      6        \u001b[36m0.6129\u001b[0m       \u001b[32m0.8792\u001b[0m        \u001b[35m0.4759\u001b[0m  1.2693\n",
      "      7        \u001b[36m0.5698\u001b[0m       \u001b[32m0.8870\u001b[0m        \u001b[35m0.4423\u001b[0m  1.1833\n",
      "      8        \u001b[36m0.5401\u001b[0m       \u001b[32m0.8914\u001b[0m        \u001b[35m0.4186\u001b[0m  1.1923\n",
      "      9        \u001b[36m0.5142\u001b[0m       \u001b[32m0.8963\u001b[0m        \u001b[35m0.3995\u001b[0m  1.2243\n",
      "     10        \u001b[36m0.4948\u001b[0m       \u001b[32m0.8987\u001b[0m        \u001b[35m0.3834\u001b[0m  1.3113\n"
     ]
    }
   ],
   "source": [
    "from sklearn.model_selection import cross_val_predict\n",
    "\n",
    "pyx = cross_val_predict(net, X, y, cv=3, method='predict_proba')"
   ]
  },
  {
   "cell_type": "markdown",
   "metadata": {},
   "source": [
    "## 6. Run Cleanlab to find potential label errors"
   ]
  },
  {
   "cell_type": "markdown",
   "metadata": {},
   "source": [
    "Cleanlab has a ``get_noise_indices`` function to generate a list of potential label errors. Setting ``sorted_index_method=\"prob_given_label\"`` returns the indices of all the most likely label errors, sorted by the most suspicious example first."
   ]
  },
  {
   "cell_type": "code",
   "execution_count": 7,
   "metadata": {},
   "outputs": [],
   "source": [
    "from cleanlab.pruning import get_noise_indices\n",
    "\n",
    "ordered_label_errors = get_noise_indices(\n",
    "    s=y,\n",
    "    psx=pyx,\n",
    "    sorted_index_method=\"prob_given_label\"\n",
    ")"
   ]
  },
  {
   "cell_type": "markdown",
   "metadata": {},
   "source": [
    "## 7. Review some of the most likely mislabeled examples"
   ]
  },
  {
   "cell_type": "code",
   "execution_count": 8,
   "metadata": {},
   "outputs": [
    {
     "name": "stdout",
     "output_type": "stream",
     "text": [
      "Cleanlab found 1246 potential label errors. Here are the indices of the top 15 most likely ones: \n",
      " [18598 24798  8729 61790  1352 20820 15942 53216 66091 39457 59915 12679\n",
      "  7010 66172 31134]\n"
     ]
    }
   ],
   "source": [
    "print(f\"Cleanlab found {len(ordered_label_errors)} potential label errors. Here are the indices of the top 15 most likely ones: \\n {ordered_label_errors[:15]}\")"
   ]
  },
  {
   "cell_type": "markdown",
   "metadata": {},
   "source": [
    "We'll define a new ``plot_examples`` function to display any examples in a subplot conveniently."
   ]
  },
  {
   "cell_type": "code",
   "execution_count": 9,
   "metadata": {},
   "outputs": [],
   "source": [
    "import matplotlib.pyplot as plt\n",
    "\n",
    "def plot_examples(id_iter, nrows=1, ncols=1):\n",
    "    for count, id in enumerate(id_iter):\n",
    "        plt.subplot(nrows, ncols, count+1)\n",
    "        plt.imshow(X[id].reshape(28, 28))\n",
    "        plt.title(f\"id: {id} \\n label: {y[id]}\")\n",
    "        plt.axis('off')\n",
    "\n",
    "    plt.tight_layout(h_pad=2.0)"
   ]
  },
  {
   "cell_type": "markdown",
   "metadata": {},
   "source": [
    "Let's start by having an overview of the top 15 most likely label errors. From here, we can see a few label errors and edge cases. Feel free to change the parameters to display more or fewer examples. "
   ]
  },
  {
   "cell_type": "code",
   "execution_count": 10,
   "metadata": {},
   "outputs": [
    {
     "data": {
      "image/png": "[encoded data removed]",
      "text/plain": [
       "<Figure size 432x288 with 15 Axes>"
      ]
     },
     "metadata": {
      "needs_background": "light"
     },
     "output_type": "display_data"
    }
   ],
   "source": [
    "plot_examples(ordered_label_errors[range(15)], 3, 5)"
   ]
  },
  {
   "cell_type": "markdown",
   "metadata": {},
   "source": [
    "Let's zoom into specific examples:"
   ]
  },
  {
   "cell_type": "markdown",
   "metadata": {},
   "source": [
    "Given label is **4** but looks more like a **7**"
   ]
  },
  {
   "cell_type": "code",
   "execution_count": 11,
   "metadata": {},
   "outputs": [
    {
     "data": {
      "image/png": "[encoded data removed]",
      "text/plain": [
       "<Figure size 432x288 with 1 Axes>"
      ]
     },
     "metadata": {
      "needs_background": "light"
     },
     "output_type": "display_data"
    }
   ],
   "source": [
    "plot_examples([59915])"
   ]
  },
  {
   "cell_type": "markdown",
   "metadata": {},
   "source": [
    "Given label is **4** but also looks like **9**"
   ]
  },
  {
   "cell_type": "code",
   "execution_count": 12,
   "metadata": {},
   "outputs": [
    {
     "data": {
      "image/png": "[encoded data removed]",
      "text/plain": [
       "<Figure size 432x288 with 1 Axes>"
      ]
     },
     "metadata": {
      "needs_background": "light"
     },
     "output_type": "display_data"
    }
   ],
   "source": [
    "plot_examples([24798])"
   ]
  },
  {
   "cell_type": "markdown",
   "metadata": {},
   "source": [
    "Edge case of odd looking **9**s"
   ]
  },
  {
   "cell_type": "code",
   "execution_count": 13,
   "metadata": {},
   "outputs": [
    {
     "data": {
      "image/png": "[encoded data removed]",
      "text/plain": [
       "<Figure size 432x288 with 3 Axes>"
      ]
     },
     "metadata": {
      "needs_background": "light"
     },
     "output_type": "display_data"
    }
   ],
   "source": [
    "plot_examples([18598, 1352, 61247], 1, 3)"
   ]
  },
  {
   "cell_type": "markdown",
   "metadata": {},
   "source": [
    "Cleanlab has shortlisted the most likely label errors to speed up your data cleaning process. With this list, you can decide whether to fix label errors, augment edge cases or remove obscure examples. \n",
    "\n",
    "These human-in-the-loop processes may be time-consuming, so if you'd like Cleanlab to automatically remove these noisy examples and train a model directly on the partially mislabeled dataset, you're in luck! Cleanlab provides a ``LearningWithNoisyLabels`` wrapper to do precisely this:"
   ]
  },
  {
   "cell_type": "markdown",
   "metadata": {},
   "source": [
    "## 8. Adapt with Cleanlab's wrapper and train a more robust model"
   ]
  },
  {
   "cell_type": "markdown",
   "metadata": {},
   "source": [
    "First, we split the dataset into train and test subsets."
   ]
  },
  {
   "cell_type": "code",
   "execution_count": 14,
   "metadata": {},
   "outputs": [],
   "source": [
    "from sklearn.model_selection import train_test_split\n",
    "\n",
    "X_train, X_test, y_train, y_test = train_test_split(X, y, test_size=0.2)"
   ]
  },
  {
   "cell_type": "markdown",
   "metadata": {},
   "source": [
    "Re-instantiate a new scikit-learn compatible model with Skorch then wrap it with Cleanlab's ``LearningWithNoisyLabels`` wrapper."
   ]
  },
  {
   "cell_type": "code",
   "execution_count": 15,
   "metadata": {},
   "outputs": [],
   "source": [
    "from cleanlab.classification import LearningWithNoisyLabels\n",
    "\n",
    "net = NeuralNetClassifier(NeuralNetwork)\n",
    "clf = LearningWithNoisyLabels(clf=net)"
   ]
  },
  {
   "cell_type": "code",
   "execution_count": 16,
   "metadata": {},
   "outputs": [
    {
     "name": "stdout",
     "output_type": "stream",
     "text": [
      "  epoch    train_loss    valid_acc    valid_loss     dur\n",
      "-------  ------------  -----------  ------------  ------\n",
      "      1        \u001b[36m2.0095\u001b[0m       \u001b[32m0.7631\u001b[0m        \u001b[35m1.6054\u001b[0m  1.1184\n",
      "      2        \u001b[36m1.3089\u001b[0m       \u001b[32m0.8261\u001b[0m        \u001b[35m0.9656\u001b[0m  1.2663\n",
      "      3        \u001b[36m0.9231\u001b[0m       \u001b[32m0.8489\u001b[0m        \u001b[35m0.7118\u001b[0m  1.2494\n",
      "      4        \u001b[36m0.7576\u001b[0m       \u001b[32m0.8627\u001b[0m        \u001b[35m0.5950\u001b[0m  1.2793\n",
      "      5        \u001b[36m0.6694\u001b[0m       \u001b[32m0.8714\u001b[0m        \u001b[35m0.5273\u001b[0m  1.2324\n",
      "      6        \u001b[36m0.6062\u001b[0m       \u001b[32m0.8787\u001b[0m        \u001b[35m0.4824\u001b[0m  1.2893\n",
      "      7        \u001b[36m0.5625\u001b[0m       \u001b[32m0.8838\u001b[0m        \u001b[35m0.4496\u001b[0m  1.2743\n",
      "      8        \u001b[36m0.5305\u001b[0m       \u001b[32m0.8876\u001b[0m        \u001b[35m0.4258\u001b[0m  1.1473\n",
      "      9        \u001b[36m0.5042\u001b[0m       \u001b[32m0.8915\u001b[0m        \u001b[35m0.4059\u001b[0m  1.3393\n",
      "     10        \u001b[36m0.4877\u001b[0m       \u001b[32m0.8944\u001b[0m        \u001b[35m0.3909\u001b[0m  1.3086\n",
      "  epoch    train_loss    valid_acc    valid_loss     dur\n",
      "-------  ------------  -----------  ------------  ------\n",
      "      1        \u001b[36m1.9826\u001b[0m       \u001b[32m0.7344\u001b[0m        \u001b[35m1.5609\u001b[0m  1.1883\n",
      "      2        \u001b[36m1.2920\u001b[0m       \u001b[32m0.8122\u001b[0m        \u001b[35m0.9572\u001b[0m  1.2938\n",
      "      3        \u001b[36m0.9250\u001b[0m       \u001b[32m0.8440\u001b[0m        \u001b[35m0.7127\u001b[0m  1.2573\n",
      "      4        \u001b[36m0.7682\u001b[0m       \u001b[32m0.8625\u001b[0m        \u001b[35m0.5977\u001b[0m  1.2333\n",
      "      5        \u001b[36m0.6781\u001b[0m       \u001b[32m0.8718\u001b[0m        \u001b[35m0.5296\u001b[0m  1.3640\n",
      "      6        \u001b[36m0.6158\u001b[0m       \u001b[32m0.8769\u001b[0m        \u001b[35m0.4838\u001b[0m  1.3065\n",
      "      7        \u001b[36m0.5781\u001b[0m       \u001b[32m0.8812\u001b[0m        \u001b[35m0.4521\u001b[0m  1.2663\n",
      "      8        \u001b[36m0.5392\u001b[0m       \u001b[32m0.8859\u001b[0m        \u001b[35m0.4270\u001b[0m  1.2343\n",
      "      9        \u001b[36m0.5178\u001b[0m       \u001b[32m0.8897\u001b[0m        \u001b[35m0.4077\u001b[0m  1.4472\n",
      "     10        \u001b[36m0.4940\u001b[0m       \u001b[32m0.8926\u001b[0m        \u001b[35m0.3913\u001b[0m  1.2553\n",
      "  epoch    train_loss    valid_acc    valid_loss     dur\n",
      "-------  ------------  -----------  ------------  ------\n",
      "      1        \u001b[36m1.9780\u001b[0m       \u001b[32m0.7569\u001b[0m        \u001b[35m1.5478\u001b[0m  1.2423\n",
      "      2        \u001b[36m1.2696\u001b[0m       \u001b[32m0.8234\u001b[0m        \u001b[35m0.9350\u001b[0m  1.3235\n",
      "      3        \u001b[36m0.9035\u001b[0m       \u001b[32m0.8522\u001b[0m        \u001b[35m0.6948\u001b[0m  1.3412\n",
      "      4        \u001b[36m0.7420\u001b[0m       \u001b[32m0.8672\u001b[0m        \u001b[35m0.5821\u001b[0m  1.2233\n",
      "      5        \u001b[36m0.6546\u001b[0m       \u001b[32m0.8752\u001b[0m        \u001b[35m0.5170\u001b[0m  1.2683\n",
      "      6        \u001b[36m0.6003\u001b[0m       \u001b[32m0.8824\u001b[0m        \u001b[35m0.4748\u001b[0m  1.1633\n",
      "      7        \u001b[36m0.5608\u001b[0m       \u001b[32m0.8858\u001b[0m        \u001b[35m0.4448\u001b[0m  1.3432\n",
      "      8        \u001b[36m0.5338\u001b[0m       \u001b[32m0.8897\u001b[0m        \u001b[35m0.4223\u001b[0m  1.5102\n",
      "      9        \u001b[36m0.5077\u001b[0m       \u001b[32m0.8942\u001b[0m        \u001b[35m0.4036\u001b[0m  1.5051\n",
      "     10        \u001b[36m0.4836\u001b[0m       \u001b[32m0.8960\u001b[0m        \u001b[35m0.3882\u001b[0m  1.5851\n",
      "  epoch    train_loss    valid_acc    valid_loss     dur\n",
      "-------  ------------  -----------  ------------  ------\n",
      "      1        \u001b[36m2.0300\u001b[0m       \u001b[32m0.7393\u001b[0m        \u001b[35m1.6364\u001b[0m  1.2608\n",
      "      2        \u001b[36m1.3353\u001b[0m       \u001b[32m0.8151\u001b[0m        \u001b[35m0.9829\u001b[0m  1.2153\n",
      "      3        \u001b[36m0.9445\u001b[0m       \u001b[32m0.8459\u001b[0m        \u001b[35m0.7196\u001b[0m  1.2923\n",
      "      4        \u001b[36m0.7729\u001b[0m       \u001b[32m0.8629\u001b[0m        \u001b[35m0.5967\u001b[0m  1.3312\n",
      "      5        \u001b[36m0.6749\u001b[0m       \u001b[32m0.8737\u001b[0m        \u001b[35m0.5254\u001b[0m  1.2223\n",
      "      6        \u001b[36m0.6166\u001b[0m       \u001b[32m0.8799\u001b[0m        \u001b[35m0.4799\u001b[0m  1.2442\n",
      "      7        \u001b[36m0.5728\u001b[0m       \u001b[32m0.8848\u001b[0m        \u001b[35m0.4469\u001b[0m  1.3322\n",
      "      8        \u001b[36m0.5363\u001b[0m       \u001b[32m0.8886\u001b[0m        \u001b[35m0.4214\u001b[0m  1.2353\n",
      "      9        \u001b[36m0.5125\u001b[0m       \u001b[32m0.8915\u001b[0m        \u001b[35m0.4022\u001b[0m  1.3362\n",
      "     10        \u001b[36m0.4909\u001b[0m       \u001b[32m0.8951\u001b[0m        \u001b[35m0.3857\u001b[0m  1.3122\n",
      "  epoch    train_loss    valid_acc    valid_loss     dur\n",
      "-------  ------------  -----------  ------------  ------\n",
      "      1        \u001b[36m2.0189\u001b[0m       \u001b[32m0.7348\u001b[0m        \u001b[35m1.6229\u001b[0m  1.2153\n",
      "      2        \u001b[36m1.3358\u001b[0m       \u001b[32m0.8192\u001b[0m        \u001b[35m0.9819\u001b[0m  1.3312\n",
      "      3        \u001b[36m0.9445\u001b[0m       \u001b[32m0.8485\u001b[0m        \u001b[35m0.7176\u001b[0m  1.2813\n",
      "      4        \u001b[36m0.7676\u001b[0m       \u001b[32m0.8629\u001b[0m        \u001b[35m0.5953\u001b[0m  1.3252\n",
      "      5        \u001b[36m0.6720\u001b[0m       \u001b[32m0.8701\u001b[0m        \u001b[35m0.5254\u001b[0m  1.1813\n",
      "      6        \u001b[36m0.6132\u001b[0m       \u001b[32m0.8783\u001b[0m        \u001b[35m0.4800\u001b[0m  1.2283\n",
      "      7        \u001b[36m0.5692\u001b[0m       \u001b[32m0.8834\u001b[0m        \u001b[35m0.4480\u001b[0m  1.3592\n",
      "      8        \u001b[36m0.5342\u001b[0m       \u001b[32m0.8869\u001b[0m        \u001b[35m0.4228\u001b[0m  1.1943\n",
      "      9        \u001b[36m0.5089\u001b[0m       \u001b[32m0.8896\u001b[0m        \u001b[35m0.4031\u001b[0m  1.3222\n",
      "     10        \u001b[36m0.4852\u001b[0m       \u001b[32m0.8931\u001b[0m        \u001b[35m0.3870\u001b[0m  1.1843\n",
      "  epoch    train_loss    valid_acc    valid_loss     dur\n",
      "-------  ------------  -----------  ------------  ------\n",
      "      1        \u001b[36m1.9140\u001b[0m       \u001b[32m0.7777\u001b[0m        \u001b[35m1.3794\u001b[0m  1.8589\n",
      "      2        \u001b[36m1.1107\u001b[0m       \u001b[32m0.8468\u001b[0m        \u001b[35m0.7786\u001b[0m  1.9499\n",
      "      3        \u001b[36m0.7777\u001b[0m       \u001b[32m0.8710\u001b[0m        \u001b[35m0.5759\u001b[0m  1.7775\n",
      "      4        \u001b[36m0.6437\u001b[0m       \u001b[32m0.8851\u001b[0m        \u001b[35m0.4798\u001b[0m  1.5211\n",
      "      5        \u001b[36m0.5602\u001b[0m       \u001b[32m0.8933\u001b[0m        \u001b[35m0.4219\u001b[0m  1.5361\n",
      "      6        \u001b[36m0.5072\u001b[0m       \u001b[32m0.8991\u001b[0m        \u001b[35m0.3829\u001b[0m  1.5501\n",
      "      7        \u001b[36m0.4739\u001b[0m       \u001b[32m0.9037\u001b[0m        \u001b[35m0.3551\u001b[0m  1.4821\n",
      "      8        \u001b[36m0.4415\u001b[0m       \u001b[32m0.9079\u001b[0m        \u001b[35m0.3339\u001b[0m  1.5681\n",
      "      9        \u001b[36m0.4199\u001b[0m       \u001b[32m0.9099\u001b[0m        \u001b[35m0.3161\u001b[0m  1.5701\n",
      "     10        \u001b[36m0.4024\u001b[0m       \u001b[32m0.9141\u001b[0m        \u001b[35m0.3022\u001b[0m  1.4102\n"
     ]
    }
   ],
   "source": [
    "_ = clf.fit(X_train, y_train.to_numpy())"
   ]
  },
  {
   "cell_type": "markdown",
   "metadata": {},
   "source": [
    "## 9. Evaluate the robust model's performance"
   ]
  },
  {
   "cell_type": "code",
   "execution_count": 17,
   "metadata": {},
   "outputs": [
    {
     "data": {
      "text/plain": [
       "0.8971428571428571"
      ]
     },
     "execution_count": 17,
     "metadata": {},
     "output_type": "execute_result"
    }
   ],
   "source": [
    "from sklearn.metrics import accuracy_score\n",
    "\n",
    "y_pred = clf.predict(X_test)\n",
    "accuracy_score(y_test, y_pred)"
   ]
  },
  {
   "cell_type": "markdown",
   "metadata": {},
   "source": [
    "## What's next?"
   ]
  },
  {
   "cell_type": "markdown",
   "metadata": {},
   "source": [
    "Congratulation on completing this tutorial! Check out our following tutorial on using Cleanlab for audio classification, where we even found label errors in one of the most reputable audio datasets!"
   ]
  }
 ],
 "metadata": {
  "interpreter": {
   "hash": "ced20e3e49bb4fa4ce8ad38f8f2535b7fc4c39b2b89554502b5dbdad1ad67eda"
  },
  "kernelspec": {
   "display_name": "Python 3.10.0 64-bit",
   "language": "python",
   "name": "python3"
  },
  "language_info": {
   "codemirror_mode": {
    "name": "ipython",
    "version": 3
   },
   "file_extension": ".py",
   "mimetype": "text/x-python",
   "name": "python",
   "nbconvert_exporter": "python",
   "pygments_lexer": "ipython3",
   "version": "3.8.10"
  },
  "orig_nbformat": 4
 },
 "nbformat": 4,
 "nbformat_minor": 2
}
