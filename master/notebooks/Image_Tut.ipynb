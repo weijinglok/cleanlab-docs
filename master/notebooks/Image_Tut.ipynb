{
 "cells": [
  {
   "cell_type": "markdown",
   "metadata": {},
   "source": [
    "# Image Classification with Cleanlab, PyTorch & Skorch"
   ]
  },
  {
   "cell_type": "markdown",
   "metadata": {},
   "source": [
    "This tutorial will use Cleanlab to find potential label errors in the MNIST handwritten digit image dataset. This dataset contains 60,000 images of handwritten digits from 0 to 9. We'll find *more than a thousand* highly suspicious examples with label errors and edge cases by the end of this tutorial. \n",
    "\n",
    "**Overview of what we'll do in this tutorial:**\n",
    "\n",
    "- Build a simple PyTorch neural net and wrap it with Skorch to make it scikit-learn compatible.\n",
    "\n",
    "- Compute the cross-validated predicted probabilities, ``pyx``, sometimes known as the out-of-sample predicted probabilities.\n",
    "\n",
    "- Generate a list of potential label errors with Cleanlab's ``get_noise_indices``.\n",
    "\n",
    "- Build and train a more robust model than the vanilla model after adapting it with Cleanlab's ``LearningWithNoisyLabels``. \n",
    "\n",
    "**Data:** https://www.openml.org/d/554"
   ]
  },
  {
   "cell_type": "markdown",
   "metadata": {},
   "source": [
    "## 1. Install the required dependencies"
   ]
  },
  {
   "cell_type": "markdown",
   "metadata": {},
   "source": [
    "``%%capture`` is a magic function to hides the cell's output."
   ]
  },
  {
   "cell_type": "code",
   "execution_count": 1,
   "metadata": {
    "execution": {
     "iopub.execute_input": "2022-03-02T05:16:08.519580Z",
     "iopub.status.busy": "2022-03-02T05:16:08.518801Z",
     "iopub.status.idle": "2022-03-02T05:16:42.577501Z",
     "shell.execute_reply": "2022-03-02T05:16:42.576475Z"
    }
   },
   "outputs": [],
   "source": [
    "%%capture\n",
    "\n",
    "%pip install cleanlab pandas matplotlib torch torchvision skorch"
   ]
  },
  {
   "cell_type": "markdown",
   "metadata": {},
   "source": [
    "## 2. Fetch and scale the MNIST dataset"
   ]
  },
  {
   "cell_type": "code",
   "execution_count": 2,
   "metadata": {
    "execution": {
     "iopub.execute_input": "2022-03-02T05:16:42.581755Z",
     "iopub.status.busy": "2022-03-02T05:16:42.581496Z",
     "iopub.status.idle": "2022-03-02T05:19:00.593190Z",
     "shell.execute_reply": "2022-03-02T05:19:00.592327Z"
    }
   },
   "outputs": [],
   "source": [
    "from sklearn.datasets import fetch_openml\n",
    "\n",
    "# Fetch the MNIST dataset\n",
    "mnist = fetch_openml('mnist_784')\n",
    "\n",
    "# Assign the data features and labels to variable X and y respectively \n",
    "X = mnist.data.astype('float32')\n",
    "y = mnist.target.astype('int64')\n"
   ]
  },
  {
   "cell_type": "markdown",
   "metadata": {},
   "source": [
    "<div class=\"alert alert-info\">\n",
    "\n",
    "Bringing Your Own Data (BYOD)?\n",
    "\n",
    "Assign your data's features to variable ``X`` and its labels to variable ``y`` instead.\n",
    "\n",
    "</div>"
   ]
  },
  {
   "cell_type": "code",
   "execution_count": 3,
   "metadata": {
    "execution": {
     "iopub.execute_input": "2022-03-02T05:19:00.596861Z",
     "iopub.status.busy": "2022-03-02T05:19:00.596646Z",
     "iopub.status.idle": "2022-03-02T05:19:00.787568Z",
     "shell.execute_reply": "2022-03-02T05:19:00.786626Z"
    }
   },
   "outputs": [],
   "source": [
    "\n",
    "# Scale the features which range from 0 to 255 (256 levels on the grayscale) \n",
    "X /= 255.0\n",
    "\n",
    "# Then convert it to a numpy array\n",
    "X = X.to_numpy()"
   ]
  },
  {
   "cell_type": "markdown",
   "metadata": {},
   "source": [
    "## 3. Define a classification model"
   ]
  },
  {
   "cell_type": "markdown",
   "metadata": {},
   "source": [
    "Here, we define a simple neural network with PyTorch."
   ]
  },
  {
   "cell_type": "code",
   "execution_count": 4,
   "metadata": {
    "execution": {
     "iopub.execute_input": "2022-03-02T05:19:00.791965Z",
     "iopub.status.busy": "2022-03-02T05:19:00.791539Z",
     "iopub.status.idle": "2022-03-02T05:19:01.706604Z",
     "shell.execute_reply": "2022-03-02T05:19:01.705807Z"
    }
   },
   "outputs": [],
   "source": [
    "from torch import nn\n",
    "\n",
    "class NeuralNetwork(nn.Module):\n",
    "    def __init__(self):\n",
    "        super(NeuralNetwork, self).__init__()\n",
    "        self.dropout = nn.Dropout(0.5)\n",
    "        self.hidden = nn.Linear(28*28, 128)\n",
    "        self.output = nn.Linear(128, 10)\n",
    "\n",
    "    def forward(self, X):\n",
    "        X = nn.functional.relu(self.hidden(X))\n",
    "        X = self.dropout(X)\n",
    "        X = nn.functional.softmax(self.output(X), dim=-1)\n",
    "        return X"
   ]
  },
  {
   "cell_type": "markdown",
   "metadata": {},
   "source": [
    "## 4. Wrap with Skorch for scikit-learn compatibility"
   ]
  },
  {
   "cell_type": "markdown",
   "metadata": {},
   "source": [
    "As some of Cleanlab's feature requires scikit-learn compatibility, we will need to adapt the above PyTorch neural net accordingly. Skorch is a convenient package that helps with this, read more about it here: https://skorch.readthedocs.io"
   ]
  },
  {
   "cell_type": "code",
   "execution_count": 5,
   "metadata": {
    "execution": {
     "iopub.execute_input": "2022-03-02T05:19:01.710725Z",
     "iopub.status.busy": "2022-03-02T05:19:01.710505Z",
     "iopub.status.idle": "2022-03-02T05:19:01.847105Z",
     "shell.execute_reply": "2022-03-02T05:19:01.846290Z"
    }
   },
   "outputs": [],
   "source": [
    "from skorch import NeuralNetClassifier\n",
    "\n",
    "# Wrap the PyTorch neural net around Skorch's NeuralNetClassifier wrapper\n",
    "net = NeuralNetClassifier(NeuralNetwork)"
   ]
  },
  {
   "cell_type": "markdown",
   "metadata": {},
   "source": [
    "## 5. Compute the cross-validated predicted probabilities"
   ]
  },
  {
   "cell_type": "markdown",
   "metadata": {},
   "source": [
    "If we'd like Cleanlab to identify potential label errors in the whole dataset and not just the training set, we can consider fitting the entire dataset. We will only use this model instance to compute the cross-validated predicted probabilities, ``pyx``, and not for model evaluation."
   ]
  },
  {
   "cell_type": "code",
   "execution_count": 6,
   "metadata": {
    "execution": {
     "iopub.execute_input": "2022-03-02T05:19:01.851435Z",
     "iopub.status.busy": "2022-03-02T05:19:01.850922Z",
     "iopub.status.idle": "2022-03-02T05:19:23.961585Z",
     "shell.execute_reply": "2022-03-02T05:19:23.960817Z"
    }
   },
   "outputs": [
    {
     "name": "stdout",
     "output_type": "stream",
     "text": [
      "  epoch    train_loss    valid_acc    valid_loss     dur\n",
      "-------  ------------  -----------  ------------  ------\n",
      "      1        \u001b[36m1.8170\u001b[0m       \u001b[32m0.7829\u001b[0m        \u001b[35m1.2001\u001b[0m  2.1940\n"
     ]
    },
    {
     "name": "stdout",
     "output_type": "stream",
     "text": [
      "      2        \u001b[36m0.9870\u001b[0m       \u001b[32m0.8411\u001b[0m        \u001b[35m0.6997\u001b[0m  2.1713\n"
     ]
    },
    {
     "name": "stdout",
     "output_type": "stream",
     "text": [
      "      3        \u001b[36m0.7239\u001b[0m       \u001b[32m0.8634\u001b[0m        \u001b[35m0.5506\u001b[0m  2.2315\n"
     ]
    },
    {
     "name": "stdout",
     "output_type": "stream",
     "text": [
      "      4        \u001b[36m0.6128\u001b[0m       \u001b[32m0.8761\u001b[0m        \u001b[35m0.4786\u001b[0m  2.2012\n"
     ]
    },
    {
     "name": "stdout",
     "output_type": "stream",
     "text": [
      "      5        \u001b[36m0.5558\u001b[0m       \u001b[32m0.8843\u001b[0m        \u001b[35m0.4354\u001b[0m  2.2313\n"
     ]
    },
    {
     "name": "stdout",
     "output_type": "stream",
     "text": [
      "      6        \u001b[36m0.5124\u001b[0m       \u001b[32m0.8910\u001b[0m        \u001b[35m0.4059\u001b[0m  2.1987\n"
     ]
    },
    {
     "name": "stdout",
     "output_type": "stream",
     "text": [
      "      7        \u001b[36m0.4803\u001b[0m       \u001b[32m0.8962\u001b[0m        \u001b[35m0.3836\u001b[0m  2.2101\n"
     ]
    },
    {
     "name": "stdout",
     "output_type": "stream",
     "text": [
      "      8        \u001b[36m0.4601\u001b[0m       \u001b[32m0.8996\u001b[0m        \u001b[35m0.3664\u001b[0m  2.2052\n"
     ]
    },
    {
     "name": "stdout",
     "output_type": "stream",
     "text": [
      "      9        \u001b[36m0.4390\u001b[0m       \u001b[32m0.9037\u001b[0m        \u001b[35m0.3520\u001b[0m  2.1687\n"
     ]
    },
    {
     "name": "stdout",
     "output_type": "stream",
     "text": [
      "     10        \u001b[36m0.4237\u001b[0m       \u001b[32m0.9067\u001b[0m        \u001b[35m0.3396\u001b[0m  2.1993\n"
     ]
    }
   ],
   "source": [
    "_ = net.fit(X, y)"
   ]
  },
  {
   "cell_type": "markdown",
   "metadata": {},
   "source": [
    "Compute the cross-validated predicted probabilities, ``pyx``, sometimes also known as the out-of-sample predicted probabilities."
   ]
  },
  {
   "cell_type": "code",
   "execution_count": 7,
   "metadata": {
    "execution": {
     "iopub.execute_input": "2022-03-02T05:19:23.965687Z",
     "iopub.status.busy": "2022-03-02T05:19:23.965463Z",
     "iopub.status.idle": "2022-03-02T05:19:55.115232Z",
     "shell.execute_reply": "2022-03-02T05:19:55.114510Z"
    }
   },
   "outputs": [
    {
     "name": "stdout",
     "output_type": "stream",
     "text": [
      "  epoch    train_loss    valid_acc    valid_loss     dur\n",
      "-------  ------------  -----------  ------------  ------\n",
      "      1        \u001b[36m2.0008\u001b[0m       \u001b[32m0.7107\u001b[0m        \u001b[35m1.5943\u001b[0m  0.9575\n"
     ]
    },
    {
     "name": "stdout",
     "output_type": "stream",
     "text": [
      "      2        \u001b[36m1.2755\u001b[0m       \u001b[32m0.7943\u001b[0m        \u001b[35m0.9725\u001b[0m  1.0281\n"
     ]
    },
    {
     "name": "stdout",
     "output_type": "stream",
     "text": [
      "      3        \u001b[36m0.8985\u001b[0m       \u001b[32m0.8300\u001b[0m        \u001b[35m0.7303\u001b[0m  1.0697\n"
     ]
    },
    {
     "name": "stdout",
     "output_type": "stream",
     "text": [
      "      4        \u001b[36m0.7341\u001b[0m       \u001b[32m0.8469\u001b[0m        \u001b[35m0.6168\u001b[0m  0.9817\n"
     ]
    },
    {
     "name": "stdout",
     "output_type": "stream",
     "text": [
      "      5        \u001b[36m0.6456\u001b[0m       \u001b[32m0.8598\u001b[0m        \u001b[35m0.5487\u001b[0m  0.9601\n"
     ]
    },
    {
     "name": "stdout",
     "output_type": "stream",
     "text": [
      "      6        \u001b[36m0.5869\u001b[0m       \u001b[32m0.8666\u001b[0m        \u001b[35m0.5043\u001b[0m  1.0366\n"
     ]
    },
    {
     "name": "stdout",
     "output_type": "stream",
     "text": [
      "      7        \u001b[36m0.5468\u001b[0m       \u001b[32m0.8715\u001b[0m        \u001b[35m0.4734\u001b[0m  0.9707\n"
     ]
    },
    {
     "name": "stdout",
     "output_type": "stream",
     "text": [
      "      8        \u001b[36m0.5162\u001b[0m       \u001b[32m0.8758\u001b[0m        \u001b[35m0.4496\u001b[0m  0.9779\n"
     ]
    },
    {
     "name": "stdout",
     "output_type": "stream",
     "text": [
      "      9        \u001b[36m0.4916\u001b[0m       \u001b[32m0.8786\u001b[0m        \u001b[35m0.4307\u001b[0m  0.9754\n"
     ]
    },
    {
     "name": "stdout",
     "output_type": "stream",
     "text": [
      "     10        \u001b[36m0.4697\u001b[0m       \u001b[32m0.8816\u001b[0m        \u001b[35m0.4149\u001b[0m  0.9908\n"
     ]
    },
    {
     "name": "stdout",
     "output_type": "stream",
     "text": [
      "  epoch    train_loss    valid_acc    valid_loss     dur\n",
      "-------  ------------  -----------  ------------  ------\n",
      "      1        \u001b[36m2.0048\u001b[0m       \u001b[32m0.7421\u001b[0m        \u001b[35m1.5812\u001b[0m  0.9380\n"
     ]
    },
    {
     "name": "stdout",
     "output_type": "stream",
     "text": [
      "      2        \u001b[36m1.2868\u001b[0m       \u001b[32m0.8081\u001b[0m        \u001b[35m0.9622\u001b[0m  0.9779\n"
     ]
    },
    {
     "name": "stdout",
     "output_type": "stream",
     "text": [
      "      3        \u001b[36m0.9124\u001b[0m       \u001b[32m0.8370\u001b[0m        \u001b[35m0.7174\u001b[0m  0.9595\n"
     ]
    },
    {
     "name": "stdout",
     "output_type": "stream",
     "text": [
      "      4        \u001b[36m0.7515\u001b[0m       \u001b[32m0.8534\u001b[0m        \u001b[35m0.6011\u001b[0m  0.9626\n"
     ]
    },
    {
     "name": "stdout",
     "output_type": "stream",
     "text": [
      "      5        \u001b[36m0.6581\u001b[0m       \u001b[32m0.8655\u001b[0m        \u001b[35m0.5318\u001b[0m  1.1236\n"
     ]
    },
    {
     "name": "stdout",
     "output_type": "stream",
     "text": [
      "      6        \u001b[36m0.6001\u001b[0m       \u001b[32m0.8747\u001b[0m        \u001b[35m0.4859\u001b[0m  0.9407\n"
     ]
    },
    {
     "name": "stdout",
     "output_type": "stream",
     "text": [
      "      7        \u001b[36m0.5546\u001b[0m       \u001b[32m0.8823\u001b[0m        \u001b[35m0.4532\u001b[0m  0.9735\n"
     ]
    },
    {
     "name": "stdout",
     "output_type": "stream",
     "text": [
      "      8        \u001b[36m0.5223\u001b[0m       \u001b[32m0.8883\u001b[0m        \u001b[35m0.4274\u001b[0m  1.0102\n"
     ]
    },
    {
     "name": "stdout",
     "output_type": "stream",
     "text": [
      "      9        \u001b[36m0.4987\u001b[0m       \u001b[32m0.8916\u001b[0m        \u001b[35m0.4076\u001b[0m  1.0180\n"
     ]
    },
    {
     "name": "stdout",
     "output_type": "stream",
     "text": [
      "     10        \u001b[36m0.4764\u001b[0m       \u001b[32m0.8953\u001b[0m        \u001b[35m0.3914\u001b[0m  0.9581\n"
     ]
    },
    {
     "name": "stdout",
     "output_type": "stream",
     "text": [
      "  epoch    train_loss    valid_acc    valid_loss     dur\n",
      "-------  ------------  -----------  ------------  ------\n",
      "      1        \u001b[36m1.9782\u001b[0m       \u001b[32m0.7488\u001b[0m        \u001b[35m1.5494\u001b[0m  0.9410\n"
     ]
    },
    {
     "name": "stdout",
     "output_type": "stream",
     "text": [
      "      2        \u001b[36m1.2799\u001b[0m       \u001b[32m0.8093\u001b[0m        \u001b[35m0.9393\u001b[0m  0.9558\n"
     ]
    },
    {
     "name": "stdout",
     "output_type": "stream",
     "text": [
      "      3        \u001b[36m0.9153\u001b[0m       \u001b[32m0.8440\u001b[0m        \u001b[35m0.7006\u001b[0m  0.9369\n"
     ]
    },
    {
     "name": "stdout",
     "output_type": "stream",
     "text": [
      "      4        \u001b[36m0.7529\u001b[0m       \u001b[32m0.8628\u001b[0m        \u001b[35m0.5861\u001b[0m  0.9607\n"
     ]
    },
    {
     "name": "stdout",
     "output_type": "stream",
     "text": [
      "      5        \u001b[36m0.6651\u001b[0m       \u001b[32m0.8734\u001b[0m        \u001b[35m0.5192\u001b[0m  0.9453\n"
     ]
    },
    {
     "name": "stdout",
     "output_type": "stream",
     "text": [
      "      6        \u001b[36m0.6076\u001b[0m       \u001b[32m0.8826\u001b[0m        \u001b[35m0.4750\u001b[0m  0.9541\n"
     ]
    },
    {
     "name": "stdout",
     "output_type": "stream",
     "text": [
      "      7        \u001b[36m0.5669\u001b[0m       \u001b[32m0.8874\u001b[0m        \u001b[35m0.4427\u001b[0m  0.9708\n"
     ]
    },
    {
     "name": "stdout",
     "output_type": "stream",
     "text": [
      "      8        \u001b[36m0.5385\u001b[0m       \u001b[32m0.8933\u001b[0m        \u001b[35m0.4192\u001b[0m  0.9384\n"
     ]
    },
    {
     "name": "stdout",
     "output_type": "stream",
     "text": [
      "      9        \u001b[36m0.5117\u001b[0m       \u001b[32m0.8950\u001b[0m        \u001b[35m0.4003\u001b[0m  0.9366\n"
     ]
    },
    {
     "name": "stdout",
     "output_type": "stream",
     "text": [
      "     10        \u001b[36m0.4886\u001b[0m       \u001b[32m0.8987\u001b[0m        \u001b[35m0.3842\u001b[0m  0.9482\n"
     ]
    }
   ],
   "source": [
    "from sklearn.model_selection import cross_val_predict\n",
    "\n",
    "pyx = cross_val_predict(net, X, y, cv=3, method='predict_proba')"
   ]
  },
  {
   "cell_type": "markdown",
   "metadata": {},
   "source": [
    "## 6. Run Cleanlab to find potential label errors"
   ]
  },
  {
   "cell_type": "markdown",
   "metadata": {},
   "source": [
    "Cleanlab has a ``get_noise_indices`` function to generate a list of potential label errors. Setting ``sorted_index_method=\"prob_given_label\"`` returns the indices of all the most likely label errors, sorted by the most suspicious example first."
   ]
  },
  {
   "cell_type": "code",
   "execution_count": 8,
   "metadata": {
    "execution": {
     "iopub.execute_input": "2022-03-02T05:19:55.119569Z",
     "iopub.status.busy": "2022-03-02T05:19:55.119220Z",
     "iopub.status.idle": "2022-03-02T05:19:55.637058Z",
     "shell.execute_reply": "2022-03-02T05:19:55.635781Z"
    }
   },
   "outputs": [],
   "source": [
    "from cleanlab.pruning import get_noise_indices\n",
    "\n",
    "ordered_label_errors = get_noise_indices(\n",
    "    s=y,\n",
    "    psx=pyx,\n",
    "    sorted_index_method=\"prob_given_label\"\n",
    ")"
   ]
  },
  {
   "cell_type": "markdown",
   "metadata": {},
   "source": [
    "## 7. Review some of the most likely mislabeled examples"
   ]
  },
  {
   "cell_type": "code",
   "execution_count": 9,
   "metadata": {
    "execution": {
     "iopub.execute_input": "2022-03-02T05:19:55.642297Z",
     "iopub.status.busy": "2022-03-02T05:19:55.642060Z",
     "iopub.status.idle": "2022-03-02T05:19:55.650690Z",
     "shell.execute_reply": "2022-03-02T05:19:55.649953Z"
    }
   },
   "outputs": [
    {
     "name": "stdout",
     "output_type": "stream",
     "text": [
      "Cleanlab found 1226 potential label errors. Here are the indices of the top 15 most likely ones: \n",
      " [24798 18598  8729 20820 15942 39457  1352 12679 20735 59915 53216 66091\n",
      " 40466 55739  2676]\n"
     ]
    }
   ],
   "source": [
    "print(f\"Cleanlab found {len(ordered_label_errors)} potential label errors. Here are the indices of the top 15 most likely ones: \\n {ordered_label_errors[:15]}\")"
   ]
  },
  {
   "cell_type": "markdown",
   "metadata": {},
   "source": [
    "We'll define a new ``plot_examples`` function to display any examples in a subplot conveniently."
   ]
  },
  {
   "cell_type": "code",
   "execution_count": 10,
   "metadata": {
    "execution": {
     "iopub.execute_input": "2022-03-02T05:19:55.654181Z",
     "iopub.status.busy": "2022-03-02T05:19:55.653975Z",
     "iopub.status.idle": "2022-03-02T05:19:56.754175Z",
     "shell.execute_reply": "2022-03-02T05:19:56.753386Z"
    }
   },
   "outputs": [],
   "source": [
    "import matplotlib.pyplot as plt\n",
    "\n",
    "def plot_examples(id_iter, nrows=1, ncols=1):\n",
    "    for count, id in enumerate(id_iter):\n",
    "        plt.subplot(nrows, ncols, count+1)\n",
    "        plt.imshow(X[id].reshape(28, 28))\n",
    "        plt.title(f\"id: {id} \\n label: {y[id]}\")\n",
    "        plt.axis('off')\n",
    "\n",
    "    plt.tight_layout(h_pad=2.0)"
   ]
  },
  {
   "cell_type": "markdown",
   "metadata": {},
   "source": [
    "Let's start by having an overview of the top 15 most likely label errors. From here, we can see a few label errors and edge cases. Feel free to change the parameters to display more or fewer examples. "
   ]
  },
  {
   "cell_type": "code",
   "execution_count": 11,
   "metadata": {
    "execution": {
     "iopub.execute_input": "2022-03-02T05:19:56.757846Z",
     "iopub.status.busy": "2022-03-02T05:19:56.757618Z",
     "iopub.status.idle": "2022-03-02T05:19:57.430634Z",
     "shell.execute_reply": "2022-03-02T05:19:57.429850Z"
    }
   },
   "outputs": [
    {
     "data": {
      "image/png": "[encoded data removed]",
      "text/plain": [
       "<Figure size 432x288 with 15 Axes>"
      ]
     },
     "metadata": {
      "needs_background": "light"
     },
     "output_type": "display_data"
    }
   ],
   "source": [
    "plot_examples(ordered_label_errors[range(15)], 3, 5)"
   ]
  },
  {
   "cell_type": "markdown",
   "metadata": {},
   "source": [
    "Let's zoom into specific examples:"
   ]
  },
  {
   "cell_type": "markdown",
   "metadata": {},
   "source": [
    "Given label is **4** but looks more like a **7**"
   ]
  },
  {
   "cell_type": "code",
   "execution_count": 12,
   "metadata": {
    "execution": {
     "iopub.execute_input": "2022-03-02T05:19:57.433945Z",
     "iopub.status.busy": "2022-03-02T05:19:57.433709Z",
     "iopub.status.idle": "2022-03-02T05:19:57.526539Z",
     "shell.execute_reply": "2022-03-02T05:19:57.525500Z"
    }
   },
   "outputs": [
    {
     "data": {
      "image/png": "[encoded data removed]",
      "text/plain": [
       "<Figure size 432x288 with 1 Axes>"
      ]
     },
     "metadata": {
      "needs_background": "light"
     },
     "output_type": "display_data"
    }
   ],
   "source": [
    "plot_examples([59915])"
   ]
  },
  {
   "cell_type": "markdown",
   "metadata": {},
   "source": [
    "Given label is **4** but also looks like **9**"
   ]
  },
  {
   "cell_type": "code",
   "execution_count": 13,
   "metadata": {
    "execution": {
     "iopub.execute_input": "2022-03-02T05:19:57.532523Z",
     "iopub.status.busy": "2022-03-02T05:19:57.531842Z",
     "iopub.status.idle": "2022-03-02T05:19:57.612989Z",
     "shell.execute_reply": "2022-03-02T05:19:57.612303Z"
    }
   },
   "outputs": [
    {
     "data": {
      "image/png": "[encoded data removed]",
      "text/plain": [
       "<Figure size 432x288 with 1 Axes>"
      ]
     },
     "metadata": {
      "needs_background": "light"
     },
     "output_type": "display_data"
    }
   ],
   "source": [
    "plot_examples([24798])"
   ]
  },
  {
   "cell_type": "markdown",
   "metadata": {},
   "source": [
    "Edge case of odd looking **9**s"
   ]
  },
  {
   "cell_type": "code",
   "execution_count": 14,
   "metadata": {
    "execution": {
     "iopub.execute_input": "2022-03-02T05:19:57.616994Z",
     "iopub.status.busy": "2022-03-02T05:19:57.616644Z",
     "iopub.status.idle": "2022-03-02T05:19:57.880536Z",
     "shell.execute_reply": "2022-03-02T05:19:57.879783Z"
    }
   },
   "outputs": [
    {
     "data": {
      "image/png": "[encoded data removed]",
      "text/plain": [
       "<Figure size 432x288 with 3 Axes>"
      ]
     },
     "metadata": {
      "needs_background": "light"
     },
     "output_type": "display_data"
    }
   ],
   "source": [
    "plot_examples([18598, 1352, 61247], 1, 3)"
   ]
  },
  {
   "cell_type": "markdown",
   "metadata": {},
   "source": [
    "Cleanlab has shortlisted the most likely label errors to speed up your data cleaning process. With this list, you can decide whether to fix label errors, augment edge cases or remove obscure examples. \n",
    "\n",
    "These human-in-the-loop processes may be time-consuming, so if you'd like Cleanlab to automatically remove these noisy examples and train a model directly on the partially mislabeled dataset, you're in luck! Cleanlab provides a ``LearningWithNoisyLabels`` wrapper to do precisely this:"
   ]
  },
  {
   "cell_type": "markdown",
   "metadata": {},
   "source": [
    "## 8. Adapt with Cleanlab's wrapper and train a more robust model"
   ]
  },
  {
   "cell_type": "markdown",
   "metadata": {},
   "source": [
    "First, we split the dataset into train and test subsets."
   ]
  },
  {
   "cell_type": "code",
   "execution_count": 15,
   "metadata": {
    "execution": {
     "iopub.execute_input": "2022-03-02T05:19:57.884143Z",
     "iopub.status.busy": "2022-03-02T05:19:57.883916Z",
     "iopub.status.idle": "2022-03-02T05:19:58.643393Z",
     "shell.execute_reply": "2022-03-02T05:19:58.642547Z"
    }
   },
   "outputs": [],
   "source": [
    "from sklearn.model_selection import train_test_split\n",
    "\n",
    "X_train, X_test, y_train, y_test = train_test_split(X, y, test_size=0.2)"
   ]
  },
  {
   "cell_type": "markdown",
   "metadata": {},
   "source": [
    "Re-instantiate a new scikit-learn compatible model with Skorch then wrap it with Cleanlab's ``LearningWithNoisyLabels`` wrapper."
   ]
  },
  {
   "cell_type": "code",
   "execution_count": 16,
   "metadata": {
    "execution": {
     "iopub.execute_input": "2022-03-02T05:19:58.646746Z",
     "iopub.status.busy": "2022-03-02T05:19:58.646553Z",
     "iopub.status.idle": "2022-03-02T05:19:58.650507Z",
     "shell.execute_reply": "2022-03-02T05:19:58.649872Z"
    }
   },
   "outputs": [],
   "source": [
    "from cleanlab.classification import LearningWithNoisyLabels\n",
    "\n",
    "net = NeuralNetClassifier(NeuralNetwork)\n",
    "clf = LearningWithNoisyLabels(clf=net)"
   ]
  },
  {
   "cell_type": "code",
   "execution_count": 17,
   "metadata": {
    "execution": {
     "iopub.execute_input": "2022-03-02T05:19:58.653345Z",
     "iopub.status.busy": "2022-03-02T05:19:58.652982Z",
     "iopub.status.idle": "2022-03-02T05:21:00.598027Z",
     "shell.execute_reply": "2022-03-02T05:21:00.597112Z"
    }
   },
   "outputs": [
    {
     "name": "stdout",
     "output_type": "stream",
     "text": [
      "  epoch    train_loss    valid_acc    valid_loss     dur\n",
      "-------  ------------  -----------  ------------  ------\n",
      "      1        \u001b[36m2.0122\u001b[0m       \u001b[32m0.7215\u001b[0m        \u001b[35m1.6203\u001b[0m  0.9202\n"
     ]
    },
    {
     "name": "stdout",
     "output_type": "stream",
     "text": [
      "      2        \u001b[36m1.3281\u001b[0m       \u001b[32m0.8156\u001b[0m        \u001b[35m0.9953\u001b[0m  0.9356\n"
     ]
    },
    {
     "name": "stdout",
     "output_type": "stream",
     "text": [
      "      3        \u001b[36m0.9417\u001b[0m       \u001b[32m0.8436\u001b[0m        \u001b[35m0.7337\u001b[0m  0.9254\n"
     ]
    },
    {
     "name": "stdout",
     "output_type": "stream",
     "text": [
      "      4        \u001b[36m0.7682\u001b[0m       \u001b[32m0.8592\u001b[0m        \u001b[35m0.6098\u001b[0m  0.9798\n"
     ]
    },
    {
     "name": "stdout",
     "output_type": "stream",
     "text": [
      "      5        \u001b[36m0.6736\u001b[0m       \u001b[32m0.8694\u001b[0m        \u001b[35m0.5385\u001b[0m  0.9450\n"
     ]
    },
    {
     "name": "stdout",
     "output_type": "stream",
     "text": [
      "      6        \u001b[36m0.6136\u001b[0m       \u001b[32m0.8765\u001b[0m        \u001b[35m0.4918\u001b[0m  0.9283\n"
     ]
    },
    {
     "name": "stdout",
     "output_type": "stream",
     "text": [
      "      7        \u001b[36m0.5680\u001b[0m       \u001b[32m0.8831\u001b[0m        \u001b[35m0.4581\u001b[0m  0.9088\n"
     ]
    },
    {
     "name": "stdout",
     "output_type": "stream",
     "text": [
      "      8        \u001b[36m0.5359\u001b[0m       \u001b[32m0.8877\u001b[0m        \u001b[35m0.4327\u001b[0m  0.9283\n"
     ]
    },
    {
     "name": "stdout",
     "output_type": "stream",
     "text": [
      "      9        \u001b[36m0.5065\u001b[0m       \u001b[32m0.8908\u001b[0m        \u001b[35m0.4130\u001b[0m  0.9345\n"
     ]
    },
    {
     "name": "stdout",
     "output_type": "stream",
     "text": [
      "     10        \u001b[36m0.4878\u001b[0m       \u001b[32m0.8938\u001b[0m        \u001b[35m0.3967\u001b[0m  0.9382\n"
     ]
    },
    {
     "name": "stdout",
     "output_type": "stream",
     "text": [
      "  epoch    train_loss    valid_acc    valid_loss     dur\n",
      "-------  ------------  -----------  ------------  ------\n",
      "      1        \u001b[36m2.0062\u001b[0m       \u001b[32m0.7641\u001b[0m        \u001b[35m1.5952\u001b[0m  0.9726\n"
     ]
    },
    {
     "name": "stdout",
     "output_type": "stream",
     "text": [
      "      2        \u001b[36m1.2962\u001b[0m       \u001b[32m0.8242\u001b[0m        \u001b[35m0.9548\u001b[0m  0.9212\n"
     ]
    },
    {
     "name": "stdout",
     "output_type": "stream",
     "text": [
      "      3        \u001b[36m0.9193\u001b[0m       \u001b[32m0.8503\u001b[0m        \u001b[35m0.7051\u001b[0m  0.9188\n"
     ]
    },
    {
     "name": "stdout",
     "output_type": "stream",
     "text": [
      "      4        \u001b[36m0.7526\u001b[0m       \u001b[32m0.8648\u001b[0m        \u001b[35m0.5889\u001b[0m  0.9268\n"
     ]
    },
    {
     "name": "stdout",
     "output_type": "stream",
     "text": [
      "      5        \u001b[36m0.6628\u001b[0m       \u001b[32m0.8749\u001b[0m        \u001b[35m0.5231\u001b[0m  0.9684\n"
     ]
    },
    {
     "name": "stdout",
     "output_type": "stream",
     "text": [
      "      6        \u001b[36m0.6067\u001b[0m       \u001b[32m0.8801\u001b[0m        \u001b[35m0.4805\u001b[0m  0.9347\n"
     ]
    },
    {
     "name": "stdout",
     "output_type": "stream",
     "text": [
      "      7        \u001b[36m0.5666\u001b[0m       \u001b[32m0.8856\u001b[0m        \u001b[35m0.4492\u001b[0m  0.9103\n"
     ]
    },
    {
     "name": "stdout",
     "output_type": "stream",
     "text": [
      "      8        \u001b[36m0.5373\u001b[0m       \u001b[32m0.8896\u001b[0m        \u001b[35m0.4267\u001b[0m  0.9153\n"
     ]
    },
    {
     "name": "stdout",
     "output_type": "stream",
     "text": [
      "      9        \u001b[36m0.5089\u001b[0m       \u001b[32m0.8931\u001b[0m        \u001b[35m0.4078\u001b[0m  0.9359\n"
     ]
    },
    {
     "name": "stdout",
     "output_type": "stream",
     "text": [
      "     10        \u001b[36m0.4938\u001b[0m       \u001b[32m0.8972\u001b[0m        \u001b[35m0.3931\u001b[0m  0.9306\n"
     ]
    },
    {
     "name": "stdout",
     "output_type": "stream",
     "text": [
      "  epoch    train_loss    valid_acc    valid_loss     dur\n",
      "-------  ------------  -----------  ------------  ------\n",
      "      1        \u001b[36m2.0116\u001b[0m       \u001b[32m0.7417\u001b[0m        \u001b[35m1.6164\u001b[0m  0.9517\n"
     ]
    },
    {
     "name": "stdout",
     "output_type": "stream",
     "text": [
      "      2        \u001b[36m1.3167\u001b[0m       \u001b[32m0.8177\u001b[0m        \u001b[35m0.9819\u001b[0m  0.9386\n"
     ]
    },
    {
     "name": "stdout",
     "output_type": "stream",
     "text": [
      "      3        \u001b[36m0.9317\u001b[0m       \u001b[32m0.8444\u001b[0m        \u001b[35m0.7256\u001b[0m  0.9316\n"
     ]
    },
    {
     "name": "stdout",
     "output_type": "stream",
     "text": [
      "      4        \u001b[36m0.7610\u001b[0m       \u001b[32m0.8593\u001b[0m        \u001b[35m0.6063\u001b[0m  0.9750\n"
     ]
    },
    {
     "name": "stdout",
     "output_type": "stream",
     "text": [
      "      5        \u001b[36m0.6680\u001b[0m       \u001b[32m0.8694\u001b[0m        \u001b[35m0.5369\u001b[0m  0.9495\n"
     ]
    },
    {
     "name": "stdout",
     "output_type": "stream",
     "text": [
      "      6        \u001b[36m0.6054\u001b[0m       \u001b[32m0.8771\u001b[0m        \u001b[35m0.4912\u001b[0m  0.9442\n"
     ]
    },
    {
     "name": "stdout",
     "output_type": "stream",
     "text": [
      "      7        \u001b[36m0.5603\u001b[0m       \u001b[32m0.8826\u001b[0m        \u001b[35m0.4586\u001b[0m  1.0012\n"
     ]
    },
    {
     "name": "stdout",
     "output_type": "stream",
     "text": [
      "      8        \u001b[36m0.5347\u001b[0m       \u001b[32m0.8873\u001b[0m        \u001b[35m0.4348\u001b[0m  1.0003\n"
     ]
    },
    {
     "name": "stdout",
     "output_type": "stream",
     "text": [
      "      9        \u001b[36m0.5065\u001b[0m       \u001b[32m0.8902\u001b[0m        \u001b[35m0.4155\u001b[0m  0.9532\n"
     ]
    },
    {
     "name": "stdout",
     "output_type": "stream",
     "text": [
      "     10        \u001b[36m0.4818\u001b[0m       \u001b[32m0.8934\u001b[0m        \u001b[35m0.3988\u001b[0m  0.9330\n"
     ]
    },
    {
     "name": "stdout",
     "output_type": "stream",
     "text": [
      "  epoch    train_loss    valid_acc    valid_loss     dur\n",
      "-------  ------------  -----------  ------------  ------\n",
      "      1        \u001b[36m1.9990\u001b[0m       \u001b[32m0.7155\u001b[0m        \u001b[35m1.5928\u001b[0m  0.9331\n"
     ]
    },
    {
     "name": "stdout",
     "output_type": "stream",
     "text": [
      "      2        \u001b[36m1.3117\u001b[0m       \u001b[32m0.8054\u001b[0m        \u001b[35m0.9897\u001b[0m  0.9303\n"
     ]
    },
    {
     "name": "stdout",
     "output_type": "stream",
     "text": [
      "      3        \u001b[36m0.9391\u001b[0m       \u001b[32m0.8358\u001b[0m        \u001b[35m0.7381\u001b[0m  0.9488\n"
     ]
    },
    {
     "name": "stdout",
     "output_type": "stream",
     "text": [
      "      4        \u001b[36m0.7749\u001b[0m       \u001b[32m0.8518\u001b[0m        \u001b[35m0.6177\u001b[0m  0.9316\n"
     ]
    },
    {
     "name": "stdout",
     "output_type": "stream",
     "text": [
      "      5        \u001b[36m0.6786\u001b[0m       \u001b[32m0.8644\u001b[0m        \u001b[35m0.5463\u001b[0m  0.9699\n"
     ]
    },
    {
     "name": "stdout",
     "output_type": "stream",
     "text": [
      "      6        \u001b[36m0.6168\u001b[0m       \u001b[32m0.8743\u001b[0m        \u001b[35m0.4993\u001b[0m  0.9700\n"
     ]
    },
    {
     "name": "stdout",
     "output_type": "stream",
     "text": [
      "      7        \u001b[36m0.5756\u001b[0m       \u001b[32m0.8807\u001b[0m        \u001b[35m0.4658\u001b[0m  0.9652\n"
     ]
    },
    {
     "name": "stdout",
     "output_type": "stream",
     "text": [
      "      8        \u001b[36m0.5380\u001b[0m       \u001b[32m0.8866\u001b[0m        \u001b[35m0.4389\u001b[0m  0.9918\n"
     ]
    },
    {
     "name": "stdout",
     "output_type": "stream",
     "text": [
      "      9        \u001b[36m0.5157\u001b[0m       \u001b[32m0.8902\u001b[0m        \u001b[35m0.4198\u001b[0m  1.0175\n"
     ]
    },
    {
     "name": "stdout",
     "output_type": "stream",
     "text": [
      "     10        \u001b[36m0.4919\u001b[0m       \u001b[32m0.8931\u001b[0m        \u001b[35m0.4028\u001b[0m  1.0250\n"
     ]
    },
    {
     "name": "stdout",
     "output_type": "stream",
     "text": [
      "  epoch    train_loss    valid_acc    valid_loss     dur\n",
      "-------  ------------  -----------  ------------  ------\n",
      "      1        \u001b[36m2.0244\u001b[0m       \u001b[32m0.7362\u001b[0m        \u001b[35m1.6378\u001b[0m  1.1698\n"
     ]
    },
    {
     "name": "stdout",
     "output_type": "stream",
     "text": [
      "      2        \u001b[36m1.3328\u001b[0m       \u001b[32m0.8118\u001b[0m        \u001b[35m0.9924\u001b[0m  0.9957\n"
     ]
    },
    {
     "name": "stdout",
     "output_type": "stream",
     "text": [
      "      3        \u001b[36m0.9353\u001b[0m       \u001b[32m0.8416\u001b[0m        \u001b[35m0.7293\u001b[0m  1.0255\n"
     ]
    },
    {
     "name": "stdout",
     "output_type": "stream",
     "text": [
      "      4        \u001b[36m0.7662\u001b[0m       \u001b[32m0.8584\u001b[0m        \u001b[35m0.6084\u001b[0m  0.9804\n"
     ]
    },
    {
     "name": "stdout",
     "output_type": "stream",
     "text": [
      "      5        \u001b[36m0.6737\u001b[0m       \u001b[32m0.8699\u001b[0m        \u001b[35m0.5393\u001b[0m  1.0083\n"
     ]
    },
    {
     "name": "stdout",
     "output_type": "stream",
     "text": [
      "      6        \u001b[36m0.6161\u001b[0m       \u001b[32m0.8780\u001b[0m        \u001b[35m0.4936\u001b[0m  0.9490\n"
     ]
    },
    {
     "name": "stdout",
     "output_type": "stream",
     "text": [
      "      7        \u001b[36m0.5700\u001b[0m       \u001b[32m0.8827\u001b[0m        \u001b[35m0.4606\u001b[0m  0.9482\n"
     ]
    },
    {
     "name": "stdout",
     "output_type": "stream",
     "text": [
      "      8        \u001b[36m0.5389\u001b[0m       \u001b[32m0.8866\u001b[0m        \u001b[35m0.4363\u001b[0m  0.9404\n"
     ]
    },
    {
     "name": "stdout",
     "output_type": "stream",
     "text": [
      "      9        \u001b[36m0.5147\u001b[0m       \u001b[32m0.8896\u001b[0m        \u001b[35m0.4172\u001b[0m  0.9541\n"
     ]
    },
    {
     "name": "stdout",
     "output_type": "stream",
     "text": [
      "     10        \u001b[36m0.4936\u001b[0m       \u001b[32m0.8945\u001b[0m        \u001b[35m0.4013\u001b[0m  0.9483\n"
     ]
    },
    {
     "name": "stdout",
     "output_type": "stream",
     "text": [
      "  epoch    train_loss    valid_acc    valid_loss     dur\n",
      "-------  ------------  -----------  ------------  ------\n",
      "      1        \u001b[36m1.9337\u001b[0m       \u001b[32m0.7455\u001b[0m        \u001b[35m1.4265\u001b[0m  1.2764\n"
     ]
    },
    {
     "name": "stdout",
     "output_type": "stream",
     "text": [
      "      2        \u001b[36m1.1414\u001b[0m       \u001b[32m0.8364\u001b[0m        \u001b[35m0.8164\u001b[0m  1.2112\n"
     ]
    },
    {
     "name": "stdout",
     "output_type": "stream",
     "text": [
      "      3        \u001b[36m0.7974\u001b[0m       \u001b[32m0.8647\u001b[0m        \u001b[35m0.6010\u001b[0m  1.1595\n"
     ]
    },
    {
     "name": "stdout",
     "output_type": "stream",
     "text": [
      "      4        \u001b[36m0.6500\u001b[0m       \u001b[32m0.8812\u001b[0m        \u001b[35m0.4983\u001b[0m  1.1458\n"
     ]
    },
    {
     "name": "stdout",
     "output_type": "stream",
     "text": [
      "      5        \u001b[36m0.5681\u001b[0m       \u001b[32m0.8910\u001b[0m        \u001b[35m0.4377\u001b[0m  1.1348\n"
     ]
    },
    {
     "name": "stdout",
     "output_type": "stream",
     "text": [
      "      6        \u001b[36m0.5161\u001b[0m       \u001b[32m0.8970\u001b[0m        \u001b[35m0.3975\u001b[0m  1.1547\n"
     ]
    },
    {
     "name": "stdout",
     "output_type": "stream",
     "text": [
      "      7        \u001b[36m0.4759\u001b[0m       \u001b[32m0.9027\u001b[0m        \u001b[35m0.3681\u001b[0m  1.1506\n"
     ]
    },
    {
     "name": "stdout",
     "output_type": "stream",
     "text": [
      "      8        \u001b[36m0.4461\u001b[0m       \u001b[32m0.9064\u001b[0m        \u001b[35m0.3458\u001b[0m  1.1483\n"
     ]
    },
    {
     "name": "stdout",
     "output_type": "stream",
     "text": [
      "      9        \u001b[36m0.4221\u001b[0m       \u001b[32m0.9097\u001b[0m        \u001b[35m0.3285\u001b[0m  1.1726\n"
     ]
    },
    {
     "name": "stdout",
     "output_type": "stream",
     "text": [
      "     10        \u001b[36m0.4026\u001b[0m       \u001b[32m0.9135\u001b[0m        \u001b[35m0.3138\u001b[0m  1.1585\n"
     ]
    }
   ],
   "source": [
    "_ = clf.fit(X_train, y_train.to_numpy())"
   ]
  },
  {
   "cell_type": "markdown",
   "metadata": {},
   "source": [
    "## 9. Evaluate the robust model's performance"
   ]
  },
  {
   "cell_type": "code",
   "execution_count": 18,
   "metadata": {
    "execution": {
     "iopub.execute_input": "2022-03-02T05:21:00.601755Z",
     "iopub.status.busy": "2022-03-02T05:21:00.601529Z",
     "iopub.status.idle": "2022-03-02T05:21:00.881327Z",
     "shell.execute_reply": "2022-03-02T05:21:00.880521Z"
    }
   },
   "outputs": [
    {
     "data": {
      "text/plain": [
       "0.8996428571428572"
      ]
     },
     "execution_count": 18,
     "metadata": {},
     "output_type": "execute_result"
    }
   ],
   "source": [
    "from sklearn.metrics import accuracy_score\n",
    "\n",
    "y_pred = clf.predict(X_test)\n",
    "accuracy_score(y_test, y_pred)"
   ]
  },
  {
   "cell_type": "markdown",
   "metadata": {},
   "source": [
    "## What's next?"
   ]
  },
  {
   "cell_type": "markdown",
   "metadata": {},
   "source": [
    "Congratulation on completing this tutorial! Check out our following tutorial on using Cleanlab for audio classification, where we even found label errors in one of the most reputable audio datasets!"
   ]
  }
 ],
 "metadata": {
  "interpreter": {
   "hash": "ced20e3e49bb4fa4ce8ad38f8f2535b7fc4c39b2b89554502b5dbdad1ad67eda"
  },
  "kernelspec": {
   "display_name": "Python 3.10.0 64-bit",
   "language": "python",
   "name": "python3"
  },
  "language_info": {
   "codemirror_mode": {
    "name": "ipython",
    "version": 3
   },
   "file_extension": ".py",
   "mimetype": "text/x-python",
   "name": "python",
   "nbconvert_exporter": "python",
   "pygments_lexer": "ipython3",
   "version": "3.8.12"
  }
 },
 "nbformat": 4,
 "nbformat_minor": 2
}
