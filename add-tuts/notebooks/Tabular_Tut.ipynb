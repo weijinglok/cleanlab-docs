{
 "cells": [
  {
   "cell_type": "markdown",
   "metadata": {},
   "source": [
    "# Structured Tabular Data Classification with scikit-learn"
   ]
  },
  {
   "cell_type": "markdown",
   "metadata": {},
   "source": [
    "In this tutorial, we will use Cleanlab to find potential label errors in the German Credit dataset. This dataset contains 1,000 examples with 20 features, each example is labeled with either \"good\" or \"bad\" credit risk. Cleanlab will shortlist *hundreds* of examples that confuses our ML model the most; many of which are potential label errors, edge cases and obscure examples.\n",
    "\n",
    "**Overview of what we'll do in this tutorial:**\n",
    "\n",
    "- Build a simple classifier with scikit-learn's logistic regression.\n",
    "\n",
    "- Compute the out-of-sample predicted probabilities, `pyx`, with cross validation.\n",
    "\n",
    "- Generate a list of potential label errors with Cleanlab's `get_noise_indices`.\n",
    "\n",
    "- Build and train a robust model with Cleanlab's `LearningWithNoisyLabels` wrapper.\n",
    "\n",
    "**Data:** https://www.openml.org/d/31"
   ]
  },
  {
   "cell_type": "markdown",
   "metadata": {},
   "source": [
    "## **1. Install the required dependencies**"
   ]
  },
  {
   "cell_type": "markdown",
   "metadata": {},
   "source": [
    "``%%capture`` is a magic function to hide the cell's output."
   ]
  },
  {
   "cell_type": "code",
   "execution_count": 1,
   "metadata": {
    "execution": {
     "iopub.execute_input": "2022-03-08T22:41:58.599475Z",
     "iopub.status.busy": "2022-03-08T22:41:58.598973Z",
     "iopub.status.idle": "2022-03-08T22:42:01.211098Z",
     "shell.execute_reply": "2022-03-08T22:42:01.210130Z"
    }
   },
   "outputs": [],
   "source": [
    "%%capture\n",
    "\n",
    "%pip install cleanlab sklearn pandas"
   ]
  },
  {
   "cell_type": "markdown",
   "metadata": {},
   "source": [
    "## **2. Load the German Credit dataset**\n"
   ]
  },
  {
   "cell_type": "markdown",
   "metadata": {},
   "source": [
    "Fetch the data from OpenML then load the data's features in ``X_raw`` and its label in ``y_raw``."
   ]
  },
  {
   "cell_type": "code",
   "execution_count": 2,
   "metadata": {
    "execution": {
     "iopub.execute_input": "2022-03-08T22:42:01.215216Z",
     "iopub.status.busy": "2022-03-08T22:42:01.214735Z",
     "iopub.status.idle": "2022-03-08T22:42:04.229240Z",
     "shell.execute_reply": "2022-03-08T22:42:04.228605Z"
    }
   },
   "outputs": [],
   "source": [
    "from sklearn.datasets import fetch_openml\n",
    "\n",
    "data = fetch_openml('credit-g')\n",
    "X_raw = data.data\n",
    "y_raw = data.target"
   ]
  },
  {
   "cell_type": "markdown",
   "metadata": {},
   "source": [
    "## **3. Perform categorical encoding and feature scaling**"
   ]
  },
  {
   "cell_type": "markdown",
   "metadata": {},
   "source": [
    "Perform one-hot encoding on features with categorical data type."
   ]
  },
  {
   "cell_type": "code",
   "execution_count": 3,
   "metadata": {
    "execution": {
     "iopub.execute_input": "2022-03-08T22:42:04.232878Z",
     "iopub.status.busy": "2022-03-08T22:42:04.232531Z",
     "iopub.status.idle": "2022-03-08T22:42:04.243532Z",
     "shell.execute_reply": "2022-03-08T22:42:04.243027Z"
    }
   },
   "outputs": [],
   "source": [
    "import pandas as pd\n",
    "\n",
    "cat_features = X_raw.select_dtypes('category').columns\n",
    "X_encoded = pd.get_dummies(X_raw, columns=cat_features, drop_first=True)"
   ]
  },
  {
   "cell_type": "markdown",
   "metadata": {},
   "source": [
    "Perform feature scaling on features with numerical (float64) data type."
   ]
  },
  {
   "cell_type": "code",
   "execution_count": 4,
   "metadata": {
    "execution": {
     "iopub.execute_input": "2022-03-08T22:42:04.246482Z",
     "iopub.status.busy": "2022-03-08T22:42:04.246095Z",
     "iopub.status.idle": "2022-03-08T22:42:04.254303Z",
     "shell.execute_reply": "2022-03-08T22:42:04.253800Z"
    }
   },
   "outputs": [],
   "source": [
    "from sklearn.preprocessing import StandardScaler\n",
    "\n",
    "num_features = X_raw.select_dtypes('float64').columns\n",
    "\n",
    "X_scaled = X_encoded.copy()\n",
    "scaler = StandardScaler()\n",
    "X_scaled[num_features] = scaler.fit_transform(X_encoded[num_features])"
   ]
  },
  {
   "cell_type": "markdown",
   "metadata": {},
   "source": [
    "Perform label encoding on the labels - \"bad\" is encoded as 0 and \"good\" is encoded as 1. "
   ]
  },
  {
   "cell_type": "code",
   "execution_count": 5,
   "metadata": {
    "execution": {
     "iopub.execute_input": "2022-03-08T22:42:04.257270Z",
     "iopub.status.busy": "2022-03-08T22:42:04.256827Z",
     "iopub.status.idle": "2022-03-08T22:42:04.260993Z",
     "shell.execute_reply": "2022-03-08T22:42:04.260421Z"
    }
   },
   "outputs": [],
   "source": [
    "y = y_raw.map({'bad': 0, 'good': 1})"
   ]
  },
  {
   "cell_type": "markdown",
   "metadata": {},
   "source": [
    "## **4. Build a classification model**"
   ]
  },
  {
   "cell_type": "markdown",
   "metadata": {},
   "source": [
    "Build a scikit-learn Logistic Regression model."
   ]
  },
  {
   "cell_type": "code",
   "execution_count": 6,
   "metadata": {
    "execution": {
     "iopub.execute_input": "2022-03-08T22:42:04.263803Z",
     "iopub.status.busy": "2022-03-08T22:42:04.263370Z",
     "iopub.status.idle": "2022-03-08T22:42:04.348723Z",
     "shell.execute_reply": "2022-03-08T22:42:04.348091Z"
    }
   },
   "outputs": [],
   "source": [
    "from sklearn.linear_model import LogisticRegression\n",
    "\n",
    "clf = LogisticRegression()\n"
   ]
  },
  {
   "cell_type": "markdown",
   "metadata": {},
   "source": [
    "## **5. Compute the out-of-sample predicted probabilities with cross validation**"
   ]
  },
  {
   "cell_type": "markdown",
   "metadata": {},
   "source": [
    "We will fit the entire dataset on the model used to compute the out-of-sample predicted probabilties, ``pyx``. This model will not be used for model evaluation."
   ]
  },
  {
   "cell_type": "code",
   "execution_count": 7,
   "metadata": {
    "execution": {
     "iopub.execute_input": "2022-03-08T22:42:04.352376Z",
     "iopub.status.busy": "2022-03-08T22:42:04.352042Z",
     "iopub.status.idle": "2022-03-08T22:42:04.377195Z",
     "shell.execute_reply": "2022-03-08T22:42:04.376637Z"
    }
   },
   "outputs": [],
   "source": [
    "_ = clf.fit(X_scaled, y)"
   ]
  },
  {
   "cell_type": "markdown",
   "metadata": {},
   "source": [
    "Compute the out-of-sample predicted probabilities, ``pyx``, with cross validation."
   ]
  },
  {
   "cell_type": "code",
   "execution_count": 8,
   "metadata": {
    "execution": {
     "iopub.execute_input": "2022-03-08T22:42:04.380517Z",
     "iopub.status.busy": "2022-03-08T22:42:04.380216Z",
     "iopub.status.idle": "2022-03-08T22:42:04.439134Z",
     "shell.execute_reply": "2022-03-08T22:42:04.438653Z"
    }
   },
   "outputs": [],
   "source": [
    "from sklearn.model_selection import cross_val_predict\n",
    "\n",
    "pyx = cross_val_predict(clf, X_scaled, y, cv=3, method='predict_proba')"
   ]
  },
  {
   "cell_type": "markdown",
   "metadata": {},
   "source": [
    "## **6. Run Cleanlab to find potential label errors**"
   ]
  },
  {
   "cell_type": "code",
   "execution_count": 9,
   "metadata": {
    "execution": {
     "iopub.execute_input": "2022-03-08T22:42:04.442240Z",
     "iopub.status.busy": "2022-03-08T22:42:04.441947Z",
     "iopub.status.idle": "2022-03-08T22:42:04.499877Z",
     "shell.execute_reply": "2022-03-08T22:42:04.499138Z"
    }
   },
   "outputs": [],
   "source": [
    "from cleanlab.pruning import get_noise_indices\n",
    "\n",
    "ordered_label_errors = get_noise_indices(\n",
    "    s=y, psx=pyx, sorted_index_method=\"prob_given_label\"\n",
    ")\n"
   ]
  },
  {
   "cell_type": "markdown",
   "metadata": {},
   "source": [
    "## **7. Review some of the highest potential label errors**"
   ]
  },
  {
   "cell_type": "code",
   "execution_count": 10,
   "metadata": {
    "execution": {
     "iopub.execute_input": "2022-03-08T22:42:04.503863Z",
     "iopub.status.busy": "2022-03-08T22:42:04.503459Z",
     "iopub.status.idle": "2022-03-08T22:42:04.508948Z",
     "shell.execute_reply": "2022-03-08T22:42:04.508433Z"
    }
   },
   "outputs": [
    {
     "name": "stdout",
     "output_type": "stream",
     "text": [
      "Cleanlab found 173 potential label errors.\n"
     ]
    }
   ],
   "source": [
    "print(f\"Cleanlab found {len(ordered_label_errors)} potential label errors.\")\n"
   ]
  },
  {
   "cell_type": "markdown",
   "metadata": {},
   "source": [
    "Print the top few potentially mislabeled examples"
   ]
  },
  {
   "cell_type": "code",
   "execution_count": 11,
   "metadata": {
    "execution": {
     "iopub.execute_input": "2022-03-08T22:42:04.512002Z",
     "iopub.status.busy": "2022-03-08T22:42:04.511606Z",
     "iopub.status.idle": "2022-03-08T22:42:04.549798Z",
     "shell.execute_reply": "2022-03-08T22:42:04.549189Z"
    }
   },
   "outputs": [
    {
     "data": {
      "text/html": [
       "<div>\n",
       "<style scoped>\n",
       "    .dataframe tbody tr th:only-of-type {\n",
       "        vertical-align: middle;\n",
       "    }\n",
       "\n",
       "    .dataframe tbody tr th {\n",
       "        vertical-align: top;\n",
       "    }\n",
       "\n",
       "    .dataframe thead th {\n",
       "        text-align: right;\n",
       "    }\n",
       "</style>\n",
       "<table border=\"1\" class=\"dataframe\">\n",
       "  <thead>\n",
       "    <tr style=\"text-align: right;\">\n",
       "      <th></th>\n",
       "      <th>checking_status</th>\n",
       "      <th>duration</th>\n",
       "      <th>credit_history</th>\n",
       "      <th>purpose</th>\n",
       "      <th>credit_amount</th>\n",
       "      <th>savings_status</th>\n",
       "      <th>employment</th>\n",
       "      <th>installment_commitment</th>\n",
       "      <th>personal_status</th>\n",
       "      <th>other_parties</th>\n",
       "      <th>...</th>\n",
       "      <th>property_magnitude</th>\n",
       "      <th>age</th>\n",
       "      <th>other_payment_plans</th>\n",
       "      <th>housing</th>\n",
       "      <th>existing_credits</th>\n",
       "      <th>job</th>\n",
       "      <th>num_dependents</th>\n",
       "      <th>own_telephone</th>\n",
       "      <th>foreign_worker</th>\n",
       "      <th>label</th>\n",
       "    </tr>\n",
       "  </thead>\n",
       "  <tbody>\n",
       "    <tr>\n",
       "      <th>505</th>\n",
       "      <td>no checking</td>\n",
       "      <td>10.0</td>\n",
       "      <td>existing paid</td>\n",
       "      <td>new car</td>\n",
       "      <td>1309.0</td>\n",
       "      <td>no known savings</td>\n",
       "      <td>1&lt;=X&lt;4</td>\n",
       "      <td>4.0</td>\n",
       "      <td>male single</td>\n",
       "      <td>guarantor</td>\n",
       "      <td>...</td>\n",
       "      <td>life insurance</td>\n",
       "      <td>27.0</td>\n",
       "      <td>none</td>\n",
       "      <td>own</td>\n",
       "      <td>1.0</td>\n",
       "      <td>unskilled resident</td>\n",
       "      <td>1.0</td>\n",
       "      <td>none</td>\n",
       "      <td>yes</td>\n",
       "      <td>bad</td>\n",
       "    </tr>\n",
       "    <tr>\n",
       "      <th>56</th>\n",
       "      <td>0&lt;=X&lt;200</td>\n",
       "      <td>12.0</td>\n",
       "      <td>existing paid</td>\n",
       "      <td>radio/tv</td>\n",
       "      <td>6468.0</td>\n",
       "      <td>no known savings</td>\n",
       "      <td>unemployed</td>\n",
       "      <td>2.0</td>\n",
       "      <td>male single</td>\n",
       "      <td>none</td>\n",
       "      <td>...</td>\n",
       "      <td>no known property</td>\n",
       "      <td>52.0</td>\n",
       "      <td>none</td>\n",
       "      <td>own</td>\n",
       "      <td>1.0</td>\n",
       "      <td>high qualif/self emp/mgmt</td>\n",
       "      <td>1.0</td>\n",
       "      <td>yes</td>\n",
       "      <td>yes</td>\n",
       "      <td>bad</td>\n",
       "    </tr>\n",
       "    <tr>\n",
       "      <th>190</th>\n",
       "      <td>no checking</td>\n",
       "      <td>24.0</td>\n",
       "      <td>existing paid</td>\n",
       "      <td>business</td>\n",
       "      <td>4591.0</td>\n",
       "      <td>&gt;=1000</td>\n",
       "      <td>1&lt;=X&lt;4</td>\n",
       "      <td>2.0</td>\n",
       "      <td>male single</td>\n",
       "      <td>none</td>\n",
       "      <td>...</td>\n",
       "      <td>life insurance</td>\n",
       "      <td>54.0</td>\n",
       "      <td>none</td>\n",
       "      <td>own</td>\n",
       "      <td>3.0</td>\n",
       "      <td>high qualif/self emp/mgmt</td>\n",
       "      <td>1.0</td>\n",
       "      <td>yes</td>\n",
       "      <td>yes</td>\n",
       "      <td>bad</td>\n",
       "    </tr>\n",
       "    <tr>\n",
       "      <th>92</th>\n",
       "      <td>no checking</td>\n",
       "      <td>12.0</td>\n",
       "      <td>critical/other existing credit</td>\n",
       "      <td>radio/tv</td>\n",
       "      <td>797.0</td>\n",
       "      <td>no known savings</td>\n",
       "      <td>&gt;=7</td>\n",
       "      <td>4.0</td>\n",
       "      <td>female div/dep/mar</td>\n",
       "      <td>none</td>\n",
       "      <td>...</td>\n",
       "      <td>life insurance</td>\n",
       "      <td>33.0</td>\n",
       "      <td>bank</td>\n",
       "      <td>own</td>\n",
       "      <td>1.0</td>\n",
       "      <td>unskilled resident</td>\n",
       "      <td>2.0</td>\n",
       "      <td>none</td>\n",
       "      <td>yes</td>\n",
       "      <td>bad</td>\n",
       "    </tr>\n",
       "    <tr>\n",
       "      <th>757</th>\n",
       "      <td>&gt;=200</td>\n",
       "      <td>15.0</td>\n",
       "      <td>critical/other existing credit</td>\n",
       "      <td>radio/tv</td>\n",
       "      <td>1271.0</td>\n",
       "      <td>no known savings</td>\n",
       "      <td>1&lt;=X&lt;4</td>\n",
       "      <td>3.0</td>\n",
       "      <td>male single</td>\n",
       "      <td>none</td>\n",
       "      <td>...</td>\n",
       "      <td>no known property</td>\n",
       "      <td>39.0</td>\n",
       "      <td>none</td>\n",
       "      <td>for free</td>\n",
       "      <td>2.0</td>\n",
       "      <td>skilled</td>\n",
       "      <td>1.0</td>\n",
       "      <td>yes</td>\n",
       "      <td>yes</td>\n",
       "      <td>bad</td>\n",
       "    </tr>\n",
       "  </tbody>\n",
       "</table>\n",
       "<p>5 rows × 21 columns</p>\n",
       "</div>"
      ],
      "text/plain": [
       "    checking_status  duration                  credit_history   purpose  \\\n",
       "505     no checking      10.0                   existing paid   new car   \n",
       "56         0<=X<200      12.0                   existing paid  radio/tv   \n",
       "190     no checking      24.0                   existing paid  business   \n",
       "92      no checking      12.0  critical/other existing credit  radio/tv   \n",
       "757           >=200      15.0  critical/other existing credit  radio/tv   \n",
       "\n",
       "     credit_amount    savings_status  employment  installment_commitment  \\\n",
       "505         1309.0  no known savings      1<=X<4                     4.0   \n",
       "56          6468.0  no known savings  unemployed                     2.0   \n",
       "190         4591.0            >=1000      1<=X<4                     2.0   \n",
       "92           797.0  no known savings         >=7                     4.0   \n",
       "757         1271.0  no known savings      1<=X<4                     3.0   \n",
       "\n",
       "        personal_status other_parties  ...  property_magnitude   age  \\\n",
       "505         male single     guarantor  ...      life insurance  27.0   \n",
       "56          male single          none  ...   no known property  52.0   \n",
       "190         male single          none  ...      life insurance  54.0   \n",
       "92   female div/dep/mar          none  ...      life insurance  33.0   \n",
       "757         male single          none  ...   no known property  39.0   \n",
       "\n",
       "     other_payment_plans   housing existing_credits  \\\n",
       "505                 none       own              1.0   \n",
       "56                  none       own              1.0   \n",
       "190                 none       own              3.0   \n",
       "92                  bank       own              1.0   \n",
       "757                 none  for free              2.0   \n",
       "\n",
       "                           job num_dependents  own_telephone foreign_worker  \\\n",
       "505         unskilled resident            1.0           none            yes   \n",
       "56   high qualif/self emp/mgmt            1.0            yes            yes   \n",
       "190  high qualif/self emp/mgmt            1.0            yes            yes   \n",
       "92          unskilled resident            2.0           none            yes   \n",
       "757                    skilled            1.0            yes            yes   \n",
       "\n",
       "    label  \n",
       "505   bad  \n",
       "56    bad  \n",
       "190   bad  \n",
       "92    bad  \n",
       "757   bad  \n",
       "\n",
       "[5 rows x 21 columns]"
      ]
     },
     "execution_count": 11,
     "metadata": {},
     "output_type": "execute_result"
    }
   ],
   "source": [
    "X_raw.iloc[ordered_label_errors].assign(label=y_raw.iloc[ordered_label_errors]).head()"
   ]
  },
  {
   "cell_type": "markdown",
   "metadata": {},
   "source": [
    "## **8. Adapt with Cleanlab's wrapper and train a more robust model**"
   ]
  },
  {
   "cell_type": "markdown",
   "metadata": {},
   "source": [
    "Split the categorical encoded dataset into train and test subsets."
   ]
  },
  {
   "cell_type": "code",
   "execution_count": 12,
   "metadata": {
    "execution": {
     "iopub.execute_input": "2022-03-08T22:42:04.553767Z",
     "iopub.status.busy": "2022-03-08T22:42:04.553372Z",
     "iopub.status.idle": "2022-03-08T22:42:04.559954Z",
     "shell.execute_reply": "2022-03-08T22:42:04.559363Z"
    }
   },
   "outputs": [],
   "source": [
    "from sklearn.model_selection import train_test_split\n",
    "\n",
    "X_train, X_test, y_train, y_test = train_test_split(X_encoded, y, test_size=0.25)"
   ]
  },
  {
   "cell_type": "markdown",
   "metadata": {},
   "source": [
    "Perform feature scaling on features with numerical (float64) data type, this time fitting only on the training set."
   ]
  },
  {
   "cell_type": "code",
   "execution_count": 13,
   "metadata": {
    "execution": {
     "iopub.execute_input": "2022-03-08T22:42:04.562670Z",
     "iopub.status.busy": "2022-03-08T22:42:04.562410Z",
     "iopub.status.idle": "2022-03-08T22:42:04.571738Z",
     "shell.execute_reply": "2022-03-08T22:42:04.571246Z"
    }
   },
   "outputs": [],
   "source": [
    "scaler = StandardScaler()\n",
    "\n",
    "X_train[num_features] = scaler.fit_transform(X_train[num_features])\n",
    "X_test[num_features] = scaler.transform(X_test[num_features])"
   ]
  },
  {
   "cell_type": "markdown",
   "metadata": {},
   "source": [
    "Build a new instance of scikit-learn's logistic regression classifier, then wrap it with Cleanlab's ``LearningWithNoisyLabels`` wrapper."
   ]
  },
  {
   "cell_type": "code",
   "execution_count": 14,
   "metadata": {
    "execution": {
     "iopub.execute_input": "2022-03-08T22:42:04.574433Z",
     "iopub.status.busy": "2022-03-08T22:42:04.574185Z",
     "iopub.status.idle": "2022-03-08T22:42:04.577695Z",
     "shell.execute_reply": "2022-03-08T22:42:04.577142Z"
    }
   },
   "outputs": [],
   "source": [
    "from cleanlab.classification import LearningWithNoisyLabels\n",
    "\n",
    "clf = LogisticRegression()\n",
    "lnl= LearningWithNoisyLabels(clf)"
   ]
  },
  {
   "cell_type": "markdown",
   "metadata": {},
   "source": [
    "Train the wrapped model, `lnl`, on the train set."
   ]
  },
  {
   "cell_type": "code",
   "execution_count": 15,
   "metadata": {
    "execution": {
     "iopub.execute_input": "2022-03-08T22:42:04.580495Z",
     "iopub.status.busy": "2022-03-08T22:42:04.580074Z",
     "iopub.status.idle": "2022-03-08T22:42:04.693523Z",
     "shell.execute_reply": "2022-03-08T22:42:04.692809Z"
    }
   },
   "outputs": [],
   "source": [
    "_ = lnl.fit(X_train.to_numpy(), y_train.to_numpy())"
   ]
  },
  {
   "cell_type": "markdown",
   "metadata": {},
   "source": [
    "## **9. Evaluate the robust model's performance**"
   ]
  },
  {
   "cell_type": "code",
   "execution_count": 16,
   "metadata": {
    "execution": {
     "iopub.execute_input": "2022-03-08T22:42:04.698398Z",
     "iopub.status.busy": "2022-03-08T22:42:04.697279Z",
     "iopub.status.idle": "2022-03-08T22:42:04.706249Z",
     "shell.execute_reply": "2022-03-08T22:42:04.705807Z"
    }
   },
   "outputs": [
    {
     "data": {
      "text/plain": [
       "0.728"
      ]
     },
     "execution_count": 16,
     "metadata": {},
     "output_type": "execute_result"
    }
   ],
   "source": [
    "from sklearn.metrics import accuracy_score\n",
    "\n",
    "y_pred = lnl.predict(X_test.to_numpy())\n",
    "accuracy_score(y_test, y_pred)"
   ]
  },
  {
   "cell_type": "markdown",
   "metadata": {},
   "source": [
    "## **What's next?**"
   ]
  },
  {
   "cell_type": "markdown",
   "metadata": {},
   "source": [
    "Congratulation on completing this tutorial! Check out our following tutorial on using Cleanlab for audio classification, where we even found label errors in one of the most reputable audio datasets!"
   ]
  }
 ],
 "metadata": {
  "interpreter": {
   "hash": "cda20062bc42cfdcaa0f9720c0b28e880bba110e9dfce6c1689934eec9b595a1"
  },
  "kernelspec": {
   "display_name": "Python 3.8.10 64-bit ('env': venv)",
   "language": "python",
   "name": "python3"
  },
  "language_info": {
   "codemirror_mode": {
    "name": "ipython",
    "version": 3
   },
   "file_extension": ".py",
   "mimetype": "text/x-python",
   "name": "python",
   "nbconvert_exporter": "python",
   "pygments_lexer": "ipython3",
   "version": "3.8.12"
  }
 },
 "nbformat": 4,
 "nbformat_minor": 2
}
