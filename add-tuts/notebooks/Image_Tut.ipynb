{
 "cells": [
  {
   "cell_type": "markdown",
   "metadata": {},
   "source": [
    "# Image Classification with Cleanlab, PyTorch & Skorch"
   ]
  },
  {
   "cell_type": "markdown",
   "metadata": {},
   "source": [
    "This tutorial will use Cleanlab to find potential label errors in the MNIST handwritten digit image dataset. This dataset contains 60,000 images of handwritten digits from 0 to 9. We'll find *more than a thousand* highly suspicious examples with label errors and edge cases by the end of this tutorial. \n",
    "\n",
    "**Overview of what we'll do in this tutorial:**\n",
    "\n",
    "- Build a simple PyTorch neural net and wrap it with Skorch to make it scikit-learn compatible.\n",
    "\n",
    "- Compute the cross-validated predicted probabilities, ``pyx``, sometimes known as the out-of-sample predicted probabilities.\n",
    "\n",
    "- Generate a list of potential label errors with Cleanlab's ``get_noise_indices``.\n",
    "\n",
    "- Build and train a more robust model than the vanilla model after adapting it with Cleanlab's ``LearningWithNoisyLabels``. \n",
    "\n",
    "**Data:** https://www.openml.org/d/554"
   ]
  },
  {
   "cell_type": "markdown",
   "metadata": {},
   "source": [
    "## 1. Install the required dependencies"
   ]
  },
  {
   "cell_type": "markdown",
   "metadata": {},
   "source": [
    "``%%capture`` is a magic function to hides the cell's output."
   ]
  },
  {
   "cell_type": "code",
   "execution_count": 1,
   "metadata": {
    "execution": {
     "iopub.execute_input": "2022-03-09T15:10:04.461747Z",
     "iopub.status.busy": "2022-03-09T15:10:04.461499Z",
     "iopub.status.idle": "2022-03-09T15:10:30.130065Z",
     "shell.execute_reply": "2022-03-09T15:10:30.129411Z"
    }
   },
   "outputs": [],
   "source": [
    "%%capture\n",
    "\n",
    "%pip install cleanlab pandas matplotlib torch torchvision skorch"
   ]
  },
  {
   "cell_type": "markdown",
   "metadata": {},
   "source": [
    "## 2. Fetch and scale the MNIST dataset"
   ]
  },
  {
   "cell_type": "code",
   "execution_count": 2,
   "metadata": {
    "execution": {
     "iopub.execute_input": "2022-03-09T15:10:30.132973Z",
     "iopub.status.busy": "2022-03-09T15:10:30.132825Z",
     "iopub.status.idle": "2022-03-09T15:11:28.285013Z",
     "shell.execute_reply": "2022-03-09T15:11:28.284424Z"
    }
   },
   "outputs": [],
   "source": [
    "from sklearn.datasets import fetch_openml\n",
    "\n",
    "# Fetch the MNIST dataset\n",
    "mnist = fetch_openml('mnist_784')\n",
    "\n",
    "# Assign the data features and labels to variable X and y respectively \n",
    "X = mnist.data.astype('float32')\n",
    "y = mnist.target.astype('int64')\n"
   ]
  },
  {
   "cell_type": "markdown",
   "metadata": {},
   "source": [
    "<div class=\"alert alert-info\">\n",
    "\n",
    "Bringing Your Own Data (BYOD)?\n",
    "\n",
    "Assign your data's features to variable ``X`` and its labels to variable ``y`` instead.\n",
    "\n",
    "</div>"
   ]
  },
  {
   "cell_type": "code",
   "execution_count": 3,
   "metadata": {
    "execution": {
     "iopub.execute_input": "2022-03-09T15:11:28.287967Z",
     "iopub.status.busy": "2022-03-09T15:11:28.287801Z",
     "iopub.status.idle": "2022-03-09T15:11:28.393285Z",
     "shell.execute_reply": "2022-03-09T15:11:28.392699Z"
    }
   },
   "outputs": [],
   "source": [
    "\n",
    "# Scale the features which range from 0 to 255 (256 levels on the grayscale) \n",
    "X /= 255.0\n",
    "\n",
    "# Then convert it to a numpy array\n",
    "X = X.to_numpy()"
   ]
  },
  {
   "cell_type": "markdown",
   "metadata": {},
   "source": [
    "## 3. Define a classification model"
   ]
  },
  {
   "cell_type": "markdown",
   "metadata": {},
   "source": [
    "Here, we define a simple neural network with PyTorch."
   ]
  },
  {
   "cell_type": "code",
   "execution_count": 4,
   "metadata": {
    "execution": {
     "iopub.execute_input": "2022-03-09T15:11:28.395944Z",
     "iopub.status.busy": "2022-03-09T15:11:28.395796Z",
     "iopub.status.idle": "2022-03-09T15:11:28.773991Z",
     "shell.execute_reply": "2022-03-09T15:11:28.773414Z"
    }
   },
   "outputs": [],
   "source": [
    "from torch import nn\n",
    "\n",
    "class NeuralNetwork(nn.Module):\n",
    "    def __init__(self):\n",
    "        super(NeuralNetwork, self).__init__()\n",
    "        self.dropout = nn.Dropout(0.5)\n",
    "        self.hidden = nn.Linear(28*28, 128)\n",
    "        self.output = nn.Linear(128, 10)\n",
    "\n",
    "    def forward(self, X):\n",
    "        X = nn.functional.relu(self.hidden(X))\n",
    "        X = self.dropout(X)\n",
    "        X = nn.functional.softmax(self.output(X), dim=-1)\n",
    "        return X"
   ]
  },
  {
   "cell_type": "markdown",
   "metadata": {},
   "source": [
    "## 4. Wrap with Skorch for scikit-learn compatibility"
   ]
  },
  {
   "cell_type": "markdown",
   "metadata": {},
   "source": [
    "As some of Cleanlab's feature requires scikit-learn compatibility, we will need to adapt the above PyTorch neural net accordingly. Skorch is a convenient package that helps with this, read more about it here: https://skorch.readthedocs.io"
   ]
  },
  {
   "cell_type": "code",
   "execution_count": 5,
   "metadata": {
    "execution": {
     "iopub.execute_input": "2022-03-09T15:11:28.776861Z",
     "iopub.status.busy": "2022-03-09T15:11:28.776700Z",
     "iopub.status.idle": "2022-03-09T15:11:28.858409Z",
     "shell.execute_reply": "2022-03-09T15:11:28.857863Z"
    }
   },
   "outputs": [],
   "source": [
    "from skorch import NeuralNetClassifier\n",
    "\n",
    "# Wrap the PyTorch neural net around Skorch's NeuralNetClassifier wrapper\n",
    "net = NeuralNetClassifier(NeuralNetwork)"
   ]
  },
  {
   "cell_type": "markdown",
   "metadata": {},
   "source": [
    "## 5. Compute the cross-validated predicted probabilities"
   ]
  },
  {
   "cell_type": "markdown",
   "metadata": {},
   "source": [
    "If we'd like Cleanlab to identify potential label errors in the whole dataset and not just the training set, we can consider fitting the entire dataset. We will only use this model instance to compute the cross-validated predicted probabilities, ``pyx``, and not for model evaluation."
   ]
  },
  {
   "cell_type": "code",
   "execution_count": 6,
   "metadata": {
    "execution": {
     "iopub.execute_input": "2022-03-09T15:11:28.861068Z",
     "iopub.status.busy": "2022-03-09T15:11:28.860912Z",
     "iopub.status.idle": "2022-03-09T15:11:50.435769Z",
     "shell.execute_reply": "2022-03-09T15:11:50.435225Z"
    }
   },
   "outputs": [
    {
     "name": "stdout",
     "output_type": "stream",
     "text": [
      "  epoch    train_loss    valid_acc    valid_loss     dur\n",
      "-------  ------------  -----------  ------------  ------\n",
      "      1        \u001b[36m1.8016\u001b[0m       \u001b[32m0.7799\u001b[0m        \u001b[35m1.1919\u001b[0m  2.1515\n"
     ]
    },
    {
     "name": "stdout",
     "output_type": "stream",
     "text": [
      "      2        \u001b[36m0.9895\u001b[0m       \u001b[32m0.8371\u001b[0m        \u001b[35m0.7081\u001b[0m  2.1486\n"
     ]
    },
    {
     "name": "stdout",
     "output_type": "stream",
     "text": [
      "      3        \u001b[36m0.7259\u001b[0m       \u001b[32m0.8620\u001b[0m        \u001b[35m0.5557\u001b[0m  2.1440\n"
     ]
    },
    {
     "name": "stdout",
     "output_type": "stream",
     "text": [
      "      4        \u001b[36m0.6192\u001b[0m       \u001b[32m0.8766\u001b[0m        \u001b[35m0.4828\u001b[0m  2.1468\n"
     ]
    },
    {
     "name": "stdout",
     "output_type": "stream",
     "text": [
      "      5        \u001b[36m0.5540\u001b[0m       \u001b[32m0.8855\u001b[0m        \u001b[35m0.4365\u001b[0m  2.1469\n"
     ]
    },
    {
     "name": "stdout",
     "output_type": "stream",
     "text": [
      "      6        \u001b[36m0.5096\u001b[0m       \u001b[32m0.8934\u001b[0m        \u001b[35m0.4050\u001b[0m  2.1447\n"
     ]
    },
    {
     "name": "stdout",
     "output_type": "stream",
     "text": [
      "      7        \u001b[36m0.4799\u001b[0m       \u001b[32m0.8968\u001b[0m        \u001b[35m0.3829\u001b[0m  2.1441\n"
     ]
    },
    {
     "name": "stdout",
     "output_type": "stream",
     "text": [
      "      8        \u001b[36m0.4579\u001b[0m       \u001b[32m0.8999\u001b[0m        \u001b[35m0.3648\u001b[0m  2.1494\n"
     ]
    },
    {
     "name": "stdout",
     "output_type": "stream",
     "text": [
      "      9        \u001b[36m0.4379\u001b[0m       \u001b[32m0.9026\u001b[0m        \u001b[35m0.3499\u001b[0m  2.1449\n"
     ]
    },
    {
     "name": "stdout",
     "output_type": "stream",
     "text": [
      "     10        \u001b[36m0.4208\u001b[0m       \u001b[32m0.9059\u001b[0m        \u001b[35m0.3370\u001b[0m  2.1797\n"
     ]
    }
   ],
   "source": [
    "_ = net.fit(X, y)"
   ]
  },
  {
   "cell_type": "markdown",
   "metadata": {},
   "source": [
    "Compute the cross-validated predicted probabilities, ``pyx``, sometimes also known as the out-of-sample predicted probabilities."
   ]
  },
  {
   "cell_type": "code",
   "execution_count": 7,
   "metadata": {
    "execution": {
     "iopub.execute_input": "2022-03-09T15:11:50.438139Z",
     "iopub.status.busy": "2022-03-09T15:11:50.437989Z",
     "iopub.status.idle": "2022-03-09T15:12:26.053646Z",
     "shell.execute_reply": "2022-03-09T15:12:26.053049Z"
    }
   },
   "outputs": [
    {
     "name": "stdout",
     "output_type": "stream",
     "text": [
      "  epoch    train_loss    valid_acc    valid_loss     dur\n",
      "-------  ------------  -----------  ------------  ------\n",
      "      1        \u001b[36m2.0125\u001b[0m       \u001b[32m0.7299\u001b[0m        \u001b[35m1.6115\u001b[0m  1.1373\n"
     ]
    },
    {
     "name": "stdout",
     "output_type": "stream",
     "text": [
      "      2        \u001b[36m1.2938\u001b[0m       \u001b[32m0.7945\u001b[0m        \u001b[35m0.9828\u001b[0m  1.1852\n"
     ]
    },
    {
     "name": "stdout",
     "output_type": "stream",
     "text": [
      "      3        \u001b[36m0.9124\u001b[0m       \u001b[32m0.8282\u001b[0m        \u001b[35m0.7384\u001b[0m  1.1605\n"
     ]
    },
    {
     "name": "stdout",
     "output_type": "stream",
     "text": [
      "      4        \u001b[36m0.7503\u001b[0m       \u001b[32m0.8456\u001b[0m        \u001b[35m0.6226\u001b[0m  1.1361\n"
     ]
    },
    {
     "name": "stdout",
     "output_type": "stream",
     "text": [
      "      5        \u001b[36m0.6568\u001b[0m       \u001b[32m0.8571\u001b[0m        \u001b[35m0.5548\u001b[0m  1.1648\n"
     ]
    },
    {
     "name": "stdout",
     "output_type": "stream",
     "text": [
      "      6        \u001b[36m0.6003\u001b[0m       \u001b[32m0.8631\u001b[0m        \u001b[35m0.5107\u001b[0m  1.1334\n"
     ]
    },
    {
     "name": "stdout",
     "output_type": "stream",
     "text": [
      "      7        \u001b[36m0.5556\u001b[0m       \u001b[32m0.8698\u001b[0m        \u001b[35m0.4787\u001b[0m  1.1322\n"
     ]
    },
    {
     "name": "stdout",
     "output_type": "stream",
     "text": [
      "      8        \u001b[36m0.5252\u001b[0m       \u001b[32m0.8759\u001b[0m        \u001b[35m0.4535\u001b[0m  1.1756\n"
     ]
    },
    {
     "name": "stdout",
     "output_type": "stream",
     "text": [
      "      9        \u001b[36m0.4980\u001b[0m       \u001b[32m0.8796\u001b[0m        \u001b[35m0.4347\u001b[0m  1.1315\n"
     ]
    },
    {
     "name": "stdout",
     "output_type": "stream",
     "text": [
      "     10        \u001b[36m0.4808\u001b[0m       \u001b[32m0.8816\u001b[0m        \u001b[35m0.4175\u001b[0m  1.1316\n"
     ]
    },
    {
     "name": "stdout",
     "output_type": "stream",
     "text": [
      "  epoch    train_loss    valid_acc    valid_loss     dur\n",
      "-------  ------------  -----------  ------------  ------\n",
      "      1        \u001b[36m1.9813\u001b[0m       \u001b[32m0.7484\u001b[0m        \u001b[35m1.5579\u001b[0m  1.1305\n"
     ]
    },
    {
     "name": "stdout",
     "output_type": "stream",
     "text": [
      "      2        \u001b[36m1.2589\u001b[0m       \u001b[32m0.8108\u001b[0m        \u001b[35m0.9392\u001b[0m  1.1295\n"
     ]
    },
    {
     "name": "stdout",
     "output_type": "stream",
     "text": [
      "      3        \u001b[36m0.8897\u001b[0m       \u001b[32m0.8390\u001b[0m        \u001b[35m0.7044\u001b[0m  1.1305\n"
     ]
    },
    {
     "name": "stdout",
     "output_type": "stream",
     "text": [
      "      4        \u001b[36m0.7336\u001b[0m       \u001b[32m0.8541\u001b[0m        \u001b[35m0.5939\u001b[0m  1.1314\n"
     ]
    },
    {
     "name": "stdout",
     "output_type": "stream",
     "text": [
      "      5        \u001b[36m0.6437\u001b[0m       \u001b[32m0.8653\u001b[0m        \u001b[35m0.5265\u001b[0m  1.1287\n"
     ]
    },
    {
     "name": "stdout",
     "output_type": "stream",
     "text": [
      "      6        \u001b[36m0.5875\u001b[0m       \u001b[32m0.8759\u001b[0m        \u001b[35m0.4823\u001b[0m  1.1311\n"
     ]
    },
    {
     "name": "stdout",
     "output_type": "stream",
     "text": [
      "      7        \u001b[36m0.5488\u001b[0m       \u001b[32m0.8819\u001b[0m        \u001b[35m0.4498\u001b[0m  1.1295\n"
     ]
    },
    {
     "name": "stdout",
     "output_type": "stream",
     "text": [
      "      8        \u001b[36m0.5191\u001b[0m       \u001b[32m0.8865\u001b[0m        \u001b[35m0.4262\u001b[0m  1.1302\n"
     ]
    },
    {
     "name": "stdout",
     "output_type": "stream",
     "text": [
      "      9        \u001b[36m0.4914\u001b[0m       \u001b[32m0.8905\u001b[0m        \u001b[35m0.4067\u001b[0m  1.1310\n"
     ]
    },
    {
     "name": "stdout",
     "output_type": "stream",
     "text": [
      "     10        \u001b[36m0.4709\u001b[0m       \u001b[32m0.8928\u001b[0m        \u001b[35m0.3911\u001b[0m  1.1325\n"
     ]
    },
    {
     "name": "stdout",
     "output_type": "stream",
     "text": [
      "  epoch    train_loss    valid_acc    valid_loss     dur\n",
      "-------  ------------  -----------  ------------  ------\n",
      "      1        \u001b[36m2.0120\u001b[0m       \u001b[32m0.7296\u001b[0m        \u001b[35m1.5990\u001b[0m  1.1536\n"
     ]
    },
    {
     "name": "stdout",
     "output_type": "stream",
     "text": [
      "      2        \u001b[36m1.3193\u001b[0m       \u001b[32m0.8031\u001b[0m        \u001b[35m0.9716\u001b[0m  1.1338\n"
     ]
    },
    {
     "name": "stdout",
     "output_type": "stream",
     "text": [
      "      3        \u001b[36m0.9458\u001b[0m       \u001b[32m0.8408\u001b[0m        \u001b[35m0.7216\u001b[0m  1.1342\n"
     ]
    },
    {
     "name": "stdout",
     "output_type": "stream",
     "text": [
      "      4        \u001b[36m0.7841\u001b[0m       \u001b[32m0.8594\u001b[0m        \u001b[35m0.6022\u001b[0m  1.1337\n"
     ]
    },
    {
     "name": "stdout",
     "output_type": "stream",
     "text": [
      "      5        \u001b[36m0.6870\u001b[0m       \u001b[32m0.8710\u001b[0m        \u001b[35m0.5309\u001b[0m  1.1324\n"
     ]
    },
    {
     "name": "stdout",
     "output_type": "stream",
     "text": [
      "      6        \u001b[36m0.6238\u001b[0m       \u001b[32m0.8800\u001b[0m        \u001b[35m0.4845\u001b[0m  1.1411\n"
     ]
    },
    {
     "name": "stdout",
     "output_type": "stream",
     "text": [
      "      7        \u001b[36m0.5824\u001b[0m       \u001b[32m0.8878\u001b[0m        \u001b[35m0.4495\u001b[0m  1.1288\n"
     ]
    },
    {
     "name": "stdout",
     "output_type": "stream",
     "text": [
      "      8        \u001b[36m0.5478\u001b[0m       \u001b[32m0.8925\u001b[0m        \u001b[35m0.4234\u001b[0m  1.1312\n"
     ]
    },
    {
     "name": "stdout",
     "output_type": "stream",
     "text": [
      "      9        \u001b[36m0.5231\u001b[0m       \u001b[32m0.8958\u001b[0m        \u001b[35m0.4036\u001b[0m  1.1346\n"
     ]
    },
    {
     "name": "stdout",
     "output_type": "stream",
     "text": [
      "     10        \u001b[36m0.5013\u001b[0m       \u001b[32m0.8995\u001b[0m        \u001b[35m0.3871\u001b[0m  1.1336\n"
     ]
    }
   ],
   "source": [
    "from sklearn.model_selection import cross_val_predict\n",
    "\n",
    "pyx = cross_val_predict(net, X, y, cv=3, method='predict_proba')"
   ]
  },
  {
   "cell_type": "markdown",
   "metadata": {},
   "source": [
    "## 6. Run Cleanlab to find potential label errors"
   ]
  },
  {
   "cell_type": "markdown",
   "metadata": {},
   "source": [
    "Cleanlab has a ``get_noise_indices`` function to generate a list of potential label errors. Setting ``sorted_index_method=\"prob_given_label\"`` returns the indices of all the most likely label errors, sorted by the most suspicious example first."
   ]
  },
  {
   "cell_type": "code",
   "execution_count": 8,
   "metadata": {
    "execution": {
     "iopub.execute_input": "2022-03-09T15:12:26.056415Z",
     "iopub.status.busy": "2022-03-09T15:12:26.056254Z",
     "iopub.status.idle": "2022-03-09T15:12:26.386403Z",
     "shell.execute_reply": "2022-03-09T15:12:26.385791Z"
    }
   },
   "outputs": [],
   "source": [
    "from cleanlab.pruning import get_noise_indices\n",
    "\n",
    "ordered_label_errors = get_noise_indices(\n",
    "    s=y,\n",
    "    psx=pyx,\n",
    "    sorted_index_method=\"prob_given_label\"\n",
    ")"
   ]
  },
  {
   "cell_type": "markdown",
   "metadata": {},
   "source": [
    "## 7. Review some of the most likely mislabeled examples"
   ]
  },
  {
   "cell_type": "code",
   "execution_count": 9,
   "metadata": {
    "execution": {
     "iopub.execute_input": "2022-03-09T15:12:26.389637Z",
     "iopub.status.busy": "2022-03-09T15:12:26.389485Z",
     "iopub.status.idle": "2022-03-09T15:12:26.394200Z",
     "shell.execute_reply": "2022-03-09T15:12:26.393681Z"
    }
   },
   "outputs": [
    {
     "name": "stdout",
     "output_type": "stream",
     "text": [
      "Cleanlab found 1255 potential label errors. Here are the indices of the top 15 most likely ones: \n",
      " [24798 18598  8729 61790 31134 55739  1352 32776 15942 59915 50239 53216\n",
      " 40466 13031 39457]\n"
     ]
    }
   ],
   "source": [
    "print(f\"Cleanlab found {len(ordered_label_errors)} potential label errors. Here are the indices of the top 15 most likely ones: \\n {ordered_label_errors[:15]}\")"
   ]
  },
  {
   "cell_type": "markdown",
   "metadata": {},
   "source": [
    "We'll define a new ``plot_examples`` function to display any examples in a subplot conveniently."
   ]
  },
  {
   "cell_type": "code",
   "execution_count": 10,
   "metadata": {
    "execution": {
     "iopub.execute_input": "2022-03-09T15:12:26.396479Z",
     "iopub.status.busy": "2022-03-09T15:12:26.396345Z",
     "iopub.status.idle": "2022-03-09T15:12:27.041290Z",
     "shell.execute_reply": "2022-03-09T15:12:27.040758Z"
    }
   },
   "outputs": [],
   "source": [
    "import matplotlib.pyplot as plt\n",
    "\n",
    "def plot_examples(id_iter, nrows=1, ncols=1):\n",
    "    for count, id in enumerate(id_iter):\n",
    "        plt.subplot(nrows, ncols, count+1)\n",
    "        plt.imshow(X[id].reshape(28, 28))\n",
    "        plt.title(f\"id: {id} \\n label: {y[id]}\")\n",
    "        plt.axis('off')\n",
    "\n",
    "    plt.tight_layout(h_pad=2.0)"
   ]
  },
  {
   "cell_type": "markdown",
   "metadata": {},
   "source": [
    "Let's start by having an overview of the top 15 most likely label errors. From here, we can see a few label errors and edge cases. Feel free to change the parameters to display more or fewer examples. "
   ]
  },
  {
   "cell_type": "code",
   "execution_count": 11,
   "metadata": {
    "execution": {
     "iopub.execute_input": "2022-03-09T15:12:27.044088Z",
     "iopub.status.busy": "2022-03-09T15:12:27.043773Z",
     "iopub.status.idle": "2022-03-09T15:12:27.442416Z",
     "shell.execute_reply": "2022-03-09T15:12:27.441879Z"
    }
   },
   "outputs": [
    {
     "data": {
      "image/png": "[encoded data removed]",
      "text/plain": [
       "<Figure size 432x288 with 15 Axes>"
      ]
     },
     "metadata": {
      "needs_background": "light"
     },
     "output_type": "display_data"
    }
   ],
   "source": [
    "plot_examples(ordered_label_errors[range(15)], 3, 5)"
   ]
  },
  {
   "cell_type": "markdown",
   "metadata": {},
   "source": [
    "Let's zoom into specific examples:"
   ]
  },
  {
   "cell_type": "markdown",
   "metadata": {},
   "source": [
    "Given label is **4** but looks more like a **7**"
   ]
  },
  {
   "cell_type": "code",
   "execution_count": 12,
   "metadata": {
    "execution": {
     "iopub.execute_input": "2022-03-09T15:12:27.445344Z",
     "iopub.status.busy": "2022-03-09T15:12:27.444824Z",
     "iopub.status.idle": "2022-03-09T15:12:27.495639Z",
     "shell.execute_reply": "2022-03-09T15:12:27.495170Z"
    }
   },
   "outputs": [
    {
     "data": {
      "image/png": "[encoded data removed]",
      "text/plain": [
       "<Figure size 432x288 with 1 Axes>"
      ]
     },
     "metadata": {
      "needs_background": "light"
     },
     "output_type": "display_data"
    }
   ],
   "source": [
    "plot_examples([59915])"
   ]
  },
  {
   "cell_type": "markdown",
   "metadata": {},
   "source": [
    "Given label is **4** but also looks like **9**"
   ]
  },
  {
   "cell_type": "code",
   "execution_count": 13,
   "metadata": {
    "execution": {
     "iopub.execute_input": "2022-03-09T15:12:27.498492Z",
     "iopub.status.busy": "2022-03-09T15:12:27.498036Z",
     "iopub.status.idle": "2022-03-09T15:12:27.552873Z",
     "shell.execute_reply": "2022-03-09T15:12:27.552411Z"
    }
   },
   "outputs": [
    {
     "data": {
      "image/png": "[encoded data removed]",
      "text/plain": [
       "<Figure size 432x288 with 1 Axes>"
      ]
     },
     "metadata": {
      "needs_background": "light"
     },
     "output_type": "display_data"
    }
   ],
   "source": [
    "plot_examples([24798])"
   ]
  },
  {
   "cell_type": "markdown",
   "metadata": {},
   "source": [
    "Edge case of odd looking **9**s"
   ]
  },
  {
   "cell_type": "code",
   "execution_count": 14,
   "metadata": {
    "execution": {
     "iopub.execute_input": "2022-03-09T15:12:27.555542Z",
     "iopub.status.busy": "2022-03-09T15:12:27.555191Z",
     "iopub.status.idle": "2022-03-09T15:12:27.766017Z",
     "shell.execute_reply": "2022-03-09T15:12:27.765475Z"
    }
   },
   "outputs": [
    {
     "data": {
      "image/png": "[encoded data removed]",
      "text/plain": [
       "<Figure size 432x288 with 3 Axes>"
      ]
     },
     "metadata": {
      "needs_background": "light"
     },
     "output_type": "display_data"
    }
   ],
   "source": [
    "plot_examples([18598, 1352, 61247], 1, 3)"
   ]
  },
  {
   "cell_type": "markdown",
   "metadata": {},
   "source": [
    "Cleanlab has shortlisted the most likely label errors to speed up your data cleaning process. With this list, you can decide whether to fix label errors, augment edge cases or remove obscure examples. \n",
    "\n",
    "These human-in-the-loop processes may be time-consuming, so if you'd like Cleanlab to automatically remove these noisy examples and train a model directly on the partially mislabeled dataset, you're in luck! Cleanlab provides a ``LearningWithNoisyLabels`` wrapper to do precisely this:"
   ]
  },
  {
   "cell_type": "markdown",
   "metadata": {},
   "source": [
    "## 8. Adapt with Cleanlab's wrapper and train a more robust model"
   ]
  },
  {
   "cell_type": "markdown",
   "metadata": {},
   "source": [
    "First, we split the dataset into train and test subsets."
   ]
  },
  {
   "cell_type": "code",
   "execution_count": 15,
   "metadata": {
    "execution": {
     "iopub.execute_input": "2022-03-09T15:12:27.768537Z",
     "iopub.status.busy": "2022-03-09T15:12:27.768390Z",
     "iopub.status.idle": "2022-03-09T15:12:28.095142Z",
     "shell.execute_reply": "2022-03-09T15:12:28.094552Z"
    }
   },
   "outputs": [],
   "source": [
    "from sklearn.model_selection import train_test_split\n",
    "\n",
    "X_train, X_test, y_train, y_test = train_test_split(X, y, test_size=0.2)"
   ]
  },
  {
   "cell_type": "markdown",
   "metadata": {},
   "source": [
    "Re-instantiate a new scikit-learn compatible model with Skorch then wrap it with Cleanlab's ``LearningWithNoisyLabels`` wrapper."
   ]
  },
  {
   "cell_type": "code",
   "execution_count": 16,
   "metadata": {
    "execution": {
     "iopub.execute_input": "2022-03-09T15:12:28.098483Z",
     "iopub.status.busy": "2022-03-09T15:12:28.097943Z",
     "iopub.status.idle": "2022-03-09T15:12:28.101882Z",
     "shell.execute_reply": "2022-03-09T15:12:28.101388Z"
    }
   },
   "outputs": [],
   "source": [
    "from cleanlab.classification import LearningWithNoisyLabels\n",
    "\n",
    "net = NeuralNetClassifier(NeuralNetwork)\n",
    "clf = LearningWithNoisyLabels(clf=net)"
   ]
  },
  {
   "cell_type": "code",
   "execution_count": 17,
   "metadata": {
    "execution": {
     "iopub.execute_input": "2022-03-09T15:12:28.104096Z",
     "iopub.status.busy": "2022-03-09T15:12:28.103949Z",
     "iopub.status.idle": "2022-03-09T15:13:38.030696Z",
     "shell.execute_reply": "2022-03-09T15:13:38.030034Z"
    }
   },
   "outputs": [
    {
     "name": "stdout",
     "output_type": "stream",
     "text": [
      "  epoch    train_loss    valid_acc    valid_loss     dur\n",
      "-------  ------------  -----------  ------------  ------\n",
      "      1        \u001b[36m1.9860\u001b[0m       \u001b[32m0.7342\u001b[0m        \u001b[35m1.5742\u001b[0m  1.0862\n"
     ]
    },
    {
     "name": "stdout",
     "output_type": "stream",
     "text": [
      "      2        \u001b[36m1.2904\u001b[0m       \u001b[32m0.8134\u001b[0m        \u001b[35m0.9646\u001b[0m  1.0902\n"
     ]
    },
    {
     "name": "stdout",
     "output_type": "stream",
     "text": [
      "      3        \u001b[36m0.9217\u001b[0m       \u001b[32m0.8439\u001b[0m        \u001b[35m0.7157\u001b[0m  1.0908\n"
     ]
    },
    {
     "name": "stdout",
     "output_type": "stream",
     "text": [
      "      4        \u001b[36m0.7585\u001b[0m       \u001b[32m0.8590\u001b[0m        \u001b[35m0.5963\u001b[0m  1.1031\n"
     ]
    },
    {
     "name": "stdout",
     "output_type": "stream",
     "text": [
      "      5        \u001b[36m0.6666\u001b[0m       \u001b[32m0.8719\u001b[0m        \u001b[35m0.5264\u001b[0m  1.1042\n"
     ]
    },
    {
     "name": "stdout",
     "output_type": "stream",
     "text": [
      "      6        \u001b[36m0.6103\u001b[0m       \u001b[32m0.8792\u001b[0m        \u001b[35m0.4817\u001b[0m  1.1025\n"
     ]
    },
    {
     "name": "stdout",
     "output_type": "stream",
     "text": [
      "      7        \u001b[36m0.5644\u001b[0m       \u001b[32m0.8846\u001b[0m        \u001b[35m0.4486\u001b[0m  1.1183\n"
     ]
    },
    {
     "name": "stdout",
     "output_type": "stream",
     "text": [
      "      8        \u001b[36m0.5336\u001b[0m       \u001b[32m0.8879\u001b[0m        \u001b[35m0.4238\u001b[0m  1.1188\n"
     ]
    },
    {
     "name": "stdout",
     "output_type": "stream",
     "text": [
      "      9        \u001b[36m0.5080\u001b[0m       \u001b[32m0.8906\u001b[0m        \u001b[35m0.4048\u001b[0m  1.1155\n"
     ]
    },
    {
     "name": "stdout",
     "output_type": "stream",
     "text": [
      "     10        \u001b[36m0.4881\u001b[0m       \u001b[32m0.8930\u001b[0m        \u001b[35m0.3887\u001b[0m  1.1180\n"
     ]
    },
    {
     "name": "stdout",
     "output_type": "stream",
     "text": [
      "  epoch    train_loss    valid_acc    valid_loss     dur\n",
      "-------  ------------  -----------  ------------  ------\n",
      "      1        \u001b[36m1.9942\u001b[0m       \u001b[32m0.7525\u001b[0m        \u001b[35m1.5752\u001b[0m  1.1309\n"
     ]
    },
    {
     "name": "stdout",
     "output_type": "stream",
     "text": [
      "      2        \u001b[36m1.2917\u001b[0m       \u001b[32m0.8141\u001b[0m        \u001b[35m0.9520\u001b[0m  1.1000\n"
     ]
    },
    {
     "name": "stdout",
     "output_type": "stream",
     "text": [
      "      3        \u001b[36m0.9187\u001b[0m       \u001b[32m0.8435\u001b[0m        \u001b[35m0.7055\u001b[0m  1.1090\n"
     ]
    },
    {
     "name": "stdout",
     "output_type": "stream",
     "text": [
      "      4        \u001b[36m0.7610\u001b[0m       \u001b[32m0.8602\u001b[0m        \u001b[35m0.5899\u001b[0m  1.1135\n"
     ]
    },
    {
     "name": "stdout",
     "output_type": "stream",
     "text": [
      "      5        \u001b[36m0.6692\u001b[0m       \u001b[32m0.8705\u001b[0m        \u001b[35m0.5213\u001b[0m  1.1065\n"
     ]
    },
    {
     "name": "stdout",
     "output_type": "stream",
     "text": [
      "      6        \u001b[36m0.6082\u001b[0m       \u001b[32m0.8787\u001b[0m        \u001b[35m0.4749\u001b[0m  1.0979\n"
     ]
    },
    {
     "name": "stdout",
     "output_type": "stream",
     "text": [
      "      7        \u001b[36m0.5673\u001b[0m       \u001b[32m0.8834\u001b[0m        \u001b[35m0.4434\u001b[0m  1.0878\n"
     ]
    },
    {
     "name": "stdout",
     "output_type": "stream",
     "text": [
      "      8        \u001b[36m0.5370\u001b[0m       \u001b[32m0.8879\u001b[0m        \u001b[35m0.4186\u001b[0m  1.1159\n"
     ]
    },
    {
     "name": "stdout",
     "output_type": "stream",
     "text": [
      "      9        \u001b[36m0.5119\u001b[0m       \u001b[32m0.8906\u001b[0m        \u001b[35m0.3990\u001b[0m  1.1137\n"
     ]
    },
    {
     "name": "stdout",
     "output_type": "stream",
     "text": [
      "     10        \u001b[36m0.4874\u001b[0m       \u001b[32m0.8938\u001b[0m        \u001b[35m0.3827\u001b[0m  1.0990\n"
     ]
    },
    {
     "name": "stdout",
     "output_type": "stream",
     "text": [
      "  epoch    train_loss    valid_acc    valid_loss     dur\n",
      "-------  ------------  -----------  ------------  ------\n",
      "      1        \u001b[36m1.9894\u001b[0m       \u001b[32m0.7459\u001b[0m        \u001b[35m1.5701\u001b[0m  1.0899\n"
     ]
    },
    {
     "name": "stdout",
     "output_type": "stream",
     "text": [
      "      2        \u001b[36m1.2881\u001b[0m       \u001b[32m0.8137\u001b[0m        \u001b[35m0.9587\u001b[0m  1.0900\n"
     ]
    },
    {
     "name": "stdout",
     "output_type": "stream",
     "text": [
      "      3        \u001b[36m0.9159\u001b[0m       \u001b[32m0.8463\u001b[0m        \u001b[35m0.7112\u001b[0m  1.0929\n"
     ]
    },
    {
     "name": "stdout",
     "output_type": "stream",
     "text": [
      "      4        \u001b[36m0.7502\u001b[0m       \u001b[32m0.8590\u001b[0m        \u001b[35m0.5946\u001b[0m  1.0903\n"
     ]
    },
    {
     "name": "stdout",
     "output_type": "stream",
     "text": [
      "      5        \u001b[36m0.6656\u001b[0m       \u001b[32m0.8698\u001b[0m        \u001b[35m0.5268\u001b[0m  1.0898\n"
     ]
    },
    {
     "name": "stdout",
     "output_type": "stream",
     "text": [
      "      6        \u001b[36m0.6068\u001b[0m       \u001b[32m0.8766\u001b[0m        \u001b[35m0.4825\u001b[0m  1.0917\n"
     ]
    },
    {
     "name": "stdout",
     "output_type": "stream",
     "text": [
      "      7        \u001b[36m0.5631\u001b[0m       \u001b[32m0.8810\u001b[0m        \u001b[35m0.4506\u001b[0m  1.0898\n"
     ]
    },
    {
     "name": "stdout",
     "output_type": "stream",
     "text": [
      "      8        \u001b[36m0.5301\u001b[0m       \u001b[32m0.8843\u001b[0m        \u001b[35m0.4259\u001b[0m  1.0913\n"
     ]
    },
    {
     "name": "stdout",
     "output_type": "stream",
     "text": [
      "      9        \u001b[36m0.5066\u001b[0m       \u001b[32m0.8875\u001b[0m        \u001b[35m0.4068\u001b[0m  1.0903\n"
     ]
    },
    {
     "name": "stdout",
     "output_type": "stream",
     "text": [
      "     10        \u001b[36m0.4830\u001b[0m       \u001b[32m0.8902\u001b[0m        \u001b[35m0.3909\u001b[0m  1.0904\n"
     ]
    },
    {
     "name": "stdout",
     "output_type": "stream",
     "text": [
      "  epoch    train_loss    valid_acc    valid_loss     dur\n",
      "-------  ------------  -----------  ------------  ------\n",
      "      1        \u001b[36m1.9715\u001b[0m       \u001b[32m0.7259\u001b[0m        \u001b[35m1.5525\u001b[0m  1.0888\n"
     ]
    },
    {
     "name": "stdout",
     "output_type": "stream",
     "text": [
      "      2        \u001b[36m1.2754\u001b[0m       \u001b[32m0.8068\u001b[0m        \u001b[35m0.9518\u001b[0m  1.0881\n"
     ]
    },
    {
     "name": "stdout",
     "output_type": "stream",
     "text": [
      "      3        \u001b[36m0.9131\u001b[0m       \u001b[32m0.8382\u001b[0m        \u001b[35m0.7135\u001b[0m  1.0862\n"
     ]
    },
    {
     "name": "stdout",
     "output_type": "stream",
     "text": [
      "      4        \u001b[36m0.7574\u001b[0m       \u001b[32m0.8559\u001b[0m        \u001b[35m0.6006\u001b[0m  1.0873\n"
     ]
    },
    {
     "name": "stdout",
     "output_type": "stream",
     "text": [
      "      5        \u001b[36m0.6680\u001b[0m       \u001b[32m0.8667\u001b[0m        \u001b[35m0.5341\u001b[0m  1.0963\n"
     ]
    },
    {
     "name": "stdout",
     "output_type": "stream",
     "text": [
      "      6        \u001b[36m0.6125\u001b[0m       \u001b[32m0.8760\u001b[0m        \u001b[35m0.4896\u001b[0m  1.0861\n"
     ]
    },
    {
     "name": "stdout",
     "output_type": "stream",
     "text": [
      "      7        \u001b[36m0.5669\u001b[0m       \u001b[32m0.8807\u001b[0m        \u001b[35m0.4568\u001b[0m  1.0908\n"
     ]
    },
    {
     "name": "stdout",
     "output_type": "stream",
     "text": [
      "      8        \u001b[36m0.5346\u001b[0m       \u001b[32m0.8837\u001b[0m        \u001b[35m0.4327\u001b[0m  1.0899\n"
     ]
    },
    {
     "name": "stdout",
     "output_type": "stream",
     "text": [
      "      9        \u001b[36m0.5136\u001b[0m       \u001b[32m0.8871\u001b[0m        \u001b[35m0.4136\u001b[0m  1.0886\n"
     ]
    },
    {
     "name": "stdout",
     "output_type": "stream",
     "text": [
      "     10        \u001b[36m0.4880\u001b[0m       \u001b[32m0.8903\u001b[0m        \u001b[35m0.3973\u001b[0m  1.0877\n"
     ]
    },
    {
     "name": "stdout",
     "output_type": "stream",
     "text": [
      "  epoch    train_loss    valid_acc    valid_loss     dur\n",
      "-------  ------------  -----------  ------------  ------\n",
      "      1        \u001b[36m1.9868\u001b[0m       \u001b[32m0.7282\u001b[0m        \u001b[35m1.5739\u001b[0m  1.0912\n"
     ]
    },
    {
     "name": "stdout",
     "output_type": "stream",
     "text": [
      "      2        \u001b[36m1.2945\u001b[0m       \u001b[32m0.8040\u001b[0m        \u001b[35m0.9669\u001b[0m  1.1153\n"
     ]
    },
    {
     "name": "stdout",
     "output_type": "stream",
     "text": [
      "      3        \u001b[36m0.9215\u001b[0m       \u001b[32m0.8356\u001b[0m        \u001b[35m0.7203\u001b[0m  1.0933\n"
     ]
    },
    {
     "name": "stdout",
     "output_type": "stream",
     "text": [
      "      4        \u001b[36m0.7594\u001b[0m       \u001b[32m0.8559\u001b[0m        \u001b[35m0.6031\u001b[0m  1.0916\n"
     ]
    },
    {
     "name": "stdout",
     "output_type": "stream",
     "text": [
      "      5        \u001b[36m0.6666\u001b[0m       \u001b[32m0.8663\u001b[0m        \u001b[35m0.5337\u001b[0m  1.0909\n"
     ]
    },
    {
     "name": "stdout",
     "output_type": "stream",
     "text": [
      "      6        \u001b[36m0.6111\u001b[0m       \u001b[32m0.8732\u001b[0m        \u001b[35m0.4879\u001b[0m  1.0923\n"
     ]
    },
    {
     "name": "stdout",
     "output_type": "stream",
     "text": [
      "      7        \u001b[36m0.5678\u001b[0m       \u001b[32m0.8781\u001b[0m        \u001b[35m0.4553\u001b[0m  1.0914\n"
     ]
    },
    {
     "name": "stdout",
     "output_type": "stream",
     "text": [
      "      8        \u001b[36m0.5355\u001b[0m       \u001b[32m0.8842\u001b[0m        \u001b[35m0.4297\u001b[0m  1.0898\n"
     ]
    },
    {
     "name": "stdout",
     "output_type": "stream",
     "text": [
      "      9        \u001b[36m0.5076\u001b[0m       \u001b[32m0.8869\u001b[0m        \u001b[35m0.4102\u001b[0m  1.0887\n"
     ]
    },
    {
     "name": "stdout",
     "output_type": "stream",
     "text": [
      "     10        \u001b[36m0.4833\u001b[0m       \u001b[32m0.8898\u001b[0m        \u001b[35m0.3938\u001b[0m  1.0951\n"
     ]
    },
    {
     "name": "stdout",
     "output_type": "stream",
     "text": [
      "  epoch    train_loss    valid_acc    valid_loss     dur\n",
      "-------  ------------  -----------  ------------  ------\n",
      "      1        \u001b[36m1.9118\u001b[0m       \u001b[32m0.7721\u001b[0m        \u001b[35m1.3993\u001b[0m  1.3401\n"
     ]
    },
    {
     "name": "stdout",
     "output_type": "stream",
     "text": [
      "      2        \u001b[36m1.1256\u001b[0m       \u001b[32m0.8486\u001b[0m        \u001b[35m0.7917\u001b[0m  1.3415\n"
     ]
    },
    {
     "name": "stdout",
     "output_type": "stream",
     "text": [
      "      3        \u001b[36m0.7792\u001b[0m       \u001b[32m0.8707\u001b[0m        \u001b[35m0.5793\u001b[0m  1.3396\n"
     ]
    },
    {
     "name": "stdout",
     "output_type": "stream",
     "text": [
      "      4        \u001b[36m0.6358\u001b[0m       \u001b[32m0.8846\u001b[0m        \u001b[35m0.4801\u001b[0m  1.3398\n"
     ]
    },
    {
     "name": "stdout",
     "output_type": "stream",
     "text": [
      "      5        \u001b[36m0.5561\u001b[0m       \u001b[32m0.8928\u001b[0m        \u001b[35m0.4226\u001b[0m  1.3455\n"
     ]
    },
    {
     "name": "stdout",
     "output_type": "stream",
     "text": [
      "      6        \u001b[36m0.5021\u001b[0m       \u001b[32m0.8995\u001b[0m        \u001b[35m0.3844\u001b[0m  1.3515\n"
     ]
    },
    {
     "name": "stdout",
     "output_type": "stream",
     "text": [
      "      7        \u001b[36m0.4690\u001b[0m       \u001b[32m0.9033\u001b[0m        \u001b[35m0.3576\u001b[0m  1.3434\n"
     ]
    },
    {
     "name": "stdout",
     "output_type": "stream",
     "text": [
      "      8        \u001b[36m0.4422\u001b[0m       \u001b[32m0.9081\u001b[0m        \u001b[35m0.3365\u001b[0m  1.3366\n"
     ]
    },
    {
     "name": "stdout",
     "output_type": "stream",
     "text": [
      "      9        \u001b[36m0.4179\u001b[0m       \u001b[32m0.9090\u001b[0m        \u001b[35m0.3204\u001b[0m  1.3424\n"
     ]
    },
    {
     "name": "stdout",
     "output_type": "stream",
     "text": [
      "     10        \u001b[36m0.3988\u001b[0m       \u001b[32m0.9112\u001b[0m        \u001b[35m0.3067\u001b[0m  1.3401\n"
     ]
    }
   ],
   "source": [
    "_ = clf.fit(X_train, y_train.to_numpy())"
   ]
  },
  {
   "cell_type": "markdown",
   "metadata": {},
   "source": [
    "## 9. Evaluate the robust model's performance"
   ]
  },
  {
   "cell_type": "code",
   "execution_count": 18,
   "metadata": {
    "execution": {
     "iopub.execute_input": "2022-03-09T15:13:38.033490Z",
     "iopub.status.busy": "2022-03-09T15:13:38.033211Z",
     "iopub.status.idle": "2022-03-09T15:13:38.271743Z",
     "shell.execute_reply": "2022-03-09T15:13:38.271213Z"
    }
   },
   "outputs": [
    {
     "data": {
      "text/plain": [
       "0.9029285714285714"
      ]
     },
     "execution_count": 18,
     "metadata": {},
     "output_type": "execute_result"
    }
   ],
   "source": [
    "from sklearn.metrics import accuracy_score\n",
    "\n",
    "y_pred = clf.predict(X_test)\n",
    "accuracy_score(y_test, y_pred)"
   ]
  },
  {
   "cell_type": "markdown",
   "metadata": {},
   "source": [
    "## What's next?"
   ]
  },
  {
   "cell_type": "markdown",
   "metadata": {},
   "source": [
    "Congratulations on completing this tutorial! Check out our following tutorial on using Cleanlab for text classification, where we found ``hundreds`` of potential label errors in one of the most well-known text datasets, the IMBDb movie review dataset!"
   ]
  }
 ],
 "metadata": {
  "interpreter": {
   "hash": "ced20e3e49bb4fa4ce8ad38f8f2535b7fc4c39b2b89554502b5dbdad1ad67eda"
  },
  "kernelspec": {
   "display_name": "Python 3.10.0 64-bit",
   "language": "python",
   "name": "python3"
  },
  "language_info": {
   "codemirror_mode": {
    "name": "ipython",
    "version": 3
   },
   "file_extension": ".py",
   "mimetype": "text/x-python",
   "name": "python",
   "nbconvert_exporter": "python",
   "pygments_lexer": "ipython3",
   "version": "3.8.12"
  }
 },
 "nbformat": 4,
 "nbformat_minor": 2
}
