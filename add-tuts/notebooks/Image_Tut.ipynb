{
 "cells": [
  {
   "cell_type": "markdown",
   "metadata": {},
   "source": [
    "# Image Classification with Cleanlab, PyTorch & Skorch"
   ]
  },
  {
   "cell_type": "markdown",
   "metadata": {},
   "source": [
    "This tutorial will use Cleanlab to find potential label errors in the MNIST handwritten digit image dataset. This dataset contains 60,000 images of handwritten digits from 0 to 9. We'll find *more than a thousand* highly suspicious examples with label errors and edge cases by the end of this tutorial. \n",
    "\n",
    "**Overview of what we'll do in this tutorial:**\n",
    "\n",
    "- Build a simple PyTorch neural net and wrap it with Skorch to make it scikit-learn compatible.\n",
    "\n",
    "- Compute the cross-validated predicted probabilities, ``pyx``, sometimes known as the out-of-sample predicted probabilities.\n",
    "\n",
    "- Generate a list of potential label errors with Cleanlab's ``get_noise_indices``.\n",
    "\n",
    "- Build and train a more robust model than the vanilla model after adapting it with Cleanlab's ``LearningWithNoisyLabels``. \n",
    "\n",
    "**Data:** https://www.openml.org/d/554"
   ]
  },
  {
   "cell_type": "markdown",
   "metadata": {},
   "source": [
    "## 1. Install the required dependencies"
   ]
  },
  {
   "cell_type": "markdown",
   "metadata": {},
   "source": [
    "``%%capture`` is a magic function to hides the cell's output."
   ]
  },
  {
   "cell_type": "code",
   "execution_count": 1,
   "metadata": {
    "execution": {
     "iopub.execute_input": "2022-03-09T00:35:14.865333Z",
     "iopub.status.busy": "2022-03-09T00:35:14.865154Z",
     "iopub.status.idle": "2022-03-09T00:35:40.907859Z",
     "shell.execute_reply": "2022-03-09T00:35:40.907213Z"
    }
   },
   "outputs": [],
   "source": [
    "%%capture\n",
    "\n",
    "%pip install cleanlab pandas matplotlib torch torchvision skorch"
   ]
  },
  {
   "cell_type": "markdown",
   "metadata": {},
   "source": [
    "## 2. Fetch and scale the MNIST dataset"
   ]
  },
  {
   "cell_type": "code",
   "execution_count": 2,
   "metadata": {
    "execution": {
     "iopub.execute_input": "2022-03-09T00:35:40.910967Z",
     "iopub.status.busy": "2022-03-09T00:35:40.910568Z",
     "iopub.status.idle": "2022-03-09T00:36:30.193615Z",
     "shell.execute_reply": "2022-03-09T00:36:30.193023Z"
    }
   },
   "outputs": [],
   "source": [
    "from sklearn.datasets import fetch_openml\n",
    "\n",
    "# Fetch the MNIST dataset\n",
    "mnist = fetch_openml('mnist_784')\n",
    "\n",
    "# Assign the data features and labels to variable X and y respectively \n",
    "X = mnist.data.astype('float32')\n",
    "y = mnist.target.astype('int64')\n"
   ]
  },
  {
   "cell_type": "markdown",
   "metadata": {},
   "source": [
    "<div class=\"alert alert-info\">\n",
    "\n",
    "Bringing Your Own Data (BYOD)?\n",
    "\n",
    "Assign your data's features to variable ``X`` and its labels to variable ``y`` instead.\n",
    "\n",
    "</div>"
   ]
  },
  {
   "cell_type": "code",
   "execution_count": 3,
   "metadata": {
    "execution": {
     "iopub.execute_input": "2022-03-09T00:36:30.196322Z",
     "iopub.status.busy": "2022-03-09T00:36:30.196162Z",
     "iopub.status.idle": "2022-03-09T00:36:30.259104Z",
     "shell.execute_reply": "2022-03-09T00:36:30.258537Z"
    }
   },
   "outputs": [],
   "source": [
    "\n",
    "# Scale the features which range from 0 to 255 (256 levels on the grayscale) \n",
    "X /= 255.0\n",
    "\n",
    "# Then convert it to a numpy array\n",
    "X = X.to_numpy()"
   ]
  },
  {
   "cell_type": "markdown",
   "metadata": {},
   "source": [
    "## 3. Define a classification model"
   ]
  },
  {
   "cell_type": "markdown",
   "metadata": {},
   "source": [
    "Here, we define a simple neural network with PyTorch."
   ]
  },
  {
   "cell_type": "code",
   "execution_count": 4,
   "metadata": {
    "execution": {
     "iopub.execute_input": "2022-03-09T00:36:30.261799Z",
     "iopub.status.busy": "2022-03-09T00:36:30.261651Z",
     "iopub.status.idle": "2022-03-09T00:36:30.635202Z",
     "shell.execute_reply": "2022-03-09T00:36:30.634662Z"
    }
   },
   "outputs": [],
   "source": [
    "from torch import nn\n",
    "\n",
    "class NeuralNetwork(nn.Module):\n",
    "    def __init__(self):\n",
    "        super(NeuralNetwork, self).__init__()\n",
    "        self.dropout = nn.Dropout(0.5)\n",
    "        self.hidden = nn.Linear(28*28, 128)\n",
    "        self.output = nn.Linear(128, 10)\n",
    "\n",
    "    def forward(self, X):\n",
    "        X = nn.functional.relu(self.hidden(X))\n",
    "        X = self.dropout(X)\n",
    "        X = nn.functional.softmax(self.output(X), dim=-1)\n",
    "        return X"
   ]
  },
  {
   "cell_type": "markdown",
   "metadata": {},
   "source": [
    "## 4. Wrap with Skorch for scikit-learn compatibility"
   ]
  },
  {
   "cell_type": "markdown",
   "metadata": {},
   "source": [
    "As some of Cleanlab's feature requires scikit-learn compatibility, we will need to adapt the above PyTorch neural net accordingly. Skorch is a convenient package that helps with this, read more about it here: https://skorch.readthedocs.io"
   ]
  },
  {
   "cell_type": "code",
   "execution_count": 5,
   "metadata": {
    "execution": {
     "iopub.execute_input": "2022-03-09T00:36:30.637933Z",
     "iopub.status.busy": "2022-03-09T00:36:30.637784Z",
     "iopub.status.idle": "2022-03-09T00:36:30.717389Z",
     "shell.execute_reply": "2022-03-09T00:36:30.716898Z"
    }
   },
   "outputs": [],
   "source": [
    "from skorch import NeuralNetClassifier\n",
    "\n",
    "# Wrap the PyTorch neural net around Skorch's NeuralNetClassifier wrapper\n",
    "net = NeuralNetClassifier(NeuralNetwork)"
   ]
  },
  {
   "cell_type": "markdown",
   "metadata": {},
   "source": [
    "## 5. Compute the cross-validated predicted probabilities"
   ]
  },
  {
   "cell_type": "markdown",
   "metadata": {},
   "source": [
    "If we'd like Cleanlab to identify potential label errors in the whole dataset and not just the training set, we can consider fitting the entire dataset. We will only use this model instance to compute the cross-validated predicted probabilities, ``pyx``, and not for model evaluation."
   ]
  },
  {
   "cell_type": "code",
   "execution_count": 6,
   "metadata": {
    "execution": {
     "iopub.execute_input": "2022-03-09T00:36:30.719977Z",
     "iopub.status.busy": "2022-03-09T00:36:30.719697Z",
     "iopub.status.idle": "2022-03-09T00:36:53.766818Z",
     "shell.execute_reply": "2022-03-09T00:36:53.766249Z"
    }
   },
   "outputs": [
    {
     "name": "stdout",
     "output_type": "stream",
     "text": [
      "  epoch    train_loss    valid_acc    valid_loss     dur\n",
      "-------  ------------  -----------  ------------  ------\n",
      "      1        \u001b[36m1.8360\u001b[0m       \u001b[32m0.7655\u001b[0m        \u001b[35m1.2367\u001b[0m  2.2967\n"
     ]
    },
    {
     "name": "stdout",
     "output_type": "stream",
     "text": [
      "      2        \u001b[36m1.0126\u001b[0m       \u001b[32m0.8309\u001b[0m        \u001b[35m0.7186\u001b[0m  2.2988\n"
     ]
    },
    {
     "name": "stdout",
     "output_type": "stream",
     "text": [
      "      3        \u001b[36m0.7395\u001b[0m       \u001b[32m0.8605\u001b[0m        \u001b[35m0.5599\u001b[0m  2.2935\n"
     ]
    },
    {
     "name": "stdout",
     "output_type": "stream",
     "text": [
      "      4        \u001b[36m0.6227\u001b[0m       \u001b[32m0.8747\u001b[0m        \u001b[35m0.4818\u001b[0m  2.3098\n"
     ]
    },
    {
     "name": "stdout",
     "output_type": "stream",
     "text": [
      "      5        \u001b[36m0.5606\u001b[0m       \u001b[32m0.8844\u001b[0m        \u001b[35m0.4370\u001b[0m  2.2935\n"
     ]
    },
    {
     "name": "stdout",
     "output_type": "stream",
     "text": [
      "      6        \u001b[36m0.5147\u001b[0m       \u001b[32m0.8903\u001b[0m        \u001b[35m0.4043\u001b[0m  2.2989\n"
     ]
    },
    {
     "name": "stdout",
     "output_type": "stream",
     "text": [
      "      7        \u001b[36m0.4830\u001b[0m       \u001b[32m0.8954\u001b[0m        \u001b[35m0.3814\u001b[0m  2.2980\n"
     ]
    },
    {
     "name": "stdout",
     "output_type": "stream",
     "text": [
      "      8        \u001b[36m0.4609\u001b[0m       \u001b[32m0.8991\u001b[0m        \u001b[35m0.3625\u001b[0m  2.2980\n"
     ]
    },
    {
     "name": "stdout",
     "output_type": "stream",
     "text": [
      "      9        \u001b[36m0.4389\u001b[0m       \u001b[32m0.9027\u001b[0m        \u001b[35m0.3475\u001b[0m  2.2947\n"
     ]
    },
    {
     "name": "stdout",
     "output_type": "stream",
     "text": [
      "     10        \u001b[36m0.4233\u001b[0m       \u001b[32m0.9054\u001b[0m        \u001b[35m0.3346\u001b[0m  2.2935\n"
     ]
    }
   ],
   "source": [
    "_ = net.fit(X, y)"
   ]
  },
  {
   "cell_type": "markdown",
   "metadata": {},
   "source": [
    "Compute the cross-validated predicted probabilities, ``pyx``, sometimes also known as the out-of-sample predicted probabilities."
   ]
  },
  {
   "cell_type": "code",
   "execution_count": 7,
   "metadata": {
    "execution": {
     "iopub.execute_input": "2022-03-09T00:36:53.769416Z",
     "iopub.status.busy": "2022-03-09T00:36:53.769084Z",
     "iopub.status.idle": "2022-03-09T00:37:30.050832Z",
     "shell.execute_reply": "2022-03-09T00:37:30.050256Z"
    }
   },
   "outputs": [
    {
     "name": "stdout",
     "output_type": "stream",
     "text": [
      "  epoch    train_loss    valid_acc    valid_loss     dur\n",
      "-------  ------------  -----------  ------------  ------\n",
      "      1        \u001b[36m2.0109\u001b[0m       \u001b[32m0.7236\u001b[0m        \u001b[35m1.6074\u001b[0m  1.1548\n"
     ]
    },
    {
     "name": "stdout",
     "output_type": "stream",
     "text": [
      "      2        \u001b[36m1.2878\u001b[0m       \u001b[32m0.7912\u001b[0m        \u001b[35m0.9798\u001b[0m  1.2040\n"
     ]
    },
    {
     "name": "stdout",
     "output_type": "stream",
     "text": [
      "      3        \u001b[36m0.8994\u001b[0m       \u001b[32m0.8293\u001b[0m        \u001b[35m0.7338\u001b[0m  1.1547\n"
     ]
    },
    {
     "name": "stdout",
     "output_type": "stream",
     "text": [
      "      4        \u001b[36m0.7369\u001b[0m       \u001b[32m0.8486\u001b[0m        \u001b[35m0.6175\u001b[0m  1.1579\n"
     ]
    },
    {
     "name": "stdout",
     "output_type": "stream",
     "text": [
      "      5        \u001b[36m0.6471\u001b[0m       \u001b[32m0.8591\u001b[0m        \u001b[35m0.5504\u001b[0m  1.1545\n"
     ]
    },
    {
     "name": "stdout",
     "output_type": "stream",
     "text": [
      "      6        \u001b[36m0.5916\u001b[0m       \u001b[32m0.8665\u001b[0m        \u001b[35m0.5069\u001b[0m  1.1540\n"
     ]
    },
    {
     "name": "stdout",
     "output_type": "stream",
     "text": [
      "      7        \u001b[36m0.5488\u001b[0m       \u001b[32m0.8717\u001b[0m        \u001b[35m0.4748\u001b[0m  1.1533\n"
     ]
    },
    {
     "name": "stdout",
     "output_type": "stream",
     "text": [
      "      8        \u001b[36m0.5166\u001b[0m       \u001b[32m0.8751\u001b[0m        \u001b[35m0.4503\u001b[0m  1.2152\n"
     ]
    },
    {
     "name": "stdout",
     "output_type": "stream",
     "text": [
      "      9        \u001b[36m0.4943\u001b[0m       \u001b[32m0.8793\u001b[0m        \u001b[35m0.4304\u001b[0m  1.1584\n"
     ]
    },
    {
     "name": "stdout",
     "output_type": "stream",
     "text": [
      "     10        \u001b[36m0.4665\u001b[0m       \u001b[32m0.8834\u001b[0m        \u001b[35m0.4140\u001b[0m  1.1556\n"
     ]
    },
    {
     "name": "stdout",
     "output_type": "stream",
     "text": [
      "  epoch    train_loss    valid_acc    valid_loss     dur\n",
      "-------  ------------  -----------  ------------  ------\n",
      "      1        \u001b[36m1.9874\u001b[0m       \u001b[32m0.7394\u001b[0m        \u001b[35m1.5635\u001b[0m  1.1553\n"
     ]
    },
    {
     "name": "stdout",
     "output_type": "stream",
     "text": [
      "      2        \u001b[36m1.2619\u001b[0m       \u001b[32m0.8128\u001b[0m        \u001b[35m0.9419\u001b[0m  1.1546\n"
     ]
    },
    {
     "name": "stdout",
     "output_type": "stream",
     "text": [
      "      3        \u001b[36m0.8913\u001b[0m       \u001b[32m0.8441\u001b[0m        \u001b[35m0.7012\u001b[0m  1.1589\n"
     ]
    },
    {
     "name": "stdout",
     "output_type": "stream",
     "text": [
      "      4        \u001b[36m0.7306\u001b[0m       \u001b[32m0.8604\u001b[0m        \u001b[35m0.5884\u001b[0m  1.1640\n"
     ]
    },
    {
     "name": "stdout",
     "output_type": "stream",
     "text": [
      "      5        \u001b[36m0.6438\u001b[0m       \u001b[32m0.8727\u001b[0m        \u001b[35m0.5220\u001b[0m  1.1552\n"
     ]
    },
    {
     "name": "stdout",
     "output_type": "stream",
     "text": [
      "      6        \u001b[36m0.5866\u001b[0m       \u001b[32m0.8798\u001b[0m        \u001b[35m0.4786\u001b[0m  1.1548\n"
     ]
    },
    {
     "name": "stdout",
     "output_type": "stream",
     "text": [
      "      7        \u001b[36m0.5454\u001b[0m       \u001b[32m0.8845\u001b[0m        \u001b[35m0.4469\u001b[0m  1.1557\n"
     ]
    },
    {
     "name": "stdout",
     "output_type": "stream",
     "text": [
      "      8        \u001b[36m0.5133\u001b[0m       \u001b[32m0.8876\u001b[0m        \u001b[35m0.4242\u001b[0m  1.1564\n"
     ]
    },
    {
     "name": "stdout",
     "output_type": "stream",
     "text": [
      "      9        \u001b[36m0.4936\u001b[0m       \u001b[32m0.8915\u001b[0m        \u001b[35m0.4056\u001b[0m  1.1571\n"
     ]
    },
    {
     "name": "stdout",
     "output_type": "stream",
     "text": [
      "     10        \u001b[36m0.4716\u001b[0m       \u001b[32m0.8940\u001b[0m        \u001b[35m0.3905\u001b[0m  1.1574\n"
     ]
    },
    {
     "name": "stdout",
     "output_type": "stream",
     "text": [
      "  epoch    train_loss    valid_acc    valid_loss     dur\n",
      "-------  ------------  -----------  ------------  ------\n",
      "      1        \u001b[36m2.0129\u001b[0m       \u001b[32m0.7307\u001b[0m        \u001b[35m1.5945\u001b[0m  1.1545\n"
     ]
    },
    {
     "name": "stdout",
     "output_type": "stream",
     "text": [
      "      2        \u001b[36m1.3104\u001b[0m       \u001b[32m0.8062\u001b[0m        \u001b[35m0.9653\u001b[0m  1.1699\n"
     ]
    },
    {
     "name": "stdout",
     "output_type": "stream",
     "text": [
      "      3        \u001b[36m0.9346\u001b[0m       \u001b[32m0.8393\u001b[0m        \u001b[35m0.7161\u001b[0m  1.1540\n"
     ]
    },
    {
     "name": "stdout",
     "output_type": "stream",
     "text": [
      "      4        \u001b[36m0.7660\u001b[0m       \u001b[32m0.8614\u001b[0m        \u001b[35m0.5966\u001b[0m  1.1563\n"
     ]
    },
    {
     "name": "stdout",
     "output_type": "stream",
     "text": [
      "      5        \u001b[36m0.6762\u001b[0m       \u001b[32m0.8740\u001b[0m        \u001b[35m0.5262\u001b[0m  1.1550\n"
     ]
    },
    {
     "name": "stdout",
     "output_type": "stream",
     "text": [
      "      6        \u001b[36m0.6152\u001b[0m       \u001b[32m0.8811\u001b[0m        \u001b[35m0.4793\u001b[0m  1.1598\n"
     ]
    },
    {
     "name": "stdout",
     "output_type": "stream",
     "text": [
      "      7        \u001b[36m0.5717\u001b[0m       \u001b[32m0.8865\u001b[0m        \u001b[35m0.4461\u001b[0m  1.1555\n"
     ]
    },
    {
     "name": "stdout",
     "output_type": "stream",
     "text": [
      "      8        \u001b[36m0.5401\u001b[0m       \u001b[32m0.8914\u001b[0m        \u001b[35m0.4207\u001b[0m  1.1569\n"
     ]
    },
    {
     "name": "stdout",
     "output_type": "stream",
     "text": [
      "      9        \u001b[36m0.5165\u001b[0m       \u001b[32m0.8948\u001b[0m        \u001b[35m0.4011\u001b[0m  1.1566\n"
     ]
    },
    {
     "name": "stdout",
     "output_type": "stream",
     "text": [
      "     10        \u001b[36m0.4944\u001b[0m       \u001b[32m0.8976\u001b[0m        \u001b[35m0.3849\u001b[0m  1.1545\n"
     ]
    }
   ],
   "source": [
    "from sklearn.model_selection import cross_val_predict\n",
    "\n",
    "pyx = cross_val_predict(net, X, y, cv=3, method='predict_proba')"
   ]
  },
  {
   "cell_type": "markdown",
   "metadata": {},
   "source": [
    "## 6. Run Cleanlab to find potential label errors"
   ]
  },
  {
   "cell_type": "markdown",
   "metadata": {},
   "source": [
    "Cleanlab has a ``get_noise_indices`` function to generate a list of potential label errors. Setting ``sorted_index_method=\"prob_given_label\"`` returns the indices of all the most likely label errors, sorted by the most suspicious example first."
   ]
  },
  {
   "cell_type": "code",
   "execution_count": 8,
   "metadata": {
    "execution": {
     "iopub.execute_input": "2022-03-09T00:37:30.053523Z",
     "iopub.status.busy": "2022-03-09T00:37:30.053354Z",
     "iopub.status.idle": "2022-03-09T00:37:30.379311Z",
     "shell.execute_reply": "2022-03-09T00:37:30.378670Z"
    }
   },
   "outputs": [],
   "source": [
    "from cleanlab.pruning import get_noise_indices\n",
    "\n",
    "ordered_label_errors = get_noise_indices(\n",
    "    s=y,\n",
    "    psx=pyx,\n",
    "    sorted_index_method=\"prob_given_label\"\n",
    ")"
   ]
  },
  {
   "cell_type": "markdown",
   "metadata": {},
   "source": [
    "## 7. Review some of the most likely mislabeled examples"
   ]
  },
  {
   "cell_type": "code",
   "execution_count": 9,
   "metadata": {
    "execution": {
     "iopub.execute_input": "2022-03-09T00:37:30.382318Z",
     "iopub.status.busy": "2022-03-09T00:37:30.382116Z",
     "iopub.status.idle": "2022-03-09T00:37:30.387067Z",
     "shell.execute_reply": "2022-03-09T00:37:30.386559Z"
    }
   },
   "outputs": [
    {
     "name": "stdout",
     "output_type": "stream",
     "text": [
      "Cleanlab found 1239 potential label errors. Here are the indices of the top 15 most likely ones: \n",
      " [24798  8729 18598 15942 31134  1352 61790  7010 59915 12679 20820 13031\n",
      " 39457 20735 55739]\n"
     ]
    }
   ],
   "source": [
    "print(f\"Cleanlab found {len(ordered_label_errors)} potential label errors. Here are the indices of the top 15 most likely ones: \\n {ordered_label_errors[:15]}\")"
   ]
  },
  {
   "cell_type": "markdown",
   "metadata": {},
   "source": [
    "We'll define a new ``plot_examples`` function to display any examples in a subplot conveniently."
   ]
  },
  {
   "cell_type": "code",
   "execution_count": 10,
   "metadata": {
    "execution": {
     "iopub.execute_input": "2022-03-09T00:37:30.389414Z",
     "iopub.status.busy": "2022-03-09T00:37:30.389124Z",
     "iopub.status.idle": "2022-03-09T00:37:31.057403Z",
     "shell.execute_reply": "2022-03-09T00:37:31.056889Z"
    }
   },
   "outputs": [],
   "source": [
    "import matplotlib.pyplot as plt\n",
    "\n",
    "def plot_examples(id_iter, nrows=1, ncols=1):\n",
    "    for count, id in enumerate(id_iter):\n",
    "        plt.subplot(nrows, ncols, count+1)\n",
    "        plt.imshow(X[id].reshape(28, 28))\n",
    "        plt.title(f\"id: {id} \\n label: {y[id]}\")\n",
    "        plt.axis('off')\n",
    "\n",
    "    plt.tight_layout(h_pad=2.0)"
   ]
  },
  {
   "cell_type": "markdown",
   "metadata": {},
   "source": [
    "Let's start by having an overview of the top 15 most likely label errors. From here, we can see a few label errors and edge cases. Feel free to change the parameters to display more or fewer examples. "
   ]
  },
  {
   "cell_type": "code",
   "execution_count": 11,
   "metadata": {
    "execution": {
     "iopub.execute_input": "2022-03-09T00:37:31.059998Z",
     "iopub.status.busy": "2022-03-09T00:37:31.059850Z",
     "iopub.status.idle": "2022-03-09T00:37:31.460720Z",
     "shell.execute_reply": "2022-03-09T00:37:31.460205Z"
    }
   },
   "outputs": [
    {
     "data": {
      "image/png": "[encoded data removed]",
      "text/plain": [
       "<Figure size 432x288 with 15 Axes>"
      ]
     },
     "metadata": {
      "needs_background": "light"
     },
     "output_type": "display_data"
    }
   ],
   "source": [
    "plot_examples(ordered_label_errors[range(15)], 3, 5)"
   ]
  },
  {
   "cell_type": "markdown",
   "metadata": {},
   "source": [
    "Let's zoom into specific examples:"
   ]
  },
  {
   "cell_type": "markdown",
   "metadata": {},
   "source": [
    "Given label is **4** but looks more like a **7**"
   ]
  },
  {
   "cell_type": "code",
   "execution_count": 12,
   "metadata": {
    "execution": {
     "iopub.execute_input": "2022-03-09T00:37:31.463266Z",
     "iopub.status.busy": "2022-03-09T00:37:31.463027Z",
     "iopub.status.idle": "2022-03-09T00:37:31.515591Z",
     "shell.execute_reply": "2022-03-09T00:37:31.515165Z"
    }
   },
   "outputs": [
    {
     "data": {
      "image/png": "[encoded data removed]",
      "text/plain": [
       "<Figure size 432x288 with 1 Axes>"
      ]
     },
     "metadata": {
      "needs_background": "light"
     },
     "output_type": "display_data"
    }
   ],
   "source": [
    "plot_examples([59915])"
   ]
  },
  {
   "cell_type": "markdown",
   "metadata": {},
   "source": [
    "Given label is **4** but also looks like **9**"
   ]
  },
  {
   "cell_type": "code",
   "execution_count": 13,
   "metadata": {
    "execution": {
     "iopub.execute_input": "2022-03-09T00:37:31.518058Z",
     "iopub.status.busy": "2022-03-09T00:37:31.517783Z",
     "iopub.status.idle": "2022-03-09T00:37:31.570807Z",
     "shell.execute_reply": "2022-03-09T00:37:31.570352Z"
    }
   },
   "outputs": [
    {
     "data": {
      "image/png": "[encoded data removed]",
      "text/plain": [
       "<Figure size 432x288 with 1 Axes>"
      ]
     },
     "metadata": {
      "needs_background": "light"
     },
     "output_type": "display_data"
    }
   ],
   "source": [
    "plot_examples([24798])"
   ]
  },
  {
   "cell_type": "markdown",
   "metadata": {},
   "source": [
    "Edge case of odd looking **9**s"
   ]
  },
  {
   "cell_type": "code",
   "execution_count": 14,
   "metadata": {
    "execution": {
     "iopub.execute_input": "2022-03-09T00:37:31.573281Z",
     "iopub.status.busy": "2022-03-09T00:37:31.572957Z",
     "iopub.status.idle": "2022-03-09T00:37:31.770737Z",
     "shell.execute_reply": "2022-03-09T00:37:31.770226Z"
    }
   },
   "outputs": [
    {
     "data": {
      "image/png": "[encoded data removed]",
      "text/plain": [
       "<Figure size 432x288 with 3 Axes>"
      ]
     },
     "metadata": {
      "needs_background": "light"
     },
     "output_type": "display_data"
    }
   ],
   "source": [
    "plot_examples([18598, 1352, 61247], 1, 3)"
   ]
  },
  {
   "cell_type": "markdown",
   "metadata": {},
   "source": [
    "Cleanlab has shortlisted the most likely label errors to speed up your data cleaning process. With this list, you can decide whether to fix label errors, augment edge cases or remove obscure examples. \n",
    "\n",
    "These human-in-the-loop processes may be time-consuming, so if you'd like Cleanlab to automatically remove these noisy examples and train a model directly on the partially mislabeled dataset, you're in luck! Cleanlab provides a ``LearningWithNoisyLabels`` wrapper to do precisely this:"
   ]
  },
  {
   "cell_type": "markdown",
   "metadata": {},
   "source": [
    "## 8. Adapt with Cleanlab's wrapper and train a more robust model"
   ]
  },
  {
   "cell_type": "markdown",
   "metadata": {},
   "source": [
    "First, we split the dataset into train and test subsets."
   ]
  },
  {
   "cell_type": "code",
   "execution_count": 15,
   "metadata": {
    "execution": {
     "iopub.execute_input": "2022-03-09T00:37:31.773175Z",
     "iopub.status.busy": "2022-03-09T00:37:31.772935Z",
     "iopub.status.idle": "2022-03-09T00:37:32.073031Z",
     "shell.execute_reply": "2022-03-09T00:37:32.072478Z"
    }
   },
   "outputs": [],
   "source": [
    "from sklearn.model_selection import train_test_split\n",
    "\n",
    "X_train, X_test, y_train, y_test = train_test_split(X, y, test_size=0.2)"
   ]
  },
  {
   "cell_type": "markdown",
   "metadata": {},
   "source": [
    "Re-instantiate a new scikit-learn compatible model with Skorch then wrap it with Cleanlab's ``LearningWithNoisyLabels`` wrapper."
   ]
  },
  {
   "cell_type": "code",
   "execution_count": 16,
   "metadata": {
    "execution": {
     "iopub.execute_input": "2022-03-09T00:37:32.075622Z",
     "iopub.status.busy": "2022-03-09T00:37:32.075475Z",
     "iopub.status.idle": "2022-03-09T00:37:32.078502Z",
     "shell.execute_reply": "2022-03-09T00:37:32.077941Z"
    }
   },
   "outputs": [],
   "source": [
    "from cleanlab.classification import LearningWithNoisyLabels\n",
    "\n",
    "net = NeuralNetClassifier(NeuralNetwork)\n",
    "clf = LearningWithNoisyLabels(clf=net)"
   ]
  },
  {
   "cell_type": "code",
   "execution_count": 17,
   "metadata": {
    "execution": {
     "iopub.execute_input": "2022-03-09T00:37:32.080662Z",
     "iopub.status.busy": "2022-03-09T00:37:32.080443Z",
     "iopub.status.idle": "2022-03-09T00:38:43.210896Z",
     "shell.execute_reply": "2022-03-09T00:38:43.210268Z"
    }
   },
   "outputs": [
    {
     "name": "stdout",
     "output_type": "stream",
     "text": [
      "  epoch    train_loss    valid_acc    valid_loss     dur\n",
      "-------  ------------  -----------  ------------  ------\n",
      "      1        \u001b[36m2.0406\u001b[0m       \u001b[32m0.6855\u001b[0m        \u001b[35m1.6659\u001b[0m  1.1190\n"
     ]
    },
    {
     "name": "stdout",
     "output_type": "stream",
     "text": [
      "      2        \u001b[36m1.3741\u001b[0m       \u001b[32m0.8112\u001b[0m        \u001b[35m1.0199\u001b[0m  1.1145\n"
     ]
    },
    {
     "name": "stdout",
     "output_type": "stream",
     "text": [
      "      3        \u001b[36m0.9672\u001b[0m       \u001b[32m0.8451\u001b[0m        \u001b[35m0.7398\u001b[0m  1.1155\n"
     ]
    },
    {
     "name": "stdout",
     "output_type": "stream",
     "text": [
      "      4        \u001b[36m0.7842\u001b[0m       \u001b[32m0.8641\u001b[0m        \u001b[35m0.6095\u001b[0m  1.1120\n"
     ]
    },
    {
     "name": "stdout",
     "output_type": "stream",
     "text": [
      "      5        \u001b[36m0.6815\u001b[0m       \u001b[32m0.8732\u001b[0m        \u001b[35m0.5351\u001b[0m  1.1129\n"
     ]
    },
    {
     "name": "stdout",
     "output_type": "stream",
     "text": [
      "      6        \u001b[36m0.6139\u001b[0m       \u001b[32m0.8801\u001b[0m        \u001b[35m0.4863\u001b[0m  1.1122\n"
     ]
    },
    {
     "name": "stdout",
     "output_type": "stream",
     "text": [
      "      7        \u001b[36m0.5716\u001b[0m       \u001b[32m0.8854\u001b[0m        \u001b[35m0.4526\u001b[0m  1.1159\n"
     ]
    },
    {
     "name": "stdout",
     "output_type": "stream",
     "text": [
      "      8        \u001b[36m0.5371\u001b[0m       \u001b[32m0.8890\u001b[0m        \u001b[35m0.4276\u001b[0m  1.1156\n"
     ]
    },
    {
     "name": "stdout",
     "output_type": "stream",
     "text": [
      "      9        \u001b[36m0.5123\u001b[0m       \u001b[32m0.8916\u001b[0m        \u001b[35m0.4085\u001b[0m  1.1124\n"
     ]
    },
    {
     "name": "stdout",
     "output_type": "stream",
     "text": [
      "     10        \u001b[36m0.4878\u001b[0m       \u001b[32m0.8946\u001b[0m        \u001b[35m0.3916\u001b[0m  1.1308\n"
     ]
    },
    {
     "name": "stdout",
     "output_type": "stream",
     "text": [
      "  epoch    train_loss    valid_acc    valid_loss     dur\n",
      "-------  ------------  -----------  ------------  ------\n",
      "      1        \u001b[36m2.0036\u001b[0m       \u001b[32m0.7309\u001b[0m        \u001b[35m1.5901\u001b[0m  1.1298\n"
     ]
    },
    {
     "name": "stdout",
     "output_type": "stream",
     "text": [
      "      2        \u001b[36m1.3043\u001b[0m       \u001b[32m0.8183\u001b[0m        \u001b[35m0.9671\u001b[0m  1.1123\n"
     ]
    },
    {
     "name": "stdout",
     "output_type": "stream",
     "text": [
      "      3        \u001b[36m0.9300\u001b[0m       \u001b[32m0.8489\u001b[0m        \u001b[35m0.7180\u001b[0m  1.1149\n"
     ]
    },
    {
     "name": "stdout",
     "output_type": "stream",
     "text": [
      "      4        \u001b[36m0.7625\u001b[0m       \u001b[32m0.8641\u001b[0m        \u001b[35m0.5993\u001b[0m  1.1128\n"
     ]
    },
    {
     "name": "stdout",
     "output_type": "stream",
     "text": [
      "      5        \u001b[36m0.6733\u001b[0m       \u001b[32m0.8727\u001b[0m        \u001b[35m0.5322\u001b[0m  1.1133\n"
     ]
    },
    {
     "name": "stdout",
     "output_type": "stream",
     "text": [
      "      6        \u001b[36m0.6127\u001b[0m       \u001b[32m0.8796\u001b[0m        \u001b[35m0.4879\u001b[0m  1.1119\n"
     ]
    },
    {
     "name": "stdout",
     "output_type": "stream",
     "text": [
      "      7        \u001b[36m0.5727\u001b[0m       \u001b[32m0.8839\u001b[0m        \u001b[35m0.4566\u001b[0m  1.1117\n"
     ]
    },
    {
     "name": "stdout",
     "output_type": "stream",
     "text": [
      "      8        \u001b[36m0.5420\u001b[0m       \u001b[32m0.8876\u001b[0m        \u001b[35m0.4333\u001b[0m  1.1150\n"
     ]
    },
    {
     "name": "stdout",
     "output_type": "stream",
     "text": [
      "      9        \u001b[36m0.5155\u001b[0m       \u001b[32m0.8912\u001b[0m        \u001b[35m0.4137\u001b[0m  1.1128\n"
     ]
    },
    {
     "name": "stdout",
     "output_type": "stream",
     "text": [
      "     10        \u001b[36m0.4958\u001b[0m       \u001b[32m0.8936\u001b[0m        \u001b[35m0.3987\u001b[0m  1.1322\n"
     ]
    },
    {
     "name": "stdout",
     "output_type": "stream",
     "text": [
      "  epoch    train_loss    valid_acc    valid_loss     dur\n",
      "-------  ------------  -----------  ------------  ------\n",
      "      1        \u001b[36m2.0081\u001b[0m       \u001b[32m0.7550\u001b[0m        \u001b[35m1.6029\u001b[0m  1.1122\n"
     ]
    },
    {
     "name": "stdout",
     "output_type": "stream",
     "text": [
      "      2        \u001b[36m1.3069\u001b[0m       \u001b[32m0.8182\u001b[0m        \u001b[35m0.9666\u001b[0m  1.1128\n"
     ]
    },
    {
     "name": "stdout",
     "output_type": "stream",
     "text": [
      "      3        \u001b[36m0.9241\u001b[0m       \u001b[32m0.8475\u001b[0m        \u001b[35m0.7148\u001b[0m  1.1140\n"
     ]
    },
    {
     "name": "stdout",
     "output_type": "stream",
     "text": [
      "      4        \u001b[36m0.7569\u001b[0m       \u001b[32m0.8600\u001b[0m        \u001b[35m0.5980\u001b[0m  1.1123\n"
     ]
    },
    {
     "name": "stdout",
     "output_type": "stream",
     "text": [
      "      5        \u001b[36m0.6694\u001b[0m       \u001b[32m0.8698\u001b[0m        \u001b[35m0.5315\u001b[0m  1.1119\n"
     ]
    },
    {
     "name": "stdout",
     "output_type": "stream",
     "text": [
      "      6        \u001b[36m0.6076\u001b[0m       \u001b[32m0.8789\u001b[0m        \u001b[35m0.4875\u001b[0m  1.1134\n"
     ]
    },
    {
     "name": "stdout",
     "output_type": "stream",
     "text": [
      "      7        \u001b[36m0.5687\u001b[0m       \u001b[32m0.8816\u001b[0m        \u001b[35m0.4566\u001b[0m  1.1338\n"
     ]
    },
    {
     "name": "stdout",
     "output_type": "stream",
     "text": [
      "      8        \u001b[36m0.5332\u001b[0m       \u001b[32m0.8859\u001b[0m        \u001b[35m0.4326\u001b[0m  1.1317\n"
     ]
    },
    {
     "name": "stdout",
     "output_type": "stream",
     "text": [
      "      9        \u001b[36m0.5101\u001b[0m       \u001b[32m0.8896\u001b[0m        \u001b[35m0.4146\u001b[0m  1.1180\n"
     ]
    },
    {
     "name": "stdout",
     "output_type": "stream",
     "text": [
      "     10        \u001b[36m0.4911\u001b[0m       \u001b[32m0.8925\u001b[0m        \u001b[35m0.3991\u001b[0m  1.1145\n"
     ]
    },
    {
     "name": "stdout",
     "output_type": "stream",
     "text": [
      "  epoch    train_loss    valid_acc    valid_loss     dur\n",
      "-------  ------------  -----------  ------------  ------\n",
      "      1        \u001b[36m2.0274\u001b[0m       \u001b[32m0.7474\u001b[0m        \u001b[35m1.6332\u001b[0m  1.1118\n"
     ]
    },
    {
     "name": "stdout",
     "output_type": "stream",
     "text": [
      "      2        \u001b[36m1.3300\u001b[0m       \u001b[32m0.8224\u001b[0m        \u001b[35m0.9782\u001b[0m  1.1124\n"
     ]
    },
    {
     "name": "stdout",
     "output_type": "stream",
     "text": [
      "      3        \u001b[36m0.9297\u001b[0m       \u001b[32m0.8528\u001b[0m        \u001b[35m0.7122\u001b[0m  1.1125\n"
     ]
    },
    {
     "name": "stdout",
     "output_type": "stream",
     "text": [
      "      4        \u001b[36m0.7645\u001b[0m       \u001b[32m0.8675\u001b[0m        \u001b[35m0.5912\u001b[0m  1.1148\n"
     ]
    },
    {
     "name": "stdout",
     "output_type": "stream",
     "text": [
      "      5        \u001b[36m0.6667\u001b[0m       \u001b[32m0.8775\u001b[0m        \u001b[35m0.5216\u001b[0m  1.1118\n"
     ]
    },
    {
     "name": "stdout",
     "output_type": "stream",
     "text": [
      "      6        \u001b[36m0.6097\u001b[0m       \u001b[32m0.8830\u001b[0m        \u001b[35m0.4763\u001b[0m  1.1122\n"
     ]
    },
    {
     "name": "stdout",
     "output_type": "stream",
     "text": [
      "      7        \u001b[36m0.5637\u001b[0m       \u001b[32m0.8866\u001b[0m        \u001b[35m0.4442\u001b[0m  1.1137\n"
     ]
    },
    {
     "name": "stdout",
     "output_type": "stream",
     "text": [
      "      8        \u001b[36m0.5360\u001b[0m       \u001b[32m0.8901\u001b[0m        \u001b[35m0.4201\u001b[0m  1.1109\n"
     ]
    },
    {
     "name": "stdout",
     "output_type": "stream",
     "text": [
      "      9        \u001b[36m0.5054\u001b[0m       \u001b[32m0.8936\u001b[0m        \u001b[35m0.4008\u001b[0m  1.1146\n"
     ]
    },
    {
     "name": "stdout",
     "output_type": "stream",
     "text": [
      "     10        \u001b[36m0.4839\u001b[0m       \u001b[32m0.8967\u001b[0m        \u001b[35m0.3854\u001b[0m  1.1134\n"
     ]
    },
    {
     "name": "stdout",
     "output_type": "stream",
     "text": [
      "  epoch    train_loss    valid_acc    valid_loss     dur\n",
      "-------  ------------  -----------  ------------  ------\n",
      "      1        \u001b[36m2.0429\u001b[0m       \u001b[32m0.7353\u001b[0m        \u001b[35m1.6641\u001b[0m  1.1115\n"
     ]
    },
    {
     "name": "stdout",
     "output_type": "stream",
     "text": [
      "      2        \u001b[36m1.3525\u001b[0m       \u001b[32m0.8180\u001b[0m        \u001b[35m0.9975\u001b[0m  1.1274\n"
     ]
    },
    {
     "name": "stdout",
     "output_type": "stream",
     "text": [
      "      3        \u001b[36m0.9465\u001b[0m       \u001b[32m0.8456\u001b[0m        \u001b[35m0.7260\u001b[0m  1.1129\n"
     ]
    },
    {
     "name": "stdout",
     "output_type": "stream",
     "text": [
      "      4        \u001b[36m0.7683\u001b[0m       \u001b[32m0.8631\u001b[0m        \u001b[35m0.6012\u001b[0m  1.1149\n"
     ]
    },
    {
     "name": "stdout",
     "output_type": "stream",
     "text": [
      "      5        \u001b[36m0.6729\u001b[0m       \u001b[32m0.8700\u001b[0m        \u001b[35m0.5302\u001b[0m  1.1153\n"
     ]
    },
    {
     "name": "stdout",
     "output_type": "stream",
     "text": [
      "      6        \u001b[36m0.6104\u001b[0m       \u001b[32m0.8754\u001b[0m        \u001b[35m0.4849\u001b[0m  1.1168\n"
     ]
    },
    {
     "name": "stdout",
     "output_type": "stream",
     "text": [
      "      7        \u001b[36m0.5695\u001b[0m       \u001b[32m0.8828\u001b[0m        \u001b[35m0.4521\u001b[0m  1.1139\n"
     ]
    },
    {
     "name": "stdout",
     "output_type": "stream",
     "text": [
      "      8        \u001b[36m0.5352\u001b[0m       \u001b[32m0.8871\u001b[0m        \u001b[35m0.4272\u001b[0m  1.1145\n"
     ]
    },
    {
     "name": "stdout",
     "output_type": "stream",
     "text": [
      "      9        \u001b[36m0.5116\u001b[0m       \u001b[32m0.8890\u001b[0m        \u001b[35m0.4082\u001b[0m  1.1126\n"
     ]
    },
    {
     "name": "stdout",
     "output_type": "stream",
     "text": [
      "     10        \u001b[36m0.4828\u001b[0m       \u001b[32m0.8931\u001b[0m        \u001b[35m0.3920\u001b[0m  1.1170\n"
     ]
    },
    {
     "name": "stdout",
     "output_type": "stream",
     "text": [
      "  epoch    train_loss    valid_acc    valid_loss     dur\n",
      "-------  ------------  -----------  ------------  ------\n",
      "      1        \u001b[36m1.8959\u001b[0m       \u001b[32m0.7973\u001b[0m        \u001b[35m1.3579\u001b[0m  1.3663\n"
     ]
    },
    {
     "name": "stdout",
     "output_type": "stream",
     "text": [
      "      2        \u001b[36m1.0980\u001b[0m       \u001b[32m0.8559\u001b[0m        \u001b[35m0.7721\u001b[0m  1.3665\n"
     ]
    },
    {
     "name": "stdout",
     "output_type": "stream",
     "text": [
      "      3        \u001b[36m0.7749\u001b[0m       \u001b[32m0.8750\u001b[0m        \u001b[35m0.5714\u001b[0m  1.3886\n"
     ]
    },
    {
     "name": "stdout",
     "output_type": "stream",
     "text": [
      "      4        \u001b[36m0.6333\u001b[0m       \u001b[32m0.8893\u001b[0m        \u001b[35m0.4753\u001b[0m  1.3688\n"
     ]
    },
    {
     "name": "stdout",
     "output_type": "stream",
     "text": [
      "      5        \u001b[36m0.5568\u001b[0m       \u001b[32m0.8969\u001b[0m        \u001b[35m0.4185\u001b[0m  1.3665\n"
     ]
    },
    {
     "name": "stdout",
     "output_type": "stream",
     "text": [
      "      6        \u001b[36m0.5090\u001b[0m       \u001b[32m0.9031\u001b[0m        \u001b[35m0.3810\u001b[0m  1.3655\n"
     ]
    },
    {
     "name": "stdout",
     "output_type": "stream",
     "text": [
      "      7        \u001b[36m0.4661\u001b[0m       \u001b[32m0.9077\u001b[0m        \u001b[35m0.3530\u001b[0m  1.3673\n"
     ]
    },
    {
     "name": "stdout",
     "output_type": "stream",
     "text": [
      "      8        \u001b[36m0.4369\u001b[0m       \u001b[32m0.9110\u001b[0m        \u001b[35m0.3321\u001b[0m  1.3689\n"
     ]
    },
    {
     "name": "stdout",
     "output_type": "stream",
     "text": [
      "      9        \u001b[36m0.4183\u001b[0m       \u001b[32m0.9142\u001b[0m        \u001b[35m0.3154\u001b[0m  1.3653\n"
     ]
    },
    {
     "name": "stdout",
     "output_type": "stream",
     "text": [
      "     10        \u001b[36m0.3977\u001b[0m       \u001b[32m0.9173\u001b[0m        \u001b[35m0.3016\u001b[0m  1.3693\n"
     ]
    }
   ],
   "source": [
    "_ = clf.fit(X_train, y_train.to_numpy())"
   ]
  },
  {
   "cell_type": "markdown",
   "metadata": {},
   "source": [
    "## 9. Evaluate the robust model's performance"
   ]
  },
  {
   "cell_type": "code",
   "execution_count": 18,
   "metadata": {
    "execution": {
     "iopub.execute_input": "2022-03-09T00:38:43.213483Z",
     "iopub.status.busy": "2022-03-09T00:38:43.213265Z",
     "iopub.status.idle": "2022-03-09T00:38:43.454807Z",
     "shell.execute_reply": "2022-03-09T00:38:43.454247Z"
    }
   },
   "outputs": [
    {
     "data": {
      "text/plain": [
       "0.9017857142857143"
      ]
     },
     "execution_count": 18,
     "metadata": {},
     "output_type": "execute_result"
    }
   ],
   "source": [
    "from sklearn.metrics import accuracy_score\n",
    "\n",
    "y_pred = clf.predict(X_test)\n",
    "accuracy_score(y_test, y_pred)"
   ]
  },
  {
   "cell_type": "markdown",
   "metadata": {},
   "source": [
    "## What's next?"
   ]
  },
  {
   "cell_type": "markdown",
   "metadata": {},
   "source": [
    "Congratulations on completing this tutorial! Check out our following tutorial on using Cleanlab for text classification, where we found ``hundreds`` of potential label errors in one of the most well-known text datasets, the IMBDb movie review dataset!"
   ]
  }
 ],
 "metadata": {
  "interpreter": {
   "hash": "ced20e3e49bb4fa4ce8ad38f8f2535b7fc4c39b2b89554502b5dbdad1ad67eda"
  },
  "kernelspec": {
   "display_name": "Python 3.10.0 64-bit",
   "language": "python",
   "name": "python3"
  },
  "language_info": {
   "codemirror_mode": {
    "name": "ipython",
    "version": 3
   },
   "file_extension": ".py",
   "mimetype": "text/x-python",
   "name": "python",
   "nbconvert_exporter": "python",
   "pygments_lexer": "ipython3",
   "version": "3.8.12"
  }
 },
 "nbformat": 4,
 "nbformat_minor": 2
}
