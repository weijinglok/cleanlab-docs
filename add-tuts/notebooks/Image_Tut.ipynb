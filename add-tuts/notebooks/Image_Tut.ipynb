{
 "cells": [
  {
   "cell_type": "markdown",
   "metadata": {},
   "source": [
    "# Image Classification with Cleanlab, PyTorch & Skorch"
   ]
  },
  {
   "cell_type": "markdown",
   "metadata": {},
   "source": [
    "This tutorial will use Cleanlab to find potential label errors in the MNIST handwritten digit image dataset. This dataset contains 60,000 images of handwritten digits from 0 to 9. We'll find *more than a thousand* highly suspicious examples with label errors and edge cases by the end of this tutorial. \n",
    "\n",
    "**Overview of what we'll do in this tutorial:**\n",
    "\n",
    "- Build a simple PyTorch neural net and wrap it with Skorch to make it scikit-learn compatible.\n",
    "\n",
    "- Compute the cross-validated predicted probabilities, ``pyx``, sometimes known as the out-of-sample predicted probabilities.\n",
    "\n",
    "- Generate a list of potential label errors with Cleanlab's ``get_noise_indices``.\n",
    "\n",
    "- Build and train a more robust model than the vanilla model after adapting it with Cleanlab's ``LearningWithNoisyLabels``. \n",
    "\n",
    "**Data:** https://www.openml.org/d/554"
   ]
  },
  {
   "cell_type": "markdown",
   "metadata": {},
   "source": [
    "## 1. Install the required dependencies"
   ]
  },
  {
   "cell_type": "markdown",
   "metadata": {},
   "source": [
    "``%%capture`` is a magic function to hides the cell's output."
   ]
  },
  {
   "cell_type": "code",
   "execution_count": 1,
   "metadata": {
    "execution": {
     "iopub.execute_input": "2022-03-08T20:04:21.463348Z",
     "iopub.status.busy": "2022-03-08T20:04:21.463109Z",
     "iopub.status.idle": "2022-03-08T20:04:57.953288Z",
     "shell.execute_reply": "2022-03-08T20:04:57.952173Z"
    }
   },
   "outputs": [],
   "source": [
    "%%capture\n",
    "\n",
    "%pip install cleanlab pandas matplotlib torch torchvision skorch"
   ]
  },
  {
   "cell_type": "markdown",
   "metadata": {},
   "source": [
    "## 2. Fetch and scale the MNIST dataset"
   ]
  },
  {
   "cell_type": "code",
   "execution_count": 2,
   "metadata": {
    "execution": {
     "iopub.execute_input": "2022-03-08T20:04:57.957484Z",
     "iopub.status.busy": "2022-03-08T20:04:57.957240Z",
     "iopub.status.idle": "2022-03-08T20:07:23.692445Z",
     "shell.execute_reply": "2022-03-08T20:07:23.691527Z"
    }
   },
   "outputs": [],
   "source": [
    "from sklearn.datasets import fetch_openml\n",
    "\n",
    "# Fetch the MNIST dataset\n",
    "mnist = fetch_openml('mnist_784')\n",
    "\n",
    "# Assign the data features and labels to variable X and y respectively \n",
    "X = mnist.data.astype('float32')\n",
    "y = mnist.target.astype('int64')\n"
   ]
  },
  {
   "cell_type": "markdown",
   "metadata": {},
   "source": [
    "<div class=\"alert alert-info\">\n",
    "\n",
    "Bringing Your Own Data (BYOD)?\n",
    "\n",
    "Assign your data's features to variable ``X`` and its labels to variable ``y`` instead.\n",
    "\n",
    "</div>"
   ]
  },
  {
   "cell_type": "code",
   "execution_count": 3,
   "metadata": {
    "execution": {
     "iopub.execute_input": "2022-03-08T20:07:23.696637Z",
     "iopub.status.busy": "2022-03-08T20:07:23.696395Z",
     "iopub.status.idle": "2022-03-08T20:07:23.894940Z",
     "shell.execute_reply": "2022-03-08T20:07:23.893454Z"
    }
   },
   "outputs": [],
   "source": [
    "\n",
    "# Scale the features which range from 0 to 255 (256 levels on the grayscale) \n",
    "X /= 255.0\n",
    "\n",
    "# Then convert it to a numpy array\n",
    "X = X.to_numpy()"
   ]
  },
  {
   "cell_type": "markdown",
   "metadata": {},
   "source": [
    "## 3. Define a classification model"
   ]
  },
  {
   "cell_type": "markdown",
   "metadata": {},
   "source": [
    "Here, we define a simple neural network with PyTorch."
   ]
  },
  {
   "cell_type": "code",
   "execution_count": 4,
   "metadata": {
    "execution": {
     "iopub.execute_input": "2022-03-08T20:07:23.901742Z",
     "iopub.status.busy": "2022-03-08T20:07:23.901223Z",
     "iopub.status.idle": "2022-03-08T20:07:24.784008Z",
     "shell.execute_reply": "2022-03-08T20:07:24.782987Z"
    }
   },
   "outputs": [],
   "source": [
    "from torch import nn\n",
    "\n",
    "class NeuralNetwork(nn.Module):\n",
    "    def __init__(self):\n",
    "        super(NeuralNetwork, self).__init__()\n",
    "        self.dropout = nn.Dropout(0.5)\n",
    "        self.hidden = nn.Linear(28*28, 128)\n",
    "        self.output = nn.Linear(128, 10)\n",
    "\n",
    "    def forward(self, X):\n",
    "        X = nn.functional.relu(self.hidden(X))\n",
    "        X = self.dropout(X)\n",
    "        X = nn.functional.softmax(self.output(X), dim=-1)\n",
    "        return X"
   ]
  },
  {
   "cell_type": "markdown",
   "metadata": {},
   "source": [
    "## 4. Wrap with Skorch for scikit-learn compatibility"
   ]
  },
  {
   "cell_type": "markdown",
   "metadata": {},
   "source": [
    "As some of Cleanlab's feature requires scikit-learn compatibility, we will need to adapt the above PyTorch neural net accordingly. Skorch is a convenient package that helps with this, read more about it here: https://skorch.readthedocs.io"
   ]
  },
  {
   "cell_type": "code",
   "execution_count": 5,
   "metadata": {
    "execution": {
     "iopub.execute_input": "2022-03-08T20:07:24.788123Z",
     "iopub.status.busy": "2022-03-08T20:07:24.787906Z",
     "iopub.status.idle": "2022-03-08T20:07:24.933408Z",
     "shell.execute_reply": "2022-03-08T20:07:24.932481Z"
    }
   },
   "outputs": [],
   "source": [
    "from skorch import NeuralNetClassifier\n",
    "\n",
    "# Wrap the PyTorch neural net around Skorch's NeuralNetClassifier wrapper\n",
    "net = NeuralNetClassifier(NeuralNetwork)"
   ]
  },
  {
   "cell_type": "markdown",
   "metadata": {},
   "source": [
    "## 5. Compute the cross-validated predicted probabilities"
   ]
  },
  {
   "cell_type": "markdown",
   "metadata": {},
   "source": [
    "If we'd like Cleanlab to identify potential label errors in the whole dataset and not just the training set, we can consider fitting the entire dataset. We will only use this model instance to compute the cross-validated predicted probabilities, ``pyx``, and not for model evaluation."
   ]
  },
  {
   "cell_type": "code",
   "execution_count": 6,
   "metadata": {
    "execution": {
     "iopub.execute_input": "2022-03-08T20:07:24.937241Z",
     "iopub.status.busy": "2022-03-08T20:07:24.937029Z",
     "iopub.status.idle": "2022-03-08T20:07:48.597702Z",
     "shell.execute_reply": "2022-03-08T20:07:48.596963Z"
    }
   },
   "outputs": [
    {
     "name": "stdout",
     "output_type": "stream",
     "text": [
      "  epoch    train_loss    valid_acc    valid_loss     dur\n",
      "-------  ------------  -----------  ------------  ------\n",
      "      1        \u001b[36m1.8361\u001b[0m       \u001b[32m0.7853\u001b[0m        \u001b[35m1.2162\u001b[0m  2.3450\n"
     ]
    },
    {
     "name": "stdout",
     "output_type": "stream",
     "text": [
      "      2        \u001b[36m0.9999\u001b[0m       \u001b[32m0.8379\u001b[0m        \u001b[35m0.7054\u001b[0m  2.3212\n"
     ]
    },
    {
     "name": "stdout",
     "output_type": "stream",
     "text": [
      "      3        \u001b[36m0.7324\u001b[0m       \u001b[32m0.8616\u001b[0m        \u001b[35m0.5531\u001b[0m  2.3413\n"
     ]
    },
    {
     "name": "stdout",
     "output_type": "stream",
     "text": [
      "      4        \u001b[36m0.6196\u001b[0m       \u001b[32m0.8766\u001b[0m        \u001b[35m0.4801\u001b[0m  2.3397\n"
     ]
    },
    {
     "name": "stdout",
     "output_type": "stream",
     "text": [
      "      5        \u001b[36m0.5554\u001b[0m       \u001b[32m0.8849\u001b[0m        \u001b[35m0.4359\u001b[0m  2.3460\n"
     ]
    },
    {
     "name": "stdout",
     "output_type": "stream",
     "text": [
      "      6        \u001b[36m0.5131\u001b[0m       \u001b[32m0.8916\u001b[0m        \u001b[35m0.4056\u001b[0m  2.3580\n"
     ]
    },
    {
     "name": "stdout",
     "output_type": "stream",
     "text": [
      "      7        \u001b[36m0.4852\u001b[0m       \u001b[32m0.8964\u001b[0m        \u001b[35m0.3833\u001b[0m  2.3418\n"
     ]
    },
    {
     "name": "stdout",
     "output_type": "stream",
     "text": [
      "      8        \u001b[36m0.4584\u001b[0m       \u001b[32m0.9003\u001b[0m        \u001b[35m0.3644\u001b[0m  2.3573\n"
     ]
    },
    {
     "name": "stdout",
     "output_type": "stream",
     "text": [
      "      9        \u001b[36m0.4374\u001b[0m       \u001b[32m0.9039\u001b[0m        \u001b[35m0.3496\u001b[0m  2.4763\n"
     ]
    },
    {
     "name": "stdout",
     "output_type": "stream",
     "text": [
      "     10        \u001b[36m0.4211\u001b[0m       \u001b[32m0.9064\u001b[0m        \u001b[35m0.3371\u001b[0m  2.3269\n"
     ]
    }
   ],
   "source": [
    "_ = net.fit(X, y)"
   ]
  },
  {
   "cell_type": "markdown",
   "metadata": {},
   "source": [
    "Compute the cross-validated predicted probabilities, ``pyx``, sometimes also known as the out-of-sample predicted probabilities."
   ]
  },
  {
   "cell_type": "code",
   "execution_count": 7,
   "metadata": {
    "execution": {
     "iopub.execute_input": "2022-03-08T20:07:48.602052Z",
     "iopub.status.busy": "2022-03-08T20:07:48.601599Z",
     "iopub.status.idle": "2022-03-08T20:08:22.782301Z",
     "shell.execute_reply": "2022-03-08T20:08:22.781440Z"
    }
   },
   "outputs": [
    {
     "name": "stdout",
     "output_type": "stream",
     "text": [
      "  epoch    train_loss    valid_acc    valid_loss     dur\n",
      "-------  ------------  -----------  ------------  ------\n",
      "      1        \u001b[36m1.9754\u001b[0m       \u001b[32m0.7164\u001b[0m        \u001b[35m1.5578\u001b[0m  1.0426\n"
     ]
    },
    {
     "name": "stdout",
     "output_type": "stream",
     "text": [
      "      2        \u001b[36m1.2648\u001b[0m       \u001b[32m0.7904\u001b[0m        \u001b[35m0.9697\u001b[0m  1.0951\n"
     ]
    },
    {
     "name": "stdout",
     "output_type": "stream",
     "text": [
      "      3        \u001b[36m0.9056\u001b[0m       \u001b[32m0.8299\u001b[0m        \u001b[35m0.7369\u001b[0m  1.0493\n"
     ]
    },
    {
     "name": "stdout",
     "output_type": "stream",
     "text": [
      "      4        \u001b[36m0.7422\u001b[0m       \u001b[32m0.8493\u001b[0m        \u001b[35m0.6224\u001b[0m  1.0493\n"
     ]
    },
    {
     "name": "stdout",
     "output_type": "stream",
     "text": [
      "      5        \u001b[36m0.6554\u001b[0m       \u001b[32m0.8599\u001b[0m        \u001b[35m0.5554\u001b[0m  1.0604\n"
     ]
    },
    {
     "name": "stdout",
     "output_type": "stream",
     "text": [
      "      6        \u001b[36m0.5950\u001b[0m       \u001b[32m0.8667\u001b[0m        \u001b[35m0.5112\u001b[0m  1.0475\n"
     ]
    },
    {
     "name": "stdout",
     "output_type": "stream",
     "text": [
      "      7        \u001b[36m0.5530\u001b[0m       \u001b[32m0.8727\u001b[0m        \u001b[35m0.4775\u001b[0m  1.0497\n"
     ]
    },
    {
     "name": "stdout",
     "output_type": "stream",
     "text": [
      "      8        \u001b[36m0.5240\u001b[0m       \u001b[32m0.8773\u001b[0m        \u001b[35m0.4536\u001b[0m  1.0516\n"
     ]
    },
    {
     "name": "stdout",
     "output_type": "stream",
     "text": [
      "      9        \u001b[36m0.4991\u001b[0m       \u001b[32m0.8808\u001b[0m        \u001b[35m0.4335\u001b[0m  1.0613\n"
     ]
    },
    {
     "name": "stdout",
     "output_type": "stream",
     "text": [
      "     10        \u001b[36m0.4775\u001b[0m       \u001b[32m0.8832\u001b[0m        \u001b[35m0.4180\u001b[0m  1.0789\n"
     ]
    },
    {
     "name": "stdout",
     "output_type": "stream",
     "text": [
      "  epoch    train_loss    valid_acc    valid_loss     dur\n",
      "-------  ------------  -----------  ------------  ------\n",
      "      1        \u001b[36m1.9872\u001b[0m       \u001b[32m0.7251\u001b[0m        \u001b[35m1.5736\u001b[0m  1.0324\n"
     ]
    },
    {
     "name": "stdout",
     "output_type": "stream",
     "text": [
      "      2        \u001b[36m1.2786\u001b[0m       \u001b[32m0.8023\u001b[0m        \u001b[35m0.9541\u001b[0m  1.0402\n"
     ]
    },
    {
     "name": "stdout",
     "output_type": "stream",
     "text": [
      "      3        \u001b[36m0.8999\u001b[0m       \u001b[32m0.8361\u001b[0m        \u001b[35m0.7102\u001b[0m  1.0497\n"
     ]
    },
    {
     "name": "stdout",
     "output_type": "stream",
     "text": [
      "      4        \u001b[36m0.7425\u001b[0m       \u001b[32m0.8543\u001b[0m        \u001b[35m0.5953\u001b[0m  1.0618\n"
     ]
    },
    {
     "name": "stdout",
     "output_type": "stream",
     "text": [
      "      5        \u001b[36m0.6530\u001b[0m       \u001b[32m0.8659\u001b[0m        \u001b[35m0.5284\u001b[0m  1.0473\n"
     ]
    },
    {
     "name": "stdout",
     "output_type": "stream",
     "text": [
      "      6        \u001b[36m0.5905\u001b[0m       \u001b[32m0.8755\u001b[0m        \u001b[35m0.4830\u001b[0m  1.2430\n"
     ]
    },
    {
     "name": "stdout",
     "output_type": "stream",
     "text": [
      "      7        \u001b[36m0.5535\u001b[0m       \u001b[32m0.8816\u001b[0m        \u001b[35m0.4503\u001b[0m  1.0864\n"
     ]
    },
    {
     "name": "stdout",
     "output_type": "stream",
     "text": [
      "      8        \u001b[36m0.5160\u001b[0m       \u001b[32m0.8877\u001b[0m        \u001b[35m0.4254\u001b[0m  1.0611\n"
     ]
    },
    {
     "name": "stdout",
     "output_type": "stream",
     "text": [
      "      9        \u001b[36m0.4963\u001b[0m       \u001b[32m0.8918\u001b[0m        \u001b[35m0.4071\u001b[0m  1.1078\n"
     ]
    },
    {
     "name": "stdout",
     "output_type": "stream",
     "text": [
      "     10        \u001b[36m0.4750\u001b[0m       \u001b[32m0.8952\u001b[0m        \u001b[35m0.3913\u001b[0m  1.0696\n"
     ]
    },
    {
     "name": "stdout",
     "output_type": "stream",
     "text": [
      "  epoch    train_loss    valid_acc    valid_loss     dur\n",
      "-------  ------------  -----------  ------------  ------\n",
      "      1        \u001b[36m2.0101\u001b[0m       \u001b[32m0.7057\u001b[0m        \u001b[35m1.5900\u001b[0m  1.0570\n"
     ]
    },
    {
     "name": "stdout",
     "output_type": "stream",
     "text": [
      "      2        \u001b[36m1.3183\u001b[0m       \u001b[32m0.8027\u001b[0m        \u001b[35m0.9678\u001b[0m  1.1161\n"
     ]
    },
    {
     "name": "stdout",
     "output_type": "stream",
     "text": [
      "      3        \u001b[36m0.9417\u001b[0m       \u001b[32m0.8419\u001b[0m        \u001b[35m0.7176\u001b[0m  1.0467\n"
     ]
    },
    {
     "name": "stdout",
     "output_type": "stream",
     "text": [
      "      4        \u001b[36m0.7777\u001b[0m       \u001b[32m0.8620\u001b[0m        \u001b[35m0.5990\u001b[0m  1.0469\n"
     ]
    },
    {
     "name": "stdout",
     "output_type": "stream",
     "text": [
      "      5        \u001b[36m0.6851\u001b[0m       \u001b[32m0.8712\u001b[0m        \u001b[35m0.5294\u001b[0m  1.1189\n"
     ]
    },
    {
     "name": "stdout",
     "output_type": "stream",
     "text": [
      "      6        \u001b[36m0.6245\u001b[0m       \u001b[32m0.8795\u001b[0m        \u001b[35m0.4831\u001b[0m  1.0654\n"
     ]
    },
    {
     "name": "stdout",
     "output_type": "stream",
     "text": [
      "      7        \u001b[36m0.5802\u001b[0m       \u001b[32m0.8847\u001b[0m        \u001b[35m0.4496\u001b[0m  1.1278\n"
     ]
    },
    {
     "name": "stdout",
     "output_type": "stream",
     "text": [
      "      8        \u001b[36m0.5474\u001b[0m       \u001b[32m0.8900\u001b[0m        \u001b[35m0.4244\u001b[0m  1.0571\n"
     ]
    },
    {
     "name": "stdout",
     "output_type": "stream",
     "text": [
      "      9        \u001b[36m0.5183\u001b[0m       \u001b[32m0.8933\u001b[0m        \u001b[35m0.4040\u001b[0m  1.0611\n"
     ]
    },
    {
     "name": "stdout",
     "output_type": "stream",
     "text": [
      "     10        \u001b[36m0.4987\u001b[0m       \u001b[32m0.8978\u001b[0m        \u001b[35m0.3877\u001b[0m  1.0486\n"
     ]
    }
   ],
   "source": [
    "from sklearn.model_selection import cross_val_predict\n",
    "\n",
    "pyx = cross_val_predict(net, X, y, cv=3, method='predict_proba')"
   ]
  },
  {
   "cell_type": "markdown",
   "metadata": {},
   "source": [
    "## 6. Run Cleanlab to find potential label errors"
   ]
  },
  {
   "cell_type": "markdown",
   "metadata": {},
   "source": [
    "Cleanlab has a ``get_noise_indices`` function to generate a list of potential label errors. Setting ``sorted_index_method=\"prob_given_label\"`` returns the indices of all the most likely label errors, sorted by the most suspicious example first."
   ]
  },
  {
   "cell_type": "code",
   "execution_count": 8,
   "metadata": {
    "execution": {
     "iopub.execute_input": "2022-03-08T20:08:22.786596Z",
     "iopub.status.busy": "2022-03-08T20:08:22.786217Z",
     "iopub.status.idle": "2022-03-08T20:08:23.317504Z",
     "shell.execute_reply": "2022-03-08T20:08:23.315101Z"
    }
   },
   "outputs": [],
   "source": [
    "from cleanlab.pruning import get_noise_indices\n",
    "\n",
    "ordered_label_errors = get_noise_indices(\n",
    "    s=y,\n",
    "    psx=pyx,\n",
    "    sorted_index_method=\"prob_given_label\"\n",
    ")"
   ]
  },
  {
   "cell_type": "markdown",
   "metadata": {},
   "source": [
    "## 7. Review some of the most likely mislabeled examples"
   ]
  },
  {
   "cell_type": "code",
   "execution_count": 9,
   "metadata": {
    "execution": {
     "iopub.execute_input": "2022-03-08T20:08:23.322349Z",
     "iopub.status.busy": "2022-03-08T20:08:23.321928Z",
     "iopub.status.idle": "2022-03-08T20:08:23.326785Z",
     "shell.execute_reply": "2022-03-08T20:08:23.326209Z"
    }
   },
   "outputs": [
    {
     "name": "stdout",
     "output_type": "stream",
     "text": [
      "Cleanlab found 1261 potential label errors. Here are the indices of the top 15 most likely ones: \n",
      " [ 8729 24798 18598 15942 61790  1352 20820 12679 59915 11208 53216 55739\n",
      " 39327 31134 39457]\n"
     ]
    }
   ],
   "source": [
    "print(f\"Cleanlab found {len(ordered_label_errors)} potential label errors. Here are the indices of the top 15 most likely ones: \\n {ordered_label_errors[:15]}\")"
   ]
  },
  {
   "cell_type": "markdown",
   "metadata": {},
   "source": [
    "We'll define a new ``plot_examples`` function to display any examples in a subplot conveniently."
   ]
  },
  {
   "cell_type": "code",
   "execution_count": 10,
   "metadata": {
    "execution": {
     "iopub.execute_input": "2022-03-08T20:08:23.330925Z",
     "iopub.status.busy": "2022-03-08T20:08:23.330298Z",
     "iopub.status.idle": "2022-03-08T20:08:24.389195Z",
     "shell.execute_reply": "2022-03-08T20:08:24.388359Z"
    }
   },
   "outputs": [],
   "source": [
    "import matplotlib.pyplot as plt\n",
    "\n",
    "def plot_examples(id_iter, nrows=1, ncols=1):\n",
    "    for count, id in enumerate(id_iter):\n",
    "        plt.subplot(nrows, ncols, count+1)\n",
    "        plt.imshow(X[id].reshape(28, 28))\n",
    "        plt.title(f\"id: {id} \\n label: {y[id]}\")\n",
    "        plt.axis('off')\n",
    "\n",
    "    plt.tight_layout(h_pad=2.0)"
   ]
  },
  {
   "cell_type": "markdown",
   "metadata": {},
   "source": [
    "Let's start by having an overview of the top 15 most likely label errors. From here, we can see a few label errors and edge cases. Feel free to change the parameters to display more or fewer examples. "
   ]
  },
  {
   "cell_type": "code",
   "execution_count": 11,
   "metadata": {
    "execution": {
     "iopub.execute_input": "2022-03-08T20:08:24.392899Z",
     "iopub.status.busy": "2022-03-08T20:08:24.392671Z",
     "iopub.status.idle": "2022-03-08T20:08:25.073322Z",
     "shell.execute_reply": "2022-03-08T20:08:25.072643Z"
    }
   },
   "outputs": [
    {
     "data": {
      "image/png": "[encoded data removed]",
      "text/plain": [
       "<Figure size 432x288 with 15 Axes>"
      ]
     },
     "metadata": {
      "needs_background": "light"
     },
     "output_type": "display_data"
    }
   ],
   "source": [
    "plot_examples(ordered_label_errors[range(15)], 3, 5)"
   ]
  },
  {
   "cell_type": "markdown",
   "metadata": {},
   "source": [
    "Let's zoom into specific examples:"
   ]
  },
  {
   "cell_type": "markdown",
   "metadata": {},
   "source": [
    "Given label is **4** but looks more like a **7**"
   ]
  },
  {
   "cell_type": "code",
   "execution_count": 12,
   "metadata": {
    "execution": {
     "iopub.execute_input": "2022-03-08T20:08:25.077387Z",
     "iopub.status.busy": "2022-03-08T20:08:25.076984Z",
     "iopub.status.idle": "2022-03-08T20:08:25.157767Z",
     "shell.execute_reply": "2022-03-08T20:08:25.156986Z"
    }
   },
   "outputs": [
    {
     "data": {
      "image/png": "[encoded data removed]",
      "text/plain": [
       "<Figure size 432x288 with 1 Axes>"
      ]
     },
     "metadata": {
      "needs_background": "light"
     },
     "output_type": "display_data"
    }
   ],
   "source": [
    "plot_examples([59915])"
   ]
  },
  {
   "cell_type": "markdown",
   "metadata": {},
   "source": [
    "Given label is **4** but also looks like **9**"
   ]
  },
  {
   "cell_type": "code",
   "execution_count": 13,
   "metadata": {
    "execution": {
     "iopub.execute_input": "2022-03-08T20:08:25.161774Z",
     "iopub.status.busy": "2022-03-08T20:08:25.161304Z",
     "iopub.status.idle": "2022-03-08T20:08:25.241861Z",
     "shell.execute_reply": "2022-03-08T20:08:25.241157Z"
    }
   },
   "outputs": [
    {
     "data": {
      "image/png": "[encoded data removed]",
      "text/plain": [
       "<Figure size 432x288 with 1 Axes>"
      ]
     },
     "metadata": {
      "needs_background": "light"
     },
     "output_type": "display_data"
    }
   ],
   "source": [
    "plot_examples([24798])"
   ]
  },
  {
   "cell_type": "markdown",
   "metadata": {},
   "source": [
    "Edge case of odd looking **9**s"
   ]
  },
  {
   "cell_type": "code",
   "execution_count": 14,
   "metadata": {
    "execution": {
     "iopub.execute_input": "2022-03-08T20:08:25.246411Z",
     "iopub.status.busy": "2022-03-08T20:08:25.245837Z",
     "iopub.status.idle": "2022-03-08T20:08:25.523713Z",
     "shell.execute_reply": "2022-03-08T20:08:25.522949Z"
    }
   },
   "outputs": [
    {
     "data": {
      "image/png": "[encoded data removed]",
      "text/plain": [
       "<Figure size 432x288 with 3 Axes>"
      ]
     },
     "metadata": {
      "needs_background": "light"
     },
     "output_type": "display_data"
    }
   ],
   "source": [
    "plot_examples([18598, 1352, 61247], 1, 3)"
   ]
  },
  {
   "cell_type": "markdown",
   "metadata": {},
   "source": [
    "Cleanlab has shortlisted the most likely label errors to speed up your data cleaning process. With this list, you can decide whether to fix label errors, augment edge cases or remove obscure examples. \n",
    "\n",
    "These human-in-the-loop processes may be time-consuming, so if you'd like Cleanlab to automatically remove these noisy examples and train a model directly on the partially mislabeled dataset, you're in luck! Cleanlab provides a ``LearningWithNoisyLabels`` wrapper to do precisely this:"
   ]
  },
  {
   "cell_type": "markdown",
   "metadata": {},
   "source": [
    "## 8. Adapt with Cleanlab's wrapper and train a more robust model"
   ]
  },
  {
   "cell_type": "markdown",
   "metadata": {},
   "source": [
    "First, we split the dataset into train and test subsets."
   ]
  },
  {
   "cell_type": "code",
   "execution_count": 15,
   "metadata": {
    "execution": {
     "iopub.execute_input": "2022-03-08T20:08:25.528254Z",
     "iopub.status.busy": "2022-03-08T20:08:25.527567Z",
     "iopub.status.idle": "2022-03-08T20:08:26.455912Z",
     "shell.execute_reply": "2022-03-08T20:08:26.455018Z"
    }
   },
   "outputs": [],
   "source": [
    "from sklearn.model_selection import train_test_split\n",
    "\n",
    "X_train, X_test, y_train, y_test = train_test_split(X, y, test_size=0.2)"
   ]
  },
  {
   "cell_type": "markdown",
   "metadata": {},
   "source": [
    "Re-instantiate a new scikit-learn compatible model with Skorch then wrap it with Cleanlab's ``LearningWithNoisyLabels`` wrapper."
   ]
  },
  {
   "cell_type": "code",
   "execution_count": 16,
   "metadata": {
    "execution": {
     "iopub.execute_input": "2022-03-08T20:08:26.461393Z",
     "iopub.status.busy": "2022-03-08T20:08:26.460265Z",
     "iopub.status.idle": "2022-03-08T20:08:26.467267Z",
     "shell.execute_reply": "2022-03-08T20:08:26.466450Z"
    }
   },
   "outputs": [],
   "source": [
    "from cleanlab.classification import LearningWithNoisyLabels\n",
    "\n",
    "net = NeuralNetClassifier(NeuralNetwork)\n",
    "clf = LearningWithNoisyLabels(clf=net)"
   ]
  },
  {
   "cell_type": "code",
   "execution_count": 17,
   "metadata": {
    "execution": {
     "iopub.execute_input": "2022-03-08T20:08:26.470996Z",
     "iopub.status.busy": "2022-03-08T20:08:26.470616Z",
     "iopub.status.idle": "2022-03-08T20:09:34.311810Z",
     "shell.execute_reply": "2022-03-08T20:09:34.311105Z"
    }
   },
   "outputs": [
    {
     "name": "stdout",
     "output_type": "stream",
     "text": [
      "  epoch    train_loss    valid_acc    valid_loss     dur\n",
      "-------  ------------  -----------  ------------  ------\n",
      "      1        \u001b[36m2.0673\u001b[0m       \u001b[32m0.7359\u001b[0m        \u001b[35m1.6997\u001b[0m  1.0342\n"
     ]
    },
    {
     "name": "stdout",
     "output_type": "stream",
     "text": [
      "      2        \u001b[36m1.3779\u001b[0m       \u001b[32m0.8154\u001b[0m        \u001b[35m1.0160\u001b[0m  1.0575\n"
     ]
    },
    {
     "name": "stdout",
     "output_type": "stream",
     "text": [
      "      3        \u001b[36m0.9548\u001b[0m       \u001b[32m0.8465\u001b[0m        \u001b[35m0.7331\u001b[0m  1.0315\n"
     ]
    },
    {
     "name": "stdout",
     "output_type": "stream",
     "text": [
      "      4        \u001b[36m0.7739\u001b[0m       \u001b[32m0.8655\u001b[0m        \u001b[35m0.6061\u001b[0m  1.0389\n"
     ]
    },
    {
     "name": "stdout",
     "output_type": "stream",
     "text": [
      "      5        \u001b[36m0.6812\u001b[0m       \u001b[32m0.8744\u001b[0m        \u001b[35m0.5347\u001b[0m  1.0255\n"
     ]
    },
    {
     "name": "stdout",
     "output_type": "stream",
     "text": [
      "      6        \u001b[36m0.6213\u001b[0m       \u001b[32m0.8808\u001b[0m        \u001b[35m0.4884\u001b[0m  1.0277\n"
     ]
    },
    {
     "name": "stdout",
     "output_type": "stream",
     "text": [
      "      7        \u001b[36m0.5816\u001b[0m       \u001b[32m0.8860\u001b[0m        \u001b[35m0.4560\u001b[0m  1.0438\n"
     ]
    },
    {
     "name": "stdout",
     "output_type": "stream",
     "text": [
      "      8        \u001b[36m0.5470\u001b[0m       \u001b[32m0.8896\u001b[0m        \u001b[35m0.4301\u001b[0m  1.0446\n"
     ]
    },
    {
     "name": "stdout",
     "output_type": "stream",
     "text": [
      "      9        \u001b[36m0.5199\u001b[0m       \u001b[32m0.8932\u001b[0m        \u001b[35m0.4102\u001b[0m  1.0433\n"
     ]
    },
    {
     "name": "stdout",
     "output_type": "stream",
     "text": [
      "     10        \u001b[36m0.4998\u001b[0m       \u001b[32m0.8955\u001b[0m        \u001b[35m0.3935\u001b[0m  1.0360\n"
     ]
    },
    {
     "name": "stdout",
     "output_type": "stream",
     "text": [
      "  epoch    train_loss    valid_acc    valid_loss     dur\n",
      "-------  ------------  -----------  ------------  ------\n",
      "      1        \u001b[36m2.0190\u001b[0m       \u001b[32m0.7157\u001b[0m        \u001b[35m1.6245\u001b[0m  1.0264\n"
     ]
    },
    {
     "name": "stdout",
     "output_type": "stream",
     "text": [
      "      2        \u001b[36m1.3356\u001b[0m       \u001b[32m0.8097\u001b[0m        \u001b[35m0.9929\u001b[0m  1.0264\n"
     ]
    },
    {
     "name": "stdout",
     "output_type": "stream",
     "text": [
      "      3        \u001b[36m0.9501\u001b[0m       \u001b[32m0.8417\u001b[0m        \u001b[35m0.7302\u001b[0m  1.0197\n"
     ]
    },
    {
     "name": "stdout",
     "output_type": "stream",
     "text": [
      "      4        \u001b[36m0.7767\u001b[0m       \u001b[32m0.8603\u001b[0m        \u001b[35m0.6056\u001b[0m  1.0150\n"
     ]
    },
    {
     "name": "stdout",
     "output_type": "stream",
     "text": [
      "      5        \u001b[36m0.6824\u001b[0m       \u001b[32m0.8713\u001b[0m        \u001b[35m0.5332\u001b[0m  1.0213\n"
     ]
    },
    {
     "name": "stdout",
     "output_type": "stream",
     "text": [
      "      6        \u001b[36m0.6181\u001b[0m       \u001b[32m0.8801\u001b[0m        \u001b[35m0.4857\u001b[0m  1.0624\n"
     ]
    },
    {
     "name": "stdout",
     "output_type": "stream",
     "text": [
      "      7        \u001b[36m0.5802\u001b[0m       \u001b[32m0.8856\u001b[0m        \u001b[35m0.4523\u001b[0m  1.0645\n"
     ]
    },
    {
     "name": "stdout",
     "output_type": "stream",
     "text": [
      "      8        \u001b[36m0.5442\u001b[0m       \u001b[32m0.8906\u001b[0m        \u001b[35m0.4265\u001b[0m  1.0236\n"
     ]
    },
    {
     "name": "stdout",
     "output_type": "stream",
     "text": [
      "      9        \u001b[36m0.5155\u001b[0m       \u001b[32m0.8935\u001b[0m        \u001b[35m0.4060\u001b[0m  1.0200\n"
     ]
    },
    {
     "name": "stdout",
     "output_type": "stream",
     "text": [
      "     10        \u001b[36m0.4929\u001b[0m       \u001b[32m0.8973\u001b[0m        \u001b[35m0.3887\u001b[0m  1.0126\n"
     ]
    },
    {
     "name": "stdout",
     "output_type": "stream",
     "text": [
      "  epoch    train_loss    valid_acc    valid_loss     dur\n",
      "-------  ------------  -----------  ------------  ------\n",
      "      1        \u001b[36m2.0174\u001b[0m       \u001b[32m0.7433\u001b[0m        \u001b[35m1.6174\u001b[0m  1.0032\n"
     ]
    },
    {
     "name": "stdout",
     "output_type": "stream",
     "text": [
      "      2        \u001b[36m1.3182\u001b[0m       \u001b[32m0.8187\u001b[0m        \u001b[35m0.9683\u001b[0m  1.0188\n"
     ]
    },
    {
     "name": "stdout",
     "output_type": "stream",
     "text": [
      "      3        \u001b[36m0.9220\u001b[0m       \u001b[32m0.8536\u001b[0m        \u001b[35m0.7057\u001b[0m  1.0167\n"
     ]
    },
    {
     "name": "stdout",
     "output_type": "stream",
     "text": [
      "      4        \u001b[36m0.7586\u001b[0m       \u001b[32m0.8673\u001b[0m        \u001b[35m0.5849\u001b[0m  1.0365\n"
     ]
    },
    {
     "name": "stdout",
     "output_type": "stream",
     "text": [
      "      5        \u001b[36m0.6598\u001b[0m       \u001b[32m0.8765\u001b[0m        \u001b[35m0.5149\u001b[0m  1.0392\n"
     ]
    },
    {
     "name": "stdout",
     "output_type": "stream",
     "text": [
      "      6        \u001b[36m0.6086\u001b[0m       \u001b[32m0.8823\u001b[0m        \u001b[35m0.4708\u001b[0m  1.0340\n"
     ]
    },
    {
     "name": "stdout",
     "output_type": "stream",
     "text": [
      "      7        \u001b[36m0.5655\u001b[0m       \u001b[32m0.8879\u001b[0m        \u001b[35m0.4389\u001b[0m  1.0155\n"
     ]
    },
    {
     "name": "stdout",
     "output_type": "stream",
     "text": [
      "      8        \u001b[36m0.5314\u001b[0m       \u001b[32m0.8925\u001b[0m        \u001b[35m0.4145\u001b[0m  1.0497\n"
     ]
    },
    {
     "name": "stdout",
     "output_type": "stream",
     "text": [
      "      9        \u001b[36m0.5072\u001b[0m       \u001b[32m0.8974\u001b[0m        \u001b[35m0.3951\u001b[0m  1.0501\n"
     ]
    },
    {
     "name": "stdout",
     "output_type": "stream",
     "text": [
      "     10        \u001b[36m0.4888\u001b[0m       \u001b[32m0.8998\u001b[0m        \u001b[35m0.3797\u001b[0m  1.0741\n"
     ]
    },
    {
     "name": "stdout",
     "output_type": "stream",
     "text": [
      "  epoch    train_loss    valid_acc    valid_loss     dur\n",
      "-------  ------------  -----------  ------------  ------\n",
      "      1        \u001b[36m2.0129\u001b[0m       \u001b[32m0.7342\u001b[0m        \u001b[35m1.6090\u001b[0m  1.0445\n"
     ]
    },
    {
     "name": "stdout",
     "output_type": "stream",
     "text": [
      "      2        \u001b[36m1.3161\u001b[0m       \u001b[32m0.8199\u001b[0m        \u001b[35m0.9760\u001b[0m  1.0504\n"
     ]
    },
    {
     "name": "stdout",
     "output_type": "stream",
     "text": [
      "      3        \u001b[36m0.9361\u001b[0m       \u001b[32m0.8488\u001b[0m        \u001b[35m0.7216\u001b[0m  1.0697\n"
     ]
    },
    {
     "name": "stdout",
     "output_type": "stream",
     "text": [
      "      4        \u001b[36m0.7676\u001b[0m       \u001b[32m0.8608\u001b[0m        \u001b[35m0.6021\u001b[0m  1.0360\n"
     ]
    },
    {
     "name": "stdout",
     "output_type": "stream",
     "text": [
      "      5        \u001b[36m0.6724\u001b[0m       \u001b[32m0.8718\u001b[0m        \u001b[35m0.5330\u001b[0m  1.0954\n"
     ]
    },
    {
     "name": "stdout",
     "output_type": "stream",
     "text": [
      "      6        \u001b[36m0.6110\u001b[0m       \u001b[32m0.8776\u001b[0m        \u001b[35m0.4871\u001b[0m  1.6769\n"
     ]
    },
    {
     "name": "stdout",
     "output_type": "stream",
     "text": [
      "      7        \u001b[36m0.5722\u001b[0m       \u001b[32m0.8837\u001b[0m        \u001b[35m0.4547\u001b[0m  1.0363\n"
     ]
    },
    {
     "name": "stdout",
     "output_type": "stream",
     "text": [
      "      8        \u001b[36m0.5378\u001b[0m       \u001b[32m0.8881\u001b[0m        \u001b[35m0.4300\u001b[0m  1.0290\n"
     ]
    },
    {
     "name": "stdout",
     "output_type": "stream",
     "text": [
      "      9        \u001b[36m0.5125\u001b[0m       \u001b[32m0.8920\u001b[0m        \u001b[35m0.4105\u001b[0m  1.0347\n"
     ]
    },
    {
     "name": "stdout",
     "output_type": "stream",
     "text": [
      "     10        \u001b[36m0.4911\u001b[0m       \u001b[32m0.8951\u001b[0m        \u001b[35m0.3942\u001b[0m  1.0439\n"
     ]
    },
    {
     "name": "stdout",
     "output_type": "stream",
     "text": [
      "  epoch    train_loss    valid_acc    valid_loss     dur\n",
      "-------  ------------  -----------  ------------  ------\n",
      "      1        \u001b[36m2.0514\u001b[0m       \u001b[32m0.7324\u001b[0m        \u001b[35m1.6810\u001b[0m  1.0268\n"
     ]
    },
    {
     "name": "stdout",
     "output_type": "stream",
     "text": [
      "      2        \u001b[36m1.3667\u001b[0m       \u001b[32m0.8162\u001b[0m        \u001b[35m1.0040\u001b[0m  1.0340\n"
     ]
    },
    {
     "name": "stdout",
     "output_type": "stream",
     "text": [
      "      3        \u001b[36m0.9564\u001b[0m       \u001b[32m0.8508\u001b[0m        \u001b[35m0.7265\u001b[0m  1.0437\n"
     ]
    },
    {
     "name": "stdout",
     "output_type": "stream",
     "text": [
      "      4        \u001b[36m0.7770\u001b[0m       \u001b[32m0.8662\u001b[0m        \u001b[35m0.5991\u001b[0m  1.1065\n"
     ]
    },
    {
     "name": "stdout",
     "output_type": "stream",
     "text": [
      "      5        \u001b[36m0.6820\u001b[0m       \u001b[32m0.8758\u001b[0m        \u001b[35m0.5266\u001b[0m  1.0692\n"
     ]
    },
    {
     "name": "stdout",
     "output_type": "stream",
     "text": [
      "      6        \u001b[36m0.6187\u001b[0m       \u001b[32m0.8824\u001b[0m        \u001b[35m0.4799\u001b[0m  1.0703\n"
     ]
    },
    {
     "name": "stdout",
     "output_type": "stream",
     "text": [
      "      7        \u001b[36m0.5767\u001b[0m       \u001b[32m0.8871\u001b[0m        \u001b[35m0.4469\u001b[0m  1.0436\n"
     ]
    },
    {
     "name": "stdout",
     "output_type": "stream",
     "text": [
      "      8        \u001b[36m0.5465\u001b[0m       \u001b[32m0.8921\u001b[0m        \u001b[35m0.4219\u001b[0m  1.0352\n"
     ]
    },
    {
     "name": "stdout",
     "output_type": "stream",
     "text": [
      "      9        \u001b[36m0.5150\u001b[0m       \u001b[32m0.8961\u001b[0m        \u001b[35m0.4013\u001b[0m  1.0520\n"
     ]
    },
    {
     "name": "stdout",
     "output_type": "stream",
     "text": [
      "     10        \u001b[36m0.4951\u001b[0m       \u001b[32m0.8983\u001b[0m        \u001b[35m0.3858\u001b[0m  1.0341\n"
     ]
    },
    {
     "name": "stdout",
     "output_type": "stream",
     "text": [
      "  epoch    train_loss    valid_acc    valid_loss     dur\n",
      "-------  ------------  -----------  ------------  ------\n",
      "      1        \u001b[36m1.9521\u001b[0m       \u001b[32m0.7793\u001b[0m        \u001b[35m1.4634\u001b[0m  1.2522\n"
     ]
    },
    {
     "name": "stdout",
     "output_type": "stream",
     "text": [
      "      2        \u001b[36m1.1692\u001b[0m       \u001b[32m0.8451\u001b[0m        \u001b[35m0.8193\u001b[0m  1.2495\n"
     ]
    },
    {
     "name": "stdout",
     "output_type": "stream",
     "text": [
      "      3        \u001b[36m0.8083\u001b[0m       \u001b[32m0.8736\u001b[0m        \u001b[35m0.5945\u001b[0m  1.2529\n"
     ]
    },
    {
     "name": "stdout",
     "output_type": "stream",
     "text": [
      "      4        \u001b[36m0.6546\u001b[0m       \u001b[32m0.8876\u001b[0m        \u001b[35m0.4873\u001b[0m  1.2649\n"
     ]
    },
    {
     "name": "stdout",
     "output_type": "stream",
     "text": [
      "      5        \u001b[36m0.5733\u001b[0m       \u001b[32m0.8957\u001b[0m        \u001b[35m0.4265\u001b[0m  1.2718\n"
     ]
    },
    {
     "name": "stdout",
     "output_type": "stream",
     "text": [
      "      6        \u001b[36m0.5172\u001b[0m       \u001b[32m0.9012\u001b[0m        \u001b[35m0.3853\u001b[0m  1.2758\n"
     ]
    },
    {
     "name": "stdout",
     "output_type": "stream",
     "text": [
      "      7        \u001b[36m0.4819\u001b[0m       \u001b[32m0.9061\u001b[0m        \u001b[35m0.3563\u001b[0m  1.3268\n"
     ]
    },
    {
     "name": "stdout",
     "output_type": "stream",
     "text": [
      "      8        \u001b[36m0.4497\u001b[0m       \u001b[32m0.9097\u001b[0m        \u001b[35m0.3347\u001b[0m  1.2599\n"
     ]
    },
    {
     "name": "stdout",
     "output_type": "stream",
     "text": [
      "      9        \u001b[36m0.4299\u001b[0m       \u001b[32m0.9147\u001b[0m        \u001b[35m0.3178\u001b[0m  1.2817\n"
     ]
    },
    {
     "name": "stdout",
     "output_type": "stream",
     "text": [
      "     10        \u001b[36m0.4057\u001b[0m       \u001b[32m0.9179\u001b[0m        \u001b[35m0.3035\u001b[0m  1.2751\n"
     ]
    }
   ],
   "source": [
    "_ = clf.fit(X_train, y_train.to_numpy())"
   ]
  },
  {
   "cell_type": "markdown",
   "metadata": {},
   "source": [
    "## 9. Evaluate the robust model's performance"
   ]
  },
  {
   "cell_type": "code",
   "execution_count": 18,
   "metadata": {
    "execution": {
     "iopub.execute_input": "2022-03-08T20:09:34.316309Z",
     "iopub.status.busy": "2022-03-08T20:09:34.315875Z",
     "iopub.status.idle": "2022-03-08T20:09:34.624787Z",
     "shell.execute_reply": "2022-03-08T20:09:34.623961Z"
    }
   },
   "outputs": [
    {
     "data": {
      "text/plain": [
       "0.8992857142857142"
      ]
     },
     "execution_count": 18,
     "metadata": {},
     "output_type": "execute_result"
    }
   ],
   "source": [
    "from sklearn.metrics import accuracy_score\n",
    "\n",
    "y_pred = clf.predict(X_test)\n",
    "accuracy_score(y_test, y_pred)"
   ]
  },
  {
   "cell_type": "markdown",
   "metadata": {},
   "source": [
    "## What's next?"
   ]
  },
  {
   "cell_type": "markdown",
   "metadata": {},
   "source": [
    "Congratulations on completing this tutorial! Check out our following tutorial on using Cleanlab for text classification, where we found ``hundreds`` of potential label errors in one of the most well-known text datasets, the IMBDb movie review dataset!"
   ]
  }
 ],
 "metadata": {
  "interpreter": {
   "hash": "ced20e3e49bb4fa4ce8ad38f8f2535b7fc4c39b2b89554502b5dbdad1ad67eda"
  },
  "kernelspec": {
   "display_name": "Python 3.10.0 64-bit",
   "language": "python",
   "name": "python3"
  },
  "language_info": {
   "codemirror_mode": {
    "name": "ipython",
    "version": 3
   },
   "file_extension": ".py",
   "mimetype": "text/x-python",
   "name": "python",
   "nbconvert_exporter": "python",
   "pygments_lexer": "ipython3",
   "version": "3.8.12"
  }
 },
 "nbformat": 4,
 "nbformat_minor": 2
}
