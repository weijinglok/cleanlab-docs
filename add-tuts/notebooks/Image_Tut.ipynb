{
 "cells": [
  {
   "cell_type": "markdown",
   "metadata": {},
   "source": [
    "# Image Classification with Cleanlab, PyTorch & Skorch"
   ]
  },
  {
   "cell_type": "markdown",
   "metadata": {},
   "source": [
    "This tutorial will use Cleanlab to find potential label errors in the MNIST handwritten digit image dataset. This dataset contains 60,000 images of handwritten digits from 0 to 9. We'll find *more than a thousand* highly suspicious examples with label errors and edge cases by the end of this tutorial. \n",
    "\n",
    "**Overview of what we'll do in this tutorial:**\n",
    "\n",
    "- Build a simple PyTorch neural net and wrap it with Skorch to make it scikit-learn compatible.\n",
    "\n",
    "- Compute the cross-validated predicted probabilities, ``pyx``, sometimes known as the out-of-sample predicted probabilities.\n",
    "\n",
    "- Generate a list of potential label errors with Cleanlab's ``get_noise_indices``.\n",
    "\n",
    "- Build and train a more robust model than the vanilla model after adapting it with Cleanlab's ``LearningWithNoisyLabels``. \n",
    "\n",
    "**Data:** https://www.openml.org/d/554"
   ]
  },
  {
   "cell_type": "markdown",
   "metadata": {},
   "source": [
    "## 1. Install the required dependencies"
   ]
  },
  {
   "cell_type": "markdown",
   "metadata": {},
   "source": [
    "``%%capture`` is a magic function to hides the cell's output."
   ]
  },
  {
   "cell_type": "code",
   "execution_count": 1,
   "metadata": {
    "execution": {
     "iopub.execute_input": "2022-03-09T00:05:06.316886Z",
     "iopub.status.busy": "2022-03-09T00:05:06.316714Z",
     "iopub.status.idle": "2022-03-09T00:05:32.907693Z",
     "shell.execute_reply": "2022-03-09T00:05:32.907058Z"
    }
   },
   "outputs": [],
   "source": [
    "%%capture\n",
    "\n",
    "%pip install cleanlab pandas matplotlib torch torchvision skorch"
   ]
  },
  {
   "cell_type": "markdown",
   "metadata": {},
   "source": [
    "## 2. Fetch and scale the MNIST dataset"
   ]
  },
  {
   "cell_type": "code",
   "execution_count": 2,
   "metadata": {
    "execution": {
     "iopub.execute_input": "2022-03-09T00:05:32.910542Z",
     "iopub.status.busy": "2022-03-09T00:05:32.910389Z",
     "iopub.status.idle": "2022-03-09T00:06:28.933042Z",
     "shell.execute_reply": "2022-03-09T00:06:28.932469Z"
    }
   },
   "outputs": [],
   "source": [
    "from sklearn.datasets import fetch_openml\n",
    "\n",
    "# Fetch the MNIST dataset\n",
    "mnist = fetch_openml('mnist_784')\n",
    "\n",
    "# Assign the data features and labels to variable X and y respectively \n",
    "X = mnist.data.astype('float32')\n",
    "y = mnist.target.astype('int64')\n"
   ]
  },
  {
   "cell_type": "markdown",
   "metadata": {},
   "source": [
    "<div class=\"alert alert-info\">\n",
    "\n",
    "Bringing Your Own Data (BYOD)?\n",
    "\n",
    "Assign your data's features to variable ``X`` and its labels to variable ``y`` instead.\n",
    "\n",
    "</div>"
   ]
  },
  {
   "cell_type": "code",
   "execution_count": 3,
   "metadata": {
    "execution": {
     "iopub.execute_input": "2022-03-09T00:06:28.935681Z",
     "iopub.status.busy": "2022-03-09T00:06:28.935535Z",
     "iopub.status.idle": "2022-03-09T00:06:29.008574Z",
     "shell.execute_reply": "2022-03-09T00:06:29.008012Z"
    }
   },
   "outputs": [],
   "source": [
    "\n",
    "# Scale the features which range from 0 to 255 (256 levels on the grayscale) \n",
    "X /= 255.0\n",
    "\n",
    "# Then convert it to a numpy array\n",
    "X = X.to_numpy()"
   ]
  },
  {
   "cell_type": "markdown",
   "metadata": {},
   "source": [
    "## 3. Define a classification model"
   ]
  },
  {
   "cell_type": "markdown",
   "metadata": {},
   "source": [
    "Here, we define a simple neural network with PyTorch."
   ]
  },
  {
   "cell_type": "code",
   "execution_count": 4,
   "metadata": {
    "execution": {
     "iopub.execute_input": "2022-03-09T00:06:29.011453Z",
     "iopub.status.busy": "2022-03-09T00:06:29.011120Z",
     "iopub.status.idle": "2022-03-09T00:06:29.369871Z",
     "shell.execute_reply": "2022-03-09T00:06:29.369311Z"
    }
   },
   "outputs": [],
   "source": [
    "from torch import nn\n",
    "\n",
    "class NeuralNetwork(nn.Module):\n",
    "    def __init__(self):\n",
    "        super(NeuralNetwork, self).__init__()\n",
    "        self.dropout = nn.Dropout(0.5)\n",
    "        self.hidden = nn.Linear(28*28, 128)\n",
    "        self.output = nn.Linear(128, 10)\n",
    "\n",
    "    def forward(self, X):\n",
    "        X = nn.functional.relu(self.hidden(X))\n",
    "        X = self.dropout(X)\n",
    "        X = nn.functional.softmax(self.output(X), dim=-1)\n",
    "        return X"
   ]
  },
  {
   "cell_type": "markdown",
   "metadata": {},
   "source": [
    "## 4. Wrap with Skorch for scikit-learn compatibility"
   ]
  },
  {
   "cell_type": "markdown",
   "metadata": {},
   "source": [
    "As some of Cleanlab's feature requires scikit-learn compatibility, we will need to adapt the above PyTorch neural net accordingly. Skorch is a convenient package that helps with this, read more about it here: https://skorch.readthedocs.io"
   ]
  },
  {
   "cell_type": "code",
   "execution_count": 5,
   "metadata": {
    "execution": {
     "iopub.execute_input": "2022-03-09T00:06:29.373797Z",
     "iopub.status.busy": "2022-03-09T00:06:29.372753Z",
     "iopub.status.idle": "2022-03-09T00:06:29.455610Z",
     "shell.execute_reply": "2022-03-09T00:06:29.455126Z"
    }
   },
   "outputs": [],
   "source": [
    "from skorch import NeuralNetClassifier\n",
    "\n",
    "# Wrap the PyTorch neural net around Skorch's NeuralNetClassifier wrapper\n",
    "net = NeuralNetClassifier(NeuralNetwork)"
   ]
  },
  {
   "cell_type": "markdown",
   "metadata": {},
   "source": [
    "## 5. Compute the cross-validated predicted probabilities"
   ]
  },
  {
   "cell_type": "markdown",
   "metadata": {},
   "source": [
    "If we'd like Cleanlab to identify potential label errors in the whole dataset and not just the training set, we can consider fitting the entire dataset. We will only use this model instance to compute the cross-validated predicted probabilities, ``pyx``, and not for model evaluation."
   ]
  },
  {
   "cell_type": "code",
   "execution_count": 6,
   "metadata": {
    "execution": {
     "iopub.execute_input": "2022-03-09T00:06:29.458130Z",
     "iopub.status.busy": "2022-03-09T00:06:29.457986Z",
     "iopub.status.idle": "2022-03-09T00:06:51.107062Z",
     "shell.execute_reply": "2022-03-09T00:06:51.106517Z"
    }
   },
   "outputs": [
    {
     "name": "stdout",
     "output_type": "stream",
     "text": [
      "  epoch    train_loss    valid_acc    valid_loss     dur\n",
      "-------  ------------  -----------  ------------  ------\n",
      "      1        \u001b[36m1.8029\u001b[0m       \u001b[32m0.7811\u001b[0m        \u001b[35m1.1824\u001b[0m  2.1598\n"
     ]
    },
    {
     "name": "stdout",
     "output_type": "stream",
     "text": [
      "      2        \u001b[36m0.9777\u001b[0m       \u001b[32m0.8421\u001b[0m        \u001b[35m0.7002\u001b[0m  2.1651\n"
     ]
    },
    {
     "name": "stdout",
     "output_type": "stream",
     "text": [
      "      3        \u001b[36m0.7206\u001b[0m       \u001b[32m0.8655\u001b[0m        \u001b[35m0.5478\u001b[0m  2.1675\n"
     ]
    },
    {
     "name": "stdout",
     "output_type": "stream",
     "text": [
      "      4        \u001b[36m0.6109\u001b[0m       \u001b[32m0.8808\u001b[0m        \u001b[35m0.4740\u001b[0m  2.1540\n"
     ]
    },
    {
     "name": "stdout",
     "output_type": "stream",
     "text": [
      "      5        \u001b[36m0.5471\u001b[0m       \u001b[32m0.8899\u001b[0m        \u001b[35m0.4286\u001b[0m  2.1554\n"
     ]
    },
    {
     "name": "stdout",
     "output_type": "stream",
     "text": [
      "      6        \u001b[36m0.5057\u001b[0m       \u001b[32m0.8947\u001b[0m        \u001b[35m0.3988\u001b[0m  2.1561\n"
     ]
    },
    {
     "name": "stdout",
     "output_type": "stream",
     "text": [
      "      7        \u001b[36m0.4769\u001b[0m       \u001b[32m0.8994\u001b[0m        \u001b[35m0.3762\u001b[0m  2.1577\n"
     ]
    },
    {
     "name": "stdout",
     "output_type": "stream",
     "text": [
      "      8        \u001b[36m0.4540\u001b[0m       \u001b[32m0.9038\u001b[0m        \u001b[35m0.3582\u001b[0m  2.1513\n"
     ]
    },
    {
     "name": "stdout",
     "output_type": "stream",
     "text": [
      "      9        \u001b[36m0.4324\u001b[0m       \u001b[32m0.9067\u001b[0m        \u001b[35m0.3431\u001b[0m  2.1554\n"
     ]
    },
    {
     "name": "stdout",
     "output_type": "stream",
     "text": [
      "     10        \u001b[36m0.4164\u001b[0m       \u001b[32m0.9102\u001b[0m        \u001b[35m0.3304\u001b[0m  2.1718\n"
     ]
    }
   ],
   "source": [
    "_ = net.fit(X, y)"
   ]
  },
  {
   "cell_type": "markdown",
   "metadata": {},
   "source": [
    "Compute the cross-validated predicted probabilities, ``pyx``, sometimes also known as the out-of-sample predicted probabilities."
   ]
  },
  {
   "cell_type": "code",
   "execution_count": 7,
   "metadata": {
    "execution": {
     "iopub.execute_input": "2022-03-09T00:06:51.109410Z",
     "iopub.status.busy": "2022-03-09T00:06:51.109261Z",
     "iopub.status.idle": "2022-03-09T00:07:26.535564Z",
     "shell.execute_reply": "2022-03-09T00:07:26.535005Z"
    }
   },
   "outputs": [
    {
     "name": "stdout",
     "output_type": "stream",
     "text": [
      "  epoch    train_loss    valid_acc    valid_loss     dur\n",
      "-------  ------------  -----------  ------------  ------\n",
      "      1        \u001b[36m1.9613\u001b[0m       \u001b[32m0.7427\u001b[0m        \u001b[35m1.5427\u001b[0m  1.1237\n"
     ]
    },
    {
     "name": "stdout",
     "output_type": "stream",
     "text": [
      "      2        \u001b[36m1.2435\u001b[0m       \u001b[32m0.7998\u001b[0m        \u001b[35m0.9503\u001b[0m  1.1248\n"
     ]
    },
    {
     "name": "stdout",
     "output_type": "stream",
     "text": [
      "      3        \u001b[36m0.8843\u001b[0m       \u001b[32m0.8310\u001b[0m        \u001b[35m0.7198\u001b[0m  1.2587\n"
     ]
    },
    {
     "name": "stdout",
     "output_type": "stream",
     "text": [
      "      4        \u001b[36m0.7285\u001b[0m       \u001b[32m0.8489\u001b[0m        \u001b[35m0.6091\u001b[0m  1.1468\n"
     ]
    },
    {
     "name": "stdout",
     "output_type": "stream",
     "text": [
      "      5        \u001b[36m0.6406\u001b[0m       \u001b[32m0.8594\u001b[0m        \u001b[35m0.5447\u001b[0m  1.1258\n"
     ]
    },
    {
     "name": "stdout",
     "output_type": "stream",
     "text": [
      "      6        \u001b[36m0.5854\u001b[0m       \u001b[32m0.8665\u001b[0m        \u001b[35m0.5019\u001b[0m  1.1258\n"
     ]
    },
    {
     "name": "stdout",
     "output_type": "stream",
     "text": [
      "      7        \u001b[36m0.5431\u001b[0m       \u001b[32m0.8722\u001b[0m        \u001b[35m0.4702\u001b[0m  1.1276\n"
     ]
    },
    {
     "name": "stdout",
     "output_type": "stream",
     "text": [
      "      8        \u001b[36m0.5158\u001b[0m       \u001b[32m0.8758\u001b[0m        \u001b[35m0.4478\u001b[0m  1.1260\n"
     ]
    },
    {
     "name": "stdout",
     "output_type": "stream",
     "text": [
      "      9        \u001b[36m0.4872\u001b[0m       \u001b[32m0.8799\u001b[0m        \u001b[35m0.4281\u001b[0m  1.1278\n"
     ]
    },
    {
     "name": "stdout",
     "output_type": "stream",
     "text": [
      "     10        \u001b[36m0.4694\u001b[0m       \u001b[32m0.8831\u001b[0m        \u001b[35m0.4126\u001b[0m  1.1278\n"
     ]
    },
    {
     "name": "stdout",
     "output_type": "stream",
     "text": [
      "  epoch    train_loss    valid_acc    valid_loss     dur\n",
      "-------  ------------  -----------  ------------  ------\n",
      "      1        \u001b[36m1.9784\u001b[0m       \u001b[32m0.7538\u001b[0m        \u001b[35m1.5564\u001b[0m  1.1260\n"
     ]
    },
    {
     "name": "stdout",
     "output_type": "stream",
     "text": [
      "      2        \u001b[36m1.2554\u001b[0m       \u001b[32m0.8137\u001b[0m        \u001b[35m0.9351\u001b[0m  1.1260\n"
     ]
    },
    {
     "name": "stdout",
     "output_type": "stream",
     "text": [
      "      3        \u001b[36m0.8817\u001b[0m       \u001b[32m0.8422\u001b[0m        \u001b[35m0.6977\u001b[0m  1.1263\n"
     ]
    },
    {
     "name": "stdout",
     "output_type": "stream",
     "text": [
      "      4        \u001b[36m0.7266\u001b[0m       \u001b[32m0.8587\u001b[0m        \u001b[35m0.5865\u001b[0m  1.1273\n"
     ]
    },
    {
     "name": "stdout",
     "output_type": "stream",
     "text": [
      "      5        \u001b[36m0.6441\u001b[0m       \u001b[32m0.8693\u001b[0m        \u001b[35m0.5218\u001b[0m  1.1267\n"
     ]
    },
    {
     "name": "stdout",
     "output_type": "stream",
     "text": [
      "      6        \u001b[36m0.5838\u001b[0m       \u001b[32m0.8778\u001b[0m        \u001b[35m0.4786\u001b[0m  1.1266\n"
     ]
    },
    {
     "name": "stdout",
     "output_type": "stream",
     "text": [
      "      7        \u001b[36m0.5458\u001b[0m       \u001b[32m0.8840\u001b[0m        \u001b[35m0.4474\u001b[0m  1.1258\n"
     ]
    },
    {
     "name": "stdout",
     "output_type": "stream",
     "text": [
      "      8        \u001b[36m0.5157\u001b[0m       \u001b[32m0.8887\u001b[0m        \u001b[35m0.4237\u001b[0m  1.1269\n"
     ]
    },
    {
     "name": "stdout",
     "output_type": "stream",
     "text": [
      "      9        \u001b[36m0.4925\u001b[0m       \u001b[32m0.8918\u001b[0m        \u001b[35m0.4054\u001b[0m  1.1287\n"
     ]
    },
    {
     "name": "stdout",
     "output_type": "stream",
     "text": [
      "     10        \u001b[36m0.4696\u001b[0m       \u001b[32m0.8952\u001b[0m        \u001b[35m0.3904\u001b[0m  1.1334\n"
     ]
    },
    {
     "name": "stdout",
     "output_type": "stream",
     "text": [
      "  epoch    train_loss    valid_acc    valid_loss     dur\n",
      "-------  ------------  -----------  ------------  ------\n",
      "      1        \u001b[36m2.0084\u001b[0m       \u001b[32m0.7240\u001b[0m        \u001b[35m1.5918\u001b[0m  1.1273\n"
     ]
    },
    {
     "name": "stdout",
     "output_type": "stream",
     "text": [
      "      2        \u001b[36m1.3061\u001b[0m       \u001b[32m0.8007\u001b[0m        \u001b[35m0.9605\u001b[0m  1.1258\n"
     ]
    },
    {
     "name": "stdout",
     "output_type": "stream",
     "text": [
      "      3        \u001b[36m0.9327\u001b[0m       \u001b[32m0.8387\u001b[0m        \u001b[35m0.7129\u001b[0m  1.1266\n"
     ]
    },
    {
     "name": "stdout",
     "output_type": "stream",
     "text": [
      "      4        \u001b[36m0.7756\u001b[0m       \u001b[32m0.8564\u001b[0m        \u001b[35m0.5979\u001b[0m  1.1294\n"
     ]
    },
    {
     "name": "stdout",
     "output_type": "stream",
     "text": [
      "      5        \u001b[36m0.6795\u001b[0m       \u001b[32m0.8698\u001b[0m        \u001b[35m0.5275\u001b[0m  1.1263\n"
     ]
    },
    {
     "name": "stdout",
     "output_type": "stream",
     "text": [
      "      6        \u001b[36m0.6184\u001b[0m       \u001b[32m0.8799\u001b[0m        \u001b[35m0.4806\u001b[0m  1.1287\n"
     ]
    },
    {
     "name": "stdout",
     "output_type": "stream",
     "text": [
      "      7        \u001b[36m0.5767\u001b[0m       \u001b[32m0.8859\u001b[0m        \u001b[35m0.4480\u001b[0m  1.1305\n"
     ]
    },
    {
     "name": "stdout",
     "output_type": "stream",
     "text": [
      "      8        \u001b[36m0.5424\u001b[0m       \u001b[32m0.8906\u001b[0m        \u001b[35m0.4231\u001b[0m  1.1286\n"
     ]
    },
    {
     "name": "stdout",
     "output_type": "stream",
     "text": [
      "      9        \u001b[36m0.5191\u001b[0m       \u001b[32m0.8950\u001b[0m        \u001b[35m0.4032\u001b[0m  1.1301\n"
     ]
    },
    {
     "name": "stdout",
     "output_type": "stream",
     "text": [
      "     10        \u001b[36m0.5002\u001b[0m       \u001b[32m0.8982\u001b[0m        \u001b[35m0.3878\u001b[0m  1.1308\n"
     ]
    }
   ],
   "source": [
    "from sklearn.model_selection import cross_val_predict\n",
    "\n",
    "pyx = cross_val_predict(net, X, y, cv=3, method='predict_proba')"
   ]
  },
  {
   "cell_type": "markdown",
   "metadata": {},
   "source": [
    "## 6. Run Cleanlab to find potential label errors"
   ]
  },
  {
   "cell_type": "markdown",
   "metadata": {},
   "source": [
    "Cleanlab has a ``get_noise_indices`` function to generate a list of potential label errors. Setting ``sorted_index_method=\"prob_given_label\"`` returns the indices of all the most likely label errors, sorted by the most suspicious example first."
   ]
  },
  {
   "cell_type": "code",
   "execution_count": 8,
   "metadata": {
    "execution": {
     "iopub.execute_input": "2022-03-09T00:07:26.538397Z",
     "iopub.status.busy": "2022-03-09T00:07:26.538247Z",
     "iopub.status.idle": "2022-03-09T00:07:26.869584Z",
     "shell.execute_reply": "2022-03-09T00:07:26.868971Z"
    }
   },
   "outputs": [],
   "source": [
    "from cleanlab.pruning import get_noise_indices\n",
    "\n",
    "ordered_label_errors = get_noise_indices(\n",
    "    s=y,\n",
    "    psx=pyx,\n",
    "    sorted_index_method=\"prob_given_label\"\n",
    ")"
   ]
  },
  {
   "cell_type": "markdown",
   "metadata": {},
   "source": [
    "## 7. Review some of the most likely mislabeled examples"
   ]
  },
  {
   "cell_type": "code",
   "execution_count": 9,
   "metadata": {
    "execution": {
     "iopub.execute_input": "2022-03-09T00:07:26.872939Z",
     "iopub.status.busy": "2022-03-09T00:07:26.872392Z",
     "iopub.status.idle": "2022-03-09T00:07:26.876795Z",
     "shell.execute_reply": "2022-03-09T00:07:26.876247Z"
    }
   },
   "outputs": [
    {
     "name": "stdout",
     "output_type": "stream",
     "text": [
      "Cleanlab found 1260 potential label errors. Here are the indices of the top 15 most likely ones: \n",
      " [24798 18598 20820  8729 61790  1352  7010 15942 31134 12679 13031 66091\n",
      " 11208 39457 59915]\n"
     ]
    }
   ],
   "source": [
    "print(f\"Cleanlab found {len(ordered_label_errors)} potential label errors. Here are the indices of the top 15 most likely ones: \\n {ordered_label_errors[:15]}\")"
   ]
  },
  {
   "cell_type": "markdown",
   "metadata": {},
   "source": [
    "We'll define a new ``plot_examples`` function to display any examples in a subplot conveniently."
   ]
  },
  {
   "cell_type": "code",
   "execution_count": 10,
   "metadata": {
    "execution": {
     "iopub.execute_input": "2022-03-09T00:07:26.879243Z",
     "iopub.status.busy": "2022-03-09T00:07:26.878808Z",
     "iopub.status.idle": "2022-03-09T00:07:27.551243Z",
     "shell.execute_reply": "2022-03-09T00:07:27.550715Z"
    }
   },
   "outputs": [],
   "source": [
    "import matplotlib.pyplot as plt\n",
    "\n",
    "def plot_examples(id_iter, nrows=1, ncols=1):\n",
    "    for count, id in enumerate(id_iter):\n",
    "        plt.subplot(nrows, ncols, count+1)\n",
    "        plt.imshow(X[id].reshape(28, 28))\n",
    "        plt.title(f\"id: {id} \\n label: {y[id]}\")\n",
    "        plt.axis('off')\n",
    "\n",
    "    plt.tight_layout(h_pad=2.0)"
   ]
  },
  {
   "cell_type": "markdown",
   "metadata": {},
   "source": [
    "Let's start by having an overview of the top 15 most likely label errors. From here, we can see a few label errors and edge cases. Feel free to change the parameters to display more or fewer examples. "
   ]
  },
  {
   "cell_type": "code",
   "execution_count": 11,
   "metadata": {
    "execution": {
     "iopub.execute_input": "2022-03-09T00:07:27.553866Z",
     "iopub.status.busy": "2022-03-09T00:07:27.553698Z",
     "iopub.status.idle": "2022-03-09T00:07:27.958651Z",
     "shell.execute_reply": "2022-03-09T00:07:27.958121Z"
    }
   },
   "outputs": [
    {
     "data": {
      "image/png": "[encoded data removed]",
      "text/plain": [
       "<Figure size 432x288 with 15 Axes>"
      ]
     },
     "metadata": {
      "needs_background": "light"
     },
     "output_type": "display_data"
    }
   ],
   "source": [
    "plot_examples(ordered_label_errors[range(15)], 3, 5)"
   ]
  },
  {
   "cell_type": "markdown",
   "metadata": {},
   "source": [
    "Let's zoom into specific examples:"
   ]
  },
  {
   "cell_type": "markdown",
   "metadata": {},
   "source": [
    "Given label is **4** but looks more like a **7**"
   ]
  },
  {
   "cell_type": "code",
   "execution_count": 12,
   "metadata": {
    "execution": {
     "iopub.execute_input": "2022-03-09T00:07:27.960999Z",
     "iopub.status.busy": "2022-03-09T00:07:27.960851Z",
     "iopub.status.idle": "2022-03-09T00:07:28.012387Z",
     "shell.execute_reply": "2022-03-09T00:07:28.011845Z"
    }
   },
   "outputs": [
    {
     "data": {
      "image/png": "[encoded data removed]",
      "text/plain": [
       "<Figure size 432x288 with 1 Axes>"
      ]
     },
     "metadata": {
      "needs_background": "light"
     },
     "output_type": "display_data"
    }
   ],
   "source": [
    "plot_examples([59915])"
   ]
  },
  {
   "cell_type": "markdown",
   "metadata": {},
   "source": [
    "Given label is **4** but also looks like **9**"
   ]
  },
  {
   "cell_type": "code",
   "execution_count": 13,
   "metadata": {
    "execution": {
     "iopub.execute_input": "2022-03-09T00:07:28.015043Z",
     "iopub.status.busy": "2022-03-09T00:07:28.014776Z",
     "iopub.status.idle": "2022-03-09T00:07:28.071795Z",
     "shell.execute_reply": "2022-03-09T00:07:28.071239Z"
    }
   },
   "outputs": [
    {
     "data": {
      "image/png": "[encoded data removed]",
      "text/plain": [
       "<Figure size 432x288 with 1 Axes>"
      ]
     },
     "metadata": {
      "needs_background": "light"
     },
     "output_type": "display_data"
    }
   ],
   "source": [
    "plot_examples([24798])"
   ]
  },
  {
   "cell_type": "markdown",
   "metadata": {},
   "source": [
    "Edge case of odd looking **9**s"
   ]
  },
  {
   "cell_type": "code",
   "execution_count": 14,
   "metadata": {
    "execution": {
     "iopub.execute_input": "2022-03-09T00:07:28.074336Z",
     "iopub.status.busy": "2022-03-09T00:07:28.074064Z",
     "iopub.status.idle": "2022-03-09T00:07:28.279017Z",
     "shell.execute_reply": "2022-03-09T00:07:28.278499Z"
    }
   },
   "outputs": [
    {
     "data": {
      "image/png": "[encoded data removed]",
      "text/plain": [
       "<Figure size 432x288 with 3 Axes>"
      ]
     },
     "metadata": {
      "needs_background": "light"
     },
     "output_type": "display_data"
    }
   ],
   "source": [
    "plot_examples([18598, 1352, 61247], 1, 3)"
   ]
  },
  {
   "cell_type": "markdown",
   "metadata": {},
   "source": [
    "Cleanlab has shortlisted the most likely label errors to speed up your data cleaning process. With this list, you can decide whether to fix label errors, augment edge cases or remove obscure examples. \n",
    "\n",
    "These human-in-the-loop processes may be time-consuming, so if you'd like Cleanlab to automatically remove these noisy examples and train a model directly on the partially mislabeled dataset, you're in luck! Cleanlab provides a ``LearningWithNoisyLabels`` wrapper to do precisely this:"
   ]
  },
  {
   "cell_type": "markdown",
   "metadata": {},
   "source": [
    "## 8. Adapt with Cleanlab's wrapper and train a more robust model"
   ]
  },
  {
   "cell_type": "markdown",
   "metadata": {},
   "source": [
    "First, we split the dataset into train and test subsets."
   ]
  },
  {
   "cell_type": "code",
   "execution_count": 15,
   "metadata": {
    "execution": {
     "iopub.execute_input": "2022-03-09T00:07:28.281465Z",
     "iopub.status.busy": "2022-03-09T00:07:28.281315Z",
     "iopub.status.idle": "2022-03-09T00:07:28.602038Z",
     "shell.execute_reply": "2022-03-09T00:07:28.601462Z"
    }
   },
   "outputs": [],
   "source": [
    "from sklearn.model_selection import train_test_split\n",
    "\n",
    "X_train, X_test, y_train, y_test = train_test_split(X, y, test_size=0.2)"
   ]
  },
  {
   "cell_type": "markdown",
   "metadata": {},
   "source": [
    "Re-instantiate a new scikit-learn compatible model with Skorch then wrap it with Cleanlab's ``LearningWithNoisyLabels`` wrapper."
   ]
  },
  {
   "cell_type": "code",
   "execution_count": 16,
   "metadata": {
    "execution": {
     "iopub.execute_input": "2022-03-09T00:07:28.604817Z",
     "iopub.status.busy": "2022-03-09T00:07:28.604668Z",
     "iopub.status.idle": "2022-03-09T00:07:28.608487Z",
     "shell.execute_reply": "2022-03-09T00:07:28.608011Z"
    }
   },
   "outputs": [],
   "source": [
    "from cleanlab.classification import LearningWithNoisyLabels\n",
    "\n",
    "net = NeuralNetClassifier(NeuralNetwork)\n",
    "clf = LearningWithNoisyLabels(clf=net)"
   ]
  },
  {
   "cell_type": "code",
   "execution_count": 17,
   "metadata": {
    "execution": {
     "iopub.execute_input": "2022-03-09T00:07:28.610519Z",
     "iopub.status.busy": "2022-03-09T00:07:28.610377Z",
     "iopub.status.idle": "2022-03-09T00:08:38.041602Z",
     "shell.execute_reply": "2022-03-09T00:08:38.041025Z"
    }
   },
   "outputs": [
    {
     "name": "stdout",
     "output_type": "stream",
     "text": [
      "  epoch    train_loss    valid_acc    valid_loss     dur\n",
      "-------  ------------  -----------  ------------  ------\n",
      "      1        \u001b[36m2.0214\u001b[0m       \u001b[32m0.7451\u001b[0m        \u001b[35m1.6265\u001b[0m  1.0881\n"
     ]
    },
    {
     "name": "stdout",
     "output_type": "stream",
     "text": [
      "      2        \u001b[36m1.3210\u001b[0m       \u001b[32m0.8266\u001b[0m        \u001b[35m0.9700\u001b[0m  1.0887\n"
     ]
    },
    {
     "name": "stdout",
     "output_type": "stream",
     "text": [
      "      3        \u001b[36m0.9234\u001b[0m       \u001b[32m0.8528\u001b[0m        \u001b[35m0.7105\u001b[0m  1.0916\n"
     ]
    },
    {
     "name": "stdout",
     "output_type": "stream",
     "text": [
      "      4        \u001b[36m0.7562\u001b[0m       \u001b[32m0.8658\u001b[0m        \u001b[35m0.5921\u001b[0m  1.0872\n"
     ]
    },
    {
     "name": "stdout",
     "output_type": "stream",
     "text": [
      "      5        \u001b[36m0.6653\u001b[0m       \u001b[32m0.8753\u001b[0m        \u001b[35m0.5238\u001b[0m  1.0866\n"
     ]
    },
    {
     "name": "stdout",
     "output_type": "stream",
     "text": [
      "      6        \u001b[36m0.6076\u001b[0m       \u001b[32m0.8843\u001b[0m        \u001b[35m0.4794\u001b[0m  1.0866\n"
     ]
    },
    {
     "name": "stdout",
     "output_type": "stream",
     "text": [
      "      7        \u001b[36m0.5660\u001b[0m       \u001b[32m0.8901\u001b[0m        \u001b[35m0.4471\u001b[0m  1.0867\n"
     ]
    },
    {
     "name": "stdout",
     "output_type": "stream",
     "text": [
      "      8        \u001b[36m0.5333\u001b[0m       \u001b[32m0.8935\u001b[0m        \u001b[35m0.4227\u001b[0m  1.0893\n"
     ]
    },
    {
     "name": "stdout",
     "output_type": "stream",
     "text": [
      "      9        \u001b[36m0.5088\u001b[0m       \u001b[32m0.8955\u001b[0m        \u001b[35m0.4033\u001b[0m  1.0902\n"
     ]
    },
    {
     "name": "stdout",
     "output_type": "stream",
     "text": [
      "     10        \u001b[36m0.4863\u001b[0m       \u001b[32m0.8981\u001b[0m        \u001b[35m0.3874\u001b[0m  1.0887\n"
     ]
    },
    {
     "name": "stdout",
     "output_type": "stream",
     "text": [
      "  epoch    train_loss    valid_acc    valid_loss     dur\n",
      "-------  ------------  -----------  ------------  ------\n",
      "      1        \u001b[36m2.0180\u001b[0m       \u001b[32m0.7542\u001b[0m        \u001b[35m1.6139\u001b[0m  1.0852\n"
     ]
    },
    {
     "name": "stdout",
     "output_type": "stream",
     "text": [
      "      2        \u001b[36m1.3160\u001b[0m       \u001b[32m0.8233\u001b[0m        \u001b[35m0.9726\u001b[0m  1.0843\n"
     ]
    },
    {
     "name": "stdout",
     "output_type": "stream",
     "text": [
      "      3        \u001b[36m0.9309\u001b[0m       \u001b[32m0.8485\u001b[0m        \u001b[35m0.7154\u001b[0m  1.0873\n"
     ]
    },
    {
     "name": "stdout",
     "output_type": "stream",
     "text": [
      "      4        \u001b[36m0.7609\u001b[0m       \u001b[32m0.8641\u001b[0m        \u001b[35m0.5945\u001b[0m  1.1517\n"
     ]
    },
    {
     "name": "stdout",
     "output_type": "stream",
     "text": [
      "      5        \u001b[36m0.6728\u001b[0m       \u001b[32m0.8746\u001b[0m        \u001b[35m0.5254\u001b[0m  1.0925\n"
     ]
    },
    {
     "name": "stdout",
     "output_type": "stream",
     "text": [
      "      6        \u001b[36m0.6141\u001b[0m       \u001b[32m0.8809\u001b[0m        \u001b[35m0.4803\u001b[0m  1.0872\n"
     ]
    },
    {
     "name": "stdout",
     "output_type": "stream",
     "text": [
      "      7        \u001b[36m0.5700\u001b[0m       \u001b[32m0.8877\u001b[0m        \u001b[35m0.4478\u001b[0m  1.0869\n"
     ]
    },
    {
     "name": "stdout",
     "output_type": "stream",
     "text": [
      "      8        \u001b[36m0.5366\u001b[0m       \u001b[32m0.8921\u001b[0m        \u001b[35m0.4230\u001b[0m  1.0881\n"
     ]
    },
    {
     "name": "stdout",
     "output_type": "stream",
     "text": [
      "      9        \u001b[36m0.5060\u001b[0m       \u001b[32m0.8956\u001b[0m        \u001b[35m0.4026\u001b[0m  1.0899\n"
     ]
    },
    {
     "name": "stdout",
     "output_type": "stream",
     "text": [
      "     10        \u001b[36m0.4930\u001b[0m       \u001b[32m0.8980\u001b[0m        \u001b[35m0.3880\u001b[0m  1.1020\n"
     ]
    },
    {
     "name": "stdout",
     "output_type": "stream",
     "text": [
      "  epoch    train_loss    valid_acc    valid_loss     dur\n",
      "-------  ------------  -----------  ------------  ------\n",
      "      1        \u001b[36m2.0116\u001b[0m       \u001b[32m0.7472\u001b[0m        \u001b[35m1.6174\u001b[0m  1.0901\n"
     ]
    },
    {
     "name": "stdout",
     "output_type": "stream",
     "text": [
      "      2        \u001b[36m1.3230\u001b[0m       \u001b[32m0.8254\u001b[0m        \u001b[35m0.9795\u001b[0m  1.0899\n"
     ]
    },
    {
     "name": "stdout",
     "output_type": "stream",
     "text": [
      "      3        \u001b[36m0.9380\u001b[0m       \u001b[32m0.8512\u001b[0m        \u001b[35m0.7193\u001b[0m  1.0892\n"
     ]
    },
    {
     "name": "stdout",
     "output_type": "stream",
     "text": [
      "      4        \u001b[36m0.7666\u001b[0m       \u001b[32m0.8667\u001b[0m        \u001b[35m0.5977\u001b[0m  1.0916\n"
     ]
    },
    {
     "name": "stdout",
     "output_type": "stream",
     "text": [
      "      5        \u001b[36m0.6714\u001b[0m       \u001b[32m0.8760\u001b[0m        \u001b[35m0.5268\u001b[0m  1.0887\n"
     ]
    },
    {
     "name": "stdout",
     "output_type": "stream",
     "text": [
      "      6        \u001b[36m0.6121\u001b[0m       \u001b[32m0.8839\u001b[0m        \u001b[35m0.4802\u001b[0m  1.0886\n"
     ]
    },
    {
     "name": "stdout",
     "output_type": "stream",
     "text": [
      "      7        \u001b[36m0.5661\u001b[0m       \u001b[32m0.8891\u001b[0m        \u001b[35m0.4463\u001b[0m  1.0912\n"
     ]
    },
    {
     "name": "stdout",
     "output_type": "stream",
     "text": [
      "      8        \u001b[36m0.5332\u001b[0m       \u001b[32m0.8940\u001b[0m        \u001b[35m0.4208\u001b[0m  1.0882\n"
     ]
    },
    {
     "name": "stdout",
     "output_type": "stream",
     "text": [
      "      9        \u001b[36m0.5085\u001b[0m       \u001b[32m0.8965\u001b[0m        \u001b[35m0.4009\u001b[0m  1.0890\n"
     ]
    },
    {
     "name": "stdout",
     "output_type": "stream",
     "text": [
      "     10        \u001b[36m0.4875\u001b[0m       \u001b[32m0.8993\u001b[0m        \u001b[35m0.3850\u001b[0m  1.0900\n"
     ]
    },
    {
     "name": "stdout",
     "output_type": "stream",
     "text": [
      "  epoch    train_loss    valid_acc    valid_loss     dur\n",
      "-------  ------------  -----------  ------------  ------\n",
      "      1        \u001b[36m2.0255\u001b[0m       \u001b[32m0.7339\u001b[0m        \u001b[35m1.6344\u001b[0m  1.0844\n"
     ]
    },
    {
     "name": "stdout",
     "output_type": "stream",
     "text": [
      "      2        \u001b[36m1.3349\u001b[0m       \u001b[32m0.8171\u001b[0m        \u001b[35m0.9935\u001b[0m  1.0834\n"
     ]
    },
    {
     "name": "stdout",
     "output_type": "stream",
     "text": [
      "      3        \u001b[36m0.9448\u001b[0m       \u001b[32m0.8470\u001b[0m        \u001b[35m0.7297\u001b[0m  1.0838\n"
     ]
    },
    {
     "name": "stdout",
     "output_type": "stream",
     "text": [
      "      4        \u001b[36m0.7716\u001b[0m       \u001b[32m0.8646\u001b[0m        \u001b[35m0.6043\u001b[0m  1.0836\n"
     ]
    },
    {
     "name": "stdout",
     "output_type": "stream",
     "text": [
      "      5        \u001b[36m0.6770\u001b[0m       \u001b[32m0.8760\u001b[0m        \u001b[35m0.5320\u001b[0m  1.0857\n"
     ]
    },
    {
     "name": "stdout",
     "output_type": "stream",
     "text": [
      "      6        \u001b[36m0.6150\u001b[0m       \u001b[32m0.8836\u001b[0m        \u001b[35m0.4839\u001b[0m  1.1206\n"
     ]
    },
    {
     "name": "stdout",
     "output_type": "stream",
     "text": [
      "      7        \u001b[36m0.5710\u001b[0m       \u001b[32m0.8883\u001b[0m        \u001b[35m0.4499\u001b[0m  1.0829\n"
     ]
    },
    {
     "name": "stdout",
     "output_type": "stream",
     "text": [
      "      8        \u001b[36m0.5413\u001b[0m       \u001b[32m0.8938\u001b[0m        \u001b[35m0.4239\u001b[0m  1.0834\n"
     ]
    },
    {
     "name": "stdout",
     "output_type": "stream",
     "text": [
      "      9        \u001b[36m0.5134\u001b[0m       \u001b[32m0.8965\u001b[0m        \u001b[35m0.4041\u001b[0m  1.0850\n"
     ]
    },
    {
     "name": "stdout",
     "output_type": "stream",
     "text": [
      "     10        \u001b[36m0.4898\u001b[0m       \u001b[32m0.8988\u001b[0m        \u001b[35m0.3872\u001b[0m  1.1063\n"
     ]
    },
    {
     "name": "stdout",
     "output_type": "stream",
     "text": [
      "  epoch    train_loss    valid_acc    valid_loss     dur\n",
      "-------  ------------  -----------  ------------  ------\n",
      "      1        \u001b[36m1.9980\u001b[0m       \u001b[32m0.7202\u001b[0m        \u001b[35m1.5886\u001b[0m  1.0912\n"
     ]
    },
    {
     "name": "stdout",
     "output_type": "stream",
     "text": [
      "      2        \u001b[36m1.2999\u001b[0m       \u001b[32m0.8150\u001b[0m        \u001b[35m0.9631\u001b[0m  1.0892\n"
     ]
    },
    {
     "name": "stdout",
     "output_type": "stream",
     "text": [
      "      3        \u001b[36m0.9206\u001b[0m       \u001b[32m0.8479\u001b[0m        \u001b[35m0.7102\u001b[0m  1.0829\n"
     ]
    },
    {
     "name": "stdout",
     "output_type": "stream",
     "text": [
      "      4        \u001b[36m0.7538\u001b[0m       \u001b[32m0.8663\u001b[0m        \u001b[35m0.5909\u001b[0m  1.0831\n"
     ]
    },
    {
     "name": "stdout",
     "output_type": "stream",
     "text": [
      "      5        \u001b[36m0.6619\u001b[0m       \u001b[32m0.8772\u001b[0m        \u001b[35m0.5226\u001b[0m  1.0843\n"
     ]
    },
    {
     "name": "stdout",
     "output_type": "stream",
     "text": [
      "      6        \u001b[36m0.6029\u001b[0m       \u001b[32m0.8840\u001b[0m        \u001b[35m0.4763\u001b[0m  1.0854\n"
     ]
    },
    {
     "name": "stdout",
     "output_type": "stream",
     "text": [
      "      7        \u001b[36m0.5625\u001b[0m       \u001b[32m0.8906\u001b[0m        \u001b[35m0.4438\u001b[0m  1.0835\n"
     ]
    },
    {
     "name": "stdout",
     "output_type": "stream",
     "text": [
      "      8        \u001b[36m0.5306\u001b[0m       \u001b[32m0.8949\u001b[0m        \u001b[35m0.4196\u001b[0m  1.0815\n"
     ]
    },
    {
     "name": "stdout",
     "output_type": "stream",
     "text": [
      "      9        \u001b[36m0.5041\u001b[0m       \u001b[32m0.8983\u001b[0m        \u001b[35m0.3998\u001b[0m  1.0830\n"
     ]
    },
    {
     "name": "stdout",
     "output_type": "stream",
     "text": [
      "     10        \u001b[36m0.4873\u001b[0m       \u001b[32m0.9008\u001b[0m        \u001b[35m0.3846\u001b[0m  1.0857\n"
     ]
    },
    {
     "name": "stdout",
     "output_type": "stream",
     "text": [
      "  epoch    train_loss    valid_acc    valid_loss     dur\n",
      "-------  ------------  -----------  ------------  ------\n",
      "      1        \u001b[36m1.9307\u001b[0m       \u001b[32m0.7403\u001b[0m        \u001b[35m1.4230\u001b[0m  1.3359\n"
     ]
    },
    {
     "name": "stdout",
     "output_type": "stream",
     "text": [
      "      2        \u001b[36m1.1289\u001b[0m       \u001b[32m0.8450\u001b[0m        \u001b[35m0.7918\u001b[0m  1.3321\n"
     ]
    },
    {
     "name": "stdout",
     "output_type": "stream",
     "text": [
      "      3        \u001b[36m0.7843\u001b[0m       \u001b[32m0.8735\u001b[0m        \u001b[35m0.5799\u001b[0m  1.3378\n"
     ]
    },
    {
     "name": "stdout",
     "output_type": "stream",
     "text": [
      "      4        \u001b[36m0.6384\u001b[0m       \u001b[32m0.8892\u001b[0m        \u001b[35m0.4789\u001b[0m  1.3378\n"
     ]
    },
    {
     "name": "stdout",
     "output_type": "stream",
     "text": [
      "      5        \u001b[36m0.5560\u001b[0m       \u001b[32m0.8988\u001b[0m        \u001b[35m0.4194\u001b[0m  1.3350\n"
     ]
    },
    {
     "name": "stdout",
     "output_type": "stream",
     "text": [
      "      6        \u001b[36m0.5041\u001b[0m       \u001b[32m0.9047\u001b[0m        \u001b[35m0.3804\u001b[0m  1.3354\n"
     ]
    },
    {
     "name": "stdout",
     "output_type": "stream",
     "text": [
      "      7        \u001b[36m0.4669\u001b[0m       \u001b[32m0.9080\u001b[0m        \u001b[35m0.3519\u001b[0m  1.3353\n"
     ]
    },
    {
     "name": "stdout",
     "output_type": "stream",
     "text": [
      "      8        \u001b[36m0.4381\u001b[0m       \u001b[32m0.9123\u001b[0m        \u001b[35m0.3304\u001b[0m  1.3362\n"
     ]
    },
    {
     "name": "stdout",
     "output_type": "stream",
     "text": [
      "      9        \u001b[36m0.4159\u001b[0m       \u001b[32m0.9146\u001b[0m        \u001b[35m0.3135\u001b[0m  1.3339\n"
     ]
    },
    {
     "name": "stdout",
     "output_type": "stream",
     "text": [
      "     10        \u001b[36m0.3975\u001b[0m       \u001b[32m0.9171\u001b[0m        \u001b[35m0.2999\u001b[0m  1.3346\n"
     ]
    }
   ],
   "source": [
    "_ = clf.fit(X_train, y_train.to_numpy())"
   ]
  },
  {
   "cell_type": "markdown",
   "metadata": {},
   "source": [
    "## 9. Evaluate the robust model's performance"
   ]
  },
  {
   "cell_type": "code",
   "execution_count": 18,
   "metadata": {
    "execution": {
     "iopub.execute_input": "2022-03-09T00:08:38.044313Z",
     "iopub.status.busy": "2022-03-09T00:08:38.044158Z",
     "iopub.status.idle": "2022-03-09T00:08:38.276777Z",
     "shell.execute_reply": "2022-03-09T00:08:38.276270Z"
    }
   },
   "outputs": [
    {
     "data": {
      "text/plain": [
       "0.8990714285714285"
      ]
     },
     "execution_count": 18,
     "metadata": {},
     "output_type": "execute_result"
    }
   ],
   "source": [
    "from sklearn.metrics import accuracy_score\n",
    "\n",
    "y_pred = clf.predict(X_test)\n",
    "accuracy_score(y_test, y_pred)"
   ]
  },
  {
   "cell_type": "markdown",
   "metadata": {},
   "source": [
    "## What's next?"
   ]
  },
  {
   "cell_type": "markdown",
   "metadata": {},
   "source": [
    "Congratulations on completing this tutorial! Check out our following tutorial on using Cleanlab for text classification, where we found ``hundreds`` of potential label errors in one of the most well-known text datasets, the IMBDb movie review dataset!"
   ]
  }
 ],
 "metadata": {
  "interpreter": {
   "hash": "ced20e3e49bb4fa4ce8ad38f8f2535b7fc4c39b2b89554502b5dbdad1ad67eda"
  },
  "kernelspec": {
   "display_name": "Python 3.10.0 64-bit",
   "language": "python",
   "name": "python3"
  },
  "language_info": {
   "codemirror_mode": {
    "name": "ipython",
    "version": 3
   },
   "file_extension": ".py",
   "mimetype": "text/x-python",
   "name": "python",
   "nbconvert_exporter": "python",
   "pygments_lexer": "ipython3",
   "version": "3.8.12"
  }
 },
 "nbformat": 4,
 "nbformat_minor": 2
}
