{
 "cells": [
  {
   "cell_type": "markdown",
   "metadata": {},
   "source": [
    "# Image Classification with Cleanlab, PyTorch & Skorch"
   ]
  },
  {
   "cell_type": "markdown",
   "metadata": {},
   "source": [
    "This tutorial will use Cleanlab to find potential label errors in the MNIST handwritten digit image dataset. This dataset contains 60,000 images of handwritten digits from 0 to 9. We'll find *more than a thousand* highly suspicious examples with label errors and edge cases by the end of this tutorial. \n",
    "\n",
    "**Overview of what we'll do in this tutorial:**\n",
    "\n",
    "- Build a simple PyTorch neural net and wrap it with Skorch to make it scikit-learn compatible.\n",
    "\n",
    "- Compute the cross-validated predicted probabilities, ``pyx``, sometimes known as the out-of-sample predicted probabilities.\n",
    "\n",
    "- Generate a list of potential label errors with Cleanlab's ``get_noise_indices``.\n",
    "\n",
    "- Build and train a more robust model than the vanilla model after adapting it with Cleanlab's ``LearningWithNoisyLabels``. \n",
    "\n",
    "**Data:** https://www.openml.org/d/554"
   ]
  },
  {
   "cell_type": "markdown",
   "metadata": {},
   "source": [
    "## 1. Install the required dependencies"
   ]
  },
  {
   "cell_type": "markdown",
   "metadata": {},
   "source": [
    "``%%capture`` is a magic function to hides the cell's output."
   ]
  },
  {
   "cell_type": "code",
   "execution_count": 1,
   "metadata": {
    "execution": {
     "iopub.execute_input": "2022-03-08T21:48:28.050855Z",
     "iopub.status.busy": "2022-03-08T21:48:28.050441Z",
     "iopub.status.idle": "2022-03-08T21:48:55.037001Z",
     "shell.execute_reply": "2022-03-08T21:48:55.036081Z"
    }
   },
   "outputs": [],
   "source": [
    "%%capture\n",
    "\n",
    "%pip install cleanlab pandas matplotlib torch torchvision skorch"
   ]
  },
  {
   "cell_type": "markdown",
   "metadata": {},
   "source": [
    "## 2. Fetch and scale the MNIST dataset"
   ]
  },
  {
   "cell_type": "code",
   "execution_count": 2,
   "metadata": {
    "execution": {
     "iopub.execute_input": "2022-03-08T21:48:55.040570Z",
     "iopub.status.busy": "2022-03-08T21:48:55.040244Z",
     "iopub.status.idle": "2022-03-08T21:50:45.593421Z",
     "shell.execute_reply": "2022-03-08T21:50:45.592763Z"
    }
   },
   "outputs": [],
   "source": [
    "from sklearn.datasets import fetch_openml\n",
    "\n",
    "# Fetch the MNIST dataset\n",
    "mnist = fetch_openml('mnist_784')\n",
    "\n",
    "# Assign the data features and labels to variable X and y respectively \n",
    "X = mnist.data.astype('float32')\n",
    "y = mnist.target.astype('int64')\n"
   ]
  },
  {
   "cell_type": "markdown",
   "metadata": {},
   "source": [
    "<div class=\"alert alert-info\">\n",
    "\n",
    "Bringing Your Own Data (BYOD)?\n",
    "\n",
    "Assign your data's features to variable ``X`` and its labels to variable ``y`` instead.\n",
    "\n",
    "</div>"
   ]
  },
  {
   "cell_type": "code",
   "execution_count": 3,
   "metadata": {
    "execution": {
     "iopub.execute_input": "2022-03-08T21:50:45.596744Z",
     "iopub.status.busy": "2022-03-08T21:50:45.596406Z",
     "iopub.status.idle": "2022-03-08T21:50:45.782914Z",
     "shell.execute_reply": "2022-03-08T21:50:45.782230Z"
    }
   },
   "outputs": [],
   "source": [
    "\n",
    "# Scale the features which range from 0 to 255 (256 levels on the grayscale) \n",
    "X /= 255.0\n",
    "\n",
    "# Then convert it to a numpy array\n",
    "X = X.to_numpy()"
   ]
  },
  {
   "cell_type": "markdown",
   "metadata": {},
   "source": [
    "## 3. Define a classification model"
   ]
  },
  {
   "cell_type": "markdown",
   "metadata": {},
   "source": [
    "Here, we define a simple neural network with PyTorch."
   ]
  },
  {
   "cell_type": "code",
   "execution_count": 4,
   "metadata": {
    "execution": {
     "iopub.execute_input": "2022-03-08T21:50:45.786607Z",
     "iopub.status.busy": "2022-03-08T21:50:45.786296Z",
     "iopub.status.idle": "2022-03-08T21:50:46.492705Z",
     "shell.execute_reply": "2022-03-08T21:50:46.492078Z"
    }
   },
   "outputs": [],
   "source": [
    "from torch import nn\n",
    "\n",
    "class NeuralNetwork(nn.Module):\n",
    "    def __init__(self):\n",
    "        super(NeuralNetwork, self).__init__()\n",
    "        self.dropout = nn.Dropout(0.5)\n",
    "        self.hidden = nn.Linear(28*28, 128)\n",
    "        self.output = nn.Linear(128, 10)\n",
    "\n",
    "    def forward(self, X):\n",
    "        X = nn.functional.relu(self.hidden(X))\n",
    "        X = self.dropout(X)\n",
    "        X = nn.functional.softmax(self.output(X), dim=-1)\n",
    "        return X"
   ]
  },
  {
   "cell_type": "markdown",
   "metadata": {},
   "source": [
    "## 4. Wrap with Skorch for scikit-learn compatibility"
   ]
  },
  {
   "cell_type": "markdown",
   "metadata": {},
   "source": [
    "As some of Cleanlab's feature requires scikit-learn compatibility, we will need to adapt the above PyTorch neural net accordingly. Skorch is a convenient package that helps with this, read more about it here: https://skorch.readthedocs.io"
   ]
  },
  {
   "cell_type": "code",
   "execution_count": 5,
   "metadata": {
    "execution": {
     "iopub.execute_input": "2022-03-08T21:50:46.496142Z",
     "iopub.status.busy": "2022-03-08T21:50:46.495740Z",
     "iopub.status.idle": "2022-03-08T21:50:46.630516Z",
     "shell.execute_reply": "2022-03-08T21:50:46.629916Z"
    }
   },
   "outputs": [],
   "source": [
    "from skorch import NeuralNetClassifier\n",
    "\n",
    "# Wrap the PyTorch neural net around Skorch's NeuralNetClassifier wrapper\n",
    "net = NeuralNetClassifier(NeuralNetwork)"
   ]
  },
  {
   "cell_type": "markdown",
   "metadata": {},
   "source": [
    "## 5. Compute the cross-validated predicted probabilities"
   ]
  },
  {
   "cell_type": "markdown",
   "metadata": {},
   "source": [
    "If we'd like Cleanlab to identify potential label errors in the whole dataset and not just the training set, we can consider fitting the entire dataset. We will only use this model instance to compute the cross-validated predicted probabilities, ``pyx``, and not for model evaluation."
   ]
  },
  {
   "cell_type": "code",
   "execution_count": 6,
   "metadata": {
    "execution": {
     "iopub.execute_input": "2022-03-08T21:50:46.634112Z",
     "iopub.status.busy": "2022-03-08T21:50:46.633768Z",
     "iopub.status.idle": "2022-03-08T21:51:03.333526Z",
     "shell.execute_reply": "2022-03-08T21:51:03.332867Z"
    }
   },
   "outputs": [
    {
     "name": "stdout",
     "output_type": "stream",
     "text": [
      "  epoch    train_loss    valid_acc    valid_loss     dur\n",
      "-------  ------------  -----------  ------------  ------\n",
      "      1        \u001b[36m1.7593\u001b[0m       \u001b[32m0.7874\u001b[0m        \u001b[35m1.1313\u001b[0m  1.7722\n"
     ]
    },
    {
     "name": "stdout",
     "output_type": "stream",
     "text": [
      "      2        \u001b[36m0.9557\u001b[0m       \u001b[32m0.8464\u001b[0m        \u001b[35m0.6827\u001b[0m  1.7138\n"
     ]
    },
    {
     "name": "stdout",
     "output_type": "stream",
     "text": [
      "      3        \u001b[36m0.7051\u001b[0m       \u001b[32m0.8659\u001b[0m        \u001b[35m0.5387\u001b[0m  1.6778\n"
     ]
    },
    {
     "name": "stdout",
     "output_type": "stream",
     "text": [
      "      4        \u001b[36m0.6035\u001b[0m       \u001b[32m0.8812\u001b[0m        \u001b[35m0.4681\u001b[0m  1.6560\n"
     ]
    },
    {
     "name": "stdout",
     "output_type": "stream",
     "text": [
      "      5        \u001b[36m0.5429\u001b[0m       \u001b[32m0.8886\u001b[0m        \u001b[35m0.4266\u001b[0m  1.6301\n"
     ]
    },
    {
     "name": "stdout",
     "output_type": "stream",
     "text": [
      "      6        \u001b[36m0.5027\u001b[0m       \u001b[32m0.8937\u001b[0m        \u001b[35m0.3981\u001b[0m  1.6161\n"
     ]
    },
    {
     "name": "stdout",
     "output_type": "stream",
     "text": [
      "      7        \u001b[36m0.4712\u001b[0m       \u001b[32m0.8972\u001b[0m        \u001b[35m0.3763\u001b[0m  1.6026\n"
     ]
    },
    {
     "name": "stdout",
     "output_type": "stream",
     "text": [
      "      8        \u001b[36m0.4499\u001b[0m       \u001b[32m0.9007\u001b[0m        \u001b[35m0.3593\u001b[0m  1.6328\n"
     ]
    },
    {
     "name": "stdout",
     "output_type": "stream",
     "text": [
      "      9        \u001b[36m0.4306\u001b[0m       \u001b[32m0.9042\u001b[0m        \u001b[35m0.3453\u001b[0m  1.6621\n"
     ]
    },
    {
     "name": "stdout",
     "output_type": "stream",
     "text": [
      "     10        \u001b[36m0.4142\u001b[0m       \u001b[32m0.9078\u001b[0m        \u001b[35m0.3331\u001b[0m  1.6202\n"
     ]
    }
   ],
   "source": [
    "_ = net.fit(X, y)"
   ]
  },
  {
   "cell_type": "markdown",
   "metadata": {},
   "source": [
    "Compute the cross-validated predicted probabilities, ``pyx``, sometimes also known as the out-of-sample predicted probabilities."
   ]
  },
  {
   "cell_type": "code",
   "execution_count": 7,
   "metadata": {
    "execution": {
     "iopub.execute_input": "2022-03-08T21:51:03.338418Z",
     "iopub.status.busy": "2022-03-08T21:51:03.337199Z",
     "iopub.status.idle": "2022-03-08T21:51:27.225996Z",
     "shell.execute_reply": "2022-03-08T21:51:27.225435Z"
    }
   },
   "outputs": [
    {
     "name": "stdout",
     "output_type": "stream",
     "text": [
      "  epoch    train_loss    valid_acc    valid_loss     dur\n",
      "-------  ------------  -----------  ------------  ------\n",
      "      1        \u001b[36m2.0116\u001b[0m       \u001b[32m0.7250\u001b[0m        \u001b[35m1.6282\u001b[0m  0.7572\n"
     ]
    },
    {
     "name": "stdout",
     "output_type": "stream",
     "text": [
      "      2        \u001b[36m1.3080\u001b[0m       \u001b[32m0.7961\u001b[0m        \u001b[35m1.0005\u001b[0m  0.8254\n"
     ]
    },
    {
     "name": "stdout",
     "output_type": "stream",
     "text": [
      "      3        \u001b[36m0.9244\u001b[0m       \u001b[32m0.8291\u001b[0m        \u001b[35m0.7476\u001b[0m  0.7599\n"
     ]
    },
    {
     "name": "stdout",
     "output_type": "stream",
     "text": [
      "      4        \u001b[36m0.7557\u001b[0m       \u001b[32m0.8455\u001b[0m        \u001b[35m0.6282\u001b[0m  0.7882\n"
     ]
    },
    {
     "name": "stdout",
     "output_type": "stream",
     "text": [
      "      5        \u001b[36m0.6624\u001b[0m       \u001b[32m0.8598\u001b[0m        \u001b[35m0.5579\u001b[0m  0.7799\n"
     ]
    },
    {
     "name": "stdout",
     "output_type": "stream",
     "text": [
      "      6        \u001b[36m0.5991\u001b[0m       \u001b[32m0.8673\u001b[0m        \u001b[35m0.5112\u001b[0m  0.8064\n"
     ]
    },
    {
     "name": "stdout",
     "output_type": "stream",
     "text": [
      "      7        \u001b[36m0.5596\u001b[0m       \u001b[32m0.8712\u001b[0m        \u001b[35m0.4784\u001b[0m  0.8726\n"
     ]
    },
    {
     "name": "stdout",
     "output_type": "stream",
     "text": [
      "      8        \u001b[36m0.5282\u001b[0m       \u001b[32m0.8774\u001b[0m        \u001b[35m0.4524\u001b[0m  0.7750\n"
     ]
    },
    {
     "name": "stdout",
     "output_type": "stream",
     "text": [
      "      9        \u001b[36m0.5021\u001b[0m       \u001b[32m0.8784\u001b[0m        \u001b[35m0.4326\u001b[0m  0.7706\n"
     ]
    },
    {
     "name": "stdout",
     "output_type": "stream",
     "text": [
      "     10        \u001b[36m0.4801\u001b[0m       \u001b[32m0.8815\u001b[0m        \u001b[35m0.4166\u001b[0m  0.7541\n"
     ]
    },
    {
     "name": "stdout",
     "output_type": "stream",
     "text": [
      "  epoch    train_loss    valid_acc    valid_loss     dur\n",
      "-------  ------------  -----------  ------------  ------\n",
      "      1        \u001b[36m2.0139\u001b[0m       \u001b[32m0.7295\u001b[0m        \u001b[35m1.6013\u001b[0m  0.7403\n"
     ]
    },
    {
     "name": "stdout",
     "output_type": "stream",
     "text": [
      "      2        \u001b[36m1.2928\u001b[0m       \u001b[32m0.8048\u001b[0m        \u001b[35m0.9614\u001b[0m  0.7350\n"
     ]
    },
    {
     "name": "stdout",
     "output_type": "stream",
     "text": [
      "      3        \u001b[36m0.9058\u001b[0m       \u001b[32m0.8340\u001b[0m        \u001b[35m0.7152\u001b[0m  0.7473\n"
     ]
    },
    {
     "name": "stdout",
     "output_type": "stream",
     "text": [
      "      4        \u001b[36m0.7442\u001b[0m       \u001b[32m0.8526\u001b[0m        \u001b[35m0.5986\u001b[0m  0.7385\n"
     ]
    },
    {
     "name": "stdout",
     "output_type": "stream",
     "text": [
      "      5        \u001b[36m0.6532\u001b[0m       \u001b[32m0.8672\u001b[0m        \u001b[35m0.5300\u001b[0m  0.7373\n"
     ]
    },
    {
     "name": "stdout",
     "output_type": "stream",
     "text": [
      "      6        \u001b[36m0.5957\u001b[0m       \u001b[32m0.8740\u001b[0m        \u001b[35m0.4843\u001b[0m  0.7152\n"
     ]
    },
    {
     "name": "stdout",
     "output_type": "stream",
     "text": [
      "      7        \u001b[36m0.5584\u001b[0m       \u001b[32m0.8822\u001b[0m        \u001b[35m0.4518\u001b[0m  0.7104\n"
     ]
    },
    {
     "name": "stdout",
     "output_type": "stream",
     "text": [
      "      8        \u001b[36m0.5188\u001b[0m       \u001b[32m0.8865\u001b[0m        \u001b[35m0.4264\u001b[0m  0.7075\n"
     ]
    },
    {
     "name": "stdout",
     "output_type": "stream",
     "text": [
      "      9        \u001b[36m0.4944\u001b[0m       \u001b[32m0.8902\u001b[0m        \u001b[35m0.4060\u001b[0m  0.7238\n"
     ]
    },
    {
     "name": "stdout",
     "output_type": "stream",
     "text": [
      "     10        \u001b[36m0.4743\u001b[0m       \u001b[32m0.8949\u001b[0m        \u001b[35m0.3898\u001b[0m  0.7308\n"
     ]
    },
    {
     "name": "stdout",
     "output_type": "stream",
     "text": [
      "  epoch    train_loss    valid_acc    valid_loss     dur\n",
      "-------  ------------  -----------  ------------  ------\n",
      "      1        \u001b[36m1.9964\u001b[0m       \u001b[32m0.7318\u001b[0m        \u001b[35m1.5636\u001b[0m  0.7256\n"
     ]
    },
    {
     "name": "stdout",
     "output_type": "stream",
     "text": [
      "      2        \u001b[36m1.2818\u001b[0m       \u001b[32m0.8017\u001b[0m        \u001b[35m0.9445\u001b[0m  0.7407\n"
     ]
    },
    {
     "name": "stdout",
     "output_type": "stream",
     "text": [
      "      3        \u001b[36m0.9178\u001b[0m       \u001b[32m0.8408\u001b[0m        \u001b[35m0.7048\u001b[0m  0.7430\n"
     ]
    },
    {
     "name": "stdout",
     "output_type": "stream",
     "text": [
      "      4        \u001b[36m0.7557\u001b[0m       \u001b[32m0.8592\u001b[0m        \u001b[35m0.5903\u001b[0m  0.7298\n"
     ]
    },
    {
     "name": "stdout",
     "output_type": "stream",
     "text": [
      "      5        \u001b[36m0.6643\u001b[0m       \u001b[32m0.8730\u001b[0m        \u001b[35m0.5214\u001b[0m  0.7304\n"
     ]
    },
    {
     "name": "stdout",
     "output_type": "stream",
     "text": [
      "      6        \u001b[36m0.6060\u001b[0m       \u001b[32m0.8813\u001b[0m        \u001b[35m0.4763\u001b[0m  0.7460\n"
     ]
    },
    {
     "name": "stdout",
     "output_type": "stream",
     "text": [
      "      7        \u001b[36m0.5665\u001b[0m       \u001b[32m0.8858\u001b[0m        \u001b[35m0.4435\u001b[0m  0.7297\n"
     ]
    },
    {
     "name": "stdout",
     "output_type": "stream",
     "text": [
      "      8        \u001b[36m0.5339\u001b[0m       \u001b[32m0.8912\u001b[0m        \u001b[35m0.4189\u001b[0m  0.7249\n"
     ]
    },
    {
     "name": "stdout",
     "output_type": "stream",
     "text": [
      "      9        \u001b[36m0.5063\u001b[0m       \u001b[32m0.8949\u001b[0m        \u001b[35m0.3987\u001b[0m  0.7188\n"
     ]
    },
    {
     "name": "stdout",
     "output_type": "stream",
     "text": [
      "     10        \u001b[36m0.4895\u001b[0m       \u001b[32m0.8982\u001b[0m        \u001b[35m0.3833\u001b[0m  0.7046\n"
     ]
    }
   ],
   "source": [
    "from sklearn.model_selection import cross_val_predict\n",
    "\n",
    "pyx = cross_val_predict(net, X, y, cv=3, method='predict_proba')"
   ]
  },
  {
   "cell_type": "markdown",
   "metadata": {},
   "source": [
    "## 6. Run Cleanlab to find potential label errors"
   ]
  },
  {
   "cell_type": "markdown",
   "metadata": {},
   "source": [
    "Cleanlab has a ``get_noise_indices`` function to generate a list of potential label errors. Setting ``sorted_index_method=\"prob_given_label\"`` returns the indices of all the most likely label errors, sorted by the most suspicious example first."
   ]
  },
  {
   "cell_type": "code",
   "execution_count": 8,
   "metadata": {
    "execution": {
     "iopub.execute_input": "2022-03-08T21:51:27.229621Z",
     "iopub.status.busy": "2022-03-08T21:51:27.229321Z",
     "iopub.status.idle": "2022-03-08T21:51:27.651171Z",
     "shell.execute_reply": "2022-03-08T21:51:27.650460Z"
    }
   },
   "outputs": [],
   "source": [
    "from cleanlab.pruning import get_noise_indices\n",
    "\n",
    "ordered_label_errors = get_noise_indices(\n",
    "    s=y,\n",
    "    psx=pyx,\n",
    "    sorted_index_method=\"prob_given_label\"\n",
    ")"
   ]
  },
  {
   "cell_type": "markdown",
   "metadata": {},
   "source": [
    "## 7. Review some of the most likely mislabeled examples"
   ]
  },
  {
   "cell_type": "code",
   "execution_count": 9,
   "metadata": {
    "execution": {
     "iopub.execute_input": "2022-03-08T21:51:27.654419Z",
     "iopub.status.busy": "2022-03-08T21:51:27.654095Z",
     "iopub.status.idle": "2022-03-08T21:51:27.659212Z",
     "shell.execute_reply": "2022-03-08T21:51:27.658706Z"
    }
   },
   "outputs": [
    {
     "name": "stdout",
     "output_type": "stream",
     "text": [
      "Cleanlab found 1194 potential label errors. Here are the indices of the top 15 most likely ones: \n",
      " [24798 18598  8729 20820 61790  1352 31134 15942 59915 39457 55739 53216\n",
      " 20735 12679 11208]\n"
     ]
    }
   ],
   "source": [
    "print(f\"Cleanlab found {len(ordered_label_errors)} potential label errors. Here are the indices of the top 15 most likely ones: \\n {ordered_label_errors[:15]}\")"
   ]
  },
  {
   "cell_type": "markdown",
   "metadata": {},
   "source": [
    "We'll define a new ``plot_examples`` function to display any examples in a subplot conveniently."
   ]
  },
  {
   "cell_type": "code",
   "execution_count": 10,
   "metadata": {
    "execution": {
     "iopub.execute_input": "2022-03-08T21:51:27.661696Z",
     "iopub.status.busy": "2022-03-08T21:51:27.661369Z",
     "iopub.status.idle": "2022-03-08T21:51:28.472331Z",
     "shell.execute_reply": "2022-03-08T21:51:28.471697Z"
    }
   },
   "outputs": [],
   "source": [
    "import matplotlib.pyplot as plt\n",
    "\n",
    "def plot_examples(id_iter, nrows=1, ncols=1):\n",
    "    for count, id in enumerate(id_iter):\n",
    "        plt.subplot(nrows, ncols, count+1)\n",
    "        plt.imshow(X[id].reshape(28, 28))\n",
    "        plt.title(f\"id: {id} \\n label: {y[id]}\")\n",
    "        plt.axis('off')\n",
    "\n",
    "    plt.tight_layout(h_pad=2.0)"
   ]
  },
  {
   "cell_type": "markdown",
   "metadata": {},
   "source": [
    "Let's start by having an overview of the top 15 most likely label errors. From here, we can see a few label errors and edge cases. Feel free to change the parameters to display more or fewer examples. "
   ]
  },
  {
   "cell_type": "code",
   "execution_count": 11,
   "metadata": {
    "execution": {
     "iopub.execute_input": "2022-03-08T21:51:28.476360Z",
     "iopub.status.busy": "2022-03-08T21:51:28.475992Z",
     "iopub.status.idle": "2022-03-08T21:51:28.950304Z",
     "shell.execute_reply": "2022-03-08T21:51:28.949618Z"
    }
   },
   "outputs": [
    {
     "data": {
      "image/png": "[encoded data removed]",
      "text/plain": [
       "<Figure size 432x288 with 15 Axes>"
      ]
     },
     "metadata": {
      "needs_background": "light"
     },
     "output_type": "display_data"
    }
   ],
   "source": [
    "plot_examples(ordered_label_errors[range(15)], 3, 5)"
   ]
  },
  {
   "cell_type": "markdown",
   "metadata": {},
   "source": [
    "Let's zoom into specific examples:"
   ]
  },
  {
   "cell_type": "markdown",
   "metadata": {},
   "source": [
    "Given label is **4** but looks more like a **7**"
   ]
  },
  {
   "cell_type": "code",
   "execution_count": 12,
   "metadata": {
    "execution": {
     "iopub.execute_input": "2022-03-08T21:51:28.953569Z",
     "iopub.status.busy": "2022-03-08T21:51:28.953226Z",
     "iopub.status.idle": "2022-03-08T21:51:29.008323Z",
     "shell.execute_reply": "2022-03-08T21:51:29.007807Z"
    }
   },
   "outputs": [
    {
     "data": {
      "image/png": "[encoded data removed]",
      "text/plain": [
       "<Figure size 432x288 with 1 Axes>"
      ]
     },
     "metadata": {
      "needs_background": "light"
     },
     "output_type": "display_data"
    }
   ],
   "source": [
    "plot_examples([59915])"
   ]
  },
  {
   "cell_type": "markdown",
   "metadata": {},
   "source": [
    "Given label is **4** but also looks like **9**"
   ]
  },
  {
   "cell_type": "code",
   "execution_count": 13,
   "metadata": {
    "execution": {
     "iopub.execute_input": "2022-03-08T21:51:29.011592Z",
     "iopub.status.busy": "2022-03-08T21:51:29.011163Z",
     "iopub.status.idle": "2022-03-08T21:51:29.064984Z",
     "shell.execute_reply": "2022-03-08T21:51:29.064443Z"
    }
   },
   "outputs": [
    {
     "data": {
      "image/png": "[encoded data removed]",
      "text/plain": [
       "<Figure size 432x288 with 1 Axes>"
      ]
     },
     "metadata": {
      "needs_background": "light"
     },
     "output_type": "display_data"
    }
   ],
   "source": [
    "plot_examples([24798])"
   ]
  },
  {
   "cell_type": "markdown",
   "metadata": {},
   "source": [
    "Edge case of odd looking **9**s"
   ]
  },
  {
   "cell_type": "code",
   "execution_count": 14,
   "metadata": {
    "execution": {
     "iopub.execute_input": "2022-03-08T21:51:29.068305Z",
     "iopub.status.busy": "2022-03-08T21:51:29.067866Z",
     "iopub.status.idle": "2022-03-08T21:51:29.270166Z",
     "shell.execute_reply": "2022-03-08T21:51:29.269538Z"
    }
   },
   "outputs": [
    {
     "data": {
      "image/png": "[encoded data removed]",
      "text/plain": [
       "<Figure size 432x288 with 3 Axes>"
      ]
     },
     "metadata": {
      "needs_background": "light"
     },
     "output_type": "display_data"
    }
   ],
   "source": [
    "plot_examples([18598, 1352, 61247], 1, 3)"
   ]
  },
  {
   "cell_type": "markdown",
   "metadata": {},
   "source": [
    "Cleanlab has shortlisted the most likely label errors to speed up your data cleaning process. With this list, you can decide whether to fix label errors, augment edge cases or remove obscure examples. \n",
    "\n",
    "These human-in-the-loop processes may be time-consuming, so if you'd like Cleanlab to automatically remove these noisy examples and train a model directly on the partially mislabeled dataset, you're in luck! Cleanlab provides a ``LearningWithNoisyLabels`` wrapper to do precisely this:"
   ]
  },
  {
   "cell_type": "markdown",
   "metadata": {},
   "source": [
    "## 8. Adapt with Cleanlab's wrapper and train a more robust model"
   ]
  },
  {
   "cell_type": "markdown",
   "metadata": {},
   "source": [
    "First, we split the dataset into train and test subsets."
   ]
  },
  {
   "cell_type": "code",
   "execution_count": 15,
   "metadata": {
    "execution": {
     "iopub.execute_input": "2022-03-08T21:51:29.273902Z",
     "iopub.status.busy": "2022-03-08T21:51:29.272744Z",
     "iopub.status.idle": "2022-03-08T21:51:29.943487Z",
     "shell.execute_reply": "2022-03-08T21:51:29.942887Z"
    }
   },
   "outputs": [],
   "source": [
    "from sklearn.model_selection import train_test_split\n",
    "\n",
    "X_train, X_test, y_train, y_test = train_test_split(X, y, test_size=0.2)"
   ]
  },
  {
   "cell_type": "markdown",
   "metadata": {},
   "source": [
    "Re-instantiate a new scikit-learn compatible model with Skorch then wrap it with Cleanlab's ``LearningWithNoisyLabels`` wrapper."
   ]
  },
  {
   "cell_type": "code",
   "execution_count": 16,
   "metadata": {
    "execution": {
     "iopub.execute_input": "2022-03-08T21:51:29.947206Z",
     "iopub.status.busy": "2022-03-08T21:51:29.946777Z",
     "iopub.status.idle": "2022-03-08T21:51:29.951249Z",
     "shell.execute_reply": "2022-03-08T21:51:29.950791Z"
    }
   },
   "outputs": [],
   "source": [
    "from cleanlab.classification import LearningWithNoisyLabels\n",
    "\n",
    "net = NeuralNetClassifier(NeuralNetwork)\n",
    "clf = LearningWithNoisyLabels(clf=net)"
   ]
  },
  {
   "cell_type": "code",
   "execution_count": 17,
   "metadata": {
    "execution": {
     "iopub.execute_input": "2022-03-08T21:51:29.953592Z",
     "iopub.status.busy": "2022-03-08T21:51:29.953326Z",
     "iopub.status.idle": "2022-03-08T21:52:15.298960Z",
     "shell.execute_reply": "2022-03-08T21:52:15.298369Z"
    }
   },
   "outputs": [
    {
     "name": "stdout",
     "output_type": "stream",
     "text": [
      "  epoch    train_loss    valid_acc    valid_loss     dur\n",
      "-------  ------------  -----------  ------------  ------\n",
      "      1        \u001b[36m2.0124\u001b[0m       \u001b[32m0.7302\u001b[0m        \u001b[35m1.6222\u001b[0m  0.6668\n"
     ]
    },
    {
     "name": "stdout",
     "output_type": "stream",
     "text": [
      "      2        \u001b[36m1.3194\u001b[0m       \u001b[32m0.8075\u001b[0m        \u001b[35m0.9877\u001b[0m  0.6736\n"
     ]
    },
    {
     "name": "stdout",
     "output_type": "stream",
     "text": [
      "      3        \u001b[36m0.9310\u001b[0m       \u001b[32m0.8413\u001b[0m        \u001b[35m0.7297\u001b[0m  0.6870\n"
     ]
    },
    {
     "name": "stdout",
     "output_type": "stream",
     "text": [
      "      4        \u001b[36m0.7640\u001b[0m       \u001b[32m0.8594\u001b[0m        \u001b[35m0.6104\u001b[0m  0.6907\n"
     ]
    },
    {
     "name": "stdout",
     "output_type": "stream",
     "text": [
      "      5        \u001b[36m0.6754\u001b[0m       \u001b[32m0.8701\u001b[0m        \u001b[35m0.5421\u001b[0m  0.7068\n"
     ]
    },
    {
     "name": "stdout",
     "output_type": "stream",
     "text": [
      "      6        \u001b[36m0.6136\u001b[0m       \u001b[32m0.8772\u001b[0m        \u001b[35m0.4962\u001b[0m  0.7130\n"
     ]
    },
    {
     "name": "stdout",
     "output_type": "stream",
     "text": [
      "      7        \u001b[36m0.5730\u001b[0m       \u001b[32m0.8815\u001b[0m        \u001b[35m0.4641\u001b[0m  0.7065\n"
     ]
    },
    {
     "name": "stdout",
     "output_type": "stream",
     "text": [
      "      8        \u001b[36m0.5405\u001b[0m       \u001b[32m0.8863\u001b[0m        \u001b[35m0.4392\u001b[0m  0.6987\n"
     ]
    },
    {
     "name": "stdout",
     "output_type": "stream",
     "text": [
      "      9        \u001b[36m0.5135\u001b[0m       \u001b[32m0.8920\u001b[0m        \u001b[35m0.4198\u001b[0m  0.6932\n"
     ]
    },
    {
     "name": "stdout",
     "output_type": "stream",
     "text": [
      "     10        \u001b[36m0.4939\u001b[0m       \u001b[32m0.8942\u001b[0m        \u001b[35m0.4038\u001b[0m  0.6812\n"
     ]
    },
    {
     "name": "stdout",
     "output_type": "stream",
     "text": [
      "  epoch    train_loss    valid_acc    valid_loss     dur\n",
      "-------  ------------  -----------  ------------  ------\n",
      "      1        \u001b[36m2.0374\u001b[0m       \u001b[32m0.6972\u001b[0m        \u001b[35m1.6672\u001b[0m  0.6874\n"
     ]
    },
    {
     "name": "stdout",
     "output_type": "stream",
     "text": [
      "      2        \u001b[36m1.3512\u001b[0m       \u001b[32m0.8121\u001b[0m        \u001b[35m1.0103\u001b[0m  0.6899\n"
     ]
    },
    {
     "name": "stdout",
     "output_type": "stream",
     "text": [
      "      3        \u001b[36m0.9448\u001b[0m       \u001b[32m0.8448\u001b[0m        \u001b[35m0.7399\u001b[0m  0.6950\n"
     ]
    },
    {
     "name": "stdout",
     "output_type": "stream",
     "text": [
      "      4        \u001b[36m0.7708\u001b[0m       \u001b[32m0.8607\u001b[0m        \u001b[35m0.6149\u001b[0m  0.6992\n"
     ]
    },
    {
     "name": "stdout",
     "output_type": "stream",
     "text": [
      "      5        \u001b[36m0.6744\u001b[0m       \u001b[32m0.8718\u001b[0m        \u001b[35m0.5418\u001b[0m  0.6969\n"
     ]
    },
    {
     "name": "stdout",
     "output_type": "stream",
     "text": [
      "      6        \u001b[36m0.6162\u001b[0m       \u001b[32m0.8783\u001b[0m        \u001b[35m0.4946\u001b[0m  0.6933\n"
     ]
    },
    {
     "name": "stdout",
     "output_type": "stream",
     "text": [
      "      7        \u001b[36m0.5714\u001b[0m       \u001b[32m0.8837\u001b[0m        \u001b[35m0.4612\u001b[0m  0.7201\n"
     ]
    },
    {
     "name": "stdout",
     "output_type": "stream",
     "text": [
      "      8        \u001b[36m0.5384\u001b[0m       \u001b[32m0.8866\u001b[0m        \u001b[35m0.4357\u001b[0m  0.7677\n"
     ]
    },
    {
     "name": "stdout",
     "output_type": "stream",
     "text": [
      "      9        \u001b[36m0.5131\u001b[0m       \u001b[32m0.8915\u001b[0m        \u001b[35m0.4158\u001b[0m  0.7055\n"
     ]
    },
    {
     "name": "stdout",
     "output_type": "stream",
     "text": [
      "     10        \u001b[36m0.4905\u001b[0m       \u001b[32m0.8944\u001b[0m        \u001b[35m0.3991\u001b[0m  0.7002\n"
     ]
    },
    {
     "name": "stdout",
     "output_type": "stream",
     "text": [
      "  epoch    train_loss    valid_acc    valid_loss     dur\n",
      "-------  ------------  -----------  ------------  ------\n",
      "      1        \u001b[36m1.9888\u001b[0m       \u001b[32m0.7345\u001b[0m        \u001b[35m1.5773\u001b[0m  0.7104\n"
     ]
    },
    {
     "name": "stdout",
     "output_type": "stream",
     "text": [
      "      2        \u001b[36m1.2997\u001b[0m       \u001b[32m0.8172\u001b[0m        \u001b[35m0.9647\u001b[0m  0.7125\n"
     ]
    },
    {
     "name": "stdout",
     "output_type": "stream",
     "text": [
      "      3        \u001b[36m0.9284\u001b[0m       \u001b[32m0.8475\u001b[0m        \u001b[35m0.7164\u001b[0m  0.7144\n"
     ]
    },
    {
     "name": "stdout",
     "output_type": "stream",
     "text": [
      "      4        \u001b[36m0.7649\u001b[0m       \u001b[32m0.8646\u001b[0m        \u001b[35m0.5993\u001b[0m  0.7100\n"
     ]
    },
    {
     "name": "stdout",
     "output_type": "stream",
     "text": [
      "      5        \u001b[36m0.6710\u001b[0m       \u001b[32m0.8722\u001b[0m        \u001b[35m0.5303\u001b[0m  0.7102\n"
     ]
    },
    {
     "name": "stdout",
     "output_type": "stream",
     "text": [
      "      6        \u001b[36m0.6088\u001b[0m       \u001b[32m0.8778\u001b[0m        \u001b[35m0.4858\u001b[0m  0.7096\n"
     ]
    },
    {
     "name": "stdout",
     "output_type": "stream",
     "text": [
      "      7        \u001b[36m0.5638\u001b[0m       \u001b[32m0.8833\u001b[0m        \u001b[35m0.4531\u001b[0m  0.7021\n"
     ]
    },
    {
     "name": "stdout",
     "output_type": "stream",
     "text": [
      "      8        \u001b[36m0.5353\u001b[0m       \u001b[32m0.8875\u001b[0m        \u001b[35m0.4295\u001b[0m  0.6968\n"
     ]
    },
    {
     "name": "stdout",
     "output_type": "stream",
     "text": [
      "      9        \u001b[36m0.5119\u001b[0m       \u001b[32m0.8895\u001b[0m        \u001b[35m0.4102\u001b[0m  0.7155\n"
     ]
    },
    {
     "name": "stdout",
     "output_type": "stream",
     "text": [
      "     10        \u001b[36m0.4919\u001b[0m       \u001b[32m0.8931\u001b[0m        \u001b[35m0.3954\u001b[0m  0.7054\n"
     ]
    },
    {
     "name": "stdout",
     "output_type": "stream",
     "text": [
      "  epoch    train_loss    valid_acc    valid_loss     dur\n",
      "-------  ------------  -----------  ------------  ------\n",
      "      1        \u001b[36m1.9981\u001b[0m       \u001b[32m0.7507\u001b[0m        \u001b[35m1.5894\u001b[0m  0.7083\n"
     ]
    },
    {
     "name": "stdout",
     "output_type": "stream",
     "text": [
      "      2        \u001b[36m1.2991\u001b[0m       \u001b[32m0.8163\u001b[0m        \u001b[35m0.9661\u001b[0m  0.7084\n"
     ]
    },
    {
     "name": "stdout",
     "output_type": "stream",
     "text": [
      "      3        \u001b[36m0.9213\u001b[0m       \u001b[32m0.8470\u001b[0m        \u001b[35m0.7160\u001b[0m  0.7025\n"
     ]
    },
    {
     "name": "stdout",
     "output_type": "stream",
     "text": [
      "      4        \u001b[36m0.7604\u001b[0m       \u001b[32m0.8603\u001b[0m        \u001b[35m0.6000\u001b[0m  0.7054\n"
     ]
    },
    {
     "name": "stdout",
     "output_type": "stream",
     "text": [
      "      5        \u001b[36m0.6712\u001b[0m       \u001b[32m0.8704\u001b[0m        \u001b[35m0.5311\u001b[0m  0.7005\n"
     ]
    },
    {
     "name": "stdout",
     "output_type": "stream",
     "text": [
      "      6        \u001b[36m0.6125\u001b[0m       \u001b[32m0.8768\u001b[0m        \u001b[35m0.4863\u001b[0m  0.7180\n"
     ]
    },
    {
     "name": "stdout",
     "output_type": "stream",
     "text": [
      "      7        \u001b[36m0.5683\u001b[0m       \u001b[32m0.8829\u001b[0m        \u001b[35m0.4531\u001b[0m  0.6972\n"
     ]
    },
    {
     "name": "stdout",
     "output_type": "stream",
     "text": [
      "      8        \u001b[36m0.5359\u001b[0m       \u001b[32m0.8887\u001b[0m        \u001b[35m0.4283\u001b[0m  0.6858\n"
     ]
    },
    {
     "name": "stdout",
     "output_type": "stream",
     "text": [
      "      9        \u001b[36m0.5131\u001b[0m       \u001b[32m0.8926\u001b[0m        \u001b[35m0.4095\u001b[0m  0.6906\n"
     ]
    },
    {
     "name": "stdout",
     "output_type": "stream",
     "text": [
      "     10        \u001b[36m0.4887\u001b[0m       \u001b[32m0.8942\u001b[0m        \u001b[35m0.3927\u001b[0m  0.6748\n"
     ]
    },
    {
     "name": "stdout",
     "output_type": "stream",
     "text": [
      "  epoch    train_loss    valid_acc    valid_loss     dur\n",
      "-------  ------------  -----------  ------------  ------\n",
      "      1        \u001b[36m2.0150\u001b[0m       \u001b[32m0.7449\u001b[0m        \u001b[35m1.6122\u001b[0m  0.6771\n"
     ]
    },
    {
     "name": "stdout",
     "output_type": "stream",
     "text": [
      "      2        \u001b[36m1.3160\u001b[0m       \u001b[32m0.8160\u001b[0m        \u001b[35m0.9743\u001b[0m  0.6834\n"
     ]
    },
    {
     "name": "stdout",
     "output_type": "stream",
     "text": [
      "      3        \u001b[36m0.9382\u001b[0m       \u001b[32m0.8440\u001b[0m        \u001b[35m0.7237\u001b[0m  0.6746\n"
     ]
    },
    {
     "name": "stdout",
     "output_type": "stream",
     "text": [
      "      4        \u001b[36m0.7711\u001b[0m       \u001b[32m0.8588\u001b[0m        \u001b[35m0.6044\u001b[0m  0.6854\n"
     ]
    },
    {
     "name": "stdout",
     "output_type": "stream",
     "text": [
      "      5        \u001b[36m0.6729\u001b[0m       \u001b[32m0.8680\u001b[0m        \u001b[35m0.5352\u001b[0m  0.6656\n"
     ]
    },
    {
     "name": "stdout",
     "output_type": "stream",
     "text": [
      "      6        \u001b[36m0.6203\u001b[0m       \u001b[32m0.8760\u001b[0m        \u001b[35m0.4903\u001b[0m  0.6650\n"
     ]
    },
    {
     "name": "stdout",
     "output_type": "stream",
     "text": [
      "      7        \u001b[36m0.5713\u001b[0m       \u001b[32m0.8854\u001b[0m        \u001b[35m0.4564\u001b[0m  0.6656\n"
     ]
    },
    {
     "name": "stdout",
     "output_type": "stream",
     "text": [
      "      8        \u001b[36m0.5419\u001b[0m       \u001b[32m0.8871\u001b[0m        \u001b[35m0.4321\u001b[0m  0.6644\n"
     ]
    },
    {
     "name": "stdout",
     "output_type": "stream",
     "text": [
      "      9        \u001b[36m0.5177\u001b[0m       \u001b[32m0.8905\u001b[0m        \u001b[35m0.4124\u001b[0m  0.6687\n"
     ]
    },
    {
     "name": "stdout",
     "output_type": "stream",
     "text": [
      "     10        \u001b[36m0.4951\u001b[0m       \u001b[32m0.8953\u001b[0m        \u001b[35m0.3955\u001b[0m  0.6772\n"
     ]
    },
    {
     "name": "stdout",
     "output_type": "stream",
     "text": [
      "  epoch    train_loss    valid_acc    valid_loss     dur\n",
      "-------  ------------  -----------  ------------  ------\n",
      "      1        \u001b[36m1.8856\u001b[0m       \u001b[32m0.7982\u001b[0m        \u001b[35m1.3491\u001b[0m  0.8359\n"
     ]
    },
    {
     "name": "stdout",
     "output_type": "stream",
     "text": [
      "      2        \u001b[36m1.0863\u001b[0m       \u001b[32m0.8504\u001b[0m        \u001b[35m0.7688\u001b[0m  0.8462\n"
     ]
    },
    {
     "name": "stdout",
     "output_type": "stream",
     "text": [
      "      3        \u001b[36m0.7681\u001b[0m       \u001b[32m0.8739\u001b[0m        \u001b[35m0.5739\u001b[0m  0.8530\n"
     ]
    },
    {
     "name": "stdout",
     "output_type": "stream",
     "text": [
      "      4        \u001b[36m0.6279\u001b[0m       \u001b[32m0.8868\u001b[0m        \u001b[35m0.4791\u001b[0m  0.8965\n"
     ]
    },
    {
     "name": "stdout",
     "output_type": "stream",
     "text": [
      "      5        \u001b[36m0.5539\u001b[0m       \u001b[32m0.8958\u001b[0m        \u001b[35m0.4236\u001b[0m  0.9157\n"
     ]
    },
    {
     "name": "stdout",
     "output_type": "stream",
     "text": [
      "      6        \u001b[36m0.5062\u001b[0m       \u001b[32m0.9011\u001b[0m        \u001b[35m0.3870\u001b[0m  0.8908\n"
     ]
    },
    {
     "name": "stdout",
     "output_type": "stream",
     "text": [
      "      7        \u001b[36m0.4728\u001b[0m       \u001b[32m0.9057\u001b[0m        \u001b[35m0.3599\u001b[0m  0.9009\n"
     ]
    },
    {
     "name": "stdout",
     "output_type": "stream",
     "text": [
      "      8        \u001b[36m0.4431\u001b[0m       \u001b[32m0.9084\u001b[0m        \u001b[35m0.3397\u001b[0m  0.8977\n"
     ]
    },
    {
     "name": "stdout",
     "output_type": "stream",
     "text": [
      "      9        \u001b[36m0.4223\u001b[0m       \u001b[32m0.9120\u001b[0m        \u001b[35m0.3237\u001b[0m  0.8824\n"
     ]
    },
    {
     "name": "stdout",
     "output_type": "stream",
     "text": [
      "     10        \u001b[36m0.4038\u001b[0m       \u001b[32m0.9150\u001b[0m        \u001b[35m0.3104\u001b[0m  0.8780\n"
     ]
    }
   ],
   "source": [
    "_ = clf.fit(X_train, y_train.to_numpy())"
   ]
  },
  {
   "cell_type": "markdown",
   "metadata": {},
   "source": [
    "## 9. Evaluate the robust model's performance"
   ]
  },
  {
   "cell_type": "code",
   "execution_count": 18,
   "metadata": {
    "execution": {
     "iopub.execute_input": "2022-03-08T21:52:15.301905Z",
     "iopub.status.busy": "2022-03-08T21:52:15.301569Z",
     "iopub.status.idle": "2022-03-08T21:52:15.504106Z",
     "shell.execute_reply": "2022-03-08T21:52:15.503679Z"
    }
   },
   "outputs": [
    {
     "data": {
      "text/plain": [
       "0.8988571428571429"
      ]
     },
     "execution_count": 18,
     "metadata": {},
     "output_type": "execute_result"
    }
   ],
   "source": [
    "from sklearn.metrics import accuracy_score\n",
    "\n",
    "y_pred = clf.predict(X_test)\n",
    "accuracy_score(y_test, y_pred)"
   ]
  },
  {
   "cell_type": "markdown",
   "metadata": {},
   "source": [
    "## What's next?"
   ]
  },
  {
   "cell_type": "markdown",
   "metadata": {},
   "source": [
    "Congratulations on completing this tutorial! Check out our following tutorial on using Cleanlab for text classification, where we found ``hundreds`` of potential label errors in one of the most well-known text datasets, the IMBDb movie review dataset!"
   ]
  }
 ],
 "metadata": {
  "interpreter": {
   "hash": "ced20e3e49bb4fa4ce8ad38f8f2535b7fc4c39b2b89554502b5dbdad1ad67eda"
  },
  "kernelspec": {
   "display_name": "Python 3.10.0 64-bit",
   "language": "python",
   "name": "python3"
  },
  "language_info": {
   "codemirror_mode": {
    "name": "ipython",
    "version": 3
   },
   "file_extension": ".py",
   "mimetype": "text/x-python",
   "name": "python",
   "nbconvert_exporter": "python",
   "pygments_lexer": "ipython3",
   "version": "3.8.12"
  }
 },
 "nbformat": 4,
 "nbformat_minor": 2
}
