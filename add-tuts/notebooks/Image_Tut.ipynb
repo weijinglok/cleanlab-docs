{
 "cells": [
  {
   "cell_type": "markdown",
   "metadata": {},
   "source": [
    "# Image Classification with Cleanlab, PyTorch & Skorch"
   ]
  },
  {
   "cell_type": "markdown",
   "metadata": {},
   "source": [
    "This tutorial will use Cleanlab to find potential label errors in the MNIST handwritten digit image dataset. This dataset contains 60,000 images of handwritten digits from 0 to 9. We'll find *more than a thousand* highly suspicious examples with label errors and edge cases by the end of this tutorial. \n",
    "\n",
    "**Overview of what we'll do in this tutorial:**\n",
    "\n",
    "- Build a simple PyTorch neural net and wrap it with Skorch to make it scikit-learn compatible.\n",
    "\n",
    "- Compute the cross-validated predicted probabilities, ``pyx``, sometimes known as the out-of-sample predicted probabilities.\n",
    "\n",
    "- Generate a list of potential label errors with Cleanlab's ``get_noise_indices``.\n",
    "\n",
    "- Build and train a more robust model than the vanilla model after adapting it with Cleanlab's ``LearningWithNoisyLabels``. \n",
    "\n",
    "**Data:** https://www.openml.org/d/554"
   ]
  },
  {
   "cell_type": "markdown",
   "metadata": {},
   "source": [
    "## 1. Install the required dependencies"
   ]
  },
  {
   "cell_type": "markdown",
   "metadata": {},
   "source": [
    "``%%capture`` is a magic function to hides the cell's output."
   ]
  },
  {
   "cell_type": "code",
   "execution_count": 1,
   "metadata": {
    "execution": {
     "iopub.execute_input": "2022-03-09T02:40:30.011592Z",
     "iopub.status.busy": "2022-03-09T02:40:30.010994Z",
     "iopub.status.idle": "2022-03-09T02:40:58.271373Z",
     "shell.execute_reply": "2022-03-09T02:40:58.270740Z"
    }
   },
   "outputs": [],
   "source": [
    "%%capture\n",
    "\n",
    "%pip install cleanlab pandas matplotlib torch torchvision skorch"
   ]
  },
  {
   "cell_type": "markdown",
   "metadata": {},
   "source": [
    "## 2. Fetch and scale the MNIST dataset"
   ]
  },
  {
   "cell_type": "code",
   "execution_count": 2,
   "metadata": {
    "execution": {
     "iopub.execute_input": "2022-03-09T02:40:58.274262Z",
     "iopub.status.busy": "2022-03-09T02:40:58.274100Z",
     "iopub.status.idle": "2022-03-09T02:41:52.867433Z",
     "shell.execute_reply": "2022-03-09T02:41:52.866867Z"
    }
   },
   "outputs": [],
   "source": [
    "from sklearn.datasets import fetch_openml\n",
    "\n",
    "# Fetch the MNIST dataset\n",
    "mnist = fetch_openml('mnist_784')\n",
    "\n",
    "# Assign the data features and labels to variable X and y respectively \n",
    "X = mnist.data.astype('float32')\n",
    "y = mnist.target.astype('int64')\n"
   ]
  },
  {
   "cell_type": "markdown",
   "metadata": {},
   "source": [
    "<div class=\"alert alert-info\">\n",
    "\n",
    "Bringing Your Own Data (BYOD)?\n",
    "\n",
    "Assign your data's features to variable ``X`` and its labels to variable ``y`` instead.\n",
    "\n",
    "</div>"
   ]
  },
  {
   "cell_type": "code",
   "execution_count": 3,
   "metadata": {
    "execution": {
     "iopub.execute_input": "2022-03-09T02:41:52.870220Z",
     "iopub.status.busy": "2022-03-09T02:41:52.870068Z",
     "iopub.status.idle": "2022-03-09T02:41:52.963703Z",
     "shell.execute_reply": "2022-03-09T02:41:52.963128Z"
    }
   },
   "outputs": [],
   "source": [
    "\n",
    "# Scale the features which range from 0 to 255 (256 levels on the grayscale) \n",
    "X /= 255.0\n",
    "\n",
    "# Then convert it to a numpy array\n",
    "X = X.to_numpy()"
   ]
  },
  {
   "cell_type": "markdown",
   "metadata": {},
   "source": [
    "## 3. Define a classification model"
   ]
  },
  {
   "cell_type": "markdown",
   "metadata": {},
   "source": [
    "Here, we define a simple neural network with PyTorch."
   ]
  },
  {
   "cell_type": "code",
   "execution_count": 4,
   "metadata": {
    "execution": {
     "iopub.execute_input": "2022-03-09T02:41:52.966411Z",
     "iopub.status.busy": "2022-03-09T02:41:52.966259Z",
     "iopub.status.idle": "2022-03-09T02:41:53.342027Z",
     "shell.execute_reply": "2022-03-09T02:41:53.341446Z"
    }
   },
   "outputs": [],
   "source": [
    "from torch import nn\n",
    "\n",
    "class NeuralNetwork(nn.Module):\n",
    "    def __init__(self):\n",
    "        super(NeuralNetwork, self).__init__()\n",
    "        self.dropout = nn.Dropout(0.5)\n",
    "        self.hidden = nn.Linear(28*28, 128)\n",
    "        self.output = nn.Linear(128, 10)\n",
    "\n",
    "    def forward(self, X):\n",
    "        X = nn.functional.relu(self.hidden(X))\n",
    "        X = self.dropout(X)\n",
    "        X = nn.functional.softmax(self.output(X), dim=-1)\n",
    "        return X"
   ]
  },
  {
   "cell_type": "markdown",
   "metadata": {},
   "source": [
    "## 4. Wrap with Skorch for scikit-learn compatibility"
   ]
  },
  {
   "cell_type": "markdown",
   "metadata": {},
   "source": [
    "As some of Cleanlab's feature requires scikit-learn compatibility, we will need to adapt the above PyTorch neural net accordingly. Skorch is a convenient package that helps with this, read more about it here: https://skorch.readthedocs.io"
   ]
  },
  {
   "cell_type": "code",
   "execution_count": 5,
   "metadata": {
    "execution": {
     "iopub.execute_input": "2022-03-09T02:41:53.345093Z",
     "iopub.status.busy": "2022-03-09T02:41:53.344815Z",
     "iopub.status.idle": "2022-03-09T02:41:53.428115Z",
     "shell.execute_reply": "2022-03-09T02:41:53.427422Z"
    }
   },
   "outputs": [],
   "source": [
    "from skorch import NeuralNetClassifier\n",
    "\n",
    "# Wrap the PyTorch neural net around Skorch's NeuralNetClassifier wrapper\n",
    "net = NeuralNetClassifier(NeuralNetwork)"
   ]
  },
  {
   "cell_type": "markdown",
   "metadata": {},
   "source": [
    "## 5. Compute the cross-validated predicted probabilities"
   ]
  },
  {
   "cell_type": "markdown",
   "metadata": {},
   "source": [
    "If we'd like Cleanlab to identify potential label errors in the whole dataset and not just the training set, we can consider fitting the entire dataset. We will only use this model instance to compute the cross-validated predicted probabilities, ``pyx``, and not for model evaluation."
   ]
  },
  {
   "cell_type": "code",
   "execution_count": 6,
   "metadata": {
    "execution": {
     "iopub.execute_input": "2022-03-09T02:41:53.431228Z",
     "iopub.status.busy": "2022-03-09T02:41:53.430826Z",
     "iopub.status.idle": "2022-03-09T02:42:15.155205Z",
     "shell.execute_reply": "2022-03-09T02:42:15.154637Z"
    }
   },
   "outputs": [
    {
     "name": "stdout",
     "output_type": "stream",
     "text": [
      "  epoch    train_loss    valid_acc    valid_loss     dur\n",
      "-------  ------------  -----------  ------------  ------\n",
      "      1        \u001b[36m1.8179\u001b[0m       \u001b[32m0.7721\u001b[0m        \u001b[35m1.1972\u001b[0m  2.1795\n"
     ]
    },
    {
     "name": "stdout",
     "output_type": "stream",
     "text": [
      "      2        \u001b[36m0.9961\u001b[0m       \u001b[32m0.8365\u001b[0m        \u001b[35m0.7112\u001b[0m  2.1713\n"
     ]
    },
    {
     "name": "stdout",
     "output_type": "stream",
     "text": [
      "      3        \u001b[36m0.7288\u001b[0m       \u001b[32m0.8607\u001b[0m        \u001b[35m0.5598\u001b[0m  2.1581\n"
     ]
    },
    {
     "name": "stdout",
     "output_type": "stream",
     "text": [
      "      4        \u001b[36m0.6228\u001b[0m       \u001b[32m0.8739\u001b[0m        \u001b[35m0.4857\u001b[0m  2.1563\n"
     ]
    },
    {
     "name": "stdout",
     "output_type": "stream",
     "text": [
      "      5        \u001b[36m0.5557\u001b[0m       \u001b[32m0.8832\u001b[0m        \u001b[35m0.4393\u001b[0m  2.1615\n"
     ]
    },
    {
     "name": "stdout",
     "output_type": "stream",
     "text": [
      "      6        \u001b[36m0.5143\u001b[0m       \u001b[32m0.8898\u001b[0m        \u001b[35m0.4079\u001b[0m  2.1563\n"
     ]
    },
    {
     "name": "stdout",
     "output_type": "stream",
     "text": [
      "      7        \u001b[36m0.4837\u001b[0m       \u001b[32m0.8955\u001b[0m        \u001b[35m0.3832\u001b[0m  2.1806\n"
     ]
    },
    {
     "name": "stdout",
     "output_type": "stream",
     "text": [
      "      8        \u001b[36m0.4571\u001b[0m       \u001b[32m0.9003\u001b[0m        \u001b[35m0.3645\u001b[0m  2.1618\n"
     ]
    },
    {
     "name": "stdout",
     "output_type": "stream",
     "text": [
      "      9        \u001b[36m0.4378\u001b[0m       \u001b[32m0.9047\u001b[0m        \u001b[35m0.3494\u001b[0m  2.1575\n"
     ]
    },
    {
     "name": "stdout",
     "output_type": "stream",
     "text": [
      "     10        \u001b[36m0.4208\u001b[0m       \u001b[32m0.9082\u001b[0m        \u001b[35m0.3363\u001b[0m  2.1685\n"
     ]
    }
   ],
   "source": [
    "_ = net.fit(X, y)"
   ]
  },
  {
   "cell_type": "markdown",
   "metadata": {},
   "source": [
    "Compute the cross-validated predicted probabilities, ``pyx``, sometimes also known as the out-of-sample predicted probabilities."
   ]
  },
  {
   "cell_type": "code",
   "execution_count": 7,
   "metadata": {
    "execution": {
     "iopub.execute_input": "2022-03-09T02:42:15.157935Z",
     "iopub.status.busy": "2022-03-09T02:42:15.157573Z",
     "iopub.status.idle": "2022-03-09T02:42:50.906509Z",
     "shell.execute_reply": "2022-03-09T02:42:50.905944Z"
    }
   },
   "outputs": [
    {
     "name": "stdout",
     "output_type": "stream",
     "text": [
      "  epoch    train_loss    valid_acc    valid_loss     dur\n",
      "-------  ------------  -----------  ------------  ------\n",
      "      1        \u001b[36m2.0382\u001b[0m       \u001b[32m0.7202\u001b[0m        \u001b[35m1.6485\u001b[0m  1.1314\n"
     ]
    },
    {
     "name": "stdout",
     "output_type": "stream",
     "text": [
      "      2        \u001b[36m1.3068\u001b[0m       \u001b[32m0.7983\u001b[0m        \u001b[35m0.9869\u001b[0m  1.1941\n"
     ]
    },
    {
     "name": "stdout",
     "output_type": "stream",
     "text": [
      "      3        \u001b[36m0.9088\u001b[0m       \u001b[32m0.8306\u001b[0m        \u001b[35m0.7342\u001b[0m  1.1482\n"
     ]
    },
    {
     "name": "stdout",
     "output_type": "stream",
     "text": [
      "      4        \u001b[36m0.7388\u001b[0m       \u001b[32m0.8489\u001b[0m        \u001b[35m0.6188\u001b[0m  1.1340\n"
     ]
    },
    {
     "name": "stdout",
     "output_type": "stream",
     "text": [
      "      5        \u001b[36m0.6512\u001b[0m       \u001b[32m0.8586\u001b[0m        \u001b[35m0.5530\u001b[0m  1.1409\n"
     ]
    },
    {
     "name": "stdout",
     "output_type": "stream",
     "text": [
      "      6        \u001b[36m0.5938\u001b[0m       \u001b[32m0.8668\u001b[0m        \u001b[35m0.5093\u001b[0m  1.1436\n"
     ]
    },
    {
     "name": "stdout",
     "output_type": "stream",
     "text": [
      "      7        \u001b[36m0.5505\u001b[0m       \u001b[32m0.8704\u001b[0m        \u001b[35m0.4775\u001b[0m  1.1390\n"
     ]
    },
    {
     "name": "stdout",
     "output_type": "stream",
     "text": [
      "      8        \u001b[36m0.5228\u001b[0m       \u001b[32m0.8747\u001b[0m        \u001b[35m0.4534\u001b[0m  1.1380\n"
     ]
    },
    {
     "name": "stdout",
     "output_type": "stream",
     "text": [
      "      9        \u001b[36m0.4927\u001b[0m       \u001b[32m0.8778\u001b[0m        \u001b[35m0.4339\u001b[0m  1.1371\n"
     ]
    },
    {
     "name": "stdout",
     "output_type": "stream",
     "text": [
      "     10        \u001b[36m0.4750\u001b[0m       \u001b[32m0.8812\u001b[0m        \u001b[35m0.4179\u001b[0m  1.1896\n"
     ]
    },
    {
     "name": "stdout",
     "output_type": "stream",
     "text": [
      "  epoch    train_loss    valid_acc    valid_loss     dur\n",
      "-------  ------------  -----------  ------------  ------\n",
      "      1        \u001b[36m2.0073\u001b[0m       \u001b[32m0.7244\u001b[0m        \u001b[35m1.5877\u001b[0m  1.1381\n"
     ]
    },
    {
     "name": "stdout",
     "output_type": "stream",
     "text": [
      "      2        \u001b[36m1.2942\u001b[0m       \u001b[32m0.8042\u001b[0m        \u001b[35m0.9647\u001b[0m  1.1491\n"
     ]
    },
    {
     "name": "stdout",
     "output_type": "stream",
     "text": [
      "      3        \u001b[36m0.9203\u001b[0m       \u001b[32m0.8382\u001b[0m        \u001b[35m0.7188\u001b[0m  1.1415\n"
     ]
    },
    {
     "name": "stdout",
     "output_type": "stream",
     "text": [
      "      4        \u001b[36m0.7508\u001b[0m       \u001b[32m0.8547\u001b[0m        \u001b[35m0.5998\u001b[0m  1.1397\n"
     ]
    },
    {
     "name": "stdout",
     "output_type": "stream",
     "text": [
      "      5        \u001b[36m0.6596\u001b[0m       \u001b[32m0.8648\u001b[0m        \u001b[35m0.5304\u001b[0m  1.1390\n"
     ]
    },
    {
     "name": "stdout",
     "output_type": "stream",
     "text": [
      "      6        \u001b[36m0.6012\u001b[0m       \u001b[32m0.8754\u001b[0m        \u001b[35m0.4844\u001b[0m  1.1386\n"
     ]
    },
    {
     "name": "stdout",
     "output_type": "stream",
     "text": [
      "      7        \u001b[36m0.5560\u001b[0m       \u001b[32m0.8820\u001b[0m        \u001b[35m0.4509\u001b[0m  1.1378\n"
     ]
    },
    {
     "name": "stdout",
     "output_type": "stream",
     "text": [
      "      8        \u001b[36m0.5236\u001b[0m       \u001b[32m0.8862\u001b[0m        \u001b[35m0.4269\u001b[0m  1.1357\n"
     ]
    },
    {
     "name": "stdout",
     "output_type": "stream",
     "text": [
      "      9        \u001b[36m0.4989\u001b[0m       \u001b[32m0.8906\u001b[0m        \u001b[35m0.4074\u001b[0m  1.1339\n"
     ]
    },
    {
     "name": "stdout",
     "output_type": "stream",
     "text": [
      "     10        \u001b[36m0.4741\u001b[0m       \u001b[32m0.8936\u001b[0m        \u001b[35m0.3918\u001b[0m  1.1321\n"
     ]
    },
    {
     "name": "stdout",
     "output_type": "stream",
     "text": [
      "  epoch    train_loss    valid_acc    valid_loss     dur\n",
      "-------  ------------  -----------  ------------  ------\n",
      "      1        \u001b[36m2.0159\u001b[0m       \u001b[32m0.7047\u001b[0m        \u001b[35m1.6061\u001b[0m  1.1348\n"
     ]
    },
    {
     "name": "stdout",
     "output_type": "stream",
     "text": [
      "      2        \u001b[36m1.3171\u001b[0m       \u001b[32m0.8121\u001b[0m        \u001b[35m0.9648\u001b[0m  1.1362\n"
     ]
    },
    {
     "name": "stdout",
     "output_type": "stream",
     "text": [
      "      3        \u001b[36m0.9268\u001b[0m       \u001b[32m0.8462\u001b[0m        \u001b[35m0.7102\u001b[0m  1.1413\n"
     ]
    },
    {
     "name": "stdout",
     "output_type": "stream",
     "text": [
      "      4        \u001b[36m0.7598\u001b[0m       \u001b[32m0.8643\u001b[0m        \u001b[35m0.5914\u001b[0m  1.1382\n"
     ]
    },
    {
     "name": "stdout",
     "output_type": "stream",
     "text": [
      "      5        \u001b[36m0.6703\u001b[0m       \u001b[32m0.8745\u001b[0m        \u001b[35m0.5231\u001b[0m  1.1510\n"
     ]
    },
    {
     "name": "stdout",
     "output_type": "stream",
     "text": [
      "      6        \u001b[36m0.6115\u001b[0m       \u001b[32m0.8819\u001b[0m        \u001b[35m0.4792\u001b[0m  1.1352\n"
     ]
    },
    {
     "name": "stdout",
     "output_type": "stream",
     "text": [
      "      7        \u001b[36m0.5729\u001b[0m       \u001b[32m0.8868\u001b[0m        \u001b[35m0.4467\u001b[0m  1.1409\n"
     ]
    },
    {
     "name": "stdout",
     "output_type": "stream",
     "text": [
      "      8        \u001b[36m0.5406\u001b[0m       \u001b[32m0.8910\u001b[0m        \u001b[35m0.4222\u001b[0m  1.1438\n"
     ]
    },
    {
     "name": "stdout",
     "output_type": "stream",
     "text": [
      "      9        \u001b[36m0.5102\u001b[0m       \u001b[32m0.8950\u001b[0m        \u001b[35m0.4026\u001b[0m  1.1403\n"
     ]
    },
    {
     "name": "stdout",
     "output_type": "stream",
     "text": [
      "     10        \u001b[36m0.4933\u001b[0m       \u001b[32m0.8985\u001b[0m        \u001b[35m0.3867\u001b[0m  1.1422\n"
     ]
    }
   ],
   "source": [
    "from sklearn.model_selection import cross_val_predict\n",
    "\n",
    "pyx = cross_val_predict(net, X, y, cv=3, method='predict_proba')"
   ]
  },
  {
   "cell_type": "markdown",
   "metadata": {},
   "source": [
    "## 6. Run Cleanlab to find potential label errors"
   ]
  },
  {
   "cell_type": "markdown",
   "metadata": {},
   "source": [
    "Cleanlab has a ``get_noise_indices`` function to generate a list of potential label errors. Setting ``sorted_index_method=\"prob_given_label\"`` returns the indices of all the most likely label errors, sorted by the most suspicious example first."
   ]
  },
  {
   "cell_type": "code",
   "execution_count": 8,
   "metadata": {
    "execution": {
     "iopub.execute_input": "2022-03-09T02:42:50.909584Z",
     "iopub.status.busy": "2022-03-09T02:42:50.909278Z",
     "iopub.status.idle": "2022-03-09T02:42:51.241108Z",
     "shell.execute_reply": "2022-03-09T02:42:51.240488Z"
    }
   },
   "outputs": [],
   "source": [
    "from cleanlab.pruning import get_noise_indices\n",
    "\n",
    "ordered_label_errors = get_noise_indices(\n",
    "    s=y,\n",
    "    psx=pyx,\n",
    "    sorted_index_method=\"prob_given_label\"\n",
    ")"
   ]
  },
  {
   "cell_type": "markdown",
   "metadata": {},
   "source": [
    "## 7. Review some of the most likely mislabeled examples"
   ]
  },
  {
   "cell_type": "code",
   "execution_count": 9,
   "metadata": {
    "execution": {
     "iopub.execute_input": "2022-03-09T02:42:51.244200Z",
     "iopub.status.busy": "2022-03-09T02:42:51.243983Z",
     "iopub.status.idle": "2022-03-09T02:42:51.247746Z",
     "shell.execute_reply": "2022-03-09T02:42:51.247177Z"
    }
   },
   "outputs": [
    {
     "name": "stdout",
     "output_type": "stream",
     "text": [
      "Cleanlab found 1257 potential label errors. Here are the indices of the top 15 most likely ones: \n",
      " [24798  8729 18598 59915 15942 20820  1352 53216 12679 31134 55739 39457\n",
      " 12585 13031  7010]\n"
     ]
    }
   ],
   "source": [
    "print(f\"Cleanlab found {len(ordered_label_errors)} potential label errors. Here are the indices of the top 15 most likely ones: \\n {ordered_label_errors[:15]}\")"
   ]
  },
  {
   "cell_type": "markdown",
   "metadata": {},
   "source": [
    "We'll define a new ``plot_examples`` function to display any examples in a subplot conveniently."
   ]
  },
  {
   "cell_type": "code",
   "execution_count": 10,
   "metadata": {
    "execution": {
     "iopub.execute_input": "2022-03-09T02:42:51.250219Z",
     "iopub.status.busy": "2022-03-09T02:42:51.249804Z",
     "iopub.status.idle": "2022-03-09T02:42:51.923789Z",
     "shell.execute_reply": "2022-03-09T02:42:51.923259Z"
    }
   },
   "outputs": [],
   "source": [
    "import matplotlib.pyplot as plt\n",
    "\n",
    "def plot_examples(id_iter, nrows=1, ncols=1):\n",
    "    for count, id in enumerate(id_iter):\n",
    "        plt.subplot(nrows, ncols, count+1)\n",
    "        plt.imshow(X[id].reshape(28, 28))\n",
    "        plt.title(f\"id: {id} \\n label: {y[id]}\")\n",
    "        plt.axis('off')\n",
    "\n",
    "    plt.tight_layout(h_pad=2.0)"
   ]
  },
  {
   "cell_type": "markdown",
   "metadata": {},
   "source": [
    "Let's start by having an overview of the top 15 most likely label errors. From here, we can see a few label errors and edge cases. Feel free to change the parameters to display more or fewer examples. "
   ]
  },
  {
   "cell_type": "code",
   "execution_count": 11,
   "metadata": {
    "execution": {
     "iopub.execute_input": "2022-03-09T02:42:51.926775Z",
     "iopub.status.busy": "2022-03-09T02:42:51.926386Z",
     "iopub.status.idle": "2022-03-09T02:42:52.335674Z",
     "shell.execute_reply": "2022-03-09T02:42:52.335116Z"
    }
   },
   "outputs": [
    {
     "data": {
      "image/png": "[encoded data removed]",
      "text/plain": [
       "<Figure size 432x288 with 15 Axes>"
      ]
     },
     "metadata": {
      "needs_background": "light"
     },
     "output_type": "display_data"
    }
   ],
   "source": [
    "plot_examples(ordered_label_errors[range(15)], 3, 5)"
   ]
  },
  {
   "cell_type": "markdown",
   "metadata": {},
   "source": [
    "Let's zoom into specific examples:"
   ]
  },
  {
   "cell_type": "markdown",
   "metadata": {},
   "source": [
    "Given label is **4** but looks more like a **7**"
   ]
  },
  {
   "cell_type": "code",
   "execution_count": 12,
   "metadata": {
    "execution": {
     "iopub.execute_input": "2022-03-09T02:42:52.339448Z",
     "iopub.status.busy": "2022-03-09T02:42:52.338439Z",
     "iopub.status.idle": "2022-03-09T02:42:52.396891Z",
     "shell.execute_reply": "2022-03-09T02:42:52.396294Z"
    }
   },
   "outputs": [
    {
     "data": {
      "image/png": "[encoded data removed]",
      "text/plain": [
       "<Figure size 432x288 with 1 Axes>"
      ]
     },
     "metadata": {
      "needs_background": "light"
     },
     "output_type": "display_data"
    }
   ],
   "source": [
    "plot_examples([59915])"
   ]
  },
  {
   "cell_type": "markdown",
   "metadata": {},
   "source": [
    "Given label is **4** but also looks like **9**"
   ]
  },
  {
   "cell_type": "code",
   "execution_count": 13,
   "metadata": {
    "execution": {
     "iopub.execute_input": "2022-03-09T02:42:52.400592Z",
     "iopub.status.busy": "2022-03-09T02:42:52.400133Z",
     "iopub.status.idle": "2022-03-09T02:42:52.462817Z",
     "shell.execute_reply": "2022-03-09T02:42:52.462335Z"
    }
   },
   "outputs": [
    {
     "data": {
      "image/png": "[encoded data removed]",
      "text/plain": [
       "<Figure size 432x288 with 1 Axes>"
      ]
     },
     "metadata": {
      "needs_background": "light"
     },
     "output_type": "display_data"
    }
   ],
   "source": [
    "plot_examples([24798])"
   ]
  },
  {
   "cell_type": "markdown",
   "metadata": {},
   "source": [
    "Edge case of odd looking **9**s"
   ]
  },
  {
   "cell_type": "code",
   "execution_count": 14,
   "metadata": {
    "execution": {
     "iopub.execute_input": "2022-03-09T02:42:52.466446Z",
     "iopub.status.busy": "2022-03-09T02:42:52.466048Z",
     "iopub.status.idle": "2022-03-09T02:42:52.686002Z",
     "shell.execute_reply": "2022-03-09T02:42:52.685442Z"
    }
   },
   "outputs": [
    {
     "data": {
      "image/png": "[encoded data removed]",
      "text/plain": [
       "<Figure size 432x288 with 3 Axes>"
      ]
     },
     "metadata": {
      "needs_background": "light"
     },
     "output_type": "display_data"
    }
   ],
   "source": [
    "plot_examples([18598, 1352, 61247], 1, 3)"
   ]
  },
  {
   "cell_type": "markdown",
   "metadata": {},
   "source": [
    "Cleanlab has shortlisted the most likely label errors to speed up your data cleaning process. With this list, you can decide whether to fix label errors, augment edge cases or remove obscure examples. \n",
    "\n",
    "These human-in-the-loop processes may be time-consuming, so if you'd like Cleanlab to automatically remove these noisy examples and train a model directly on the partially mislabeled dataset, you're in luck! Cleanlab provides a ``LearningWithNoisyLabels`` wrapper to do precisely this:"
   ]
  },
  {
   "cell_type": "markdown",
   "metadata": {},
   "source": [
    "## 8. Adapt with Cleanlab's wrapper and train a more robust model"
   ]
  },
  {
   "cell_type": "markdown",
   "metadata": {},
   "source": [
    "First, we split the dataset into train and test subsets."
   ]
  },
  {
   "cell_type": "code",
   "execution_count": 15,
   "metadata": {
    "execution": {
     "iopub.execute_input": "2022-03-09T02:42:52.688742Z",
     "iopub.status.busy": "2022-03-09T02:42:52.688577Z",
     "iopub.status.idle": "2022-03-09T02:42:53.021257Z",
     "shell.execute_reply": "2022-03-09T02:42:53.020684Z"
    }
   },
   "outputs": [],
   "source": [
    "from sklearn.model_selection import train_test_split\n",
    "\n",
    "X_train, X_test, y_train, y_test = train_test_split(X, y, test_size=0.2)"
   ]
  },
  {
   "cell_type": "markdown",
   "metadata": {},
   "source": [
    "Re-instantiate a new scikit-learn compatible model with Skorch then wrap it with Cleanlab's ``LearningWithNoisyLabels`` wrapper."
   ]
  },
  {
   "cell_type": "code",
   "execution_count": 16,
   "metadata": {
    "execution": {
     "iopub.execute_input": "2022-03-09T02:42:53.024232Z",
     "iopub.status.busy": "2022-03-09T02:42:53.023884Z",
     "iopub.status.idle": "2022-03-09T02:42:53.027125Z",
     "shell.execute_reply": "2022-03-09T02:42:53.026593Z"
    }
   },
   "outputs": [],
   "source": [
    "from cleanlab.classification import LearningWithNoisyLabels\n",
    "\n",
    "net = NeuralNetClassifier(NeuralNetwork)\n",
    "clf = LearningWithNoisyLabels(clf=net)"
   ]
  },
  {
   "cell_type": "code",
   "execution_count": 17,
   "metadata": {
    "execution": {
     "iopub.execute_input": "2022-03-09T02:42:53.029273Z",
     "iopub.status.busy": "2022-03-09T02:42:53.029129Z",
     "iopub.status.idle": "2022-03-09T02:44:03.118740Z",
     "shell.execute_reply": "2022-03-09T02:44:03.118147Z"
    }
   },
   "outputs": [
    {
     "name": "stdout",
     "output_type": "stream",
     "text": [
      "  epoch    train_loss    valid_acc    valid_loss     dur\n",
      "-------  ------------  -----------  ------------  ------\n",
      "      1        \u001b[36m2.0286\u001b[0m       \u001b[32m0.7189\u001b[0m        \u001b[35m1.6413\u001b[0m  1.1099\n"
     ]
    },
    {
     "name": "stdout",
     "output_type": "stream",
     "text": [
      "      2        \u001b[36m1.3416\u001b[0m       \u001b[32m0.8103\u001b[0m        \u001b[35m0.9979\u001b[0m  1.1093\n"
     ]
    },
    {
     "name": "stdout",
     "output_type": "stream",
     "text": [
      "      3        \u001b[36m0.9531\u001b[0m       \u001b[32m0.8405\u001b[0m        \u001b[35m0.7363\u001b[0m  1.1020\n"
     ]
    },
    {
     "name": "stdout",
     "output_type": "stream",
     "text": [
      "      4        \u001b[36m0.7851\u001b[0m       \u001b[32m0.8558\u001b[0m        \u001b[35m0.6147\u001b[0m  1.1046\n"
     ]
    },
    {
     "name": "stdout",
     "output_type": "stream",
     "text": [
      "      5        \u001b[36m0.6886\u001b[0m       \u001b[32m0.8682\u001b[0m        \u001b[35m0.5431\u001b[0m  1.0992\n"
     ]
    },
    {
     "name": "stdout",
     "output_type": "stream",
     "text": [
      "      6        \u001b[36m0.6267\u001b[0m       \u001b[32m0.8759\u001b[0m        \u001b[35m0.4969\u001b[0m  1.1016\n"
     ]
    },
    {
     "name": "stdout",
     "output_type": "stream",
     "text": [
      "      7        \u001b[36m0.5846\u001b[0m       \u001b[32m0.8820\u001b[0m        \u001b[35m0.4632\u001b[0m  1.1014\n"
     ]
    },
    {
     "name": "stdout",
     "output_type": "stream",
     "text": [
      "      8        \u001b[36m0.5508\u001b[0m       \u001b[32m0.8866\u001b[0m        \u001b[35m0.4384\u001b[0m  1.1035\n"
     ]
    },
    {
     "name": "stdout",
     "output_type": "stream",
     "text": [
      "      9        \u001b[36m0.5274\u001b[0m       \u001b[32m0.8887\u001b[0m        \u001b[35m0.4185\u001b[0m  1.1055\n"
     ]
    },
    {
     "name": "stdout",
     "output_type": "stream",
     "text": [
      "     10        \u001b[36m0.5057\u001b[0m       \u001b[32m0.8924\u001b[0m        \u001b[35m0.4013\u001b[0m  1.1157\n"
     ]
    },
    {
     "name": "stdout",
     "output_type": "stream",
     "text": [
      "  epoch    train_loss    valid_acc    valid_loss     dur\n",
      "-------  ------------  -----------  ------------  ------\n",
      "      1        \u001b[36m1.9850\u001b[0m       \u001b[32m0.7156\u001b[0m        \u001b[35m1.5720\u001b[0m  1.1273\n"
     ]
    },
    {
     "name": "stdout",
     "output_type": "stream",
     "text": [
      "      2        \u001b[36m1.2896\u001b[0m       \u001b[32m0.8063\u001b[0m        \u001b[35m0.9707\u001b[0m  1.1061\n"
     ]
    },
    {
     "name": "stdout",
     "output_type": "stream",
     "text": [
      "      3        \u001b[36m0.9206\u001b[0m       \u001b[32m0.8369\u001b[0m        \u001b[35m0.7265\u001b[0m  1.1214\n"
     ]
    },
    {
     "name": "stdout",
     "output_type": "stream",
     "text": [
      "      4        \u001b[36m0.7566\u001b[0m       \u001b[32m0.8516\u001b[0m        \u001b[35m0.6098\u001b[0m  1.1083\n"
     ]
    },
    {
     "name": "stdout",
     "output_type": "stream",
     "text": [
      "      5        \u001b[36m0.6696\u001b[0m       \u001b[32m0.8647\u001b[0m        \u001b[35m0.5418\u001b[0m  1.1060\n"
     ]
    },
    {
     "name": "stdout",
     "output_type": "stream",
     "text": [
      "      6        \u001b[36m0.6105\u001b[0m       \u001b[32m0.8742\u001b[0m        \u001b[35m0.4960\u001b[0m  1.0944\n"
     ]
    },
    {
     "name": "stdout",
     "output_type": "stream",
     "text": [
      "      7        \u001b[36m0.5669\u001b[0m       \u001b[32m0.8806\u001b[0m        \u001b[35m0.4631\u001b[0m  1.0935\n"
     ]
    },
    {
     "name": "stdout",
     "output_type": "stream",
     "text": [
      "      8        \u001b[36m0.5395\u001b[0m       \u001b[32m0.8863\u001b[0m        \u001b[35m0.4382\u001b[0m  1.0984\n"
     ]
    },
    {
     "name": "stdout",
     "output_type": "stream",
     "text": [
      "      9        \u001b[36m0.5128\u001b[0m       \u001b[32m0.8904\u001b[0m        \u001b[35m0.4186\u001b[0m  1.0954\n"
     ]
    },
    {
     "name": "stdout",
     "output_type": "stream",
     "text": [
      "     10        \u001b[36m0.4920\u001b[0m       \u001b[32m0.8922\u001b[0m        \u001b[35m0.4024\u001b[0m  1.0965\n"
     ]
    },
    {
     "name": "stdout",
     "output_type": "stream",
     "text": [
      "  epoch    train_loss    valid_acc    valid_loss     dur\n",
      "-------  ------------  -----------  ------------  ------\n",
      "      1        \u001b[36m2.0586\u001b[0m       \u001b[32m0.7408\u001b[0m        \u001b[35m1.6849\u001b[0m  1.0992\n"
     ]
    },
    {
     "name": "stdout",
     "output_type": "stream",
     "text": [
      "      2        \u001b[36m1.3695\u001b[0m       \u001b[32m0.8105\u001b[0m        \u001b[35m1.0123\u001b[0m  1.0934\n"
     ]
    },
    {
     "name": "stdout",
     "output_type": "stream",
     "text": [
      "      3        \u001b[36m0.9524\u001b[0m       \u001b[32m0.8424\u001b[0m        \u001b[35m0.7332\u001b[0m  1.0961\n"
     ]
    },
    {
     "name": "stdout",
     "output_type": "stream",
     "text": [
      "      4        \u001b[36m0.7731\u001b[0m       \u001b[32m0.8594\u001b[0m        \u001b[35m0.6072\u001b[0m  1.0989\n"
     ]
    },
    {
     "name": "stdout",
     "output_type": "stream",
     "text": [
      "      5        \u001b[36m0.6695\u001b[0m       \u001b[32m0.8698\u001b[0m        \u001b[35m0.5351\u001b[0m  1.1002\n"
     ]
    },
    {
     "name": "stdout",
     "output_type": "stream",
     "text": [
      "      6        \u001b[36m0.6166\u001b[0m       \u001b[32m0.8761\u001b[0m        \u001b[35m0.4909\u001b[0m  1.1101\n"
     ]
    },
    {
     "name": "stdout",
     "output_type": "stream",
     "text": [
      "      7        \u001b[36m0.5728\u001b[0m       \u001b[32m0.8817\u001b[0m        \u001b[35m0.4583\u001b[0m  1.1051\n"
     ]
    },
    {
     "name": "stdout",
     "output_type": "stream",
     "text": [
      "      8        \u001b[36m0.5381\u001b[0m       \u001b[32m0.8855\u001b[0m        \u001b[35m0.4334\u001b[0m  1.0951\n"
     ]
    },
    {
     "name": "stdout",
     "output_type": "stream",
     "text": [
      "      9        \u001b[36m0.5141\u001b[0m       \u001b[32m0.8891\u001b[0m        \u001b[35m0.4141\u001b[0m  1.0945\n"
     ]
    },
    {
     "name": "stdout",
     "output_type": "stream",
     "text": [
      "     10        \u001b[36m0.4879\u001b[0m       \u001b[32m0.8923\u001b[0m        \u001b[35m0.3972\u001b[0m  1.0928\n"
     ]
    },
    {
     "name": "stdout",
     "output_type": "stream",
     "text": [
      "  epoch    train_loss    valid_acc    valid_loss     dur\n",
      "-------  ------------  -----------  ------------  ------\n",
      "      1        \u001b[36m2.0106\u001b[0m       \u001b[32m0.7445\u001b[0m        \u001b[35m1.6183\u001b[0m  1.0987\n"
     ]
    },
    {
     "name": "stdout",
     "output_type": "stream",
     "text": [
      "      2        \u001b[36m1.3238\u001b[0m       \u001b[32m0.8125\u001b[0m        \u001b[35m0.9850\u001b[0m  1.0935\n"
     ]
    },
    {
     "name": "stdout",
     "output_type": "stream",
     "text": [
      "      3        \u001b[36m0.9336\u001b[0m       \u001b[32m0.8406\u001b[0m        \u001b[35m0.7266\u001b[0m  1.1028\n"
     ]
    },
    {
     "name": "stdout",
     "output_type": "stream",
     "text": [
      "      4        \u001b[36m0.7644\u001b[0m       \u001b[32m0.8575\u001b[0m        \u001b[35m0.6048\u001b[0m  1.0962\n"
     ]
    },
    {
     "name": "stdout",
     "output_type": "stream",
     "text": [
      "      5        \u001b[36m0.6669\u001b[0m       \u001b[32m0.8667\u001b[0m        \u001b[35m0.5345\u001b[0m  1.1024\n"
     ]
    },
    {
     "name": "stdout",
     "output_type": "stream",
     "text": [
      "      6        \u001b[36m0.6077\u001b[0m       \u001b[32m0.8747\u001b[0m        \u001b[35m0.4885\u001b[0m  1.0952\n"
     ]
    },
    {
     "name": "stdout",
     "output_type": "stream",
     "text": [
      "      7        \u001b[36m0.5671\u001b[0m       \u001b[32m0.8808\u001b[0m        \u001b[35m0.4553\u001b[0m  1.0953\n"
     ]
    },
    {
     "name": "stdout",
     "output_type": "stream",
     "text": [
      "      8        \u001b[36m0.5284\u001b[0m       \u001b[32m0.8862\u001b[0m        \u001b[35m0.4302\u001b[0m  1.1211\n"
     ]
    },
    {
     "name": "stdout",
     "output_type": "stream",
     "text": [
      "      9        \u001b[36m0.5047\u001b[0m       \u001b[32m0.8894\u001b[0m        \u001b[35m0.4100\u001b[0m  1.0943\n"
     ]
    },
    {
     "name": "stdout",
     "output_type": "stream",
     "text": [
      "     10        \u001b[36m0.4842\u001b[0m       \u001b[32m0.8919\u001b[0m        \u001b[35m0.3937\u001b[0m  1.0916\n"
     ]
    },
    {
     "name": "stdout",
     "output_type": "stream",
     "text": [
      "  epoch    train_loss    valid_acc    valid_loss     dur\n",
      "-------  ------------  -----------  ------------  ------\n",
      "      1        \u001b[36m2.0298\u001b[0m       \u001b[32m0.7350\u001b[0m        \u001b[35m1.6323\u001b[0m  1.0951\n"
     ]
    },
    {
     "name": "stdout",
     "output_type": "stream",
     "text": [
      "      2        \u001b[36m1.3213\u001b[0m       \u001b[32m0.8110\u001b[0m        \u001b[35m0.9849\u001b[0m  1.0940\n"
     ]
    },
    {
     "name": "stdout",
     "output_type": "stream",
     "text": [
      "      3        \u001b[36m0.9311\u001b[0m       \u001b[32m0.8391\u001b[0m        \u001b[35m0.7302\u001b[0m  1.0938\n"
     ]
    },
    {
     "name": "stdout",
     "output_type": "stream",
     "text": [
      "      4        \u001b[36m0.7638\u001b[0m       \u001b[32m0.8562\u001b[0m        \u001b[35m0.6120\u001b[0m  1.0921\n"
     ]
    },
    {
     "name": "stdout",
     "output_type": "stream",
     "text": [
      "      5        \u001b[36m0.6724\u001b[0m       \u001b[32m0.8664\u001b[0m        \u001b[35m0.5426\u001b[0m  1.0926\n"
     ]
    },
    {
     "name": "stdout",
     "output_type": "stream",
     "text": [
      "      6        \u001b[36m0.6123\u001b[0m       \u001b[32m0.8725\u001b[0m        \u001b[35m0.4967\u001b[0m  1.0931\n"
     ]
    },
    {
     "name": "stdout",
     "output_type": "stream",
     "text": [
      "      7        \u001b[36m0.5717\u001b[0m       \u001b[32m0.8796\u001b[0m        \u001b[35m0.4645\u001b[0m  1.1144\n"
     ]
    },
    {
     "name": "stdout",
     "output_type": "stream",
     "text": [
      "      8        \u001b[36m0.5406\u001b[0m       \u001b[32m0.8835\u001b[0m        \u001b[35m0.4400\u001b[0m  1.0930\n"
     ]
    },
    {
     "name": "stdout",
     "output_type": "stream",
     "text": [
      "      9        \u001b[36m0.5080\u001b[0m       \u001b[32m0.8892\u001b[0m        \u001b[35m0.4202\u001b[0m  1.0949\n"
     ]
    },
    {
     "name": "stdout",
     "output_type": "stream",
     "text": [
      "     10        \u001b[36m0.4884\u001b[0m       \u001b[32m0.8908\u001b[0m        \u001b[35m0.4037\u001b[0m  1.0941\n"
     ]
    },
    {
     "name": "stdout",
     "output_type": "stream",
     "text": [
      "  epoch    train_loss    valid_acc    valid_loss     dur\n",
      "-------  ------------  -----------  ------------  ------\n",
      "      1        \u001b[36m1.8914\u001b[0m       \u001b[32m0.7731\u001b[0m        \u001b[35m1.3630\u001b[0m  1.3477\n"
     ]
    },
    {
     "name": "stdout",
     "output_type": "stream",
     "text": [
      "      2        \u001b[36m1.1048\u001b[0m       \u001b[32m0.8418\u001b[0m        \u001b[35m0.7911\u001b[0m  1.3473\n"
     ]
    },
    {
     "name": "stdout",
     "output_type": "stream",
     "text": [
      "      3        \u001b[36m0.7798\u001b[0m       \u001b[32m0.8667\u001b[0m        \u001b[35m0.5902\u001b[0m  1.3518\n"
     ]
    },
    {
     "name": "stdout",
     "output_type": "stream",
     "text": [
      "      4        \u001b[36m0.6397\u001b[0m       \u001b[32m0.8814\u001b[0m        \u001b[35m0.4921\u001b[0m  1.3399\n"
     ]
    },
    {
     "name": "stdout",
     "output_type": "stream",
     "text": [
      "      5        \u001b[36m0.5621\u001b[0m       \u001b[32m0.8906\u001b[0m        \u001b[35m0.4350\u001b[0m  1.3415\n"
     ]
    },
    {
     "name": "stdout",
     "output_type": "stream",
     "text": [
      "      6        \u001b[36m0.5134\u001b[0m       \u001b[32m0.8965\u001b[0m        \u001b[35m0.3967\u001b[0m  1.3432\n"
     ]
    },
    {
     "name": "stdout",
     "output_type": "stream",
     "text": [
      "      7        \u001b[36m0.4762\u001b[0m       \u001b[32m0.9013\u001b[0m        \u001b[35m0.3690\u001b[0m  1.3416\n"
     ]
    },
    {
     "name": "stdout",
     "output_type": "stream",
     "text": [
      "      8        \u001b[36m0.4486\u001b[0m       \u001b[32m0.9045\u001b[0m        \u001b[35m0.3481\u001b[0m  1.3403\n"
     ]
    },
    {
     "name": "stdout",
     "output_type": "stream",
     "text": [
      "      9        \u001b[36m0.4245\u001b[0m       \u001b[32m0.9073\u001b[0m        \u001b[35m0.3308\u001b[0m  1.3409\n"
     ]
    },
    {
     "name": "stdout",
     "output_type": "stream",
     "text": [
      "     10        \u001b[36m0.4064\u001b[0m       \u001b[32m0.9094\u001b[0m        \u001b[35m0.3168\u001b[0m  1.3427\n"
     ]
    }
   ],
   "source": [
    "_ = clf.fit(X_train, y_train.to_numpy())"
   ]
  },
  {
   "cell_type": "markdown",
   "metadata": {},
   "source": [
    "## 9. Evaluate the robust model's performance"
   ]
  },
  {
   "cell_type": "code",
   "execution_count": 18,
   "metadata": {
    "execution": {
     "iopub.execute_input": "2022-03-09T02:44:03.121370Z",
     "iopub.status.busy": "2022-03-09T02:44:03.121203Z",
     "iopub.status.idle": "2022-03-09T02:44:03.357483Z",
     "shell.execute_reply": "2022-03-09T02:44:03.356930Z"
    }
   },
   "outputs": [
    {
     "data": {
      "text/plain": [
       "0.8995"
      ]
     },
     "execution_count": 18,
     "metadata": {},
     "output_type": "execute_result"
    }
   ],
   "source": [
    "from sklearn.metrics import accuracy_score\n",
    "\n",
    "y_pred = clf.predict(X_test)\n",
    "accuracy_score(y_test, y_pred)"
   ]
  },
  {
   "cell_type": "markdown",
   "metadata": {},
   "source": [
    "## What's next?"
   ]
  },
  {
   "cell_type": "markdown",
   "metadata": {},
   "source": [
    "Congratulations on completing this tutorial! Check out our following tutorial on using Cleanlab for text classification, where we found ``hundreds`` of potential label errors in one of the most well-known text datasets, the IMBDb movie review dataset!"
   ]
  }
 ],
 "metadata": {
  "interpreter": {
   "hash": "ced20e3e49bb4fa4ce8ad38f8f2535b7fc4c39b2b89554502b5dbdad1ad67eda"
  },
  "kernelspec": {
   "display_name": "Python 3.10.0 64-bit",
   "language": "python",
   "name": "python3"
  },
  "language_info": {
   "codemirror_mode": {
    "name": "ipython",
    "version": 3
   },
   "file_extension": ".py",
   "mimetype": "text/x-python",
   "name": "python",
   "nbconvert_exporter": "python",
   "pygments_lexer": "ipython3",
   "version": "3.8.12"
  }
 },
 "nbformat": 4,
 "nbformat_minor": 2
}
