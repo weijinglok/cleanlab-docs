{
 "cells": [
  {
   "cell_type": "markdown",
   "metadata": {},
   "source": [
    "# Image Classification with Cleanlab, PyTorch & Skorch"
   ]
  },
  {
   "cell_type": "markdown",
   "metadata": {},
   "source": [
    "This tutorial will use Cleanlab to find potential label errors in the MNIST handwritten digit image dataset. This dataset contains 60,000 images of handwritten digits from 0 to 9. We'll find *more than a thousand* highly suspicious examples with label errors and edge cases by the end of this tutorial. \n",
    "\n",
    "**Overview of what we'll do in this tutorial:**\n",
    "\n",
    "- Build a simple PyTorch neural net and wrap it with Skorch to make it scikit-learn compatible.\n",
    "\n",
    "- Compute the cross-validated predicted probabilities, ``pyx``, sometimes known as the out-of-sample predicted probabilities.\n",
    "\n",
    "- Generate a list of potential label errors with Cleanlab's ``get_noise_indices``.\n",
    "\n",
    "- Build and train a more robust model than the vanilla model after adapting it with Cleanlab's ``LearningWithNoisyLabels``. \n",
    "\n",
    "**Data:** https://www.openml.org/d/554"
   ]
  },
  {
   "cell_type": "markdown",
   "metadata": {},
   "source": [
    "## 1. Install the required dependencies"
   ]
  },
  {
   "cell_type": "markdown",
   "metadata": {},
   "source": [
    "``%%capture`` is a magic function to hides the cell's output."
   ]
  },
  {
   "cell_type": "code",
   "execution_count": 1,
   "metadata": {
    "execution": {
     "iopub.execute_input": "2022-03-09T16:23:13.632512Z",
     "iopub.status.busy": "2022-03-09T16:23:13.632204Z",
     "iopub.status.idle": "2022-03-09T16:23:45.003399Z",
     "shell.execute_reply": "2022-03-09T16:23:45.002745Z"
    }
   },
   "outputs": [],
   "source": [
    "%%capture\n",
    "\n",
    "%pip install cleanlab pandas matplotlib torch torchvision skorch"
   ]
  },
  {
   "cell_type": "markdown",
   "metadata": {},
   "source": [
    "## 2. Fetch and scale the MNIST dataset"
   ]
  },
  {
   "cell_type": "code",
   "execution_count": 2,
   "metadata": {
    "execution": {
     "iopub.execute_input": "2022-03-09T16:23:45.007078Z",
     "iopub.status.busy": "2022-03-09T16:23:45.006763Z",
     "iopub.status.idle": "2022-03-09T16:25:16.023616Z",
     "shell.execute_reply": "2022-03-09T16:25:16.023060Z"
    }
   },
   "outputs": [],
   "source": [
    "from sklearn.datasets import fetch_openml\n",
    "\n",
    "# Fetch the MNIST dataset\n",
    "mnist = fetch_openml('mnist_784')\n",
    "\n",
    "# Assign the data features and labels to variable X and y respectively \n",
    "X = mnist.data.astype('float32')\n",
    "y = mnist.target.astype('int64')\n"
   ]
  },
  {
   "cell_type": "markdown",
   "metadata": {},
   "source": [
    "<div class=\"alert alert-info\">\n",
    "\n",
    "Bringing Your Own Data (BYOD)?\n",
    "\n",
    "Assign your data's features to variable ``X`` and its labels to variable ``y`` instead.\n",
    "\n",
    "</div>"
   ]
  },
  {
   "cell_type": "code",
   "execution_count": 3,
   "metadata": {
    "execution": {
     "iopub.execute_input": "2022-03-09T16:25:16.026805Z",
     "iopub.status.busy": "2022-03-09T16:25:16.026286Z",
     "iopub.status.idle": "2022-03-09T16:25:16.177961Z",
     "shell.execute_reply": "2022-03-09T16:25:16.177452Z"
    }
   },
   "outputs": [],
   "source": [
    "\n",
    "# Scale the features which range from 0 to 255 (256 levels on the grayscale) \n",
    "X /= 255.0\n",
    "\n",
    "# Then convert it to a numpy array\n",
    "X = X.to_numpy()"
   ]
  },
  {
   "cell_type": "markdown",
   "metadata": {},
   "source": [
    "## 3. Define a classification model"
   ]
  },
  {
   "cell_type": "markdown",
   "metadata": {},
   "source": [
    "Here, we define a simple neural network with PyTorch."
   ]
  },
  {
   "cell_type": "code",
   "execution_count": 4,
   "metadata": {
    "execution": {
     "iopub.execute_input": "2022-03-09T16:25:16.181465Z",
     "iopub.status.busy": "2022-03-09T16:25:16.181176Z",
     "iopub.status.idle": "2022-03-09T16:25:16.817687Z",
     "shell.execute_reply": "2022-03-09T16:25:16.817164Z"
    }
   },
   "outputs": [],
   "source": [
    "from torch import nn\n",
    "\n",
    "class NeuralNetwork(nn.Module):\n",
    "    def __init__(self):\n",
    "        super(NeuralNetwork, self).__init__()\n",
    "        self.dropout = nn.Dropout(0.5)\n",
    "        self.hidden = nn.Linear(28*28, 128)\n",
    "        self.output = nn.Linear(128, 10)\n",
    "\n",
    "    def forward(self, X):\n",
    "        X = nn.functional.relu(self.hidden(X))\n",
    "        X = self.dropout(X)\n",
    "        X = nn.functional.softmax(self.output(X), dim=-1)\n",
    "        return X"
   ]
  },
  {
   "cell_type": "markdown",
   "metadata": {},
   "source": [
    "## 4. Wrap with Skorch for scikit-learn compatibility"
   ]
  },
  {
   "cell_type": "markdown",
   "metadata": {},
   "source": [
    "As some of Cleanlab's feature requires scikit-learn compatibility, we will need to adapt the above PyTorch neural net accordingly. Skorch is a convenient package that helps with this, read more about it here: https://skorch.readthedocs.io"
   ]
  },
  {
   "cell_type": "code",
   "execution_count": 5,
   "metadata": {
    "execution": {
     "iopub.execute_input": "2022-03-09T16:25:16.821119Z",
     "iopub.status.busy": "2022-03-09T16:25:16.820756Z",
     "iopub.status.idle": "2022-03-09T16:25:16.923093Z",
     "shell.execute_reply": "2022-03-09T16:25:16.922558Z"
    }
   },
   "outputs": [],
   "source": [
    "from skorch import NeuralNetClassifier\n",
    "\n",
    "# Wrap the PyTorch neural net around Skorch's NeuralNetClassifier wrapper\n",
    "net = NeuralNetClassifier(NeuralNetwork)"
   ]
  },
  {
   "cell_type": "markdown",
   "metadata": {},
   "source": [
    "## 5. Compute the cross-validated predicted probabilities"
   ]
  },
  {
   "cell_type": "markdown",
   "metadata": {},
   "source": [
    "If we'd like Cleanlab to identify potential label errors in the whole dataset and not just the training set, we can consider fitting the entire dataset. We will only use this model instance to compute the cross-validated predicted probabilities, ``pyx``, and not for model evaluation."
   ]
  },
  {
   "cell_type": "code",
   "execution_count": 6,
   "metadata": {
    "execution": {
     "iopub.execute_input": "2022-03-09T16:25:16.926214Z",
     "iopub.status.busy": "2022-03-09T16:25:16.925751Z",
     "iopub.status.idle": "2022-03-09T16:25:32.257616Z",
     "shell.execute_reply": "2022-03-09T16:25:32.257018Z"
    }
   },
   "outputs": [
    {
     "name": "stdout",
     "output_type": "stream",
     "text": [
      "  epoch    train_loss    valid_acc    valid_loss     dur\n",
      "-------  ------------  -----------  ------------  ------\n",
      "      1        \u001b[36m1.7990\u001b[0m       \u001b[32m0.7904\u001b[0m        \u001b[35m1.1664\u001b[0m  1.5282\n"
     ]
    },
    {
     "name": "stdout",
     "output_type": "stream",
     "text": [
      "      2        \u001b[36m0.9672\u001b[0m       \u001b[32m0.8405\u001b[0m        \u001b[35m0.6855\u001b[0m  1.5150\n"
     ]
    },
    {
     "name": "stdout",
     "output_type": "stream",
     "text": [
      "      3        \u001b[36m0.7169\u001b[0m       \u001b[32m0.8644\u001b[0m        \u001b[35m0.5426\u001b[0m  1.5103\n"
     ]
    },
    {
     "name": "stdout",
     "output_type": "stream",
     "text": [
      "      4        \u001b[36m0.6107\u001b[0m       \u001b[32m0.8765\u001b[0m        \u001b[35m0.4733\u001b[0m  1.5133\n"
     ]
    },
    {
     "name": "stdout",
     "output_type": "stream",
     "text": [
      "      5        \u001b[36m0.5515\u001b[0m       \u001b[32m0.8862\u001b[0m        \u001b[35m0.4302\u001b[0m  1.5081\n"
     ]
    },
    {
     "name": "stdout",
     "output_type": "stream",
     "text": [
      "      6        \u001b[36m0.5076\u001b[0m       \u001b[32m0.8916\u001b[0m        \u001b[35m0.4006\u001b[0m  1.6100\n"
     ]
    },
    {
     "name": "stdout",
     "output_type": "stream",
     "text": [
      "      7        \u001b[36m0.4768\u001b[0m       \u001b[32m0.8954\u001b[0m        \u001b[35m0.3780\u001b[0m  1.5278\n"
     ]
    },
    {
     "name": "stdout",
     "output_type": "stream",
     "text": [
      "      8        \u001b[36m0.4536\u001b[0m       \u001b[32m0.8994\u001b[0m        \u001b[35m0.3611\u001b[0m  1.5184\n"
     ]
    },
    {
     "name": "stdout",
     "output_type": "stream",
     "text": [
      "      9        \u001b[36m0.4321\u001b[0m       \u001b[32m0.9019\u001b[0m        \u001b[35m0.3466\u001b[0m  1.5152\n"
     ]
    },
    {
     "name": "stdout",
     "output_type": "stream",
     "text": [
      "     10        \u001b[36m0.4163\u001b[0m       \u001b[32m0.9053\u001b[0m        \u001b[35m0.3334\u001b[0m  1.5115\n"
     ]
    }
   ],
   "source": [
    "_ = net.fit(X, y)"
   ]
  },
  {
   "cell_type": "markdown",
   "metadata": {},
   "source": [
    "Compute the cross-validated predicted probabilities, ``pyx``, sometimes also known as the out-of-sample predicted probabilities."
   ]
  },
  {
   "cell_type": "code",
   "execution_count": 7,
   "metadata": {
    "execution": {
     "iopub.execute_input": "2022-03-09T16:25:32.260418Z",
     "iopub.status.busy": "2022-03-09T16:25:32.259964Z",
     "iopub.status.idle": "2022-03-09T16:25:53.735799Z",
     "shell.execute_reply": "2022-03-09T16:25:53.735273Z"
    }
   },
   "outputs": [
    {
     "name": "stdout",
     "output_type": "stream",
     "text": [
      "  epoch    train_loss    valid_acc    valid_loss     dur\n",
      "-------  ------------  -----------  ------------  ------\n",
      "      1        \u001b[36m1.9658\u001b[0m       \u001b[32m0.7286\u001b[0m        \u001b[35m1.5343\u001b[0m  0.6572\n"
     ]
    },
    {
     "name": "stdout",
     "output_type": "stream",
     "text": [
      "      2        \u001b[36m1.2278\u001b[0m       \u001b[32m0.8003\u001b[0m        \u001b[35m0.9392\u001b[0m  0.7050\n"
     ]
    },
    {
     "name": "stdout",
     "output_type": "stream",
     "text": [
      "      3        \u001b[36m0.8700\u001b[0m       \u001b[32m0.8324\u001b[0m        \u001b[35m0.7134\u001b[0m  0.6559\n"
     ]
    },
    {
     "name": "stdout",
     "output_type": "stream",
     "text": [
      "      4        \u001b[36m0.7173\u001b[0m       \u001b[32m0.8499\u001b[0m        \u001b[35m0.6058\u001b[0m  0.6661\n"
     ]
    },
    {
     "name": "stdout",
     "output_type": "stream",
     "text": [
      "      5        \u001b[36m0.6371\u001b[0m       \u001b[32m0.8608\u001b[0m        \u001b[35m0.5447\u001b[0m  0.6612\n"
     ]
    },
    {
     "name": "stdout",
     "output_type": "stream",
     "text": [
      "      6        \u001b[36m0.5795\u001b[0m       \u001b[32m0.8667\u001b[0m        \u001b[35m0.5024\u001b[0m  0.6588\n"
     ]
    },
    {
     "name": "stdout",
     "output_type": "stream",
     "text": [
      "      7        \u001b[36m0.5426\u001b[0m       \u001b[32m0.8717\u001b[0m        \u001b[35m0.4731\u001b[0m  0.6616\n"
     ]
    },
    {
     "name": "stdout",
     "output_type": "stream",
     "text": [
      "      8        \u001b[36m0.5095\u001b[0m       \u001b[32m0.8760\u001b[0m        \u001b[35m0.4488\u001b[0m  0.6613\n"
     ]
    },
    {
     "name": "stdout",
     "output_type": "stream",
     "text": [
      "      9        \u001b[36m0.4883\u001b[0m       \u001b[32m0.8800\u001b[0m        \u001b[35m0.4299\u001b[0m  0.6625\n"
     ]
    },
    {
     "name": "stdout",
     "output_type": "stream",
     "text": [
      "     10        \u001b[36m0.4680\u001b[0m       \u001b[32m0.8818\u001b[0m        \u001b[35m0.4149\u001b[0m  0.6613\n"
     ]
    },
    {
     "name": "stdout",
     "output_type": "stream",
     "text": [
      "  epoch    train_loss    valid_acc    valid_loss     dur\n",
      "-------  ------------  -----------  ------------  ------\n",
      "      1        \u001b[36m1.9988\u001b[0m       \u001b[32m0.7449\u001b[0m        \u001b[35m1.5906\u001b[0m  0.6751\n"
     ]
    },
    {
     "name": "stdout",
     "output_type": "stream",
     "text": [
      "      2        \u001b[36m1.2907\u001b[0m       \u001b[32m0.8042\u001b[0m        \u001b[35m0.9642\u001b[0m  0.6814\n"
     ]
    },
    {
     "name": "stdout",
     "output_type": "stream",
     "text": [
      "      3        \u001b[36m0.9171\u001b[0m       \u001b[32m0.8355\u001b[0m        \u001b[35m0.7176\u001b[0m  0.6750\n"
     ]
    },
    {
     "name": "stdout",
     "output_type": "stream",
     "text": [
      "      4        \u001b[36m0.7486\u001b[0m       \u001b[32m0.8524\u001b[0m        \u001b[35m0.6000\u001b[0m  0.6756\n"
     ]
    },
    {
     "name": "stdout",
     "output_type": "stream",
     "text": [
      "      5        \u001b[36m0.6581\u001b[0m       \u001b[32m0.8646\u001b[0m        \u001b[35m0.5324\u001b[0m  0.6747\n"
     ]
    },
    {
     "name": "stdout",
     "output_type": "stream",
     "text": [
      "      6        \u001b[36m0.5985\u001b[0m       \u001b[32m0.8732\u001b[0m        \u001b[35m0.4863\u001b[0m  0.6760\n"
     ]
    },
    {
     "name": "stdout",
     "output_type": "stream",
     "text": [
      "      7        \u001b[36m0.5546\u001b[0m       \u001b[32m0.8803\u001b[0m        \u001b[35m0.4533\u001b[0m  0.6758\n"
     ]
    },
    {
     "name": "stdout",
     "output_type": "stream",
     "text": [
      "      8        \u001b[36m0.5252\u001b[0m       \u001b[32m0.8859\u001b[0m        \u001b[35m0.4293\u001b[0m  0.6757\n"
     ]
    },
    {
     "name": "stdout",
     "output_type": "stream",
     "text": [
      "      9        \u001b[36m0.5030\u001b[0m       \u001b[32m0.8906\u001b[0m        \u001b[35m0.4104\u001b[0m  0.6746\n"
     ]
    },
    {
     "name": "stdout",
     "output_type": "stream",
     "text": [
      "     10        \u001b[36m0.4790\u001b[0m       \u001b[32m0.8935\u001b[0m        \u001b[35m0.3946\u001b[0m  0.6729\n"
     ]
    },
    {
     "name": "stdout",
     "output_type": "stream",
     "text": [
      "  epoch    train_loss    valid_acc    valid_loss     dur\n",
      "-------  ------------  -----------  ------------  ------\n",
      "      1        \u001b[36m2.0418\u001b[0m       \u001b[32m0.7064\u001b[0m        \u001b[35m1.6524\u001b[0m  0.6961\n"
     ]
    },
    {
     "name": "stdout",
     "output_type": "stream",
     "text": [
      "      2        \u001b[36m1.3542\u001b[0m       \u001b[32m0.8046\u001b[0m        \u001b[35m0.9892\u001b[0m  0.6738\n"
     ]
    },
    {
     "name": "stdout",
     "output_type": "stream",
     "text": [
      "      3        \u001b[36m0.9503\u001b[0m       \u001b[32m0.8439\u001b[0m        \u001b[35m0.7194\u001b[0m  0.6728\n"
     ]
    },
    {
     "name": "stdout",
     "output_type": "stream",
     "text": [
      "      4        \u001b[36m0.7747\u001b[0m       \u001b[32m0.8615\u001b[0m        \u001b[35m0.5965\u001b[0m  0.6731\n"
     ]
    },
    {
     "name": "stdout",
     "output_type": "stream",
     "text": [
      "      5        \u001b[36m0.6821\u001b[0m       \u001b[32m0.8711\u001b[0m        \u001b[35m0.5264\u001b[0m  0.6712\n"
     ]
    },
    {
     "name": "stdout",
     "output_type": "stream",
     "text": [
      "      6        \u001b[36m0.6184\u001b[0m       \u001b[32m0.8800\u001b[0m        \u001b[35m0.4793\u001b[0m  0.6711\n"
     ]
    },
    {
     "name": "stdout",
     "output_type": "stream",
     "text": [
      "      7        \u001b[36m0.5778\u001b[0m       \u001b[32m0.8869\u001b[0m        \u001b[35m0.4465\u001b[0m  0.6773\n"
     ]
    },
    {
     "name": "stdout",
     "output_type": "stream",
     "text": [
      "      8        \u001b[36m0.5408\u001b[0m       \u001b[32m0.8901\u001b[0m        \u001b[35m0.4218\u001b[0m  0.6729\n"
     ]
    },
    {
     "name": "stdout",
     "output_type": "stream",
     "text": [
      "      9        \u001b[36m0.5181\u001b[0m       \u001b[32m0.8947\u001b[0m        \u001b[35m0.4020\u001b[0m  0.6727\n"
     ]
    },
    {
     "name": "stdout",
     "output_type": "stream",
     "text": [
      "     10        \u001b[36m0.4984\u001b[0m       \u001b[32m0.8980\u001b[0m        \u001b[35m0.3860\u001b[0m  0.6741\n"
     ]
    }
   ],
   "source": [
    "from sklearn.model_selection import cross_val_predict\n",
    "\n",
    "pyx = cross_val_predict(net, X, y, cv=3, method='predict_proba')"
   ]
  },
  {
   "cell_type": "markdown",
   "metadata": {},
   "source": [
    "## 6. Run Cleanlab to find potential label errors"
   ]
  },
  {
   "cell_type": "markdown",
   "metadata": {},
   "source": [
    "Cleanlab has a ``get_noise_indices`` function to generate a list of potential label errors. Setting ``sorted_index_method=\"prob_given_label\"`` returns the indices of all the most likely label errors, sorted by the most suspicious example first."
   ]
  },
  {
   "cell_type": "code",
   "execution_count": 8,
   "metadata": {
    "execution": {
     "iopub.execute_input": "2022-03-09T16:25:53.738797Z",
     "iopub.status.busy": "2022-03-09T16:25:53.738420Z",
     "iopub.status.idle": "2022-03-09T16:25:54.137911Z",
     "shell.execute_reply": "2022-03-09T16:25:54.137242Z"
    }
   },
   "outputs": [],
   "source": [
    "from cleanlab.pruning import get_noise_indices\n",
    "\n",
    "ordered_label_errors = get_noise_indices(\n",
    "    s=y,\n",
    "    psx=pyx,\n",
    "    sorted_index_method=\"prob_given_label\"\n",
    ")"
   ]
  },
  {
   "cell_type": "markdown",
   "metadata": {},
   "source": [
    "## 7. Review some of the most likely mislabeled examples"
   ]
  },
  {
   "cell_type": "code",
   "execution_count": 9,
   "metadata": {
    "execution": {
     "iopub.execute_input": "2022-03-09T16:25:54.141777Z",
     "iopub.status.busy": "2022-03-09T16:25:54.141303Z",
     "iopub.status.idle": "2022-03-09T16:25:54.145864Z",
     "shell.execute_reply": "2022-03-09T16:25:54.145348Z"
    }
   },
   "outputs": [
    {
     "name": "stdout",
     "output_type": "stream",
     "text": [
      "Cleanlab found 1313 potential label errors. Here are the indices of the top 15 most likely ones: \n",
      " [24798 18598  8729 61790 53216 20820 15942 31134 12679  1352  7010 13031\n",
      " 59915 66091 55739]\n"
     ]
    }
   ],
   "source": [
    "print(f\"Cleanlab found {len(ordered_label_errors)} potential label errors. Here are the indices of the top 15 most likely ones: \\n {ordered_label_errors[:15]}\")"
   ]
  },
  {
   "cell_type": "markdown",
   "metadata": {},
   "source": [
    "We'll define a new ``plot_examples`` function to display any examples in a subplot conveniently."
   ]
  },
  {
   "cell_type": "code",
   "execution_count": 10,
   "metadata": {
    "execution": {
     "iopub.execute_input": "2022-03-09T16:25:54.148248Z",
     "iopub.status.busy": "2022-03-09T16:25:54.147941Z",
     "iopub.status.idle": "2022-03-09T16:25:54.924316Z",
     "shell.execute_reply": "2022-03-09T16:25:54.923777Z"
    }
   },
   "outputs": [],
   "source": [
    "import matplotlib.pyplot as plt\n",
    "\n",
    "def plot_examples(id_iter, nrows=1, ncols=1):\n",
    "    for count, id in enumerate(id_iter):\n",
    "        plt.subplot(nrows, ncols, count+1)\n",
    "        plt.imshow(X[id].reshape(28, 28))\n",
    "        plt.title(f\"id: {id} \\n label: {y[id]}\")\n",
    "        plt.axis('off')\n",
    "\n",
    "    plt.tight_layout(h_pad=2.0)"
   ]
  },
  {
   "cell_type": "markdown",
   "metadata": {},
   "source": [
    "Let's start by having an overview of the top 15 most likely label errors. From here, we can see a few label errors and edge cases. Feel free to change the parameters to display more or fewer examples. "
   ]
  },
  {
   "cell_type": "code",
   "execution_count": 11,
   "metadata": {
    "execution": {
     "iopub.execute_input": "2022-03-09T16:25:54.927251Z",
     "iopub.status.busy": "2022-03-09T16:25:54.926828Z",
     "iopub.status.idle": "2022-03-09T16:25:55.356092Z",
     "shell.execute_reply": "2022-03-09T16:25:55.355550Z"
    }
   },
   "outputs": [
    {
     "data": {
      "image/png": "[encoded data removed]",
      "text/plain": [
       "<Figure size 432x288 with 15 Axes>"
      ]
     },
     "metadata": {
      "needs_background": "light"
     },
     "output_type": "display_data"
    }
   ],
   "source": [
    "plot_examples(ordered_label_errors[range(15)], 3, 5)"
   ]
  },
  {
   "cell_type": "markdown",
   "metadata": {},
   "source": [
    "Let's zoom into specific examples:"
   ]
  },
  {
   "cell_type": "markdown",
   "metadata": {},
   "source": [
    "Given label is **4** but looks more like a **7**"
   ]
  },
  {
   "cell_type": "code",
   "execution_count": 12,
   "metadata": {
    "execution": {
     "iopub.execute_input": "2022-03-09T16:25:55.359101Z",
     "iopub.status.busy": "2022-03-09T16:25:55.358823Z",
     "iopub.status.idle": "2022-03-09T16:25:55.411423Z",
     "shell.execute_reply": "2022-03-09T16:25:55.410914Z"
    }
   },
   "outputs": [
    {
     "data": {
      "image/png": "[encoded data removed]",
      "text/plain": [
       "<Figure size 432x288 with 1 Axes>"
      ]
     },
     "metadata": {
      "needs_background": "light"
     },
     "output_type": "display_data"
    }
   ],
   "source": [
    "plot_examples([59915])"
   ]
  },
  {
   "cell_type": "markdown",
   "metadata": {},
   "source": [
    "Given label is **4** but also looks like **9**"
   ]
  },
  {
   "cell_type": "code",
   "execution_count": 13,
   "metadata": {
    "execution": {
     "iopub.execute_input": "2022-03-09T16:25:55.414400Z",
     "iopub.status.busy": "2022-03-09T16:25:55.414128Z",
     "iopub.status.idle": "2022-03-09T16:25:55.466672Z",
     "shell.execute_reply": "2022-03-09T16:25:55.466186Z"
    }
   },
   "outputs": [
    {
     "data": {
      "image/png": "[encoded data removed]",
      "text/plain": [
       "<Figure size 432x288 with 1 Axes>"
      ]
     },
     "metadata": {
      "needs_background": "light"
     },
     "output_type": "display_data"
    }
   ],
   "source": [
    "plot_examples([24798])"
   ]
  },
  {
   "cell_type": "markdown",
   "metadata": {},
   "source": [
    "Edge case of odd looking **9**s"
   ]
  },
  {
   "cell_type": "code",
   "execution_count": 14,
   "metadata": {
    "execution": {
     "iopub.execute_input": "2022-03-09T16:25:55.469791Z",
     "iopub.status.busy": "2022-03-09T16:25:55.469520Z",
     "iopub.status.idle": "2022-03-09T16:25:55.654124Z",
     "shell.execute_reply": "2022-03-09T16:25:55.653611Z"
    }
   },
   "outputs": [
    {
     "data": {
      "image/png": "[encoded data removed]",
      "text/plain": [
       "<Figure size 432x288 with 3 Axes>"
      ]
     },
     "metadata": {
      "needs_background": "light"
     },
     "output_type": "display_data"
    }
   ],
   "source": [
    "plot_examples([18598, 1352, 61247], 1, 3)"
   ]
  },
  {
   "cell_type": "markdown",
   "metadata": {},
   "source": [
    "Cleanlab has shortlisted the most likely label errors to speed up your data cleaning process. With this list, you can decide whether to fix label errors, augment edge cases or remove obscure examples. \n",
    "\n",
    "These human-in-the-loop processes may be time-consuming, so if you'd like Cleanlab to automatically remove these noisy examples and train a model directly on the partially mislabeled dataset, you're in luck! Cleanlab provides a ``LearningWithNoisyLabels`` wrapper to do precisely this:"
   ]
  },
  {
   "cell_type": "markdown",
   "metadata": {},
   "source": [
    "## 8. Adapt with Cleanlab's wrapper and train a more robust model"
   ]
  },
  {
   "cell_type": "markdown",
   "metadata": {},
   "source": [
    "First, we split the dataset into train and test subsets."
   ]
  },
  {
   "cell_type": "code",
   "execution_count": 15,
   "metadata": {
    "execution": {
     "iopub.execute_input": "2022-03-09T16:25:55.657205Z",
     "iopub.status.busy": "2022-03-09T16:25:55.656718Z",
     "iopub.status.idle": "2022-03-09T16:25:56.012816Z",
     "shell.execute_reply": "2022-03-09T16:25:56.012287Z"
    }
   },
   "outputs": [],
   "source": [
    "from sklearn.model_selection import train_test_split\n",
    "\n",
    "X_train, X_test, y_train, y_test = train_test_split(X, y, test_size=0.2)"
   ]
  },
  {
   "cell_type": "markdown",
   "metadata": {},
   "source": [
    "Re-instantiate a new scikit-learn compatible model with Skorch then wrap it with Cleanlab's ``LearningWithNoisyLabels`` wrapper."
   ]
  },
  {
   "cell_type": "code",
   "execution_count": 16,
   "metadata": {
    "execution": {
     "iopub.execute_input": "2022-03-09T16:25:56.016258Z",
     "iopub.status.busy": "2022-03-09T16:25:56.015790Z",
     "iopub.status.idle": "2022-03-09T16:25:56.020073Z",
     "shell.execute_reply": "2022-03-09T16:25:56.019631Z"
    }
   },
   "outputs": [],
   "source": [
    "from cleanlab.classification import LearningWithNoisyLabels\n",
    "\n",
    "net = NeuralNetClassifier(NeuralNetwork)\n",
    "clf = LearningWithNoisyLabels(clf=net)"
   ]
  },
  {
   "cell_type": "code",
   "execution_count": 17,
   "metadata": {
    "execution": {
     "iopub.execute_input": "2022-03-09T16:25:56.022507Z",
     "iopub.status.busy": "2022-03-09T16:25:56.022095Z",
     "iopub.status.idle": "2022-03-09T16:26:37.586559Z",
     "shell.execute_reply": "2022-03-09T16:26:37.585918Z"
    }
   },
   "outputs": [
    {
     "name": "stdout",
     "output_type": "stream",
     "text": [
      "  epoch    train_loss    valid_acc    valid_loss     dur\n",
      "-------  ------------  -----------  ------------  ------\n",
      "      1        \u001b[36m2.0266\u001b[0m       \u001b[32m0.7383\u001b[0m        \u001b[35m1.6378\u001b[0m  0.6358\n"
     ]
    },
    {
     "name": "stdout",
     "output_type": "stream",
     "text": [
      "      2        \u001b[36m1.3243\u001b[0m       \u001b[32m0.8171\u001b[0m        \u001b[35m0.9904\u001b[0m  0.6427\n"
     ]
    },
    {
     "name": "stdout",
     "output_type": "stream",
     "text": [
      "      3        \u001b[36m0.9331\u001b[0m       \u001b[32m0.8416\u001b[0m        \u001b[35m0.7335\u001b[0m  0.6414\n"
     ]
    },
    {
     "name": "stdout",
     "output_type": "stream",
     "text": [
      "      4        \u001b[36m0.7612\u001b[0m       \u001b[32m0.8569\u001b[0m        \u001b[35m0.6137\u001b[0m  0.6334\n"
     ]
    },
    {
     "name": "stdout",
     "output_type": "stream",
     "text": [
      "      5        \u001b[36m0.6698\u001b[0m       \u001b[32m0.8648\u001b[0m        \u001b[35m0.5450\u001b[0m  0.6745\n"
     ]
    },
    {
     "name": "stdout",
     "output_type": "stream",
     "text": [
      "      6        \u001b[36m0.6092\u001b[0m       \u001b[32m0.8728\u001b[0m        \u001b[35m0.4997\u001b[0m  0.6360\n"
     ]
    },
    {
     "name": "stdout",
     "output_type": "stream",
     "text": [
      "      7        \u001b[36m0.5709\u001b[0m       \u001b[32m0.8773\u001b[0m        \u001b[35m0.4668\u001b[0m  0.6343\n"
     ]
    },
    {
     "name": "stdout",
     "output_type": "stream",
     "text": [
      "      8        \u001b[36m0.5358\u001b[0m       \u001b[32m0.8817\u001b[0m        \u001b[35m0.4421\u001b[0m  0.6337\n"
     ]
    },
    {
     "name": "stdout",
     "output_type": "stream",
     "text": [
      "      9        \u001b[36m0.5142\u001b[0m       \u001b[32m0.8867\u001b[0m        \u001b[35m0.4223\u001b[0m  0.6356\n"
     ]
    },
    {
     "name": "stdout",
     "output_type": "stream",
     "text": [
      "     10        \u001b[36m0.4889\u001b[0m       \u001b[32m0.8905\u001b[0m        \u001b[35m0.4056\u001b[0m  0.6356\n"
     ]
    },
    {
     "name": "stdout",
     "output_type": "stream",
     "text": [
      "  epoch    train_loss    valid_acc    valid_loss     dur\n",
      "-------  ------------  -----------  ------------  ------\n",
      "      1        \u001b[36m1.9838\u001b[0m       \u001b[32m0.7532\u001b[0m        \u001b[35m1.5647\u001b[0m  0.6332\n"
     ]
    },
    {
     "name": "stdout",
     "output_type": "stream",
     "text": [
      "      2        \u001b[36m1.2699\u001b[0m       \u001b[32m0.8183\u001b[0m        \u001b[35m0.9481\u001b[0m  0.6338\n"
     ]
    },
    {
     "name": "stdout",
     "output_type": "stream",
     "text": [
      "      3        \u001b[36m0.9046\u001b[0m       \u001b[32m0.8483\u001b[0m        \u001b[35m0.7096\u001b[0m  0.6331\n"
     ]
    },
    {
     "name": "stdout",
     "output_type": "stream",
     "text": [
      "      4        \u001b[36m0.7479\u001b[0m       \u001b[32m0.8625\u001b[0m        \u001b[35m0.5968\u001b[0m  0.6431\n"
     ]
    },
    {
     "name": "stdout",
     "output_type": "stream",
     "text": [
      "      5        \u001b[36m0.6594\u001b[0m       \u001b[32m0.8723\u001b[0m        \u001b[35m0.5299\u001b[0m  0.6362\n"
     ]
    },
    {
     "name": "stdout",
     "output_type": "stream",
     "text": [
      "      6        \u001b[36m0.5977\u001b[0m       \u001b[32m0.8800\u001b[0m        \u001b[35m0.4865\u001b[0m  0.6375\n"
     ]
    },
    {
     "name": "stdout",
     "output_type": "stream",
     "text": [
      "      7        \u001b[36m0.5590\u001b[0m       \u001b[32m0.8854\u001b[0m        \u001b[35m0.4553\u001b[0m  0.6379\n"
     ]
    },
    {
     "name": "stdout",
     "output_type": "stream",
     "text": [
      "      8        \u001b[36m0.5279\u001b[0m       \u001b[32m0.8884\u001b[0m        \u001b[35m0.4320\u001b[0m  0.6364\n"
     ]
    },
    {
     "name": "stdout",
     "output_type": "stream",
     "text": [
      "      9        \u001b[36m0.5000\u001b[0m       \u001b[32m0.8922\u001b[0m        \u001b[35m0.4125\u001b[0m  0.6371\n"
     ]
    },
    {
     "name": "stdout",
     "output_type": "stream",
     "text": [
      "     10        \u001b[36m0.4808\u001b[0m       \u001b[32m0.8952\u001b[0m        \u001b[35m0.3977\u001b[0m  0.6355\n"
     ]
    },
    {
     "name": "stdout",
     "output_type": "stream",
     "text": [
      "  epoch    train_loss    valid_acc    valid_loss     dur\n",
      "-------  ------------  -----------  ------------  ------\n",
      "      1        \u001b[36m2.0091\u001b[0m       \u001b[32m0.7632\u001b[0m        \u001b[35m1.6091\u001b[0m  0.6352\n"
     ]
    },
    {
     "name": "stdout",
     "output_type": "stream",
     "text": [
      "      2        \u001b[36m1.3014\u001b[0m       \u001b[32m0.8191\u001b[0m        \u001b[35m0.9718\u001b[0m  0.6353\n"
     ]
    },
    {
     "name": "stdout",
     "output_type": "stream",
     "text": [
      "      3        \u001b[36m0.9189\u001b[0m       \u001b[32m0.8444\u001b[0m        \u001b[35m0.7200\u001b[0m  0.6398\n"
     ]
    },
    {
     "name": "stdout",
     "output_type": "stream",
     "text": [
      "      4        \u001b[36m0.7547\u001b[0m       \u001b[32m0.8602\u001b[0m        \u001b[35m0.6046\u001b[0m  0.6348\n"
     ]
    },
    {
     "name": "stdout",
     "output_type": "stream",
     "text": [
      "      5        \u001b[36m0.6594\u001b[0m       \u001b[32m0.8691\u001b[0m        \u001b[35m0.5356\u001b[0m  0.6729\n"
     ]
    },
    {
     "name": "stdout",
     "output_type": "stream",
     "text": [
      "      6        \u001b[36m0.6017\u001b[0m       \u001b[32m0.8763\u001b[0m        \u001b[35m0.4911\u001b[0m  0.6373\n"
     ]
    },
    {
     "name": "stdout",
     "output_type": "stream",
     "text": [
      "      7        \u001b[36m0.5624\u001b[0m       \u001b[32m0.8809\u001b[0m        \u001b[35m0.4594\u001b[0m  0.6365\n"
     ]
    },
    {
     "name": "stdout",
     "output_type": "stream",
     "text": [
      "      8        \u001b[36m0.5297\u001b[0m       \u001b[32m0.8842\u001b[0m        \u001b[35m0.4348\u001b[0m  0.6354\n"
     ]
    },
    {
     "name": "stdout",
     "output_type": "stream",
     "text": [
      "      9        \u001b[36m0.5094\u001b[0m       \u001b[32m0.8888\u001b[0m        \u001b[35m0.4164\u001b[0m  0.6371\n"
     ]
    },
    {
     "name": "stdout",
     "output_type": "stream",
     "text": [
      "     10        \u001b[36m0.4841\u001b[0m       \u001b[32m0.8908\u001b[0m        \u001b[35m0.4001\u001b[0m  0.6392\n"
     ]
    },
    {
     "name": "stdout",
     "output_type": "stream",
     "text": [
      "  epoch    train_loss    valid_acc    valid_loss     dur\n",
      "-------  ------------  -----------  ------------  ------\n",
      "      1        \u001b[36m2.0012\u001b[0m       \u001b[32m0.7112\u001b[0m        \u001b[35m1.6089\u001b[0m  0.6362\n"
     ]
    },
    {
     "name": "stdout",
     "output_type": "stream",
     "text": [
      "      2        \u001b[36m1.3141\u001b[0m       \u001b[32m0.8107\u001b[0m        \u001b[35m0.9857\u001b[0m  0.6414\n"
     ]
    },
    {
     "name": "stdout",
     "output_type": "stream",
     "text": [
      "      3        \u001b[36m0.9299\u001b[0m       \u001b[32m0.8439\u001b[0m        \u001b[35m0.7306\u001b[0m  0.6324\n"
     ]
    },
    {
     "name": "stdout",
     "output_type": "stream",
     "text": [
      "      4        \u001b[36m0.7670\u001b[0m       \u001b[32m0.8597\u001b[0m        \u001b[35m0.6109\u001b[0m  0.6332\n"
     ]
    },
    {
     "name": "stdout",
     "output_type": "stream",
     "text": [
      "      5        \u001b[36m0.6736\u001b[0m       \u001b[32m0.8694\u001b[0m        \u001b[35m0.5413\u001b[0m  0.6342\n"
     ]
    },
    {
     "name": "stdout",
     "output_type": "stream",
     "text": [
      "      6        \u001b[36m0.6123\u001b[0m       \u001b[32m0.8775\u001b[0m        \u001b[35m0.4953\u001b[0m  0.6344\n"
     ]
    },
    {
     "name": "stdout",
     "output_type": "stream",
     "text": [
      "      7        \u001b[36m0.5680\u001b[0m       \u001b[32m0.8833\u001b[0m        \u001b[35m0.4627\u001b[0m  0.6398\n"
     ]
    },
    {
     "name": "stdout",
     "output_type": "stream",
     "text": [
      "      8        \u001b[36m0.5356\u001b[0m       \u001b[32m0.8867\u001b[0m        \u001b[35m0.4382\u001b[0m  0.6338\n"
     ]
    },
    {
     "name": "stdout",
     "output_type": "stream",
     "text": [
      "      9        \u001b[36m0.5170\u001b[0m       \u001b[32m0.8896\u001b[0m        \u001b[35m0.4199\u001b[0m  0.6348\n"
     ]
    },
    {
     "name": "stdout",
     "output_type": "stream",
     "text": [
      "     10        \u001b[36m0.4924\u001b[0m       \u001b[32m0.8939\u001b[0m        \u001b[35m0.4035\u001b[0m  0.6332\n"
     ]
    },
    {
     "name": "stdout",
     "output_type": "stream",
     "text": [
      "  epoch    train_loss    valid_acc    valid_loss     dur\n",
      "-------  ------------  -----------  ------------  ------\n",
      "      1        \u001b[36m2.0122\u001b[0m       \u001b[32m0.7306\u001b[0m        \u001b[35m1.6161\u001b[0m  0.6393\n"
     ]
    },
    {
     "name": "stdout",
     "output_type": "stream",
     "text": [
      "      2        \u001b[36m1.3139\u001b[0m       \u001b[32m0.8141\u001b[0m        \u001b[35m0.9825\u001b[0m  0.6340\n"
     ]
    },
    {
     "name": "stdout",
     "output_type": "stream",
     "text": [
      "      3        \u001b[36m0.9296\u001b[0m       \u001b[32m0.8443\u001b[0m        \u001b[35m0.7281\u001b[0m  0.6338\n"
     ]
    },
    {
     "name": "stdout",
     "output_type": "stream",
     "text": [
      "      4        \u001b[36m0.7574\u001b[0m       \u001b[32m0.8595\u001b[0m        \u001b[35m0.6096\u001b[0m  0.6332\n"
     ]
    },
    {
     "name": "stdout",
     "output_type": "stream",
     "text": [
      "      5        \u001b[36m0.6673\u001b[0m       \u001b[32m0.8682\u001b[0m        \u001b[35m0.5413\u001b[0m  0.6345\n"
     ]
    },
    {
     "name": "stdout",
     "output_type": "stream",
     "text": [
      "      6        \u001b[36m0.6054\u001b[0m       \u001b[32m0.8759\u001b[0m        \u001b[35m0.4961\u001b[0m  0.6347\n"
     ]
    },
    {
     "name": "stdout",
     "output_type": "stream",
     "text": [
      "      7        \u001b[36m0.5639\u001b[0m       \u001b[32m0.8816\u001b[0m        \u001b[35m0.4639\u001b[0m  0.6375\n"
     ]
    },
    {
     "name": "stdout",
     "output_type": "stream",
     "text": [
      "      8        \u001b[36m0.5322\u001b[0m       \u001b[32m0.8859\u001b[0m        \u001b[35m0.4391\u001b[0m  0.6411\n"
     ]
    },
    {
     "name": "stdout",
     "output_type": "stream",
     "text": [
      "      9        \u001b[36m0.5079\u001b[0m       \u001b[32m0.8882\u001b[0m        \u001b[35m0.4202\u001b[0m  0.6329\n"
     ]
    },
    {
     "name": "stdout",
     "output_type": "stream",
     "text": [
      "     10        \u001b[36m0.4881\u001b[0m       \u001b[32m0.8913\u001b[0m        \u001b[35m0.4043\u001b[0m  0.6390\n"
     ]
    },
    {
     "name": "stdout",
     "output_type": "stream",
     "text": [
      "  epoch    train_loss    valid_acc    valid_loss     dur\n",
      "-------  ------------  -----------  ------------  ------\n",
      "      1        \u001b[36m1.8985\u001b[0m       \u001b[32m0.7935\u001b[0m        \u001b[35m1.3787\u001b[0m  0.8010\n"
     ]
    },
    {
     "name": "stdout",
     "output_type": "stream",
     "text": [
      "      2        \u001b[36m1.0980\u001b[0m       \u001b[32m0.8495\u001b[0m        \u001b[35m0.7847\u001b[0m  0.7959\n"
     ]
    },
    {
     "name": "stdout",
     "output_type": "stream",
     "text": [
      "      3        \u001b[36m0.7716\u001b[0m       \u001b[32m0.8736\u001b[0m        \u001b[35m0.5806\u001b[0m  0.8148\n"
     ]
    },
    {
     "name": "stdout",
     "output_type": "stream",
     "text": [
      "      4        \u001b[36m0.6270\u001b[0m       \u001b[32m0.8835\u001b[0m        \u001b[35m0.4831\u001b[0m  0.7923\n"
     ]
    },
    {
     "name": "stdout",
     "output_type": "stream",
     "text": [
      "      5        \u001b[36m0.5507\u001b[0m       \u001b[32m0.8943\u001b[0m        \u001b[35m0.4263\u001b[0m  0.7905\n"
     ]
    },
    {
     "name": "stdout",
     "output_type": "stream",
     "text": [
      "      6        \u001b[36m0.4998\u001b[0m       \u001b[32m0.8998\u001b[0m        \u001b[35m0.3883\u001b[0m  0.7891\n"
     ]
    },
    {
     "name": "stdout",
     "output_type": "stream",
     "text": [
      "      7        \u001b[36m0.4622\u001b[0m       \u001b[32m0.9047\u001b[0m        \u001b[35m0.3609\u001b[0m  0.7940\n"
     ]
    },
    {
     "name": "stdout",
     "output_type": "stream",
     "text": [
      "      8        \u001b[36m0.4339\u001b[0m       \u001b[32m0.9080\u001b[0m        \u001b[35m0.3404\u001b[0m  0.7942\n"
     ]
    },
    {
     "name": "stdout",
     "output_type": "stream",
     "text": [
      "      9        \u001b[36m0.4105\u001b[0m       \u001b[32m0.9111\u001b[0m        \u001b[35m0.3233\u001b[0m  0.7927\n"
     ]
    },
    {
     "name": "stdout",
     "output_type": "stream",
     "text": [
      "     10        \u001b[36m0.3952\u001b[0m       \u001b[32m0.9137\u001b[0m        \u001b[35m0.3097\u001b[0m  0.7923\n"
     ]
    }
   ],
   "source": [
    "_ = clf.fit(X_train, y_train.to_numpy())"
   ]
  },
  {
   "cell_type": "markdown",
   "metadata": {},
   "source": [
    "## 9. Evaluate the robust model's performance"
   ]
  },
  {
   "cell_type": "code",
   "execution_count": 18,
   "metadata": {
    "execution": {
     "iopub.execute_input": "2022-03-09T16:26:37.589583Z",
     "iopub.status.busy": "2022-03-09T16:26:37.589090Z",
     "iopub.status.idle": "2022-03-09T16:26:37.782143Z",
     "shell.execute_reply": "2022-03-09T16:26:37.781655Z"
    }
   },
   "outputs": [
    {
     "data": {
      "text/plain": [
       "0.9000714285714285"
      ]
     },
     "execution_count": 18,
     "metadata": {},
     "output_type": "execute_result"
    }
   ],
   "source": [
    "from sklearn.metrics import accuracy_score\n",
    "\n",
    "y_pred = clf.predict(X_test)\n",
    "accuracy_score(y_test, y_pred)"
   ]
  },
  {
   "cell_type": "markdown",
   "metadata": {},
   "source": [
    "## What's next?"
   ]
  },
  {
   "cell_type": "markdown",
   "metadata": {},
   "source": [
    "Congratulations on completing this tutorial! Check out our following tutorial on using Cleanlab for text classification, where we found *hundreds* of potential label errors in one of the most well-known text datasets, the IMBDb movie review dataset!"
   ]
  }
 ],
 "metadata": {
  "interpreter": {
   "hash": "ced20e3e49bb4fa4ce8ad38f8f2535b7fc4c39b2b89554502b5dbdad1ad67eda"
  },
  "kernelspec": {
   "display_name": "Python 3.10.0 64-bit",
   "language": "python",
   "name": "python3"
  },
  "language_info": {
   "codemirror_mode": {
    "name": "ipython",
    "version": 3
   },
   "file_extension": ".py",
   "mimetype": "text/x-python",
   "name": "python",
   "nbconvert_exporter": "python",
   "pygments_lexer": "ipython3",
   "version": "3.8.12"
  }
 },
 "nbformat": 4,
 "nbformat_minor": 2
}
