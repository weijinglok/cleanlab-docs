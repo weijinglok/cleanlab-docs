{
 "cells": [
  {
   "cell_type": "markdown",
   "metadata": {},
   "source": [
    "# Image Classification with Cleanlab, PyTorch & Skorch"
   ]
  },
  {
   "cell_type": "markdown",
   "metadata": {},
   "source": [
    "This tutorial will use Cleanlab to find potential label errors in the MNIST handwritten digit image dataset. This dataset contains 60,000 images of handwritten digits from 0 to 9. We'll find *more than a thousand* highly suspicious examples with label errors and edge cases by the end of this tutorial. \n",
    "\n",
    "**Overview of what we'll do in this tutorial:**\n",
    "\n",
    "- Build a simple PyTorch neural net and wrap it with Skorch to make it scikit-learn compatible.\n",
    "\n",
    "- Compute the cross-validated predicted probabilities, ``pyx``, sometimes known as the out-of-sample predicted probabilities.\n",
    "\n",
    "- Generate a list of potential label errors with Cleanlab's ``get_noise_indices``.\n",
    "\n",
    "- Build and train a more robust model than the vanilla model after adapting it with Cleanlab's ``LearningWithNoisyLabels``. \n",
    "\n",
    "**Data:** https://www.openml.org/d/554"
   ]
  },
  {
   "cell_type": "markdown",
   "metadata": {},
   "source": [
    "## 1. Install the required dependencies"
   ]
  },
  {
   "cell_type": "markdown",
   "metadata": {},
   "source": [
    "``%%capture`` is a magic function to hides the cell's output."
   ]
  },
  {
   "cell_type": "code",
   "execution_count": 1,
   "metadata": {
    "execution": {
     "iopub.execute_input": "2022-03-09T19:00:34.136017Z",
     "iopub.status.busy": "2022-03-09T19:00:34.135712Z",
     "iopub.status.idle": "2022-03-09T19:01:05.305042Z",
     "shell.execute_reply": "2022-03-09T19:01:05.304231Z"
    }
   },
   "outputs": [],
   "source": [
    "%%capture\n",
    "\n",
    "%pip install cleanlab pandas matplotlib torch torchvision skorch"
   ]
  },
  {
   "cell_type": "markdown",
   "metadata": {},
   "source": [
    "## 2. Fetch and scale the MNIST dataset"
   ]
  },
  {
   "cell_type": "code",
   "execution_count": 2,
   "metadata": {
    "execution": {
     "iopub.execute_input": "2022-03-09T19:01:05.308394Z",
     "iopub.status.busy": "2022-03-09T19:01:05.308097Z",
     "iopub.status.idle": "2022-03-09T19:02:41.015111Z",
     "shell.execute_reply": "2022-03-09T19:02:41.014566Z"
    }
   },
   "outputs": [],
   "source": [
    "from sklearn.datasets import fetch_openml\n",
    "\n",
    "# Fetch the MNIST dataset\n",
    "mnist = fetch_openml('mnist_784')\n",
    "\n",
    "# Assign the data features and labels to variable X and y respectively \n",
    "X = mnist.data.astype('float32')\n",
    "y = mnist.target.astype('int64')\n"
   ]
  },
  {
   "cell_type": "markdown",
   "metadata": {},
   "source": [
    "<div class=\"alert alert-info\">\n",
    "\n",
    "Bringing Your Own Data (BYOD)?\n",
    "\n",
    "Assign your data's features to variable ``X`` and its labels to variable ``y`` instead.\n",
    "\n",
    "</div>"
   ]
  },
  {
   "cell_type": "code",
   "execution_count": 3,
   "metadata": {
    "execution": {
     "iopub.execute_input": "2022-03-09T19:02:41.018288Z",
     "iopub.status.busy": "2022-03-09T19:02:41.017854Z",
     "iopub.status.idle": "2022-03-09T19:02:41.191397Z",
     "shell.execute_reply": "2022-03-09T19:02:41.190838Z"
    }
   },
   "outputs": [],
   "source": [
    "\n",
    "# Scale the features which range from 0 to 255 (256 levels on the grayscale) \n",
    "X /= 255.0\n",
    "\n",
    "# Then convert it to a numpy array\n",
    "X = X.to_numpy()"
   ]
  },
  {
   "cell_type": "markdown",
   "metadata": {},
   "source": [
    "## 3. Define a classification model"
   ]
  },
  {
   "cell_type": "markdown",
   "metadata": {},
   "source": [
    "Here, we define a simple neural network with PyTorch."
   ]
  },
  {
   "cell_type": "code",
   "execution_count": 4,
   "metadata": {
    "execution": {
     "iopub.execute_input": "2022-03-09T19:02:41.194969Z",
     "iopub.status.busy": "2022-03-09T19:02:41.194572Z",
     "iopub.status.idle": "2022-03-09T19:02:41.847026Z",
     "shell.execute_reply": "2022-03-09T19:02:41.846514Z"
    }
   },
   "outputs": [],
   "source": [
    "from torch import nn\n",
    "\n",
    "class NeuralNetwork(nn.Module):\n",
    "    def __init__(self):\n",
    "        super(NeuralNetwork, self).__init__()\n",
    "        self.dropout = nn.Dropout(0.5)\n",
    "        self.hidden = nn.Linear(28*28, 128)\n",
    "        self.output = nn.Linear(128, 10)\n",
    "\n",
    "    def forward(self, X):\n",
    "        X = nn.functional.relu(self.hidden(X))\n",
    "        X = self.dropout(X)\n",
    "        X = nn.functional.softmax(self.output(X), dim=-1)\n",
    "        return X"
   ]
  },
  {
   "cell_type": "markdown",
   "metadata": {},
   "source": [
    "## 4. Wrap with Skorch for scikit-learn compatibility"
   ]
  },
  {
   "cell_type": "markdown",
   "metadata": {},
   "source": [
    "As some of Cleanlab's feature requires scikit-learn compatibility, we will need to adapt the above PyTorch neural net accordingly. Skorch is a convenient package that helps with this, read more about it here: https://skorch.readthedocs.io"
   ]
  },
  {
   "cell_type": "code",
   "execution_count": 5,
   "metadata": {
    "execution": {
     "iopub.execute_input": "2022-03-09T19:02:41.850718Z",
     "iopub.status.busy": "2022-03-09T19:02:41.850282Z",
     "iopub.status.idle": "2022-03-09T19:02:41.953377Z",
     "shell.execute_reply": "2022-03-09T19:02:41.952870Z"
    }
   },
   "outputs": [],
   "source": [
    "from skorch import NeuralNetClassifier\n",
    "\n",
    "# Wrap the PyTorch neural net around Skorch's NeuralNetClassifier wrapper\n",
    "net = NeuralNetClassifier(NeuralNetwork)"
   ]
  },
  {
   "cell_type": "markdown",
   "metadata": {},
   "source": [
    "## 5. Compute the cross-validated predicted probabilities"
   ]
  },
  {
   "cell_type": "markdown",
   "metadata": {},
   "source": [
    "If we'd like Cleanlab to identify potential label errors in the whole dataset and not just the training set, we can consider fitting the entire dataset. We will only use this model instance to compute the cross-validated predicted probabilities, ``pyx``, and not for model evaluation."
   ]
  },
  {
   "cell_type": "code",
   "execution_count": 6,
   "metadata": {
    "execution": {
     "iopub.execute_input": "2022-03-09T19:02:41.956681Z",
     "iopub.status.busy": "2022-03-09T19:02:41.956262Z",
     "iopub.status.idle": "2022-03-09T19:02:58.075882Z",
     "shell.execute_reply": "2022-03-09T19:02:58.075287Z"
    }
   },
   "outputs": [
    {
     "name": "stdout",
     "output_type": "stream",
     "text": [
      "  epoch    train_loss    valid_acc    valid_loss     dur\n",
      "-------  ------------  -----------  ------------  ------\n",
      "      1        \u001b[36m1.7956\u001b[0m       \u001b[32m0.7856\u001b[0m        \u001b[35m1.1754\u001b[0m  1.6124\n"
     ]
    },
    {
     "name": "stdout",
     "output_type": "stream",
     "text": [
      "      2        \u001b[36m0.9866\u001b[0m       \u001b[32m0.8401\u001b[0m        \u001b[35m0.7018\u001b[0m  1.6036\n"
     ]
    },
    {
     "name": "stdout",
     "output_type": "stream",
     "text": [
      "      3        \u001b[36m0.7238\u001b[0m       \u001b[32m0.8621\u001b[0m        \u001b[35m0.5511\u001b[0m  1.5964\n"
     ]
    },
    {
     "name": "stdout",
     "output_type": "stream",
     "text": [
      "      4        \u001b[36m0.6171\u001b[0m       \u001b[32m0.8754\u001b[0m        \u001b[35m0.4804\u001b[0m  1.5946\n"
     ]
    },
    {
     "name": "stdout",
     "output_type": "stream",
     "text": [
      "      5        \u001b[36m0.5587\u001b[0m       \u001b[32m0.8835\u001b[0m        \u001b[35m0.4369\u001b[0m  1.5925\n"
     ]
    },
    {
     "name": "stdout",
     "output_type": "stream",
     "text": [
      "      6        \u001b[36m0.5126\u001b[0m       \u001b[32m0.8897\u001b[0m        \u001b[35m0.4056\u001b[0m  1.6161\n"
     ]
    },
    {
     "name": "stdout",
     "output_type": "stream",
     "text": [
      "      7        \u001b[36m0.4796\u001b[0m       \u001b[32m0.8949\u001b[0m        \u001b[35m0.3836\u001b[0m  1.6025\n"
     ]
    },
    {
     "name": "stdout",
     "output_type": "stream",
     "text": [
      "      8        \u001b[36m0.4584\u001b[0m       \u001b[32m0.8981\u001b[0m        \u001b[35m0.3663\u001b[0m  1.6061\n"
     ]
    },
    {
     "name": "stdout",
     "output_type": "stream",
     "text": [
      "      9        \u001b[36m0.4365\u001b[0m       \u001b[32m0.9014\u001b[0m        \u001b[35m0.3512\u001b[0m  1.6048\n"
     ]
    },
    {
     "name": "stdout",
     "output_type": "stream",
     "text": [
      "     10        \u001b[36m0.4209\u001b[0m       \u001b[32m0.9046\u001b[0m        \u001b[35m0.3381\u001b[0m  1.6053\n"
     ]
    }
   ],
   "source": [
    "_ = net.fit(X, y)"
   ]
  },
  {
   "cell_type": "markdown",
   "metadata": {},
   "source": [
    "Compute the cross-validated predicted probabilities, ``pyx``, sometimes also known as the out-of-sample predicted probabilities."
   ]
  },
  {
   "cell_type": "code",
   "execution_count": 7,
   "metadata": {
    "execution": {
     "iopub.execute_input": "2022-03-09T19:02:58.078886Z",
     "iopub.status.busy": "2022-03-09T19:02:58.078395Z",
     "iopub.status.idle": "2022-03-09T19:03:20.521103Z",
     "shell.execute_reply": "2022-03-09T19:03:20.520571Z"
    }
   },
   "outputs": [
    {
     "name": "stdout",
     "output_type": "stream",
     "text": [
      "  epoch    train_loss    valid_acc    valid_loss     dur\n",
      "-------  ------------  -----------  ------------  ------\n",
      "      1        \u001b[36m2.0016\u001b[0m       \u001b[32m0.7312\u001b[0m        \u001b[35m1.5906\u001b[0m  0.7016\n"
     ]
    },
    {
     "name": "stdout",
     "output_type": "stream",
     "text": [
      "      2        \u001b[36m1.2837\u001b[0m       \u001b[32m0.7902\u001b[0m        \u001b[35m0.9794\u001b[0m  0.7407\n"
     ]
    },
    {
     "name": "stdout",
     "output_type": "stream",
     "text": [
      "      3        \u001b[36m0.9001\u001b[0m       \u001b[32m0.8256\u001b[0m        \u001b[35m0.7341\u001b[0m  0.7011\n"
     ]
    },
    {
     "name": "stdout",
     "output_type": "stream",
     "text": [
      "      4        \u001b[36m0.7355\u001b[0m       \u001b[32m0.8450\u001b[0m        \u001b[35m0.6185\u001b[0m  0.6986\n"
     ]
    },
    {
     "name": "stdout",
     "output_type": "stream",
     "text": [
      "      5        \u001b[36m0.6528\u001b[0m       \u001b[32m0.8563\u001b[0m        \u001b[35m0.5528\u001b[0m  0.7041\n"
     ]
    },
    {
     "name": "stdout",
     "output_type": "stream",
     "text": [
      "      6        \u001b[36m0.5923\u001b[0m       \u001b[32m0.8673\u001b[0m        \u001b[35m0.5064\u001b[0m  0.6817\n"
     ]
    },
    {
     "name": "stdout",
     "output_type": "stream",
     "text": [
      "      7        \u001b[36m0.5478\u001b[0m       \u001b[32m0.8711\u001b[0m        \u001b[35m0.4737\u001b[0m  0.6968\n"
     ]
    },
    {
     "name": "stdout",
     "output_type": "stream",
     "text": [
      "      8        \u001b[36m0.5140\u001b[0m       \u001b[32m0.8762\u001b[0m        \u001b[35m0.4497\u001b[0m  0.7121\n"
     ]
    },
    {
     "name": "stdout",
     "output_type": "stream",
     "text": [
      "      9        \u001b[36m0.4932\u001b[0m       \u001b[32m0.8787\u001b[0m        \u001b[35m0.4330\u001b[0m  0.6973\n"
     ]
    },
    {
     "name": "stdout",
     "output_type": "stream",
     "text": [
      "     10        \u001b[36m0.4745\u001b[0m       \u001b[32m0.8818\u001b[0m        \u001b[35m0.4169\u001b[0m  0.6948\n"
     ]
    },
    {
     "name": "stdout",
     "output_type": "stream",
     "text": [
      "  epoch    train_loss    valid_acc    valid_loss     dur\n",
      "-------  ------------  -----------  ------------  ------\n",
      "      1        \u001b[36m2.0071\u001b[0m       \u001b[32m0.7399\u001b[0m        \u001b[35m1.5951\u001b[0m  0.6976\n"
     ]
    },
    {
     "name": "stdout",
     "output_type": "stream",
     "text": [
      "      2        \u001b[36m1.2897\u001b[0m       \u001b[32m0.8142\u001b[0m        \u001b[35m0.9591\u001b[0m  0.7000\n"
     ]
    },
    {
     "name": "stdout",
     "output_type": "stream",
     "text": [
      "      3        \u001b[36m0.9102\u001b[0m       \u001b[32m0.8410\u001b[0m        \u001b[35m0.7119\u001b[0m  0.7123\n"
     ]
    },
    {
     "name": "stdout",
     "output_type": "stream",
     "text": [
      "      4        \u001b[36m0.7442\u001b[0m       \u001b[32m0.8582\u001b[0m        \u001b[35m0.5947\u001b[0m  0.6909\n"
     ]
    },
    {
     "name": "stdout",
     "output_type": "stream",
     "text": [
      "      5        \u001b[36m0.6512\u001b[0m       \u001b[32m0.8688\u001b[0m        \u001b[35m0.5273\u001b[0m  0.6953\n"
     ]
    },
    {
     "name": "stdout",
     "output_type": "stream",
     "text": [
      "      6        \u001b[36m0.5965\u001b[0m       \u001b[32m0.8779\u001b[0m        \u001b[35m0.4829\u001b[0m  0.7029\n"
     ]
    },
    {
     "name": "stdout",
     "output_type": "stream",
     "text": [
      "      7        \u001b[36m0.5502\u001b[0m       \u001b[32m0.8841\u001b[0m        \u001b[35m0.4507\u001b[0m  0.6942\n"
     ]
    },
    {
     "name": "stdout",
     "output_type": "stream",
     "text": [
      "      8        \u001b[36m0.5227\u001b[0m       \u001b[32m0.8887\u001b[0m        \u001b[35m0.4272\u001b[0m  0.6969\n"
     ]
    },
    {
     "name": "stdout",
     "output_type": "stream",
     "text": [
      "      9        \u001b[36m0.4967\u001b[0m       \u001b[32m0.8920\u001b[0m        \u001b[35m0.4088\u001b[0m  0.7001\n"
     ]
    },
    {
     "name": "stdout",
     "output_type": "stream",
     "text": [
      "     10        \u001b[36m0.4764\u001b[0m       \u001b[32m0.8948\u001b[0m        \u001b[35m0.3934\u001b[0m  0.6989\n"
     ]
    },
    {
     "name": "stdout",
     "output_type": "stream",
     "text": [
      "  epoch    train_loss    valid_acc    valid_loss     dur\n",
      "-------  ------------  -----------  ------------  ------\n",
      "      1        \u001b[36m2.0094\u001b[0m       \u001b[32m0.7068\u001b[0m        \u001b[35m1.5869\u001b[0m  0.7030\n"
     ]
    },
    {
     "name": "stdout",
     "output_type": "stream",
     "text": [
      "      2        \u001b[36m1.3081\u001b[0m       \u001b[32m0.8015\u001b[0m        \u001b[35m0.9660\u001b[0m  0.6940\n"
     ]
    },
    {
     "name": "stdout",
     "output_type": "stream",
     "text": [
      "      3        \u001b[36m0.9357\u001b[0m       \u001b[32m0.8404\u001b[0m        \u001b[35m0.7180\u001b[0m  0.6982\n"
     ]
    },
    {
     "name": "stdout",
     "output_type": "stream",
     "text": [
      "      4        \u001b[36m0.7705\u001b[0m       \u001b[32m0.8590\u001b[0m        \u001b[35m0.5979\u001b[0m  0.7011\n"
     ]
    },
    {
     "name": "stdout",
     "output_type": "stream",
     "text": [
      "      5        \u001b[36m0.6764\u001b[0m       \u001b[32m0.8713\u001b[0m        \u001b[35m0.5288\u001b[0m  0.6981\n"
     ]
    },
    {
     "name": "stdout",
     "output_type": "stream",
     "text": [
      "      6        \u001b[36m0.6153\u001b[0m       \u001b[32m0.8807\u001b[0m        \u001b[35m0.4814\u001b[0m  0.6860\n"
     ]
    },
    {
     "name": "stdout",
     "output_type": "stream",
     "text": [
      "      7        \u001b[36m0.5735\u001b[0m       \u001b[32m0.8871\u001b[0m        \u001b[35m0.4478\u001b[0m  0.7008\n"
     ]
    },
    {
     "name": "stdout",
     "output_type": "stream",
     "text": [
      "      8        \u001b[36m0.5430\u001b[0m       \u001b[32m0.8917\u001b[0m        \u001b[35m0.4228\u001b[0m  0.7044\n"
     ]
    },
    {
     "name": "stdout",
     "output_type": "stream",
     "text": [
      "      9        \u001b[36m0.5186\u001b[0m       \u001b[32m0.8952\u001b[0m        \u001b[35m0.4034\u001b[0m  0.6981\n"
     ]
    },
    {
     "name": "stdout",
     "output_type": "stream",
     "text": [
      "     10        \u001b[36m0.4997\u001b[0m       \u001b[32m0.8979\u001b[0m        \u001b[35m0.3870\u001b[0m  0.7100\n"
     ]
    }
   ],
   "source": [
    "from sklearn.model_selection import cross_val_predict\n",
    "\n",
    "pyx = cross_val_predict(net, X, y, cv=3, method='predict_proba')"
   ]
  },
  {
   "cell_type": "markdown",
   "metadata": {},
   "source": [
    "## 6. Run Cleanlab to find potential label errors"
   ]
  },
  {
   "cell_type": "markdown",
   "metadata": {},
   "source": [
    "Cleanlab has a ``get_noise_indices`` function to generate a list of potential label errors. Setting ``sorted_index_method=\"prob_given_label\"`` returns the indices of all the most likely label errors, sorted by the most suspicious example first."
   ]
  },
  {
   "cell_type": "code",
   "execution_count": 8,
   "metadata": {
    "execution": {
     "iopub.execute_input": "2022-03-09T19:03:20.524225Z",
     "iopub.status.busy": "2022-03-09T19:03:20.524040Z",
     "iopub.status.idle": "2022-03-09T19:03:20.927461Z",
     "shell.execute_reply": "2022-03-09T19:03:20.926773Z"
    }
   },
   "outputs": [],
   "source": [
    "from cleanlab.pruning import get_noise_indices\n",
    "\n",
    "ordered_label_errors = get_noise_indices(\n",
    "    s=y,\n",
    "    psx=pyx,\n",
    "    sorted_index_method=\"prob_given_label\"\n",
    ")"
   ]
  },
  {
   "cell_type": "markdown",
   "metadata": {},
   "source": [
    "## 7. Review some of the most likely mislabeled examples"
   ]
  },
  {
   "cell_type": "code",
   "execution_count": 9,
   "metadata": {
    "execution": {
     "iopub.execute_input": "2022-03-09T19:03:20.930989Z",
     "iopub.status.busy": "2022-03-09T19:03:20.930675Z",
     "iopub.status.idle": "2022-03-09T19:03:20.935886Z",
     "shell.execute_reply": "2022-03-09T19:03:20.935373Z"
    }
   },
   "outputs": [
    {
     "name": "stdout",
     "output_type": "stream",
     "text": [
      "Cleanlab found 1220 potential label errors. Here are the indices of the top 15 most likely ones: \n",
      " [24798 18598  8729 20820 31134 15942  7010  1352 61790 59915 26376 39457\n",
      " 55739 12679 20735]\n"
     ]
    }
   ],
   "source": [
    "print(f\"Cleanlab found {len(ordered_label_errors)} potential label errors. Here are the indices of the top 15 most likely ones: \\n {ordered_label_errors[:15]}\")"
   ]
  },
  {
   "cell_type": "markdown",
   "metadata": {},
   "source": [
    "We'll define a new ``plot_examples`` function to display any examples in a subplot conveniently."
   ]
  },
  {
   "cell_type": "code",
   "execution_count": 10,
   "metadata": {
    "execution": {
     "iopub.execute_input": "2022-03-09T19:03:20.938622Z",
     "iopub.status.busy": "2022-03-09T19:03:20.938142Z",
     "iopub.status.idle": "2022-03-09T19:03:21.723255Z",
     "shell.execute_reply": "2022-03-09T19:03:21.722736Z"
    }
   },
   "outputs": [],
   "source": [
    "import matplotlib.pyplot as plt\n",
    "\n",
    "def plot_examples(id_iter, nrows=1, ncols=1):\n",
    "    for count, id in enumerate(id_iter):\n",
    "        plt.subplot(nrows, ncols, count+1)\n",
    "        plt.imshow(X[id].reshape(28, 28))\n",
    "        plt.title(f\"id: {id} \\n label: {y[id]}\")\n",
    "        plt.axis('off')\n",
    "\n",
    "    plt.tight_layout(h_pad=2.0)"
   ]
  },
  {
   "cell_type": "markdown",
   "metadata": {},
   "source": [
    "Let's start by having an overview of the top 15 most likely label errors. From here, we can see a few label errors and edge cases. Feel free to change the parameters to display more or fewer examples. "
   ]
  },
  {
   "cell_type": "code",
   "execution_count": 11,
   "metadata": {
    "execution": {
     "iopub.execute_input": "2022-03-09T19:03:21.726215Z",
     "iopub.status.busy": "2022-03-09T19:03:21.725910Z",
     "iopub.status.idle": "2022-03-09T19:03:22.161280Z",
     "shell.execute_reply": "2022-03-09T19:03:22.160767Z"
    }
   },
   "outputs": [
    {
     "data": {
      "image/png": "[encoded data removed]",
      "text/plain": [
       "<Figure size 432x288 with 15 Axes>"
      ]
     },
     "metadata": {
      "needs_background": "light"
     },
     "output_type": "display_data"
    }
   ],
   "source": [
    "plot_examples(ordered_label_errors[range(15)], 3, 5)"
   ]
  },
  {
   "cell_type": "markdown",
   "metadata": {},
   "source": [
    "Let's zoom into specific examples:"
   ]
  },
  {
   "cell_type": "markdown",
   "metadata": {},
   "source": [
    "Given label is **4** but looks more like a **7**"
   ]
  },
  {
   "cell_type": "code",
   "execution_count": 12,
   "metadata": {
    "execution": {
     "iopub.execute_input": "2022-03-09T19:03:22.164120Z",
     "iopub.status.busy": "2022-03-09T19:03:22.163937Z",
     "iopub.status.idle": "2022-03-09T19:03:22.216497Z",
     "shell.execute_reply": "2022-03-09T19:03:22.215987Z"
    }
   },
   "outputs": [
    {
     "data": {
      "image/png": "[encoded data removed]",
      "text/plain": [
       "<Figure size 432x288 with 1 Axes>"
      ]
     },
     "metadata": {
      "needs_background": "light"
     },
     "output_type": "display_data"
    }
   ],
   "source": [
    "plot_examples([59915])"
   ]
  },
  {
   "cell_type": "markdown",
   "metadata": {},
   "source": [
    "Given label is **4** but also looks like **9**"
   ]
  },
  {
   "cell_type": "code",
   "execution_count": 13,
   "metadata": {
    "execution": {
     "iopub.execute_input": "2022-03-09T19:03:22.219307Z",
     "iopub.status.busy": "2022-03-09T19:03:22.219087Z",
     "iopub.status.idle": "2022-03-09T19:03:22.271214Z",
     "shell.execute_reply": "2022-03-09T19:03:22.270769Z"
    }
   },
   "outputs": [
    {
     "data": {
      "image/png": "[encoded data removed]",
      "text/plain": [
       "<Figure size 432x288 with 1 Axes>"
      ]
     },
     "metadata": {
      "needs_background": "light"
     },
     "output_type": "display_data"
    }
   ],
   "source": [
    "plot_examples([24798])"
   ]
  },
  {
   "cell_type": "markdown",
   "metadata": {},
   "source": [
    "Edge case of odd looking **9**s"
   ]
  },
  {
   "cell_type": "code",
   "execution_count": 14,
   "metadata": {
    "execution": {
     "iopub.execute_input": "2022-03-09T19:03:22.274297Z",
     "iopub.status.busy": "2022-03-09T19:03:22.273968Z",
     "iopub.status.idle": "2022-03-09T19:03:22.458816Z",
     "shell.execute_reply": "2022-03-09T19:03:22.458290Z"
    }
   },
   "outputs": [
    {
     "data": {
      "image/png": "[encoded data removed]",
      "text/plain": [
       "<Figure size 432x288 with 3 Axes>"
      ]
     },
     "metadata": {
      "needs_background": "light"
     },
     "output_type": "display_data"
    }
   ],
   "source": [
    "plot_examples([18598, 1352, 61247], 1, 3)"
   ]
  },
  {
   "cell_type": "markdown",
   "metadata": {},
   "source": [
    "Cleanlab has shortlisted the most likely label errors to speed up your data cleaning process. With this list, you can decide whether to fix label errors, augment edge cases or remove obscure examples. \n",
    "\n",
    "These human-in-the-loop processes may be time-consuming, so if you'd like Cleanlab to automatically remove these noisy examples and train a model directly on the partially mislabeled dataset, you're in luck! Cleanlab provides a ``LearningWithNoisyLabels`` wrapper to do precisely this:"
   ]
  },
  {
   "cell_type": "markdown",
   "metadata": {},
   "source": [
    "## 8. Adapt with Cleanlab's wrapper and train a more robust model"
   ]
  },
  {
   "cell_type": "markdown",
   "metadata": {},
   "source": [
    "First, we split the dataset into train and test subsets."
   ]
  },
  {
   "cell_type": "code",
   "execution_count": 15,
   "metadata": {
    "execution": {
     "iopub.execute_input": "2022-03-09T19:03:22.461630Z",
     "iopub.status.busy": "2022-03-09T19:03:22.461445Z",
     "iopub.status.idle": "2022-03-09T19:03:22.808344Z",
     "shell.execute_reply": "2022-03-09T19:03:22.807820Z"
    }
   },
   "outputs": [],
   "source": [
    "from sklearn.model_selection import train_test_split\n",
    "\n",
    "X_train, X_test, y_train, y_test = train_test_split(X, y, test_size=0.2)"
   ]
  },
  {
   "cell_type": "markdown",
   "metadata": {},
   "source": [
    "Re-instantiate a new scikit-learn compatible model with Skorch then wrap it with Cleanlab's ``LearningWithNoisyLabels`` wrapper."
   ]
  },
  {
   "cell_type": "code",
   "execution_count": 16,
   "metadata": {
    "execution": {
     "iopub.execute_input": "2022-03-09T19:03:22.811482Z",
     "iopub.status.busy": "2022-03-09T19:03:22.811016Z",
     "iopub.status.idle": "2022-03-09T19:03:22.814254Z",
     "shell.execute_reply": "2022-03-09T19:03:22.813729Z"
    }
   },
   "outputs": [],
   "source": [
    "from cleanlab.classification import LearningWithNoisyLabels\n",
    "\n",
    "net = NeuralNetClassifier(NeuralNetwork)\n",
    "clf = LearningWithNoisyLabels(clf=net)"
   ]
  },
  {
   "cell_type": "code",
   "execution_count": 17,
   "metadata": {
    "execution": {
     "iopub.execute_input": "2022-03-09T19:03:22.816936Z",
     "iopub.status.busy": "2022-03-09T19:03:22.816501Z",
     "iopub.status.idle": "2022-03-09T19:04:05.285807Z",
     "shell.execute_reply": "2022-03-09T19:04:05.285165Z"
    }
   },
   "outputs": [
    {
     "name": "stdout",
     "output_type": "stream",
     "text": [
      "  epoch    train_loss    valid_acc    valid_loss     dur\n",
      "-------  ------------  -----------  ------------  ------\n",
      "      1        \u001b[36m2.0462\u001b[0m       \u001b[32m0.7542\u001b[0m        \u001b[35m1.6718\u001b[0m  0.6443\n"
     ]
    },
    {
     "name": "stdout",
     "output_type": "stream",
     "text": [
      "      2        \u001b[36m1.3675\u001b[0m       \u001b[32m0.8170\u001b[0m        \u001b[35m1.0082\u001b[0m  0.6684\n"
     ]
    },
    {
     "name": "stdout",
     "output_type": "stream",
     "text": [
      "      3        \u001b[36m0.9596\u001b[0m       \u001b[32m0.8439\u001b[0m        \u001b[35m0.7338\u001b[0m  0.6794\n"
     ]
    },
    {
     "name": "stdout",
     "output_type": "stream",
     "text": [
      "      4        \u001b[36m0.7826\u001b[0m       \u001b[32m0.8586\u001b[0m        \u001b[35m0.6074\u001b[0m  0.6761\n"
     ]
    },
    {
     "name": "stdout",
     "output_type": "stream",
     "text": [
      "      5        \u001b[36m0.6888\u001b[0m       \u001b[32m0.8681\u001b[0m        \u001b[35m0.5350\u001b[0m  0.6718\n"
     ]
    },
    {
     "name": "stdout",
     "output_type": "stream",
     "text": [
      "      6        \u001b[36m0.6217\u001b[0m       \u001b[32m0.8759\u001b[0m        \u001b[35m0.4868\u001b[0m  0.6872\n"
     ]
    },
    {
     "name": "stdout",
     "output_type": "stream",
     "text": [
      "      7        \u001b[36m0.5744\u001b[0m       \u001b[32m0.8826\u001b[0m        \u001b[35m0.4527\u001b[0m  0.6730\n"
     ]
    },
    {
     "name": "stdout",
     "output_type": "stream",
     "text": [
      "      8        \u001b[36m0.5449\u001b[0m       \u001b[32m0.8875\u001b[0m        \u001b[35m0.4286\u001b[0m  0.6739\n"
     ]
    },
    {
     "name": "stdout",
     "output_type": "stream",
     "text": [
      "      9        \u001b[36m0.5175\u001b[0m       \u001b[32m0.8916\u001b[0m        \u001b[35m0.4084\u001b[0m  0.6845\n"
     ]
    },
    {
     "name": "stdout",
     "output_type": "stream",
     "text": [
      "     10        \u001b[36m0.4956\u001b[0m       \u001b[32m0.8943\u001b[0m        \u001b[35m0.3919\u001b[0m  0.6792\n"
     ]
    },
    {
     "name": "stdout",
     "output_type": "stream",
     "text": [
      "  epoch    train_loss    valid_acc    valid_loss     dur\n",
      "-------  ------------  -----------  ------------  ------\n",
      "      1        \u001b[36m2.0332\u001b[0m       \u001b[32m0.7640\u001b[0m        \u001b[35m1.6352\u001b[0m  0.6678\n"
     ]
    },
    {
     "name": "stdout",
     "output_type": "stream",
     "text": [
      "      2        \u001b[36m1.3352\u001b[0m       \u001b[32m0.8208\u001b[0m        \u001b[35m0.9811\u001b[0m  0.6794\n"
     ]
    },
    {
     "name": "stdout",
     "output_type": "stream",
     "text": [
      "      3        \u001b[36m0.9404\u001b[0m       \u001b[32m0.8512\u001b[0m        \u001b[35m0.7162\u001b[0m  0.6866\n"
     ]
    },
    {
     "name": "stdout",
     "output_type": "stream",
     "text": [
      "      4        \u001b[36m0.7668\u001b[0m       \u001b[32m0.8670\u001b[0m        \u001b[35m0.5929\u001b[0m  0.6869\n"
     ]
    },
    {
     "name": "stdout",
     "output_type": "stream",
     "text": [
      "      5        \u001b[36m0.6746\u001b[0m       \u001b[32m0.8761\u001b[0m        \u001b[35m0.5222\u001b[0m  0.6735\n"
     ]
    },
    {
     "name": "stdout",
     "output_type": "stream",
     "text": [
      "      6        \u001b[36m0.6154\u001b[0m       \u001b[32m0.8824\u001b[0m        \u001b[35m0.4768\u001b[0m  0.6788\n"
     ]
    },
    {
     "name": "stdout",
     "output_type": "stream",
     "text": [
      "      7        \u001b[36m0.5703\u001b[0m       \u001b[32m0.8873\u001b[0m        \u001b[35m0.4437\u001b[0m  0.6821\n"
     ]
    },
    {
     "name": "stdout",
     "output_type": "stream",
     "text": [
      "      8        \u001b[36m0.5367\u001b[0m       \u001b[32m0.8921\u001b[0m        \u001b[35m0.4188\u001b[0m  0.6750\n"
     ]
    },
    {
     "name": "stdout",
     "output_type": "stream",
     "text": [
      "      9        \u001b[36m0.5106\u001b[0m       \u001b[32m0.8951\u001b[0m        \u001b[35m0.3993\u001b[0m  0.6402\n"
     ]
    },
    {
     "name": "stdout",
     "output_type": "stream",
     "text": [
      "     10        \u001b[36m0.4918\u001b[0m       \u001b[32m0.8969\u001b[0m        \u001b[35m0.3841\u001b[0m  0.6349\n"
     ]
    },
    {
     "name": "stdout",
     "output_type": "stream",
     "text": [
      "  epoch    train_loss    valid_acc    valid_loss     dur\n",
      "-------  ------------  -----------  ------------  ------\n",
      "      1        \u001b[36m2.0226\u001b[0m       \u001b[32m0.7323\u001b[0m        \u001b[35m1.6330\u001b[0m  0.6352\n"
     ]
    },
    {
     "name": "stdout",
     "output_type": "stream",
     "text": [
      "      2        \u001b[36m1.3444\u001b[0m       \u001b[32m0.8262\u001b[0m        \u001b[35m0.9947\u001b[0m  0.6373\n"
     ]
    },
    {
     "name": "stdout",
     "output_type": "stream",
     "text": [
      "      3        \u001b[36m0.9461\u001b[0m       \u001b[32m0.8549\u001b[0m        \u001b[35m0.7237\u001b[0m  0.6436\n"
     ]
    },
    {
     "name": "stdout",
     "output_type": "stream",
     "text": [
      "      4        \u001b[36m0.7682\u001b[0m       \u001b[32m0.8673\u001b[0m        \u001b[35m0.5970\u001b[0m  0.6391\n"
     ]
    },
    {
     "name": "stdout",
     "output_type": "stream",
     "text": [
      "      5        \u001b[36m0.6704\u001b[0m       \u001b[32m0.8772\u001b[0m        \u001b[35m0.5258\u001b[0m  0.6450\n"
     ]
    },
    {
     "name": "stdout",
     "output_type": "stream",
     "text": [
      "      6        \u001b[36m0.6095\u001b[0m       \u001b[32m0.8828\u001b[0m        \u001b[35m0.4789\u001b[0m  0.6636\n"
     ]
    },
    {
     "name": "stdout",
     "output_type": "stream",
     "text": [
      "      7        \u001b[36m0.5698\u001b[0m       \u001b[32m0.8875\u001b[0m        \u001b[35m0.4469\u001b[0m  0.6377\n"
     ]
    },
    {
     "name": "stdout",
     "output_type": "stream",
     "text": [
      "      8        \u001b[36m0.5301\u001b[0m       \u001b[32m0.8921\u001b[0m        \u001b[35m0.4217\u001b[0m  0.6375\n"
     ]
    },
    {
     "name": "stdout",
     "output_type": "stream",
     "text": [
      "      9        \u001b[36m0.5085\u001b[0m       \u001b[32m0.8944\u001b[0m        \u001b[35m0.4029\u001b[0m  0.6377\n"
     ]
    },
    {
     "name": "stdout",
     "output_type": "stream",
     "text": [
      "     10        \u001b[36m0.4851\u001b[0m       \u001b[32m0.8981\u001b[0m        \u001b[35m0.3863\u001b[0m  0.6383\n"
     ]
    },
    {
     "name": "stdout",
     "output_type": "stream",
     "text": [
      "  epoch    train_loss    valid_acc    valid_loss     dur\n",
      "-------  ------------  -----------  ------------  ------\n",
      "      1        \u001b[36m1.9930\u001b[0m       \u001b[32m0.7542\u001b[0m        \u001b[35m1.5894\u001b[0m  0.6408\n"
     ]
    },
    {
     "name": "stdout",
     "output_type": "stream",
     "text": [
      "      2        \u001b[36m1.3028\u001b[0m       \u001b[32m0.8224\u001b[0m        \u001b[35m0.9585\u001b[0m  0.6475\n"
     ]
    },
    {
     "name": "stdout",
     "output_type": "stream",
     "text": [
      "      3        \u001b[36m0.9227\u001b[0m       \u001b[32m0.8470\u001b[0m        \u001b[35m0.7049\u001b[0m  0.6410\n"
     ]
    },
    {
     "name": "stdout",
     "output_type": "stream",
     "text": [
      "      4        \u001b[36m0.7537\u001b[0m       \u001b[32m0.8637\u001b[0m        \u001b[35m0.5848\u001b[0m  0.7163\n"
     ]
    },
    {
     "name": "stdout",
     "output_type": "stream",
     "text": [
      "      5        \u001b[36m0.6626\u001b[0m       \u001b[32m0.8739\u001b[0m        \u001b[35m0.5168\u001b[0m  0.6413\n"
     ]
    },
    {
     "name": "stdout",
     "output_type": "stream",
     "text": [
      "      6        \u001b[36m0.6018\u001b[0m       \u001b[32m0.8829\u001b[0m        \u001b[35m0.4706\u001b[0m  0.6385\n"
     ]
    },
    {
     "name": "stdout",
     "output_type": "stream",
     "text": [
      "      7        \u001b[36m0.5583\u001b[0m       \u001b[32m0.8874\u001b[0m        \u001b[35m0.4381\u001b[0m  0.6394\n"
     ]
    },
    {
     "name": "stdout",
     "output_type": "stream",
     "text": [
      "      8        \u001b[36m0.5303\u001b[0m       \u001b[32m0.8919\u001b[0m        \u001b[35m0.4143\u001b[0m  0.6413\n"
     ]
    },
    {
     "name": "stdout",
     "output_type": "stream",
     "text": [
      "      9        \u001b[36m0.4962\u001b[0m       \u001b[32m0.8961\u001b[0m        \u001b[35m0.3939\u001b[0m  0.6375\n"
     ]
    },
    {
     "name": "stdout",
     "output_type": "stream",
     "text": [
      "     10        \u001b[36m0.4789\u001b[0m       \u001b[32m0.8989\u001b[0m        \u001b[35m0.3782\u001b[0m  0.6427\n"
     ]
    },
    {
     "name": "stdout",
     "output_type": "stream",
     "text": [
      "  epoch    train_loss    valid_acc    valid_loss     dur\n",
      "-------  ------------  -----------  ------------  ------\n",
      "      1        \u001b[36m2.0289\u001b[0m       \u001b[32m0.7438\u001b[0m        \u001b[35m1.6401\u001b[0m  0.6463\n"
     ]
    },
    {
     "name": "stdout",
     "output_type": "stream",
     "text": [
      "      2        \u001b[36m1.3446\u001b[0m       \u001b[32m0.8218\u001b[0m        \u001b[35m0.9921\u001b[0m  0.6412\n"
     ]
    },
    {
     "name": "stdout",
     "output_type": "stream",
     "text": [
      "      3        \u001b[36m0.9513\u001b[0m       \u001b[32m0.8478\u001b[0m        \u001b[35m0.7225\u001b[0m  0.6439\n"
     ]
    },
    {
     "name": "stdout",
     "output_type": "stream",
     "text": [
      "      4        \u001b[36m0.7725\u001b[0m       \u001b[32m0.8624\u001b[0m        \u001b[35m0.5955\u001b[0m  0.6356\n"
     ]
    },
    {
     "name": "stdout",
     "output_type": "stream",
     "text": [
      "      5        \u001b[36m0.6776\u001b[0m       \u001b[32m0.8731\u001b[0m        \u001b[35m0.5242\u001b[0m  0.6586\n"
     ]
    },
    {
     "name": "stdout",
     "output_type": "stream",
     "text": [
      "      6        \u001b[36m0.6176\u001b[0m       \u001b[32m0.8802\u001b[0m        \u001b[35m0.4778\u001b[0m  0.6503\n"
     ]
    },
    {
     "name": "stdout",
     "output_type": "stream",
     "text": [
      "      7        \u001b[36m0.5690\u001b[0m       \u001b[32m0.8863\u001b[0m        \u001b[35m0.4443\u001b[0m  0.6374\n"
     ]
    },
    {
     "name": "stdout",
     "output_type": "stream",
     "text": [
      "      8        \u001b[36m0.5393\u001b[0m       \u001b[32m0.8926\u001b[0m        \u001b[35m0.4202\u001b[0m  0.6384\n"
     ]
    },
    {
     "name": "stdout",
     "output_type": "stream",
     "text": [
      "      9        \u001b[36m0.5142\u001b[0m       \u001b[32m0.8952\u001b[0m        \u001b[35m0.4018\u001b[0m  0.6360\n"
     ]
    },
    {
     "name": "stdout",
     "output_type": "stream",
     "text": [
      "     10        \u001b[36m0.4905\u001b[0m       \u001b[32m0.8970\u001b[0m        \u001b[35m0.3859\u001b[0m  0.6428\n"
     ]
    },
    {
     "name": "stdout",
     "output_type": "stream",
     "text": [
      "  epoch    train_loss    valid_acc    valid_loss     dur\n",
      "-------  ------------  -----------  ------------  ------\n",
      "      1        \u001b[36m1.9299\u001b[0m       \u001b[32m0.7819\u001b[0m        \u001b[35m1.4213\u001b[0m  0.7921\n"
     ]
    },
    {
     "name": "stdout",
     "output_type": "stream",
     "text": [
      "      2        \u001b[36m1.1300\u001b[0m       \u001b[32m0.8490\u001b[0m        \u001b[35m0.7883\u001b[0m  0.7797\n"
     ]
    },
    {
     "name": "stdout",
     "output_type": "stream",
     "text": [
      "      3        \u001b[36m0.7828\u001b[0m       \u001b[32m0.8727\u001b[0m        \u001b[35m0.5776\u001b[0m  0.8026\n"
     ]
    },
    {
     "name": "stdout",
     "output_type": "stream",
     "text": [
      "      4        \u001b[36m0.6393\u001b[0m       \u001b[32m0.8865\u001b[0m        \u001b[35m0.4787\u001b[0m  0.7829\n"
     ]
    },
    {
     "name": "stdout",
     "output_type": "stream",
     "text": [
      "      5        \u001b[36m0.5596\u001b[0m       \u001b[32m0.8942\u001b[0m        \u001b[35m0.4208\u001b[0m  0.7957\n"
     ]
    },
    {
     "name": "stdout",
     "output_type": "stream",
     "text": [
      "      6        \u001b[36m0.5043\u001b[0m       \u001b[32m0.9005\u001b[0m        \u001b[35m0.3818\u001b[0m  0.7947\n"
     ]
    },
    {
     "name": "stdout",
     "output_type": "stream",
     "text": [
      "      7        \u001b[36m0.4693\u001b[0m       \u001b[32m0.9055\u001b[0m        \u001b[35m0.3541\u001b[0m  0.7885\n"
     ]
    },
    {
     "name": "stdout",
     "output_type": "stream",
     "text": [
      "      8        \u001b[36m0.4372\u001b[0m       \u001b[32m0.9100\u001b[0m        \u001b[35m0.3327\u001b[0m  0.7884\n"
     ]
    },
    {
     "name": "stdout",
     "output_type": "stream",
     "text": [
      "      9        \u001b[36m0.4154\u001b[0m       \u001b[32m0.9136\u001b[0m        \u001b[35m0.3166\u001b[0m  0.8058\n"
     ]
    },
    {
     "name": "stdout",
     "output_type": "stream",
     "text": [
      "     10        \u001b[36m0.3950\u001b[0m       \u001b[32m0.9152\u001b[0m        \u001b[35m0.3027\u001b[0m  0.7853\n"
     ]
    }
   ],
   "source": [
    "_ = clf.fit(X_train, y_train.to_numpy())"
   ]
  },
  {
   "cell_type": "markdown",
   "metadata": {},
   "source": [
    "## 9. Evaluate the robust model's performance"
   ]
  },
  {
   "cell_type": "code",
   "execution_count": 18,
   "metadata": {
    "execution": {
     "iopub.execute_input": "2022-03-09T19:04:05.288718Z",
     "iopub.status.busy": "2022-03-09T19:04:05.288319Z",
     "iopub.status.idle": "2022-03-09T19:04:05.480492Z",
     "shell.execute_reply": "2022-03-09T19:04:05.480001Z"
    }
   },
   "outputs": [
    {
     "data": {
      "text/plain": [
       "0.8959285714285714"
      ]
     },
     "execution_count": 18,
     "metadata": {},
     "output_type": "execute_result"
    }
   ],
   "source": [
    "from sklearn.metrics import accuracy_score\n",
    "\n",
    "y_pred = clf.predict(X_test)\n",
    "accuracy_score(y_test, y_pred)"
   ]
  },
  {
   "cell_type": "markdown",
   "metadata": {},
   "source": [
    "## What's next?"
   ]
  },
  {
   "cell_type": "markdown",
   "metadata": {},
   "source": [
    "Congratulations on completing this tutorial! Check out our following tutorial on using Cleanlab for text classification, where we found *hundreds* of potential label errors in one of the most well-known text datasets, the IMBDb movie review dataset!"
   ]
  }
 ],
 "metadata": {
  "interpreter": {
   "hash": "ced20e3e49bb4fa4ce8ad38f8f2535b7fc4c39b2b89554502b5dbdad1ad67eda"
  },
  "kernelspec": {
   "display_name": "Python 3.10.0 64-bit",
   "language": "python",
   "name": "python3"
  },
  "language_info": {
   "codemirror_mode": {
    "name": "ipython",
    "version": 3
   },
   "file_extension": ".py",
   "mimetype": "text/x-python",
   "name": "python",
   "nbconvert_exporter": "python",
   "pygments_lexer": "ipython3",
   "version": "3.8.12"
  }
 },
 "nbformat": 4,
 "nbformat_minor": 2
}
