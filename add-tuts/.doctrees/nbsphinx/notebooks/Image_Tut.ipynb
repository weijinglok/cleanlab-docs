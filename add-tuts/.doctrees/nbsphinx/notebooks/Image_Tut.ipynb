{
 "cells": [
  {
   "cell_type": "markdown",
   "metadata": {},
   "source": [
    "# Image Classification with Cleanlab, PyTorch & Skorch"
   ]
  },
  {
   "cell_type": "markdown",
   "metadata": {},
   "source": [
    "This tutorial will use Cleanlab to find potential label errors in the MNIST handwritten digit image dataset. This dataset contains 60,000 images of handwritten digits from 0 to 9. We'll find *more than a thousand* highly suspicious examples with label errors and edge cases by the end of this tutorial. \n",
    "\n",
    "**Overview of what we'll do in this tutorial:**\n",
    "\n",
    "- Build a simple PyTorch neural net and wrap it with Skorch to make it scikit-learn compatible.\n",
    "\n",
    "- Compute the cross-validated predicted probabilities, ``pyx``, sometimes known as the out-of-sample predicted probabilities.\n",
    "\n",
    "- Generate a list of potential label errors with Cleanlab's ``get_noise_indices``.\n",
    "\n",
    "- Build and train a more robust model than the vanilla model after adapting it with Cleanlab's ``LearningWithNoisyLabels``. \n",
    "\n",
    "**Data:** https://www.openml.org/d/554"
   ]
  },
  {
   "cell_type": "markdown",
   "metadata": {},
   "source": [
    "## 1. Install the required dependencies"
   ]
  },
  {
   "cell_type": "markdown",
   "metadata": {},
   "source": [
    "``%%capture`` is a magic function to hides the cell's output."
   ]
  },
  {
   "cell_type": "code",
   "execution_count": 1,
   "metadata": {
    "execution": {
     "iopub.execute_input": "2022-03-09T14:50:31.062373Z",
     "iopub.status.busy": "2022-03-09T14:50:31.061952Z",
     "iopub.status.idle": "2022-03-09T14:51:00.941205Z",
     "shell.execute_reply": "2022-03-09T14:51:00.939800Z"
    }
   },
   "outputs": [],
   "source": [
    "%%capture\n",
    "\n",
    "%pip install cleanlab pandas matplotlib torch torchvision skorch"
   ]
  },
  {
   "cell_type": "markdown",
   "metadata": {},
   "source": [
    "## 2. Fetch and scale the MNIST dataset"
   ]
  },
  {
   "cell_type": "code",
   "execution_count": 2,
   "metadata": {
    "execution": {
     "iopub.execute_input": "2022-03-09T14:51:00.945633Z",
     "iopub.status.busy": "2022-03-09T14:51:00.944989Z",
     "iopub.status.idle": "2022-03-09T14:53:08.344448Z",
     "shell.execute_reply": "2022-03-09T14:53:08.343772Z"
    }
   },
   "outputs": [],
   "source": [
    "from sklearn.datasets import fetch_openml\n",
    "\n",
    "# Fetch the MNIST dataset\n",
    "mnist = fetch_openml('mnist_784')\n",
    "\n",
    "# Assign the data features and labels to variable X and y respectively \n",
    "X = mnist.data.astype('float32')\n",
    "y = mnist.target.astype('int64')\n"
   ]
  },
  {
   "cell_type": "markdown",
   "metadata": {},
   "source": [
    "<div class=\"alert alert-info\">\n",
    "\n",
    "Bringing Your Own Data (BYOD)?\n",
    "\n",
    "Assign your data's features to variable ``X`` and its labels to variable ``y`` instead.\n",
    "\n",
    "</div>"
   ]
  },
  {
   "cell_type": "code",
   "execution_count": 3,
   "metadata": {
    "execution": {
     "iopub.execute_input": "2022-03-09T14:53:08.348768Z",
     "iopub.status.busy": "2022-03-09T14:53:08.348310Z",
     "iopub.status.idle": "2022-03-09T14:53:08.523200Z",
     "shell.execute_reply": "2022-03-09T14:53:08.522556Z"
    }
   },
   "outputs": [],
   "source": [
    "\n",
    "# Scale the features which range from 0 to 255 (256 levels on the grayscale) \n",
    "X /= 255.0\n",
    "\n",
    "# Then convert it to a numpy array\n",
    "X = X.to_numpy()"
   ]
  },
  {
   "cell_type": "markdown",
   "metadata": {},
   "source": [
    "## 3. Define a classification model"
   ]
  },
  {
   "cell_type": "markdown",
   "metadata": {},
   "source": [
    "Here, we define a simple neural network with PyTorch."
   ]
  },
  {
   "cell_type": "code",
   "execution_count": 4,
   "metadata": {
    "execution": {
     "iopub.execute_input": "2022-03-09T14:53:08.526821Z",
     "iopub.status.busy": "2022-03-09T14:53:08.526501Z",
     "iopub.status.idle": "2022-03-09T14:53:09.421306Z",
     "shell.execute_reply": "2022-03-09T14:53:09.420319Z"
    }
   },
   "outputs": [],
   "source": [
    "from torch import nn\n",
    "\n",
    "class NeuralNetwork(nn.Module):\n",
    "    def __init__(self):\n",
    "        super(NeuralNetwork, self).__init__()\n",
    "        self.dropout = nn.Dropout(0.5)\n",
    "        self.hidden = nn.Linear(28*28, 128)\n",
    "        self.output = nn.Linear(128, 10)\n",
    "\n",
    "    def forward(self, X):\n",
    "        X = nn.functional.relu(self.hidden(X))\n",
    "        X = self.dropout(X)\n",
    "        X = nn.functional.softmax(self.output(X), dim=-1)\n",
    "        return X"
   ]
  },
  {
   "cell_type": "markdown",
   "metadata": {},
   "source": [
    "## 4. Wrap with Skorch for scikit-learn compatibility"
   ]
  },
  {
   "cell_type": "markdown",
   "metadata": {},
   "source": [
    "As some of Cleanlab's feature requires scikit-learn compatibility, we will need to adapt the above PyTorch neural net accordingly. Skorch is a convenient package that helps with this, read more about it here: https://skorch.readthedocs.io"
   ]
  },
  {
   "cell_type": "code",
   "execution_count": 5,
   "metadata": {
    "execution": {
     "iopub.execute_input": "2022-03-09T14:53:09.425003Z",
     "iopub.status.busy": "2022-03-09T14:53:09.424688Z",
     "iopub.status.idle": "2022-03-09T14:53:09.541268Z",
     "shell.execute_reply": "2022-03-09T14:53:09.540131Z"
    }
   },
   "outputs": [],
   "source": [
    "from skorch import NeuralNetClassifier\n",
    "\n",
    "# Wrap the PyTorch neural net around Skorch's NeuralNetClassifier wrapper\n",
    "net = NeuralNetClassifier(NeuralNetwork)"
   ]
  },
  {
   "cell_type": "markdown",
   "metadata": {},
   "source": [
    "## 5. Compute the cross-validated predicted probabilities"
   ]
  },
  {
   "cell_type": "markdown",
   "metadata": {},
   "source": [
    "If we'd like Cleanlab to identify potential label errors in the whole dataset and not just the training set, we can consider fitting the entire dataset. We will only use this model instance to compute the cross-validated predicted probabilities, ``pyx``, and not for model evaluation."
   ]
  },
  {
   "cell_type": "code",
   "execution_count": 6,
   "metadata": {
    "execution": {
     "iopub.execute_input": "2022-03-09T14:53:09.544611Z",
     "iopub.status.busy": "2022-03-09T14:53:09.544428Z",
     "iopub.status.idle": "2022-03-09T14:53:25.912316Z",
     "shell.execute_reply": "2022-03-09T14:53:25.911718Z"
    }
   },
   "outputs": [
    {
     "name": "stdout",
     "output_type": "stream",
     "text": [
      "  epoch    train_loss    valid_acc    valid_loss     dur\n",
      "-------  ------------  -----------  ------------  ------\n",
      "      1        \u001b[36m1.8320\u001b[0m       \u001b[32m0.7889\u001b[0m        \u001b[35m1.2112\u001b[0m  1.6338\n"
     ]
    },
    {
     "name": "stdout",
     "output_type": "stream",
     "text": [
      "      2        \u001b[36m0.9944\u001b[0m       \u001b[32m0.8401\u001b[0m        \u001b[35m0.7022\u001b[0m  1.6285\n"
     ]
    },
    {
     "name": "stdout",
     "output_type": "stream",
     "text": [
      "      3        \u001b[36m0.7244\u001b[0m       \u001b[32m0.8634\u001b[0m        \u001b[35m0.5510\u001b[0m  1.6233\n"
     ]
    },
    {
     "name": "stdout",
     "output_type": "stream",
     "text": [
      "      4        \u001b[36m0.6142\u001b[0m       \u001b[32m0.8776\u001b[0m        \u001b[35m0.4782\u001b[0m  1.6253\n"
     ]
    },
    {
     "name": "stdout",
     "output_type": "stream",
     "text": [
      "      5        \u001b[36m0.5516\u001b[0m       \u001b[32m0.8855\u001b[0m        \u001b[35m0.4331\u001b[0m  1.6244\n"
     ]
    },
    {
     "name": "stdout",
     "output_type": "stream",
     "text": [
      "      6        \u001b[36m0.5094\u001b[0m       \u001b[32m0.8917\u001b[0m        \u001b[35m0.4032\u001b[0m  1.6275\n"
     ]
    },
    {
     "name": "stdout",
     "output_type": "stream",
     "text": [
      "      7        \u001b[36m0.4771\u001b[0m       \u001b[32m0.8975\u001b[0m        \u001b[35m0.3796\u001b[0m  1.6291\n"
     ]
    },
    {
     "name": "stdout",
     "output_type": "stream",
     "text": [
      "      8        \u001b[36m0.4549\u001b[0m       \u001b[32m0.9011\u001b[0m        \u001b[35m0.3613\u001b[0m  1.6313\n"
     ]
    },
    {
     "name": "stdout",
     "output_type": "stream",
     "text": [
      "      9        \u001b[36m0.4331\u001b[0m       \u001b[32m0.9054\u001b[0m        \u001b[35m0.3454\u001b[0m  1.6285\n"
     ]
    },
    {
     "name": "stdout",
     "output_type": "stream",
     "text": [
      "     10        \u001b[36m0.4179\u001b[0m       \u001b[32m0.9074\u001b[0m        \u001b[35m0.3337\u001b[0m  1.6290\n"
     ]
    }
   ],
   "source": [
    "_ = net.fit(X, y)"
   ]
  },
  {
   "cell_type": "markdown",
   "metadata": {},
   "source": [
    "Compute the cross-validated predicted probabilities, ``pyx``, sometimes also known as the out-of-sample predicted probabilities."
   ]
  },
  {
   "cell_type": "code",
   "execution_count": 7,
   "metadata": {
    "execution": {
     "iopub.execute_input": "2022-03-09T14:53:25.915242Z",
     "iopub.status.busy": "2022-03-09T14:53:25.914924Z",
     "iopub.status.idle": "2022-03-09T14:53:48.531204Z",
     "shell.execute_reply": "2022-03-09T14:53:48.530612Z"
    }
   },
   "outputs": [
    {
     "name": "stdout",
     "output_type": "stream",
     "text": [
      "  epoch    train_loss    valid_acc    valid_loss     dur\n",
      "-------  ------------  -----------  ------------  ------\n",
      "      1        \u001b[36m2.0181\u001b[0m       \u001b[32m0.7307\u001b[0m        \u001b[35m1.6157\u001b[0m  0.6917\n"
     ]
    },
    {
     "name": "stdout",
     "output_type": "stream",
     "text": [
      "      2        \u001b[36m1.2953\u001b[0m       \u001b[32m0.7914\u001b[0m        \u001b[35m0.9846\u001b[0m  0.7690\n"
     ]
    },
    {
     "name": "stdout",
     "output_type": "stream",
     "text": [
      "      3        \u001b[36m0.9122\u001b[0m       \u001b[32m0.8254\u001b[0m        \u001b[35m0.7380\u001b[0m  0.6999\n"
     ]
    },
    {
     "name": "stdout",
     "output_type": "stream",
     "text": [
      "      4        \u001b[36m0.7462\u001b[0m       \u001b[32m0.8443\u001b[0m        \u001b[35m0.6222\u001b[0m  0.6991\n"
     ]
    },
    {
     "name": "stdout",
     "output_type": "stream",
     "text": [
      "      5        \u001b[36m0.6551\u001b[0m       \u001b[32m0.8569\u001b[0m        \u001b[35m0.5540\u001b[0m  0.7073\n"
     ]
    },
    {
     "name": "stdout",
     "output_type": "stream",
     "text": [
      "      6        \u001b[36m0.5922\u001b[0m       \u001b[32m0.8666\u001b[0m        \u001b[35m0.5084\u001b[0m  0.7025\n"
     ]
    },
    {
     "name": "stdout",
     "output_type": "stream",
     "text": [
      "      7        \u001b[36m0.5556\u001b[0m       \u001b[32m0.8735\u001b[0m        \u001b[35m0.4754\u001b[0m  0.7058\n"
     ]
    },
    {
     "name": "stdout",
     "output_type": "stream",
     "text": [
      "      8        \u001b[36m0.5206\u001b[0m       \u001b[32m0.8779\u001b[0m        \u001b[35m0.4506\u001b[0m  0.7076\n"
     ]
    },
    {
     "name": "stdout",
     "output_type": "stream",
     "text": [
      "      9        \u001b[36m0.4976\u001b[0m       \u001b[32m0.8804\u001b[0m        \u001b[35m0.4312\u001b[0m  0.7016\n"
     ]
    },
    {
     "name": "stdout",
     "output_type": "stream",
     "text": [
      "     10        \u001b[36m0.4721\u001b[0m       \u001b[32m0.8842\u001b[0m        \u001b[35m0.4157\u001b[0m  0.7148\n"
     ]
    },
    {
     "name": "stdout",
     "output_type": "stream",
     "text": [
      "  epoch    train_loss    valid_acc    valid_loss     dur\n",
      "-------  ------------  -----------  ------------  ------\n",
      "      1        \u001b[36m1.9876\u001b[0m       \u001b[32m0.7609\u001b[0m        \u001b[35m1.5595\u001b[0m  0.7045\n"
     ]
    },
    {
     "name": "stdout",
     "output_type": "stream",
     "text": [
      "      2        \u001b[36m1.2625\u001b[0m       \u001b[32m0.8124\u001b[0m        \u001b[35m0.9352\u001b[0m  0.7835\n"
     ]
    },
    {
     "name": "stdout",
     "output_type": "stream",
     "text": [
      "      3        \u001b[36m0.8897\u001b[0m       \u001b[32m0.8408\u001b[0m        \u001b[35m0.6976\u001b[0m  0.7118\n"
     ]
    },
    {
     "name": "stdout",
     "output_type": "stream",
     "text": [
      "      4        \u001b[36m0.7314\u001b[0m       \u001b[32m0.8568\u001b[0m        \u001b[35m0.5858\u001b[0m  0.7026\n"
     ]
    },
    {
     "name": "stdout",
     "output_type": "stream",
     "text": [
      "      5        \u001b[36m0.6475\u001b[0m       \u001b[32m0.8674\u001b[0m        \u001b[35m0.5201\u001b[0m  0.7011\n"
     ]
    },
    {
     "name": "stdout",
     "output_type": "stream",
     "text": [
      "      6        \u001b[36m0.5868\u001b[0m       \u001b[32m0.8773\u001b[0m        \u001b[35m0.4762\u001b[0m  0.6941\n"
     ]
    },
    {
     "name": "stdout",
     "output_type": "stream",
     "text": [
      "      7        \u001b[36m0.5494\u001b[0m       \u001b[32m0.8823\u001b[0m        \u001b[35m0.4451\u001b[0m  0.6938\n"
     ]
    },
    {
     "name": "stdout",
     "output_type": "stream",
     "text": [
      "      8        \u001b[36m0.5215\u001b[0m       \u001b[32m0.8870\u001b[0m        \u001b[35m0.4218\u001b[0m  0.6951\n"
     ]
    },
    {
     "name": "stdout",
     "output_type": "stream",
     "text": [
      "      9        \u001b[36m0.4953\u001b[0m       \u001b[32m0.8904\u001b[0m        \u001b[35m0.4033\u001b[0m  0.6998\n"
     ]
    },
    {
     "name": "stdout",
     "output_type": "stream",
     "text": [
      "     10        \u001b[36m0.4718\u001b[0m       \u001b[32m0.8940\u001b[0m        \u001b[35m0.3874\u001b[0m  0.6975\n"
     ]
    },
    {
     "name": "stdout",
     "output_type": "stream",
     "text": [
      "  epoch    train_loss    valid_acc    valid_loss     dur\n",
      "-------  ------------  -----------  ------------  ------\n",
      "      1        \u001b[36m1.9860\u001b[0m       \u001b[32m0.7598\u001b[0m        \u001b[35m1.5585\u001b[0m  0.6996\n"
     ]
    },
    {
     "name": "stdout",
     "output_type": "stream",
     "text": [
      "      2        \u001b[36m1.2837\u001b[0m       \u001b[32m0.8111\u001b[0m        \u001b[35m0.9467\u001b[0m  0.6951\n"
     ]
    },
    {
     "name": "stdout",
     "output_type": "stream",
     "text": [
      "      3        \u001b[36m0.9154\u001b[0m       \u001b[32m0.8445\u001b[0m        \u001b[35m0.7044\u001b[0m  0.6969\n"
     ]
    },
    {
     "name": "stdout",
     "output_type": "stream",
     "text": [
      "      4        \u001b[36m0.7581\u001b[0m       \u001b[32m0.8627\u001b[0m        \u001b[35m0.5881\u001b[0m  0.7008\n"
     ]
    },
    {
     "name": "stdout",
     "output_type": "stream",
     "text": [
      "      5        \u001b[36m0.6679\u001b[0m       \u001b[32m0.8738\u001b[0m        \u001b[35m0.5207\u001b[0m  0.6991\n"
     ]
    },
    {
     "name": "stdout",
     "output_type": "stream",
     "text": [
      "      6        \u001b[36m0.6115\u001b[0m       \u001b[32m0.8809\u001b[0m        \u001b[35m0.4758\u001b[0m  0.6997\n"
     ]
    },
    {
     "name": "stdout",
     "output_type": "stream",
     "text": [
      "      7        \u001b[36m0.5724\u001b[0m       \u001b[32m0.8859\u001b[0m        \u001b[35m0.4434\u001b[0m  0.6981\n"
     ]
    },
    {
     "name": "stdout",
     "output_type": "stream",
     "text": [
      "      8        \u001b[36m0.5396\u001b[0m       \u001b[32m0.8906\u001b[0m        \u001b[35m0.4190\u001b[0m  0.6997\n"
     ]
    },
    {
     "name": "stdout",
     "output_type": "stream",
     "text": [
      "      9        \u001b[36m0.5150\u001b[0m       \u001b[32m0.8937\u001b[0m        \u001b[35m0.3992\u001b[0m  0.7074\n"
     ]
    },
    {
     "name": "stdout",
     "output_type": "stream",
     "text": [
      "     10        \u001b[36m0.4919\u001b[0m       \u001b[32m0.8968\u001b[0m        \u001b[35m0.3827\u001b[0m  0.7010\n"
     ]
    }
   ],
   "source": [
    "from sklearn.model_selection import cross_val_predict\n",
    "\n",
    "pyx = cross_val_predict(net, X, y, cv=3, method='predict_proba')"
   ]
  },
  {
   "cell_type": "markdown",
   "metadata": {},
   "source": [
    "## 6. Run Cleanlab to find potential label errors"
   ]
  },
  {
   "cell_type": "markdown",
   "metadata": {},
   "source": [
    "Cleanlab has a ``get_noise_indices`` function to generate a list of potential label errors. Setting ``sorted_index_method=\"prob_given_label\"`` returns the indices of all the most likely label errors, sorted by the most suspicious example first."
   ]
  },
  {
   "cell_type": "code",
   "execution_count": 8,
   "metadata": {
    "execution": {
     "iopub.execute_input": "2022-03-09T14:53:48.535331Z",
     "iopub.status.busy": "2022-03-09T14:53:48.534833Z",
     "iopub.status.idle": "2022-03-09T14:53:48.991155Z",
     "shell.execute_reply": "2022-03-09T14:53:48.990324Z"
    }
   },
   "outputs": [],
   "source": [
    "from cleanlab.pruning import get_noise_indices\n",
    "\n",
    "ordered_label_errors = get_noise_indices(\n",
    "    s=y,\n",
    "    psx=pyx,\n",
    "    sorted_index_method=\"prob_given_label\"\n",
    ")"
   ]
  },
  {
   "cell_type": "markdown",
   "metadata": {},
   "source": [
    "## 7. Review some of the most likely mislabeled examples"
   ]
  },
  {
   "cell_type": "code",
   "execution_count": 9,
   "metadata": {
    "execution": {
     "iopub.execute_input": "2022-03-09T14:53:48.995318Z",
     "iopub.status.busy": "2022-03-09T14:53:48.995011Z",
     "iopub.status.idle": "2022-03-09T14:53:49.000634Z",
     "shell.execute_reply": "2022-03-09T14:53:49.000062Z"
    }
   },
   "outputs": [
    {
     "name": "stdout",
     "output_type": "stream",
     "text": [
      "Cleanlab found 1243 potential label errors. Here are the indices of the top 15 most likely ones: \n",
      " [24798 18598  8729 12679 61790  1352 59915 20820 15942 20735 12585 39457\n",
      " 55739  7010  2676]\n"
     ]
    }
   ],
   "source": [
    "print(f\"Cleanlab found {len(ordered_label_errors)} potential label errors. Here are the indices of the top 15 most likely ones: \\n {ordered_label_errors[:15]}\")"
   ]
  },
  {
   "cell_type": "markdown",
   "metadata": {},
   "source": [
    "We'll define a new ``plot_examples`` function to display any examples in a subplot conveniently."
   ]
  },
  {
   "cell_type": "code",
   "execution_count": 10,
   "metadata": {
    "execution": {
     "iopub.execute_input": "2022-03-09T14:53:49.003206Z",
     "iopub.status.busy": "2022-03-09T14:53:49.002919Z",
     "iopub.status.idle": "2022-03-09T14:53:49.951464Z",
     "shell.execute_reply": "2022-03-09T14:53:49.950849Z"
    }
   },
   "outputs": [],
   "source": [
    "import matplotlib.pyplot as plt\n",
    "\n",
    "def plot_examples(id_iter, nrows=1, ncols=1):\n",
    "    for count, id in enumerate(id_iter):\n",
    "        plt.subplot(nrows, ncols, count+1)\n",
    "        plt.imshow(X[id].reshape(28, 28))\n",
    "        plt.title(f\"id: {id} \\n label: {y[id]}\")\n",
    "        plt.axis('off')\n",
    "\n",
    "    plt.tight_layout(h_pad=2.0)"
   ]
  },
  {
   "cell_type": "markdown",
   "metadata": {},
   "source": [
    "Let's start by having an overview of the top 15 most likely label errors. From here, we can see a few label errors and edge cases. Feel free to change the parameters to display more or fewer examples. "
   ]
  },
  {
   "cell_type": "code",
   "execution_count": 11,
   "metadata": {
    "execution": {
     "iopub.execute_input": "2022-03-09T14:53:49.954970Z",
     "iopub.status.busy": "2022-03-09T14:53:49.954629Z",
     "iopub.status.idle": "2022-03-09T14:53:50.429912Z",
     "shell.execute_reply": "2022-03-09T14:53:50.429246Z"
    }
   },
   "outputs": [
    {
     "data": {
      "image/png": "[encoded data removed]",
      "text/plain": [
       "<Figure size 432x288 with 15 Axes>"
      ]
     },
     "metadata": {
      "needs_background": "light"
     },
     "output_type": "display_data"
    }
   ],
   "source": [
    "plot_examples(ordered_label_errors[range(15)], 3, 5)"
   ]
  },
  {
   "cell_type": "markdown",
   "metadata": {},
   "source": [
    "Let's zoom into specific examples:"
   ]
  },
  {
   "cell_type": "markdown",
   "metadata": {},
   "source": [
    "Given label is **4** but looks more like a **7**"
   ]
  },
  {
   "cell_type": "code",
   "execution_count": 12,
   "metadata": {
    "execution": {
     "iopub.execute_input": "2022-03-09T14:53:50.433532Z",
     "iopub.status.busy": "2022-03-09T14:53:50.433222Z",
     "iopub.status.idle": "2022-03-09T14:53:50.492015Z",
     "shell.execute_reply": "2022-03-09T14:53:50.491469Z"
    }
   },
   "outputs": [
    {
     "data": {
      "image/png": "[encoded data removed]",
      "text/plain": [
       "<Figure size 432x288 with 1 Axes>"
      ]
     },
     "metadata": {
      "needs_background": "light"
     },
     "output_type": "display_data"
    }
   ],
   "source": [
    "plot_examples([59915])"
   ]
  },
  {
   "cell_type": "markdown",
   "metadata": {},
   "source": [
    "Given label is **4** but also looks like **9**"
   ]
  },
  {
   "cell_type": "code",
   "execution_count": 13,
   "metadata": {
    "execution": {
     "iopub.execute_input": "2022-03-09T14:53:50.495751Z",
     "iopub.status.busy": "2022-03-09T14:53:50.495284Z",
     "iopub.status.idle": "2022-03-09T14:53:50.552379Z",
     "shell.execute_reply": "2022-03-09T14:53:50.551836Z"
    }
   },
   "outputs": [
    {
     "data": {
      "image/png": "[encoded data removed]",
      "text/plain": [
       "<Figure size 432x288 with 1 Axes>"
      ]
     },
     "metadata": {
      "needs_background": "light"
     },
     "output_type": "display_data"
    }
   ],
   "source": [
    "plot_examples([24798])"
   ]
  },
  {
   "cell_type": "markdown",
   "metadata": {},
   "source": [
    "Edge case of odd looking **9**s"
   ]
  },
  {
   "cell_type": "code",
   "execution_count": 14,
   "metadata": {
    "execution": {
     "iopub.execute_input": "2022-03-09T14:53:50.555945Z",
     "iopub.status.busy": "2022-03-09T14:53:50.555512Z",
     "iopub.status.idle": "2022-03-09T14:53:50.791888Z",
     "shell.execute_reply": "2022-03-09T14:53:50.791181Z"
    }
   },
   "outputs": [
    {
     "data": {
      "image/png": "[encoded data removed]",
      "text/plain": [
       "<Figure size 432x288 with 3 Axes>"
      ]
     },
     "metadata": {
      "needs_background": "light"
     },
     "output_type": "display_data"
    }
   ],
   "source": [
    "plot_examples([18598, 1352, 61247], 1, 3)"
   ]
  },
  {
   "cell_type": "markdown",
   "metadata": {},
   "source": [
    "Cleanlab has shortlisted the most likely label errors to speed up your data cleaning process. With this list, you can decide whether to fix label errors, augment edge cases or remove obscure examples. \n",
    "\n",
    "These human-in-the-loop processes may be time-consuming, so if you'd like Cleanlab to automatically remove these noisy examples and train a model directly on the partially mislabeled dataset, you're in luck! Cleanlab provides a ``LearningWithNoisyLabels`` wrapper to do precisely this:"
   ]
  },
  {
   "cell_type": "markdown",
   "metadata": {},
   "source": [
    "## 8. Adapt with Cleanlab's wrapper and train a more robust model"
   ]
  },
  {
   "cell_type": "markdown",
   "metadata": {},
   "source": [
    "First, we split the dataset into train and test subsets."
   ]
  },
  {
   "cell_type": "code",
   "execution_count": 15,
   "metadata": {
    "execution": {
     "iopub.execute_input": "2022-03-09T14:53:50.795128Z",
     "iopub.status.busy": "2022-03-09T14:53:50.794798Z",
     "iopub.status.idle": "2022-03-09T14:53:51.691953Z",
     "shell.execute_reply": "2022-03-09T14:53:51.691304Z"
    }
   },
   "outputs": [],
   "source": [
    "from sklearn.model_selection import train_test_split\n",
    "\n",
    "X_train, X_test, y_train, y_test = train_test_split(X, y, test_size=0.2)"
   ]
  },
  {
   "cell_type": "markdown",
   "metadata": {},
   "source": [
    "Re-instantiate a new scikit-learn compatible model with Skorch then wrap it with Cleanlab's ``LearningWithNoisyLabels`` wrapper."
   ]
  },
  {
   "cell_type": "code",
   "execution_count": 16,
   "metadata": {
    "execution": {
     "iopub.execute_input": "2022-03-09T14:53:51.695588Z",
     "iopub.status.busy": "2022-03-09T14:53:51.695133Z",
     "iopub.status.idle": "2022-03-09T14:53:51.699833Z",
     "shell.execute_reply": "2022-03-09T14:53:51.699279Z"
    }
   },
   "outputs": [],
   "source": [
    "from cleanlab.classification import LearningWithNoisyLabels\n",
    "\n",
    "net = NeuralNetClassifier(NeuralNetwork)\n",
    "clf = LearningWithNoisyLabels(clf=net)"
   ]
  },
  {
   "cell_type": "code",
   "execution_count": 17,
   "metadata": {
    "execution": {
     "iopub.execute_input": "2022-03-09T14:53:51.702377Z",
     "iopub.status.busy": "2022-03-09T14:53:51.702101Z",
     "iopub.status.idle": "2022-03-09T14:54:35.339431Z",
     "shell.execute_reply": "2022-03-09T14:54:35.338789Z"
    }
   },
   "outputs": [
    {
     "name": "stdout",
     "output_type": "stream",
     "text": [
      "  epoch    train_loss    valid_acc    valid_loss     dur\n",
      "-------  ------------  -----------  ------------  ------\n",
      "      1        \u001b[36m2.0008\u001b[0m       \u001b[32m0.7304\u001b[0m        \u001b[35m1.5852\u001b[0m  0.6984\n"
     ]
    },
    {
     "name": "stdout",
     "output_type": "stream",
     "text": [
      "      2        \u001b[36m1.3004\u001b[0m       \u001b[32m0.8132\u001b[0m        \u001b[35m0.9659\u001b[0m  0.6869\n"
     ]
    },
    {
     "name": "stdout",
     "output_type": "stream",
     "text": [
      "      3        \u001b[36m0.9195\u001b[0m       \u001b[32m0.8479\u001b[0m        \u001b[35m0.7122\u001b[0m  0.7029\n"
     ]
    },
    {
     "name": "stdout",
     "output_type": "stream",
     "text": [
      "      4        \u001b[36m0.7595\u001b[0m       \u001b[32m0.8648\u001b[0m        \u001b[35m0.5941\u001b[0m  0.6840\n"
     ]
    },
    {
     "name": "stdout",
     "output_type": "stream",
     "text": [
      "      5        \u001b[36m0.6700\u001b[0m       \u001b[32m0.8737\u001b[0m        \u001b[35m0.5260\u001b[0m  0.6793\n"
     ]
    },
    {
     "name": "stdout",
     "output_type": "stream",
     "text": [
      "      6        \u001b[36m0.6062\u001b[0m       \u001b[32m0.8791\u001b[0m        \u001b[35m0.4807\u001b[0m  0.6772\n"
     ]
    },
    {
     "name": "stdout",
     "output_type": "stream",
     "text": [
      "      7        \u001b[36m0.5632\u001b[0m       \u001b[32m0.8862\u001b[0m        \u001b[35m0.4483\u001b[0m  0.6778\n"
     ]
    },
    {
     "name": "stdout",
     "output_type": "stream",
     "text": [
      "      8        \u001b[36m0.5305\u001b[0m       \u001b[32m0.8893\u001b[0m        \u001b[35m0.4241\u001b[0m  0.6782\n"
     ]
    },
    {
     "name": "stdout",
     "output_type": "stream",
     "text": [
      "      9        \u001b[36m0.5094\u001b[0m       \u001b[32m0.8925\u001b[0m        \u001b[35m0.4058\u001b[0m  0.6788\n"
     ]
    },
    {
     "name": "stdout",
     "output_type": "stream",
     "text": [
      "     10        \u001b[36m0.4884\u001b[0m       \u001b[32m0.8952\u001b[0m        \u001b[35m0.3901\u001b[0m  0.6807\n"
     ]
    },
    {
     "name": "stdout",
     "output_type": "stream",
     "text": [
      "  epoch    train_loss    valid_acc    valid_loss     dur\n",
      "-------  ------------  -----------  ------------  ------\n",
      "      1        \u001b[36m1.9990\u001b[0m       \u001b[32m0.7449\u001b[0m        \u001b[35m1.5936\u001b[0m  0.6719\n"
     ]
    },
    {
     "name": "stdout",
     "output_type": "stream",
     "text": [
      "      2        \u001b[36m1.3054\u001b[0m       \u001b[32m0.8126\u001b[0m        \u001b[35m0.9733\u001b[0m  0.6616\n"
     ]
    },
    {
     "name": "stdout",
     "output_type": "stream",
     "text": [
      "      3        \u001b[36m0.9304\u001b[0m       \u001b[32m0.8427\u001b[0m        \u001b[35m0.7218\u001b[0m  0.6579\n"
     ]
    },
    {
     "name": "stdout",
     "output_type": "stream",
     "text": [
      "      4        \u001b[36m0.7649\u001b[0m       \u001b[32m0.8578\u001b[0m        \u001b[35m0.6029\u001b[0m  0.6635\n"
     ]
    },
    {
     "name": "stdout",
     "output_type": "stream",
     "text": [
      "      5        \u001b[36m0.6759\u001b[0m       \u001b[32m0.8680\u001b[0m        \u001b[35m0.5349\u001b[0m  0.6623\n"
     ]
    },
    {
     "name": "stdout",
     "output_type": "stream",
     "text": [
      "      6        \u001b[36m0.6166\u001b[0m       \u001b[32m0.8762\u001b[0m        \u001b[35m0.4891\u001b[0m  0.6661\n"
     ]
    },
    {
     "name": "stdout",
     "output_type": "stream",
     "text": [
      "      7        \u001b[36m0.5734\u001b[0m       \u001b[32m0.8821\u001b[0m        \u001b[35m0.4563\u001b[0m  0.6596\n"
     ]
    },
    {
     "name": "stdout",
     "output_type": "stream",
     "text": [
      "      8        \u001b[36m0.5411\u001b[0m       \u001b[32m0.8858\u001b[0m        \u001b[35m0.4317\u001b[0m  0.6616\n"
     ]
    },
    {
     "name": "stdout",
     "output_type": "stream",
     "text": [
      "      9        \u001b[36m0.5169\u001b[0m       \u001b[32m0.8877\u001b[0m        \u001b[35m0.4129\u001b[0m  0.6592\n"
     ]
    },
    {
     "name": "stdout",
     "output_type": "stream",
     "text": [
      "     10        \u001b[36m0.4891\u001b[0m       \u001b[32m0.8916\u001b[0m        \u001b[35m0.3955\u001b[0m  0.6660\n"
     ]
    },
    {
     "name": "stdout",
     "output_type": "stream",
     "text": [
      "  epoch    train_loss    valid_acc    valid_loss     dur\n",
      "-------  ------------  -----------  ------------  ------\n",
      "      1        \u001b[36m2.0170\u001b[0m       \u001b[32m0.7129\u001b[0m        \u001b[35m1.6255\u001b[0m  0.6702\n"
     ]
    },
    {
     "name": "stdout",
     "output_type": "stream",
     "text": [
      "      2        \u001b[36m1.3352\u001b[0m       \u001b[32m0.8051\u001b[0m        \u001b[35m1.0027\u001b[0m  0.6669\n"
     ]
    },
    {
     "name": "stdout",
     "output_type": "stream",
     "text": [
      "      3        \u001b[36m0.9505\u001b[0m       \u001b[32m0.8398\u001b[0m        \u001b[35m0.7407\u001b[0m  0.6685\n"
     ]
    },
    {
     "name": "stdout",
     "output_type": "stream",
     "text": [
      "      4        \u001b[36m0.7787\u001b[0m       \u001b[32m0.8564\u001b[0m        \u001b[35m0.6167\u001b[0m  0.6655\n"
     ]
    },
    {
     "name": "stdout",
     "output_type": "stream",
     "text": [
      "      5        \u001b[36m0.6839\u001b[0m       \u001b[32m0.8674\u001b[0m        \u001b[35m0.5446\u001b[0m  0.6634\n"
     ]
    },
    {
     "name": "stdout",
     "output_type": "stream",
     "text": [
      "      6        \u001b[36m0.6256\u001b[0m       \u001b[32m0.8757\u001b[0m        \u001b[35m0.4967\u001b[0m  0.6642\n"
     ]
    },
    {
     "name": "stdout",
     "output_type": "stream",
     "text": [
      "      7        \u001b[36m0.5770\u001b[0m       \u001b[32m0.8816\u001b[0m        \u001b[35m0.4616\u001b[0m  0.6649\n"
     ]
    },
    {
     "name": "stdout",
     "output_type": "stream",
     "text": [
      "      8        \u001b[36m0.5445\u001b[0m       \u001b[32m0.8860\u001b[0m        \u001b[35m0.4354\u001b[0m  0.6643\n"
     ]
    },
    {
     "name": "stdout",
     "output_type": "stream",
     "text": [
      "      9        \u001b[36m0.5196\u001b[0m       \u001b[32m0.8896\u001b[0m        \u001b[35m0.4154\u001b[0m  0.6706\n"
     ]
    },
    {
     "name": "stdout",
     "output_type": "stream",
     "text": [
      "     10        \u001b[36m0.4955\u001b[0m       \u001b[32m0.8933\u001b[0m        \u001b[35m0.3986\u001b[0m  0.6672\n"
     ]
    },
    {
     "name": "stdout",
     "output_type": "stream",
     "text": [
      "  epoch    train_loss    valid_acc    valid_loss     dur\n",
      "-------  ------------  -----------  ------------  ------\n",
      "      1        \u001b[36m2.0356\u001b[0m       \u001b[32m0.7152\u001b[0m        \u001b[35m1.6539\u001b[0m  0.6614\n"
     ]
    },
    {
     "name": "stdout",
     "output_type": "stream",
     "text": [
      "      2        \u001b[36m1.3455\u001b[0m       \u001b[32m0.7975\u001b[0m        \u001b[35m1.0027\u001b[0m  0.6632\n"
     ]
    },
    {
     "name": "stdout",
     "output_type": "stream",
     "text": [
      "      3        \u001b[36m0.9514\u001b[0m       \u001b[32m0.8398\u001b[0m        \u001b[35m0.7335\u001b[0m  0.6606\n"
     ]
    },
    {
     "name": "stdout",
     "output_type": "stream",
     "text": [
      "      4        \u001b[36m0.7725\u001b[0m       \u001b[32m0.8569\u001b[0m        \u001b[35m0.6054\u001b[0m  0.6584\n"
     ]
    },
    {
     "name": "stdout",
     "output_type": "stream",
     "text": [
      "      5        \u001b[36m0.6758\u001b[0m       \u001b[32m0.8717\u001b[0m        \u001b[35m0.5330\u001b[0m  0.7320\n"
     ]
    },
    {
     "name": "stdout",
     "output_type": "stream",
     "text": [
      "      6        \u001b[36m0.6133\u001b[0m       \u001b[32m0.8788\u001b[0m        \u001b[35m0.4854\u001b[0m  0.6769\n"
     ]
    },
    {
     "name": "stdout",
     "output_type": "stream",
     "text": [
      "      7        \u001b[36m0.5686\u001b[0m       \u001b[32m0.8847\u001b[0m        \u001b[35m0.4516\u001b[0m  0.6742\n"
     ]
    },
    {
     "name": "stdout",
     "output_type": "stream",
     "text": [
      "      8        \u001b[36m0.5345\u001b[0m       \u001b[32m0.8890\u001b[0m        \u001b[35m0.4261\u001b[0m  0.6777\n"
     ]
    },
    {
     "name": "stdout",
     "output_type": "stream",
     "text": [
      "      9        \u001b[36m0.5102\u001b[0m       \u001b[32m0.8915\u001b[0m        \u001b[35m0.4071\u001b[0m  0.6810\n"
     ]
    },
    {
     "name": "stdout",
     "output_type": "stream",
     "text": [
      "     10        \u001b[36m0.4853\u001b[0m       \u001b[32m0.8943\u001b[0m        \u001b[35m0.3903\u001b[0m  0.6772\n"
     ]
    },
    {
     "name": "stdout",
     "output_type": "stream",
     "text": [
      "  epoch    train_loss    valid_acc    valid_loss     dur\n",
      "-------  ------------  -----------  ------------  ------\n",
      "      1        \u001b[36m2.0053\u001b[0m       \u001b[32m0.7487\u001b[0m        \u001b[35m1.6071\u001b[0m  0.6782\n"
     ]
    },
    {
     "name": "stdout",
     "output_type": "stream",
     "text": [
      "      2        \u001b[36m1.3119\u001b[0m       \u001b[32m0.8073\u001b[0m        \u001b[35m0.9792\u001b[0m  0.6741\n"
     ]
    },
    {
     "name": "stdout",
     "output_type": "stream",
     "text": [
      "      3        \u001b[36m0.9306\u001b[0m       \u001b[32m0.8446\u001b[0m        \u001b[35m0.7223\u001b[0m  0.6745\n"
     ]
    },
    {
     "name": "stdout",
     "output_type": "stream",
     "text": [
      "      4        \u001b[36m0.7615\u001b[0m       \u001b[32m0.8631\u001b[0m        \u001b[35m0.6011\u001b[0m  0.6937\n"
     ]
    },
    {
     "name": "stdout",
     "output_type": "stream",
     "text": [
      "      5        \u001b[36m0.6709\u001b[0m       \u001b[32m0.8718\u001b[0m        \u001b[35m0.5317\u001b[0m  0.6585\n"
     ]
    },
    {
     "name": "stdout",
     "output_type": "stream",
     "text": [
      "      6        \u001b[36m0.6124\u001b[0m       \u001b[32m0.8794\u001b[0m        \u001b[35m0.4854\u001b[0m  0.6613\n"
     ]
    },
    {
     "name": "stdout",
     "output_type": "stream",
     "text": [
      "      7        \u001b[36m0.5681\u001b[0m       \u001b[32m0.8856\u001b[0m        \u001b[35m0.4524\u001b[0m  0.6571\n"
     ]
    },
    {
     "name": "stdout",
     "output_type": "stream",
     "text": [
      "      8        \u001b[36m0.5365\u001b[0m       \u001b[32m0.8878\u001b[0m        \u001b[35m0.4278\u001b[0m  0.6586\n"
     ]
    },
    {
     "name": "stdout",
     "output_type": "stream",
     "text": [
      "      9        \u001b[36m0.5101\u001b[0m       \u001b[32m0.8910\u001b[0m        \u001b[35m0.4080\u001b[0m  0.6586\n"
     ]
    },
    {
     "name": "stdout",
     "output_type": "stream",
     "text": [
      "     10        \u001b[36m0.4891\u001b[0m       \u001b[32m0.8942\u001b[0m        \u001b[35m0.3923\u001b[0m  0.6587\n"
     ]
    },
    {
     "name": "stdout",
     "output_type": "stream",
     "text": [
      "  epoch    train_loss    valid_acc    valid_loss     dur\n",
      "-------  ------------  -----------  ------------  ------\n",
      "      1        \u001b[36m1.9083\u001b[0m       \u001b[32m0.7671\u001b[0m        \u001b[35m1.3836\u001b[0m  0.8146\n"
     ]
    },
    {
     "name": "stdout",
     "output_type": "stream",
     "text": [
      "      2        \u001b[36m1.1100\u001b[0m       \u001b[32m0.8493\u001b[0m        \u001b[35m0.7805\u001b[0m  0.8128\n"
     ]
    },
    {
     "name": "stdout",
     "output_type": "stream",
     "text": [
      "      3        \u001b[36m0.7744\u001b[0m       \u001b[32m0.8723\u001b[0m        \u001b[35m0.5726\u001b[0m  0.8314\n"
     ]
    },
    {
     "name": "stdout",
     "output_type": "stream",
     "text": [
      "      4        \u001b[36m0.6337\u001b[0m       \u001b[32m0.8877\u001b[0m        \u001b[35m0.4744\u001b[0m  0.8120\n"
     ]
    },
    {
     "name": "stdout",
     "output_type": "stream",
     "text": [
      "      5        \u001b[36m0.5550\u001b[0m       \u001b[32m0.8949\u001b[0m        \u001b[35m0.4165\u001b[0m  0.8125\n"
     ]
    },
    {
     "name": "stdout",
     "output_type": "stream",
     "text": [
      "      6        \u001b[36m0.5008\u001b[0m       \u001b[32m0.9004\u001b[0m        \u001b[35m0.3775\u001b[0m  0.8160\n"
     ]
    },
    {
     "name": "stdout",
     "output_type": "stream",
     "text": [
      "      7        \u001b[36m0.4653\u001b[0m       \u001b[32m0.9054\u001b[0m        \u001b[35m0.3503\u001b[0m  0.8343\n"
     ]
    },
    {
     "name": "stdout",
     "output_type": "stream",
     "text": [
      "      8        \u001b[36m0.4385\u001b[0m       \u001b[32m0.9095\u001b[0m        \u001b[35m0.3298\u001b[0m  0.8210\n"
     ]
    },
    {
     "name": "stdout",
     "output_type": "stream",
     "text": [
      "      9        \u001b[36m0.4156\u001b[0m       \u001b[32m0.9119\u001b[0m        \u001b[35m0.3131\u001b[0m  0.8128\n"
     ]
    },
    {
     "name": "stdout",
     "output_type": "stream",
     "text": [
      "     10        \u001b[36m0.3965\u001b[0m       \u001b[32m0.9153\u001b[0m        \u001b[35m0.2994\u001b[0m  0.8098\n"
     ]
    }
   ],
   "source": [
    "_ = clf.fit(X_train, y_train.to_numpy())"
   ]
  },
  {
   "cell_type": "markdown",
   "metadata": {},
   "source": [
    "## 9. Evaluate the robust model's performance"
   ]
  },
  {
   "cell_type": "code",
   "execution_count": 18,
   "metadata": {
    "execution": {
     "iopub.execute_input": "2022-03-09T14:54:35.342623Z",
     "iopub.status.busy": "2022-03-09T14:54:35.342282Z",
     "iopub.status.idle": "2022-03-09T14:54:35.545406Z",
     "shell.execute_reply": "2022-03-09T14:54:35.544838Z"
    }
   },
   "outputs": [
    {
     "data": {
      "text/plain": [
       "0.9002857142857142"
      ]
     },
     "execution_count": 18,
     "metadata": {},
     "output_type": "execute_result"
    }
   ],
   "source": [
    "from sklearn.metrics import accuracy_score\n",
    "\n",
    "y_pred = clf.predict(X_test)\n",
    "accuracy_score(y_test, y_pred)"
   ]
  },
  {
   "cell_type": "markdown",
   "metadata": {},
   "source": [
    "## What's next?"
   ]
  },
  {
   "cell_type": "markdown",
   "metadata": {},
   "source": [
    "Congratulations on completing this tutorial! Check out our following tutorial on using Cleanlab for text classification, where we found ``hundreds`` of potential label errors in one of the most well-known text datasets, the IMBDb movie review dataset!"
   ]
  }
 ],
 "metadata": {
  "interpreter": {
   "hash": "ced20e3e49bb4fa4ce8ad38f8f2535b7fc4c39b2b89554502b5dbdad1ad67eda"
  },
  "kernelspec": {
   "display_name": "Python 3.10.0 64-bit",
   "language": "python",
   "name": "python3"
  },
  "language_info": {
   "codemirror_mode": {
    "name": "ipython",
    "version": 3
   },
   "file_extension": ".py",
   "mimetype": "text/x-python",
   "name": "python",
   "nbconvert_exporter": "python",
   "pygments_lexer": "ipython3",
   "version": "3.8.12"
  }
 },
 "nbformat": 4,
 "nbformat_minor": 2
}
