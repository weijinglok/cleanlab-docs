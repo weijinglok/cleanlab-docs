{
 "cells": [
  {
   "cell_type": "markdown",
   "metadata": {},
   "source": [
    "# Image Classification with Cleanlab, PyTorch & Skorch"
   ]
  },
  {
   "cell_type": "markdown",
   "metadata": {},
   "source": [
    "This tutorial will use Cleanlab to find potential label errors in the MNIST handwritten digit image dataset. This dataset contains 60,000 images of handwritten digits from 0 to 9. We'll find *more than a thousand* highly suspicious examples with label errors and edge cases by the end of this tutorial. \n",
    "\n",
    "**Overview of what we'll do in this tutorial:**\n",
    "\n",
    "- Build a simple PyTorch neural net and wrap it with Skorch to make it scikit-learn compatible.\n",
    "\n",
    "- Compute the cross-validated predicted probabilities, ``pyx``, sometimes known as the out-of-sample predicted probabilities.\n",
    "\n",
    "- Generate a list of potential label errors with Cleanlab's ``get_noise_indices``.\n",
    "\n",
    "- Build and train a more robust model than the vanilla model after adapting it with Cleanlab's ``LearningWithNoisyLabels``. \n",
    "\n",
    "**Data:** https://www.openml.org/d/554"
   ]
  },
  {
   "cell_type": "markdown",
   "metadata": {},
   "source": [
    "## 1. Install the required dependencies"
   ]
  },
  {
   "cell_type": "markdown",
   "metadata": {},
   "source": [
    "``%%capture`` is a magic function to hides the cell's output."
   ]
  },
  {
   "cell_type": "code",
   "execution_count": 1,
   "metadata": {
    "execution": {
     "iopub.execute_input": "2022-03-09T02:58:59.949794Z",
     "iopub.status.busy": "2022-03-09T02:58:59.949393Z",
     "iopub.status.idle": "2022-03-09T02:59:37.314522Z",
     "shell.execute_reply": "2022-03-09T02:59:37.313876Z"
    }
   },
   "outputs": [],
   "source": [
    "%%capture\n",
    "\n",
    "%pip install cleanlab pandas matplotlib torch torchvision skorch"
   ]
  },
  {
   "cell_type": "markdown",
   "metadata": {},
   "source": [
    "## 2. Fetch and scale the MNIST dataset"
   ]
  },
  {
   "cell_type": "code",
   "execution_count": 2,
   "metadata": {
    "execution": {
     "iopub.execute_input": "2022-03-09T02:59:37.317459Z",
     "iopub.status.busy": "2022-03-09T02:59:37.317197Z",
     "iopub.status.idle": "2022-03-09T03:00:34.167402Z",
     "shell.execute_reply": "2022-03-09T03:00:34.166795Z"
    }
   },
   "outputs": [],
   "source": [
    "from sklearn.datasets import fetch_openml\n",
    "\n",
    "# Fetch the MNIST dataset\n",
    "mnist = fetch_openml('mnist_784')\n",
    "\n",
    "# Assign the data features and labels to variable X and y respectively \n",
    "X = mnist.data.astype('float32')\n",
    "y = mnist.target.astype('int64')\n"
   ]
  },
  {
   "cell_type": "markdown",
   "metadata": {},
   "source": [
    "<div class=\"alert alert-info\">\n",
    "\n",
    "Bringing Your Own Data (BYOD)?\n",
    "\n",
    "Assign your data's features to variable ``X`` and its labels to variable ``y`` instead.\n",
    "\n",
    "</div>"
   ]
  },
  {
   "cell_type": "code",
   "execution_count": 3,
   "metadata": {
    "execution": {
     "iopub.execute_input": "2022-03-09T03:00:34.170553Z",
     "iopub.status.busy": "2022-03-09T03:00:34.170054Z",
     "iopub.status.idle": "2022-03-09T03:00:34.273752Z",
     "shell.execute_reply": "2022-03-09T03:00:34.273195Z"
    }
   },
   "outputs": [],
   "source": [
    "\n",
    "# Scale the features which range from 0 to 255 (256 levels on the grayscale) \n",
    "X /= 255.0\n",
    "\n",
    "# Then convert it to a numpy array\n",
    "X = X.to_numpy()"
   ]
  },
  {
   "cell_type": "markdown",
   "metadata": {},
   "source": [
    "## 3. Define a classification model"
   ]
  },
  {
   "cell_type": "markdown",
   "metadata": {},
   "source": [
    "Here, we define a simple neural network with PyTorch."
   ]
  },
  {
   "cell_type": "code",
   "execution_count": 4,
   "metadata": {
    "execution": {
     "iopub.execute_input": "2022-03-09T03:00:34.276673Z",
     "iopub.status.busy": "2022-03-09T03:00:34.276509Z",
     "iopub.status.idle": "2022-03-09T03:00:34.682399Z",
     "shell.execute_reply": "2022-03-09T03:00:34.681845Z"
    }
   },
   "outputs": [],
   "source": [
    "from torch import nn\n",
    "\n",
    "class NeuralNetwork(nn.Module):\n",
    "    def __init__(self):\n",
    "        super(NeuralNetwork, self).__init__()\n",
    "        self.dropout = nn.Dropout(0.5)\n",
    "        self.hidden = nn.Linear(28*28, 128)\n",
    "        self.output = nn.Linear(128, 10)\n",
    "\n",
    "    def forward(self, X):\n",
    "        X = nn.functional.relu(self.hidden(X))\n",
    "        X = self.dropout(X)\n",
    "        X = nn.functional.softmax(self.output(X), dim=-1)\n",
    "        return X"
   ]
  },
  {
   "cell_type": "markdown",
   "metadata": {},
   "source": [
    "## 4. Wrap with Skorch for scikit-learn compatibility"
   ]
  },
  {
   "cell_type": "markdown",
   "metadata": {},
   "source": [
    "As some of Cleanlab's feature requires scikit-learn compatibility, we will need to adapt the above PyTorch neural net accordingly. Skorch is a convenient package that helps with this, read more about it here: https://skorch.readthedocs.io"
   ]
  },
  {
   "cell_type": "code",
   "execution_count": 5,
   "metadata": {
    "execution": {
     "iopub.execute_input": "2022-03-09T03:00:34.685469Z",
     "iopub.status.busy": "2022-03-09T03:00:34.685213Z",
     "iopub.status.idle": "2022-03-09T03:00:34.769443Z",
     "shell.execute_reply": "2022-03-09T03:00:34.768865Z"
    }
   },
   "outputs": [],
   "source": [
    "from skorch import NeuralNetClassifier\n",
    "\n",
    "# Wrap the PyTorch neural net around Skorch's NeuralNetClassifier wrapper\n",
    "net = NeuralNetClassifier(NeuralNetwork)"
   ]
  },
  {
   "cell_type": "markdown",
   "metadata": {},
   "source": [
    "## 5. Compute the cross-validated predicted probabilities"
   ]
  },
  {
   "cell_type": "markdown",
   "metadata": {},
   "source": [
    "If we'd like Cleanlab to identify potential label errors in the whole dataset and not just the training set, we can consider fitting the entire dataset. We will only use this model instance to compute the cross-validated predicted probabilities, ``pyx``, and not for model evaluation."
   ]
  },
  {
   "cell_type": "code",
   "execution_count": 6,
   "metadata": {
    "execution": {
     "iopub.execute_input": "2022-03-09T03:00:34.772361Z",
     "iopub.status.busy": "2022-03-09T03:00:34.772075Z",
     "iopub.status.idle": "2022-03-09T03:00:56.648704Z",
     "shell.execute_reply": "2022-03-09T03:00:56.648133Z"
    }
   },
   "outputs": [
    {
     "name": "stdout",
     "output_type": "stream",
     "text": [
      "  epoch    train_loss    valid_acc    valid_loss     dur\n",
      "-------  ------------  -----------  ------------  ------\n",
      "      1        \u001b[36m1.7729\u001b[0m       \u001b[32m0.7886\u001b[0m        \u001b[35m1.1521\u001b[0m  2.1950\n"
     ]
    },
    {
     "name": "stdout",
     "output_type": "stream",
     "text": [
      "      2        \u001b[36m0.9639\u001b[0m       \u001b[32m0.8414\u001b[0m        \u001b[35m0.6886\u001b[0m  2.1831\n"
     ]
    },
    {
     "name": "stdout",
     "output_type": "stream",
     "text": [
      "      3        \u001b[36m0.7125\u001b[0m       \u001b[32m0.8627\u001b[0m        \u001b[35m0.5441\u001b[0m  2.1753\n"
     ]
    },
    {
     "name": "stdout",
     "output_type": "stream",
     "text": [
      "      4        \u001b[36m0.6089\u001b[0m       \u001b[32m0.8778\u001b[0m        \u001b[35m0.4727\u001b[0m  2.1684\n"
     ]
    },
    {
     "name": "stdout",
     "output_type": "stream",
     "text": [
      "      5        \u001b[36m0.5472\u001b[0m       \u001b[32m0.8849\u001b[0m        \u001b[35m0.4300\u001b[0m  2.1886\n"
     ]
    },
    {
     "name": "stdout",
     "output_type": "stream",
     "text": [
      "      6        \u001b[36m0.5074\u001b[0m       \u001b[32m0.8931\u001b[0m        \u001b[35m0.4003\u001b[0m  2.1984\n"
     ]
    },
    {
     "name": "stdout",
     "output_type": "stream",
     "text": [
      "      7        \u001b[36m0.4735\u001b[0m       \u001b[32m0.8967\u001b[0m        \u001b[35m0.3773\u001b[0m  2.1728\n"
     ]
    },
    {
     "name": "stdout",
     "output_type": "stream",
     "text": [
      "      8        \u001b[36m0.4503\u001b[0m       \u001b[32m0.9014\u001b[0m        \u001b[35m0.3600\u001b[0m  2.1698\n"
     ]
    },
    {
     "name": "stdout",
     "output_type": "stream",
     "text": [
      "      9        \u001b[36m0.4319\u001b[0m       \u001b[32m0.9041\u001b[0m        \u001b[35m0.3456\u001b[0m  2.1740\n"
     ]
    },
    {
     "name": "stdout",
     "output_type": "stream",
     "text": [
      "     10        \u001b[36m0.4153\u001b[0m       \u001b[32m0.9071\u001b[0m        \u001b[35m0.3332\u001b[0m  2.1746\n"
     ]
    }
   ],
   "source": [
    "_ = net.fit(X, y)"
   ]
  },
  {
   "cell_type": "markdown",
   "metadata": {},
   "source": [
    "Compute the cross-validated predicted probabilities, ``pyx``, sometimes also known as the out-of-sample predicted probabilities."
   ]
  },
  {
   "cell_type": "code",
   "execution_count": 7,
   "metadata": {
    "execution": {
     "iopub.execute_input": "2022-03-09T03:00:56.651264Z",
     "iopub.status.busy": "2022-03-09T03:00:56.651045Z",
     "iopub.status.idle": "2022-03-09T03:01:32.497661Z",
     "shell.execute_reply": "2022-03-09T03:01:32.497091Z"
    }
   },
   "outputs": [
    {
     "name": "stdout",
     "output_type": "stream",
     "text": [
      "  epoch    train_loss    valid_acc    valid_loss     dur\n",
      "-------  ------------  -----------  ------------  ------\n",
      "      1        \u001b[36m1.9699\u001b[0m       \u001b[32m0.7310\u001b[0m        \u001b[35m1.5419\u001b[0m  1.1363\n"
     ]
    },
    {
     "name": "stdout",
     "output_type": "stream",
     "text": [
      "      2        \u001b[36m1.2345\u001b[0m       \u001b[32m0.7996\u001b[0m        \u001b[35m0.9437\u001b[0m  1.1912\n"
     ]
    },
    {
     "name": "stdout",
     "output_type": "stream",
     "text": [
      "      3        \u001b[36m0.8771\u001b[0m       \u001b[32m0.8334\u001b[0m        \u001b[35m0.7159\u001b[0m  1.1366\n"
     ]
    },
    {
     "name": "stdout",
     "output_type": "stream",
     "text": [
      "      4        \u001b[36m0.7232\u001b[0m       \u001b[32m0.8495\u001b[0m        \u001b[35m0.6083\u001b[0m  1.1429\n"
     ]
    },
    {
     "name": "stdout",
     "output_type": "stream",
     "text": [
      "      5        \u001b[36m0.6392\u001b[0m       \u001b[32m0.8591\u001b[0m        \u001b[35m0.5459\u001b[0m  1.1334\n"
     ]
    },
    {
     "name": "stdout",
     "output_type": "stream",
     "text": [
      "      6        \u001b[36m0.5849\u001b[0m       \u001b[32m0.8670\u001b[0m        \u001b[35m0.5038\u001b[0m  1.1307\n"
     ]
    },
    {
     "name": "stdout",
     "output_type": "stream",
     "text": [
      "      7        \u001b[36m0.5468\u001b[0m       \u001b[32m0.8695\u001b[0m        \u001b[35m0.4740\u001b[0m  1.1475\n"
     ]
    },
    {
     "name": "stdout",
     "output_type": "stream",
     "text": [
      "      8        \u001b[36m0.5131\u001b[0m       \u001b[32m0.8751\u001b[0m        \u001b[35m0.4492\u001b[0m  1.1475\n"
     ]
    },
    {
     "name": "stdout",
     "output_type": "stream",
     "text": [
      "      9        \u001b[36m0.4889\u001b[0m       \u001b[32m0.8781\u001b[0m        \u001b[35m0.4301\u001b[0m  1.1838\n"
     ]
    },
    {
     "name": "stdout",
     "output_type": "stream",
     "text": [
      "     10        \u001b[36m0.4704\u001b[0m       \u001b[32m0.8814\u001b[0m        \u001b[35m0.4150\u001b[0m  1.1323\n"
     ]
    },
    {
     "name": "stdout",
     "output_type": "stream",
     "text": [
      "  epoch    train_loss    valid_acc    valid_loss     dur\n",
      "-------  ------------  -----------  ------------  ------\n",
      "      1        \u001b[36m1.9624\u001b[0m       \u001b[32m0.7469\u001b[0m        \u001b[35m1.5260\u001b[0m  1.1352\n"
     ]
    },
    {
     "name": "stdout",
     "output_type": "stream",
     "text": [
      "      2        \u001b[36m1.2397\u001b[0m       \u001b[32m0.8202\u001b[0m        \u001b[35m0.9226\u001b[0m  1.1554\n"
     ]
    },
    {
     "name": "stdout",
     "output_type": "stream",
     "text": [
      "      3        \u001b[36m0.8827\u001b[0m       \u001b[32m0.8439\u001b[0m        \u001b[35m0.6912\u001b[0m  1.1716\n"
     ]
    },
    {
     "name": "stdout",
     "output_type": "stream",
     "text": [
      "      4        \u001b[36m0.7239\u001b[0m       \u001b[32m0.8585\u001b[0m        \u001b[35m0.5803\u001b[0m  1.1495\n"
     ]
    },
    {
     "name": "stdout",
     "output_type": "stream",
     "text": [
      "      5        \u001b[36m0.6389\u001b[0m       \u001b[32m0.8694\u001b[0m        \u001b[35m0.5172\u001b[0m  1.1685\n"
     ]
    },
    {
     "name": "stdout",
     "output_type": "stream",
     "text": [
      "      6        \u001b[36m0.5801\u001b[0m       \u001b[32m0.8781\u001b[0m        \u001b[35m0.4732\u001b[0m  1.1710\n"
     ]
    },
    {
     "name": "stdout",
     "output_type": "stream",
     "text": [
      "      7        \u001b[36m0.5451\u001b[0m       \u001b[32m0.8834\u001b[0m        \u001b[35m0.4438\u001b[0m  1.1523\n"
     ]
    },
    {
     "name": "stdout",
     "output_type": "stream",
     "text": [
      "      8        \u001b[36m0.5129\u001b[0m       \u001b[32m0.8872\u001b[0m        \u001b[35m0.4209\u001b[0m  1.1537\n"
     ]
    },
    {
     "name": "stdout",
     "output_type": "stream",
     "text": [
      "      9        \u001b[36m0.4900\u001b[0m       \u001b[32m0.8918\u001b[0m        \u001b[35m0.4010\u001b[0m  1.1332\n"
     ]
    },
    {
     "name": "stdout",
     "output_type": "stream",
     "text": [
      "     10        \u001b[36m0.4698\u001b[0m       \u001b[32m0.8942\u001b[0m        \u001b[35m0.3869\u001b[0m  1.1370\n"
     ]
    },
    {
     "name": "stdout",
     "output_type": "stream",
     "text": [
      "  epoch    train_loss    valid_acc    valid_loss     dur\n",
      "-------  ------------  -----------  ------------  ------\n",
      "      1        \u001b[36m2.0094\u001b[0m       \u001b[32m0.7426\u001b[0m        \u001b[35m1.5912\u001b[0m  1.1476\n"
     ]
    },
    {
     "name": "stdout",
     "output_type": "stream",
     "text": [
      "      2        \u001b[36m1.3001\u001b[0m       \u001b[32m0.8130\u001b[0m        \u001b[35m0.9564\u001b[0m  1.1377\n"
     ]
    },
    {
     "name": "stdout",
     "output_type": "stream",
     "text": [
      "      3        \u001b[36m0.9177\u001b[0m       \u001b[32m0.8434\u001b[0m        \u001b[35m0.7081\u001b[0m  1.1386\n"
     ]
    },
    {
     "name": "stdout",
     "output_type": "stream",
     "text": [
      "      4        \u001b[36m0.7604\u001b[0m       \u001b[32m0.8591\u001b[0m        \u001b[35m0.5922\u001b[0m  1.1367\n"
     ]
    },
    {
     "name": "stdout",
     "output_type": "stream",
     "text": [
      "      5        \u001b[36m0.6716\u001b[0m       \u001b[32m0.8721\u001b[0m        \u001b[35m0.5245\u001b[0m  1.1490\n"
     ]
    },
    {
     "name": "stdout",
     "output_type": "stream",
     "text": [
      "      6        \u001b[36m0.6108\u001b[0m       \u001b[32m0.8801\u001b[0m        \u001b[35m0.4789\u001b[0m  1.1452\n"
     ]
    },
    {
     "name": "stdout",
     "output_type": "stream",
     "text": [
      "      7        \u001b[36m0.5701\u001b[0m       \u001b[32m0.8868\u001b[0m        \u001b[35m0.4469\u001b[0m  1.1308\n"
     ]
    },
    {
     "name": "stdout",
     "output_type": "stream",
     "text": [
      "      8        \u001b[36m0.5367\u001b[0m       \u001b[32m0.8901\u001b[0m        \u001b[35m0.4221\u001b[0m  1.1284\n"
     ]
    },
    {
     "name": "stdout",
     "output_type": "stream",
     "text": [
      "      9        \u001b[36m0.5153\u001b[0m       \u001b[32m0.8947\u001b[0m        \u001b[35m0.4032\u001b[0m  1.1357\n"
     ]
    },
    {
     "name": "stdout",
     "output_type": "stream",
     "text": [
      "     10        \u001b[36m0.4945\u001b[0m       \u001b[32m0.8987\u001b[0m        \u001b[35m0.3864\u001b[0m  1.1360\n"
     ]
    }
   ],
   "source": [
    "from sklearn.model_selection import cross_val_predict\n",
    "\n",
    "pyx = cross_val_predict(net, X, y, cv=3, method='predict_proba')"
   ]
  },
  {
   "cell_type": "markdown",
   "metadata": {},
   "source": [
    "## 6. Run Cleanlab to find potential label errors"
   ]
  },
  {
   "cell_type": "markdown",
   "metadata": {},
   "source": [
    "Cleanlab has a ``get_noise_indices`` function to generate a list of potential label errors. Setting ``sorted_index_method=\"prob_given_label\"`` returns the indices of all the most likely label errors, sorted by the most suspicious example first."
   ]
  },
  {
   "cell_type": "code",
   "execution_count": 8,
   "metadata": {
    "execution": {
     "iopub.execute_input": "2022-03-09T03:01:32.500465Z",
     "iopub.status.busy": "2022-03-09T03:01:32.500299Z",
     "iopub.status.idle": "2022-03-09T03:01:32.851629Z",
     "shell.execute_reply": "2022-03-09T03:01:32.850962Z"
    }
   },
   "outputs": [],
   "source": [
    "from cleanlab.pruning import get_noise_indices\n",
    "\n",
    "ordered_label_errors = get_noise_indices(\n",
    "    s=y,\n",
    "    psx=pyx,\n",
    "    sorted_index_method=\"prob_given_label\"\n",
    ")"
   ]
  },
  {
   "cell_type": "markdown",
   "metadata": {},
   "source": [
    "## 7. Review some of the most likely mislabeled examples"
   ]
  },
  {
   "cell_type": "code",
   "execution_count": 9,
   "metadata": {
    "execution": {
     "iopub.execute_input": "2022-03-09T03:01:32.854667Z",
     "iopub.status.busy": "2022-03-09T03:01:32.854451Z",
     "iopub.status.idle": "2022-03-09T03:01:32.858268Z",
     "shell.execute_reply": "2022-03-09T03:01:32.857701Z"
    }
   },
   "outputs": [
    {
     "name": "stdout",
     "output_type": "stream",
     "text": [
      "Cleanlab found 1236 potential label errors. Here are the indices of the top 15 most likely ones: \n",
      " [24798 18598  8729 20820 61790 39457 15942  1352 59915 31134 53216 20735\n",
      "  7010 12679 55739]\n"
     ]
    }
   ],
   "source": [
    "print(f\"Cleanlab found {len(ordered_label_errors)} potential label errors. Here are the indices of the top 15 most likely ones: \\n {ordered_label_errors[:15]}\")"
   ]
  },
  {
   "cell_type": "markdown",
   "metadata": {},
   "source": [
    "We'll define a new ``plot_examples`` function to display any examples in a subplot conveniently."
   ]
  },
  {
   "cell_type": "code",
   "execution_count": 10,
   "metadata": {
    "execution": {
     "iopub.execute_input": "2022-03-09T03:01:32.860904Z",
     "iopub.status.busy": "2022-03-09T03:01:32.860420Z",
     "iopub.status.idle": "2022-03-09T03:01:33.601723Z",
     "shell.execute_reply": "2022-03-09T03:01:33.601157Z"
    }
   },
   "outputs": [],
   "source": [
    "import matplotlib.pyplot as plt\n",
    "\n",
    "def plot_examples(id_iter, nrows=1, ncols=1):\n",
    "    for count, id in enumerate(id_iter):\n",
    "        plt.subplot(nrows, ncols, count+1)\n",
    "        plt.imshow(X[id].reshape(28, 28))\n",
    "        plt.title(f\"id: {id} \\n label: {y[id]}\")\n",
    "        plt.axis('off')\n",
    "\n",
    "    plt.tight_layout(h_pad=2.0)"
   ]
  },
  {
   "cell_type": "markdown",
   "metadata": {},
   "source": [
    "Let's start by having an overview of the top 15 most likely label errors. From here, we can see a few label errors and edge cases. Feel free to change the parameters to display more or fewer examples. "
   ]
  },
  {
   "cell_type": "code",
   "execution_count": 11,
   "metadata": {
    "execution": {
     "iopub.execute_input": "2022-03-09T03:01:33.604638Z",
     "iopub.status.busy": "2022-03-09T03:01:33.604476Z",
     "iopub.status.idle": "2022-03-09T03:01:34.028710Z",
     "shell.execute_reply": "2022-03-09T03:01:34.028122Z"
    }
   },
   "outputs": [
    {
     "data": {
      "image/png": "[encoded data removed]",
      "text/plain": [
       "<Figure size 432x288 with 15 Axes>"
      ]
     },
     "metadata": {
      "needs_background": "light"
     },
     "output_type": "display_data"
    }
   ],
   "source": [
    "plot_examples(ordered_label_errors[range(15)], 3, 5)"
   ]
  },
  {
   "cell_type": "markdown",
   "metadata": {},
   "source": [
    "Let's zoom into specific examples:"
   ]
  },
  {
   "cell_type": "markdown",
   "metadata": {},
   "source": [
    "Given label is **4** but looks more like a **7**"
   ]
  },
  {
   "cell_type": "code",
   "execution_count": 12,
   "metadata": {
    "execution": {
     "iopub.execute_input": "2022-03-09T03:01:34.031792Z",
     "iopub.status.busy": "2022-03-09T03:01:34.031268Z",
     "iopub.status.idle": "2022-03-09T03:01:34.087441Z",
     "shell.execute_reply": "2022-03-09T03:01:34.086828Z"
    }
   },
   "outputs": [
    {
     "data": {
      "image/png": "[encoded data removed]",
      "text/plain": [
       "<Figure size 432x288 with 1 Axes>"
      ]
     },
     "metadata": {
      "needs_background": "light"
     },
     "output_type": "display_data"
    }
   ],
   "source": [
    "plot_examples([59915])"
   ]
  },
  {
   "cell_type": "markdown",
   "metadata": {},
   "source": [
    "Given label is **4** but also looks like **9**"
   ]
  },
  {
   "cell_type": "code",
   "execution_count": 13,
   "metadata": {
    "execution": {
     "iopub.execute_input": "2022-03-09T03:01:34.090860Z",
     "iopub.status.busy": "2022-03-09T03:01:34.090553Z",
     "iopub.status.idle": "2022-03-09T03:01:34.148192Z",
     "shell.execute_reply": "2022-03-09T03:01:34.147685Z"
    }
   },
   "outputs": [
    {
     "data": {
      "image/png": "[encoded data removed]",
      "text/plain": [
       "<Figure size 432x288 with 1 Axes>"
      ]
     },
     "metadata": {
      "needs_background": "light"
     },
     "output_type": "display_data"
    }
   ],
   "source": [
    "plot_examples([24798])"
   ]
  },
  {
   "cell_type": "markdown",
   "metadata": {},
   "source": [
    "Edge case of odd looking **9**s"
   ]
  },
  {
   "cell_type": "code",
   "execution_count": 14,
   "metadata": {
    "execution": {
     "iopub.execute_input": "2022-03-09T03:01:34.151555Z",
     "iopub.status.busy": "2022-03-09T03:01:34.151254Z",
     "iopub.status.idle": "2022-03-09T03:01:34.374684Z",
     "shell.execute_reply": "2022-03-09T03:01:34.374160Z"
    }
   },
   "outputs": [
    {
     "data": {
      "image/png": "[encoded data removed]",
      "text/plain": [
       "<Figure size 432x288 with 3 Axes>"
      ]
     },
     "metadata": {
      "needs_background": "light"
     },
     "output_type": "display_data"
    }
   ],
   "source": [
    "plot_examples([18598, 1352, 61247], 1, 3)"
   ]
  },
  {
   "cell_type": "markdown",
   "metadata": {},
   "source": [
    "Cleanlab has shortlisted the most likely label errors to speed up your data cleaning process. With this list, you can decide whether to fix label errors, augment edge cases or remove obscure examples. \n",
    "\n",
    "These human-in-the-loop processes may be time-consuming, so if you'd like Cleanlab to automatically remove these noisy examples and train a model directly on the partially mislabeled dataset, you're in luck! Cleanlab provides a ``LearningWithNoisyLabels`` wrapper to do precisely this:"
   ]
  },
  {
   "cell_type": "markdown",
   "metadata": {},
   "source": [
    "## 8. Adapt with Cleanlab's wrapper and train a more robust model"
   ]
  },
  {
   "cell_type": "markdown",
   "metadata": {},
   "source": [
    "First, we split the dataset into train and test subsets."
   ]
  },
  {
   "cell_type": "code",
   "execution_count": 15,
   "metadata": {
    "execution": {
     "iopub.execute_input": "2022-03-09T03:01:34.377466Z",
     "iopub.status.busy": "2022-03-09T03:01:34.377036Z",
     "iopub.status.idle": "2022-03-09T03:01:34.709217Z",
     "shell.execute_reply": "2022-03-09T03:01:34.708638Z"
    }
   },
   "outputs": [],
   "source": [
    "from sklearn.model_selection import train_test_split\n",
    "\n",
    "X_train, X_test, y_train, y_test = train_test_split(X, y, test_size=0.2)"
   ]
  },
  {
   "cell_type": "markdown",
   "metadata": {},
   "source": [
    "Re-instantiate a new scikit-learn compatible model with Skorch then wrap it with Cleanlab's ``LearningWithNoisyLabels`` wrapper."
   ]
  },
  {
   "cell_type": "code",
   "execution_count": 16,
   "metadata": {
    "execution": {
     "iopub.execute_input": "2022-03-09T03:01:34.711936Z",
     "iopub.status.busy": "2022-03-09T03:01:34.711687Z",
     "iopub.status.idle": "2022-03-09T03:01:34.714783Z",
     "shell.execute_reply": "2022-03-09T03:01:34.714211Z"
    }
   },
   "outputs": [],
   "source": [
    "from cleanlab.classification import LearningWithNoisyLabels\n",
    "\n",
    "net = NeuralNetClassifier(NeuralNetwork)\n",
    "clf = LearningWithNoisyLabels(clf=net)"
   ]
  },
  {
   "cell_type": "code",
   "execution_count": 17,
   "metadata": {
    "execution": {
     "iopub.execute_input": "2022-03-09T03:01:34.716924Z",
     "iopub.status.busy": "2022-03-09T03:01:34.716783Z",
     "iopub.status.idle": "2022-03-09T03:02:44.960666Z",
     "shell.execute_reply": "2022-03-09T03:02:44.959990Z"
    }
   },
   "outputs": [
    {
     "name": "stdout",
     "output_type": "stream",
     "text": [
      "  epoch    train_loss    valid_acc    valid_loss     dur\n",
      "-------  ------------  -----------  ------------  ------\n",
      "      1        \u001b[36m1.9961\u001b[0m       \u001b[32m0.7430\u001b[0m        \u001b[35m1.5867\u001b[0m  1.0863\n"
     ]
    },
    {
     "name": "stdout",
     "output_type": "stream",
     "text": [
      "      2        \u001b[36m1.2980\u001b[0m       \u001b[32m0.8146\u001b[0m        \u001b[35m0.9650\u001b[0m  1.0875\n"
     ]
    },
    {
     "name": "stdout",
     "output_type": "stream",
     "text": [
      "      3        \u001b[36m0.9248\u001b[0m       \u001b[32m0.8448\u001b[0m        \u001b[35m0.7149\u001b[0m  1.0851\n"
     ]
    },
    {
     "name": "stdout",
     "output_type": "stream",
     "text": [
      "      4        \u001b[36m0.7624\u001b[0m       \u001b[32m0.8604\u001b[0m        \u001b[35m0.5978\u001b[0m  1.0871\n"
     ]
    },
    {
     "name": "stdout",
     "output_type": "stream",
     "text": [
      "      5        \u001b[36m0.6663\u001b[0m       \u001b[32m0.8695\u001b[0m        \u001b[35m0.5277\u001b[0m  1.1168\n"
     ]
    },
    {
     "name": "stdout",
     "output_type": "stream",
     "text": [
      "      6        \u001b[36m0.6082\u001b[0m       \u001b[32m0.8769\u001b[0m        \u001b[35m0.4833\u001b[0m  1.0992\n"
     ]
    },
    {
     "name": "stdout",
     "output_type": "stream",
     "text": [
      "      7        \u001b[36m0.5680\u001b[0m       \u001b[32m0.8835\u001b[0m        \u001b[35m0.4505\u001b[0m  1.1106\n"
     ]
    },
    {
     "name": "stdout",
     "output_type": "stream",
     "text": [
      "      8        \u001b[36m0.5342\u001b[0m       \u001b[32m0.8882\u001b[0m        \u001b[35m0.4255\u001b[0m  1.1072\n"
     ]
    },
    {
     "name": "stdout",
     "output_type": "stream",
     "text": [
      "      9        \u001b[36m0.5073\u001b[0m       \u001b[32m0.8931\u001b[0m        \u001b[35m0.4058\u001b[0m  1.1098\n"
     ]
    },
    {
     "name": "stdout",
     "output_type": "stream",
     "text": [
      "     10        \u001b[36m0.4897\u001b[0m       \u001b[32m0.8964\u001b[0m        \u001b[35m0.3898\u001b[0m  1.1048\n"
     ]
    },
    {
     "name": "stdout",
     "output_type": "stream",
     "text": [
      "  epoch    train_loss    valid_acc    valid_loss     dur\n",
      "-------  ------------  -----------  ------------  ------\n",
      "      1        \u001b[36m1.9892\u001b[0m       \u001b[32m0.7449\u001b[0m        \u001b[35m1.5759\u001b[0m  1.2139\n"
     ]
    },
    {
     "name": "stdout",
     "output_type": "stream",
     "text": [
      "      2        \u001b[36m1.3002\u001b[0m       \u001b[32m0.8181\u001b[0m        \u001b[35m0.9601\u001b[0m  1.0927\n"
     ]
    },
    {
     "name": "stdout",
     "output_type": "stream",
     "text": [
      "      3        \u001b[36m0.9276\u001b[0m       \u001b[32m0.8493\u001b[0m        \u001b[35m0.7115\u001b[0m  1.1002\n"
     ]
    },
    {
     "name": "stdout",
     "output_type": "stream",
     "text": [
      "      4        \u001b[36m0.7647\u001b[0m       \u001b[32m0.8643\u001b[0m        \u001b[35m0.5933\u001b[0m  1.1068\n"
     ]
    },
    {
     "name": "stdout",
     "output_type": "stream",
     "text": [
      "      5        \u001b[36m0.6727\u001b[0m       \u001b[32m0.8749\u001b[0m        \u001b[35m0.5242\u001b[0m  1.1058\n"
     ]
    },
    {
     "name": "stdout",
     "output_type": "stream",
     "text": [
      "      6        \u001b[36m0.6126\u001b[0m       \u001b[32m0.8828\u001b[0m        \u001b[35m0.4779\u001b[0m  1.1180\n"
     ]
    },
    {
     "name": "stdout",
     "output_type": "stream",
     "text": [
      "      7        \u001b[36m0.5678\u001b[0m       \u001b[32m0.8893\u001b[0m        \u001b[35m0.4444\u001b[0m  1.1272\n"
     ]
    },
    {
     "name": "stdout",
     "output_type": "stream",
     "text": [
      "      8        \u001b[36m0.5373\u001b[0m       \u001b[32m0.8929\u001b[0m        \u001b[35m0.4197\u001b[0m  1.1173\n"
     ]
    },
    {
     "name": "stdout",
     "output_type": "stream",
     "text": [
      "      9        \u001b[36m0.5145\u001b[0m       \u001b[32m0.8960\u001b[0m        \u001b[35m0.4003\u001b[0m  1.1072\n"
     ]
    },
    {
     "name": "stdout",
     "output_type": "stream",
     "text": [
      "     10        \u001b[36m0.4868\u001b[0m       \u001b[32m0.8977\u001b[0m        \u001b[35m0.3836\u001b[0m  1.0983\n"
     ]
    },
    {
     "name": "stdout",
     "output_type": "stream",
     "text": [
      "  epoch    train_loss    valid_acc    valid_loss     dur\n",
      "-------  ------------  -----------  ------------  ------\n",
      "      1        \u001b[36m2.0495\u001b[0m       \u001b[32m0.7387\u001b[0m        \u001b[35m1.6587\u001b[0m  1.1022\n"
     ]
    },
    {
     "name": "stdout",
     "output_type": "stream",
     "text": [
      "      2        \u001b[36m1.3567\u001b[0m       \u001b[32m0.8190\u001b[0m        \u001b[35m0.9973\u001b[0m  1.0822\n"
     ]
    },
    {
     "name": "stdout",
     "output_type": "stream",
     "text": [
      "      3        \u001b[36m0.9526\u001b[0m       \u001b[32m0.8492\u001b[0m        \u001b[35m0.7250\u001b[0m  1.0837\n"
     ]
    },
    {
     "name": "stdout",
     "output_type": "stream",
     "text": [
      "      4        \u001b[36m0.7687\u001b[0m       \u001b[32m0.8655\u001b[0m        \u001b[35m0.5973\u001b[0m  1.0828\n"
     ]
    },
    {
     "name": "stdout",
     "output_type": "stream",
     "text": [
      "      5        \u001b[36m0.6725\u001b[0m       \u001b[32m0.8766\u001b[0m        \u001b[35m0.5258\u001b[0m  1.0877\n"
     ]
    },
    {
     "name": "stdout",
     "output_type": "stream",
     "text": [
      "      6        \u001b[36m0.6119\u001b[0m       \u001b[32m0.8842\u001b[0m        \u001b[35m0.4779\u001b[0m  1.0902\n"
     ]
    },
    {
     "name": "stdout",
     "output_type": "stream",
     "text": [
      "      7        \u001b[36m0.5693\u001b[0m       \u001b[32m0.8883\u001b[0m        \u001b[35m0.4453\u001b[0m  1.0956\n"
     ]
    },
    {
     "name": "stdout",
     "output_type": "stream",
     "text": [
      "      8        \u001b[36m0.5357\u001b[0m       \u001b[32m0.8926\u001b[0m        \u001b[35m0.4199\u001b[0m  1.0960\n"
     ]
    },
    {
     "name": "stdout",
     "output_type": "stream",
     "text": [
      "      9        \u001b[36m0.5063\u001b[0m       \u001b[32m0.8964\u001b[0m        \u001b[35m0.3998\u001b[0m  1.1050\n"
     ]
    },
    {
     "name": "stdout",
     "output_type": "stream",
     "text": [
      "     10        \u001b[36m0.4871\u001b[0m       \u001b[32m0.8985\u001b[0m        \u001b[35m0.3837\u001b[0m  1.1436\n"
     ]
    },
    {
     "name": "stdout",
     "output_type": "stream",
     "text": [
      "  epoch    train_loss    valid_acc    valid_loss     dur\n",
      "-------  ------------  -----------  ------------  ------\n",
      "      1        \u001b[36m1.9927\u001b[0m       \u001b[32m0.7546\u001b[0m        \u001b[35m1.5732\u001b[0m  1.1021\n"
     ]
    },
    {
     "name": "stdout",
     "output_type": "stream",
     "text": [
      "      2        \u001b[36m1.2717\u001b[0m       \u001b[32m0.8169\u001b[0m        \u001b[35m0.9445\u001b[0m  1.0933\n"
     ]
    },
    {
     "name": "stdout",
     "output_type": "stream",
     "text": [
      "      3        \u001b[36m0.9001\u001b[0m       \u001b[32m0.8425\u001b[0m        \u001b[35m0.7036\u001b[0m  1.0912\n"
     ]
    },
    {
     "name": "stdout",
     "output_type": "stream",
     "text": [
      "      4        \u001b[36m0.7416\u001b[0m       \u001b[32m0.8607\u001b[0m        \u001b[35m0.5899\u001b[0m  1.0921\n"
     ]
    },
    {
     "name": "stdout",
     "output_type": "stream",
     "text": [
      "      5        \u001b[36m0.6534\u001b[0m       \u001b[32m0.8706\u001b[0m        \u001b[35m0.5238\u001b[0m  1.0911\n"
     ]
    },
    {
     "name": "stdout",
     "output_type": "stream",
     "text": [
      "      6        \u001b[36m0.5989\u001b[0m       \u001b[32m0.8794\u001b[0m        \u001b[35m0.4805\u001b[0m  1.0990\n"
     ]
    },
    {
     "name": "stdout",
     "output_type": "stream",
     "text": [
      "      7        \u001b[36m0.5556\u001b[0m       \u001b[32m0.8844\u001b[0m        \u001b[35m0.4486\u001b[0m  1.0953\n"
     ]
    },
    {
     "name": "stdout",
     "output_type": "stream",
     "text": [
      "      8        \u001b[36m0.5278\u001b[0m       \u001b[32m0.8888\u001b[0m        \u001b[35m0.4252\u001b[0m  1.0936\n"
     ]
    },
    {
     "name": "stdout",
     "output_type": "stream",
     "text": [
      "      9        \u001b[36m0.5000\u001b[0m       \u001b[32m0.8925\u001b[0m        \u001b[35m0.4063\u001b[0m  1.1006\n"
     ]
    },
    {
     "name": "stdout",
     "output_type": "stream",
     "text": [
      "     10        \u001b[36m0.4829\u001b[0m       \u001b[32m0.8961\u001b[0m        \u001b[35m0.3907\u001b[0m  1.1066\n"
     ]
    },
    {
     "name": "stdout",
     "output_type": "stream",
     "text": [
      "  epoch    train_loss    valid_acc    valid_loss     dur\n",
      "-------  ------------  -----------  ------------  ------\n",
      "      1        \u001b[36m2.0208\u001b[0m       \u001b[32m0.7240\u001b[0m        \u001b[35m1.6197\u001b[0m  1.1068\n"
     ]
    },
    {
     "name": "stdout",
     "output_type": "stream",
     "text": [
      "      2        \u001b[36m1.3252\u001b[0m       \u001b[32m0.8025\u001b[0m        \u001b[35m0.9806\u001b[0m  1.0912\n"
     ]
    },
    {
     "name": "stdout",
     "output_type": "stream",
     "text": [
      "      3        \u001b[36m0.9413\u001b[0m       \u001b[32m0.8382\u001b[0m        \u001b[35m0.7273\u001b[0m  1.0936\n"
     ]
    },
    {
     "name": "stdout",
     "output_type": "stream",
     "text": [
      "      4        \u001b[36m0.7702\u001b[0m       \u001b[32m0.8554\u001b[0m        \u001b[35m0.6080\u001b[0m  1.0934\n"
     ]
    },
    {
     "name": "stdout",
     "output_type": "stream",
     "text": [
      "      5        \u001b[36m0.6747\u001b[0m       \u001b[32m0.8680\u001b[0m        \u001b[35m0.5385\u001b[0m  1.0913\n"
     ]
    },
    {
     "name": "stdout",
     "output_type": "stream",
     "text": [
      "      6        \u001b[36m0.6201\u001b[0m       \u001b[32m0.8735\u001b[0m        \u001b[35m0.4933\u001b[0m  1.1037\n"
     ]
    },
    {
     "name": "stdout",
     "output_type": "stream",
     "text": [
      "      7        \u001b[36m0.5766\u001b[0m       \u001b[32m0.8789\u001b[0m        \u001b[35m0.4606\u001b[0m  1.1052\n"
     ]
    },
    {
     "name": "stdout",
     "output_type": "stream",
     "text": [
      "      8        \u001b[36m0.5423\u001b[0m       \u001b[32m0.8837\u001b[0m        \u001b[35m0.4350\u001b[0m  1.0920\n"
     ]
    },
    {
     "name": "stdout",
     "output_type": "stream",
     "text": [
      "      9        \u001b[36m0.5182\u001b[0m       \u001b[32m0.8881\u001b[0m        \u001b[35m0.4155\u001b[0m  1.0928\n"
     ]
    },
    {
     "name": "stdout",
     "output_type": "stream",
     "text": [
      "     10        \u001b[36m0.4964\u001b[0m       \u001b[32m0.8912\u001b[0m        \u001b[35m0.3993\u001b[0m  1.0944\n"
     ]
    },
    {
     "name": "stdout",
     "output_type": "stream",
     "text": [
      "  epoch    train_loss    valid_acc    valid_loss     dur\n",
      "-------  ------------  -----------  ------------  ------\n",
      "      1        \u001b[36m1.9295\u001b[0m       \u001b[32m0.7863\u001b[0m        \u001b[35m1.4063\u001b[0m  1.3513\n"
     ]
    },
    {
     "name": "stdout",
     "output_type": "stream",
     "text": [
      "      2        \u001b[36m1.1220\u001b[0m       \u001b[32m0.8427\u001b[0m        \u001b[35m0.7895\u001b[0m  1.3458\n"
     ]
    },
    {
     "name": "stdout",
     "output_type": "stream",
     "text": [
      "      3        \u001b[36m0.7876\u001b[0m       \u001b[32m0.8697\u001b[0m        \u001b[35m0.5847\u001b[0m  1.3573\n"
     ]
    },
    {
     "name": "stdout",
     "output_type": "stream",
     "text": [
      "      4        \u001b[36m0.6439\u001b[0m       \u001b[32m0.8847\u001b[0m        \u001b[35m0.4873\u001b[0m  1.3577\n"
     ]
    },
    {
     "name": "stdout",
     "output_type": "stream",
     "text": [
      "      5        \u001b[36m0.5602\u001b[0m       \u001b[32m0.8923\u001b[0m        \u001b[35m0.4293\u001b[0m  1.3654\n"
     ]
    },
    {
     "name": "stdout",
     "output_type": "stream",
     "text": [
      "      6        \u001b[36m0.5089\u001b[0m       \u001b[32m0.9001\u001b[0m        \u001b[35m0.3909\u001b[0m  1.3601\n"
     ]
    },
    {
     "name": "stdout",
     "output_type": "stream",
     "text": [
      "      7        \u001b[36m0.4749\u001b[0m       \u001b[32m0.9048\u001b[0m        \u001b[35m0.3629\u001b[0m  1.3587\n"
     ]
    },
    {
     "name": "stdout",
     "output_type": "stream",
     "text": [
      "      8        \u001b[36m0.4454\u001b[0m       \u001b[32m0.9081\u001b[0m        \u001b[35m0.3422\u001b[0m  1.3604\n"
     ]
    },
    {
     "name": "stdout",
     "output_type": "stream",
     "text": [
      "      9        \u001b[36m0.4225\u001b[0m       \u001b[32m0.9114\u001b[0m        \u001b[35m0.3251\u001b[0m  1.3382\n"
     ]
    },
    {
     "name": "stdout",
     "output_type": "stream",
     "text": [
      "     10        \u001b[36m0.4026\u001b[0m       \u001b[32m0.9147\u001b[0m        \u001b[35m0.3111\u001b[0m  1.3412\n"
     ]
    }
   ],
   "source": [
    "_ = clf.fit(X_train, y_train.to_numpy())"
   ]
  },
  {
   "cell_type": "markdown",
   "metadata": {},
   "source": [
    "## 9. Evaluate the robust model's performance"
   ]
  },
  {
   "cell_type": "code",
   "execution_count": 18,
   "metadata": {
    "execution": {
     "iopub.execute_input": "2022-03-09T03:02:44.963560Z",
     "iopub.status.busy": "2022-03-09T03:02:44.963185Z",
     "iopub.status.idle": "2022-03-09T03:02:45.196314Z",
     "shell.execute_reply": "2022-03-09T03:02:45.195666Z"
    }
   },
   "outputs": [
    {
     "data": {
      "text/plain": [
       "0.8971428571428571"
      ]
     },
     "execution_count": 18,
     "metadata": {},
     "output_type": "execute_result"
    }
   ],
   "source": [
    "from sklearn.metrics import accuracy_score\n",
    "\n",
    "y_pred = clf.predict(X_test)\n",
    "accuracy_score(y_test, y_pred)"
   ]
  },
  {
   "cell_type": "markdown",
   "metadata": {},
   "source": [
    "## What's next?"
   ]
  },
  {
   "cell_type": "markdown",
   "metadata": {},
   "source": [
    "Congratulations on completing this tutorial! Check out our following tutorial on using Cleanlab for text classification, where we found ``hundreds`` of potential label errors in one of the most well-known text datasets, the IMBDb movie review dataset!"
   ]
  }
 ],
 "metadata": {
  "interpreter": {
   "hash": "ced20e3e49bb4fa4ce8ad38f8f2535b7fc4c39b2b89554502b5dbdad1ad67eda"
  },
  "kernelspec": {
   "display_name": "Python 3.10.0 64-bit",
   "language": "python",
   "name": "python3"
  },
  "language_info": {
   "codemirror_mode": {
    "name": "ipython",
    "version": 3
   },
   "file_extension": ".py",
   "mimetype": "text/x-python",
   "name": "python",
   "nbconvert_exporter": "python",
   "pygments_lexer": "ipython3",
   "version": "3.8.12"
  }
 },
 "nbformat": 4,
 "nbformat_minor": 2
}
