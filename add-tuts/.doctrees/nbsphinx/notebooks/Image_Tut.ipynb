{
 "cells": [
  {
   "cell_type": "markdown",
   "metadata": {},
   "source": [
    "# Image Classification with Cleanlab, PyTorch & Skorch"
   ]
  },
  {
   "cell_type": "markdown",
   "metadata": {},
   "source": [
    "This tutorial will use Cleanlab to find potential label errors in the MNIST handwritten digit image dataset. This dataset contains 60,000 images of handwritten digits from 0 to 9. We'll find *more than a thousand* highly suspicious examples with label errors and edge cases by the end of this tutorial. \n",
    "\n",
    "**Overview of what we'll do in this tutorial:**\n",
    "\n",
    "- Build a simple PyTorch neural net and wrap it with Skorch to make it scikit-learn compatible.\n",
    "\n",
    "- Compute the cross-validated predicted probabilities, ``pyx``, sometimes known as the out-of-sample predicted probabilities.\n",
    "\n",
    "- Generate a list of potential label errors with Cleanlab's ``get_noise_indices``.\n",
    "\n",
    "- Build and train a more robust model than the vanilla model after adapting it with Cleanlab's ``LearningWithNoisyLabels``. \n",
    "\n",
    "**Data:** https://www.openml.org/d/554"
   ]
  },
  {
   "cell_type": "markdown",
   "metadata": {},
   "source": [
    "## 1. Install the required dependencies"
   ]
  },
  {
   "cell_type": "markdown",
   "metadata": {},
   "source": [
    "``%%capture`` is a magic function to hides the cell's output."
   ]
  },
  {
   "cell_type": "code",
   "execution_count": 1,
   "metadata": {
    "execution": {
     "iopub.execute_input": "2022-03-09T02:08:17.669352Z",
     "iopub.status.busy": "2022-03-09T02:08:17.668912Z",
     "iopub.status.idle": "2022-03-09T02:08:49.952589Z",
     "shell.execute_reply": "2022-03-09T02:08:49.951936Z"
    }
   },
   "outputs": [],
   "source": [
    "%%capture\n",
    "\n",
    "%pip install cleanlab pandas matplotlib torch torchvision skorch"
   ]
  },
  {
   "cell_type": "markdown",
   "metadata": {},
   "source": [
    "## 2. Fetch and scale the MNIST dataset"
   ]
  },
  {
   "cell_type": "code",
   "execution_count": 2,
   "metadata": {
    "execution": {
     "iopub.execute_input": "2022-03-09T02:08:49.956322Z",
     "iopub.status.busy": "2022-03-09T02:08:49.955828Z",
     "iopub.status.idle": "2022-03-09T02:10:25.740480Z",
     "shell.execute_reply": "2022-03-09T02:10:25.739880Z"
    }
   },
   "outputs": [],
   "source": [
    "from sklearn.datasets import fetch_openml\n",
    "\n",
    "# Fetch the MNIST dataset\n",
    "mnist = fetch_openml('mnist_784')\n",
    "\n",
    "# Assign the data features and labels to variable X and y respectively \n",
    "X = mnist.data.astype('float32')\n",
    "y = mnist.target.astype('int64')\n"
   ]
  },
  {
   "cell_type": "markdown",
   "metadata": {},
   "source": [
    "<div class=\"alert alert-info\">\n",
    "\n",
    "Bringing Your Own Data (BYOD)?\n",
    "\n",
    "Assign your data's features to variable ``X`` and its labels to variable ``y`` instead.\n",
    "\n",
    "</div>"
   ]
  },
  {
   "cell_type": "code",
   "execution_count": 3,
   "metadata": {
    "execution": {
     "iopub.execute_input": "2022-03-09T02:10:25.743697Z",
     "iopub.status.busy": "2022-03-09T02:10:25.743346Z",
     "iopub.status.idle": "2022-03-09T02:10:25.874139Z",
     "shell.execute_reply": "2022-03-09T02:10:25.873535Z"
    }
   },
   "outputs": [],
   "source": [
    "\n",
    "# Scale the features which range from 0 to 255 (256 levels on the grayscale) \n",
    "X /= 255.0\n",
    "\n",
    "# Then convert it to a numpy array\n",
    "X = X.to_numpy()"
   ]
  },
  {
   "cell_type": "markdown",
   "metadata": {},
   "source": [
    "## 3. Define a classification model"
   ]
  },
  {
   "cell_type": "markdown",
   "metadata": {},
   "source": [
    "Here, we define a simple neural network with PyTorch."
   ]
  },
  {
   "cell_type": "code",
   "execution_count": 4,
   "metadata": {
    "execution": {
     "iopub.execute_input": "2022-03-09T02:10:25.877974Z",
     "iopub.status.busy": "2022-03-09T02:10:25.877536Z",
     "iopub.status.idle": "2022-03-09T02:10:26.603404Z",
     "shell.execute_reply": "2022-03-09T02:10:26.602830Z"
    }
   },
   "outputs": [],
   "source": [
    "from torch import nn\n",
    "\n",
    "class NeuralNetwork(nn.Module):\n",
    "    def __init__(self):\n",
    "        super(NeuralNetwork, self).__init__()\n",
    "        self.dropout = nn.Dropout(0.5)\n",
    "        self.hidden = nn.Linear(28*28, 128)\n",
    "        self.output = nn.Linear(128, 10)\n",
    "\n",
    "    def forward(self, X):\n",
    "        X = nn.functional.relu(self.hidden(X))\n",
    "        X = self.dropout(X)\n",
    "        X = nn.functional.softmax(self.output(X), dim=-1)\n",
    "        return X"
   ]
  },
  {
   "cell_type": "markdown",
   "metadata": {},
   "source": [
    "## 4. Wrap with Skorch for scikit-learn compatibility"
   ]
  },
  {
   "cell_type": "markdown",
   "metadata": {},
   "source": [
    "As some of Cleanlab's feature requires scikit-learn compatibility, we will need to adapt the above PyTorch neural net accordingly. Skorch is a convenient package that helps with this, read more about it here: https://skorch.readthedocs.io"
   ]
  },
  {
   "cell_type": "code",
   "execution_count": 5,
   "metadata": {
    "execution": {
     "iopub.execute_input": "2022-03-09T02:10:26.606989Z",
     "iopub.status.busy": "2022-03-09T02:10:26.606497Z",
     "iopub.status.idle": "2022-03-09T02:10:26.723090Z",
     "shell.execute_reply": "2022-03-09T02:10:26.722533Z"
    }
   },
   "outputs": [],
   "source": [
    "from skorch import NeuralNetClassifier\n",
    "\n",
    "# Wrap the PyTorch neural net around Skorch's NeuralNetClassifier wrapper\n",
    "net = NeuralNetClassifier(NeuralNetwork)"
   ]
  },
  {
   "cell_type": "markdown",
   "metadata": {},
   "source": [
    "## 5. Compute the cross-validated predicted probabilities"
   ]
  },
  {
   "cell_type": "markdown",
   "metadata": {},
   "source": [
    "If we'd like Cleanlab to identify potential label errors in the whole dataset and not just the training set, we can consider fitting the entire dataset. We will only use this model instance to compute the cross-validated predicted probabilities, ``pyx``, and not for model evaluation."
   ]
  },
  {
   "cell_type": "code",
   "execution_count": 6,
   "metadata": {
    "execution": {
     "iopub.execute_input": "2022-03-09T02:10:26.726661Z",
     "iopub.status.busy": "2022-03-09T02:10:26.726193Z",
     "iopub.status.idle": "2022-03-09T02:10:43.117403Z",
     "shell.execute_reply": "2022-03-09T02:10:43.116867Z"
    }
   },
   "outputs": [
    {
     "name": "stdout",
     "output_type": "stream",
     "text": [
      "  epoch    train_loss    valid_acc    valid_loss     dur\n",
      "-------  ------------  -----------  ------------  ------\n",
      "      1        \u001b[36m1.8044\u001b[0m       \u001b[32m0.7896\u001b[0m        \u001b[35m1.1875\u001b[0m  1.6121\n"
     ]
    },
    {
     "name": "stdout",
     "output_type": "stream",
     "text": [
      "      2        \u001b[36m0.9920\u001b[0m       \u001b[32m0.8389\u001b[0m        \u001b[35m0.7009\u001b[0m  1.7272\n"
     ]
    },
    {
     "name": "stdout",
     "output_type": "stream",
     "text": [
      "      3        \u001b[36m0.7308\u001b[0m       \u001b[32m0.8608\u001b[0m        \u001b[35m0.5525\u001b[0m  1.6200\n"
     ]
    },
    {
     "name": "stdout",
     "output_type": "stream",
     "text": [
      "      4        \u001b[36m0.6208\u001b[0m       \u001b[32m0.8766\u001b[0m        \u001b[35m0.4809\u001b[0m  1.6241\n"
     ]
    },
    {
     "name": "stdout",
     "output_type": "stream",
     "text": [
      "      5        \u001b[36m0.5555\u001b[0m       \u001b[32m0.8844\u001b[0m        \u001b[35m0.4367\u001b[0m  1.6080\n"
     ]
    },
    {
     "name": "stdout",
     "output_type": "stream",
     "text": [
      "      6        \u001b[36m0.5162\u001b[0m       \u001b[32m0.8915\u001b[0m        \u001b[35m0.4063\u001b[0m  1.6290\n"
     ]
    },
    {
     "name": "stdout",
     "output_type": "stream",
     "text": [
      "      7        \u001b[36m0.4855\u001b[0m       \u001b[32m0.8942\u001b[0m        \u001b[35m0.3847\u001b[0m  1.6196\n"
     ]
    },
    {
     "name": "stdout",
     "output_type": "stream",
     "text": [
      "      8        \u001b[36m0.4605\u001b[0m       \u001b[32m0.8985\u001b[0m        \u001b[35m0.3654\u001b[0m  1.6182\n"
     ]
    },
    {
     "name": "stdout",
     "output_type": "stream",
     "text": [
      "      9        \u001b[36m0.4420\u001b[0m       \u001b[32m0.9022\u001b[0m        \u001b[35m0.3510\u001b[0m  1.6081\n"
     ]
    },
    {
     "name": "stdout",
     "output_type": "stream",
     "text": [
      "     10        \u001b[36m0.4232\u001b[0m       \u001b[32m0.9057\u001b[0m        \u001b[35m0.3387\u001b[0m  1.6265\n"
     ]
    }
   ],
   "source": [
    "_ = net.fit(X, y)"
   ]
  },
  {
   "cell_type": "markdown",
   "metadata": {},
   "source": [
    "Compute the cross-validated predicted probabilities, ``pyx``, sometimes also known as the out-of-sample predicted probabilities."
   ]
  },
  {
   "cell_type": "code",
   "execution_count": 7,
   "metadata": {
    "execution": {
     "iopub.execute_input": "2022-03-09T02:10:43.120408Z",
     "iopub.status.busy": "2022-03-09T02:10:43.119935Z",
     "iopub.status.idle": "2022-03-09T02:11:05.029558Z",
     "shell.execute_reply": "2022-03-09T02:11:05.028954Z"
    }
   },
   "outputs": [
    {
     "name": "stdout",
     "output_type": "stream",
     "text": [
      "  epoch    train_loss    valid_acc    valid_loss     dur\n",
      "-------  ------------  -----------  ------------  ------\n",
      "      1        \u001b[36m1.9913\u001b[0m       \u001b[32m0.7357\u001b[0m        \u001b[35m1.5946\u001b[0m  0.6836\n"
     ]
    },
    {
     "name": "stdout",
     "output_type": "stream",
     "text": [
      "      2        \u001b[36m1.2799\u001b[0m       \u001b[32m0.7952\u001b[0m        \u001b[35m0.9711\u001b[0m  0.6828\n"
     ]
    },
    {
     "name": "stdout",
     "output_type": "stream",
     "text": [
      "      3        \u001b[36m0.9003\u001b[0m       \u001b[32m0.8295\u001b[0m        \u001b[35m0.7306\u001b[0m  0.7388\n"
     ]
    },
    {
     "name": "stdout",
     "output_type": "stream",
     "text": [
      "      4        \u001b[36m0.7349\u001b[0m       \u001b[32m0.8460\u001b[0m        \u001b[35m0.6175\u001b[0m  0.6862\n"
     ]
    },
    {
     "name": "stdout",
     "output_type": "stream",
     "text": [
      "      5        \u001b[36m0.6542\u001b[0m       \u001b[32m0.8585\u001b[0m        \u001b[35m0.5537\u001b[0m  0.6912\n"
     ]
    },
    {
     "name": "stdout",
     "output_type": "stream",
     "text": [
      "      6        \u001b[36m0.5902\u001b[0m       \u001b[32m0.8665\u001b[0m        \u001b[35m0.5085\u001b[0m  0.6811\n"
     ]
    },
    {
     "name": "stdout",
     "output_type": "stream",
     "text": [
      "      7        \u001b[36m0.5531\u001b[0m       \u001b[32m0.8711\u001b[0m        \u001b[35m0.4778\u001b[0m  0.6825\n"
     ]
    },
    {
     "name": "stdout",
     "output_type": "stream",
     "text": [
      "      8        \u001b[36m0.5216\u001b[0m       \u001b[32m0.8748\u001b[0m        \u001b[35m0.4546\u001b[0m  0.6811\n"
     ]
    },
    {
     "name": "stdout",
     "output_type": "stream",
     "text": [
      "      9        \u001b[36m0.4988\u001b[0m       \u001b[32m0.8792\u001b[0m        \u001b[35m0.4353\u001b[0m  0.6890\n"
     ]
    },
    {
     "name": "stdout",
     "output_type": "stream",
     "text": [
      "     10        \u001b[36m0.4761\u001b[0m       \u001b[32m0.8813\u001b[0m        \u001b[35m0.4203\u001b[0m  0.6835\n"
     ]
    },
    {
     "name": "stdout",
     "output_type": "stream",
     "text": [
      "  epoch    train_loss    valid_acc    valid_loss     dur\n",
      "-------  ------------  -----------  ------------  ------\n",
      "      1        \u001b[36m1.9848\u001b[0m       \u001b[32m0.7043\u001b[0m        \u001b[35m1.5528\u001b[0m  0.6799\n"
     ]
    },
    {
     "name": "stdout",
     "output_type": "stream",
     "text": [
      "      2        \u001b[36m1.2537\u001b[0m       \u001b[32m0.8087\u001b[0m        \u001b[35m0.9373\u001b[0m  0.6803\n"
     ]
    },
    {
     "name": "stdout",
     "output_type": "stream",
     "text": [
      "      3        \u001b[36m0.8849\u001b[0m       \u001b[32m0.8413\u001b[0m        \u001b[35m0.6990\u001b[0m  0.6783\n"
     ]
    },
    {
     "name": "stdout",
     "output_type": "stream",
     "text": [
      "      4        \u001b[36m0.7310\u001b[0m       \u001b[32m0.8582\u001b[0m        \u001b[35m0.5871\u001b[0m  0.6822\n"
     ]
    },
    {
     "name": "stdout",
     "output_type": "stream",
     "text": [
      "      5        \u001b[36m0.6412\u001b[0m       \u001b[32m0.8706\u001b[0m        \u001b[35m0.5213\u001b[0m  0.6836\n"
     ]
    },
    {
     "name": "stdout",
     "output_type": "stream",
     "text": [
      "      6        \u001b[36m0.5871\u001b[0m       \u001b[32m0.8777\u001b[0m        \u001b[35m0.4782\u001b[0m  0.6842\n"
     ]
    },
    {
     "name": "stdout",
     "output_type": "stream",
     "text": [
      "      7        \u001b[36m0.5429\u001b[0m       \u001b[32m0.8839\u001b[0m        \u001b[35m0.4468\u001b[0m  0.6904\n"
     ]
    },
    {
     "name": "stdout",
     "output_type": "stream",
     "text": [
      "      8        \u001b[36m0.5138\u001b[0m       \u001b[32m0.8880\u001b[0m        \u001b[35m0.4230\u001b[0m  0.6915\n"
     ]
    },
    {
     "name": "stdout",
     "output_type": "stream",
     "text": [
      "      9        \u001b[36m0.4916\u001b[0m       \u001b[32m0.8918\u001b[0m        \u001b[35m0.4044\u001b[0m  0.6911\n"
     ]
    },
    {
     "name": "stdout",
     "output_type": "stream",
     "text": [
      "     10        \u001b[36m0.4665\u001b[0m       \u001b[32m0.8953\u001b[0m        \u001b[35m0.3890\u001b[0m  0.6915\n"
     ]
    },
    {
     "name": "stdout",
     "output_type": "stream",
     "text": [
      "  epoch    train_loss    valid_acc    valid_loss     dur\n",
      "-------  ------------  -----------  ------------  ------\n",
      "      1        \u001b[36m2.0229\u001b[0m       \u001b[32m0.7437\u001b[0m        \u001b[35m1.6234\u001b[0m  0.6808\n"
     ]
    },
    {
     "name": "stdout",
     "output_type": "stream",
     "text": [
      "      2        \u001b[36m1.3373\u001b[0m       \u001b[32m0.8072\u001b[0m        \u001b[35m0.9879\u001b[0m  0.6837\n"
     ]
    },
    {
     "name": "stdout",
     "output_type": "stream",
     "text": [
      "      3        \u001b[36m0.9539\u001b[0m       \u001b[32m0.8418\u001b[0m        \u001b[35m0.7290\u001b[0m  0.6854\n"
     ]
    },
    {
     "name": "stdout",
     "output_type": "stream",
     "text": [
      "      4        \u001b[36m0.7867\u001b[0m       \u001b[32m0.8619\u001b[0m        \u001b[35m0.6060\u001b[0m  0.6837\n"
     ]
    },
    {
     "name": "stdout",
     "output_type": "stream",
     "text": [
      "      5        \u001b[36m0.6876\u001b[0m       \u001b[32m0.8726\u001b[0m        \u001b[35m0.5337\u001b[0m  0.6829\n"
     ]
    },
    {
     "name": "stdout",
     "output_type": "stream",
     "text": [
      "      6        \u001b[36m0.6242\u001b[0m       \u001b[32m0.8804\u001b[0m        \u001b[35m0.4856\u001b[0m  0.6817\n"
     ]
    },
    {
     "name": "stdout",
     "output_type": "stream",
     "text": [
      "      7        \u001b[36m0.5814\u001b[0m       \u001b[32m0.8870\u001b[0m        \u001b[35m0.4522\u001b[0m  0.6858\n"
     ]
    },
    {
     "name": "stdout",
     "output_type": "stream",
     "text": [
      "      8        \u001b[36m0.5536\u001b[0m       \u001b[32m0.8920\u001b[0m        \u001b[35m0.4273\u001b[0m  0.6835\n"
     ]
    },
    {
     "name": "stdout",
     "output_type": "stream",
     "text": [
      "      9        \u001b[36m0.5259\u001b[0m       \u001b[32m0.8966\u001b[0m        \u001b[35m0.4062\u001b[0m  0.7120\n"
     ]
    },
    {
     "name": "stdout",
     "output_type": "stream",
     "text": [
      "     10        \u001b[36m0.5014\u001b[0m       \u001b[32m0.8995\u001b[0m        \u001b[35m0.3893\u001b[0m  0.6861\n"
     ]
    }
   ],
   "source": [
    "from sklearn.model_selection import cross_val_predict\n",
    "\n",
    "pyx = cross_val_predict(net, X, y, cv=3, method='predict_proba')"
   ]
  },
  {
   "cell_type": "markdown",
   "metadata": {},
   "source": [
    "## 6. Run Cleanlab to find potential label errors"
   ]
  },
  {
   "cell_type": "markdown",
   "metadata": {},
   "source": [
    "Cleanlab has a ``get_noise_indices`` function to generate a list of potential label errors. Setting ``sorted_index_method=\"prob_given_label\"`` returns the indices of all the most likely label errors, sorted by the most suspicious example first."
   ]
  },
  {
   "cell_type": "code",
   "execution_count": 8,
   "metadata": {
    "execution": {
     "iopub.execute_input": "2022-03-09T02:11:05.033446Z",
     "iopub.status.busy": "2022-03-09T02:11:05.032951Z",
     "iopub.status.idle": "2022-03-09T02:11:05.454750Z",
     "shell.execute_reply": "2022-03-09T02:11:05.454051Z"
    }
   },
   "outputs": [],
   "source": [
    "from cleanlab.pruning import get_noise_indices\n",
    "\n",
    "ordered_label_errors = get_noise_indices(\n",
    "    s=y,\n",
    "    psx=pyx,\n",
    "    sorted_index_method=\"prob_given_label\"\n",
    ")"
   ]
  },
  {
   "cell_type": "markdown",
   "metadata": {},
   "source": [
    "## 7. Review some of the most likely mislabeled examples"
   ]
  },
  {
   "cell_type": "code",
   "execution_count": 9,
   "metadata": {
    "execution": {
     "iopub.execute_input": "2022-03-09T02:11:05.458297Z",
     "iopub.status.busy": "2022-03-09T02:11:05.457795Z",
     "iopub.status.idle": "2022-03-09T02:11:05.463330Z",
     "shell.execute_reply": "2022-03-09T02:11:05.462744Z"
    }
   },
   "outputs": [
    {
     "name": "stdout",
     "output_type": "stream",
     "text": [
      "Cleanlab found 1274 potential label errors. Here are the indices of the top 15 most likely ones: \n",
      " [24798 18598  8729 61790 15942 39457 13031 12679  1352  7010 53216 31134\n",
      " 32776 20820 20735]\n"
     ]
    }
   ],
   "source": [
    "print(f\"Cleanlab found {len(ordered_label_errors)} potential label errors. Here are the indices of the top 15 most likely ones: \\n {ordered_label_errors[:15]}\")"
   ]
  },
  {
   "cell_type": "markdown",
   "metadata": {},
   "source": [
    "We'll define a new ``plot_examples`` function to display any examples in a subplot conveniently."
   ]
  },
  {
   "cell_type": "code",
   "execution_count": 10,
   "metadata": {
    "execution": {
     "iopub.execute_input": "2022-03-09T02:11:05.466349Z",
     "iopub.status.busy": "2022-03-09T02:11:05.465762Z",
     "iopub.status.idle": "2022-03-09T02:11:06.301917Z",
     "shell.execute_reply": "2022-03-09T02:11:06.301356Z"
    }
   },
   "outputs": [],
   "source": [
    "import matplotlib.pyplot as plt\n",
    "\n",
    "def plot_examples(id_iter, nrows=1, ncols=1):\n",
    "    for count, id in enumerate(id_iter):\n",
    "        plt.subplot(nrows, ncols, count+1)\n",
    "        plt.imshow(X[id].reshape(28, 28))\n",
    "        plt.title(f\"id: {id} \\n label: {y[id]}\")\n",
    "        plt.axis('off')\n",
    "\n",
    "    plt.tight_layout(h_pad=2.0)"
   ]
  },
  {
   "cell_type": "markdown",
   "metadata": {},
   "source": [
    "Let's start by having an overview of the top 15 most likely label errors. From here, we can see a few label errors and edge cases. Feel free to change the parameters to display more or fewer examples. "
   ]
  },
  {
   "cell_type": "code",
   "execution_count": 11,
   "metadata": {
    "execution": {
     "iopub.execute_input": "2022-03-09T02:11:06.305085Z",
     "iopub.status.busy": "2022-03-09T02:11:06.304740Z",
     "iopub.status.idle": "2022-03-09T02:11:06.751013Z",
     "shell.execute_reply": "2022-03-09T02:11:06.750410Z"
    }
   },
   "outputs": [
    {
     "data": {
      "image/png": "[encoded data removed]",
      "text/plain": [
       "<Figure size 432x288 with 15 Axes>"
      ]
     },
     "metadata": {
      "needs_background": "light"
     },
     "output_type": "display_data"
    }
   ],
   "source": [
    "plot_examples(ordered_label_errors[range(15)], 3, 5)"
   ]
  },
  {
   "cell_type": "markdown",
   "metadata": {},
   "source": [
    "Let's zoom into specific examples:"
   ]
  },
  {
   "cell_type": "markdown",
   "metadata": {},
   "source": [
    "Given label is **4** but looks more like a **7**"
   ]
  },
  {
   "cell_type": "code",
   "execution_count": 12,
   "metadata": {
    "execution": {
     "iopub.execute_input": "2022-03-09T02:11:06.754274Z",
     "iopub.status.busy": "2022-03-09T02:11:06.753767Z",
     "iopub.status.idle": "2022-03-09T02:11:06.807832Z",
     "shell.execute_reply": "2022-03-09T02:11:06.807270Z"
    }
   },
   "outputs": [
    {
     "data": {
      "image/png": "[encoded data removed]",
      "text/plain": [
       "<Figure size 432x288 with 1 Axes>"
      ]
     },
     "metadata": {
      "needs_background": "light"
     },
     "output_type": "display_data"
    }
   ],
   "source": [
    "plot_examples([59915])"
   ]
  },
  {
   "cell_type": "markdown",
   "metadata": {},
   "source": [
    "Given label is **4** but also looks like **9**"
   ]
  },
  {
   "cell_type": "code",
   "execution_count": 13,
   "metadata": {
    "execution": {
     "iopub.execute_input": "2022-03-09T02:11:06.810918Z",
     "iopub.status.busy": "2022-03-09T02:11:06.810450Z",
     "iopub.status.idle": "2022-03-09T02:11:06.863805Z",
     "shell.execute_reply": "2022-03-09T02:11:06.863302Z"
    }
   },
   "outputs": [
    {
     "data": {
      "image/png": "[encoded data removed]",
      "text/plain": [
       "<Figure size 432x288 with 1 Axes>"
      ]
     },
     "metadata": {
      "needs_background": "light"
     },
     "output_type": "display_data"
    }
   ],
   "source": [
    "plot_examples([24798])"
   ]
  },
  {
   "cell_type": "markdown",
   "metadata": {},
   "source": [
    "Edge case of odd looking **9**s"
   ]
  },
  {
   "cell_type": "code",
   "execution_count": 14,
   "metadata": {
    "execution": {
     "iopub.execute_input": "2022-03-09T02:11:06.866488Z",
     "iopub.status.busy": "2022-03-09T02:11:06.866079Z",
     "iopub.status.idle": "2022-03-09T02:11:07.064002Z",
     "shell.execute_reply": "2022-03-09T02:11:07.063458Z"
    }
   },
   "outputs": [
    {
     "data": {
      "image/png": "[encoded data removed]",
      "text/plain": [
       "<Figure size 432x288 with 3 Axes>"
      ]
     },
     "metadata": {
      "needs_background": "light"
     },
     "output_type": "display_data"
    }
   ],
   "source": [
    "plot_examples([18598, 1352, 61247], 1, 3)"
   ]
  },
  {
   "cell_type": "markdown",
   "metadata": {},
   "source": [
    "Cleanlab has shortlisted the most likely label errors to speed up your data cleaning process. With this list, you can decide whether to fix label errors, augment edge cases or remove obscure examples. \n",
    "\n",
    "These human-in-the-loop processes may be time-consuming, so if you'd like Cleanlab to automatically remove these noisy examples and train a model directly on the partially mislabeled dataset, you're in luck! Cleanlab provides a ``LearningWithNoisyLabels`` wrapper to do precisely this:"
   ]
  },
  {
   "cell_type": "markdown",
   "metadata": {},
   "source": [
    "## 8. Adapt with Cleanlab's wrapper and train a more robust model"
   ]
  },
  {
   "cell_type": "markdown",
   "metadata": {},
   "source": [
    "First, we split the dataset into train and test subsets."
   ]
  },
  {
   "cell_type": "code",
   "execution_count": 15,
   "metadata": {
    "execution": {
     "iopub.execute_input": "2022-03-09T02:11:07.067260Z",
     "iopub.status.busy": "2022-03-09T02:11:07.066873Z",
     "iopub.status.idle": "2022-03-09T02:11:07.417260Z",
     "shell.execute_reply": "2022-03-09T02:11:07.416698Z"
    }
   },
   "outputs": [],
   "source": [
    "from sklearn.model_selection import train_test_split\n",
    "\n",
    "X_train, X_test, y_train, y_test = train_test_split(X, y, test_size=0.2)"
   ]
  },
  {
   "cell_type": "markdown",
   "metadata": {},
   "source": [
    "Re-instantiate a new scikit-learn compatible model with Skorch then wrap it with Cleanlab's ``LearningWithNoisyLabels`` wrapper."
   ]
  },
  {
   "cell_type": "code",
   "execution_count": 16,
   "metadata": {
    "execution": {
     "iopub.execute_input": "2022-03-09T02:11:07.420521Z",
     "iopub.status.busy": "2022-03-09T02:11:07.420097Z",
     "iopub.status.idle": "2022-03-09T02:11:07.423412Z",
     "shell.execute_reply": "2022-03-09T02:11:07.422850Z"
    }
   },
   "outputs": [],
   "source": [
    "from cleanlab.classification import LearningWithNoisyLabels\n",
    "\n",
    "net = NeuralNetClassifier(NeuralNetwork)\n",
    "clf = LearningWithNoisyLabels(clf=net)"
   ]
  },
  {
   "cell_type": "code",
   "execution_count": 17,
   "metadata": {
    "execution": {
     "iopub.execute_input": "2022-03-09T02:11:07.426109Z",
     "iopub.status.busy": "2022-03-09T02:11:07.425802Z",
     "iopub.status.idle": "2022-03-09T02:11:50.630040Z",
     "shell.execute_reply": "2022-03-09T02:11:50.629323Z"
    }
   },
   "outputs": [
    {
     "name": "stdout",
     "output_type": "stream",
     "text": [
      "  epoch    train_loss    valid_acc    valid_loss     dur\n",
      "-------  ------------  -----------  ------------  ------\n",
      "      1        \u001b[36m2.0211\u001b[0m       \u001b[32m0.7311\u001b[0m        \u001b[35m1.6359\u001b[0m  0.6768\n"
     ]
    },
    {
     "name": "stdout",
     "output_type": "stream",
     "text": [
      "      2        \u001b[36m1.3437\u001b[0m       \u001b[32m0.8083\u001b[0m        \u001b[35m0.9953\u001b[0m  0.6786\n"
     ]
    },
    {
     "name": "stdout",
     "output_type": "stream",
     "text": [
      "      3        \u001b[36m0.9509\u001b[0m       \u001b[32m0.8497\u001b[0m        \u001b[35m0.7290\u001b[0m  0.6808\n"
     ]
    },
    {
     "name": "stdout",
     "output_type": "stream",
     "text": [
      "      4        \u001b[36m0.7788\u001b[0m       \u001b[32m0.8690\u001b[0m        \u001b[35m0.6034\u001b[0m  0.6769\n"
     ]
    },
    {
     "name": "stdout",
     "output_type": "stream",
     "text": [
      "      5        \u001b[36m0.6798\u001b[0m       \u001b[32m0.8776\u001b[0m        \u001b[35m0.5295\u001b[0m  0.6836\n"
     ]
    },
    {
     "name": "stdout",
     "output_type": "stream",
     "text": [
      "      6        \u001b[36m0.6191\u001b[0m       \u001b[32m0.8825\u001b[0m        \u001b[35m0.4818\u001b[0m  0.6762\n"
     ]
    },
    {
     "name": "stdout",
     "output_type": "stream",
     "text": [
      "      7        \u001b[36m0.5728\u001b[0m       \u001b[32m0.8878\u001b[0m        \u001b[35m0.4478\u001b[0m  0.6754\n"
     ]
    },
    {
     "name": "stdout",
     "output_type": "stream",
     "text": [
      "      8        \u001b[36m0.5404\u001b[0m       \u001b[32m0.8916\u001b[0m        \u001b[35m0.4229\u001b[0m  0.6830\n"
     ]
    },
    {
     "name": "stdout",
     "output_type": "stream",
     "text": [
      "      9        \u001b[36m0.5156\u001b[0m       \u001b[32m0.8943\u001b[0m        \u001b[35m0.4023\u001b[0m  0.6766\n"
     ]
    },
    {
     "name": "stdout",
     "output_type": "stream",
     "text": [
      "     10        \u001b[36m0.4944\u001b[0m       \u001b[32m0.8971\u001b[0m        \u001b[35m0.3859\u001b[0m  0.6800\n"
     ]
    },
    {
     "name": "stdout",
     "output_type": "stream",
     "text": [
      "  epoch    train_loss    valid_acc    valid_loss     dur\n",
      "-------  ------------  -----------  ------------  ------\n",
      "      1        \u001b[36m2.0001\u001b[0m       \u001b[32m0.7327\u001b[0m        \u001b[35m1.5921\u001b[0m  0.6688\n"
     ]
    },
    {
     "name": "stdout",
     "output_type": "stream",
     "text": [
      "      2        \u001b[36m1.2988\u001b[0m       \u001b[32m0.8144\u001b[0m        \u001b[35m0.9713\u001b[0m  0.6713\n"
     ]
    },
    {
     "name": "stdout",
     "output_type": "stream",
     "text": [
      "      3        \u001b[36m0.9283\u001b[0m       \u001b[32m0.8448\u001b[0m        \u001b[35m0.7205\u001b[0m  0.6700\n"
     ]
    },
    {
     "name": "stdout",
     "output_type": "stream",
     "text": [
      "      4        \u001b[36m0.7670\u001b[0m       \u001b[32m0.8650\u001b[0m        \u001b[35m0.6000\u001b[0m  0.6693\n"
     ]
    },
    {
     "name": "stdout",
     "output_type": "stream",
     "text": [
      "      5        \u001b[36m0.6792\u001b[0m       \u001b[32m0.8765\u001b[0m        \u001b[35m0.5293\u001b[0m  0.6665\n"
     ]
    },
    {
     "name": "stdout",
     "output_type": "stream",
     "text": [
      "      6        \u001b[36m0.6160\u001b[0m       \u001b[32m0.8821\u001b[0m        \u001b[35m0.4827\u001b[0m  0.6703\n"
     ]
    },
    {
     "name": "stdout",
     "output_type": "stream",
     "text": [
      "      7        \u001b[36m0.5696\u001b[0m       \u001b[32m0.8883\u001b[0m        \u001b[35m0.4478\u001b[0m  0.6761\n"
     ]
    },
    {
     "name": "stdout",
     "output_type": "stream",
     "text": [
      "      8        \u001b[36m0.5399\u001b[0m       \u001b[32m0.8935\u001b[0m        \u001b[35m0.4223\u001b[0m  0.6661\n"
     ]
    },
    {
     "name": "stdout",
     "output_type": "stream",
     "text": [
      "      9        \u001b[36m0.5113\u001b[0m       \u001b[32m0.8962\u001b[0m        \u001b[35m0.4012\u001b[0m  0.6690\n"
     ]
    },
    {
     "name": "stdout",
     "output_type": "stream",
     "text": [
      "     10        \u001b[36m0.4912\u001b[0m       \u001b[32m0.8992\u001b[0m        \u001b[35m0.3846\u001b[0m  0.6650\n"
     ]
    },
    {
     "name": "stdout",
     "output_type": "stream",
     "text": [
      "  epoch    train_loss    valid_acc    valid_loss     dur\n",
      "-------  ------------  -----------  ------------  ------\n",
      "      1        \u001b[36m1.9880\u001b[0m       \u001b[32m0.7519\u001b[0m        \u001b[35m1.5704\u001b[0m  0.6646\n"
     ]
    },
    {
     "name": "stdout",
     "output_type": "stream",
     "text": [
      "      2        \u001b[36m1.2829\u001b[0m       \u001b[32m0.8219\u001b[0m        \u001b[35m0.9558\u001b[0m  0.6697\n"
     ]
    },
    {
     "name": "stdout",
     "output_type": "stream",
     "text": [
      "      3        \u001b[36m0.9217\u001b[0m       \u001b[32m0.8523\u001b[0m        \u001b[35m0.7118\u001b[0m  0.6692\n"
     ]
    },
    {
     "name": "stdout",
     "output_type": "stream",
     "text": [
      "      4        \u001b[36m0.7595\u001b[0m       \u001b[32m0.8683\u001b[0m        \u001b[35m0.5933\u001b[0m  0.6664\n"
     ]
    },
    {
     "name": "stdout",
     "output_type": "stream",
     "text": [
      "      5        \u001b[36m0.6645\u001b[0m       \u001b[32m0.8778\u001b[0m        \u001b[35m0.5232\u001b[0m  0.6617\n"
     ]
    },
    {
     "name": "stdout",
     "output_type": "stream",
     "text": [
      "      6        \u001b[36m0.6060\u001b[0m       \u001b[32m0.8850\u001b[0m        \u001b[35m0.4767\u001b[0m  0.6610\n"
     ]
    },
    {
     "name": "stdout",
     "output_type": "stream",
     "text": [
      "      7        \u001b[36m0.5642\u001b[0m       \u001b[32m0.8888\u001b[0m        \u001b[35m0.4437\u001b[0m  0.6579\n"
     ]
    },
    {
     "name": "stdout",
     "output_type": "stream",
     "text": [
      "      8        \u001b[36m0.5368\u001b[0m       \u001b[32m0.8934\u001b[0m        \u001b[35m0.4195\u001b[0m  0.6579\n"
     ]
    },
    {
     "name": "stdout",
     "output_type": "stream",
     "text": [
      "      9        \u001b[36m0.5122\u001b[0m       \u001b[32m0.8960\u001b[0m        \u001b[35m0.3999\u001b[0m  0.6666\n"
     ]
    },
    {
     "name": "stdout",
     "output_type": "stream",
     "text": [
      "     10        \u001b[36m0.4911\u001b[0m       \u001b[32m0.8989\u001b[0m        \u001b[35m0.3834\u001b[0m  0.6852\n"
     ]
    },
    {
     "name": "stdout",
     "output_type": "stream",
     "text": [
      "  epoch    train_loss    valid_acc    valid_loss     dur\n",
      "-------  ------------  -----------  ------------  ------\n",
      "      1        \u001b[36m2.0193\u001b[0m       \u001b[32m0.7367\u001b[0m        \u001b[35m1.6240\u001b[0m  0.6721\n"
     ]
    },
    {
     "name": "stdout",
     "output_type": "stream",
     "text": [
      "      2        \u001b[36m1.3212\u001b[0m       \u001b[32m0.8110\u001b[0m        \u001b[35m0.9842\u001b[0m  0.6650\n"
     ]
    },
    {
     "name": "stdout",
     "output_type": "stream",
     "text": [
      "      3        \u001b[36m0.9355\u001b[0m       \u001b[32m0.8496\u001b[0m        \u001b[35m0.7241\u001b[0m  0.6634\n"
     ]
    },
    {
     "name": "stdout",
     "output_type": "stream",
     "text": [
      "      4        \u001b[36m0.7662\u001b[0m       \u001b[32m0.8657\u001b[0m        \u001b[35m0.6003\u001b[0m  0.6669\n"
     ]
    },
    {
     "name": "stdout",
     "output_type": "stream",
     "text": [
      "      5        \u001b[36m0.6756\u001b[0m       \u001b[32m0.8746\u001b[0m        \u001b[35m0.5292\u001b[0m  0.6565\n"
     ]
    },
    {
     "name": "stdout",
     "output_type": "stream",
     "text": [
      "      6        \u001b[36m0.6124\u001b[0m       \u001b[32m0.8817\u001b[0m        \u001b[35m0.4818\u001b[0m  0.6588\n"
     ]
    },
    {
     "name": "stdout",
     "output_type": "stream",
     "text": [
      "      7        \u001b[36m0.5680\u001b[0m       \u001b[32m0.8873\u001b[0m        \u001b[35m0.4480\u001b[0m  0.6543\n"
     ]
    },
    {
     "name": "stdout",
     "output_type": "stream",
     "text": [
      "      8        \u001b[36m0.5377\u001b[0m       \u001b[32m0.8910\u001b[0m        \u001b[35m0.4233\u001b[0m  0.6590\n"
     ]
    },
    {
     "name": "stdout",
     "output_type": "stream",
     "text": [
      "      9        \u001b[36m0.5110\u001b[0m       \u001b[32m0.8938\u001b[0m        \u001b[35m0.4031\u001b[0m  0.6665\n"
     ]
    },
    {
     "name": "stdout",
     "output_type": "stream",
     "text": [
      "     10        \u001b[36m0.4894\u001b[0m       \u001b[32m0.8982\u001b[0m        \u001b[35m0.3863\u001b[0m  0.6615\n"
     ]
    },
    {
     "name": "stdout",
     "output_type": "stream",
     "text": [
      "  epoch    train_loss    valid_acc    valid_loss     dur\n",
      "-------  ------------  -----------  ------------  ------\n",
      "      1        \u001b[36m1.9973\u001b[0m       \u001b[32m0.7143\u001b[0m        \u001b[35m1.5950\u001b[0m  0.6766\n"
     ]
    },
    {
     "name": "stdout",
     "output_type": "stream",
     "text": [
      "      2        \u001b[36m1.3127\u001b[0m       \u001b[32m0.8135\u001b[0m        \u001b[35m0.9797\u001b[0m  0.6663\n"
     ]
    },
    {
     "name": "stdout",
     "output_type": "stream",
     "text": [
      "      3        \u001b[36m0.9379\u001b[0m       \u001b[32m0.8469\u001b[0m        \u001b[35m0.7248\u001b[0m  0.6648\n"
     ]
    },
    {
     "name": "stdout",
     "output_type": "stream",
     "text": [
      "      4        \u001b[36m0.7730\u001b[0m       \u001b[32m0.8632\u001b[0m        \u001b[35m0.6025\u001b[0m  0.6697\n"
     ]
    },
    {
     "name": "stdout",
     "output_type": "stream",
     "text": [
      "      5        \u001b[36m0.6799\u001b[0m       \u001b[32m0.8749\u001b[0m        \u001b[35m0.5302\u001b[0m  0.6599\n"
     ]
    },
    {
     "name": "stdout",
     "output_type": "stream",
     "text": [
      "      6        \u001b[36m0.6188\u001b[0m       \u001b[32m0.8819\u001b[0m        \u001b[35m0.4821\u001b[0m  0.6599\n"
     ]
    },
    {
     "name": "stdout",
     "output_type": "stream",
     "text": [
      "      7        \u001b[36m0.5762\u001b[0m       \u001b[32m0.8874\u001b[0m        \u001b[35m0.4477\u001b[0m  0.6585\n"
     ]
    },
    {
     "name": "stdout",
     "output_type": "stream",
     "text": [
      "      8        \u001b[36m0.5386\u001b[0m       \u001b[32m0.8925\u001b[0m        \u001b[35m0.4213\u001b[0m  0.6550\n"
     ]
    },
    {
     "name": "stdout",
     "output_type": "stream",
     "text": [
      "      9        \u001b[36m0.5150\u001b[0m       \u001b[32m0.8962\u001b[0m        \u001b[35m0.4003\u001b[0m  0.6536\n"
     ]
    },
    {
     "name": "stdout",
     "output_type": "stream",
     "text": [
      "     10        \u001b[36m0.4938\u001b[0m       \u001b[32m0.8992\u001b[0m        \u001b[35m0.3842\u001b[0m  0.6561\n"
     ]
    },
    {
     "name": "stdout",
     "output_type": "stream",
     "text": [
      "  epoch    train_loss    valid_acc    valid_loss     dur\n",
      "-------  ------------  -----------  ------------  ------\n",
      "      1        \u001b[36m1.9319\u001b[0m       \u001b[32m0.7596\u001b[0m        \u001b[35m1.4124\u001b[0m  0.8110\n"
     ]
    },
    {
     "name": "stdout",
     "output_type": "stream",
     "text": [
      "      2        \u001b[36m1.1354\u001b[0m       \u001b[32m0.8448\u001b[0m        \u001b[35m0.7997\u001b[0m  0.8025\n"
     ]
    },
    {
     "name": "stdout",
     "output_type": "stream",
     "text": [
      "      3        \u001b[36m0.7929\u001b[0m       \u001b[32m0.8749\u001b[0m        \u001b[35m0.5858\u001b[0m  0.8080\n"
     ]
    },
    {
     "name": "stdout",
     "output_type": "stream",
     "text": [
      "      4        \u001b[36m0.6442\u001b[0m       \u001b[32m0.8885\u001b[0m        \u001b[35m0.4830\u001b[0m  0.8034\n"
     ]
    },
    {
     "name": "stdout",
     "output_type": "stream",
     "text": [
      "      5        \u001b[36m0.5620\u001b[0m       \u001b[32m0.8962\u001b[0m        \u001b[35m0.4222\u001b[0m  0.8052\n"
     ]
    },
    {
     "name": "stdout",
     "output_type": "stream",
     "text": [
      "      6        \u001b[36m0.5079\u001b[0m       \u001b[32m0.9032\u001b[0m        \u001b[35m0.3820\u001b[0m  0.8304\n"
     ]
    },
    {
     "name": "stdout",
     "output_type": "stream",
     "text": [
      "      7        \u001b[36m0.4712\u001b[0m       \u001b[32m0.9077\u001b[0m        \u001b[35m0.3549\u001b[0m  0.8145\n"
     ]
    },
    {
     "name": "stdout",
     "output_type": "stream",
     "text": [
      "      8        \u001b[36m0.4433\u001b[0m       \u001b[32m0.9112\u001b[0m        \u001b[35m0.3333\u001b[0m  0.8086\n"
     ]
    },
    {
     "name": "stdout",
     "output_type": "stream",
     "text": [
      "      9        \u001b[36m0.4187\u001b[0m       \u001b[32m0.9147\u001b[0m        \u001b[35m0.3162\u001b[0m  0.8087\n"
     ]
    },
    {
     "name": "stdout",
     "output_type": "stream",
     "text": [
      "     10        \u001b[36m0.4010\u001b[0m       \u001b[32m0.9165\u001b[0m        \u001b[35m0.3028\u001b[0m  0.8046\n"
     ]
    }
   ],
   "source": [
    "_ = clf.fit(X_train, y_train.to_numpy())"
   ]
  },
  {
   "cell_type": "markdown",
   "metadata": {},
   "source": [
    "## 9. Evaluate the robust model's performance"
   ]
  },
  {
   "cell_type": "code",
   "execution_count": 18,
   "metadata": {
    "execution": {
     "iopub.execute_input": "2022-03-09T02:11:50.633086Z",
     "iopub.status.busy": "2022-03-09T02:11:50.632698Z",
     "iopub.status.idle": "2022-03-09T02:11:50.828707Z",
     "shell.execute_reply": "2022-03-09T02:11:50.828174Z"
    }
   },
   "outputs": [
    {
     "data": {
      "text/plain": [
       "0.8963571428571429"
      ]
     },
     "execution_count": 18,
     "metadata": {},
     "output_type": "execute_result"
    }
   ],
   "source": [
    "from sklearn.metrics import accuracy_score\n",
    "\n",
    "y_pred = clf.predict(X_test)\n",
    "accuracy_score(y_test, y_pred)"
   ]
  },
  {
   "cell_type": "markdown",
   "metadata": {},
   "source": [
    "## What's next?"
   ]
  },
  {
   "cell_type": "markdown",
   "metadata": {},
   "source": [
    "Congratulations on completing this tutorial! Check out our following tutorial on using Cleanlab for text classification, where we found ``hundreds`` of potential label errors in one of the most well-known text datasets, the IMBDb movie review dataset!"
   ]
  }
 ],
 "metadata": {
  "interpreter": {
   "hash": "ced20e3e49bb4fa4ce8ad38f8f2535b7fc4c39b2b89554502b5dbdad1ad67eda"
  },
  "kernelspec": {
   "display_name": "Python 3.10.0 64-bit",
   "language": "python",
   "name": "python3"
  },
  "language_info": {
   "codemirror_mode": {
    "name": "ipython",
    "version": 3
   },
   "file_extension": ".py",
   "mimetype": "text/x-python",
   "name": "python",
   "nbconvert_exporter": "python",
   "pygments_lexer": "ipython3",
   "version": "3.8.12"
  }
 },
 "nbformat": 4,
 "nbformat_minor": 2
}
