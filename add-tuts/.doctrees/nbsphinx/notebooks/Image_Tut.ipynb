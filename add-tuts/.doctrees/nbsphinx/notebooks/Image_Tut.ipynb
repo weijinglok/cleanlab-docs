{
 "cells": [
  {
   "cell_type": "markdown",
   "metadata": {},
   "source": [
    "# Image Classification with Cleanlab, PyTorch & Skorch"
   ]
  },
  {
   "cell_type": "markdown",
   "metadata": {},
   "source": [
    "This tutorial will use Cleanlab to find potential label errors in the MNIST handwritten digit image dataset. This dataset contains 60,000 images of handwritten digits from 0 to 9. We'll find *more than a thousand* highly suspicious examples with label errors and edge cases by the end of this tutorial. \n",
    "\n",
    "**Overview of what we'll do in this tutorial:**\n",
    "\n",
    "- Build a simple PyTorch neural net and wrap it with Skorch to make it scikit-learn compatible.\n",
    "\n",
    "- Compute the cross-validated predicted probabilities, ``pyx``, sometimes known as the out-of-sample predicted probabilities.\n",
    "\n",
    "- Generate a list of potential label errors with Cleanlab's ``get_noise_indices``.\n",
    "\n",
    "- Build and train a more robust model than the vanilla model after adapting it with Cleanlab's ``LearningWithNoisyLabels``. \n",
    "\n",
    "**Data:** https://www.openml.org/d/554"
   ]
  },
  {
   "cell_type": "markdown",
   "metadata": {},
   "source": [
    "## 1. Install the required dependencies"
   ]
  },
  {
   "cell_type": "markdown",
   "metadata": {},
   "source": [
    "``%%capture`` is a magic function to hides the cell's output."
   ]
  },
  {
   "cell_type": "code",
   "execution_count": 1,
   "metadata": {
    "execution": {
     "iopub.execute_input": "2022-03-08T22:08:41.631461Z",
     "iopub.status.busy": "2022-03-08T22:08:41.631239Z",
     "iopub.status.idle": "2022-03-08T22:09:07.566316Z",
     "shell.execute_reply": "2022-03-08T22:09:07.565659Z"
    }
   },
   "outputs": [],
   "source": [
    "%%capture\n",
    "\n",
    "%pip install cleanlab pandas matplotlib torch torchvision skorch"
   ]
  },
  {
   "cell_type": "markdown",
   "metadata": {},
   "source": [
    "## 2. Fetch and scale the MNIST dataset"
   ]
  },
  {
   "cell_type": "code",
   "execution_count": 2,
   "metadata": {
    "execution": {
     "iopub.execute_input": "2022-03-08T22:09:07.569301Z",
     "iopub.status.busy": "2022-03-08T22:09:07.569151Z",
     "iopub.status.idle": "2022-03-08T22:09:59.379378Z",
     "shell.execute_reply": "2022-03-08T22:09:59.378788Z"
    }
   },
   "outputs": [],
   "source": [
    "from sklearn.datasets import fetch_openml\n",
    "\n",
    "# Fetch the MNIST dataset\n",
    "mnist = fetch_openml('mnist_784')\n",
    "\n",
    "# Assign the data features and labels to variable X and y respectively \n",
    "X = mnist.data.astype('float32')\n",
    "y = mnist.target.astype('int64')\n"
   ]
  },
  {
   "cell_type": "markdown",
   "metadata": {},
   "source": [
    "<div class=\"alert alert-info\">\n",
    "\n",
    "Bringing Your Own Data (BYOD)?\n",
    "\n",
    "Assign your data's features to variable ``X`` and its labels to variable ``y`` instead.\n",
    "\n",
    "</div>"
   ]
  },
  {
   "cell_type": "code",
   "execution_count": 3,
   "metadata": {
    "execution": {
     "iopub.execute_input": "2022-03-08T22:09:59.382548Z",
     "iopub.status.busy": "2022-03-08T22:09:59.382045Z",
     "iopub.status.idle": "2022-03-08T22:09:59.502199Z",
     "shell.execute_reply": "2022-03-08T22:09:59.501638Z"
    }
   },
   "outputs": [],
   "source": [
    "\n",
    "# Scale the features which range from 0 to 255 (256 levels on the grayscale) \n",
    "X /= 255.0\n",
    "\n",
    "# Then convert it to a numpy array\n",
    "X = X.to_numpy()"
   ]
  },
  {
   "cell_type": "markdown",
   "metadata": {},
   "source": [
    "## 3. Define a classification model"
   ]
  },
  {
   "cell_type": "markdown",
   "metadata": {},
   "source": [
    "Here, we define a simple neural network with PyTorch."
   ]
  },
  {
   "cell_type": "code",
   "execution_count": 4,
   "metadata": {
    "execution": {
     "iopub.execute_input": "2022-03-08T22:09:59.504981Z",
     "iopub.status.busy": "2022-03-08T22:09:59.504741Z",
     "iopub.status.idle": "2022-03-08T22:09:59.858503Z",
     "shell.execute_reply": "2022-03-08T22:09:59.857954Z"
    }
   },
   "outputs": [],
   "source": [
    "from torch import nn\n",
    "\n",
    "class NeuralNetwork(nn.Module):\n",
    "    def __init__(self):\n",
    "        super(NeuralNetwork, self).__init__()\n",
    "        self.dropout = nn.Dropout(0.5)\n",
    "        self.hidden = nn.Linear(28*28, 128)\n",
    "        self.output = nn.Linear(128, 10)\n",
    "\n",
    "    def forward(self, X):\n",
    "        X = nn.functional.relu(self.hidden(X))\n",
    "        X = self.dropout(X)\n",
    "        X = nn.functional.softmax(self.output(X), dim=-1)\n",
    "        return X"
   ]
  },
  {
   "cell_type": "markdown",
   "metadata": {},
   "source": [
    "## 4. Wrap with Skorch for scikit-learn compatibility"
   ]
  },
  {
   "cell_type": "markdown",
   "metadata": {},
   "source": [
    "As some of Cleanlab's feature requires scikit-learn compatibility, we will need to adapt the above PyTorch neural net accordingly. Skorch is a convenient package that helps with this, read more about it here: https://skorch.readthedocs.io"
   ]
  },
  {
   "cell_type": "code",
   "execution_count": 5,
   "metadata": {
    "execution": {
     "iopub.execute_input": "2022-03-08T22:09:59.861460Z",
     "iopub.status.busy": "2022-03-08T22:09:59.861164Z",
     "iopub.status.idle": "2022-03-08T22:09:59.941251Z",
     "shell.execute_reply": "2022-03-08T22:09:59.940705Z"
    }
   },
   "outputs": [],
   "source": [
    "from skorch import NeuralNetClassifier\n",
    "\n",
    "# Wrap the PyTorch neural net around Skorch's NeuralNetClassifier wrapper\n",
    "net = NeuralNetClassifier(NeuralNetwork)"
   ]
  },
  {
   "cell_type": "markdown",
   "metadata": {},
   "source": [
    "## 5. Compute the cross-validated predicted probabilities"
   ]
  },
  {
   "cell_type": "markdown",
   "metadata": {},
   "source": [
    "If we'd like Cleanlab to identify potential label errors in the whole dataset and not just the training set, we can consider fitting the entire dataset. We will only use this model instance to compute the cross-validated predicted probabilities, ``pyx``, and not for model evaluation."
   ]
  },
  {
   "cell_type": "code",
   "execution_count": 6,
   "metadata": {
    "execution": {
     "iopub.execute_input": "2022-03-08T22:09:59.943888Z",
     "iopub.status.busy": "2022-03-08T22:09:59.943650Z",
     "iopub.status.idle": "2022-03-08T22:10:21.502862Z",
     "shell.execute_reply": "2022-03-08T22:10:21.502319Z"
    }
   },
   "outputs": [
    {
     "name": "stdout",
     "output_type": "stream",
     "text": [
      "  epoch    train_loss    valid_acc    valid_loss     dur\n",
      "-------  ------------  -----------  ------------  ------\n",
      "      1        \u001b[36m1.7642\u001b[0m       \u001b[32m0.7914\u001b[0m        \u001b[35m1.1372\u001b[0m  2.1489\n"
     ]
    },
    {
     "name": "stdout",
     "output_type": "stream",
     "text": [
      "      2        \u001b[36m0.9537\u001b[0m       \u001b[32m0.8449\u001b[0m        \u001b[35m0.6808\u001b[0m  2.1501\n"
     ]
    },
    {
     "name": "stdout",
     "output_type": "stream",
     "text": [
      "      3        \u001b[36m0.7090\u001b[0m       \u001b[32m0.8654\u001b[0m        \u001b[35m0.5409\u001b[0m  2.1436\n"
     ]
    },
    {
     "name": "stdout",
     "output_type": "stream",
     "text": [
      "      4        \u001b[36m0.6022\u001b[0m       \u001b[32m0.8780\u001b[0m        \u001b[35m0.4709\u001b[0m  2.1763\n"
     ]
    },
    {
     "name": "stdout",
     "output_type": "stream",
     "text": [
      "      5        \u001b[36m0.5453\u001b[0m       \u001b[32m0.8871\u001b[0m        \u001b[35m0.4293\u001b[0m  2.1390\n"
     ]
    },
    {
     "name": "stdout",
     "output_type": "stream",
     "text": [
      "      6        \u001b[36m0.5019\u001b[0m       \u001b[32m0.8936\u001b[0m        \u001b[35m0.3992\u001b[0m  2.1438\n"
     ]
    },
    {
     "name": "stdout",
     "output_type": "stream",
     "text": [
      "      7        \u001b[36m0.4752\u001b[0m       \u001b[32m0.8971\u001b[0m        \u001b[35m0.3778\u001b[0m  2.1399\n"
     ]
    },
    {
     "name": "stdout",
     "output_type": "stream",
     "text": [
      "      8        \u001b[36m0.4482\u001b[0m       \u001b[32m0.9009\u001b[0m        \u001b[35m0.3591\u001b[0m  2.1479\n"
     ]
    },
    {
     "name": "stdout",
     "output_type": "stream",
     "text": [
      "      9        \u001b[36m0.4330\u001b[0m       \u001b[32m0.9031\u001b[0m        \u001b[35m0.3457\u001b[0m  2.1520\n"
     ]
    },
    {
     "name": "stdout",
     "output_type": "stream",
     "text": [
      "     10        \u001b[36m0.4169\u001b[0m       \u001b[32m0.9072\u001b[0m        \u001b[35m0.3329\u001b[0m  2.1429\n"
     ]
    }
   ],
   "source": [
    "_ = net.fit(X, y)"
   ]
  },
  {
   "cell_type": "markdown",
   "metadata": {},
   "source": [
    "Compute the cross-validated predicted probabilities, ``pyx``, sometimes also known as the out-of-sample predicted probabilities."
   ]
  },
  {
   "cell_type": "code",
   "execution_count": 7,
   "metadata": {
    "execution": {
     "iopub.execute_input": "2022-03-08T22:10:21.505170Z",
     "iopub.status.busy": "2022-03-08T22:10:21.505024Z",
     "iopub.status.idle": "2022-03-08T22:10:56.995181Z",
     "shell.execute_reply": "2022-03-08T22:10:56.994617Z"
    }
   },
   "outputs": [
    {
     "name": "stdout",
     "output_type": "stream",
     "text": [
      "  epoch    train_loss    valid_acc    valid_loss     dur\n",
      "-------  ------------  -----------  ------------  ------\n",
      "      1        \u001b[36m2.0032\u001b[0m       \u001b[32m0.7301\u001b[0m        \u001b[35m1.5897\u001b[0m  1.1239\n"
     ]
    },
    {
     "name": "stdout",
     "output_type": "stream",
     "text": [
      "      2        \u001b[36m1.2824\u001b[0m       \u001b[32m0.7976\u001b[0m        \u001b[35m0.9763\u001b[0m  1.1799\n"
     ]
    },
    {
     "name": "stdout",
     "output_type": "stream",
     "text": [
      "      3        \u001b[36m0.9058\u001b[0m       \u001b[32m0.8304\u001b[0m        \u001b[35m0.7353\u001b[0m  1.1274\n"
     ]
    },
    {
     "name": "stdout",
     "output_type": "stream",
     "text": [
      "      4        \u001b[36m0.7368\u001b[0m       \u001b[32m0.8509\u001b[0m        \u001b[35m0.6181\u001b[0m  1.1257\n"
     ]
    },
    {
     "name": "stdout",
     "output_type": "stream",
     "text": [
      "      5        \u001b[36m0.6564\u001b[0m       \u001b[32m0.8631\u001b[0m        \u001b[35m0.5515\u001b[0m  1.1265\n"
     ]
    },
    {
     "name": "stdout",
     "output_type": "stream",
     "text": [
      "      6        \u001b[36m0.5892\u001b[0m       \u001b[32m0.8692\u001b[0m        \u001b[35m0.5069\u001b[0m  1.1255\n"
     ]
    },
    {
     "name": "stdout",
     "output_type": "stream",
     "text": [
      "      7        \u001b[36m0.5524\u001b[0m       \u001b[32m0.8740\u001b[0m        \u001b[35m0.4746\u001b[0m  1.1315\n"
     ]
    },
    {
     "name": "stdout",
     "output_type": "stream",
     "text": [
      "      8        \u001b[36m0.5178\u001b[0m       \u001b[32m0.8762\u001b[0m        \u001b[35m0.4493\u001b[0m  1.1254\n"
     ]
    },
    {
     "name": "stdout",
     "output_type": "stream",
     "text": [
      "      9        \u001b[36m0.4934\u001b[0m       \u001b[32m0.8800\u001b[0m        \u001b[35m0.4292\u001b[0m  1.1274\n"
     ]
    },
    {
     "name": "stdout",
     "output_type": "stream",
     "text": [
      "     10        \u001b[36m0.4741\u001b[0m       \u001b[32m0.8832\u001b[0m        \u001b[35m0.4134\u001b[0m  1.1671\n"
     ]
    },
    {
     "name": "stdout",
     "output_type": "stream",
     "text": [
      "  epoch    train_loss    valid_acc    valid_loss     dur\n",
      "-------  ------------  -----------  ------------  ------\n",
      "      1        \u001b[36m1.9726\u001b[0m       \u001b[32m0.7375\u001b[0m        \u001b[35m1.5330\u001b[0m  1.1318\n"
     ]
    },
    {
     "name": "stdout",
     "output_type": "stream",
     "text": [
      "      2        \u001b[36m1.2507\u001b[0m       \u001b[32m0.8078\u001b[0m        \u001b[35m0.9353\u001b[0m  1.1317\n"
     ]
    },
    {
     "name": "stdout",
     "output_type": "stream",
     "text": [
      "      3        \u001b[36m0.8931\u001b[0m       \u001b[32m0.8364\u001b[0m        \u001b[35m0.7026\u001b[0m  1.1347\n"
     ]
    },
    {
     "name": "stdout",
     "output_type": "stream",
     "text": [
      "      4        \u001b[36m0.7373\u001b[0m       \u001b[32m0.8529\u001b[0m        \u001b[35m0.5921\u001b[0m  1.1320\n"
     ]
    },
    {
     "name": "stdout",
     "output_type": "stream",
     "text": [
      "      5        \u001b[36m0.6509\u001b[0m       \u001b[32m0.8636\u001b[0m        \u001b[35m0.5262\u001b[0m  1.1357\n"
     ]
    },
    {
     "name": "stdout",
     "output_type": "stream",
     "text": [
      "      6        \u001b[36m0.5920\u001b[0m       \u001b[32m0.8743\u001b[0m        \u001b[35m0.4820\u001b[0m  1.1322\n"
     ]
    },
    {
     "name": "stdout",
     "output_type": "stream",
     "text": [
      "      7        \u001b[36m0.5521\u001b[0m       \u001b[32m0.8815\u001b[0m        \u001b[35m0.4500\u001b[0m  1.1315\n"
     ]
    },
    {
     "name": "stdout",
     "output_type": "stream",
     "text": [
      "      8        \u001b[36m0.5212\u001b[0m       \u001b[32m0.8863\u001b[0m        \u001b[35m0.4266\u001b[0m  1.1323\n"
     ]
    },
    {
     "name": "stdout",
     "output_type": "stream",
     "text": [
      "      9        \u001b[36m0.4950\u001b[0m       \u001b[32m0.8906\u001b[0m        \u001b[35m0.4072\u001b[0m  1.1342\n"
     ]
    },
    {
     "name": "stdout",
     "output_type": "stream",
     "text": [
      "     10        \u001b[36m0.4759\u001b[0m       \u001b[32m0.8939\u001b[0m        \u001b[35m0.3913\u001b[0m  1.1318\n"
     ]
    },
    {
     "name": "stdout",
     "output_type": "stream",
     "text": [
      "  epoch    train_loss    valid_acc    valid_loss     dur\n",
      "-------  ------------  -----------  ------------  ------\n",
      "      1        \u001b[36m2.0137\u001b[0m       \u001b[32m0.7307\u001b[0m        \u001b[35m1.6002\u001b[0m  1.1368\n"
     ]
    },
    {
     "name": "stdout",
     "output_type": "stream",
     "text": [
      "      2        \u001b[36m1.3150\u001b[0m       \u001b[32m0.8033\u001b[0m        \u001b[35m0.9655\u001b[0m  1.1449\n"
     ]
    },
    {
     "name": "stdout",
     "output_type": "stream",
     "text": [
      "      3        \u001b[36m0.9330\u001b[0m       \u001b[32m0.8393\u001b[0m        \u001b[35m0.7176\u001b[0m  1.1314\n"
     ]
    },
    {
     "name": "stdout",
     "output_type": "stream",
     "text": [
      "      4        \u001b[36m0.7703\u001b[0m       \u001b[32m0.8571\u001b[0m        \u001b[35m0.6009\u001b[0m  1.1438\n"
     ]
    },
    {
     "name": "stdout",
     "output_type": "stream",
     "text": [
      "      5        \u001b[36m0.6817\u001b[0m       \u001b[32m0.8696\u001b[0m        \u001b[35m0.5319\u001b[0m  1.1277\n"
     ]
    },
    {
     "name": "stdout",
     "output_type": "stream",
     "text": [
      "      6        \u001b[36m0.6204\u001b[0m       \u001b[32m0.8779\u001b[0m        \u001b[35m0.4855\u001b[0m  1.1289\n"
     ]
    },
    {
     "name": "stdout",
     "output_type": "stream",
     "text": [
      "      7        \u001b[36m0.5758\u001b[0m       \u001b[32m0.8846\u001b[0m        \u001b[35m0.4521\u001b[0m  1.1469\n"
     ]
    },
    {
     "name": "stdout",
     "output_type": "stream",
     "text": [
      "      8        \u001b[36m0.5458\u001b[0m       \u001b[32m0.8895\u001b[0m        \u001b[35m0.4260\u001b[0m  1.1317\n"
     ]
    },
    {
     "name": "stdout",
     "output_type": "stream",
     "text": [
      "      9        \u001b[36m0.5190\u001b[0m       \u001b[32m0.8931\u001b[0m        \u001b[35m0.4052\u001b[0m  1.1309\n"
     ]
    },
    {
     "name": "stdout",
     "output_type": "stream",
     "text": [
      "     10        \u001b[36m0.4997\u001b[0m       \u001b[32m0.8966\u001b[0m        \u001b[35m0.3890\u001b[0m  1.1288\n"
     ]
    }
   ],
   "source": [
    "from sklearn.model_selection import cross_val_predict\n",
    "\n",
    "pyx = cross_val_predict(net, X, y, cv=3, method='predict_proba')"
   ]
  },
  {
   "cell_type": "markdown",
   "metadata": {},
   "source": [
    "## 6. Run Cleanlab to find potential label errors"
   ]
  },
  {
   "cell_type": "markdown",
   "metadata": {},
   "source": [
    "Cleanlab has a ``get_noise_indices`` function to generate a list of potential label errors. Setting ``sorted_index_method=\"prob_given_label\"`` returns the indices of all the most likely label errors, sorted by the most suspicious example first."
   ]
  },
  {
   "cell_type": "code",
   "execution_count": 8,
   "metadata": {
    "execution": {
     "iopub.execute_input": "2022-03-08T22:10:56.998215Z",
     "iopub.status.busy": "2022-03-08T22:10:56.997768Z",
     "iopub.status.idle": "2022-03-08T22:10:57.328633Z",
     "shell.execute_reply": "2022-03-08T22:10:57.327992Z"
    }
   },
   "outputs": [],
   "source": [
    "from cleanlab.pruning import get_noise_indices\n",
    "\n",
    "ordered_label_errors = get_noise_indices(\n",
    "    s=y,\n",
    "    psx=pyx,\n",
    "    sorted_index_method=\"prob_given_label\"\n",
    ")"
   ]
  },
  {
   "cell_type": "markdown",
   "metadata": {},
   "source": [
    "## 7. Review some of the most likely mislabeled examples"
   ]
  },
  {
   "cell_type": "code",
   "execution_count": 9,
   "metadata": {
    "execution": {
     "iopub.execute_input": "2022-03-08T22:10:57.331395Z",
     "iopub.status.busy": "2022-03-08T22:10:57.331240Z",
     "iopub.status.idle": "2022-03-08T22:10:57.336223Z",
     "shell.execute_reply": "2022-03-08T22:10:57.335729Z"
    }
   },
   "outputs": [
    {
     "name": "stdout",
     "output_type": "stream",
     "text": [
      "Cleanlab found 1236 potential label errors. Here are the indices of the top 15 most likely ones: \n",
      " [24798 18598  8729  1352 20820 12679 31134 15942 61790 59915 53216  7010\n",
      " 20735 39457 55739]\n"
     ]
    }
   ],
   "source": [
    "print(f\"Cleanlab found {len(ordered_label_errors)} potential label errors. Here are the indices of the top 15 most likely ones: \\n {ordered_label_errors[:15]}\")"
   ]
  },
  {
   "cell_type": "markdown",
   "metadata": {},
   "source": [
    "We'll define a new ``plot_examples`` function to display any examples in a subplot conveniently."
   ]
  },
  {
   "cell_type": "code",
   "execution_count": 10,
   "metadata": {
    "execution": {
     "iopub.execute_input": "2022-03-08T22:10:57.338324Z",
     "iopub.status.busy": "2022-03-08T22:10:57.338184Z",
     "iopub.status.idle": "2022-03-08T22:10:57.987784Z",
     "shell.execute_reply": "2022-03-08T22:10:57.987255Z"
    }
   },
   "outputs": [],
   "source": [
    "import matplotlib.pyplot as plt\n",
    "\n",
    "def plot_examples(id_iter, nrows=1, ncols=1):\n",
    "    for count, id in enumerate(id_iter):\n",
    "        plt.subplot(nrows, ncols, count+1)\n",
    "        plt.imshow(X[id].reshape(28, 28))\n",
    "        plt.title(f\"id: {id} \\n label: {y[id]}\")\n",
    "        plt.axis('off')\n",
    "\n",
    "    plt.tight_layout(h_pad=2.0)"
   ]
  },
  {
   "cell_type": "markdown",
   "metadata": {},
   "source": [
    "Let's start by having an overview of the top 15 most likely label errors. From here, we can see a few label errors and edge cases. Feel free to change the parameters to display more or fewer examples. "
   ]
  },
  {
   "cell_type": "code",
   "execution_count": 11,
   "metadata": {
    "execution": {
     "iopub.execute_input": "2022-03-08T22:10:57.990523Z",
     "iopub.status.busy": "2022-03-08T22:10:57.990328Z",
     "iopub.status.idle": "2022-03-08T22:10:58.389059Z",
     "shell.execute_reply": "2022-03-08T22:10:58.388499Z"
    }
   },
   "outputs": [
    {
     "data": {
      "image/png": "[encoded data removed]",
      "text/plain": [
       "<Figure size 432x288 with 15 Axes>"
      ]
     },
     "metadata": {
      "needs_background": "light"
     },
     "output_type": "display_data"
    }
   ],
   "source": [
    "plot_examples(ordered_label_errors[range(15)], 3, 5)"
   ]
  },
  {
   "cell_type": "markdown",
   "metadata": {},
   "source": [
    "Let's zoom into specific examples:"
   ]
  },
  {
   "cell_type": "markdown",
   "metadata": {},
   "source": [
    "Given label is **4** but looks more like a **7**"
   ]
  },
  {
   "cell_type": "code",
   "execution_count": 12,
   "metadata": {
    "execution": {
     "iopub.execute_input": "2022-03-08T22:10:58.391462Z",
     "iopub.status.busy": "2022-03-08T22:10:58.391308Z",
     "iopub.status.idle": "2022-03-08T22:10:58.445158Z",
     "shell.execute_reply": "2022-03-08T22:10:58.444588Z"
    }
   },
   "outputs": [
    {
     "data": {
      "image/png": "[encoded data removed]",
      "text/plain": [
       "<Figure size 432x288 with 1 Axes>"
      ]
     },
     "metadata": {
      "needs_background": "light"
     },
     "output_type": "display_data"
    }
   ],
   "source": [
    "plot_examples([59915])"
   ]
  },
  {
   "cell_type": "markdown",
   "metadata": {},
   "source": [
    "Given label is **4** but also looks like **9**"
   ]
  },
  {
   "cell_type": "code",
   "execution_count": 13,
   "metadata": {
    "execution": {
     "iopub.execute_input": "2022-03-08T22:10:58.447959Z",
     "iopub.status.busy": "2022-03-08T22:10:58.447453Z",
     "iopub.status.idle": "2022-03-08T22:10:58.505602Z",
     "shell.execute_reply": "2022-03-08T22:10:58.505021Z"
    }
   },
   "outputs": [
    {
     "data": {
      "image/png": "[encoded data removed]",
      "text/plain": [
       "<Figure size 432x288 with 1 Axes>"
      ]
     },
     "metadata": {
      "needs_background": "light"
     },
     "output_type": "display_data"
    }
   ],
   "source": [
    "plot_examples([24798])"
   ]
  },
  {
   "cell_type": "markdown",
   "metadata": {},
   "source": [
    "Edge case of odd looking **9**s"
   ]
  },
  {
   "cell_type": "code",
   "execution_count": 14,
   "metadata": {
    "execution": {
     "iopub.execute_input": "2022-03-08T22:10:58.508428Z",
     "iopub.status.busy": "2022-03-08T22:10:58.508085Z",
     "iopub.status.idle": "2022-03-08T22:10:58.711302Z",
     "shell.execute_reply": "2022-03-08T22:10:58.710796Z"
    }
   },
   "outputs": [
    {
     "data": {
      "image/png": "[encoded data removed]",
      "text/plain": [
       "<Figure size 432x288 with 3 Axes>"
      ]
     },
     "metadata": {
      "needs_background": "light"
     },
     "output_type": "display_data"
    }
   ],
   "source": [
    "plot_examples([18598, 1352, 61247], 1, 3)"
   ]
  },
  {
   "cell_type": "markdown",
   "metadata": {},
   "source": [
    "Cleanlab has shortlisted the most likely label errors to speed up your data cleaning process. With this list, you can decide whether to fix label errors, augment edge cases or remove obscure examples. \n",
    "\n",
    "These human-in-the-loop processes may be time-consuming, so if you'd like Cleanlab to automatically remove these noisy examples and train a model directly on the partially mislabeled dataset, you're in luck! Cleanlab provides a ``LearningWithNoisyLabels`` wrapper to do precisely this:"
   ]
  },
  {
   "cell_type": "markdown",
   "metadata": {},
   "source": [
    "## 8. Adapt with Cleanlab's wrapper and train a more robust model"
   ]
  },
  {
   "cell_type": "markdown",
   "metadata": {},
   "source": [
    "First, we split the dataset into train and test subsets."
   ]
  },
  {
   "cell_type": "code",
   "execution_count": 15,
   "metadata": {
    "execution": {
     "iopub.execute_input": "2022-03-08T22:10:58.713674Z",
     "iopub.status.busy": "2022-03-08T22:10:58.713529Z",
     "iopub.status.idle": "2022-03-08T22:10:59.044042Z",
     "shell.execute_reply": "2022-03-08T22:10:59.043465Z"
    }
   },
   "outputs": [],
   "source": [
    "from sklearn.model_selection import train_test_split\n",
    "\n",
    "X_train, X_test, y_train, y_test = train_test_split(X, y, test_size=0.2)"
   ]
  },
  {
   "cell_type": "markdown",
   "metadata": {},
   "source": [
    "Re-instantiate a new scikit-learn compatible model with Skorch then wrap it with Cleanlab's ``LearningWithNoisyLabels`` wrapper."
   ]
  },
  {
   "cell_type": "code",
   "execution_count": 16,
   "metadata": {
    "execution": {
     "iopub.execute_input": "2022-03-08T22:10:59.046620Z",
     "iopub.status.busy": "2022-03-08T22:10:59.046473Z",
     "iopub.status.idle": "2022-03-08T22:10:59.049849Z",
     "shell.execute_reply": "2022-03-08T22:10:59.049343Z"
    }
   },
   "outputs": [],
   "source": [
    "from cleanlab.classification import LearningWithNoisyLabels\n",
    "\n",
    "net = NeuralNetClassifier(NeuralNetwork)\n",
    "clf = LearningWithNoisyLabels(clf=net)"
   ]
  },
  {
   "cell_type": "code",
   "execution_count": 17,
   "metadata": {
    "execution": {
     "iopub.execute_input": "2022-03-08T22:10:59.051866Z",
     "iopub.status.busy": "2022-03-08T22:10:59.051727Z",
     "iopub.status.idle": "2022-03-08T22:12:08.633355Z",
     "shell.execute_reply": "2022-03-08T22:12:08.632764Z"
    }
   },
   "outputs": [
    {
     "name": "stdout",
     "output_type": "stream",
     "text": [
      "  epoch    train_loss    valid_acc    valid_loss     dur\n",
      "-------  ------------  -----------  ------------  ------\n",
      "      1        \u001b[36m2.0187\u001b[0m       \u001b[32m0.7107\u001b[0m        \u001b[35m1.6239\u001b[0m  1.0860\n"
     ]
    },
    {
     "name": "stdout",
     "output_type": "stream",
     "text": [
      "      2        \u001b[36m1.3279\u001b[0m       \u001b[32m0.8054\u001b[0m        \u001b[35m0.9907\u001b[0m  1.1248\n"
     ]
    },
    {
     "name": "stdout",
     "output_type": "stream",
     "text": [
      "      3        \u001b[36m0.9431\u001b[0m       \u001b[32m0.8382\u001b[0m        \u001b[35m0.7316\u001b[0m  1.0884\n"
     ]
    },
    {
     "name": "stdout",
     "output_type": "stream",
     "text": [
      "      4        \u001b[36m0.7754\u001b[0m       \u001b[32m0.8570\u001b[0m        \u001b[35m0.6078\u001b[0m  1.0838\n"
     ]
    },
    {
     "name": "stdout",
     "output_type": "stream",
     "text": [
      "      5        \u001b[36m0.6772\u001b[0m       \u001b[32m0.8698\u001b[0m        \u001b[35m0.5374\u001b[0m  1.0878\n"
     ]
    },
    {
     "name": "stdout",
     "output_type": "stream",
     "text": [
      "      6        \u001b[36m0.6171\u001b[0m       \u001b[32m0.8765\u001b[0m        \u001b[35m0.4902\u001b[0m  1.0836\n"
     ]
    },
    {
     "name": "stdout",
     "output_type": "stream",
     "text": [
      "      7        \u001b[36m0.5752\u001b[0m       \u001b[32m0.8836\u001b[0m        \u001b[35m0.4571\u001b[0m  1.0841\n"
     ]
    },
    {
     "name": "stdout",
     "output_type": "stream",
     "text": [
      "      8        \u001b[36m0.5423\u001b[0m       \u001b[32m0.8887\u001b[0m        \u001b[35m0.4318\u001b[0m  1.0863\n"
     ]
    },
    {
     "name": "stdout",
     "output_type": "stream",
     "text": [
      "      9        \u001b[36m0.5172\u001b[0m       \u001b[32m0.8924\u001b[0m        \u001b[35m0.4120\u001b[0m  1.0875\n"
     ]
    },
    {
     "name": "stdout",
     "output_type": "stream",
     "text": [
      "     10        \u001b[36m0.4955\u001b[0m       \u001b[32m0.8967\u001b[0m        \u001b[35m0.3952\u001b[0m  1.0854\n"
     ]
    },
    {
     "name": "stdout",
     "output_type": "stream",
     "text": [
      "  epoch    train_loss    valid_acc    valid_loss     dur\n",
      "-------  ------------  -----------  ------------  ------\n",
      "      1        \u001b[36m1.9941\u001b[0m       \u001b[32m0.7446\u001b[0m        \u001b[35m1.5815\u001b[0m  1.0825\n"
     ]
    },
    {
     "name": "stdout",
     "output_type": "stream",
     "text": [
      "      2        \u001b[36m1.2870\u001b[0m       \u001b[32m0.8151\u001b[0m        \u001b[35m0.9558\u001b[0m  1.1041\n"
     ]
    },
    {
     "name": "stdout",
     "output_type": "stream",
     "text": [
      "      3        \u001b[36m0.9156\u001b[0m       \u001b[32m0.8436\u001b[0m        \u001b[35m0.7124\u001b[0m  1.1008\n"
     ]
    },
    {
     "name": "stdout",
     "output_type": "stream",
     "text": [
      "      4        \u001b[36m0.7526\u001b[0m       \u001b[32m0.8600\u001b[0m        \u001b[35m0.5973\u001b[0m  1.0827\n"
     ]
    },
    {
     "name": "stdout",
     "output_type": "stream",
     "text": [
      "      5        \u001b[36m0.6647\u001b[0m       \u001b[32m0.8709\u001b[0m        \u001b[35m0.5305\u001b[0m  1.0825\n"
     ]
    },
    {
     "name": "stdout",
     "output_type": "stream",
     "text": [
      "      6        \u001b[36m0.6077\u001b[0m       \u001b[32m0.8763\u001b[0m        \u001b[35m0.4861\u001b[0m  1.0854\n"
     ]
    },
    {
     "name": "stdout",
     "output_type": "stream",
     "text": [
      "      7        \u001b[36m0.5656\u001b[0m       \u001b[32m0.8844\u001b[0m        \u001b[35m0.4535\u001b[0m  1.0834\n"
     ]
    },
    {
     "name": "stdout",
     "output_type": "stream",
     "text": [
      "      8        \u001b[36m0.5346\u001b[0m       \u001b[32m0.8888\u001b[0m        \u001b[35m0.4287\u001b[0m  1.0850\n"
     ]
    },
    {
     "name": "stdout",
     "output_type": "stream",
     "text": [
      "      9        \u001b[36m0.5066\u001b[0m       \u001b[32m0.8933\u001b[0m        \u001b[35m0.4091\u001b[0m  1.0828\n"
     ]
    },
    {
     "name": "stdout",
     "output_type": "stream",
     "text": [
      "     10        \u001b[36m0.4877\u001b[0m       \u001b[32m0.8954\u001b[0m        \u001b[35m0.3938\u001b[0m  1.0833\n"
     ]
    },
    {
     "name": "stdout",
     "output_type": "stream",
     "text": [
      "  epoch    train_loss    valid_acc    valid_loss     dur\n",
      "-------  ------------  -----------  ------------  ------\n",
      "      1        \u001b[36m1.9945\u001b[0m       \u001b[32m0.7638\u001b[0m        \u001b[35m1.5848\u001b[0m  1.0850\n"
     ]
    },
    {
     "name": "stdout",
     "output_type": "stream",
     "text": [
      "      2        \u001b[36m1.3002\u001b[0m       \u001b[32m0.8181\u001b[0m        \u001b[35m0.9554\u001b[0m  1.0845\n"
     ]
    },
    {
     "name": "stdout",
     "output_type": "stream",
     "text": [
      "      3        \u001b[36m0.9212\u001b[0m       \u001b[32m0.8467\u001b[0m        \u001b[35m0.7068\u001b[0m  1.0852\n"
     ]
    },
    {
     "name": "stdout",
     "output_type": "stream",
     "text": [
      "      4        \u001b[36m0.7600\u001b[0m       \u001b[32m0.8626\u001b[0m        \u001b[35m0.5899\u001b[0m  1.0861\n"
     ]
    },
    {
     "name": "stdout",
     "output_type": "stream",
     "text": [
      "      5        \u001b[36m0.6677\u001b[0m       \u001b[32m0.8733\u001b[0m        \u001b[35m0.5215\u001b[0m  1.0846\n"
     ]
    },
    {
     "name": "stdout",
     "output_type": "stream",
     "text": [
      "      6        \u001b[36m0.6114\u001b[0m       \u001b[32m0.8796\u001b[0m        \u001b[35m0.4776\u001b[0m  1.0854\n"
     ]
    },
    {
     "name": "stdout",
     "output_type": "stream",
     "text": [
      "      7        \u001b[36m0.5675\u001b[0m       \u001b[32m0.8858\u001b[0m        \u001b[35m0.4450\u001b[0m  1.0857\n"
     ]
    },
    {
     "name": "stdout",
     "output_type": "stream",
     "text": [
      "      8        \u001b[36m0.5357\u001b[0m       \u001b[32m0.8914\u001b[0m        \u001b[35m0.4204\u001b[0m  1.0857\n"
     ]
    },
    {
     "name": "stdout",
     "output_type": "stream",
     "text": [
      "      9        \u001b[36m0.5126\u001b[0m       \u001b[32m0.8944\u001b[0m        \u001b[35m0.4013\u001b[0m  1.0892\n"
     ]
    },
    {
     "name": "stdout",
     "output_type": "stream",
     "text": [
      "     10        \u001b[36m0.4900\u001b[0m       \u001b[32m0.8975\u001b[0m        \u001b[35m0.3846\u001b[0m  1.0852\n"
     ]
    },
    {
     "name": "stdout",
     "output_type": "stream",
     "text": [
      "  epoch    train_loss    valid_acc    valid_loss     dur\n",
      "-------  ------------  -----------  ------------  ------\n",
      "      1        \u001b[36m2.0101\u001b[0m       \u001b[32m0.7347\u001b[0m        \u001b[35m1.6227\u001b[0m  1.0798\n"
     ]
    },
    {
     "name": "stdout",
     "output_type": "stream",
     "text": [
      "      2        \u001b[36m1.3287\u001b[0m       \u001b[32m0.8119\u001b[0m        \u001b[35m0.9938\u001b[0m  1.0812\n"
     ]
    },
    {
     "name": "stdout",
     "output_type": "stream",
     "text": [
      "      3        \u001b[36m0.9411\u001b[0m       \u001b[32m0.8405\u001b[0m        \u001b[35m0.7316\u001b[0m  1.0852\n"
     ]
    },
    {
     "name": "stdout",
     "output_type": "stream",
     "text": [
      "      4        \u001b[36m0.7737\u001b[0m       \u001b[32m0.8592\u001b[0m        \u001b[35m0.6099\u001b[0m  1.0866\n"
     ]
    },
    {
     "name": "stdout",
     "output_type": "stream",
     "text": [
      "      5        \u001b[36m0.6822\u001b[0m       \u001b[32m0.8711\u001b[0m        \u001b[35m0.5387\u001b[0m  1.0851\n"
     ]
    },
    {
     "name": "stdout",
     "output_type": "stream",
     "text": [
      "      6        \u001b[36m0.6202\u001b[0m       \u001b[32m0.8785\u001b[0m        \u001b[35m0.4914\u001b[0m  1.1549\n"
     ]
    },
    {
     "name": "stdout",
     "output_type": "stream",
     "text": [
      "      7        \u001b[36m0.5745\u001b[0m       \u001b[32m0.8840\u001b[0m        \u001b[35m0.4573\u001b[0m  1.1088\n"
     ]
    },
    {
     "name": "stdout",
     "output_type": "stream",
     "text": [
      "      8        \u001b[36m0.5425\u001b[0m       \u001b[32m0.8884\u001b[0m        \u001b[35m0.4317\u001b[0m  1.0825\n"
     ]
    },
    {
     "name": "stdout",
     "output_type": "stream",
     "text": [
      "      9        \u001b[36m0.5158\u001b[0m       \u001b[32m0.8936\u001b[0m        \u001b[35m0.4115\u001b[0m  1.0851\n"
     ]
    },
    {
     "name": "stdout",
     "output_type": "stream",
     "text": [
      "     10        \u001b[36m0.4942\u001b[0m       \u001b[32m0.8965\u001b[0m        \u001b[35m0.3949\u001b[0m  1.0899\n"
     ]
    },
    {
     "name": "stdout",
     "output_type": "stream",
     "text": [
      "  epoch    train_loss    valid_acc    valid_loss     dur\n",
      "-------  ------------  -----------  ------------  ------\n",
      "      1        \u001b[36m1.9913\u001b[0m       \u001b[32m0.7096\u001b[0m        \u001b[35m1.5877\u001b[0m  1.0911\n"
     ]
    },
    {
     "name": "stdout",
     "output_type": "stream",
     "text": [
      "      2        \u001b[36m1.2986\u001b[0m       \u001b[32m0.8122\u001b[0m        \u001b[35m0.9769\u001b[0m  1.1110\n"
     ]
    },
    {
     "name": "stdout",
     "output_type": "stream",
     "text": [
      "      3        \u001b[36m0.9228\u001b[0m       \u001b[32m0.8448\u001b[0m        \u001b[35m0.7239\u001b[0m  1.1044\n"
     ]
    },
    {
     "name": "stdout",
     "output_type": "stream",
     "text": [
      "      4        \u001b[36m0.7565\u001b[0m       \u001b[32m0.8613\u001b[0m        \u001b[35m0.6031\u001b[0m  1.1039\n"
     ]
    },
    {
     "name": "stdout",
     "output_type": "stream",
     "text": [
      "      5        \u001b[36m0.6612\u001b[0m       \u001b[32m0.8708\u001b[0m        \u001b[35m0.5338\u001b[0m  1.0888\n"
     ]
    },
    {
     "name": "stdout",
     "output_type": "stream",
     "text": [
      "      6        \u001b[36m0.6047\u001b[0m       \u001b[32m0.8790\u001b[0m        \u001b[35m0.4882\u001b[0m  1.0859\n"
     ]
    },
    {
     "name": "stdout",
     "output_type": "stream",
     "text": [
      "      7        \u001b[36m0.5641\u001b[0m       \u001b[32m0.8855\u001b[0m        \u001b[35m0.4557\u001b[0m  1.0906\n"
     ]
    },
    {
     "name": "stdout",
     "output_type": "stream",
     "text": [
      "      8        \u001b[36m0.5292\u001b[0m       \u001b[32m0.8911\u001b[0m        \u001b[35m0.4306\u001b[0m  1.0935\n"
     ]
    },
    {
     "name": "stdout",
     "output_type": "stream",
     "text": [
      "      9        \u001b[36m0.5051\u001b[0m       \u001b[32m0.8946\u001b[0m        \u001b[35m0.4105\u001b[0m  1.1203\n"
     ]
    },
    {
     "name": "stdout",
     "output_type": "stream",
     "text": [
      "     10        \u001b[36m0.4838\u001b[0m       \u001b[32m0.8967\u001b[0m        \u001b[35m0.3947\u001b[0m  1.0927\n"
     ]
    },
    {
     "name": "stdout",
     "output_type": "stream",
     "text": [
      "  epoch    train_loss    valid_acc    valid_loss     dur\n",
      "-------  ------------  -----------  ------------  ------\n",
      "      1        \u001b[36m1.9358\u001b[0m       \u001b[32m0.7649\u001b[0m        \u001b[35m1.4308\u001b[0m  1.3360\n"
     ]
    },
    {
     "name": "stdout",
     "output_type": "stream",
     "text": [
      "      2        \u001b[36m1.1453\u001b[0m       \u001b[32m0.8366\u001b[0m        \u001b[35m0.8168\u001b[0m  1.3343\n"
     ]
    },
    {
     "name": "stdout",
     "output_type": "stream",
     "text": [
      "      3        \u001b[36m0.7998\u001b[0m       \u001b[32m0.8667\u001b[0m        \u001b[35m0.6012\u001b[0m  1.3490\n"
     ]
    },
    {
     "name": "stdout",
     "output_type": "stream",
     "text": [
      "      4        \u001b[36m0.6542\u001b[0m       \u001b[32m0.8809\u001b[0m        \u001b[35m0.4990\u001b[0m  1.3883\n"
     ]
    },
    {
     "name": "stdout",
     "output_type": "stream",
     "text": [
      "      5        \u001b[36m0.5715\u001b[0m       \u001b[32m0.8908\u001b[0m        \u001b[35m0.4385\u001b[0m  1.3376\n"
     ]
    },
    {
     "name": "stdout",
     "output_type": "stream",
     "text": [
      "      6        \u001b[36m0.5147\u001b[0m       \u001b[32m0.8978\u001b[0m        \u001b[35m0.3977\u001b[0m  1.3357\n"
     ]
    },
    {
     "name": "stdout",
     "output_type": "stream",
     "text": [
      "      7        \u001b[36m0.4794\u001b[0m       \u001b[32m0.9038\u001b[0m        \u001b[35m0.3695\u001b[0m  1.3334\n"
     ]
    },
    {
     "name": "stdout",
     "output_type": "stream",
     "text": [
      "      8        \u001b[36m0.4485\u001b[0m       \u001b[32m0.9080\u001b[0m        \u001b[35m0.3470\u001b[0m  1.3373\n"
     ]
    },
    {
     "name": "stdout",
     "output_type": "stream",
     "text": [
      "      9        \u001b[36m0.4264\u001b[0m       \u001b[32m0.9114\u001b[0m        \u001b[35m0.3298\u001b[0m  1.3341\n"
     ]
    },
    {
     "name": "stdout",
     "output_type": "stream",
     "text": [
      "     10        \u001b[36m0.4049\u001b[0m       \u001b[32m0.9131\u001b[0m        \u001b[35m0.3151\u001b[0m  1.3342\n"
     ]
    }
   ],
   "source": [
    "_ = clf.fit(X_train, y_train.to_numpy())"
   ]
  },
  {
   "cell_type": "markdown",
   "metadata": {},
   "source": [
    "## 9. Evaluate the robust model's performance"
   ]
  },
  {
   "cell_type": "code",
   "execution_count": 18,
   "metadata": {
    "execution": {
     "iopub.execute_input": "2022-03-08T22:12:08.636029Z",
     "iopub.status.busy": "2022-03-08T22:12:08.635757Z",
     "iopub.status.idle": "2022-03-08T22:12:08.873922Z",
     "shell.execute_reply": "2022-03-08T22:12:08.873343Z"
    }
   },
   "outputs": [
    {
     "data": {
      "text/plain": [
       "0.8926428571428572"
      ]
     },
     "execution_count": 18,
     "metadata": {},
     "output_type": "execute_result"
    }
   ],
   "source": [
    "from sklearn.metrics import accuracy_score\n",
    "\n",
    "y_pred = clf.predict(X_test)\n",
    "accuracy_score(y_test, y_pred)"
   ]
  },
  {
   "cell_type": "markdown",
   "metadata": {},
   "source": [
    "## What's next?"
   ]
  },
  {
   "cell_type": "markdown",
   "metadata": {},
   "source": [
    "Congratulations on completing this tutorial! Check out our following tutorial on using Cleanlab for text classification, where we found ``hundreds`` of potential label errors in one of the most well-known text datasets, the IMBDb movie review dataset!"
   ]
  }
 ],
 "metadata": {
  "interpreter": {
   "hash": "ced20e3e49bb4fa4ce8ad38f8f2535b7fc4c39b2b89554502b5dbdad1ad67eda"
  },
  "kernelspec": {
   "display_name": "Python 3.10.0 64-bit",
   "language": "python",
   "name": "python3"
  },
  "language_info": {
   "codemirror_mode": {
    "name": "ipython",
    "version": 3
   },
   "file_extension": ".py",
   "mimetype": "text/x-python",
   "name": "python",
   "nbconvert_exporter": "python",
   "pygments_lexer": "ipython3",
   "version": "3.8.12"
  }
 },
 "nbformat": 4,
 "nbformat_minor": 2
}
