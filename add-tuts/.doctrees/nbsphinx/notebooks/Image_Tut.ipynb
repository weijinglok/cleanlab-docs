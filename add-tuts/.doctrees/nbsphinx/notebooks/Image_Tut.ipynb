{
 "cells": [
  {
   "cell_type": "markdown",
   "metadata": {},
   "source": [
    "# Image Classification with Cleanlab, PyTorch & Skorch"
   ]
  },
  {
   "cell_type": "markdown",
   "metadata": {},
   "source": [
    "This tutorial will use Cleanlab to find potential label errors in the MNIST handwritten digit image dataset. This dataset contains 60,000 images of handwritten digits from 0 to 9. We'll find *more than a thousand* highly suspicious examples with label errors and edge cases by the end of this tutorial. \n",
    "\n",
    "**Overview of what we'll do in this tutorial:**\n",
    "\n",
    "- Build a simple PyTorch neural net and wrap it with Skorch to make it scikit-learn compatible.\n",
    "\n",
    "- Compute the cross-validated predicted probabilities, ``pyx``, sometimes known as the out-of-sample predicted probabilities.\n",
    "\n",
    "- Generate a list of potential label errors with Cleanlab's ``get_noise_indices``.\n",
    "\n",
    "- Build and train a more robust model than the vanilla model after adapting it with Cleanlab's ``LearningWithNoisyLabels``. \n",
    "\n",
    "**Data:** https://www.openml.org/d/554"
   ]
  },
  {
   "cell_type": "markdown",
   "metadata": {},
   "source": [
    "## 1. Install the required dependencies"
   ]
  },
  {
   "cell_type": "markdown",
   "metadata": {},
   "source": [
    "``%%capture`` is a magic function to hides the cell's output."
   ]
  },
  {
   "cell_type": "code",
   "execution_count": 1,
   "metadata": {
    "execution": {
     "iopub.execute_input": "2022-03-08T22:37:59.943059Z",
     "iopub.status.busy": "2022-03-08T22:37:59.942712Z",
     "iopub.status.idle": "2022-03-08T22:38:30.354340Z",
     "shell.execute_reply": "2022-03-08T22:38:30.353374Z"
    }
   },
   "outputs": [],
   "source": [
    "%%capture\n",
    "\n",
    "%pip install cleanlab pandas matplotlib torch torchvision skorch"
   ]
  },
  {
   "cell_type": "markdown",
   "metadata": {},
   "source": [
    "## 2. Fetch and scale the MNIST dataset"
   ]
  },
  {
   "cell_type": "code",
   "execution_count": 2,
   "metadata": {
    "execution": {
     "iopub.execute_input": "2022-03-08T22:38:30.358372Z",
     "iopub.status.busy": "2022-03-08T22:38:30.358009Z",
     "iopub.status.idle": "2022-03-08T22:40:28.255063Z",
     "shell.execute_reply": "2022-03-08T22:40:28.254429Z"
    }
   },
   "outputs": [],
   "source": [
    "from sklearn.datasets import fetch_openml\n",
    "\n",
    "# Fetch the MNIST dataset\n",
    "mnist = fetch_openml('mnist_784')\n",
    "\n",
    "# Assign the data features and labels to variable X and y respectively \n",
    "X = mnist.data.astype('float32')\n",
    "y = mnist.target.astype('int64')\n"
   ]
  },
  {
   "cell_type": "markdown",
   "metadata": {},
   "source": [
    "<div class=\"alert alert-info\">\n",
    "\n",
    "Bringing Your Own Data (BYOD)?\n",
    "\n",
    "Assign your data's features to variable ``X`` and its labels to variable ``y`` instead.\n",
    "\n",
    "</div>"
   ]
  },
  {
   "cell_type": "code",
   "execution_count": 3,
   "metadata": {
    "execution": {
     "iopub.execute_input": "2022-03-08T22:40:28.258520Z",
     "iopub.status.busy": "2022-03-08T22:40:28.258197Z",
     "iopub.status.idle": "2022-03-08T22:40:28.435722Z",
     "shell.execute_reply": "2022-03-08T22:40:28.435113Z"
    }
   },
   "outputs": [],
   "source": [
    "\n",
    "# Scale the features which range from 0 to 255 (256 levels on the grayscale) \n",
    "X /= 255.0\n",
    "\n",
    "# Then convert it to a numpy array\n",
    "X = X.to_numpy()"
   ]
  },
  {
   "cell_type": "markdown",
   "metadata": {},
   "source": [
    "## 3. Define a classification model"
   ]
  },
  {
   "cell_type": "markdown",
   "metadata": {},
   "source": [
    "Here, we define a simple neural network with PyTorch."
   ]
  },
  {
   "cell_type": "code",
   "execution_count": 4,
   "metadata": {
    "execution": {
     "iopub.execute_input": "2022-03-08T22:40:28.439882Z",
     "iopub.status.busy": "2022-03-08T22:40:28.439363Z",
     "iopub.status.idle": "2022-03-08T22:40:29.203865Z",
     "shell.execute_reply": "2022-03-08T22:40:29.202801Z"
    }
   },
   "outputs": [],
   "source": [
    "from torch import nn\n",
    "\n",
    "class NeuralNetwork(nn.Module):\n",
    "    def __init__(self):\n",
    "        super(NeuralNetwork, self).__init__()\n",
    "        self.dropout = nn.Dropout(0.5)\n",
    "        self.hidden = nn.Linear(28*28, 128)\n",
    "        self.output = nn.Linear(128, 10)\n",
    "\n",
    "    def forward(self, X):\n",
    "        X = nn.functional.relu(self.hidden(X))\n",
    "        X = self.dropout(X)\n",
    "        X = nn.functional.softmax(self.output(X), dim=-1)\n",
    "        return X"
   ]
  },
  {
   "cell_type": "markdown",
   "metadata": {},
   "source": [
    "## 4. Wrap with Skorch for scikit-learn compatibility"
   ]
  },
  {
   "cell_type": "markdown",
   "metadata": {},
   "source": [
    "As some of Cleanlab's feature requires scikit-learn compatibility, we will need to adapt the above PyTorch neural net accordingly. Skorch is a convenient package that helps with this, read more about it here: https://skorch.readthedocs.io"
   ]
  },
  {
   "cell_type": "code",
   "execution_count": 5,
   "metadata": {
    "execution": {
     "iopub.execute_input": "2022-03-08T22:40:29.207358Z",
     "iopub.status.busy": "2022-03-08T22:40:29.207034Z",
     "iopub.status.idle": "2022-03-08T22:40:29.318132Z",
     "shell.execute_reply": "2022-03-08T22:40:29.317533Z"
    }
   },
   "outputs": [],
   "source": [
    "from skorch import NeuralNetClassifier\n",
    "\n",
    "# Wrap the PyTorch neural net around Skorch's NeuralNetClassifier wrapper\n",
    "net = NeuralNetClassifier(NeuralNetwork)"
   ]
  },
  {
   "cell_type": "markdown",
   "metadata": {},
   "source": [
    "## 5. Compute the cross-validated predicted probabilities"
   ]
  },
  {
   "cell_type": "markdown",
   "metadata": {},
   "source": [
    "If we'd like Cleanlab to identify potential label errors in the whole dataset and not just the training set, we can consider fitting the entire dataset. We will only use this model instance to compute the cross-validated predicted probabilities, ``pyx``, and not for model evaluation."
   ]
  },
  {
   "cell_type": "code",
   "execution_count": 6,
   "metadata": {
    "execution": {
     "iopub.execute_input": "2022-03-08T22:40:29.321650Z",
     "iopub.status.busy": "2022-03-08T22:40:29.321460Z",
     "iopub.status.idle": "2022-03-08T22:40:45.543154Z",
     "shell.execute_reply": "2022-03-08T22:40:45.542577Z"
    }
   },
   "outputs": [
    {
     "name": "stdout",
     "output_type": "stream",
     "text": [
      "  epoch    train_loss    valid_acc    valid_loss     dur\n",
      "-------  ------------  -----------  ------------  ------\n",
      "      1        \u001b[36m1.7908\u001b[0m       \u001b[32m0.7916\u001b[0m        \u001b[35m1.1781\u001b[0m  1.6006\n"
     ]
    },
    {
     "name": "stdout",
     "output_type": "stream",
     "text": [
      "      2        \u001b[36m0.9865\u001b[0m       \u001b[32m0.8396\u001b[0m        \u001b[35m0.6999\u001b[0m  1.6361\n"
     ]
    },
    {
     "name": "stdout",
     "output_type": "stream",
     "text": [
      "      3        \u001b[36m0.7248\u001b[0m       \u001b[32m0.8614\u001b[0m        \u001b[35m0.5500\u001b[0m  1.6197\n"
     ]
    },
    {
     "name": "stdout",
     "output_type": "stream",
     "text": [
      "      4        \u001b[36m0.6131\u001b[0m       \u001b[32m0.8759\u001b[0m        \u001b[35m0.4765\u001b[0m  1.6142\n"
     ]
    },
    {
     "name": "stdout",
     "output_type": "stream",
     "text": [
      "      5        \u001b[36m0.5501\u001b[0m       \u001b[32m0.8861\u001b[0m        \u001b[35m0.4311\u001b[0m  1.6015\n"
     ]
    },
    {
     "name": "stdout",
     "output_type": "stream",
     "text": [
      "      6        \u001b[36m0.5059\u001b[0m       \u001b[32m0.8922\u001b[0m        \u001b[35m0.4006\u001b[0m  1.6010\n"
     ]
    },
    {
     "name": "stdout",
     "output_type": "stream",
     "text": [
      "      7        \u001b[36m0.4781\u001b[0m       \u001b[32m0.8976\u001b[0m        \u001b[35m0.3782\u001b[0m  1.6145\n"
     ]
    },
    {
     "name": "stdout",
     "output_type": "stream",
     "text": [
      "      8        \u001b[36m0.4549\u001b[0m       \u001b[32m0.9010\u001b[0m        \u001b[35m0.3594\u001b[0m  1.6024\n"
     ]
    },
    {
     "name": "stdout",
     "output_type": "stream",
     "text": [
      "      9        \u001b[36m0.4331\u001b[0m       \u001b[32m0.9041\u001b[0m        \u001b[35m0.3449\u001b[0m  1.6057\n"
     ]
    },
    {
     "name": "stdout",
     "output_type": "stream",
     "text": [
      "     10        \u001b[36m0.4168\u001b[0m       \u001b[32m0.9074\u001b[0m        \u001b[35m0.3323\u001b[0m  1.6080\n"
     ]
    }
   ],
   "source": [
    "_ = net.fit(X, y)"
   ]
  },
  {
   "cell_type": "markdown",
   "metadata": {},
   "source": [
    "Compute the cross-validated predicted probabilities, ``pyx``, sometimes also known as the out-of-sample predicted probabilities."
   ]
  },
  {
   "cell_type": "code",
   "execution_count": 7,
   "metadata": {
    "execution": {
     "iopub.execute_input": "2022-03-08T22:40:45.546178Z",
     "iopub.status.busy": "2022-03-08T22:40:45.545851Z",
     "iopub.status.idle": "2022-03-08T22:41:07.892001Z",
     "shell.execute_reply": "2022-03-08T22:41:07.891237Z"
    }
   },
   "outputs": [
    {
     "name": "stdout",
     "output_type": "stream",
     "text": [
      "  epoch    train_loss    valid_acc    valid_loss     dur\n",
      "-------  ------------  -----------  ------------  ------\n",
      "      1        \u001b[36m1.9711\u001b[0m       \u001b[32m0.7145\u001b[0m        \u001b[35m1.5558\u001b[0m  0.6967\n"
     ]
    },
    {
     "name": "stdout",
     "output_type": "stream",
     "text": [
      "      2        \u001b[36m1.2607\u001b[0m       \u001b[32m0.7951\u001b[0m        \u001b[35m0.9631\u001b[0m  0.6983\n"
     ]
    },
    {
     "name": "stdout",
     "output_type": "stream",
     "text": [
      "      3        \u001b[36m0.8950\u001b[0m       \u001b[32m0.8272\u001b[0m        \u001b[35m0.7300\u001b[0m  0.7639\n"
     ]
    },
    {
     "name": "stdout",
     "output_type": "stream",
     "text": [
      "      4        \u001b[36m0.7366\u001b[0m       \u001b[32m0.8453\u001b[0m        \u001b[35m0.6174\u001b[0m  0.8003\n"
     ]
    },
    {
     "name": "stdout",
     "output_type": "stream",
     "text": [
      "      5        \u001b[36m0.6475\u001b[0m       \u001b[32m0.8570\u001b[0m        \u001b[35m0.5508\u001b[0m  0.6875\n"
     ]
    },
    {
     "name": "stdout",
     "output_type": "stream",
     "text": [
      "      6        \u001b[36m0.5884\u001b[0m       \u001b[32m0.8659\u001b[0m        \u001b[35m0.5054\u001b[0m  0.6837\n"
     ]
    },
    {
     "name": "stdout",
     "output_type": "stream",
     "text": [
      "      7        \u001b[36m0.5514\u001b[0m       \u001b[32m0.8709\u001b[0m        \u001b[35m0.4747\u001b[0m  0.6880\n"
     ]
    },
    {
     "name": "stdout",
     "output_type": "stream",
     "text": [
      "      8        \u001b[36m0.5166\u001b[0m       \u001b[32m0.8767\u001b[0m        \u001b[35m0.4505\u001b[0m  0.6945\n"
     ]
    },
    {
     "name": "stdout",
     "output_type": "stream",
     "text": [
      "      9        \u001b[36m0.4906\u001b[0m       \u001b[32m0.8794\u001b[0m        \u001b[35m0.4314\u001b[0m  0.6903\n"
     ]
    },
    {
     "name": "stdout",
     "output_type": "stream",
     "text": [
      "     10        \u001b[36m0.4700\u001b[0m       \u001b[32m0.8842\u001b[0m        \u001b[35m0.4142\u001b[0m  0.7015\n"
     ]
    },
    {
     "name": "stdout",
     "output_type": "stream",
     "text": [
      "  epoch    train_loss    valid_acc    valid_loss     dur\n",
      "-------  ------------  -----------  ------------  ------\n",
      "      1        \u001b[36m1.9899\u001b[0m       \u001b[32m0.7504\u001b[0m        \u001b[35m1.5623\u001b[0m  0.6818\n"
     ]
    },
    {
     "name": "stdout",
     "output_type": "stream",
     "text": [
      "      2        \u001b[36m1.2613\u001b[0m       \u001b[32m0.8024\u001b[0m        \u001b[35m0.9429\u001b[0m  0.6822\n"
     ]
    },
    {
     "name": "stdout",
     "output_type": "stream",
     "text": [
      "      3        \u001b[36m0.8931\u001b[0m       \u001b[32m0.8367\u001b[0m        \u001b[35m0.7041\u001b[0m  0.6945\n"
     ]
    },
    {
     "name": "stdout",
     "output_type": "stream",
     "text": [
      "      4        \u001b[36m0.7344\u001b[0m       \u001b[32m0.8540\u001b[0m        \u001b[35m0.5915\u001b[0m  0.6803\n"
     ]
    },
    {
     "name": "stdout",
     "output_type": "stream",
     "text": [
      "      5        \u001b[36m0.6444\u001b[0m       \u001b[32m0.8673\u001b[0m        \u001b[35m0.5257\u001b[0m  0.6876\n"
     ]
    },
    {
     "name": "stdout",
     "output_type": "stream",
     "text": [
      "      6        \u001b[36m0.5898\u001b[0m       \u001b[32m0.8753\u001b[0m        \u001b[35m0.4815\u001b[0m  0.6844\n"
     ]
    },
    {
     "name": "stdout",
     "output_type": "stream",
     "text": [
      "      7        \u001b[36m0.5501\u001b[0m       \u001b[32m0.8830\u001b[0m        \u001b[35m0.4493\u001b[0m  0.6860\n"
     ]
    },
    {
     "name": "stdout",
     "output_type": "stream",
     "text": [
      "      8        \u001b[36m0.5158\u001b[0m       \u001b[32m0.8871\u001b[0m        \u001b[35m0.4249\u001b[0m  0.6897\n"
     ]
    },
    {
     "name": "stdout",
     "output_type": "stream",
     "text": [
      "      9        \u001b[36m0.4936\u001b[0m       \u001b[32m0.8906\u001b[0m        \u001b[35m0.4066\u001b[0m  0.6830\n"
     ]
    },
    {
     "name": "stdout",
     "output_type": "stream",
     "text": [
      "     10        \u001b[36m0.4731\u001b[0m       \u001b[32m0.8958\u001b[0m        \u001b[35m0.3902\u001b[0m  0.6816\n"
     ]
    },
    {
     "name": "stdout",
     "output_type": "stream",
     "text": [
      "  epoch    train_loss    valid_acc    valid_loss     dur\n",
      "-------  ------------  -----------  ------------  ------\n",
      "      1        \u001b[36m2.0330\u001b[0m       \u001b[32m0.7189\u001b[0m        \u001b[35m1.6357\u001b[0m  0.6861\n"
     ]
    },
    {
     "name": "stdout",
     "output_type": "stream",
     "text": [
      "      2        \u001b[36m1.3393\u001b[0m       \u001b[32m0.8029\u001b[0m        \u001b[35m0.9829\u001b[0m  0.6932\n"
     ]
    },
    {
     "name": "stdout",
     "output_type": "stream",
     "text": [
      "      3        \u001b[36m0.9496\u001b[0m       \u001b[32m0.8396\u001b[0m        \u001b[35m0.7243\u001b[0m  0.6935\n"
     ]
    },
    {
     "name": "stdout",
     "output_type": "stream",
     "text": [
      "      4        \u001b[36m0.7751\u001b[0m       \u001b[32m0.8590\u001b[0m        \u001b[35m0.6004\u001b[0m  0.6950\n"
     ]
    },
    {
     "name": "stdout",
     "output_type": "stream",
     "text": [
      "      5        \u001b[36m0.6806\u001b[0m       \u001b[32m0.8709\u001b[0m        \u001b[35m0.5301\u001b[0m  0.7016\n"
     ]
    },
    {
     "name": "stdout",
     "output_type": "stream",
     "text": [
      "      6        \u001b[36m0.6228\u001b[0m       \u001b[32m0.8803\u001b[0m        \u001b[35m0.4830\u001b[0m  0.7253\n"
     ]
    },
    {
     "name": "stdout",
     "output_type": "stream",
     "text": [
      "      7        \u001b[36m0.5783\u001b[0m       \u001b[32m0.8849\u001b[0m        \u001b[35m0.4492\u001b[0m  0.6885\n"
     ]
    },
    {
     "name": "stdout",
     "output_type": "stream",
     "text": [
      "      8        \u001b[36m0.5461\u001b[0m       \u001b[32m0.8904\u001b[0m        \u001b[35m0.4228\u001b[0m  0.6949\n"
     ]
    },
    {
     "name": "stdout",
     "output_type": "stream",
     "text": [
      "      9        \u001b[36m0.5152\u001b[0m       \u001b[32m0.8944\u001b[0m        \u001b[35m0.4025\u001b[0m  0.6875\n"
     ]
    },
    {
     "name": "stdout",
     "output_type": "stream",
     "text": [
      "     10        \u001b[36m0.4960\u001b[0m       \u001b[32m0.8985\u001b[0m        \u001b[35m0.3863\u001b[0m  0.6893\n"
     ]
    }
   ],
   "source": [
    "from sklearn.model_selection import cross_val_predict\n",
    "\n",
    "pyx = cross_val_predict(net, X, y, cv=3, method='predict_proba')"
   ]
  },
  {
   "cell_type": "markdown",
   "metadata": {},
   "source": [
    "## 6. Run Cleanlab to find potential label errors"
   ]
  },
  {
   "cell_type": "markdown",
   "metadata": {},
   "source": [
    "Cleanlab has a ``get_noise_indices`` function to generate a list of potential label errors. Setting ``sorted_index_method=\"prob_given_label\"`` returns the indices of all the most likely label errors, sorted by the most suspicious example first."
   ]
  },
  {
   "cell_type": "code",
   "execution_count": 8,
   "metadata": {
    "execution": {
     "iopub.execute_input": "2022-03-08T22:41:07.895598Z",
     "iopub.status.busy": "2022-03-08T22:41:07.895190Z",
     "iopub.status.idle": "2022-03-08T22:41:08.325713Z",
     "shell.execute_reply": "2022-03-08T22:41:08.324952Z"
    }
   },
   "outputs": [],
   "source": [
    "from cleanlab.pruning import get_noise_indices\n",
    "\n",
    "ordered_label_errors = get_noise_indices(\n",
    "    s=y,\n",
    "    psx=pyx,\n",
    "    sorted_index_method=\"prob_given_label\"\n",
    ")"
   ]
  },
  {
   "cell_type": "markdown",
   "metadata": {},
   "source": [
    "## 7. Review some of the most likely mislabeled examples"
   ]
  },
  {
   "cell_type": "code",
   "execution_count": 9,
   "metadata": {
    "execution": {
     "iopub.execute_input": "2022-03-08T22:41:08.329603Z",
     "iopub.status.busy": "2022-03-08T22:41:08.329246Z",
     "iopub.status.idle": "2022-03-08T22:41:08.334750Z",
     "shell.execute_reply": "2022-03-08T22:41:08.334210Z"
    }
   },
   "outputs": [
    {
     "name": "stdout",
     "output_type": "stream",
     "text": [
      "Cleanlab found 1237 potential label errors. Here are the indices of the top 15 most likely ones: \n",
      " [24798  8729 18598  1352 15942 12679 53216 20735 20820 55739 31134 61790\n",
      " 39457 29434 59915]\n"
     ]
    }
   ],
   "source": [
    "print(f\"Cleanlab found {len(ordered_label_errors)} potential label errors. Here are the indices of the top 15 most likely ones: \\n {ordered_label_errors[:15]}\")"
   ]
  },
  {
   "cell_type": "markdown",
   "metadata": {},
   "source": [
    "We'll define a new ``plot_examples`` function to display any examples in a subplot conveniently."
   ]
  },
  {
   "cell_type": "code",
   "execution_count": 10,
   "metadata": {
    "execution": {
     "iopub.execute_input": "2022-03-08T22:41:08.337514Z",
     "iopub.status.busy": "2022-03-08T22:41:08.337094Z",
     "iopub.status.idle": "2022-03-08T22:41:09.196957Z",
     "shell.execute_reply": "2022-03-08T22:41:09.196332Z"
    }
   },
   "outputs": [],
   "source": [
    "import matplotlib.pyplot as plt\n",
    "\n",
    "def plot_examples(id_iter, nrows=1, ncols=1):\n",
    "    for count, id in enumerate(id_iter):\n",
    "        plt.subplot(nrows, ncols, count+1)\n",
    "        plt.imshow(X[id].reshape(28, 28))\n",
    "        plt.title(f\"id: {id} \\n label: {y[id]}\")\n",
    "        plt.axis('off')\n",
    "\n",
    "    plt.tight_layout(h_pad=2.0)"
   ]
  },
  {
   "cell_type": "markdown",
   "metadata": {},
   "source": [
    "Let's start by having an overview of the top 15 most likely label errors. From here, we can see a few label errors and edge cases. Feel free to change the parameters to display more or fewer examples. "
   ]
  },
  {
   "cell_type": "code",
   "execution_count": 11,
   "metadata": {
    "execution": {
     "iopub.execute_input": "2022-03-08T22:41:09.200388Z",
     "iopub.status.busy": "2022-03-08T22:41:09.200063Z",
     "iopub.status.idle": "2022-03-08T22:41:09.648841Z",
     "shell.execute_reply": "2022-03-08T22:41:09.648145Z"
    }
   },
   "outputs": [
    {
     "data": {
      "image/png": "[encoded data removed]",
      "text/plain": [
       "<Figure size 432x288 with 15 Axes>"
      ]
     },
     "metadata": {
      "needs_background": "light"
     },
     "output_type": "display_data"
    }
   ],
   "source": [
    "plot_examples(ordered_label_errors[range(15)], 3, 5)"
   ]
  },
  {
   "cell_type": "markdown",
   "metadata": {},
   "source": [
    "Let's zoom into specific examples:"
   ]
  },
  {
   "cell_type": "markdown",
   "metadata": {},
   "source": [
    "Given label is **4** but looks more like a **7**"
   ]
  },
  {
   "cell_type": "code",
   "execution_count": 12,
   "metadata": {
    "execution": {
     "iopub.execute_input": "2022-03-08T22:41:09.652438Z",
     "iopub.status.busy": "2022-03-08T22:41:09.651982Z",
     "iopub.status.idle": "2022-03-08T22:41:09.708852Z",
     "shell.execute_reply": "2022-03-08T22:41:09.708261Z"
    }
   },
   "outputs": [
    {
     "data": {
      "image/png": "[encoded data removed]",
      "text/plain": [
       "<Figure size 432x288 with 1 Axes>"
      ]
     },
     "metadata": {
      "needs_background": "light"
     },
     "output_type": "display_data"
    }
   ],
   "source": [
    "plot_examples([59915])"
   ]
  },
  {
   "cell_type": "markdown",
   "metadata": {},
   "source": [
    "Given label is **4** but also looks like **9**"
   ]
  },
  {
   "cell_type": "code",
   "execution_count": 13,
   "metadata": {
    "execution": {
     "iopub.execute_input": "2022-03-08T22:41:09.712174Z",
     "iopub.status.busy": "2022-03-08T22:41:09.711740Z",
     "iopub.status.idle": "2022-03-08T22:41:09.767676Z",
     "shell.execute_reply": "2022-03-08T22:41:09.767133Z"
    }
   },
   "outputs": [
    {
     "data": {
      "image/png": "[encoded data removed]",
      "text/plain": [
       "<Figure size 432x288 with 1 Axes>"
      ]
     },
     "metadata": {
      "needs_background": "light"
     },
     "output_type": "display_data"
    }
   ],
   "source": [
    "plot_examples([24798])"
   ]
  },
  {
   "cell_type": "markdown",
   "metadata": {},
   "source": [
    "Edge case of odd looking **9**s"
   ]
  },
  {
   "cell_type": "code",
   "execution_count": 14,
   "metadata": {
    "execution": {
     "iopub.execute_input": "2022-03-08T22:41:09.771035Z",
     "iopub.status.busy": "2022-03-08T22:41:09.770597Z",
     "iopub.status.idle": "2022-03-08T22:41:09.997699Z",
     "shell.execute_reply": "2022-03-08T22:41:09.997048Z"
    }
   },
   "outputs": [
    {
     "data": {
      "image/png": "[encoded data removed]",
      "text/plain": [
       "<Figure size 432x288 with 3 Axes>"
      ]
     },
     "metadata": {
      "needs_background": "light"
     },
     "output_type": "display_data"
    }
   ],
   "source": [
    "plot_examples([18598, 1352, 61247], 1, 3)"
   ]
  },
  {
   "cell_type": "markdown",
   "metadata": {},
   "source": [
    "Cleanlab has shortlisted the most likely label errors to speed up your data cleaning process. With this list, you can decide whether to fix label errors, augment edge cases or remove obscure examples. \n",
    "\n",
    "These human-in-the-loop processes may be time-consuming, so if you'd like Cleanlab to automatically remove these noisy examples and train a model directly on the partially mislabeled dataset, you're in luck! Cleanlab provides a ``LearningWithNoisyLabels`` wrapper to do precisely this:"
   ]
  },
  {
   "cell_type": "markdown",
   "metadata": {},
   "source": [
    "## 8. Adapt with Cleanlab's wrapper and train a more robust model"
   ]
  },
  {
   "cell_type": "markdown",
   "metadata": {},
   "source": [
    "First, we split the dataset into train and test subsets."
   ]
  },
  {
   "cell_type": "code",
   "execution_count": 15,
   "metadata": {
    "execution": {
     "iopub.execute_input": "2022-03-08T22:41:10.001169Z",
     "iopub.status.busy": "2022-03-08T22:41:10.000687Z",
     "iopub.status.idle": "2022-03-08T22:41:10.753320Z",
     "shell.execute_reply": "2022-03-08T22:41:10.752686Z"
    }
   },
   "outputs": [],
   "source": [
    "from sklearn.model_selection import train_test_split\n",
    "\n",
    "X_train, X_test, y_train, y_test = train_test_split(X, y, test_size=0.2)"
   ]
  },
  {
   "cell_type": "markdown",
   "metadata": {},
   "source": [
    "Re-instantiate a new scikit-learn compatible model with Skorch then wrap it with Cleanlab's ``LearningWithNoisyLabels`` wrapper."
   ]
  },
  {
   "cell_type": "code",
   "execution_count": 16,
   "metadata": {
    "execution": {
     "iopub.execute_input": "2022-03-08T22:41:10.757240Z",
     "iopub.status.busy": "2022-03-08T22:41:10.756830Z",
     "iopub.status.idle": "2022-03-08T22:41:10.760293Z",
     "shell.execute_reply": "2022-03-08T22:41:10.759759Z"
    }
   },
   "outputs": [],
   "source": [
    "from cleanlab.classification import LearningWithNoisyLabels\n",
    "\n",
    "net = NeuralNetClassifier(NeuralNetwork)\n",
    "clf = LearningWithNoisyLabels(clf=net)"
   ]
  },
  {
   "cell_type": "code",
   "execution_count": 17,
   "metadata": {
    "execution": {
     "iopub.execute_input": "2022-03-08T22:41:10.762990Z",
     "iopub.status.busy": "2022-03-08T22:41:10.762716Z",
     "iopub.status.idle": "2022-03-08T22:41:54.265960Z",
     "shell.execute_reply": "2022-03-08T22:41:54.265235Z"
    }
   },
   "outputs": [
    {
     "name": "stdout",
     "output_type": "stream",
     "text": [
      "  epoch    train_loss    valid_acc    valid_loss     dur\n",
      "-------  ------------  -----------  ------------  ------\n",
      "      1        \u001b[36m1.9770\u001b[0m       \u001b[32m0.7426\u001b[0m        \u001b[35m1.5605\u001b[0m  0.6622\n"
     ]
    },
    {
     "name": "stdout",
     "output_type": "stream",
     "text": [
      "      2        \u001b[36m1.2727\u001b[0m       \u001b[32m0.8209\u001b[0m        \u001b[35m0.9420\u001b[0m  0.6651\n"
     ]
    },
    {
     "name": "stdout",
     "output_type": "stream",
     "text": [
      "      3        \u001b[36m0.9080\u001b[0m       \u001b[32m0.8492\u001b[0m        \u001b[35m0.6992\u001b[0m  0.6711\n"
     ]
    },
    {
     "name": "stdout",
     "output_type": "stream",
     "text": [
      "      4        \u001b[36m0.7482\u001b[0m       \u001b[32m0.8651\u001b[0m        \u001b[35m0.5852\u001b[0m  0.6626\n"
     ]
    },
    {
     "name": "stdout",
     "output_type": "stream",
     "text": [
      "      5        \u001b[36m0.6603\u001b[0m       \u001b[32m0.8749\u001b[0m        \u001b[35m0.5181\u001b[0m  0.6652\n"
     ]
    },
    {
     "name": "stdout",
     "output_type": "stream",
     "text": [
      "      6        \u001b[36m0.5983\u001b[0m       \u001b[32m0.8814\u001b[0m        \u001b[35m0.4739\u001b[0m  0.6693\n"
     ]
    },
    {
     "name": "stdout",
     "output_type": "stream",
     "text": [
      "      7        \u001b[36m0.5625\u001b[0m       \u001b[32m0.8866\u001b[0m        \u001b[35m0.4434\u001b[0m  0.6634\n"
     ]
    },
    {
     "name": "stdout",
     "output_type": "stream",
     "text": [
      "      8        \u001b[36m0.5284\u001b[0m       \u001b[32m0.8923\u001b[0m        \u001b[35m0.4195\u001b[0m  0.6612\n"
     ]
    },
    {
     "name": "stdout",
     "output_type": "stream",
     "text": [
      "      9        \u001b[36m0.5065\u001b[0m       \u001b[32m0.8950\u001b[0m        \u001b[35m0.4013\u001b[0m  0.6741\n"
     ]
    },
    {
     "name": "stdout",
     "output_type": "stream",
     "text": [
      "     10        \u001b[36m0.4854\u001b[0m       \u001b[32m0.8972\u001b[0m        \u001b[35m0.3854\u001b[0m  0.6631\n"
     ]
    },
    {
     "name": "stdout",
     "output_type": "stream",
     "text": [
      "  epoch    train_loss    valid_acc    valid_loss     dur\n",
      "-------  ------------  -----------  ------------  ------\n",
      "      1        \u001b[36m2.0154\u001b[0m       \u001b[32m0.7474\u001b[0m        \u001b[35m1.6243\u001b[0m  0.6692\n"
     ]
    },
    {
     "name": "stdout",
     "output_type": "stream",
     "text": [
      "      2        \u001b[36m1.3288\u001b[0m       \u001b[32m0.8118\u001b[0m        \u001b[35m0.9900\u001b[0m  0.6621\n"
     ]
    },
    {
     "name": "stdout",
     "output_type": "stream",
     "text": [
      "      3        \u001b[36m0.9446\u001b[0m       \u001b[32m0.8415\u001b[0m        \u001b[35m0.7270\u001b[0m  0.6621\n"
     ]
    },
    {
     "name": "stdout",
     "output_type": "stream",
     "text": [
      "      4        \u001b[36m0.7707\u001b[0m       \u001b[32m0.8617\u001b[0m        \u001b[35m0.6032\u001b[0m  0.6650\n"
     ]
    },
    {
     "name": "stdout",
     "output_type": "stream",
     "text": [
      "      5        \u001b[36m0.6769\u001b[0m       \u001b[32m0.8710\u001b[0m        \u001b[35m0.5306\u001b[0m  0.6628\n"
     ]
    },
    {
     "name": "stdout",
     "output_type": "stream",
     "text": [
      "      6        \u001b[36m0.6154\u001b[0m       \u001b[32m0.8766\u001b[0m        \u001b[35m0.4832\u001b[0m  0.6633\n"
     ]
    },
    {
     "name": "stdout",
     "output_type": "stream",
     "text": [
      "      7        \u001b[36m0.5719\u001b[0m       \u001b[32m0.8831\u001b[0m        \u001b[35m0.4493\u001b[0m  0.7319\n"
     ]
    },
    {
     "name": "stdout",
     "output_type": "stream",
     "text": [
      "      8        \u001b[36m0.5353\u001b[0m       \u001b[32m0.8878\u001b[0m        \u001b[35m0.4234\u001b[0m  0.6654\n"
     ]
    },
    {
     "name": "stdout",
     "output_type": "stream",
     "text": [
      "      9        \u001b[36m0.5090\u001b[0m       \u001b[32m0.8910\u001b[0m        \u001b[35m0.4036\u001b[0m  0.6704\n"
     ]
    },
    {
     "name": "stdout",
     "output_type": "stream",
     "text": [
      "     10        \u001b[36m0.4905\u001b[0m       \u001b[32m0.8929\u001b[0m        \u001b[35m0.3882\u001b[0m  0.6704\n"
     ]
    },
    {
     "name": "stdout",
     "output_type": "stream",
     "text": [
      "  epoch    train_loss    valid_acc    valid_loss     dur\n",
      "-------  ------------  -----------  ------------  ------\n",
      "      1        \u001b[36m2.0156\u001b[0m       \u001b[32m0.7444\u001b[0m        \u001b[35m1.6227\u001b[0m  0.6666\n"
     ]
    },
    {
     "name": "stdout",
     "output_type": "stream",
     "text": [
      "      2        \u001b[36m1.3336\u001b[0m       \u001b[32m0.8081\u001b[0m        \u001b[35m0.9977\u001b[0m  0.6704\n"
     ]
    },
    {
     "name": "stdout",
     "output_type": "stream",
     "text": [
      "      3        \u001b[36m0.9523\u001b[0m       \u001b[32m0.8417\u001b[0m        \u001b[35m0.7363\u001b[0m  0.6705\n"
     ]
    },
    {
     "name": "stdout",
     "output_type": "stream",
     "text": [
      "      4        \u001b[36m0.7809\u001b[0m       \u001b[32m0.8597\u001b[0m        \u001b[35m0.6086\u001b[0m  0.6656\n"
     ]
    },
    {
     "name": "stdout",
     "output_type": "stream",
     "text": [
      "      5        \u001b[36m0.6825\u001b[0m       \u001b[32m0.8724\u001b[0m        \u001b[35m0.5344\u001b[0m  0.6677\n"
     ]
    },
    {
     "name": "stdout",
     "output_type": "stream",
     "text": [
      "      6        \u001b[36m0.6238\u001b[0m       \u001b[32m0.8787\u001b[0m        \u001b[35m0.4861\u001b[0m  0.6747\n"
     ]
    },
    {
     "name": "stdout",
     "output_type": "stream",
     "text": [
      "      7        \u001b[36m0.5787\u001b[0m       \u001b[32m0.8854\u001b[0m        \u001b[35m0.4503\u001b[0m  0.6697\n"
     ]
    },
    {
     "name": "stdout",
     "output_type": "stream",
     "text": [
      "      8        \u001b[36m0.5475\u001b[0m       \u001b[32m0.8891\u001b[0m        \u001b[35m0.4242\u001b[0m  0.6708\n"
     ]
    },
    {
     "name": "stdout",
     "output_type": "stream",
     "text": [
      "      9        \u001b[36m0.5177\u001b[0m       \u001b[32m0.8923\u001b[0m        \u001b[35m0.4026\u001b[0m  0.6699\n"
     ]
    },
    {
     "name": "stdout",
     "output_type": "stream",
     "text": [
      "     10        \u001b[36m0.4926\u001b[0m       \u001b[32m0.8963\u001b[0m        \u001b[35m0.3850\u001b[0m  0.6750\n"
     ]
    },
    {
     "name": "stdout",
     "output_type": "stream",
     "text": [
      "  epoch    train_loss    valid_acc    valid_loss     dur\n",
      "-------  ------------  -----------  ------------  ------\n",
      "      1        \u001b[36m2.0289\u001b[0m       \u001b[32m0.6894\u001b[0m        \u001b[35m1.6414\u001b[0m  0.6623\n"
     ]
    },
    {
     "name": "stdout",
     "output_type": "stream",
     "text": [
      "      2        \u001b[36m1.3409\u001b[0m       \u001b[32m0.8118\u001b[0m        \u001b[35m0.9965\u001b[0m  0.6681\n"
     ]
    },
    {
     "name": "stdout",
     "output_type": "stream",
     "text": [
      "      3        \u001b[36m0.9499\u001b[0m       \u001b[32m0.8446\u001b[0m        \u001b[35m0.7319\u001b[0m  0.6704\n"
     ]
    },
    {
     "name": "stdout",
     "output_type": "stream",
     "text": [
      "      4        \u001b[36m0.7789\u001b[0m       \u001b[32m0.8580\u001b[0m        \u001b[35m0.6068\u001b[0m  0.6754\n"
     ]
    },
    {
     "name": "stdout",
     "output_type": "stream",
     "text": [
      "      5        \u001b[36m0.6812\u001b[0m       \u001b[32m0.8706\u001b[0m        \u001b[35m0.5342\u001b[0m  0.6693\n"
     ]
    },
    {
     "name": "stdout",
     "output_type": "stream",
     "text": [
      "      6        \u001b[36m0.6178\u001b[0m       \u001b[32m0.8782\u001b[0m        \u001b[35m0.4869\u001b[0m  0.6620\n"
     ]
    },
    {
     "name": "stdout",
     "output_type": "stream",
     "text": [
      "      7        \u001b[36m0.5755\u001b[0m       \u001b[32m0.8825\u001b[0m        \u001b[35m0.4535\u001b[0m  0.6651\n"
     ]
    },
    {
     "name": "stdout",
     "output_type": "stream",
     "text": [
      "      8        \u001b[36m0.5396\u001b[0m       \u001b[32m0.8893\u001b[0m        \u001b[35m0.4275\u001b[0m  0.6672\n"
     ]
    },
    {
     "name": "stdout",
     "output_type": "stream",
     "text": [
      "      9        \u001b[36m0.5135\u001b[0m       \u001b[32m0.8920\u001b[0m        \u001b[35m0.4077\u001b[0m  0.6624\n"
     ]
    },
    {
     "name": "stdout",
     "output_type": "stream",
     "text": [
      "     10        \u001b[36m0.4934\u001b[0m       \u001b[32m0.8958\u001b[0m        \u001b[35m0.3914\u001b[0m  0.6598\n"
     ]
    },
    {
     "name": "stdout",
     "output_type": "stream",
     "text": [
      "  epoch    train_loss    valid_acc    valid_loss     dur\n",
      "-------  ------------  -----------  ------------  ------\n",
      "      1        \u001b[36m2.0115\u001b[0m       \u001b[32m0.7241\u001b[0m        \u001b[35m1.6232\u001b[0m  0.6825\n"
     ]
    },
    {
     "name": "stdout",
     "output_type": "stream",
     "text": [
      "      2        \u001b[36m1.3250\u001b[0m       \u001b[32m0.8163\u001b[0m        \u001b[35m0.9878\u001b[0m  0.6678\n"
     ]
    },
    {
     "name": "stdout",
     "output_type": "stream",
     "text": [
      "      3        \u001b[36m0.9363\u001b[0m       \u001b[32m0.8444\u001b[0m        \u001b[35m0.7280\u001b[0m  0.6728\n"
     ]
    },
    {
     "name": "stdout",
     "output_type": "stream",
     "text": [
      "      4        \u001b[36m0.7650\u001b[0m       \u001b[32m0.8621\u001b[0m        \u001b[35m0.6047\u001b[0m  0.6672\n"
     ]
    },
    {
     "name": "stdout",
     "output_type": "stream",
     "text": [
      "      5        \u001b[36m0.6736\u001b[0m       \u001b[32m0.8720\u001b[0m        \u001b[35m0.5342\u001b[0m  0.6676\n"
     ]
    },
    {
     "name": "stdout",
     "output_type": "stream",
     "text": [
      "      6        \u001b[36m0.6113\u001b[0m       \u001b[32m0.8794\u001b[0m        \u001b[35m0.4870\u001b[0m  0.6713\n"
     ]
    },
    {
     "name": "stdout",
     "output_type": "stream",
     "text": [
      "      7        \u001b[36m0.5682\u001b[0m       \u001b[32m0.8843\u001b[0m        \u001b[35m0.4545\u001b[0m  0.6720\n"
     ]
    },
    {
     "name": "stdout",
     "output_type": "stream",
     "text": [
      "      8        \u001b[36m0.5352\u001b[0m       \u001b[32m0.8878\u001b[0m        \u001b[35m0.4294\u001b[0m  0.6604\n"
     ]
    },
    {
     "name": "stdout",
     "output_type": "stream",
     "text": [
      "      9        \u001b[36m0.5076\u001b[0m       \u001b[32m0.8906\u001b[0m        \u001b[35m0.4099\u001b[0m  0.6597\n"
     ]
    },
    {
     "name": "stdout",
     "output_type": "stream",
     "text": [
      "     10        \u001b[36m0.4911\u001b[0m       \u001b[32m0.8930\u001b[0m        \u001b[35m0.3943\u001b[0m  0.6565\n"
     ]
    },
    {
     "name": "stdout",
     "output_type": "stream",
     "text": [
      "  epoch    train_loss    valid_acc    valid_loss     dur\n",
      "-------  ------------  -----------  ------------  ------\n",
      "      1        \u001b[36m1.9089\u001b[0m       \u001b[32m0.7606\u001b[0m        \u001b[35m1.3867\u001b[0m  0.8265\n"
     ]
    },
    {
     "name": "stdout",
     "output_type": "stream",
     "text": [
      "      2        \u001b[36m1.1072\u001b[0m       \u001b[32m0.8434\u001b[0m        \u001b[35m0.7865\u001b[0m  0.8092\n"
     ]
    },
    {
     "name": "stdout",
     "output_type": "stream",
     "text": [
      "      3        \u001b[36m0.7735\u001b[0m       \u001b[32m0.8715\u001b[0m        \u001b[35m0.5784\u001b[0m  0.8125\n"
     ]
    },
    {
     "name": "stdout",
     "output_type": "stream",
     "text": [
      "      4        \u001b[36m0.6331\u001b[0m       \u001b[32m0.8839\u001b[0m        \u001b[35m0.4805\u001b[0m  0.8151\n"
     ]
    },
    {
     "name": "stdout",
     "output_type": "stream",
     "text": [
      "      5        \u001b[36m0.5597\u001b[0m       \u001b[32m0.8947\u001b[0m        \u001b[35m0.4222\u001b[0m  0.8142\n"
     ]
    },
    {
     "name": "stdout",
     "output_type": "stream",
     "text": [
      "      6        \u001b[36m0.5069\u001b[0m       \u001b[32m0.9004\u001b[0m        \u001b[35m0.3837\u001b[0m  0.8151\n"
     ]
    },
    {
     "name": "stdout",
     "output_type": "stream",
     "text": [
      "      7        \u001b[36m0.4683\u001b[0m       \u001b[32m0.9058\u001b[0m        \u001b[35m0.3564\u001b[0m  0.8208\n"
     ]
    },
    {
     "name": "stdout",
     "output_type": "stream",
     "text": [
      "      8        \u001b[36m0.4430\u001b[0m       \u001b[32m0.9089\u001b[0m        \u001b[35m0.3354\u001b[0m  0.8252\n"
     ]
    },
    {
     "name": "stdout",
     "output_type": "stream",
     "text": [
      "      9        \u001b[36m0.4172\u001b[0m       \u001b[32m0.9117\u001b[0m        \u001b[35m0.3191\u001b[0m  0.8491\n"
     ]
    },
    {
     "name": "stdout",
     "output_type": "stream",
     "text": [
      "     10        \u001b[36m0.3954\u001b[0m       \u001b[32m0.9146\u001b[0m        \u001b[35m0.3046\u001b[0m  0.8321\n"
     ]
    }
   ],
   "source": [
    "_ = clf.fit(X_train, y_train.to_numpy())"
   ]
  },
  {
   "cell_type": "markdown",
   "metadata": {},
   "source": [
    "## 9. Evaluate the robust model's performance"
   ]
  },
  {
   "cell_type": "code",
   "execution_count": 18,
   "metadata": {
    "execution": {
     "iopub.execute_input": "2022-03-08T22:41:54.269249Z",
     "iopub.status.busy": "2022-03-08T22:41:54.268959Z",
     "iopub.status.idle": "2022-03-08T22:41:54.471523Z",
     "shell.execute_reply": "2022-03-08T22:41:54.470996Z"
    }
   },
   "outputs": [
    {
     "data": {
      "text/plain": [
       "0.8971428571428571"
      ]
     },
     "execution_count": 18,
     "metadata": {},
     "output_type": "execute_result"
    }
   ],
   "source": [
    "from sklearn.metrics import accuracy_score\n",
    "\n",
    "y_pred = clf.predict(X_test)\n",
    "accuracy_score(y_test, y_pred)"
   ]
  },
  {
   "cell_type": "markdown",
   "metadata": {},
   "source": [
    "## What's next?"
   ]
  },
  {
   "cell_type": "markdown",
   "metadata": {},
   "source": [
    "Congratulations on completing this tutorial! Check out our following tutorial on using Cleanlab for text classification, where we found ``hundreds`` of potential label errors in one of the most well-known text datasets, the IMBDb movie review dataset!"
   ]
  }
 ],
 "metadata": {
  "interpreter": {
   "hash": "ced20e3e49bb4fa4ce8ad38f8f2535b7fc4c39b2b89554502b5dbdad1ad67eda"
  },
  "kernelspec": {
   "display_name": "Python 3.10.0 64-bit",
   "language": "python",
   "name": "python3"
  },
  "language_info": {
   "codemirror_mode": {
    "name": "ipython",
    "version": 3
   },
   "file_extension": ".py",
   "mimetype": "text/x-python",
   "name": "python",
   "nbconvert_exporter": "python",
   "pygments_lexer": "ipython3",
   "version": "3.8.12"
  }
 },
 "nbformat": 4,
 "nbformat_minor": 2
}
