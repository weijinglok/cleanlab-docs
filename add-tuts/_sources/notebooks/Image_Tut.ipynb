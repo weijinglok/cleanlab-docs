{
 "cells": [
  {
   "cell_type": "markdown",
   "metadata": {},
   "source": [
    "# Image Classification with Cleanlab, PyTorch & Skorch"
   ]
  },
  {
   "cell_type": "markdown",
   "metadata": {},
   "source": [
    "This tutorial will use Cleanlab to find potential label errors in the MNIST handwritten digit image dataset. This dataset contains 60,000 images of handwritten digits from 0 to 9. We'll find *more than a thousand* highly suspicious examples with label errors and edge cases by the end of this tutorial. \n",
    "\n",
    "**Overview of what we'll do in this tutorial:**\n",
    "\n",
    "- Build a simple PyTorch neural net and wrap it with Skorch to make it scikit-learn compatible.\n",
    "\n",
    "- Compute the cross-validated predicted probabilities, ``pyx``, sometimes known as the out-of-sample predicted probabilities.\n",
    "\n",
    "- Generate a list of potential label errors with Cleanlab's ``get_noise_indices``.\n",
    "\n",
    "- Build and train a more robust model than the vanilla model after adapting it with Cleanlab's ``LearningWithNoisyLabels``. \n",
    "\n",
    "**Data:** https://www.openml.org/d/554"
   ]
  },
  {
   "cell_type": "markdown",
   "metadata": {},
   "source": [
    "## 1. Install the required dependencies"
   ]
  },
  {
   "cell_type": "markdown",
   "metadata": {},
   "source": [
    "``%%capture`` is a magic function to hides the cell's output."
   ]
  },
  {
   "cell_type": "code",
   "execution_count": 6,
   "metadata": {},
   "outputs": [
    {
     "name": "stdout",
     "output_type": "stream",
     "text": [
      "Requirement already satisfied: cleanlab in c:\\users\\lok_w\\desktop\\cleanlab\\doc\\cleanlab\\.venv\\lib\\site-packages (1.0.1)\n",
      "Requirement already satisfied: pandas in c:\\users\\lok_w\\desktop\\cleanlab\\doc\\cleanlab\\.venv\\lib\\site-packages (1.4.1)\n",
      "Requirement already satisfied: matplotlib in c:\\users\\lok_w\\desktop\\cleanlab\\doc\\cleanlab\\.venv\\lib\\site-packages (3.5.1)\n",
      "Requirement already satisfied: torch in c:\\users\\lok_w\\desktop\\cleanlab\\doc\\cleanlab\\.venv\\lib\\site-packages (1.10.1)\n",
      "Requirement already satisfied: torchvision in c:\\users\\lok_w\\desktop\\cleanlab\\doc\\cleanlab\\.venv\\lib\\site-packages (0.11.2)\n",
      "Collecting skorch\n",
      "  Using cached skorch-0.11.0-py3-none-any.whl (155 kB)\n",
      "Requirement already satisfied: numpy>=1.11.3 in c:\\users\\lok_w\\desktop\\cleanlab\\doc\\cleanlab\\.venv\\lib\\site-packages (from cleanlab) (1.22.2)\n",
      "Requirement already satisfied: tqdm>=4.53.0 in c:\\users\\lok_w\\desktop\\cleanlab\\doc\\cleanlab\\.venv\\lib\\site-packages (from cleanlab) (4.62.3)\n",
      "Requirement already satisfied: scipy>=1.1.0 in c:\\users\\lok_w\\desktop\\cleanlab\\doc\\cleanlab\\.venv\\lib\\site-packages (from cleanlab) (1.8.0)\n",
      "Requirement already satisfied: scikit-learn>=0.18 in c:\\users\\lok_w\\desktop\\cleanlab\\doc\\cleanlab\\.venv\\lib\\site-packages (from cleanlab) (1.0.2)\n",
      "Requirement already satisfied: pytz>=2020.1 in c:\\users\\lok_w\\desktop\\cleanlab\\doc\\cleanlab\\.venv\\lib\\site-packages (from pandas) (2021.3)\n",
      "Requirement already satisfied: python-dateutil>=2.8.1 in c:\\users\\lok_w\\desktop\\cleanlab\\doc\\cleanlab\\.venv\\lib\\site-packages (from pandas) (2.8.2)\n",
      "Requirement already satisfied: pillow>=6.2.0 in c:\\users\\lok_w\\desktop\\cleanlab\\doc\\cleanlab\\.venv\\lib\\site-packages (from matplotlib) (9.0.1)\n",
      "Requirement already satisfied: cycler>=0.10 in c:\\users\\lok_w\\desktop\\cleanlab\\doc\\cleanlab\\.venv\\lib\\site-packages (from matplotlib) (0.11.0)\n",
      "Requirement already satisfied: packaging>=20.0 in c:\\users\\lok_w\\desktop\\cleanlab\\doc\\cleanlab\\.venv\\lib\\site-packages (from matplotlib) (21.3)\n",
      "Requirement already satisfied: fonttools>=4.22.0 in c:\\users\\lok_w\\desktop\\cleanlab\\doc\\cleanlab\\.venv\\lib\\site-packages (from matplotlib) (4.29.1)\n",
      "Requirement already satisfied: pyparsing>=2.2.1 in c:\\users\\lok_w\\desktop\\cleanlab\\doc\\cleanlab\\.venv\\lib\\site-packages (from matplotlib) (3.0.7)\n",
      "Requirement already satisfied: kiwisolver>=1.0.1 in c:\\users\\lok_w\\desktop\\cleanlab\\doc\\cleanlab\\.venv\\lib\\site-packages (from matplotlib) (1.3.2)\n",
      "Requirement already satisfied: typing-extensions in c:\\users\\lok_w\\desktop\\cleanlab\\doc\\cleanlab\\.venv\\lib\\site-packages (from torch) (4.1.1)\n",
      "Requirement already satisfied: tabulate>=0.7.7 in c:\\users\\lok_w\\desktop\\cleanlab\\doc\\cleanlab\\.venv\\lib\\site-packages (from skorch) (0.8.9)\n",
      "Requirement already satisfied: six>=1.5 in c:\\users\\lok_w\\desktop\\cleanlab\\doc\\cleanlab\\.venv\\lib\\site-packages (from python-dateutil>=2.8.1->pandas) (1.16.0)\n",
      "Requirement already satisfied: threadpoolctl>=2.0.0 in c:\\users\\lok_w\\desktop\\cleanlab\\doc\\cleanlab\\.venv\\lib\\site-packages (from scikit-learn>=0.18->cleanlab) (3.1.0)\n",
      "Requirement already satisfied: joblib>=0.11 in c:\\users\\lok_w\\desktop\\cleanlab\\doc\\cleanlab\\.venv\\lib\\site-packages (from scikit-learn>=0.18->cleanlab) (1.1.0)\n",
      "Requirement already satisfied: colorama in c:\\users\\lok_w\\desktop\\cleanlab\\doc\\cleanlab\\.venv\\lib\\site-packages (from tqdm>=4.53.0->cleanlab) (0.4.4)\n",
      "Installing collected packages: skorch\n",
      "Successfully installed skorch-0.11.0\n",
      "Note: you may need to restart the kernel to use updated packages.\n"
     ]
    }
   ],
   "source": [
    "%%capture\n",
    "\n",
    "%pip install cleanlab pandas matplotlib torch torchvision skorch"
   ]
  },
  {
   "cell_type": "markdown",
   "metadata": {},
   "source": [
    "## 2. Fetch and scale the MNIST dataset"
   ]
  },
  {
   "cell_type": "code",
   "execution_count": 2,
   "metadata": {},
   "outputs": [],
   "source": [
    "from sklearn.datasets import fetch_openml\n",
    "\n",
    "# Fetch the MNIST dataset\n",
    "mnist = fetch_openml('mnist_784')\n",
    "\n",
    "# Assign the data features and labels to variable X and y respectively \n",
    "X = mnist.data.astype('float32')\n",
    "y = mnist.target.astype('int64')\n"
   ]
  },
  {
   "cell_type": "markdown",
   "metadata": {},
   "source": [
    "<div class=\"alert alert-info\">\n",
    "\n",
    "Bringing Your Own Data (BYOD)?\n",
    "\n",
    "Assign your data's features to variable ``X`` and its labels to variable ``y`` instead.\n",
    "\n",
    "</div>"
   ]
  },
  {
   "cell_type": "code",
   "execution_count": 3,
   "metadata": {},
   "outputs": [],
   "source": [
    "\n",
    "# Scale the features which range from 0 to 255 (256 levels on the grayscale) \n",
    "X /= 255.0\n",
    "\n",
    "# Then convert it to a numpy array\n",
    "X = X.to_numpy()"
   ]
  },
  {
   "cell_type": "markdown",
   "metadata": {},
   "source": [
    "## 3. Define a classification model"
   ]
  },
  {
   "cell_type": "markdown",
   "metadata": {},
   "source": [
    "Here, we define a simple neural network with PyTorch."
   ]
  },
  {
   "cell_type": "code",
   "execution_count": 4,
   "metadata": {},
   "outputs": [],
   "source": [
    "from torch import nn\n",
    "\n",
    "class NeuralNetwork(nn.Module):\n",
    "    def __init__(self):\n",
    "        super(NeuralNetwork, self).__init__()\n",
    "        self.dropout = nn.Dropout(0.5)\n",
    "        self.hidden = nn.Linear(28*28, 128)\n",
    "        self.output = nn.Linear(128, 10)\n",
    "\n",
    "    def forward(self, X):\n",
    "        X = nn.functional.relu(self.hidden(X))\n",
    "        X = self.dropout(X)\n",
    "        X = nn.functional.softmax(self.output(X), dim=-1)\n",
    "        return X"
   ]
  },
  {
   "cell_type": "markdown",
   "metadata": {},
   "source": [
    "## 4. Wrap with Skorch for scikit-learn compatibility"
   ]
  },
  {
   "cell_type": "markdown",
   "metadata": {},
   "source": [
    "As some of Cleanlab's feature requires scikit-learn compatibility, we will need to adapt the above PyTorch neural net accordingly. Skorch is a convenient package that helps with this, read more about it here: https://skorch.readthedocs.io"
   ]
  },
  {
   "cell_type": "code",
   "execution_count": 7,
   "metadata": {},
   "outputs": [],
   "source": [
    "from skorch import NeuralNetClassifier\n",
    "\n",
    "# Wrap the PyTorch neural net around Skorch's NeuralNetClassifier wrapper\n",
    "net = NeuralNetClassifier(NeuralNetwork)"
   ]
  },
  {
   "cell_type": "markdown",
   "metadata": {},
   "source": [
    "## 5. Compute the cross-validated predicted probabilities"
   ]
  },
  {
   "cell_type": "markdown",
   "metadata": {},
   "source": [
    "If we'd like Cleanlab to identify potential label errors in the whole dataset and not just the training set, we can consider fitting the entire dataset. We will only use this model instance to compute the cross-validated predicted probabilities, ``pyx``, and not for model evaluation."
   ]
  },
  {
   "cell_type": "code",
   "execution_count": 8,
   "metadata": {},
   "outputs": [
    {
     "name": "stdout",
     "output_type": "stream",
     "text": [
      "  epoch    train_loss    valid_acc    valid_loss     dur\n",
      "-------  ------------  -----------  ------------  ------\n",
      "      1        \u001b[36m1.8160\u001b[0m       \u001b[32m0.7844\u001b[0m        \u001b[35m1.2028\u001b[0m  5.8828\n",
      "      2        \u001b[36m0.9997\u001b[0m       \u001b[32m0.8404\u001b[0m        \u001b[35m0.7087\u001b[0m  5.7295\n",
      "      3        \u001b[36m0.7341\u001b[0m       \u001b[32m0.8611\u001b[0m        \u001b[35m0.5565\u001b[0m  5.5737\n",
      "      4        \u001b[36m0.6211\u001b[0m       \u001b[32m0.8772\u001b[0m        \u001b[35m0.4808\u001b[0m  5.9337\n",
      "      5        \u001b[36m0.5590\u001b[0m       \u001b[32m0.8858\u001b[0m        \u001b[35m0.4371\u001b[0m  6.4111\n",
      "      6        \u001b[36m0.5146\u001b[0m       \u001b[32m0.8927\u001b[0m        \u001b[35m0.4046\u001b[0m  5.5770\n",
      "      7        \u001b[36m0.4866\u001b[0m       \u001b[32m0.8981\u001b[0m        \u001b[35m0.3824\u001b[0m  5.4245\n",
      "      8        \u001b[36m0.4581\u001b[0m       \u001b[32m0.9015\u001b[0m        \u001b[35m0.3635\u001b[0m  5.2191\n",
      "      9        \u001b[36m0.4395\u001b[0m       \u001b[32m0.9051\u001b[0m        \u001b[35m0.3482\u001b[0m  5.9395\n",
      "     10        \u001b[36m0.4241\u001b[0m       \u001b[32m0.9081\u001b[0m        \u001b[35m0.3354\u001b[0m  6.7694\n"
     ]
    }
   ],
   "source": [
    "_ = net.fit(X, y)"
   ]
  },
  {
   "cell_type": "markdown",
   "metadata": {},
   "source": [
    "Compute the cross-validated predicted probabilities, ``pyx``, sometimes also known as the out-of-sample predicted probabilities."
   ]
  },
  {
   "cell_type": "code",
   "execution_count": 9,
   "metadata": {},
   "outputs": [
    {
     "name": "stdout",
     "output_type": "stream",
     "text": [
      "  epoch    train_loss    valid_acc    valid_loss     dur\n",
      "-------  ------------  -----------  ------------  ------\n",
      "      1        \u001b[36m1.9926\u001b[0m       \u001b[32m0.7154\u001b[0m        \u001b[35m1.5727\u001b[0m  2.7421\n",
      "      2        \u001b[36m1.2744\u001b[0m       \u001b[32m0.7900\u001b[0m        \u001b[35m0.9728\u001b[0m  4.0222\n",
      "      3        \u001b[36m0.9085\u001b[0m       \u001b[32m0.8245\u001b[0m        \u001b[35m0.7375\u001b[0m  3.1830\n",
      "      4        \u001b[36m0.7535\u001b[0m       \u001b[32m0.8457\u001b[0m        \u001b[35m0.6257\u001b[0m  2.9881\n",
      "      5        \u001b[36m0.6645\u001b[0m       \u001b[32m0.8571\u001b[0m        \u001b[35m0.5591\u001b[0m  3.0027\n",
      "      6        \u001b[36m0.6045\u001b[0m       \u001b[32m0.8663\u001b[0m        \u001b[35m0.5146\u001b[0m  3.0172\n",
      "      7        \u001b[36m0.5628\u001b[0m       \u001b[32m0.8710\u001b[0m        \u001b[35m0.4804\u001b[0m  2.8205\n",
      "      8        \u001b[36m0.5259\u001b[0m       \u001b[32m0.8755\u001b[0m        \u001b[35m0.4546\u001b[0m  2.9220\n",
      "      9        \u001b[36m0.5040\u001b[0m       \u001b[32m0.8798\u001b[0m        \u001b[35m0.4338\u001b[0m  2.9701\n",
      "     10        \u001b[36m0.4821\u001b[0m       \u001b[32m0.8830\u001b[0m        \u001b[35m0.4186\u001b[0m  2.8796\n",
      "  epoch    train_loss    valid_acc    valid_loss     dur\n",
      "-------  ------------  -----------  ------------  ------\n",
      "      1        \u001b[36m1.9842\u001b[0m       \u001b[32m0.7383\u001b[0m        \u001b[35m1.5587\u001b[0m  2.6520\n",
      "      2        \u001b[36m1.2685\u001b[0m       \u001b[32m0.7985\u001b[0m        \u001b[35m0.9502\u001b[0m  2.6980\n",
      "      3        \u001b[36m0.9013\u001b[0m       \u001b[32m0.8330\u001b[0m        \u001b[35m0.7137\u001b[0m  2.9149\n",
      "      4        \u001b[36m0.7396\u001b[0m       \u001b[32m0.8511\u001b[0m        \u001b[35m0.5996\u001b[0m  3.3190\n",
      "      5        \u001b[36m0.6507\u001b[0m       \u001b[32m0.8663\u001b[0m        \u001b[35m0.5306\u001b[0m  2.7611\n",
      "      6        \u001b[36m0.5912\u001b[0m       \u001b[32m0.8739\u001b[0m        \u001b[35m0.4853\u001b[0m  2.8712\n",
      "      7        \u001b[36m0.5547\u001b[0m       \u001b[32m0.8834\u001b[0m        \u001b[35m0.4528\u001b[0m  2.9750\n",
      "      8        \u001b[36m0.5213\u001b[0m       \u001b[32m0.8873\u001b[0m        \u001b[35m0.4281\u001b[0m  3.2805\n",
      "      9        \u001b[36m0.4935\u001b[0m       \u001b[32m0.8912\u001b[0m        \u001b[35m0.4080\u001b[0m  3.0659\n",
      "     10        \u001b[36m0.4731\u001b[0m       \u001b[32m0.8953\u001b[0m        \u001b[35m0.3913\u001b[0m  2.7967\n",
      "  epoch    train_loss    valid_acc    valid_loss     dur\n",
      "-------  ------------  -----------  ------------  ------\n",
      "      1        \u001b[36m1.9934\u001b[0m       \u001b[32m0.7296\u001b[0m        \u001b[35m1.5590\u001b[0m  2.6740\n",
      "      2        \u001b[36m1.2808\u001b[0m       \u001b[32m0.8138\u001b[0m        \u001b[35m0.9377\u001b[0m  2.7992\n",
      "      3        \u001b[36m0.9106\u001b[0m       \u001b[32m0.8451\u001b[0m        \u001b[35m0.6969\u001b[0m  2.7860\n",
      "      4        \u001b[36m0.7530\u001b[0m       \u001b[32m0.8620\u001b[0m        \u001b[35m0.5835\u001b[0m  2.8485\n",
      "      5        \u001b[36m0.6614\u001b[0m       \u001b[32m0.8734\u001b[0m        \u001b[35m0.5160\u001b[0m  2.8772\n",
      "      6        \u001b[36m0.6078\u001b[0m       \u001b[32m0.8820\u001b[0m        \u001b[35m0.4728\u001b[0m  2.8835\n",
      "      7        \u001b[36m0.5623\u001b[0m       \u001b[32m0.8879\u001b[0m        \u001b[35m0.4411\u001b[0m  2.7630\n",
      "      8        \u001b[36m0.5362\u001b[0m       \u001b[32m0.8921\u001b[0m        \u001b[35m0.4175\u001b[0m  2.8650\n",
      "      9        \u001b[36m0.5121\u001b[0m       \u001b[32m0.8966\u001b[0m        \u001b[35m0.3989\u001b[0m  2.8020\n",
      "     10        \u001b[36m0.4921\u001b[0m       \u001b[32m0.8996\u001b[0m        \u001b[35m0.3829\u001b[0m  2.7720\n"
     ]
    }
   ],
   "source": [
    "from sklearn.model_selection import cross_val_predict\n",
    "\n",
    "pyx = cross_val_predict(net, X, y, cv=3, method='predict_proba')"
   ]
  },
  {
   "cell_type": "markdown",
   "metadata": {},
   "source": [
    "## 6. Run Cleanlab to find potential label errors"
   ]
  },
  {
   "cell_type": "markdown",
   "metadata": {},
   "source": [
    "Cleanlab has a ``get_noise_indices`` function to generate a list of potential label errors. Setting ``sorted_index_method=\"prob_given_label\"`` returns the indices of all the most likely label errors, sorted by the most suspicious example first."
   ]
  },
  {
   "cell_type": "code",
   "execution_count": 10,
   "metadata": {},
   "outputs": [],
   "source": [
    "from cleanlab.pruning import get_noise_indices\n",
    "\n",
    "ordered_label_errors = get_noise_indices(\n",
    "    s=y,\n",
    "    psx=pyx,\n",
    "    sorted_index_method=\"prob_given_label\"\n",
    ")"
   ]
  },
  {
   "cell_type": "markdown",
   "metadata": {},
   "source": [
    "## 7. Review some of the most likely mislabeled examples"
   ]
  },
  {
   "cell_type": "code",
   "execution_count": 11,
   "metadata": {},
   "outputs": [
    {
     "name": "stdout",
     "output_type": "stream",
     "text": [
      "Cleanlab found 1190 potential label errors. Here are the indices of the top 15 most likely ones: \n",
      " [24798 18598  8729 15942  1352 61790 59915 39457  7010 13031 31134 55739\n",
      " 20735 12679 11208]\n"
     ]
    }
   ],
   "source": [
    "print(f\"Cleanlab found {len(ordered_label_errors)} potential label errors. Here are the indices of the top 15 most likely ones: \\n {ordered_label_errors[:15]}\")"
   ]
  },
  {
   "cell_type": "markdown",
   "metadata": {},
   "source": [
    "We'll define a new ``plot_examples`` function to display any examples in a subplot conveniently."
   ]
  },
  {
   "cell_type": "code",
   "execution_count": 12,
   "metadata": {},
   "outputs": [],
   "source": [
    "import matplotlib.pyplot as plt\n",
    "\n",
    "def plot_examples(id_iter, nrows=1, ncols=1):\n",
    "    for count, id in enumerate(id_iter):\n",
    "        plt.subplot(nrows, ncols, count+1)\n",
    "        plt.imshow(X[id].reshape(28, 28))\n",
    "        plt.title(f\"id: {id} \\n label: {y[id]}\")\n",
    "        plt.axis('off')\n",
    "\n",
    "    plt.tight_layout(h_pad=2.0)"
   ]
  },
  {
   "cell_type": "markdown",
   "metadata": {},
   "source": [
    "Let's start by having an overview of the top 15 most likely label errors. From here, we can see a few label errors and edge cases. Feel free to change the parameters to display more or fewer examples. "
   ]
  },
  {
   "cell_type": "code",
   "execution_count": 13,
   "metadata": {},
   "outputs": [
    {
     "data": {
      "image/png": "[encoded data removed]",
      "text/plain": [
       "<Figure size 432x288 with 15 Axes>"
      ]
     },
     "metadata": {
      "needs_background": "light"
     },
     "output_type": "display_data"
    }
   ],
   "source": [
    "plot_examples(ordered_label_errors[range(15)], 3, 5)"
   ]
  },
  {
   "cell_type": "markdown",
   "metadata": {},
   "source": [
    "Let's zoom into specific examples:"
   ]
  },
  {
   "cell_type": "markdown",
   "metadata": {},
   "source": [
    "Given label is **4** but looks more like a **7**"
   ]
  },
  {
   "cell_type": "code",
   "execution_count": 14,
   "metadata": {},
   "outputs": [
    {
     "data": {
      "image/png": "[encoded data removed]",
      "text/plain": [
       "<Figure size 432x288 with 1 Axes>"
      ]
     },
     "metadata": {
      "needs_background": "light"
     },
     "output_type": "display_data"
    }
   ],
   "source": [
    "plot_examples([59915])"
   ]
  },
  {
   "cell_type": "markdown",
   "metadata": {},
   "source": [
    "Given label is **4** but also looks like **9**"
   ]
  },
  {
   "cell_type": "code",
   "execution_count": 15,
   "metadata": {},
   "outputs": [
    {
     "data": {
      "image/png": "[encoded data removed]",
      "text/plain": [
       "<Figure size 432x288 with 1 Axes>"
      ]
     },
     "metadata": {
      "needs_background": "light"
     },
     "output_type": "display_data"
    }
   ],
   "source": [
    "plot_examples([24798])"
   ]
  },
  {
   "cell_type": "markdown",
   "metadata": {},
   "source": [
    "Edge case of odd looking **9**s"
   ]
  },
  {
   "cell_type": "code",
   "execution_count": 16,
   "metadata": {},
   "outputs": [
    {
     "data": {
      "image/png": "[encoded data removed]",
      "text/plain": [
       "<Figure size 432x288 with 3 Axes>"
      ]
     },
     "metadata": {
      "needs_background": "light"
     },
     "output_type": "display_data"
    }
   ],
   "source": [
    "plot_examples([18598, 1352, 61247], 1, 3)"
   ]
  },
  {
   "cell_type": "markdown",
   "metadata": {},
   "source": [
    "Cleanlab has shortlisted the most likely label errors to speed up your data cleaning process. With this list, you can decide whether to fix label errors, augment edge cases or remove obscure examples. \n",
    "\n",
    "These human-in-the-loop processes may be time-consuming, so if you'd like Cleanlab to automatically remove these noisy examples and train a model directly on the partially mislabeled dataset, you're in luck! Cleanlab provides a ``LearningWithNoisyLabels`` wrapper to do precisely this:"
   ]
  },
  {
   "cell_type": "markdown",
   "metadata": {},
   "source": [
    "## 8. Adapt with Cleanlab's wrapper and train a more robust model"
   ]
  },
  {
   "cell_type": "markdown",
   "metadata": {},
   "source": [
    "First, we split the dataset into train and test subsets."
   ]
  },
  {
   "cell_type": "code",
   "execution_count": 17,
   "metadata": {},
   "outputs": [],
   "source": [
    "from sklearn.model_selection import train_test_split\n",
    "\n",
    "X_train, X_test, y_train, y_test = train_test_split(X, y, test_size=0.2)"
   ]
  },
  {
   "cell_type": "markdown",
   "metadata": {},
   "source": [
    "Re-instantiate a new scikit-learn compatible model with Skorch then wrap it with Cleanlab's ``LearningWithNoisyLabels`` wrapper."
   ]
  },
  {
   "cell_type": "code",
   "execution_count": 18,
   "metadata": {},
   "outputs": [],
   "source": [
    "from cleanlab.classification import LearningWithNoisyLabels\n",
    "\n",
    "net = NeuralNetClassifier(NeuralNetwork)\n",
    "clf = LearningWithNoisyLabels(clf=net)"
   ]
  },
  {
   "cell_type": "code",
   "execution_count": 19,
   "metadata": {},
   "outputs": [
    {
     "name": "stdout",
     "output_type": "stream",
     "text": [
      "  epoch    train_loss    valid_acc    valid_loss     dur\n",
      "-------  ------------  -----------  ------------  ------\n",
      "      1        \u001b[36m1.9992\u001b[0m       \u001b[32m0.7339\u001b[0m        \u001b[35m1.5987\u001b[0m  1.7120\n",
      "      2        \u001b[36m1.3152\u001b[0m       \u001b[32m0.8098\u001b[0m        \u001b[35m0.9839\u001b[0m  1.9628\n",
      "      3        \u001b[36m0.9367\u001b[0m       \u001b[32m0.8422\u001b[0m        \u001b[35m0.7294\u001b[0m  2.6126\n",
      "      4        \u001b[36m0.7731\u001b[0m       \u001b[32m0.8590\u001b[0m        \u001b[35m0.6099\u001b[0m  2.4830\n",
      "      5        \u001b[36m0.6841\u001b[0m       \u001b[32m0.8680\u001b[0m        \u001b[35m0.5414\u001b[0m  2.5870\n",
      "      6        \u001b[36m0.6167\u001b[0m       \u001b[32m0.8756\u001b[0m        \u001b[35m0.4950\u001b[0m  3.1940\n",
      "      7        \u001b[36m0.5785\u001b[0m       \u001b[32m0.8802\u001b[0m        \u001b[35m0.4632\u001b[0m  3.1370\n",
      "      8        \u001b[36m0.5425\u001b[0m       \u001b[32m0.8840\u001b[0m        \u001b[35m0.4380\u001b[0m  3.6870\n",
      "      9        \u001b[36m0.5169\u001b[0m       \u001b[32m0.8876\u001b[0m        \u001b[35m0.4188\u001b[0m  3.3128\n",
      "     10        \u001b[36m0.4971\u001b[0m       \u001b[32m0.8911\u001b[0m        \u001b[35m0.4027\u001b[0m  4.5842\n",
      "  epoch    train_loss    valid_acc    valid_loss     dur\n",
      "-------  ------------  -----------  ------------  ------\n",
      "      1        \u001b[36m2.0302\u001b[0m       \u001b[32m0.7278\u001b[0m        \u001b[35m1.6514\u001b[0m  2.2354\n",
      "      2        \u001b[36m1.3546\u001b[0m       \u001b[32m0.8103\u001b[0m        \u001b[35m1.0048\u001b[0m  2.3530\n",
      "      3        \u001b[36m0.9497\u001b[0m       \u001b[32m0.8417\u001b[0m        \u001b[35m0.7323\u001b[0m  2.1305\n",
      "      4        \u001b[36m0.7704\u001b[0m       \u001b[32m0.8578\u001b[0m        \u001b[35m0.6075\u001b[0m  2.4355\n",
      "      5        \u001b[36m0.6738\u001b[0m       \u001b[32m0.8691\u001b[0m        \u001b[35m0.5364\u001b[0m  2.6562\n",
      "      6        \u001b[36m0.6134\u001b[0m       \u001b[32m0.8760\u001b[0m        \u001b[35m0.4902\u001b[0m  2.2190\n",
      "      7        \u001b[36m0.5701\u001b[0m       \u001b[32m0.8811\u001b[0m        \u001b[35m0.4573\u001b[0m  2.1710\n",
      "      8        \u001b[36m0.5336\u001b[0m       \u001b[32m0.8860\u001b[0m        \u001b[35m0.4322\u001b[0m  2.0059\n",
      "      9        \u001b[36m0.5073\u001b[0m       \u001b[32m0.8894\u001b[0m        \u001b[35m0.4133\u001b[0m  2.2380\n",
      "     10        \u001b[36m0.4839\u001b[0m       \u001b[32m0.8929\u001b[0m        \u001b[35m0.3967\u001b[0m  2.0100\n",
      "  epoch    train_loss    valid_acc    valid_loss     dur\n",
      "-------  ------------  -----------  ------------  ------\n",
      "      1        \u001b[36m2.0412\u001b[0m       \u001b[32m0.7560\u001b[0m        \u001b[35m1.6590\u001b[0m  1.8910\n",
      "      2        \u001b[36m1.3417\u001b[0m       \u001b[32m0.8201\u001b[0m        \u001b[35m0.9923\u001b[0m  1.9300\n",
      "      3        \u001b[36m0.9371\u001b[0m       \u001b[32m0.8506\u001b[0m        \u001b[35m0.7263\u001b[0m  1.8380\n",
      "      4        \u001b[36m0.7607\u001b[0m       \u001b[32m0.8621\u001b[0m        \u001b[35m0.6038\u001b[0m  1.7990\n",
      "      5        \u001b[36m0.6726\u001b[0m       \u001b[32m0.8708\u001b[0m        \u001b[35m0.5351\u001b[0m  1.8440\n",
      "      6        \u001b[36m0.6129\u001b[0m       \u001b[32m0.8775\u001b[0m        \u001b[35m0.4911\u001b[0m  1.7748\n",
      "      7        \u001b[36m0.5695\u001b[0m       \u001b[32m0.8828\u001b[0m        \u001b[35m0.4593\u001b[0m  1.7920\n",
      "      8        \u001b[36m0.5394\u001b[0m       \u001b[32m0.8866\u001b[0m        \u001b[35m0.4356\u001b[0m  1.9500\n",
      "      9        \u001b[36m0.5129\u001b[0m       \u001b[32m0.8883\u001b[0m        \u001b[35m0.4167\u001b[0m  1.7960\n",
      "     10        \u001b[36m0.4936\u001b[0m       \u001b[32m0.8912\u001b[0m        \u001b[35m0.4014\u001b[0m  1.7682\n",
      "  epoch    train_loss    valid_acc    valid_loss     dur\n",
      "-------  ------------  -----------  ------------  ------\n",
      "      1        \u001b[36m2.0272\u001b[0m       \u001b[32m0.7188\u001b[0m        \u001b[35m1.6471\u001b[0m  1.7647\n",
      "      2        \u001b[36m1.3563\u001b[0m       \u001b[32m0.8118\u001b[0m        \u001b[35m1.0119\u001b[0m  1.7210\n",
      "      3        \u001b[36m0.9589\u001b[0m       \u001b[32m0.8417\u001b[0m        \u001b[35m0.7377\u001b[0m  1.9265\n",
      "      4        \u001b[36m0.7794\u001b[0m       \u001b[32m0.8600\u001b[0m        \u001b[35m0.6109\u001b[0m  1.7830\n",
      "      5        \u001b[36m0.6822\u001b[0m       \u001b[32m0.8701\u001b[0m        \u001b[35m0.5375\u001b[0m  1.7180\n",
      "      6        \u001b[36m0.6204\u001b[0m       \u001b[32m0.8786\u001b[0m        \u001b[35m0.4907\u001b[0m  1.8072\n",
      "      7        \u001b[36m0.5790\u001b[0m       \u001b[32m0.8836\u001b[0m        \u001b[35m0.4578\u001b[0m  1.7630\n",
      "      8        \u001b[36m0.5435\u001b[0m       \u001b[32m0.8883\u001b[0m        \u001b[35m0.4327\u001b[0m  1.7580\n",
      "      9        \u001b[36m0.5188\u001b[0m       \u001b[32m0.8920\u001b[0m        \u001b[35m0.4134\u001b[0m  1.7120\n",
      "     10        \u001b[36m0.4953\u001b[0m       \u001b[32m0.8945\u001b[0m        \u001b[35m0.3967\u001b[0m  1.8730\n",
      "  epoch    train_loss    valid_acc    valid_loss     dur\n",
      "-------  ------------  -----------  ------------  ------\n",
      "      1        \u001b[36m2.0139\u001b[0m       \u001b[32m0.7414\u001b[0m        \u001b[35m1.6062\u001b[0m  1.6703\n",
      "      2        \u001b[36m1.3239\u001b[0m       \u001b[32m0.8132\u001b[0m        \u001b[35m0.9870\u001b[0m  1.8360\n",
      "      3        \u001b[36m0.9420\u001b[0m       \u001b[32m0.8453\u001b[0m        \u001b[35m0.7295\u001b[0m  1.7420\n",
      "      4        \u001b[36m0.7757\u001b[0m       \u001b[32m0.8626\u001b[0m        \u001b[35m0.6073\u001b[0m  1.7660\n",
      "      5        \u001b[36m0.6819\u001b[0m       \u001b[32m0.8722\u001b[0m        \u001b[35m0.5368\u001b[0m  1.8230\n",
      "      6        \u001b[36m0.6211\u001b[0m       \u001b[32m0.8785\u001b[0m        \u001b[35m0.4907\u001b[0m  1.7830\n",
      "      7        \u001b[36m0.5773\u001b[0m       \u001b[32m0.8849\u001b[0m        \u001b[35m0.4582\u001b[0m  1.8180\n",
      "      8        \u001b[36m0.5460\u001b[0m       \u001b[32m0.8879\u001b[0m        \u001b[35m0.4334\u001b[0m  1.8174\n",
      "      9        \u001b[36m0.5184\u001b[0m       \u001b[32m0.8914\u001b[0m        \u001b[35m0.4134\u001b[0m  1.8950\n",
      "     10        \u001b[36m0.4974\u001b[0m       \u001b[32m0.8953\u001b[0m        \u001b[35m0.3983\u001b[0m  1.7450\n",
      "  epoch    train_loss    valid_acc    valid_loss     dur\n",
      "-------  ------------  -----------  ------------  ------\n",
      "      1        \u001b[36m1.8983\u001b[0m       \u001b[32m0.7708\u001b[0m        \u001b[35m1.3841\u001b[0m  2.0927\n",
      "      2        \u001b[36m1.1193\u001b[0m       \u001b[32m0.8463\u001b[0m        \u001b[35m0.7963\u001b[0m  2.2711\n",
      "      3        \u001b[36m0.7880\u001b[0m       \u001b[32m0.8727\u001b[0m        \u001b[35m0.5903\u001b[0m  2.2050\n",
      "      4        \u001b[36m0.6488\u001b[0m       \u001b[32m0.8852\u001b[0m        \u001b[35m0.4914\u001b[0m  2.2217\n",
      "      5        \u001b[36m0.5671\u001b[0m       \u001b[32m0.8922\u001b[0m        \u001b[35m0.4329\u001b[0m  2.2770\n",
      "      6        \u001b[36m0.5114\u001b[0m       \u001b[32m0.8984\u001b[0m        \u001b[35m0.3937\u001b[0m  2.1280\n",
      "      7        \u001b[36m0.4761\u001b[0m       \u001b[32m0.9032\u001b[0m        \u001b[35m0.3660\u001b[0m  2.3048\n",
      "      8        \u001b[36m0.4430\u001b[0m       \u001b[32m0.9067\u001b[0m        \u001b[35m0.3450\u001b[0m  2.1960\n",
      "      9        \u001b[36m0.4227\u001b[0m       \u001b[32m0.9097\u001b[0m        \u001b[35m0.3287\u001b[0m  2.1440\n",
      "     10        \u001b[36m0.4038\u001b[0m       \u001b[32m0.9121\u001b[0m        \u001b[35m0.3151\u001b[0m  2.2784\n"
     ]
    }
   ],
   "source": [
    "_ = clf.fit(X_train, y_train.to_numpy())"
   ]
  },
  {
   "cell_type": "markdown",
   "metadata": {},
   "source": [
    "## 9. Evaluate the robust model's performance"
   ]
  },
  {
   "cell_type": "code",
   "execution_count": 20,
   "metadata": {},
   "outputs": [
    {
     "data": {
      "text/plain": [
       "0.9029285714285714"
      ]
     },
     "execution_count": 20,
     "metadata": {},
     "output_type": "execute_result"
    }
   ],
   "source": [
    "from sklearn.metrics import accuracy_score\n",
    "\n",
    "y_pred = clf.predict(X_test)\n",
    "accuracy_score(y_test, y_pred)"
   ]
  },
  {
   "cell_type": "markdown",
   "metadata": {},
   "source": [
    "## What's next?"
   ]
  },
  {
   "cell_type": "markdown",
   "metadata": {},
   "source": [
    "Congratulations on completing this tutorial! Check out our following tutorial on using Cleanlab for text classification, where we found ``hundreds`` of potential label errors in one of the most well-known text datasets, the IMBDb movie review dataset!"
   ]
  }
 ],
 "metadata": {
  "interpreter": {
   "hash": "ced20e3e49bb4fa4ce8ad38f8f2535b7fc4c39b2b89554502b5dbdad1ad67eda"
  },
  "kernelspec": {
   "display_name": "Python 3.10.0 64-bit",
   "language": "python",
   "name": "python3"
  },
  "language_info": {
   "codemirror_mode": {
    "name": "ipython",
    "version": 3
   },
   "file_extension": ".py",
   "mimetype": "text/x-python",
   "name": "python",
   "nbconvert_exporter": "python",
   "pygments_lexer": "ipython3",
   "version": "3.8.10"
  },
  "orig_nbformat": 4
 },
 "nbformat": 4,
 "nbformat_minor": 2
}
